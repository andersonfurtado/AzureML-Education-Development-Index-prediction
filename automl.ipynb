{
  "cells": [
    {
      "cell_type": "markdown",
      "source": [
        "# Automated Machine Learning"
      ],
      "metadata": {
        "nteract": {
          "transient": {
            "deleting": false
          }
        }
      }
    },
    {
      "cell_type": "code",
      "source": [
        "from matplotlib import pyplot as plt\n",
        "import numpy as np\n",
        "import pandas as pd\n",
        " \n",
        "\n",
        "import azureml.core\n",
        "from azureml.core.experiment import Experiment\n",
        "from azureml.core.workspace import Workspace\n",
        "from azureml.core.dataset import Dataset\n",
        "from azureml.train.automl import AutoMLConfig\n",
        "from azureml.data.dataset_factory import TabularDatasetFactory\n",
        "\n",
        "# Check core SDK version number\n",
        "print(\"SDK version:\", azureml.core.VERSION)"
      ],
      "outputs": [
        {
          "output_type": "stream",
          "name": "stdout",
          "text": [
            "SDK version: 1.20.0\n"
          ]
        }
      ],
      "execution_count": 1,
      "metadata": {
        "gather": {
          "logged": 1611610246579
        }
      }
    },
    {
      "cell_type": "code",
      "source": [
        "ws = Workspace.from_config()\n",
        "print(ws.name, ws.resource_group, ws.location, ws.subscription_id, sep = '\\n')"
      ],
      "outputs": [
        {
          "output_type": "stream",
          "name": "stdout",
          "text": [
            "AZML\n",
            "RG-AZML\n",
            "eastus\n",
            "a748a023-896b-4719-8f8e-3d1ba62d6e35\n"
          ]
        }
      ],
      "execution_count": 2,
      "metadata": {
        "gather": {
          "logged": 1611610249128
        },
        "jupyter": {
          "outputs_hidden": false,
          "source_hidden": false
        },
        "nteract": {
          "transient": {
            "deleting": false
          }
        }
      }
    },
    {
      "cell_type": "code",
      "source": [
        "# Choose a name for the experiment.\n",
        "experiment_name = 'ideb-regression'\n",
        "\n",
        "experiment = Experiment(ws, experiment_name)\n",
        "\n",
        "output = {}\n",
        "output['Subscription ID'] = ws.subscription_id\n",
        "output['Workspace'] = ws.name\n",
        "output['Resource Group'] = ws.resource_group\n",
        "output['Location'] = ws.location\n",
        "output['Run History Name'] = experiment_name\n",
        "pd.set_option('display.max_colwidth', -1)\n",
        "outputDf = pd.DataFrame(data = output, index = [''])\n",
        "outputDf.T"
      ],
      "outputs": [
        {
          "output_type": "execute_result",
          "execution_count": 3,
          "data": {
            "text/plain": "                                                      \nSubscription ID   a748a023-896b-4719-8f8e-3d1ba62d6e35\nWorkspace         AZML                                \nResource Group    RG-AZML                             \nLocation          eastus                              \nRun History Name  ideb-regression                     ",
            "text/html": "<div>\n<style scoped>\n    .dataframe tbody tr th:only-of-type {\n        vertical-align: middle;\n    }\n\n    .dataframe tbody tr th {\n        vertical-align: top;\n    }\n\n    .dataframe thead th {\n        text-align: right;\n    }\n</style>\n<table border=\"1\" class=\"dataframe\">\n  <thead>\n    <tr style=\"text-align: right;\">\n      <th></th>\n      <th></th>\n    </tr>\n  </thead>\n  <tbody>\n    <tr>\n      <th>Subscription ID</th>\n      <td>a748a023-896b-4719-8f8e-3d1ba62d6e35</td>\n    </tr>\n    <tr>\n      <th>Workspace</th>\n      <td>AZML</td>\n    </tr>\n    <tr>\n      <th>Resource Group</th>\n      <td>RG-AZML</td>\n    </tr>\n    <tr>\n      <th>Location</th>\n      <td>eastus</td>\n    </tr>\n    <tr>\n      <th>Run History Name</th>\n      <td>ideb-regression</td>\n    </tr>\n  </tbody>\n</table>\n</div>"
          },
          "metadata": {}
        }
      ],
      "execution_count": 3,
      "metadata": {
        "gather": {
          "logged": 1611610251132
        },
        "jupyter": {
          "outputs_hidden": false,
          "source_hidden": false
        },
        "nteract": {
          "transient": {
            "deleting": false
          }
        }
      }
    },
    {
      "cell_type": "markdown",
      "source": [
        "## Using AmlCompute"
      ],
      "metadata": {
        "nteract": {
          "transient": {
            "deleting": false
          }
        }
      }
    },
    {
      "cell_type": "code",
      "source": [
        "from azureml.core.compute import ComputeTarget, AmlCompute\n",
        "from azureml.core.compute_target import ComputeTargetException\n",
        "\n",
        "# Choose a name for your CPU cluster\n",
        "cpu_cluster_name = \"automl-cluster\"\n",
        "\n",
        "# Verify that cluster does not exist already\n",
        "try:\n",
        "    compute_target = ComputeTarget(workspace=ws, name=cpu_cluster_name)\n",
        "    print('Found existing cluster, use it.')\n",
        "except ComputeTargetException:\n",
        "    compute_config = AmlCompute.provisioning_configuration(vm_size='STANDARD_D2_V2',\n",
        "                                                           max_nodes=4)\n",
        "    compute_target = ComputeTarget.create(ws, cpu_cluster_name, compute_config)\n",
        "\n",
        "compute_target.wait_for_completion(show_output=True)"
      ],
      "outputs": [
        {
          "output_type": "stream",
          "name": "stdout",
          "text": [
            "Found existing cluster, use it.\n",
            "\n",
            "Jobrunning...................................................................................................................................................................................................................................................................\n",
            "Running\n"
          ]
        }
      ],
      "execution_count": 4,
      "metadata": {
        "gather": {
          "logged": 1611611874499
        },
        "jupyter": {
          "outputs_hidden": false,
          "source_hidden": false
        },
        "nteract": {
          "transient": {
            "deleting": false
          }
        }
      }
    },
    {
      "cell_type": "markdown",
      "source": [
        "## Data"
      ],
      "metadata": {
        "nteract": {
          "transient": {
            "deleting": false
          }
        }
      }
    },
    {
      "cell_type": "markdown",
      "source": [
        "### Load Data"
      ],
      "metadata": {
        "nteract": {
          "transient": {
            "deleting": false
          }
        }
      }
    },
    {
      "cell_type": "code",
      "source": [
        "datastore = ws.get_default_datastore()\n",
        "path = \"data/data.csv\"\n",
        "try:\n",
        "    ideb_dataset = Dataset.get_by_name(ws, name=\"ideb_dataset\")\n",
        "except:\n",
        "    datastore.upload('data', target_path='data')\n",
        "    # Create TabularDataset & register in workspace\n",
        "    ideb_dataset = Dataset.Tabular.from_delimited_files([(datastore, path)])\n",
        "    ideb_dataset = ideb_dataset.register(\n",
        "        ws, name=\"ideb_dataset\", create_new_version=True,\n",
        "        description=\"Dataset for ideb prediction\"\n",
        "    )"
      ],
      "outputs": [],
      "execution_count": 7,
      "metadata": {
        "collapsed": true,
        "gather": {
          "logged": 1611612216504
        },
        "jupyter": {
          "outputs_hidden": false,
          "source_hidden": false
        },
        "nteract": {
          "transient": {
            "deleting": false
          }
        }
      }
    },
    {
      "cell_type": "markdown",
      "source": [
        "## Automl Settings"
      ],
      "metadata": {
        "nteract": {
          "transient": {
            "deleting": false
          }
        }
      }
    },
    {
      "cell_type": "code",
      "source": [
        "automl_settings = {\n",
        "    \"n_cross_validations\": 3,\n",
        "    \"primary_metric\": 'r2_score',\n",
        "    \"experiment_timeout_hours\": 0.6, \n",
        "    \"max_concurrent_iterations\": 4,\n",
        "    \"featurization\": 'auto',\n",
        "    \"verbosity\": logging.INFO,\n",
        "}\n",
        "\n",
        "automl_config = AutoMLConfig(task = 'regression',\n",
        "                             compute_target = compute_target,\n",
        "                             training_data = ideb_dataset,\n",
        "                             label_column_name = \"IDEB_2019\",\n",
        "                             **automl_settings\n",
        "                            )\n",
        "\n"
      ],
      "outputs": [],
      "execution_count": 8,
      "metadata": {
        "collapsed": true,
        "gather": {
          "logged": 1611612219987
        },
        "jupyter": {
          "outputs_hidden": false,
          "source_hidden": false
        },
        "nteract": {
          "transient": {
            "deleting": false
          }
        }
      }
    },
    {
      "cell_type": "markdown",
      "source": [
        "## Result"
      ],
      "metadata": {
        "nteract": {
          "transient": {
            "deleting": false
          }
        }
      }
    },
    {
      "cell_type": "code",
      "source": [
        "from azureml.widgets import RunDetails\n",
        "\n",
        "remote_run = experiment.submit(automl_config, show_output = True)\n",
        "RunDetails(remote_run).show()\n",
        "remote_run.wait_for_completion(show_output=True)"
      ],
      "outputs": [
        {
          "output_type": "stream",
          "name": "stdout",
          "text": [
            "Running on remote.\n",
            "No run_configuration provided, running on automl-cluster with default configuration\n",
            "Running on remote compute: automl-cluster\n",
            "Parent Run ID: AutoML_1cf7d1e4-eb24-4b07-b562-79b16f8596d0\n",
            "\n",
            "Current status: FeaturesGeneration. Generating features for the dataset.\n",
            "Current status: ModelSelection. Beginning model selection.\n",
            "\n",
            "****************************************************************************************************\n",
            "DATA GUARDRAILS: \n",
            "\n",
            "TYPE:         Missing feature values imputation\n",
            "STATUS:       PASSED\n",
            "DESCRIPTION:  No feature missing values were detected in the training data.\n",
            "              Learn more about missing value imputation: https://aka.ms/AutomatedMLFeaturization\n",
            "\n",
            "****************************************************************************************************\n",
            "\n",
            "TYPE:         High cardinality feature detection\n",
            "STATUS:       PASSED\n",
            "DESCRIPTION:  Your inputs were analyzed, and no high cardinality features were detected.\n",
            "              Learn more about high cardinality feature handling: https://aka.ms/AutomatedMLFeaturization\n",
            "\n",
            "****************************************************************************************************\n",
            "\n",
            "****************************************************************************************************\n",
            "ITERATION: The iteration being evaluated.\n",
            "PIPELINE: A summary description of the pipeline being evaluated.\n",
            "DURATION: Time taken for the current iteration.\n",
            "METRIC: The result of computing score on the fitted pipeline.\n",
            "BEST: The best observed score thus far.\n",
            "****************************************************************************************************\n",
            "\n",
            " ITERATION   PIPELINE                                       DURATION      METRIC      BEST\n",
            "         0   MaxAbsScaler LightGBM                          0:00:54       0.9966    0.9966\n",
            "         1   MaxAbsScaler XGBoostRegressor                  0:00:51       0.9968    0.9968\n",
            "         2   SparseNormalizer XGBoostRegressor              0:01:03       0.9874    0.9968\n",
            "         3   MaxAbsScaler RandomForest                      0:01:16       0.9865    0.9968\n",
            "         5   MaxAbsScaler ElasticNet                        0:00:54       0.9932    0.9968\n",
            "         4   StandardScalerWrapper XGBoostRegressor         0:01:07       0.9972    0.9972\n",
            "         7   StandardScalerWrapper XGBoostRegressor         0:01:30       0.9972    0.9972\n",
            "         6   MinMaxScaler RandomForest                      0:01:53       0.9739    0.9972\n",
            "         8   MinMaxScaler ExtremeRandomTrees                0:01:00       0.9931    0.9972\n",
            "         9   StandardScalerWrapper ElasticNet               0:01:00       0.9894    0.9972\n",
            "        11   MinMaxScaler RandomForest                      0:01:00       0.9899    0.9972\n",
            "        12   StandardScalerWrapper XGBoostRegressor         0:00:52       0.8737    0.9972\n",
            "        13   RobustScaler LassoLars                         0:00:50       0.9936    0.9972\n",
            "        10   MinMaxScaler RandomForest                      0:02:11       0.9934    0.9972\n",
            "        15   MaxAbsScaler ExtremeRandomTrees                0:00:54       0.8940    0.9972\n",
            "        14   MinMaxScaler ExtremeRandomTrees                0:01:02       0.9926    0.9972\n",
            "        16   MinMaxScaler ExtremeRandomTrees                0:00:57       0.9921    0.9972\n",
            "        17   MaxAbsScaler ElasticNet                        0:00:49       0.9920    0.9972\n",
            "        18   MinMaxScaler RandomForest                      0:00:55       0.8855    0.9972\n",
            "        19   MaxAbsScaler RandomForest                      0:00:51       0.9621    0.9972\n",
            "        20   RobustScaler ElasticNet                        0:00:57       0.9920    0.9972\n",
            "        21   StandardScalerWrapper RandomForest             0:01:03       0.9119    0.9972\n",
            "        22   MaxAbsScaler ElasticNet                        0:00:59       0.9924    0.9972\n",
            "        23   MinMaxScaler LightGBM                          0:00:55       0.9944    0.9972\n",
            "        24   StandardScalerWrapper XGBoostRegressor         0:01:19       0.9962    0.9972\n",
            "        25   SparseNormalizer XGBoostRegressor              0:00:57       0.7557    0.9972\n",
            "        26   StandardScalerWrapper RandomForest             0:00:51       0.8948    0.9972\n",
            "        27   SparseNormalizer XGBoostRegressor              0:00:47       0.8339    0.9972\n",
            "        28   RobustScaler LightGBM                          0:01:00       0.9878    0.9972\n",
            "        29   StandardScalerWrapper RandomForest             0:01:13       0.9862    0.9972\n",
            "        30   PCA XGBoostRegressor                           0:00:58       0.9862    0.9972\n",
            "        31   MaxAbsScaler LightGBM                          0:00:50       0.9933    0.9972\n",
            "        32   RobustScaler LightGBM                          0:01:13       0.9936    0.9972\n",
            "        34   PCA XGBoostRegressor                           0:01:04       0.8370    0.9972\n",
            "        35   MinMaxScaler SGD                               0:00:57       0.9782    0.9972\n",
            "        33   RobustScaler ExtremeRandomTrees                0:01:25       0.9829    0.9972\n",
            "        36   MaxAbsScaler DecisionTree                      0:01:03       0.9483    0.9972\n",
            "        38   RobustScaler ElasticNet                        0:00:51       0.9920    0.9972\n",
            "        37   RobustScaler ElasticNet                        0:01:02       0.9937    0.9972\n",
            "        39   StandardScalerWrapper ElasticNet               0:01:03       0.9937    0.9972\n",
            "        40   SparseNormalizer XGBoostRegressor              0:01:03       0.9463    0.9972\n",
            "        41   StandardScalerWrapper ElasticNet               0:00:51       0.9921    0.9972\n",
            "        42   RobustScaler ElasticNet                        0:00:54       0.9920    0.9972\n",
            "        43   RobustScaler RandomForest                      0:01:14       0.9446    0.9972\n",
            "        44   StandardScalerWrapper ElasticNet               0:00:59       0.9920    0.9972\n",
            "        45   StandardScalerWrapper XGBoostRegressor         0:00:58       0.9928    0.9972\n",
            "        46   StandardScalerWrapper ExtremeRandomTrees       0:01:32       0.9758    0.9972\n",
            "        47   StandardScalerWrapper ElasticNet               0:01:00       0.9936    0.9972\n",
            "        48   RobustScaler ElasticNet                        0:00:50       0.9920    0.9972\n",
            "        49   MaxAbsScaler SGD                               0:00:51       0.7526    0.9972\n",
            "        50   StandardScalerWrapper XGBoostRegressor         0:01:02       0.9970    0.9972\n",
            "        51   RobustScaler LassoLars                         0:00:51       0.9936    0.9972\n",
            "        52   MaxAbsScaler SGD                               0:01:00       0.9886    0.9972\n",
            "        53   RobustScaler GradientBoosting                  0:01:37       0.9931    0.9972\n",
            "        54   MaxAbsScaler SGD                               0:01:00       0.9848    0.9972\n",
            "        55   StandardScalerWrapper XGBoostRegressor         0:00:53       0.9964    0.9972\n",
            "        56   RobustScaler DecisionTree                      0:00:59       0.9585    0.9972\n",
            "        57   StandardScalerWrapper LightGBM                 0:00:52       0.9906    0.9972\n",
            "        58   MaxAbsScaler DecisionTree                      0:00:56       0.9476    0.9972\n",
            "        59   MinMaxScaler LightGBM                          0:01:06       0.9923    0.9972\n",
            "        60   StandardScalerWrapper XGBoostRegressor         0:00:57       0.9967    0.9972\n",
            "        61   MaxAbsScaler RandomForest                      0:00:58       0.9791    0.9972\n",
            "        62   StandardScalerWrapper ExtremeRandomTrees       0:00:59       0.9775    0.9972\n",
            "        63   StandardScalerWrapper RandomForest             0:00:50       0.9916    0.9972\n",
            "        64   MaxAbsScaler RandomForest                      0:00:53       0.9684    0.9972\n",
            "        65   StandardScalerWrapper XGBoostRegressor         0:01:06       0.9945    0.9972\n",
            "        66   MaxAbsScaler ElasticNet                        0:00:59       0.9926    0.9972\n",
            "        67   StandardScalerWrapper ElasticNet               0:01:00       0.9937    0.9972\n",
            "        68   StandardScalerWrapper ElasticNet               0:00:55       0.9936    0.9972\n",
            "        69   StandardScalerWrapper ElasticNet               0:00:57       0.9936    0.9972\n",
            "        71   StandardScalerWrapper LassoLars                0:00:52       0.9936    0.9972\n",
            "        72   StandardScalerWrapper ElasticNet               0:01:26       0.9936    0.9972\n",
            "        70   StandardScalerWrapper XGBoostRegressor         0:01:42       0.9791    0.9972\n",
            "        73   RobustScaler ElasticNet                        0:00:30       0.9920    0.9972\n",
            "        74   MaxAbsScaler RandomForest                      0:01:17       0.9864    0.9972\n",
            "        75   StandardScalerWrapper XGBoostRegressor         0:01:03       0.9944    0.9972\n",
            "        76   RobustScaler ElasticNet                        0:00:57       0.9920    0.9972\n",
            "        77   MinMaxScaler GradientBoosting                  0:01:31       0.9965    0.9972\n",
            "        78   MaxAbsScaler ElasticNet                        0:00:53       0.9907    0.9972\n",
            "        79   StandardScalerWrapper RandomForest             0:00:57       0.9876    0.9972\n",
            "        80   StandardScalerWrapper XGBoostRegressor         0:01:38       0.9972    0.9972\n",
            "        82   StandardScalerWrapper LightGBM                 0:01:01       0.9930    0.9972\n",
            "        83   RobustScaler RandomForest                      0:01:05       0.9925    0.9972\n",
            "        81   MaxAbsScaler RandomForest                      0:02:22       0.9893    0.9972\n",
            "        84   StandardScalerWrapper LightGBM                 0:01:06       0.9892    0.9972\n",
            "        85   StandardScalerWrapper XGBoostRegressor         0:00:55       0.9954    0.9972\n",
            "        86   RobustScaler RandomForest                      0:01:21       0.9862    0.9972\n",
            "        87   StandardScalerWrapper RandomForest             0:01:13       0.9834    0.9972\n",
            "        88   MinMaxScaler LightGBM                          0:01:16       0.9915    0.9972\n",
            "        89   RobustScaler ElasticNet                        0:01:12       0.9920    0.9972\n",
            "        90   StandardScalerWrapper XGBoostRegressor         0:01:00       0.9966    0.9972\n",
            "        91   RobustScaler ElasticNet                        0:01:12       0.9936    0.9972\n",
            "        93   MinMaxScaler ElasticNet                        0:01:03       0.9935    0.9972\n",
            "        92   MinMaxScaler RandomForest                      0:01:24       0.9726    0.9972\n",
            "        94   MinMaxScaler DecisionTree                      0:00:57       0.9761    0.9972\n",
            "        95   StandardScalerWrapper XGBoostRegressor         0:00:49       0.9935    0.9972\n",
            "        96   StandardScalerWrapper RandomForest             0:00:51       0.9893    0.9972\n",
            "        98   RobustScaler RandomForest                      0:01:27       0.9617    0.9972\n",
            "        97   MaxAbsScaler RandomForest                      0:01:33       0.9807    0.9972\n",
            "       100   StandardScalerWrapper XGBoostRegressor         0:00:57       0.9951    0.9972\n",
            "        99   StandardScalerWrapper ElasticNet               0:00:53       0.9936    0.9972\n",
            "       101                                                  0:00:25          nan    0.9972\n",
            "ERROR: {\n",
            "    \"additional_properties\": {},\n",
            "    \"error\": {\n",
            "        \"additional_properties\": {\n",
            "            \"debugInfo\": null\n",
            "        },\n",
            "        \"code\": \"UserError\",\n",
            "        \"severity\": null,\n",
            "        \"message\": \"Experiment timeout reached, please consider increasing your experiment timeout.\",\n",
            "        \"message_format\": \"Experiment timeout reached, please consider increasing your experiment timeout.\",\n",
            "        \"message_parameters\": {},\n",
            "        \"reference_code\": null,\n",
            "        \"details_uri\": null,\n",
            "        \"target\": null,\n",
            "        \"details\": [],\n",
            "        \"inner_error\": {\n",
            "            \"additional_properties\": {},\n",
            "            \"code\": \"ResourceExhausted\",\n",
            "            \"inner_error\": {\n",
            "                \"additional_properties\": {},\n",
            "                \"code\": \"Timeout\",\n",
            "                \"inner_error\": {\n",
            "                    \"additional_properties\": {},\n",
            "                    \"code\": \"ExperimentTimeoutForIterations\",\n",
            "                    \"inner_error\": null\n",
            "                }\n",
            "            }\n",
            "        }\n",
            "    },\n",
            "    \"correlation\": null,\n",
            "    \"environment\": null,\n",
            "    \"location\": null,\n",
            "    \"time\": {},\n",
            "    \"component_name\": null\n",
            "}\n",
            "       102                                                  0:00:21          nan    0.9972\n",
            "ERROR: {\n",
            "    \"additional_properties\": {},\n",
            "    \"error\": {\n",
            "        \"additional_properties\": {\n",
            "            \"debugInfo\": null\n",
            "        },\n",
            "        \"code\": \"UserError\",\n",
            "        \"severity\": null,\n",
            "        \"message\": \"Experiment timeout reached, please consider increasing your experiment timeout.\",\n",
            "        \"message_format\": \"Experiment timeout reached, please consider increasing your experiment timeout.\",\n",
            "        \"message_parameters\": {},\n",
            "        \"reference_code\": null,\n",
            "        \"details_uri\": null,\n",
            "        \"target\": null,\n",
            "        \"details\": [],\n",
            "        \"inner_error\": {\n",
            "            \"additional_properties\": {},\n",
            "            \"code\": \"ResourceExhausted\",\n",
            "            \"inner_error\": {\n",
            "                \"additional_properties\": {},\n",
            "                \"code\": \"Timeout\",\n",
            "                \"inner_error\": {\n",
            "                    \"additional_properties\": {},\n",
            "                    \"code\": \"ExperimentTimeoutForIterations\",\n",
            "                    \"inner_error\": null\n",
            "                }\n",
            "            }\n",
            "        }\n",
            "    },\n",
            "    \"correlation\": null,\n",
            "    \"environment\": null,\n",
            "    \"location\": null,\n",
            "    \"time\": {},\n",
            "    \"component_name\": null\n",
            "}\n",
            "       103                                                  0:00:20          nan    0.9972\n",
            "ERROR: {\n",
            "    \"additional_properties\": {},\n",
            "    \"error\": {\n",
            "        \"additional_properties\": {\n",
            "            \"debugInfo\": null\n",
            "        },\n",
            "        \"code\": \"UserError\",\n",
            "        \"severity\": null,\n",
            "        \"message\": \"Experiment timeout reached, please consider increasing your experiment timeout.\",\n",
            "        \"message_format\": \"Experiment timeout reached, please consider increasing your experiment timeout.\",\n",
            "        \"message_parameters\": {},\n",
            "        \"reference_code\": null,\n",
            "        \"details_uri\": null,\n",
            "        \"target\": null,\n",
            "        \"details\": [],\n",
            "        \"inner_error\": {\n",
            "            \"additional_properties\": {},\n",
            "            \"code\": \"ResourceExhausted\",\n",
            "            \"inner_error\": {\n",
            "                \"additional_properties\": {},\n",
            "                \"code\": \"Timeout\",\n",
            "                \"inner_error\": {\n",
            "                    \"additional_properties\": {},\n",
            "                    \"code\": \"ExperimentTimeoutForIterations\",\n",
            "                    \"inner_error\": null\n",
            "                }\n",
            "            }\n",
            "        }\n",
            "    },\n",
            "    \"correlation\": null,\n",
            "    \"environment\": null,\n",
            "    \"location\": null,\n",
            "    \"time\": {},\n",
            "    \"component_name\": null\n",
            "}\n",
            "       104    VotingEnsemble                                0:02:00       0.9979    0.9979\n",
            "       105    StackEnsemble                                 0:02:10       0.9979    0.9979\n"
          ]
        },
        {
          "output_type": "display_data",
          "data": {
            "text/plain": "_AutoMLWidget(widget_settings={'childWidgetDisplay': 'popup', 'send_telemetry': False, 'log_level': 'INFO', 's…",
            "application/vnd.jupyter.widget-view+json": {
              "version_major": 2,
              "version_minor": 0,
              "model_id": "0c71801605a549809c3770d6ddad5a52"
            }
          },
          "metadata": {}
        },
        {
          "output_type": "display_data",
          "data": {
            "application/aml.mini.widget.v1": "{\"status\": \"Completed\", \"workbench_run_details_uri\": \"https://ml.azure.com/experiments/ideb-regression/runs/AutoML_1cf7d1e4-eb24-4b07-b562-79b16f8596d0?wsid=/subscriptions/a748a023-896b-4719-8f8e-3d1ba62d6e35/resourcegroups/RG-AZML/workspaces/AZML\", \"run_id\": \"AutoML_1cf7d1e4-eb24-4b07-b562-79b16f8596d0\", \"run_properties\": {\"run_id\": \"AutoML_1cf7d1e4-eb24-4b07-b562-79b16f8596d0\", \"created_utc\": \"2021-01-25T22:03:46.814201Z\", \"properties\": {\"num_iterations\": \"1000\", \"training_type\": \"TrainFull\", \"acquisition_function\": \"EI\", \"primary_metric\": \"r2_score\", \"train_split\": \"0\", \"acquisition_parameter\": \"0\", \"num_cross_validation\": \"3\", \"target\": \"automl-cluster\", \"AMLSettingsJsonString\": \"{\\\"path\\\":null,\\\"name\\\":\\\"ideb-regression\\\",\\\"subscription_id\\\":\\\"a748a023-896b-4719-8f8e-3d1ba62d6e35\\\",\\\"resource_group\\\":\\\"RG-AZML\\\",\\\"workspace_name\\\":\\\"AZML\\\",\\\"region\\\":\\\"eastus\\\",\\\"compute_target\\\":\\\"automl-cluster\\\",\\\"spark_service\\\":null,\\\"azure_service\\\":\\\"remote\\\",\\\"many_models\\\":false,\\\"pipeline_fetch_max_batch_size\\\":1,\\\"iterations\\\":1000,\\\"primary_metric\\\":\\\"r2_score\\\",\\\"task_type\\\":\\\"regression\\\",\\\"data_script\\\":null,\\\"validation_size\\\":0.0,\\\"n_cross_validations\\\":3,\\\"y_min\\\":null,\\\"y_max\\\":null,\\\"num_classes\\\":null,\\\"featurization\\\":\\\"auto\\\",\\\"_ignore_package_version_incompatibilities\\\":false,\\\"is_timeseries\\\":false,\\\"max_cores_per_iteration\\\":1,\\\"max_concurrent_iterations\\\":4,\\\"iteration_timeout_minutes\\\":null,\\\"mem_in_mb\\\":null,\\\"enforce_time_on_windows\\\":false,\\\"experiment_timeout_minutes\\\":36,\\\"experiment_exit_score\\\":null,\\\"whitelist_models\\\":null,\\\"blacklist_algos\\\":[\\\"TensorFlowDNN\\\",\\\"TensorFlowLinearRegressor\\\"],\\\"supported_models\\\":[\\\"OnlineGradientDescentRegressor\\\",\\\"KNN\\\",\\\"ExtremeRandomTrees\\\",\\\"LassoLars\\\",\\\"LightGBM\\\",\\\"XGBoostRegressor\\\",\\\"TensorFlowLinearRegressor\\\",\\\"RandomForest\\\",\\\"FastLinearRegressor\\\",\\\"SGD\\\",\\\"ElasticNet\\\",\\\"DecisionTree\\\",\\\"TensorFlowDNN\\\",\\\"GradientBoosting\\\"],\\\"auto_blacklist\\\":true,\\\"blacklist_samples_reached\\\":false,\\\"exclude_nan_labels\\\":true,\\\"verbosity\\\":20,\\\"_debug_log\\\":\\\"azureml_automl.log\\\",\\\"show_warnings\\\":false,\\\"model_explainability\\\":true,\\\"service_url\\\":null,\\\"sdk_url\\\":null,\\\"sdk_packages\\\":null,\\\"enable_onnx_compatible_models\\\":false,\\\"enable_split_onnx_featurizer_estimator_models\\\":false,\\\"vm_type\\\":\\\"STANDARD_DS3_V2\\\",\\\"telemetry_verbosity\\\":20,\\\"send_telemetry\\\":true,\\\"enable_dnn\\\":false,\\\"scenario\\\":\\\"SDK-1.13.0\\\",\\\"environment_label\\\":null,\\\"force_text_dnn\\\":false,\\\"enable_feature_sweeping\\\":true,\\\"enable_early_stopping\\\":false,\\\"early_stopping_n_iters\\\":10,\\\"metrics\\\":null,\\\"enable_ensembling\\\":true,\\\"enable_stack_ensembling\\\":true,\\\"ensemble_iterations\\\":15,\\\"enable_tf\\\":false,\\\"enable_subsampling\\\":null,\\\"subsample_seed\\\":null,\\\"enable_nimbusml\\\":false,\\\"enable_streaming\\\":false,\\\"force_streaming\\\":false,\\\"track_child_runs\\\":true,\\\"allowed_private_models\\\":[],\\\"label_column_name\\\":\\\"IDEB_2019\\\",\\\"weight_column_name\\\":null,\\\"cv_split_column_names\\\":null,\\\"enable_local_managed\\\":false,\\\"_local_managed_run_id\\\":null,\\\"cost_mode\\\":1,\\\"lag_length\\\":0,\\\"metric_operation\\\":\\\"maximize\\\",\\\"preprocess\\\":true}\", \"DataPrepJsonString\": \"{\\\\\\\"training_data\\\\\\\": \\\\\\\"{\\\\\\\\\\\\\\\"blocks\\\\\\\\\\\\\\\": [{\\\\\\\\\\\\\\\"id\\\\\\\\\\\\\\\": \\\\\\\\\\\\\\\"823dab97-9480-4378-8c08-4aec261bc0f3\\\\\\\\\\\\\\\", \\\\\\\\\\\\\\\"type\\\\\\\\\\\\\\\": \\\\\\\\\\\\\\\"Microsoft.DPrep.GetDatastoreFilesBlock\\\\\\\\\\\\\\\", \\\\\\\\\\\\\\\"arguments\\\\\\\\\\\\\\\": {\\\\\\\\\\\\\\\"datastores\\\\\\\\\\\\\\\": [{\\\\\\\\\\\\\\\"datastoreName\\\\\\\\\\\\\\\": \\\\\\\\\\\\\\\"workspaceblobstore\\\\\\\\\\\\\\\", \\\\\\\\\\\\\\\"path\\\\\\\\\\\\\\\": \\\\\\\\\\\\\\\"UI/01-20-2021_015249_UTC/data.CSV\\\\\\\\\\\\\\\", \\\\\\\\\\\\\\\"resourceGroup\\\\\\\\\\\\\\\": \\\\\\\\\\\\\\\"RG-AZML\\\\\\\\\\\\\\\", \\\\\\\\\\\\\\\"subscription\\\\\\\\\\\\\\\": \\\\\\\\\\\\\\\"a748a023-896b-4719-8f8e-3d1ba62d6e35\\\\\\\\\\\\\\\", \\\\\\\\\\\\\\\"workspaceName\\\\\\\\\\\\\\\": \\\\\\\\\\\\\\\"AZML\\\\\\\\\\\\\\\"}]}, \\\\\\\\\\\\\\\"localData\\\\\\\\\\\\\\\": {}, \\\\\\\\\\\\\\\"isEnabled\\\\\\\\\\\\\\\": true, \\\\\\\\\\\\\\\"name\\\\\\\\\\\\\\\": null, \\\\\\\\\\\\\\\"annotation\\\\\\\\\\\\\\\": null}, {\\\\\\\\\\\\\\\"id\\\\\\\\\\\\\\\": \\\\\\\\\\\\\\\"76adb1eb-bf70-4771-bfa7-4e59f7b8e108\\\\\\\\\\\\\\\", \\\\\\\\\\\\\\\"type\\\\\\\\\\\\\\\": \\\\\\\\\\\\\\\"Microsoft.DPrep.ParseDelimitedBlock\\\\\\\\\\\\\\\", \\\\\\\\\\\\\\\"arguments\\\\\\\\\\\\\\\": {\\\\\\\\\\\\\\\"columnHeadersMode\\\\\\\\\\\\\\\": 1, \\\\\\\\\\\\\\\"fileEncoding\\\\\\\\\\\\\\\": 0, \\\\\\\\\\\\\\\"handleQuotedLineBreaks\\\\\\\\\\\\\\\": false, \\\\\\\\\\\\\\\"preview\\\\\\\\\\\\\\\": false, \\\\\\\\\\\\\\\"separator\\\\\\\\\\\\\\\": \\\\\\\\\\\\\\\";\\\\\\\\\\\\\\\", \\\\\\\\\\\\\\\"skipRows\\\\\\\\\\\\\\\": 0, \\\\\\\\\\\\\\\"skipRowsMode\\\\\\\\\\\\\\\": 0}, \\\\\\\\\\\\\\\"localData\\\\\\\\\\\\\\\": {}, \\\\\\\\\\\\\\\"isEnabled\\\\\\\\\\\\\\\": true, \\\\\\\\\\\\\\\"name\\\\\\\\\\\\\\\": null, \\\\\\\\\\\\\\\"annotation\\\\\\\\\\\\\\\": null}, {\\\\\\\\\\\\\\\"id\\\\\\\\\\\\\\\": \\\\\\\\\\\\\\\"e64ec390-9ab1-4697-a1c0-a78e859f8075\\\\\\\\\\\\\\\", \\\\\\\\\\\\\\\"type\\\\\\\\\\\\\\\": \\\\\\\\\\\\\\\"Microsoft.DPrep.DropColumnsBlock\\\\\\\\\\\\\\\", \\\\\\\\\\\\\\\"arguments\\\\\\\\\\\\\\\": {\\\\\\\\\\\\\\\"columns\\\\\\\\\\\\\\\": {\\\\\\\\\\\\\\\"type\\\\\\\\\\\\\\\": 0, \\\\\\\\\\\\\\\"details\\\\\\\\\\\\\\\": {\\\\\\\\\\\\\\\"selectedColumns\\\\\\\\\\\\\\\": [\\\\\\\\\\\\\\\"Path\\\\\\\\\\\\\\\"]}}}, \\\\\\\\\\\\\\\"localData\\\\\\\\\\\\\\\": {}, \\\\\\\\\\\\\\\"isEnabled\\\\\\\\\\\\\\\": true, \\\\\\\\\\\\\\\"name\\\\\\\\\\\\\\\": null, \\\\\\\\\\\\\\\"annotation\\\\\\\\\\\\\\\": null}, {\\\\\\\\\\\\\\\"id\\\\\\\\\\\\\\\": \\\\\\\\\\\\\\\"6e49ef01-f4a3-43db-8a3e-f72409add096\\\\\\\\\\\\\\\", \\\\\\\\\\\\\\\"type\\\\\\\\\\\\\\\": \\\\\\\\\\\\\\\"Microsoft.DPrep.SetColumnTypesBlock\\\\\\\\\\\\\\\", \\\\\\\\\\\\\\\"arguments\\\\\\\\\\\\\\\": {\\\\\\\\\\\\\\\"columnConversion\\\\\\\\\\\\\\\": [{\\\\\\\\\\\\\\\"column\\\\\\\\\\\\\\\": {\\\\\\\\\\\\\\\"type\\\\\\\\\\\\\\\": 2, \\\\\\\\\\\\\\\"details\\\\\\\\\\\\\\\": {\\\\\\\\\\\\\\\"selectedColumn\\\\\\\\\\\\\\\": \\\\\\\\\\\\\\\"Path\\\\\\\\\\\\\\\"}}, \\\\\\\\\\\\\\\"typeProperty\\\\\\\\\\\\\\\": 0}, {\\\\\\\\\\\\\\\"column\\\\\\\\\\\\\\\": {\\\\\\\\\\\\\\\"type\\\\\\\\\\\\\\\": 2, \\\\\\\\\\\\\\\"details\\\\\\\\\\\\\\\": {\\\\\\\\\\\\\\\"selectedColumn\\\\\\\\\\\\\\\": \\\\\\\\\\\\\\\"TAprov2019_Total\\\\\\\\\\\\\\\"}}, \\\\\\\\\\\\\\\"typeProperty\\\\\\\\\\\\\\\": 3}, {\\\\\\\\\\\\\\\"column\\\\\\\\\\\\\\\": {\\\\\\\\\\\\\\\"type\\\\\\\\\\\\\\\": 2, \\\\\\\\\\\\\\\"details\\\\\\\\\\\\\\\": {\\\\\\\\\\\\\\\"selectedColumn\\\\\\\\\\\\\\\": \\\\\\\\\\\\\\\"TAprov2019_1_serie\\\\\\\\\\\\\\\"}}, \\\\\\\\\\\\\\\"typeProperty\\\\\\\\\\\\\\\": 3}, {\\\\\\\\\\\\\\\"column\\\\\\\\\\\\\\\": {\\\\\\\\\\\\\\\"type\\\\\\\\\\\\\\\": 2, \\\\\\\\\\\\\\\"details\\\\\\\\\\\\\\\": {\\\\\\\\\\\\\\\"selectedColumn\\\\\\\\\\\\\\\": \\\\\\\\\\\\\\\"TAprov2019_2_serie\\\\\\\\\\\\\\\"}}, \\\\\\\\\\\\\\\"typeProperty\\\\\\\\\\\\\\\": 3}, {\\\\\\\\\\\\\\\"column\\\\\\\\\\\\\\\": {\\\\\\\\\\\\\\\"type\\\\\\\\\\\\\\\": 2, \\\\\\\\\\\\\\\"details\\\\\\\\\\\\\\\": {\\\\\\\\\\\\\\\"selectedColumn\\\\\\\\\\\\\\\": \\\\\\\\\\\\\\\"TAprov2019_3_serie\\\\\\\\\\\\\\\"}}, \\\\\\\\\\\\\\\"typeProperty\\\\\\\\\\\\\\\": 3}, {\\\\\\\\\\\\\\\"column\\\\\\\\\\\\\\\": {\\\\\\\\\\\\\\\"type\\\\\\\\\\\\\\\": 2, \\\\\\\\\\\\\\\"details\\\\\\\\\\\\\\\": {\\\\\\\\\\\\\\\"selectedColumn\\\\\\\\\\\\\\\": \\\\\\\\\\\\\\\"TAprov2019_4_serie\\\\\\\\\\\\\\\"}}, \\\\\\\\\\\\\\\"typeProperty\\\\\\\\\\\\\\\": 3}, {\\\\\\\\\\\\\\\"column\\\\\\\\\\\\\\\": {\\\\\\\\\\\\\\\"type\\\\\\\\\\\\\\\": 2, \\\\\\\\\\\\\\\"details\\\\\\\\\\\\\\\": {\\\\\\\\\\\\\\\"selectedColumn\\\\\\\\\\\\\\\": \\\\\\\\\\\\\\\"Indicador_Rendimento\\\\\\\\\\\\\\\"}}, \\\\\\\\\\\\\\\"typeProperty\\\\\\\\\\\\\\\": 3}, {\\\\\\\\\\\\\\\"column\\\\\\\\\\\\\\\": {\\\\\\\\\\\\\\\"type\\\\\\\\\\\\\\\": 2, \\\\\\\\\\\\\\\"details\\\\\\\\\\\\\\\": {\\\\\\\\\\\\\\\"selectedColumn\\\\\\\\\\\\\\\": \\\\\\\\\\\\\\\"SAEB2019_Matematica\\\\\\\\\\\\\\\"}}, \\\\\\\\\\\\\\\"typeProperty\\\\\\\\\\\\\\\": 3}, {\\\\\\\\\\\\\\\"column\\\\\\\\\\\\\\\": {\\\\\\\\\\\\\\\"type\\\\\\\\\\\\\\\": 2, \\\\\\\\\\\\\\\"details\\\\\\\\\\\\\\\": {\\\\\\\\\\\\\\\"selectedColumn\\\\\\\\\\\\\\\": \\\\\\\\\\\\\\\"SAEB2019_Lingua Portuguesa\\\\\\\\\\\\\\\"}}, \\\\\\\\\\\\\\\"typeProperty\\\\\\\\\\\\\\\": 3}, {\\\\\\\\\\\\\\\"column\\\\\\\\\\\\\\\": {\\\\\\\\\\\\\\\"type\\\\\\\\\\\\\\\": 2, \\\\\\\\\\\\\\\"details\\\\\\\\\\\\\\\": {\\\\\\\\\\\\\\\"selectedColumn\\\\\\\\\\\\\\\": \\\\\\\\\\\\\\\"SAEB2019_Nota Media Padronizada\\\\\\\\\\\\\\\"}}, \\\\\\\\\\\\\\\"typeProperty\\\\\\\\\\\\\\\": 3}, {\\\\\\\\\\\\\\\"column\\\\\\\\\\\\\\\": {\\\\\\\\\\\\\\\"type\\\\\\\\\\\\\\\": 2, \\\\\\\\\\\\\\\"details\\\\\\\\\\\\\\\": {\\\\\\\\\\\\\\\"selectedColumn\\\\\\\\\\\\\\\": \\\\\\\\\\\\\\\"IDEB_2019\\\\\\\\\\\\\\\"}}, \\\\\\\\\\\\\\\"typeProperty\\\\\\\\\\\\\\\": 3}]}, \\\\\\\\\\\\\\\"localData\\\\\\\\\\\\\\\": {}, \\\\\\\\\\\\\\\"isEnabled\\\\\\\\\\\\\\\": true, \\\\\\\\\\\\\\\"name\\\\\\\\\\\\\\\": null, \\\\\\\\\\\\\\\"annotation\\\\\\\\\\\\\\\": null}], \\\\\\\\\\\\\\\"inspectors\\\\\\\\\\\\\\\": [], \\\\\\\\\\\\\\\"meta\\\\\\\\\\\\\\\": {\\\\\\\\\\\\\\\"savedDatasetId\\\\\\\\\\\\\\\": \\\\\\\\\\\\\\\"f0599236-e951-454b-a849-7b74ddb516d7\\\\\\\\\\\\\\\", \\\\\\\\\\\\\\\"datasetType\\\\\\\\\\\\\\\": \\\\\\\\\\\\\\\"tabular\\\\\\\\\\\\\\\", \\\\\\\\\\\\\\\"subscriptionId\\\\\\\\\\\\\\\": \\\\\\\\\\\\\\\"a748a023-896b-4719-8f8e-3d1ba62d6e35\\\\\\\\\\\\\\\", \\\\\\\\\\\\\\\"workspaceId\\\\\\\\\\\\\\\": \\\\\\\\\\\\\\\"a7aa8562-5b11-4624-8e55-9a41918831e8\\\\\\\\\\\\\\\", \\\\\\\\\\\\\\\"workspaceLocation\\\\\\\\\\\\\\\": \\\\\\\\\\\\\\\"eastus\\\\\\\\\\\\\\\"}}\\\\\\\", \\\\\\\"activities\\\\\\\": 0}\", \"EnableSubsampling\": null, \"runTemplate\": \"AutoML\", \"azureml.runsource\": \"automl\", \"display_task_type\": \"regression\", \"dependencies_versions\": \"{\\\"azureml-widgets\\\": \\\"1.19.0\\\", \\\"azureml-train\\\": \\\"1.20.0\\\", \\\"azureml-train-restclients-hyperdrive\\\": \\\"1.20.0\\\", \\\"azureml-train-core\\\": \\\"1.20.0\\\", \\\"azureml-train-automl\\\": \\\"1.20.0\\\", \\\"azureml-train-automl-runtime\\\": \\\"1.20.0.post1\\\", \\\"azureml-train-automl-client\\\": \\\"1.20.0\\\", \\\"azureml-tensorboard\\\": \\\"1.19.0\\\", \\\"azureml-telemetry\\\": \\\"1.20.0\\\", \\\"azureml-sdk\\\": \\\"1.20.0\\\", \\\"azureml-samples\\\": \\\"0+unknown\\\", \\\"azureml-pipeline\\\": \\\"1.20.0\\\", \\\"azureml-pipeline-steps\\\": \\\"1.20.0\\\", \\\"azureml-pipeline-core\\\": \\\"1.20.0\\\", \\\"azureml-opendatasets\\\": \\\"1.19.0\\\", \\\"azureml-model-management-sdk\\\": \\\"1.0.1b6.post1\\\", \\\"azureml-mlflow\\\": \\\"1.19.0\\\", \\\"azureml-interpret\\\": \\\"1.20.0\\\", \\\"azureml-explain-model\\\": \\\"1.19.0\\\", \\\"azureml-defaults\\\": \\\"1.20.0\\\", \\\"azureml-dataset-runtime\\\": \\\"1.20.0\\\", \\\"azureml-dataprep\\\": \\\"2.7.3\\\", \\\"azureml-dataprep-rslex\\\": \\\"1.5.0\\\", \\\"azureml-dataprep-native\\\": \\\"27.0.0\\\", \\\"azureml-datadrift\\\": \\\"1.19.0\\\", \\\"azureml-core\\\": \\\"1.20.0\\\", \\\"azureml-contrib-services\\\": \\\"1.19.0\\\", \\\"azureml-contrib-server\\\": \\\"1.19.0\\\", \\\"azureml-contrib-reinforcementlearning\\\": \\\"1.19.0\\\", \\\"azureml-contrib-pipeline-steps\\\": \\\"1.19.0\\\", \\\"azureml-contrib-notebook\\\": \\\"1.19.0\\\", \\\"azureml-contrib-interpret\\\": \\\"1.19.0\\\", \\\"azureml-contrib-gbdt\\\": \\\"1.19.0\\\", \\\"azureml-contrib-fairness\\\": \\\"1.19.0\\\", \\\"azureml-contrib-dataset\\\": \\\"1.19.0\\\", \\\"azureml-cli-common\\\": \\\"1.19.0\\\", \\\"azureml-automl-runtime\\\": \\\"1.20.0\\\", \\\"azureml-automl-core\\\": \\\"1.20.0\\\", \\\"azureml-accel-models\\\": \\\"1.19.0\\\"}\", \"_aml_system_scenario_identification\": \"Remote.Parent\", \"ClientType\": \"SDK\", \"environment_cpu_name\": \"AzureML-AutoML\", \"environment_cpu_label\": \"prod\", \"environment_gpu_name\": \"AzureML-AutoML-GPU\", \"environment_gpu_label\": \"prod\", \"root_attribution\": \"automl\", \"attribution\": \"AutoML\", \"Orchestrator\": \"AutoML\", \"CancelUri\": \"https://eastus.experiments.azureml.net/jasmine/v1.0/subscriptions/a748a023-896b-4719-8f8e-3d1ba62d6e35/resourceGroups/RG-AZML/providers/Microsoft.MachineLearningServices/workspaces/AZML/experimentids/337dcb8b-d3cc-4e85-b122-67c93e8ceec5/cancel/AutoML_1cf7d1e4-eb24-4b07-b562-79b16f8596d0\", \"ClientSdkVersion\": \"1.20.0.post1\", \"snapshotId\": \"00000000-0000-0000-0000-000000000000\", \"SetupRunId\": \"AutoML_1cf7d1e4-eb24-4b07-b562-79b16f8596d0_setup\", \"SetupRunContainerId\": \"dcid.AutoML_1cf7d1e4-eb24-4b07-b562-79b16f8596d0_setup\", \"FeaturizationRunJsonPath\": \"featurizer_container.json\", \"FeaturizationRunId\": \"AutoML_1cf7d1e4-eb24-4b07-b562-79b16f8596d0_featurize\", \"ProblemInfoJsonString\": \"{\\\"dataset_num_categorical\\\": 0, \\\"is_sparse\\\": false, \\\"subsampling\\\": false, \\\"dataset_classes\\\": 62, \\\"dataset_features\\\": 9, \\\"dataset_samples\\\": 12079, \\\"single_frequency_class_detected\\\": false}\", \"ModelExplainRunId\": \"AutoML_1cf7d1e4-eb24-4b07-b562-79b16f8596d0_ModelExplain\"}, \"tags\": {\"model_explain_run\": \"best_run\", \"_aml_system_azureml.automlComponent\": \"AutoML\", \"pipeline_id\": \"\", \"score\": \"\", \"predicted_cost\": \"\", \"fit_time\": \"\", \"training_percent\": \"\", \"iteration\": \"\", \"run_preprocessor\": \"\", \"run_algorithm\": \"\", \"dynamic_whitelisting_iterations\": \"<25>;<30>;<34>;<40>;<45>;<50>;<55>;<60>;<65>;<70>;<75>;<80>;<85>;<90>;<95>;<100>;\", \"automl_best_child_run_id\": \"AutoML_1cf7d1e4-eb24-4b07-b562-79b16f8596d0_104\", \"model_explain_best_run_child_id\": \"AutoML_1cf7d1e4-eb24-4b07-b562-79b16f8596d0_104\"}, \"end_time_utc\": \"2021-01-25T22:46:25.240685Z\", \"status\": \"Completed\", \"log_files\": {}, \"log_groups\": [], \"run_duration\": \"0:42:38\"}, \"child_runs\": [{\"run_id\": \"AutoML_1cf7d1e4-eb24-4b07-b562-79b16f8596d0_1\", \"run_number\": 2013, \"metric\": null, \"status\": \"Completed\", \"run_type\": \"azureml.scriptrun\", \"training_percent\": \"100\", \"start_time\": \"2021-01-25T22:07:28.716851Z\", \"end_time\": \"2021-01-25T22:08:19.72457Z\", \"created_time\": \"2021-01-25T22:07:11.613588Z\", \"created_time_dt\": \"2021-01-25T22:07:11.613588Z\", \"duration\": \"0:01:08\", \"iteration\": \"1\", \"goal\": \"r2_score_max\", \"run_name\": \"MaxAbsScaler, XGBoostRegressor\", \"run_properties\": \"copy=True\", \"primary_metric\": 0.9967534, \"best_metric\": 0.9967534}, {\"run_id\": \"AutoML_1cf7d1e4-eb24-4b07-b562-79b16f8596d0_3\", \"run_number\": 2014, \"metric\": null, \"status\": \"Completed\", \"run_type\": \"azureml.scriptrun\", \"training_percent\": \"100\", \"start_time\": \"2021-01-25T22:07:25.637471Z\", \"end_time\": \"2021-01-25T22:08:41.912259Z\", \"created_time\": \"2021-01-25T22:07:11.917345Z\", \"created_time_dt\": \"2021-01-25T22:07:11.917345Z\", \"duration\": \"0:01:29\", \"iteration\": \"3\", \"goal\": \"r2_score_max\", \"run_name\": \"MaxAbsScaler, RandomForest\", \"run_properties\": \"copy=True\", \"primary_metric\": 0.98646378, \"best_metric\": 0.9967534}, {\"run_id\": \"AutoML_1cf7d1e4-eb24-4b07-b562-79b16f8596d0_0\", \"run_number\": 2015, \"metric\": null, \"status\": \"Completed\", \"run_type\": \"azureml.scriptrun\", \"training_percent\": \"100\", \"start_time\": \"2021-01-25T22:07:27.153547Z\", \"end_time\": \"2021-01-25T22:08:20.952658Z\", \"created_time\": \"2021-01-25T22:07:11.946026Z\", \"created_time_dt\": \"2021-01-25T22:07:11.946026Z\", \"duration\": \"0:01:09\", \"iteration\": \"0\", \"goal\": \"r2_score_max\", \"run_name\": \"MaxAbsScaler, LightGBM\", \"run_properties\": \"copy=True\", \"primary_metric\": 0.99661606, \"best_metric\": 0.99661606}, {\"run_id\": \"AutoML_1cf7d1e4-eb24-4b07-b562-79b16f8596d0_2\", \"run_number\": 2016, \"metric\": null, \"status\": \"Completed\", \"run_type\": \"azureml.scriptrun\", \"training_percent\": \"100\", \"start_time\": \"2021-01-25T22:07:26.84187Z\", \"end_time\": \"2021-01-25T22:08:29.785513Z\", \"created_time\": \"2021-01-25T22:07:11.96585Z\", \"created_time_dt\": \"2021-01-25T22:07:11.96585Z\", \"duration\": \"0:01:17\", \"iteration\": \"2\", \"goal\": \"r2_score_max\", \"run_name\": \"SparseNormalizer, XGBoostRegressor\", \"run_properties\": \"<azureml.automl.runtime.shared.model_wrappers.SparseNormalizer object at 0x7fd44f23fef0\", \"primary_metric\": 0.98735227, \"best_metric\": 0.9967534}, {\"run_id\": \"AutoML_1cf7d1e4-eb24-4b07-b562-79b16f8596d0_5\", \"run_number\": 2017, \"metric\": null, \"status\": \"Completed\", \"run_type\": \"azureml.scriptrun\", \"training_percent\": \"100\", \"start_time\": \"2021-01-25T22:08:43.36665Z\", \"end_time\": \"2021-01-25T22:09:37.69154Z\", \"created_time\": \"2021-01-25T22:08:24.592435Z\", \"created_time_dt\": \"2021-01-25T22:08:24.592435Z\", \"duration\": \"0:01:13\", \"iteration\": \"5\", \"goal\": \"r2_score_max\", \"run_name\": \"MaxAbsScaler, ElasticNet\", \"run_properties\": \"copy=True\", \"primary_metric\": 0.99318827, \"best_metric\": 0.99721502}, {\"run_id\": \"AutoML_1cf7d1e4-eb24-4b07-b562-79b16f8596d0_4\", \"run_number\": 2018, \"metric\": null, \"status\": \"Completed\", \"run_type\": \"azureml.scriptrun\", \"training_percent\": \"100\", \"start_time\": \"2021-01-25T22:08:42.462956Z\", \"end_time\": \"2021-01-25T22:09:49.032186Z\", \"created_time\": \"2021-01-25T22:08:24.607374Z\", \"created_time_dt\": \"2021-01-25T22:08:24.607374Z\", \"duration\": \"0:01:24\", \"iteration\": \"4\", \"goal\": \"r2_score_max\", \"run_name\": \"StandardScalerWrapper, XGBoostRegressor\", \"run_properties\": \"<azureml.automl.runtime.shared.model_wrappers.StandardScalerWrapper object at 0x7f7433363940\", \"primary_metric\": 0.99721502, \"best_metric\": 0.99721502}, {\"run_id\": \"AutoML_1cf7d1e4-eb24-4b07-b562-79b16f8596d0_6\", \"run_number\": 2019, \"metric\": null, \"status\": \"Completed\", \"run_type\": \"azureml.scriptrun\", \"training_percent\": \"100\", \"start_time\": \"2021-01-25T22:08:46.844397Z\", \"end_time\": \"2021-01-25T22:10:39.578048Z\", \"created_time\": \"2021-01-25T22:08:35.053981Z\", \"created_time_dt\": \"2021-01-25T22:08:35.053981Z\", \"duration\": \"0:02:04\", \"iteration\": \"6\", \"goal\": \"r2_score_max\", \"run_name\": \"MinMaxScaler, RandomForest\", \"run_properties\": \"copy=True, feature_range=(0, 1\", \"primary_metric\": 0.9739045, \"best_metric\": 0.99721502}, {\"run_id\": \"AutoML_1cf7d1e4-eb24-4b07-b562-79b16f8596d0_7\", \"run_number\": 2020, \"metric\": null, \"status\": \"Completed\", \"run_type\": \"azureml.scriptrun\", \"training_percent\": \"100\", \"start_time\": \"2021-01-25T22:09:01.108105Z\", \"end_time\": \"2021-01-25T22:10:31.190289Z\", \"created_time\": \"2021-01-25T22:08:46.311088Z\", \"created_time_dt\": \"2021-01-25T22:08:46.311088Z\", \"duration\": \"0:01:44\", \"iteration\": \"7\", \"goal\": \"r2_score_max\", \"run_name\": \"StandardScalerWrapper, XGBoostRegressor\", \"run_properties\": \"<azureml.automl.runtime.shared.model_wrappers.StandardScalerWrapper object at 0x7f485d17a748\", \"primary_metric\": 0.99719153, \"best_metric\": 0.99721502}, {\"run_id\": \"AutoML_1cf7d1e4-eb24-4b07-b562-79b16f8596d0_8\", \"run_number\": 2021, \"metric\": null, \"status\": \"Completed\", \"run_type\": \"azureml.scriptrun\", \"training_percent\": \"100\", \"start_time\": \"2021-01-25T22:09:58.039212Z\", \"end_time\": \"2021-01-25T22:10:57.902419Z\", \"created_time\": \"2021-01-25T22:09:41.723929Z\", \"created_time_dt\": \"2021-01-25T22:09:41.723929Z\", \"duration\": \"0:01:16\", \"iteration\": \"8\", \"goal\": \"r2_score_max\", \"run_name\": \"MinMaxScaler, ExtremeRandomTrees\", \"run_properties\": \"copy=True, feature_range=(0, 1\", \"primary_metric\": 0.99314316, \"best_metric\": 0.99721502}, {\"run_id\": \"AutoML_1cf7d1e4-eb24-4b07-b562-79b16f8596d0_9\", \"run_number\": 2022, \"metric\": null, \"status\": \"Completed\", \"run_type\": \"azureml.scriptrun\", \"training_percent\": \"100\", \"start_time\": \"2021-01-25T22:10:04.717465Z\", \"end_time\": \"2021-01-25T22:11:04.559032Z\", \"created_time\": \"2021-01-25T22:09:52.801961Z\", \"created_time_dt\": \"2021-01-25T22:09:52.801961Z\", \"duration\": \"0:01:11\", \"iteration\": \"9\", \"goal\": \"r2_score_max\", \"run_name\": \"StandardScalerWrapper, ElasticNet\", \"run_properties\": \"<azureml.automl.runtime.shared.model_wrappers.StandardScalerWrapper object at 0x7fa08452b0f0\", \"primary_metric\": 0.98936118, \"best_metric\": 0.99721502}, {\"run_id\": \"AutoML_1cf7d1e4-eb24-4b07-b562-79b16f8596d0_10\", \"run_number\": 2023, \"metric\": null, \"status\": \"Completed\", \"run_type\": \"azureml.scriptrun\", \"training_percent\": \"100\", \"start_time\": \"2021-01-25T22:10:49.965281Z\", \"end_time\": \"2021-01-25T22:13:01.198351Z\", \"created_time\": \"2021-01-25T22:10:35.0386Z\", \"created_time_dt\": \"2021-01-25T22:10:35.0386Z\", \"duration\": \"0:02:26\", \"iteration\": \"10\", \"goal\": \"r2_score_max\", \"run_name\": \"MinMaxScaler, RandomForest\", \"run_properties\": \"copy=True, feature_range=(0, 1\", \"primary_metric\": 0.99335363, \"best_metric\": 0.99721502}, {\"run_id\": \"AutoML_1cf7d1e4-eb24-4b07-b562-79b16f8596d0_11\", \"run_number\": 2024, \"metric\": null, \"status\": \"Completed\", \"run_type\": \"azureml.scriptrun\", \"training_percent\": \"100\", \"start_time\": \"2021-01-25T22:10:59.999827Z\", \"end_time\": \"2021-01-25T22:12:00.027956Z\", \"created_time\": \"2021-01-25T22:10:43.296714Z\", \"created_time_dt\": \"2021-01-25T22:10:43.296714Z\", \"duration\": \"0:01:16\", \"iteration\": \"11\", \"goal\": \"r2_score_max\", \"run_name\": \"MinMaxScaler, RandomForest\", \"run_properties\": \"copy=True, feature_range=(0, 1\", \"primary_metric\": 0.9899378, \"best_metric\": 0.99721502}, {\"run_id\": \"AutoML_1cf7d1e4-eb24-4b07-b562-79b16f8596d0_12\", \"run_number\": 2025, \"metric\": null, \"status\": \"Completed\", \"run_type\": \"azureml.scriptrun\", \"training_percent\": \"100\", \"start_time\": \"2021-01-25T22:11:14.279326Z\", \"end_time\": \"2021-01-25T22:12:05.953302Z\", \"created_time\": \"2021-01-25T22:11:01.678683Z\", \"created_time_dt\": \"2021-01-25T22:11:01.678683Z\", \"duration\": \"0:01:04\", \"iteration\": \"12\", \"goal\": \"r2_score_max\", \"run_name\": \"StandardScalerWrapper, XGBoostRegressor\", \"run_properties\": \"<azureml.automl.runtime.shared.model_wrappers.StandardScalerWrapper object at 0x7fb8cca29978\", \"primary_metric\": 0.8736558, \"best_metric\": 0.99721502}, {\"run_id\": \"AutoML_1cf7d1e4-eb24-4b07-b562-79b16f8596d0_13\", \"run_number\": 2026, \"metric\": null, \"status\": \"Completed\", \"run_type\": \"azureml.scriptrun\", \"training_percent\": \"100\", \"start_time\": \"2021-01-25T22:11:22.487845Z\", \"end_time\": \"2021-01-25T22:12:12.147959Z\", \"created_time\": \"2021-01-25T22:11:08.417022Z\", \"created_time_dt\": \"2021-01-25T22:11:08.417022Z\", \"duration\": \"0:01:03\", \"iteration\": \"13\", \"goal\": \"r2_score_max\", \"run_name\": \"RobustScaler, LassoLars\", \"run_properties\": \"copy=True, quantile_range=[10, 90], with_centering=False,\\n             with_scaling=True\", \"primary_metric\": 0.99363867, \"best_metric\": 0.99721502}, {\"run_id\": \"AutoML_1cf7d1e4-eb24-4b07-b562-79b16f8596d0_14\", \"run_number\": 2027, \"metric\": null, \"status\": \"Completed\", \"run_type\": \"azureml.scriptrun\", \"training_percent\": \"100\", \"start_time\": \"2021-01-25T22:12:20.242207Z\", \"end_time\": \"2021-01-25T22:13:21.954975Z\", \"created_time\": \"2021-01-25T22:12:04.231527Z\", \"created_time_dt\": \"2021-01-25T22:12:04.231527Z\", \"duration\": \"0:01:17\", \"iteration\": \"14\", \"goal\": \"r2_score_max\", \"run_name\": \"MinMaxScaler, ExtremeRandomTrees\", \"run_properties\": \"copy=True, feature_range=(0, 1\", \"primary_metric\": 0.99255397, \"best_metric\": 0.99721502}, {\"run_id\": \"AutoML_1cf7d1e4-eb24-4b07-b562-79b16f8596d0_15\", \"run_number\": 2028, \"metric\": null, \"status\": \"Completed\", \"run_type\": \"azureml.scriptrun\", \"training_percent\": \"100\", \"start_time\": \"2021-01-25T22:12:25.866638Z\", \"end_time\": \"2021-01-25T22:13:19.656521Z\", \"created_time\": \"2021-01-25T22:12:10.429105Z\", \"created_time_dt\": \"2021-01-25T22:12:10.429105Z\", \"duration\": \"0:01:09\", \"iteration\": \"15\", \"goal\": \"r2_score_max\", \"run_name\": \"MaxAbsScaler, ExtremeRandomTrees\", \"run_properties\": \"copy=True\", \"primary_metric\": 0.89401594, \"best_metric\": 0.99721502}, {\"run_id\": \"AutoML_1cf7d1e4-eb24-4b07-b562-79b16f8596d0_16\", \"run_number\": 2029, \"metric\": null, \"status\": \"Completed\", \"run_type\": \"azureml.scriptrun\", \"training_percent\": \"100\", \"start_time\": \"2021-01-25T22:12:32.402025Z\", \"end_time\": \"2021-01-25T22:13:28.907061Z\", \"created_time\": \"2021-01-25T22:12:17.550298Z\", \"created_time_dt\": \"2021-01-25T22:12:17.550298Z\", \"duration\": \"0:01:11\", \"iteration\": \"16\", \"goal\": \"r2_score_max\", \"run_name\": \"MinMaxScaler, ExtremeRandomTrees\", \"run_properties\": \"copy=True, feature_range=(0, 1\", \"primary_metric\": 0.99205495, \"best_metric\": 0.99721502}, {\"run_id\": \"AutoML_1cf7d1e4-eb24-4b07-b562-79b16f8596d0_17\", \"run_number\": 2030, \"metric\": null, \"status\": \"Completed\", \"run_type\": \"azureml.scriptrun\", \"training_percent\": \"100\", \"start_time\": \"2021-01-25T22:13:20.729477Z\", \"end_time\": \"2021-01-25T22:14:09.698163Z\", \"created_time\": \"2021-01-25T22:13:06.0957Z\", \"created_time_dt\": \"2021-01-25T22:13:06.0957Z\", \"duration\": \"0:01:03\", \"iteration\": \"17\", \"goal\": \"r2_score_max\", \"run_name\": \"MaxAbsScaler, ElasticNet\", \"run_properties\": \"copy=True\", \"primary_metric\": 0.99195979, \"best_metric\": 0.99721502}, {\"run_id\": \"AutoML_1cf7d1e4-eb24-4b07-b562-79b16f8596d0_18\", \"run_number\": 2031, \"metric\": null, \"status\": \"Completed\", \"run_type\": \"azureml.scriptrun\", \"training_percent\": \"100\", \"start_time\": \"2021-01-25T22:13:37.595289Z\", \"end_time\": \"2021-01-25T22:14:32.386345Z\", \"created_time\": \"2021-01-25T22:13:23.440348Z\", \"created_time_dt\": \"2021-01-25T22:13:23.440348Z\", \"duration\": \"0:01:08\", \"iteration\": \"18\", \"goal\": \"r2_score_max\", \"run_name\": \"MinMaxScaler, RandomForest\", \"run_properties\": \"copy=True, feature_range=(0, 1\", \"primary_metric\": 0.88545563, \"best_metric\": 0.99721502}, {\"run_id\": \"AutoML_1cf7d1e4-eb24-4b07-b562-79b16f8596d0_19\", \"run_number\": 2032, \"metric\": null, \"status\": \"Completed\", \"run_type\": \"azureml.scriptrun\", \"training_percent\": \"100\", \"start_time\": \"2021-01-25T22:13:41.313109Z\", \"end_time\": \"2021-01-25T22:14:32.333635Z\", \"created_time\": \"2021-01-25T22:13:29.641473Z\", \"created_time_dt\": \"2021-01-25T22:13:29.641473Z\", \"duration\": \"0:01:02\", \"iteration\": \"19\", \"goal\": \"r2_score_max\", \"run_name\": \"MaxAbsScaler, RandomForest\", \"run_properties\": \"copy=True\", \"primary_metric\": 0.96205255, \"best_metric\": 0.99721502}, {\"run_id\": \"AutoML_1cf7d1e4-eb24-4b07-b562-79b16f8596d0_20\", \"run_number\": 2033, \"metric\": null, \"status\": \"Completed\", \"run_type\": \"azureml.scriptrun\", \"training_percent\": \"100\", \"start_time\": \"2021-01-25T22:13:49.40137Z\", \"end_time\": \"2021-01-25T22:14:46.099673Z\", \"created_time\": \"2021-01-25T22:13:37.301549Z\", \"created_time_dt\": \"2021-01-25T22:13:37.301549Z\", \"duration\": \"0:01:08\", \"iteration\": \"20\", \"goal\": \"r2_score_max\", \"run_name\": \"RobustScaler, ElasticNet\", \"run_properties\": \"copy=True, quantile_range=[10, 90], with_centering=True,\\n             with_scaling=False\", \"primary_metric\": 0.99199963, \"best_metric\": 0.99721502}, {\"run_id\": \"AutoML_1cf7d1e4-eb24-4b07-b562-79b16f8596d0_21\", \"run_number\": 2034, \"metric\": null, \"status\": \"Completed\", \"run_type\": \"azureml.scriptrun\", \"training_percent\": \"100\", \"start_time\": \"2021-01-25T22:14:33.179625Z\", \"end_time\": \"2021-01-25T22:15:35.77757Z\", \"created_time\": \"2021-01-25T22:14:14.873453Z\", \"created_time_dt\": \"2021-01-25T22:14:14.873453Z\", \"duration\": \"0:01:20\", \"iteration\": \"21\", \"goal\": \"r2_score_max\", \"run_name\": \"StandardScalerWrapper, RandomForest\", \"run_properties\": \"<azureml.automl.runtime.shared.model_wrappers.StandardScalerWrapper object at 0x7f2d1dbc7a20\", \"primary_metric\": 0.91186731, \"best_metric\": 0.99721502}, {\"run_id\": \"AutoML_1cf7d1e4-eb24-4b07-b562-79b16f8596d0_22\", \"run_number\": 2035, \"metric\": null, \"status\": \"Completed\", \"run_type\": \"azureml.scriptrun\", \"training_percent\": \"100\", \"start_time\": \"2021-01-25T22:14:50.971578Z\", \"end_time\": \"2021-01-25T22:15:50.068959Z\", \"created_time\": \"2021-01-25T22:14:36.164954Z\", \"created_time_dt\": \"2021-01-25T22:14:36.164954Z\", \"duration\": \"0:01:13\", \"iteration\": \"22\", \"goal\": \"r2_score_max\", \"run_name\": \"MaxAbsScaler, ElasticNet\", \"run_properties\": \"copy=True\", \"primary_metric\": 0.99239079, \"best_metric\": 0.99721502}, {\"run_id\": \"AutoML_1cf7d1e4-eb24-4b07-b562-79b16f8596d0_23\", \"run_number\": 2036, \"metric\": null, \"status\": \"Completed\", \"run_type\": \"azureml.scriptrun\", \"training_percent\": \"100\", \"start_time\": \"2021-01-25T22:14:52.174822Z\", \"end_time\": \"2021-01-25T22:15:47.121601Z\", \"created_time\": \"2021-01-25T22:14:36.437858Z\", \"created_time_dt\": \"2021-01-25T22:14:36.437858Z\", \"duration\": \"0:01:10\", \"iteration\": \"23\", \"goal\": \"r2_score_max\", \"run_name\": \"MinMaxScaler, LightGBM\", \"run_properties\": \"copy=True, feature_range=(0, 1\", \"primary_metric\": 0.99440947, \"best_metric\": 0.99721502}, {\"run_id\": \"AutoML_1cf7d1e4-eb24-4b07-b562-79b16f8596d0_24\", \"run_number\": 2037, \"metric\": null, \"status\": \"Completed\", \"run_type\": \"azureml.scriptrun\", \"training_percent\": \"100\", \"start_time\": \"2021-01-25T22:15:05.206878Z\", \"end_time\": \"2021-01-25T22:16:24.684614Z\", \"created_time\": \"2021-01-25T22:14:49.750324Z\", \"created_time_dt\": \"2021-01-25T22:14:49.750324Z\", \"duration\": \"0:01:34\", \"iteration\": \"24\", \"goal\": \"r2_score_max\", \"run_name\": \"StandardScalerWrapper, XGBoostRegressor\", \"run_properties\": \"<azureml.automl.runtime.shared.model_wrappers.StandardScalerWrapper object at 0x7fecfe24b5c0\", \"primary_metric\": 0.9961839, \"best_metric\": 0.99721502}, {\"run_id\": \"AutoML_1cf7d1e4-eb24-4b07-b562-79b16f8596d0_25\", \"run_number\": 2038, \"metric\": null, \"status\": \"Completed\", \"run_type\": \"azureml.scriptrun\", \"training_percent\": \"100\", \"start_time\": \"2021-01-25T22:15:53.438985Z\", \"end_time\": \"2021-01-25T22:16:50.402585Z\", \"created_time\": \"2021-01-25T22:15:40.458923Z\", \"created_time_dt\": \"2021-01-25T22:15:40.458923Z\", \"duration\": \"0:01:09\", \"iteration\": \"25\", \"goal\": \"r2_score_max\", \"run_name\": \"SparseNormalizer, XGBoostRegressor\", \"run_properties\": \"<azureml.automl.runtime.shared.model_wrappers.SparseNormalizer object at 0x7fe7d44cd358\", \"primary_metric\": 0.75570782, \"best_metric\": 0.99721502}, {\"run_id\": \"AutoML_1cf7d1e4-eb24-4b07-b562-79b16f8596d0_26\", \"run_number\": 2039, \"metric\": null, \"status\": \"Completed\", \"run_type\": \"azureml.scriptrun\", \"training_percent\": \"100\", \"start_time\": \"2021-01-25T22:16:04.867549Z\", \"end_time\": \"2021-01-25T22:16:55.474911Z\", \"created_time\": \"2021-01-25T22:15:51.548955Z\", \"created_time_dt\": \"2021-01-25T22:15:51.548955Z\", \"duration\": \"0:01:03\", \"iteration\": \"26\", \"goal\": \"r2_score_max\", \"run_name\": \"StandardScalerWrapper, RandomForest\", \"run_properties\": \"<azureml.automl.runtime.shared.model_wrappers.StandardScalerWrapper object at 0x7f8bf86d2ba8\", \"primary_metric\": 0.89479175, \"best_metric\": 0.99721502}, {\"run_id\": \"AutoML_1cf7d1e4-eb24-4b07-b562-79b16f8596d0_27\", \"run_number\": 2040, \"metric\": null, \"status\": \"Completed\", \"run_type\": \"azureml.scriptrun\", \"training_percent\": \"100\", \"start_time\": \"2021-01-25T22:16:12.757317Z\", \"end_time\": \"2021-01-25T22:16:59.434063Z\", \"created_time\": \"2021-01-25T22:15:57.178902Z\", \"created_time_dt\": \"2021-01-25T22:15:57.178902Z\", \"duration\": \"0:01:02\", \"iteration\": \"27\", \"goal\": \"r2_score_max\", \"run_name\": \"SparseNormalizer, XGBoostRegressor\", \"run_properties\": \"<azureml.automl.runtime.shared.model_wrappers.SparseNormalizer object at 0x7f17d0e98470\", \"primary_metric\": 0.83385552, \"best_metric\": 0.99721502}, {\"run_id\": \"AutoML_1cf7d1e4-eb24-4b07-b562-79b16f8596d0_28\", \"run_number\": 2041, \"metric\": null, \"status\": \"Completed\", \"run_type\": \"azureml.scriptrun\", \"training_percent\": \"100\", \"start_time\": \"2021-01-25T22:16:41.947643Z\", \"end_time\": \"2021-01-25T22:17:42.010845Z\", \"created_time\": \"2021-01-25T22:16:27.3512Z\", \"created_time_dt\": \"2021-01-25T22:16:27.3512Z\", \"duration\": \"0:01:14\", \"iteration\": \"28\", \"goal\": \"r2_score_max\", \"run_name\": \"RobustScaler, LightGBM\", \"run_properties\": \"copy=True, quantile_range=[25, 75], with_centering=True,\\n             with_scaling=True\", \"primary_metric\": 0.9877838, \"best_metric\": 0.99721502}, {\"run_id\": \"AutoML_1cf7d1e4-eb24-4b07-b562-79b16f8596d0_29\", \"run_number\": 2042, \"metric\": null, \"status\": \"Completed\", \"run_type\": \"azureml.scriptrun\", \"training_percent\": \"100\", \"start_time\": \"2021-01-25T22:17:05.50955Z\", \"end_time\": \"2021-01-25T22:18:18.181414Z\", \"created_time\": \"2021-01-25T22:16:53.230355Z\", \"created_time_dt\": \"2021-01-25T22:16:53.230355Z\", \"duration\": \"0:01:24\", \"iteration\": \"29\", \"goal\": \"r2_score_max\", \"run_name\": \"StandardScalerWrapper, RandomForest\", \"run_properties\": \"<azureml.automl.runtime.shared.model_wrappers.StandardScalerWrapper object at 0x7f6b020674a8\", \"primary_metric\": 0.98622585, \"best_metric\": 0.99721502}, {\"run_id\": \"AutoML_1cf7d1e4-eb24-4b07-b562-79b16f8596d0_30\", \"run_number\": 2043, \"metric\": null, \"status\": \"Completed\", \"run_type\": \"azureml.scriptrun\", \"training_percent\": \"100\", \"start_time\": \"2021-01-25T22:17:15.509215Z\", \"end_time\": \"2021-01-25T22:18:13.300758Z\", \"created_time\": \"2021-01-25T22:17:00.572102Z\", \"created_time_dt\": \"2021-01-25T22:17:00.572102Z\", \"duration\": \"0:01:12\", \"iteration\": \"30\", \"goal\": \"r2_score_max\", \"run_name\": \"PCA, XGBoostRegressor\", \"run_properties\": \"copy=True, iterated_power='auto', n_components=0.8015789473684211,\\n    random_state=None, svd_solver='auto', tol=0.0, whiten=True\", \"primary_metric\": 0.98623417, \"best_metric\": 0.99721502}, {\"run_id\": \"AutoML_1cf7d1e4-eb24-4b07-b562-79b16f8596d0_31\", \"run_number\": 2044, \"metric\": null, \"status\": \"Completed\", \"run_type\": \"azureml.scriptrun\", \"training_percent\": \"100\", \"start_time\": \"2021-01-25T22:17:22.262978Z\", \"end_time\": \"2021-01-25T22:18:12.375107Z\", \"created_time\": \"2021-01-25T22:17:06.767008Z\", \"created_time_dt\": \"2021-01-25T22:17:06.767008Z\", \"duration\": \"0:01:05\", \"iteration\": \"31\", \"goal\": \"r2_score_max\", \"run_name\": \"MaxAbsScaler, LightGBM\", \"run_properties\": \"copy=True\", \"primary_metric\": 0.99326541, \"best_metric\": 0.99721502}, {\"run_id\": \"AutoML_1cf7d1e4-eb24-4b07-b562-79b16f8596d0_32\", \"run_number\": 2045, \"metric\": null, \"status\": \"Completed\", \"run_type\": \"azureml.scriptrun\", \"training_percent\": \"100\", \"start_time\": \"2021-01-25T22:18:00.450642Z\", \"end_time\": \"2021-01-25T22:19:13.931571Z\", \"created_time\": \"2021-01-25T22:17:45.129402Z\", \"created_time_dt\": \"2021-01-25T22:17:45.129402Z\", \"duration\": \"0:01:28\", \"iteration\": \"32\", \"goal\": \"r2_score_max\", \"run_name\": \"RobustScaler, LightGBM\", \"run_properties\": \"copy=True, quantile_range=[10, 90], with_centering=False,\\n             with_scaling=True\", \"primary_metric\": 0.99363541, \"best_metric\": 0.99721502}, {\"run_id\": \"AutoML_1cf7d1e4-eb24-4b07-b562-79b16f8596d0_33\", \"run_number\": 2046, \"metric\": null, \"status\": \"Completed\", \"run_type\": \"azureml.scriptrun\", \"training_percent\": \"100\", \"start_time\": \"2021-01-25T22:18:37.330279Z\", \"end_time\": \"2021-01-25T22:20:02.61723Z\", \"created_time\": \"2021-01-25T22:18:15.073822Z\", \"created_time_dt\": \"2021-01-25T22:18:15.073822Z\", \"duration\": \"0:01:47\", \"iteration\": \"33\", \"goal\": \"r2_score_max\", \"run_name\": \"RobustScaler, ExtremeRandomTrees\", \"run_properties\": \"copy=True, quantile_range=[25, 75], with_centering=True,\\n             with_scaling=True\", \"primary_metric\": 0.98285757, \"best_metric\": 0.99721502}, {\"run_id\": \"AutoML_1cf7d1e4-eb24-4b07-b562-79b16f8596d0_34\", \"run_number\": 2047, \"metric\": null, \"status\": \"Completed\", \"run_type\": \"azureml.scriptrun\", \"training_percent\": \"100\", \"start_time\": \"2021-01-25T22:18:41.419808Z\", \"end_time\": \"2021-01-25T22:19:45.674889Z\", \"created_time\": \"2021-01-25T22:18:27.899623Z\", \"created_time_dt\": \"2021-01-25T22:18:27.899623Z\", \"duration\": \"0:01:17\", \"iteration\": \"34\", \"goal\": \"r2_score_max\", \"run_name\": \"PCA, XGBoostRegressor\", \"run_properties\": \"copy=True, iterated_power='auto', n_components=0.2573684210526316,\\n    random_state=None, svd_solver='auto', tol=0.0, whiten=False\", \"primary_metric\": 0.83701564, \"best_metric\": 0.99721502}, {\"run_id\": \"AutoML_1cf7d1e4-eb24-4b07-b562-79b16f8596d0_35\", \"run_number\": 2048, \"metric\": null, \"status\": \"Completed\", \"run_type\": \"azureml.scriptrun\", \"training_percent\": \"100\", \"start_time\": \"2021-01-25T22:18:44.557651Z\", \"end_time\": \"2021-01-25T22:19:41.422512Z\", \"created_time\": \"2021-01-25T22:18:28.42528Z\", \"created_time_dt\": \"2021-01-25T22:18:28.42528Z\", \"duration\": \"0:01:12\", \"iteration\": \"35\", \"goal\": \"r2_score_max\", \"run_name\": \"MinMaxScaler, SGD\", \"run_properties\": \"copy=True, feature_range=(0, 1\", \"primary_metric\": 0.97822348, \"best_metric\": 0.99721502}, {\"run_id\": \"AutoML_1cf7d1e4-eb24-4b07-b562-79b16f8596d0_36\", \"run_number\": 2049, \"metric\": null, \"status\": \"Completed\", \"run_type\": \"azureml.scriptrun\", \"training_percent\": \"100\", \"start_time\": \"2021-01-25T22:19:38.5659Z\", \"end_time\": \"2021-01-25T22:20:41.077174Z\", \"created_time\": \"2021-01-25T22:19:18.306506Z\", \"created_time_dt\": \"2021-01-25T22:19:18.306506Z\", \"duration\": \"0:01:22\", \"iteration\": \"36\", \"goal\": \"r2_score_max\", \"run_name\": \"MaxAbsScaler, DecisionTree\", \"run_properties\": \"copy=True\", \"primary_metric\": 0.94829401, \"best_metric\": 0.99721502}, {\"run_id\": \"AutoML_1cf7d1e4-eb24-4b07-b562-79b16f8596d0_37\", \"run_number\": 2050, \"metric\": null, \"status\": \"Completed\", \"run_type\": \"azureml.scriptrun\", \"training_percent\": \"100\", \"start_time\": \"2021-01-25T22:20:02.587637Z\", \"end_time\": \"2021-01-25T22:21:04.956459Z\", \"created_time\": \"2021-01-25T22:19:45.965146Z\", \"created_time_dt\": \"2021-01-25T22:19:45.965146Z\", \"duration\": \"0:01:18\", \"iteration\": \"37\", \"goal\": \"r2_score_max\", \"run_name\": \"RobustScaler, ElasticNet\", \"run_properties\": \"copy=True, quantile_range=[25, 75], with_centering=False,\\n             with_scaling=True\", \"primary_metric\": 0.99365673, \"best_metric\": 0.99721502}, {\"run_id\": \"AutoML_1cf7d1e4-eb24-4b07-b562-79b16f8596d0_38\", \"run_number\": 2051, \"metric\": null, \"status\": \"Completed\", \"run_type\": \"azureml.scriptrun\", \"training_percent\": \"100\", \"start_time\": \"2021-01-25T22:20:07.856105Z\", \"end_time\": \"2021-01-25T22:20:58.536097Z\", \"created_time\": \"2021-01-25T22:19:55.647092Z\", \"created_time_dt\": \"2021-01-25T22:19:55.647092Z\", \"duration\": \"0:01:02\", \"iteration\": \"38\", \"goal\": \"r2_score_max\", \"run_name\": \"RobustScaler, ElasticNet\", \"run_properties\": \"copy=True, quantile_range=[10, 90], with_centering=False,\\n             with_scaling=False\", \"primary_metric\": 0.99195263, \"best_metric\": 0.99721502}, {\"run_id\": \"AutoML_1cf7d1e4-eb24-4b07-b562-79b16f8596d0_39\", \"run_number\": 2052, \"metric\": null, \"status\": \"Completed\", \"run_type\": \"azureml.scriptrun\", \"training_percent\": \"100\", \"start_time\": \"2021-01-25T22:20:23.48054Z\", \"end_time\": \"2021-01-25T22:21:26.606221Z\", \"created_time\": \"2021-01-25T22:20:07.459547Z\", \"created_time_dt\": \"2021-01-25T22:20:07.459547Z\", \"duration\": \"0:01:19\", \"iteration\": \"39\", \"goal\": \"r2_score_max\", \"run_name\": \"StandardScalerWrapper, ElasticNet\", \"run_properties\": \"<azureml.automl.runtime.shared.model_wrappers.StandardScalerWrapper object at 0x7f86ec059898\", \"primary_metric\": 0.99365487, \"best_metric\": 0.99721502}, {\"run_id\": \"AutoML_1cf7d1e4-eb24-4b07-b562-79b16f8596d0_40\", \"run_number\": 2053, \"metric\": null, \"status\": \"Completed\", \"run_type\": \"azureml.scriptrun\", \"training_percent\": \"100\", \"start_time\": \"2021-01-25T22:21:03.310653Z\", \"end_time\": \"2021-01-25T22:22:06.033492Z\", \"created_time\": \"2021-01-25T22:20:46.874603Z\", \"created_time_dt\": \"2021-01-25T22:20:46.874603Z\", \"duration\": \"0:01:19\", \"iteration\": \"40\", \"goal\": \"r2_score_max\", \"run_name\": \"SparseNormalizer, XGBoostRegressor\", \"run_properties\": \"<azureml.automl.runtime.shared.model_wrappers.SparseNormalizer object at 0x7f6470489438\", \"primary_metric\": 0.94625603, \"best_metric\": 0.99721502}, {\"run_id\": \"AutoML_1cf7d1e4-eb24-4b07-b562-79b16f8596d0_41\", \"run_number\": 2054, \"metric\": null, \"status\": \"Completed\", \"run_type\": \"azureml.scriptrun\", \"training_percent\": \"100\", \"start_time\": \"2021-01-25T22:21:17.125731Z\", \"end_time\": \"2021-01-25T22:22:07.820496Z\", \"created_time\": \"2021-01-25T22:21:04.13652Z\", \"created_time_dt\": \"2021-01-25T22:21:04.13652Z\", \"duration\": \"0:01:03\", \"iteration\": \"41\", \"goal\": \"r2_score_max\", \"run_name\": \"StandardScalerWrapper, ElasticNet\", \"run_properties\": \"<azureml.automl.runtime.shared.model_wrappers.StandardScalerWrapper object at 0x7f807c978358\", \"primary_metric\": 0.99209156, \"best_metric\": 0.99721502}, {\"run_id\": \"AutoML_1cf7d1e4-eb24-4b07-b562-79b16f8596d0_42\", \"run_number\": 2055, \"metric\": null, \"status\": \"Completed\", \"run_type\": \"azureml.scriptrun\", \"training_percent\": \"100\", \"start_time\": \"2021-01-25T22:21:25.451152Z\", \"end_time\": \"2021-01-25T22:22:19.158388Z\", \"created_time\": \"2021-01-25T22:21:13.049676Z\", \"created_time_dt\": \"2021-01-25T22:21:13.049676Z\", \"duration\": \"0:01:06\", \"iteration\": \"42\", \"goal\": \"r2_score_max\", \"run_name\": \"RobustScaler, ElasticNet\", \"run_properties\": \"copy=True, quantile_range=[10, 90], with_centering=False,\\n             with_scaling=False\", \"primary_metric\": 0.99199963, \"best_metric\": 0.99721502}, {\"run_id\": \"AutoML_1cf7d1e4-eb24-4b07-b562-79b16f8596d0_43\", \"run_number\": 2056, \"metric\": null, \"status\": \"Completed\", \"run_type\": \"azureml.scriptrun\", \"training_percent\": \"100\", \"start_time\": \"2021-01-25T22:21:50.572044Z\", \"end_time\": \"2021-01-25T22:23:04.362252Z\", \"created_time\": \"2021-01-25T22:21:30.875654Z\", \"created_time_dt\": \"2021-01-25T22:21:30.875654Z\", \"duration\": \"0:01:33\", \"iteration\": \"43\", \"goal\": \"r2_score_max\", \"run_name\": \"RobustScaler, RandomForest\", \"run_properties\": \"copy=True, quantile_range=[10, 90], with_centering=False,\\n             with_scaling=False\", \"primary_metric\": 0.94461226, \"best_metric\": 0.99721502}, {\"run_id\": \"AutoML_1cf7d1e4-eb24-4b07-b562-79b16f8596d0_44\", \"run_number\": 2057, \"metric\": null, \"status\": \"Completed\", \"run_type\": \"azureml.scriptrun\", \"training_percent\": \"100\", \"start_time\": \"2021-01-25T22:22:29.750757Z\", \"end_time\": \"2021-01-25T22:23:28.692143Z\", \"created_time\": \"2021-01-25T22:22:10.516456Z\", \"created_time_dt\": \"2021-01-25T22:22:10.516456Z\", \"duration\": \"0:01:18\", \"iteration\": \"44\", \"goal\": \"r2_score_max\", \"run_name\": \"StandardScalerWrapper, ElasticNet\", \"run_properties\": \"<azureml.automl.runtime.shared.model_wrappers.StandardScalerWrapper object at 0x7f95b724c358\", \"primary_metric\": 0.99195413, \"best_metric\": 0.99721502}, {\"run_id\": \"AutoML_1cf7d1e4-eb24-4b07-b562-79b16f8596d0_45\", \"run_number\": 2058, \"metric\": null, \"status\": \"Completed\", \"run_type\": \"azureml.scriptrun\", \"training_percent\": \"100\", \"start_time\": \"2021-01-25T22:22:35.688749Z\", \"end_time\": \"2021-01-25T22:23:33.276012Z\", \"created_time\": \"2021-01-25T22:22:19.78307Z\", \"created_time_dt\": \"2021-01-25T22:22:19.78307Z\", \"duration\": \"0:01:13\", \"iteration\": \"45\", \"goal\": \"r2_score_max\", \"run_name\": \"StandardScalerWrapper, XGBoostRegressor\", \"run_properties\": \"<azureml.automl.runtime.shared.model_wrappers.StandardScalerWrapper object at 0x7f5ac9b89908\", \"primary_metric\": 0.99277796, \"best_metric\": 0.99721502}, {\"run_id\": \"AutoML_1cf7d1e4-eb24-4b07-b562-79b16f8596d0_46\", \"run_number\": 2059, \"metric\": null, \"status\": \"Completed\", \"run_type\": \"azureml.scriptrun\", \"training_percent\": \"100\", \"start_time\": \"2021-01-25T22:22:44.994442Z\", \"end_time\": \"2021-01-25T22:24:16.969102Z\", \"created_time\": \"2021-01-25T22:22:29.745924Z\", \"created_time_dt\": \"2021-01-25T22:22:29.745924Z\", \"duration\": \"0:01:47\", \"iteration\": \"46\", \"goal\": \"r2_score_max\", \"run_name\": \"StandardScalerWrapper, ExtremeRandomTrees\", \"run_properties\": \"<azureml.automl.runtime.shared.model_wrappers.StandardScalerWrapper object at 0x7f6d3a8c74e0\", \"primary_metric\": 0.97581282, \"best_metric\": 0.99721502}, {\"run_id\": \"AutoML_1cf7d1e4-eb24-4b07-b562-79b16f8596d0_47\", \"run_number\": 2060, \"metric\": null, \"status\": \"Completed\", \"run_type\": \"azureml.scriptrun\", \"training_percent\": \"100\", \"start_time\": \"2021-01-25T22:23:23.937086Z\", \"end_time\": \"2021-01-25T22:24:24.378727Z\", \"created_time\": \"2021-01-25T22:23:07.999302Z\", \"created_time_dt\": \"2021-01-25T22:23:07.999302Z\", \"duration\": \"0:01:16\", \"iteration\": \"47\", \"goal\": \"r2_score_max\", \"run_name\": \"StandardScalerWrapper, ElasticNet\", \"run_properties\": \"<azureml.automl.runtime.shared.model_wrappers.StandardScalerWrapper object at 0x7fe8f852b7b8\", \"primary_metric\": 0.99364051, \"best_metric\": 0.99721502}, {\"run_id\": \"AutoML_1cf7d1e4-eb24-4b07-b562-79b16f8596d0_48\", \"run_number\": 2061, \"metric\": null, \"status\": \"Completed\", \"run_type\": \"azureml.scriptrun\", \"training_percent\": \"100\", \"start_time\": \"2021-01-25T22:23:47.272443Z\", \"end_time\": \"2021-01-25T22:24:37.2458Z\", \"created_time\": \"2021-01-25T22:23:31.651609Z\", \"created_time_dt\": \"2021-01-25T22:23:31.651609Z\", \"duration\": \"0:01:05\", \"iteration\": \"48\", \"goal\": \"r2_score_max\", \"run_name\": \"RobustScaler, ElasticNet\", \"run_properties\": \"copy=True, quantile_range=[25, 75], with_centering=False,\\n             with_scaling=False\", \"primary_metric\": 0.99195558, \"best_metric\": 0.99721502}, {\"run_id\": \"AutoML_1cf7d1e4-eb24-4b07-b562-79b16f8596d0_49\", \"run_number\": 2062, \"metric\": null, \"status\": \"Completed\", \"run_type\": \"azureml.scriptrun\", \"training_percent\": \"100\", \"start_time\": \"2021-01-25T22:23:50.476385Z\", \"end_time\": \"2021-01-25T22:24:41.107149Z\", \"created_time\": \"2021-01-25T22:23:38.006428Z\", \"created_time_dt\": \"2021-01-25T22:23:38.006428Z\", \"duration\": \"0:01:03\", \"iteration\": \"49\", \"goal\": \"r2_score_max\", \"run_name\": \"MaxAbsScaler, SGD\", \"run_properties\": \"copy=True\", \"primary_metric\": 0.75260824, \"best_metric\": 0.99721502}, {\"run_id\": \"AutoML_1cf7d1e4-eb24-4b07-b562-79b16f8596d0_50\", \"run_number\": 2063, \"metric\": null, \"status\": \"Completed\", \"run_type\": \"azureml.scriptrun\", \"training_percent\": \"100\", \"start_time\": \"2021-01-25T22:24:35.661524Z\", \"end_time\": \"2021-01-25T22:25:37.291575Z\", \"created_time\": \"2021-01-25T22:24:20.834998Z\", \"created_time_dt\": \"2021-01-25T22:24:20.834998Z\", \"duration\": \"0:01:16\", \"iteration\": \"50\", \"goal\": \"r2_score_max\", \"run_name\": \"StandardScalerWrapper, XGBoostRegressor\", \"run_properties\": \"<azureml.automl.runtime.shared.model_wrappers.StandardScalerWrapper object at 0x7f666c076208\", \"primary_metric\": 0.99703732, \"best_metric\": 0.99721502}, {\"run_id\": \"AutoML_1cf7d1e4-eb24-4b07-b562-79b16f8596d0_51\", \"run_number\": 2064, \"metric\": null, \"status\": \"Completed\", \"run_type\": \"azureml.scriptrun\", \"training_percent\": \"100\", \"start_time\": \"2021-01-25T22:24:45.081645Z\", \"end_time\": \"2021-01-25T22:25:35.780695Z\", \"created_time\": \"2021-01-25T22:24:27.229343Z\", \"created_time_dt\": \"2021-01-25T22:24:27.229343Z\", \"duration\": \"0:01:08\", \"iteration\": \"51\", \"goal\": \"r2_score_max\", \"run_name\": \"RobustScaler, LassoLars\", \"run_properties\": \"copy=True, quantile_range=[10, 90], with_centering=True,\\n             with_scaling=True\", \"primary_metric\": 0.99363867, \"best_metric\": 0.99721502}, {\"run_id\": \"AutoML_1cf7d1e4-eb24-4b07-b562-79b16f8596d0_52\", \"run_number\": 2065, \"metric\": null, \"status\": \"Completed\", \"run_type\": \"azureml.scriptrun\", \"training_percent\": \"100\", \"start_time\": \"2021-01-25T22:24:55.134838Z\", \"end_time\": \"2021-01-25T22:25:54.732488Z\", \"created_time\": \"2021-01-25T22:24:40.141564Z\", \"created_time_dt\": \"2021-01-25T22:24:40.141564Z\", \"duration\": \"0:01:14\", \"iteration\": \"52\", \"goal\": \"r2_score_max\", \"run_name\": \"MaxAbsScaler, SGD\", \"run_properties\": \"copy=True\", \"primary_metric\": 0.98861582, \"best_metric\": 0.99721502}, {\"run_id\": \"AutoML_1cf7d1e4-eb24-4b07-b562-79b16f8596d0_53\", \"run_number\": 2066, \"metric\": null, \"status\": \"Completed\", \"run_type\": \"azureml.scriptrun\", \"training_percent\": \"100\", \"start_time\": \"2021-01-25T22:25:02.634478Z\", \"end_time\": \"2021-01-25T22:26:39.201294Z\", \"created_time\": \"2021-01-25T22:24:45.954926Z\", \"created_time_dt\": \"2021-01-25T22:24:45.954926Z\", \"duration\": \"0:01:53\", \"iteration\": \"53\", \"goal\": \"r2_score_max\", \"run_name\": \"RobustScaler, GradientBoosting\", \"run_properties\": \"copy=True, quantile_range=[10, 90], with_centering=True,\\n             with_scaling=False\", \"primary_metric\": 0.99314783, \"best_metric\": 0.99721502}, {\"run_id\": \"AutoML_1cf7d1e4-eb24-4b07-b562-79b16f8596d0_54\", \"run_number\": 2067, \"metric\": null, \"status\": \"Completed\", \"run_type\": \"azureml.scriptrun\", \"training_percent\": \"100\", \"start_time\": \"2021-01-25T22:25:57.470048Z\", \"end_time\": \"2021-01-25T22:26:57.658604Z\", \"created_time\": \"2021-01-25T22:25:38.667526Z\", \"created_time_dt\": \"2021-01-25T22:25:38.667526Z\", \"duration\": \"0:01:18\", \"iteration\": \"54\", \"goal\": \"r2_score_max\", \"run_name\": \"MaxAbsScaler, SGD\", \"run_properties\": \"copy=True\", \"primary_metric\": 0.98477874, \"best_metric\": 0.99721502}, {\"run_id\": \"AutoML_1cf7d1e4-eb24-4b07-b562-79b16f8596d0_55\", \"run_number\": 2068, \"metric\": null, \"status\": \"Completed\", \"run_type\": \"azureml.scriptrun\", \"training_percent\": \"100\", \"start_time\": \"2021-01-25T22:26:04.586572Z\", \"end_time\": \"2021-01-25T22:26:57.838863Z\", \"created_time\": \"2021-01-25T22:25:47.416739Z\", \"created_time_dt\": \"2021-01-25T22:25:47.416739Z\", \"duration\": \"0:01:10\", \"iteration\": \"55\", \"goal\": \"r2_score_max\", \"run_name\": \"StandardScalerWrapper, XGBoostRegressor\", \"run_properties\": \"<azureml.automl.runtime.shared.model_wrappers.StandardScalerWrapper object at 0x7fe29ce796a0\", \"primary_metric\": 0.99636354, \"best_metric\": 0.99721502}, {\"run_id\": \"AutoML_1cf7d1e4-eb24-4b07-b562-79b16f8596d0_56\", \"run_number\": 2069, \"metric\": null, \"status\": \"Completed\", \"run_type\": \"azureml.scriptrun\", \"training_percent\": \"100\", \"start_time\": \"2021-01-25T22:26:13.109146Z\", \"end_time\": \"2021-01-25T22:27:12.553977Z\", \"created_time\": \"2021-01-25T22:25:57.70695Z\", \"created_time_dt\": \"2021-01-25T22:25:57.70695Z\", \"duration\": \"0:01:14\", \"iteration\": \"56\", \"goal\": \"r2_score_max\", \"run_name\": \"RobustScaler, DecisionTree\", \"run_properties\": \"copy=True, quantile_range=[25, 75], with_centering=False,\\n             with_scaling=True\", \"primary_metric\": 0.95854259, \"best_metric\": 0.99721502}, {\"run_id\": \"AutoML_1cf7d1e4-eb24-4b07-b562-79b16f8596d0_57\", \"run_number\": 2070, \"metric\": null, \"status\": \"Completed\", \"run_type\": \"azureml.scriptrun\", \"training_percent\": \"100\", \"start_time\": \"2021-01-25T22:26:57.566975Z\", \"end_time\": \"2021-01-25T22:27:49.88128Z\", \"created_time\": \"2021-01-25T22:26:41.948214Z\", \"created_time_dt\": \"2021-01-25T22:26:41.948214Z\", \"duration\": \"0:01:07\", \"iteration\": \"57\", \"goal\": \"r2_score_max\", \"run_name\": \"StandardScalerWrapper, LightGBM\", \"run_properties\": \"<azureml.automl.runtime.shared.model_wrappers.StandardScalerWrapper object at 0x7f3fa06e3b70\", \"primary_metric\": 0.99058579, \"best_metric\": 0.99721502}, {\"run_id\": \"AutoML_1cf7d1e4-eb24-4b07-b562-79b16f8596d0_58\", \"run_number\": 2071, \"metric\": null, \"status\": \"Completed\", \"run_type\": \"azureml.scriptrun\", \"training_percent\": \"100\", \"start_time\": \"2021-01-25T22:27:16.653173Z\", \"end_time\": \"2021-01-25T22:28:12.638769Z\", \"created_time\": \"2021-01-25T22:27:00.584208Z\", \"created_time_dt\": \"2021-01-25T22:27:00.584208Z\", \"duration\": \"0:01:12\", \"iteration\": \"58\", \"goal\": \"r2_score_max\", \"run_name\": \"MaxAbsScaler, DecisionTree\", \"run_properties\": \"copy=True\", \"primary_metric\": 0.94762462, \"best_metric\": 0.99721502}, {\"run_id\": \"AutoML_1cf7d1e4-eb24-4b07-b562-79b16f8596d0_59\", \"run_number\": 2072, \"metric\": null, \"status\": \"Completed\", \"run_type\": \"azureml.scriptrun\", \"training_percent\": \"100\", \"start_time\": \"2021-01-25T22:27:17.194738Z\", \"end_time\": \"2021-01-25T22:28:22.89053Z\", \"created_time\": \"2021-01-25T22:27:00.861226Z\", \"created_time_dt\": \"2021-01-25T22:27:00.861226Z\", \"duration\": \"0:01:22\", \"iteration\": \"59\", \"goal\": \"r2_score_max\", \"run_name\": \"MinMaxScaler, LightGBM\", \"run_properties\": \"copy=True, feature_range=(0, 1\", \"primary_metric\": 0.99234734, \"best_metric\": 0.99721502}, {\"run_id\": \"AutoML_1cf7d1e4-eb24-4b07-b562-79b16f8596d0_60\", \"run_number\": 2073, \"metric\": null, \"status\": \"Completed\", \"run_type\": \"azureml.scriptrun\", \"training_percent\": \"100\", \"start_time\": \"2021-01-25T22:27:31.647725Z\", \"end_time\": \"2021-01-25T22:28:28.152587Z\", \"created_time\": \"2021-01-25T22:27:16.578192Z\", \"created_time_dt\": \"2021-01-25T22:27:16.578192Z\", \"duration\": \"0:01:11\", \"iteration\": \"60\", \"goal\": \"r2_score_max\", \"run_name\": \"StandardScalerWrapper, XGBoostRegressor\", \"run_properties\": \"<azureml.automl.runtime.shared.model_wrappers.StandardScalerWrapper object at 0x7f3695a284e0\", \"primary_metric\": 0.99668627, \"best_metric\": 0.99721502}, {\"run_id\": \"AutoML_1cf7d1e4-eb24-4b07-b562-79b16f8596d0_61\", \"run_number\": 2074, \"metric\": null, \"status\": \"Completed\", \"run_type\": \"azureml.scriptrun\", \"training_percent\": \"100\", \"start_time\": \"2021-01-25T22:28:08.622684Z\", \"end_time\": \"2021-01-25T22:29:06.228743Z\", \"created_time\": \"2021-01-25T22:27:52.67447Z\", \"created_time_dt\": \"2021-01-25T22:27:52.67447Z\", \"duration\": \"0:01:13\", \"iteration\": \"61\", \"goal\": \"r2_score_max\", \"run_name\": \"MaxAbsScaler, RandomForest\", \"run_properties\": \"copy=True\", \"primary_metric\": 0.9791269, \"best_metric\": 0.99721502}, {\"run_id\": \"AutoML_1cf7d1e4-eb24-4b07-b562-79b16f8596d0_62\", \"run_number\": 2075, \"metric\": null, \"status\": \"Completed\", \"run_type\": \"azureml.scriptrun\", \"training_percent\": \"100\", \"start_time\": \"2021-01-25T22:28:31.0983Z\", \"end_time\": \"2021-01-25T22:29:30.182695Z\", \"created_time\": \"2021-01-25T22:28:16.136183Z\", \"created_time_dt\": \"2021-01-25T22:28:16.136183Z\", \"duration\": \"0:01:14\", \"iteration\": \"62\", \"goal\": \"r2_score_max\", \"run_name\": \"StandardScalerWrapper, ExtremeRandomTrees\", \"run_properties\": \"<azureml.automl.runtime.shared.model_wrappers.StandardScalerWrapper object at 0x7f728705b978\", \"primary_metric\": 0.97746536, \"best_metric\": 0.99721502}, {\"run_id\": \"AutoML_1cf7d1e4-eb24-4b07-b562-79b16f8596d0_63\", \"run_number\": 2076, \"metric\": null, \"status\": \"Completed\", \"run_type\": \"azureml.scriptrun\", \"training_percent\": \"100\", \"start_time\": \"2021-01-25T22:28:40.703177Z\", \"end_time\": \"2021-01-25T22:29:30.929893Z\", \"created_time\": \"2021-01-25T22:28:25.700102Z\", \"created_time_dt\": \"2021-01-25T22:28:25.700102Z\", \"duration\": \"0:01:05\", \"iteration\": \"63\", \"goal\": \"r2_score_max\", \"run_name\": \"StandardScalerWrapper, RandomForest\", \"run_properties\": \"<azureml.automl.runtime.shared.model_wrappers.StandardScalerWrapper object at 0x7f8e90ccec50\", \"primary_metric\": 0.99156914, \"best_metric\": 0.99721502}, {\"run_id\": \"AutoML_1cf7d1e4-eb24-4b07-b562-79b16f8596d0_64\", \"run_number\": 2077, \"metric\": null, \"status\": \"Completed\", \"run_type\": \"azureml.scriptrun\", \"training_percent\": \"100\", \"start_time\": \"2021-01-25T22:28:47.149513Z\", \"end_time\": \"2021-01-25T22:29:40.037427Z\", \"created_time\": \"2021-01-25T22:28:31.779414Z\", \"created_time_dt\": \"2021-01-25T22:28:31.779414Z\", \"duration\": \"0:01:08\", \"iteration\": \"64\", \"goal\": \"r2_score_max\", \"run_name\": \"MaxAbsScaler, RandomForest\", \"run_properties\": \"copy=True\", \"primary_metric\": 0.96842729, \"best_metric\": 0.99721502}, {\"run_id\": \"AutoML_1cf7d1e4-eb24-4b07-b562-79b16f8596d0_65\", \"run_number\": 2078, \"metric\": null, \"status\": \"Completed\", \"run_type\": \"azureml.scriptrun\", \"training_percent\": \"100\", \"start_time\": \"2021-01-25T22:29:30.102376Z\", \"end_time\": \"2021-01-25T22:30:35.754108Z\", \"created_time\": \"2021-01-25T22:29:10.978872Z\", \"created_time_dt\": \"2021-01-25T22:29:10.978872Z\", \"duration\": \"0:01:24\", \"iteration\": \"65\", \"goal\": \"r2_score_max\", \"run_name\": \"StandardScalerWrapper, XGBoostRegressor\", \"run_properties\": \"<azureml.automl.runtime.shared.model_wrappers.StandardScalerWrapper object at 0x7fcda44cdfd0\", \"primary_metric\": 0.99447141, \"best_metric\": 0.99721502}, {\"run_id\": \"AutoML_1cf7d1e4-eb24-4b07-b562-79b16f8596d0_66\", \"run_number\": 2079, \"metric\": null, \"status\": \"Completed\", \"run_type\": \"azureml.scriptrun\", \"training_percent\": \"100\", \"start_time\": \"2021-01-25T22:29:47.41963Z\", \"end_time\": \"2021-01-25T22:30:46.699604Z\", \"created_time\": \"2021-01-25T22:29:33.344449Z\", \"created_time_dt\": \"2021-01-25T22:29:33.344449Z\", \"duration\": \"0:01:13\", \"iteration\": \"66\", \"goal\": \"r2_score_max\", \"run_name\": \"MaxAbsScaler, ElasticNet\", \"run_properties\": \"copy=True\", \"primary_metric\": 0.99258579, \"best_metric\": 0.99721502}, {\"run_id\": \"AutoML_1cf7d1e4-eb24-4b07-b562-79b16f8596d0_67\", \"run_number\": 2080, \"metric\": null, \"status\": \"Completed\", \"run_type\": \"azureml.scriptrun\", \"training_percent\": \"100\", \"start_time\": \"2021-01-25T22:29:46.883846Z\", \"end_time\": \"2021-01-25T22:30:46.540013Z\", \"created_time\": \"2021-01-25T22:29:33.613835Z\", \"created_time_dt\": \"2021-01-25T22:29:33.613835Z\", \"duration\": \"0:01:12\", \"iteration\": \"67\", \"goal\": \"r2_score_max\", \"run_name\": \"StandardScalerWrapper, ElasticNet\", \"run_properties\": \"<azureml.automl.runtime.shared.model_wrappers.StandardScalerWrapper object at 0x7fb58443b710\", \"primary_metric\": 0.9936518, \"best_metric\": 0.99721502}, {\"run_id\": \"AutoML_1cf7d1e4-eb24-4b07-b562-79b16f8596d0_68\", \"run_number\": 2081, \"metric\": null, \"status\": \"Completed\", \"run_type\": \"azureml.scriptrun\", \"training_percent\": \"100\", \"start_time\": \"2021-01-25T22:30:00.399921Z\", \"end_time\": \"2021-01-25T22:30:55.257977Z\", \"created_time\": \"2021-01-25T22:29:43.619332Z\", \"created_time_dt\": \"2021-01-25T22:29:43.619332Z\", \"duration\": \"0:01:11\", \"iteration\": \"68\", \"goal\": \"r2_score_max\", \"run_name\": \"StandardScalerWrapper, ElasticNet\", \"run_properties\": \"<azureml.automl.runtime.shared.model_wrappers.StandardScalerWrapper object at 0x7f6cbad91278\", \"primary_metric\": 0.99364685, \"best_metric\": 0.99721502}, {\"run_id\": \"AutoML_1cf7d1e4-eb24-4b07-b562-79b16f8596d0_69\", \"run_number\": 2082, \"metric\": null, \"status\": \"Completed\", \"run_type\": \"azureml.scriptrun\", \"training_percent\": \"100\", \"start_time\": \"2021-01-25T22:30:57.309936Z\", \"end_time\": \"2021-01-25T22:31:54.417567Z\", \"created_time\": \"2021-01-25T22:30:38.979027Z\", \"created_time_dt\": \"2021-01-25T22:30:38.979027Z\", \"duration\": \"0:01:15\", \"iteration\": \"69\", \"goal\": \"r2_score_max\", \"run_name\": \"StandardScalerWrapper, ElasticNet\", \"run_properties\": \"<azureml.automl.runtime.shared.model_wrappers.StandardScalerWrapper object at 0x7f4d7f00e358\", \"primary_metric\": 0.99364229, \"best_metric\": 0.99721502}, {\"run_id\": \"AutoML_1cf7d1e4-eb24-4b07-b562-79b16f8596d0_70\", \"run_number\": 2083, \"metric\": null, \"status\": \"Completed\", \"run_type\": \"azureml.scriptrun\", \"training_percent\": \"100\", \"start_time\": \"2021-01-25T22:31:09.264507Z\", \"end_time\": \"2021-01-25T22:32:50.824985Z\", \"created_time\": \"2021-01-25T22:30:51.539683Z\", \"created_time_dt\": \"2021-01-25T22:30:51.539683Z\", \"duration\": \"0:01:59\", \"iteration\": \"70\", \"goal\": \"r2_score_max\", \"run_name\": \"StandardScalerWrapper, XGBoostRegressor\", \"run_properties\": \"<azureml.automl.runtime.shared.model_wrappers.StandardScalerWrapper object at 0x7f697d491390\", \"primary_metric\": 0.97914568, \"best_metric\": 0.99721502}, {\"run_id\": \"AutoML_1cf7d1e4-eb24-4b07-b562-79b16f8596d0_71\", \"run_number\": 2084, \"metric\": null, \"status\": \"Completed\", \"run_type\": \"azureml.scriptrun\", \"training_percent\": \"100\", \"start_time\": \"2021-01-25T22:31:08.982271Z\", \"end_time\": \"2021-01-25T22:32:01.329896Z\", \"created_time\": \"2021-01-25T22:30:51.532984Z\", \"created_time_dt\": \"2021-01-25T22:30:51.532984Z\", \"duration\": \"0:01:09\", \"iteration\": \"71\", \"goal\": \"r2_score_max\", \"run_name\": \"StandardScalerWrapper, LassoLars\", \"run_properties\": \"<azureml.automl.runtime.shared.model_wrappers.StandardScalerWrapper object at 0x7fd35e5a07b8\", \"primary_metric\": 0.99364788, \"best_metric\": 0.99721502}, {\"run_id\": \"AutoML_1cf7d1e4-eb24-4b07-b562-79b16f8596d0_72\", \"run_number\": 2085, \"metric\": null, \"status\": \"Completed\", \"run_type\": \"azureml.scriptrun\", \"training_percent\": \"100\", \"start_time\": \"2021-01-25T22:31:18.427614Z\", \"end_time\": \"2021-01-25T22:32:44.655418Z\", \"created_time\": \"2021-01-25T22:31:00.580221Z\", \"created_time_dt\": \"2021-01-25T22:31:00.580221Z\", \"duration\": \"0:01:44\", \"iteration\": \"72\", \"goal\": \"r2_score_max\", \"run_name\": \"StandardScalerWrapper, ElasticNet\", \"run_properties\": \"<azureml.automl.runtime.shared.model_wrappers.StandardScalerWrapper object at 0x7f75749c2c18\", \"primary_metric\": 0.99364808, \"best_metric\": 0.99721502}, {\"run_id\": \"AutoML_1cf7d1e4-eb24-4b07-b562-79b16f8596d0_73\", \"run_number\": 2086, \"metric\": null, \"status\": \"Completed\", \"run_type\": \"azureml.scriptrun\", \"training_percent\": \"100\", \"start_time\": \"2021-01-25T22:32:35.783007Z\", \"end_time\": \"2021-01-25T22:33:06.154073Z\", \"created_time\": \"2021-01-25T22:31:58.101368Z\", \"created_time_dt\": \"2021-01-25T22:31:58.101368Z\", \"duration\": \"0:01:08\", \"iteration\": \"73\", \"goal\": \"r2_score_max\", \"run_name\": \"RobustScaler, ElasticNet\", \"run_properties\": \"copy=True, quantile_range=[25, 75], with_centering=True,\\n             with_scaling=False\", \"primary_metric\": 0.99199963, \"best_metric\": 0.99721502}, {\"run_id\": \"AutoML_1cf7d1e4-eb24-4b07-b562-79b16f8596d0_74\", \"run_number\": 2087, \"metric\": null, \"status\": \"Completed\", \"run_type\": \"azureml.scriptrun\", \"training_percent\": \"100\", \"start_time\": \"2021-01-25T22:32:25.132752Z\", \"end_time\": \"2021-01-25T22:33:42.162409Z\", \"created_time\": \"2021-01-25T22:32:06.956973Z\", \"created_time_dt\": \"2021-01-25T22:32:06.956973Z\", \"duration\": \"0:01:35\", \"iteration\": \"74\", \"goal\": \"r2_score_max\", \"run_name\": \"MaxAbsScaler, RandomForest\", \"run_properties\": \"copy=True\", \"primary_metric\": 0.98641142, \"best_metric\": 0.99721502}, {\"run_id\": \"AutoML_1cf7d1e4-eb24-4b07-b562-79b16f8596d0_75\", \"run_number\": 2088, \"metric\": null, \"status\": \"Completed\", \"run_type\": \"azureml.scriptrun\", \"training_percent\": \"100\", \"start_time\": \"2021-01-25T22:33:05.159378Z\", \"end_time\": \"2021-01-25T22:34:08.485023Z\", \"created_time\": \"2021-01-25T22:32:52.637695Z\", \"created_time_dt\": \"2021-01-25T22:32:52.637695Z\", \"duration\": \"0:01:15\", \"iteration\": \"75\", \"goal\": \"r2_score_max\", \"run_name\": \"StandardScalerWrapper, XGBoostRegressor\", \"run_properties\": \"<azureml.automl.runtime.shared.model_wrappers.StandardScalerWrapper object at 0x7f56f6a4fda0\", \"primary_metric\": 0.99437551, \"best_metric\": 0.99721502}, {\"run_id\": \"AutoML_1cf7d1e4-eb24-4b07-b562-79b16f8596d0_76\", \"run_number\": 2089, \"metric\": null, \"status\": \"Completed\", \"run_type\": \"azureml.scriptrun\", \"training_percent\": \"100\", \"start_time\": \"2021-01-25T22:33:10.331212Z\", \"end_time\": \"2021-01-25T22:34:07.105672Z\", \"created_time\": \"2021-01-25T22:32:58.872592Z\", \"created_time_dt\": \"2021-01-25T22:32:58.872592Z\", \"duration\": \"0:01:08\", \"iteration\": \"76\", \"goal\": \"r2_score_max\", \"run_name\": \"RobustScaler, ElasticNet\", \"run_properties\": \"copy=True, quantile_range=[25, 75], with_centering=True,\\n             with_scaling=False\", \"primary_metric\": 0.99195285, \"best_metric\": 0.99721502}, {\"run_id\": \"AutoML_1cf7d1e4-eb24-4b07-b562-79b16f8596d0_77\", \"run_number\": 2090, \"metric\": null, \"status\": \"Completed\", \"run_type\": \"azureml.scriptrun\", \"training_percent\": \"100\", \"start_time\": \"2021-01-25T22:33:23.986249Z\", \"end_time\": \"2021-01-25T22:34:54.521419Z\", \"created_time\": \"2021-01-25T22:33:08.918053Z\", \"created_time_dt\": \"2021-01-25T22:33:08.918053Z\", \"duration\": \"0:01:45\", \"iteration\": \"77\", \"goal\": \"r2_score_max\", \"run_name\": \"MinMaxScaler, GradientBoosting\", \"run_properties\": \"copy=True, feature_range=(0, 1\", \"primary_metric\": 0.99648534, \"best_metric\": 0.99721502}, {\"run_id\": \"AutoML_1cf7d1e4-eb24-4b07-b562-79b16f8596d0_78\", \"run_number\": 2091, \"metric\": null, \"status\": \"Completed\", \"run_type\": \"azureml.scriptrun\", \"training_percent\": \"100\", \"start_time\": \"2021-01-25T22:34:03.196708Z\", \"end_time\": \"2021-01-25T22:34:56.417747Z\", \"created_time\": \"2021-01-25T22:33:45.179453Z\", \"created_time_dt\": \"2021-01-25T22:33:45.179453Z\", \"duration\": \"0:01:11\", \"iteration\": \"78\", \"goal\": \"r2_score_max\", \"run_name\": \"MaxAbsScaler, ElasticNet\", \"run_properties\": \"copy=True\", \"primary_metric\": 0.99071392, \"best_metric\": 0.99721502}, {\"run_id\": \"AutoML_1cf7d1e4-eb24-4b07-b562-79b16f8596d0_79\", \"run_number\": 2092, \"metric\": null, \"status\": \"Completed\", \"run_type\": \"azureml.scriptrun\", \"training_percent\": \"100\", \"start_time\": \"2021-01-25T22:34:22.933908Z\", \"end_time\": \"2021-01-25T22:35:19.643762Z\", \"created_time\": \"2021-01-25T22:34:11.896064Z\", \"created_time_dt\": \"2021-01-25T22:34:11.896064Z\", \"duration\": \"0:01:07\", \"iteration\": \"79\", \"goal\": \"r2_score_max\", \"run_name\": \"StandardScalerWrapper, RandomForest\", \"run_properties\": \"<azureml.automl.runtime.shared.model_wrappers.StandardScalerWrapper object at 0x7feec8511860\", \"primary_metric\": 0.98759737, \"best_metric\": 0.99721502}, {\"run_id\": \"AutoML_1cf7d1e4-eb24-4b07-b562-79b16f8596d0_80\", \"run_number\": 2093, \"metric\": null, \"status\": \"Completed\", \"run_type\": \"azureml.scriptrun\", \"training_percent\": \"100\", \"start_time\": \"2021-01-25T22:34:30.555943Z\", \"end_time\": \"2021-01-25T22:36:08.400619Z\", \"created_time\": \"2021-01-25T22:34:19.547197Z\", \"created_time_dt\": \"2021-01-25T22:34:19.547197Z\", \"duration\": \"0:01:48\", \"iteration\": \"80\", \"goal\": \"r2_score_max\", \"run_name\": \"StandardScalerWrapper, XGBoostRegressor\", \"run_properties\": \"<azureml.automl.runtime.shared.model_wrappers.StandardScalerWrapper object at 0x7f87d5d94128\", \"primary_metric\": 0.99719763, \"best_metric\": 0.99721502}, {\"run_id\": \"AutoML_1cf7d1e4-eb24-4b07-b562-79b16f8596d0_81\", \"run_number\": 2094, \"metric\": null, \"status\": \"Completed\", \"run_type\": \"azureml.scriptrun\", \"training_percent\": \"100\", \"start_time\": \"2021-01-25T22:35:12.728263Z\", \"end_time\": \"2021-01-25T22:37:34.758126Z\", \"created_time\": \"2021-01-25T22:34:58.142953Z\", \"created_time_dt\": \"2021-01-25T22:34:58.142953Z\", \"duration\": \"0:02:36\", \"iteration\": \"81\", \"goal\": \"r2_score_max\", \"run_name\": \"MaxAbsScaler, RandomForest\", \"run_properties\": \"copy=True\", \"primary_metric\": 0.98929894, \"best_metric\": 0.99721502}, {\"run_id\": \"AutoML_1cf7d1e4-eb24-4b07-b562-79b16f8596d0_82\", \"run_number\": 2095, \"metric\": null, \"status\": \"Completed\", \"run_type\": \"azureml.scriptrun\", \"training_percent\": \"100\", \"start_time\": \"2021-01-25T22:35:19.79598Z\", \"end_time\": \"2021-01-25T22:36:20.50382Z\", \"created_time\": \"2021-01-25T22:35:03.292754Z\", \"created_time_dt\": \"2021-01-25T22:35:03.292754Z\", \"duration\": \"0:01:17\", \"iteration\": \"82\", \"goal\": \"r2_score_max\", \"run_name\": \"StandardScalerWrapper, LightGBM\", \"run_properties\": \"<azureml.automl.runtime.shared.model_wrappers.StandardScalerWrapper object at 0x7ffb643f8d30\", \"primary_metric\": 0.99303064, \"best_metric\": 0.99721502}, {\"run_id\": \"AutoML_1cf7d1e4-eb24-4b07-b562-79b16f8596d0_83\", \"run_number\": 2096, \"metric\": null, \"status\": \"Completed\", \"run_type\": \"azureml.scriptrun\", \"training_percent\": \"100\", \"start_time\": \"2021-01-25T22:35:37.152009Z\", \"end_time\": \"2021-01-25T22:36:41.896129Z\", \"created_time\": \"2021-01-25T22:35:22.33187Z\", \"created_time_dt\": \"2021-01-25T22:35:22.33187Z\", \"duration\": \"0:01:19\", \"iteration\": \"83\", \"goal\": \"r2_score_max\", \"run_name\": \"RobustScaler, RandomForest\", \"run_properties\": \"copy=True, quantile_range=[25, 75], with_centering=True,\\n             with_scaling=False\", \"primary_metric\": 0.99247648, \"best_metric\": 0.99721502}, {\"run_id\": \"AutoML_1cf7d1e4-eb24-4b07-b562-79b16f8596d0_84\", \"run_number\": 2097, \"metric\": null, \"status\": \"Completed\", \"run_type\": \"azureml.scriptrun\", \"training_percent\": \"100\", \"start_time\": \"2021-01-25T22:36:24.102585Z\", \"end_time\": \"2021-01-25T22:37:30.186791Z\", \"created_time\": \"2021-01-25T22:36:11.191209Z\", \"created_time_dt\": \"2021-01-25T22:36:11.191209Z\", \"duration\": \"0:01:18\", \"iteration\": \"84\", \"goal\": \"r2_score_max\", \"run_name\": \"StandardScalerWrapper, LightGBM\", \"run_properties\": \"<azureml.automl.runtime.shared.model_wrappers.StandardScalerWrapper object at 0x7f31a16c47b8\", \"primary_metric\": 0.98917495, \"best_metric\": 0.99721502}, {\"run_id\": \"AutoML_1cf7d1e4-eb24-4b07-b562-79b16f8596d0_85\", \"run_number\": 2098, \"metric\": null, \"status\": \"Completed\", \"run_type\": \"azureml.scriptrun\", \"training_percent\": \"100\", \"start_time\": \"2021-01-25T22:36:41.821801Z\", \"end_time\": \"2021-01-25T22:37:37.11588Z\", \"created_time\": \"2021-01-25T22:36:24.816741Z\", \"created_time_dt\": \"2021-01-25T22:36:24.816741Z\", \"duration\": \"0:01:12\", \"iteration\": \"85\", \"goal\": \"r2_score_max\", \"run_name\": \"StandardScalerWrapper, XGBoostRegressor\", \"run_properties\": \"<azureml.automl.runtime.shared.model_wrappers.StandardScalerWrapper object at 0x7fefc4487080\", \"primary_metric\": 0.99535923, \"best_metric\": 0.99721502}, {\"run_id\": \"AutoML_1cf7d1e4-eb24-4b07-b562-79b16f8596d0_86\", \"run_number\": 2099, \"metric\": null, \"status\": \"Completed\", \"run_type\": \"azureml.scriptrun\", \"training_percent\": \"100\", \"start_time\": \"2021-01-25T22:36:56.644679Z\", \"end_time\": \"2021-01-25T22:38:17.739684Z\", \"created_time\": \"2021-01-25T22:36:44.793425Z\", \"created_time_dt\": \"2021-01-25T22:36:44.793425Z\", \"duration\": \"0:01:32\", \"iteration\": \"86\", \"goal\": \"r2_score_max\", \"run_name\": \"RobustScaler, RandomForest\", \"run_properties\": \"copy=True, quantile_range=[25, 75], with_centering=False,\\n             with_scaling=True\", \"primary_metric\": 0.98615911, \"best_metric\": 0.99721502}, {\"run_id\": \"AutoML_1cf7d1e4-eb24-4b07-b562-79b16f8596d0_87\", \"run_number\": 2100, \"metric\": null, \"status\": \"Completed\", \"run_type\": \"azureml.scriptrun\", \"training_percent\": \"100\", \"start_time\": \"2021-01-25T22:37:52.923046Z\", \"end_time\": \"2021-01-25T22:39:05.639426Z\", \"created_time\": \"2021-01-25T22:37:33.193448Z\", \"created_time_dt\": \"2021-01-25T22:37:33.193448Z\", \"duration\": \"0:01:32\", \"iteration\": \"87\", \"goal\": \"r2_score_max\", \"run_name\": \"StandardScalerWrapper, RandomForest\", \"run_properties\": \"<azureml.automl.runtime.shared.model_wrappers.StandardScalerWrapper object at 0x7fa3cc18e550\", \"primary_metric\": 0.98342234, \"best_metric\": 0.99721502}, {\"run_id\": \"AutoML_1cf7d1e4-eb24-4b07-b562-79b16f8596d0_88\", \"run_number\": 2101, \"metric\": null, \"status\": \"Completed\", \"run_type\": \"azureml.scriptrun\", \"training_percent\": \"100\", \"start_time\": \"2021-01-25T22:37:53.620662Z\", \"end_time\": \"2021-01-25T22:39:09.854914Z\", \"created_time\": \"2021-01-25T22:37:39.219977Z\", \"created_time_dt\": \"2021-01-25T22:37:39.219977Z\", \"duration\": \"0:01:30\", \"iteration\": \"88\", \"goal\": \"r2_score_max\", \"run_name\": \"MinMaxScaler, LightGBM\", \"run_properties\": \"copy=True, feature_range=(0, 1\", \"primary_metric\": 0.99149644, \"best_metric\": 0.99721502}, {\"run_id\": \"AutoML_1cf7d1e4-eb24-4b07-b562-79b16f8596d0_89\", \"run_number\": 2102, \"metric\": null, \"status\": \"Completed\", \"run_type\": \"azureml.scriptrun\", \"training_percent\": \"100\", \"start_time\": \"2021-01-25T22:37:54.85371Z\", \"end_time\": \"2021-01-25T22:39:06.775636Z\", \"created_time\": \"2021-01-25T22:37:39.428484Z\", \"created_time_dt\": \"2021-01-25T22:37:39.428484Z\", \"duration\": \"0:01:27\", \"iteration\": \"89\", \"goal\": \"r2_score_max\", \"run_name\": \"RobustScaler, ElasticNet\", \"run_properties\": \"copy=True, quantile_range=[10, 90], with_centering=True,\\n             with_scaling=False\", \"primary_metric\": 0.99195285, \"best_metric\": 0.99721502}, {\"run_id\": \"AutoML_1cf7d1e4-eb24-4b07-b562-79b16f8596d0_90\", \"run_number\": 2103, \"metric\": null, \"status\": \"Completed\", \"run_type\": \"azureml.scriptrun\", \"training_percent\": \"100\", \"start_time\": \"2021-01-25T22:38:35.294092Z\", \"end_time\": \"2021-01-25T22:39:35.386672Z\", \"created_time\": \"2021-01-25T22:38:21.571441Z\", \"created_time_dt\": \"2021-01-25T22:38:21.571441Z\", \"duration\": \"0:01:13\", \"iteration\": \"90\", \"goal\": \"r2_score_max\", \"run_name\": \"StandardScalerWrapper, XGBoostRegressor\", \"run_properties\": \"<azureml.automl.runtime.shared.model_wrappers.StandardScalerWrapper object at 0x7f7633f78550\", \"primary_metric\": 0.9965985, \"best_metric\": 0.99721502}, {\"run_id\": \"AutoML_1cf7d1e4-eb24-4b07-b562-79b16f8596d0_91\", \"run_number\": 2104, \"metric\": null, \"status\": \"Completed\", \"run_type\": \"azureml.scriptrun\", \"training_percent\": \"100\", \"start_time\": \"2021-01-25T22:39:29.625711Z\", \"end_time\": \"2021-01-25T22:40:41.69139Z\", \"created_time\": \"2021-01-25T22:39:08.542647Z\", \"created_time_dt\": \"2021-01-25T22:39:08.542647Z\", \"duration\": \"0:01:33\", \"iteration\": \"91\", \"goal\": \"r2_score_max\", \"run_name\": \"RobustScaler, ElasticNet\", \"run_properties\": \"copy=True, quantile_range=[25, 75], with_centering=False,\\n             with_scaling=True\", \"primary_metric\": 0.99363747, \"best_metric\": 0.99721502}, {\"run_id\": \"AutoML_1cf7d1e4-eb24-4b07-b562-79b16f8596d0_92\", \"run_number\": 2105, \"metric\": null, \"status\": \"Completed\", \"run_type\": \"azureml.scriptrun\", \"training_percent\": \"100\", \"start_time\": \"2021-01-25T22:39:31.34678Z\", \"end_time\": \"2021-01-25T22:40:55.705603Z\", \"created_time\": \"2021-01-25T22:39:14.264833Z\", \"created_time_dt\": \"2021-01-25T22:39:14.264833Z\", \"duration\": \"0:01:41\", \"iteration\": \"92\", \"goal\": \"r2_score_max\", \"run_name\": \"MinMaxScaler, RandomForest\", \"run_properties\": \"copy=True, feature_range=(0, 1\", \"primary_metric\": 0.97261428, \"best_metric\": 0.99721502}, {\"run_id\": \"AutoML_1cf7d1e4-eb24-4b07-b562-79b16f8596d0_93\", \"run_number\": 2106, \"metric\": null, \"status\": \"Completed\", \"run_type\": \"azureml.scriptrun\", \"training_percent\": \"100\", \"start_time\": \"2021-01-25T22:39:32.319003Z\", \"end_time\": \"2021-01-25T22:40:35.011489Z\", \"created_time\": \"2021-01-25T22:39:14.281865Z\", \"created_time_dt\": \"2021-01-25T22:39:14.281865Z\", \"duration\": \"0:01:20\", \"iteration\": \"93\", \"goal\": \"r2_score_max\", \"run_name\": \"MinMaxScaler, ElasticNet\", \"run_properties\": \"copy=True, feature_range=(0, 1\", \"primary_metric\": 0.99348801, \"best_metric\": 0.99721502}, {\"run_id\": \"AutoML_1cf7d1e4-eb24-4b07-b562-79b16f8596d0_94\", \"run_number\": 2107, \"metric\": null, \"status\": \"Completed\", \"run_type\": \"azureml.scriptrun\", \"training_percent\": \"100\", \"start_time\": \"2021-01-25T22:39:53.456603Z\", \"end_time\": \"2021-01-25T22:40:50.507974Z\", \"created_time\": \"2021-01-25T22:39:38.358224Z\", \"created_time_dt\": \"2021-01-25T22:39:38.358224Z\", \"duration\": \"0:01:12\", \"iteration\": \"94\", \"goal\": \"r2_score_max\", \"run_name\": \"MinMaxScaler, DecisionTree\", \"run_properties\": \"copy=True, feature_range=(0, 1\", \"primary_metric\": 0.97610729, \"best_metric\": 0.99721502}, {\"run_id\": \"AutoML_1cf7d1e4-eb24-4b07-b562-79b16f8596d0_95\", \"run_number\": 2108, \"metric\": null, \"status\": \"Completed\", \"run_type\": \"azureml.scriptrun\", \"training_percent\": \"100\", \"start_time\": \"2021-01-25T22:40:54.129815Z\", \"end_time\": \"2021-01-25T22:41:43.343724Z\", \"created_time\": \"2021-01-25T22:40:39.370083Z\", \"created_time_dt\": \"2021-01-25T22:40:39.370083Z\", \"duration\": \"0:01:03\", \"iteration\": \"95\", \"goal\": \"r2_score_max\", \"run_name\": \"StandardScalerWrapper, XGBoostRegressor\", \"run_properties\": \"<azureml.automl.runtime.shared.model_wrappers.StandardScalerWrapper object at 0x7f05146c1588\", \"primary_metric\": 0.99349433, \"best_metric\": 0.99721502}, {\"run_id\": \"AutoML_1cf7d1e4-eb24-4b07-b562-79b16f8596d0_96\", \"run_number\": 2109, \"metric\": null, \"status\": \"Completed\", \"run_type\": \"azureml.scriptrun\", \"training_percent\": \"100\", \"start_time\": \"2021-01-25T22:40:58.194731Z\", \"end_time\": \"2021-01-25T22:41:49.086971Z\", \"created_time\": \"2021-01-25T22:40:45.90448Z\", \"created_time_dt\": \"2021-01-25T22:40:45.90448Z\", \"duration\": \"0:01:03\", \"iteration\": \"96\", \"goal\": \"r2_score_max\", \"run_name\": \"StandardScalerWrapper, RandomForest\", \"run_properties\": \"<azureml.automl.runtime.shared.model_wrappers.StandardScalerWrapper object at 0x7f34510a85f8\", \"primary_metric\": 0.9893136, \"best_metric\": 0.99721502}, {\"run_id\": \"AutoML_1cf7d1e4-eb24-4b07-b562-79b16f8596d0_97\", \"run_number\": 2110, \"metric\": null, \"status\": \"Completed\", \"run_type\": \"azureml.scriptrun\", \"training_percent\": \"100\", \"start_time\": \"2021-01-25T22:41:06.495683Z\", \"end_time\": \"2021-01-25T22:42:39.854211Z\", \"created_time\": \"2021-01-25T22:40:53.776618Z\", \"created_time_dt\": \"2021-01-25T22:40:53.776618Z\", \"duration\": \"0:01:46\", \"iteration\": \"97\", \"goal\": \"r2_score_max\", \"run_name\": \"MaxAbsScaler, RandomForest\", \"run_properties\": \"copy=True\", \"primary_metric\": 0.98067022, \"best_metric\": 0.99721502}, {\"run_id\": \"AutoML_1cf7d1e4-eb24-4b07-b562-79b16f8596d0_98\", \"run_number\": 2111, \"metric\": null, \"status\": \"Completed\", \"run_type\": \"azureml.scriptrun\", \"training_percent\": \"100\", \"start_time\": \"2021-01-25T22:41:11.889096Z\", \"end_time\": \"2021-01-25T22:42:38.571296Z\", \"created_time\": \"2021-01-25T22:40:59.847235Z\", \"created_time_dt\": \"2021-01-25T22:40:59.847235Z\", \"duration\": \"0:01:38\", \"iteration\": \"98\", \"goal\": \"r2_score_max\", \"run_name\": \"RobustScaler, RandomForest\", \"run_properties\": \"copy=True, quantile_range=[25, 75], with_centering=False,\\n             with_scaling=True\", \"primary_metric\": 0.96172411, \"best_metric\": 0.99721502}, {\"run_id\": \"AutoML_1cf7d1e4-eb24-4b07-b562-79b16f8596d0_99\", \"run_number\": 2112, \"metric\": null, \"status\": \"Completed\", \"run_type\": \"azureml.scriptrun\", \"training_percent\": \"100\", \"start_time\": \"2021-01-25T22:42:08.782362Z\", \"end_time\": \"2021-01-25T22:43:01.658285Z\", \"created_time\": \"2021-01-25T22:41:47.375291Z\", \"created_time_dt\": \"2021-01-25T22:41:47.375291Z\", \"duration\": \"0:01:14\", \"iteration\": \"99\", \"goal\": \"r2_score_max\", \"run_name\": \"StandardScalerWrapper, ElasticNet\", \"run_properties\": \"<azureml.automl.runtime.shared.model_wrappers.StandardScalerWrapper object at 0x7f21c45f15f8\", \"primary_metric\": 0.99364229, \"best_metric\": 0.99721502}, {\"run_id\": \"AutoML_1cf7d1e4-eb24-4b07-b562-79b16f8596d0_100\", \"run_number\": 2113, \"metric\": null, \"status\": \"Completed\", \"run_type\": \"azureml.scriptrun\", \"training_percent\": \"100\", \"start_time\": \"2021-01-25T22:42:07.462112Z\", \"end_time\": \"2021-01-25T22:43:04.460335Z\", \"created_time\": \"2021-01-25T22:41:54.678539Z\", \"created_time_dt\": \"2021-01-25T22:41:54.678539Z\", \"duration\": \"0:01:09\", \"iteration\": \"100\", \"goal\": \"r2_score_max\", \"run_name\": \"StandardScalerWrapper, XGBoostRegressor\", \"run_properties\": \"<azureml.automl.runtime.shared.model_wrappers.StandardScalerWrapper object at 0x7fd83e1de080\", \"primary_metric\": 0.9951022, \"best_metric\": 0.99721502}, {\"run_id\": \"AutoML_1cf7d1e4-eb24-4b07-b562-79b16f8596d0_101\", \"run_number\": 2114, \"metric\": null, \"status\": \"Canceled\", \"run_type\": \"azureml.scriptrun\", \"training_percent\": \"100\", \"start_time\": \"2021-01-25T22:42:56.373988Z\", \"end_time\": \"2021-01-25T22:43:21.442893Z\", \"created_time\": \"2021-01-25T22:42:41.228195Z\", \"created_time_dt\": \"2021-01-25T22:42:41.228195Z\", \"duration\": \"0:00:40\", \"iteration\": \"101\", \"goal\": null, \"run_name\": \"Canceled\", \"run_properties\": null}, {\"run_id\": \"AutoML_1cf7d1e4-eb24-4b07-b562-79b16f8596d0_102\", \"run_number\": 2115, \"metric\": null, \"status\": \"Canceled\", \"run_type\": \"azureml.scriptrun\", \"training_percent\": \"100\", \"start_time\": \"2021-01-25T22:43:00.019462Z\", \"end_time\": \"2021-01-25T22:43:20.762155Z\", \"created_time\": \"2021-01-25T22:42:47.365995Z\", \"created_time_dt\": \"2021-01-25T22:42:47.365995Z\", \"duration\": \"0:00:33\", \"iteration\": \"102\", \"goal\": null, \"run_name\": \"Canceled\", \"run_properties\": null}, {\"run_id\": \"AutoML_1cf7d1e4-eb24-4b07-b562-79b16f8596d0_103\", \"run_number\": 2116, \"metric\": null, \"status\": \"Canceled\", \"run_type\": \"azureml.scriptrun\", \"training_percent\": \"100\", \"start_time\": \"2021-01-25T22:43:07.407651Z\", \"end_time\": \"2021-01-25T22:43:27.785606Z\", \"created_time\": \"2021-01-25T22:43:07.407651Z\", \"created_time_dt\": \"2021-01-25T22:43:07.407651Z\", \"duration\": \"0:00:20\", \"iteration\": \"103\", \"goal\": null, \"run_name\": \"Canceled\", \"run_properties\": null}, {\"run_id\": \"AutoML_1cf7d1e4-eb24-4b07-b562-79b16f8596d0_104\", \"run_number\": 2117, \"metric\": null, \"status\": \"Completed\", \"run_type\": \"azureml.scriptrun\", \"training_percent\": \"100\", \"start_time\": \"2021-01-25T22:43:43.7108Z\", \"end_time\": \"2021-01-25T22:45:43.52164Z\", \"created_time\": \"2021-01-25T22:43:29.593988Z\", \"created_time_dt\": \"2021-01-25T22:43:29.593988Z\", \"duration\": \"0:02:13\", \"iteration\": \"104\", \"goal\": \"r2_score_max\", \"run_name\": \"VotingEnsemble\", \"run_properties\": \"estimators=[('4',\\n                                          Pipeline(memory=None,\\n                                                   steps=[('standardscalerwrapper',\\n                                                           <azureml.automl.runtime.shared.model_wrappers.StandardScalerWrapper object at 0x7f14a44b85c0>\", \"primary_metric\": 0.99787264, \"best_metric\": 0.99787264}, {\"run_id\": \"AutoML_1cf7d1e4-eb24-4b07-b562-79b16f8596d0_105\", \"run_number\": 2118, \"metric\": null, \"status\": \"Completed\", \"run_type\": \"azureml.scriptrun\", \"training_percent\": \"100\", \"start_time\": \"2021-01-25T22:43:46.976124Z\", \"end_time\": \"2021-01-25T22:45:56.750637Z\", \"created_time\": \"2021-01-25T22:43:30.037388Z\", \"created_time_dt\": \"2021-01-25T22:43:30.037388Z\", \"duration\": \"0:02:26\", \"iteration\": \"105\", \"goal\": \"r2_score_max\", \"run_name\": \"StackEnsemble\", \"run_properties\": \"base_learners=[('4',\\n                                       Pipeline(memory=None,\\n                                                steps=[('standardscalerwrapper',\\n                                                        <azureml.automl.runtime.shared.model_wrappers.StandardScalerWrapper object at 0x7f916c04b080>\", \"primary_metric\": 0.99785481, \"best_metric\": 0.99787264}], \"children_metrics\": {\"categories\": [0], \"series\": {\"explained_variance\": [{\"categories\": [\"0\", \"1\", \"2\", \"3\", \"4\", \"5\", \"6\", \"7\", \"8\", \"9\", \"10\", \"11\", \"12\", \"13\", \"14\", \"15\", \"16\", \"17\", \"18\", \"19\", \"20\", \"21\", \"22\", \"23\", \"24\", \"25\", \"26\", \"27\", \"28\", \"29\", \"30\", \"31\", \"32\", \"33\", \"34\", \"35\", \"36\", \"37\", \"38\", \"39\", \"40\", \"41\", \"42\", \"43\", \"44\", \"45\", \"46\", \"47\", \"48\", \"49\", \"50\", \"51\", \"52\", \"53\", \"54\", \"55\", \"56\", \"57\", \"58\", \"59\", \"60\", \"61\", \"62\", \"63\", \"64\", \"65\", \"66\", \"67\", \"68\", \"69\", \"70\", \"71\", \"72\", \"73\", \"74\", \"75\", \"76\", \"77\", \"78\", \"79\", \"80\", \"81\", \"82\", \"83\", \"84\", \"85\", \"86\", \"87\", \"88\", \"89\", \"90\", \"91\", \"92\", \"93\", \"94\", \"95\", \"96\", \"97\", \"98\", \"99\", \"100\", \"104\", \"105\"], \"mode\": \"markers\", \"name\": \"explained_variance\", \"stepped\": false, \"type\": \"scatter\", \"data\": [0.9966171363593362, 0.9967549438053497, 0.9873536464579997, 0.9864655174025021, 0.997215877640406, 0.9931920683266023, 0.973911196088601, 0.9971928102212142, 0.9931436741147471, 0.9893694333855096, 0.9933544448273118, 0.9899379734592278, 0.9854026533015983, 0.9936430638150565, 0.992554926836381, 0.8940408708461032, 0.9920557871222697, 0.9919652535425723, 0.8854951789016862, 0.962072674471361, 0.9920068032530981, 0.9119353640466716, 0.9923954706271516, 0.9944103055112573, 0.9961850156103661, 0.8647927558777581, 0.8948784317984991, 0.9424928984562883, 0.9877893509266112, 0.9862291090199653, 0.9862363418890302, 0.9932664591422272, 0.9936366288255668, 0.982949027815534, 0.8370202843610747, 0.9782885351790053, 0.948315275400507, 0.9936612204629055, 0.991959803769714, 0.9936593303156297, 0.9462620171740482, 0.9920986239722572, 0.9920068032530981, 0.9446385465802153, 0.9919612826442502, 0.9933846151920762, 0.9758179378375743, 0.9936450843110872, 0.9919627171628361, 0.7543045124612728, 0.9970380953932597, 0.9936430638150565, 0.9886310069813226, 0.9931501597414534, 0.9847864734269223, 0.9963647668121075, 0.958555707755235, 0.9905884996995887, 0.9476433243445795, 0.9923490149832643, 0.9966881174548053, 0.97912873301413, 0.9774682492031234, 0.9915700300825588, 0.9684364587261056, 0.9951347162735468, 0.9925901418825728, 0.99365625548395, 0.9936513674227986, 0.9936468547443846, 0.9791491605217217, 0.9936520837853761, 0.9936525865383184, 0.9920068032530981, 0.9864122976142395, 0.9943761950063387, 0.9919600225056165, 0.996487010548762, 0.9907224107317999, 0.9875978324140181, 0.997198840062301, 0.989300757042587, 0.9930324575399258, 0.992476969460845, 0.9891784050840111, 0.9959035051525191, 0.9861599378536078, 0.9834246854998296, 0.9914993021961075, 0.9919600225056165, 0.9965994921306797, 0.9936420676505154, 0.9726247230604157, 0.9934927704806706, 0.9761084111172217, 0.9940294359533893, 0.9893154599707783, 0.9806750606588345, 0.9617409005617078, 0.9936468547443846, 0.9951038627298437, 0.9978734918257425, 0.9978566274559864]}, {\"categories\": [\"0\", \"1\", \"2\", \"3\", \"4\", \"5\", \"6\", \"7\", \"8\", \"9\", \"10\", \"11\", \"12\", \"13\", \"14\", \"15\", \"16\", \"17\", \"18\", \"19\", \"20\", \"21\", \"22\", \"23\", \"24\", \"25\", \"26\", \"27\", \"28\", \"29\", \"30\", \"31\", \"32\", \"33\", \"34\", \"35\", \"36\", \"37\", \"38\", \"39\", \"40\", \"41\", \"42\", \"43\", \"44\", \"45\", \"46\", \"47\", \"48\", \"49\", \"50\", \"51\", \"52\", \"53\", \"54\", \"55\", \"56\", \"57\", \"58\", \"59\", \"60\", \"61\", \"62\", \"63\", \"64\", \"65\", \"66\", \"67\", \"68\", \"69\", \"70\", \"71\", \"72\", \"73\", \"74\", \"75\", \"76\", \"77\", \"78\", \"79\", \"80\", \"81\", \"82\", \"83\", \"84\", \"85\", \"86\", \"87\", \"88\", \"89\", \"90\", \"91\", \"92\", \"93\", \"94\", \"95\", \"96\", \"97\", \"98\", \"99\", \"100\", \"104\", \"105\"], \"mode\": \"lines\", \"name\": \"explained_variance_max\", \"stepped\": true, \"type\": \"scatter\", \"data\": [0.9966171363593362, 0.9967549438053497, 0.9967549438053497, 0.9967549438053497, 0.997215877640406, 0.997215877640406, 0.997215877640406, 0.997215877640406, 0.997215877640406, 0.997215877640406, 0.997215877640406, 0.997215877640406, 0.997215877640406, 0.997215877640406, 0.997215877640406, 0.997215877640406, 0.997215877640406, 0.997215877640406, 0.997215877640406, 0.997215877640406, 0.997215877640406, 0.997215877640406, 0.997215877640406, 0.997215877640406, 0.997215877640406, 0.997215877640406, 0.997215877640406, 0.997215877640406, 0.997215877640406, 0.997215877640406, 0.997215877640406, 0.997215877640406, 0.997215877640406, 0.997215877640406, 0.997215877640406, 0.997215877640406, 0.997215877640406, 0.997215877640406, 0.997215877640406, 0.997215877640406, 0.997215877640406, 0.997215877640406, 0.997215877640406, 0.997215877640406, 0.997215877640406, 0.997215877640406, 0.997215877640406, 0.997215877640406, 0.997215877640406, 0.997215877640406, 0.997215877640406, 0.997215877640406, 0.997215877640406, 0.997215877640406, 0.997215877640406, 0.997215877640406, 0.997215877640406, 0.997215877640406, 0.997215877640406, 0.997215877640406, 0.997215877640406, 0.997215877640406, 0.997215877640406, 0.997215877640406, 0.997215877640406, 0.997215877640406, 0.997215877640406, 0.997215877640406, 0.997215877640406, 0.997215877640406, 0.997215877640406, 0.997215877640406, 0.997215877640406, 0.997215877640406, 0.997215877640406, 0.997215877640406, 0.997215877640406, 0.997215877640406, 0.997215877640406, 0.997215877640406, 0.997215877640406, 0.997215877640406, 0.997215877640406, 0.997215877640406, 0.997215877640406, 0.997215877640406, 0.997215877640406, 0.997215877640406, 0.997215877640406, 0.997215877640406, 0.997215877640406, 0.997215877640406, 0.997215877640406, 0.997215877640406, 0.997215877640406, 0.997215877640406, 0.997215877640406, 0.997215877640406, 0.997215877640406, 0.997215877640406, 0.997215877640406, 0.9978734918257425, 0.9978734918257425]}], \"normalized_mean_absolute_error\": [{\"categories\": [\"0\", \"1\", \"2\", \"3\", \"4\", \"5\", \"6\", \"7\", \"8\", \"9\", \"10\", \"11\", \"12\", \"13\", \"14\", \"15\", \"16\", \"17\", \"18\", \"19\", \"20\", \"21\", \"22\", \"23\", \"24\", \"25\", \"26\", \"27\", \"28\", \"29\", \"30\", \"31\", \"32\", \"33\", \"34\", \"35\", \"36\", \"37\", \"38\", \"39\", \"40\", \"41\", \"42\", \"43\", \"44\", \"45\", \"46\", \"47\", \"48\", \"49\", \"50\", \"51\", \"52\", \"53\", \"54\", \"55\", \"56\", \"57\", \"58\", \"59\", \"60\", \"61\", \"62\", \"63\", \"64\", \"65\", \"66\", \"67\", \"68\", \"69\", \"70\", \"71\", \"72\", \"73\", \"74\", \"75\", \"76\", \"77\", \"78\", \"79\", \"80\", \"81\", \"82\", \"83\", \"84\", \"85\", \"86\", \"87\", \"88\", \"89\", \"90\", \"91\", \"92\", \"93\", \"94\", \"95\", \"96\", \"97\", \"98\", \"99\", \"100\", \"104\", \"105\"], \"mode\": \"markers\", \"name\": \"normalized_mean_absolute_error\", \"stepped\": false, \"type\": \"scatter\", \"data\": [0.00505951708448682, 0.005591164553510125, 0.007960805515879162, 0.007661055220269847, 0.0048435548237906875, 0.007466784463846794, 0.011243138474534528, 0.005011571040360484, 0.005852302378001197, 0.009378324604690376, 0.005981982556572826, 0.007198099628068999, 0.04212593978355036, 0.00714175225375498, 0.00655093403208076, 0.024682824613492596, 0.006143507887308137, 0.00795020996306924, 0.02738330656392408, 0.015193892410882584, 0.007645832484063714, 0.021504617456325453, 0.007789352160513604, 0.0064940727522678765, 0.005814040188930929, 0.05026903866709027, 0.025059130737535535, 0.04441564334178031, 0.009266673828759875, 0.00788064846695514, 0.009917758149589112, 0.006630045791975128, 0.00619141673733484, 0.00939471825534798, 0.03960420760788772, 0.013419136449128484, 0.019517969634867006, 0.007117192837069297, 0.007663108072173414, 0.0071160093562189835, 0.018240044636600467, 0.007617250434984788, 0.007645832484063711, 0.01901727815373112, 0.007663476830439879, 0.007528040569576292, 0.010712893032735588, 0.007111913688954513, 0.007663813895830428, 0.04832451120369965, 0.005381941078546709, 0.007141752253754972, 0.0082447248449576, 0.006711757989138183, 0.009542824227584545, 0.0055475106297690644, 0.017231378348898777, 0.007906148136087617, 0.019750200564678275, 0.007234800712728133, 0.005202838881866862, 0.011738435756716728, 0.010110835850158232, 0.0069547630930839694, 0.014510524121065167, 0.006742425872403718, 0.007723646223637952, 0.007115626718424652, 0.007112996891981218, 0.007112136445825, 0.011771679117347842, 0.00712323739410009, 0.007113430020558281, 0.007645832484063714, 0.00852124316292547, 0.007017693821607328, 0.007663206702333191, 0.005210558535192093, 0.008532354648890565, 0.008380965549353657, 0.0050095819055515295, 0.007116666541305991, 0.006690220446616644, 0.006606800684703273, 0.008614891694131259, 0.006308008110614952, 0.0089293252905716, 0.00965672092669253, 0.006657318699850759, 0.007663206702333191, 0.005433319882280818, 0.0071149114468148705, 0.012052164007401724, 0.007276058751880463, 0.012529498116207414, 0.006982349268920464, 0.007175660715394043, 0.00940116887494976, 0.01283773765514453, 0.007112136445824996, 0.005871908787541337, 0.0045446443324167534, 0.004566315428620463]}, {\"categories\": [\"0\", \"1\", \"2\", \"3\", \"4\", \"5\", \"6\", \"7\", \"8\", \"9\", \"10\", \"11\", \"12\", \"13\", \"14\", \"15\", \"16\", \"17\", \"18\", \"19\", \"20\", \"21\", \"22\", \"23\", \"24\", \"25\", \"26\", \"27\", \"28\", \"29\", \"30\", \"31\", \"32\", \"33\", \"34\", \"35\", \"36\", \"37\", \"38\", \"39\", \"40\", \"41\", \"42\", \"43\", \"44\", \"45\", \"46\", \"47\", \"48\", \"49\", \"50\", \"51\", \"52\", \"53\", \"54\", \"55\", \"56\", \"57\", \"58\", \"59\", \"60\", \"61\", \"62\", \"63\", \"64\", \"65\", \"66\", \"67\", \"68\", \"69\", \"70\", \"71\", \"72\", \"73\", \"74\", \"75\", \"76\", \"77\", \"78\", \"79\", \"80\", \"81\", \"82\", \"83\", \"84\", \"85\", \"86\", \"87\", \"88\", \"89\", \"90\", \"91\", \"92\", \"93\", \"94\", \"95\", \"96\", \"97\", \"98\", \"99\", \"100\", \"104\", \"105\"], \"mode\": \"lines\", \"name\": \"normalized_mean_absolute_error_min\", \"stepped\": true, \"type\": \"scatter\", \"data\": [0.00505951708448682, 0.00505951708448682, 0.00505951708448682, 0.00505951708448682, 0.0048435548237906875, 0.0048435548237906875, 0.0048435548237906875, 0.0048435548237906875, 0.0048435548237906875, 0.0048435548237906875, 0.0048435548237906875, 0.0048435548237906875, 0.0048435548237906875, 0.0048435548237906875, 0.0048435548237906875, 0.0048435548237906875, 0.0048435548237906875, 0.0048435548237906875, 0.0048435548237906875, 0.0048435548237906875, 0.0048435548237906875, 0.0048435548237906875, 0.0048435548237906875, 0.0048435548237906875, 0.0048435548237906875, 0.0048435548237906875, 0.0048435548237906875, 0.0048435548237906875, 0.0048435548237906875, 0.0048435548237906875, 0.0048435548237906875, 0.0048435548237906875, 0.0048435548237906875, 0.0048435548237906875, 0.0048435548237906875, 0.0048435548237906875, 0.0048435548237906875, 0.0048435548237906875, 0.0048435548237906875, 0.0048435548237906875, 0.0048435548237906875, 0.0048435548237906875, 0.0048435548237906875, 0.0048435548237906875, 0.0048435548237906875, 0.0048435548237906875, 0.0048435548237906875, 0.0048435548237906875, 0.0048435548237906875, 0.0048435548237906875, 0.0048435548237906875, 0.0048435548237906875, 0.0048435548237906875, 0.0048435548237906875, 0.0048435548237906875, 0.0048435548237906875, 0.0048435548237906875, 0.0048435548237906875, 0.0048435548237906875, 0.0048435548237906875, 0.0048435548237906875, 0.0048435548237906875, 0.0048435548237906875, 0.0048435548237906875, 0.0048435548237906875, 0.0048435548237906875, 0.0048435548237906875, 0.0048435548237906875, 0.0048435548237906875, 0.0048435548237906875, 0.0048435548237906875, 0.0048435548237906875, 0.0048435548237906875, 0.0048435548237906875, 0.0048435548237906875, 0.0048435548237906875, 0.0048435548237906875, 0.0048435548237906875, 0.0048435548237906875, 0.0048435548237906875, 0.0048435548237906875, 0.0048435548237906875, 0.0048435548237906875, 0.0048435548237906875, 0.0048435548237906875, 0.0048435548237906875, 0.0048435548237906875, 0.0048435548237906875, 0.0048435548237906875, 0.0048435548237906875, 0.0048435548237906875, 0.0048435548237906875, 0.0048435548237906875, 0.0048435548237906875, 0.0048435548237906875, 0.0048435548237906875, 0.0048435548237906875, 0.0048435548237906875, 0.0048435548237906875, 0.0048435548237906875, 0.0048435548237906875, 0.0045446443324167534, 0.0045446443324167534]}], \"mean_absolute_error\": [{\"categories\": [\"0\", \"1\", \"2\", \"3\", \"4\", \"5\", \"6\", \"7\", \"8\", \"9\", \"10\", \"11\", \"12\", \"13\", \"14\", \"15\", \"16\", \"17\", \"18\", \"19\", \"20\", \"21\", \"22\", \"23\", \"24\", \"25\", \"26\", \"27\", \"28\", \"29\", \"30\", \"31\", \"32\", \"33\", \"34\", \"35\", \"36\", \"37\", \"38\", \"39\", \"40\", \"41\", \"42\", \"43\", \"44\", \"45\", \"46\", \"47\", \"48\", \"49\", \"50\", \"51\", \"52\", \"53\", \"54\", \"55\", \"56\", \"57\", \"58\", \"59\", \"60\", \"61\", \"62\", \"63\", \"64\", \"65\", \"66\", \"67\", \"68\", \"69\", \"70\", \"71\", \"72\", \"73\", \"74\", \"75\", \"76\", \"77\", \"78\", \"79\", \"80\", \"81\", \"82\", \"83\", \"84\", \"85\", \"86\", \"87\", \"88\", \"89\", \"90\", \"91\", \"92\", \"93\", \"94\", \"95\", \"96\", \"97\", \"98\", \"99\", \"100\", \"104\", \"105\"], \"mode\": \"markers\", \"name\": \"mean_absolute_error\", \"stepped\": false, \"type\": \"scatter\", \"data\": [0.03238090934071565, 0.035783453142464804, 0.050949155301626636, 0.04903075340972702, 0.030998750872260405, 0.047787420568619475, 0.07195608623702097, 0.0320740546583071, 0.03745473521920767, 0.06002127747001842, 0.03828468836206609, 0.046067837619641595, 0.2696060146147223, 0.04570721442403188, 0.04192597780531687, 0.15797007752635261, 0.03931845047877208, 0.050881343763643144, 0.1752531620091141, 0.09724091142964852, 0.04893332789800776, 0.13762955172048288, 0.04985185382728707, 0.04156206561451442, 0.03720985720915795, 0.32172184746937776, 0.16037843672022742, 0.28426011738739404, 0.0593067125040632, 0.050436150188512906, 0.06347365215737032, 0.042432293068640825, 0.03962506711894297, 0.06012619683422707, 0.25346692869048143, 0.08588247327442232, 0.12491500566314884, 0.045550034157243506, 0.049043891661909846, 0.04554245987980149, 0.116736285674243, 0.04875040278390264, 0.04893332789800774, 0.12171058018387915, 0.04904625171481523, 0.04817945964528827, 0.06856251540950777, 0.045516247609308884, 0.04904840893331475, 0.3092768717036778, 0.034444422902698946, 0.045707214424031826, 0.05276623900772865, 0.04295525113048437, 0.06107407505654109, 0.035504068030522015, 0.11028082143295216, 0.050599348070960753, 0.12640128361394096, 0.046302724561460055, 0.03329816884394792, 0.07512598884298706, 0.06470934944101268, 0.0445104837957374, 0.09286735437481708, 0.04315152558338379, 0.0494313358312829, 0.04554001099791777, 0.04552318010867979, 0.04551767325328001, 0.0753387463510262, 0.045588719322240574, 0.04552595213157301, 0.04893332789800776, 0.05453595624272301, 0.0449132404582869, 0.049044522894932434, 0.033347574625229394, 0.05460706975289962, 0.053638179515863416, 0.032061324195529796, 0.04554666586435835, 0.042817410858346526, 0.04228352438210095, 0.05513530684244006, 0.04037125190793569, 0.05714768185965824, 0.06180301393083221, 0.04260683967904486, 0.049044522894932434, 0.03477324724659724, 0.04553543325961518, 0.07713384964737104, 0.04656677601203497, 0.08018878794372745, 0.04468703532109097, 0.045924228578521874, 0.060167480799678465, 0.082161520992925, 0.04551767325327997, 0.03758021624026456, 0.029085723727467223, 0.029224418743170968]}, {\"categories\": [\"0\", \"1\", \"2\", \"3\", \"4\", \"5\", \"6\", \"7\", \"8\", \"9\", \"10\", \"11\", \"12\", \"13\", \"14\", \"15\", \"16\", \"17\", \"18\", \"19\", \"20\", \"21\", \"22\", \"23\", \"24\", \"25\", \"26\", \"27\", \"28\", \"29\", \"30\", \"31\", \"32\", \"33\", \"34\", \"35\", \"36\", \"37\", \"38\", \"39\", \"40\", \"41\", \"42\", \"43\", \"44\", \"45\", \"46\", \"47\", \"48\", \"49\", \"50\", \"51\", \"52\", \"53\", \"54\", \"55\", \"56\", \"57\", \"58\", \"59\", \"60\", \"61\", \"62\", \"63\", \"64\", \"65\", \"66\", \"67\", \"68\", \"69\", \"70\", \"71\", \"72\", \"73\", \"74\", \"75\", \"76\", \"77\", \"78\", \"79\", \"80\", \"81\", \"82\", \"83\", \"84\", \"85\", \"86\", \"87\", \"88\", \"89\", \"90\", \"91\", \"92\", \"93\", \"94\", \"95\", \"96\", \"97\", \"98\", \"99\", \"100\", \"104\", \"105\"], \"mode\": \"lines\", \"name\": \"mean_absolute_error_min\", \"stepped\": true, \"type\": \"scatter\", \"data\": [0.03238090934071565, 0.03238090934071565, 0.03238090934071565, 0.03238090934071565, 0.030998750872260405, 0.030998750872260405, 0.030998750872260405, 0.030998750872260405, 0.030998750872260405, 0.030998750872260405, 0.030998750872260405, 0.030998750872260405, 0.030998750872260405, 0.030998750872260405, 0.030998750872260405, 0.030998750872260405, 0.030998750872260405, 0.030998750872260405, 0.030998750872260405, 0.030998750872260405, 0.030998750872260405, 0.030998750872260405, 0.030998750872260405, 0.030998750872260405, 0.030998750872260405, 0.030998750872260405, 0.030998750872260405, 0.030998750872260405, 0.030998750872260405, 0.030998750872260405, 0.030998750872260405, 0.030998750872260405, 0.030998750872260405, 0.030998750872260405, 0.030998750872260405, 0.030998750872260405, 0.030998750872260405, 0.030998750872260405, 0.030998750872260405, 0.030998750872260405, 0.030998750872260405, 0.030998750872260405, 0.030998750872260405, 0.030998750872260405, 0.030998750872260405, 0.030998750872260405, 0.030998750872260405, 0.030998750872260405, 0.030998750872260405, 0.030998750872260405, 0.030998750872260405, 0.030998750872260405, 0.030998750872260405, 0.030998750872260405, 0.030998750872260405, 0.030998750872260405, 0.030998750872260405, 0.030998750872260405, 0.030998750872260405, 0.030998750872260405, 0.030998750872260405, 0.030998750872260405, 0.030998750872260405, 0.030998750872260405, 0.030998750872260405, 0.030998750872260405, 0.030998750872260405, 0.030998750872260405, 0.030998750872260405, 0.030998750872260405, 0.030998750872260405, 0.030998750872260405, 0.030998750872260405, 0.030998750872260405, 0.030998750872260405, 0.030998750872260405, 0.030998750872260405, 0.030998750872260405, 0.030998750872260405, 0.030998750872260405, 0.030998750872260405, 0.030998750872260405, 0.030998750872260405, 0.030998750872260405, 0.030998750872260405, 0.030998750872260405, 0.030998750872260405, 0.030998750872260405, 0.030998750872260405, 0.030998750872260405, 0.030998750872260405, 0.030998750872260405, 0.030998750872260405, 0.030998750872260405, 0.030998750872260405, 0.030998750872260405, 0.030998750872260405, 0.030998750872260405, 0.030998750872260405, 0.030998750872260405, 0.030998750872260405, 0.029085723727467223, 0.029085723727467223]}], \"root_mean_squared_error\": [{\"categories\": [\"0\", \"1\", \"2\", \"3\", \"4\", \"5\", \"6\", \"7\", \"8\", \"9\", \"10\", \"11\", \"12\", \"13\", \"14\", \"15\", \"16\", \"17\", \"18\", \"19\", \"20\", \"21\", \"22\", \"23\", \"24\", \"25\", \"26\", \"27\", \"28\", \"29\", \"30\", \"31\", \"32\", \"33\", \"34\", \"35\", \"36\", \"37\", \"38\", \"39\", \"40\", \"41\", \"42\", \"43\", \"44\", \"45\", \"46\", \"47\", \"48\", \"49\", \"50\", \"51\", \"52\", \"53\", \"54\", \"55\", \"56\", \"57\", \"58\", \"59\", \"60\", \"61\", \"62\", \"63\", \"64\", \"65\", \"66\", \"67\", \"68\", \"69\", \"70\", \"71\", \"72\", \"73\", \"74\", \"75\", \"76\", \"77\", \"78\", \"79\", \"80\", \"81\", \"82\", \"83\", \"84\", \"85\", \"86\", \"87\", \"88\", \"89\", \"90\", \"91\", \"92\", \"93\", \"94\", \"95\", \"96\", \"97\", \"98\", \"99\", \"100\", \"104\", \"105\"], \"mode\": \"markers\", \"name\": \"root_mean_squared_error\", \"stepped\": false, \"type\": \"scatter\", \"data\": [0.04676762225363066, 0.045771126733714314, 0.09033535088024554, 0.09351692294589348, 0.0424178508269513, 0.06633400960569001, 0.1298556212903427, 0.042561711707290416, 0.06656517715945037, 0.08291682782237937, 0.06552538792472135, 0.08061739728723726, 0.28573640209208184, 0.06411706807473555, 0.06926609948620317, 0.2615391854127828, 0.07163905584256114, 0.07206610681565483, 0.2720864127653828, 0.15659743475482388, 0.07187550689253845, 0.23865423170432665, 0.0701045070885868, 0.0600958679254515, 0.04965038726740306, 0.3973248940972096, 0.2604943147863345, 0.32768204743536067, 0.088835000646096, 0.09433741687703147, 0.09431623469860674, 0.06596403859706403, 0.06413933086138872, 0.10514393522206099, 0.32446677778666594, 0.11857268320822996, 0.18276307429473262, 0.06402598903949125, 0.07208967076417909, 0.0640349398828643, 0.18634049264227825, 0.07146399239288745, 0.07187550689253848, 0.1891855494553084, 0.07208359003155247, 0.06830978621914006, 0.12494424748222964, 0.06410990958796099, 0.07207768092382792, 0.39987897825328905, 0.043753232216882265, 0.0641170680747356, 0.08567082862537471, 0.06654819545395785, 0.09910274623848518, 0.04846964899010999, 0.1635773489587451, 0.07796572120816087, 0.18395980129360548, 0.07024264288685922, 0.04626855963785496, 0.11611139603616165, 0.12068555843543793, 0.07375876306561337, 0.14285396411709447, 0.059753467729648846, 0.0691998444720381, 0.06405088024625955, 0.06407708512562967, 0.06410071102858599, 0.11608229637514356, 0.0640701426815047, 0.06407062991200797, 0.07187550689253845, 0.09370483426248226, 0.06028907433591434, 0.07208878531619471, 0.04761895674626202, 0.07746244655422432, 0.08953019876617883, 0.042517900457100445, 0.08314877877941451, 0.06711174390962865, 0.06968307458786335, 0.08360007753066968, 0.05475371927985704, 0.09457411292935591, 0.10339672961852281, 0.07413569345905664, 0.07208878531619471, 0.04683686426670689, 0.0641255076617228, 0.13300841508603964, 0.0648658123796851, 0.12418532062124837, 0.06482624068149669, 0.08308889560412479, 0.11177624116235348, 0.15727824091580309, 0.06410071102858596, 0.056252776187847825, 0.037063558987341656, 0.03721184744843022]}, {\"categories\": [\"0\", \"1\", \"2\", \"3\", \"4\", \"5\", \"6\", \"7\", \"8\", \"9\", \"10\", \"11\", \"12\", \"13\", \"14\", \"15\", \"16\", \"17\", \"18\", \"19\", \"20\", \"21\", \"22\", \"23\", \"24\", \"25\", \"26\", \"27\", \"28\", \"29\", \"30\", \"31\", \"32\", \"33\", \"34\", \"35\", \"36\", \"37\", \"38\", \"39\", \"40\", \"41\", \"42\", \"43\", \"44\", \"45\", \"46\", \"47\", \"48\", \"49\", \"50\", \"51\", \"52\", \"53\", \"54\", \"55\", \"56\", \"57\", \"58\", \"59\", \"60\", \"61\", \"62\", \"63\", \"64\", \"65\", \"66\", \"67\", \"68\", \"69\", \"70\", \"71\", \"72\", \"73\", \"74\", \"75\", \"76\", \"77\", \"78\", \"79\", \"80\", \"81\", \"82\", \"83\", \"84\", \"85\", \"86\", \"87\", \"88\", \"89\", \"90\", \"91\", \"92\", \"93\", \"94\", \"95\", \"96\", \"97\", \"98\", \"99\", \"100\", \"104\", \"105\"], \"mode\": \"lines\", \"name\": \"root_mean_squared_error_min\", \"stepped\": true, \"type\": \"scatter\", \"data\": [0.04676762225363066, 0.045771126733714314, 0.045771126733714314, 0.045771126733714314, 0.0424178508269513, 0.0424178508269513, 0.0424178508269513, 0.0424178508269513, 0.0424178508269513, 0.0424178508269513, 0.0424178508269513, 0.0424178508269513, 0.0424178508269513, 0.0424178508269513, 0.0424178508269513, 0.0424178508269513, 0.0424178508269513, 0.0424178508269513, 0.0424178508269513, 0.0424178508269513, 0.0424178508269513, 0.0424178508269513, 0.0424178508269513, 0.0424178508269513, 0.0424178508269513, 0.0424178508269513, 0.0424178508269513, 0.0424178508269513, 0.0424178508269513, 0.0424178508269513, 0.0424178508269513, 0.0424178508269513, 0.0424178508269513, 0.0424178508269513, 0.0424178508269513, 0.0424178508269513, 0.0424178508269513, 0.0424178508269513, 0.0424178508269513, 0.0424178508269513, 0.0424178508269513, 0.0424178508269513, 0.0424178508269513, 0.0424178508269513, 0.0424178508269513, 0.0424178508269513, 0.0424178508269513, 0.0424178508269513, 0.0424178508269513, 0.0424178508269513, 0.0424178508269513, 0.0424178508269513, 0.0424178508269513, 0.0424178508269513, 0.0424178508269513, 0.0424178508269513, 0.0424178508269513, 0.0424178508269513, 0.0424178508269513, 0.0424178508269513, 0.0424178508269513, 0.0424178508269513, 0.0424178508269513, 0.0424178508269513, 0.0424178508269513, 0.0424178508269513, 0.0424178508269513, 0.0424178508269513, 0.0424178508269513, 0.0424178508269513, 0.0424178508269513, 0.0424178508269513, 0.0424178508269513, 0.0424178508269513, 0.0424178508269513, 0.0424178508269513, 0.0424178508269513, 0.0424178508269513, 0.0424178508269513, 0.0424178508269513, 0.0424178508269513, 0.0424178508269513, 0.0424178508269513, 0.0424178508269513, 0.0424178508269513, 0.0424178508269513, 0.0424178508269513, 0.0424178508269513, 0.0424178508269513, 0.0424178508269513, 0.0424178508269513, 0.0424178508269513, 0.0424178508269513, 0.0424178508269513, 0.0424178508269513, 0.0424178508269513, 0.0424178508269513, 0.0424178508269513, 0.0424178508269513, 0.0424178508269513, 0.0424178508269513, 0.037063558987341656, 0.037063558987341656]}], \"normalized_median_absolute_error\": [{\"categories\": [\"0\", \"1\", \"2\", \"3\", \"4\", \"5\", \"6\", \"7\", \"8\", \"9\", \"10\", \"11\", \"12\", \"13\", \"14\", \"15\", \"16\", \"17\", \"18\", \"19\", \"20\", \"21\", \"22\", \"23\", \"24\", \"25\", \"26\", \"27\", \"28\", \"29\", \"30\", \"31\", \"32\", \"33\", \"34\", \"35\", \"36\", \"37\", \"38\", \"39\", \"40\", \"41\", \"42\", \"43\", \"44\", \"45\", \"46\", \"47\", \"48\", \"49\", \"50\", \"51\", \"52\", \"53\", \"54\", \"55\", \"56\", \"57\", \"58\", \"59\", \"60\", \"61\", \"62\", \"63\", \"64\", \"65\", \"66\", \"67\", \"68\", \"69\", \"70\", \"71\", \"72\", \"73\", \"74\", \"75\", \"76\", \"77\", \"78\", \"79\", \"80\", \"81\", \"82\", \"83\", \"84\", \"85\", \"86\", \"87\", \"88\", \"89\", \"90\", \"91\", \"92\", \"93\", \"94\", \"95\", \"96\", \"97\", \"98\", \"99\", \"100\", \"104\", \"105\"], \"mode\": \"markers\", \"name\": \"normalized_median_absolute_error\", \"stepped\": false, \"type\": \"scatter\", \"data\": [0.004161165737786379, 0.00466274966796236, 0.005352108428875607, 0.005064368058246132, 0.00404937316974006, 0.005587688602086578, 0.006933000451748682, 0.0042591206729412105, 0.0044253706200473334, 0.007021934667423233, 0.004510066175787905, 0.005205625804561541, 0.041462072481711715, 0.005350778935370853, 0.004900587729345883, 0.01449753620008147, 0.004523568971368612, 0.00585452716052412, 0.017853734383592005, 0.010209780352689138, 0.005573822625803161, 0.011434291861704728, 0.005752711863195824, 0.005171559126544527, 0.00480994457999868, 0.044576436281204224, 0.014439375288889887, 0.041319821029901484, 0.006971686343549034, 0.005203557747318228, 0.007363562782605494, 0.00513962710375344, 0.004835461783741432, 0.0062500000000000056, 0.03422565634051957, 0.010264852697701547, 0.014768774221971653, 0.005344186197257285, 0.005582892153044121, 0.005348696020561911, 0.012971357752879463, 0.0055580460283319545, 0.005573822625803161, 0.012866244212086318, 0.005584197741226825, 0.006029952317476277, 0.006412816888861118, 0.005346727920509768, 0.005587426379733325, 0.03948830789519249, 0.004579848299423872, 0.005350778935371362, 0.0058918872847431416, 0.005106473293524649, 0.006887740019640709, 0.004574208209911952, 0.012643008048729074, 0.0058546162438872715, 0.014931912822696777, 0.005613038374610903, 0.004313692450523358, 0.008686509409626536, 0.006034633251093893, 0.005029741436094286, 0.010528492647058768, 0.005565874278545373, 0.00573371971407594, 0.005345535989104064, 0.005341576978761843, 0.005341414565815071, 0.0085280885299047, 0.0053503798282626, 0.005338689700876455, 0.005573822625803161, 0.005869276268693144, 0.005687641600767776, 0.00558261987764089, 0.004286268694695568, 0.006219865589300738, 0.005784695908740052, 0.004184150447448093, 0.004976352493526205, 0.00509053620808458, 0.0048105499114854565, 0.006618957200745107, 0.00515716895461082, 0.006174322196853693, 0.006696227805196298, 0.004763207037878613, 0.00558261987764089, 0.004555174460013726, 0.005342563860438442, 0.007756444603750264, 0.005496232027906699, 0.009021790765430665, 0.005557078868150683, 0.0049936449974279555, 0.005817687401472246, 0.007283973938081422, 0.005341414565815025, 0.004599276930093756, 0.00396045975066051, 0.003977372242746566]}, {\"categories\": [\"0\", \"1\", \"2\", \"3\", \"4\", \"5\", \"6\", \"7\", \"8\", \"9\", \"10\", \"11\", \"12\", \"13\", \"14\", \"15\", \"16\", \"17\", \"18\", \"19\", \"20\", \"21\", \"22\", \"23\", \"24\", \"25\", \"26\", \"27\", \"28\", \"29\", \"30\", \"31\", \"32\", \"33\", \"34\", \"35\", \"36\", \"37\", \"38\", \"39\", \"40\", \"41\", \"42\", \"43\", \"44\", \"45\", \"46\", \"47\", \"48\", \"49\", \"50\", \"51\", \"52\", \"53\", \"54\", \"55\", \"56\", \"57\", \"58\", \"59\", \"60\", \"61\", \"62\", \"63\", \"64\", \"65\", \"66\", \"67\", \"68\", \"69\", \"70\", \"71\", \"72\", \"73\", \"74\", \"75\", \"76\", \"77\", \"78\", \"79\", \"80\", \"81\", \"82\", \"83\", \"84\", \"85\", \"86\", \"87\", \"88\", \"89\", \"90\", \"91\", \"92\", \"93\", \"94\", \"95\", \"96\", \"97\", \"98\", \"99\", \"100\", \"104\", \"105\"], \"mode\": \"lines\", \"name\": \"normalized_median_absolute_error_min\", \"stepped\": true, \"type\": \"scatter\", \"data\": [0.004161165737786379, 0.004161165737786379, 0.004161165737786379, 0.004161165737786379, 0.00404937316974006, 0.00404937316974006, 0.00404937316974006, 0.00404937316974006, 0.00404937316974006, 0.00404937316974006, 0.00404937316974006, 0.00404937316974006, 0.00404937316974006, 0.00404937316974006, 0.00404937316974006, 0.00404937316974006, 0.00404937316974006, 0.00404937316974006, 0.00404937316974006, 0.00404937316974006, 0.00404937316974006, 0.00404937316974006, 0.00404937316974006, 0.00404937316974006, 0.00404937316974006, 0.00404937316974006, 0.00404937316974006, 0.00404937316974006, 0.00404937316974006, 0.00404937316974006, 0.00404937316974006, 0.00404937316974006, 0.00404937316974006, 0.00404937316974006, 0.00404937316974006, 0.00404937316974006, 0.00404937316974006, 0.00404937316974006, 0.00404937316974006, 0.00404937316974006, 0.00404937316974006, 0.00404937316974006, 0.00404937316974006, 0.00404937316974006, 0.00404937316974006, 0.00404937316974006, 0.00404937316974006, 0.00404937316974006, 0.00404937316974006, 0.00404937316974006, 0.00404937316974006, 0.00404937316974006, 0.00404937316974006, 0.00404937316974006, 0.00404937316974006, 0.00404937316974006, 0.00404937316974006, 0.00404937316974006, 0.00404937316974006, 0.00404937316974006, 0.00404937316974006, 0.00404937316974006, 0.00404937316974006, 0.00404937316974006, 0.00404937316974006, 0.00404937316974006, 0.00404937316974006, 0.00404937316974006, 0.00404937316974006, 0.00404937316974006, 0.00404937316974006, 0.00404937316974006, 0.00404937316974006, 0.00404937316974006, 0.00404937316974006, 0.00404937316974006, 0.00404937316974006, 0.00404937316974006, 0.00404937316974006, 0.00404937316974006, 0.00404937316974006, 0.00404937316974006, 0.00404937316974006, 0.00404937316974006, 0.00404937316974006, 0.00404937316974006, 0.00404937316974006, 0.00404937316974006, 0.00404937316974006, 0.00404937316974006, 0.00404937316974006, 0.00404937316974006, 0.00404937316974006, 0.00404937316974006, 0.00404937316974006, 0.00404937316974006, 0.00404937316974006, 0.00404937316974006, 0.00404937316974006, 0.00404937316974006, 0.00404937316974006, 0.00396045975066051, 0.00396045975066051]}], \"median_absolute_error\": [{\"categories\": [\"0\", \"1\", \"2\", \"3\", \"4\", \"5\", \"6\", \"7\", \"8\", \"9\", \"10\", \"11\", \"12\", \"13\", \"14\", \"15\", \"16\", \"17\", \"18\", \"19\", \"20\", \"21\", \"22\", \"23\", \"24\", \"25\", \"26\", \"27\", \"28\", \"29\", \"30\", \"31\", \"32\", \"33\", \"34\", \"35\", \"36\", \"37\", \"38\", \"39\", \"40\", \"41\", \"42\", \"43\", \"44\", \"45\", \"46\", \"47\", \"48\", \"49\", \"50\", \"51\", \"52\", \"53\", \"54\", \"55\", \"56\", \"57\", \"58\", \"59\", \"60\", \"61\", \"62\", \"63\", \"64\", \"65\", \"66\", \"67\", \"68\", \"69\", \"70\", \"71\", \"72\", \"73\", \"74\", \"75\", \"76\", \"77\", \"78\", \"79\", \"80\", \"81\", \"82\", \"83\", \"84\", \"85\", \"86\", \"87\", \"88\", \"89\", \"90\", \"91\", \"92\", \"93\", \"94\", \"95\", \"96\", \"97\", \"98\", \"99\", \"100\", \"104\", \"105\"], \"mode\": \"markers\", \"name\": \"median_absolute_error\", \"stepped\": false, \"type\": \"scatter\", \"data\": [0.02663146072183283, 0.029841597874959103, 0.03425349394480389, 0.03241195557277524, 0.025915988286336383, 0.035761207053354095, 0.04437120289119156, 0.027258372306823746, 0.028322371968302933, 0.04494038187150869, 0.028864423525042593, 0.03331600514919386, 0.26535726388295494, 0.03424498518637346, 0.031363761467813646, 0.09278423168052141, 0.028950841416759115, 0.03746897382735437, 0.11426390005498883, 0.06534259425721049, 0.035672464805140226, 0.07317946791491026, 0.03681735592445327, 0.033097978409884966, 0.030783645311991552, 0.285289192199707, 0.09241200184889527, 0.26444685459136946, 0.04461879259871382, 0.03330276958283666, 0.04712680180867516, 0.03289361346402201, 0.030946955415945165, 0.040000000000000036, 0.21904420057932525, 0.0656950572652899, 0.09452015502061857, 0.03420279166244663, 0.03573050977948237, 0.03423165453159623, 0.08301668961842856, 0.035571494581324505, 0.035672464805140226, 0.08234396295735243, 0.035738865543851674, 0.038591694831848176, 0.04104202808871116, 0.034219058691262516, 0.035759528830293284, 0.25272517052923194, 0.02931102911631278, 0.03424498518637672, 0.03770807862235611, 0.032681429078557755, 0.04408153612570054, 0.029274932543436494, 0.08091525151186607, 0.03746954396087854, 0.09556424206525937, 0.03592344559750978, 0.027607631683349492, 0.05559366022160983, 0.03862165280700092, 0.032190345191003424, 0.06738235294117612, 0.035621595382690385, 0.03669580617008602, 0.034211430330266, 0.034186092664075796, 0.034185053221216455, 0.05457976659139008, 0.03424243090088064, 0.03416761408560931, 0.035672464805140226, 0.03756336811963612, 0.03640090624491377, 0.03572876721690169, 0.027432119646051634, 0.039807139771524724, 0.03702205381593634, 0.026778562863667792, 0.03184865595856771, 0.032579431731741305, 0.03078751943350692, 0.04236132608476869, 0.033005881309509245, 0.03951566205986364, 0.042855857953256304, 0.030484525042423122, 0.03572876721690169, 0.029153116544087847, 0.03419240870680603, 0.04964124546400169, 0.03517588497860288, 0.057739460898756256, 0.03556530475616437, 0.03195932798353892, 0.037233199369422376, 0.0466174332037211, 0.034185053221216156, 0.029435372352600037, 0.025346942404227264, 0.02545518235357802]}, {\"categories\": [\"0\", \"1\", \"2\", \"3\", \"4\", \"5\", \"6\", \"7\", \"8\", \"9\", \"10\", \"11\", \"12\", \"13\", \"14\", \"15\", \"16\", \"17\", \"18\", \"19\", \"20\", \"21\", \"22\", \"23\", \"24\", \"25\", \"26\", \"27\", \"28\", \"29\", \"30\", \"31\", \"32\", \"33\", \"34\", \"35\", \"36\", \"37\", \"38\", \"39\", \"40\", \"41\", \"42\", \"43\", \"44\", \"45\", \"46\", \"47\", \"48\", \"49\", \"50\", \"51\", \"52\", \"53\", \"54\", \"55\", \"56\", \"57\", \"58\", \"59\", \"60\", \"61\", \"62\", \"63\", \"64\", \"65\", \"66\", \"67\", \"68\", \"69\", \"70\", \"71\", \"72\", \"73\", \"74\", \"75\", \"76\", \"77\", \"78\", \"79\", \"80\", \"81\", \"82\", \"83\", \"84\", \"85\", \"86\", \"87\", \"88\", \"89\", \"90\", \"91\", \"92\", \"93\", \"94\", \"95\", \"96\", \"97\", \"98\", \"99\", \"100\", \"104\", \"105\"], \"mode\": \"lines\", \"name\": \"median_absolute_error_min\", \"stepped\": true, \"type\": \"scatter\", \"data\": [0.02663146072183283, 0.02663146072183283, 0.02663146072183283, 0.02663146072183283, 0.025915988286336383, 0.025915988286336383, 0.025915988286336383, 0.025915988286336383, 0.025915988286336383, 0.025915988286336383, 0.025915988286336383, 0.025915988286336383, 0.025915988286336383, 0.025915988286336383, 0.025915988286336383, 0.025915988286336383, 0.025915988286336383, 0.025915988286336383, 0.025915988286336383, 0.025915988286336383, 0.025915988286336383, 0.025915988286336383, 0.025915988286336383, 0.025915988286336383, 0.025915988286336383, 0.025915988286336383, 0.025915988286336383, 0.025915988286336383, 0.025915988286336383, 0.025915988286336383, 0.025915988286336383, 0.025915988286336383, 0.025915988286336383, 0.025915988286336383, 0.025915988286336383, 0.025915988286336383, 0.025915988286336383, 0.025915988286336383, 0.025915988286336383, 0.025915988286336383, 0.025915988286336383, 0.025915988286336383, 0.025915988286336383, 0.025915988286336383, 0.025915988286336383, 0.025915988286336383, 0.025915988286336383, 0.025915988286336383, 0.025915988286336383, 0.025915988286336383, 0.025915988286336383, 0.025915988286336383, 0.025915988286336383, 0.025915988286336383, 0.025915988286336383, 0.025915988286336383, 0.025915988286336383, 0.025915988286336383, 0.025915988286336383, 0.025915988286336383, 0.025915988286336383, 0.025915988286336383, 0.025915988286336383, 0.025915988286336383, 0.025915988286336383, 0.025915988286336383, 0.025915988286336383, 0.025915988286336383, 0.025915988286336383, 0.025915988286336383, 0.025915988286336383, 0.025915988286336383, 0.025915988286336383, 0.025915988286336383, 0.025915988286336383, 0.025915988286336383, 0.025915988286336383, 0.025915988286336383, 0.025915988286336383, 0.025915988286336383, 0.025915988286336383, 0.025915988286336383, 0.025915988286336383, 0.025915988286336383, 0.025915988286336383, 0.025915988286336383, 0.025915988286336383, 0.025915988286336383, 0.025915988286336383, 0.025915988286336383, 0.025915988286336383, 0.025915988286336383, 0.025915988286336383, 0.025915988286336383, 0.025915988286336383, 0.025915988286336383, 0.025915988286336383, 0.025915988286336383, 0.025915988286336383, 0.025915988286336383, 0.025915988286336383, 0.025346942404227264, 0.025346942404227264]}], \"mean_absolute_percentage_error\": [{\"categories\": [\"0\", \"1\", \"2\", \"3\", \"4\", \"5\", \"6\", \"7\", \"8\", \"9\", \"10\", \"11\", \"12\", \"13\", \"14\", \"15\", \"16\", \"17\", \"18\", \"19\", \"20\", \"21\", \"22\", \"23\", \"24\", \"25\", \"26\", \"27\", \"28\", \"29\", \"30\", \"31\", \"32\", \"33\", \"34\", \"35\", \"36\", \"37\", \"38\", \"39\", \"40\", \"41\", \"42\", \"43\", \"44\", \"45\", \"46\", \"47\", \"48\", \"49\", \"50\", \"51\", \"52\", \"53\", \"54\", \"55\", \"56\", \"57\", \"58\", \"59\", \"60\", \"61\", \"62\", \"63\", \"64\", \"65\", \"66\", \"67\", \"68\", \"69\", \"70\", \"71\", \"72\", \"73\", \"74\", \"75\", \"76\", \"77\", \"78\", \"79\", \"80\", \"81\", \"82\", \"83\", \"84\", \"85\", \"86\", \"87\", \"88\", \"89\", \"90\", \"91\", \"92\", \"93\", \"94\", \"95\", \"96\", \"97\", \"98\", \"99\", \"100\", \"104\", \"105\"], \"mode\": \"markers\", \"name\": \"mean_absolute_percentage_error\", \"stepped\": false, \"type\": \"scatter\", \"data\": [0.8353535196011904, 0.896970789045365, 1.2832166592057117, 1.33928186558792, 0.794930573845436, 1.2158760781563498, 1.928095481679198, 0.8161793526635813, 1.0118336437317443, 1.4485251004184236, 1.0209941669355578, 1.2376433200715968, 6.35190725211654, 1.1908336372315407, 1.109959745560325, 4.207455885125484, 1.0663559728533223, 1.2819031100214386, 4.569391229006267, 2.576854035636612, 1.2898643440398159, 3.647067177609428, 1.2608735457573175, 1.0647433181284198, 0.93641771339682, 7.434190727237534, 4.196797707885392, 6.614700433677428, 1.5210836237454253, 1.3670484520154649, 1.6449835813132856, 1.1040527810220484, 1.0373438193393572, 1.646776475506398, 6.584192943250112, 2.0798085183084725, 3.251573251072651, 1.1916751952153373, 1.292914616036513, 1.192372133163497, 2.941557248355206, 1.2848046623841647, 1.2898643440398154, 3.1677800744530806, 1.2929021708645327, 1.2089950927469426, 1.880265351040996, 1.193787191366017, 1.2928839768583393, 7.814014977575126, 0.8670214521471893, 1.1908336372315396, 1.3602789996835132, 1.11535844127712, 1.5575219703891692, 0.8987295057098456, 2.855560065122592, 1.316085187734427, 3.282201075107811, 1.1915971702947672, 0.8545154032994365, 1.9680330010936393, 1.786351000445239, 1.17576757476621, 2.411497342246452, 1.0641298467991431, 1.2515390737819565, 1.1926910555748995, 1.193223197606135, 1.1936395179667068, 1.9617247797620883, 1.1933573276674916, 1.1931054534305126, 1.2898643440398159, 1.4412939873474422, 1.143549227602137, 1.2929191529761506, 0.8558320179889404, 1.3559733729558816, 1.4110533872748838, 0.8201568227279085, 1.2127229646422735, 1.1175488652940901, 1.1116229978498642, 1.4170867303615136, 1.0162475653742893, 1.505768737262403, 1.6624961772204079, 1.1244888369014996, 1.2929191529761506, 0.8879080351222169, 1.1934720473129754, 2.0539525526176416, 1.195190046762937, 2.081965549722753, 1.1253993725077887, 1.2429295864722931, 1.6216200995627865, 2.225314982134792, 1.1936395179667059, 0.973842897909503, 0.7338530438282841, 0.7390262345527656]}, {\"categories\": [\"0\", \"1\", \"2\", \"3\", \"4\", \"5\", \"6\", \"7\", \"8\", \"9\", \"10\", \"11\", \"12\", \"13\", \"14\", \"15\", \"16\", \"17\", \"18\", \"19\", \"20\", \"21\", \"22\", \"23\", \"24\", \"25\", \"26\", \"27\", \"28\", \"29\", \"30\", \"31\", \"32\", \"33\", \"34\", \"35\", \"36\", \"37\", \"38\", \"39\", \"40\", \"41\", \"42\", \"43\", \"44\", \"45\", \"46\", \"47\", \"48\", \"49\", \"50\", \"51\", \"52\", \"53\", \"54\", \"55\", \"56\", \"57\", \"58\", \"59\", \"60\", \"61\", \"62\", \"63\", \"64\", \"65\", \"66\", \"67\", \"68\", \"69\", \"70\", \"71\", \"72\", \"73\", \"74\", \"75\", \"76\", \"77\", \"78\", \"79\", \"80\", \"81\", \"82\", \"83\", \"84\", \"85\", \"86\", \"87\", \"88\", \"89\", \"90\", \"91\", \"92\", \"93\", \"94\", \"95\", \"96\", \"97\", \"98\", \"99\", \"100\", \"104\", \"105\"], \"mode\": \"lines\", \"name\": \"mean_absolute_percentage_error_min\", \"stepped\": true, \"type\": \"scatter\", \"data\": [0.8353535196011904, 0.8353535196011904, 0.8353535196011904, 0.8353535196011904, 0.794930573845436, 0.794930573845436, 0.794930573845436, 0.794930573845436, 0.794930573845436, 0.794930573845436, 0.794930573845436, 0.794930573845436, 0.794930573845436, 0.794930573845436, 0.794930573845436, 0.794930573845436, 0.794930573845436, 0.794930573845436, 0.794930573845436, 0.794930573845436, 0.794930573845436, 0.794930573845436, 0.794930573845436, 0.794930573845436, 0.794930573845436, 0.794930573845436, 0.794930573845436, 0.794930573845436, 0.794930573845436, 0.794930573845436, 0.794930573845436, 0.794930573845436, 0.794930573845436, 0.794930573845436, 0.794930573845436, 0.794930573845436, 0.794930573845436, 0.794930573845436, 0.794930573845436, 0.794930573845436, 0.794930573845436, 0.794930573845436, 0.794930573845436, 0.794930573845436, 0.794930573845436, 0.794930573845436, 0.794930573845436, 0.794930573845436, 0.794930573845436, 0.794930573845436, 0.794930573845436, 0.794930573845436, 0.794930573845436, 0.794930573845436, 0.794930573845436, 0.794930573845436, 0.794930573845436, 0.794930573845436, 0.794930573845436, 0.794930573845436, 0.794930573845436, 0.794930573845436, 0.794930573845436, 0.794930573845436, 0.794930573845436, 0.794930573845436, 0.794930573845436, 0.794930573845436, 0.794930573845436, 0.794930573845436, 0.794930573845436, 0.794930573845436, 0.794930573845436, 0.794930573845436, 0.794930573845436, 0.794930573845436, 0.794930573845436, 0.794930573845436, 0.794930573845436, 0.794930573845436, 0.794930573845436, 0.794930573845436, 0.794930573845436, 0.794930573845436, 0.794930573845436, 0.794930573845436, 0.794930573845436, 0.794930573845436, 0.794930573845436, 0.794930573845436, 0.794930573845436, 0.794930573845436, 0.794930573845436, 0.794930573845436, 0.794930573845436, 0.794930573845436, 0.794930573845436, 0.794930573845436, 0.794930573845436, 0.794930573845436, 0.794930573845436, 0.7338530438282841, 0.7338530438282841]}], \"normalized_root_mean_squared_error\": [{\"categories\": [\"0\", \"1\", \"2\", \"3\", \"4\", \"5\", \"6\", \"7\", \"8\", \"9\", \"10\", \"11\", \"12\", \"13\", \"14\", \"15\", \"16\", \"17\", \"18\", \"19\", \"20\", \"21\", \"22\", \"23\", \"24\", \"25\", \"26\", \"27\", \"28\", \"29\", \"30\", \"31\", \"32\", \"33\", \"34\", \"35\", \"36\", \"37\", \"38\", \"39\", \"40\", \"41\", \"42\", \"43\", \"44\", \"45\", \"46\", \"47\", \"48\", \"49\", \"50\", \"51\", \"52\", \"53\", \"54\", \"55\", \"56\", \"57\", \"58\", \"59\", \"60\", \"61\", \"62\", \"63\", \"64\", \"65\", \"66\", \"67\", \"68\", \"69\", \"70\", \"71\", \"72\", \"73\", \"74\", \"75\", \"76\", \"77\", \"78\", \"79\", \"80\", \"81\", \"82\", \"83\", \"84\", \"85\", \"86\", \"87\", \"88\", \"89\", \"90\", \"91\", \"92\", \"93\", \"94\", \"95\", \"96\", \"97\", \"98\", \"99\", \"100\", \"104\", \"105\"], \"mode\": \"markers\", \"name\": \"normalized_root_mean_squared_error\", \"stepped\": false, \"type\": \"scatter\", \"data\": [0.007307440977129792, 0.007151738552142861, 0.014114898575038365, 0.014612019210295854, 0.006627789191711139, 0.010364689000889063, 0.02028994082661605, 0.006650267454264128, 0.01040080893116412, 0.012955754347246778, 0.010238341863237709, 0.012596468326130822, 0.044646312826887795, 0.010018291886677431, 0.010822828044719247, 0.04086549772074731, 0.011193602475400175, 0.011260329189946065, 0.042513501994591064, 0.02446834918044123, 0.011230547951959132, 0.03728972370380104, 0.010953829232591687, 0.009389979363351798, 0.007757873010531729, 0.062082014702689, 0.04070223668536476, 0.0512003199117751, 0.013880468850952498, 0.01474022138703617, 0.014736911671657305, 0.010306881030791254, 0.010021770447091986, 0.016428739878447025, 0.05069793402916655, 0.018526981751285934, 0.028556730358551972, 0.010004060787420508, 0.011264011056902981, 0.010005459356697546, 0.02911570197535598, 0.011166248811388663, 0.011230547951959139, 0.029560242102391932, 0.011263060942430075, 0.010673404096740636, 0.01952253866909838, 0.010017173373118906, 0.011262137644348113, 0.06248109035207641, 0.006836442533887853, 0.010018291886677437, 0.0133860669727148, 0.010398155539680912, 0.015484804099763308, 0.0075733826547046855, 0.02555896077480392, 0.012182143938775133, 0.028743718952125855, 0.010975412951071753, 0.007229462443414838, 0.018142405630650258, 0.018857118505537177, 0.011524806729002086, 0.02232093189329601, 0.009336479332757632, 0.010812475698755951, 0.010007950038478054, 0.010012044550879633, 0.010015736098216559, 0.01813785880861618, 0.010010959793985108, 0.010011035923751244, 0.011230547951959132, 0.014641380353512853, 0.009420167864986615, 0.011263872705655422, 0.007440461991603441, 0.01210350727409755, 0.01398909355721544, 0.006643421946421945, 0.012991996684283516, 0.010486209985879477, 0.010887980404353648, 0.01306251211416714, 0.008555268637477662, 0.014777205145211858, 0.016155739002894187, 0.011583702102977598, 0.011263872705655422, 0.007318260041672951, 0.010019610572144186, 0.02078256485719369, 0.010135283184325798, 0.019403956347070057, 0.010129100106483858, 0.012982639938144497, 0.017465037681617727, 0.024574725143094233, 0.010015736098216555, 0.008789496279351224, 0.005791181091772134, 0.0058143511638172225]}, {\"categories\": [\"0\", \"1\", \"2\", \"3\", \"4\", \"5\", \"6\", \"7\", \"8\", \"9\", \"10\", \"11\", \"12\", \"13\", \"14\", \"15\", \"16\", \"17\", \"18\", \"19\", \"20\", \"21\", \"22\", \"23\", \"24\", \"25\", \"26\", \"27\", \"28\", \"29\", \"30\", \"31\", \"32\", \"33\", \"34\", \"35\", \"36\", \"37\", \"38\", \"39\", \"40\", \"41\", \"42\", \"43\", \"44\", \"45\", \"46\", \"47\", \"48\", \"49\", \"50\", \"51\", \"52\", \"53\", \"54\", \"55\", \"56\", \"57\", \"58\", \"59\", \"60\", \"61\", \"62\", \"63\", \"64\", \"65\", \"66\", \"67\", \"68\", \"69\", \"70\", \"71\", \"72\", \"73\", \"74\", \"75\", \"76\", \"77\", \"78\", \"79\", \"80\", \"81\", \"82\", \"83\", \"84\", \"85\", \"86\", \"87\", \"88\", \"89\", \"90\", \"91\", \"92\", \"93\", \"94\", \"95\", \"96\", \"97\", \"98\", \"99\", \"100\", \"104\", \"105\"], \"mode\": \"lines\", \"name\": \"normalized_root_mean_squared_error_min\", \"stepped\": true, \"type\": \"scatter\", \"data\": [0.007307440977129792, 0.007151738552142861, 0.007151738552142861, 0.007151738552142861, 0.006627789191711139, 0.006627789191711139, 0.006627789191711139, 0.006627789191711139, 0.006627789191711139, 0.006627789191711139, 0.006627789191711139, 0.006627789191711139, 0.006627789191711139, 0.006627789191711139, 0.006627789191711139, 0.006627789191711139, 0.006627789191711139, 0.006627789191711139, 0.006627789191711139, 0.006627789191711139, 0.006627789191711139, 0.006627789191711139, 0.006627789191711139, 0.006627789191711139, 0.006627789191711139, 0.006627789191711139, 0.006627789191711139, 0.006627789191711139, 0.006627789191711139, 0.006627789191711139, 0.006627789191711139, 0.006627789191711139, 0.006627789191711139, 0.006627789191711139, 0.006627789191711139, 0.006627789191711139, 0.006627789191711139, 0.006627789191711139, 0.006627789191711139, 0.006627789191711139, 0.006627789191711139, 0.006627789191711139, 0.006627789191711139, 0.006627789191711139, 0.006627789191711139, 0.006627789191711139, 0.006627789191711139, 0.006627789191711139, 0.006627789191711139, 0.006627789191711139, 0.006627789191711139, 0.006627789191711139, 0.006627789191711139, 0.006627789191711139, 0.006627789191711139, 0.006627789191711139, 0.006627789191711139, 0.006627789191711139, 0.006627789191711139, 0.006627789191711139, 0.006627789191711139, 0.006627789191711139, 0.006627789191711139, 0.006627789191711139, 0.006627789191711139, 0.006627789191711139, 0.006627789191711139, 0.006627789191711139, 0.006627789191711139, 0.006627789191711139, 0.006627789191711139, 0.006627789191711139, 0.006627789191711139, 0.006627789191711139, 0.006627789191711139, 0.006627789191711139, 0.006627789191711139, 0.006627789191711139, 0.006627789191711139, 0.006627789191711139, 0.006627789191711139, 0.006627789191711139, 0.006627789191711139, 0.006627789191711139, 0.006627789191711139, 0.006627789191711139, 0.006627789191711139, 0.006627789191711139, 0.006627789191711139, 0.006627789191711139, 0.006627789191711139, 0.006627789191711139, 0.006627789191711139, 0.006627789191711139, 0.006627789191711139, 0.006627789191711139, 0.006627789191711139, 0.006627789191711139, 0.006627789191711139, 0.006627789191711139, 0.006627789191711139, 0.005791181091772134, 0.005791181091772134]}], \"r2_score\": [{\"categories\": [\"0\", \"1\", \"2\", \"3\", \"4\", \"5\", \"6\", \"7\", \"8\", \"9\", \"10\", \"11\", \"12\", \"13\", \"14\", \"15\", \"16\", \"17\", \"18\", \"19\", \"20\", \"21\", \"22\", \"23\", \"24\", \"25\", \"26\", \"27\", \"28\", \"29\", \"30\", \"31\", \"32\", \"33\", \"34\", \"35\", \"36\", \"37\", \"38\", \"39\", \"40\", \"41\", \"42\", \"43\", \"44\", \"45\", \"46\", \"47\", \"48\", \"49\", \"50\", \"51\", \"52\", \"53\", \"54\", \"55\", \"56\", \"57\", \"58\", \"59\", \"60\", \"61\", \"62\", \"63\", \"64\", \"65\", \"66\", \"67\", \"68\", \"69\", \"70\", \"71\", \"72\", \"73\", \"74\", \"75\", \"76\", \"77\", \"78\", \"79\", \"80\", \"81\", \"82\", \"83\", \"84\", \"85\", \"86\", \"87\", \"88\", \"89\", \"90\", \"91\", \"92\", \"93\", \"94\", \"95\", \"96\", \"97\", \"98\", \"99\", \"100\", \"104\", \"105\"], \"mode\": \"markers\", \"name\": \"r2_score\", \"stepped\": false, \"type\": \"scatter\", \"data\": [0.9966160601762608, 0.9967534011982272, 0.987352274388023, 0.9864637771295621, 0.9972150157776142, 0.9931882715873398, 0.9739044952314074, 0.9971915307352476, 0.9931431567117706, 0.9893611752073556, 0.9933536288423656, 0.9899378009575271, 0.873655803462973, 0.9936386734346917, 0.9925539728241102, 0.8940159373747013, 0.9920549510511609, 0.9919597881167919, 0.8854556328446312, 0.9620525474111541, 0.9919996298687725, 0.911867312923541, 0.9923907948413726, 0.9944094717878583, 0.9961838998942197, 0.7557078230682689, 0.8947917532006119, 0.8338555199980279, 0.9877838026943776, 0.9862258538408072, 0.9862341664029888, 0.9932654098369861, 0.9936354144136336, 0.9828575718291456, 0.837015642225797, 0.9782234847259256, 0.9482940114415078, 0.9936567258889498, 0.9919526257281356, 0.9936548697458679, 0.9462560276139073, 0.9920915552691084, 0.9919996298687725, 0.9446122607674755, 0.9919541268413258, 0.9927779578081458, 0.9758128157596614, 0.9936405087435083, 0.9919555830202021, 0.7526082438111482, 0.9970373246934212, 0.9936386734346917, 0.9886158181111125, 0.9931478263182448, 0.9847787409514623, 0.9963635421661522, 0.9585425867924675, 0.9905857875782728, 0.9476246206056663, 0.9923473384844291, 0.9966862709942026, 0.9791268957615645, 0.9774653645421605, 0.9915691409347277, 0.9684272878165681, 0.994471407730623, 0.9925857895398806, 0.9936517961135424, 0.9936468492740925, 0.9936422939148684, 0.9791456844324863, 0.9936478778117976, 0.9936480819875144, 0.9919996298687725, 0.9864114226034838, 0.9943755085458089, 0.9919528484884754, 0.9964853440649861, 0.9907139197942386, 0.9875973663431162, 0.9971976273213475, 0.9892989433048824, 0.9930306420441587, 0.9924764845820834, 0.9891749484882556, 0.9953592345365871, 0.9861591146397976, 0.9834223430029271, 0.9914964435685829, 0.9919528484884754, 0.996598503442638, 0.9936374657516104, 0.9726142760523994, 0.9934880119627154, 0.9761072912839409, 0.9934943266598699, 0.9893136029191877, 0.9806702223246117, 0.9617241126651868, 0.9936422939148684, 0.9951021968604805, 0.9978726380803238, 0.997854811559589]}, {\"categories\": [\"0\", \"1\", \"2\", \"3\", \"4\", \"5\", \"6\", \"7\", \"8\", \"9\", \"10\", \"11\", \"12\", \"13\", \"14\", \"15\", \"16\", \"17\", \"18\", \"19\", \"20\", \"21\", \"22\", \"23\", \"24\", \"25\", \"26\", \"27\", \"28\", \"29\", \"30\", \"31\", \"32\", \"33\", \"34\", \"35\", \"36\", \"37\", \"38\", \"39\", \"40\", \"41\", \"42\", \"43\", \"44\", \"45\", \"46\", \"47\", \"48\", \"49\", \"50\", \"51\", \"52\", \"53\", \"54\", \"55\", \"56\", \"57\", \"58\", \"59\", \"60\", \"61\", \"62\", \"63\", \"64\", \"65\", \"66\", \"67\", \"68\", \"69\", \"70\", \"71\", \"72\", \"73\", \"74\", \"75\", \"76\", \"77\", \"78\", \"79\", \"80\", \"81\", \"82\", \"83\", \"84\", \"85\", \"86\", \"87\", \"88\", \"89\", \"90\", \"91\", \"92\", \"93\", \"94\", \"95\", \"96\", \"97\", \"98\", \"99\", \"100\", \"104\", \"105\"], \"mode\": \"lines\", \"name\": \"r2_score_max\", \"stepped\": true, \"type\": \"scatter\", \"data\": [0.9966160601762608, 0.9967534011982272, 0.9967534011982272, 0.9967534011982272, 0.9972150157776142, 0.9972150157776142, 0.9972150157776142, 0.9972150157776142, 0.9972150157776142, 0.9972150157776142, 0.9972150157776142, 0.9972150157776142, 0.9972150157776142, 0.9972150157776142, 0.9972150157776142, 0.9972150157776142, 0.9972150157776142, 0.9972150157776142, 0.9972150157776142, 0.9972150157776142, 0.9972150157776142, 0.9972150157776142, 0.9972150157776142, 0.9972150157776142, 0.9972150157776142, 0.9972150157776142, 0.9972150157776142, 0.9972150157776142, 0.9972150157776142, 0.9972150157776142, 0.9972150157776142, 0.9972150157776142, 0.9972150157776142, 0.9972150157776142, 0.9972150157776142, 0.9972150157776142, 0.9972150157776142, 0.9972150157776142, 0.9972150157776142, 0.9972150157776142, 0.9972150157776142, 0.9972150157776142, 0.9972150157776142, 0.9972150157776142, 0.9972150157776142, 0.9972150157776142, 0.9972150157776142, 0.9972150157776142, 0.9972150157776142, 0.9972150157776142, 0.9972150157776142, 0.9972150157776142, 0.9972150157776142, 0.9972150157776142, 0.9972150157776142, 0.9972150157776142, 0.9972150157776142, 0.9972150157776142, 0.9972150157776142, 0.9972150157776142, 0.9972150157776142, 0.9972150157776142, 0.9972150157776142, 0.9972150157776142, 0.9972150157776142, 0.9972150157776142, 0.9972150157776142, 0.9972150157776142, 0.9972150157776142, 0.9972150157776142, 0.9972150157776142, 0.9972150157776142, 0.9972150157776142, 0.9972150157776142, 0.9972150157776142, 0.9972150157776142, 0.9972150157776142, 0.9972150157776142, 0.9972150157776142, 0.9972150157776142, 0.9972150157776142, 0.9972150157776142, 0.9972150157776142, 0.9972150157776142, 0.9972150157776142, 0.9972150157776142, 0.9972150157776142, 0.9972150157776142, 0.9972150157776142, 0.9972150157776142, 0.9972150157776142, 0.9972150157776142, 0.9972150157776142, 0.9972150157776142, 0.9972150157776142, 0.9972150157776142, 0.9972150157776142, 0.9972150157776142, 0.9972150157776142, 0.9972150157776142, 0.9972150157776142, 0.9978726380803238, 0.9978726380803238]}], \"normalized_root_mean_squared_log_error\": [{\"categories\": [\"0\", \"1\", \"2\", \"3\", \"4\", \"5\", \"6\", \"7\", \"8\", \"9\", \"10\", \"11\", \"12\", \"13\", \"14\", \"15\", \"16\", \"17\", \"18\", \"19\", \"20\", \"21\", \"22\", \"23\", \"24\", \"25\", \"26\", \"27\", \"28\", \"29\", \"30\", \"31\", \"32\", \"33\", \"34\", \"35\", \"36\", \"37\", \"38\", \"39\", \"40\", \"41\", \"42\", \"43\", \"44\", \"45\", \"46\", \"47\", \"48\", \"49\", \"50\", \"51\", \"52\", \"53\", \"54\", \"55\", \"56\", \"57\", \"58\", \"59\", \"60\", \"61\", \"62\", \"63\", \"64\", \"65\", \"66\", \"67\", \"68\", \"69\", \"70\", \"71\", \"72\", \"73\", \"74\", \"75\", \"76\", \"77\", \"78\", \"79\", \"80\", \"81\", \"82\", \"83\", \"84\", \"85\", \"86\", \"87\", \"88\", \"89\", \"90\", \"91\", \"92\", \"93\", \"94\", \"95\", \"96\", \"97\", \"98\", \"99\", \"100\", \"104\", \"105\"], \"mode\": \"markers\", \"name\": \"normalized_root_mean_squared_log_error\", \"stepped\": false, \"type\": \"scatter\", \"data\": [0.007807139795116748, 0.007013441491418893, 0.014038330924034073, 0.01660138746831592, 0.007045563978122802, 0.01089775438379767, 0.021480064280848515, 0.006961599001010908, 0.012195683668775667, 0.011930329455480324, 0.011772498590878025, 0.014360294036405244, 0.040646907506641926, 0.011143523387679622, 0.012163760491444636, 0.041160064002151095, 0.013025936165675704, 0.011543575751708723, 0.04167360967289849, 0.02558819256019247, 0.012445990492882952, 0.03719866097780666, 0.01133634380914561, 0.009887578879216305, 0.00779749208038132, 0.05577413918799864, 0.04009820005459979, 0.046198732718094306, 0.014390664438304182, 0.016567932047967724, 0.015583785250391504, 0.011052917269105789, 0.011071125657750031, 0.018665698385135435, 0.05068380300390365, 0.016830307374766384, 0.029042104919571255, 0.011224291548369491, 0.012480107637108709, 0.011244660312049697, 0.028038322063974063, 0.012382601757588284, 0.012445990492882966, 0.029775544528682807, 0.012478815329671966, 0.010901033873424453, 0.021720216050689235, 0.011281146453023477, 0.01247754124767752, 0.05884775852565432, 0.006895885850294968, 0.011143523387679613, 0.013873945925783268, 0.011077020099913048, 0.015472374514286171, 0.007664874143473149, 0.025689329620574717, 0.013001797623083412, 0.02916317301824588, 0.011598281721100839, 0.007727916384559864, 0.018929319266311733, 0.021157309938339103, 0.012593252211731297, 0.022596339744402755, 0.008884290124236588, 0.01122089172411928, 0.011252223010025085, 0.011267421641081217, 0.011277562286010533, 0.01895645073011537, 0.011249981024759185, 0.01126424896472563, 0.012445990492882952, 0.015705856482494545, 0.009567810545704644, 0.01247991590088999, 0.007952806102321677, 0.011964734973905206, 0.01481728190042521, 0.006961955780570698, 0.014142476440833864, 0.011478697621836604, 0.011826048222952315, 0.013605929797222652, 0.008837916747872458, 0.01572277835041586, 0.017934079461376616, 0.012418082870444823, 0.01247991590088999, 0.007680709643362984, 0.011264144149508382, 0.02189796980971347, 0.010910622621247314, 0.019743668005216125, 0.010419369440347251, 0.01488294405028681, 0.019002251307218884, 0.02585419175776015, 0.011277562286010531, 0.009481524591413885, 0.005884586821424402, 0.005934086286567279]}, {\"categories\": [\"0\", \"1\", \"2\", \"3\", \"4\", \"5\", \"6\", \"7\", \"8\", \"9\", \"10\", \"11\", \"12\", \"13\", \"14\", \"15\", \"16\", \"17\", \"18\", \"19\", \"20\", \"21\", \"22\", \"23\", \"24\", \"25\", \"26\", \"27\", \"28\", \"29\", \"30\", \"31\", \"32\", \"33\", \"34\", \"35\", \"36\", \"37\", \"38\", \"39\", \"40\", \"41\", \"42\", \"43\", \"44\", \"45\", \"46\", \"47\", \"48\", \"49\", \"50\", \"51\", \"52\", \"53\", \"54\", \"55\", \"56\", \"57\", \"58\", \"59\", \"60\", \"61\", \"62\", \"63\", \"64\", \"65\", \"66\", \"67\", \"68\", \"69\", \"70\", \"71\", \"72\", \"73\", \"74\", \"75\", \"76\", \"77\", \"78\", \"79\", \"80\", \"81\", \"82\", \"83\", \"84\", \"85\", \"86\", \"87\", \"88\", \"89\", \"90\", \"91\", \"92\", \"93\", \"94\", \"95\", \"96\", \"97\", \"98\", \"99\", \"100\", \"104\", \"105\"], \"mode\": \"lines\", \"name\": \"normalized_root_mean_squared_log_error_min\", \"stepped\": true, \"type\": \"scatter\", \"data\": [0.007807139795116748, 0.007013441491418893, 0.007013441491418893, 0.007013441491418893, 0.007013441491418893, 0.007013441491418893, 0.007013441491418893, 0.006961599001010908, 0.006961599001010908, 0.006961599001010908, 0.006961599001010908, 0.006961599001010908, 0.006961599001010908, 0.006961599001010908, 0.006961599001010908, 0.006961599001010908, 0.006961599001010908, 0.006961599001010908, 0.006961599001010908, 0.006961599001010908, 0.006961599001010908, 0.006961599001010908, 0.006961599001010908, 0.006961599001010908, 0.006961599001010908, 0.006961599001010908, 0.006961599001010908, 0.006961599001010908, 0.006961599001010908, 0.006961599001010908, 0.006961599001010908, 0.006961599001010908, 0.006961599001010908, 0.006961599001010908, 0.006961599001010908, 0.006961599001010908, 0.006961599001010908, 0.006961599001010908, 0.006961599001010908, 0.006961599001010908, 0.006961599001010908, 0.006961599001010908, 0.006961599001010908, 0.006961599001010908, 0.006961599001010908, 0.006961599001010908, 0.006961599001010908, 0.006961599001010908, 0.006961599001010908, 0.006961599001010908, 0.006895885850294968, 0.006895885850294968, 0.006895885850294968, 0.006895885850294968, 0.006895885850294968, 0.006895885850294968, 0.006895885850294968, 0.006895885850294968, 0.006895885850294968, 0.006895885850294968, 0.006895885850294968, 0.006895885850294968, 0.006895885850294968, 0.006895885850294968, 0.006895885850294968, 0.006895885850294968, 0.006895885850294968, 0.006895885850294968, 0.006895885850294968, 0.006895885850294968, 0.006895885850294968, 0.006895885850294968, 0.006895885850294968, 0.006895885850294968, 0.006895885850294968, 0.006895885850294968, 0.006895885850294968, 0.006895885850294968, 0.006895885850294968, 0.006895885850294968, 0.006895885850294968, 0.006895885850294968, 0.006895885850294968, 0.006895885850294968, 0.006895885850294968, 0.006895885850294968, 0.006895885850294968, 0.006895885850294968, 0.006895885850294968, 0.006895885850294968, 0.006895885850294968, 0.006895885850294968, 0.006895885850294968, 0.006895885850294968, 0.006895885850294968, 0.006895885850294968, 0.006895885850294968, 0.006895885850294968, 0.006895885850294968, 0.006895885850294968, 0.006895885850294968, 0.005884586821424402, 0.005884586821424402]}], \"spearman_correlation\": [{\"categories\": [\"0\", \"1\", \"2\", \"3\", \"4\", \"5\", \"6\", \"7\", \"8\", \"9\", \"10\", \"11\", \"12\", \"13\", \"14\", \"15\", \"16\", \"17\", \"18\", \"19\", \"20\", \"21\", \"22\", \"23\", \"24\", \"25\", \"26\", \"27\", \"28\", \"29\", \"30\", \"31\", \"32\", \"33\", \"34\", \"35\", \"36\", \"37\", \"38\", \"39\", \"40\", \"41\", \"42\", \"43\", \"44\", \"45\", \"46\", \"47\", \"48\", \"49\", \"50\", \"51\", \"52\", \"53\", \"54\", \"55\", \"56\", \"57\", \"58\", \"59\", \"60\", \"61\", \"62\", \"63\", \"64\", \"65\", \"66\", \"67\", \"68\", \"69\", \"70\", \"71\", \"72\", \"73\", \"74\", \"75\", \"76\", \"77\", \"78\", \"79\", \"80\", \"81\", \"82\", \"83\", \"84\", \"85\", \"86\", \"87\", \"88\", \"89\", \"90\", \"91\", \"92\", \"93\", \"94\", \"95\", \"96\", \"97\", \"98\", \"99\", \"100\", \"104\", \"105\"], \"mode\": \"markers\", \"name\": \"spearman_correlation\", \"stepped\": false, \"type\": \"scatter\", \"data\": [0.9985273044969594, 0.998320293596783, 0.9928513600521492, 0.9969420601225859, 0.9986852481410408, 0.9979401651210561, 0.9933976363317748, 0.9986236261789788, 0.998233483345258, 0.9977421837673948, 0.9980803674072263, 0.997356650893849, 0.9977923762455627, 0.9981602749078698, 0.9976873127266139, 0.9819569248234793, 0.9980518327238207, 0.9976602228440316, 0.9682776796337924, 0.9893113331412597, 0.9973392930137747, 0.9875848113058199, 0.9977091484699767, 0.9976297067070267, 0.9982150494231075, 0.9553521487419493, 0.9855755393641722, 0.9811714790491539, 0.9959701449459368, 0.9969690949099319, 0.9942792796360321, 0.9976774320852367, 0.9981175058051474, 0.9956467875707039, 0.8992502938576332, 0.9973628980531769, 0.9807038055162886, 0.9981684187165539, 0.9973142553903106, 0.9981671758370512, 0.9745776758047214, 0.9973827926151504, 0.9973392930137747, 0.984549764382613, 0.9973127826359381, 0.9976422009889285, 0.997490479193078, 0.9981584654818626, 0.9973119857525798, 0.9823890646567391, 0.9983875292674904, 0.9981602749078698, 0.9951829341683904, 0.9978951523224628, 0.9931442714331542, 0.9982889608036859, 0.9845457102699307, 0.9969308616670411, 0.9803181775876159, 0.9975649098381028, 0.9985224905587642, 0.9930151389545662, 0.9976269274812105, 0.9973633107416046, 0.9887573336429306, 0.998063906966098, 0.9977586133273549, 0.998165313653051, 0.9981615596026566, 0.9981592632934232, 0.9949035826314185, 0.9981601602777873, 0.9981624766644904, 0.9973392930137747, 0.9960372124929018, 0.9971946627199085, 0.9973138743640853, 0.998500447847683, 0.9977301703689968, 0.996267373520606, 0.9986310304609448, 0.9971132708716643, 0.9980747599454464, 0.9974902357777822, 0.9965478112879097, 0.9981778661054964, 0.9957859351999883, 0.995273836268956, 0.9974165026107745, 0.9973138743640853, 0.9983494165393649, 0.9981541348998646, 0.9929356577835157, 0.9981508069863909, 0.9918202432833413, 0.9979620953326208, 0.9974286363681385, 0.9951094805572459, 0.9936168183961526, 0.9981592632934232, 0.9982864246475316, 0.9988622462491957, 0.9988589171433514]}, {\"categories\": [\"0\", \"1\", \"2\", \"3\", \"4\", \"5\", \"6\", \"7\", \"8\", \"9\", \"10\", \"11\", \"12\", \"13\", \"14\", \"15\", \"16\", \"17\", \"18\", \"19\", \"20\", \"21\", \"22\", \"23\", \"24\", \"25\", \"26\", \"27\", \"28\", \"29\", \"30\", \"31\", \"32\", \"33\", \"34\", \"35\", \"36\", \"37\", \"38\", \"39\", \"40\", \"41\", \"42\", \"43\", \"44\", \"45\", \"46\", \"47\", \"48\", \"49\", \"50\", \"51\", \"52\", \"53\", \"54\", \"55\", \"56\", \"57\", \"58\", \"59\", \"60\", \"61\", \"62\", \"63\", \"64\", \"65\", \"66\", \"67\", \"68\", \"69\", \"70\", \"71\", \"72\", \"73\", \"74\", \"75\", \"76\", \"77\", \"78\", \"79\", \"80\", \"81\", \"82\", \"83\", \"84\", \"85\", \"86\", \"87\", \"88\", \"89\", \"90\", \"91\", \"92\", \"93\", \"94\", \"95\", \"96\", \"97\", \"98\", \"99\", \"100\", \"104\", \"105\"], \"mode\": \"lines\", \"name\": \"spearman_correlation_max\", \"stepped\": true, \"type\": \"scatter\", \"data\": [0.9985273044969594, 0.9985273044969594, 0.9985273044969594, 0.9985273044969594, 0.9986852481410408, 0.9986852481410408, 0.9986852481410408, 0.9986852481410408, 0.9986852481410408, 0.9986852481410408, 0.9986852481410408, 0.9986852481410408, 0.9986852481410408, 0.9986852481410408, 0.9986852481410408, 0.9986852481410408, 0.9986852481410408, 0.9986852481410408, 0.9986852481410408, 0.9986852481410408, 0.9986852481410408, 0.9986852481410408, 0.9986852481410408, 0.9986852481410408, 0.9986852481410408, 0.9986852481410408, 0.9986852481410408, 0.9986852481410408, 0.9986852481410408, 0.9986852481410408, 0.9986852481410408, 0.9986852481410408, 0.9986852481410408, 0.9986852481410408, 0.9986852481410408, 0.9986852481410408, 0.9986852481410408, 0.9986852481410408, 0.9986852481410408, 0.9986852481410408, 0.9986852481410408, 0.9986852481410408, 0.9986852481410408, 0.9986852481410408, 0.9986852481410408, 0.9986852481410408, 0.9986852481410408, 0.9986852481410408, 0.9986852481410408, 0.9986852481410408, 0.9986852481410408, 0.9986852481410408, 0.9986852481410408, 0.9986852481410408, 0.9986852481410408, 0.9986852481410408, 0.9986852481410408, 0.9986852481410408, 0.9986852481410408, 0.9986852481410408, 0.9986852481410408, 0.9986852481410408, 0.9986852481410408, 0.9986852481410408, 0.9986852481410408, 0.9986852481410408, 0.9986852481410408, 0.9986852481410408, 0.9986852481410408, 0.9986852481410408, 0.9986852481410408, 0.9986852481410408, 0.9986852481410408, 0.9986852481410408, 0.9986852481410408, 0.9986852481410408, 0.9986852481410408, 0.9986852481410408, 0.9986852481410408, 0.9986852481410408, 0.9986852481410408, 0.9986852481410408, 0.9986852481410408, 0.9986852481410408, 0.9986852481410408, 0.9986852481410408, 0.9986852481410408, 0.9986852481410408, 0.9986852481410408, 0.9986852481410408, 0.9986852481410408, 0.9986852481410408, 0.9986852481410408, 0.9986852481410408, 0.9986852481410408, 0.9986852481410408, 0.9986852481410408, 0.9986852481410408, 0.9986852481410408, 0.9986852481410408, 0.9986852481410408, 0.9988622462491957, 0.9988622462491957]}], \"root_mean_squared_log_error\": [{\"categories\": [\"0\", \"1\", \"2\", \"3\", \"4\", \"5\", \"6\", \"7\", \"8\", \"9\", \"10\", \"11\", \"12\", \"13\", \"14\", \"15\", \"16\", \"17\", \"18\", \"19\", \"20\", \"21\", \"22\", \"23\", \"24\", \"25\", \"26\", \"27\", \"28\", \"29\", \"30\", \"31\", \"32\", \"33\", \"34\", \"35\", \"36\", \"37\", \"38\", \"39\", \"40\", \"41\", \"42\", \"43\", \"44\", \"45\", \"46\", \"47\", \"48\", \"49\", \"50\", \"51\", \"52\", \"53\", \"54\", \"55\", \"56\", \"57\", \"58\", \"59\", \"60\", \"61\", \"62\", \"63\", \"64\", \"65\", \"66\", \"67\", \"68\", \"69\", \"70\", \"71\", \"72\", \"73\", \"74\", \"75\", \"76\", \"77\", \"78\", \"79\", \"80\", \"81\", \"82\", \"83\", \"84\", \"85\", \"86\", \"87\", \"88\", \"89\", \"90\", \"91\", \"92\", \"93\", \"94\", \"95\", \"96\", \"97\", \"98\", \"99\", \"100\", \"104\", \"105\"], \"mode\": \"markers\", \"name\": \"root_mean_squared_log_error\", \"stepped\": false, \"type\": \"scatter\", \"data\": [0.01038672732394432, 0.0093307800661351, 0.018676790632395322, 0.022086716692379296, 0.009373516269036092, 0.014498523940691468, 0.028577376150676872, 0.009261808096144407, 0.016225307106180677, 0.01587227617166578, 0.015662295795119706, 0.019105134833258684, 0.054077210849631234, 0.014825498440315, 0.016182836067240303, 0.05475992138553049, 0.01732988657082899, 0.015357733667237491, 0.055443149685577287, 0.03404288712769559, 0.016558318784920062, 0.04948961572764407, 0.015082029409762726, 0.013154572405203737, 0.010373891870130776, 0.07420269018825683, 0.053347202826905325, 0.06146343629644906, 0.019145540038176388, 0.022042207136026542, 0.02073288455420842, 0.01470495480049238, 0.014729179493890911, 0.024833104635663867, 0.06743043615939054, 0.0223912749185316, 0.038638020149408335, 0.014932953524194362, 0.016603708707919298, 0.014960052410575837, 0.037302573483004385, 0.01647398553020785, 0.01655831878492008, 0.03961379840217985, 0.016601989404138855, 0.014502887019284786, 0.028896877404037083, 0.015008594079784152, 0.016600294347740237, 0.0782918760867597, 0.00917438240684003, 0.014825498440314987, 0.018458090545322953, 0.014737021541693396, 0.020584662161981005, 0.010197455123117382, 0.034177441278908906, 0.017297772318172675, 0.03879909083106158, 0.015430515249478832, 0.010281327397118116, 0.025183829521029547, 0.028147979286237343, 0.01675423782301514, 0.030062484546660714, 0.011819783097130632, 0.014928430350745057, 0.014970113929104406, 0.014990334399163882, 0.015003825654160441, 0.025219925597675195, 0.014967131160736948, 0.014986113426431559, 0.016558318784920062, 0.020895289818521123, 0.012729148168648485, 0.016603453619388257, 0.01058052380420843, 0.015918049751708723, 0.019713117840927646, 0.00926228276063096, 0.01881534727585229, 0.015271418901272796, 0.015733538970117176, 0.018101518161731264, 0.011758087312499476, 0.020917802906863736, 0.023859748647998114, 0.01652119009603636, 0.016603453619388257, 0.010218522892327426, 0.014985973978809316, 0.02913336347630463, 0.014515644022698046, 0.02626725040493488, 0.013862073961070512, 0.01980047567798636, 0.02528085932220656, 0.034396776158253435, 0.015003825654160438, 0.012614352135450124, 0.007828936119017896, 0.007894790895621452]}, {\"categories\": [\"0\", \"1\", \"2\", \"3\", \"4\", \"5\", \"6\", \"7\", \"8\", \"9\", \"10\", \"11\", \"12\", \"13\", \"14\", \"15\", \"16\", \"17\", \"18\", \"19\", \"20\", \"21\", \"22\", \"23\", \"24\", \"25\", \"26\", \"27\", \"28\", \"29\", \"30\", \"31\", \"32\", \"33\", \"34\", \"35\", \"36\", \"37\", \"38\", \"39\", \"40\", \"41\", \"42\", \"43\", \"44\", \"45\", \"46\", \"47\", \"48\", \"49\", \"50\", \"51\", \"52\", \"53\", \"54\", \"55\", \"56\", \"57\", \"58\", \"59\", \"60\", \"61\", \"62\", \"63\", \"64\", \"65\", \"66\", \"67\", \"68\", \"69\", \"70\", \"71\", \"72\", \"73\", \"74\", \"75\", \"76\", \"77\", \"78\", \"79\", \"80\", \"81\", \"82\", \"83\", \"84\", \"85\", \"86\", \"87\", \"88\", \"89\", \"90\", \"91\", \"92\", \"93\", \"94\", \"95\", \"96\", \"97\", \"98\", \"99\", \"100\", \"104\", \"105\"], \"mode\": \"lines\", \"name\": \"root_mean_squared_log_error_min\", \"stepped\": true, \"type\": \"scatter\", \"data\": [0.01038672732394432, 0.0093307800661351, 0.0093307800661351, 0.0093307800661351, 0.0093307800661351, 0.0093307800661351, 0.0093307800661351, 0.009261808096144407, 0.009261808096144407, 0.009261808096144407, 0.009261808096144407, 0.009261808096144407, 0.009261808096144407, 0.009261808096144407, 0.009261808096144407, 0.009261808096144407, 0.009261808096144407, 0.009261808096144407, 0.009261808096144407, 0.009261808096144407, 0.009261808096144407, 0.009261808096144407, 0.009261808096144407, 0.009261808096144407, 0.009261808096144407, 0.009261808096144407, 0.009261808096144407, 0.009261808096144407, 0.009261808096144407, 0.009261808096144407, 0.009261808096144407, 0.009261808096144407, 0.009261808096144407, 0.009261808096144407, 0.009261808096144407, 0.009261808096144407, 0.009261808096144407, 0.009261808096144407, 0.009261808096144407, 0.009261808096144407, 0.009261808096144407, 0.009261808096144407, 0.009261808096144407, 0.009261808096144407, 0.009261808096144407, 0.009261808096144407, 0.009261808096144407, 0.009261808096144407, 0.009261808096144407, 0.009261808096144407, 0.00917438240684003, 0.00917438240684003, 0.00917438240684003, 0.00917438240684003, 0.00917438240684003, 0.00917438240684003, 0.00917438240684003, 0.00917438240684003, 0.00917438240684003, 0.00917438240684003, 0.00917438240684003, 0.00917438240684003, 0.00917438240684003, 0.00917438240684003, 0.00917438240684003, 0.00917438240684003, 0.00917438240684003, 0.00917438240684003, 0.00917438240684003, 0.00917438240684003, 0.00917438240684003, 0.00917438240684003, 0.00917438240684003, 0.00917438240684003, 0.00917438240684003, 0.00917438240684003, 0.00917438240684003, 0.00917438240684003, 0.00917438240684003, 0.00917438240684003, 0.00917438240684003, 0.00917438240684003, 0.00917438240684003, 0.00917438240684003, 0.00917438240684003, 0.00917438240684003, 0.00917438240684003, 0.00917438240684003, 0.00917438240684003, 0.00917438240684003, 0.00917438240684003, 0.00917438240684003, 0.00917438240684003, 0.00917438240684003, 0.00917438240684003, 0.00917438240684003, 0.00917438240684003, 0.00917438240684003, 0.00917438240684003, 0.00917438240684003, 0.00917438240684003, 0.007828936119017896, 0.007828936119017896]}]}, \"metricName\": null, \"primaryMetricName\": \"r2_score\", \"showLegend\": false}, \"run_metrics\": [{\"name\": \"experiment_status\", \"run_id\": \"AutoML_1cf7d1e4-eb24-4b07-b562-79b16f8596d0\", \"categories\": [0, 1, 2, 3, 4, 5, 6, 7, 8, 9, 10, 11, 12, 13], \"series\": [{\"data\": [\"DatasetEvaluation\", \"FeaturesGeneration\", \"DatasetFeaturization\", \"DatasetFeaturizationCompleted\", \"DatasetCrossValidationSplit\", \"ModelSelection\", \"BestRunExplainModel\", \"ModelExplanationDataSetSetup\", \"PickSurrogateModel\", \"EngineeredFeatureExplanations\", \"EngineeredFeatureExplanations\", \"RawFeaturesExplanations\", \"RawFeaturesExplanations\", \"BestRunExplainModel\"]}]}, {\"name\": \"experiment_status_description\", \"run_id\": \"AutoML_1cf7d1e4-eb24-4b07-b562-79b16f8596d0\", \"categories\": [0, 1, 2, 3, 4, 5, 6, 7, 8, 9, 10, 11, 12, 13], \"series\": [{\"data\": [\"Gathering dataset statistics.\", \"Generating features for the dataset.\", \"Beginning to fit featurizers and featurize the dataset.\", \"Completed fit featurizers and featurizing the dataset.\", \"Generating individually featurized CV splits.\", \"Beginning model selection.\", \"Best run model explanations started\", \"Model explanations data setup completed\", \"Choosing LightGBM as the surrogate model for explanations\", \"Computation of engineered features started\", \"Computation of engineered features completed\", \"Computation of raw features started\", \"Computation of raw features completed\", \"Best run model explanations completed\"]}]}, {\"name\": \"median_absolute_error\", \"run_id\": \"AutoML_1cf7d1e4-eb24-4b07-b562-79b16f8596d0\", \"categories\": [0], \"series\": [{\"data\": [0.025346942404227264]}]}, {\"name\": \"normalized_mean_absolute_error\", \"run_id\": \"AutoML_1cf7d1e4-eb24-4b07-b562-79b16f8596d0\", \"categories\": [0], \"series\": [{\"data\": [0.0045446443324167534]}]}, {\"name\": \"root_mean_squared_log_error\", \"run_id\": \"AutoML_1cf7d1e4-eb24-4b07-b562-79b16f8596d0\", \"categories\": [0], \"series\": [{\"data\": [0.007828936119017896]}]}, {\"name\": \"mean_absolute_error\", \"run_id\": \"AutoML_1cf7d1e4-eb24-4b07-b562-79b16f8596d0\", \"categories\": [0], \"series\": [{\"data\": [0.029085723727467223]}]}, {\"name\": \"root_mean_squared_error\", \"run_id\": \"AutoML_1cf7d1e4-eb24-4b07-b562-79b16f8596d0\", \"categories\": [0], \"series\": [{\"data\": [0.037063558987341656]}]}, {\"name\": \"normalized_root_mean_squared_error\", \"run_id\": \"AutoML_1cf7d1e4-eb24-4b07-b562-79b16f8596d0\", \"categories\": [0], \"series\": [{\"data\": [0.005791181091772134]}]}, {\"name\": \"explained_variance\", \"run_id\": \"AutoML_1cf7d1e4-eb24-4b07-b562-79b16f8596d0\", \"categories\": [0], \"series\": [{\"data\": [0.9978734918257425]}]}, {\"name\": \"spearman_correlation\", \"run_id\": \"AutoML_1cf7d1e4-eb24-4b07-b562-79b16f8596d0\", \"categories\": [0], \"series\": [{\"data\": [0.9988622462491957]}]}, {\"name\": \"normalized_root_mean_squared_log_error\", \"run_id\": \"AutoML_1cf7d1e4-eb24-4b07-b562-79b16f8596d0\", \"categories\": [0], \"series\": [{\"data\": [0.005884586821424402]}]}, {\"name\": \"normalized_median_absolute_error\", \"run_id\": \"AutoML_1cf7d1e4-eb24-4b07-b562-79b16f8596d0\", \"categories\": [0], \"series\": [{\"data\": [0.00396045975066051]}]}, {\"name\": \"r2_score\", \"run_id\": \"AutoML_1cf7d1e4-eb24-4b07-b562-79b16f8596d0\", \"categories\": [0], \"series\": [{\"data\": [0.9978726380803238]}]}, {\"name\": \"mean_absolute_percentage_error\", \"run_id\": \"AutoML_1cf7d1e4-eb24-4b07-b562-79b16f8596d0\", \"categories\": [0], \"series\": [{\"data\": [0.7338530438282841]}]}], \"run_logs\": \"\\nRun is completed.\", \"graph\": {}, \"widget_settings\": {\"childWidgetDisplay\": \"popup\", \"send_telemetry\": false, \"log_level\": \"INFO\", \"sdk_version\": \"1.20.0\"}, \"loading\": false}"
          },
          "metadata": {}
        },
        {
          "output_type": "stream",
          "name": "stdout",
          "text": [
            "\n",
            "\n",
            "****************************************************************************************************\n",
            "DATA GUARDRAILS: \n",
            "\n",
            "TYPE:         Missing feature values imputation\n",
            "STATUS:       PASSED\n",
            "DESCRIPTION:  No feature missing values were detected in the training data.\n",
            "              Learn more about missing value imputation: https://aka.ms/AutomatedMLFeaturization\n",
            "\n",
            "****************************************************************************************************\n",
            "\n",
            "TYPE:         High cardinality feature detection\n",
            "STATUS:       PASSED\n",
            "DESCRIPTION:  Your inputs were analyzed, and no high cardinality features were detected.\n",
            "              Learn more about high cardinality feature handling: https://aka.ms/AutomatedMLFeaturization\n",
            "\n",
            "****************************************************************************************************\n",
            "\n",
            "****************************************************************************************************\n",
            "ITERATION: The iteration being evaluated.\n",
            "PIPELINE: A summary description of the pipeline being evaluated.\n",
            "DURATION: Time taken for the current iteration.\n",
            "METRIC: The result of computing score on the fitted pipeline.\n",
            "BEST: The best observed score thus far.\n",
            "****************************************************************************************************\n",
            "\n",
            " ITERATION   PIPELINE                                       DURATION      METRIC      BEST\n",
            "         0   MaxAbsScaler LightGBM                          0:00:54       0.9966    0.9966\n",
            "         1   MaxAbsScaler XGBoostRegressor                  0:00:51       0.9968    0.9968\n",
            "         2   SparseNormalizer XGBoostRegressor              0:01:03       0.9874    0.9968\n",
            "         3   MaxAbsScaler RandomForest                      0:01:16       0.9865    0.9968\n",
            "         4   StandardScalerWrapper XGBoostRegressor         0:01:07       0.9972    0.9972\n",
            "         5   MaxAbsScaler ElasticNet                        0:00:54       0.9932    0.9972\n",
            "         6   MinMaxScaler RandomForest                      0:01:53       0.9739    0.9972\n",
            "         7   StandardScalerWrapper XGBoostRegressor         0:01:30       0.9972    0.9972\n",
            "        10   MinMaxScaler RandomForest                      0:02:11       0.9934    0.9972\n",
            "        11   MinMaxScaler RandomForest                      0:01:00       0.9899    0.9972\n",
            "         8   MinMaxScaler ExtremeRandomTrees                0:01:00       0.9931    0.9972\n",
            "         9   StandardScalerWrapper ElasticNet               0:01:00       0.9894    0.9972\n",
            "        12   StandardScalerWrapper XGBoostRegressor         0:00:52       0.8737    0.9972\n",
            "        13   RobustScaler LassoLars                         0:00:50       0.9936    0.9972\n",
            "        14   MinMaxScaler ExtremeRandomTrees                0:01:02       0.9926    0.9972\n",
            "        15   MaxAbsScaler ExtremeRandomTrees                0:00:54       0.8940    0.9972\n",
            "        16   MinMaxScaler ExtremeRandomTrees                0:00:57       0.9921    0.9972\n",
            "        17   MaxAbsScaler ElasticNet                        0:00:49       0.9920    0.9972\n",
            "        18   MinMaxScaler RandomForest                      0:00:55       0.8855    0.9972\n",
            "        19   MaxAbsScaler RandomForest                      0:00:51       0.9621    0.9972\n",
            "        20   RobustScaler ElasticNet                        0:00:57       0.9920    0.9972\n",
            "        21   StandardScalerWrapper RandomForest             0:01:03       0.9119    0.9972\n",
            "        22   MaxAbsScaler ElasticNet                        0:00:59       0.9924    0.9972\n",
            "        23   MinMaxScaler LightGBM                          0:00:55       0.9944    0.9972\n",
            "        24   StandardScalerWrapper XGBoostRegressor         0:01:19       0.9962    0.9972\n",
            "        25   SparseNormalizer XGBoostRegressor              0:00:57       0.7557    0.9972\n",
            "        26   StandardScalerWrapper RandomForest             0:00:51       0.8948    0.9972\n",
            "        27   SparseNormalizer XGBoostRegressor              0:00:47       0.8339    0.9972\n",
            "        28   RobustScaler LightGBM                          0:01:00       0.9878    0.9972\n",
            "        29   StandardScalerWrapper RandomForest             0:01:13       0.9862    0.9972\n",
            "        30   PCA XGBoostRegressor                           0:00:58       0.9862    0.9972\n",
            "        31   MaxAbsScaler LightGBM                          0:00:50       0.9933    0.9972\n",
            "        32   RobustScaler LightGBM                          0:01:13       0.9936    0.9972\n",
            "        33   RobustScaler ExtremeRandomTrees                0:01:25       0.9829    0.9972\n",
            "        34   PCA XGBoostRegressor                           0:01:04       0.8370    0.9972\n",
            "        35   MinMaxScaler SGD                               0:00:57       0.9782    0.9972\n",
            "        36   MaxAbsScaler DecisionTree                      0:01:03       0.9483    0.9972\n",
            "        37   RobustScaler ElasticNet                        0:01:02       0.9937    0.9972\n",
            "        38   RobustScaler ElasticNet                        0:00:51       0.9920    0.9972\n",
            "        39   StandardScalerWrapper ElasticNet               0:01:03       0.9937    0.9972\n",
            "        40   SparseNormalizer XGBoostRegressor              0:01:03       0.9463    0.9972\n",
            "        41   StandardScalerWrapper ElasticNet               0:00:51       0.9921    0.9972\n",
            "        42   RobustScaler ElasticNet                        0:00:54       0.9920    0.9972\n",
            "        43   RobustScaler RandomForest                      0:01:14       0.9446    0.9972\n",
            "        44   StandardScalerWrapper ElasticNet               0:00:59       0.9920    0.9972\n",
            "        45   StandardScalerWrapper XGBoostRegressor         0:00:58       0.9928    0.9972\n",
            "        46   StandardScalerWrapper ExtremeRandomTrees       0:01:32       0.9758    0.9972\n",
            "        47   StandardScalerWrapper ElasticNet               0:01:00       0.9936    0.9972\n",
            "        48   RobustScaler ElasticNet                        0:00:50       0.9920    0.9972\n",
            "        49   MaxAbsScaler SGD                               0:00:51       0.7526    0.9972\n",
            "        50   StandardScalerWrapper XGBoostRegressor         0:01:02       0.9970    0.9972\n",
            "        51   RobustScaler LassoLars                         0:00:51       0.9936    0.9972\n",
            "        52   MaxAbsScaler SGD                               0:01:00       0.9886    0.9972\n",
            "        53   RobustScaler GradientBoosting                  0:01:37       0.9931    0.9972\n",
            "        54   MaxAbsScaler SGD                               0:01:00       0.9848    0.9972\n",
            "        55   StandardScalerWrapper XGBoostRegressor         0:00:53       0.9964    0.9972\n",
            "        56   RobustScaler DecisionTree                      0:00:59       0.9585    0.9972\n",
            "        57   StandardScalerWrapper LightGBM                 0:00:52       0.9906    0.9972\n",
            "        58   MaxAbsScaler DecisionTree                      0:00:56       0.9476    0.9972\n",
            "        59   MinMaxScaler LightGBM                          0:01:06       0.9923    0.9972\n",
            "        60   StandardScalerWrapper XGBoostRegressor         0:00:57       0.9967    0.9972\n",
            "        61   MaxAbsScaler RandomForest                      0:00:58       0.9791    0.9972\n",
            "        62   StandardScalerWrapper ExtremeRandomTrees       0:00:59       0.9775    0.9972\n",
            "        63   StandardScalerWrapper RandomForest             0:00:50       0.9916    0.9972\n",
            "        64   MaxAbsScaler RandomForest                      0:00:53       0.9684    0.9972\n",
            "        65   StandardScalerWrapper XGBoostRegressor         0:01:06       0.9945    0.9972\n",
            "        66   MaxAbsScaler ElasticNet                        0:00:59       0.9926    0.9972\n",
            "        67   StandardScalerWrapper ElasticNet               0:01:00       0.9937    0.9972\n",
            "        68   StandardScalerWrapper ElasticNet               0:00:55       0.9936    0.9972\n",
            "        69   StandardScalerWrapper ElasticNet               0:00:57       0.9936    0.9972\n",
            "        70   StandardScalerWrapper XGBoostRegressor         0:01:42       0.9791    0.9972\n",
            "        71   StandardScalerWrapper LassoLars                0:00:52       0.9936    0.9972\n",
            "        72   StandardScalerWrapper ElasticNet               0:01:26       0.9936    0.9972\n",
            "        73   RobustScaler ElasticNet                        0:00:30       0.9920    0.9972\n",
            "        74   MaxAbsScaler RandomForest                      0:01:17       0.9864    0.9972\n",
            "        75   StandardScalerWrapper XGBoostRegressor         0:01:03       0.9944    0.9972\n",
            "        76   RobustScaler ElasticNet                        0:00:57       0.9920    0.9972\n",
            "        77   MinMaxScaler GradientBoosting                  0:01:31       0.9965    0.9972\n",
            "        78   MaxAbsScaler ElasticNet                        0:00:53       0.9907    0.9972\n",
            "        79   StandardScalerWrapper RandomForest             0:00:57       0.9876    0.9972\n",
            "        80   StandardScalerWrapper XGBoostRegressor         0:01:38       0.9972    0.9972\n",
            "        81   MaxAbsScaler RandomForest                      0:02:22       0.9893    0.9972\n",
            "        82   StandardScalerWrapper LightGBM                 0:01:01       0.9930    0.9972\n",
            "        83   RobustScaler RandomForest                      0:01:05       0.9925    0.9972\n",
            "        84   StandardScalerWrapper LightGBM                 0:01:06       0.9892    0.9972\n",
            "        85   StandardScalerWrapper XGBoostRegressor         0:00:55       0.9954    0.9972\n",
            "        86   RobustScaler RandomForest                      0:01:21       0.9862    0.9972\n",
            "        87   StandardScalerWrapper RandomForest             0:01:13       0.9834    0.9972\n",
            "        88   MinMaxScaler LightGBM                          0:01:16       0.9915    0.9972\n",
            "        89   RobustScaler ElasticNet                        0:01:12       0.9920    0.9972\n",
            "        90   StandardScalerWrapper XGBoostRegressor         0:01:00       0.9966    0.9972\n",
            "        91   RobustScaler ElasticNet                        0:01:12       0.9936    0.9972\n",
            "        92   MinMaxScaler RandomForest                      0:01:24       0.9726    0.9972\n",
            "        93   MinMaxScaler ElasticNet                        0:01:03       0.9935    0.9972\n",
            "        94   MinMaxScaler DecisionTree                      0:00:57       0.9761    0.9972\n",
            "        95   StandardScalerWrapper XGBoostRegressor         0:00:49       0.9935    0.9972\n",
            "        96   StandardScalerWrapper RandomForest             0:00:51       0.9893    0.9972\n",
            "        97   MaxAbsScaler RandomForest                      0:01:33       0.9807    0.9972\n",
            "        98   RobustScaler RandomForest                      0:01:27       0.9617    0.9972\n",
            "        99   StandardScalerWrapper ElasticNet               0:00:53       0.9936    0.9972\n",
            "       100   StandardScalerWrapper XGBoostRegressor         0:00:57       0.9951    0.9972\n",
            "       101                                                  0:00:25          nan    0.9972\n",
            "ERROR: {\n",
            "    \"additional_properties\": {},\n",
            "    \"error\": {\n",
            "        \"additional_properties\": {\n",
            "            \"debugInfo\": null\n",
            "        },\n",
            "        \"code\": \"UserError\",\n",
            "        \"severity\": null,\n",
            "        \"message\": \"Experiment timeout reached, please consider increasing your experiment timeout.\",\n",
            "        \"message_format\": \"Experiment timeout reached, please consider increasing your experiment timeout.\",\n",
            "        \"message_parameters\": {},\n",
            "        \"reference_code\": null,\n",
            "        \"details_uri\": null,\n",
            "        \"target\": null,\n",
            "        \"details\": [],\n",
            "        \"inner_error\": {\n",
            "            \"additional_properties\": {},\n",
            "            \"code\": \"ResourceExhausted\",\n",
            "            \"inner_error\": {\n",
            "                \"additional_properties\": {},\n",
            "                \"code\": \"Timeout\",\n",
            "                \"inner_error\": {\n",
            "                    \"additional_properties\": {},\n",
            "                    \"code\": \"ExperimentTimeoutForIterations\",\n",
            "                    \"inner_error\": null\n",
            "                }\n",
            "            }\n",
            "        }\n",
            "    },\n",
            "    \"correlation\": null,\n",
            "    \"environment\": null,\n",
            "    \"location\": null,\n",
            "    \"time\": {},\n",
            "    \"component_name\": null\n",
            "}\n",
            "       102                                                  0:00:21          nan    0.9972\n",
            "ERROR: {\n",
            "    \"additional_properties\": {},\n",
            "    \"error\": {\n",
            "        \"additional_properties\": {\n",
            "            \"debugInfo\": null\n",
            "        },\n",
            "        \"code\": \"UserError\",\n",
            "        \"severity\": null,\n",
            "        \"message\": \"Experiment timeout reached, please consider increasing your experiment timeout.\",\n",
            "        \"message_format\": \"Experiment timeout reached, please consider increasing your experiment timeout.\",\n",
            "        \"message_parameters\": {},\n",
            "        \"reference_code\": null,\n",
            "        \"details_uri\": null,\n",
            "        \"target\": null,\n",
            "        \"details\": [],\n",
            "        \"inner_error\": {\n",
            "            \"additional_properties\": {},\n",
            "            \"code\": \"ResourceExhausted\",\n",
            "            \"inner_error\": {\n",
            "                \"additional_properties\": {},\n",
            "                \"code\": \"Timeout\",\n",
            "                \"inner_error\": {\n",
            "                    \"additional_properties\": {},\n",
            "                    \"code\": \"ExperimentTimeoutForIterations\",\n",
            "                    \"inner_error\": null\n",
            "                }\n",
            "            }\n",
            "        }\n",
            "    },\n",
            "    \"correlation\": null,\n",
            "    \"environment\": null,\n",
            "    \"location\": null,\n",
            "    \"time\": {},\n",
            "    \"component_name\": null\n",
            "}\n",
            "       103                                                  0:00:20          nan    0.9972\n",
            "ERROR: {\n",
            "    \"additional_properties\": {},\n",
            "    \"error\": {\n",
            "        \"additional_properties\": {\n",
            "            \"debugInfo\": null\n",
            "        },\n",
            "        \"code\": \"UserError\",\n",
            "        \"severity\": null,\n",
            "        \"message\": \"Experiment timeout reached, please consider increasing your experiment timeout.\",\n",
            "        \"message_format\": \"Experiment timeout reached, please consider increasing your experiment timeout.\",\n",
            "        \"message_parameters\": {},\n",
            "        \"reference_code\": null,\n",
            "        \"details_uri\": null,\n",
            "        \"target\": null,\n",
            "        \"details\": [],\n",
            "        \"inner_error\": {\n",
            "            \"additional_properties\": {},\n",
            "            \"code\": \"ResourceExhausted\",\n",
            "            \"inner_error\": {\n",
            "                \"additional_properties\": {},\n",
            "                \"code\": \"Timeout\",\n",
            "                \"inner_error\": {\n",
            "                    \"additional_properties\": {},\n",
            "                    \"code\": \"ExperimentTimeoutForIterations\",\n",
            "                    \"inner_error\": null\n",
            "                }\n",
            "            }\n",
            "        }\n",
            "    },\n",
            "    \"correlation\": null,\n",
            "    \"environment\": null,\n",
            "    \"location\": null,\n",
            "    \"time\": {},\n",
            "    \"component_name\": null\n",
            "}\n",
            "       104    VotingEnsemble                                0:02:00       0.9979    0.9979\n",
            "       105    StackEnsemble                                 0:02:10       0.9979    0.9979\n"
          ]
        },
        {
          "output_type": "execute_result",
          "execution_count": 9,
          "data": {
            "text/plain": "{'runId': 'AutoML_1cf7d1e4-eb24-4b07-b562-79b16f8596d0',\n 'target': 'automl-cluster',\n 'status': 'Completed',\n 'startTimeUtc': '2021-01-25T22:04:05.492107Z',\n 'endTimeUtc': '2021-01-25T22:46:25.240685Z',\n 'properties': {'num_iterations': '1000',\n  'training_type': 'TrainFull',\n  'acquisition_function': 'EI',\n  'primary_metric': 'r2_score',\n  'train_split': '0',\n  'acquisition_parameter': '0',\n  'num_cross_validation': '3',\n  'target': 'automl-cluster',\n  'AMLSettingsJsonString': '{\"path\":null,\"name\":\"ideb-regression\",\"subscription_id\":\"a748a023-896b-4719-8f8e-3d1ba62d6e35\",\"resource_group\":\"RG-AZML\",\"workspace_name\":\"AZML\",\"region\":\"eastus\",\"compute_target\":\"automl-cluster\",\"spark_service\":null,\"azure_service\":\"remote\",\"many_models\":false,\"pipeline_fetch_max_batch_size\":1,\"iterations\":1000,\"primary_metric\":\"r2_score\",\"task_type\":\"regression\",\"data_script\":null,\"validation_size\":0.0,\"n_cross_validations\":3,\"y_min\":null,\"y_max\":null,\"num_classes\":null,\"featurization\":\"auto\",\"_ignore_package_version_incompatibilities\":false,\"is_timeseries\":false,\"max_cores_per_iteration\":1,\"max_concurrent_iterations\":4,\"iteration_timeout_minutes\":null,\"mem_in_mb\":null,\"enforce_time_on_windows\":false,\"experiment_timeout_minutes\":36,\"experiment_exit_score\":null,\"whitelist_models\":null,\"blacklist_algos\":[\"TensorFlowDNN\",\"TensorFlowLinearRegressor\"],\"supported_models\":[\"OnlineGradientDescentRegressor\",\"KNN\",\"ExtremeRandomTrees\",\"LassoLars\",\"LightGBM\",\"XGBoostRegressor\",\"TensorFlowLinearRegressor\",\"RandomForest\",\"FastLinearRegressor\",\"SGD\",\"ElasticNet\",\"DecisionTree\",\"TensorFlowDNN\",\"GradientBoosting\"],\"auto_blacklist\":true,\"blacklist_samples_reached\":false,\"exclude_nan_labels\":true,\"verbosity\":20,\"_debug_log\":\"azureml_automl.log\",\"show_warnings\":false,\"model_explainability\":true,\"service_url\":null,\"sdk_url\":null,\"sdk_packages\":null,\"enable_onnx_compatible_models\":false,\"enable_split_onnx_featurizer_estimator_models\":false,\"vm_type\":\"STANDARD_DS3_V2\",\"telemetry_verbosity\":20,\"send_telemetry\":true,\"enable_dnn\":false,\"scenario\":\"SDK-1.13.0\",\"environment_label\":null,\"force_text_dnn\":false,\"enable_feature_sweeping\":true,\"enable_early_stopping\":false,\"early_stopping_n_iters\":10,\"metrics\":null,\"enable_ensembling\":true,\"enable_stack_ensembling\":true,\"ensemble_iterations\":15,\"enable_tf\":false,\"enable_subsampling\":null,\"subsample_seed\":null,\"enable_nimbusml\":false,\"enable_streaming\":false,\"force_streaming\":false,\"track_child_runs\":true,\"allowed_private_models\":[],\"label_column_name\":\"IDEB_2019\",\"weight_column_name\":null,\"cv_split_column_names\":null,\"enable_local_managed\":false,\"_local_managed_run_id\":null,\"cost_mode\":1,\"lag_length\":0,\"metric_operation\":\"maximize\",\"preprocess\":true}',\n  'DataPrepJsonString': '{\\\\\"training_data\\\\\": \\\\\"{\\\\\\\\\\\\\"blocks\\\\\\\\\\\\\": [{\\\\\\\\\\\\\"id\\\\\\\\\\\\\": \\\\\\\\\\\\\"823dab97-9480-4378-8c08-4aec261bc0f3\\\\\\\\\\\\\", \\\\\\\\\\\\\"type\\\\\\\\\\\\\": \\\\\\\\\\\\\"Microsoft.DPrep.GetDatastoreFilesBlock\\\\\\\\\\\\\", \\\\\\\\\\\\\"arguments\\\\\\\\\\\\\": {\\\\\\\\\\\\\"datastores\\\\\\\\\\\\\": [{\\\\\\\\\\\\\"datastoreName\\\\\\\\\\\\\": \\\\\\\\\\\\\"workspaceblobstore\\\\\\\\\\\\\", \\\\\\\\\\\\\"path\\\\\\\\\\\\\": \\\\\\\\\\\\\"UI/01-20-2021_015249_UTC/data.CSV\\\\\\\\\\\\\", \\\\\\\\\\\\\"resourceGroup\\\\\\\\\\\\\": \\\\\\\\\\\\\"RG-AZML\\\\\\\\\\\\\", \\\\\\\\\\\\\"subscription\\\\\\\\\\\\\": \\\\\\\\\\\\\"a748a023-896b-4719-8f8e-3d1ba62d6e35\\\\\\\\\\\\\", \\\\\\\\\\\\\"workspaceName\\\\\\\\\\\\\": \\\\\\\\\\\\\"AZML\\\\\\\\\\\\\"}]}, \\\\\\\\\\\\\"localData\\\\\\\\\\\\\": {}, \\\\\\\\\\\\\"isEnabled\\\\\\\\\\\\\": true, \\\\\\\\\\\\\"name\\\\\\\\\\\\\": null, \\\\\\\\\\\\\"annotation\\\\\\\\\\\\\": null}, {\\\\\\\\\\\\\"id\\\\\\\\\\\\\": \\\\\\\\\\\\\"76adb1eb-bf70-4771-bfa7-4e59f7b8e108\\\\\\\\\\\\\", \\\\\\\\\\\\\"type\\\\\\\\\\\\\": \\\\\\\\\\\\\"Microsoft.DPrep.ParseDelimitedBlock\\\\\\\\\\\\\", \\\\\\\\\\\\\"arguments\\\\\\\\\\\\\": {\\\\\\\\\\\\\"columnHeadersMode\\\\\\\\\\\\\": 1, \\\\\\\\\\\\\"fileEncoding\\\\\\\\\\\\\": 0, \\\\\\\\\\\\\"handleQuotedLineBreaks\\\\\\\\\\\\\": false, \\\\\\\\\\\\\"preview\\\\\\\\\\\\\": false, \\\\\\\\\\\\\"separator\\\\\\\\\\\\\": \\\\\\\\\\\\\";\\\\\\\\\\\\\", \\\\\\\\\\\\\"skipRows\\\\\\\\\\\\\": 0, \\\\\\\\\\\\\"skipRowsMode\\\\\\\\\\\\\": 0}, \\\\\\\\\\\\\"localData\\\\\\\\\\\\\": {}, \\\\\\\\\\\\\"isEnabled\\\\\\\\\\\\\": true, \\\\\\\\\\\\\"name\\\\\\\\\\\\\": null, \\\\\\\\\\\\\"annotation\\\\\\\\\\\\\": null}, {\\\\\\\\\\\\\"id\\\\\\\\\\\\\": \\\\\\\\\\\\\"e64ec390-9ab1-4697-a1c0-a78e859f8075\\\\\\\\\\\\\", \\\\\\\\\\\\\"type\\\\\\\\\\\\\": \\\\\\\\\\\\\"Microsoft.DPrep.DropColumnsBlock\\\\\\\\\\\\\", \\\\\\\\\\\\\"arguments\\\\\\\\\\\\\": {\\\\\\\\\\\\\"columns\\\\\\\\\\\\\": {\\\\\\\\\\\\\"type\\\\\\\\\\\\\": 0, \\\\\\\\\\\\\"details\\\\\\\\\\\\\": {\\\\\\\\\\\\\"selectedColumns\\\\\\\\\\\\\": [\\\\\\\\\\\\\"Path\\\\\\\\\\\\\"]}}}, \\\\\\\\\\\\\"localData\\\\\\\\\\\\\": {}, \\\\\\\\\\\\\"isEnabled\\\\\\\\\\\\\": true, \\\\\\\\\\\\\"name\\\\\\\\\\\\\": null, \\\\\\\\\\\\\"annotation\\\\\\\\\\\\\": null}, {\\\\\\\\\\\\\"id\\\\\\\\\\\\\": \\\\\\\\\\\\\"6e49ef01-f4a3-43db-8a3e-f72409add096\\\\\\\\\\\\\", \\\\\\\\\\\\\"type\\\\\\\\\\\\\": \\\\\\\\\\\\\"Microsoft.DPrep.SetColumnTypesBlock\\\\\\\\\\\\\", \\\\\\\\\\\\\"arguments\\\\\\\\\\\\\": {\\\\\\\\\\\\\"columnConversion\\\\\\\\\\\\\": [{\\\\\\\\\\\\\"column\\\\\\\\\\\\\": {\\\\\\\\\\\\\"type\\\\\\\\\\\\\": 2, \\\\\\\\\\\\\"details\\\\\\\\\\\\\": {\\\\\\\\\\\\\"selectedColumn\\\\\\\\\\\\\": \\\\\\\\\\\\\"Path\\\\\\\\\\\\\"}}, \\\\\\\\\\\\\"typeProperty\\\\\\\\\\\\\": 0}, {\\\\\\\\\\\\\"column\\\\\\\\\\\\\": {\\\\\\\\\\\\\"type\\\\\\\\\\\\\": 2, \\\\\\\\\\\\\"details\\\\\\\\\\\\\": {\\\\\\\\\\\\\"selectedColumn\\\\\\\\\\\\\": \\\\\\\\\\\\\"TAprov2019_Total\\\\\\\\\\\\\"}}, \\\\\\\\\\\\\"typeProperty\\\\\\\\\\\\\": 3}, {\\\\\\\\\\\\\"column\\\\\\\\\\\\\": {\\\\\\\\\\\\\"type\\\\\\\\\\\\\": 2, \\\\\\\\\\\\\"details\\\\\\\\\\\\\": {\\\\\\\\\\\\\"selectedColumn\\\\\\\\\\\\\": \\\\\\\\\\\\\"TAprov2019_1_serie\\\\\\\\\\\\\"}}, \\\\\\\\\\\\\"typeProperty\\\\\\\\\\\\\": 3}, {\\\\\\\\\\\\\"column\\\\\\\\\\\\\": {\\\\\\\\\\\\\"type\\\\\\\\\\\\\": 2, \\\\\\\\\\\\\"details\\\\\\\\\\\\\": {\\\\\\\\\\\\\"selectedColumn\\\\\\\\\\\\\": \\\\\\\\\\\\\"TAprov2019_2_serie\\\\\\\\\\\\\"}}, \\\\\\\\\\\\\"typeProperty\\\\\\\\\\\\\": 3}, {\\\\\\\\\\\\\"column\\\\\\\\\\\\\": {\\\\\\\\\\\\\"type\\\\\\\\\\\\\": 2, \\\\\\\\\\\\\"details\\\\\\\\\\\\\": {\\\\\\\\\\\\\"selectedColumn\\\\\\\\\\\\\": \\\\\\\\\\\\\"TAprov2019_3_serie\\\\\\\\\\\\\"}}, \\\\\\\\\\\\\"typeProperty\\\\\\\\\\\\\": 3}, {\\\\\\\\\\\\\"column\\\\\\\\\\\\\": {\\\\\\\\\\\\\"type\\\\\\\\\\\\\": 2, \\\\\\\\\\\\\"details\\\\\\\\\\\\\": {\\\\\\\\\\\\\"selectedColumn\\\\\\\\\\\\\": \\\\\\\\\\\\\"TAprov2019_4_serie\\\\\\\\\\\\\"}}, \\\\\\\\\\\\\"typeProperty\\\\\\\\\\\\\": 3}, {\\\\\\\\\\\\\"column\\\\\\\\\\\\\": {\\\\\\\\\\\\\"type\\\\\\\\\\\\\": 2, \\\\\\\\\\\\\"details\\\\\\\\\\\\\": {\\\\\\\\\\\\\"selectedColumn\\\\\\\\\\\\\": \\\\\\\\\\\\\"Indicador_Rendimento\\\\\\\\\\\\\"}}, \\\\\\\\\\\\\"typeProperty\\\\\\\\\\\\\": 3}, {\\\\\\\\\\\\\"column\\\\\\\\\\\\\": {\\\\\\\\\\\\\"type\\\\\\\\\\\\\": 2, \\\\\\\\\\\\\"details\\\\\\\\\\\\\": {\\\\\\\\\\\\\"selectedColumn\\\\\\\\\\\\\": \\\\\\\\\\\\\"SAEB2019_Matematica\\\\\\\\\\\\\"}}, \\\\\\\\\\\\\"typeProperty\\\\\\\\\\\\\": 3}, {\\\\\\\\\\\\\"column\\\\\\\\\\\\\": {\\\\\\\\\\\\\"type\\\\\\\\\\\\\": 2, \\\\\\\\\\\\\"details\\\\\\\\\\\\\": {\\\\\\\\\\\\\"selectedColumn\\\\\\\\\\\\\": \\\\\\\\\\\\\"SAEB2019_Lingua Portuguesa\\\\\\\\\\\\\"}}, \\\\\\\\\\\\\"typeProperty\\\\\\\\\\\\\": 3}, {\\\\\\\\\\\\\"column\\\\\\\\\\\\\": {\\\\\\\\\\\\\"type\\\\\\\\\\\\\": 2, \\\\\\\\\\\\\"details\\\\\\\\\\\\\": {\\\\\\\\\\\\\"selectedColumn\\\\\\\\\\\\\": \\\\\\\\\\\\\"SAEB2019_Nota Media Padronizada\\\\\\\\\\\\\"}}, \\\\\\\\\\\\\"typeProperty\\\\\\\\\\\\\": 3}, {\\\\\\\\\\\\\"column\\\\\\\\\\\\\": {\\\\\\\\\\\\\"type\\\\\\\\\\\\\": 2, \\\\\\\\\\\\\"details\\\\\\\\\\\\\": {\\\\\\\\\\\\\"selectedColumn\\\\\\\\\\\\\": \\\\\\\\\\\\\"IDEB_2019\\\\\\\\\\\\\"}}, \\\\\\\\\\\\\"typeProperty\\\\\\\\\\\\\": 3}]}, \\\\\\\\\\\\\"localData\\\\\\\\\\\\\": {}, \\\\\\\\\\\\\"isEnabled\\\\\\\\\\\\\": true, \\\\\\\\\\\\\"name\\\\\\\\\\\\\": null, \\\\\\\\\\\\\"annotation\\\\\\\\\\\\\": null}], \\\\\\\\\\\\\"inspectors\\\\\\\\\\\\\": [], \\\\\\\\\\\\\"meta\\\\\\\\\\\\\": {\\\\\\\\\\\\\"savedDatasetId\\\\\\\\\\\\\": \\\\\\\\\\\\\"f0599236-e951-454b-a849-7b74ddb516d7\\\\\\\\\\\\\", \\\\\\\\\\\\\"datasetType\\\\\\\\\\\\\": \\\\\\\\\\\\\"tabular\\\\\\\\\\\\\", \\\\\\\\\\\\\"subscriptionId\\\\\\\\\\\\\": \\\\\\\\\\\\\"a748a023-896b-4719-8f8e-3d1ba62d6e35\\\\\\\\\\\\\", \\\\\\\\\\\\\"workspaceId\\\\\\\\\\\\\": \\\\\\\\\\\\\"a7aa8562-5b11-4624-8e55-9a41918831e8\\\\\\\\\\\\\", \\\\\\\\\\\\\"workspaceLocation\\\\\\\\\\\\\": \\\\\\\\\\\\\"eastus\\\\\\\\\\\\\"}}\\\\\", \\\\\"activities\\\\\": 0}',\n  'EnableSubsampling': None,\n  'runTemplate': 'AutoML',\n  'azureml.runsource': 'automl',\n  'display_task_type': 'regression',\n  'dependencies_versions': '{\"azureml-widgets\": \"1.19.0\", \"azureml-train\": \"1.20.0\", \"azureml-train-restclients-hyperdrive\": \"1.20.0\", \"azureml-train-core\": \"1.20.0\", \"azureml-train-automl\": \"1.20.0\", \"azureml-train-automl-runtime\": \"1.20.0.post1\", \"azureml-train-automl-client\": \"1.20.0\", \"azureml-tensorboard\": \"1.19.0\", \"azureml-telemetry\": \"1.20.0\", \"azureml-sdk\": \"1.20.0\", \"azureml-samples\": \"0+unknown\", \"azureml-pipeline\": \"1.20.0\", \"azureml-pipeline-steps\": \"1.20.0\", \"azureml-pipeline-core\": \"1.20.0\", \"azureml-opendatasets\": \"1.19.0\", \"azureml-model-management-sdk\": \"1.0.1b6.post1\", \"azureml-mlflow\": \"1.19.0\", \"azureml-interpret\": \"1.20.0\", \"azureml-explain-model\": \"1.19.0\", \"azureml-defaults\": \"1.20.0\", \"azureml-dataset-runtime\": \"1.20.0\", \"azureml-dataprep\": \"2.7.3\", \"azureml-dataprep-rslex\": \"1.5.0\", \"azureml-dataprep-native\": \"27.0.0\", \"azureml-datadrift\": \"1.19.0\", \"azureml-core\": \"1.20.0\", \"azureml-contrib-services\": \"1.19.0\", \"azureml-contrib-server\": \"1.19.0\", \"azureml-contrib-reinforcementlearning\": \"1.19.0\", \"azureml-contrib-pipeline-steps\": \"1.19.0\", \"azureml-contrib-notebook\": \"1.19.0\", \"azureml-contrib-interpret\": \"1.19.0\", \"azureml-contrib-gbdt\": \"1.19.0\", \"azureml-contrib-fairness\": \"1.19.0\", \"azureml-contrib-dataset\": \"1.19.0\", \"azureml-cli-common\": \"1.19.0\", \"azureml-automl-runtime\": \"1.20.0\", \"azureml-automl-core\": \"1.20.0\", \"azureml-accel-models\": \"1.19.0\"}',\n  '_aml_system_scenario_identification': 'Remote.Parent',\n  'ClientType': 'SDK',\n  'environment_cpu_name': 'AzureML-AutoML',\n  'environment_cpu_label': 'prod',\n  'environment_gpu_name': 'AzureML-AutoML-GPU',\n  'environment_gpu_label': 'prod',\n  'root_attribution': 'automl',\n  'attribution': 'AutoML',\n  'Orchestrator': 'AutoML',\n  'CancelUri': 'https://eastus.experiments.azureml.net/jasmine/v1.0/subscriptions/a748a023-896b-4719-8f8e-3d1ba62d6e35/resourceGroups/RG-AZML/providers/Microsoft.MachineLearningServices/workspaces/AZML/experimentids/337dcb8b-d3cc-4e85-b122-67c93e8ceec5/cancel/AutoML_1cf7d1e4-eb24-4b07-b562-79b16f8596d0',\n  'ClientSdkVersion': '1.20.0.post1',\n  'snapshotId': '00000000-0000-0000-0000-000000000000',\n  'SetupRunId': 'AutoML_1cf7d1e4-eb24-4b07-b562-79b16f8596d0_setup',\n  'SetupRunContainerId': 'dcid.AutoML_1cf7d1e4-eb24-4b07-b562-79b16f8596d0_setup',\n  'FeaturizationRunJsonPath': 'featurizer_container.json',\n  'FeaturizationRunId': 'AutoML_1cf7d1e4-eb24-4b07-b562-79b16f8596d0_featurize',\n  'ProblemInfoJsonString': '{\"dataset_num_categorical\": 0, \"is_sparse\": false, \"subsampling\": false, \"dataset_classes\": 62, \"dataset_features\": 9, \"dataset_samples\": 12079, \"single_frequency_class_detected\": false}',\n  'ModelExplainRunId': 'AutoML_1cf7d1e4-eb24-4b07-b562-79b16f8596d0_ModelExplain'},\n 'inputDatasets': [{'dataset': {'id': 'f0599236-e951-454b-a849-7b74ddb516d7'}, 'consumptionDetails': {'type': 'RunInput', 'inputName': 'training_data', 'mechanism': 'Direct'}}],\n 'outputDatasets': [],\n 'logFiles': {},\n 'submittedBy': 'Anderson Soares Furtado Oliveira'}"
          },
          "metadata": {}
        }
      ],
      "execution_count": 9,
      "metadata": {
        "gather": {
          "logged": 1611615516348
        },
        "jupyter": {
          "outputs_hidden": false,
          "source_hidden": false
        },
        "nteract": {
          "transient": {
            "deleting": false
          }
        }
      }
    },
    {
      "cell_type": "markdown",
      "source": [
        "## Create an environment"
      ],
      "metadata": {
        "nteract": {
          "transient": {
            "deleting": false
          }
        }
      }
    },
    {
      "cell_type": "code",
      "source": [
        "%%writefile conda_dependencies.yml\n",
        "\n",
        "dependencies:\n",
        "- python=3.6.2\n",
        "- pip=20.2.4\n",
        "- pip:\n",
        "  - azureml-core==1.20.0\n",
        "  - azureml-pipeline-core==1.20.0\n",
        "  - azureml-telemetry==1.20.0\n",
        "  - azureml-defaults==1.20.0\n",
        "  - azureml-interpret==1.20.0\n",
        "  - azureml-automl-core==1.20.0\n",
        "  - azureml-automl-runtime==1.20.0\n",
        "  - azureml-train-automl-client==1.20.0\n",
        "  - azureml-train-automl-runtime==1.20.0.post1\n",
        "  - azureml-dataset-runtime==1.20.0\n",
        "  - inference-schema\n",
        "  - py-cpuinfo==5.0.0\n",
        "  - boto3==1.15.18\n",
        "  - botocore==1.18.18\n",
        "- numpy~=1.18.0\n",
        "- scikit-learn==0.22.1\n",
        "- pandas~=0.25.0\n",
        "- fbprophet==0.5\n",
        "- holidays==0.9.11\n",
        "- setuptools-git\n",
        "- psutil>5.0.0,<6.0.0\n"
      ],
      "outputs": [
        {
          "output_type": "stream",
          "name": "stdout",
          "text": [
            "Overwriting conda_dependencies.yml\n"
          ]
        }
      ],
      "execution_count": 11,
      "metadata": {
        "collapsed": true,
        "jupyter": {
          "outputs_hidden": false,
          "source_hidden": false
        },
        "nteract": {
          "transient": {
            "deleting": false
          }
        }
      }
    },
    {
      "cell_type": "code",
      "source": [
        "from azureml.core import Environment\n",
        "from azureml.core.conda_dependencies import CondaDependencies\n",
        "\n",
        "env = Environment.get(workspace=ws, name=\"AzureML-AutoML\")\n",
        "#env = Environment.from_conda_specification(name = 'sklearn-env', file_path = './conda_dependencies.yml')\n"
      ],
      "outputs": [],
      "execution_count": 12,
      "metadata": {
        "collapsed": true,
        "gather": {
          "logged": 1611629578630
        },
        "jupyter": {
          "outputs_hidden": false,
          "source_hidden": false
        },
        "nteract": {
          "transient": {
            "deleting": false
          }
        }
      }
    },
    {
      "cell_type": "markdown",
      "source": [
        "## Best Model"
      ],
      "metadata": {
        "nteract": {
          "transient": {
            "deleting": false
          }
        }
      }
    },
    {
      "cell_type": "code",
      "source": [
        "best_run, fitted_model = remote_run.get_output()\n",
        "print(best_run)\n",
        "print(fitted_model)"
      ],
      "outputs": [
        {
          "output_type": "stream",
          "name": "stdout",
          "text": [
            "Run(Experiment: ideb-regression,\n",
            "Id: AutoML_1cf7d1e4-eb24-4b07-b562-79b16f8596d0_104,\n",
            "Type: azureml.scriptrun,\n",
            "Status: Completed)\n",
            "RegressionPipeline(pipeline=Pipeline(memory=None,\n",
            "                                     steps=[('datatransformer',\n",
            "                                             DataTransformer(enable_dnn=None,\n",
            "                                                             enable_feature_sweeping=None,\n",
            "                                                             feature_sweeping_config=None,\n",
            "                                                             feature_sweeping_timeout=None,\n",
            "                                                             featurization_config=None,\n",
            "                                                             force_text_dnn=None,\n",
            "                                                             is_cross_validation=None,\n",
            "                                                             is_onnx_compatible=None,\n",
            "                                                             logger=None,\n",
            "                                                             observer=None,\n",
            "                                                             task=None,\n",
            "                                                             working_dir=None)),\n",
            "                                            ('pre...\n",
            "                                                                                                                   l1_ratio=0.8957894736842106,\n",
            "                                                                                                                   max_iter=1000,\n",
            "                                                                                                                   normalize=False,\n",
            "                                                                                                                   positive=False,\n",
            "                                                                                                                   precompute=False,\n",
            "                                                                                                                   random_state=None,\n",
            "                                                                                                                   selection='cyclic',\n",
            "                                                                                                                   tol=0.0001,\n",
            "                                                                                                                   warm_start=False))],\n",
            "                                                                                                verbose=False))],\n",
            "                                                                          weights=[0.18181818181818182,\n",
            "                                                                                   0.18181818181818182,\n",
            "                                                                                   0.09090909090909091,\n",
            "                                                                                   0.2727272727272727,\n",
            "                                                                                   0.09090909090909091,\n",
            "                                                                                   0.09090909090909091,\n",
            "                                                                                   0.09090909090909091]))],\n",
            "                                     verbose=False),\n",
            "                   stddev=None)\n"
          ]
        }
      ],
      "execution_count": 13,
      "metadata": {
        "collapsed": true,
        "gather": {
          "logged": 1611629585584
        },
        "jupyter": {
          "outputs_hidden": false,
          "source_hidden": false
        },
        "nteract": {
          "transient": {
            "deleting": false
          }
        }
      }
    },
    {
      "cell_type": "markdown",
      "source": [
        "## Metric in best model"
      ],
      "metadata": {
        "nteract": {
          "transient": {
            "deleting": false
          }
        }
      }
    },
    {
      "cell_type": "code",
      "source": [
        "best_run_metrics = best_run.get_metrics()\n",
        "best_run_metrics"
      ],
      "outputs": [
        {
          "output_type": "execute_result",
          "execution_count": 14,
          "data": {
            "text/plain": "{'normalized_root_mean_squared_log_error': 0.005884586821424402,\n 'normalized_median_absolute_error': 0.00396045975066051,\n 'mean_absolute_percentage_error': 0.7338530438282841,\n 'root_mean_squared_error': 0.037063558987341656,\n 'normalized_mean_absolute_error': 0.0045446443324167534,\n 'root_mean_squared_log_error': 0.007828936119017896,\n 'normalized_root_mean_squared_error': 0.005791181091772134,\n 'median_absolute_error': 0.025346942404227264,\n 'spearman_correlation': 0.9988622462491957,\n 'explained_variance': 0.9978734918257425,\n 'mean_absolute_error': 0.029085723727467223,\n 'r2_score': 0.9978726380803238,\n 'predicted_true': 'aml://artifactId/ExperimentRun/dcid.AutoML_1cf7d1e4-eb24-4b07-b562-79b16f8596d0_104/predicted_true',\n 'residuals': 'aml://artifactId/ExperimentRun/dcid.AutoML_1cf7d1e4-eb24-4b07-b562-79b16f8596d0_104/residuals'}"
          },
          "metadata": {}
        }
      ],
      "execution_count": 14,
      "metadata": {
        "collapsed": true,
        "gather": {
          "logged": 1611629593929
        },
        "jupyter": {
          "outputs_hidden": false,
          "source_hidden": false
        },
        "nteract": {
          "transient": {
            "deleting": false
          }
        }
      }
    },
    {
      "cell_type": "markdown",
      "source": [
        "## Save the best model"
      ],
      "metadata": {
        "nteract": {
          "transient": {
            "deleting": false
          }
        }
      }
    },
    {
      "cell_type": "code",
      "source": [
        "best_run.get_file_names ()"
      ],
      "outputs": [
        {
          "output_type": "execute_result",
          "execution_count": 15,
          "data": {
            "text/plain": "['automl_driver.py',\n 'azureml-logs/55_azureml-execution-tvmps_959b442c5a0ffa1d4b1ab577b7180775caf83e201c43664cdc30520d8654fe8c_d.txt',\n 'azureml-logs/65_job_prep-tvmps_959b442c5a0ffa1d4b1ab577b7180775caf83e201c43664cdc30520d8654fe8c_d.txt',\n 'azureml-logs/70_driver_log.txt',\n 'azureml-logs/75_job_post-tvmps_959b442c5a0ffa1d4b1ab577b7180775caf83e201c43664cdc30520d8654fe8c_d.txt',\n 'azureml-logs/process_info.json',\n 'azureml-logs/process_status.json',\n 'explanation/487970a9/eval_data_viz.interpret.json',\n 'explanation/487970a9/expected_values.interpret.json',\n 'explanation/487970a9/features.interpret.json',\n 'explanation/487970a9/global_names/0.interpret.json',\n 'explanation/487970a9/global_rank/0.interpret.json',\n 'explanation/487970a9/global_values/0.interpret.json',\n 'explanation/487970a9/local_importance_values.interpret.json',\n 'explanation/487970a9/rich_metadata.interpret.json',\n 'explanation/487970a9/visualization_dict.interpret.json',\n 'explanation/487970a9/ys_pred_viz.interpret.json',\n 'explanation/c56d3e7e/eval_data_viz.interpret.json',\n 'explanation/c56d3e7e/expected_values.interpret.json',\n 'explanation/c56d3e7e/features.interpret.json',\n 'explanation/c56d3e7e/global_names/0.interpret.json',\n 'explanation/c56d3e7e/global_rank/0.interpret.json',\n 'explanation/c56d3e7e/global_values/0.interpret.json',\n 'explanation/c56d3e7e/local_importance_values.interpret.json',\n 'explanation/c56d3e7e/rich_metadata.interpret.json',\n 'explanation/c56d3e7e/visualization_dict.interpret.json',\n 'logs/azureml/97_azureml.log',\n 'logs/azureml/azureml_automl.log',\n 'logs/azureml/dataprep/python_span_6de195f7-bbe6-4aeb-81bd-c0a88b2a2c58.jsonl',\n 'logs/azureml/dataprep/python_span_c2a69c62-773c-4123-b059-6c9b7a57e8ca.jsonl',\n 'logs/azureml/job_prep_azureml.log',\n 'logs/azureml/job_release_azureml.log',\n 'outputs/conda_env_v_1_0_0.yml',\n 'outputs/env_dependencies.json',\n 'outputs/internal_cross_validated_models.pkl',\n 'outputs/model.pkl',\n 'outputs/pipeline_graph.json',\n 'outputs/scoring_file_v_1_0_0.py',\n 'predicted_true',\n 'residuals']"
          },
          "metadata": {}
        }
      ],
      "execution_count": 15,
      "metadata": {
        "collapsed": true,
        "gather": {
          "logged": 1611629596241
        },
        "jupyter": {
          "outputs_hidden": false,
          "source_hidden": false
        },
        "nteract": {
          "transient": {
            "deleting": false
          }
        }
      }
    },
    {
      "cell_type": "code",
      "source": [
        "best_run.download_file('./outputs/model.pkl', './outputs/automl_ideb.pkl')\n",
        "best_run.download_file('./outputs/scoring_file_v_1_0_0.py', './score.py')\n",
        "best_run.download_file('automl_driver.py', './outputs/automl_driver.py')\n",
        "\n"
      ],
      "outputs": [],
      "execution_count": 16,
      "metadata": {
        "collapsed": true,
        "gather": {
          "logged": 1611629599402
        },
        "jupyter": {
          "outputs_hidden": false,
          "source_hidden": false
        },
        "nteract": {
          "transient": {
            "deleting": false
          }
        }
      }
    },
    {
      "cell_type": "code",
      "source": [
        "os.listdir(os.curdir), os.getcwd()"
      ],
      "outputs": [
        {
          "output_type": "execute_result",
          "execution_count": 18,
          "data": {
            "text/plain": "(['.azureml',\n  '.config',\n  '.ipynb_aml_checkpoints',\n  '.ipynb_checkpoints',\n  'automl.ipynb',\n  'automl.ipynb.amltemp',\n  'automl.log',\n  'automl_errors.log',\n  'automl_old.ipynb.amltemp',\n  'azureml_automl.log',\n  'conda_dependencies.yml',\n  'config.json',\n  'hyperparameter_tuning.ipynb',\n  'hyperparameter_tuning.ipynb.amltemp',\n  'outputs',\n  'score.py',\n  'score.py.amltemp',\n  'train.py',\n  'train.py.amltemp'],\n '/mnt/batch/tasks/shared/LS_root/mounts/clusters/automl-cluster/code/Users/anderson12')"
          },
          "metadata": {}
        }
      ],
      "execution_count": 18,
      "metadata": {
        "collapsed": true,
        "gather": {
          "logged": 1611629603598
        },
        "jupyter": {
          "outputs_hidden": false,
          "source_hidden": false
        },
        "nteract": {
          "transient": {
            "deleting": false
          }
        }
      }
    },
    {
      "cell_type": "markdown",
      "source": [
        "## Model Deployment"
      ],
      "metadata": {
        "nteract": {
          "transient": {
            "deleting": false
          }
        }
      }
    },
    {
      "cell_type": "code",
      "source": [
        "model=best_run.register_model(\n",
        "                        model_name = 'best_model',\n",
        "                        model_path = './outputs/model.pkl',\n",
        "                        description = \"Best model trained with AutoML\")\n",
        "model"
      ],
      "outputs": [
        {
          "output_type": "execute_result",
          "execution_count": 19,
          "data": {
            "text/plain": "Model(workspace=Workspace.create(name='AZML', subscription_id='a748a023-896b-4719-8f8e-3d1ba62d6e35', resource_group='RG-AZML'), name=best_model, id=best_model:20, version=20, tags={}, properties={})"
          },
          "metadata": {}
        }
      ],
      "execution_count": 19,
      "metadata": {
        "collapsed": true,
        "gather": {
          "logged": 1611629606156
        },
        "jupyter": {
          "outputs_hidden": false,
          "source_hidden": false
        },
        "nteract": {
          "transient": {
            "deleting": false
          }
        }
      }
    },
    {
      "cell_type": "code",
      "source": [
        "from azureml.core.model import InferenceConfig\n",
        "from azureml.core.webservice import AciWebservice\n",
        "from azureml.core.webservice import Webservice\n",
        "from azureml.core.model import Model\n",
        "from azureml.core.environment import Environment\n",
        "\n",
        "aci_config = AciWebservice.deploy_configuration(cpu_cores=1, memory_gb=1)\n",
        "inference_config = InferenceConfig(entry_script='./score.py', environment=env)\n",
        "\n",
        "service = model.deploy(\n",
        "    workspace=ws,\n",
        "    name=\"ideb-service\",\n",
        "    models=[model],\n",
        "    inference_config=inference_config,\n",
        "    deployment_config=aci_config,\n",
        "    overwrite=True\n",
        ")\n",
        "service.wait_for_deployment(show_output=True)\n",
        "print(service.state)"
      ],
      "outputs": [
        {
          "output_type": "stream",
          "name": "stdout",
          "text": [
            "Tips: You can try get_logs(): https://aka.ms/debugimage#dockerlog or local deployment: https://aka.ms/debugimage#debug-locally to debug if deployment takes longer than 10 minutes.\n",
            "Running....................................................\n",
            "Succeeded\n",
            "ACI service creation operation finished, operation \"Succeeded\"\n",
            "Healthy\n"
          ]
        }
      ],
      "execution_count": 20,
      "metadata": {
        "collapsed": true,
        "gather": {
          "logged": 1611629880533
        },
        "jupyter": {
          "outputs_hidden": false,
          "source_hidden": false
        },
        "nteract": {
          "transient": {
            "deleting": false
          }
        }
      }
    },
    {
      "cell_type": "markdown",
      "source": [
        "## Test the Deploy model"
      ],
      "metadata": {
        "nteract": {
          "transient": {
            "deleting": false
          }
        }
      }
    },
    {
      "cell_type": "code",
      "source": [
        "best_run.get_file_names ()"
      ],
      "outputs": [
        {
          "output_type": "execute_result",
          "execution_count": 21,
          "data": {
            "text/plain": "['automl_driver.py',\n 'azureml-logs/55_azureml-execution-tvmps_959b442c5a0ffa1d4b1ab577b7180775caf83e201c43664cdc30520d8654fe8c_d.txt',\n 'azureml-logs/65_job_prep-tvmps_959b442c5a0ffa1d4b1ab577b7180775caf83e201c43664cdc30520d8654fe8c_d.txt',\n 'azureml-logs/70_driver_log.txt',\n 'azureml-logs/75_job_post-tvmps_959b442c5a0ffa1d4b1ab577b7180775caf83e201c43664cdc30520d8654fe8c_d.txt',\n 'azureml-logs/process_info.json',\n 'azureml-logs/process_status.json',\n 'explanation/487970a9/eval_data_viz.interpret.json',\n 'explanation/487970a9/expected_values.interpret.json',\n 'explanation/487970a9/features.interpret.json',\n 'explanation/487970a9/global_names/0.interpret.json',\n 'explanation/487970a9/global_rank/0.interpret.json',\n 'explanation/487970a9/global_values/0.interpret.json',\n 'explanation/487970a9/local_importance_values.interpret.json',\n 'explanation/487970a9/rich_metadata.interpret.json',\n 'explanation/487970a9/visualization_dict.interpret.json',\n 'explanation/487970a9/ys_pred_viz.interpret.json',\n 'explanation/c56d3e7e/eval_data_viz.interpret.json',\n 'explanation/c56d3e7e/expected_values.interpret.json',\n 'explanation/c56d3e7e/features.interpret.json',\n 'explanation/c56d3e7e/global_names/0.interpret.json',\n 'explanation/c56d3e7e/global_rank/0.interpret.json',\n 'explanation/c56d3e7e/global_values/0.interpret.json',\n 'explanation/c56d3e7e/local_importance_values.interpret.json',\n 'explanation/c56d3e7e/rich_metadata.interpret.json',\n 'explanation/c56d3e7e/visualization_dict.interpret.json',\n 'logs/azureml/97_azureml.log',\n 'logs/azureml/azureml_automl.log',\n 'logs/azureml/dataprep/python_span_6de195f7-bbe6-4aeb-81bd-c0a88b2a2c58.jsonl',\n 'logs/azureml/dataprep/python_span_c2a69c62-773c-4123-b059-6c9b7a57e8ca.jsonl',\n 'logs/azureml/job_prep_azureml.log',\n 'logs/azureml/job_release_azureml.log',\n 'outputs/conda_env_v_1_0_0.yml',\n 'outputs/env_dependencies.json',\n 'outputs/internal_cross_validated_models.pkl',\n 'outputs/model.pkl',\n 'outputs/pipeline_graph.json',\n 'outputs/scoring_file_v_1_0_0.py',\n 'predicted_true',\n 'residuals']"
          },
          "metadata": {}
        }
      ],
      "execution_count": 21,
      "metadata": {
        "collapsed": true,
        "gather": {
          "logged": 1611630559723
        },
        "jupyter": {
          "outputs_hidden": false,
          "source_hidden": false
        },
        "nteract": {
          "transient": {
            "deleting": false
          }
        }
      }
    },
    {
      "cell_type": "code",
      "source": [
        "scoring_uri = service.scoring_uri\n",
        "\n",
        "print(f'\\nservice state: {service.state}\\n')\n",
        "print(f'scoring URI: \\n{service.scoring_uri}\\n')\n",
        "print(f'swagger URI: \\n{service.swagger_uri}\\n')"
      ],
      "outputs": [
        {
          "output_type": "stream",
          "name": "stdout",
          "text": [
            "\n",
            "service state: Healthy\n",
            "\n",
            "scoring URI: \n",
            "http://b48b3b5a-4612-4df8-ba00-817d0358f6e9.eastus.azurecontainer.io/score\n",
            "\n",
            "swagger URI: \n",
            "http://b48b3b5a-4612-4df8-ba00-817d0358f6e9.eastus.azurecontainer.io/swagger.json\n",
            "\n"
          ]
        }
      ],
      "execution_count": 22,
      "metadata": {
        "collapsed": true,
        "gather": {
          "logged": 1611630578204
        },
        "jupyter": {
          "outputs_hidden": false,
          "source_hidden": false
        },
        "nteract": {
          "transient": {
            "deleting": false
          }
        }
      }
    },
    {
      "cell_type": "code",
      "source": [
        "import requests\n",
        "import json\n",
        "\n",
        "# scoring endpoint\n",
        "scoring_uri = service.scoring_uri\n",
        "\n",
        "\n",
        "# If the service is authenticated, set the key or token\n",
        "#key = '<your key or token>'\n",
        "\n",
        "# Two sets of data to score, so we get two results back\n",
        "data = {\"data\":\n",
        "        [\n",
        "          {\n",
        "           \"TAprov2019_Total\": 99.9, \n",
        "           \"TAprov2019_1_serie\": 99.2, \n",
        "           \"TAprov2019_2_serie\": 59.1, \n",
        "           \"TAprov2019_3_serie\": 60.5, \n",
        "           \"TAprov2019_4_serie\": 70.5, \n",
        "           \"Indicador_Rendimento\": 0.99, \n",
        "           \"SAEB2019_Matematica\": 365.38, \n",
        "           \"SAEB2019_Lingua Portuguesa\": 351.54, \n",
        "           \"SAEB2019_Nota Media Padronizada\": 7.055853\n",
        "          },\n",
        "      ]\n",
        "    }\n",
        "# Convert to JSON string\n",
        "input_data = json.dumps(data)\n",
        "\n",
        "# Set the content type\n",
        "headers = {'Content-Type': 'application/json'}\n",
        "# If authentication is enabled, set the authorization header\n",
        "#headers['Authorization'] = f'Bearer {key}'\n",
        "\n",
        "# Make the request and display the response\n",
        "resp = requests.post(scoring_uri, input_data, headers=headers)\n",
        "print(resp.text)"
      ],
      "outputs": [
        {
          "output_type": "stream",
          "name": "stdout",
          "text": [
            "\"{\\\"result\\\": [6.903481911249511]}\"\n"
          ]
        }
      ],
      "execution_count": 23,
      "metadata": {
        "collapsed": true,
        "gather": {
          "logged": 1611630583688
        },
        "jupyter": {
          "outputs_hidden": false,
          "source_hidden": false
        },
        "nteract": {
          "transient": {
            "deleting": false
          }
        }
      }
    },
    {
      "cell_type": "markdown",
      "source": [
        "## View the service logs"
      ],
      "metadata": {
        "nteract": {
          "transient": {
            "deleting": false
          }
        }
      }
    },
    {
      "cell_type": "code",
      "source": [
        "print(service.get_logs())"
      ],
      "outputs": [
        {
          "output_type": "stream",
          "name": "stdout",
          "text": [
            "2021-01-26T02:57:40,716292919+00:00 - iot-server/run \n",
            "2021-01-26T02:57:40,717473498+00:00 - gunicorn/run \n",
            "2021-01-26T02:57:40,717618608+00:00 - rsyslog/run \n",
            "2021-01-26T02:57:40,721289154+00:00 - nginx/run \n",
            "/usr/sbin/nginx: /azureml-envs/azureml_265db83b0c6014ce472c5de2f0b97e04/lib/libcrypto.so.1.0.0: no version information available (required by /usr/sbin/nginx)\n",
            "/usr/sbin/nginx: /azureml-envs/azureml_265db83b0c6014ce472c5de2f0b97e04/lib/libcrypto.so.1.0.0: no version information available (required by /usr/sbin/nginx)\n",
            "/usr/sbin/nginx: /azureml-envs/azureml_265db83b0c6014ce472c5de2f0b97e04/lib/libssl.so.1.0.0: no version information available (required by /usr/sbin/nginx)\n",
            "/usr/sbin/nginx: /azureml-envs/azureml_265db83b0c6014ce472c5de2f0b97e04/lib/libssl.so.1.0.0: no version information available (required by /usr/sbin/nginx)\n",
            "/usr/sbin/nginx: /azureml-envs/azureml_265db83b0c6014ce472c5de2f0b97e04/lib/libssl.so.1.0.0: no version information available (required by /usr/sbin/nginx)\n",
            "rsyslogd: /azureml-envs/azureml_265db83b0c6014ce472c5de2f0b97e04/lib/libuuid.so.1: no version information available (required by rsyslogd)\n",
            "EdgeHubConnectionString and IOTEDGE_IOTHUBHOSTNAME are not set. Exiting...\n",
            "2021-01-26T02:57:40,906539778+00:00 - iot-server/finish 1 0\n",
            "2021-01-26T02:57:40,908181588+00:00 - Exit code 1 is normal. Not restarting iot-server.\n",
            "Starting gunicorn 19.9.0\n",
            "Listening at: http://127.0.0.1:31311 (14)\n",
            "Using worker: sync\n",
            "worker timeout is set to 300\n",
            "Booting worker with pid: 42\n",
            "SPARK_HOME not set. Skipping PySpark Initialization.\n",
            "Generating new fontManager, this may take some time...\n",
            "Initializing logger\n",
            "2021-01-26 02:57:42,306 | root | INFO | Starting up app insights client\n",
            "2021-01-26 02:57:42,306 | root | INFO | Starting up request id generator\n",
            "2021-01-26 02:57:42,306 | root | INFO | Starting up app insight hooks\n",
            "2021-01-26 02:57:42,306 | root | INFO | Invoking user's init function\n",
            "2021-01-26 02:57:44,820 | azureml.core | WARNING | Failure while loading azureml_run_type_providers. Failed to load entrypoint automl = azureml.train.automl.run:AutoMLRun._from_run_dto with exception cannot import name 'RunType'.\n",
            "Failure while loading azureml_run_type_providers. Failed to load entrypoint automl = azureml.train.automl.run:AutoMLRun._from_run_dto with exception cannot import name 'RunType'.\n",
            "2021-01-26 02:57:44,999 | root | INFO | Users's init has completed successfully\n",
            "2021-01-26 02:57:45,002 | root | INFO | Skipping middleware: dbg_model_info as it's not enabled.\n",
            "2021-01-26 02:57:45,002 | root | INFO | Skipping middleware: dbg_resource_usage as it's not enabled.\n",
            "2021-01-26 02:57:45,004 | root | INFO | Scoring timeout is found from os.environ: 60000 ms\n",
            "2021-01-26 02:57:50,342 | root | INFO | 200\n",
            "127.0.0.1 - - [26/Jan/2021:02:57:50 +0000] \"GET /swagger.json HTTP/1.0\" 200 2805 \"-\" \"Go-http-client/1.1\"\n",
            "2021-01-26 02:57:55,003 | root | INFO | 200\n",
            "127.0.0.1 - - [26/Jan/2021:02:57:55 +0000] \"GET /swagger.json HTTP/1.0\" 200 2805 \"-\" \"Go-http-client/1.1\"\n",
            "2021-01-26 03:09:39,293 | root | INFO | Validation Request Content-Type\n",
            "2021-01-26 03:09:39,293 | root | INFO | Scoring Timer is set to 60.0 seconds\n",
            "2021-01-26 03:09:39,341 | root | INFO | 200\n",
            "127.0.0.1 - - [26/Jan/2021:03:09:39 +0000] \"POST /score HTTP/1.0\" 200 35 \"-\" \"python-requests/2.25.1\"\n",
            "\n"
          ]
        }
      ],
      "execution_count": 24,
      "metadata": {
        "collapsed": true,
        "gather": {
          "logged": 1611630588947
        },
        "jupyter": {
          "outputs_hidden": false,
          "source_hidden": false
        },
        "nteract": {
          "transient": {
            "deleting": false
          }
        }
      }
    },
    {
      "cell_type": "code",
      "source": [
        "service.delete()"
      ],
      "outputs": [],
      "execution_count": 23,
      "metadata": {
        "collapsed": true,
        "gather": {
          "logged": 1611494221705
        },
        "jupyter": {
          "outputs_hidden": false,
          "source_hidden": false
        },
        "nteract": {
          "transient": {
            "deleting": false
          }
        }
      }
    }
  ],
  "metadata": {
    "kernel_info": {
      "name": "python3-azureml"
    },
    "kernelspec": {
      "name": "python3-azureml",
      "language": "python",
      "display_name": "Python 3.6 - AzureML"
    },
    "language_info": {
      "name": "python",
      "version": "3.6.9",
      "mimetype": "text/x-python",
      "codemirror_mode": {
        "name": "ipython",
        "version": 3
      },
      "pygments_lexer": "ipython3",
      "nbconvert_exporter": "python",
      "file_extension": ".py"
    },
    "nteract": {
      "version": "nteract-front-end@1.0.0"
    },
    "widgets": {
      "application/vnd.jupyter.widget-state+json": {
        "state": {},
        "version_major": 2,
        "version_minor": 0
      }
    }
  },
  "nbformat": 4,
  "nbformat_minor": 2
}
