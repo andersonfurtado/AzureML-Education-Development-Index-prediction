{
  "cells": [
    {
      "cell_type": "markdown",
      "source": [
        "# Automated Machine Learning"
      ],
      "metadata": {
        "nteract": {
          "transient": {
            "deleting": false
          }
        }
      }
    },
    {
      "cell_type": "code",
      "source": [
        "\r\n",
        "from matplotlib import pyplot as plt\r\n",
        "import numpy as np\r\n",
        "import pandas as pd\r\n",
        " \r\n",
        "\r\n",
        "import azureml.core\r\n",
        "from azureml.core.experiment import Experiment\r\n",
        "from azureml.core.workspace import Workspace\r\n",
        "from azureml.core.dataset import Dataset\r\n",
        "from azureml.train.automl import AutoMLConfig\r\n",
        "from azureml.data.dataset_factory import TabularDatasetFactory\r\n",
        "\r\n",
        "# Check core SDK version number\r\n",
        "print(\"SDK version:\", azureml.core.VERSION)"
      ],
      "outputs": [
        {
          "output_type": "stream",
          "name": "stdout",
          "text": [
            "SDK version: 1.19.0\n"
          ]
        }
      ],
      "execution_count": 9,
      "metadata": {
        "gather": {
          "logged": 1610853109535
        }
      }
    },
    {
      "cell_type": "code",
      "source": [
        "ws = Workspace.from_config()\r\n",
        "print(ws.name, ws.resource_group, ws.location, ws.subscription_id, sep = '\\n')"
      ],
      "outputs": [
        {
          "output_type": "stream",
          "name": "stdout",
          "text": [
            "AZML\n",
            "RG-AZML\n",
            "eastus\n",
            "a748a023-896b-4719-8f8e-3d1ba62d6e35\n"
          ]
        }
      ],
      "execution_count": 10,
      "metadata": {
        "collapsed": true,
        "jupyter": {
          "source_hidden": false,
          "outputs_hidden": false
        },
        "nteract": {
          "transient": {
            "deleting": false
          }
        },
        "gather": {
          "logged": 1610853113637
        }
      }
    },
    {
      "cell_type": "code",
      "source": [
        "# Choose a name for the experiment.\r\n",
        "experiment_name = 'ideb-regression'\r\n",
        "\r\n",
        "experiment = Experiment(ws, experiment_name)\r\n",
        "\r\n",
        "output = {}\r\n",
        "output['Subscription ID'] = ws.subscription_id\r\n",
        "output['Workspace'] = ws.name\r\n",
        "output['Resource Group'] = ws.resource_group\r\n",
        "output['Location'] = ws.location\r\n",
        "output['Run History Name'] = experiment_name\r\n",
        "pd.set_option('display.max_colwidth', -1)\r\n",
        "outputDf = pd.DataFrame(data = output, index = [''])\r\n",
        "outputDf.T"
      ],
      "outputs": [
        {
          "output_type": "execute_result",
          "execution_count": 11,
          "data": {
            "text/plain": "                                                      \nSubscription ID   a748a023-896b-4719-8f8e-3d1ba62d6e35\nWorkspace         AZML                                \nResource Group    RG-AZML                             \nLocation          eastus                              \nRun History Name  ideb-regression                     ",
            "text/html": "<div>\n<style scoped>\n    .dataframe tbody tr th:only-of-type {\n        vertical-align: middle;\n    }\n\n    .dataframe tbody tr th {\n        vertical-align: top;\n    }\n\n    .dataframe thead th {\n        text-align: right;\n    }\n</style>\n<table border=\"1\" class=\"dataframe\">\n  <thead>\n    <tr style=\"text-align: right;\">\n      <th></th>\n      <th></th>\n    </tr>\n  </thead>\n  <tbody>\n    <tr>\n      <th>Subscription ID</th>\n      <td>a748a023-896b-4719-8f8e-3d1ba62d6e35</td>\n    </tr>\n    <tr>\n      <th>Workspace</th>\n      <td>AZML</td>\n    </tr>\n    <tr>\n      <th>Resource Group</th>\n      <td>RG-AZML</td>\n    </tr>\n    <tr>\n      <th>Location</th>\n      <td>eastus</td>\n    </tr>\n    <tr>\n      <th>Run History Name</th>\n      <td>ideb-regression</td>\n    </tr>\n  </tbody>\n</table>\n</div>"
          },
          "metadata": {}
        }
      ],
      "execution_count": 11,
      "metadata": {
        "collapsed": true,
        "jupyter": {
          "source_hidden": false,
          "outputs_hidden": false
        },
        "nteract": {
          "transient": {
            "deleting": false
          }
        },
        "gather": {
          "logged": 1610853116156
        }
      }
    },
    {
      "cell_type": "markdown",
      "source": [
        "## Using AmlCompute"
      ],
      "metadata": {
        "nteract": {
          "transient": {
            "deleting": false
          }
        }
      }
    },
    {
      "cell_type": "code",
      "source": [
        "from azureml.core.compute import ComputeTarget, AmlCompute\r\n",
        "from azureml.core.compute_target import ComputeTargetException\r\n",
        "\r\n",
        "# Choose a name for your CPU cluster\r\n",
        "cpu_cluster_name = \"automl-cluster\"\r\n",
        "\r\n",
        "# Verify that cluster does not exist already\r\n",
        "try:\r\n",
        "    compute_target = ComputeTarget(workspace=ws, name=cpu_cluster_name)\r\n",
        "    print('Found existing cluster, use it.')\r\n",
        "except ComputeTargetException:\r\n",
        "    compute_config = AmlCompute.provisioning_configuration(vm_size='STANDARD_D2_V2',\r\n",
        "                                                           max_nodes=4)\r\n",
        "    compute_target = ComputeTarget.create(ws, cpu_cluster_name, compute_config)\r\n",
        "\r\n",
        "compute_target.wait_for_completion(show_output=True)"
      ],
      "outputs": [
        {
          "output_type": "stream",
          "name": "stdout",
          "text": [
            "Found existing cluster, use it.\n",
            "\n",
            "Running\n"
          ]
        }
      ],
      "execution_count": 12,
      "metadata": {
        "collapsed": true,
        "jupyter": {
          "source_hidden": false,
          "outputs_hidden": false
        },
        "nteract": {
          "transient": {
            "deleting": false
          }
        },
        "gather": {
          "logged": 1610853123967
        }
      }
    },
    {
      "cell_type": "markdown",
      "source": [
        "## Data"
      ],
      "metadata": {
        "nteract": {
          "transient": {
            "deleting": false
          }
        }
      }
    },
    {
      "cell_type": "markdown",
      "source": [
        "### Load Data"
      ],
      "metadata": {
        "nteract": {
          "transient": {
            "deleting": false
          }
        }
      }
    },
    {
      "cell_type": "code",
      "source": [
        "datastore = ws.get_default_datastore()\r\n",
        "path = \"data/Train.csv\"\r\n",
        "try:\r\n",
        "    ideb_dataset = Dataset.get_by_name(ws, name=\"ideb_dataset\")\r\n",
        "except:\r\n",
        "    datastore.upload('data', target_path='data')\r\n",
        "    # Create TabularDataset & register in workspace\r\n",
        "    ideb_dataset = Dataset.Tabular.from_delimited_files([(datastore, path)])\r\n",
        "    ideb_dataset = ideb_dataset.register(\r\n",
        "        ws, name=\"ideb_dataset\", create_new_version=True,\r\n",
        "        description=\"Dataset for ideb prediction\"\r\n",
        "    )"
      ],
      "outputs": [],
      "execution_count": 15,
      "metadata": {
        "collapsed": true,
        "jupyter": {
          "source_hidden": false,
          "outputs_hidden": false
        },
        "nteract": {
          "transient": {
            "deleting": false
          }
        },
        "gather": {
          "logged": 1610853270407
        }
      }
    },
    {
      "cell_type": "markdown",
      "source": [
        "## Automl Settings"
      ],
      "metadata": {
        "nteract": {
          "transient": {
            "deleting": false
          }
        }
      }
    },
    {
      "cell_type": "code",
      "source": [
        "automl_settings = {\r\n",
        "    \"n_cross_validations\": 3,\r\n",
        "    \"primary_metric\": 'r2_score',\r\n",
        "    \"enable_early_stopping\": True, \r\n",
        "    \"experiment_timeout_hours\": 0.5, \r\n",
        "    \"max_concurrent_iterations\": 4,\r\n",
        "    \"max_cores_per_iteration\": -1,\r\n",
        "     \"featurization\": 'auto',\r\n",
        "    \"verbosity\": logging.INFO,\r\n",
        "}\r\n",
        "\r\n",
        "automl_config = AutoMLConfig(task = 'regression',\r\n",
        "                             compute_target = compute_target,\r\n",
        "                             training_data = ideb_dataset,\r\n",
        "                             label_column_name = \"IDEB_2019\",\r\n",
        "                             **automl_settings\r\n",
        "                            )\r\n",
        "\r\n"
      ],
      "outputs": [],
      "execution_count": 16,
      "metadata": {
        "collapsed": true,
        "jupyter": {
          "source_hidden": false,
          "outputs_hidden": false
        },
        "nteract": {
          "transient": {
            "deleting": false
          }
        },
        "gather": {
          "logged": 1610853279156
        }
      }
    },
    {
      "cell_type": "code",
      "source": [
        "remote_run = experiment.submit(automl_config, show_output = True)"
      ],
      "outputs": [
        {
          "output_type": "stream",
          "name": "stdout",
          "text": [
            "Running on remote.\n",
            "No run_configuration provided, running on automl-cluster with default configuration\n",
            "Running on remote compute: automl-cluster\n",
            "Parent Run ID: AutoML_f9665a4f-e27f-4ed4-8725-26abee5eeeba\n",
            "\n",
            "Current status: FeaturesGeneration. Generating features for the dataset.\n"
          ]
        }
      ],
      "execution_count": 17,
      "metadata": {
        "collapsed": true,
        "jupyter": {
          "source_hidden": false,
          "outputs_hidden": false
        },
        "nteract": {
          "transient": {
            "deleting": false
          }
        },
        "gather": {
          "logged": 1610847980297
        }
      }
    },
    {
      "cell_type": "markdown",
      "source": [
        "## Result"
      ],
      "metadata": {
        "nteract": {
          "transient": {
            "deleting": false
          }
        }
      }
    },
    {
      "cell_type": "code",
      "source": [
        "from azureml.widgets import RunDetails\r\n",
        "RunDetails(remote_run).show()"
      ],
      "outputs": [
        {
          "output_type": "display_data",
          "data": {
            "text/plain": "_AutoMLWidget(widget_settings={'childWidgetDisplay': 'popup', 'send_telemetry': False, 'log_level': 'INFO', 's…",
            "application/vnd.jupyter.widget-view+json": {
              "version_major": 2,
              "version_minor": 0,
              "model_id": "546ca990154f482b90ba3b1da248f661"
            }
          },
          "metadata": {}
        },
        {
          "output_type": "display_data",
          "data": {
            "application/aml.mini.widget.v1": "{\"status\": \"Completed\", \"workbench_run_details_uri\": \"https://ml.azure.com/experiments/ideb-regression/runs/AutoML_f9665a4f-e27f-4ed4-8725-26abee5eeeba?wsid=/subscriptions/a748a023-896b-4719-8f8e-3d1ba62d6e35/resourcegroups/RG-AZML/workspaces/AZML\", \"run_id\": \"AutoML_f9665a4f-e27f-4ed4-8725-26abee5eeeba\", \"run_properties\": {\"run_id\": \"AutoML_f9665a4f-e27f-4ed4-8725-26abee5eeeba\", \"created_utc\": \"2021-01-17T03:14:45.803288Z\", \"properties\": {\"num_iterations\": \"1000\", \"training_type\": \"TrainFull\", \"acquisition_function\": \"EI\", \"primary_metric\": \"r2_score\", \"train_split\": \"0\", \"acquisition_parameter\": \"0\", \"num_cross_validation\": \"3\", \"target\": \"automl-cluster\", \"AMLSettingsJsonString\": \"{\\\"path\\\":null,\\\"name\\\":\\\"ideb-regression\\\",\\\"subscription_id\\\":\\\"a748a023-896b-4719-8f8e-3d1ba62d6e35\\\",\\\"resource_group\\\":\\\"RG-AZML\\\",\\\"workspace_name\\\":\\\"AZML\\\",\\\"region\\\":\\\"eastus\\\",\\\"compute_target\\\":\\\"automl-cluster\\\",\\\"spark_service\\\":null,\\\"azure_service\\\":\\\"remote\\\",\\\"many_models\\\":false,\\\"pipeline_fetch_max_batch_size\\\":1,\\\"iterations\\\":1000,\\\"primary_metric\\\":\\\"r2_score\\\",\\\"task_type\\\":\\\"regression\\\",\\\"data_script\\\":null,\\\"validation_size\\\":0.0,\\\"n_cross_validations\\\":3,\\\"y_min\\\":null,\\\"y_max\\\":null,\\\"num_classes\\\":null,\\\"featurization\\\":\\\"auto\\\",\\\"_ignore_package_version_incompatibilities\\\":false,\\\"is_timeseries\\\":false,\\\"max_cores_per_iteration\\\":-1,\\\"max_concurrent_iterations\\\":4,\\\"iteration_timeout_minutes\\\":null,\\\"mem_in_mb\\\":null,\\\"enforce_time_on_windows\\\":false,\\\"experiment_timeout_minutes\\\":30,\\\"experiment_exit_score\\\":null,\\\"whitelist_models\\\":null,\\\"blacklist_algos\\\":[\\\"TensorFlowDNN\\\",\\\"TensorFlowLinearRegressor\\\"],\\\"supported_models\\\":[\\\"LightGBM\\\",\\\"FastLinearRegressor\\\",\\\"RandomForest\\\",\\\"XGBoostRegressor\\\",\\\"ElasticNet\\\",\\\"GradientBoosting\\\",\\\"SGD\\\",\\\"TensorFlowDNN\\\",\\\"TensorFlowLinearRegressor\\\",\\\"DecisionTree\\\",\\\"OnlineGradientDescentRegressor\\\",\\\"KNN\\\",\\\"ExtremeRandomTrees\\\",\\\"LassoLars\\\"],\\\"auto_blacklist\\\":true,\\\"blacklist_samples_reached\\\":false,\\\"exclude_nan_labels\\\":true,\\\"verbosity\\\":20,\\\"_debug_log\\\":\\\"azureml_automl.log\\\",\\\"show_warnings\\\":false,\\\"model_explainability\\\":true,\\\"service_url\\\":null,\\\"sdk_url\\\":null,\\\"sdk_packages\\\":null,\\\"enable_onnx_compatible_models\\\":false,\\\"enable_split_onnx_featurizer_estimator_models\\\":false,\\\"vm_type\\\":\\\"STANDARD_DS3_V2\\\",\\\"telemetry_verbosity\\\":20,\\\"send_telemetry\\\":true,\\\"enable_dnn\\\":false,\\\"scenario\\\":\\\"SDK-1.13.0\\\",\\\"environment_label\\\":null,\\\"force_text_dnn\\\":false,\\\"enable_feature_sweeping\\\":true,\\\"enable_early_stopping\\\":true,\\\"early_stopping_n_iters\\\":10,\\\"metrics\\\":null,\\\"enable_ensembling\\\":true,\\\"enable_stack_ensembling\\\":true,\\\"ensemble_iterations\\\":15,\\\"enable_tf\\\":false,\\\"enable_subsampling\\\":null,\\\"subsample_seed\\\":null,\\\"enable_nimbusml\\\":false,\\\"enable_streaming\\\":false,\\\"force_streaming\\\":false,\\\"track_child_runs\\\":true,\\\"allowed_private_models\\\":[],\\\"label_column_name\\\":\\\"IDEB_2019\\\",\\\"weight_column_name\\\":null,\\\"cv_split_column_names\\\":null,\\\"enable_local_managed\\\":false,\\\"_local_managed_run_id\\\":null,\\\"cost_mode\\\":1,\\\"lag_length\\\":0,\\\"metric_operation\\\":\\\"maximize\\\",\\\"preprocess\\\":true}\", \"DataPrepJsonString\": \"{\\\\\\\"training_data\\\\\\\": \\\\\\\"{\\\\\\\\\\\\\\\"blocks\\\\\\\\\\\\\\\": [{\\\\\\\\\\\\\\\"id\\\\\\\\\\\\\\\": \\\\\\\\\\\\\\\"579865ed-38fa-4661-9090-38dc8de235e2\\\\\\\\\\\\\\\", \\\\\\\\\\\\\\\"type\\\\\\\\\\\\\\\": \\\\\\\\\\\\\\\"Microsoft.DPrep.GetDatastoreFilesBlock\\\\\\\\\\\\\\\", \\\\\\\\\\\\\\\"arguments\\\\\\\\\\\\\\\": {\\\\\\\\\\\\\\\"datastores\\\\\\\\\\\\\\\": [{\\\\\\\\\\\\\\\"datastoreName\\\\\\\\\\\\\\\": \\\\\\\\\\\\\\\"workspaceblobstore\\\\\\\\\\\\\\\", \\\\\\\\\\\\\\\"path\\\\\\\\\\\\\\\": \\\\\\\\\\\\\\\"UI/01-17-2021_031317_UTC/data.CSV\\\\\\\\\\\\\\\", \\\\\\\\\\\\\\\"resourceGroup\\\\\\\\\\\\\\\": \\\\\\\\\\\\\\\"RG-AZML\\\\\\\\\\\\\\\", \\\\\\\\\\\\\\\"subscription\\\\\\\\\\\\\\\": \\\\\\\\\\\\\\\"a748a023-896b-4719-8f8e-3d1ba62d6e35\\\\\\\\\\\\\\\", \\\\\\\\\\\\\\\"workspaceName\\\\\\\\\\\\\\\": \\\\\\\\\\\\\\\"AZML\\\\\\\\\\\\\\\"}]}, \\\\\\\\\\\\\\\"localData\\\\\\\\\\\\\\\": {}, \\\\\\\\\\\\\\\"isEnabled\\\\\\\\\\\\\\\": true, \\\\\\\\\\\\\\\"name\\\\\\\\\\\\\\\": null, \\\\\\\\\\\\\\\"annotation\\\\\\\\\\\\\\\": null}, {\\\\\\\\\\\\\\\"id\\\\\\\\\\\\\\\": \\\\\\\\\\\\\\\"6712d147-d954-4375-88dc-15c8849676d8\\\\\\\\\\\\\\\", \\\\\\\\\\\\\\\"type\\\\\\\\\\\\\\\": \\\\\\\\\\\\\\\"Microsoft.DPrep.ParseDelimitedBlock\\\\\\\\\\\\\\\", \\\\\\\\\\\\\\\"arguments\\\\\\\\\\\\\\\": {\\\\\\\\\\\\\\\"columnHeadersMode\\\\\\\\\\\\\\\": 1, \\\\\\\\\\\\\\\"fileEncoding\\\\\\\\\\\\\\\": 1, \\\\\\\\\\\\\\\"handleQuotedLineBreaks\\\\\\\\\\\\\\\": false, \\\\\\\\\\\\\\\"preview\\\\\\\\\\\\\\\": false, \\\\\\\\\\\\\\\"separator\\\\\\\\\\\\\\\": \\\\\\\\\\\\\\\";\\\\\\\\\\\\\\\", \\\\\\\\\\\\\\\"skipRows\\\\\\\\\\\\\\\": 0, \\\\\\\\\\\\\\\"skipRowsMode\\\\\\\\\\\\\\\": 0}, \\\\\\\\\\\\\\\"localData\\\\\\\\\\\\\\\": {}, \\\\\\\\\\\\\\\"isEnabled\\\\\\\\\\\\\\\": true, \\\\\\\\\\\\\\\"name\\\\\\\\\\\\\\\": null, \\\\\\\\\\\\\\\"annotation\\\\\\\\\\\\\\\": null}, {\\\\\\\\\\\\\\\"id\\\\\\\\\\\\\\\": \\\\\\\\\\\\\\\"0284483e-c453-46c6-8ef6-55a6f347858c\\\\\\\\\\\\\\\", \\\\\\\\\\\\\\\"type\\\\\\\\\\\\\\\": \\\\\\\\\\\\\\\"Microsoft.DPrep.DropColumnsBlock\\\\\\\\\\\\\\\", \\\\\\\\\\\\\\\"arguments\\\\\\\\\\\\\\\": {\\\\\\\\\\\\\\\"columns\\\\\\\\\\\\\\\": {\\\\\\\\\\\\\\\"type\\\\\\\\\\\\\\\": 0, \\\\\\\\\\\\\\\"details\\\\\\\\\\\\\\\": {\\\\\\\\\\\\\\\"selectedColumns\\\\\\\\\\\\\\\": [\\\\\\\\\\\\\\\"Path\\\\\\\\\\\\\\\"]}}}, \\\\\\\\\\\\\\\"localData\\\\\\\\\\\\\\\": {}, \\\\\\\\\\\\\\\"isEnabled\\\\\\\\\\\\\\\": true, \\\\\\\\\\\\\\\"name\\\\\\\\\\\\\\\": null, \\\\\\\\\\\\\\\"annotation\\\\\\\\\\\\\\\": null}, {\\\\\\\\\\\\\\\"id\\\\\\\\\\\\\\\": \\\\\\\\\\\\\\\"28a2cf82-6dba-4aea-a594-997c8be75d5d\\\\\\\\\\\\\\\", \\\\\\\\\\\\\\\"type\\\\\\\\\\\\\\\": \\\\\\\\\\\\\\\"Microsoft.DPrep.SetColumnTypesBlock\\\\\\\\\\\\\\\", \\\\\\\\\\\\\\\"arguments\\\\\\\\\\\\\\\": {\\\\\\\\\\\\\\\"columnConversion\\\\\\\\\\\\\\\": [{\\\\\\\\\\\\\\\"column\\\\\\\\\\\\\\\": {\\\\\\\\\\\\\\\"type\\\\\\\\\\\\\\\": 2, \\\\\\\\\\\\\\\"details\\\\\\\\\\\\\\\": {\\\\\\\\\\\\\\\"selectedColumn\\\\\\\\\\\\\\\": \\\\\\\\\\\\\\\"Path\\\\\\\\\\\\\\\"}}, \\\\\\\\\\\\\\\"typeProperty\\\\\\\\\\\\\\\": 0}, {\\\\\\\\\\\\\\\"column\\\\\\\\\\\\\\\": {\\\\\\\\\\\\\\\"type\\\\\\\\\\\\\\\": 2, \\\\\\\\\\\\\\\"details\\\\\\\\\\\\\\\": {\\\\\\\\\\\\\\\"selectedColumn\\\\\\\\\\\\\\\": \\\\\\\\\\\\\\\"Sigla_UF\\\\\\\\\\\\\\\"}}, \\\\\\\\\\\\\\\"typeProperty\\\\\\\\\\\\\\\": 0}, {\\\\\\\\\\\\\\\"column\\\\\\\\\\\\\\\": {\\\\\\\\\\\\\\\"type\\\\\\\\\\\\\\\": 2, \\\\\\\\\\\\\\\"details\\\\\\\\\\\\\\\": {\\\\\\\\\\\\\\\"selectedColumn\\\\\\\\\\\\\\\": \\\\\\\\\\\\\\\"Cod_Municipio\\\\\\\\\\\\\\\"}}, \\\\\\\\\\\\\\\"typeProperty\\\\\\\\\\\\\\\": 2}, {\\\\\\\\\\\\\\\"column\\\\\\\\\\\\\\\": {\\\\\\\\\\\\\\\"type\\\\\\\\\\\\\\\": 2, \\\\\\\\\\\\\\\"details\\\\\\\\\\\\\\\": {\\\\\\\\\\\\\\\"selectedColumn\\\\\\\\\\\\\\\": \\\\\\\\\\\\\\\"Nome_Municipio\\\\\\\\\\\\\\\"}}, \\\\\\\\\\\\\\\"typeProperty\\\\\\\\\\\\\\\": 0}, {\\\\\\\\\\\\\\\"column\\\\\\\\\\\\\\\": {\\\\\\\\\\\\\\\"type\\\\\\\\\\\\\\\": 2, \\\\\\\\\\\\\\\"details\\\\\\\\\\\\\\\": {\\\\\\\\\\\\\\\"selectedColumn\\\\\\\\\\\\\\\": \\\\\\\\\\\\\\\"Cod_Escola\\\\\\\\\\\\\\\"}}, \\\\\\\\\\\\\\\"typeProperty\\\\\\\\\\\\\\\": 2}, {\\\\\\\\\\\\\\\"column\\\\\\\\\\\\\\\": {\\\\\\\\\\\\\\\"type\\\\\\\\\\\\\\\": 2, \\\\\\\\\\\\\\\"details\\\\\\\\\\\\\\\": {\\\\\\\\\\\\\\\"selectedColumn\\\\\\\\\\\\\\\": \\\\\\\\\\\\\\\"Nome_Escola\\\\\\\\\\\\\\\"}}, \\\\\\\\\\\\\\\"typeProperty\\\\\\\\\\\\\\\": 0}, {\\\\\\\\\\\\\\\"column\\\\\\\\\\\\\\\": {\\\\\\\\\\\\\\\"type\\\\\\\\\\\\\\\": 2, \\\\\\\\\\\\\\\"details\\\\\\\\\\\\\\\": {\\\\\\\\\\\\\\\"selectedColumn\\\\\\\\\\\\\\\": \\\\\\\\\\\\\\\"Column6\\\\\\\\\\\\\\\"}}, \\\\\\\\\\\\\\\"typeProperty\\\\\\\\\\\\\\\": 0}, {\\\\\\\\\\\\\\\"column\\\\\\\\\\\\\\\": {\\\\\\\\\\\\\\\"type\\\\\\\\\\\\\\\": 2, \\\\\\\\\\\\\\\"details\\\\\\\\\\\\\\\": {\\\\\\\\\\\\\\\"selectedColumn\\\\\\\\\\\\\\\": \\\\\\\\\\\\\\\"TAprov2019_Total\\\\\\\\\\\\\\\"}}, \\\\\\\\\\\\\\\"typeProperty\\\\\\\\\\\\\\\": 3}, {\\\\\\\\\\\\\\\"column\\\\\\\\\\\\\\\": {\\\\\\\\\\\\\\\"type\\\\\\\\\\\\\\\": 2, \\\\\\\\\\\\\\\"details\\\\\\\\\\\\\\\": {\\\\\\\\\\\\\\\"selectedColumn\\\\\\\\\\\\\\\": \\\\\\\\\\\\\\\"TAprov2019_1_serie\\\\\\\\\\\\\\\"}}, \\\\\\\\\\\\\\\"typeProperty\\\\\\\\\\\\\\\": 3}, {\\\\\\\\\\\\\\\"column\\\\\\\\\\\\\\\": {\\\\\\\\\\\\\\\"type\\\\\\\\\\\\\\\": 2, \\\\\\\\\\\\\\\"details\\\\\\\\\\\\\\\": {\\\\\\\\\\\\\\\"selectedColumn\\\\\\\\\\\\\\\": \\\\\\\\\\\\\\\"TAprov2019_2_serie\\\\\\\\\\\\\\\"}}, \\\\\\\\\\\\\\\"typeProperty\\\\\\\\\\\\\\\": 0}, {\\\\\\\\\\\\\\\"column\\\\\\\\\\\\\\\": {\\\\\\\\\\\\\\\"type\\\\\\\\\\\\\\\": 2, \\\\\\\\\\\\\\\"details\\\\\\\\\\\\\\\": {\\\\\\\\\\\\\\\"selectedColumn\\\\\\\\\\\\\\\": \\\\\\\\\\\\\\\"TAprov2019_3_serie\\\\\\\\\\\\\\\"}}, \\\\\\\\\\\\\\\"typeProperty\\\\\\\\\\\\\\\": 3}, {\\\\\\\\\\\\\\\"column\\\\\\\\\\\\\\\": {\\\\\\\\\\\\\\\"type\\\\\\\\\\\\\\\": 2, \\\\\\\\\\\\\\\"details\\\\\\\\\\\\\\\": {\\\\\\\\\\\\\\\"selectedColumn\\\\\\\\\\\\\\\": \\\\\\\\\\\\\\\"TAprov2019_4_serie\\\\\\\\\\\\\\\"}}, \\\\\\\\\\\\\\\"typeProperty\\\\\\\\\\\\\\\": 3}, {\\\\\\\\\\\\\\\"column\\\\\\\\\\\\\\\": {\\\\\\\\\\\\\\\"type\\\\\\\\\\\\\\\": 2, \\\\\\\\\\\\\\\"details\\\\\\\\\\\\\\\": {\\\\\\\\\\\\\\\"selectedColumn\\\\\\\\\\\\\\\": \\\\\\\\\\\\\\\"Indicador_Rendimento\\\\\\\\\\\\\\\"}}, \\\\\\\\\\\\\\\"typeProperty\\\\\\\\\\\\\\\": 3}, {\\\\\\\\\\\\\\\"column\\\\\\\\\\\\\\\": {\\\\\\\\\\\\\\\"type\\\\\\\\\\\\\\\": 2, \\\\\\\\\\\\\\\"details\\\\\\\\\\\\\\\": {\\\\\\\\\\\\\\\"selectedColumn\\\\\\\\\\\\\\\": \\\\\\\\\\\\\\\"SAEB2019_Matematica\\\\\\\\\\\\\\\"}}, \\\\\\\\\\\\\\\"typeProperty\\\\\\\\\\\\\\\": 3}, {\\\\\\\\\\\\\\\"column\\\\\\\\\\\\\\\": {\\\\\\\\\\\\\\\"type\\\\\\\\\\\\\\\": 2, \\\\\\\\\\\\\\\"details\\\\\\\\\\\\\\\": {\\\\\\\\\\\\\\\"selectedColumn\\\\\\\\\\\\\\\": \\\\\\\\\\\\\\\"SAEB2019_Lingua Portuguesa\\\\\\\\\\\\\\\"}}, \\\\\\\\\\\\\\\"typeProperty\\\\\\\\\\\\\\\": 3}, {\\\\\\\\\\\\\\\"column\\\\\\\\\\\\\\\": {\\\\\\\\\\\\\\\"type\\\\\\\\\\\\\\\": 2, \\\\\\\\\\\\\\\"details\\\\\\\\\\\\\\\": {\\\\\\\\\\\\\\\"selectedColumn\\\\\\\\\\\\\\\": \\\\\\\\\\\\\\\"SAEB2019_Nota Media Padronizada\\\\\\\\\\\\\\\"}}, \\\\\\\\\\\\\\\"typeProperty\\\\\\\\\\\\\\\": 3}, {\\\\\\\\\\\\\\\"column\\\\\\\\\\\\\\\": {\\\\\\\\\\\\\\\"type\\\\\\\\\\\\\\\": 2, \\\\\\\\\\\\\\\"details\\\\\\\\\\\\\\\": {\\\\\\\\\\\\\\\"selectedColumn\\\\\\\\\\\\\\\": \\\\\\\\\\\\\\\"IDEB_2019\\\\\\\\\\\\\\\"}}, \\\\\\\\\\\\\\\"typeProperty\\\\\\\\\\\\\\\": 3}]}, \\\\\\\\\\\\\\\"localData\\\\\\\\\\\\\\\": {}, \\\\\\\\\\\\\\\"isEnabled\\\\\\\\\\\\\\\": true, \\\\\\\\\\\\\\\"name\\\\\\\\\\\\\\\": null, \\\\\\\\\\\\\\\"annotation\\\\\\\\\\\\\\\": null}], \\\\\\\\\\\\\\\"inspectors\\\\\\\\\\\\\\\": [], \\\\\\\\\\\\\\\"meta\\\\\\\\\\\\\\\": {\\\\\\\\\\\\\\\"savedDatasetId\\\\\\\\\\\\\\\": \\\\\\\\\\\\\\\"a652caa5-a81c-414e-8c35-f1fad493e8c7\\\\\\\\\\\\\\\", \\\\\\\\\\\\\\\"datasetType\\\\\\\\\\\\\\\": \\\\\\\\\\\\\\\"tabular\\\\\\\\\\\\\\\", \\\\\\\\\\\\\\\"subscriptionId\\\\\\\\\\\\\\\": \\\\\\\\\\\\\\\"a748a023-896b-4719-8f8e-3d1ba62d6e35\\\\\\\\\\\\\\\", \\\\\\\\\\\\\\\"workspaceId\\\\\\\\\\\\\\\": \\\\\\\\\\\\\\\"fc67c9a7-43e2-4dd2-bef2-189551a3486d\\\\\\\\\\\\\\\", \\\\\\\\\\\\\\\"workspaceLocation\\\\\\\\\\\\\\\": \\\\\\\\\\\\\\\"eastus\\\\\\\\\\\\\\\"}}\\\\\\\", \\\\\\\"activities\\\\\\\": 0}\", \"EnableSubsampling\": null, \"runTemplate\": \"AutoML\", \"azureml.runsource\": \"automl\", \"display_task_type\": \"regression\", \"dependencies_versions\": \"{\\\"azureml-widgets\\\": \\\"1.19.0\\\", \\\"azureml-train\\\": \\\"1.19.0\\\", \\\"azureml-train-restclients-hyperdrive\\\": \\\"1.19.0\\\", \\\"azureml-train-core\\\": \\\"1.19.0\\\", \\\"azureml-train-automl\\\": \\\"1.19.0\\\", \\\"azureml-train-automl-runtime\\\": \\\"1.19.0\\\", \\\"azureml-train-automl-client\\\": \\\"1.19.0\\\", \\\"azureml-tensorboard\\\": \\\"1.19.0\\\", \\\"azureml-telemetry\\\": \\\"1.19.0\\\", \\\"azureml-sdk\\\": \\\"1.19.0\\\", \\\"azureml-samples\\\": \\\"0+unknown\\\", \\\"azureml-pipeline\\\": \\\"1.19.0\\\", \\\"azureml-pipeline-steps\\\": \\\"1.19.0\\\", \\\"azureml-pipeline-core\\\": \\\"1.19.0\\\", \\\"azureml-opendatasets\\\": \\\"1.19.0\\\", \\\"azureml-model-management-sdk\\\": \\\"1.0.1b6.post1\\\", \\\"azureml-mlflow\\\": \\\"1.19.0\\\", \\\"azureml-interpret\\\": \\\"1.19.0\\\", \\\"azureml-explain-model\\\": \\\"1.19.0\\\", \\\"azureml-defaults\\\": \\\"1.19.0\\\", \\\"azureml-dataset-runtime\\\": \\\"1.19.0.post1\\\", \\\"azureml-dataprep\\\": \\\"2.6.1\\\", \\\"azureml-dataprep-rslex\\\": \\\"1.4.0\\\", \\\"azureml-dataprep-native\\\": \\\"26.0.0\\\", \\\"azureml-datadrift\\\": \\\"1.19.0\\\", \\\"azureml-core\\\": \\\"1.19.0\\\", \\\"azureml-contrib-services\\\": \\\"1.19.0\\\", \\\"azureml-contrib-server\\\": \\\"1.19.0\\\", \\\"azureml-contrib-reinforcementlearning\\\": \\\"1.19.0\\\", \\\"azureml-contrib-pipeline-steps\\\": \\\"1.19.0\\\", \\\"azureml-contrib-notebook\\\": \\\"1.19.0\\\", \\\"azureml-contrib-interpret\\\": \\\"1.19.0\\\", \\\"azureml-contrib-gbdt\\\": \\\"1.19.0\\\", \\\"azureml-contrib-fairness\\\": \\\"1.19.0\\\", \\\"azureml-contrib-dataset\\\": \\\"1.19.0\\\", \\\"azureml-cli-common\\\": \\\"1.19.0\\\", \\\"azureml-automl-runtime\\\": \\\"1.19.0\\\", \\\"azureml-automl-core\\\": \\\"1.19.0\\\", \\\"azureml-accel-models\\\": \\\"1.19.0\\\"}\", \"_aml_system_scenario_identification\": \"Remote.Parent\", \"ClientType\": \"SDK\", \"environment_cpu_name\": \"AzureML-AutoML\", \"environment_cpu_label\": \"prod\", \"environment_gpu_name\": \"AzureML-AutoML-GPU\", \"environment_gpu_label\": \"prod\", \"root_attribution\": \"automl\", \"attribution\": \"AutoML\", \"Orchestrator\": \"AutoML\", \"CancelUri\": \"https://eastus.experiments.azureml.net/jasmine/v1.0/subscriptions/a748a023-896b-4719-8f8e-3d1ba62d6e35/resourceGroups/RG-AZML/providers/Microsoft.MachineLearningServices/workspaces/AZML/experimentids/4e8b4564-dc2c-49d3-9b04-54d50a542ec3/cancel/AutoML_f9665a4f-e27f-4ed4-8725-26abee5eeeba\", \"ClientSdkVersion\": \"1.20.0\", \"snapshotId\": \"00000000-0000-0000-0000-000000000000\", \"SetupRunId\": \"AutoML_f9665a4f-e27f-4ed4-8725-26abee5eeeba_setup\", \"SetupRunContainerId\": \"dcid.AutoML_f9665a4f-e27f-4ed4-8725-26abee5eeeba_setup\", \"FeaturizationRunJsonPath\": \"featurizer_container.json\", \"FeaturizationRunId\": \"AutoML_f9665a4f-e27f-4ed4-8725-26abee5eeeba_featurize\", \"ProblemInfoJsonString\": \"{\\\"dataset_num_categorical\\\": 0, \\\"is_sparse\\\": true, \\\"subsampling\\\": false, \\\"dataset_classes\\\": 62, \\\"dataset_features\\\": 39552, \\\"dataset_samples\\\": 12079, \\\"single_frequency_class_detected\\\": false}\", \"ModelExplainRunId\": \"AutoML_f9665a4f-e27f-4ed4-8725-26abee5eeeba_ModelExplain\"}, \"tags\": {\"model_explain_run\": \"best_run\", \"_aml_system_azureml.automlComponent\": \"AutoML\", \"pipeline_id\": \"\", \"score\": \"\", \"predicted_cost\": \"\", \"fit_time\": \"\", \"training_percent\": \"\", \"iteration\": \"\", \"run_preprocessor\": \"\", \"run_algorithm\": \"\", \"dynamic_whitelisting_iterations\": \"<25>;<30>;<35>;\", \"automl_best_child_run_id\": \"AutoML_f9665a4f-e27f-4ed4-8725-26abee5eeeba_38\", \"model_explain_best_run_child_id\": \"AutoML_f9665a4f-e27f-4ed4-8725-26abee5eeeba_38\"}, \"end_time_utc\": \"2021-01-17T03:54:25.948596Z\", \"status\": \"Completed\", \"log_files\": {}, \"log_groups\": [], \"run_duration\": \"0:39:40\"}, \"child_runs\": [{\"run_id\": \"AutoML_f9665a4f-e27f-4ed4-8725-26abee5eeeba_0\", \"run_number\": 7, \"metric\": null, \"status\": \"Completed\", \"run_type\": \"azureml.scriptrun\", \"training_percent\": \"100\", \"start_time\": \"2021-01-17T03:20:44.637396Z\", \"end_time\": \"2021-01-17T03:22:21.865571Z\", \"created_time\": \"2021-01-17T03:20:27.621956Z\", \"created_time_dt\": \"2021-01-17T03:20:27.621956Z\", \"duration\": \"0:01:54\", \"iteration\": \"0\", \"goal\": \"r2_score_max\", \"run_name\": \"MaxAbsScaler, LightGBM\", \"run_properties\": \"copy=True\", \"primary_metric\": 0.99637163, \"best_metric\": 0.99637163}, {\"run_id\": \"AutoML_f9665a4f-e27f-4ed4-8725-26abee5eeeba_2\", \"run_number\": 8, \"metric\": null, \"status\": \"Completed\", \"run_type\": \"azureml.scriptrun\", \"training_percent\": \"100\", \"start_time\": \"2021-01-17T03:20:41.94127Z\", \"end_time\": \"2021-01-17T03:27:55.433095Z\", \"created_time\": \"2021-01-17T03:20:27.806937Z\", \"created_time_dt\": \"2021-01-17T03:20:27.806937Z\", \"duration\": \"0:07:27\", \"iteration\": \"2\", \"goal\": \"r2_score_max\", \"run_name\": \"SparseNormalizer, XGBoostRegressor\", \"run_properties\": \"<azureml.automl.runtime.shared.model_wrappers.SparseNormalizer object at 0x7fd58cff15c0\", \"primary_metric\": 0.95832455, \"best_metric\": 0.99671337}, {\"run_id\": \"AutoML_f9665a4f-e27f-4ed4-8725-26abee5eeeba_1\", \"run_number\": 9, \"metric\": null, \"status\": \"Completed\", \"run_type\": \"azureml.scriptrun\", \"training_percent\": \"100\", \"start_time\": \"2021-01-17T03:20:43.650514Z\", \"end_time\": \"2021-01-17T03:22:48.782443Z\", \"created_time\": \"2021-01-17T03:20:27.824454Z\", \"created_time_dt\": \"2021-01-17T03:20:27.824454Z\", \"duration\": \"0:02:20\", \"iteration\": \"1\", \"goal\": \"r2_score_max\", \"run_name\": \"MaxAbsScaler, XGBoostRegressor\", \"run_properties\": \"copy=True\", \"primary_metric\": 0.99671337, \"best_metric\": 0.99671337}, {\"run_id\": \"AutoML_f9665a4f-e27f-4ed4-8725-26abee5eeeba_3\", \"run_number\": 10, \"metric\": null, \"status\": \"Completed\", \"run_type\": \"azureml.scriptrun\", \"training_percent\": \"100\", \"start_time\": \"2021-01-17T03:20:44.606173Z\", \"end_time\": \"2021-01-17T03:28:45.212741Z\", \"created_time\": \"2021-01-17T03:20:27.926893Z\", \"created_time_dt\": \"2021-01-17T03:20:27.926893Z\", \"duration\": \"0:08:17\", \"iteration\": \"3\", \"goal\": \"r2_score_max\", \"run_name\": \"MaxAbsScaler, RandomForest\", \"run_properties\": \"copy=True\", \"primary_metric\": 0.98568174, \"best_metric\": 0.99671337}, {\"run_id\": \"AutoML_f9665a4f-e27f-4ed4-8725-26abee5eeeba_4\", \"run_number\": 11, \"metric\": null, \"status\": \"Completed\", \"run_type\": \"azureml.scriptrun\", \"training_percent\": \"100\", \"start_time\": \"2021-01-17T03:22:42.144655Z\", \"end_time\": \"2021-01-17T03:27:46.273718Z\", \"created_time\": \"2021-01-17T03:22:25.088704Z\", \"created_time_dt\": \"2021-01-17T03:22:25.088704Z\", \"duration\": \"0:05:21\", \"iteration\": \"4\", \"goal\": \"r2_score_max\", \"run_name\": \"StandardScalerWrapper, XGBoostRegressor\", \"run_properties\": \"<azureml.automl.runtime.shared.model_wrappers.StandardScalerWrapper object at 0x7f97f9da8438\", \"primary_metric\": 0.99697078, \"best_metric\": 0.99697078}, {\"run_id\": \"AutoML_f9665a4f-e27f-4ed4-8725-26abee5eeeba_5\", \"run_number\": 12, \"metric\": null, \"status\": \"Completed\", \"run_type\": \"azureml.scriptrun\", \"training_percent\": \"100\", \"start_time\": \"2021-01-17T03:23:03.268103Z\", \"end_time\": \"2021-01-17T03:29:36.649079Z\", \"created_time\": \"2021-01-17T03:22:50.856827Z\", \"created_time_dt\": \"2021-01-17T03:22:50.856827Z\", \"duration\": \"0:06:45\", \"iteration\": \"5\", \"goal\": \"r2_score_max\", \"run_name\": \"MaxAbsScaler, ElasticNet\", \"run_properties\": \"copy=True\", \"primary_metric\": 0.99345663, \"best_metric\": 0.99697078}, {\"run_id\": \"AutoML_f9665a4f-e27f-4ed4-8725-26abee5eeeba_6\", \"run_number\": 21, \"metric\": null, \"status\": \"Completed\", \"run_type\": \"azureml.scriptrun\", \"training_percent\": \"100\", \"start_time\": \"2021-01-17T03:28:07.804964Z\", \"end_time\": \"2021-01-17T03:36:21.978986Z\", \"created_time\": \"2021-01-17T03:27:49.627552Z\", \"created_time_dt\": \"2021-01-17T03:27:49.627552Z\", \"duration\": \"0:08:32\", \"iteration\": \"6\", \"goal\": \"r2_score_max\", \"run_name\": \"MaxAbsScaler, RandomForest\", \"run_properties\": \"copy=True\", \"primary_metric\": 0.97422218, \"best_metric\": 0.99697078}, {\"run_id\": \"AutoML_f9665a4f-e27f-4ed4-8725-26abee5eeeba_7\", \"run_number\": 22, \"metric\": null, \"status\": \"Completed\", \"run_type\": \"azureml.scriptrun\", \"training_percent\": \"100\", \"start_time\": \"2021-01-17T03:28:11.907953Z\", \"end_time\": \"2021-01-17T03:30:34.985678Z\", \"created_time\": \"2021-01-17T03:27:58.588213Z\", \"created_time_dt\": \"2021-01-17T03:27:58.588213Z\", \"duration\": \"0:02:36\", \"iteration\": \"7\", \"goal\": \"r2_score_max\", \"run_name\": \"StandardScalerWrapper, XGBoostRegressor\", \"run_properties\": \"<azureml.automl.runtime.shared.model_wrappers.StandardScalerWrapper object at 0x7f2f94c4e400\", \"primary_metric\": 0.99689849, \"best_metric\": 0.99697078}, {\"run_id\": \"AutoML_f9665a4f-e27f-4ed4-8725-26abee5eeeba_8\", \"run_number\": 23, \"metric\": null, \"status\": \"Completed\", \"run_type\": \"azureml.scriptrun\", \"training_percent\": \"100\", \"start_time\": \"2021-01-17T03:29:06.161682Z\", \"end_time\": \"2021-01-17T03:34:50.653415Z\", \"created_time\": \"2021-01-17T03:28:48.466162Z\", \"created_time_dt\": \"2021-01-17T03:28:48.466162Z\", \"duration\": \"0:06:02\", \"iteration\": \"8\", \"goal\": \"r2_score_max\", \"run_name\": \"MaxAbsScaler, ExtremeRandomTrees\", \"run_properties\": \"copy=True\", \"primary_metric\": 0.99304465, \"best_metric\": 0.99697078}, {\"run_id\": \"AutoML_f9665a4f-e27f-4ed4-8725-26abee5eeeba_9\", \"run_number\": 24, \"metric\": null, \"status\": \"Completed\", \"run_type\": \"azureml.scriptrun\", \"training_percent\": \"100\", \"start_time\": \"2021-01-17T03:29:58.136531Z\", \"end_time\": \"2021-01-17T03:34:57.538168Z\", \"created_time\": \"2021-01-17T03:29:39.881548Z\", \"created_time_dt\": \"2021-01-17T03:29:39.881548Z\", \"duration\": \"0:05:17\", \"iteration\": \"9\", \"goal\": \"r2_score_max\", \"run_name\": \"StandardScalerWrapper, ElasticNet\", \"run_properties\": \"<azureml.automl.runtime.shared.model_wrappers.StandardScalerWrapper object at 0x7f8ca4fb94e0\", \"primary_metric\": 0.98935776, \"best_metric\": 0.99697078}, {\"run_id\": \"AutoML_f9665a4f-e27f-4ed4-8725-26abee5eeeba_10\", \"run_number\": 25, \"metric\": null, \"status\": \"Completed\", \"run_type\": \"azureml.scriptrun\", \"training_percent\": \"100\", \"start_time\": \"2021-01-17T03:30:53.773836Z\", \"end_time\": \"2021-01-17T03:33:22.844116Z\", \"created_time\": \"2021-01-17T03:30:37.962273Z\", \"created_time_dt\": \"2021-01-17T03:30:37.962273Z\", \"duration\": \"0:02:44\", \"iteration\": \"10\", \"goal\": \"r2_score_max\", \"run_name\": \"MaxAbsScaler, RandomForest\", \"run_properties\": \"copy=True\", \"primary_metric\": 0.5469432, \"best_metric\": 0.99697078}, {\"run_id\": \"AutoML_f9665a4f-e27f-4ed4-8725-26abee5eeeba_11\", \"run_number\": 26, \"metric\": null, \"status\": \"Completed\", \"run_type\": \"azureml.scriptrun\", \"training_percent\": \"100\", \"start_time\": \"2021-01-17T03:33:42.900302Z\", \"end_time\": \"2021-01-17T03:34:42.744505Z\", \"created_time\": \"2021-01-17T03:33:27.8501Z\", \"created_time_dt\": \"2021-01-17T03:33:27.8501Z\", \"duration\": \"0:01:14\", \"iteration\": \"11\", \"goal\": \"r2_score_max\", \"run_name\": \"MaxAbsScaler, RandomForest\", \"run_properties\": \"copy=True\", \"primary_metric\": 0.47870766, \"best_metric\": 0.99697078}, {\"run_id\": \"AutoML_f9665a4f-e27f-4ed4-8725-26abee5eeeba_12\", \"run_number\": 27, \"metric\": null, \"status\": \"Completed\", \"run_type\": \"azureml.scriptrun\", \"training_percent\": \"100\", \"start_time\": \"2021-01-17T03:35:05.289209Z\", \"end_time\": \"2021-01-17T03:36:26.26001Z\", \"created_time\": \"2021-01-17T03:34:45.730589Z\", \"created_time_dt\": \"2021-01-17T03:34:45.730589Z\", \"duration\": \"0:01:40\", \"iteration\": \"12\", \"goal\": \"r2_score_max\", \"run_name\": \"StandardScalerWrapper, XGBoostRegressor\", \"run_properties\": \"<azureml.automl.runtime.shared.model_wrappers.StandardScalerWrapper object at 0x7f711084a7f0\", \"primary_metric\": 0.87375604, \"best_metric\": 0.99697078}, {\"run_id\": \"AutoML_f9665a4f-e27f-4ed4-8725-26abee5eeeba_13\", \"run_number\": 28, \"metric\": null, \"status\": \"Completed\", \"run_type\": \"azureml.scriptrun\", \"training_percent\": \"100\", \"start_time\": \"2021-01-17T03:35:03.410055Z\", \"end_time\": \"2021-01-17T03:37:12.545432Z\", \"created_time\": \"2021-01-17T03:34:53.522653Z\", \"created_time_dt\": \"2021-01-17T03:34:53.522653Z\", \"duration\": \"0:02:19\", \"iteration\": \"13\", \"goal\": \"r2_score_max\", \"run_name\": \"MaxAbsScaler, ExtremeRandomTrees\", \"run_properties\": \"copy=True\", \"primary_metric\": 0.99291014, \"best_metric\": 0.99697078}, {\"run_id\": \"AutoML_f9665a4f-e27f-4ed4-8725-26abee5eeeba_14\", \"run_number\": 29, \"metric\": null, \"status\": \"Completed\", \"run_type\": \"azureml.scriptrun\", \"training_percent\": \"100\", \"start_time\": \"2021-01-17T03:35:12.548138Z\", \"end_time\": \"2021-01-17T03:36:22.841926Z\", \"created_time\": \"2021-01-17T03:35:00.629125Z\", \"created_time_dt\": \"2021-01-17T03:35:00.629125Z\", \"duration\": \"0:01:22\", \"iteration\": \"14\", \"goal\": \"r2_score_max\", \"run_name\": \"MaxAbsScaler, ExtremeRandomTrees\", \"run_properties\": \"copy=True\", \"primary_metric\": 0.88939342, \"best_metric\": 0.99697078}, {\"run_id\": \"AutoML_f9665a4f-e27f-4ed4-8725-26abee5eeeba_15\", \"run_number\": 30, \"metric\": null, \"status\": \"Completed\", \"run_type\": \"azureml.scriptrun\", \"training_percent\": \"100\", \"start_time\": \"2021-01-17T03:36:47.142363Z\", \"end_time\": \"2021-01-17T03:40:23.287551Z\", \"created_time\": \"2021-01-17T03:36:27.050498Z\", \"created_time_dt\": \"2021-01-17T03:36:27.050498Z\", \"duration\": \"0:03:56\", \"iteration\": \"15\", \"goal\": \"r2_score_max\", \"run_name\": \"MaxAbsScaler, ExtremeRandomTrees\", \"run_properties\": \"copy=True\", \"primary_metric\": 0.99219163, \"best_metric\": 0.99697078}, {\"run_id\": \"AutoML_f9665a4f-e27f-4ed4-8725-26abee5eeeba_16\", \"run_number\": 31, \"metric\": null, \"status\": \"Completed\", \"run_type\": \"azureml.scriptrun\", \"training_percent\": \"100\", \"start_time\": \"2021-01-17T03:36:48.341777Z\", \"end_time\": \"2021-01-17T03:39:17.036047Z\", \"created_time\": \"2021-01-17T03:36:35.373691Z\", \"created_time_dt\": \"2021-01-17T03:36:35.373691Z\", \"duration\": \"0:02:41\", \"iteration\": \"16\", \"goal\": \"r2_score_max\", \"run_name\": \"MaxAbsScaler, ElasticNet\", \"run_properties\": \"copy=True\", \"primary_metric\": 0.99221145, \"best_metric\": 0.99697078}, {\"run_id\": \"AutoML_f9665a4f-e27f-4ed4-8725-26abee5eeeba_17\", \"run_number\": 32, \"metric\": null, \"status\": \"Completed\", \"run_type\": \"azureml.scriptrun\", \"training_percent\": \"100\", \"start_time\": \"2021-01-17T03:36:46.956206Z\", \"end_time\": \"2021-01-17T03:37:46.454127Z\", \"created_time\": \"2021-01-17T03:36:35.475136Z\", \"created_time_dt\": \"2021-01-17T03:36:35.475136Z\", \"duration\": \"0:01:10\", \"iteration\": \"17\", \"goal\": \"r2_score_max\", \"run_name\": \"MaxAbsScaler, RandomForest\", \"run_properties\": \"copy=True\", \"primary_metric\": 0.89214941, \"best_metric\": 0.99697078}, {\"run_id\": \"AutoML_f9665a4f-e27f-4ed4-8725-26abee5eeeba_18\", \"run_number\": 33, \"metric\": null, \"status\": \"Completed\", \"run_type\": \"azureml.scriptrun\", \"training_percent\": \"100\", \"start_time\": \"2021-01-17T03:37:34.682148Z\", \"end_time\": \"2021-01-17T03:38:44.100346Z\", \"created_time\": \"2021-01-17T03:37:16.341214Z\", \"created_time_dt\": \"2021-01-17T03:37:16.341214Z\", \"duration\": \"0:01:27\", \"iteration\": \"18\", \"goal\": \"r2_score_max\", \"run_name\": \"MaxAbsScaler, RandomForest\", \"run_properties\": \"copy=True\", \"primary_metric\": 0.96175956, \"best_metric\": 0.99697078}, {\"run_id\": \"AutoML_f9665a4f-e27f-4ed4-8725-26abee5eeeba_19\", \"run_number\": 34, \"metric\": null, \"status\": \"Completed\", \"run_type\": \"azureml.scriptrun\", \"training_percent\": \"100\", \"start_time\": \"2021-01-17T03:38:04.567704Z\", \"end_time\": \"2021-01-17T03:43:24.750111Z\", \"created_time\": \"2021-01-17T03:37:50.809398Z\", \"created_time_dt\": \"2021-01-17T03:37:50.809398Z\", \"duration\": \"0:05:33\", \"iteration\": \"19\", \"goal\": \"r2_score_max\", \"run_name\": \"SparseNormalizer, XGBoostRegressor\", \"run_properties\": \"<azureml.automl.runtime.shared.model_wrappers.SparseNormalizer object at 0x7f817f0f86a0\", \"primary_metric\": 0.97019951, \"best_metric\": 0.99697078}, {\"run_id\": \"AutoML_f9665a4f-e27f-4ed4-8725-26abee5eeeba_20\", \"run_number\": 35, \"metric\": null, \"status\": \"Completed\", \"run_type\": \"azureml.scriptrun\", \"training_percent\": \"100\", \"start_time\": \"2021-01-17T03:39:02.972602Z\", \"end_time\": \"2021-01-17T03:41:19.388833Z\", \"created_time\": \"2021-01-17T03:38:47.871816Z\", \"created_time_dt\": \"2021-01-17T03:38:47.871816Z\", \"duration\": \"0:02:31\", \"iteration\": \"20\", \"goal\": \"r2_score_max\", \"run_name\": \"StandardScalerWrapper, RandomForest\", \"run_properties\": \"<azureml.automl.runtime.shared.model_wrappers.StandardScalerWrapper object at 0x7febaf8c9198\", \"primary_metric\": 0.95071567, \"best_metric\": 0.99697078}, {\"run_id\": \"AutoML_f9665a4f-e27f-4ed4-8725-26abee5eeeba_21\", \"run_number\": 36, \"metric\": null, \"status\": \"Completed\", \"run_type\": \"azureml.scriptrun\", \"training_percent\": \"100\", \"start_time\": \"2021-01-17T03:39:40.804344Z\", \"end_time\": \"2021-01-17T03:43:15.630141Z\", \"created_time\": \"2021-01-17T03:39:21.133541Z\", \"created_time_dt\": \"2021-01-17T03:39:21.133541Z\", \"duration\": \"0:03:54\", \"iteration\": \"21\", \"goal\": \"r2_score_max\", \"run_name\": \"MaxAbsScaler, ElasticNet\", \"run_properties\": \"copy=True\", \"primary_metric\": 0.99273084, \"best_metric\": 0.99697078}, {\"run_id\": \"AutoML_f9665a4f-e27f-4ed4-8725-26abee5eeeba_22\", \"run_number\": 37, \"metric\": null, \"status\": \"Completed\", \"run_type\": \"azureml.scriptrun\", \"training_percent\": \"100\", \"start_time\": \"2021-01-17T03:40:46.713647Z\", \"end_time\": \"2021-01-17T03:42:03.695311Z\", \"created_time\": \"2021-01-17T03:40:27.224361Z\", \"created_time_dt\": \"2021-01-17T03:40:27.224361Z\", \"duration\": \"0:01:36\", \"iteration\": \"22\", \"goal\": \"r2_score_max\", \"run_name\": \"MaxAbsScaler, LightGBM\", \"run_properties\": \"copy=True\", \"primary_metric\": 0.99241251, \"best_metric\": 0.99697078}, {\"run_id\": \"AutoML_f9665a4f-e27f-4ed4-8725-26abee5eeeba_23\", \"run_number\": 38, \"metric\": null, \"status\": \"Completed\", \"run_type\": \"azureml.scriptrun\", \"training_percent\": \"100\", \"start_time\": \"2021-01-17T03:41:45.351731Z\", \"end_time\": \"2021-01-17T03:42:52.865234Z\", \"created_time\": \"2021-01-17T03:41:23.132045Z\", \"created_time_dt\": \"2021-01-17T03:41:23.132045Z\", \"duration\": \"0:01:29\", \"iteration\": \"23\", \"goal\": \"r2_score_max\", \"run_name\": \"StandardScalerWrapper, LightGBM\", \"run_properties\": \"<azureml.automl.runtime.shared.model_wrappers.StandardScalerWrapper object at 0x7fba92b92550\", \"primary_metric\": 0.98592265, \"best_metric\": 0.99697078}, {\"run_id\": \"AutoML_f9665a4f-e27f-4ed4-8725-26abee5eeeba_24\", \"run_number\": 39, \"metric\": null, \"status\": \"Completed\", \"run_type\": \"azureml.scriptrun\", \"training_percent\": \"100\", \"start_time\": \"2021-01-17T03:42:25.706909Z\", \"end_time\": \"2021-01-17T03:44:06.489536Z\", \"created_time\": \"2021-01-17T03:42:07.886867Z\", \"created_time_dt\": \"2021-01-17T03:42:07.886867Z\", \"duration\": \"0:01:58\", \"iteration\": \"24\", \"goal\": \"r2_score_max\", \"run_name\": \"StandardScalerWrapper, XGBoostRegressor\", \"run_properties\": \"<azureml.automl.runtime.shared.model_wrappers.StandardScalerWrapper object at 0x7f6b5da91eb8\", \"primary_metric\": 0.99617273, \"best_metric\": 0.99697078}, {\"run_id\": \"AutoML_f9665a4f-e27f-4ed4-8725-26abee5eeeba_25\", \"run_number\": 40, \"metric\": null, \"status\": \"Completed\", \"run_type\": \"azureml.scriptrun\", \"training_percent\": \"100\", \"start_time\": \"2021-01-17T03:43:13.881484Z\", \"end_time\": \"2021-01-17T03:48:20.505547Z\", \"created_time\": \"2021-01-17T03:42:56.855238Z\", \"created_time_dt\": \"2021-01-17T03:42:56.855238Z\", \"duration\": \"0:05:23\", \"iteration\": \"25\", \"goal\": \"r2_score_max\", \"run_name\": \"StandardScalerWrapper, XGBoostRegressor\", \"run_properties\": \"<azureml.automl.runtime.shared.model_wrappers.StandardScalerWrapper object at 0x7fb46add66a0\", \"primary_metric\": 0.99708109, \"best_metric\": 0.99708109}, {\"run_id\": \"AutoML_f9665a4f-e27f-4ed4-8725-26abee5eeeba_26\", \"run_number\": 41, \"metric\": null, \"status\": \"Canceled\", \"run_type\": \"azureml.scriptrun\", \"training_percent\": \"100\", \"start_time\": \"2021-01-17T03:43:34.465567Z\", \"end_time\": \"2021-01-17T03:52:00.719723Z\", \"created_time\": \"2021-01-17T03:43:18.815943Z\", \"created_time_dt\": \"2021-01-17T03:43:18.815943Z\", \"duration\": \"0:08:41\", \"iteration\": \"26\", \"goal\": null, \"run_name\": \"StandardScalerWrapper, ElasticNet\", \"run_properties\": null}, {\"run_id\": \"AutoML_f9665a4f-e27f-4ed4-8725-26abee5eeeba_27\", \"run_number\": 42, \"metric\": null, \"status\": \"Completed\", \"run_type\": \"azureml.scriptrun\", \"training_percent\": \"100\", \"start_time\": \"2021-01-17T03:43:40.498988Z\", \"end_time\": \"2021-01-17T03:44:47.141301Z\", \"created_time\": \"2021-01-17T03:43:27.555183Z\", \"created_time_dt\": \"2021-01-17T03:43:27.555183Z\", \"duration\": \"0:01:19\", \"iteration\": \"27\", \"goal\": \"r2_score_max\", \"run_name\": \"MaxAbsScaler, LightGBM\", \"run_properties\": \"copy=True\", \"primary_metric\": 0.98394924, \"best_metric\": 0.99708109}, {\"run_id\": \"AutoML_f9665a4f-e27f-4ed4-8725-26abee5eeeba_28\", \"run_number\": 43, \"metric\": null, \"status\": \"Completed\", \"run_type\": \"azureml.scriptrun\", \"training_percent\": \"100\", \"start_time\": \"2021-01-17T03:44:25.270336Z\", \"end_time\": \"2021-01-17T03:45:28.075437Z\", \"created_time\": \"2021-01-17T03:44:10.073787Z\", \"created_time_dt\": \"2021-01-17T03:44:10.073787Z\", \"duration\": \"0:01:18\", \"iteration\": \"28\", \"goal\": \"r2_score_max\", \"run_name\": \"StandardScalerWrapper, LightGBM\", \"run_properties\": \"<azureml.automl.runtime.shared.model_wrappers.StandardScalerWrapper object at 0x7fa79a8a4828\", \"primary_metric\": 0.98886547, \"best_metric\": 0.99708109}, {\"run_id\": \"AutoML_f9665a4f-e27f-4ed4-8725-26abee5eeeba_29\", \"run_number\": 44, \"metric\": null, \"status\": \"Failed\", \"run_type\": \"azureml.scriptrun\", \"training_percent\": \"100\", \"start_time\": \"2021-01-17T03:45:12.41987Z\", \"end_time\": \"2021-01-17T03:47:53.619771Z\", \"created_time\": \"2021-01-17T03:44:50.212757Z\", \"created_time_dt\": \"2021-01-17T03:44:50.212757Z\", \"duration\": \"0:03:03\", \"iteration\": \"29\", \"goal\": null, \"run_name\": \"StandardScalerWrapper, XGBoostRegressor\", \"run_properties\": null}, {\"run_id\": \"AutoML_f9665a4f-e27f-4ed4-8725-26abee5eeeba_30\", \"run_number\": 45, \"metric\": null, \"status\": \"Completed\", \"run_type\": \"azureml.scriptrun\", \"training_percent\": \"100\", \"start_time\": \"2021-01-17T03:45:48.329376Z\", \"end_time\": \"2021-01-17T03:48:27.945702Z\", \"created_time\": \"2021-01-17T03:45:32.007409Z\", \"created_time_dt\": \"2021-01-17T03:45:32.007409Z\", \"duration\": \"0:02:55\", \"iteration\": \"30\", \"goal\": \"r2_score_max\", \"run_name\": \"TruncatedSVDWrapper, XGBoostRegressor\", \"run_properties\": \"n_components=0.5542105263157895, random_state=None\", \"primary_metric\": 0.97145287, \"best_metric\": 0.99708109}, {\"run_id\": \"AutoML_f9665a4f-e27f-4ed4-8725-26abee5eeeba_31\", \"run_number\": 46, \"metric\": null, \"status\": \"Completed\", \"run_type\": \"azureml.scriptrun\", \"training_percent\": \"100\", \"start_time\": \"2021-01-17T03:48:10.558058Z\", \"end_time\": \"2021-01-17T03:49:59.30835Z\", \"created_time\": \"2021-01-17T03:47:56.343057Z\", \"created_time_dt\": \"2021-01-17T03:47:56.343057Z\", \"duration\": \"0:02:02\", \"iteration\": \"31\", \"goal\": \"r2_score_max\", \"run_name\": \"MaxAbsScaler, RandomForest\", \"run_properties\": \"copy=True\", \"primary_metric\": 0.95745064, \"best_metric\": 0.99708109}, {\"run_id\": \"AutoML_f9665a4f-e27f-4ed4-8725-26abee5eeeba_32\", \"run_number\": 47, \"metric\": null, \"status\": \"Completed\", \"run_type\": \"azureml.scriptrun\", \"training_percent\": \"100\", \"start_time\": \"2021-01-17T03:48:40.839408Z\", \"end_time\": \"2021-01-17T03:49:38.903098Z\", \"created_time\": \"2021-01-17T03:48:22.932947Z\", \"created_time_dt\": \"2021-01-17T03:48:22.932947Z\", \"duration\": \"0:01:15\", \"iteration\": \"32\", \"goal\": \"r2_score_max\", \"run_name\": \"MaxAbsScaler, SGD\", \"run_properties\": \"copy=True\", \"primary_metric\": 0.97301442, \"best_metric\": 0.99708109}, {\"run_id\": \"AutoML_f9665a4f-e27f-4ed4-8725-26abee5eeeba_33\", \"run_number\": 48, \"metric\": null, \"status\": \"Completed\", \"run_type\": \"azureml.scriptrun\", \"training_percent\": \"100\", \"start_time\": \"2021-01-17T03:48:40.768668Z\", \"end_time\": \"2021-01-17T03:50:00.553323Z\", \"created_time\": \"2021-01-17T03:48:29.962669Z\", \"created_time_dt\": \"2021-01-17T03:48:29.962669Z\", \"duration\": \"0:01:30\", \"iteration\": \"33\", \"goal\": \"r2_score_max\", \"run_name\": \"SparseNormalizer, XGBoostRegressor\", \"run_properties\": \"<azureml.automl.runtime.shared.model_wrappers.SparseNormalizer object at 0x7fec17cbcd68\", \"primary_metric\": 0.84200486, \"best_metric\": 0.99708109}, {\"run_id\": \"AutoML_f9665a4f-e27f-4ed4-8725-26abee5eeeba_34\", \"run_number\": 49, \"metric\": null, \"status\": \"Canceled\", \"run_type\": \"azureml.scriptrun\", \"training_percent\": \"100\", \"start_time\": \"2021-01-17T03:49:59.716918Z\", \"end_time\": \"2021-01-17T03:51:55.125263Z\", \"created_time\": \"2021-01-17T03:49:43.475582Z\", \"created_time_dt\": \"2021-01-17T03:49:43.475582Z\", \"duration\": \"0:02:11\", \"iteration\": \"34\", \"goal\": null, \"run_name\": \"StandardScalerWrapper, ElasticNet\", \"run_properties\": null}, {\"run_id\": \"AutoML_f9665a4f-e27f-4ed4-8725-26abee5eeeba_35\", \"run_number\": 50, \"metric\": null, \"status\": \"Completed\", \"run_type\": \"azureml.scriptrun\", \"training_percent\": \"100\", \"start_time\": \"2021-01-17T03:50:15.351941Z\", \"end_time\": \"2021-01-17T03:51:44.878256Z\", \"created_time\": \"2021-01-17T03:50:03.255539Z\", \"created_time_dt\": \"2021-01-17T03:50:03.255539Z\", \"duration\": \"0:01:41\", \"iteration\": \"35\", \"goal\": \"r2_score_max\", \"run_name\": \"SparseNormalizer, XGBoostRegressor\", \"run_properties\": \"<azureml.automl.runtime.shared.model_wrappers.SparseNormalizer object at 0x7f9abc8ca320\", \"primary_metric\": 0.63164678, \"best_metric\": 0.99708109}, {\"run_id\": \"AutoML_f9665a4f-e27f-4ed4-8725-26abee5eeeba_36\", \"run_number\": 51, \"metric\": null, \"status\": \"Canceled\", \"run_type\": \"azureml.scriptrun\", \"training_percent\": \"100\", \"start_time\": \"2021-01-17T03:50:22.550736Z\", \"end_time\": \"2021-01-17T03:51:53.905516Z\", \"created_time\": \"2021-01-17T03:50:09.030404Z\", \"created_time_dt\": \"2021-01-17T03:50:09.030404Z\", \"duration\": \"0:01:44\", \"iteration\": \"36\", \"goal\": null, \"run_name\": \"TruncatedSVDWrapper, ElasticNet\", \"run_properties\": null}, {\"run_id\": \"AutoML_f9665a4f-e27f-4ed4-8725-26abee5eeeba_37\", \"run_number\": 52, \"metric\": null, \"status\": \"Completed\", \"run_type\": \"azureml.scriptrun\", \"training_percent\": \"100\", \"start_time\": \"2021-01-17T03:52:19.959568Z\", \"end_time\": \"2021-01-17T03:54:13.139705Z\", \"created_time\": \"2021-01-17T03:52:01.649213Z\", \"created_time_dt\": \"2021-01-17T03:52:01.649213Z\", \"duration\": \"0:02:11\", \"iteration\": \"37\", \"goal\": \"r2_score_max\", \"run_name\": \"VotingEnsemble\", \"run_properties\": \"estimators=[('25',\\n                                          Pipeline(memory=None,\\n                                                   steps=[('standardscalerwrapper',\\n                                                           <azureml.automl.runtime.shared.model_wrappers.StandardScalerWrapper object at 0x7fa41c2a60b8>\", \"primary_metric\": 0.99767053, \"best_metric\": 0.99767053}, {\"run_id\": \"AutoML_f9665a4f-e27f-4ed4-8725-26abee5eeeba_38\", \"run_number\": 53, \"metric\": null, \"status\": \"Completed\", \"run_type\": \"azureml.scriptrun\", \"training_percent\": \"100\", \"start_time\": \"2021-01-17T03:52:20.379602Z\", \"end_time\": \"2021-01-17T03:54:12.238988Z\", \"created_time\": \"2021-01-17T03:52:01.668736Z\", \"created_time_dt\": \"2021-01-17T03:52:01.668736Z\", \"duration\": \"0:02:10\", \"iteration\": \"38\", \"goal\": \"r2_score_max\", \"run_name\": \"StackEnsemble\", \"run_properties\": \"base_learners=[('25',\\n                                       Pipeline(memory=None,\\n                                                steps=[('standardscalerwrapper',\\n                                                        <azureml.automl.runtime.shared.model_wrappers.StandardScalerWrapper object at 0x7ff878594160>\", \"primary_metric\": 0.99768042, \"best_metric\": 0.99768042}], \"children_metrics\": {\"categories\": [0], \"series\": {\"root_mean_squared_error\": [{\"categories\": [\"0\", \"1\", \"2\", \"3\", \"4\", \"5\", \"6\", \"7\", \"8\", \"9\", \"10\", \"11\", \"12\", \"13\", \"14\", \"15\", \"16\", \"17\", \"18\", \"19\", \"20\", \"21\", \"22\", \"23\", \"24\", \"25\", \"27\", \"28\", \"30\", \"31\", \"32\", \"33\", \"35\", \"37\", \"38\"], \"mode\": \"markers\", \"name\": \"root_mean_squared_error\", \"stepped\": false, \"type\": \"scatter\", \"data\": [0.04842420936104649, 0.04605735982265987, 0.1641190964618581, 0.09619631895521578, 0.04424561717657636, 0.06501895585090545, 0.12906250390840415, 0.04472051966596543, 0.06702634204801718, 0.08292998969622871, 0.5411363600946911, 0.5788085865082375, 0.28562316106371594, 0.06762791241780522, 0.2665767557562511, 0.07103594464680782, 0.07093041268741017, 0.26400510076182976, 0.15713801892245724, 0.1386929661523075, 0.17847698173164292, 0.06852456709299583, 0.06998911787006402, 0.09534248418838377, 0.0497180582416051, 0.04341957015671007, 0.1018467341804335, 0.08479770515393086, 0.13575076399730462, 0.16574795450106344, 0.13201463559747187, 0.3194783953667004, 0.4878921019898193, 0.03879652371517924, 0.03870942754536592]}, {\"categories\": [\"0\", \"1\", \"2\", \"3\", \"4\", \"5\", \"6\", \"7\", \"8\", \"9\", \"10\", \"11\", \"12\", \"13\", \"14\", \"15\", \"16\", \"17\", \"18\", \"19\", \"20\", \"21\", \"22\", \"23\", \"24\", \"25\", \"27\", \"28\", \"30\", \"31\", \"32\", \"33\", \"35\", \"37\", \"38\"], \"mode\": \"lines\", \"name\": \"root_mean_squared_error_min\", \"stepped\": true, \"type\": \"scatter\", \"data\": [0.04842420936104649, 0.04605735982265987, 0.04605735982265987, 0.04605735982265987, 0.04424561717657636, 0.04424561717657636, 0.04424561717657636, 0.04424561717657636, 0.04424561717657636, 0.04424561717657636, 0.04424561717657636, 0.04424561717657636, 0.04424561717657636, 0.04424561717657636, 0.04424561717657636, 0.04424561717657636, 0.04424561717657636, 0.04424561717657636, 0.04424561717657636, 0.04424561717657636, 0.04424561717657636, 0.04424561717657636, 0.04424561717657636, 0.04424561717657636, 0.04424561717657636, 0.04341957015671007, 0.04341957015671007, 0.04341957015671007, 0.04341957015671007, 0.04341957015671007, 0.04341957015671007, 0.04341957015671007, 0.04341957015671007, 0.03879652371517924, 0.03870942754536592]}], \"normalized_median_absolute_error\": [{\"categories\": [\"0\", \"1\", \"2\", \"3\", \"4\", \"5\", \"6\", \"7\", \"8\", \"9\", \"10\", \"11\", \"12\", \"13\", \"14\", \"15\", \"16\", \"17\", \"18\", \"19\", \"20\", \"21\", \"22\", \"23\", \"24\", \"25\", \"27\", \"28\", \"30\", \"31\", \"32\", \"33\", \"35\", \"37\", \"38\"], \"mode\": \"markers\", \"name\": \"normalized_median_absolute_error\", \"stepped\": false, \"type\": \"scatter\", \"data\": [0.00423018088039175, 0.00467192754149439, 0.012813682357470184, 0.0054099334687851665, 0.00416285420457523, 0.005589573272841176, 0.006847584468972721, 0.0043474820752938586, 0.004499354217431702, 0.007025759666818114, 0.04835744489264373, 0.05114150515550856, 0.0415488158663114, 0.004963477535517094, 0.01448667546112598, 0.004541238720167963, 0.0063251453122492125, 0.017388376400672586, 0.010494291585409881, 0.008285644153753907, 0.009186816024362096, 0.005976924888203318, 0.0060546214170208975, 0.007618426634920447, 0.00479681293169659, 0.004457890987396238, 0.007399648616847274, 0.006208792400400088, 0.008686648060878127, 0.01227839356681667, 0.01206933999877334, 0.026085603982210145, 0.04520372549692786, 0.0040388754391503775, 0.00407265631905622]}, {\"categories\": [\"0\", \"1\", \"2\", \"3\", \"4\", \"5\", \"6\", \"7\", \"8\", \"9\", \"10\", \"11\", \"12\", \"13\", \"14\", \"15\", \"16\", \"17\", \"18\", \"19\", \"20\", \"21\", \"22\", \"23\", \"24\", \"25\", \"27\", \"28\", \"30\", \"31\", \"32\", \"33\", \"35\", \"37\", \"38\"], \"mode\": \"lines\", \"name\": \"normalized_median_absolute_error_min\", \"stepped\": true, \"type\": \"scatter\", \"data\": [0.00423018088039175, 0.00423018088039175, 0.00423018088039175, 0.00423018088039175, 0.00416285420457523, 0.00416285420457523, 0.00416285420457523, 0.00416285420457523, 0.00416285420457523, 0.00416285420457523, 0.00416285420457523, 0.00416285420457523, 0.00416285420457523, 0.00416285420457523, 0.00416285420457523, 0.00416285420457523, 0.00416285420457523, 0.00416285420457523, 0.00416285420457523, 0.00416285420457523, 0.00416285420457523, 0.00416285420457523, 0.00416285420457523, 0.00416285420457523, 0.00416285420457523, 0.00416285420457523, 0.00416285420457523, 0.00416285420457523, 0.00416285420457523, 0.00416285420457523, 0.00416285420457523, 0.00416285420457523, 0.00416285420457523, 0.0040388754391503775, 0.0040388754391503775]}], \"normalized_root_mean_squared_error\": [{\"categories\": [\"0\", \"1\", \"2\", \"3\", \"4\", \"5\", \"6\", \"7\", \"8\", \"9\", \"10\", \"11\", \"12\", \"13\", \"14\", \"15\", \"16\", \"17\", \"18\", \"19\", \"20\", \"21\", \"22\", \"23\", \"24\", \"25\", \"27\", \"28\", \"30\", \"31\", \"32\", \"33\", \"35\", \"37\", \"38\"], \"mode\": \"markers\", \"name\": \"normalized_root_mean_squared_error\", \"stepped\": false, \"type\": \"scatter\", \"data\": [0.007566282712663513, 0.007196462472290604, 0.02564360882216533, 0.015030674836752467, 0.006913377683840055, 0.010159211851703976, 0.020166016235688148, 0.006987581197807098, 0.010472865945002685, 0.012957810890035738, 0.08455255626479548, 0.09043884164191211, 0.04462861891620561, 0.010566861315282066, 0.041652618086914235, 0.011099366351063721, 0.01108287698240784, 0.041250796994035895, 0.024552815456633945, 0.021670775961298044, 0.0278870283955692, 0.010706963608280598, 0.010935799667197503, 0.014897263154434964, 0.007768446600250796, 0.006784307836985949, 0.015913552215692732, 0.013249641430301695, 0.021211056874578846, 0.02589811789079116, 0.02062728681210498, 0.04991849927604693, 0.07623314093590926, 0.006061956830496755, 0.006048348053963423]}, {\"categories\": [\"0\", \"1\", \"2\", \"3\", \"4\", \"5\", \"6\", \"7\", \"8\", \"9\", \"10\", \"11\", \"12\", \"13\", \"14\", \"15\", \"16\", \"17\", \"18\", \"19\", \"20\", \"21\", \"22\", \"23\", \"24\", \"25\", \"27\", \"28\", \"30\", \"31\", \"32\", \"33\", \"35\", \"37\", \"38\"], \"mode\": \"lines\", \"name\": \"normalized_root_mean_squared_error_min\", \"stepped\": true, \"type\": \"scatter\", \"data\": [0.007566282712663513, 0.007196462472290604, 0.007196462472290604, 0.007196462472290604, 0.006913377683840055, 0.006913377683840055, 0.006913377683840055, 0.006913377683840055, 0.006913377683840055, 0.006913377683840055, 0.006913377683840055, 0.006913377683840055, 0.006913377683840055, 0.006913377683840055, 0.006913377683840055, 0.006913377683840055, 0.006913377683840055, 0.006913377683840055, 0.006913377683840055, 0.006913377683840055, 0.006913377683840055, 0.006913377683840055, 0.006913377683840055, 0.006913377683840055, 0.006913377683840055, 0.006784307836985949, 0.006784307836985949, 0.006784307836985949, 0.006784307836985949, 0.006784307836985949, 0.006784307836985949, 0.006784307836985949, 0.006784307836985949, 0.006061956830496755, 0.006048348053963423]}], \"root_mean_squared_log_error\": [{\"categories\": [\"0\", \"1\", \"2\", \"3\", \"4\", \"5\", \"6\", \"7\", \"8\", \"9\", \"10\", \"11\", \"12\", \"13\", \"14\", \"15\", \"16\", \"17\", \"18\", \"19\", \"20\", \"21\", \"22\", \"23\", \"24\", \"25\", \"27\", \"28\", \"30\", \"31\", \"32\", \"33\", \"35\", \"37\", \"38\"], \"mode\": \"markers\", \"name\": \"root_mean_squared_log_error\", \"stepped\": false, \"type\": \"scatter\", \"data\": [0.010752190402561007, 0.00940259875435139, 0.03266163038228601, 0.02252297017112373, 0.009776878637580201, 0.014169149314594343, 0.02839653134932237, 0.00986544760542348, 0.01628568400889852, 0.01586878238386191, 0.10812825061683358, 0.11479926172670031, 0.05406168676074661, 0.01591479436647753, 0.05462308153238791, 0.017200118479119817, 0.014969531344205962, 0.05387205266764623, 0.03390858517066366, 0.028505062860111948, 0.039131230465621836, 0.014605993003887138, 0.015030673441108469, 0.020504863467880625, 0.01035299262167774, 0.009205189623622257, 0.022951628386043015, 0.018713415842712498, 0.02751970060413714, 0.03479631148919879, 0.026623819097859342, 0.06459693588821884, 0.0986204772812091, 0.008198016446666869, 0.008237186945423951]}, {\"categories\": [\"0\", \"1\", \"2\", \"3\", \"4\", \"5\", \"6\", \"7\", \"8\", \"9\", \"10\", \"11\", \"12\", \"13\", \"14\", \"15\", \"16\", \"17\", \"18\", \"19\", \"20\", \"21\", \"22\", \"23\", \"24\", \"25\", \"27\", \"28\", \"30\", \"31\", \"32\", \"33\", \"35\", \"37\", \"38\"], \"mode\": \"lines\", \"name\": \"root_mean_squared_log_error_min\", \"stepped\": true, \"type\": \"scatter\", \"data\": [0.010752190402561007, 0.00940259875435139, 0.00940259875435139, 0.00940259875435139, 0.00940259875435139, 0.00940259875435139, 0.00940259875435139, 0.00940259875435139, 0.00940259875435139, 0.00940259875435139, 0.00940259875435139, 0.00940259875435139, 0.00940259875435139, 0.00940259875435139, 0.00940259875435139, 0.00940259875435139, 0.00940259875435139, 0.00940259875435139, 0.00940259875435139, 0.00940259875435139, 0.00940259875435139, 0.00940259875435139, 0.00940259875435139, 0.00940259875435139, 0.00940259875435139, 0.009205189623622257, 0.009205189623622257, 0.009205189623622257, 0.009205189623622257, 0.009205189623622257, 0.009205189623622257, 0.009205189623622257, 0.009205189623622257, 0.008198016446666869, 0.008198016446666869]}], \"median_absolute_error\": [{\"categories\": [\"0\", \"1\", \"2\", \"3\", \"4\", \"5\", \"6\", \"7\", \"8\", \"9\", \"10\", \"11\", \"12\", \"13\", \"14\", \"15\", \"16\", \"17\", \"18\", \"19\", \"20\", \"21\", \"22\", \"23\", \"24\", \"25\", \"27\", \"28\", \"30\", \"31\", \"32\", \"33\", \"35\", \"37\", \"38\"], \"mode\": \"markers\", \"name\": \"median_absolute_error\", \"stepped\": false, \"type\": \"scatter\", \"data\": [0.0270731576345072, 0.029900336265564098, 0.08200756708780917, 0.03462357420022507, 0.02664226690928147, 0.035773268946183524, 0.04382454060142541, 0.027823885281880695, 0.02879586699156289, 0.04496486186763593, 0.30948764731291983, 0.32730563299525484, 0.26591242154439293, 0.03176625622730941, 0.09271472295120627, 0.029063927809074963, 0.040480929998394956, 0.11128560896430455, 0.06716346614662323, 0.053028122584025006, 0.058795622555917415, 0.038252319284501235, 0.03874957706893375, 0.04875793046349086, 0.030699602762858175, 0.02853050231933592, 0.047357751147822556, 0.03973627136256056, 0.055594547589620014, 0.0785817188276267, 0.07724377599214938, 0.16694786548614493, 0.2893038431803383, 0.025848802810562416, 0.026065000441959807]}, {\"categories\": [\"0\", \"1\", \"2\", \"3\", \"4\", \"5\", \"6\", \"7\", \"8\", \"9\", \"10\", \"11\", \"12\", \"13\", \"14\", \"15\", \"16\", \"17\", \"18\", \"19\", \"20\", \"21\", \"22\", \"23\", \"24\", \"25\", \"27\", \"28\", \"30\", \"31\", \"32\", \"33\", \"35\", \"37\", \"38\"], \"mode\": \"lines\", \"name\": \"median_absolute_error_min\", \"stepped\": true, \"type\": \"scatter\", \"data\": [0.0270731576345072, 0.0270731576345072, 0.0270731576345072, 0.0270731576345072, 0.02664226690928147, 0.02664226690928147, 0.02664226690928147, 0.02664226690928147, 0.02664226690928147, 0.02664226690928147, 0.02664226690928147, 0.02664226690928147, 0.02664226690928147, 0.02664226690928147, 0.02664226690928147, 0.02664226690928147, 0.02664226690928147, 0.02664226690928147, 0.02664226690928147, 0.02664226690928147, 0.02664226690928147, 0.02664226690928147, 0.02664226690928147, 0.02664226690928147, 0.02664226690928147, 0.02664226690928147, 0.02664226690928147, 0.02664226690928147, 0.02664226690928147, 0.02664226690928147, 0.02664226690928147, 0.02664226690928147, 0.02664226690928147, 0.025848802810562416, 0.025848802810562416]}], \"spearman_correlation\": [{\"categories\": [\"0\", \"1\", \"2\", \"3\", \"4\", \"5\", \"6\", \"7\", \"8\", \"9\", \"10\", \"11\", \"12\", \"13\", \"14\", \"15\", \"16\", \"17\", \"18\", \"19\", \"20\", \"21\", \"22\", \"23\", \"24\", \"25\", \"27\", \"28\", \"30\", \"31\", \"32\", \"33\", \"35\", \"37\", \"38\"], \"mode\": \"markers\", \"name\": \"spearman_correlation\", \"stepped\": false, \"type\": \"scatter\", \"data\": [0.9984264945525152, 0.9983129898732499, 0.9802976528424437, 0.9964822917147331, 0.9986076343715591, 0.997884213081022, 0.993533851305143, 0.9985327042143509, 0.998187874503976, 0.9977381950630964, 0.8837416898078719, 0.8668761822707075, 0.9977993963991146, 0.9977853802048359, 0.9812670599250098, 0.9980093301728347, 0.9973141998682067, 0.9701446626390645, 0.9892979105499538, 0.9879653289790026, 0.9910709539787773, 0.9975694452653805, 0.9966470498482428, 0.9941513330510378, 0.9982100825097042, 0.9985535656730152, 0.9973013988405635, 0.996647574071439, 0.9848679250656202, 0.9844936567516326, 0.9868981397642985, 0.9354089796289285, 0.8524828321500534, 0.9988145748873197, 0.9988073668198089]}, {\"categories\": [\"0\", \"1\", \"2\", \"3\", \"4\", \"5\", \"6\", \"7\", \"8\", \"9\", \"10\", \"11\", \"12\", \"13\", \"14\", \"15\", \"16\", \"17\", \"18\", \"19\", \"20\", \"21\", \"22\", \"23\", \"24\", \"25\", \"27\", \"28\", \"30\", \"31\", \"32\", \"33\", \"35\", \"37\", \"38\"], \"mode\": \"lines\", \"name\": \"spearman_correlation_max\", \"stepped\": true, \"type\": \"scatter\", \"data\": [0.9984264945525152, 0.9984264945525152, 0.9984264945525152, 0.9984264945525152, 0.9986076343715591, 0.9986076343715591, 0.9986076343715591, 0.9986076343715591, 0.9986076343715591, 0.9986076343715591, 0.9986076343715591, 0.9986076343715591, 0.9986076343715591, 0.9986076343715591, 0.9986076343715591, 0.9986076343715591, 0.9986076343715591, 0.9986076343715591, 0.9986076343715591, 0.9986076343715591, 0.9986076343715591, 0.9986076343715591, 0.9986076343715591, 0.9986076343715591, 0.9986076343715591, 0.9986076343715591, 0.9986076343715591, 0.9986076343715591, 0.9986076343715591, 0.9986076343715591, 0.9986076343715591, 0.9986076343715591, 0.9986076343715591, 0.9988145748873197, 0.9988145748873197]}], \"normalized_root_mean_squared_log_error\": [{\"categories\": [\"0\", \"1\", \"2\", \"3\", \"4\", \"5\", \"6\", \"7\", \"8\", \"9\", \"10\", \"11\", \"12\", \"13\", \"14\", \"15\", \"16\", \"17\", \"18\", \"19\", \"20\", \"21\", \"22\", \"23\", \"24\", \"25\", \"27\", \"28\", \"30\", \"31\", \"32\", \"33\", \"35\", \"37\", \"38\"], \"mode\": \"markers\", \"name\": \"normalized_root_mean_squared_log_error\", \"stepped\": false, \"type\": \"scatter\", \"data\": [0.008081838577103326, 0.007067423705577333, 0.024549976751878994, 0.01692929555605518, 0.007348749601572614, 0.010650181334972503, 0.021344133048482383, 0.007415322092781431, 0.01224106571311101, 0.011927703364609868, 0.08127414362953232, 0.08628838100047437, 0.040635238890692545, 0.011962288077323231, 0.041057208903551884, 0.012928396526738278, 0.011251785112542767, 0.040492701224247606, 0.025487245060503243, 0.02142571030092032, 0.02941282437402309, 0.010978533051981695, 0.011297742311860403, 0.015412394162354409, 0.007781783248407884, 0.006919041964883907, 0.017251494695767384, 0.014065860108930704, 0.020685066916214082, 0.026154500804536407, 0.02001168135970229, 0.04855401447315611, 0.07412766589343288, 0.00616200449339317, 0.006191446833612886]}, {\"categories\": [\"0\", \"1\", \"2\", \"3\", \"4\", \"5\", \"6\", \"7\", \"8\", \"9\", \"10\", \"11\", \"12\", \"13\", \"14\", \"15\", \"16\", \"17\", \"18\", \"19\", \"20\", \"21\", \"22\", \"23\", \"24\", \"25\", \"27\", \"28\", \"30\", \"31\", \"32\", \"33\", \"35\", \"37\", \"38\"], \"mode\": \"lines\", \"name\": \"normalized_root_mean_squared_log_error_min\", \"stepped\": true, \"type\": \"scatter\", \"data\": [0.008081838577103326, 0.007067423705577333, 0.007067423705577333, 0.007067423705577333, 0.007067423705577333, 0.007067423705577333, 0.007067423705577333, 0.007067423705577333, 0.007067423705577333, 0.007067423705577333, 0.007067423705577333, 0.007067423705577333, 0.007067423705577333, 0.007067423705577333, 0.007067423705577333, 0.007067423705577333, 0.007067423705577333, 0.007067423705577333, 0.007067423705577333, 0.007067423705577333, 0.007067423705577333, 0.007067423705577333, 0.007067423705577333, 0.007067423705577333, 0.007067423705577333, 0.006919041964883907, 0.006919041964883907, 0.006919041964883907, 0.006919041964883907, 0.006919041964883907, 0.006919041964883907, 0.006919041964883907, 0.006919041964883907, 0.00616200449339317, 0.00616200449339317]}], \"normalized_mean_absolute_error\": [{\"categories\": [\"0\", \"1\", \"2\", \"3\", \"4\", \"5\", \"6\", \"7\", \"8\", \"9\", \"10\", \"11\", \"12\", \"13\", \"14\", \"15\", \"16\", \"17\", \"18\", \"19\", \"20\", \"21\", \"22\", \"23\", \"24\", \"25\", \"27\", \"28\", \"30\", \"31\", \"32\", \"33\", \"35\", \"37\", \"38\"], \"mode\": \"markers\", \"name\": \"normalized_mean_absolute_error\", \"stepped\": false, \"type\": \"scatter\", \"data\": [0.005190637867433774, 0.005614365980155516, 0.01769319370251616, 0.008134671335376785, 0.004992424942127284, 0.007387745916215349, 0.011103742352834052, 0.0051541828287016, 0.00595744815431534, 0.009382586811620785, 0.06361282707529654, 0.06772206493594021, 0.04211217754339184, 0.0065718472020389026, 0.024886290053815804, 0.0061782563509339096, 0.008169749252477721, 0.026588803687735682, 0.015234530180804081, 0.013093322706746265, 0.015894286969815253, 0.00785767012942089, 0.007705210119616952, 0.010233312688416074, 0.005833834184628746, 0.005227615239633071, 0.010316686785991512, 0.008420102165734529, 0.012775994456686595, 0.017180716769577307, 0.015237311434239701, 0.036078274918978616, 0.05794460456850794, 0.004667060226389648, 0.004662283729824186]}, {\"categories\": [\"0\", \"1\", \"2\", \"3\", \"4\", \"5\", \"6\", \"7\", \"8\", \"9\", \"10\", \"11\", \"12\", \"13\", \"14\", \"15\", \"16\", \"17\", \"18\", \"19\", \"20\", \"21\", \"22\", \"23\", \"24\", \"25\", \"27\", \"28\", \"30\", \"31\", \"32\", \"33\", \"35\", \"37\", \"38\"], \"mode\": \"lines\", \"name\": \"normalized_mean_absolute_error_min\", \"stepped\": true, \"type\": \"scatter\", \"data\": [0.005190637867433774, 0.005190637867433774, 0.005190637867433774, 0.005190637867433774, 0.004992424942127284, 0.004992424942127284, 0.004992424942127284, 0.004992424942127284, 0.004992424942127284, 0.004992424942127284, 0.004992424942127284, 0.004992424942127284, 0.004992424942127284, 0.004992424942127284, 0.004992424942127284, 0.004992424942127284, 0.004992424942127284, 0.004992424942127284, 0.004992424942127284, 0.004992424942127284, 0.004992424942127284, 0.004992424942127284, 0.004992424942127284, 0.004992424942127284, 0.004992424942127284, 0.004992424942127284, 0.004992424942127284, 0.004992424942127284, 0.004992424942127284, 0.004992424942127284, 0.004992424942127284, 0.004992424942127284, 0.004992424942127284, 0.004667060226389648, 0.004662283729824186]}], \"mean_absolute_percentage_error\": [{\"categories\": [\"0\", \"1\", \"2\", \"3\", \"4\", \"5\", \"6\", \"7\", \"8\", \"9\", \"10\", \"11\", \"12\", \"13\", \"14\", \"15\", \"16\", \"17\", \"18\", \"19\", \"20\", \"21\", \"22\", \"23\", \"24\", \"25\", \"27\", \"28\", \"30\", \"31\", \"32\", \"33\", \"35\", \"37\", \"38\"], \"mode\": \"markers\", \"name\": \"mean_absolute_percentage_error\", \"stepped\": false, \"type\": \"scatter\", \"data\": [0.8571639856130625, 0.9007201200974085, 2.8415593095192917, 1.412453747105087, 0.8190115998486592, 1.2032228343273892, 1.9048302834260304, 0.8416210949836783, 1.0284853288001587, 1.4491214728864925, 10.502997671422845, 11.14526738338818, 6.350093838515527, 1.116679715937373, 4.189502867623411, 1.0693309215347362, 1.3182450983055958, 4.442649233868987, 2.576946643975983, 2.159340701087032, 2.7493965399641795, 1.2715346524095281, 1.2566416575577357, 1.6881400122644203, 0.9386946075347499, 0.8465652498396256, 1.7454060320970761, 1.403095750684433, 2.079349877442802, 2.856721952000543, 2.439809692241426, 5.916972773809198, 9.552559566509563, 0.7536381463197698, 0.7544372903476081]}, {\"categories\": [\"0\", \"1\", \"2\", \"3\", \"4\", \"5\", \"6\", \"7\", \"8\", \"9\", \"10\", \"11\", \"12\", \"13\", \"14\", \"15\", \"16\", \"17\", \"18\", \"19\", \"20\", \"21\", \"22\", \"23\", \"24\", \"25\", \"27\", \"28\", \"30\", \"31\", \"32\", \"33\", \"35\", \"37\", \"38\"], \"mode\": \"lines\", \"name\": \"mean_absolute_percentage_error_min\", \"stepped\": true, \"type\": \"scatter\", \"data\": [0.8571639856130625, 0.8571639856130625, 0.8571639856130625, 0.8571639856130625, 0.8190115998486592, 0.8190115998486592, 0.8190115998486592, 0.8190115998486592, 0.8190115998486592, 0.8190115998486592, 0.8190115998486592, 0.8190115998486592, 0.8190115998486592, 0.8190115998486592, 0.8190115998486592, 0.8190115998486592, 0.8190115998486592, 0.8190115998486592, 0.8190115998486592, 0.8190115998486592, 0.8190115998486592, 0.8190115998486592, 0.8190115998486592, 0.8190115998486592, 0.8190115998486592, 0.8190115998486592, 0.8190115998486592, 0.8190115998486592, 0.8190115998486592, 0.8190115998486592, 0.8190115998486592, 0.8190115998486592, 0.8190115998486592, 0.7536381463197698, 0.7536381463197698]}], \"r2_score\": [{\"categories\": [\"0\", \"1\", \"2\", \"3\", \"4\", \"5\", \"6\", \"7\", \"8\", \"9\", \"10\", \"11\", \"12\", \"13\", \"14\", \"15\", \"16\", \"17\", \"18\", \"19\", \"20\", \"21\", \"22\", \"23\", \"24\", \"25\", \"27\", \"28\", \"30\", \"31\", \"32\", \"33\", \"35\", \"37\", \"38\"], \"mode\": \"markers\", \"name\": \"r2_score\", \"stepped\": false, \"type\": \"scatter\", \"data\": [0.9963716314000899, 0.996713372920654, 0.9583245549956271, 0.9856817406473749, 0.99697077528036, 0.9934566286230516, 0.9742221820372606, 0.9968984910486708, 0.9930446547863446, 0.989357759054209, 0.5469432020232234, 0.47870765799088305, 0.8737560420009888, 0.9929101390633982, 0.8893934190157933, 0.9921916266509468, 0.9922114496227086, 0.8921494074739592, 0.9617595629799758, 0.9701995069811175, 0.9507156666483653, 0.9927308445678223, 0.9924125059553587, 0.9859226499154667, 0.9961727257583674, 0.9970810863150857, 0.9839492441496721, 0.9888654691410445, 0.9714528661557922, 0.9574506402623255, 0.973014418019673, 0.8420048608509191, 0.6316467822102517, 0.9976705340243065, 0.9976804216176918]}, {\"categories\": [\"0\", \"1\", \"2\", \"3\", \"4\", \"5\", \"6\", \"7\", \"8\", \"9\", \"10\", \"11\", \"12\", \"13\", \"14\", \"15\", \"16\", \"17\", \"18\", \"19\", \"20\", \"21\", \"22\", \"23\", \"24\", \"25\", \"27\", \"28\", \"30\", \"31\", \"32\", \"33\", \"35\", \"37\", \"38\"], \"mode\": \"lines\", \"name\": \"r2_score_max\", \"stepped\": true, \"type\": \"scatter\", \"data\": [0.9963716314000899, 0.996713372920654, 0.996713372920654, 0.996713372920654, 0.99697077528036, 0.99697077528036, 0.99697077528036, 0.99697077528036, 0.99697077528036, 0.99697077528036, 0.99697077528036, 0.99697077528036, 0.99697077528036, 0.99697077528036, 0.99697077528036, 0.99697077528036, 0.99697077528036, 0.99697077528036, 0.99697077528036, 0.99697077528036, 0.99697077528036, 0.99697077528036, 0.99697077528036, 0.99697077528036, 0.99697077528036, 0.9970810863150857, 0.9970810863150857, 0.9970810863150857, 0.9970810863150857, 0.9970810863150857, 0.9970810863150857, 0.9970810863150857, 0.9970810863150857, 0.9976705340243065, 0.9976804216176918]}], \"mean_absolute_error\": [{\"categories\": [\"0\", \"1\", \"2\", \"3\", \"4\", \"5\", \"6\", \"7\", \"8\", \"9\", \"10\", \"11\", \"12\", \"13\", \"14\", \"15\", \"16\", \"17\", \"18\", \"19\", \"20\", \"21\", \"22\", \"23\", \"24\", \"25\", \"27\", \"28\", \"30\", \"31\", \"32\", \"33\", \"35\", \"37\", \"38\"], \"mode\": \"markers\", \"name\": \"mean_absolute_error\", \"stepped\": false, \"type\": \"scatter\", \"data\": [0.03322008235157616, 0.03593194227299531, 0.11323643969610342, 0.05206189654641142, 0.031951519629614615, 0.04728157386377823, 0.07106395105813791, 0.03298677010369024, 0.03812766818761818, 0.060048555594373026, 0.40712209328189797, 0.43342121559001745, 0.2695179362777078, 0.04205982209304898, 0.15927225634442113, 0.03954084064597702, 0.05228639521585743, 0.17016834360150837, 0.09750099315714612, 0.0837972653231761, 0.1017234366068176, 0.0502890888282937, 0.0493133447655485, 0.06549320120586287, 0.037336538781623976, 0.033456737533651644, 0.06602679543034567, 0.053888653860700984, 0.08176636452279422, 0.10995658732529477, 0.09751879317913409, 0.2309009594814632, 0.3708454692384508, 0.029869185448893748, 0.029838615870874788]}, {\"categories\": [\"0\", \"1\", \"2\", \"3\", \"4\", \"5\", \"6\", \"7\", \"8\", \"9\", \"10\", \"11\", \"12\", \"13\", \"14\", \"15\", \"16\", \"17\", \"18\", \"19\", \"20\", \"21\", \"22\", \"23\", \"24\", \"25\", \"27\", \"28\", \"30\", \"31\", \"32\", \"33\", \"35\", \"37\", \"38\"], \"mode\": \"lines\", \"name\": \"mean_absolute_error_min\", \"stepped\": true, \"type\": \"scatter\", \"data\": [0.03322008235157616, 0.03322008235157616, 0.03322008235157616, 0.03322008235157616, 0.031951519629614615, 0.031951519629614615, 0.031951519629614615, 0.031951519629614615, 0.031951519629614615, 0.031951519629614615, 0.031951519629614615, 0.031951519629614615, 0.031951519629614615, 0.031951519629614615, 0.031951519629614615, 0.031951519629614615, 0.031951519629614615, 0.031951519629614615, 0.031951519629614615, 0.031951519629614615, 0.031951519629614615, 0.031951519629614615, 0.031951519629614615, 0.031951519629614615, 0.031951519629614615, 0.031951519629614615, 0.031951519629614615, 0.031951519629614615, 0.031951519629614615, 0.031951519629614615, 0.031951519629614615, 0.031951519629614615, 0.031951519629614615, 0.029869185448893748, 0.029838615870874788]}], \"explained_variance\": [{\"categories\": [\"0\", \"1\", \"2\", \"3\", \"4\", \"5\", \"6\", \"7\", \"8\", \"9\", \"10\", \"11\", \"12\", \"13\", \"14\", \"15\", \"16\", \"17\", \"18\", \"19\", \"20\", \"21\", \"22\", \"23\", \"24\", \"25\", \"27\", \"28\", \"30\", \"31\", \"32\", \"33\", \"35\", \"37\", \"38\"], \"mode\": \"markers\", \"name\": \"explained_variance\", \"stepped\": false, \"type\": \"scatter\", \"data\": [0.996373788878197, 0.9967147871028751, 0.9583278023444102, 0.9856829527399977, 0.9969718261917245, 0.9934602901636218, 0.9742283890817162, 0.9969004224625896, 0.9930448695206889, 0.9893659532623484, 0.5471861191541579, 0.4789341879320687, 0.9853353532223109, 0.9929114583656883, 0.8894542412982801, 0.9921919430416494, 0.9922153443616275, 0.8922005355246378, 0.96178853461066, 0.9702327643766692, 0.9507404805726759, 0.9927341538321782, 0.9924150332013232, 0.9859332317818797, 0.9961736329515691, 0.9970813539658651, 0.983955721182944, 0.9888698913346118, 0.9714605089493827, 0.9574610151116528, 0.9731551441423069, 0.8420820009418395, 0.6323681660368644, 0.9976714922855309, 0.9976823543660368]}, {\"categories\": [\"0\", \"1\", \"2\", \"3\", \"4\", \"5\", \"6\", \"7\", \"8\", \"9\", \"10\", \"11\", \"12\", \"13\", \"14\", \"15\", \"16\", \"17\", \"18\", \"19\", \"20\", \"21\", \"22\", \"23\", \"24\", \"25\", \"27\", \"28\", \"30\", \"31\", \"32\", \"33\", \"35\", \"37\", \"38\"], \"mode\": \"lines\", \"name\": \"explained_variance_max\", \"stepped\": true, \"type\": \"scatter\", \"data\": [0.996373788878197, 0.9967147871028751, 0.9967147871028751, 0.9967147871028751, 0.9969718261917245, 0.9969718261917245, 0.9969718261917245, 0.9969718261917245, 0.9969718261917245, 0.9969718261917245, 0.9969718261917245, 0.9969718261917245, 0.9969718261917245, 0.9969718261917245, 0.9969718261917245, 0.9969718261917245, 0.9969718261917245, 0.9969718261917245, 0.9969718261917245, 0.9969718261917245, 0.9969718261917245, 0.9969718261917245, 0.9969718261917245, 0.9969718261917245, 0.9969718261917245, 0.9970813539658651, 0.9970813539658651, 0.9970813539658651, 0.9970813539658651, 0.9970813539658651, 0.9970813539658651, 0.9970813539658651, 0.9970813539658651, 0.9976714922855309, 0.9976823543660368]}]}, \"metricName\": null, \"primaryMetricName\": \"r2_score\", \"showLegend\": false}, \"run_metrics\": [{\"name\": \"experiment_status\", \"run_id\": \"AutoML_f9665a4f-e27f-4ed4-8725-26abee5eeeba\", \"categories\": [0, 1, 2, 3, 4, 5, 6, 7, 8, 9, 10, 11, 12, 13], \"series\": [{\"data\": [\"DatasetEvaluation\", \"FeaturesGeneration\", \"DatasetFeaturization\", \"DatasetFeaturizationCompleted\", \"DatasetCrossValidationSplit\", \"ModelSelection\", \"BestRunExplainModel\", \"ModelExplanationDataSetSetup\", \"PickSurrogateModel\", \"EngineeredFeatureExplanations\", \"EngineeredFeatureExplanations\", \"RawFeaturesExplanations\", \"RawFeaturesExplanations\", \"BestRunExplainModel\"]}]}, {\"name\": \"experiment_status_description\", \"run_id\": \"AutoML_f9665a4f-e27f-4ed4-8725-26abee5eeeba\", \"categories\": [0, 1, 2, 3, 4, 5, 6, 7, 8, 9, 10, 11, 12, 13], \"series\": [{\"data\": [\"Gathering dataset statistics.\", \"Generating features for the dataset.\", \"Beginning to fit featurizers and featurize the dataset.\", \"Completed fit featurizers and featurizing the dataset.\", \"Generating individually featurized CV splits.\", \"Beginning model selection.\", \"Best run model explanations started\", \"Model explanations data setup completed\", \"Choosing LinearModel as the surrogate model for explanations\", \"Computation of engineered features started\", \"Computation of engineered features completed\", \"Computation of raw features started\", \"Computation of raw features completed\", \"Best run model explanations completed\"]}]}, {\"name\": \"r2_score\", \"run_id\": \"AutoML_f9665a4f-e27f-4ed4-8725-26abee5eeeba\", \"categories\": [0], \"series\": [{\"data\": [0.9976804216176918]}]}, {\"name\": \"spearman_correlation\", \"run_id\": \"AutoML_f9665a4f-e27f-4ed4-8725-26abee5eeeba\", \"categories\": [0], \"series\": [{\"data\": [0.9988073668198089]}]}, {\"name\": \"normalized_mean_absolute_error\", \"run_id\": \"AutoML_f9665a4f-e27f-4ed4-8725-26abee5eeeba\", \"categories\": [0], \"series\": [{\"data\": [0.004662283729824186]}]}, {\"name\": \"normalized_median_absolute_error\", \"run_id\": \"AutoML_f9665a4f-e27f-4ed4-8725-26abee5eeeba\", \"categories\": [0], \"series\": [{\"data\": [0.00407265631905622]}]}, {\"name\": \"mean_absolute_error\", \"run_id\": \"AutoML_f9665a4f-e27f-4ed4-8725-26abee5eeeba\", \"categories\": [0], \"series\": [{\"data\": [0.029838615870874788]}]}, {\"name\": \"explained_variance\", \"run_id\": \"AutoML_f9665a4f-e27f-4ed4-8725-26abee5eeeba\", \"categories\": [0], \"series\": [{\"data\": [0.9976823543660368]}]}, {\"name\": \"mean_absolute_percentage_error\", \"run_id\": \"AutoML_f9665a4f-e27f-4ed4-8725-26abee5eeeba\", \"categories\": [0], \"series\": [{\"data\": [0.7544372903476081]}]}, {\"name\": \"median_absolute_error\", \"run_id\": \"AutoML_f9665a4f-e27f-4ed4-8725-26abee5eeeba\", \"categories\": [0], \"series\": [{\"data\": [0.026065000441959807]}]}, {\"name\": \"root_mean_squared_error\", \"run_id\": \"AutoML_f9665a4f-e27f-4ed4-8725-26abee5eeeba\", \"categories\": [0], \"series\": [{\"data\": [0.03870942754536592]}]}, {\"name\": \"normalized_root_mean_squared_error\", \"run_id\": \"AutoML_f9665a4f-e27f-4ed4-8725-26abee5eeeba\", \"categories\": [0], \"series\": [{\"data\": [0.006048348053963423]}]}, {\"name\": \"root_mean_squared_log_error\", \"run_id\": \"AutoML_f9665a4f-e27f-4ed4-8725-26abee5eeeba\", \"categories\": [0], \"series\": [{\"data\": [0.008237186945423951]}]}, {\"name\": \"normalized_root_mean_squared_log_error\", \"run_id\": \"AutoML_f9665a4f-e27f-4ed4-8725-26abee5eeeba\", \"categories\": [0], \"series\": [{\"data\": [0.006191446833612886]}]}], \"run_logs\": \"\\nRun is completed.\", \"graph\": {}, \"widget_settings\": {\"childWidgetDisplay\": \"popup\", \"send_telemetry\": false, \"log_level\": \"INFO\", \"sdk_version\": \"1.19.0\"}, \"loading\": false}"
          },
          "metadata": {}
        }
      ],
      "execution_count": 20,
      "metadata": {
        "collapsed": true,
        "jupyter": {
          "source_hidden": false,
          "outputs_hidden": false
        },
        "nteract": {
          "transient": {
            "deleting": false
          }
        },
        "gather": {
          "logged": 1610883096720
        }
      }
    },
    {
      "cell_type": "code",
      "source": [
        "remote_run.wait_for_completion(show_output=True)"
      ],
      "outputs": [
        {
          "output_type": "stream",
          "name": "stdout",
          "text": [
            "\n",
            "\n",
            "****************************************************************************************************\n",
            "DATA GUARDRAILS: \n",
            "\n",
            "TYPE:         Missing feature values imputation\n",
            "STATUS:       PASSED\n",
            "DESCRIPTION:  No feature missing values were detected in the training data.\n",
            "              Learn more about missing value imputation: https://aka.ms/AutomatedMLFeaturization\n",
            "\n",
            "****************************************************************************************************\n",
            "\n",
            "TYPE:         High cardinality feature detection\n",
            "STATUS:       DONE\n",
            "DESCRIPTION:  High cardinality features were detected in your inputs and handled.\n",
            "              Learn more about high cardinality feature handling: https://aka.ms/AutomatedMLFeaturization\n",
            "DETAILS:      High cardinality features refer to columns that contain a large percentage of unique values.\n",
            "+---------------------------------+---------------------------------+\n",
            "|Column name                      |Column Content Type              |\n",
            "+=================================+=================================+\n",
            "|Nome_Municipio                   |categorical_hash                 |\n",
            "|Nome_Escola                      |text                             |\n",
            "|TAprov2019_2_serie               |categorical_hash                 |\n",
            "+---------------------------------+---------------------------------+\n",
            "\n",
            "****************************************************************************************************\n",
            "\n",
            "****************************************************************************************************\n",
            "ITERATION: The iteration being evaluated.\n",
            "PIPELINE: A summary description of the pipeline being evaluated.\n",
            "DURATION: Time taken for the current iteration.\n",
            "METRIC: The result of computing score on the fitted pipeline.\n",
            "BEST: The best observed score thus far.\n",
            "****************************************************************************************************\n",
            "\n",
            " ITERATION   PIPELINE                                       DURATION      METRIC      BEST\n",
            "         0   MaxAbsScaler LightGBM                          0:01:37       0.9964    0.9964\n",
            "         1   MaxAbsScaler XGBoostRegressor                  0:02:05       0.9967    0.9967\n",
            "         2   SparseNormalizer XGBoostRegressor              0:07:13       0.9583    0.9967\n",
            "         3   MaxAbsScaler RandomForest                      0:08:01       0.9857    0.9967\n",
            "         4   StandardScalerWrapper XGBoostRegressor         0:05:04       0.9970    0.9970\n",
            "         5   MaxAbsScaler ElasticNet                        0:06:33       0.9935    0.9970\n",
            "         6   MaxAbsScaler RandomForest                      0:08:14       0.9742    0.9970\n",
            "         7   StandardScalerWrapper XGBoostRegressor         0:02:23       0.9969    0.9970\n",
            "        10   MaxAbsScaler RandomForest                      0:02:29       0.5469    0.9970\n",
            "        11   MaxAbsScaler RandomForest                      0:01:00       0.4787    0.9970\n",
            "         8   MaxAbsScaler ExtremeRandomTrees                0:05:44       0.9930    0.9970\n",
            "         9   StandardScalerWrapper ElasticNet               0:04:59       0.9894    0.9970\n",
            "        12   StandardScalerWrapper XGBoostRegressor         0:01:21       0.8738    0.9970\n",
            "        13   MaxAbsScaler ExtremeRandomTrees                0:02:09       0.9929    0.9970\n",
            "        14   MaxAbsScaler ExtremeRandomTrees                0:01:10       0.8894    0.9970\n",
            "        15   MaxAbsScaler ExtremeRandomTrees                0:03:36       0.9922    0.9970\n",
            "        16   MaxAbsScaler ElasticNet                        0:02:29       0.9922    0.9970\n",
            "        17   MaxAbsScaler RandomForest                      0:00:59       0.8921    0.9970\n",
            "        18   MaxAbsScaler RandomForest                      0:01:09       0.9618    0.9970\n",
            "        19   SparseNormalizer XGBoostRegressor              0:05:20       0.9702    0.9970\n",
            "        20   StandardScalerWrapper RandomForest             0:02:16       0.9507    0.9970\n",
            "        21   MaxAbsScaler ElasticNet                        0:03:35       0.9927    0.9970\n",
            "        22   MaxAbsScaler LightGBM                          0:01:17       0.9924    0.9970\n",
            "        23   StandardScalerWrapper LightGBM                 0:01:08       0.9859    0.9970\n",
            "        24   StandardScalerWrapper XGBoostRegressor         0:01:41       0.9962    0.9970\n",
            "        25   StandardScalerWrapper XGBoostRegressor         0:05:07       0.9971    0.9971\n",
            "        26   StandardScalerWrapper ElasticNet               0:08:26          nan    0.9971\n",
            "        27   MaxAbsScaler LightGBM                          0:01:07       0.9839    0.9971\n",
            "        28   StandardScalerWrapper LightGBM                 0:01:03       0.9889    0.9971\n",
            "        29   StandardScalerWrapper XGBoostRegressor         0:02:41          nan    0.9971\n",
            "        30   TruncatedSVDWrapper XGBoostRegressor           0:02:40       0.9715    0.9971\n",
            "        31   MaxAbsScaler RandomForest                      0:01:49       0.9575    0.9971\n",
            "        32   MaxAbsScaler SGD                               0:00:58       0.9730    0.9971\n",
            "        33   SparseNormalizer XGBoostRegressor              0:01:20       0.8420    0.9971\n",
            "        34   StandardScalerWrapper ElasticNet               0:01:55          nan    0.9971\n",
            "        35   SparseNormalizer XGBoostRegressor              0:01:30       0.6316    0.9971\n",
            "        36   TruncatedSVDWrapper ElasticNet                 0:01:31          nan    0.9971\n",
            "        37    VotingEnsemble                                0:01:53       0.9977    0.9977\n",
            "        38    StackEnsemble                                 0:01:52       0.9977    0.9977\n"
          ]
        },
        {
          "output_type": "execute_result",
          "execution_count": 21,
          "data": {
            "text/plain": "{'runId': 'AutoML_f9665a4f-e27f-4ed4-8725-26abee5eeeba',\n 'target': 'automl-cluster',\n 'status': 'Completed',\n 'startTimeUtc': '2021-01-17T03:15:04.108476Z',\n 'endTimeUtc': '2021-01-17T03:54:25.948596Z',\n 'properties': {'num_iterations': '1000',\n  'training_type': 'TrainFull',\n  'acquisition_function': 'EI',\n  'primary_metric': 'r2_score',\n  'train_split': '0',\n  'acquisition_parameter': '0',\n  'num_cross_validation': '3',\n  'target': 'automl-cluster',\n  'AMLSettingsJsonString': '{\"path\":null,\"name\":\"ideb-regression\",\"subscription_id\":\"a748a023-896b-4719-8f8e-3d1ba62d6e35\",\"resource_group\":\"RG-AZML\",\"workspace_name\":\"AZML\",\"region\":\"eastus\",\"compute_target\":\"automl-cluster\",\"spark_service\":null,\"azure_service\":\"remote\",\"many_models\":false,\"pipeline_fetch_max_batch_size\":1,\"iterations\":1000,\"primary_metric\":\"r2_score\",\"task_type\":\"regression\",\"data_script\":null,\"validation_size\":0.0,\"n_cross_validations\":3,\"y_min\":null,\"y_max\":null,\"num_classes\":null,\"featurization\":\"auto\",\"_ignore_package_version_incompatibilities\":false,\"is_timeseries\":false,\"max_cores_per_iteration\":-1,\"max_concurrent_iterations\":4,\"iteration_timeout_minutes\":null,\"mem_in_mb\":null,\"enforce_time_on_windows\":false,\"experiment_timeout_minutes\":30,\"experiment_exit_score\":null,\"whitelist_models\":null,\"blacklist_algos\":[\"TensorFlowDNN\",\"TensorFlowLinearRegressor\"],\"supported_models\":[\"LightGBM\",\"FastLinearRegressor\",\"RandomForest\",\"XGBoostRegressor\",\"ElasticNet\",\"GradientBoosting\",\"SGD\",\"TensorFlowDNN\",\"TensorFlowLinearRegressor\",\"DecisionTree\",\"OnlineGradientDescentRegressor\",\"KNN\",\"ExtremeRandomTrees\",\"LassoLars\"],\"auto_blacklist\":true,\"blacklist_samples_reached\":false,\"exclude_nan_labels\":true,\"verbosity\":20,\"_debug_log\":\"azureml_automl.log\",\"show_warnings\":false,\"model_explainability\":true,\"service_url\":null,\"sdk_url\":null,\"sdk_packages\":null,\"enable_onnx_compatible_models\":false,\"enable_split_onnx_featurizer_estimator_models\":false,\"vm_type\":\"STANDARD_DS3_V2\",\"telemetry_verbosity\":20,\"send_telemetry\":true,\"enable_dnn\":false,\"scenario\":\"SDK-1.13.0\",\"environment_label\":null,\"force_text_dnn\":false,\"enable_feature_sweeping\":true,\"enable_early_stopping\":true,\"early_stopping_n_iters\":10,\"metrics\":null,\"enable_ensembling\":true,\"enable_stack_ensembling\":true,\"ensemble_iterations\":15,\"enable_tf\":false,\"enable_subsampling\":null,\"subsample_seed\":null,\"enable_nimbusml\":false,\"enable_streaming\":false,\"force_streaming\":false,\"track_child_runs\":true,\"allowed_private_models\":[],\"label_column_name\":\"IDEB_2019\",\"weight_column_name\":null,\"cv_split_column_names\":null,\"enable_local_managed\":false,\"_local_managed_run_id\":null,\"cost_mode\":1,\"lag_length\":0,\"metric_operation\":\"maximize\",\"preprocess\":true}',\n  'DataPrepJsonString': '{\\\\\"training_data\\\\\": \\\\\"{\\\\\\\\\\\\\"blocks\\\\\\\\\\\\\": [{\\\\\\\\\\\\\"id\\\\\\\\\\\\\": \\\\\\\\\\\\\"579865ed-38fa-4661-9090-38dc8de235e2\\\\\\\\\\\\\", \\\\\\\\\\\\\"type\\\\\\\\\\\\\": \\\\\\\\\\\\\"Microsoft.DPrep.GetDatastoreFilesBlock\\\\\\\\\\\\\", \\\\\\\\\\\\\"arguments\\\\\\\\\\\\\": {\\\\\\\\\\\\\"datastores\\\\\\\\\\\\\": [{\\\\\\\\\\\\\"datastoreName\\\\\\\\\\\\\": \\\\\\\\\\\\\"workspaceblobstore\\\\\\\\\\\\\", \\\\\\\\\\\\\"path\\\\\\\\\\\\\": \\\\\\\\\\\\\"UI/01-17-2021_031317_UTC/data.CSV\\\\\\\\\\\\\", \\\\\\\\\\\\\"resourceGroup\\\\\\\\\\\\\": \\\\\\\\\\\\\"RG-AZML\\\\\\\\\\\\\", \\\\\\\\\\\\\"subscription\\\\\\\\\\\\\": \\\\\\\\\\\\\"a748a023-896b-4719-8f8e-3d1ba62d6e35\\\\\\\\\\\\\", \\\\\\\\\\\\\"workspaceName\\\\\\\\\\\\\": \\\\\\\\\\\\\"AZML\\\\\\\\\\\\\"}]}, \\\\\\\\\\\\\"localData\\\\\\\\\\\\\": {}, \\\\\\\\\\\\\"isEnabled\\\\\\\\\\\\\": true, \\\\\\\\\\\\\"name\\\\\\\\\\\\\": null, \\\\\\\\\\\\\"annotation\\\\\\\\\\\\\": null}, {\\\\\\\\\\\\\"id\\\\\\\\\\\\\": \\\\\\\\\\\\\"6712d147-d954-4375-88dc-15c8849676d8\\\\\\\\\\\\\", \\\\\\\\\\\\\"type\\\\\\\\\\\\\": \\\\\\\\\\\\\"Microsoft.DPrep.ParseDelimitedBlock\\\\\\\\\\\\\", \\\\\\\\\\\\\"arguments\\\\\\\\\\\\\": {\\\\\\\\\\\\\"columnHeadersMode\\\\\\\\\\\\\": 1, \\\\\\\\\\\\\"fileEncoding\\\\\\\\\\\\\": 1, \\\\\\\\\\\\\"handleQuotedLineBreaks\\\\\\\\\\\\\": false, \\\\\\\\\\\\\"preview\\\\\\\\\\\\\": false, \\\\\\\\\\\\\"separator\\\\\\\\\\\\\": \\\\\\\\\\\\\";\\\\\\\\\\\\\", \\\\\\\\\\\\\"skipRows\\\\\\\\\\\\\": 0, \\\\\\\\\\\\\"skipRowsMode\\\\\\\\\\\\\": 0}, \\\\\\\\\\\\\"localData\\\\\\\\\\\\\": {}, \\\\\\\\\\\\\"isEnabled\\\\\\\\\\\\\": true, \\\\\\\\\\\\\"name\\\\\\\\\\\\\": null, \\\\\\\\\\\\\"annotation\\\\\\\\\\\\\": null}, {\\\\\\\\\\\\\"id\\\\\\\\\\\\\": \\\\\\\\\\\\\"0284483e-c453-46c6-8ef6-55a6f347858c\\\\\\\\\\\\\", \\\\\\\\\\\\\"type\\\\\\\\\\\\\": \\\\\\\\\\\\\"Microsoft.DPrep.DropColumnsBlock\\\\\\\\\\\\\", \\\\\\\\\\\\\"arguments\\\\\\\\\\\\\": {\\\\\\\\\\\\\"columns\\\\\\\\\\\\\": {\\\\\\\\\\\\\"type\\\\\\\\\\\\\": 0, \\\\\\\\\\\\\"details\\\\\\\\\\\\\": {\\\\\\\\\\\\\"selectedColumns\\\\\\\\\\\\\": [\\\\\\\\\\\\\"Path\\\\\\\\\\\\\"]}}}, \\\\\\\\\\\\\"localData\\\\\\\\\\\\\": {}, \\\\\\\\\\\\\"isEnabled\\\\\\\\\\\\\": true, \\\\\\\\\\\\\"name\\\\\\\\\\\\\": null, \\\\\\\\\\\\\"annotation\\\\\\\\\\\\\": null}, {\\\\\\\\\\\\\"id\\\\\\\\\\\\\": \\\\\\\\\\\\\"28a2cf82-6dba-4aea-a594-997c8be75d5d\\\\\\\\\\\\\", \\\\\\\\\\\\\"type\\\\\\\\\\\\\": \\\\\\\\\\\\\"Microsoft.DPrep.SetColumnTypesBlock\\\\\\\\\\\\\", \\\\\\\\\\\\\"arguments\\\\\\\\\\\\\": {\\\\\\\\\\\\\"columnConversion\\\\\\\\\\\\\": [{\\\\\\\\\\\\\"column\\\\\\\\\\\\\": {\\\\\\\\\\\\\"type\\\\\\\\\\\\\": 2, \\\\\\\\\\\\\"details\\\\\\\\\\\\\": {\\\\\\\\\\\\\"selectedColumn\\\\\\\\\\\\\": \\\\\\\\\\\\\"Path\\\\\\\\\\\\\"}}, \\\\\\\\\\\\\"typeProperty\\\\\\\\\\\\\": 0}, {\\\\\\\\\\\\\"column\\\\\\\\\\\\\": {\\\\\\\\\\\\\"type\\\\\\\\\\\\\": 2, \\\\\\\\\\\\\"details\\\\\\\\\\\\\": {\\\\\\\\\\\\\"selectedColumn\\\\\\\\\\\\\": \\\\\\\\\\\\\"Sigla_UF\\\\\\\\\\\\\"}}, \\\\\\\\\\\\\"typeProperty\\\\\\\\\\\\\": 0}, {\\\\\\\\\\\\\"column\\\\\\\\\\\\\": {\\\\\\\\\\\\\"type\\\\\\\\\\\\\": 2, \\\\\\\\\\\\\"details\\\\\\\\\\\\\": {\\\\\\\\\\\\\"selectedColumn\\\\\\\\\\\\\": \\\\\\\\\\\\\"Cod_Municipio\\\\\\\\\\\\\"}}, \\\\\\\\\\\\\"typeProperty\\\\\\\\\\\\\": 2}, {\\\\\\\\\\\\\"column\\\\\\\\\\\\\": {\\\\\\\\\\\\\"type\\\\\\\\\\\\\": 2, \\\\\\\\\\\\\"details\\\\\\\\\\\\\": {\\\\\\\\\\\\\"selectedColumn\\\\\\\\\\\\\": \\\\\\\\\\\\\"Nome_Municipio\\\\\\\\\\\\\"}}, \\\\\\\\\\\\\"typeProperty\\\\\\\\\\\\\": 0}, {\\\\\\\\\\\\\"column\\\\\\\\\\\\\": {\\\\\\\\\\\\\"type\\\\\\\\\\\\\": 2, \\\\\\\\\\\\\"details\\\\\\\\\\\\\": {\\\\\\\\\\\\\"selectedColumn\\\\\\\\\\\\\": \\\\\\\\\\\\\"Cod_Escola\\\\\\\\\\\\\"}}, \\\\\\\\\\\\\"typeProperty\\\\\\\\\\\\\": 2}, {\\\\\\\\\\\\\"column\\\\\\\\\\\\\": {\\\\\\\\\\\\\"type\\\\\\\\\\\\\": 2, \\\\\\\\\\\\\"details\\\\\\\\\\\\\": {\\\\\\\\\\\\\"selectedColumn\\\\\\\\\\\\\": \\\\\\\\\\\\\"Nome_Escola\\\\\\\\\\\\\"}}, \\\\\\\\\\\\\"typeProperty\\\\\\\\\\\\\": 0}, {\\\\\\\\\\\\\"column\\\\\\\\\\\\\": {\\\\\\\\\\\\\"type\\\\\\\\\\\\\": 2, \\\\\\\\\\\\\"details\\\\\\\\\\\\\": {\\\\\\\\\\\\\"selectedColumn\\\\\\\\\\\\\": \\\\\\\\\\\\\"Column6\\\\\\\\\\\\\"}}, \\\\\\\\\\\\\"typeProperty\\\\\\\\\\\\\": 0}, {\\\\\\\\\\\\\"column\\\\\\\\\\\\\": {\\\\\\\\\\\\\"type\\\\\\\\\\\\\": 2, \\\\\\\\\\\\\"details\\\\\\\\\\\\\": {\\\\\\\\\\\\\"selectedColumn\\\\\\\\\\\\\": \\\\\\\\\\\\\"TAprov2019_Total\\\\\\\\\\\\\"}}, \\\\\\\\\\\\\"typeProperty\\\\\\\\\\\\\": 3}, {\\\\\\\\\\\\\"column\\\\\\\\\\\\\": {\\\\\\\\\\\\\"type\\\\\\\\\\\\\": 2, \\\\\\\\\\\\\"details\\\\\\\\\\\\\": {\\\\\\\\\\\\\"selectedColumn\\\\\\\\\\\\\": \\\\\\\\\\\\\"TAprov2019_1_serie\\\\\\\\\\\\\"}}, \\\\\\\\\\\\\"typeProperty\\\\\\\\\\\\\": 3}, {\\\\\\\\\\\\\"column\\\\\\\\\\\\\": {\\\\\\\\\\\\\"type\\\\\\\\\\\\\": 2, \\\\\\\\\\\\\"details\\\\\\\\\\\\\": {\\\\\\\\\\\\\"selectedColumn\\\\\\\\\\\\\": \\\\\\\\\\\\\"TAprov2019_2_serie\\\\\\\\\\\\\"}}, \\\\\\\\\\\\\"typeProperty\\\\\\\\\\\\\": 0}, {\\\\\\\\\\\\\"column\\\\\\\\\\\\\": {\\\\\\\\\\\\\"type\\\\\\\\\\\\\": 2, \\\\\\\\\\\\\"details\\\\\\\\\\\\\": {\\\\\\\\\\\\\"selectedColumn\\\\\\\\\\\\\": \\\\\\\\\\\\\"TAprov2019_3_serie\\\\\\\\\\\\\"}}, \\\\\\\\\\\\\"typeProperty\\\\\\\\\\\\\": 3}, {\\\\\\\\\\\\\"column\\\\\\\\\\\\\": {\\\\\\\\\\\\\"type\\\\\\\\\\\\\": 2, \\\\\\\\\\\\\"details\\\\\\\\\\\\\": {\\\\\\\\\\\\\"selectedColumn\\\\\\\\\\\\\": \\\\\\\\\\\\\"TAprov2019_4_serie\\\\\\\\\\\\\"}}, \\\\\\\\\\\\\"typeProperty\\\\\\\\\\\\\": 3}, {\\\\\\\\\\\\\"column\\\\\\\\\\\\\": {\\\\\\\\\\\\\"type\\\\\\\\\\\\\": 2, \\\\\\\\\\\\\"details\\\\\\\\\\\\\": {\\\\\\\\\\\\\"selectedColumn\\\\\\\\\\\\\": \\\\\\\\\\\\\"Indicador_Rendimento\\\\\\\\\\\\\"}}, \\\\\\\\\\\\\"typeProperty\\\\\\\\\\\\\": 3}, {\\\\\\\\\\\\\"column\\\\\\\\\\\\\": {\\\\\\\\\\\\\"type\\\\\\\\\\\\\": 2, \\\\\\\\\\\\\"details\\\\\\\\\\\\\": {\\\\\\\\\\\\\"selectedColumn\\\\\\\\\\\\\": \\\\\\\\\\\\\"SAEB2019_Matematica\\\\\\\\\\\\\"}}, \\\\\\\\\\\\\"typeProperty\\\\\\\\\\\\\": 3}, {\\\\\\\\\\\\\"column\\\\\\\\\\\\\": {\\\\\\\\\\\\\"type\\\\\\\\\\\\\": 2, \\\\\\\\\\\\\"details\\\\\\\\\\\\\": {\\\\\\\\\\\\\"selectedColumn\\\\\\\\\\\\\": \\\\\\\\\\\\\"SAEB2019_Lingua Portuguesa\\\\\\\\\\\\\"}}, \\\\\\\\\\\\\"typeProperty\\\\\\\\\\\\\": 3}, {\\\\\\\\\\\\\"column\\\\\\\\\\\\\": {\\\\\\\\\\\\\"type\\\\\\\\\\\\\": 2, \\\\\\\\\\\\\"details\\\\\\\\\\\\\": {\\\\\\\\\\\\\"selectedColumn\\\\\\\\\\\\\": \\\\\\\\\\\\\"SAEB2019_Nota Media Padronizada\\\\\\\\\\\\\"}}, \\\\\\\\\\\\\"typeProperty\\\\\\\\\\\\\": 3}, {\\\\\\\\\\\\\"column\\\\\\\\\\\\\": {\\\\\\\\\\\\\"type\\\\\\\\\\\\\": 2, \\\\\\\\\\\\\"details\\\\\\\\\\\\\": {\\\\\\\\\\\\\"selectedColumn\\\\\\\\\\\\\": \\\\\\\\\\\\\"IDEB_2019\\\\\\\\\\\\\"}}, \\\\\\\\\\\\\"typeProperty\\\\\\\\\\\\\": 3}]}, \\\\\\\\\\\\\"localData\\\\\\\\\\\\\": {}, \\\\\\\\\\\\\"isEnabled\\\\\\\\\\\\\": true, \\\\\\\\\\\\\"name\\\\\\\\\\\\\": null, \\\\\\\\\\\\\"annotation\\\\\\\\\\\\\": null}], \\\\\\\\\\\\\"inspectors\\\\\\\\\\\\\": [], \\\\\\\\\\\\\"meta\\\\\\\\\\\\\": {\\\\\\\\\\\\\"savedDatasetId\\\\\\\\\\\\\": \\\\\\\\\\\\\"a652caa5-a81c-414e-8c35-f1fad493e8c7\\\\\\\\\\\\\", \\\\\\\\\\\\\"datasetType\\\\\\\\\\\\\": \\\\\\\\\\\\\"tabular\\\\\\\\\\\\\", \\\\\\\\\\\\\"subscriptionId\\\\\\\\\\\\\": \\\\\\\\\\\\\"a748a023-896b-4719-8f8e-3d1ba62d6e35\\\\\\\\\\\\\", \\\\\\\\\\\\\"workspaceId\\\\\\\\\\\\\": \\\\\\\\\\\\\"fc67c9a7-43e2-4dd2-bef2-189551a3486d\\\\\\\\\\\\\", \\\\\\\\\\\\\"workspaceLocation\\\\\\\\\\\\\": \\\\\\\\\\\\\"eastus\\\\\\\\\\\\\"}}\\\\\", \\\\\"activities\\\\\": 0}',\n  'EnableSubsampling': None,\n  'runTemplate': 'AutoML',\n  'azureml.runsource': 'automl',\n  'display_task_type': 'regression',\n  'dependencies_versions': '{\"azureml-widgets\": \"1.19.0\", \"azureml-train\": \"1.19.0\", \"azureml-train-restclients-hyperdrive\": \"1.19.0\", \"azureml-train-core\": \"1.19.0\", \"azureml-train-automl\": \"1.19.0\", \"azureml-train-automl-runtime\": \"1.19.0\", \"azureml-train-automl-client\": \"1.19.0\", \"azureml-tensorboard\": \"1.19.0\", \"azureml-telemetry\": \"1.19.0\", \"azureml-sdk\": \"1.19.0\", \"azureml-samples\": \"0+unknown\", \"azureml-pipeline\": \"1.19.0\", \"azureml-pipeline-steps\": \"1.19.0\", \"azureml-pipeline-core\": \"1.19.0\", \"azureml-opendatasets\": \"1.19.0\", \"azureml-model-management-sdk\": \"1.0.1b6.post1\", \"azureml-mlflow\": \"1.19.0\", \"azureml-interpret\": \"1.19.0\", \"azureml-explain-model\": \"1.19.0\", \"azureml-defaults\": \"1.19.0\", \"azureml-dataset-runtime\": \"1.19.0.post1\", \"azureml-dataprep\": \"2.6.1\", \"azureml-dataprep-rslex\": \"1.4.0\", \"azureml-dataprep-native\": \"26.0.0\", \"azureml-datadrift\": \"1.19.0\", \"azureml-core\": \"1.19.0\", \"azureml-contrib-services\": \"1.19.0\", \"azureml-contrib-server\": \"1.19.0\", \"azureml-contrib-reinforcementlearning\": \"1.19.0\", \"azureml-contrib-pipeline-steps\": \"1.19.0\", \"azureml-contrib-notebook\": \"1.19.0\", \"azureml-contrib-interpret\": \"1.19.0\", \"azureml-contrib-gbdt\": \"1.19.0\", \"azureml-contrib-fairness\": \"1.19.0\", \"azureml-contrib-dataset\": \"1.19.0\", \"azureml-cli-common\": \"1.19.0\", \"azureml-automl-runtime\": \"1.19.0\", \"azureml-automl-core\": \"1.19.0\", \"azureml-accel-models\": \"1.19.0\"}',\n  '_aml_system_scenario_identification': 'Remote.Parent',\n  'ClientType': 'SDK',\n  'environment_cpu_name': 'AzureML-AutoML',\n  'environment_cpu_label': 'prod',\n  'environment_gpu_name': 'AzureML-AutoML-GPU',\n  'environment_gpu_label': 'prod',\n  'root_attribution': 'automl',\n  'attribution': 'AutoML',\n  'Orchestrator': 'AutoML',\n  'CancelUri': 'https://eastus.experiments.azureml.net/jasmine/v1.0/subscriptions/a748a023-896b-4719-8f8e-3d1ba62d6e35/resourceGroups/RG-AZML/providers/Microsoft.MachineLearningServices/workspaces/AZML/experimentids/4e8b4564-dc2c-49d3-9b04-54d50a542ec3/cancel/AutoML_f9665a4f-e27f-4ed4-8725-26abee5eeeba',\n  'ClientSdkVersion': '1.20.0',\n  'snapshotId': '00000000-0000-0000-0000-000000000000',\n  'SetupRunId': 'AutoML_f9665a4f-e27f-4ed4-8725-26abee5eeeba_setup',\n  'SetupRunContainerId': 'dcid.AutoML_f9665a4f-e27f-4ed4-8725-26abee5eeeba_setup',\n  'FeaturizationRunJsonPath': 'featurizer_container.json',\n  'FeaturizationRunId': 'AutoML_f9665a4f-e27f-4ed4-8725-26abee5eeeba_featurize',\n  'ProblemInfoJsonString': '{\"dataset_num_categorical\": 0, \"is_sparse\": true, \"subsampling\": false, \"dataset_classes\": 62, \"dataset_features\": 39552, \"dataset_samples\": 12079, \"single_frequency_class_detected\": false}',\n  'ModelExplainRunId': 'AutoML_f9665a4f-e27f-4ed4-8725-26abee5eeeba_ModelExplain'},\n 'inputDatasets': [{'dataset': {'id': 'a652caa5-a81c-414e-8c35-f1fad493e8c7'}, 'consumptionDetails': {'type': 'RunInput', 'inputName': 'training_data', 'mechanism': 'Direct'}}],\n 'outputDatasets': [],\n 'logFiles': {}}"
          },
          "metadata": {}
        }
      ],
      "execution_count": 21,
      "metadata": {
        "collapsed": true,
        "jupyter": {
          "source_hidden": false,
          "outputs_hidden": false
        },
        "nteract": {
          "transient": {
            "deleting": false
          }
        },
        "gather": {
          "logged": 1610883222929
        }
      }
    },
    {
      "cell_type": "markdown",
      "source": [
        "## Best Model"
      ],
      "metadata": {
        "nteract": {
          "transient": {
            "deleting": false
          }
        }
      }
    },
    {
      "cell_type": "code",
      "source": [
        "best_run, fitted_model = remote_run.get_output()\r\n",
        "print(best_run)\r\n",
        "print(fitted_model)"
      ],
      "outputs": [
        {
          "output_type": "stream",
          "name": "stderr",
          "text": [
            "WARNING:root:The version of the SDK does not match the version the model was trained on.\n",
            "WARNING:root:The consistency in the result may not be guaranteed.\n",
            "WARNING:root:Package:azureml-automl-core, training version:1.20.0, current version:1.19.0\n",
            "Package:azureml-automl-runtime, training version:1.20.0, current version:1.19.0\n",
            "Package:azureml-core, training version:1.20.0, current version:1.19.0\n",
            "Package:azureml-dataprep, training version:2.7.2, current version:2.6.1\n",
            "Package:azureml-dataprep-native, training version:27.0.0, current version:26.0.0\n",
            "Package:azureml-dataprep-rslex, training version:1.5.0, current version:1.4.0\n",
            "Package:azureml-dataset-runtime, training version:1.20.0, current version:1.19.0.post1\n",
            "Package:azureml-defaults, training version:1.20.0, current version:1.19.0\n",
            "Package:azureml-interpret, training version:1.20.0, current version:1.19.0\n",
            "Package:azureml-pipeline-core, training version:1.20.0, current version:1.19.0\n",
            "Package:azureml-telemetry, training version:1.20.0, current version:1.19.0\n",
            "Package:azureml-train-automl-client, training version:1.20.0, current version:1.19.0\n",
            "Package:azureml-train-automl-runtime, training version:1.20.0, current version:1.19.0\n",
            "WARNING:root:Please ensure the version of your local conda dependencies match the version on which your model was trained in order to properly retrieve your model.\n"
          ]
        },
        {
          "output_type": "error",
          "ename": "ModuleNotFoundError",
          "evalue": "No module named 'azureml.automl.runtime._ml_engine.featurizer_suggestion'",
          "traceback": [
            "\u001b[0;31m---------------------------------------------------------------------------\u001b[0m",
            "\u001b[0;31mModuleNotFoundError\u001b[0m                       Traceback (most recent call last)",
            "\u001b[0;32m<ipython-input-22-0c1d59c9eaaa>\u001b[0m in \u001b[0;36m<module>\u001b[0;34m\u001b[0m\n\u001b[0;32m----> 1\u001b[0;31m \u001b[0mbest_run\u001b[0m\u001b[0;34m,\u001b[0m \u001b[0mfitted_model\u001b[0m \u001b[0;34m=\u001b[0m \u001b[0mremote_run\u001b[0m\u001b[0;34m.\u001b[0m\u001b[0mget_output\u001b[0m\u001b[0;34m(\u001b[0m\u001b[0;34m)\u001b[0m\u001b[0;34m\u001b[0m\u001b[0;34m\u001b[0m\u001b[0m\n\u001b[0m\u001b[1;32m      2\u001b[0m \u001b[0mprint\u001b[0m\u001b[0;34m(\u001b[0m\u001b[0mbest_run\u001b[0m\u001b[0;34m)\u001b[0m\u001b[0;34m\u001b[0m\u001b[0;34m\u001b[0m\u001b[0m\n\u001b[1;32m      3\u001b[0m \u001b[0mprint\u001b[0m\u001b[0;34m(\u001b[0m\u001b[0mfitted_model\u001b[0m\u001b[0;34m)\u001b[0m\u001b[0;34m\u001b[0m\u001b[0;34m\u001b[0m\u001b[0m\n",
            "\u001b[0;32m/anaconda/envs/azureml_py36/lib/python3.6/site-packages/azureml/train/automl/run.py\u001b[0m in \u001b[0;36mget_output\u001b[0;34m(self, iteration, metric, return_onnx_model, return_split_onnx_model, **kwargs)\u001b[0m\n\u001b[1;32m    692\u001b[0m                     \u001b[0mfitted_model\u001b[0m \u001b[0;34m=\u001b[0m \u001b[0m_download_automl_onnx_model\u001b[0m\u001b[0;34m(\u001b[0m\u001b[0mcurr_run\u001b[0m\u001b[0;34m,\u001b[0m \u001b[0mmodel_name\u001b[0m\u001b[0;34m)\u001b[0m\u001b[0;34m\u001b[0m\u001b[0;34m\u001b[0m\u001b[0m\n\u001b[1;32m    693\u001b[0m                 \u001b[0;32melse\u001b[0m\u001b[0;34m:\u001b[0m\u001b[0;34m\u001b[0m\u001b[0;34m\u001b[0m\u001b[0m\n\u001b[0;32m--> 694\u001b[0;31m                     \u001b[0mfitted_model\u001b[0m \u001b[0;34m=\u001b[0m \u001b[0m_download_automl_model\u001b[0m\u001b[0;34m(\u001b[0m\u001b[0mcurr_run\u001b[0m\u001b[0;34m,\u001b[0m \u001b[0mmodel_name\u001b[0m\u001b[0;34m)\u001b[0m\u001b[0;34m\u001b[0m\u001b[0;34m\u001b[0m\u001b[0m\n\u001b[0m\u001b[1;32m    695\u001b[0m \u001b[0;34m\u001b[0m\u001b[0m\n\u001b[1;32m    696\u001b[0m             \u001b[0;32mreturn\u001b[0m \u001b[0mcurr_run\u001b[0m\u001b[0;34m,\u001b[0m \u001b[0mfitted_model\u001b[0m\u001b[0;34m\u001b[0m\u001b[0;34m\u001b[0m\u001b[0m\n",
            "\u001b[0;32m/anaconda/envs/azureml_py36/lib/python3.6/site-packages/azureml/train/automl/_model_download_utilities.py\u001b[0m in \u001b[0;36m_download_automl_model\u001b[0;34m(run, model_name)\u001b[0m\n\u001b[1;32m     85\u001b[0m             \u001b[0;31m# Pass through any exceptions from loading the model.\u001b[0m\u001b[0;34m\u001b[0m\u001b[0;34m\u001b[0m\u001b[0;34m\u001b[0m\u001b[0m\n\u001b[1;32m     86\u001b[0m             \u001b[0;31m# Try is used here to ensure we can cleanup the side effect of model downlad.\u001b[0m\u001b[0;34m\u001b[0m\u001b[0;34m\u001b[0m\u001b[0;34m\u001b[0m\u001b[0m\n\u001b[0;32m---> 87\u001b[0;31m             \u001b[0mmodel\u001b[0m \u001b[0;34m=\u001b[0m \u001b[0m_load_automl_model\u001b[0m\u001b[0;34m(\u001b[0m\u001b[0mmodel_path\u001b[0m\u001b[0;34m)\u001b[0m\u001b[0;34m\u001b[0m\u001b[0;34m\u001b[0m\u001b[0m\n\u001b[0m\u001b[1;32m     88\u001b[0m             \u001b[0;32mif\u001b[0m \u001b[0mmodel\u001b[0m \u001b[0;32mis\u001b[0m \u001b[0;32mNone\u001b[0m\u001b[0;34m:\u001b[0m\u001b[0;34m\u001b[0m\u001b[0;34m\u001b[0m\u001b[0m\n\u001b[1;32m     89\u001b[0m                 \u001b[0;31m# If we can retrieve the automl runtime version, we do so we can inform the user what to install.\u001b[0m\u001b[0;34m\u001b[0m\u001b[0;34m\u001b[0m\u001b[0;34m\u001b[0m\u001b[0m\n",
            "\u001b[0;32m/anaconda/envs/azureml_py36/lib/python3.6/site-packages/azureml/train/automl/_model_download_utilities.py\u001b[0m in \u001b[0;36m_load_automl_model\u001b[0;34m(model_path)\u001b[0m\n\u001b[1;32m    151\u001b[0m         \u001b[0;32mimport\u001b[0m \u001b[0mazureml\u001b[0m\u001b[0;34m.\u001b[0m\u001b[0mtrain\u001b[0m\u001b[0;34m.\u001b[0m\u001b[0mautoml\u001b[0m\u001b[0;34m.\u001b[0m\u001b[0mruntime\u001b[0m\u001b[0;34m\u001b[0m\u001b[0;34m\u001b[0m\u001b[0m\n\u001b[1;32m    152\u001b[0m         \u001b[0;32mwith\u001b[0m \u001b[0mopen\u001b[0m\u001b[0;34m(\u001b[0m\u001b[0mmodel_path\u001b[0m\u001b[0;34m,\u001b[0m \u001b[0;34m\"rb\"\u001b[0m\u001b[0;34m)\u001b[0m \u001b[0;32mas\u001b[0m \u001b[0mmodel_file\u001b[0m\u001b[0;34m:\u001b[0m\u001b[0;34m\u001b[0m\u001b[0;34m\u001b[0m\u001b[0m\n\u001b[0;32m--> 153\u001b[0;31m             \u001b[0mfitted_model\u001b[0m \u001b[0;34m=\u001b[0m \u001b[0mpickle\u001b[0m\u001b[0;34m.\u001b[0m\u001b[0mload\u001b[0m\u001b[0;34m(\u001b[0m\u001b[0mmodel_file\u001b[0m\u001b[0;34m)\u001b[0m  \u001b[0;31m# type: Optional[Any]\u001b[0m\u001b[0;34m\u001b[0m\u001b[0;34m\u001b[0m\u001b[0m\n\u001b[0m\u001b[1;32m    154\u001b[0m             \u001b[0;32mreturn\u001b[0m \u001b[0mfitted_model\u001b[0m\u001b[0;34m\u001b[0m\u001b[0;34m\u001b[0m\u001b[0m\n\u001b[1;32m    155\u001b[0m     \u001b[0;32mexcept\u001b[0m \u001b[0mImportError\u001b[0m \u001b[0;32mas\u001b[0m \u001b[0me\u001b[0m\u001b[0;34m:\u001b[0m\u001b[0;34m\u001b[0m\u001b[0;34m\u001b[0m\u001b[0m\n",
            "\u001b[0;31mModuleNotFoundError\u001b[0m: No module named 'azureml.automl.runtime._ml_engine.featurizer_suggestion'"
          ]
        }
      ],
      "execution_count": 22,
      "metadata": {
        "collapsed": true,
        "jupyter": {
          "source_hidden": false,
          "outputs_hidden": false
        },
        "nteract": {
          "transient": {
            "deleting": false
          }
        },
        "gather": {
          "logged": 1610765670311
        }
      }
    },
    {
      "cell_type": "markdown",
      "source": [
        "## Metric in best model"
      ],
      "metadata": {
        "nteract": {
          "transient": {
            "deleting": false
          }
        }
      }
    },
    {
      "cell_type": "code",
      "source": [
        "best_run_metrics = best_run.get_metrics()\r\n",
        "best_run_metrics"
      ],
      "outputs": [],
      "execution_count": null,
      "metadata": {
        "collapsed": true,
        "jupyter": {
          "source_hidden": false,
          "outputs_hidden": false
        },
        "nteract": {
          "transient": {
            "deleting": false
          }
        },
        "gather": {
          "logged": 1610765681831
        }
      }
    },
    {
      "cell_type": "markdown",
      "source": [
        "## Save the best model"
      ],
      "metadata": {
        "nteract": {
          "transient": {
            "deleting": false
          }
        }
      }
    },
    {
      "cell_type": "code",
      "source": [
        "env = best_run.get_environment()\r\n",
        "best_run.download_file('outputs/model.pkl', './outputs/automl_ideb.pkl')\r\n",
        "best_run.download_file('outputs/scoring_file_v_1_0_0.py', './outputs/score.py')\r\n",
        "best_run.download_file('automl_driver.py', './outputs/automl_driver.py')\r\n",
        "\r\n",
        "import joblib  \r\n",
        "joblib.dump(fitted_model, \"./outputs/model.pkl\")"
      ],
      "outputs": [],
      "execution_count": null,
      "metadata": {
        "collapsed": true,
        "jupyter": {
          "source_hidden": false,
          "outputs_hidden": false
        },
        "nteract": {
          "transient": {
            "deleting": false
          }
        },
        "gather": {
          "logged": 1610765692711
        }
      }
    },
    {
      "cell_type": "code",
      "source": [
        "os.listdir(os.curdir), os.getcwd()"
      ],
      "outputs": [],
      "execution_count": null,
      "metadata": {
        "collapsed": true,
        "jupyter": {
          "source_hidden": false,
          "outputs_hidden": false
        },
        "nteract": {
          "transient": {
            "deleting": false
          }
        },
        "gather": {
          "logged": 1610765699704
        }
      }
    },
    {
      "cell_type": "markdown",
      "source": [
        "## Model Deployment"
      ],
      "metadata": {
        "nteract": {
          "transient": {
            "deleting": false
          }
        }
      }
    },
    {
      "cell_type": "code",
      "source": [
        "model=best_run.register_model(\r\n",
        "                        model_name = 'best_model',\r\n",
        "                        model_path = './outputs/',\r\n",
        "                        description = \"Best model trained with AutoML\")\r\n",
        "model"
      ],
      "outputs": [],
      "execution_count": null,
      "metadata": {
        "collapsed": true,
        "jupyter": {
          "source_hidden": false,
          "outputs_hidden": false
        },
        "nteract": {
          "transient": {
            "deleting": false
          }
        },
        "gather": {
          "logged": 1610765706738
        }
      }
    },
    {
      "cell_type": "code",
      "source": [
        "from azureml.core.model import InferenceConfig\r\n",
        "from azureml.core.webservice import AciWebservice\r\n",
        "from azureml.core.webservice import Webservice\r\n",
        "from azureml.core.model import Model\r\n",
        "from azureml.core.environment import Environment\r\n",
        "\r\n",
        "aci_config = AciWebservice.deploy_configuration(cpu_cores=1, memory_gb=1)\r\n",
        "inference_config = InferenceConfig(entry_script='./outputs/score.py')\r\n",
        "\r\n",
        "service = model.deploy(\r\n",
        "    workspace=ws,\r\n",
        "    name=\"service-ideb\",\r\n",
        "    models=[model],\r\n",
        "    inference_config=inference_config,\r\n",
        "    deployment_config=aci_config,\r\n",
        "    overwrite=True\r\n",
        ")\r\n",
        "service.wait_for_deployment(show_output=True)\r\n",
        "print(service.state)"
      ],
      "outputs": [],
      "execution_count": null,
      "metadata": {
        "collapsed": true,
        "jupyter": {
          "source_hidden": false,
          "outputs_hidden": false
        },
        "nteract": {
          "transient": {
            "deleting": false
          }
        },
        "gather": {
          "logged": 1610588749390
        }
      }
    },
    {
      "cell_type": "code",
      "source": [
        "service.update(enable_app_insights=True)"
      ],
      "outputs": [],
      "execution_count": null,
      "metadata": {
        "collapsed": true,
        "jupyter": {
          "source_hidden": false,
          "outputs_hidden": false
        },
        "nteract": {
          "transient": {
            "deleting": false
          }
        },
        "gather": {
          "logged": 1610834118506
        }
      }
    },
    {
      "cell_type": "markdown",
      "source": [
        "## Test the Deploy model"
      ],
      "metadata": {
        "nteract": {
          "transient": {
            "deleting": false
          }
        }
      }
    },
    {
      "cell_type": "code",
      "source": [
        "scoring_uri = service.scoring_uri\r\n",
        "\r\n",
        "print(f'\\nservice state: {service.state}\\n')\r\n",
        "print(f'scoring URI: \\n{service.scoring_uri}\\n')\r\n",
        "print(f'swagger URI: \\n{service.swagger_uri}\\n')\r\n",
        "\r\n",
        "print(service.scoring_uri)\r\n",
        "print(service.swagger_uri)"
      ],
      "outputs": [],
      "execution_count": null,
      "metadata": {
        "collapsed": true,
        "jupyter": {
          "source_hidden": false,
          "outputs_hidden": false
        },
        "nteract": {
          "transient": {
            "deleting": false
          }
        },
        "gather": {
          "logged": 1610590806178
        }
      }
    },
    {
      "cell_type": "code",
      "source": [
        "import requests\r\n",
        "import json\r\n",
        "\r\n",
        "# scoring endpoint\r\n",
        "scoring_uri = service.scoring_uri\r\n",
        "\r\n",
        "\r\n",
        "# If the service is authenticated, set the key or token\r\n",
        "#key = '<your key or token>'\r\n",
        "\r\n",
        "# Two sets of data to score, so we get two results back\r\n",
        "data = {\"data\":\r\n",
        "        [\r\n",
        "          {\r\n",
        "           \"Cod_Escola\": 4,\r\n",
        "           \"TAprov2019_Total\": 99.9, \r\n",
        "           \"TAprov2019_1_serie\": 99.2, \r\n",
        "           \"TAprov2019_2_serie\": 59.1, \r\n",
        "           \"TAprov2019_3_serie\": 60.5, \r\n",
        "           \"TAprov2019_4_serie\": 70.5, \r\n",
        "           \"Indicador_Rendimento\": 0.99, \r\n",
        "           \"SAEB2019_Matematica\": 365.38, \r\n",
        "           \"SAEB2019_Lingua Portuguesa\": 351.54, \r\n",
        "           \"SAEB2019_Nota Media Padronizada\": 7.055853, \r\n",
        "           \"IDEB_2019\": 7.1\r\n",
        "          },\r\n",
        "      ]\r\n",
        "    }\r\n",
        "# Convert to JSON string\r\n",
        "input_data = json.dumps(data)\r\n",
        "\r\n",
        "# Set the content type\r\n",
        "headers = {'Content-Type': 'application/json'}\r\n",
        "# If authentication is enabled, set the authorization header\r\n",
        "#headers['Authorization'] = f'Bearer {key}'\r\n",
        "\r\n",
        "# Make the request and display the response\r\n",
        "resp = requests.post(scoring_uri, input_data, headers=headers)\r\n",
        "print(resp.text)"
      ],
      "outputs": [],
      "execution_count": null,
      "metadata": {
        "collapsed": true,
        "jupyter": {
          "source_hidden": false,
          "outputs_hidden": false
        },
        "nteract": {
          "transient": {
            "deleting": false
          }
        },
        "gather": {
          "logged": 1610590887950
        }
      }
    },
    {
      "cell_type": "markdown",
      "source": [
        "## View the service logs"
      ],
      "metadata": {
        "nteract": {
          "transient": {
            "deleting": false
          }
        }
      }
    },
    {
      "cell_type": "code",
      "source": [
        "print(service.get_logs())"
      ],
      "outputs": [],
      "execution_count": null,
      "metadata": {
        "collapsed": true,
        "jupyter": {
          "source_hidden": false,
          "outputs_hidden": false
        },
        "nteract": {
          "transient": {
            "deleting": false
          }
        },
        "gather": {
          "logged": 1610762120178
        }
      }
    },
    {
      "cell_type": "code",
      "source": [
        "service.delete()"
      ],
      "outputs": [],
      "execution_count": null,
      "metadata": {
        "collapsed": true,
        "jupyter": {
          "source_hidden": false,
          "outputs_hidden": false
        },
        "nteract": {
          "transient": {
            "deleting": false
          }
        }
      }
    }
  ],
  "metadata": {
    "kernelspec": {
      "name": "python3-azureml",
      "language": "python",
      "display_name": "Python 3.6 - AzureML"
    },
    "language_info": {
      "name": "python",
      "version": "3.6.9",
      "mimetype": "text/x-python",
      "codemirror_mode": {
        "name": "ipython",
        "version": 3
      },
      "pygments_lexer": "ipython3",
      "nbconvert_exporter": "python",
      "file_extension": ".py"
    },
    "kernel_info": {
      "name": "python3-azureml"
    },
    "nteract": {
      "version": "nteract-front-end@1.0.0"
    }
  },
  "nbformat": 4,
  "nbformat_minor": 2
}
