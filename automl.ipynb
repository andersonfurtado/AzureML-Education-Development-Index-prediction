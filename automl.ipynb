{
  "cells": [
    {
      "cell_type": "markdown",
      "source": [
        "# Automated Machine Learning"
      ],
      "metadata": {
        "nteract": {
          "transient": {
            "deleting": false
          }
        }
      }
    },
    {
      "cell_type": "code",
      "source": [
        "from matplotlib import pyplot as plt\r\n",
        "import numpy as np\r\n",
        "import pandas as pd\r\n",
        " \r\n",
        "\r\n",
        "import azureml.core\r\n",
        "from azureml.core.experiment import Experiment\r\n",
        "from azureml.core.workspace import Workspace\r\n",
        "from azureml.core.dataset import Dataset\r\n",
        "from azureml.train.automl import AutoMLConfig\r\n",
        "from azureml.data.dataset_factory import TabularDatasetFactory\r\n",
        "\r\n",
        "# Check core SDK version number\r\n",
        "print(\"SDK version:\", azureml.core.VERSION)"
      ],
      "outputs": [
        {
          "output_type": "stream",
          "name": "stdout",
          "text": [
            "SDK version: 1.20.0\n"
          ]
        }
      ],
      "execution_count": 3,
      "metadata": {
        "gather": {
          "logged": 1611490511190
        }
      }
    },
    {
      "cell_type": "code",
      "source": [
        "ws = Workspace.from_config()\r\n",
        "print(ws.name, ws.resource_group, ws.location, ws.subscription_id, sep = '\\n')"
      ],
      "outputs": [
        {
          "output_type": "stream",
          "name": "stdout",
          "text": [
            "AZML\n",
            "RG-AZML\n",
            "eastus\n",
            "a748a023-896b-4719-8f8e-3d1ba62d6e35\n"
          ]
        }
      ],
      "execution_count": 4,
      "metadata": {
        "collapsed": true,
        "jupyter": {
          "source_hidden": false,
          "outputs_hidden": false
        },
        "nteract": {
          "transient": {
            "deleting": false
          }
        },
        "gather": {
          "logged": 1611490514154
        }
      }
    },
    {
      "cell_type": "code",
      "source": [
        "# Choose a name for the experiment.\r\n",
        "experiment_name = 'ideb-regression'\r\n",
        "\r\n",
        "experiment = Experiment(ws, experiment_name)\r\n",
        "\r\n",
        "output = {}\r\n",
        "output['Subscription ID'] = ws.subscription_id\r\n",
        "output['Workspace'] = ws.name\r\n",
        "output['Resource Group'] = ws.resource_group\r\n",
        "output['Location'] = ws.location\r\n",
        "output['Run History Name'] = experiment_name\r\n",
        "pd.set_option('display.max_colwidth', -1)\r\n",
        "outputDf = pd.DataFrame(data = output, index = [''])\r\n",
        "outputDf.T"
      ],
      "outputs": [
        {
          "output_type": "execute_result",
          "execution_count": 5,
          "data": {
            "text/plain": "                                                      \nSubscription ID   a748a023-896b-4719-8f8e-3d1ba62d6e35\nWorkspace         AZML                                \nResource Group    RG-AZML                             \nLocation          eastus                              \nRun History Name  ideb-regression                     ",
            "text/html": "<div>\n<style scoped>\n    .dataframe tbody tr th:only-of-type {\n        vertical-align: middle;\n    }\n\n    .dataframe tbody tr th {\n        vertical-align: top;\n    }\n\n    .dataframe thead th {\n        text-align: right;\n    }\n</style>\n<table border=\"1\" class=\"dataframe\">\n  <thead>\n    <tr style=\"text-align: right;\">\n      <th></th>\n      <th></th>\n    </tr>\n  </thead>\n  <tbody>\n    <tr>\n      <th>Subscription ID</th>\n      <td>a748a023-896b-4719-8f8e-3d1ba62d6e35</td>\n    </tr>\n    <tr>\n      <th>Workspace</th>\n      <td>AZML</td>\n    </tr>\n    <tr>\n      <th>Resource Group</th>\n      <td>RG-AZML</td>\n    </tr>\n    <tr>\n      <th>Location</th>\n      <td>eastus</td>\n    </tr>\n    <tr>\n      <th>Run History Name</th>\n      <td>ideb-regression</td>\n    </tr>\n  </tbody>\n</table>\n</div>"
          },
          "metadata": {}
        }
      ],
      "execution_count": 5,
      "metadata": {
        "collapsed": true,
        "jupyter": {
          "source_hidden": false,
          "outputs_hidden": false
        },
        "nteract": {
          "transient": {
            "deleting": false
          }
        },
        "gather": {
          "logged": 1611490516397
        }
      }
    },
    {
      "cell_type": "markdown",
      "source": [
        "## Using AmlCompute"
      ],
      "metadata": {
        "nteract": {
          "transient": {
            "deleting": false
          }
        }
      }
    },
    {
      "cell_type": "code",
      "source": [
        "from azureml.core.compute import ComputeTarget, AmlCompute\r\n",
        "from azureml.core.compute_target import ComputeTargetException\r\n",
        "\r\n",
        "# Choose a name for your CPU cluster\r\n",
        "cpu_cluster_name = \"automl-cluster\"\r\n",
        "\r\n",
        "# Verify that cluster does not exist already\r\n",
        "try:\r\n",
        "    compute_target = ComputeTarget(workspace=ws, name=cpu_cluster_name)\r\n",
        "    print('Found existing cluster, use it.')\r\n",
        "except ComputeTargetException:\r\n",
        "    compute_config = AmlCompute.provisioning_configuration(vm_size='STANDARD_D2_V2',\r\n",
        "                                                           max_nodes=4)\r\n",
        "    compute_target = ComputeTarget.create(ws, cpu_cluster_name, compute_config)\r\n",
        "\r\n",
        "compute_target.wait_for_completion(show_output=True)"
      ],
      "outputs": [
        {
          "output_type": "stream",
          "name": "stdout",
          "text": [
            "Found existing cluster, use it.\n",
            "\n",
            "Running\n"
          ]
        }
      ],
      "execution_count": 6,
      "metadata": {
        "collapsed": true,
        "jupyter": {
          "source_hidden": false,
          "outputs_hidden": false
        },
        "nteract": {
          "transient": {
            "deleting": false
          }
        },
        "gather": {
          "logged": 1611490524971
        }
      }
    },
    {
      "cell_type": "markdown",
      "source": [
        "## Data"
      ],
      "metadata": {
        "nteract": {
          "transient": {
            "deleting": false
          }
        }
      }
    },
    {
      "cell_type": "markdown",
      "source": [
        "### Load Data"
      ],
      "metadata": {
        "nteract": {
          "transient": {
            "deleting": false
          }
        }
      }
    },
    {
      "cell_type": "code",
      "source": [
        "datastore = ws.get_default_datastore()\r\n",
        "path = \"data/data.csv\"\r\n",
        "try:\r\n",
        "    ideb_dataset = Dataset.get_by_name(ws, name=\"ideb_dataset\")\r\n",
        "except:\r\n",
        "    datastore.upload('data', target_path='data')\r\n",
        "    # Create TabularDataset & register in workspace\r\n",
        "    ideb_dataset = Dataset.Tabular.from_delimited_files([(datastore, path)])\r\n",
        "    ideb_dataset = ideb_dataset.register(\r\n",
        "        ws, name=\"ideb_dataset\", create_new_version=True,\r\n",
        "        description=\"Dataset for ideb prediction\"\r\n",
        "    )"
      ],
      "outputs": [],
      "execution_count": 7,
      "metadata": {
        "collapsed": true,
        "jupyter": {
          "source_hidden": false,
          "outputs_hidden": false
        },
        "nteract": {
          "transient": {
            "deleting": false
          }
        },
        "gather": {
          "logged": 1611490529591
        }
      }
    },
    {
      "cell_type": "markdown",
      "source": [
        "## Automl Settings"
      ],
      "metadata": {
        "nteract": {
          "transient": {
            "deleting": false
          }
        }
      }
    },
    {
      "cell_type": "code",
      "source": [
        "automl_settings = {\r\n",
        "    \"n_cross_validations\": 3,\r\n",
        "    \"primary_metric\": 'r2_score',\r\n",
        "    \"experiment_timeout_hours\": 0.5, \r\n",
        "    \"max_concurrent_iterations\": 4,\r\n",
        "    \"featurization\": 'auto',\r\n",
        "    \"verbosity\": logging.INFO,\r\n",
        "}\r\n",
        "\r\n",
        "automl_config = AutoMLConfig(task = 'regression',\r\n",
        "                             compute_target = compute_target,\r\n",
        "                             training_data = ideb_dataset,\r\n",
        "                             label_column_name = \"IDEB_2019\",\r\n",
        "                             **automl_settings\r\n",
        "                            )\r\n",
        "\r\n"
      ],
      "outputs": [],
      "execution_count": 8,
      "metadata": {
        "collapsed": true,
        "jupyter": {
          "source_hidden": false,
          "outputs_hidden": false
        },
        "nteract": {
          "transient": {
            "deleting": false
          }
        },
        "gather": {
          "logged": 1611490531617
        }
      }
    },
    {
      "cell_type": "markdown",
      "source": [
        "## Result"
      ],
      "metadata": {
        "nteract": {
          "transient": {
            "deleting": false
          }
        }
      }
    },
    {
      "cell_type": "code",
      "source": [
        "from azureml.widgets import RunDetails\r\n",
        "\r\n",
        "remote_run = experiment.submit(automl_config, show_output = True)\r\n",
        "RunDetails(remote_run).show()\r\n",
        "remote_run.wait_for_completion(show_output=True)"
      ],
      "outputs": [
        {
          "output_type": "stream",
          "name": "stdout",
          "text": [
            "Running on remote.\n",
            "No run_configuration provided, running on automl-cluster with default configuration\n",
            "Running on remote compute: automl-cluster\n",
            "Parent Run ID: AutoML_d632279a-7bf5-483d-8cbe-4fe9b950b71f\n",
            "\n",
            "Current status: FeaturesGeneration. Generating features for the dataset.\n",
            "Current status: ModelSelection. Beginning model selection.\n",
            "\n",
            "****************************************************************************************************\n",
            "DATA GUARDRAILS: \n",
            "\n",
            "TYPE:         Missing feature values imputation\n",
            "STATUS:       PASSED\n",
            "DESCRIPTION:  No feature missing values were detected in the training data.\n",
            "              Learn more about missing value imputation: https://aka.ms/AutomatedMLFeaturization\n",
            "\n",
            "****************************************************************************************************\n",
            "\n",
            "TYPE:         High cardinality feature detection\n",
            "STATUS:       PASSED\n",
            "DESCRIPTION:  Your inputs were analyzed, and no high cardinality features were detected.\n",
            "              Learn more about high cardinality feature handling: https://aka.ms/AutomatedMLFeaturization\n",
            "\n",
            "****************************************************************************************************\n",
            "\n",
            "****************************************************************************************************\n",
            "ITERATION: The iteration being evaluated.\n",
            "PIPELINE: A summary description of the pipeline being evaluated.\n",
            "DURATION: Time taken for the current iteration.\n",
            "METRIC: The result of computing score on the fitted pipeline.\n",
            "BEST: The best observed score thus far.\n",
            "****************************************************************************************************\n",
            "\n",
            " ITERATION   PIPELINE                                       DURATION      METRIC      BEST\n",
            "         0   MaxAbsScaler LightGBM                          0:01:11       0.9966    0.9966\n",
            "         1   MaxAbsScaler XGBoostRegressor                  0:01:16       0.9968    0.9968\n",
            "         2   SparseNormalizer XGBoostRegressor              0:01:17       0.9874    0.9968\n",
            "         3   MaxAbsScaler RandomForest                      0:02:06       0.9866    0.9968\n",
            "         4   StandardScalerWrapper XGBoostRegressor         0:01:13       0.9972    0.9972\n",
            "         5   MaxAbsScaler ElasticNet                        0:01:09       0.9932    0.9972\n",
            "         6   MinMaxScaler RandomForest                      0:01:52       0.9742    0.9972\n",
            "         7   StandardScalerWrapper XGBoostRegressor         0:01:03       0.9972    0.9972\n",
            "         8   MinMaxScaler ExtremeRandomTrees                0:01:00       0.9932    0.9972\n",
            "         9   StandardScalerWrapper ElasticNet               0:00:57       0.9894    0.9972\n",
            "        11   MinMaxScaler RandomForest                      0:01:21       0.9901    0.9972\n",
            "        10   MinMaxScaler RandomForest                      0:02:12       0.9933    0.9972\n",
            "        12   StandardScalerWrapper XGBoostRegressor         0:02:04       0.8737    0.9972\n",
            "        13   RobustScaler LassoLars                         0:01:52       0.9936    0.9972\n",
            "        14   MinMaxScaler ExtremeRandomTrees                0:01:36       0.9931    0.9972\n",
            "        15   MaxAbsScaler ExtremeRandomTrees                0:01:11       0.8869    0.9972\n",
            "        16   MinMaxScaler ExtremeRandomTrees                0:01:02       0.9920    0.9972\n",
            "        17   MaxAbsScaler ElasticNet                        0:00:59       0.9920    0.9972\n",
            "        18   MinMaxScaler RandomForest                      0:01:01       0.8885    0.9972\n",
            "        19   MaxAbsScaler RandomForest                      0:00:57       0.9596    0.9972\n",
            "        20   RobustScaler ElasticNet                        0:01:48       0.9920    0.9972\n",
            "        21   StandardScalerWrapper RandomForest             0:01:34       0.9108    0.9972\n",
            "        22   MaxAbsScaler ElasticNet                        0:00:59       0.9924    0.9972\n",
            "        23   MinMaxScaler LightGBM                          0:01:39       0.9944    0.9972\n",
            "        25   SparseNormalizer XGBoostRegressor              0:00:55       0.7557    0.9972\n",
            "        24   StandardScalerWrapper XGBoostRegressor         0:01:16       0.9962    0.9972\n",
            "        26   SparseNormalizer XGBoostRegressor              0:01:26       0.8339    0.9972\n",
            "        27   StandardScalerWrapper RandomForest             0:01:06       0.8914    0.9972\n",
            "        28   StandardScalerWrapper RandomForest             0:01:28       0.9863    0.9972\n",
            "        29   PCA XGBoostRegressor                           0:01:16       0.8070    0.9972\n",
            "        31   MaxAbsScaler LightGBM                          0:01:23       0.9933    0.9972\n",
            "        30   MaxAbsScaler ExtremeRandomTrees                0:01:30       0.9461    0.9972\n",
            "        32   StandardScalerWrapper XGBoostRegressor         0:01:16       0.9938    0.9972\n",
            "        35   PCA XGBoostRegressor                           0:00:58      -1.0000    0.9972\n",
            "        36   StandardScalerWrapper ElasticNet               0:01:33       0.9936    0.9972\n",
            "        37   StandardScalerWrapper DecisionTree             0:01:00       0.9781    0.9972\n",
            "        33   StandardScalerWrapper RandomForest             0:04:16       0.9881    0.9972\n",
            "        39   StandardScalerWrapper DecisionTree             0:01:02       0.9635    0.9972\n",
            "        38   MinMaxScaler RandomForest                      0:02:36       0.9649    0.9972\n",
            "        40   StandardScalerWrapper XGBoostRegressor         0:01:01       0.9959    0.9972\n",
            "        41   RobustScaler RandomForest                      0:00:53       0.9933    0.9972\n",
            "        42   RobustScaler RandomForest                      0:01:06       0.9415    0.9972\n",
            "        43   RobustScaler ElasticNet                        0:01:01       0.9937    0.9972\n",
            "        44   StandardScalerWrapper RandomForest             0:01:41       0.9907    0.9972\n",
            "        45   StandardScalerWrapper XGBoostRegressor         0:01:00       0.9956    0.9972\n",
            "        46   StandardScalerWrapper DecisionTree             0:00:56       0.9722    0.9972\n",
            "        47   StandardScalerWrapper DecisionTree             0:00:59       0.9645    0.9972\n",
            "        48   StandardScalerWrapper DecisionTree             0:00:50       0.9796    0.9972\n",
            "        49   MaxAbsScaler DecisionTree                      0:00:52       0.9726    0.9972\n",
            "        50   StandardScalerWrapper XGBoostRegressor         0:00:59       0.9963    0.9972\n",
            "        51   StandardScalerWrapper ElasticNet               0:00:52       0.9936    0.9972\n",
            "        52   StandardScalerWrapper RandomForest             0:01:28       0.9923    0.9972\n",
            "        53   RobustScaler RandomForest                      0:01:13       0.9927    0.9972\n",
            "        54   StandardScalerWrapper RandomForest             0:01:07       0.9884    0.9972\n",
            "        55   StandardScalerWrapper XGBoostRegressor         0:01:16       0.8772    0.9972\n",
            "        56   StandardScalerWrapper ElasticNet               0:00:57       0.9920    0.9972\n",
            "        57   RobustScaler RandomForest                      0:01:37       0.9739    0.9972\n",
            "        58   StandardScalerWrapper RandomForest             0:01:03       0.9877    0.9972\n",
            "        59   MaxAbsScaler DecisionTree                      0:00:50       0.9796    0.9972\n",
            "        34   MaxAbsScaler RandomForest                      0:14:07       0.9891    0.9972\n",
            "        60   StandardScalerWrapper XGBoostRegressor         0:01:02       0.9854    0.9972\n",
            "        61   MaxAbsScaler ElasticNet                        0:01:04       0.9906    0.9972\n",
            "        62   StandardScalerWrapper LassoLars                0:00:58       0.9936    0.9972\n",
            "        63   MinMaxScaler LightGBM                          0:00:58       0.9953    0.9972\n",
            "        64   MaxAbsScaler ElasticNet                        0:00:42       0.9914    0.9972\n",
            "ERROR: {\n",
            "    \"additional_properties\": {},\n",
            "    \"error\": {\n",
            "        \"additional_properties\": {\n",
            "            \"debugInfo\": null\n",
            "        },\n",
            "        \"code\": \"UserError\",\n",
            "        \"severity\": null,\n",
            "        \"message\": \"Experiment timeout reached, please consider increasing your experiment timeout.\",\n",
            "        \"message_format\": \"Experiment timeout reached, please consider increasing your experiment timeout.\",\n",
            "        \"message_parameters\": {},\n",
            "        \"reference_code\": null,\n",
            "        \"details_uri\": null,\n",
            "        \"target\": null,\n",
            "        \"details\": [],\n",
            "        \"inner_error\": {\n",
            "            \"additional_properties\": {},\n",
            "            \"code\": \"ResourceExhausted\",\n",
            "            \"inner_error\": {\n",
            "                \"additional_properties\": {},\n",
            "                \"code\": \"Timeout\",\n",
            "                \"inner_error\": {\n",
            "                    \"additional_properties\": {},\n",
            "                    \"code\": \"ExperimentTimeoutForIterations\",\n",
            "                    \"inner_error\": null\n",
            "                }\n",
            "            }\n",
            "        }\n",
            "    },\n",
            "    \"correlation\": null,\n",
            "    \"environment\": null,\n",
            "    \"location\": null,\n",
            "    \"time\": {},\n",
            "    \"component_name\": null\n",
            "}\n",
            "        65   StandardScalerWrapper XGBoostRegressor         0:00:29          nan    0.9972\n",
            "ERROR: {\n",
            "    \"additional_properties\": {},\n",
            "    \"error\": {\n",
            "        \"additional_properties\": {\n",
            "            \"debugInfo\": null\n",
            "        },\n",
            "        \"code\": \"UserError\",\n",
            "        \"severity\": null,\n",
            "        \"message\": \"Experiment timeout reached, please consider increasing your experiment timeout.\",\n",
            "        \"message_format\": \"Experiment timeout reached, please consider increasing your experiment timeout.\",\n",
            "        \"message_parameters\": {},\n",
            "        \"reference_code\": null,\n",
            "        \"details_uri\": null,\n",
            "        \"target\": null,\n",
            "        \"details\": [],\n",
            "        \"inner_error\": {\n",
            "            \"additional_properties\": {},\n",
            "            \"code\": \"ResourceExhausted\",\n",
            "            \"inner_error\": {\n",
            "                \"additional_properties\": {},\n",
            "                \"code\": \"Timeout\",\n",
            "                \"inner_error\": {\n",
            "                    \"additional_properties\": {},\n",
            "                    \"code\": \"ExperimentTimeoutForIterations\",\n",
            "                    \"inner_error\": null\n",
            "                }\n",
            "            }\n",
            "        }\n",
            "    },\n",
            "    \"correlation\": null,\n",
            "    \"environment\": null,\n",
            "    \"location\": null,\n",
            "    \"time\": {},\n",
            "    \"component_name\": null\n",
            "}\n",
            "        66                                                  0:00:24          nan    0.9972\n",
            "ERROR: {\n",
            "    \"additional_properties\": {},\n",
            "    \"error\": {\n",
            "        \"additional_properties\": {\n",
            "            \"debugInfo\": null\n",
            "        },\n",
            "        \"code\": \"UserError\",\n",
            "        \"severity\": null,\n",
            "        \"message\": \"Experiment timeout reached, please consider increasing your experiment timeout.\",\n",
            "        \"message_format\": \"Experiment timeout reached, please consider increasing your experiment timeout.\",\n",
            "        \"message_parameters\": {},\n",
            "        \"reference_code\": null,\n",
            "        \"details_uri\": null,\n",
            "        \"target\": null,\n",
            "        \"details\": [],\n",
            "        \"inner_error\": {\n",
            "            \"additional_properties\": {},\n",
            "            \"code\": \"ResourceExhausted\",\n",
            "            \"inner_error\": {\n",
            "                \"additional_properties\": {},\n",
            "                \"code\": \"Timeout\",\n",
            "                \"inner_error\": {\n",
            "                    \"additional_properties\": {},\n",
            "                    \"code\": \"ExperimentTimeoutForIterations\",\n",
            "                    \"inner_error\": null\n",
            "                }\n",
            "            }\n",
            "        }\n",
            "    },\n",
            "    \"correlation\": null,\n",
            "    \"environment\": null,\n",
            "    \"location\": null,\n",
            "    \"time\": {},\n",
            "    \"component_name\": null\n",
            "}\n",
            "        68    StackEnsemble                                 0:01:54       0.9977    0.9977\n",
            "        67    VotingEnsemble                                0:02:01       0.9977    0.9977\n"
          ]
        },
        {
          "output_type": "display_data",
          "data": {
            "text/plain": "_AutoMLWidget(widget_settings={'childWidgetDisplay': 'popup', 'send_telemetry': False, 'log_level': 'INFO', 's…",
            "application/vnd.jupyter.widget-view+json": {
              "version_major": 2,
              "version_minor": 0,
              "model_id": "49acff393bc44b44a7802399179705e4"
            }
          },
          "metadata": {}
        },
        {
          "output_type": "display_data",
          "data": {
            "application/aml.mini.widget.v1": "{\"status\": \"Completed\", \"workbench_run_details_uri\": \"https://ml.azure.com/experiments/ideb-regression/runs/AutoML_d632279a-7bf5-483d-8cbe-4fe9b950b71f?wsid=/subscriptions/a748a023-896b-4719-8f8e-3d1ba62d6e35/resourcegroups/RG-AZML/workspaces/AZML\", \"run_id\": \"AutoML_d632279a-7bf5-483d-8cbe-4fe9b950b71f\", \"run_properties\": {\"run_id\": \"AutoML_d632279a-7bf5-483d-8cbe-4fe9b950b71f\", \"created_utc\": \"2021-01-24T12:15:49.203847Z\", \"properties\": {\"num_iterations\": \"1000\", \"training_type\": \"TrainFull\", \"acquisition_function\": \"EI\", \"primary_metric\": \"r2_score\", \"train_split\": \"0\", \"acquisition_parameter\": \"0\", \"num_cross_validation\": \"3\", \"target\": \"automl-cluster\", \"AMLSettingsJsonString\": \"{\\\"path\\\":null,\\\"name\\\":\\\"ideb-regression\\\",\\\"subscription_id\\\":\\\"a748a023-896b-4719-8f8e-3d1ba62d6e35\\\",\\\"resource_group\\\":\\\"RG-AZML\\\",\\\"workspace_name\\\":\\\"AZML\\\",\\\"region\\\":\\\"eastus\\\",\\\"compute_target\\\":\\\"automl-cluster\\\",\\\"spark_service\\\":null,\\\"azure_service\\\":\\\"remote\\\",\\\"many_models\\\":false,\\\"pipeline_fetch_max_batch_size\\\":1,\\\"iterations\\\":1000,\\\"primary_metric\\\":\\\"r2_score\\\",\\\"task_type\\\":\\\"regression\\\",\\\"data_script\\\":null,\\\"validation_size\\\":0.0,\\\"n_cross_validations\\\":3,\\\"y_min\\\":null,\\\"y_max\\\":null,\\\"num_classes\\\":null,\\\"featurization\\\":\\\"auto\\\",\\\"_ignore_package_version_incompatibilities\\\":false,\\\"is_timeseries\\\":false,\\\"max_cores_per_iteration\\\":1,\\\"max_concurrent_iterations\\\":4,\\\"iteration_timeout_minutes\\\":null,\\\"mem_in_mb\\\":null,\\\"enforce_time_on_windows\\\":false,\\\"experiment_timeout_minutes\\\":30,\\\"experiment_exit_score\\\":null,\\\"whitelist_models\\\":null,\\\"blacklist_algos\\\":[\\\"TensorFlowDNN\\\",\\\"TensorFlowLinearRegressor\\\"],\\\"supported_models\\\":[\\\"ExtremeRandomTrees\\\",\\\"LassoLars\\\",\\\"TensorFlowDNN\\\",\\\"DecisionTree\\\",\\\"KNN\\\",\\\"GradientBoosting\\\",\\\"XGBoostRegressor\\\",\\\"TensorFlowLinearRegressor\\\",\\\"SGD\\\",\\\"LightGBM\\\",\\\"FastLinearRegressor\\\",\\\"RandomForest\\\",\\\"ElasticNet\\\",\\\"OnlineGradientDescentRegressor\\\"],\\\"auto_blacklist\\\":true,\\\"blacklist_samples_reached\\\":false,\\\"exclude_nan_labels\\\":true,\\\"verbosity\\\":20,\\\"_debug_log\\\":\\\"azureml_automl.log\\\",\\\"show_warnings\\\":false,\\\"model_explainability\\\":true,\\\"service_url\\\":null,\\\"sdk_url\\\":null,\\\"sdk_packages\\\":null,\\\"enable_onnx_compatible_models\\\":false,\\\"enable_split_onnx_featurizer_estimator_models\\\":false,\\\"vm_type\\\":\\\"STANDARD_DS3_V2\\\",\\\"telemetry_verbosity\\\":20,\\\"send_telemetry\\\":true,\\\"enable_dnn\\\":false,\\\"scenario\\\":\\\"SDK-1.13.0\\\",\\\"environment_label\\\":null,\\\"force_text_dnn\\\":false,\\\"enable_feature_sweeping\\\":true,\\\"enable_early_stopping\\\":false,\\\"early_stopping_n_iters\\\":10,\\\"metrics\\\":null,\\\"enable_ensembling\\\":true,\\\"enable_stack_ensembling\\\":true,\\\"ensemble_iterations\\\":15,\\\"enable_tf\\\":false,\\\"enable_subsampling\\\":null,\\\"subsample_seed\\\":null,\\\"enable_nimbusml\\\":false,\\\"enable_streaming\\\":false,\\\"force_streaming\\\":false,\\\"track_child_runs\\\":true,\\\"allowed_private_models\\\":[],\\\"label_column_name\\\":\\\"IDEB_2019\\\",\\\"weight_column_name\\\":null,\\\"cv_split_column_names\\\":null,\\\"enable_local_managed\\\":false,\\\"_local_managed_run_id\\\":null,\\\"cost_mode\\\":1,\\\"lag_length\\\":0,\\\"metric_operation\\\":\\\"maximize\\\",\\\"preprocess\\\":true}\", \"DataPrepJsonString\": \"{\\\\\\\"training_data\\\\\\\": \\\\\\\"{\\\\\\\\\\\\\\\"blocks\\\\\\\\\\\\\\\": [{\\\\\\\\\\\\\\\"id\\\\\\\\\\\\\\\": \\\\\\\\\\\\\\\"823dab97-9480-4378-8c08-4aec261bc0f3\\\\\\\\\\\\\\\", \\\\\\\\\\\\\\\"type\\\\\\\\\\\\\\\": \\\\\\\\\\\\\\\"Microsoft.DPrep.GetDatastoreFilesBlock\\\\\\\\\\\\\\\", \\\\\\\\\\\\\\\"arguments\\\\\\\\\\\\\\\": {\\\\\\\\\\\\\\\"datastores\\\\\\\\\\\\\\\": [{\\\\\\\\\\\\\\\"datastoreName\\\\\\\\\\\\\\\": \\\\\\\\\\\\\\\"workspaceblobstore\\\\\\\\\\\\\\\", \\\\\\\\\\\\\\\"path\\\\\\\\\\\\\\\": \\\\\\\\\\\\\\\"UI/01-20-2021_015249_UTC/data.CSV\\\\\\\\\\\\\\\", \\\\\\\\\\\\\\\"resourceGroup\\\\\\\\\\\\\\\": \\\\\\\\\\\\\\\"RG-AZML\\\\\\\\\\\\\\\", \\\\\\\\\\\\\\\"subscription\\\\\\\\\\\\\\\": \\\\\\\\\\\\\\\"a748a023-896b-4719-8f8e-3d1ba62d6e35\\\\\\\\\\\\\\\", \\\\\\\\\\\\\\\"workspaceName\\\\\\\\\\\\\\\": \\\\\\\\\\\\\\\"AZML\\\\\\\\\\\\\\\"}]}, \\\\\\\\\\\\\\\"localData\\\\\\\\\\\\\\\": {}, \\\\\\\\\\\\\\\"isEnabled\\\\\\\\\\\\\\\": true, \\\\\\\\\\\\\\\"name\\\\\\\\\\\\\\\": null, \\\\\\\\\\\\\\\"annotation\\\\\\\\\\\\\\\": null}, {\\\\\\\\\\\\\\\"id\\\\\\\\\\\\\\\": \\\\\\\\\\\\\\\"76adb1eb-bf70-4771-bfa7-4e59f7b8e108\\\\\\\\\\\\\\\", \\\\\\\\\\\\\\\"type\\\\\\\\\\\\\\\": \\\\\\\\\\\\\\\"Microsoft.DPrep.ParseDelimitedBlock\\\\\\\\\\\\\\\", \\\\\\\\\\\\\\\"arguments\\\\\\\\\\\\\\\": {\\\\\\\\\\\\\\\"columnHeadersMode\\\\\\\\\\\\\\\": 1, \\\\\\\\\\\\\\\"fileEncoding\\\\\\\\\\\\\\\": 0, \\\\\\\\\\\\\\\"handleQuotedLineBreaks\\\\\\\\\\\\\\\": false, \\\\\\\\\\\\\\\"preview\\\\\\\\\\\\\\\": false, \\\\\\\\\\\\\\\"separator\\\\\\\\\\\\\\\": \\\\\\\\\\\\\\\";\\\\\\\\\\\\\\\", \\\\\\\\\\\\\\\"skipRows\\\\\\\\\\\\\\\": 0, \\\\\\\\\\\\\\\"skipRowsMode\\\\\\\\\\\\\\\": 0}, \\\\\\\\\\\\\\\"localData\\\\\\\\\\\\\\\": {}, \\\\\\\\\\\\\\\"isEnabled\\\\\\\\\\\\\\\": true, \\\\\\\\\\\\\\\"name\\\\\\\\\\\\\\\": null, \\\\\\\\\\\\\\\"annotation\\\\\\\\\\\\\\\": null}, {\\\\\\\\\\\\\\\"id\\\\\\\\\\\\\\\": \\\\\\\\\\\\\\\"e64ec390-9ab1-4697-a1c0-a78e859f8075\\\\\\\\\\\\\\\", \\\\\\\\\\\\\\\"type\\\\\\\\\\\\\\\": \\\\\\\\\\\\\\\"Microsoft.DPrep.DropColumnsBlock\\\\\\\\\\\\\\\", \\\\\\\\\\\\\\\"arguments\\\\\\\\\\\\\\\": {\\\\\\\\\\\\\\\"columns\\\\\\\\\\\\\\\": {\\\\\\\\\\\\\\\"type\\\\\\\\\\\\\\\": 0, \\\\\\\\\\\\\\\"details\\\\\\\\\\\\\\\": {\\\\\\\\\\\\\\\"selectedColumns\\\\\\\\\\\\\\\": [\\\\\\\\\\\\\\\"Path\\\\\\\\\\\\\\\"]}}}, \\\\\\\\\\\\\\\"localData\\\\\\\\\\\\\\\": {}, \\\\\\\\\\\\\\\"isEnabled\\\\\\\\\\\\\\\": true, \\\\\\\\\\\\\\\"name\\\\\\\\\\\\\\\": null, \\\\\\\\\\\\\\\"annotation\\\\\\\\\\\\\\\": null}, {\\\\\\\\\\\\\\\"id\\\\\\\\\\\\\\\": \\\\\\\\\\\\\\\"6e49ef01-f4a3-43db-8a3e-f72409add096\\\\\\\\\\\\\\\", \\\\\\\\\\\\\\\"type\\\\\\\\\\\\\\\": \\\\\\\\\\\\\\\"Microsoft.DPrep.SetColumnTypesBlock\\\\\\\\\\\\\\\", \\\\\\\\\\\\\\\"arguments\\\\\\\\\\\\\\\": {\\\\\\\\\\\\\\\"columnConversion\\\\\\\\\\\\\\\": [{\\\\\\\\\\\\\\\"column\\\\\\\\\\\\\\\": {\\\\\\\\\\\\\\\"type\\\\\\\\\\\\\\\": 2, \\\\\\\\\\\\\\\"details\\\\\\\\\\\\\\\": {\\\\\\\\\\\\\\\"selectedColumn\\\\\\\\\\\\\\\": \\\\\\\\\\\\\\\"Path\\\\\\\\\\\\\\\"}}, \\\\\\\\\\\\\\\"typeProperty\\\\\\\\\\\\\\\": 0}, {\\\\\\\\\\\\\\\"column\\\\\\\\\\\\\\\": {\\\\\\\\\\\\\\\"type\\\\\\\\\\\\\\\": 2, \\\\\\\\\\\\\\\"details\\\\\\\\\\\\\\\": {\\\\\\\\\\\\\\\"selectedColumn\\\\\\\\\\\\\\\": \\\\\\\\\\\\\\\"TAprov2019_Total\\\\\\\\\\\\\\\"}}, \\\\\\\\\\\\\\\"typeProperty\\\\\\\\\\\\\\\": 3}, {\\\\\\\\\\\\\\\"column\\\\\\\\\\\\\\\": {\\\\\\\\\\\\\\\"type\\\\\\\\\\\\\\\": 2, \\\\\\\\\\\\\\\"details\\\\\\\\\\\\\\\": {\\\\\\\\\\\\\\\"selectedColumn\\\\\\\\\\\\\\\": \\\\\\\\\\\\\\\"TAprov2019_1_serie\\\\\\\\\\\\\\\"}}, \\\\\\\\\\\\\\\"typeProperty\\\\\\\\\\\\\\\": 3}, {\\\\\\\\\\\\\\\"column\\\\\\\\\\\\\\\": {\\\\\\\\\\\\\\\"type\\\\\\\\\\\\\\\": 2, \\\\\\\\\\\\\\\"details\\\\\\\\\\\\\\\": {\\\\\\\\\\\\\\\"selectedColumn\\\\\\\\\\\\\\\": \\\\\\\\\\\\\\\"TAprov2019_2_serie\\\\\\\\\\\\\\\"}}, \\\\\\\\\\\\\\\"typeProperty\\\\\\\\\\\\\\\": 3}, {\\\\\\\\\\\\\\\"column\\\\\\\\\\\\\\\": {\\\\\\\\\\\\\\\"type\\\\\\\\\\\\\\\": 2, \\\\\\\\\\\\\\\"details\\\\\\\\\\\\\\\": {\\\\\\\\\\\\\\\"selectedColumn\\\\\\\\\\\\\\\": \\\\\\\\\\\\\\\"TAprov2019_3_serie\\\\\\\\\\\\\\\"}}, \\\\\\\\\\\\\\\"typeProperty\\\\\\\\\\\\\\\": 3}, {\\\\\\\\\\\\\\\"column\\\\\\\\\\\\\\\": {\\\\\\\\\\\\\\\"type\\\\\\\\\\\\\\\": 2, \\\\\\\\\\\\\\\"details\\\\\\\\\\\\\\\": {\\\\\\\\\\\\\\\"selectedColumn\\\\\\\\\\\\\\\": \\\\\\\\\\\\\\\"TAprov2019_4_serie\\\\\\\\\\\\\\\"}}, \\\\\\\\\\\\\\\"typeProperty\\\\\\\\\\\\\\\": 3}, {\\\\\\\\\\\\\\\"column\\\\\\\\\\\\\\\": {\\\\\\\\\\\\\\\"type\\\\\\\\\\\\\\\": 2, \\\\\\\\\\\\\\\"details\\\\\\\\\\\\\\\": {\\\\\\\\\\\\\\\"selectedColumn\\\\\\\\\\\\\\\": \\\\\\\\\\\\\\\"Indicador_Rendimento\\\\\\\\\\\\\\\"}}, \\\\\\\\\\\\\\\"typeProperty\\\\\\\\\\\\\\\": 3}, {\\\\\\\\\\\\\\\"column\\\\\\\\\\\\\\\": {\\\\\\\\\\\\\\\"type\\\\\\\\\\\\\\\": 2, \\\\\\\\\\\\\\\"details\\\\\\\\\\\\\\\": {\\\\\\\\\\\\\\\"selectedColumn\\\\\\\\\\\\\\\": \\\\\\\\\\\\\\\"SAEB2019_Matematica\\\\\\\\\\\\\\\"}}, \\\\\\\\\\\\\\\"typeProperty\\\\\\\\\\\\\\\": 3}, {\\\\\\\\\\\\\\\"column\\\\\\\\\\\\\\\": {\\\\\\\\\\\\\\\"type\\\\\\\\\\\\\\\": 2, \\\\\\\\\\\\\\\"details\\\\\\\\\\\\\\\": {\\\\\\\\\\\\\\\"selectedColumn\\\\\\\\\\\\\\\": \\\\\\\\\\\\\\\"SAEB2019_Lingua Portuguesa\\\\\\\\\\\\\\\"}}, \\\\\\\\\\\\\\\"typeProperty\\\\\\\\\\\\\\\": 3}, {\\\\\\\\\\\\\\\"column\\\\\\\\\\\\\\\": {\\\\\\\\\\\\\\\"type\\\\\\\\\\\\\\\": 2, \\\\\\\\\\\\\\\"details\\\\\\\\\\\\\\\": {\\\\\\\\\\\\\\\"selectedColumn\\\\\\\\\\\\\\\": \\\\\\\\\\\\\\\"SAEB2019_Nota Media Padronizada\\\\\\\\\\\\\\\"}}, \\\\\\\\\\\\\\\"typeProperty\\\\\\\\\\\\\\\": 3}, {\\\\\\\\\\\\\\\"column\\\\\\\\\\\\\\\": {\\\\\\\\\\\\\\\"type\\\\\\\\\\\\\\\": 2, \\\\\\\\\\\\\\\"details\\\\\\\\\\\\\\\": {\\\\\\\\\\\\\\\"selectedColumn\\\\\\\\\\\\\\\": \\\\\\\\\\\\\\\"IDEB_2019\\\\\\\\\\\\\\\"}}, \\\\\\\\\\\\\\\"typeProperty\\\\\\\\\\\\\\\": 3}]}, \\\\\\\\\\\\\\\"localData\\\\\\\\\\\\\\\": {}, \\\\\\\\\\\\\\\"isEnabled\\\\\\\\\\\\\\\": true, \\\\\\\\\\\\\\\"name\\\\\\\\\\\\\\\": null, \\\\\\\\\\\\\\\"annotation\\\\\\\\\\\\\\\": null}], \\\\\\\\\\\\\\\"inspectors\\\\\\\\\\\\\\\": [], \\\\\\\\\\\\\\\"meta\\\\\\\\\\\\\\\": {\\\\\\\\\\\\\\\"savedDatasetId\\\\\\\\\\\\\\\": \\\\\\\\\\\\\\\"f0599236-e951-454b-a849-7b74ddb516d7\\\\\\\\\\\\\\\", \\\\\\\\\\\\\\\"datasetType\\\\\\\\\\\\\\\": \\\\\\\\\\\\\\\"tabular\\\\\\\\\\\\\\\", \\\\\\\\\\\\\\\"subscriptionId\\\\\\\\\\\\\\\": \\\\\\\\\\\\\\\"a748a023-896b-4719-8f8e-3d1ba62d6e35\\\\\\\\\\\\\\\", \\\\\\\\\\\\\\\"workspaceId\\\\\\\\\\\\\\\": \\\\\\\\\\\\\\\"a7aa8562-5b11-4624-8e55-9a41918831e8\\\\\\\\\\\\\\\", \\\\\\\\\\\\\\\"workspaceLocation\\\\\\\\\\\\\\\": \\\\\\\\\\\\\\\"eastus\\\\\\\\\\\\\\\"}}\\\\\\\", \\\\\\\"activities\\\\\\\": 0}\", \"EnableSubsampling\": null, \"runTemplate\": \"AutoML\", \"azureml.runsource\": \"automl\", \"display_task_type\": \"regression\", \"dependencies_versions\": \"{\\\"azureml-widgets\\\": \\\"1.19.0\\\", \\\"azureml-train\\\": \\\"1.20.0\\\", \\\"azureml-train-restclients-hyperdrive\\\": \\\"1.20.0\\\", \\\"azureml-train-core\\\": \\\"1.20.0\\\", \\\"azureml-train-automl\\\": \\\"1.20.0\\\", \\\"azureml-train-automl-runtime\\\": \\\"1.20.0.post1\\\", \\\"azureml-train-automl-client\\\": \\\"1.20.0\\\", \\\"azureml-tensorboard\\\": \\\"1.19.0\\\", \\\"azureml-telemetry\\\": \\\"1.20.0\\\", \\\"azureml-sdk\\\": \\\"1.20.0\\\", \\\"azureml-samples\\\": \\\"0+unknown\\\", \\\"azureml-pipeline\\\": \\\"1.20.0\\\", \\\"azureml-pipeline-steps\\\": \\\"1.20.0\\\", \\\"azureml-pipeline-core\\\": \\\"1.20.0\\\", \\\"azureml-opendatasets\\\": \\\"1.19.0\\\", \\\"azureml-model-management-sdk\\\": \\\"1.0.1b6.post1\\\", \\\"azureml-mlflow\\\": \\\"1.19.0\\\", \\\"azureml-interpret\\\": \\\"1.20.0\\\", \\\"azureml-explain-model\\\": \\\"1.19.0\\\", \\\"azureml-defaults\\\": \\\"1.20.0\\\", \\\"azureml-dataset-runtime\\\": \\\"1.20.0\\\", \\\"azureml-dataprep\\\": \\\"2.7.3\\\", \\\"azureml-dataprep-rslex\\\": \\\"1.5.0\\\", \\\"azureml-dataprep-native\\\": \\\"27.0.0\\\", \\\"azureml-datadrift\\\": \\\"1.19.0\\\", \\\"azureml-core\\\": \\\"1.20.0\\\", \\\"azureml-contrib-services\\\": \\\"1.19.0\\\", \\\"azureml-contrib-server\\\": \\\"1.19.0\\\", \\\"azureml-contrib-reinforcementlearning\\\": \\\"1.19.0\\\", \\\"azureml-contrib-pipeline-steps\\\": \\\"1.19.0\\\", \\\"azureml-contrib-notebook\\\": \\\"1.19.0\\\", \\\"azureml-contrib-interpret\\\": \\\"1.19.0\\\", \\\"azureml-contrib-gbdt\\\": \\\"1.19.0\\\", \\\"azureml-contrib-fairness\\\": \\\"1.19.0\\\", \\\"azureml-contrib-dataset\\\": \\\"1.19.0\\\", \\\"azureml-cli-common\\\": \\\"1.19.0\\\", \\\"azureml-automl-runtime\\\": \\\"1.20.0\\\", \\\"azureml-automl-core\\\": \\\"1.20.0\\\", \\\"azureml-accel-models\\\": \\\"1.19.0\\\"}\", \"_aml_system_scenario_identification\": \"Remote.Parent\", \"ClientType\": \"SDK\", \"environment_cpu_name\": \"AzureML-AutoML\", \"environment_cpu_label\": \"prod\", \"environment_gpu_name\": \"AzureML-AutoML-GPU\", \"environment_gpu_label\": \"prod\", \"root_attribution\": \"automl\", \"attribution\": \"AutoML\", \"Orchestrator\": \"AutoML\", \"CancelUri\": \"https://eastus.experiments.azureml.net/jasmine/v1.0/subscriptions/a748a023-896b-4719-8f8e-3d1ba62d6e35/resourceGroups/RG-AZML/providers/Microsoft.MachineLearningServices/workspaces/AZML/experimentids/337dcb8b-d3cc-4e85-b122-67c93e8ceec5/cancel/AutoML_d632279a-7bf5-483d-8cbe-4fe9b950b71f\", \"ClientSdkVersion\": \"1.20.0.post1\", \"snapshotId\": \"00000000-0000-0000-0000-000000000000\", \"SetupRunId\": \"AutoML_d632279a-7bf5-483d-8cbe-4fe9b950b71f_setup\", \"SetupRunContainerId\": \"dcid.AutoML_d632279a-7bf5-483d-8cbe-4fe9b950b71f_setup\", \"FeaturizationRunJsonPath\": \"featurizer_container.json\", \"FeaturizationRunId\": \"AutoML_d632279a-7bf5-483d-8cbe-4fe9b950b71f_featurize\", \"ProblemInfoJsonString\": \"{\\\"dataset_num_categorical\\\": 0, \\\"is_sparse\\\": false, \\\"subsampling\\\": false, \\\"dataset_classes\\\": 62, \\\"dataset_features\\\": 9, \\\"dataset_samples\\\": 12079, \\\"single_frequency_class_detected\\\": false}\", \"ModelExplainRunId\": \"AutoML_d632279a-7bf5-483d-8cbe-4fe9b950b71f_ModelExplain\"}, \"tags\": {\"model_explain_run\": \"best_run\", \"_aml_system_azureml.automlComponent\": \"AutoML\", \"pipeline_id\": \"\", \"score\": \"\", \"predicted_cost\": \"\", \"fit_time\": \"\", \"training_percent\": \"\", \"iteration\": \"\", \"run_preprocessor\": \"\", \"run_algorithm\": \"\", \"dynamic_whitelisting_iterations\": \"<25>;<29>;<35>;<40>;<45>;<50>;<55>;<60>;<65>;\", \"automl_best_child_run_id\": \"AutoML_d632279a-7bf5-483d-8cbe-4fe9b950b71f_68\", \"model_explain_best_run_child_id\": \"AutoML_d632279a-7bf5-483d-8cbe-4fe9b950b71f_68\"}, \"end_time_utc\": \"2021-01-24T12:52:39.696676Z\", \"status\": \"Completed\", \"log_files\": {}, \"log_groups\": [], \"run_duration\": \"0:36:50\"}, \"child_runs\": [{\"run_id\": \"AutoML_d632279a-7bf5-483d-8cbe-4fe9b950b71f_2\", \"run_number\": 1388, \"metric\": null, \"status\": \"Completed\", \"run_type\": \"azureml.scriptrun\", \"training_percent\": \"100\", \"start_time\": \"2021-01-24T12:19:40.586516Z\", \"end_time\": \"2021-01-24T12:20:57.637614Z\", \"created_time\": \"2021-01-24T12:19:21.641799Z\", \"created_time_dt\": \"2021-01-24T12:19:21.641799Z\", \"duration\": \"0:01:35\", \"iteration\": \"2\", \"goal\": \"r2_score_max\", \"run_name\": \"SparseNormalizer, XGBoostRegressor\", \"run_properties\": \"<azureml.automl.runtime.shared.model_wrappers.SparseNormalizer object at 0x7f1e01bdd940\", \"primary_metric\": 0.98735227, \"best_metric\": 0.9967534}, {\"run_id\": \"AutoML_d632279a-7bf5-483d-8cbe-4fe9b950b71f_1\", \"run_number\": 1389, \"metric\": null, \"status\": \"Completed\", \"run_type\": \"azureml.scriptrun\", \"training_percent\": \"100\", \"start_time\": \"2021-01-24T12:19:39.25509Z\", \"end_time\": \"2021-01-24T12:20:55.090078Z\", \"created_time\": \"2021-01-24T12:19:21.643674Z\", \"created_time_dt\": \"2021-01-24T12:19:21.643674Z\", \"duration\": \"0:01:33\", \"iteration\": \"1\", \"goal\": \"r2_score_max\", \"run_name\": \"MaxAbsScaler, XGBoostRegressor\", \"run_properties\": \"copy=True\", \"primary_metric\": 0.9967534, \"best_metric\": 0.9967534}, {\"run_id\": \"AutoML_d632279a-7bf5-483d-8cbe-4fe9b950b71f_3\", \"run_number\": 1390, \"metric\": null, \"status\": \"Completed\", \"run_type\": \"azureml.scriptrun\", \"training_percent\": \"100\", \"start_time\": \"2021-01-24T12:19:40.018145Z\", \"end_time\": \"2021-01-24T12:21:46.508695Z\", \"created_time\": \"2021-01-24T12:19:21.72477Z\", \"created_time_dt\": \"2021-01-24T12:19:21.72477Z\", \"duration\": \"0:02:24\", \"iteration\": \"3\", \"goal\": \"r2_score_max\", \"run_name\": \"MaxAbsScaler, RandomForest\", \"run_properties\": \"copy=True\", \"primary_metric\": 0.98660309, \"best_metric\": 0.9967534}, {\"run_id\": \"AutoML_d632279a-7bf5-483d-8cbe-4fe9b950b71f_0\", \"run_number\": 1391, \"metric\": null, \"status\": \"Completed\", \"run_type\": \"azureml.scriptrun\", \"training_percent\": \"100\", \"start_time\": \"2021-01-24T12:19:38.417201Z\", \"end_time\": \"2021-01-24T12:20:49.177229Z\", \"created_time\": \"2021-01-24T12:19:22.091823Z\", \"created_time_dt\": \"2021-01-24T12:19:22.091823Z\", \"duration\": \"0:01:27\", \"iteration\": \"0\", \"goal\": \"r2_score_max\", \"run_name\": \"MaxAbsScaler, LightGBM\", \"run_properties\": \"copy=True\", \"primary_metric\": 0.99661606, \"best_metric\": 0.99661606}, {\"run_id\": \"AutoML_d632279a-7bf5-483d-8cbe-4fe9b950b71f_4\", \"run_number\": 1396, \"metric\": null, \"status\": \"Completed\", \"run_type\": \"azureml.scriptrun\", \"training_percent\": \"100\", \"start_time\": \"2021-01-24T12:21:05.926008Z\", \"end_time\": \"2021-01-24T12:22:18.72425Z\", \"created_time\": \"2021-01-24T12:20:52.369985Z\", \"created_time_dt\": \"2021-01-24T12:20:52.369985Z\", \"duration\": \"0:01:26\", \"iteration\": \"4\", \"goal\": \"r2_score_max\", \"run_name\": \"StandardScalerWrapper, XGBoostRegressor\", \"run_properties\": \"<azureml.automl.runtime.shared.model_wrappers.StandardScalerWrapper object at 0x7f517c232780\", \"primary_metric\": 0.99721502, \"best_metric\": 0.99721502}, {\"run_id\": \"AutoML_d632279a-7bf5-483d-8cbe-4fe9b950b71f_5\", \"run_number\": 1399, \"metric\": null, \"status\": \"Completed\", \"run_type\": \"azureml.scriptrun\", \"training_percent\": \"100\", \"start_time\": \"2021-01-24T12:21:14.351671Z\", \"end_time\": \"2021-01-24T12:22:23.849651Z\", \"created_time\": \"2021-01-24T12:20:58.322889Z\", \"created_time_dt\": \"2021-01-24T12:20:58.322889Z\", \"duration\": \"0:01:25\", \"iteration\": \"5\", \"goal\": \"r2_score_max\", \"run_name\": \"MaxAbsScaler, ElasticNet\", \"run_properties\": \"copy=True\", \"primary_metric\": 0.99318827, \"best_metric\": 0.99721502}, {\"run_id\": \"AutoML_d632279a-7bf5-483d-8cbe-4fe9b950b71f_6\", \"run_number\": 1401, \"metric\": null, \"status\": \"Completed\", \"run_type\": \"azureml.scriptrun\", \"training_percent\": \"100\", \"start_time\": \"2021-01-24T12:21:18.229389Z\", \"end_time\": \"2021-01-24T12:23:10.289289Z\", \"created_time\": \"2021-01-24T12:21:05.517025Z\", \"created_time_dt\": \"2021-01-24T12:21:05.517025Z\", \"duration\": \"0:02:04\", \"iteration\": \"6\", \"goal\": \"r2_score_max\", \"run_name\": \"MinMaxScaler, RandomForest\", \"run_properties\": \"copy=True, feature_range=(0, 1\", \"primary_metric\": 0.97419831, \"best_metric\": 0.99721502}, {\"run_id\": \"AutoML_d632279a-7bf5-483d-8cbe-4fe9b950b71f_7\", \"run_number\": 1403, \"metric\": null, \"status\": \"Completed\", \"run_type\": \"azureml.scriptrun\", \"training_percent\": \"100\", \"start_time\": \"2021-01-24T12:22:05.399218Z\", \"end_time\": \"2021-01-24T12:23:08.747482Z\", \"created_time\": \"2021-01-24T12:21:50.931644Z\", \"created_time_dt\": \"2021-01-24T12:21:50.931644Z\", \"duration\": \"0:01:17\", \"iteration\": \"7\", \"goal\": \"r2_score_max\", \"run_name\": \"StandardScalerWrapper, XGBoostRegressor\", \"run_properties\": \"<azureml.automl.runtime.shared.model_wrappers.StandardScalerWrapper object at 0x7f04a02e1470\", \"primary_metric\": 0.99719153, \"best_metric\": 0.99721502}, {\"run_id\": \"AutoML_d632279a-7bf5-483d-8cbe-4fe9b950b71f_8\", \"run_number\": 1404, \"metric\": null, \"status\": \"Completed\", \"run_type\": \"azureml.scriptrun\", \"training_percent\": \"100\", \"start_time\": \"2021-01-24T12:22:38.717174Z\", \"end_time\": \"2021-01-24T12:23:38.755631Z\", \"created_time\": \"2021-01-24T12:22:22.547269Z\", \"created_time_dt\": \"2021-01-24T12:22:22.547269Z\", \"duration\": \"0:01:16\", \"iteration\": \"8\", \"goal\": \"r2_score_max\", \"run_name\": \"MinMaxScaler, ExtremeRandomTrees\", \"run_properties\": \"copy=True, feature_range=(0, 1\", \"primary_metric\": 0.99324531, \"best_metric\": 0.99721502}, {\"run_id\": \"AutoML_d632279a-7bf5-483d-8cbe-4fe9b950b71f_9\", \"run_number\": 1406, \"metric\": null, \"status\": \"Completed\", \"run_type\": \"azureml.scriptrun\", \"training_percent\": \"100\", \"start_time\": \"2021-01-24T12:22:44.16652Z\", \"end_time\": \"2021-01-24T12:23:41.310086Z\", \"created_time\": \"2021-01-24T12:22:28.989595Z\", \"created_time_dt\": \"2021-01-24T12:22:28.989595Z\", \"duration\": \"0:01:12\", \"iteration\": \"9\", \"goal\": \"r2_score_max\", \"run_name\": \"StandardScalerWrapper, ElasticNet\", \"run_properties\": \"<azureml.automl.runtime.shared.model_wrappers.StandardScalerWrapper object at 0x7f6a502a0b00\", \"primary_metric\": 0.98936118, \"best_metric\": 0.99721502}, {\"run_id\": \"AutoML_d632279a-7bf5-483d-8cbe-4fe9b950b71f_10\", \"run_number\": 1408, \"metric\": null, \"status\": \"Completed\", \"run_type\": \"azureml.scriptrun\", \"training_percent\": \"100\", \"start_time\": \"2021-01-24T12:23:25.148021Z\", \"end_time\": \"2021-01-24T12:25:36.658169Z\", \"created_time\": \"2021-01-24T12:23:13.132782Z\", \"created_time_dt\": \"2021-01-24T12:23:13.132782Z\", \"duration\": \"0:02:23\", \"iteration\": \"10\", \"goal\": \"r2_score_max\", \"run_name\": \"MinMaxScaler, RandomForest\", \"run_properties\": \"copy=True, feature_range=(0, 1\", \"primary_metric\": 0.99334935, \"best_metric\": 0.99721502}, {\"run_id\": \"AutoML_d632279a-7bf5-483d-8cbe-4fe9b950b71f_11\", \"run_number\": 1409, \"metric\": null, \"status\": \"Completed\", \"run_type\": \"azureml.scriptrun\", \"training_percent\": \"100\", \"start_time\": \"2021-01-24T12:23:36.846408Z\", \"end_time\": \"2021-01-24T12:24:57.594471Z\", \"created_time\": \"2021-01-24T12:23:19.523427Z\", \"created_time_dt\": \"2021-01-24T12:23:19.523427Z\", \"duration\": \"0:01:38\", \"iteration\": \"11\", \"goal\": \"r2_score_max\", \"run_name\": \"MinMaxScaler, RandomForest\", \"run_properties\": \"copy=True, feature_range=(0, 1\", \"primary_metric\": 0.99007887, \"best_metric\": 0.99721502}, {\"run_id\": \"AutoML_d632279a-7bf5-483d-8cbe-4fe9b950b71f_12\", \"run_number\": 1411, \"metric\": null, \"status\": \"Completed\", \"run_type\": \"azureml.scriptrun\", \"training_percent\": \"100\", \"start_time\": \"2021-01-24T12:23:55.020019Z\", \"end_time\": \"2021-01-24T12:25:58.902912Z\", \"created_time\": \"2021-01-24T12:23:42.905303Z\", \"created_time_dt\": \"2021-01-24T12:23:42.905303Z\", \"duration\": \"0:02:15\", \"iteration\": \"12\", \"goal\": \"r2_score_max\", \"run_name\": \"StandardScalerWrapper, XGBoostRegressor\", \"run_properties\": \"<azureml.automl.runtime.shared.model_wrappers.StandardScalerWrapper object at 0x7f3d5201d438\", \"primary_metric\": 0.8736558, \"best_metric\": 0.99721502}, {\"run_id\": \"AutoML_d632279a-7bf5-483d-8cbe-4fe9b950b71f_13\", \"run_number\": 1412, \"metric\": null, \"status\": \"Completed\", \"run_type\": \"azureml.scriptrun\", \"training_percent\": \"100\", \"start_time\": \"2021-01-24T12:24:04.034677Z\", \"end_time\": \"2021-01-24T12:25:55.751487Z\", \"created_time\": \"2021-01-24T12:23:49.385571Z\", \"created_time_dt\": \"2021-01-24T12:23:49.385571Z\", \"duration\": \"0:02:06\", \"iteration\": \"13\", \"goal\": \"r2_score_max\", \"run_name\": \"RobustScaler, LassoLars\", \"run_properties\": \"copy=True, quantile_range=[10, 90], with_centering=False,\\n             with_scaling=True\", \"primary_metric\": 0.99363867, \"best_metric\": 0.99721502}, {\"run_id\": \"AutoML_d632279a-7bf5-483d-8cbe-4fe9b950b71f_14\", \"run_number\": 1416, \"metric\": null, \"status\": \"Completed\", \"run_type\": \"azureml.scriptrun\", \"training_percent\": \"100\", \"start_time\": \"2021-01-24T12:25:22.46556Z\", \"end_time\": \"2021-01-24T12:26:58.172305Z\", \"created_time\": \"2021-01-24T12:25:03.097986Z\", \"created_time_dt\": \"2021-01-24T12:25:03.097986Z\", \"duration\": \"0:01:55\", \"iteration\": \"14\", \"goal\": \"r2_score_max\", \"run_name\": \"MinMaxScaler, ExtremeRandomTrees\", \"run_properties\": \"copy=True, feature_range=(0, 1\", \"primary_metric\": 0.99309979, \"best_metric\": 0.99721502}, {\"run_id\": \"AutoML_d632279a-7bf5-483d-8cbe-4fe9b950b71f_15\", \"run_number\": 1419, \"metric\": null, \"status\": \"Completed\", \"run_type\": \"azureml.scriptrun\", \"training_percent\": \"100\", \"start_time\": \"2021-01-24T12:25:57.500689Z\", \"end_time\": \"2021-01-24T12:27:08.001011Z\", \"created_time\": \"2021-01-24T12:25:41.967072Z\", \"created_time_dt\": \"2021-01-24T12:25:41.967072Z\", \"duration\": \"0:01:26\", \"iteration\": \"15\", \"goal\": \"r2_score_max\", \"run_name\": \"MaxAbsScaler, ExtremeRandomTrees\", \"run_properties\": \"copy=True\", \"primary_metric\": 0.88686948, \"best_metric\": 0.99721502}, {\"run_id\": \"AutoML_d632279a-7bf5-483d-8cbe-4fe9b950b71f_16\", \"run_number\": 1420, \"metric\": null, \"status\": \"Completed\", \"run_type\": \"azureml.scriptrun\", \"training_percent\": \"100\", \"start_time\": \"2021-01-24T12:26:21.331489Z\", \"end_time\": \"2021-01-24T12:27:22.959963Z\", \"created_time\": \"2021-01-24T12:25:59.921431Z\", \"created_time_dt\": \"2021-01-24T12:25:59.921431Z\", \"duration\": \"0:01:23\", \"iteration\": \"16\", \"goal\": \"r2_score_max\", \"run_name\": \"MinMaxScaler, ExtremeRandomTrees\", \"run_properties\": \"copy=True, feature_range=(0, 1\", \"primary_metric\": 0.99199063, \"best_metric\": 0.99721502}, {\"run_id\": \"AutoML_d632279a-7bf5-483d-8cbe-4fe9b950b71f_17\", \"run_number\": 1421, \"metric\": null, \"status\": \"Completed\", \"run_type\": \"azureml.scriptrun\", \"training_percent\": \"100\", \"start_time\": \"2021-01-24T12:26:27.402105Z\", \"end_time\": \"2021-01-24T12:27:26.399195Z\", \"created_time\": \"2021-01-24T12:26:07.243074Z\", \"created_time_dt\": \"2021-01-24T12:26:07.243074Z\", \"duration\": \"0:01:19\", \"iteration\": \"17\", \"goal\": \"r2_score_max\", \"run_name\": \"MaxAbsScaler, ElasticNet\", \"run_properties\": \"copy=True\", \"primary_metric\": 0.99195979, \"best_metric\": 0.99721502}, {\"run_id\": \"AutoML_d632279a-7bf5-483d-8cbe-4fe9b950b71f_18\", \"run_number\": 1422, \"metric\": null, \"status\": \"Completed\", \"run_type\": \"azureml.scriptrun\", \"training_percent\": \"100\", \"start_time\": \"2021-01-24T12:27:15.896719Z\", \"end_time\": \"2021-01-24T12:28:17.350793Z\", \"created_time\": \"2021-01-24T12:27:01.195316Z\", \"created_time_dt\": \"2021-01-24T12:27:01.195316Z\", \"duration\": \"0:01:16\", \"iteration\": \"18\", \"goal\": \"r2_score_max\", \"run_name\": \"MinMaxScaler, RandomForest\", \"run_properties\": \"copy=True, feature_range=(0, 1\", \"primary_metric\": 0.88847582, \"best_metric\": 0.99721502}, {\"run_id\": \"AutoML_d632279a-7bf5-483d-8cbe-4fe9b950b71f_19\", \"run_number\": 1424, \"metric\": null, \"status\": \"Completed\", \"run_type\": \"azureml.scriptrun\", \"training_percent\": \"100\", \"start_time\": \"2021-01-24T12:27:25.544447Z\", \"end_time\": \"2021-01-24T12:28:22.250657Z\", \"created_time\": \"2021-01-24T12:27:12.31804Z\", \"created_time_dt\": \"2021-01-24T12:27:12.31804Z\", \"duration\": \"0:01:09\", \"iteration\": \"19\", \"goal\": \"r2_score_max\", \"run_name\": \"MaxAbsScaler, RandomForest\", \"run_properties\": \"copy=True\", \"primary_metric\": 0.95959644, \"best_metric\": 0.99721502}, {\"run_id\": \"AutoML_d632279a-7bf5-483d-8cbe-4fe9b950b71f_20\", \"run_number\": 1426, \"metric\": null, \"status\": \"Completed\", \"run_type\": \"azureml.scriptrun\", \"training_percent\": \"100\", \"start_time\": \"2021-01-24T12:27:43.865166Z\", \"end_time\": \"2021-01-24T12:29:31.833285Z\", \"created_time\": \"2021-01-24T12:27:27.274849Z\", \"created_time_dt\": \"2021-01-24T12:27:27.274849Z\", \"duration\": \"0:02:04\", \"iteration\": \"20\", \"goal\": \"r2_score_max\", \"run_name\": \"RobustScaler, ElasticNet\", \"run_properties\": \"copy=True, quantile_range=[10, 90], with_centering=True,\\n             with_scaling=False\", \"primary_metric\": 0.99199963, \"best_metric\": 0.99721502}, {\"run_id\": \"AutoML_d632279a-7bf5-483d-8cbe-4fe9b950b71f_21\", \"run_number\": 1428, \"metric\": null, \"status\": \"Completed\", \"run_type\": \"azureml.scriptrun\", \"training_percent\": \"100\", \"start_time\": \"2021-01-24T12:27:52.250143Z\", \"end_time\": \"2021-01-24T12:29:26.713657Z\", \"created_time\": \"2021-01-24T12:27:34.817588Z\", \"created_time_dt\": \"2021-01-24T12:27:34.817588Z\", \"duration\": \"0:01:51\", \"iteration\": \"21\", \"goal\": \"r2_score_max\", \"run_name\": \"StandardScalerWrapper, RandomForest\", \"run_properties\": \"<azureml.automl.runtime.shared.model_wrappers.StandardScalerWrapper object at 0x7f34dd464550\", \"primary_metric\": 0.91075348, \"best_metric\": 0.99721502}, {\"run_id\": \"AutoML_d632279a-7bf5-483d-8cbe-4fe9b950b71f_22\", \"run_number\": 1430, \"metric\": null, \"status\": \"Completed\", \"run_type\": \"azureml.scriptrun\", \"training_percent\": \"100\", \"start_time\": \"2021-01-24T12:28:50.184468Z\", \"end_time\": \"2021-01-24T12:29:49.639391Z\", \"created_time\": \"2021-01-24T12:28:31.622156Z\", \"created_time_dt\": \"2021-01-24T12:28:31.622156Z\", \"duration\": \"0:01:18\", \"iteration\": \"22\", \"goal\": \"r2_score_max\", \"run_name\": \"MaxAbsScaler, ElasticNet\", \"run_properties\": \"copy=True\", \"primary_metric\": 0.99239079, \"best_metric\": 0.99721502}, {\"run_id\": \"AutoML_d632279a-7bf5-483d-8cbe-4fe9b950b71f_23\", \"run_number\": 1431, \"metric\": null, \"status\": \"Completed\", \"run_type\": \"azureml.scriptrun\", \"training_percent\": \"100\", \"start_time\": \"2021-01-24T12:28:49.247033Z\", \"end_time\": \"2021-01-24T12:30:28.493Z\", \"created_time\": \"2021-01-24T12:28:31.638485Z\", \"created_time_dt\": \"2021-01-24T12:28:31.638485Z\", \"duration\": \"0:01:56\", \"iteration\": \"23\", \"goal\": \"r2_score_max\", \"run_name\": \"MinMaxScaler, LightGBM\", \"run_properties\": \"copy=True, feature_range=(0, 1\", \"primary_metric\": 0.99440947, \"best_metric\": 0.99721502}, {\"run_id\": \"AutoML_d632279a-7bf5-483d-8cbe-4fe9b950b71f_24\", \"run_number\": 1434, \"metric\": null, \"status\": \"Completed\", \"run_type\": \"azureml.scriptrun\", \"training_percent\": \"100\", \"start_time\": \"2021-01-24T12:30:18.141156Z\", \"end_time\": \"2021-01-24T12:31:34.162191Z\", \"created_time\": \"2021-01-24T12:29:29.938304Z\", \"created_time_dt\": \"2021-01-24T12:29:29.938304Z\", \"duration\": \"0:02:04\", \"iteration\": \"24\", \"goal\": \"r2_score_max\", \"run_name\": \"StandardScalerWrapper, XGBoostRegressor\", \"run_properties\": \"<azureml.automl.runtime.shared.model_wrappers.StandardScalerWrapper object at 0x7f1eb10ebfd0\", \"primary_metric\": 0.9961839, \"best_metric\": 0.99721502}, {\"run_id\": \"AutoML_d632279a-7bf5-483d-8cbe-4fe9b950b71f_25\", \"run_number\": 1435, \"metric\": null, \"status\": \"Completed\", \"run_type\": \"azureml.scriptrun\", \"training_percent\": \"100\", \"start_time\": \"2021-01-24T12:29:53.936538Z\", \"end_time\": \"2021-01-24T12:30:48.850386Z\", \"created_time\": \"2021-01-24T12:29:37.51508Z\", \"created_time_dt\": \"2021-01-24T12:29:37.51508Z\", \"duration\": \"0:01:11\", \"iteration\": \"25\", \"goal\": \"r2_score_max\", \"run_name\": \"SparseNormalizer, XGBoostRegressor\", \"run_properties\": \"<azureml.automl.runtime.shared.model_wrappers.SparseNormalizer object at 0x7f640464fb00\", \"primary_metric\": 0.75570782, \"best_metric\": 0.99721502}, {\"run_id\": \"AutoML_d632279a-7bf5-483d-8cbe-4fe9b950b71f_26\", \"run_number\": 1436, \"metric\": null, \"status\": \"Completed\", \"run_type\": \"azureml.scriptrun\", \"training_percent\": \"100\", \"start_time\": \"2021-01-24T12:30:08.517904Z\", \"end_time\": \"2021-01-24T12:31:34.654336Z\", \"created_time\": \"2021-01-24T12:29:52.479943Z\", \"created_time_dt\": \"2021-01-24T12:29:52.479943Z\", \"duration\": \"0:01:42\", \"iteration\": \"26\", \"goal\": \"r2_score_max\", \"run_name\": \"SparseNormalizer, XGBoostRegressor\", \"run_properties\": \"<azureml.automl.runtime.shared.model_wrappers.SparseNormalizer object at 0x7f334666d978\", \"primary_metric\": 0.83385552, \"best_metric\": 0.99721502}, {\"run_id\": \"AutoML_d632279a-7bf5-483d-8cbe-4fe9b950b71f_27\", \"run_number\": 1439, \"metric\": null, \"status\": \"Completed\", \"run_type\": \"azureml.scriptrun\", \"training_percent\": \"100\", \"start_time\": \"2021-01-24T12:30:46.503599Z\", \"end_time\": \"2021-01-24T12:31:52.117173Z\", \"created_time\": \"2021-01-24T12:30:31.383122Z\", \"created_time_dt\": \"2021-01-24T12:30:31.383122Z\", \"duration\": \"0:01:20\", \"iteration\": \"27\", \"goal\": \"r2_score_max\", \"run_name\": \"StandardScalerWrapper, RandomForest\", \"run_properties\": \"<azureml.automl.runtime.shared.model_wrappers.StandardScalerWrapper object at 0x7fd214a20ac8\", \"primary_metric\": 0.8914331, \"best_metric\": 0.99721502}, {\"run_id\": \"AutoML_d632279a-7bf5-483d-8cbe-4fe9b950b71f_28\", \"run_number\": 1440, \"metric\": null, \"status\": \"Completed\", \"run_type\": \"azureml.scriptrun\", \"training_percent\": \"100\", \"start_time\": \"2021-01-24T12:31:07.072793Z\", \"end_time\": \"2021-01-24T12:32:34.911621Z\", \"created_time\": \"2021-01-24T12:30:50.873868Z\", \"created_time_dt\": \"2021-01-24T12:30:50.873868Z\", \"duration\": \"0:01:44\", \"iteration\": \"28\", \"goal\": \"r2_score_max\", \"run_name\": \"StandardScalerWrapper, RandomForest\", \"run_properties\": \"<azureml.automl.runtime.shared.model_wrappers.StandardScalerWrapper object at 0x7f7d2c3bf160\", \"primary_metric\": 0.98630418, \"best_metric\": 0.99721502}, {\"run_id\": \"AutoML_d632279a-7bf5-483d-8cbe-4fe9b950b71f_29\", \"run_number\": 1443, \"metric\": null, \"status\": \"Completed\", \"run_type\": \"azureml.scriptrun\", \"training_percent\": \"100\", \"start_time\": \"2021-01-24T12:32:09.842403Z\", \"end_time\": \"2021-01-24T12:33:25.426772Z\", \"created_time\": \"2021-01-24T12:31:37.380966Z\", \"created_time_dt\": \"2021-01-24T12:31:37.380966Z\", \"duration\": \"0:01:48\", \"iteration\": \"29\", \"goal\": \"r2_score_max\", \"run_name\": \"PCA, XGBoostRegressor\", \"run_properties\": \"copy=True, iterated_power='auto', n_components=0.01, random_state=None,\\n    svd_solver='auto', tol=0.0, whiten=False\", \"primary_metric\": 0.80695534, \"best_metric\": 0.99721502}, {\"run_id\": \"AutoML_d632279a-7bf5-483d-8cbe-4fe9b950b71f_30\", \"run_number\": 1444, \"metric\": null, \"status\": \"Completed\", \"run_type\": \"azureml.scriptrun\", \"training_percent\": \"100\", \"start_time\": \"2021-01-24T12:32:18.35376Z\", \"end_time\": \"2021-01-24T12:33:48.607954Z\", \"created_time\": \"2021-01-24T12:31:37.415113Z\", \"created_time_dt\": \"2021-01-24T12:31:37.415113Z\", \"duration\": \"0:02:11\", \"iteration\": \"30\", \"goal\": \"r2_score_max\", \"run_name\": \"MaxAbsScaler, ExtremeRandomTrees\", \"run_properties\": \"copy=True\", \"primary_metric\": 0.94610107, \"best_metric\": 0.99721502}, {\"run_id\": \"AutoML_d632279a-7bf5-483d-8cbe-4fe9b950b71f_31\", \"run_number\": 1446, \"metric\": null, \"status\": \"Completed\", \"run_type\": \"azureml.scriptrun\", \"training_percent\": \"100\", \"start_time\": \"2021-01-24T12:32:15.833576Z\", \"end_time\": \"2021-01-24T12:33:39.025018Z\", \"created_time\": \"2021-01-24T12:32:02.747467Z\", \"created_time_dt\": \"2021-01-24T12:32:02.747467Z\", \"duration\": \"0:01:36\", \"iteration\": \"31\", \"goal\": \"r2_score_max\", \"run_name\": \"MaxAbsScaler, LightGBM\", \"run_properties\": \"copy=True\", \"primary_metric\": 0.99326541, \"best_metric\": 0.99721502}, {\"run_id\": \"AutoML_d632279a-7bf5-483d-8cbe-4fe9b950b71f_32\", \"run_number\": 1448, \"metric\": null, \"status\": \"Completed\", \"run_type\": \"azureml.scriptrun\", \"training_percent\": \"100\", \"start_time\": \"2021-01-24T12:32:53.143104Z\", \"end_time\": \"2021-01-24T12:34:08.748723Z\", \"created_time\": \"2021-01-24T12:32:38.079445Z\", \"created_time_dt\": \"2021-01-24T12:32:38.079445Z\", \"duration\": \"0:01:30\", \"iteration\": \"32\", \"goal\": \"r2_score_max\", \"run_name\": \"StandardScalerWrapper, XGBoostRegressor\", \"run_properties\": \"<azureml.automl.runtime.shared.model_wrappers.StandardScalerWrapper object at 0x7f8e55c745f8\", \"primary_metric\": 0.99381913, \"best_metric\": 0.99721502}, {\"run_id\": \"AutoML_d632279a-7bf5-483d-8cbe-4fe9b950b71f_33\", \"run_number\": 1451, \"metric\": null, \"status\": \"Completed\", \"run_type\": \"azureml.scriptrun\", \"training_percent\": \"100\", \"start_time\": \"2021-01-24T12:33:43.231449Z\", \"end_time\": \"2021-01-24T12:37:59.533195Z\", \"created_time\": \"2021-01-24T12:33:28.377031Z\", \"created_time_dt\": \"2021-01-24T12:33:28.377031Z\", \"duration\": \"0:04:31\", \"iteration\": \"33\", \"goal\": \"r2_score_max\", \"run_name\": \"StandardScalerWrapper, RandomForest\", \"run_properties\": \"<azureml.automl.runtime.shared.model_wrappers.StandardScalerWrapper object at 0x7ff3f44e1d30\", \"primary_metric\": 0.9880678, \"best_metric\": 0.99721502}, {\"run_id\": \"AutoML_d632279a-7bf5-483d-8cbe-4fe9b950b71f_34\", \"run_number\": 1452, \"metric\": null, \"status\": \"Completed\", \"run_type\": \"azureml.scriptrun\", \"training_percent\": \"100\", \"start_time\": \"2021-01-24T12:34:08.474233Z\", \"end_time\": \"2021-01-24T12:48:15.304015Z\", \"created_time\": \"2021-01-24T12:33:49.6578Z\", \"created_time_dt\": \"2021-01-24T12:33:49.6578Z\", \"duration\": \"0:14:25\", \"iteration\": \"34\", \"goal\": \"r2_score_max\", \"run_name\": \"MaxAbsScaler, RandomForest\", \"run_properties\": \"copy=True\", \"primary_metric\": 0.98911802, \"best_metric\": 0.99721502}, {\"run_id\": \"AutoML_d632279a-7bf5-483d-8cbe-4fe9b950b71f_35\", \"run_number\": 1454, \"metric\": null, \"status\": \"Completed\", \"run_type\": \"azureml.scriptrun\", \"training_percent\": \"100\", \"start_time\": \"2021-01-24T12:34:30.011394Z\", \"end_time\": \"2021-01-24T12:35:28.030628Z\", \"created_time\": \"2021-01-24T12:34:12.171123Z\", \"created_time_dt\": \"2021-01-24T12:34:12.171123Z\", \"duration\": \"0:01:15\", \"iteration\": \"35\", \"goal\": \"r2_score_max\", \"run_name\": \"PCA, XGBoostRegressor\", \"run_properties\": \"copy=True, iterated_power='auto', n_components=0.6531578947368422,\\n    random_state=None, svd_solver='auto', tol=0.0, whiten=True\", \"primary_metric\": -1.0, \"best_metric\": 0.99721502}, {\"run_id\": \"AutoML_d632279a-7bf5-483d-8cbe-4fe9b950b71f_36\", \"run_number\": 1455, \"metric\": null, \"status\": \"Completed\", \"run_type\": \"azureml.scriptrun\", \"training_percent\": \"100\", \"start_time\": \"2021-01-24T12:34:32.686397Z\", \"end_time\": \"2021-01-24T12:36:05.514783Z\", \"created_time\": \"2021-01-24T12:34:12.186727Z\", \"created_time_dt\": \"2021-01-24T12:34:12.186727Z\", \"duration\": \"0:01:53\", \"iteration\": \"36\", \"goal\": \"r2_score_max\", \"run_name\": \"StandardScalerWrapper, ElasticNet\", \"run_properties\": \"<azureml.automl.runtime.shared.model_wrappers.StandardScalerWrapper object at 0x7f59a776eb70\", \"primary_metric\": 0.99363657, \"best_metric\": 0.99721502}, {\"run_id\": \"AutoML_d632279a-7bf5-483d-8cbe-4fe9b950b71f_37\", \"run_number\": 1459, \"metric\": null, \"status\": \"Completed\", \"run_type\": \"azureml.scriptrun\", \"training_percent\": \"100\", \"start_time\": \"2021-01-24T12:35:43.254081Z\", \"end_time\": \"2021-01-24T12:36:42.893182Z\", \"created_time\": \"2021-01-24T12:35:30.6556Z\", \"created_time_dt\": \"2021-01-24T12:35:30.6556Z\", \"duration\": \"0:01:12\", \"iteration\": \"37\", \"goal\": \"r2_score_max\", \"run_name\": \"StandardScalerWrapper, DecisionTree\", \"run_properties\": \"<azureml.automl.runtime.shared.model_wrappers.StandardScalerWrapper object at 0x7f97c413d390\", \"primary_metric\": 0.97813809, \"best_metric\": 0.99721502}, {\"run_id\": \"AutoML_d632279a-7bf5-483d-8cbe-4fe9b950b71f_38\", \"run_number\": 1460, \"metric\": null, \"status\": \"Completed\", \"run_type\": \"azureml.scriptrun\", \"training_percent\": \"100\", \"start_time\": \"2021-01-24T12:36:24.045387Z\", \"end_time\": \"2021-01-24T12:38:59.984382Z\", \"created_time\": \"2021-01-24T12:36:07.460315Z\", \"created_time_dt\": \"2021-01-24T12:36:07.460315Z\", \"duration\": \"0:02:52\", \"iteration\": \"38\", \"goal\": \"r2_score_max\", \"run_name\": \"MinMaxScaler, RandomForest\", \"run_properties\": \"copy=True, feature_range=(0, 1\", \"primary_metric\": 0.9649436, \"best_metric\": 0.99721502}, {\"run_id\": \"AutoML_d632279a-7bf5-483d-8cbe-4fe9b950b71f_39\", \"run_number\": 1461, \"metric\": null, \"status\": \"Completed\", \"run_type\": \"azureml.scriptrun\", \"training_percent\": \"100\", \"start_time\": \"2021-01-24T12:37:04.449291Z\", \"end_time\": \"2021-01-24T12:38:06.13362Z\", \"created_time\": \"2021-01-24T12:36:45.876937Z\", \"created_time_dt\": \"2021-01-24T12:36:45.876937Z\", \"duration\": \"0:01:20\", \"iteration\": \"39\", \"goal\": \"r2_score_max\", \"run_name\": \"StandardScalerWrapper, DecisionTree\", \"run_properties\": \"<azureml.automl.runtime.shared.model_wrappers.StandardScalerWrapper object at 0x7ff270457da0\", \"primary_metric\": 0.96354494, \"best_metric\": 0.99721502}, {\"run_id\": \"AutoML_d632279a-7bf5-483d-8cbe-4fe9b950b71f_40\", \"run_number\": 1462, \"metric\": null, \"status\": \"Completed\", \"run_type\": \"azureml.scriptrun\", \"training_percent\": \"100\", \"start_time\": \"2021-01-24T12:38:22.049475Z\", \"end_time\": \"2021-01-24T12:39:22.826859Z\", \"created_time\": \"2021-01-24T12:38:03.974812Z\", \"created_time_dt\": \"2021-01-24T12:38:03.974812Z\", \"duration\": \"0:01:18\", \"iteration\": \"40\", \"goal\": \"r2_score_max\", \"run_name\": \"StandardScalerWrapper, XGBoostRegressor\", \"run_properties\": \"<azureml.automl.runtime.shared.model_wrappers.StandardScalerWrapper object at 0x7f81336b9390\", \"primary_metric\": 0.99593196, \"best_metric\": 0.99721502}, {\"run_id\": \"AutoML_d632279a-7bf5-483d-8cbe-4fe9b950b71f_41\", \"run_number\": 1463, \"metric\": null, \"status\": \"Completed\", \"run_type\": \"azureml.scriptrun\", \"training_percent\": \"100\", \"start_time\": \"2021-01-24T12:38:28.379221Z\", \"end_time\": \"2021-01-24T12:39:21.562989Z\", \"created_time\": \"2021-01-24T12:38:10.385229Z\", \"created_time_dt\": \"2021-01-24T12:38:10.385229Z\", \"duration\": \"0:01:11\", \"iteration\": \"41\", \"goal\": \"r2_score_max\", \"run_name\": \"RobustScaler, RandomForest\", \"run_properties\": \"copy=True, quantile_range=[10, 90], with_centering=False,\\n             with_scaling=False\", \"primary_metric\": 0.99331929, \"best_metric\": 0.99721502}, {\"run_id\": \"AutoML_d632279a-7bf5-483d-8cbe-4fe9b950b71f_42\", \"run_number\": 1465, \"metric\": null, \"status\": \"Completed\", \"run_type\": \"azureml.scriptrun\", \"training_percent\": \"100\", \"start_time\": \"2021-01-24T12:39:22.238214Z\", \"end_time\": \"2021-01-24T12:40:28.185137Z\", \"created_time\": \"2021-01-24T12:39:02.087169Z\", \"created_time_dt\": \"2021-01-24T12:39:02.087169Z\", \"duration\": \"0:01:26\", \"iteration\": \"42\", \"goal\": \"r2_score_max\", \"run_name\": \"RobustScaler, RandomForest\", \"run_properties\": \"copy=True, quantile_range=[10, 90], with_centering=True,\\n             with_scaling=False\", \"primary_metric\": 0.94145699, \"best_metric\": 0.99721502}, {\"run_id\": \"AutoML_d632279a-7bf5-483d-8cbe-4fe9b950b71f_43\", \"run_number\": 1466, \"metric\": null, \"status\": \"Completed\", \"run_type\": \"azureml.scriptrun\", \"training_percent\": \"100\", \"start_time\": \"2021-01-24T12:39:36.770134Z\", \"end_time\": \"2021-01-24T12:40:38.072786Z\", \"created_time\": \"2021-01-24T12:39:23.638105Z\", \"created_time_dt\": \"2021-01-24T12:39:23.638105Z\", \"duration\": \"0:01:14\", \"iteration\": \"43\", \"goal\": \"r2_score_max\", \"run_name\": \"RobustScaler, ElasticNet\", \"run_properties\": \"copy=True, quantile_range=[25, 75], with_centering=False,\\n             with_scaling=True\", \"primary_metric\": 0.99365673, \"best_metric\": 0.99721502}, {\"run_id\": \"AutoML_d632279a-7bf5-483d-8cbe-4fe9b950b71f_44\", \"run_number\": 1467, \"metric\": null, \"status\": \"Completed\", \"run_type\": \"azureml.scriptrun\", \"training_percent\": \"100\", \"start_time\": \"2021-01-24T12:39:45.465656Z\", \"end_time\": \"2021-01-24T12:41:26.948198Z\", \"created_time\": \"2021-01-24T12:39:29.200127Z\", \"created_time_dt\": \"2021-01-24T12:39:29.200127Z\", \"duration\": \"0:01:57\", \"iteration\": \"44\", \"goal\": \"r2_score_max\", \"run_name\": \"StandardScalerWrapper, RandomForest\", \"run_properties\": \"<azureml.automl.runtime.shared.model_wrappers.StandardScalerWrapper object at 0x7f007601af98\", \"primary_metric\": 0.99072248, \"best_metric\": 0.99721502}, {\"run_id\": \"AutoML_d632279a-7bf5-483d-8cbe-4fe9b950b71f_45\", \"run_number\": 1468, \"metric\": null, \"status\": \"Completed\", \"run_type\": \"azureml.scriptrun\", \"training_percent\": \"100\", \"start_time\": \"2021-01-24T12:40:48.712251Z\", \"end_time\": \"2021-01-24T12:41:48.389034Z\", \"created_time\": \"2021-01-24T12:40:31.150959Z\", \"created_time_dt\": \"2021-01-24T12:40:31.150959Z\", \"duration\": \"0:01:17\", \"iteration\": \"45\", \"goal\": \"r2_score_max\", \"run_name\": \"StandardScalerWrapper, XGBoostRegressor\", \"run_properties\": \"<azureml.automl.runtime.shared.model_wrappers.StandardScalerWrapper object at 0x7f3f4c73b0f0\", \"primary_metric\": 0.99561102, \"best_metric\": 0.99721502}, {\"run_id\": \"AutoML_d632279a-7bf5-483d-8cbe-4fe9b950b71f_46\", \"run_number\": 1469, \"metric\": null, \"status\": \"Completed\", \"run_type\": \"azureml.scriptrun\", \"training_percent\": \"100\", \"start_time\": \"2021-01-24T12:40:55.287284Z\", \"end_time\": \"2021-01-24T12:41:51.59811Z\", \"created_time\": \"2021-01-24T12:40:40.2269Z\", \"created_time_dt\": \"2021-01-24T12:40:40.2269Z\", \"duration\": \"0:01:11\", \"iteration\": \"46\", \"goal\": \"r2_score_max\", \"run_name\": \"StandardScalerWrapper, DecisionTree\", \"run_properties\": \"<azureml.automl.runtime.shared.model_wrappers.StandardScalerWrapper object at 0x7f72f4a25da0\", \"primary_metric\": 0.9721591, \"best_metric\": 0.99721502}, {\"run_id\": \"AutoML_d632279a-7bf5-483d-8cbe-4fe9b950b71f_47\", \"run_number\": 1470, \"metric\": null, \"status\": \"Completed\", \"run_type\": \"azureml.scriptrun\", \"training_percent\": \"100\", \"start_time\": \"2021-01-24T12:41:41.092596Z\", \"end_time\": \"2021-01-24T12:42:40.139754Z\", \"created_time\": \"2021-01-24T12:41:29.32249Z\", \"created_time_dt\": \"2021-01-24T12:41:29.32249Z\", \"duration\": \"0:01:10\", \"iteration\": \"47\", \"goal\": \"r2_score_max\", \"run_name\": \"StandardScalerWrapper, DecisionTree\", \"run_properties\": \"<azureml.automl.runtime.shared.model_wrappers.StandardScalerWrapper object at 0x7f7cd2597160\", \"primary_metric\": 0.96452044, \"best_metric\": 0.99721502}, {\"run_id\": \"AutoML_d632279a-7bf5-483d-8cbe-4fe9b950b71f_48\", \"run_number\": 1471, \"metric\": null, \"status\": \"Completed\", \"run_type\": \"azureml.scriptrun\", \"training_percent\": \"100\", \"start_time\": \"2021-01-24T12:42:03.860934Z\", \"end_time\": \"2021-01-24T12:42:54.260191Z\", \"created_time\": \"2021-01-24T12:41:50.390686Z\", \"created_time_dt\": \"2021-01-24T12:41:50.390686Z\", \"duration\": \"0:01:03\", \"iteration\": \"48\", \"goal\": \"r2_score_max\", \"run_name\": \"StandardScalerWrapper, DecisionTree\", \"run_properties\": \"<azureml.automl.runtime.shared.model_wrappers.StandardScalerWrapper object at 0x7f24bac772b0\", \"primary_metric\": 0.9796189, \"best_metric\": 0.99721502}, {\"run_id\": \"AutoML_d632279a-7bf5-483d-8cbe-4fe9b950b71f_49\", \"run_number\": 1472, \"metric\": null, \"status\": \"Completed\", \"run_type\": \"azureml.scriptrun\", \"training_percent\": \"100\", \"start_time\": \"2021-01-24T12:42:13.259578Z\", \"end_time\": \"2021-01-24T12:43:05.433246Z\", \"created_time\": \"2021-01-24T12:41:54.936453Z\", \"created_time_dt\": \"2021-01-24T12:41:54.936453Z\", \"duration\": \"0:01:10\", \"iteration\": \"49\", \"goal\": \"r2_score_max\", \"run_name\": \"MaxAbsScaler, DecisionTree\", \"run_properties\": \"copy=True\", \"primary_metric\": 0.97259372, \"best_metric\": 0.99721502}, {\"run_id\": \"AutoML_d632279a-7bf5-483d-8cbe-4fe9b950b71f_50\", \"run_number\": 1473, \"metric\": null, \"status\": \"Completed\", \"run_type\": \"azureml.scriptrun\", \"training_percent\": \"100\", \"start_time\": \"2021-01-24T12:42:56.92174Z\", \"end_time\": \"2021-01-24T12:43:56.132953Z\", \"created_time\": \"2021-01-24T12:42:43.490399Z\", \"created_time_dt\": \"2021-01-24T12:42:43.490399Z\", \"duration\": \"0:01:12\", \"iteration\": \"50\", \"goal\": \"r2_score_max\", \"run_name\": \"StandardScalerWrapper, XGBoostRegressor\", \"run_properties\": \"<azureml.automl.runtime.shared.model_wrappers.StandardScalerWrapper object at 0x7fded04543c8\", \"primary_metric\": 0.99628908, \"best_metric\": 0.99721502}, {\"run_id\": \"AutoML_d632279a-7bf5-483d-8cbe-4fe9b950b71f_51\", \"run_number\": 1474, \"metric\": null, \"status\": \"Completed\", \"run_type\": \"azureml.scriptrun\", \"training_percent\": \"100\", \"start_time\": \"2021-01-24T12:43:10.138786Z\", \"end_time\": \"2021-01-24T12:44:01.779972Z\", \"created_time\": \"2021-01-24T12:42:56.203835Z\", \"created_time_dt\": \"2021-01-24T12:42:56.203835Z\", \"duration\": \"0:01:05\", \"iteration\": \"51\", \"goal\": \"r2_score_max\", \"run_name\": \"StandardScalerWrapper, ElasticNet\", \"run_properties\": \"<azureml.automl.runtime.shared.model_wrappers.StandardScalerWrapper object at 0x7fc6622c0eb8\", \"primary_metric\": 0.99364808, \"best_metric\": 0.99721502}, {\"run_id\": \"AutoML_d632279a-7bf5-483d-8cbe-4fe9b950b71f_52\", \"run_number\": 1475, \"metric\": null, \"status\": \"Completed\", \"run_type\": \"azureml.scriptrun\", \"training_percent\": \"100\", \"start_time\": \"2021-01-24T12:43:23.29106Z\", \"end_time\": \"2021-01-24T12:44:51.71347Z\", \"created_time\": \"2021-01-24T12:43:07.729617Z\", \"created_time_dt\": \"2021-01-24T12:43:07.729617Z\", \"duration\": \"0:01:43\", \"iteration\": \"52\", \"goal\": \"r2_score_max\", \"run_name\": \"StandardScalerWrapper, RandomForest\", \"run_properties\": \"<azureml.automl.runtime.shared.model_wrappers.StandardScalerWrapper object at 0x7f037619d128\", \"primary_metric\": 0.99232332, \"best_metric\": 0.99721502}, {\"run_id\": \"AutoML_d632279a-7bf5-483d-8cbe-4fe9b950b71f_53\", \"run_number\": 1476, \"metric\": null, \"status\": \"Completed\", \"run_type\": \"azureml.scriptrun\", \"training_percent\": \"100\", \"start_time\": \"2021-01-24T12:44:17.421922Z\", \"end_time\": \"2021-01-24T12:45:29.990897Z\", \"created_time\": \"2021-01-24T12:43:58.140613Z\", \"created_time_dt\": \"2021-01-24T12:43:58.140613Z\", \"duration\": \"0:01:31\", \"iteration\": \"53\", \"goal\": \"r2_score_max\", \"run_name\": \"RobustScaler, RandomForest\", \"run_properties\": \"copy=True, quantile_range=[25, 75], with_centering=True,\\n             with_scaling=False\", \"primary_metric\": 0.99273183, \"best_metric\": 0.99721502}, {\"run_id\": \"AutoML_d632279a-7bf5-483d-8cbe-4fe9b950b71f_54\", \"run_number\": 1477, \"metric\": null, \"status\": \"Completed\", \"run_type\": \"azureml.scriptrun\", \"training_percent\": \"100\", \"start_time\": \"2021-01-24T12:44:19.788624Z\", \"end_time\": \"2021-01-24T12:45:26.950105Z\", \"created_time\": \"2021-01-24T12:44:04.160808Z\", \"created_time_dt\": \"2021-01-24T12:44:04.160808Z\", \"duration\": \"0:01:22\", \"iteration\": \"54\", \"goal\": \"r2_score_max\", \"run_name\": \"StandardScalerWrapper, RandomForest\", \"run_properties\": \"<azureml.automl.runtime.shared.model_wrappers.StandardScalerWrapper object at 0x7f2226fa5a58\", \"primary_metric\": 0.98842342, \"best_metric\": 0.99721502}, {\"run_id\": \"AutoML_d632279a-7bf5-483d-8cbe-4fe9b950b71f_55\", \"run_number\": 1478, \"metric\": null, \"status\": \"Completed\", \"run_type\": \"azureml.scriptrun\", \"training_percent\": \"100\", \"start_time\": \"2021-01-24T12:45:07.401077Z\", \"end_time\": \"2021-01-24T12:46:23.008405Z\", \"created_time\": \"2021-01-24T12:44:54.486232Z\", \"created_time_dt\": \"2021-01-24T12:44:54.486232Z\", \"duration\": \"0:01:28\", \"iteration\": \"55\", \"goal\": \"r2_score_max\", \"run_name\": \"StandardScalerWrapper, XGBoostRegressor\", \"run_properties\": \"<azureml.automl.runtime.shared.model_wrappers.StandardScalerWrapper object at 0x7f3868a55940\", \"primary_metric\": 0.87724179, \"best_metric\": 0.99721502}, {\"run_id\": \"AutoML_d632279a-7bf5-483d-8cbe-4fe9b950b71f_56\", \"run_number\": 1479, \"metric\": null, \"status\": \"Completed\", \"run_type\": \"azureml.scriptrun\", \"training_percent\": \"100\", \"start_time\": \"2021-01-24T12:45:44.395383Z\", \"end_time\": \"2021-01-24T12:46:41.883877Z\", \"created_time\": \"2021-01-24T12:45:29.071988Z\", \"created_time_dt\": \"2021-01-24T12:45:29.071988Z\", \"duration\": \"0:01:12\", \"iteration\": \"56\", \"goal\": \"r2_score_max\", \"run_name\": \"StandardScalerWrapper, ElasticNet\", \"run_properties\": \"<azureml.automl.runtime.shared.model_wrappers.StandardScalerWrapper object at 0x7f8ffb535ba8\", \"primary_metric\": 0.99195337, \"best_metric\": 0.99721502}, {\"run_id\": \"AutoML_d632279a-7bf5-483d-8cbe-4fe9b950b71f_57\", \"run_number\": 1480, \"metric\": null, \"status\": \"Completed\", \"run_type\": \"azureml.scriptrun\", \"training_percent\": \"100\", \"start_time\": \"2021-01-24T12:45:50.283591Z\", \"end_time\": \"2021-01-24T12:47:27.567185Z\", \"created_time\": \"2021-01-24T12:45:34.627866Z\", \"created_time_dt\": \"2021-01-24T12:45:34.627866Z\", \"duration\": \"0:01:52\", \"iteration\": \"57\", \"goal\": \"r2_score_max\", \"run_name\": \"RobustScaler, RandomForest\", \"run_properties\": \"copy=True, quantile_range=[10, 90], with_centering=True,\\n             with_scaling=True\", \"primary_metric\": 0.97388743, \"best_metric\": 0.99721502}, {\"run_id\": \"AutoML_d632279a-7bf5-483d-8cbe-4fe9b950b71f_58\", \"run_number\": 1481, \"metric\": null, \"status\": \"Completed\", \"run_type\": \"azureml.scriptrun\", \"training_percent\": \"100\", \"start_time\": \"2021-01-24T12:46:37.132315Z\", \"end_time\": \"2021-01-24T12:47:39.796977Z\", \"created_time\": \"2021-01-24T12:46:24.955109Z\", \"created_time_dt\": \"2021-01-24T12:46:24.955109Z\", \"duration\": \"0:01:14\", \"iteration\": \"58\", \"goal\": \"r2_score_max\", \"run_name\": \"StandardScalerWrapper, RandomForest\", \"run_properties\": \"<azureml.automl.runtime.shared.model_wrappers.StandardScalerWrapper object at 0x7f821cbf6978\", \"primary_metric\": 0.98772389, \"best_metric\": 0.99721502}, {\"run_id\": \"AutoML_d632279a-7bf5-483d-8cbe-4fe9b950b71f_59\", \"run_number\": 1482, \"metric\": null, \"status\": \"Completed\", \"run_type\": \"azureml.scriptrun\", \"training_percent\": \"100\", \"start_time\": \"2021-01-24T12:46:59.456715Z\", \"end_time\": \"2021-01-24T12:47:49.412359Z\", \"created_time\": \"2021-01-24T12:46:43.764424Z\", \"created_time_dt\": \"2021-01-24T12:46:43.764424Z\", \"duration\": \"0:01:05\", \"iteration\": \"59\", \"goal\": \"r2_score_max\", \"run_name\": \"MaxAbsScaler, DecisionTree\", \"run_properties\": \"copy=True\", \"primary_metric\": 0.97961475, \"best_metric\": 0.99721502}, {\"run_id\": \"AutoML_d632279a-7bf5-483d-8cbe-4fe9b950b71f_60\", \"run_number\": 1483, \"metric\": null, \"status\": \"Completed\", \"run_type\": \"azureml.scriptrun\", \"training_percent\": \"100\", \"start_time\": \"2021-01-24T12:47:47.206231Z\", \"end_time\": \"2021-01-24T12:48:48.889077Z\", \"created_time\": \"2021-01-24T12:47:30.787076Z\", \"created_time_dt\": \"2021-01-24T12:47:30.787076Z\", \"duration\": \"0:01:18\", \"iteration\": \"60\", \"goal\": \"r2_score_max\", \"run_name\": \"StandardScalerWrapper, XGBoostRegressor\", \"run_properties\": \"<azureml.automl.runtime.shared.model_wrappers.StandardScalerWrapper object at 0x7f30fe694630\", \"primary_metric\": 0.98540423, \"best_metric\": 0.99721502}, {\"run_id\": \"AutoML_d632279a-7bf5-483d-8cbe-4fe9b950b71f_61\", \"run_number\": 1484, \"metric\": null, \"status\": \"Completed\", \"run_type\": \"azureml.scriptrun\", \"training_percent\": \"100\", \"start_time\": \"2021-01-24T12:48:00.727815Z\", \"end_time\": \"2021-01-24T12:49:04.237954Z\", \"created_time\": \"2021-01-24T12:47:41.907085Z\", \"created_time_dt\": \"2021-01-24T12:47:41.907085Z\", \"duration\": \"0:01:22\", \"iteration\": \"61\", \"goal\": \"r2_score_max\", \"run_name\": \"MaxAbsScaler, ElasticNet\", \"run_properties\": \"copy=True\", \"primary_metric\": 0.99059611, \"best_metric\": 0.99721502}, {\"run_id\": \"AutoML_d632279a-7bf5-483d-8cbe-4fe9b950b71f_62\", \"run_number\": 1485, \"metric\": null, \"status\": \"Completed\", \"run_type\": \"azureml.scriptrun\", \"training_percent\": \"100\", \"start_time\": \"2021-01-24T12:48:05.722628Z\", \"end_time\": \"2021-01-24T12:49:03.25661Z\", \"created_time\": \"2021-01-24T12:47:52.035763Z\", \"created_time_dt\": \"2021-01-24T12:47:52.035763Z\", \"duration\": \"0:01:11\", \"iteration\": \"62\", \"goal\": \"r2_score_max\", \"run_name\": \"StandardScalerWrapper, LassoLars\", \"run_properties\": \"<azureml.automl.runtime.shared.model_wrappers.StandardScalerWrapper object at 0x7f00dd8a6f28\", \"primary_metric\": 0.99364788, \"best_metric\": 0.99721502}, {\"run_id\": \"AutoML_d632279a-7bf5-483d-8cbe-4fe9b950b71f_63\", \"run_number\": 1486, \"metric\": null, \"status\": \"Completed\", \"run_type\": \"azureml.scriptrun\", \"training_percent\": \"100\", \"start_time\": \"2021-01-24T12:48:40.642581Z\", \"end_time\": \"2021-01-24T12:49:38.974306Z\", \"created_time\": \"2021-01-24T12:48:17.287445Z\", \"created_time_dt\": \"2021-01-24T12:48:17.287445Z\", \"duration\": \"0:01:21\", \"iteration\": \"63\", \"goal\": \"r2_score_max\", \"run_name\": \"MinMaxScaler, LightGBM\", \"run_properties\": \"copy=True, feature_range=(0, 1\", \"primary_metric\": 0.99527611, \"best_metric\": 0.99721502}, {\"run_id\": \"AutoML_d632279a-7bf5-483d-8cbe-4fe9b950b71f_64\", \"run_number\": 1487, \"metric\": null, \"status\": \"Canceled\", \"run_type\": \"azureml.scriptrun\", \"training_percent\": \"100\", \"start_time\": \"2021-01-24T12:49:05.658336Z\", \"end_time\": \"2021-01-24T12:49:47.519293Z\", \"created_time\": \"2021-01-24T12:48:50.710481Z\", \"created_time_dt\": \"2021-01-24T12:48:50.710481Z\", \"duration\": \"0:00:56\", \"iteration\": \"64\", \"goal\": \"r2_score_max\", \"run_name\": \"MaxAbsScaler, ElasticNet\", \"run_properties\": \"copy=True\", \"primary_metric\": 0.99135535, \"best_metric\": 0.99721502}, {\"run_id\": \"AutoML_d632279a-7bf5-483d-8cbe-4fe9b950b71f_65\", \"run_number\": 1488, \"metric\": null, \"status\": \"Canceled\", \"run_type\": \"azureml.scriptrun\", \"training_percent\": \"100\", \"start_time\": \"2021-01-24T12:49:19.223782Z\", \"end_time\": \"2021-01-24T12:49:48.127772Z\", \"created_time\": \"2021-01-24T12:49:06.269623Z\", \"created_time_dt\": \"2021-01-24T12:49:06.269623Z\", \"duration\": \"0:00:41\", \"iteration\": \"65\", \"goal\": null, \"run_name\": \"StandardScalerWrapper, XGBoostRegressor\", \"run_properties\": null}, {\"run_id\": \"AutoML_d632279a-7bf5-483d-8cbe-4fe9b950b71f_66\", \"run_number\": 1489, \"metric\": null, \"status\": \"Canceled\", \"run_type\": \"azureml.scriptrun\", \"training_percent\": \"100\", \"start_time\": \"2021-01-24T12:49:24.471492Z\", \"end_time\": \"2021-01-24T12:49:48.263566Z\", \"created_time\": \"2021-01-24T12:49:12.494332Z\", \"created_time_dt\": \"2021-01-24T12:49:12.494332Z\", \"duration\": \"0:00:35\", \"iteration\": \"66\", \"goal\": null, \"run_name\": \"Canceled\", \"run_properties\": null}, {\"run_id\": \"AutoML_d632279a-7bf5-483d-8cbe-4fe9b950b71f_67\", \"run_number\": 1490, \"metric\": null, \"status\": \"Completed\", \"run_type\": \"azureml.scriptrun\", \"training_percent\": \"100\", \"start_time\": \"2021-01-24T12:50:03.634161Z\", \"end_time\": \"2021-01-24T12:52:04.899684Z\", \"created_time\": \"2021-01-24T12:49:50.838832Z\", \"created_time_dt\": \"2021-01-24T12:49:50.838832Z\", \"duration\": \"0:02:14\", \"iteration\": \"67\", \"goal\": \"r2_score_max\", \"run_name\": \"VotingEnsemble\", \"run_properties\": \"estimators=[('4',\\n                                          Pipeline(memory=None,\\n                                                   steps=[('standardscalerwrapper',\\n                                                           <azureml.automl.runtime.shared.model_wrappers.StandardScalerWrapper object at 0x7f7db14a3748>\", \"primary_metric\": 0.99772972, \"best_metric\": 0.99772972}, {\"run_id\": \"AutoML_d632279a-7bf5-483d-8cbe-4fe9b950b71f_68\", \"run_number\": 1491, \"metric\": null, \"status\": \"Completed\", \"run_type\": \"azureml.scriptrun\", \"training_percent\": \"100\", \"start_time\": \"2021-01-24T12:50:07.726173Z\", \"end_time\": \"2021-01-24T12:52:01.799425Z\", \"created_time\": \"2021-01-24T12:49:51.449918Z\", \"created_time_dt\": \"2021-01-24T12:49:51.449918Z\", \"duration\": \"0:02:10\", \"iteration\": \"68\", \"goal\": \"r2_score_max\", \"run_name\": \"StackEnsemble\", \"run_properties\": \"base_learners=[('4',\\n                                       Pipeline(memory=None,\\n                                                steps=[('standardscalerwrapper',\\n                                                        <azureml.automl.runtime.shared.model_wrappers.StandardScalerWrapper object at 0x7f3e484ffda0>\", \"primary_metric\": 0.99773112, \"best_metric\": 0.99773112}], \"children_metrics\": {\"categories\": [0], \"series\": {\"median_absolute_error\": [{\"categories\": [\"0\", \"1\", \"2\", \"3\", \"4\", \"5\", \"6\", \"7\", \"8\", \"9\", \"10\", \"11\", \"12\", \"13\", \"14\", \"15\", \"16\", \"17\", \"18\", \"19\", \"20\", \"21\", \"22\", \"23\", \"24\", \"25\", \"26\", \"27\", \"28\", \"29\", \"30\", \"31\", \"32\", \"33\", \"34\", \"35\", \"36\", \"37\", \"38\", \"39\", \"40\", \"41\", \"42\", \"43\", \"44\", \"45\", \"46\", \"47\", \"48\", \"49\", \"50\", \"51\", \"52\", \"53\", \"54\", \"55\", \"56\", \"57\", \"58\", \"59\", \"60\", \"61\", \"62\", \"63\", \"64\", \"67\", \"68\"], \"mode\": \"markers\", \"name\": \"median_absolute_error\", \"stepped\": false, \"type\": \"scatter\", \"data\": [0.02663146072183283, 0.029841597874959103, 0.03425349394480389, 0.03207766698927824, 0.025915988286336383, 0.035761207053354095, 0.04401863829390503, 0.027258372306823746, 0.02811131469369384, 0.04494038187150869, 0.028784643787214053, 0.03319317752544918, 0.26535726388295494, 0.03424498518637346, 0.030827851401714994, 0.10431635225677982, 0.02927998908684774, 0.03746897382735437, 0.11552435844653693, 0.0690822932445944, 0.035672464805140226, 0.0731545073702559, 0.03681735592445327, 0.033097978409884966, 0.030783645311991552, 0.285289192199707, 0.26444685459136946, 0.092558742337433, 0.03303278858427531, 0.22303939660390215, 0.09123316532617258, 0.03289361346402201, 0.037934096654256066, 0.004000000000000152, 0.030888888888875643, 1.320292822519938, 0.0341279156618551, 0.05624774972023916, 0.0588400670335368, 0.07446025387177742, 0.03165016174316415, 0.03078704404024668, 0.06412923222964755, 0.03420279166244663, 0.032366158722827366, 0.031047685941060294, 0.06322806231481899, 0.074268614187092, 0.05393905611297015, 0.06499412321293925, 0.029413175582885847, 0.03416761408560931, 0.031329294122248864, 0.0311263228140215, 0.03312116816095697, 0.26476241747538243, 0.03572570076849013, 0.0632379995126812, 0.03728669900582989, 0.053939056112971784, 0.044622635841369496, 0.04011016469569961, 0.03424243090088064, 0.029463372538027777, 0.03857644404455122, 0.025551329276797857, 0.02569877576154515]}, {\"categories\": [\"0\", \"1\", \"2\", \"3\", \"4\", \"5\", \"6\", \"7\", \"8\", \"9\", \"10\", \"11\", \"12\", \"13\", \"14\", \"15\", \"16\", \"17\", \"18\", \"19\", \"20\", \"21\", \"22\", \"23\", \"24\", \"25\", \"26\", \"27\", \"28\", \"29\", \"30\", \"31\", \"32\", \"33\", \"34\", \"35\", \"36\", \"37\", \"38\", \"39\", \"40\", \"41\", \"42\", \"43\", \"44\", \"45\", \"46\", \"47\", \"48\", \"49\", \"50\", \"51\", \"52\", \"53\", \"54\", \"55\", \"56\", \"57\", \"58\", \"59\", \"60\", \"61\", \"62\", \"63\", \"64\", \"67\", \"68\"], \"mode\": \"lines\", \"name\": \"median_absolute_error_min\", \"stepped\": true, \"type\": \"scatter\", \"data\": [0.02663146072183283, 0.02663146072183283, 0.02663146072183283, 0.02663146072183283, 0.025915988286336383, 0.025915988286336383, 0.025915988286336383, 0.025915988286336383, 0.025915988286336383, 0.025915988286336383, 0.025915988286336383, 0.025915988286336383, 0.025915988286336383, 0.025915988286336383, 0.025915988286336383, 0.025915988286336383, 0.025915988286336383, 0.025915988286336383, 0.025915988286336383, 0.025915988286336383, 0.025915988286336383, 0.025915988286336383, 0.025915988286336383, 0.025915988286336383, 0.025915988286336383, 0.025915988286336383, 0.025915988286336383, 0.025915988286336383, 0.025915988286336383, 0.025915988286336383, 0.025915988286336383, 0.025915988286336383, 0.025915988286336383, 0.004000000000000152, 0.004000000000000152, 0.004000000000000152, 0.004000000000000152, 0.004000000000000152, 0.004000000000000152, 0.004000000000000152, 0.004000000000000152, 0.004000000000000152, 0.004000000000000152, 0.004000000000000152, 0.004000000000000152, 0.004000000000000152, 0.004000000000000152, 0.004000000000000152, 0.004000000000000152, 0.004000000000000152, 0.004000000000000152, 0.004000000000000152, 0.004000000000000152, 0.004000000000000152, 0.004000000000000152, 0.004000000000000152, 0.004000000000000152, 0.004000000000000152, 0.004000000000000152, 0.004000000000000152, 0.004000000000000152, 0.004000000000000152, 0.004000000000000152, 0.004000000000000152, 0.004000000000000152, 0.004000000000000152, 0.004000000000000152]}], \"r2_score\": [{\"categories\": [\"0\", \"1\", \"2\", \"3\", \"4\", \"5\", \"6\", \"7\", \"8\", \"9\", \"10\", \"11\", \"12\", \"13\", \"14\", \"15\", \"16\", \"17\", \"18\", \"19\", \"20\", \"21\", \"22\", \"23\", \"24\", \"25\", \"26\", \"27\", \"28\", \"29\", \"30\", \"31\", \"32\", \"33\", \"34\", \"35\", \"36\", \"37\", \"38\", \"39\", \"40\", \"41\", \"42\", \"43\", \"44\", \"45\", \"46\", \"47\", \"48\", \"49\", \"50\", \"51\", \"52\", \"53\", \"54\", \"55\", \"56\", \"57\", \"58\", \"59\", \"60\", \"61\", \"62\", \"63\", \"64\", \"67\", \"68\"], \"mode\": \"markers\", \"name\": \"r2_score\", \"stepped\": false, \"type\": \"scatter\", \"data\": [0.9966160601762608, 0.9967534011982272, 0.987352274388023, 0.9866030866373746, 0.9972150157776142, 0.9931882715873398, 0.9741983120928741, 0.9971915307352476, 0.9932453133904054, 0.9893611752073556, 0.9933493512717773, 0.9900788689051563, 0.873655803462973, 0.9936386734346917, 0.9930997940465246, 0.8868694762641939, 0.9919906338748637, 0.9919597881167919, 0.8884758243087818, 0.9595964393274987, 0.9919996298687725, 0.9107534785706809, 0.9923907948413726, 0.9944094717878583, 0.9961838998942197, 0.7557078230682689, 0.8338555199980279, 0.8914330965782812, 0.9863041763317583, 0.806955336350292, 0.9461010741793053, 0.9932654098369861, 0.9938191251928906, 0.9880678030402938, 0.989118019452024, -1.0, 0.9936365688029785, 0.978138085830866, 0.9649436016792022, 0.9635449361096358, 0.995931955459315, 0.9933192880000803, 0.9414569939165424, 0.9936567258889498, 0.9907224834781162, 0.9956110211688677, 0.9721591002312767, 0.9645204449446295, 0.9796188952622501, 0.9725937161527488, 0.9962890808894703, 0.9936480819875144, 0.992323324650926, 0.9927318338773894, 0.988423418210305, 0.8772417858677333, 0.9919533660679546, 0.9738874292083106, 0.9877238928210256, 0.9796147475481835, 0.9854042321555996, 0.9905961065200604, 0.9936478778117976, 0.9952761054743965, 0.9913553477579334, 0.997729717634901, 0.9977311175404792]}, {\"categories\": [\"0\", \"1\", \"2\", \"3\", \"4\", \"5\", \"6\", \"7\", \"8\", \"9\", \"10\", \"11\", \"12\", \"13\", \"14\", \"15\", \"16\", \"17\", \"18\", \"19\", \"20\", \"21\", \"22\", \"23\", \"24\", \"25\", \"26\", \"27\", \"28\", \"29\", \"30\", \"31\", \"32\", \"33\", \"34\", \"35\", \"36\", \"37\", \"38\", \"39\", \"40\", \"41\", \"42\", \"43\", \"44\", \"45\", \"46\", \"47\", \"48\", \"49\", \"50\", \"51\", \"52\", \"53\", \"54\", \"55\", \"56\", \"57\", \"58\", \"59\", \"60\", \"61\", \"62\", \"63\", \"64\", \"67\", \"68\"], \"mode\": \"lines\", \"name\": \"r2_score_max\", \"stepped\": true, \"type\": \"scatter\", \"data\": [0.9966160601762608, 0.9967534011982272, 0.9967534011982272, 0.9967534011982272, 0.9972150157776142, 0.9972150157776142, 0.9972150157776142, 0.9972150157776142, 0.9972150157776142, 0.9972150157776142, 0.9972150157776142, 0.9972150157776142, 0.9972150157776142, 0.9972150157776142, 0.9972150157776142, 0.9972150157776142, 0.9972150157776142, 0.9972150157776142, 0.9972150157776142, 0.9972150157776142, 0.9972150157776142, 0.9972150157776142, 0.9972150157776142, 0.9972150157776142, 0.9972150157776142, 0.9972150157776142, 0.9972150157776142, 0.9972150157776142, 0.9972150157776142, 0.9972150157776142, 0.9972150157776142, 0.9972150157776142, 0.9972150157776142, 0.9972150157776142, 0.9972150157776142, 0.9972150157776142, 0.9972150157776142, 0.9972150157776142, 0.9972150157776142, 0.9972150157776142, 0.9972150157776142, 0.9972150157776142, 0.9972150157776142, 0.9972150157776142, 0.9972150157776142, 0.9972150157776142, 0.9972150157776142, 0.9972150157776142, 0.9972150157776142, 0.9972150157776142, 0.9972150157776142, 0.9972150157776142, 0.9972150157776142, 0.9972150157776142, 0.9972150157776142, 0.9972150157776142, 0.9972150157776142, 0.9972150157776142, 0.9972150157776142, 0.9972150157776142, 0.9972150157776142, 0.9972150157776142, 0.9972150157776142, 0.9972150157776142, 0.9972150157776142, 0.997729717634901, 0.9977311175404792]}], \"spearman_correlation\": [{\"categories\": [\"0\", \"1\", \"2\", \"3\", \"4\", \"5\", \"6\", \"7\", \"8\", \"9\", \"10\", \"11\", \"12\", \"13\", \"14\", \"15\", \"16\", \"17\", \"18\", \"19\", \"20\", \"21\", \"22\", \"23\", \"24\", \"25\", \"26\", \"27\", \"28\", \"29\", \"30\", \"31\", \"32\", \"33\", \"34\", \"35\", \"36\", \"37\", \"38\", \"39\", \"40\", \"41\", \"42\", \"43\", \"44\", \"45\", \"46\", \"47\", \"48\", \"49\", \"50\", \"51\", \"52\", \"53\", \"54\", \"55\", \"56\", \"57\", \"58\", \"59\", \"60\", \"61\", \"62\", \"63\", \"64\", \"67\", \"68\"], \"mode\": \"markers\", \"name\": \"spearman_correlation\", \"stepped\": false, \"type\": \"scatter\", \"data\": [0.9985273044969594, 0.998320293596783, 0.9928513600521492, 0.9970499209598841, 0.9986852481410408, 0.9979401651210561, 0.9934551210898483, 0.9986236261789788, 0.9982806526904117, 0.9977421837673948, 0.9980850502091352, 0.9973315059363425, 0.9977923762455627, 0.9981602749078698, 0.9977511463798404, 0.9777531617505802, 0.9980844179004071, 0.9976602228440316, 0.967931486366426, 0.9888676323886435, 0.9973392930137747, 0.9864912496046702, 0.9977091484699767, 0.9976297067070267, 0.9982150494231075, 0.9553521487419493, 0.9811714790491539, 0.9836457829381198, 0.997042799715925, 0.8818002393008761, 0.9975535657616968, 0.9976774320852367, 0.9970171692441431, 0.9958274825450806, 0.99760046187738, 0.8996707746580324, 0.9981555912855745, 0.992292090677012, 0.9911676955389895, 0.9870005409980181, 0.9982014338873478, 0.9979063046249981, 0.992292054128265, 0.9981684187165539, 0.9971682521245947, 0.9981644730004856, 0.9901899557006031, 0.9869247415188314, 0.9932396462229939, 0.9898856486377886, 0.9983672914541896, 0.9981624766644904, 0.9975794229044445, 0.9974862694721108, 0.9967922953052345, 0.9976490951051281, 0.9973133159839888, 0.9910710207582488, 0.9962104212404146, 0.9932339011000312, 0.9971000858798077, 0.997737981908012, 0.9981601602777873, 0.9982793523616831, 0.9976537498172472, 0.9988330621295521, 0.9988200398607628]}, {\"categories\": [\"0\", \"1\", \"2\", \"3\", \"4\", \"5\", \"6\", \"7\", \"8\", \"9\", \"10\", \"11\", \"12\", \"13\", \"14\", \"15\", \"16\", \"17\", \"18\", \"19\", \"20\", \"21\", \"22\", \"23\", \"24\", \"25\", \"26\", \"27\", \"28\", \"29\", \"30\", \"31\", \"32\", \"33\", \"34\", \"35\", \"36\", \"37\", \"38\", \"39\", \"40\", \"41\", \"42\", \"43\", \"44\", \"45\", \"46\", \"47\", \"48\", \"49\", \"50\", \"51\", \"52\", \"53\", \"54\", \"55\", \"56\", \"57\", \"58\", \"59\", \"60\", \"61\", \"62\", \"63\", \"64\", \"67\", \"68\"], \"mode\": \"lines\", \"name\": \"spearman_correlation_max\", \"stepped\": true, \"type\": \"scatter\", \"data\": [0.9985273044969594, 0.9985273044969594, 0.9985273044969594, 0.9985273044969594, 0.9986852481410408, 0.9986852481410408, 0.9986852481410408, 0.9986852481410408, 0.9986852481410408, 0.9986852481410408, 0.9986852481410408, 0.9986852481410408, 0.9986852481410408, 0.9986852481410408, 0.9986852481410408, 0.9986852481410408, 0.9986852481410408, 0.9986852481410408, 0.9986852481410408, 0.9986852481410408, 0.9986852481410408, 0.9986852481410408, 0.9986852481410408, 0.9986852481410408, 0.9986852481410408, 0.9986852481410408, 0.9986852481410408, 0.9986852481410408, 0.9986852481410408, 0.9986852481410408, 0.9986852481410408, 0.9986852481410408, 0.9986852481410408, 0.9986852481410408, 0.9986852481410408, 0.9986852481410408, 0.9986852481410408, 0.9986852481410408, 0.9986852481410408, 0.9986852481410408, 0.9986852481410408, 0.9986852481410408, 0.9986852481410408, 0.9986852481410408, 0.9986852481410408, 0.9986852481410408, 0.9986852481410408, 0.9986852481410408, 0.9986852481410408, 0.9986852481410408, 0.9986852481410408, 0.9986852481410408, 0.9986852481410408, 0.9986852481410408, 0.9986852481410408, 0.9986852481410408, 0.9986852481410408, 0.9986852481410408, 0.9986852481410408, 0.9986852481410408, 0.9986852481410408, 0.9986852481410408, 0.9986852481410408, 0.9986852481410408, 0.9986852481410408, 0.9988330621295521, 0.9988330621295521]}], \"normalized_mean_absolute_error\": [{\"categories\": [\"0\", \"1\", \"2\", \"3\", \"4\", \"5\", \"6\", \"7\", \"8\", \"9\", \"10\", \"11\", \"12\", \"13\", \"14\", \"15\", \"16\", \"17\", \"18\", \"19\", \"20\", \"21\", \"22\", \"23\", \"24\", \"25\", \"26\", \"27\", \"28\", \"29\", \"30\", \"31\", \"32\", \"33\", \"34\", \"35\", \"36\", \"37\", \"38\", \"39\", \"40\", \"41\", \"42\", \"43\", \"44\", \"45\", \"46\", \"47\", \"48\", \"49\", \"50\", \"51\", \"52\", \"53\", \"54\", \"55\", \"56\", \"57\", \"58\", \"59\", \"60\", \"61\", \"62\", \"63\", \"64\", \"67\", \"68\"], \"mode\": \"markers\", \"name\": \"normalized_mean_absolute_error\", \"stepped\": false, \"type\": \"scatter\", \"data\": [0.00505951708448682, 0.005591164553510125, 0.007960805515879162, 0.007619636117833089, 0.0048435548237906875, 0.007466784463846794, 0.01114196645926644, 0.005011571040360484, 0.005826694552301522, 0.009378324604690376, 0.005989248002487583, 0.007238308210711929, 0.04212593978355036, 0.00714175225375498, 0.0064520820532719715, 0.02630112760250144, 0.006203939709165316, 0.00795020996306924, 0.027355116814159485, 0.015860460863460827, 0.007645832484063714, 0.021561364504450262, 0.007789352160513604, 0.0064940727522678765, 0.005814040188930929, 0.05026903866709027, 0.04441564334178031, 0.025283493657021063, 0.00784905074126231, 0.04259218975673142, 0.02008034591395021, 0.006630045791975128, 0.007242689369438909, 0.0075190777371142775, 0.006978200428063058, 0.2011618094353372, 0.007111580721774091, 0.012063970904955862, 0.014107330246308345, 0.015816465588804094, 0.0059125574524866555, 0.006329659666597533, 0.0177686682219844, 0.007117192837069297, 0.007115951137054694, 0.005957112089763034, 0.013513313234940276, 0.015830280230836085, 0.011552646345069037, 0.013924576345083739, 0.005527374138756675, 0.007113430020558281, 0.0065852396500869015, 0.006605558658711785, 0.007444388005477914, 0.04171474683119287, 0.007663305752789958, 0.013448053793563038, 0.008359454005294906, 0.011553560410225608, 0.009682620259495183, 0.008591948373986831, 0.00712323739410009, 0.005715887792720598, 0.008206855861281946, 0.004584164072333047, 0.004603998113718252]}, {\"categories\": [\"0\", \"1\", \"2\", \"3\", \"4\", \"5\", \"6\", \"7\", \"8\", \"9\", \"10\", \"11\", \"12\", \"13\", \"14\", \"15\", \"16\", \"17\", \"18\", \"19\", \"20\", \"21\", \"22\", \"23\", \"24\", \"25\", \"26\", \"27\", \"28\", \"29\", \"30\", \"31\", \"32\", \"33\", \"34\", \"35\", \"36\", \"37\", \"38\", \"39\", \"40\", \"41\", \"42\", \"43\", \"44\", \"45\", \"46\", \"47\", \"48\", \"49\", \"50\", \"51\", \"52\", \"53\", \"54\", \"55\", \"56\", \"57\", \"58\", \"59\", \"60\", \"61\", \"62\", \"63\", \"64\", \"67\", \"68\"], \"mode\": \"lines\", \"name\": \"normalized_mean_absolute_error_min\", \"stepped\": true, \"type\": \"scatter\", \"data\": [0.00505951708448682, 0.00505951708448682, 0.00505951708448682, 0.00505951708448682, 0.0048435548237906875, 0.0048435548237906875, 0.0048435548237906875, 0.0048435548237906875, 0.0048435548237906875, 0.0048435548237906875, 0.0048435548237906875, 0.0048435548237906875, 0.0048435548237906875, 0.0048435548237906875, 0.0048435548237906875, 0.0048435548237906875, 0.0048435548237906875, 0.0048435548237906875, 0.0048435548237906875, 0.0048435548237906875, 0.0048435548237906875, 0.0048435548237906875, 0.0048435548237906875, 0.0048435548237906875, 0.0048435548237906875, 0.0048435548237906875, 0.0048435548237906875, 0.0048435548237906875, 0.0048435548237906875, 0.0048435548237906875, 0.0048435548237906875, 0.0048435548237906875, 0.0048435548237906875, 0.0048435548237906875, 0.0048435548237906875, 0.0048435548237906875, 0.0048435548237906875, 0.0048435548237906875, 0.0048435548237906875, 0.0048435548237906875, 0.0048435548237906875, 0.0048435548237906875, 0.0048435548237906875, 0.0048435548237906875, 0.0048435548237906875, 0.0048435548237906875, 0.0048435548237906875, 0.0048435548237906875, 0.0048435548237906875, 0.0048435548237906875, 0.0048435548237906875, 0.0048435548237906875, 0.0048435548237906875, 0.0048435548237906875, 0.0048435548237906875, 0.0048435548237906875, 0.0048435548237906875, 0.0048435548237906875, 0.0048435548237906875, 0.0048435548237906875, 0.0048435548237906875, 0.0048435548237906875, 0.0048435548237906875, 0.0048435548237906875, 0.0048435548237906875, 0.004584164072333047, 0.004584164072333047]}], \"explained_variance\": [{\"categories\": [\"0\", \"1\", \"2\", \"3\", \"4\", \"5\", \"6\", \"7\", \"8\", \"9\", \"10\", \"11\", \"12\", \"13\", \"14\", \"15\", \"16\", \"17\", \"18\", \"19\", \"20\", \"21\", \"22\", \"23\", \"24\", \"25\", \"26\", \"27\", \"28\", \"29\", \"30\", \"31\", \"32\", \"33\", \"34\", \"35\", \"36\", \"37\", \"38\", \"39\", \"40\", \"41\", \"42\", \"43\", \"44\", \"45\", \"46\", \"47\", \"48\", \"49\", \"50\", \"51\", \"52\", \"53\", \"54\", \"55\", \"56\", \"57\", \"58\", \"59\", \"60\", \"61\", \"62\", \"63\", \"64\", \"67\", \"68\"], \"mode\": \"markers\", \"name\": \"explained_variance\", \"stepped\": false, \"type\": \"scatter\", \"data\": [0.9966171363593362, 0.9967549438053497, 0.9873536464579997, 0.9866050925428066, 0.997215877640406, 0.9931920683266023, 0.974205533908882, 0.9971928102212142, 0.9932458962565606, 0.9893694333855096, 0.9933501663893934, 0.9900801533679937, 0.9854026533015983, 0.9936430638150565, 0.9931013332165337, 0.8868887366644439, 0.9919909771574096, 0.9919652535425723, 0.8885011087685987, 0.959608074531871, 0.9920068032530981, 0.9108205581917496, 0.9923954706271516, 0.9944103055112573, 0.9961850156103661, 0.8647927558777581, 0.9424928984562883, 0.891500745341827, 0.9863074335177217, 0.8069699982451691, 0.9461242434909041, 0.9932664591422272, 0.9938198312194061, 0.9880744019555276, 0.9891193521394991, 0.7257190756213227, 0.9936411745693419, 0.9781415883952994, 0.9649566383300586, 0.9635535107169555, 0.9959321658379906, 0.9933210430702988, 0.9415053296878445, 0.9936612204629055, 0.9907234474178556, 0.9956122560506584, 0.9721619836941864, 0.9645311893313705, 0.9796201752997341, 0.9725973621938596, 0.996289563989737, 0.9936525865383184, 0.9923238271566944, 0.9927324890593342, 0.9884273209040139, 0.9866511677454822, 0.9919605327729247, 0.973891122566879, 0.9877243414393284, 0.9796159808082107, 0.9859495968146321, 0.9906049143269215, 0.9936520837853761, 0.9952770730740972, 0.9913620162349789, 0.9977307521508073, 0.9977334964046801]}, {\"categories\": [\"0\", \"1\", \"2\", \"3\", \"4\", \"5\", \"6\", \"7\", \"8\", \"9\", \"10\", \"11\", \"12\", \"13\", \"14\", \"15\", \"16\", \"17\", \"18\", \"19\", \"20\", \"21\", \"22\", \"23\", \"24\", \"25\", \"26\", \"27\", \"28\", \"29\", \"30\", \"31\", \"32\", \"33\", \"34\", \"35\", \"36\", \"37\", \"38\", \"39\", \"40\", \"41\", \"42\", \"43\", \"44\", \"45\", \"46\", \"47\", \"48\", \"49\", \"50\", \"51\", \"52\", \"53\", \"54\", \"55\", \"56\", \"57\", \"58\", \"59\", \"60\", \"61\", \"62\", \"63\", \"64\", \"67\", \"68\"], \"mode\": \"lines\", \"name\": \"explained_variance_max\", \"stepped\": true, \"type\": \"scatter\", \"data\": [0.9966171363593362, 0.9967549438053497, 0.9967549438053497, 0.9967549438053497, 0.997215877640406, 0.997215877640406, 0.997215877640406, 0.997215877640406, 0.997215877640406, 0.997215877640406, 0.997215877640406, 0.997215877640406, 0.997215877640406, 0.997215877640406, 0.997215877640406, 0.997215877640406, 0.997215877640406, 0.997215877640406, 0.997215877640406, 0.997215877640406, 0.997215877640406, 0.997215877640406, 0.997215877640406, 0.997215877640406, 0.997215877640406, 0.997215877640406, 0.997215877640406, 0.997215877640406, 0.997215877640406, 0.997215877640406, 0.997215877640406, 0.997215877640406, 0.997215877640406, 0.997215877640406, 0.997215877640406, 0.997215877640406, 0.997215877640406, 0.997215877640406, 0.997215877640406, 0.997215877640406, 0.997215877640406, 0.997215877640406, 0.997215877640406, 0.997215877640406, 0.997215877640406, 0.997215877640406, 0.997215877640406, 0.997215877640406, 0.997215877640406, 0.997215877640406, 0.997215877640406, 0.997215877640406, 0.997215877640406, 0.997215877640406, 0.997215877640406, 0.997215877640406, 0.997215877640406, 0.997215877640406, 0.997215877640406, 0.997215877640406, 0.997215877640406, 0.997215877640406, 0.997215877640406, 0.997215877640406, 0.997215877640406, 0.9977307521508073, 0.9977334964046801]}], \"normalized_root_mean_squared_log_error\": [{\"categories\": [\"0\", \"1\", \"2\", \"3\", \"4\", \"5\", \"6\", \"7\", \"8\", \"9\", \"10\", \"11\", \"12\", \"13\", \"14\", \"15\", \"16\", \"17\", \"18\", \"19\", \"20\", \"21\", \"22\", \"23\", \"24\", \"25\", \"26\", \"27\", \"28\", \"29\", \"30\", \"31\", \"32\", \"33\", \"34\", \"35\", \"36\", \"37\", \"38\", \"39\", \"40\", \"41\", \"42\", \"43\", \"44\", \"45\", \"46\", \"47\", \"48\", \"49\", \"50\", \"51\", \"52\", \"53\", \"54\", \"55\", \"56\", \"57\", \"58\", \"59\", \"60\", \"61\", \"62\", \"63\", \"64\", \"67\", \"68\"], \"mode\": \"markers\", \"name\": \"normalized_root_mean_squared_log_error\", \"stepped\": false, \"type\": \"scatter\", \"data\": [0.007807139795116748, 0.007013441491418893, 0.014038330924034073, 0.016547714788566318, 0.007045563978122802, 0.01089775438379767, 0.021337755756701965, 0.006961599001010908, 0.012112826952277729, 0.011930329455480324, 0.011775055147390278, 0.014228821242829877, 0.040646907506641926, 0.011143523387679622, 0.011828521340569836, 0.04292730156834729, 0.013163902518581926, 0.011543575751708723, 0.041134454695117194, 0.026388748831376454, 0.012445990492882952, 0.03742512245202606, 0.01133634380914561, 0.009887578879216305, 0.00779749208038132, 0.05577413918799864, 0.046198732718094306, 0.04055647162608326, 0.016523028766295834, 0.054934480355243946, 0.030106261186787473, 0.011052917269105789, 0.01008651317256242, 0.014116194139983244, 0.01505651111271919, 0.21773733339276247, 0.011288622544561103, 0.019358322552820977, 0.024737556342674005, 0.02432515456394935, 0.008160182335097613, 0.011636615878051789, 0.03046059797369487, 0.011224291548369491, 0.013020964267642985, 0.008677595388662774, 0.021491746713444834, 0.023801391751261797, 0.018705561630850385, 0.02123540184220005, 0.008026547826896225, 0.01126424896472563, 0.012173191450562657, 0.011683853617870056, 0.014646449886283339, 0.04027662874579598, 0.012479471376965348, 0.020672154997810062, 0.0147629097523566, 0.01870672341054046, 0.015817975050029267, 0.012001718546819773, 0.011249981024759185, 0.009309771701127479, 0.011776434727709837, 0.006107217153694091, 0.006108246815038185]}, {\"categories\": [\"0\", \"1\", \"2\", \"3\", \"4\", \"5\", \"6\", \"7\", \"8\", \"9\", \"10\", \"11\", \"12\", \"13\", \"14\", \"15\", \"16\", \"17\", \"18\", \"19\", \"20\", \"21\", \"22\", \"23\", \"24\", \"25\", \"26\", \"27\", \"28\", \"29\", \"30\", \"31\", \"32\", \"33\", \"34\", \"35\", \"36\", \"37\", \"38\", \"39\", \"40\", \"41\", \"42\", \"43\", \"44\", \"45\", \"46\", \"47\", \"48\", \"49\", \"50\", \"51\", \"52\", \"53\", \"54\", \"55\", \"56\", \"57\", \"58\", \"59\", \"60\", \"61\", \"62\", \"63\", \"64\", \"67\", \"68\"], \"mode\": \"lines\", \"name\": \"normalized_root_mean_squared_log_error_min\", \"stepped\": true, \"type\": \"scatter\", \"data\": [0.007807139795116748, 0.007013441491418893, 0.007013441491418893, 0.007013441491418893, 0.007013441491418893, 0.007013441491418893, 0.007013441491418893, 0.006961599001010908, 0.006961599001010908, 0.006961599001010908, 0.006961599001010908, 0.006961599001010908, 0.006961599001010908, 0.006961599001010908, 0.006961599001010908, 0.006961599001010908, 0.006961599001010908, 0.006961599001010908, 0.006961599001010908, 0.006961599001010908, 0.006961599001010908, 0.006961599001010908, 0.006961599001010908, 0.006961599001010908, 0.006961599001010908, 0.006961599001010908, 0.006961599001010908, 0.006961599001010908, 0.006961599001010908, 0.006961599001010908, 0.006961599001010908, 0.006961599001010908, 0.006961599001010908, 0.006961599001010908, 0.006961599001010908, 0.006961599001010908, 0.006961599001010908, 0.006961599001010908, 0.006961599001010908, 0.006961599001010908, 0.006961599001010908, 0.006961599001010908, 0.006961599001010908, 0.006961599001010908, 0.006961599001010908, 0.006961599001010908, 0.006961599001010908, 0.006961599001010908, 0.006961599001010908, 0.006961599001010908, 0.006961599001010908, 0.006961599001010908, 0.006961599001010908, 0.006961599001010908, 0.006961599001010908, 0.006961599001010908, 0.006961599001010908, 0.006961599001010908, 0.006961599001010908, 0.006961599001010908, 0.006961599001010908, 0.006961599001010908, 0.006961599001010908, 0.006961599001010908, 0.006961599001010908, 0.006107217153694091, 0.006107217153694091]}], \"normalized_median_absolute_error\": [{\"categories\": [\"0\", \"1\", \"2\", \"3\", \"4\", \"5\", \"6\", \"7\", \"8\", \"9\", \"10\", \"11\", \"12\", \"13\", \"14\", \"15\", \"16\", \"17\", \"18\", \"19\", \"20\", \"21\", \"22\", \"23\", \"24\", \"25\", \"26\", \"27\", \"28\", \"29\", \"30\", \"31\", \"32\", \"33\", \"34\", \"35\", \"36\", \"37\", \"38\", \"39\", \"40\", \"41\", \"42\", \"43\", \"44\", \"45\", \"46\", \"47\", \"48\", \"49\", \"50\", \"51\", \"52\", \"53\", \"54\", \"55\", \"56\", \"57\", \"58\", \"59\", \"60\", \"61\", \"62\", \"63\", \"64\", \"67\", \"68\"], \"mode\": \"markers\", \"name\": \"normalized_median_absolute_error\", \"stepped\": false, \"type\": \"scatter\", \"data\": [0.004161165737786379, 0.00466274966796236, 0.005352108428875607, 0.005012135467074724, 0.00404937316974006, 0.005587688602086578, 0.0068779122334226605, 0.0042591206729412105, 0.0043923929208896624, 0.007021934667423233, 0.004497600591752196, 0.005186433988351435, 0.041462072481711715, 0.005350778935370853, 0.004816851781517968, 0.016299430040121847, 0.0045749982948199595, 0.00585452716052412, 0.018050681007271394, 0.010794108319467874, 0.005573822625803161, 0.011430391776602484, 0.005752711863195824, 0.005171559126544527, 0.00480994457999868, 0.044576436281204224, 0.041319821029901484, 0.014462303490223906, 0.005161373216293018, 0.034849905719359704, 0.014255182082214464, 0.00513962710375344, 0.00592720260222751, 0.0006250000000000236, 0.004826388888886819, 0.20629575351874033, 0.005332486822164859, 0.008788710893787369, 0.009193760473990125, 0.011634414667465223, 0.004945337772369399, 0.004810475631288544, 0.010020192535882428, 0.005344186197257285, 0.005057212300441777, 0.004851200928290671, 0.009879384736690469, 0.011604470966733125, 0.008427977517651586, 0.01015533175202176, 0.004595808684825914, 0.005338689700876455, 0.004895202206601386, 0.0048634879396908595, 0.005175182525149526, 0.041369127730528504, 0.005582140745076583, 0.009880937423856437, 0.00582604671966092, 0.008427977517651841, 0.006972286850213984, 0.0062672132337030645, 0.0053503798282626, 0.00460365195906684, 0.0060275693819611285, 0.003992395199499665, 0.00401543371274143]}, {\"categories\": [\"0\", \"1\", \"2\", \"3\", \"4\", \"5\", \"6\", \"7\", \"8\", \"9\", \"10\", \"11\", \"12\", \"13\", \"14\", \"15\", \"16\", \"17\", \"18\", \"19\", \"20\", \"21\", \"22\", \"23\", \"24\", \"25\", \"26\", \"27\", \"28\", \"29\", \"30\", \"31\", \"32\", \"33\", \"34\", \"35\", \"36\", \"37\", \"38\", \"39\", \"40\", \"41\", \"42\", \"43\", \"44\", \"45\", \"46\", \"47\", \"48\", \"49\", \"50\", \"51\", \"52\", \"53\", \"54\", \"55\", \"56\", \"57\", \"58\", \"59\", \"60\", \"61\", \"62\", \"63\", \"64\", \"67\", \"68\"], \"mode\": \"lines\", \"name\": \"normalized_median_absolute_error_min\", \"stepped\": true, \"type\": \"scatter\", \"data\": [0.004161165737786379, 0.004161165737786379, 0.004161165737786379, 0.004161165737786379, 0.00404937316974006, 0.00404937316974006, 0.00404937316974006, 0.00404937316974006, 0.00404937316974006, 0.00404937316974006, 0.00404937316974006, 0.00404937316974006, 0.00404937316974006, 0.00404937316974006, 0.00404937316974006, 0.00404937316974006, 0.00404937316974006, 0.00404937316974006, 0.00404937316974006, 0.00404937316974006, 0.00404937316974006, 0.00404937316974006, 0.00404937316974006, 0.00404937316974006, 0.00404937316974006, 0.00404937316974006, 0.00404937316974006, 0.00404937316974006, 0.00404937316974006, 0.00404937316974006, 0.00404937316974006, 0.00404937316974006, 0.00404937316974006, 0.0006250000000000236, 0.0006250000000000236, 0.0006250000000000236, 0.0006250000000000236, 0.0006250000000000236, 0.0006250000000000236, 0.0006250000000000236, 0.0006250000000000236, 0.0006250000000000236, 0.0006250000000000236, 0.0006250000000000236, 0.0006250000000000236, 0.0006250000000000236, 0.0006250000000000236, 0.0006250000000000236, 0.0006250000000000236, 0.0006250000000000236, 0.0006250000000000236, 0.0006250000000000236, 0.0006250000000000236, 0.0006250000000000236, 0.0006250000000000236, 0.0006250000000000236, 0.0006250000000000236, 0.0006250000000000236, 0.0006250000000000236, 0.0006250000000000236, 0.0006250000000000236, 0.0006250000000000236, 0.0006250000000000236, 0.0006250000000000236, 0.0006250000000000236, 0.0006250000000000236, 0.0006250000000000236]}], \"mean_absolute_error\": [{\"categories\": [\"0\", \"1\", \"2\", \"3\", \"4\", \"5\", \"6\", \"7\", \"8\", \"9\", \"10\", \"11\", \"12\", \"13\", \"14\", \"15\", \"16\", \"17\", \"18\", \"19\", \"20\", \"21\", \"22\", \"23\", \"24\", \"25\", \"26\", \"27\", \"28\", \"29\", \"30\", \"31\", \"32\", \"33\", \"34\", \"35\", \"36\", \"37\", \"38\", \"39\", \"40\", \"41\", \"42\", \"43\", \"44\", \"45\", \"46\", \"47\", \"48\", \"49\", \"50\", \"51\", \"52\", \"53\", \"54\", \"55\", \"56\", \"57\", \"58\", \"59\", \"60\", \"61\", \"62\", \"63\", \"64\", \"67\", \"68\"], \"mode\": \"markers\", \"name\": \"mean_absolute_error\", \"stepped\": false, \"type\": \"scatter\", \"data\": [0.03238090934071565, 0.035783453142464804, 0.050949155301626636, 0.04876567115413177, 0.030998750872260405, 0.047787420568619475, 0.07130858533930522, 0.0320740546583071, 0.03729084513472974, 0.06002127747001842, 0.038331187215920534, 0.04632517254855636, 0.2696060146147223, 0.04570721442403188, 0.04129332514094062, 0.16832721665600922, 0.03970521413865803, 0.050881343763643144, 0.17507274761062072, 0.1015069495261493, 0.04893332789800776, 0.1379927328284817, 0.04985185382728707, 0.04156206561451442, 0.03720985720915795, 0.32172184746937776, 0.28426011738739404, 0.1618143594049348, 0.050233924744078784, 0.2725900144430811, 0.12851421384928133, 0.042432293068640825, 0.04635321196440902, 0.048122097517531374, 0.04466048273960357, 1.2874355803861581, 0.04551411661935418, 0.07720941379171753, 0.09028691357637342, 0.10122537976834621, 0.0378403676959146, 0.04050982186622421, 0.11371947662070019, 0.045550034157243506, 0.04554208727715004, 0.03812551737448342, 0.08648520470361777, 0.10131379347735096, 0.07393693660844185, 0.08911728860853595, 0.03537519448804272, 0.04552595213157301, 0.04214553376055618, 0.04227557541575542, 0.047644083235058664, 0.2669743797196344, 0.04904515681785573, 0.08606754427880346, 0.0535005056338874, 0.0739427866254439, 0.061968769660769175, 0.05498846959351572, 0.045588719322240574, 0.03658168187341183, 0.05252387751220445, 0.029338650062931498, 0.029465587927796813]}, {\"categories\": [\"0\", \"1\", \"2\", \"3\", \"4\", \"5\", \"6\", \"7\", \"8\", \"9\", \"10\", \"11\", \"12\", \"13\", \"14\", \"15\", \"16\", \"17\", \"18\", \"19\", \"20\", \"21\", \"22\", \"23\", \"24\", \"25\", \"26\", \"27\", \"28\", \"29\", \"30\", \"31\", \"32\", \"33\", \"34\", \"35\", \"36\", \"37\", \"38\", \"39\", \"40\", \"41\", \"42\", \"43\", \"44\", \"45\", \"46\", \"47\", \"48\", \"49\", \"50\", \"51\", \"52\", \"53\", \"54\", \"55\", \"56\", \"57\", \"58\", \"59\", \"60\", \"61\", \"62\", \"63\", \"64\", \"67\", \"68\"], \"mode\": \"lines\", \"name\": \"mean_absolute_error_min\", \"stepped\": true, \"type\": \"scatter\", \"data\": [0.03238090934071565, 0.03238090934071565, 0.03238090934071565, 0.03238090934071565, 0.030998750872260405, 0.030998750872260405, 0.030998750872260405, 0.030998750872260405, 0.030998750872260405, 0.030998750872260405, 0.030998750872260405, 0.030998750872260405, 0.030998750872260405, 0.030998750872260405, 0.030998750872260405, 0.030998750872260405, 0.030998750872260405, 0.030998750872260405, 0.030998750872260405, 0.030998750872260405, 0.030998750872260405, 0.030998750872260405, 0.030998750872260405, 0.030998750872260405, 0.030998750872260405, 0.030998750872260405, 0.030998750872260405, 0.030998750872260405, 0.030998750872260405, 0.030998750872260405, 0.030998750872260405, 0.030998750872260405, 0.030998750872260405, 0.030998750872260405, 0.030998750872260405, 0.030998750872260405, 0.030998750872260405, 0.030998750872260405, 0.030998750872260405, 0.030998750872260405, 0.030998750872260405, 0.030998750872260405, 0.030998750872260405, 0.030998750872260405, 0.030998750872260405, 0.030998750872260405, 0.030998750872260405, 0.030998750872260405, 0.030998750872260405, 0.030998750872260405, 0.030998750872260405, 0.030998750872260405, 0.030998750872260405, 0.030998750872260405, 0.030998750872260405, 0.030998750872260405, 0.030998750872260405, 0.030998750872260405, 0.030998750872260405, 0.030998750872260405, 0.030998750872260405, 0.030998750872260405, 0.030998750872260405, 0.030998750872260405, 0.030998750872260405, 0.029338650062931498, 0.029338650062931498]}], \"root_mean_squared_log_error\": [{\"categories\": [\"0\", \"1\", \"2\", \"3\", \"4\", \"5\", \"6\", \"7\", \"8\", \"9\", \"10\", \"11\", \"12\", \"13\", \"14\", \"15\", \"16\", \"17\", \"18\", \"19\", \"20\", \"21\", \"22\", \"23\", \"24\", \"25\", \"26\", \"27\", \"28\", \"29\", \"30\", \"31\", \"32\", \"33\", \"34\", \"35\", \"36\", \"37\", \"38\", \"39\", \"40\", \"41\", \"42\", \"43\", \"44\", \"45\", \"46\", \"47\", \"48\", \"49\", \"50\", \"51\", \"52\", \"53\", \"54\", \"55\", \"56\", \"57\", \"58\", \"59\", \"60\", \"61\", \"62\", \"63\", \"64\", \"67\", \"68\"], \"mode\": \"markers\", \"name\": \"root_mean_squared_log_error\", \"stepped\": false, \"type\": \"scatter\", \"data\": [0.01038672732394432, 0.0093307800661351, 0.018676790632395322, 0.022015309813043893, 0.009373516269036092, 0.014498523940691468, 0.02838804691167597, 0.009261808096144407, 0.01611507337861764, 0.01587227617166578, 0.01566569707344671, 0.018930221600855862, 0.054077210849631234, 0.014825498440315, 0.0157368292401786, 0.05711107881301658, 0.017513438924843753, 0.015357733667237491, 0.05472585040741342, 0.03510795832079278, 0.016558318784920062, 0.04979090322137727, 0.015082029409762726, 0.013154572405203737, 0.010373891870130776, 0.07420269018825683, 0.06146343629644906, 0.05395689369683077, 0.02198246718581226, 0.0730855964036138, 0.040053788441985184, 0.01470495480049238, 0.013419237354800271, 0.018780380937405014, 0.020031391710901608, 0.2896807754880942, 0.01501854037590386, 0.025754581457716346, 0.032911188877747244, 0.032362523817823265, 0.010856420027388363, 0.015481515544835636, 0.04052520302953384, 0.014932953524194362, 0.01732327188856333, 0.01154479354730307, 0.028592918621420663, 0.03166570249009317, 0.024886139251970796, 0.028251873840824244, 0.01067863081979336, 0.014986113426431559, 0.01619538314636695, 0.015544361290623187, 0.01948584055428271, 0.05358458683831784, 0.01660286221857882, 0.02750252240838157, 0.019640780379216117, 0.024887684899822387, 0.021044453919522987, 0.015967253211286725, 0.014967131160736948, 0.012385849702379813, 0.01566753248628378, 0.008125126608237875, 0.008126496484005154]}, {\"categories\": [\"0\", \"1\", \"2\", \"3\", \"4\", \"5\", \"6\", \"7\", \"8\", \"9\", \"10\", \"11\", \"12\", \"13\", \"14\", \"15\", \"16\", \"17\", \"18\", \"19\", \"20\", \"21\", \"22\", \"23\", \"24\", \"25\", \"26\", \"27\", \"28\", \"29\", \"30\", \"31\", \"32\", \"33\", \"34\", \"35\", \"36\", \"37\", \"38\", \"39\", \"40\", \"41\", \"42\", \"43\", \"44\", \"45\", \"46\", \"47\", \"48\", \"49\", \"50\", \"51\", \"52\", \"53\", \"54\", \"55\", \"56\", \"57\", \"58\", \"59\", \"60\", \"61\", \"62\", \"63\", \"64\", \"67\", \"68\"], \"mode\": \"lines\", \"name\": \"root_mean_squared_log_error_min\", \"stepped\": true, \"type\": \"scatter\", \"data\": [0.01038672732394432, 0.0093307800661351, 0.0093307800661351, 0.0093307800661351, 0.0093307800661351, 0.0093307800661351, 0.0093307800661351, 0.009261808096144407, 0.009261808096144407, 0.009261808096144407, 0.009261808096144407, 0.009261808096144407, 0.009261808096144407, 0.009261808096144407, 0.009261808096144407, 0.009261808096144407, 0.009261808096144407, 0.009261808096144407, 0.009261808096144407, 0.009261808096144407, 0.009261808096144407, 0.009261808096144407, 0.009261808096144407, 0.009261808096144407, 0.009261808096144407, 0.009261808096144407, 0.009261808096144407, 0.009261808096144407, 0.009261808096144407, 0.009261808096144407, 0.009261808096144407, 0.009261808096144407, 0.009261808096144407, 0.009261808096144407, 0.009261808096144407, 0.009261808096144407, 0.009261808096144407, 0.009261808096144407, 0.009261808096144407, 0.009261808096144407, 0.009261808096144407, 0.009261808096144407, 0.009261808096144407, 0.009261808096144407, 0.009261808096144407, 0.009261808096144407, 0.009261808096144407, 0.009261808096144407, 0.009261808096144407, 0.009261808096144407, 0.009261808096144407, 0.009261808096144407, 0.009261808096144407, 0.009261808096144407, 0.009261808096144407, 0.009261808096144407, 0.009261808096144407, 0.009261808096144407, 0.009261808096144407, 0.009261808096144407, 0.009261808096144407, 0.009261808096144407, 0.009261808096144407, 0.009261808096144407, 0.009261808096144407, 0.008125126608237875, 0.008125126608237875]}], \"mean_absolute_percentage_error\": [{\"categories\": [\"0\", \"1\", \"2\", \"3\", \"4\", \"5\", \"6\", \"7\", \"8\", \"9\", \"10\", \"11\", \"12\", \"13\", \"14\", \"15\", \"16\", \"17\", \"18\", \"19\", \"20\", \"21\", \"22\", \"23\", \"24\", \"25\", \"26\", \"27\", \"28\", \"29\", \"30\", \"31\", \"32\", \"33\", \"34\", \"35\", \"36\", \"37\", \"38\", \"39\", \"40\", \"41\", \"42\", \"43\", \"44\", \"45\", \"46\", \"47\", \"48\", \"49\", \"50\", \"51\", \"52\", \"53\", \"54\", \"55\", \"56\", \"57\", \"58\", \"59\", \"60\", \"61\", \"62\", \"63\", \"64\", \"67\", \"68\"], \"mode\": \"markers\", \"name\": \"mean_absolute_percentage_error\", \"stepped\": false, \"type\": \"scatter\", \"data\": [0.8353535196011904, 0.896970789045365, 1.2832166592057117, 1.3333775710954756, 0.794930573845436, 1.2158760781563498, 1.909096487969446, 0.8161793526635813, 1.0050988400798844, 1.4485251004184236, 1.0219346747180553, 1.2439336870329225, 6.35190725211654, 1.1908336372315407, 1.0961730501188072, 4.51366979801356, 1.0788794160738306, 1.2819031100214386, 4.555846244451207, 2.6917795429269007, 1.2898643440398159, 3.6524125844627093, 1.2608735457573175, 1.0647433181284198, 0.93641771339682, 7.434190727237534, 6.614700433677428, 4.242260608353713, 1.3626805230745473, 7.055435736416392, 3.3785061839800057, 1.1040527810220484, 1.1699028225724328, 1.2577270532043172, 1.217979981209459, 30.205370273036014, 1.1940981231010876, 2.0224051811157735, 2.404126748513169, 2.6366365848953843, 0.9607319675795508, 1.071787452497857, 2.9858960912551, 1.1916751952153373, 1.2003907339680133, 0.974141743225982, 2.2560697662244653, 2.627600642832285, 1.937239154289743, 2.312361806429137, 0.9029734814869769, 1.1931054534305126, 1.1119869464339462, 1.108944619588609, 1.2661975896695907, 6.30082442752087, 1.2929107888725218, 2.2318755707781897, 1.408083501191948, 1.9373607285797325, 1.5730914641134923, 1.3638269378156511, 1.1933573276674916, 0.9459030186264155, 1.314329664818336, 0.7414608495260645, 0.7449557651663016]}, {\"categories\": [\"0\", \"1\", \"2\", \"3\", \"4\", \"5\", \"6\", \"7\", \"8\", \"9\", \"10\", \"11\", \"12\", \"13\", \"14\", \"15\", \"16\", \"17\", \"18\", \"19\", \"20\", \"21\", \"22\", \"23\", \"24\", \"25\", \"26\", \"27\", \"28\", \"29\", \"30\", \"31\", \"32\", \"33\", \"34\", \"35\", \"36\", \"37\", \"38\", \"39\", \"40\", \"41\", \"42\", \"43\", \"44\", \"45\", \"46\", \"47\", \"48\", \"49\", \"50\", \"51\", \"52\", \"53\", \"54\", \"55\", \"56\", \"57\", \"58\", \"59\", \"60\", \"61\", \"62\", \"63\", \"64\", \"67\", \"68\"], \"mode\": \"lines\", \"name\": \"mean_absolute_percentage_error_min\", \"stepped\": true, \"type\": \"scatter\", \"data\": [0.8353535196011904, 0.8353535196011904, 0.8353535196011904, 0.8353535196011904, 0.794930573845436, 0.794930573845436, 0.794930573845436, 0.794930573845436, 0.794930573845436, 0.794930573845436, 0.794930573845436, 0.794930573845436, 0.794930573845436, 0.794930573845436, 0.794930573845436, 0.794930573845436, 0.794930573845436, 0.794930573845436, 0.794930573845436, 0.794930573845436, 0.794930573845436, 0.794930573845436, 0.794930573845436, 0.794930573845436, 0.794930573845436, 0.794930573845436, 0.794930573845436, 0.794930573845436, 0.794930573845436, 0.794930573845436, 0.794930573845436, 0.794930573845436, 0.794930573845436, 0.794930573845436, 0.794930573845436, 0.794930573845436, 0.794930573845436, 0.794930573845436, 0.794930573845436, 0.794930573845436, 0.794930573845436, 0.794930573845436, 0.794930573845436, 0.794930573845436, 0.794930573845436, 0.794930573845436, 0.794930573845436, 0.794930573845436, 0.794930573845436, 0.794930573845436, 0.794930573845436, 0.794930573845436, 0.794930573845436, 0.794930573845436, 0.794930573845436, 0.794930573845436, 0.794930573845436, 0.794930573845436, 0.794930573845436, 0.794930573845436, 0.794930573845436, 0.794930573845436, 0.794930573845436, 0.794930573845436, 0.794930573845436, 0.7414608495260645, 0.7414608495260645]}], \"root_mean_squared_error\": [{\"categories\": [\"0\", \"1\", \"2\", \"3\", \"4\", \"5\", \"6\", \"7\", \"8\", \"9\", \"10\", \"11\", \"12\", \"13\", \"14\", \"15\", \"16\", \"17\", \"18\", \"19\", \"20\", \"21\", \"22\", \"23\", \"24\", \"25\", \"26\", \"27\", \"28\", \"29\", \"30\", \"31\", \"32\", \"33\", \"34\", \"35\", \"36\", \"37\", \"38\", \"39\", \"40\", \"41\", \"42\", \"43\", \"44\", \"45\", \"46\", \"47\", \"48\", \"49\", \"50\", \"51\", \"52\", \"53\", \"54\", \"55\", \"56\", \"57\", \"58\", \"59\", \"60\", \"61\", \"62\", \"63\", \"64\", \"67\", \"68\"], \"mode\": \"markers\", \"name\": \"root_mean_squared_error\", \"stepped\": false, \"type\": \"scatter\", \"data\": [0.04676762225363066, 0.045771126733714314, 0.09033535088024554, 0.09302552295274187, 0.0424178508269513, 0.06633400960569001, 0.12911505083905997, 0.042561711707290416, 0.0660495559492371, 0.08291682782237937, 0.0655424485510107, 0.08004729573502382, 0.28573640209208184, 0.06411706807473555, 0.06676828439438992, 0.26958280555919745, 0.07192529847730121, 0.07206610681565483, 0.26844318156278263, 0.16157880587943438, 0.07187550689253845, 0.24015087898074014, 0.0701045070885868, 0.0600958679254515, 0.04965038726740306, 0.3973248940972096, 0.32768204743536067, 0.2635541691131947, 0.0940673470863038, 0.353160991803617, 0.18663072418238144, 0.06596403859706403, 0.06318557866867809, 0.08781436602859277, 0.0838327113643299, 1.3530780006579615, 0.06413013627882676, 0.1188497817889753, 0.15048994417554615, 0.1534514913846158, 0.05127446992138832, 0.06569402018554484, 0.19451557974719358, 0.06402598903949125, 0.07739728066894398, 0.05326120520993377, 0.13410965870912403, 0.15132412949212626, 0.11475508161351344, 0.13307014260655722, 0.048948473668621185, 0.06407062991200797, 0.07041953295309805, 0.06851320579185549, 0.08649955974057166, 0.2816470108991857, 0.07208668090901958, 0.1298706783903992, 0.0890483384421666, 0.1147655978406165, 0.09711825242299799, 0.07795375288650544, 0.0640701426815047, 0.05525732573888662, 0.07473204903572628, 0.03829207294103887, 0.03827603179536313]}, {\"categories\": [\"0\", \"1\", \"2\", \"3\", \"4\", \"5\", \"6\", \"7\", \"8\", \"9\", \"10\", \"11\", \"12\", \"13\", \"14\", \"15\", \"16\", \"17\", \"18\", \"19\", \"20\", \"21\", \"22\", \"23\", \"24\", \"25\", \"26\", \"27\", \"28\", \"29\", \"30\", \"31\", \"32\", \"33\", \"34\", \"35\", \"36\", \"37\", \"38\", \"39\", \"40\", \"41\", \"42\", \"43\", \"44\", \"45\", \"46\", \"47\", \"48\", \"49\", \"50\", \"51\", \"52\", \"53\", \"54\", \"55\", \"56\", \"57\", \"58\", \"59\", \"60\", \"61\", \"62\", \"63\", \"64\", \"67\", \"68\"], \"mode\": \"lines\", \"name\": \"root_mean_squared_error_min\", \"stepped\": true, \"type\": \"scatter\", \"data\": [0.04676762225363066, 0.045771126733714314, 0.045771126733714314, 0.045771126733714314, 0.0424178508269513, 0.0424178508269513, 0.0424178508269513, 0.0424178508269513, 0.0424178508269513, 0.0424178508269513, 0.0424178508269513, 0.0424178508269513, 0.0424178508269513, 0.0424178508269513, 0.0424178508269513, 0.0424178508269513, 0.0424178508269513, 0.0424178508269513, 0.0424178508269513, 0.0424178508269513, 0.0424178508269513, 0.0424178508269513, 0.0424178508269513, 0.0424178508269513, 0.0424178508269513, 0.0424178508269513, 0.0424178508269513, 0.0424178508269513, 0.0424178508269513, 0.0424178508269513, 0.0424178508269513, 0.0424178508269513, 0.0424178508269513, 0.0424178508269513, 0.0424178508269513, 0.0424178508269513, 0.0424178508269513, 0.0424178508269513, 0.0424178508269513, 0.0424178508269513, 0.0424178508269513, 0.0424178508269513, 0.0424178508269513, 0.0424178508269513, 0.0424178508269513, 0.0424178508269513, 0.0424178508269513, 0.0424178508269513, 0.0424178508269513, 0.0424178508269513, 0.0424178508269513, 0.0424178508269513, 0.0424178508269513, 0.0424178508269513, 0.0424178508269513, 0.0424178508269513, 0.0424178508269513, 0.0424178508269513, 0.0424178508269513, 0.0424178508269513, 0.0424178508269513, 0.0424178508269513, 0.0424178508269513, 0.0424178508269513, 0.0424178508269513, 0.03829207294103887, 0.03827603179536313]}], \"normalized_root_mean_squared_error\": [{\"categories\": [\"0\", \"1\", \"2\", \"3\", \"4\", \"5\", \"6\", \"7\", \"8\", \"9\", \"10\", \"11\", \"12\", \"13\", \"14\", \"15\", \"16\", \"17\", \"18\", \"19\", \"20\", \"21\", \"22\", \"23\", \"24\", \"25\", \"26\", \"27\", \"28\", \"29\", \"30\", \"31\", \"32\", \"33\", \"34\", \"35\", \"36\", \"37\", \"38\", \"39\", \"40\", \"41\", \"42\", \"43\", \"44\", \"45\", \"46\", \"47\", \"48\", \"49\", \"50\", \"51\", \"52\", \"53\", \"54\", \"55\", \"56\", \"57\", \"58\", \"59\", \"60\", \"61\", \"62\", \"63\", \"64\", \"67\", \"68\"], \"mode\": \"markers\", \"name\": \"normalized_root_mean_squared_error\", \"stepped\": false, \"type\": \"scatter\", \"data\": [0.007307440977129792, 0.007151738552142861, 0.014114898575038365, 0.014535237961365919, 0.006627789191711139, 0.010364689000889063, 0.02017422669360312, 0.006650267454264128, 0.010320243117068298, 0.012955754347246778, 0.01024100758609542, 0.012507389958597471, 0.044646312826887795, 0.010018291886677431, 0.010432544436623427, 0.0421223133686246, 0.011238327887078311, 0.011260329189946065, 0.041944247119184784, 0.025246688418661622, 0.011230547951959132, 0.03752357484074064, 0.010953829232591687, 0.009389979363351798, 0.007757873010531729, 0.062082014702689, 0.0512003199117751, 0.04118033892393666, 0.01469802298223497, 0.05518140496931515, 0.029161050653497098, 0.010306881030791254, 0.009872746666980953, 0.01372099469196762, 0.013098861150676544, 0.21141843760280646, 0.01002033379356668, 0.01857027840452739, 0.023514053777429083, 0.023976795528846222, 0.008011635925216927, 0.010264690653991382, 0.030393059335499, 0.010004060787420508, 0.012093325104522497, 0.008322063314052152, 0.020954634173300624, 0.023644395233144724, 0.017930481502111476, 0.020792209782274564, 0.007648199010722059, 0.010011035923751244, 0.01100305202392157, 0.010705188404977419, 0.013515556209464319, 0.04400734545299776, 0.011263543892034308, 0.020292293498499873, 0.013913802881588532, 0.01793212466259633, 0.015174726941093434, 0.012180273888516474, 0.010010959793985108, 0.008633957146701033, 0.011676882661832227, 0.005983136397037323, 0.005980629968025488]}, {\"categories\": [\"0\", \"1\", \"2\", \"3\", \"4\", \"5\", \"6\", \"7\", \"8\", \"9\", \"10\", \"11\", \"12\", \"13\", \"14\", \"15\", \"16\", \"17\", \"18\", \"19\", \"20\", \"21\", \"22\", \"23\", \"24\", \"25\", \"26\", \"27\", \"28\", \"29\", \"30\", \"31\", \"32\", \"33\", \"34\", \"35\", \"36\", \"37\", \"38\", \"39\", \"40\", \"41\", \"42\", \"43\", \"44\", \"45\", \"46\", \"47\", \"48\", \"49\", \"50\", \"51\", \"52\", \"53\", \"54\", \"55\", \"56\", \"57\", \"58\", \"59\", \"60\", \"61\", \"62\", \"63\", \"64\", \"67\", \"68\"], \"mode\": \"lines\", \"name\": \"normalized_root_mean_squared_error_min\", \"stepped\": true, \"type\": \"scatter\", \"data\": [0.007307440977129792, 0.007151738552142861, 0.007151738552142861, 0.007151738552142861, 0.006627789191711139, 0.006627789191711139, 0.006627789191711139, 0.006627789191711139, 0.006627789191711139, 0.006627789191711139, 0.006627789191711139, 0.006627789191711139, 0.006627789191711139, 0.006627789191711139, 0.006627789191711139, 0.006627789191711139, 0.006627789191711139, 0.006627789191711139, 0.006627789191711139, 0.006627789191711139, 0.006627789191711139, 0.006627789191711139, 0.006627789191711139, 0.006627789191711139, 0.006627789191711139, 0.006627789191711139, 0.006627789191711139, 0.006627789191711139, 0.006627789191711139, 0.006627789191711139, 0.006627789191711139, 0.006627789191711139, 0.006627789191711139, 0.006627789191711139, 0.006627789191711139, 0.006627789191711139, 0.006627789191711139, 0.006627789191711139, 0.006627789191711139, 0.006627789191711139, 0.006627789191711139, 0.006627789191711139, 0.006627789191711139, 0.006627789191711139, 0.006627789191711139, 0.006627789191711139, 0.006627789191711139, 0.006627789191711139, 0.006627789191711139, 0.006627789191711139, 0.006627789191711139, 0.006627789191711139, 0.006627789191711139, 0.006627789191711139, 0.006627789191711139, 0.006627789191711139, 0.006627789191711139, 0.006627789191711139, 0.006627789191711139, 0.006627789191711139, 0.006627789191711139, 0.006627789191711139, 0.006627789191711139, 0.006627789191711139, 0.006627789191711139, 0.005983136397037323, 0.005980629968025488]}]}, \"metricName\": null, \"primaryMetricName\": \"r2_score\", \"showLegend\": false}, \"run_metrics\": [{\"name\": \"experiment_status\", \"run_id\": \"AutoML_d632279a-7bf5-483d-8cbe-4fe9b950b71f\", \"categories\": [0, 1, 2, 3, 4, 5, 6, 7, 8, 9, 10, 11, 12, 13], \"series\": [{\"data\": [\"DatasetEvaluation\", \"FeaturesGeneration\", \"DatasetFeaturization\", \"DatasetFeaturizationCompleted\", \"DatasetCrossValidationSplit\", \"ModelSelection\", \"BestRunExplainModel\", \"ModelExplanationDataSetSetup\", \"PickSurrogateModel\", \"EngineeredFeatureExplanations\", \"EngineeredFeatureExplanations\", \"RawFeaturesExplanations\", \"RawFeaturesExplanations\", \"BestRunExplainModel\"]}]}, {\"name\": \"experiment_status_description\", \"run_id\": \"AutoML_d632279a-7bf5-483d-8cbe-4fe9b950b71f\", \"categories\": [0, 1, 2, 3, 4, 5, 6, 7, 8, 9, 10, 11, 12, 13], \"series\": [{\"data\": [\"Gathering dataset statistics.\", \"Generating features for the dataset.\", \"Beginning to fit featurizers and featurize the dataset.\", \"Completed fit featurizers and featurizing the dataset.\", \"Generating individually featurized CV splits.\", \"Beginning model selection.\", \"Best run model explanations started\", \"Model explanations data setup completed\", \"Choosing LightGBM as the surrogate model for explanations\", \"Computation of engineered features started\", \"Computation of engineered features completed\", \"Computation of raw features started\", \"Computation of raw features completed\", \"Best run model explanations completed\"]}]}, {\"name\": \"median_absolute_error\", \"run_id\": \"AutoML_d632279a-7bf5-483d-8cbe-4fe9b950b71f\", \"categories\": [0], \"series\": [{\"data\": [0.02569877576154515]}]}, {\"name\": \"normalized_root_mean_squared_error\", \"run_id\": \"AutoML_d632279a-7bf5-483d-8cbe-4fe9b950b71f\", \"categories\": [0], \"series\": [{\"data\": [0.005980629968025488]}]}, {\"name\": \"explained_variance\", \"run_id\": \"AutoML_d632279a-7bf5-483d-8cbe-4fe9b950b71f\", \"categories\": [0], \"series\": [{\"data\": [0.9977334964046801]}]}, {\"name\": \"root_mean_squared_error\", \"run_id\": \"AutoML_d632279a-7bf5-483d-8cbe-4fe9b950b71f\", \"categories\": [0], \"series\": [{\"data\": [0.03827603179536313]}]}, {\"name\": \"mean_absolute_error\", \"run_id\": \"AutoML_d632279a-7bf5-483d-8cbe-4fe9b950b71f\", \"categories\": [0], \"series\": [{\"data\": [0.029465587927796813]}]}, {\"name\": \"spearman_correlation\", \"run_id\": \"AutoML_d632279a-7bf5-483d-8cbe-4fe9b950b71f\", \"categories\": [0], \"series\": [{\"data\": [0.9988200398607628]}]}, {\"name\": \"normalized_root_mean_squared_log_error\", \"run_id\": \"AutoML_d632279a-7bf5-483d-8cbe-4fe9b950b71f\", \"categories\": [0], \"series\": [{\"data\": [0.006108246815038185]}]}, {\"name\": \"normalized_median_absolute_error\", \"run_id\": \"AutoML_d632279a-7bf5-483d-8cbe-4fe9b950b71f\", \"categories\": [0], \"series\": [{\"data\": [0.00401543371274143]}]}, {\"name\": \"r2_score\", \"run_id\": \"AutoML_d632279a-7bf5-483d-8cbe-4fe9b950b71f\", \"categories\": [0], \"series\": [{\"data\": [0.9977311175404792]}]}, {\"name\": \"root_mean_squared_log_error\", \"run_id\": \"AutoML_d632279a-7bf5-483d-8cbe-4fe9b950b71f\", \"categories\": [0], \"series\": [{\"data\": [0.008126496484005154]}]}, {\"name\": \"mean_absolute_percentage_error\", \"run_id\": \"AutoML_d632279a-7bf5-483d-8cbe-4fe9b950b71f\", \"categories\": [0], \"series\": [{\"data\": [0.7449557651663016]}]}, {\"name\": \"normalized_mean_absolute_error\", \"run_id\": \"AutoML_d632279a-7bf5-483d-8cbe-4fe9b950b71f\", \"categories\": [0], \"series\": [{\"data\": [0.004603998113718252]}]}], \"run_logs\": \"\\nRun is completed.\", \"graph\": {}, \"widget_settings\": {\"childWidgetDisplay\": \"popup\", \"send_telemetry\": false, \"log_level\": \"INFO\", \"sdk_version\": \"1.20.0\"}, \"loading\": false}"
          },
          "metadata": {}
        },
        {
          "output_type": "stream",
          "name": "stdout",
          "text": [
            "\n",
            "\n",
            "****************************************************************************************************\n",
            "DATA GUARDRAILS: \n",
            "\n",
            "TYPE:         Missing feature values imputation\n",
            "STATUS:       PASSED\n",
            "DESCRIPTION:  No feature missing values were detected in the training data.\n",
            "              Learn more about missing value imputation: https://aka.ms/AutomatedMLFeaturization\n",
            "\n",
            "****************************************************************************************************\n",
            "\n",
            "TYPE:         High cardinality feature detection\n",
            "STATUS:       PASSED\n",
            "DESCRIPTION:  Your inputs were analyzed, and no high cardinality features were detected.\n",
            "              Learn more about high cardinality feature handling: https://aka.ms/AutomatedMLFeaturization\n",
            "\n",
            "****************************************************************************************************\n",
            "\n",
            "****************************************************************************************************\n",
            "ITERATION: The iteration being evaluated.\n",
            "PIPELINE: A summary description of the pipeline being evaluated.\n",
            "DURATION: Time taken for the current iteration.\n",
            "METRIC: The result of computing score on the fitted pipeline.\n",
            "BEST: The best observed score thus far.\n",
            "****************************************************************************************************\n",
            "\n",
            " ITERATION   PIPELINE                                       DURATION      METRIC      BEST\n",
            "         0   MaxAbsScaler LightGBM                          0:01:11       0.9966    0.9966\n",
            "         1   MaxAbsScaler XGBoostRegressor                  0:01:16       0.9968    0.9968\n",
            "         2   SparseNormalizer XGBoostRegressor              0:01:17       0.9874    0.9968\n",
            "         3   MaxAbsScaler RandomForest                      0:02:06       0.9866    0.9968\n",
            "         4   StandardScalerWrapper XGBoostRegressor         0:01:13       0.9972    0.9972\n",
            "         5   MaxAbsScaler ElasticNet                        0:01:09       0.9932    0.9972\n",
            "         6   MinMaxScaler RandomForest                      0:01:52       0.9742    0.9972\n",
            "         7   StandardScalerWrapper XGBoostRegressor         0:01:03       0.9972    0.9972\n",
            "        10   MinMaxScaler RandomForest                      0:02:12       0.9933    0.9972\n",
            "        11   MinMaxScaler RandomForest                      0:01:21       0.9901    0.9972\n",
            "         8   MinMaxScaler ExtremeRandomTrees                0:01:00       0.9932    0.9972\n",
            "         9   StandardScalerWrapper ElasticNet               0:00:57       0.9894    0.9972\n",
            "        12   StandardScalerWrapper XGBoostRegressor         0:02:04       0.8737    0.9972\n",
            "        13   RobustScaler LassoLars                         0:01:52       0.9936    0.9972\n",
            "        14   MinMaxScaler ExtremeRandomTrees                0:01:36       0.9931    0.9972\n",
            "        15   MaxAbsScaler ExtremeRandomTrees                0:01:11       0.8869    0.9972\n",
            "        16   MinMaxScaler ExtremeRandomTrees                0:01:02       0.9920    0.9972\n",
            "        17   MaxAbsScaler ElasticNet                        0:00:59       0.9920    0.9972\n",
            "        18   MinMaxScaler RandomForest                      0:01:01       0.8885    0.9972\n",
            "        19   MaxAbsScaler RandomForest                      0:00:57       0.9596    0.9972\n",
            "        20   RobustScaler ElasticNet                        0:01:48       0.9920    0.9972\n",
            "        21   StandardScalerWrapper RandomForest             0:01:34       0.9108    0.9972\n",
            "        22   MaxAbsScaler ElasticNet                        0:00:59       0.9924    0.9972\n",
            "        23   MinMaxScaler LightGBM                          0:01:39       0.9944    0.9972\n",
            "        24   StandardScalerWrapper XGBoostRegressor         0:01:16       0.9962    0.9972\n",
            "        25   SparseNormalizer XGBoostRegressor              0:00:55       0.7557    0.9972\n",
            "        26   SparseNormalizer XGBoostRegressor              0:01:26       0.8339    0.9972\n",
            "        27   StandardScalerWrapper RandomForest             0:01:06       0.8914    0.9972\n",
            "        28   StandardScalerWrapper RandomForest             0:01:28       0.9863    0.9972\n",
            "        29   PCA XGBoostRegressor                           0:01:16       0.8070    0.9972\n",
            "        30   MaxAbsScaler ExtremeRandomTrees                0:01:30       0.9461    0.9972\n",
            "        31   MaxAbsScaler LightGBM                          0:01:23       0.9933    0.9972\n",
            "        32   StandardScalerWrapper XGBoostRegressor         0:01:16       0.9938    0.9972\n",
            "        33   StandardScalerWrapper RandomForest             0:04:16       0.9881    0.9972\n",
            "        34   MaxAbsScaler RandomForest                      0:14:07       0.9891    0.9972\n",
            "        35   PCA XGBoostRegressor                           0:00:58      -1.0000    0.9972\n",
            "        36   StandardScalerWrapper ElasticNet               0:01:33       0.9936    0.9972\n",
            "        37   StandardScalerWrapper DecisionTree             0:01:00       0.9781    0.9972\n",
            "        38   MinMaxScaler RandomForest                      0:02:36       0.9649    0.9972\n",
            "        39   StandardScalerWrapper DecisionTree             0:01:02       0.9635    0.9972\n",
            "        40   StandardScalerWrapper XGBoostRegressor         0:01:01       0.9959    0.9972\n",
            "        41   RobustScaler RandomForest                      0:00:53       0.9933    0.9972\n",
            "        42   RobustScaler RandomForest                      0:01:06       0.9415    0.9972\n",
            "        43   RobustScaler ElasticNet                        0:01:01       0.9937    0.9972\n",
            "        44   StandardScalerWrapper RandomForest             0:01:41       0.9907    0.9972\n",
            "        45   StandardScalerWrapper XGBoostRegressor         0:01:00       0.9956    0.9972\n",
            "        46   StandardScalerWrapper DecisionTree             0:00:56       0.9722    0.9972\n",
            "        47   StandardScalerWrapper DecisionTree             0:00:59       0.9645    0.9972\n"
          ]
        }
      ],
      "execution_count": 9,
      "metadata": {
        "collapsed": true,
        "jupyter": {
          "source_hidden": false,
          "outputs_hidden": false
        },
        "nteract": {
          "transient": {
            "deleting": false
          }
        },
        "gather": {
          "logged": 1611284751275
        }
      }
    },
    {
      "cell_type": "markdown",
      "source": [
        "## Create an environment"
      ],
      "metadata": {
        "nteract": {
          "transient": {
            "deleting": false
          }
        }
      }
    },
    {
      "cell_type": "code",
      "source": [
        "%%writefile conda_dependencies.yml\r\n",
        "\r\n",
        "dependencies:\r\n",
        "- python=3.6.2\r\n",
        "- pip=20.2.4\r\n",
        "- pip:\r\n",
        "  - azureml-core==1.20.0\r\n",
        "  - azureml-pipeline-core==1.20.0\r\n",
        "  - azureml-telemetry==1.20.0\r\n",
        "  - azureml-defaults==1.20.0\r\n",
        "  - azureml-interpret==1.20.0\r\n",
        "  - azureml-automl-core==1.20.0\r\n",
        "  - azureml-automl-runtime==1.20.0\r\n",
        "  - azureml-train-automl-client==1.20.0\r\n",
        "  - azureml-train-automl-runtime==1.20.0.post1\r\n",
        "  - azureml-dataset-runtime==1.20.0\r\n",
        "  - inference-schema\r\n",
        "  - py-cpuinfo==5.0.0\r\n",
        "  - boto3==1.15.18\r\n",
        "  - botocore==1.18.18\r\n",
        "- numpy~=1.18.0\r\n",
        "- scikit-learn==0.22.1\r\n",
        "- pandas~=0.25.0\r\n",
        "- fbprophet==0.5\r\n",
        "- holidays==0.9.11\r\n",
        "- setuptools-git\r\n",
        "- psutil>5.0.0,<6.0.0\r\n"
      ],
      "outputs": [],
      "execution_count": null,
      "metadata": {
        "collapsed": true,
        "jupyter": {
          "source_hidden": false,
          "outputs_hidden": false
        },
        "nteract": {
          "transient": {
            "deleting": false
          }
        }
      }
    },
    {
      "cell_type": "code",
      "source": [
        "from azureml.core import Environment\r\n",
        "from azureml.core.conda_dependencies import CondaDependencies\r\n",
        "\r\n",
        "env = Environment.get(workspace=ws, name=\"AzureML-AutoML\")\r\n",
        "#env = Environment.from_conda_specification(name = 'sklearn-env', file_path = './conda_dependencies.yml')\r\n"
      ],
      "outputs": [],
      "execution_count": 10,
      "metadata": {
        "collapsed": true,
        "jupyter": {
          "source_hidden": false,
          "outputs_hidden": false
        },
        "nteract": {
          "transient": {
            "deleting": false
          }
        },
        "gather": {
          "logged": 1611493238828
        }
      }
    },
    {
      "cell_type": "markdown",
      "source": [
        "## Best Model"
      ],
      "metadata": {
        "nteract": {
          "transient": {
            "deleting": false
          }
        }
      }
    },
    {
      "cell_type": "code",
      "source": [
        "best_run, fitted_model = remote_run.get_output()\r\n",
        "print(best_run)\r\n",
        "print(fitted_model)"
      ],
      "outputs": [
        {
          "output_type": "stream",
          "name": "stdout",
          "text": [
            "Run(Experiment: ideb-regression,\n",
            "Id: AutoML_d632279a-7bf5-483d-8cbe-4fe9b950b71f_68,\n",
            "Type: azureml.scriptrun,\n",
            "Status: Completed)\n",
            "RegressionPipeline(pipeline=Pipeline(memory=None,\n",
            "                                     steps=[('datatransformer',\n",
            "                                             DataTransformer(enable_dnn=None,\n",
            "                                                             enable_feature_sweeping=None,\n",
            "                                                             feature_sweeping_config=None,\n",
            "                                                             feature_sweeping_timeout=None,\n",
            "                                                             featurization_config=None,\n",
            "                                                             force_text_dnn=None,\n",
            "                                                             is_cross_validation=None,\n",
            "                                                             is_onnx_compatible=None,\n",
            "                                                             logger=None,\n",
            "                                                             observer=None,\n",
            "                                                             task=None,\n",
            "                                                             working_dir=None)),\n",
            "                                            ('sta...\n",
            "                                                                                                                selection='cyclic',\n",
            "                                                                                                                tol=0.0001,\n",
            "                                                                                                                warm_start=False))],\n",
            "                                                                                             verbose=False))],\n",
            "                                                                    meta_learner=ElasticNetCV(alphas=None,\n",
            "                                                                                              copy_X=True,\n",
            "                                                                                              cv=None,\n",
            "                                                                                              eps=0.001,\n",
            "                                                                                              fit_intercept=True,\n",
            "                                                                                              l1_ratio=0.5,\n",
            "                                                                                              max_iter=1000,\n",
            "                                                                                              n_alphas=100,\n",
            "                                                                                              n_jobs=None,\n",
            "                                                                                              normalize=False,\n",
            "                                                                                              positive=False,\n",
            "                                                                                              precompute='auto',\n",
            "                                                                                              random_state=None,\n",
            "                                                                                              selection='cyclic',\n",
            "                                                                                              tol=0.0001,\n",
            "                                                                                              verbose=0),\n",
            "                                                                    training_cv_folds=5))],\n",
            "                                     verbose=False),\n",
            "                   stddev=None)\n"
          ]
        }
      ],
      "execution_count": 11,
      "metadata": {
        "collapsed": true,
        "jupyter": {
          "source_hidden": false,
          "outputs_hidden": false
        },
        "nteract": {
          "transient": {
            "deleting": false
          }
        },
        "gather": {
          "logged": 1611493246296
        }
      }
    },
    {
      "cell_type": "markdown",
      "source": [
        "## Metric in best model"
      ],
      "metadata": {
        "nteract": {
          "transient": {
            "deleting": false
          }
        }
      }
    },
    {
      "cell_type": "code",
      "source": [
        "best_run_metrics = best_run.get_metrics()\r\n",
        "best_run_metrics"
      ],
      "outputs": [
        {
          "output_type": "execute_result",
          "execution_count": 12,
          "data": {
            "text/plain": "{'median_absolute_error': 0.02569877576154515,\n 'mean_absolute_error': 0.029465587927796813,\n 'mean_absolute_percentage_error': 0.7449557651663016,\n 'normalized_median_absolute_error': 0.00401543371274143,\n 'root_mean_squared_error': 0.03827603179536313,\n 'normalized_root_mean_squared_log_error': 0.006108246815038185,\n 'explained_variance': 0.9977334964046801,\n 'spearman_correlation': 0.9988200398607628,\n 'normalized_root_mean_squared_error': 0.005980629968025488,\n 'r2_score': 0.9977311175404792,\n 'root_mean_squared_log_error': 0.008126496484005154,\n 'normalized_mean_absolute_error': 0.004603998113718252,\n 'residuals': 'aml://artifactId/ExperimentRun/dcid.AutoML_d632279a-7bf5-483d-8cbe-4fe9b950b71f_68/residuals',\n 'predicted_true': 'aml://artifactId/ExperimentRun/dcid.AutoML_d632279a-7bf5-483d-8cbe-4fe9b950b71f_68/predicted_true'}"
          },
          "metadata": {}
        }
      ],
      "execution_count": 12,
      "metadata": {
        "collapsed": true,
        "jupyter": {
          "source_hidden": false,
          "outputs_hidden": false
        },
        "nteract": {
          "transient": {
            "deleting": false
          }
        },
        "gather": {
          "logged": 1611493257109
        }
      }
    },
    {
      "cell_type": "markdown",
      "source": [
        "## Save the best model"
      ],
      "metadata": {
        "nteract": {
          "transient": {
            "deleting": false
          }
        }
      }
    },
    {
      "cell_type": "code",
      "source": [
        "best_run.download_file('./outputs/model.pkl', './outputs/automl_ideb.pkl')\r\n",
        "best_run.download_file('./outputs/scoring_file_v_1_0_0.py', './score.py')\r\n",
        "best_run.download_file('automl_driver.py', './outputs/automl_driver.py')\r\n",
        "\r\n"
      ],
      "outputs": [],
      "execution_count": 13,
      "metadata": {
        "collapsed": true,
        "jupyter": {
          "source_hidden": false,
          "outputs_hidden": false
        },
        "nteract": {
          "transient": {
            "deleting": false
          }
        },
        "gather": {
          "logged": 1611493265573
        }
      }
    },
    {
      "cell_type": "code",
      "source": [
        "os.listdir(os.curdir), os.getcwd()"
      ],
      "outputs": [
        {
          "output_type": "execute_result",
          "execution_count": 14,
          "data": {
            "text/plain": "(['.azureml',\n  '.config',\n  '.ipynb_aml_checkpoints',\n  '.ipynb_checkpoints',\n  'automl.ipynb',\n  'automl.ipynb.amltemp',\n  'automl.log',\n  'automl_errors.log',\n  'automl_old.ipynb',\n  'automl_old.ipynb.amltemp',\n  'azureml_automl.log',\n  'conda_dependencies.yml',\n  'config.json',\n  'hyperparameter_tuning.ipynb',\n  'hyperparameter_tuning.ipynb.amltemp',\n  'model.pkl',\n  'outputs',\n  'score.py',\n  'score.py.amltemp',\n  'train.py',\n  'train.py.amltemp'],\n '/mnt/batch/tasks/shared/LS_root/mounts/clusters/automl-cluster/code/Users/anderson12')"
          },
          "metadata": {}
        }
      ],
      "execution_count": 14,
      "metadata": {
        "collapsed": true,
        "jupyter": {
          "source_hidden": false,
          "outputs_hidden": false
        },
        "nteract": {
          "transient": {
            "deleting": false
          }
        },
        "gather": {
          "logged": 1611493267881
        }
      }
    },
    {
      "cell_type": "markdown",
      "source": [
        "## Model Deployment"
      ],
      "metadata": {
        "nteract": {
          "transient": {
            "deleting": false
          }
        }
      }
    },
    {
      "cell_type": "code",
      "source": [
        "model=best_run.register_model(\r\n",
        "                        model_name = 'best_model',\r\n",
        "                        model_path = './outputs/model.pkl',\r\n",
        "                        description = \"Best model trained with AutoML\")\r\n",
        "model"
      ],
      "outputs": [
        {
          "output_type": "execute_result",
          "execution_count": 15,
          "data": {
            "text/plain": "Model(workspace=Workspace.create(name='AZML', subscription_id='a748a023-896b-4719-8f8e-3d1ba62d6e35', resource_group='RG-AZML'), name=best_model, id=best_model:16, version=16, tags={}, properties={})"
          },
          "metadata": {}
        }
      ],
      "execution_count": 15,
      "metadata": {
        "collapsed": true,
        "jupyter": {
          "source_hidden": false,
          "outputs_hidden": false
        },
        "nteract": {
          "transient": {
            "deleting": false
          }
        },
        "gather": {
          "logged": 1611493271878
        }
      }
    },
    {
      "cell_type": "code",
      "source": [
        "from azureml.core.model import InferenceConfig\r\n",
        "from azureml.core.webservice import AciWebservice\r\n",
        "from azureml.core.webservice import Webservice\r\n",
        "from azureml.core.model import Model\r\n",
        "from azureml.core.environment import Environment\r\n",
        "\r\n",
        "aci_config = AciWebservice.deploy_configuration(cpu_cores=1, memory_gb=1)\r\n",
        "inference_config = InferenceConfig(entry_script='./score.py', environment=env)\r\n",
        "\r\n",
        "service = model.deploy(\r\n",
        "    workspace=ws,\r\n",
        "    name=\"service-ideb\",\r\n",
        "    models=[model],\r\n",
        "    inference_config=inference_config,\r\n",
        "    deployment_config=aci_config,\r\n",
        "    overwrite=True\r\n",
        ")\r\n",
        "service.wait_for_deployment(show_output=True)\r\n",
        "print(service.state)"
      ],
      "outputs": [
        {
          "output_type": "stream",
          "name": "stdout",
          "text": [
            "Tips: You can try get_logs(): https://aka.ms/debugimage#dockerlog or local deployment: https://aka.ms/debugimage#debug-locally to debug if deployment takes longer than 10 minutes.\n",
            "Running............\n",
            "Succeeded\n",
            "ACI service creation operation finished, operation \"Succeeded\"\n",
            "Healthy\n"
          ]
        }
      ],
      "execution_count": 17,
      "metadata": {
        "collapsed": true,
        "jupyter": {
          "source_hidden": false,
          "outputs_hidden": false
        },
        "nteract": {
          "transient": {
            "deleting": false
          }
        },
        "gather": {
          "logged": 1611493361441
        }
      }
    },
    {
      "cell_type": "markdown",
      "source": [
        "## Test the Deploy model"
      ],
      "metadata": {
        "nteract": {
          "transient": {
            "deleting": false
          }
        }
      }
    },
    {
      "cell_type": "code",
      "source": [
        "scoring_uri = service.scoring_uri\r\n",
        "\r\n",
        "print(f'\\nservice state: {service.state}\\n')\r\n",
        "print(f'scoring URI: \\n{service.scoring_uri}\\n')\r\n",
        "print(f'swagger URI: \\n{service.swagger_uri}\\n')"
      ],
      "outputs": [
        {
          "output_type": "stream",
          "name": "stdout",
          "text": [
            "\n",
            "service state: Healthy\n",
            "\n",
            "scoring URI: \n",
            "http://245b43e2-1653-4acc-a9b9-63b00b9b6dd3.eastus.azurecontainer.io/score\n",
            "\n",
            "swagger URI: \n",
            "http://245b43e2-1653-4acc-a9b9-63b00b9b6dd3.eastus.azurecontainer.io/swagger.json\n",
            "\n"
          ]
        }
      ],
      "execution_count": 19,
      "metadata": {
        "collapsed": true,
        "jupyter": {
          "source_hidden": false,
          "outputs_hidden": false
        },
        "nteract": {
          "transient": {
            "deleting": false
          }
        },
        "gather": {
          "logged": 1611493998609
        }
      }
    },
    {
      "cell_type": "code",
      "source": [
        "import requests\r\n",
        "import json\r\n",
        "\r\n",
        "# scoring endpoint\r\n",
        "scoring_uri = service.scoring_uri\r\n",
        "\r\n",
        "\r\n",
        "# If the service is authenticated, set the key or token\r\n",
        "#key = '<your key or token>'\r\n",
        "\r\n",
        "# Two sets of data to score, so we get two results back\r\n",
        "data = {\"data\":\r\n",
        "        [\r\n",
        "          {\r\n",
        "           \"TAprov2019_Total\": 99.9, \r\n",
        "           \"TAprov2019_1_serie\": 99.2, \r\n",
        "           \"TAprov2019_2_serie\": 59.1, \r\n",
        "           \"TAprov2019_3_serie\": 60.5, \r\n",
        "           \"TAprov2019_4_serie\": 70.5, \r\n",
        "           \"Indicador_Rendimento\": 0.99, \r\n",
        "           \"SAEB2019_Matematica\": 365.38, \r\n",
        "           \"SAEB2019_Lingua Portuguesa\": 351.54, \r\n",
        "           \"SAEB2019_Nota Media Padronizada\": 7.055853\r\n",
        "          },\r\n",
        "      ]\r\n",
        "    }\r\n",
        "# Convert to JSON string\r\n",
        "input_data = json.dumps(data)\r\n",
        "\r\n",
        "# Set the content type\r\n",
        "headers = {'Content-Type': 'application/json'}\r\n",
        "# If authentication is enabled, set the authorization header\r\n",
        "#headers['Authorization'] = f'Bearer {key}'\r\n",
        "\r\n",
        "# Make the request and display the response\r\n",
        "resp = requests.post(scoring_uri, input_data, headers=headers)\r\n",
        "print(resp.text)"
      ],
      "outputs": [
        {
          "output_type": "stream",
          "name": "stdout",
          "text": [
            "\"{\\\"result\\\": [6.916704208820477]}\"\n"
          ]
        }
      ],
      "execution_count": 21,
      "metadata": {
        "collapsed": true,
        "jupyter": {
          "source_hidden": false,
          "outputs_hidden": false
        },
        "nteract": {
          "transient": {
            "deleting": false
          }
        },
        "gather": {
          "logged": 1611494054440
        }
      }
    },
    {
      "cell_type": "markdown",
      "source": [
        "## View the service logs"
      ],
      "metadata": {
        "nteract": {
          "transient": {
            "deleting": false
          }
        }
      }
    },
    {
      "cell_type": "code",
      "source": [
        "print(service.get_logs())"
      ],
      "outputs": [
        {
          "output_type": "stream",
          "name": "stdout",
          "text": [
            "2021-01-24T13:02:18,996785400+00:00 - iot-server/run \n",
            "2021-01-24T13:02:19,023775900+00:00 - gunicorn/run \n",
            "2021-01-24T13:02:19,040951900+00:00 - rsyslog/run \n",
            "2021-01-24T13:02:19,059393400+00:00 - nginx/run \n",
            "/usr/sbin/nginx: /azureml-envs/azureml_265db83b0c6014ce472c5de2f0b97e04/lib/libcrypto.so.1.0.0: no version information available (required by /usr/sbin/nginx)\n",
            "/usr/sbin/nginx: /azureml-envs/azureml_265db83b0c6014ce472c5de2f0b97e04/lib/libcrypto.so.1.0.0: no version information available (required by /usr/sbin/nginx)\n",
            "/usr/sbin/nginx: /azureml-envs/azureml_265db83b0c6014ce472c5de2f0b97e04/lib/libssl.so.1.0.0: no version information available (required by /usr/sbin/nginx)\n",
            "/usr/sbin/nginx: /azureml-envs/azureml_265db83b0c6014ce472c5de2f0b97e04/lib/libssl.so.1.0.0: no version information available (required by /usr/sbin/nginx)\n",
            "/usr/sbin/nginx: /azureml-envs/azureml_265db83b0c6014ce472c5de2f0b97e04/lib/libssl.so.1.0.0: no version information available (required by /usr/sbin/nginx)\n",
            "rsyslogd: /azureml-envs/azureml_265db83b0c6014ce472c5de2f0b97e04/lib/libuuid.so.1: no version information available (required by rsyslogd)\n",
            "EdgeHubConnectionString and IOTEDGE_IOTHUBHOSTNAME are not set. Exiting...\n",
            "2021-01-24T13:02:20,590994500+00:00 - iot-server/finish 1 0\n",
            "2021-01-24T13:02:20,615076100+00:00 - Exit code 1 is normal. Not restarting iot-server.\n",
            "Starting gunicorn 19.9.0\n",
            "Listening at: http://127.0.0.1:31311 (66)\n",
            "Using worker: sync\n",
            "worker timeout is set to 300\n",
            "Booting worker with pid: 97\n",
            "SPARK_HOME not set. Skipping PySpark Initialization.\n",
            "Generating new fontManager, this may take some time...\n",
            "Initializing logger\n",
            "2021-01-24 13:02:25,305 | root | INFO | Starting up app insights client\n",
            "2021-01-24 13:02:25,306 | root | INFO | Starting up request id generator\n",
            "2021-01-24 13:02:25,306 | root | INFO | Starting up app insight hooks\n",
            "2021-01-24 13:02:25,307 | root | INFO | Invoking user's init function\n",
            "2021-01-24 13:02:34,451 | azureml.core | WARNING | Failure while loading azureml_run_type_providers. Failed to load entrypoint automl = azureml.train.automl.run:AutoMLRun._from_run_dto with exception cannot import name 'RunType'.\n",
            "Failure while loading azureml_run_type_providers. Failed to load entrypoint automl = azureml.train.automl.run:AutoMLRun._from_run_dto with exception cannot import name 'RunType'.\n",
            "2021-01-24 13:02:34,731 | root | INFO | Users's init has completed successfully\n",
            "2021-01-24 13:02:34,738 | root | INFO | Skipping middleware: dbg_model_info as it's not enabled.\n",
            "2021-01-24 13:02:34,740 | root | INFO | Skipping middleware: dbg_resource_usage as it's not enabled.\n",
            "2021-01-24 13:02:34,743 | root | INFO | Scoring timeout is found from os.environ: 60000 ms\n",
            "2021-01-24 13:02:36,263 | root | INFO | 200\n",
            "127.0.0.1 - - [24/Jan/2021:13:02:36 +0000] \"GET /swagger.json HTTP/1.0\" 200 2805 \"-\" \"Go-http-client/1.1\"\n",
            "2021-01-24 13:02:38,446 | root | INFO | 200\n",
            "127.0.0.1 - - [24/Jan/2021:13:02:38 +0000] \"GET /swagger.json HTTP/1.0\" 200 2805 \"-\" \"Go-http-client/1.1\"\n",
            "2021-01-24 13:13:30,706 | root | INFO | Validation Request Content-Type\n",
            "2021-01-24 13:13:30,710 | root | INFO | Scoring Timer is set to 60.0 seconds\n",
            "2021-01-24 13:13:30,731 | root | ERROR | Encountered Exception: Traceback (most recent call last):\n",
            "  File \"/var/azureml-server/synchronous/routes.py\", line 64, in run_scoring\n",
            "    response = invoke_user_with_timer(service_input, request_headers)\n",
            "  File \"/var/azureml-server/synchronous/routes.py\", line 97, in invoke_user_with_timer\n",
            "    result = user_main.run(**params)\n",
            "  File \"/var/azureml-app/main.py\", line 21, in run\n",
            "    return_obj = driver_module.run(**arguments)\n",
            "  File \"/azureml-envs/azureml_265db83b0c6014ce472c5de2f0b97e04/lib/python3.6/site-packages/wrapt/wrappers.py\", line 564, in __call__\n",
            "    args, kwargs)\n",
            "  File \"/azureml-envs/azureml_265db83b0c6014ce472c5de2f0b97e04/lib/python3.6/site-packages/inference_schema/schema_decorators.py\", line 57, in decorator_input\n",
            "    kwargs[param_name] = _deserialize_input_argument(kwargs[param_name], param_type, param_name)\n",
            "  File \"/azureml-envs/azureml_265db83b0c6014ce472c5de2f0b97e04/lib/python3.6/site-packages/inference_schema/schema_decorators.py\", line 285, in _deserialize_input_argument\n",
            "    input_data = param_type.deserialize_input(input_data)\n",
            "  File \"/azureml-envs/azureml_265db83b0c6014ce472c5de2f0b97e04/lib/python3.6/site-packages/inference_schema/parameter_types/pandas_parameter_type.py\", line 79, in deserialize_input\n",
            "    data_frame.shape[dim], dim, expected_shape[dim]))\n",
            "ValueError: Invalid input data frame: data frame has size 11 on dimension #1, while expected value is 9\n",
            "\n",
            "During handling of the above exception, another exception occurred:\n",
            "\n",
            "Traceback (most recent call last):\n",
            "  File \"/azureml-envs/azureml_265db83b0c6014ce472c5de2f0b97e04/lib/python3.6/site-packages/flask/app.py\", line 1832, in full_dispatch_request\n",
            "    rv = self.dispatch_request()\n",
            "  File \"/azureml-envs/azureml_265db83b0c6014ce472c5de2f0b97e04/lib/python3.6/site-packages/flask/app.py\", line 1818, in dispatch_request\n",
            "    return self.view_functions[rule.endpoint](**req.view_args)\n",
            "  File \"/var/azureml-server/synchronous/routes.py\", line 43, in score_realtime\n",
            "    return run_scoring(service_input, request.headers, request.environ.get('REQUEST_ID', '00000000-0000-0000-0000-000000000000'))\n",
            "  File \"/var/azureml-server/synchronous/routes.py\", line 77, in run_scoring\n",
            "    raise RunFunctionException(str(exc))\n",
            "run_function_exception.RunFunctionException\n",
            "\n",
            "2021-01-24 13:13:30,731 | root | INFO | 500\n",
            "127.0.0.1 - - [24/Jan/2021:13:13:30 +0000] \"POST /score HTTP/1.0\" 500 91 \"-\" \"python-requests/2.25.1\"\n",
            "2021-01-24 13:14:11,654 | root | INFO | Validation Request Content-Type\n",
            "2021-01-24 13:14:11,656 | root | INFO | Scoring Timer is set to 60.0 seconds\n",
            "2021-01-24 13:14:11,741 | root | INFO | 200\n",
            "127.0.0.1 - - [24/Jan/2021:13:14:11 +0000] \"POST /score HTTP/1.0\" 200 35 \"-\" \"python-requests/2.25.1\"\n",
            "\n"
          ]
        }
      ],
      "execution_count": 22,
      "metadata": {
        "collapsed": true,
        "jupyter": {
          "source_hidden": false,
          "outputs_hidden": false
        },
        "nteract": {
          "transient": {
            "deleting": false
          }
        },
        "gather": {
          "logged": 1611494075436
        }
      }
    },
    {
      "cell_type": "code",
      "source": [
        "service.delete()"
      ],
      "outputs": [],
      "execution_count": null,
      "metadata": {
        "collapsed": true,
        "jupyter": {
          "source_hidden": false,
          "outputs_hidden": false
        },
        "nteract": {
          "transient": {
            "deleting": false
          }
        }
      }
    }
  ],
  "metadata": {
    "kernelspec": {
      "name": "python3-azureml",
      "language": "python",
      "display_name": "Python 3.6 - AzureML"
    },
    "language_info": {
      "name": "python",
      "version": "3.6.9",
      "mimetype": "text/x-python",
      "codemirror_mode": {
        "name": "ipython",
        "version": 3
      },
      "pygments_lexer": "ipython3",
      "nbconvert_exporter": "python",
      "file_extension": ".py"
    },
    "kernel_info": {
      "name": "python3-azureml"
    },
    "nteract": {
      "version": "nteract-front-end@1.0.0"
    }
  },
  "nbformat": 4,
  "nbformat_minor": 2
}
