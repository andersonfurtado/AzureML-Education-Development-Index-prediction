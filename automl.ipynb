{
  "cells": [
    {
      "cell_type": "markdown",
      "source": [
        "# Automated Machine Learning"
      ],
      "metadata": {
        "nteract": {
          "transient": {
            "deleting": false
          }
        }
      }
    },
    {
      "cell_type": "code",
      "source": [
        "from matplotlib import pyplot as plt\r\n",
        "import numpy as np\r\n",
        "import pandas as pd\r\n",
        " \r\n",
        "\r\n",
        "import azureml.core\r\n",
        "from azureml.core.experiment import Experiment\r\n",
        "from azureml.core.workspace import Workspace\r\n",
        "from azureml.core.dataset import Dataset\r\n",
        "from azureml.train.automl import AutoMLConfig\r\n",
        "from azureml.data.dataset_factory import TabularDatasetFactory\r\n",
        "\r\n",
        "# Check core SDK version number\r\n",
        "print(\"SDK version:\", azureml.core.VERSION)"
      ],
      "outputs": [
        {
          "output_type": "stream",
          "name": "stdout",
          "text": [
            "SDK version: 1.20.0\n"
          ]
        }
      ],
      "execution_count": 38,
      "metadata": {
        "gather": {
          "logged": 1611525510088
        }
      }
    },
    {
      "cell_type": "code",
      "source": [
        "ws = Workspace.from_config()\r\n",
        "print(ws.name, ws.resource_group, ws.location, ws.subscription_id, sep = '\\n')"
      ],
      "outputs": [
        {
          "output_type": "stream",
          "name": "stdout",
          "text": [
            "AZML\n",
            "RG-AZML\n",
            "eastus\n",
            "a748a023-896b-4719-8f8e-3d1ba62d6e35\n"
          ]
        }
      ],
      "execution_count": 4,
      "metadata": {
        "collapsed": true,
        "jupyter": {
          "source_hidden": false,
          "outputs_hidden": false
        },
        "nteract": {
          "transient": {
            "deleting": false
          }
        },
        "gather": {
          "logged": 1611490514154
        }
      }
    },
    {
      "cell_type": "code",
      "source": [
        "# Choose a name for the experiment.\r\n",
        "experiment_name = 'ideb-regression'\r\n",
        "\r\n",
        "experiment = Experiment(ws, experiment_name)\r\n",
        "\r\n",
        "output = {}\r\n",
        "output['Subscription ID'] = ws.subscription_id\r\n",
        "output['Workspace'] = ws.name\r\n",
        "output['Resource Group'] = ws.resource_group\r\n",
        "output['Location'] = ws.location\r\n",
        "output['Run History Name'] = experiment_name\r\n",
        "pd.set_option('display.max_colwidth', -1)\r\n",
        "outputDf = pd.DataFrame(data = output, index = [''])\r\n",
        "outputDf.T"
      ],
      "outputs": [
        {
          "output_type": "execute_result",
          "execution_count": 39,
          "data": {
            "text/plain": "                                                      \nSubscription ID   a748a023-896b-4719-8f8e-3d1ba62d6e35\nWorkspace         AZML                                \nResource Group    RG-AZML                             \nLocation          eastus                              \nRun History Name  ideb-regression                     ",
            "text/html": "<div>\n<style scoped>\n    .dataframe tbody tr th:only-of-type {\n        vertical-align: middle;\n    }\n\n    .dataframe tbody tr th {\n        vertical-align: top;\n    }\n\n    .dataframe thead th {\n        text-align: right;\n    }\n</style>\n<table border=\"1\" class=\"dataframe\">\n  <thead>\n    <tr style=\"text-align: right;\">\n      <th></th>\n      <th></th>\n    </tr>\n  </thead>\n  <tbody>\n    <tr>\n      <th>Subscription ID</th>\n      <td>a748a023-896b-4719-8f8e-3d1ba62d6e35</td>\n    </tr>\n    <tr>\n      <th>Workspace</th>\n      <td>AZML</td>\n    </tr>\n    <tr>\n      <th>Resource Group</th>\n      <td>RG-AZML</td>\n    </tr>\n    <tr>\n      <th>Location</th>\n      <td>eastus</td>\n    </tr>\n    <tr>\n      <th>Run History Name</th>\n      <td>ideb-regression</td>\n    </tr>\n  </tbody>\n</table>\n</div>"
          },
          "metadata": {}
        }
      ],
      "execution_count": 39,
      "metadata": {
        "collapsed": true,
        "jupyter": {
          "source_hidden": false,
          "outputs_hidden": false
        },
        "nteract": {
          "transient": {
            "deleting": false
          }
        },
        "gather": {
          "logged": 1611525519108
        }
      }
    },
    {
      "cell_type": "markdown",
      "source": [
        "## Using AmlCompute"
      ],
      "metadata": {
        "nteract": {
          "transient": {
            "deleting": false
          }
        }
      }
    },
    {
      "cell_type": "code",
      "source": [
        "from azureml.core.compute import ComputeTarget, AmlCompute\r\n",
        "from azureml.core.compute_target import ComputeTargetException\r\n",
        "\r\n",
        "# Choose a name for your CPU cluster\r\n",
        "cpu_cluster_name = \"automl-cluster\"\r\n",
        "\r\n",
        "# Verify that cluster does not exist already\r\n",
        "try:\r\n",
        "    compute_target = ComputeTarget(workspace=ws, name=cpu_cluster_name)\r\n",
        "    print('Found existing cluster, use it.')\r\n",
        "except ComputeTargetException:\r\n",
        "    compute_config = AmlCompute.provisioning_configuration(vm_size='STANDARD_D2_V2',\r\n",
        "                                                           max_nodes=4)\r\n",
        "    compute_target = ComputeTarget.create(ws, cpu_cluster_name, compute_config)\r\n",
        "\r\n",
        "compute_target.wait_for_completion(show_output=True)"
      ],
      "outputs": [
        {
          "output_type": "stream",
          "name": "stdout",
          "text": [
            "Found existing cluster, use it.\n",
            "\n",
            "Running\n"
          ]
        }
      ],
      "execution_count": 40,
      "metadata": {
        "collapsed": true,
        "jupyter": {
          "source_hidden": false,
          "outputs_hidden": false
        },
        "nteract": {
          "transient": {
            "deleting": false
          }
        },
        "gather": {
          "logged": 1611525525059
        }
      }
    },
    {
      "cell_type": "markdown",
      "source": [
        "## Data"
      ],
      "metadata": {
        "nteract": {
          "transient": {
            "deleting": false
          }
        }
      }
    },
    {
      "cell_type": "markdown",
      "source": [
        "### Load Data"
      ],
      "metadata": {
        "nteract": {
          "transient": {
            "deleting": false
          }
        }
      }
    },
    {
      "cell_type": "code",
      "source": [
        "datastore = ws.get_default_datastore()\r\n",
        "path = \"data/data.csv\"\r\n",
        "try:\r\n",
        "    ideb_dataset = Dataset.get_by_name(ws, name=\"ideb_dataset\")\r\n",
        "except:\r\n",
        "    datastore.upload('data', target_path='data')\r\n",
        "    # Create TabularDataset & register in workspace\r\n",
        "    ideb_dataset = Dataset.Tabular.from_delimited_files([(datastore, path)])\r\n",
        "    ideb_dataset = ideb_dataset.register(\r\n",
        "        ws, name=\"ideb_dataset\", create_new_version=True,\r\n",
        "        description=\"Dataset for ideb prediction\"\r\n",
        "    )"
      ],
      "outputs": [],
      "execution_count": 41,
      "metadata": {
        "collapsed": true,
        "jupyter": {
          "source_hidden": false,
          "outputs_hidden": false
        },
        "nteract": {
          "transient": {
            "deleting": false
          }
        },
        "gather": {
          "logged": 1611525531248
        }
      }
    },
    {
      "cell_type": "markdown",
      "source": [
        "## Automl Settings"
      ],
      "metadata": {
        "nteract": {
          "transient": {
            "deleting": false
          }
        }
      }
    },
    {
      "cell_type": "code",
      "source": [
        "automl_settings = {\r\n",
        "    \"n_cross_validations\": 3,\r\n",
        "    \"primary_metric\": 'r2_score',\r\n",
        "    \"experiment_timeout_hours\": 0.5, \r\n",
        "    \"max_concurrent_iterations\": 4,\r\n",
        "    \"featurization\": 'auto',\r\n",
        "    \"verbosity\": logging.INFO,\r\n",
        "}\r\n",
        "\r\n",
        "automl_config = AutoMLConfig(task = 'regression',\r\n",
        "                             compute_target = compute_target,\r\n",
        "                             training_data = ideb_dataset,\r\n",
        "                             label_column_name = \"IDEB_2019\",\r\n",
        "                             **automl_settings\r\n",
        "                            )\r\n",
        "\r\n"
      ],
      "outputs": [],
      "execution_count": 42,
      "metadata": {
        "collapsed": true,
        "jupyter": {
          "source_hidden": false,
          "outputs_hidden": false
        },
        "nteract": {
          "transient": {
            "deleting": false
          }
        },
        "gather": {
          "logged": 1611525542847
        }
      }
    },
    {
      "cell_type": "markdown",
      "source": [
        "## Result"
      ],
      "metadata": {
        "nteract": {
          "transient": {
            "deleting": false
          }
        }
      }
    },
    {
      "cell_type": "code",
      "source": [
        "from azureml.widgets import RunDetails\r\n",
        "\r\n",
        "remote_run = experiment.submit(automl_config, show_output = True)\r\n",
        "RunDetails(remote_run).show()\r\n",
        "remote_run.wait_for_completion(show_output=True)"
      ],
      "outputs": [
        {
          "output_type": "stream",
          "name": "stdout",
          "text": [
            "Running on remote.\n",
            "No run_configuration provided, running on automl-cluster with default configuration\n",
            "Running on remote compute: automl-cluster\n",
            "Parent Run ID: AutoML_7081f1ae-1458-4fb0-9155-7f7ca3dfa64a\n",
            "\n",
            "Current status: FeaturesGeneration. Generating features for the dataset.\n",
            "Current status: DatasetCrossValidationSplit. Generating individually featurized CV splits.\n",
            "Current status: ModelSelection. Beginning model selection.\n",
            "\n",
            "****************************************************************************************************\n",
            "DATA GUARDRAILS: \n",
            "\n",
            "TYPE:         Missing feature values imputation\n",
            "STATUS:       PASSED\n",
            "DESCRIPTION:  No feature missing values were detected in the training data.\n",
            "              Learn more about missing value imputation: https://aka.ms/AutomatedMLFeaturization\n",
            "\n",
            "****************************************************************************************************\n",
            "\n",
            "TYPE:         High cardinality feature detection\n",
            "STATUS:       PASSED\n",
            "DESCRIPTION:  Your inputs were analyzed, and no high cardinality features were detected.\n",
            "              Learn more about high cardinality feature handling: https://aka.ms/AutomatedMLFeaturization\n",
            "\n",
            "****************************************************************************************************\n",
            "\n",
            "****************************************************************************************************\n",
            "ITERATION: The iteration being evaluated.\n",
            "PIPELINE: A summary description of the pipeline being evaluated.\n",
            "DURATION: Time taken for the current iteration.\n",
            "METRIC: The result of computing score on the fitted pipeline.\n",
            "BEST: The best observed score thus far.\n",
            "****************************************************************************************************\n",
            "\n",
            " ITERATION   PIPELINE                                       DURATION      METRIC      BEST\n",
            "         0   MaxAbsScaler LightGBM                          0:00:53       0.9966    0.9966\n",
            "         1   MaxAbsScaler XGBoostRegressor                  0:00:53       0.9968    0.9968\n",
            "         2   SparseNormalizer XGBoostRegressor              0:00:59       0.9874    0.9968\n",
            "         3   MaxAbsScaler RandomForest                      0:01:06       0.9866    0.9968\n",
            "         5   MaxAbsScaler ElasticNet                        0:01:01       0.9932    0.9968\n",
            "         7   StandardScalerWrapper XGBoostRegressor         0:00:57       0.9972    0.9972\n",
            "         4   StandardScalerWrapper XGBoostRegressor         0:01:19       0.9972    0.9972\n",
            "         6   MinMaxScaler RandomForest                      0:01:45       0.9738    0.9972\n",
            "         8   MinMaxScaler ExtremeRandomTrees                0:01:00       0.9931    0.9972\n",
            "         9   StandardScalerWrapper ElasticNet               0:01:03       0.9894    0.9972\n",
            "        11   MinMaxScaler RandomForest                      0:00:59       0.9897    0.9972\n",
            "        10   MinMaxScaler RandomForest                      0:01:48       0.9934    0.9972\n",
            "        12   StandardScalerWrapper XGBoostRegressor         0:00:57       0.8737    0.9972\n",
            "        13   RobustScaler LassoLars                         0:00:58       0.9936    0.9972\n",
            "        14   MinMaxScaler ExtremeRandomTrees                0:01:02       0.9932    0.9972\n",
            "        15   MaxAbsScaler ExtremeRandomTrees                0:01:08       0.8484    0.9972\n",
            "        16   MinMaxScaler ExtremeRandomTrees                0:01:00       0.9921    0.9972\n",
            "        17   MaxAbsScaler ElasticNet                        0:00:52       0.9920    0.9972\n",
            "        18   MinMaxScaler RandomForest                      0:00:55       0.8931    0.9972\n",
            "        19   MaxAbsScaler RandomForest                      0:00:51       0.9600    0.9972\n",
            "        20   RobustScaler ElasticNet                        0:00:54       0.9920    0.9972\n",
            "        21   StandardScalerWrapper RandomForest             0:01:28       0.9127    0.9972\n",
            "        23   MinMaxScaler LightGBM                          0:00:59       0.9944    0.9972\n",
            "        22   MaxAbsScaler ElasticNet                        0:01:09       0.9924    0.9972\n",
            "        24   StandardScalerWrapper XGBoostRegressor         0:01:01       0.9962    0.9972\n",
            "        25   SparseNormalizer XGBoostRegressor              0:01:01       0.7557    0.9972\n",
            "        28   RobustScaler LightGBM                          0:00:53       0.9878    0.9972\n",
            "        26   StandardScalerWrapper RandomForest             0:01:04       0.8980    0.9972\n",
            "        27   SparseNormalizer XGBoostRegressor              0:01:03       0.8339    0.9972\n",
            "        29   StandardScalerWrapper RandomForest             0:01:18       0.9862    0.9972\n",
            "        31   MaxAbsScaler LightGBM                          0:01:02       0.9933    0.9972\n",
            "        32   RobustScaler LightGBM                          0:01:03       0.9936    0.9972\n",
            "        30   PCA XGBoostRegressor                           0:01:16       0.8070    0.9972\n",
            "        33   StandardScalerWrapper XGBoostRegressor         0:01:00       0.9938    0.9972\n",
            "        34   PCA XGBoostRegressor                           0:01:02       0.9891    0.9972\n",
            "        35   MaxAbsScaler DecisionTree                      0:01:03       0.9483    0.9972\n",
            "        36   RobustScaler ElasticNet                        0:00:52       0.9921    0.9972\n",
            "        37   StandardScalerWrapper ElasticNet               0:00:59       0.9936    0.9972\n",
            "        39   PCA XGBoostRegressor                           0:00:53      -1.0000    0.9972\n",
            "        40   StandardScalerWrapper ElasticNet               0:01:03       0.9921    0.9972\n",
            "        38   StandardScalerWrapper ElasticNet               0:01:35       0.9936    0.9972\n",
            "        41   MaxAbsScaler ExtremeRandomTrees                0:01:11       0.9623    0.9972\n",
            "        42   StandardScalerWrapper DecisionTree             0:00:55       0.9785    0.9972\n",
            "        43   StandardScalerWrapper DecisionTree             0:00:55       0.9487    0.9972\n",
            "        44   MinMaxScaler RandomForest                      0:01:03       0.9629    0.9972\n",
            "        45   StandardScalerWrapper XGBoostRegressor         0:00:59       0.9918    0.9972\n",
            "        46   StandardScalerWrapper DecisionTree             0:00:57       0.9631    0.9972\n",
            "        47   MaxAbsScaler DecisionTree                      0:00:51       0.9796    0.9972\n",
            "        51   StandardScalerWrapper RandomForest             0:00:52       0.9935    0.9972\n",
            "        48   StandardScalerWrapper ElasticNet               0:01:12       0.9920    0.9972\n",
            "        49   StandardScalerWrapper XGBoostRegressor         0:01:01       0.9964    0.9972\n",
            "        50   MinMaxScaler RandomForest                      0:01:06       0.9905    0.9972\n",
            "        53   StandardScalerWrapper XGBoostRegressor         0:01:00       0.9956    0.9972\n",
            "        54   MinMaxScaler RandomForest                      0:01:02       0.9580    0.9972\n",
            "        55   RobustScaler RandomForest                      0:01:00       0.9881    0.9972\n",
            "        52   RobustScaler GradientBoosting                  0:01:11       0.9929    0.9972\n",
            "        57   StandardScalerWrapper RandomForest             0:01:04       0.9921    0.9972\n",
            "        58   StandardScalerWrapper RandomForest             0:01:01       0.9877    0.9972\n",
            "        59   StandardScalerWrapper DecisionTree             0:01:03       0.9730    0.9972\n",
            "        56   MinMaxScaler GradientBoosting                  0:01:21       0.9964    0.9972\n",
            "        61   StandardScalerWrapper DecisionTree             0:00:51       0.9796    0.9972\n",
            "        62   MaxAbsScaler ElasticNet                        0:00:53       0.9914    0.9972\n",
            "        60   SparseNormalizer XGBoostRegressor              0:01:16       0.9892    0.9972\n",
            "        63   StandardScalerWrapper ElasticNet               0:00:49       0.9920    0.9972\n",
            "        65   StandardScalerWrapper XGBoostRegressor         0:00:59       0.9960    0.9972\n",
            "        64   StandardScalerWrapper ElasticNet               0:01:12       0.9937    0.9972\n",
            "        67   RobustScaler DecisionTree                      0:00:57       0.9673    0.9972\n",
            "        66   MaxAbsScaler RandomForest                      0:01:47       0.9893    0.9972\n",
            "        68   RobustScaler ElasticNet                        0:01:02       0.9920    0.9972\n",
            "        69   PCA XGBoostRegressor                           0:01:05       0.8854    0.9972\n",
            "        70   RobustScaler RandomForest                      0:01:54       0.9739    0.9972\n",
            "        71   RobustScaler ExtremeRandomTrees                0:01:30       0.9822    0.9972\n",
            "        72   MinMaxScaler DecisionTree                      0:01:06       0.9535    0.9972\n",
            "        73   RobustScaler ElasticNet                        0:01:17       0.9920    0.9972\n",
            "        74   RobustScaler ElasticNet                        0:01:22       0.9937    0.9972\n",
            "        75   StandardScalerWrapper XGBoostRegressor         0:01:01       0.9956    0.9972\n",
            "        76   RobustScaler ElasticNet                        0:00:48       0.9920    0.9972\n",
            "        77   RobustScaler DecisionTree                      0:00:51       0.9454    0.9972\n",
            "        78   RobustScaler RandomForest                      0:01:05       0.9928    0.9972\n",
            "        79   StandardScalerWrapper XGBoostRegressor         0:01:00       0.9944    0.9972\n",
            "        80   StandardScalerWrapper XGBoostRegressor         0:01:04       0.9964    0.9972\n",
            "        81   RobustScaler ElasticNet                        0:01:02       0.9920    0.9972\n",
            "        83   MinMaxScaler RandomForest                      0:01:12       0.9872    0.9972\n",
            "        84   StandardScalerWrapper DecisionTree             0:01:06       0.9696    0.9972\n",
            "        85   StandardScalerWrapper XGBoostRegressor         0:01:03       0.9970    0.9972\n",
            "        82   StandardScalerWrapper RandomForest             0:01:30       0.9712    0.9972\n",
            "ERROR: {\n",
            "    \"additional_properties\": {},\n",
            "    \"error\": {\n",
            "        \"additional_properties\": {\n",
            "            \"debugInfo\": null\n",
            "        },\n",
            "        \"code\": \"UserError\",\n",
            "        \"severity\": null,\n",
            "        \"message\": \"Experiment timeout reached, please consider increasing your experiment timeout.\",\n",
            "        \"message_format\": \"Experiment timeout reached, please consider increasing your experiment timeout.\",\n",
            "        \"message_parameters\": {},\n",
            "        \"reference_code\": null,\n",
            "        \"details_uri\": null,\n",
            "        \"target\": null,\n",
            "        \"details\": [],\n",
            "        \"inner_error\": {\n",
            "            \"additional_properties\": {},\n",
            "            \"code\": \"ResourceExhausted\",\n",
            "            \"inner_error\": {\n",
            "                \"additional_properties\": {},\n",
            "                \"code\": \"Timeout\",\n",
            "                \"inner_error\": {\n",
            "                    \"additional_properties\": {},\n",
            "                    \"code\": \"ExperimentTimeoutForIterations\",\n",
            "                    \"inner_error\": null\n",
            "                }\n",
            "            }\n",
            "        }\n",
            "    },\n",
            "    \"correlation\": null,\n",
            "    \"environment\": null,\n",
            "    \"location\": null,\n",
            "    \"time\": {},\n",
            "    \"component_name\": null\n",
            "}\n",
            "        86    VotingEnsemble                                0:01:53       0.9979    0.9979\n",
            "        87    StackEnsemble                                 0:02:01       0.9979    0.9979\n"
          ]
        },
        {
          "output_type": "display_data",
          "data": {
            "text/plain": "_AutoMLWidget(widget_settings={'childWidgetDisplay': 'popup', 'send_telemetry': False, 'log_level': 'INFO', 's…",
            "application/vnd.jupyter.widget-view+json": {
              "version_major": 2,
              "version_minor": 0,
              "model_id": "b5e03f8b880d4a108db97bb1391a03d3"
            }
          },
          "metadata": {}
        },
        {
          "output_type": "display_data",
          "data": {
            "application/aml.mini.widget.v1": "{\"status\": \"Completed\", \"workbench_run_details_uri\": \"https://ml.azure.com/experiments/ideb-regression/runs/AutoML_7081f1ae-1458-4fb0-9155-7f7ca3dfa64a?wsid=/subscriptions/a748a023-896b-4719-8f8e-3d1ba62d6e35/resourcegroups/RG-AZML/workspaces/AZML\", \"run_id\": \"AutoML_7081f1ae-1458-4fb0-9155-7f7ca3dfa64a\", \"run_properties\": {\"run_id\": \"AutoML_7081f1ae-1458-4fb0-9155-7f7ca3dfa64a\", \"created_utc\": \"2021-01-24T21:59:08.653713Z\", \"properties\": {\"num_iterations\": \"1000\", \"training_type\": \"TrainFull\", \"acquisition_function\": \"EI\", \"primary_metric\": \"r2_score\", \"train_split\": \"0\", \"acquisition_parameter\": \"0\", \"num_cross_validation\": \"3\", \"target\": \"automl-cluster\", \"AMLSettingsJsonString\": \"{\\\"path\\\":null,\\\"name\\\":\\\"ideb-regression\\\",\\\"subscription_id\\\":\\\"a748a023-896b-4719-8f8e-3d1ba62d6e35\\\",\\\"resource_group\\\":\\\"RG-AZML\\\",\\\"workspace_name\\\":\\\"AZML\\\",\\\"region\\\":\\\"eastus\\\",\\\"compute_target\\\":\\\"automl-cluster\\\",\\\"spark_service\\\":null,\\\"azure_service\\\":\\\"remote\\\",\\\"many_models\\\":false,\\\"pipeline_fetch_max_batch_size\\\":1,\\\"iterations\\\":1000,\\\"primary_metric\\\":\\\"r2_score\\\",\\\"task_type\\\":\\\"regression\\\",\\\"data_script\\\":null,\\\"validation_size\\\":0.0,\\\"n_cross_validations\\\":3,\\\"y_min\\\":null,\\\"y_max\\\":null,\\\"num_classes\\\":null,\\\"featurization\\\":\\\"auto\\\",\\\"_ignore_package_version_incompatibilities\\\":false,\\\"is_timeseries\\\":false,\\\"max_cores_per_iteration\\\":1,\\\"max_concurrent_iterations\\\":4,\\\"iteration_timeout_minutes\\\":null,\\\"mem_in_mb\\\":null,\\\"enforce_time_on_windows\\\":false,\\\"experiment_timeout_minutes\\\":30,\\\"experiment_exit_score\\\":null,\\\"whitelist_models\\\":null,\\\"blacklist_algos\\\":[\\\"TensorFlowDNN\\\",\\\"TensorFlowLinearRegressor\\\"],\\\"supported_models\\\":[\\\"ExtremeRandomTrees\\\",\\\"LassoLars\\\",\\\"TensorFlowDNN\\\",\\\"DecisionTree\\\",\\\"KNN\\\",\\\"GradientBoosting\\\",\\\"XGBoostRegressor\\\",\\\"TensorFlowLinearRegressor\\\",\\\"SGD\\\",\\\"LightGBM\\\",\\\"FastLinearRegressor\\\",\\\"RandomForest\\\",\\\"ElasticNet\\\",\\\"OnlineGradientDescentRegressor\\\"],\\\"auto_blacklist\\\":true,\\\"blacklist_samples_reached\\\":false,\\\"exclude_nan_labels\\\":true,\\\"verbosity\\\":20,\\\"_debug_log\\\":\\\"azureml_automl.log\\\",\\\"show_warnings\\\":false,\\\"model_explainability\\\":true,\\\"service_url\\\":null,\\\"sdk_url\\\":null,\\\"sdk_packages\\\":null,\\\"enable_onnx_compatible_models\\\":false,\\\"enable_split_onnx_featurizer_estimator_models\\\":false,\\\"vm_type\\\":\\\"STANDARD_DS3_V2\\\",\\\"telemetry_verbosity\\\":20,\\\"send_telemetry\\\":true,\\\"enable_dnn\\\":false,\\\"scenario\\\":\\\"SDK-1.13.0\\\",\\\"environment_label\\\":null,\\\"force_text_dnn\\\":false,\\\"enable_feature_sweeping\\\":true,\\\"enable_early_stopping\\\":false,\\\"early_stopping_n_iters\\\":10,\\\"metrics\\\":null,\\\"enable_ensembling\\\":true,\\\"enable_stack_ensembling\\\":true,\\\"ensemble_iterations\\\":15,\\\"enable_tf\\\":false,\\\"enable_subsampling\\\":null,\\\"subsample_seed\\\":null,\\\"enable_nimbusml\\\":false,\\\"enable_streaming\\\":false,\\\"force_streaming\\\":false,\\\"track_child_runs\\\":true,\\\"allowed_private_models\\\":[],\\\"label_column_name\\\":\\\"IDEB_2019\\\",\\\"weight_column_name\\\":null,\\\"cv_split_column_names\\\":null,\\\"enable_local_managed\\\":false,\\\"_local_managed_run_id\\\":null,\\\"cost_mode\\\":1,\\\"lag_length\\\":0,\\\"metric_operation\\\":\\\"maximize\\\",\\\"preprocess\\\":true}\", \"DataPrepJsonString\": \"{\\\\\\\"training_data\\\\\\\": \\\\\\\"{\\\\\\\\\\\\\\\"blocks\\\\\\\\\\\\\\\": [{\\\\\\\\\\\\\\\"id\\\\\\\\\\\\\\\": \\\\\\\\\\\\\\\"823dab97-9480-4378-8c08-4aec261bc0f3\\\\\\\\\\\\\\\", \\\\\\\\\\\\\\\"type\\\\\\\\\\\\\\\": \\\\\\\\\\\\\\\"Microsoft.DPrep.GetDatastoreFilesBlock\\\\\\\\\\\\\\\", \\\\\\\\\\\\\\\"arguments\\\\\\\\\\\\\\\": {\\\\\\\\\\\\\\\"datastores\\\\\\\\\\\\\\\": [{\\\\\\\\\\\\\\\"datastoreName\\\\\\\\\\\\\\\": \\\\\\\\\\\\\\\"workspaceblobstore\\\\\\\\\\\\\\\", \\\\\\\\\\\\\\\"path\\\\\\\\\\\\\\\": \\\\\\\\\\\\\\\"UI/01-20-2021_015249_UTC/data.CSV\\\\\\\\\\\\\\\", \\\\\\\\\\\\\\\"resourceGroup\\\\\\\\\\\\\\\": \\\\\\\\\\\\\\\"RG-AZML\\\\\\\\\\\\\\\", \\\\\\\\\\\\\\\"subscription\\\\\\\\\\\\\\\": \\\\\\\\\\\\\\\"a748a023-896b-4719-8f8e-3d1ba62d6e35\\\\\\\\\\\\\\\", \\\\\\\\\\\\\\\"workspaceName\\\\\\\\\\\\\\\": \\\\\\\\\\\\\\\"AZML\\\\\\\\\\\\\\\"}]}, \\\\\\\\\\\\\\\"localData\\\\\\\\\\\\\\\": {}, \\\\\\\\\\\\\\\"isEnabled\\\\\\\\\\\\\\\": true, \\\\\\\\\\\\\\\"name\\\\\\\\\\\\\\\": null, \\\\\\\\\\\\\\\"annotation\\\\\\\\\\\\\\\": null}, {\\\\\\\\\\\\\\\"id\\\\\\\\\\\\\\\": \\\\\\\\\\\\\\\"76adb1eb-bf70-4771-bfa7-4e59f7b8e108\\\\\\\\\\\\\\\", \\\\\\\\\\\\\\\"type\\\\\\\\\\\\\\\": \\\\\\\\\\\\\\\"Microsoft.DPrep.ParseDelimitedBlock\\\\\\\\\\\\\\\", \\\\\\\\\\\\\\\"arguments\\\\\\\\\\\\\\\": {\\\\\\\\\\\\\\\"columnHeadersMode\\\\\\\\\\\\\\\": 1, \\\\\\\\\\\\\\\"fileEncoding\\\\\\\\\\\\\\\": 0, \\\\\\\\\\\\\\\"handleQuotedLineBreaks\\\\\\\\\\\\\\\": false, \\\\\\\\\\\\\\\"preview\\\\\\\\\\\\\\\": false, \\\\\\\\\\\\\\\"separator\\\\\\\\\\\\\\\": \\\\\\\\\\\\\\\";\\\\\\\\\\\\\\\", \\\\\\\\\\\\\\\"skipRows\\\\\\\\\\\\\\\": 0, \\\\\\\\\\\\\\\"skipRowsMode\\\\\\\\\\\\\\\": 0}, \\\\\\\\\\\\\\\"localData\\\\\\\\\\\\\\\": {}, \\\\\\\\\\\\\\\"isEnabled\\\\\\\\\\\\\\\": true, \\\\\\\\\\\\\\\"name\\\\\\\\\\\\\\\": null, \\\\\\\\\\\\\\\"annotation\\\\\\\\\\\\\\\": null}, {\\\\\\\\\\\\\\\"id\\\\\\\\\\\\\\\": \\\\\\\\\\\\\\\"e64ec390-9ab1-4697-a1c0-a78e859f8075\\\\\\\\\\\\\\\", \\\\\\\\\\\\\\\"type\\\\\\\\\\\\\\\": \\\\\\\\\\\\\\\"Microsoft.DPrep.DropColumnsBlock\\\\\\\\\\\\\\\", \\\\\\\\\\\\\\\"arguments\\\\\\\\\\\\\\\": {\\\\\\\\\\\\\\\"columns\\\\\\\\\\\\\\\": {\\\\\\\\\\\\\\\"type\\\\\\\\\\\\\\\": 0, \\\\\\\\\\\\\\\"details\\\\\\\\\\\\\\\": {\\\\\\\\\\\\\\\"selectedColumns\\\\\\\\\\\\\\\": [\\\\\\\\\\\\\\\"Path\\\\\\\\\\\\\\\"]}}}, \\\\\\\\\\\\\\\"localData\\\\\\\\\\\\\\\": {}, \\\\\\\\\\\\\\\"isEnabled\\\\\\\\\\\\\\\": true, \\\\\\\\\\\\\\\"name\\\\\\\\\\\\\\\": null, \\\\\\\\\\\\\\\"annotation\\\\\\\\\\\\\\\": null}, {\\\\\\\\\\\\\\\"id\\\\\\\\\\\\\\\": \\\\\\\\\\\\\\\"6e49ef01-f4a3-43db-8a3e-f72409add096\\\\\\\\\\\\\\\", \\\\\\\\\\\\\\\"type\\\\\\\\\\\\\\\": \\\\\\\\\\\\\\\"Microsoft.DPrep.SetColumnTypesBlock\\\\\\\\\\\\\\\", \\\\\\\\\\\\\\\"arguments\\\\\\\\\\\\\\\": {\\\\\\\\\\\\\\\"columnConversion\\\\\\\\\\\\\\\": [{\\\\\\\\\\\\\\\"column\\\\\\\\\\\\\\\": {\\\\\\\\\\\\\\\"type\\\\\\\\\\\\\\\": 2, \\\\\\\\\\\\\\\"details\\\\\\\\\\\\\\\": {\\\\\\\\\\\\\\\"selectedColumn\\\\\\\\\\\\\\\": \\\\\\\\\\\\\\\"Path\\\\\\\\\\\\\\\"}}, \\\\\\\\\\\\\\\"typeProperty\\\\\\\\\\\\\\\": 0}, {\\\\\\\\\\\\\\\"column\\\\\\\\\\\\\\\": {\\\\\\\\\\\\\\\"type\\\\\\\\\\\\\\\": 2, \\\\\\\\\\\\\\\"details\\\\\\\\\\\\\\\": {\\\\\\\\\\\\\\\"selectedColumn\\\\\\\\\\\\\\\": \\\\\\\\\\\\\\\"TAprov2019_Total\\\\\\\\\\\\\\\"}}, \\\\\\\\\\\\\\\"typeProperty\\\\\\\\\\\\\\\": 3}, {\\\\\\\\\\\\\\\"column\\\\\\\\\\\\\\\": {\\\\\\\\\\\\\\\"type\\\\\\\\\\\\\\\": 2, \\\\\\\\\\\\\\\"details\\\\\\\\\\\\\\\": {\\\\\\\\\\\\\\\"selectedColumn\\\\\\\\\\\\\\\": \\\\\\\\\\\\\\\"TAprov2019_1_serie\\\\\\\\\\\\\\\"}}, \\\\\\\\\\\\\\\"typeProperty\\\\\\\\\\\\\\\": 3}, {\\\\\\\\\\\\\\\"column\\\\\\\\\\\\\\\": {\\\\\\\\\\\\\\\"type\\\\\\\\\\\\\\\": 2, \\\\\\\\\\\\\\\"details\\\\\\\\\\\\\\\": {\\\\\\\\\\\\\\\"selectedColumn\\\\\\\\\\\\\\\": \\\\\\\\\\\\\\\"TAprov2019_2_serie\\\\\\\\\\\\\\\"}}, \\\\\\\\\\\\\\\"typeProperty\\\\\\\\\\\\\\\": 3}, {\\\\\\\\\\\\\\\"column\\\\\\\\\\\\\\\": {\\\\\\\\\\\\\\\"type\\\\\\\\\\\\\\\": 2, \\\\\\\\\\\\\\\"details\\\\\\\\\\\\\\\": {\\\\\\\\\\\\\\\"selectedColumn\\\\\\\\\\\\\\\": \\\\\\\\\\\\\\\"TAprov2019_3_serie\\\\\\\\\\\\\\\"}}, \\\\\\\\\\\\\\\"typeProperty\\\\\\\\\\\\\\\": 3}, {\\\\\\\\\\\\\\\"column\\\\\\\\\\\\\\\": {\\\\\\\\\\\\\\\"type\\\\\\\\\\\\\\\": 2, \\\\\\\\\\\\\\\"details\\\\\\\\\\\\\\\": {\\\\\\\\\\\\\\\"selectedColumn\\\\\\\\\\\\\\\": \\\\\\\\\\\\\\\"TAprov2019_4_serie\\\\\\\\\\\\\\\"}}, \\\\\\\\\\\\\\\"typeProperty\\\\\\\\\\\\\\\": 3}, {\\\\\\\\\\\\\\\"column\\\\\\\\\\\\\\\": {\\\\\\\\\\\\\\\"type\\\\\\\\\\\\\\\": 2, \\\\\\\\\\\\\\\"details\\\\\\\\\\\\\\\": {\\\\\\\\\\\\\\\"selectedColumn\\\\\\\\\\\\\\\": \\\\\\\\\\\\\\\"Indicador_Rendimento\\\\\\\\\\\\\\\"}}, \\\\\\\\\\\\\\\"typeProperty\\\\\\\\\\\\\\\": 3}, {\\\\\\\\\\\\\\\"column\\\\\\\\\\\\\\\": {\\\\\\\\\\\\\\\"type\\\\\\\\\\\\\\\": 2, \\\\\\\\\\\\\\\"details\\\\\\\\\\\\\\\": {\\\\\\\\\\\\\\\"selectedColumn\\\\\\\\\\\\\\\": \\\\\\\\\\\\\\\"SAEB2019_Matematica\\\\\\\\\\\\\\\"}}, \\\\\\\\\\\\\\\"typeProperty\\\\\\\\\\\\\\\": 3}, {\\\\\\\\\\\\\\\"column\\\\\\\\\\\\\\\": {\\\\\\\\\\\\\\\"type\\\\\\\\\\\\\\\": 2, \\\\\\\\\\\\\\\"details\\\\\\\\\\\\\\\": {\\\\\\\\\\\\\\\"selectedColumn\\\\\\\\\\\\\\\": \\\\\\\\\\\\\\\"SAEB2019_Lingua Portuguesa\\\\\\\\\\\\\\\"}}, \\\\\\\\\\\\\\\"typeProperty\\\\\\\\\\\\\\\": 3}, {\\\\\\\\\\\\\\\"column\\\\\\\\\\\\\\\": {\\\\\\\\\\\\\\\"type\\\\\\\\\\\\\\\": 2, \\\\\\\\\\\\\\\"details\\\\\\\\\\\\\\\": {\\\\\\\\\\\\\\\"selectedColumn\\\\\\\\\\\\\\\": \\\\\\\\\\\\\\\"SAEB2019_Nota Media Padronizada\\\\\\\\\\\\\\\"}}, \\\\\\\\\\\\\\\"typeProperty\\\\\\\\\\\\\\\": 3}, {\\\\\\\\\\\\\\\"column\\\\\\\\\\\\\\\": {\\\\\\\\\\\\\\\"type\\\\\\\\\\\\\\\": 2, \\\\\\\\\\\\\\\"details\\\\\\\\\\\\\\\": {\\\\\\\\\\\\\\\"selectedColumn\\\\\\\\\\\\\\\": \\\\\\\\\\\\\\\"IDEB_2019\\\\\\\\\\\\\\\"}}, \\\\\\\\\\\\\\\"typeProperty\\\\\\\\\\\\\\\": 3}]}, \\\\\\\\\\\\\\\"localData\\\\\\\\\\\\\\\": {}, \\\\\\\\\\\\\\\"isEnabled\\\\\\\\\\\\\\\": true, \\\\\\\\\\\\\\\"name\\\\\\\\\\\\\\\": null, \\\\\\\\\\\\\\\"annotation\\\\\\\\\\\\\\\": null}], \\\\\\\\\\\\\\\"inspectors\\\\\\\\\\\\\\\": [], \\\\\\\\\\\\\\\"meta\\\\\\\\\\\\\\\": {\\\\\\\\\\\\\\\"savedDatasetId\\\\\\\\\\\\\\\": \\\\\\\\\\\\\\\"f0599236-e951-454b-a849-7b74ddb516d7\\\\\\\\\\\\\\\", \\\\\\\\\\\\\\\"datasetType\\\\\\\\\\\\\\\": \\\\\\\\\\\\\\\"tabular\\\\\\\\\\\\\\\", \\\\\\\\\\\\\\\"subscriptionId\\\\\\\\\\\\\\\": \\\\\\\\\\\\\\\"a748a023-896b-4719-8f8e-3d1ba62d6e35\\\\\\\\\\\\\\\", \\\\\\\\\\\\\\\"workspaceId\\\\\\\\\\\\\\\": \\\\\\\\\\\\\\\"a7aa8562-5b11-4624-8e55-9a41918831e8\\\\\\\\\\\\\\\", \\\\\\\\\\\\\\\"workspaceLocation\\\\\\\\\\\\\\\": \\\\\\\\\\\\\\\"eastus\\\\\\\\\\\\\\\"}}\\\\\\\", \\\\\\\"activities\\\\\\\": 0}\", \"EnableSubsampling\": null, \"runTemplate\": \"AutoML\", \"azureml.runsource\": \"automl\", \"display_task_type\": \"regression\", \"dependencies_versions\": \"{\\\"azureml-widgets\\\": \\\"1.19.0\\\", \\\"azureml-train\\\": \\\"1.20.0\\\", \\\"azureml-train-restclients-hyperdrive\\\": \\\"1.20.0\\\", \\\"azureml-train-core\\\": \\\"1.20.0\\\", \\\"azureml-train-automl\\\": \\\"1.20.0\\\", \\\"azureml-train-automl-runtime\\\": \\\"1.20.0.post1\\\", \\\"azureml-train-automl-client\\\": \\\"1.20.0\\\", \\\"azureml-tensorboard\\\": \\\"1.19.0\\\", \\\"azureml-telemetry\\\": \\\"1.20.0\\\", \\\"azureml-sdk\\\": \\\"1.20.0\\\", \\\"azureml-samples\\\": \\\"0+unknown\\\", \\\"azureml-pipeline\\\": \\\"1.20.0\\\", \\\"azureml-pipeline-steps\\\": \\\"1.20.0\\\", \\\"azureml-pipeline-core\\\": \\\"1.20.0\\\", \\\"azureml-opendatasets\\\": \\\"1.19.0\\\", \\\"azureml-model-management-sdk\\\": \\\"1.0.1b6.post1\\\", \\\"azureml-mlflow\\\": \\\"1.19.0\\\", \\\"azureml-interpret\\\": \\\"1.20.0\\\", \\\"azureml-explain-model\\\": \\\"1.19.0\\\", \\\"azureml-defaults\\\": \\\"1.20.0\\\", \\\"azureml-dataset-runtime\\\": \\\"1.20.0\\\", \\\"azureml-dataprep\\\": \\\"2.7.3\\\", \\\"azureml-dataprep-rslex\\\": \\\"1.5.0\\\", \\\"azureml-dataprep-native\\\": \\\"27.0.0\\\", \\\"azureml-datadrift\\\": \\\"1.19.0\\\", \\\"azureml-core\\\": \\\"1.20.0\\\", \\\"azureml-contrib-services\\\": \\\"1.19.0\\\", \\\"azureml-contrib-server\\\": \\\"1.19.0\\\", \\\"azureml-contrib-reinforcementlearning\\\": \\\"1.19.0\\\", \\\"azureml-contrib-pipeline-steps\\\": \\\"1.19.0\\\", \\\"azureml-contrib-notebook\\\": \\\"1.19.0\\\", \\\"azureml-contrib-interpret\\\": \\\"1.19.0\\\", \\\"azureml-contrib-gbdt\\\": \\\"1.19.0\\\", \\\"azureml-contrib-fairness\\\": \\\"1.19.0\\\", \\\"azureml-contrib-dataset\\\": \\\"1.19.0\\\", \\\"azureml-cli-common\\\": \\\"1.19.0\\\", \\\"azureml-automl-runtime\\\": \\\"1.20.0\\\", \\\"azureml-automl-core\\\": \\\"1.20.0\\\", \\\"azureml-accel-models\\\": \\\"1.19.0\\\"}\", \"_aml_system_scenario_identification\": \"Remote.Parent\", \"ClientType\": \"SDK\", \"environment_cpu_name\": \"AzureML-AutoML\", \"environment_cpu_label\": \"prod\", \"environment_gpu_name\": \"AzureML-AutoML-GPU\", \"environment_gpu_label\": \"prod\", \"root_attribution\": \"automl\", \"attribution\": \"AutoML\", \"Orchestrator\": \"AutoML\", \"CancelUri\": \"https://eastus.experiments.azureml.net/jasmine/v1.0/subscriptions/a748a023-896b-4719-8f8e-3d1ba62d6e35/resourceGroups/RG-AZML/providers/Microsoft.MachineLearningServices/workspaces/AZML/experimentids/337dcb8b-d3cc-4e85-b122-67c93e8ceec5/cancel/AutoML_7081f1ae-1458-4fb0-9155-7f7ca3dfa64a\", \"ClientSdkVersion\": \"1.20.0.post1\", \"snapshotId\": \"00000000-0000-0000-0000-000000000000\", \"SetupRunId\": \"AutoML_7081f1ae-1458-4fb0-9155-7f7ca3dfa64a_setup\", \"SetupRunContainerId\": \"dcid.AutoML_7081f1ae-1458-4fb0-9155-7f7ca3dfa64a_setup\", \"FeaturizationRunJsonPath\": \"featurizer_container.json\", \"FeaturizationRunId\": \"AutoML_7081f1ae-1458-4fb0-9155-7f7ca3dfa64a_featurize\", \"ProblemInfoJsonString\": \"{\\\"dataset_num_categorical\\\": 0, \\\"is_sparse\\\": false, \\\"subsampling\\\": false, \\\"dataset_classes\\\": 62, \\\"dataset_features\\\": 9, \\\"dataset_samples\\\": 12079, \\\"single_frequency_class_detected\\\": false}\", \"ModelExplainRunId\": \"AutoML_7081f1ae-1458-4fb0-9155-7f7ca3dfa64a_ModelExplain\"}, \"tags\": {\"model_explain_run\": \"best_run\", \"_aml_system_azureml.automlComponent\": \"AutoML\", \"pipeline_id\": \"\", \"score\": \"\", \"predicted_cost\": \"\", \"fit_time\": \"\", \"training_percent\": \"\", \"iteration\": \"\", \"run_preprocessor\": \"\", \"run_algorithm\": \"\", \"dynamic_whitelisting_iterations\": \"<25>;<30>;<34>;<39>;<45>;<49>;<53>;<60>;<65>;<69>;<75>;<80>;<85>;\", \"automl_best_child_run_id\": \"AutoML_7081f1ae-1458-4fb0-9155-7f7ca3dfa64a_86\", \"model_explain_best_run_child_id\": \"AutoML_7081f1ae-1458-4fb0-9155-7f7ca3dfa64a_86\"}, \"end_time_utc\": \"2021-01-24T22:35:27.442272Z\", \"status\": \"Completed\", \"log_files\": {}, \"log_groups\": [], \"run_duration\": \"0:36:18\"}, \"child_runs\": [{\"run_id\": \"AutoML_7081f1ae-1458-4fb0-9155-7f7ca3dfa64a_0\", \"run_number\": 1785, \"metric\": null, \"status\": \"Completed\", \"run_type\": \"azureml.scriptrun\", \"training_percent\": \"100\", \"start_time\": \"2021-01-24T22:02:38.392493Z\", \"end_time\": \"2021-01-24T22:03:31.252055Z\", \"created_time\": \"2021-01-24T22:02:23.359871Z\", \"created_time_dt\": \"2021-01-24T22:02:23.359871Z\", \"duration\": \"0:01:07\", \"iteration\": \"0\", \"goal\": \"r2_score_max\", \"run_name\": \"MaxAbsScaler, LightGBM\", \"run_properties\": \"copy=True\", \"primary_metric\": 0.99661606, \"best_metric\": 0.99661606}, {\"run_id\": \"AutoML_7081f1ae-1458-4fb0-9155-7f7ca3dfa64a_2\", \"run_number\": 1786, \"metric\": null, \"status\": \"Completed\", \"run_type\": \"azureml.scriptrun\", \"training_percent\": \"100\", \"start_time\": \"2021-01-24T22:02:42.189218Z\", \"end_time\": \"2021-01-24T22:03:41.460809Z\", \"created_time\": \"2021-01-24T22:02:23.410629Z\", \"created_time_dt\": \"2021-01-24T22:02:23.410629Z\", \"duration\": \"0:01:18\", \"iteration\": \"2\", \"goal\": \"r2_score_max\", \"run_name\": \"SparseNormalizer, XGBoostRegressor\", \"run_properties\": \"<azureml.automl.runtime.shared.model_wrappers.SparseNormalizer object at 0x7fc84728e0f0\", \"primary_metric\": 0.98735227, \"best_metric\": 0.9967534}, {\"run_id\": \"AutoML_7081f1ae-1458-4fb0-9155-7f7ca3dfa64a_3\", \"run_number\": 1787, \"metric\": null, \"status\": \"Completed\", \"run_type\": \"azureml.scriptrun\", \"training_percent\": \"100\", \"start_time\": \"2021-01-24T22:02:38.178446Z\", \"end_time\": \"2021-01-24T22:03:44.077783Z\", \"created_time\": \"2021-01-24T22:02:23.458966Z\", \"created_time_dt\": \"2021-01-24T22:02:23.458966Z\", \"duration\": \"0:01:20\", \"iteration\": \"3\", \"goal\": \"r2_score_max\", \"run_name\": \"MaxAbsScaler, RandomForest\", \"run_properties\": \"copy=True\", \"primary_metric\": 0.98659002, \"best_metric\": 0.9967534}, {\"run_id\": \"AutoML_7081f1ae-1458-4fb0-9155-7f7ca3dfa64a_1\", \"run_number\": 1788, \"metric\": null, \"status\": \"Completed\", \"run_type\": \"azureml.scriptrun\", \"training_percent\": \"100\", \"start_time\": \"2021-01-24T22:02:40.229724Z\", \"end_time\": \"2021-01-24T22:03:33.475246Z\", \"created_time\": \"2021-01-24T22:02:23.954339Z\", \"created_time_dt\": \"2021-01-24T22:02:23.954339Z\", \"duration\": \"0:01:09\", \"iteration\": \"1\", \"goal\": \"r2_score_max\", \"run_name\": \"MaxAbsScaler, XGBoostRegressor\", \"run_properties\": \"copy=True\", \"primary_metric\": 0.9967534, \"best_metric\": 0.9967534}, {\"run_id\": \"AutoML_7081f1ae-1458-4fb0-9155-7f7ca3dfa64a_4\", \"run_number\": 1789, \"metric\": null, \"status\": \"Completed\", \"run_type\": \"azureml.scriptrun\", \"training_percent\": \"100\", \"start_time\": \"2021-01-24T22:03:47.151328Z\", \"end_time\": \"2021-01-24T22:05:05.915561Z\", \"created_time\": \"2021-01-24T22:03:34.657857Z\", \"created_time_dt\": \"2021-01-24T22:03:34.657857Z\", \"duration\": \"0:01:31\", \"iteration\": \"4\", \"goal\": \"r2_score_max\", \"run_name\": \"StandardScalerWrapper, XGBoostRegressor\", \"run_properties\": \"<azureml.automl.runtime.shared.model_wrappers.StandardScalerWrapper object at 0x7faed028fba8\", \"primary_metric\": 0.99721502, \"best_metric\": 0.99721502}, {\"run_id\": \"AutoML_7081f1ae-1458-4fb0-9155-7f7ca3dfa64a_5\", \"run_number\": 1790, \"metric\": null, \"status\": \"Completed\", \"run_type\": \"azureml.scriptrun\", \"training_percent\": \"100\", \"start_time\": \"2021-01-24T22:03:53.757207Z\", \"end_time\": \"2021-01-24T22:04:54.600147Z\", \"created_time\": \"2021-01-24T22:03:39.227942Z\", \"created_time_dt\": \"2021-01-24T22:03:39.227942Z\", \"duration\": \"0:01:15\", \"iteration\": \"5\", \"goal\": \"r2_score_max\", \"run_name\": \"MaxAbsScaler, ElasticNet\", \"run_properties\": \"copy=True\", \"primary_metric\": 0.99318827, \"best_metric\": 0.99721502}, {\"run_id\": \"AutoML_7081f1ae-1458-4fb0-9155-7f7ca3dfa64a_6\", \"run_number\": 1791, \"metric\": null, \"status\": \"Completed\", \"run_type\": \"azureml.scriptrun\", \"training_percent\": \"100\", \"start_time\": \"2021-01-24T22:03:58.822286Z\", \"end_time\": \"2021-01-24T22:05:43.85366Z\", \"created_time\": \"2021-01-24T22:03:46.1061Z\", \"created_time_dt\": \"2021-01-24T22:03:46.1061Z\", \"duration\": \"0:01:57\", \"iteration\": \"6\", \"goal\": \"r2_score_max\", \"run_name\": \"MinMaxScaler, RandomForest\", \"run_properties\": \"copy=True, feature_range=(0, 1\", \"primary_metric\": 0.97383863, \"best_metric\": 0.99721502}, {\"run_id\": \"AutoML_7081f1ae-1458-4fb0-9155-7f7ca3dfa64a_7\", \"run_number\": 1792, \"metric\": null, \"status\": \"Completed\", \"run_type\": \"azureml.scriptrun\", \"training_percent\": \"100\", \"start_time\": \"2021-01-24T22:04:03.472412Z\", \"end_time\": \"2021-01-24T22:05:00.274682Z\", \"created_time\": \"2021-01-24T22:03:52.634899Z\", \"created_time_dt\": \"2021-01-24T22:03:52.634899Z\", \"duration\": \"0:01:07\", \"iteration\": \"7\", \"goal\": \"r2_score_max\", \"run_name\": \"StandardScalerWrapper, XGBoostRegressor\", \"run_properties\": \"<azureml.automl.runtime.shared.model_wrappers.StandardScalerWrapper object at 0x7f57e4980c50\", \"primary_metric\": 0.99719153, \"best_metric\": 0.99721502}, {\"run_id\": \"AutoML_7081f1ae-1458-4fb0-9155-7f7ca3dfa64a_8\", \"run_number\": 1793, \"metric\": null, \"status\": \"Completed\", \"run_type\": \"azureml.scriptrun\", \"training_percent\": \"100\", \"start_time\": \"2021-01-24T22:05:09.765876Z\", \"end_time\": \"2021-01-24T22:06:09.668385Z\", \"created_time\": \"2021-01-24T22:04:58.444981Z\", \"created_time_dt\": \"2021-01-24T22:04:58.444981Z\", \"duration\": \"0:01:11\", \"iteration\": \"8\", \"goal\": \"r2_score_max\", \"run_name\": \"MinMaxScaler, ExtremeRandomTrees\", \"run_properties\": \"copy=True, feature_range=(0, 1\", \"primary_metric\": 0.99306721, \"best_metric\": 0.99721502}, {\"run_id\": \"AutoML_7081f1ae-1458-4fb0-9155-7f7ca3dfa64a_9\", \"run_number\": 1794, \"metric\": null, \"status\": \"Completed\", \"run_type\": \"azureml.scriptrun\", \"training_percent\": \"100\", \"start_time\": \"2021-01-24T22:05:15.759556Z\", \"end_time\": \"2021-01-24T22:06:18.606048Z\", \"created_time\": \"2021-01-24T22:05:04.283926Z\", \"created_time_dt\": \"2021-01-24T22:05:04.283926Z\", \"duration\": \"0:01:14\", \"iteration\": \"9\", \"goal\": \"r2_score_max\", \"run_name\": \"StandardScalerWrapper, ElasticNet\", \"run_properties\": \"<azureml.automl.runtime.shared.model_wrappers.StandardScalerWrapper object at 0x7f6b343df710\", \"primary_metric\": 0.98936118, \"best_metric\": 0.99721502}, {\"run_id\": \"AutoML_7081f1ae-1458-4fb0-9155-7f7ca3dfa64a_10\", \"run_number\": 1795, \"metric\": null, \"status\": \"Completed\", \"run_type\": \"azureml.scriptrun\", \"training_percent\": \"100\", \"start_time\": \"2021-01-24T22:05:22.61644Z\", \"end_time\": \"2021-01-24T22:07:10.402235Z\", \"created_time\": \"2021-01-24T22:05:10.613224Z\", \"created_time_dt\": \"2021-01-24T22:05:10.613224Z\", \"duration\": \"0:01:59\", \"iteration\": \"10\", \"goal\": \"r2_score_max\", \"run_name\": \"MinMaxScaler, RandomForest\", \"run_properties\": \"copy=True, feature_range=(0, 1\", \"primary_metric\": 0.99336386, \"best_metric\": 0.99721502}, {\"run_id\": \"AutoML_7081f1ae-1458-4fb0-9155-7f7ca3dfa64a_11\", \"run_number\": 1796, \"metric\": null, \"status\": \"Completed\", \"run_type\": \"azureml.scriptrun\", \"training_percent\": \"100\", \"start_time\": \"2021-01-24T22:06:03.328627Z\", \"end_time\": \"2021-01-24T22:07:02.353674Z\", \"created_time\": \"2021-01-24T22:05:47.832886Z\", \"created_time_dt\": \"2021-01-24T22:05:47.832886Z\", \"duration\": \"0:01:14\", \"iteration\": \"11\", \"goal\": \"r2_score_max\", \"run_name\": \"MinMaxScaler, RandomForest\", \"run_properties\": \"copy=True, feature_range=(0, 1\", \"primary_metric\": 0.98967395, \"best_metric\": 0.99721502}, {\"run_id\": \"AutoML_7081f1ae-1458-4fb0-9155-7f7ca3dfa64a_12\", \"run_number\": 1797, \"metric\": null, \"status\": \"Completed\", \"run_type\": \"azureml.scriptrun\", \"training_percent\": \"100\", \"start_time\": \"2021-01-24T22:06:24.782302Z\", \"end_time\": \"2021-01-24T22:07:21.346824Z\", \"created_time\": \"2021-01-24T22:06:13.656545Z\", \"created_time_dt\": \"2021-01-24T22:06:13.656545Z\", \"duration\": \"0:01:07\", \"iteration\": \"12\", \"goal\": \"r2_score_max\", \"run_name\": \"StandardScalerWrapper, XGBoostRegressor\", \"run_properties\": \"<azureml.automl.runtime.shared.model_wrappers.StandardScalerWrapper object at 0x7f6eb89e1ba8\", \"primary_metric\": 0.8736558, \"best_metric\": 0.99721502}, {\"run_id\": \"AutoML_7081f1ae-1458-4fb0-9155-7f7ca3dfa64a_13\", \"run_number\": 1798, \"metric\": null, \"status\": \"Completed\", \"run_type\": \"azureml.scriptrun\", \"training_percent\": \"100\", \"start_time\": \"2021-01-24T22:06:39.148889Z\", \"end_time\": \"2021-01-24T22:07:36.838975Z\", \"created_time\": \"2021-01-24T22:06:22.44091Z\", \"created_time_dt\": \"2021-01-24T22:06:22.44091Z\", \"duration\": \"0:01:14\", \"iteration\": \"13\", \"goal\": \"r2_score_max\", \"run_name\": \"RobustScaler, LassoLars\", \"run_properties\": \"copy=True, quantile_range=[10, 90], with_centering=False,\\n             with_scaling=True\", \"primary_metric\": 0.99363867, \"best_metric\": 0.99721502}, {\"run_id\": \"AutoML_7081f1ae-1458-4fb0-9155-7f7ca3dfa64a_14\", \"run_number\": 1799, \"metric\": null, \"status\": \"Completed\", \"run_type\": \"azureml.scriptrun\", \"training_percent\": \"100\", \"start_time\": \"2021-01-24T22:07:26.020065Z\", \"end_time\": \"2021-01-24T22:08:27.855399Z\", \"created_time\": \"2021-01-24T22:07:06.272546Z\", \"created_time_dt\": \"2021-01-24T22:07:06.272546Z\", \"duration\": \"0:01:21\", \"iteration\": \"14\", \"goal\": \"r2_score_max\", \"run_name\": \"MinMaxScaler, ExtremeRandomTrees\", \"run_properties\": \"copy=True, feature_range=(0, 1\", \"primary_metric\": 0.993215, \"best_metric\": 0.99721502}, {\"run_id\": \"AutoML_7081f1ae-1458-4fb0-9155-7f7ca3dfa64a_15\", \"run_number\": 1800, \"metric\": null, \"status\": \"Completed\", \"run_type\": \"azureml.scriptrun\", \"training_percent\": \"100\", \"start_time\": \"2021-01-24T22:07:26.556768Z\", \"end_time\": \"2021-01-24T22:08:34.3089Z\", \"created_time\": \"2021-01-24T22:07:15.216315Z\", \"created_time_dt\": \"2021-01-24T22:07:15.216315Z\", \"duration\": \"0:01:19\", \"iteration\": \"15\", \"goal\": \"r2_score_max\", \"run_name\": \"MaxAbsScaler, ExtremeRandomTrees\", \"run_properties\": \"copy=True\", \"primary_metric\": 0.8483827, \"best_metric\": 0.99721502}, {\"run_id\": \"AutoML_7081f1ae-1458-4fb0-9155-7f7ca3dfa64a_16\", \"run_number\": 1801, \"metric\": null, \"status\": \"Completed\", \"run_type\": \"azureml.scriptrun\", \"training_percent\": \"100\", \"start_time\": \"2021-01-24T22:07:39.519553Z\", \"end_time\": \"2021-01-24T22:08:39.176832Z\", \"created_time\": \"2021-01-24T22:07:25.407138Z\", \"created_time_dt\": \"2021-01-24T22:07:25.407138Z\", \"duration\": \"0:01:13\", \"iteration\": \"16\", \"goal\": \"r2_score_max\", \"run_name\": \"MinMaxScaler, ExtremeRandomTrees\", \"run_properties\": \"copy=True, feature_range=(0, 1\", \"primary_metric\": 0.99205091, \"best_metric\": 0.99721502}, {\"run_id\": \"AutoML_7081f1ae-1458-4fb0-9155-7f7ca3dfa64a_17\", \"run_number\": 1802, \"metric\": null, \"status\": \"Completed\", \"run_type\": \"azureml.scriptrun\", \"training_percent\": \"100\", \"start_time\": \"2021-01-24T22:07:55.787684Z\", \"end_time\": \"2021-01-24T22:08:47.65682Z\", \"created_time\": \"2021-01-24T22:07:41.049979Z\", \"created_time_dt\": \"2021-01-24T22:07:41.049979Z\", \"duration\": \"0:01:06\", \"iteration\": \"17\", \"goal\": \"r2_score_max\", \"run_name\": \"MaxAbsScaler, ElasticNet\", \"run_properties\": \"copy=True\", \"primary_metric\": 0.99195979, \"best_metric\": 0.99721502}, {\"run_id\": \"AutoML_7081f1ae-1458-4fb0-9155-7f7ca3dfa64a_18\", \"run_number\": 1803, \"metric\": null, \"status\": \"Completed\", \"run_type\": \"azureml.scriptrun\", \"training_percent\": \"100\", \"start_time\": \"2021-01-24T22:08:47.180285Z\", \"end_time\": \"2021-01-24T22:09:42.236572Z\", \"created_time\": \"2021-01-24T22:08:32.377122Z\", \"created_time_dt\": \"2021-01-24T22:08:32.377122Z\", \"duration\": \"0:01:09\", \"iteration\": \"18\", \"goal\": \"r2_score_max\", \"run_name\": \"MinMaxScaler, RandomForest\", \"run_properties\": \"copy=True, feature_range=(0, 1\", \"primary_metric\": 0.89314912, \"best_metric\": 0.99721502}, {\"run_id\": \"AutoML_7081f1ae-1458-4fb0-9155-7f7ca3dfa64a_19\", \"run_number\": 1804, \"metric\": null, \"status\": \"Completed\", \"run_type\": \"azureml.scriptrun\", \"training_percent\": \"100\", \"start_time\": \"2021-01-24T22:08:53.215268Z\", \"end_time\": \"2021-01-24T22:09:43.753987Z\", \"created_time\": \"2021-01-24T22:08:39.002881Z\", \"created_time_dt\": \"2021-01-24T22:08:39.002881Z\", \"duration\": \"0:01:04\", \"iteration\": \"19\", \"goal\": \"r2_score_max\", \"run_name\": \"MaxAbsScaler, RandomForest\", \"run_properties\": \"copy=True\", \"primary_metric\": 0.96003342, \"best_metric\": 0.99721502}, {\"run_id\": \"AutoML_7081f1ae-1458-4fb0-9155-7f7ca3dfa64a_20\", \"run_number\": 1805, \"metric\": null, \"status\": \"Completed\", \"run_type\": \"azureml.scriptrun\", \"training_percent\": \"100\", \"start_time\": \"2021-01-24T22:08:59.430655Z\", \"end_time\": \"2021-01-24T22:09:53.064356Z\", \"created_time\": \"2021-01-24T22:08:44.636909Z\", \"created_time_dt\": \"2021-01-24T22:08:44.636909Z\", \"duration\": \"0:01:08\", \"iteration\": \"20\", \"goal\": \"r2_score_max\", \"run_name\": \"RobustScaler, ElasticNet\", \"run_properties\": \"copy=True, quantile_range=[10, 90], with_centering=True,\\n             with_scaling=False\", \"primary_metric\": 0.99199963, \"best_metric\": 0.99721502}, {\"run_id\": \"AutoML_7081f1ae-1458-4fb0-9155-7f7ca3dfa64a_21\", \"run_number\": 1806, \"metric\": null, \"status\": \"Completed\", \"run_type\": \"azureml.scriptrun\", \"training_percent\": \"100\", \"start_time\": \"2021-01-24T22:09:07.464971Z\", \"end_time\": \"2021-01-24T22:10:35.195466Z\", \"created_time\": \"2021-01-24T22:08:52.195853Z\", \"created_time_dt\": \"2021-01-24T22:08:52.195853Z\", \"duration\": \"0:01:42\", \"iteration\": \"21\", \"goal\": \"r2_score_max\", \"run_name\": \"StandardScalerWrapper, RandomForest\", \"run_properties\": \"<azureml.automl.runtime.shared.model_wrappers.StandardScalerWrapper object at 0x7f3184506cf8\", \"primary_metric\": 0.91272408, \"best_metric\": 0.99721502}, {\"run_id\": \"AutoML_7081f1ae-1458-4fb0-9155-7f7ca3dfa64a_22\", \"run_number\": 1807, \"metric\": null, \"status\": \"Completed\", \"run_type\": \"azureml.scriptrun\", \"training_percent\": \"100\", \"start_time\": \"2021-01-24T22:10:02.112108Z\", \"end_time\": \"2021-01-24T22:11:10.718893Z\", \"created_time\": \"2021-01-24T22:09:46.379853Z\", \"created_time_dt\": \"2021-01-24T22:09:46.379853Z\", \"duration\": \"0:01:24\", \"iteration\": \"22\", \"goal\": \"r2_score_max\", \"run_name\": \"MaxAbsScaler, ElasticNet\", \"run_properties\": \"copy=True\", \"primary_metric\": 0.99239079, \"best_metric\": 0.99721502}, {\"run_id\": \"AutoML_7081f1ae-1458-4fb0-9155-7f7ca3dfa64a_23\", \"run_number\": 1808, \"metric\": null, \"status\": \"Completed\", \"run_type\": \"azureml.scriptrun\", \"training_percent\": \"100\", \"start_time\": \"2021-01-24T22:10:04.739701Z\", \"end_time\": \"2021-01-24T22:11:03.501585Z\", \"created_time\": \"2021-01-24T22:09:53.491989Z\", \"created_time_dt\": \"2021-01-24T22:09:53.491989Z\", \"duration\": \"0:01:10\", \"iteration\": \"23\", \"goal\": \"r2_score_max\", \"run_name\": \"MinMaxScaler, LightGBM\", \"run_properties\": \"copy=True, feature_range=(0, 1\", \"primary_metric\": 0.99440947, \"best_metric\": 0.99721502}, {\"run_id\": \"AutoML_7081f1ae-1458-4fb0-9155-7f7ca3dfa64a_24\", \"run_number\": 1809, \"metric\": null, \"status\": \"Completed\", \"run_type\": \"azureml.scriptrun\", \"training_percent\": \"100\", \"start_time\": \"2021-01-24T22:10:11.016912Z\", \"end_time\": \"2021-01-24T22:11:12.347022Z\", \"created_time\": \"2021-01-24T22:09:59.245363Z\", \"created_time_dt\": \"2021-01-24T22:09:59.245363Z\", \"duration\": \"0:01:13\", \"iteration\": \"24\", \"goal\": \"r2_score_max\", \"run_name\": \"StandardScalerWrapper, XGBoostRegressor\", \"run_properties\": \"<azureml.automl.runtime.shared.model_wrappers.StandardScalerWrapper object at 0x7f33aa3db1d0\", \"primary_metric\": 0.9961839, \"best_metric\": 0.99721502}, {\"run_id\": \"AutoML_7081f1ae-1458-4fb0-9155-7f7ca3dfa64a_25\", \"run_number\": 1810, \"metric\": null, \"status\": \"Completed\", \"run_type\": \"azureml.scriptrun\", \"training_percent\": \"100\", \"start_time\": \"2021-01-24T22:10:57.258946Z\", \"end_time\": \"2021-01-24T22:11:58.590593Z\", \"created_time\": \"2021-01-24T22:10:39.732483Z\", \"created_time_dt\": \"2021-01-24T22:10:39.732483Z\", \"duration\": \"0:01:18\", \"iteration\": \"25\", \"goal\": \"r2_score_max\", \"run_name\": \"SparseNormalizer, XGBoostRegressor\", \"run_properties\": \"<azureml.automl.runtime.shared.model_wrappers.SparseNormalizer object at 0x7fbc5c2992b0\", \"primary_metric\": 0.75570782, \"best_metric\": 0.99721502}, {\"run_id\": \"AutoML_7081f1ae-1458-4fb0-9155-7f7ca3dfa64a_26\", \"run_number\": 1811, \"metric\": null, \"status\": \"Completed\", \"run_type\": \"azureml.scriptrun\", \"training_percent\": \"100\", \"start_time\": \"2021-01-24T22:11:22.15969Z\", \"end_time\": \"2021-01-24T22:12:26.54551Z\", \"created_time\": \"2021-01-24T22:11:06.571684Z\", \"created_time_dt\": \"2021-01-24T22:11:06.571684Z\", \"duration\": \"0:01:19\", \"iteration\": \"26\", \"goal\": \"r2_score_max\", \"run_name\": \"StandardScalerWrapper, RandomForest\", \"run_properties\": \"<azureml.automl.runtime.shared.model_wrappers.StandardScalerWrapper object at 0x7f3e4f51a358\", \"primary_metric\": 0.89800489, \"best_metric\": 0.99721502}, {\"run_id\": \"AutoML_7081f1ae-1458-4fb0-9155-7f7ca3dfa64a_27\", \"run_number\": 1812, \"metric\": null, \"status\": \"Completed\", \"run_type\": \"azureml.scriptrun\", \"training_percent\": \"100\", \"start_time\": \"2021-01-24T22:11:27.712201Z\", \"end_time\": \"2021-01-24T22:12:30.287754Z\", \"created_time\": \"2021-01-24T22:11:13.707196Z\", \"created_time_dt\": \"2021-01-24T22:11:13.707196Z\", \"duration\": \"0:01:16\", \"iteration\": \"27\", \"goal\": \"r2_score_max\", \"run_name\": \"SparseNormalizer, XGBoostRegressor\", \"run_properties\": \"<azureml.automl.runtime.shared.model_wrappers.SparseNormalizer object at 0x7fe46ab98b00\", \"primary_metric\": 0.83385552, \"best_metric\": 0.99721502}, {\"run_id\": \"AutoML_7081f1ae-1458-4fb0-9155-7f7ca3dfa64a_28\", \"run_number\": 1813, \"metric\": null, \"status\": \"Completed\", \"run_type\": \"azureml.scriptrun\", \"training_percent\": \"100\", \"start_time\": \"2021-01-24T22:11:31.215583Z\", \"end_time\": \"2021-01-24T22:12:23.885279Z\", \"created_time\": \"2021-01-24T22:11:18.856172Z\", \"created_time_dt\": \"2021-01-24T22:11:18.856172Z\", \"duration\": \"0:01:05\", \"iteration\": \"28\", \"goal\": \"r2_score_max\", \"run_name\": \"RobustScaler, LightGBM\", \"run_properties\": \"copy=True, quantile_range=[25, 75], with_centering=True,\\n             with_scaling=True\", \"primary_metric\": 0.9877838, \"best_metric\": 0.99721502}, {\"run_id\": \"AutoML_7081f1ae-1458-4fb0-9155-7f7ca3dfa64a_29\", \"run_number\": 1814, \"metric\": null, \"status\": \"Completed\", \"run_type\": \"azureml.scriptrun\", \"training_percent\": \"100\", \"start_time\": \"2021-01-24T22:12:17.511008Z\", \"end_time\": \"2021-01-24T22:13:35.791824Z\", \"created_time\": \"2021-01-24T22:12:04.998823Z\", \"created_time_dt\": \"2021-01-24T22:12:04.998823Z\", \"duration\": \"0:01:30\", \"iteration\": \"29\", \"goal\": \"r2_score_max\", \"run_name\": \"StandardScalerWrapper, RandomForest\", \"run_properties\": \"<azureml.automl.runtime.shared.model_wrappers.StandardScalerWrapper object at 0x7f00001bbcc0\", \"primary_metric\": 0.98620318, \"best_metric\": 0.99721502}, {\"run_id\": \"AutoML_7081f1ae-1458-4fb0-9155-7f7ca3dfa64a_30\", \"run_number\": 1815, \"metric\": null, \"status\": \"Completed\", \"run_type\": \"azureml.scriptrun\", \"training_percent\": \"100\", \"start_time\": \"2021-01-24T22:12:47.289643Z\", \"end_time\": \"2021-01-24T22:14:03.171433Z\", \"created_time\": \"2021-01-24T22:12:28.062153Z\", \"created_time_dt\": \"2021-01-24T22:12:28.062153Z\", \"duration\": \"0:01:35\", \"iteration\": \"30\", \"goal\": \"r2_score_max\", \"run_name\": \"PCA, XGBoostRegressor\", \"run_properties\": \"copy=True, iterated_power='auto', n_components=0.01, random_state=None,\\n    svd_solver='auto', tol=0.0, whiten=False\", \"primary_metric\": 0.80695534, \"best_metric\": 0.99721502}, {\"run_id\": \"AutoML_7081f1ae-1458-4fb0-9155-7f7ca3dfa64a_31\", \"run_number\": 1816, \"metric\": null, \"status\": \"Completed\", \"run_type\": \"azureml.scriptrun\", \"training_percent\": \"100\", \"start_time\": \"2021-01-24T22:12:49.428026Z\", \"end_time\": \"2021-01-24T22:13:51.853718Z\", \"created_time\": \"2021-01-24T22:12:33.775526Z\", \"created_time_dt\": \"2021-01-24T22:12:33.775526Z\", \"duration\": \"0:01:18\", \"iteration\": \"31\", \"goal\": \"r2_score_max\", \"run_name\": \"MaxAbsScaler, LightGBM\", \"run_properties\": \"copy=True\", \"primary_metric\": 0.99326541, \"best_metric\": 0.99721502}, {\"run_id\": \"AutoML_7081f1ae-1458-4fb0-9155-7f7ca3dfa64a_32\", \"run_number\": 1817, \"metric\": null, \"status\": \"Completed\", \"run_type\": \"azureml.scriptrun\", \"training_percent\": \"100\", \"start_time\": \"2021-01-24T22:12:49.412701Z\", \"end_time\": \"2021-01-24T22:13:52.258055Z\", \"created_time\": \"2021-01-24T22:12:33.783477Z\", \"created_time_dt\": \"2021-01-24T22:12:33.783477Z\", \"duration\": \"0:01:18\", \"iteration\": \"32\", \"goal\": \"r2_score_max\", \"run_name\": \"RobustScaler, LightGBM\", \"run_properties\": \"copy=True, quantile_range=[10, 90], with_centering=False,\\n             with_scaling=True\", \"primary_metric\": 0.99363541, \"best_metric\": 0.99721502}, {\"run_id\": \"AutoML_7081f1ae-1458-4fb0-9155-7f7ca3dfa64a_33\", \"run_number\": 1818, \"metric\": null, \"status\": \"Completed\", \"run_type\": \"azureml.scriptrun\", \"training_percent\": \"100\", \"start_time\": \"2021-01-24T22:13:57.331986Z\", \"end_time\": \"2021-01-24T22:14:57.686662Z\", \"created_time\": \"2021-01-24T22:13:40.110561Z\", \"created_time_dt\": \"2021-01-24T22:13:40.110561Z\", \"duration\": \"0:01:17\", \"iteration\": \"33\", \"goal\": \"r2_score_max\", \"run_name\": \"StandardScalerWrapper, XGBoostRegressor\", \"run_properties\": \"<azureml.automl.runtime.shared.model_wrappers.StandardScalerWrapper object at 0x7f8057325128\", \"primary_metric\": 0.99381913, \"best_metric\": 0.99721502}, {\"run_id\": \"AutoML_7081f1ae-1458-4fb0-9155-7f7ca3dfa64a_34\", \"run_number\": 1819, \"metric\": null, \"status\": \"Completed\", \"run_type\": \"azureml.scriptrun\", \"training_percent\": \"100\", \"start_time\": \"2021-01-24T22:14:09.004381Z\", \"end_time\": \"2021-01-24T22:15:10.640889Z\", \"created_time\": \"2021-01-24T22:13:56.0549Z\", \"created_time_dt\": \"2021-01-24T22:13:56.0549Z\", \"duration\": \"0:01:14\", \"iteration\": \"34\", \"goal\": \"r2_score_max\", \"run_name\": \"PCA, XGBoostRegressor\", \"run_properties\": \"copy=True, iterated_power='auto', n_components=0.9005263157894737,\\n    random_state=None, svd_solver='auto', tol=0.0, whiten=False\", \"primary_metric\": 0.98905074, \"best_metric\": 0.99721502}, {\"run_id\": \"AutoML_7081f1ae-1458-4fb0-9155-7f7ca3dfa64a_35\", \"run_number\": 1820, \"metric\": null, \"status\": \"Completed\", \"run_type\": \"azureml.scriptrun\", \"training_percent\": \"100\", \"start_time\": \"2021-01-24T22:14:09.998498Z\", \"end_time\": \"2021-01-24T22:15:12.594586Z\", \"created_time\": \"2021-01-24T22:13:56.258999Z\", \"created_time_dt\": \"2021-01-24T22:13:56.258999Z\", \"duration\": \"0:01:16\", \"iteration\": \"35\", \"goal\": \"r2_score_max\", \"run_name\": \"MaxAbsScaler, DecisionTree\", \"run_properties\": \"copy=True\", \"primary_metric\": 0.94829401, \"best_metric\": 0.99721502}, {\"run_id\": \"AutoML_7081f1ae-1458-4fb0-9155-7f7ca3dfa64a_36\", \"run_number\": 1821, \"metric\": null, \"status\": \"Completed\", \"run_type\": \"azureml.scriptrun\", \"training_percent\": \"100\", \"start_time\": \"2021-01-24T22:14:19.837514Z\", \"end_time\": \"2021-01-24T22:15:12.277374Z\", \"created_time\": \"2021-01-24T22:14:06.1799Z\", \"created_time_dt\": \"2021-01-24T22:14:06.1799Z\", \"duration\": \"0:01:06\", \"iteration\": \"36\", \"goal\": \"r2_score_max\", \"run_name\": \"RobustScaler, ElasticNet\", \"run_properties\": \"copy=True, quantile_range=[10, 90], with_centering=True,\\n             with_scaling=False\", \"primary_metric\": 0.99209156, \"best_metric\": 0.99721502}, {\"run_id\": \"AutoML_7081f1ae-1458-4fb0-9155-7f7ca3dfa64a_37\", \"run_number\": 1822, \"metric\": null, \"status\": \"Completed\", \"run_type\": \"azureml.scriptrun\", \"training_percent\": \"100\", \"start_time\": \"2021-01-24T22:15:18.459125Z\", \"end_time\": \"2021-01-24T22:16:17.102448Z\", \"created_time\": \"2021-01-24T22:15:00.418525Z\", \"created_time_dt\": \"2021-01-24T22:15:00.418525Z\", \"duration\": \"0:01:16\", \"iteration\": \"37\", \"goal\": \"r2_score_max\", \"run_name\": \"StandardScalerWrapper, ElasticNet\", \"run_properties\": \"<azureml.automl.runtime.shared.model_wrappers.StandardScalerWrapper object at 0x7f1382ee2588\", \"primary_metric\": 0.99363657, \"best_metric\": 0.99721502}, {\"run_id\": \"AutoML_7081f1ae-1458-4fb0-9155-7f7ca3dfa64a_38\", \"run_number\": 1823, \"metric\": null, \"status\": \"Completed\", \"run_type\": \"azureml.scriptrun\", \"training_percent\": \"100\", \"start_time\": \"2021-01-24T22:15:29.773169Z\", \"end_time\": \"2021-01-24T22:17:04.494229Z\", \"created_time\": \"2021-01-24T22:15:13.575448Z\", \"created_time_dt\": \"2021-01-24T22:15:13.575448Z\", \"duration\": \"0:01:50\", \"iteration\": \"38\", \"goal\": \"r2_score_max\", \"run_name\": \"StandardScalerWrapper, ElasticNet\", \"run_properties\": \"<azureml.automl.runtime.shared.model_wrappers.StandardScalerWrapper object at 0x7fa8bc0ff6d8\", \"primary_metric\": 0.99363442, \"best_metric\": 0.99721502}, {\"run_id\": \"AutoML_7081f1ae-1458-4fb0-9155-7f7ca3dfa64a_40\", \"run_number\": 1824, \"metric\": null, \"status\": \"Completed\", \"run_type\": \"azureml.scriptrun\", \"training_percent\": \"100\", \"start_time\": \"2021-01-24T22:15:33.326606Z\", \"end_time\": \"2021-01-24T22:16:36.672667Z\", \"created_time\": \"2021-01-24T22:15:21.139111Z\", \"created_time_dt\": \"2021-01-24T22:15:21.139111Z\", \"duration\": \"0:01:15\", \"iteration\": \"40\", \"goal\": \"r2_score_max\", \"run_name\": \"StandardScalerWrapper, ElasticNet\", \"run_properties\": \"<azureml.automl.runtime.shared.model_wrappers.StandardScalerWrapper object at 0x7f1d5871e588\", \"primary_metric\": 0.99209156, \"best_metric\": 0.99721502}, {\"run_id\": \"AutoML_7081f1ae-1458-4fb0-9155-7f7ca3dfa64a_39\", \"run_number\": 1825, \"metric\": null, \"status\": \"Completed\", \"run_type\": \"azureml.scriptrun\", \"training_percent\": \"100\", \"start_time\": \"2021-01-24T22:15:35.473788Z\", \"end_time\": \"2021-01-24T22:16:28.445741Z\", \"created_time\": \"2021-01-24T22:15:21.147121Z\", \"created_time_dt\": \"2021-01-24T22:15:21.147121Z\", \"duration\": \"0:01:07\", \"iteration\": \"39\", \"goal\": \"r2_score_max\", \"run_name\": \"PCA, XGBoostRegressor\", \"run_properties\": \"copy=True, iterated_power='auto', n_components=0.5542105263157895,\\n    random_state=None, svd_solver='auto', tol=0.0, whiten=True\", \"primary_metric\": -1.0, \"best_metric\": 0.99721502}, {\"run_id\": \"AutoML_7081f1ae-1458-4fb0-9155-7f7ca3dfa64a_41\", \"run_number\": 1826, \"metric\": null, \"status\": \"Completed\", \"run_type\": \"azureml.scriptrun\", \"training_percent\": \"100\", \"start_time\": \"2021-01-24T22:16:34.156389Z\", \"end_time\": \"2021-01-24T22:17:45.209119Z\", \"created_time\": \"2021-01-24T22:16:19.878286Z\", \"created_time_dt\": \"2021-01-24T22:16:19.878286Z\", \"duration\": \"0:01:25\", \"iteration\": \"41\", \"goal\": \"r2_score_max\", \"run_name\": \"MaxAbsScaler, ExtremeRandomTrees\", \"run_properties\": \"copy=True\", \"primary_metric\": 0.96229846, \"best_metric\": 0.99721502}, {\"run_id\": \"AutoML_7081f1ae-1458-4fb0-9155-7f7ca3dfa64a_42\", \"run_number\": 1827, \"metric\": null, \"status\": \"Completed\", \"run_type\": \"azureml.scriptrun\", \"training_percent\": \"100\", \"start_time\": \"2021-01-24T22:16:44.339812Z\", \"end_time\": \"2021-01-24T22:17:39.772724Z\", \"created_time\": \"2021-01-24T22:16:31.929658Z\", \"created_time_dt\": \"2021-01-24T22:16:31.929658Z\", \"duration\": \"0:01:07\", \"iteration\": \"42\", \"goal\": \"r2_score_max\", \"run_name\": \"StandardScalerWrapper, DecisionTree\", \"run_properties\": \"<azureml.automl.runtime.shared.model_wrappers.StandardScalerWrapper object at 0x7f4e8df47f60\", \"primary_metric\": 0.97854845, \"best_metric\": 0.99721502}, {\"run_id\": \"AutoML_7081f1ae-1458-4fb0-9155-7f7ca3dfa64a_43\", \"run_number\": 1828, \"metric\": null, \"status\": \"Completed\", \"run_type\": \"azureml.scriptrun\", \"training_percent\": \"100\", \"start_time\": \"2021-01-24T22:16:53.956588Z\", \"end_time\": \"2021-01-24T22:17:49.180672Z\", \"created_time\": \"2021-01-24T22:16:39.554299Z\", \"created_time_dt\": \"2021-01-24T22:16:39.554299Z\", \"duration\": \"0:01:09\", \"iteration\": \"43\", \"goal\": \"r2_score_max\", \"run_name\": \"StandardScalerWrapper, DecisionTree\", \"run_properties\": \"<azureml.automl.runtime.shared.model_wrappers.StandardScalerWrapper object at 0x7fb3aac562b0\", \"primary_metric\": 0.94867954, \"best_metric\": 0.99721502}, {\"run_id\": \"AutoML_7081f1ae-1458-4fb0-9155-7f7ca3dfa64a_44\", \"run_number\": 1829, \"metric\": null, \"status\": \"Completed\", \"run_type\": \"azureml.scriptrun\", \"training_percent\": \"100\", \"start_time\": \"2021-01-24T22:17:48.297973Z\", \"end_time\": \"2021-01-24T22:18:51.034405Z\", \"created_time\": \"2021-01-24T22:17:07.653776Z\", \"created_time_dt\": \"2021-01-24T22:17:07.653776Z\", \"duration\": \"0:01:43\", \"iteration\": \"44\", \"goal\": \"r2_score_max\", \"run_name\": \"MinMaxScaler, RandomForest\", \"run_properties\": \"copy=True, feature_range=(0, 1\", \"primary_metric\": 0.96285197, \"best_metric\": 0.99721502}, {\"run_id\": \"AutoML_7081f1ae-1458-4fb0-9155-7f7ca3dfa64a_45\", \"run_number\": 1830, \"metric\": null, \"status\": \"Completed\", \"run_type\": \"azureml.scriptrun\", \"training_percent\": \"100\", \"start_time\": \"2021-01-24T22:17:59.982204Z\", \"end_time\": \"2021-01-24T22:18:59.098481Z\", \"created_time\": \"2021-01-24T22:17:43.694431Z\", \"created_time_dt\": \"2021-01-24T22:17:43.694431Z\", \"duration\": \"0:01:15\", \"iteration\": \"45\", \"goal\": \"r2_score_max\", \"run_name\": \"StandardScalerWrapper, XGBoostRegressor\", \"run_properties\": \"<azureml.automl.runtime.shared.model_wrappers.StandardScalerWrapper object at 0x7f8facc9bb00\", \"primary_metric\": 0.99182477, \"best_metric\": 0.99721502}, {\"run_id\": \"AutoML_7081f1ae-1458-4fb0-9155-7f7ca3dfa64a_46\", \"run_number\": 1831, \"metric\": null, \"status\": \"Completed\", \"run_type\": \"azureml.scriptrun\", \"training_percent\": \"100\", \"start_time\": \"2021-01-24T22:18:07.731556Z\", \"end_time\": \"2021-01-24T22:19:04.399218Z\", \"created_time\": \"2021-01-24T22:17:50.740139Z\", \"created_time_dt\": \"2021-01-24T22:17:50.740139Z\", \"duration\": \"0:01:13\", \"iteration\": \"46\", \"goal\": \"r2_score_max\", \"run_name\": \"StandardScalerWrapper, DecisionTree\", \"run_properties\": \"<azureml.automl.runtime.shared.model_wrappers.StandardScalerWrapper object at 0x7f0f6250dac8\", \"primary_metric\": 0.96307603, \"best_metric\": 0.99721502}, {\"run_id\": \"AutoML_7081f1ae-1458-4fb0-9155-7f7ca3dfa64a_47\", \"run_number\": 1832, \"metric\": null, \"status\": \"Completed\", \"run_type\": \"azureml.scriptrun\", \"training_percent\": \"100\", \"start_time\": \"2021-01-24T22:18:10.778708Z\", \"end_time\": \"2021-01-24T22:19:01.482043Z\", \"created_time\": \"2021-01-24T22:17:58.863467Z\", \"created_time_dt\": \"2021-01-24T22:17:58.863467Z\", \"duration\": \"0:01:02\", \"iteration\": \"47\", \"goal\": \"r2_score_max\", \"run_name\": \"MaxAbsScaler, DecisionTree\", \"run_properties\": \"copy=True\", \"primary_metric\": 0.97961475, \"best_metric\": 0.99721502}, {\"run_id\": \"AutoML_7081f1ae-1458-4fb0-9155-7f7ca3dfa64a_48\", \"run_number\": 1833, \"metric\": null, \"status\": \"Completed\", \"run_type\": \"azureml.scriptrun\", \"training_percent\": \"100\", \"start_time\": \"2021-01-24T22:19:13.878451Z\", \"end_time\": \"2021-01-24T22:20:26.284038Z\", \"created_time\": \"2021-01-24T22:18:55.203675Z\", \"created_time_dt\": \"2021-01-24T22:18:55.203675Z\", \"duration\": \"0:01:31\", \"iteration\": \"48\", \"goal\": \"r2_score_max\", \"run_name\": \"StandardScalerWrapper, ElasticNet\", \"run_properties\": \"<azureml.automl.runtime.shared.model_wrappers.StandardScalerWrapper object at 0x7f724009f630\", \"primary_metric\": 0.99195238, \"best_metric\": 0.99721502}, {\"run_id\": \"AutoML_7081f1ae-1458-4fb0-9155-7f7ca3dfa64a_50\", \"run_number\": 1834, \"metric\": null, \"status\": \"Completed\", \"run_type\": \"azureml.scriptrun\", \"training_percent\": \"100\", \"start_time\": \"2021-01-24T22:19:25.215195Z\", \"end_time\": \"2021-01-24T22:20:31.664542Z\", \"created_time\": \"2021-01-24T22:19:09.764947Z\", \"created_time_dt\": \"2021-01-24T22:19:09.764947Z\", \"duration\": \"0:01:21\", \"iteration\": \"50\", \"goal\": \"r2_score_max\", \"run_name\": \"MinMaxScaler, RandomForest\", \"run_properties\": \"copy=True, feature_range=(0, 1\", \"primary_metric\": 0.99053336, \"best_metric\": 0.99721502}, {\"run_id\": \"AutoML_7081f1ae-1458-4fb0-9155-7f7ca3dfa64a_49\", \"run_number\": 1835, \"metric\": null, \"status\": \"Completed\", \"run_type\": \"azureml.scriptrun\", \"training_percent\": \"100\", \"start_time\": \"2021-01-24T22:19:27.284169Z\", \"end_time\": \"2021-01-24T22:20:28.565991Z\", \"created_time\": \"2021-01-24T22:19:10.129525Z\", \"created_time_dt\": \"2021-01-24T22:19:10.129525Z\", \"duration\": \"0:01:18\", \"iteration\": \"49\", \"goal\": \"r2_score_max\", \"run_name\": \"StandardScalerWrapper, XGBoostRegressor\", \"run_properties\": \"<azureml.automl.runtime.shared.model_wrappers.StandardScalerWrapper object at 0x7f4541415588\", \"primary_metric\": 0.99639238, \"best_metric\": 0.99721502}, {\"run_id\": \"AutoML_7081f1ae-1458-4fb0-9155-7f7ca3dfa64a_51\", \"run_number\": 1836, \"metric\": null, \"status\": \"Completed\", \"run_type\": \"azureml.scriptrun\", \"training_percent\": \"100\", \"start_time\": \"2021-01-24T22:19:30.939068Z\", \"end_time\": \"2021-01-24T22:20:23.147835Z\", \"created_time\": \"2021-01-24T22:19:19.038128Z\", \"created_time_dt\": \"2021-01-24T22:19:19.038128Z\", \"duration\": \"0:01:04\", \"iteration\": \"51\", \"goal\": \"r2_score_max\", \"run_name\": \"StandardScalerWrapper, RandomForest\", \"run_properties\": \"<azureml.automl.runtime.shared.model_wrappers.StandardScalerWrapper object at 0x7effa5bbe470\", \"primary_metric\": 0.99348684, \"best_metric\": 0.99721502}, {\"run_id\": \"AutoML_7081f1ae-1458-4fb0-9155-7f7ca3dfa64a_52\", \"run_number\": 1837, \"metric\": null, \"status\": \"Completed\", \"run_type\": \"azureml.scriptrun\", \"training_percent\": \"100\", \"start_time\": \"2021-01-24T22:20:48.136045Z\", \"end_time\": \"2021-01-24T22:21:59.613312Z\", \"created_time\": \"2021-01-24T22:20:27.7157Z\", \"created_time_dt\": \"2021-01-24T22:20:27.7157Z\", \"duration\": \"0:01:31\", \"iteration\": \"52\", \"goal\": \"r2_score_max\", \"run_name\": \"RobustScaler, GradientBoosting\", \"run_properties\": \"copy=True, quantile_range=[10, 90], with_centering=True,\\n             with_scaling=False\", \"primary_metric\": 0.99285366, \"best_metric\": 0.99721502}, {\"run_id\": \"AutoML_7081f1ae-1458-4fb0-9155-7f7ca3dfa64a_54\", \"run_number\": 1838, \"metric\": null, \"status\": \"Completed\", \"run_type\": \"azureml.scriptrun\", \"training_percent\": \"100\", \"start_time\": \"2021-01-24T22:20:53.619532Z\", \"end_time\": \"2021-01-24T22:21:55.544672Z\", \"created_time\": \"2021-01-24T22:20:36.966251Z\", \"created_time_dt\": \"2021-01-24T22:20:36.966251Z\", \"duration\": \"0:01:18\", \"iteration\": \"54\", \"goal\": \"r2_score_max\", \"run_name\": \"MinMaxScaler, RandomForest\", \"run_properties\": \"copy=True, feature_range=(0, 1\", \"primary_metric\": 0.9579714, \"best_metric\": 0.99721502}, {\"run_id\": \"AutoML_7081f1ae-1458-4fb0-9155-7f7ca3dfa64a_55\", \"run_number\": 1839, \"metric\": null, \"status\": \"Completed\", \"run_type\": \"azureml.scriptrun\", \"training_percent\": \"100\", \"start_time\": \"2021-01-24T22:20:49.065471Z\", \"end_time\": \"2021-01-24T22:21:48.576992Z\", \"created_time\": \"2021-01-24T22:20:37.107982Z\", \"created_time_dt\": \"2021-01-24T22:20:37.107982Z\", \"duration\": \"0:01:11\", \"iteration\": \"55\", \"goal\": \"r2_score_max\", \"run_name\": \"RobustScaler, RandomForest\", \"run_properties\": \"copy=True, quantile_range=[25, 75], with_centering=True,\\n             with_scaling=False\", \"primary_metric\": 0.98809746, \"best_metric\": 0.99721502}, {\"run_id\": \"AutoML_7081f1ae-1458-4fb0-9155-7f7ca3dfa64a_53\", \"run_number\": 1840, \"metric\": null, \"status\": \"Completed\", \"run_type\": \"azureml.scriptrun\", \"training_percent\": \"100\", \"start_time\": \"2021-01-24T22:20:48.973639Z\", \"end_time\": \"2021-01-24T22:21:48.68443Z\", \"created_time\": \"2021-01-24T22:20:37.177248Z\", \"created_time_dt\": \"2021-01-24T22:20:37.177248Z\", \"duration\": \"0:01:11\", \"iteration\": \"53\", \"goal\": \"r2_score_max\", \"run_name\": \"StandardScalerWrapper, XGBoostRegressor\", \"run_properties\": \"<azureml.automl.runtime.shared.model_wrappers.StandardScalerWrapper object at 0x7f68b44974a8\", \"primary_metric\": 0.99558343, \"best_metric\": 0.99721502}, {\"run_id\": \"AutoML_7081f1ae-1458-4fb0-9155-7f7ca3dfa64a_56\", \"run_number\": 1841, \"metric\": null, \"status\": \"Completed\", \"run_type\": \"azureml.scriptrun\", \"training_percent\": \"100\", \"start_time\": \"2021-01-24T22:22:11.2746Z\", \"end_time\": \"2021-01-24T22:23:32.146039Z\", \"created_time\": \"2021-01-24T22:21:52.97922Z\", \"created_time_dt\": \"2021-01-24T22:21:52.97922Z\", \"duration\": \"0:01:39\", \"iteration\": \"56\", \"goal\": \"r2_score_max\", \"run_name\": \"MinMaxScaler, GradientBoosting\", \"run_properties\": \"copy=True, feature_range=(0, 1\", \"primary_metric\": 0.99637787, \"best_metric\": 0.99721502}, {\"run_id\": \"AutoML_7081f1ae-1458-4fb0-9155-7f7ca3dfa64a_57\", \"run_number\": 1842, \"metric\": null, \"status\": \"Completed\", \"run_type\": \"azureml.scriptrun\", \"training_percent\": \"100\", \"start_time\": \"2021-01-24T22:22:11.833237Z\", \"end_time\": \"2021-01-24T22:23:16.237199Z\", \"created_time\": \"2021-01-24T22:21:53.038272Z\", \"created_time_dt\": \"2021-01-24T22:21:53.038272Z\", \"duration\": \"0:01:23\", \"iteration\": \"57\", \"goal\": \"r2_score_max\", \"run_name\": \"StandardScalerWrapper, RandomForest\", \"run_properties\": \"<azureml.automl.runtime.shared.model_wrappers.StandardScalerWrapper object at 0x7f5a82db2da0\", \"primary_metric\": 0.99213314, \"best_metric\": 0.99721502}, {\"run_id\": \"AutoML_7081f1ae-1458-4fb0-9155-7f7ca3dfa64a_58\", \"run_number\": 1843, \"metric\": null, \"status\": \"Completed\", \"run_type\": \"azureml.scriptrun\", \"training_percent\": \"100\", \"start_time\": \"2021-01-24T22:22:14.003571Z\", \"end_time\": \"2021-01-24T22:23:15.477604Z\", \"created_time\": \"2021-01-24T22:22:00.33439Z\", \"created_time_dt\": \"2021-01-24T22:22:00.33439Z\", \"duration\": \"0:01:15\", \"iteration\": \"58\", \"goal\": \"r2_score_max\", \"run_name\": \"StandardScalerWrapper, RandomForest\", \"run_properties\": \"<azureml.automl.runtime.shared.model_wrappers.StandardScalerWrapper object at 0x7f5fad4c0a58\", \"primary_metric\": 0.9877232, \"best_metric\": 0.99721502}, {\"run_id\": \"AutoML_7081f1ae-1458-4fb0-9155-7f7ca3dfa64a_59\", \"run_number\": 1844, \"metric\": null, \"status\": \"Completed\", \"run_type\": \"azureml.scriptrun\", \"training_percent\": \"100\", \"start_time\": \"2021-01-24T22:22:19.611598Z\", \"end_time\": \"2021-01-24T22:23:22.357159Z\", \"created_time\": \"2021-01-24T22:22:05.745939Z\", \"created_time_dt\": \"2021-01-24T22:22:05.745939Z\", \"duration\": \"0:01:16\", \"iteration\": \"59\", \"goal\": \"r2_score_max\", \"run_name\": \"StandardScalerWrapper, DecisionTree\", \"run_properties\": \"<azureml.automl.runtime.shared.model_wrappers.StandardScalerWrapper object at 0x7fe5a40b8208\", \"primary_metric\": 0.97302742, \"best_metric\": 0.99721502}, {\"run_id\": \"AutoML_7081f1ae-1458-4fb0-9155-7f7ca3dfa64a_60\", \"run_number\": 1845, \"metric\": null, \"status\": \"Completed\", \"run_type\": \"azureml.scriptrun\", \"training_percent\": \"100\", \"start_time\": \"2021-01-24T22:23:30.806641Z\", \"end_time\": \"2021-01-24T22:24:46.609119Z\", \"created_time\": \"2021-01-24T22:23:19.419844Z\", \"created_time_dt\": \"2021-01-24T22:23:19.419844Z\", \"duration\": \"0:01:27\", \"iteration\": \"60\", \"goal\": \"r2_score_max\", \"run_name\": \"SparseNormalizer, XGBoostRegressor\", \"run_properties\": \"<azureml.automl.runtime.shared.model_wrappers.SparseNormalizer object at 0x7f2c30f41860\", \"primary_metric\": 0.98917447, \"best_metric\": 0.99721502}, {\"run_id\": \"AutoML_7081f1ae-1458-4fb0-9155-7f7ca3dfa64a_61\", \"run_number\": 1846, \"metric\": null, \"status\": \"Completed\", \"run_type\": \"azureml.scriptrun\", \"training_percent\": \"100\", \"start_time\": \"2021-01-24T22:23:38.437727Z\", \"end_time\": \"2021-01-24T22:24:29.375033Z\", \"created_time\": \"2021-01-24T22:23:24.451129Z\", \"created_time_dt\": \"2021-01-24T22:23:24.451129Z\", \"duration\": \"0:01:04\", \"iteration\": \"61\", \"goal\": \"r2_score_max\", \"run_name\": \"StandardScalerWrapper, DecisionTree\", \"run_properties\": \"<azureml.automl.runtime.shared.model_wrappers.StandardScalerWrapper object at 0x7f63a0a87588\", \"primary_metric\": 0.9796189, \"best_metric\": 0.99721502}, {\"run_id\": \"AutoML_7081f1ae-1458-4fb0-9155-7f7ca3dfa64a_62\", \"run_number\": 1847, \"metric\": null, \"status\": \"Completed\", \"run_type\": \"azureml.scriptrun\", \"training_percent\": \"100\", \"start_time\": \"2021-01-24T22:23:37.997104Z\", \"end_time\": \"2021-01-24T22:24:30.592604Z\", \"created_time\": \"2021-01-24T22:23:24.644263Z\", \"created_time_dt\": \"2021-01-24T22:23:24.644263Z\", \"duration\": \"0:01:05\", \"iteration\": \"62\", \"goal\": \"r2_score_max\", \"run_name\": \"MaxAbsScaler, ElasticNet\", \"run_properties\": \"copy=True\", \"primary_metric\": 0.99135535, \"best_metric\": 0.99721502}, {\"run_id\": \"AutoML_7081f1ae-1458-4fb0-9155-7f7ca3dfa64a_63\", \"run_number\": 1848, \"metric\": null, \"status\": \"Completed\", \"run_type\": \"azureml.scriptrun\", \"training_percent\": \"100\", \"start_time\": \"2021-01-24T22:23:47.308997Z\", \"end_time\": \"2021-01-24T22:24:36.329263Z\", \"created_time\": \"2021-01-24T22:23:34.846051Z\", \"created_time_dt\": \"2021-01-24T22:23:34.846051Z\", \"duration\": \"0:01:01\", \"iteration\": \"63\", \"goal\": \"r2_score_max\", \"run_name\": \"StandardScalerWrapper, ElasticNet\", \"run_properties\": \"<azureml.automl.runtime.shared.model_wrappers.StandardScalerWrapper object at 0x7f6948073240\", \"primary_metric\": 0.99195311, \"best_metric\": 0.99721502}, {\"run_id\": \"AutoML_7081f1ae-1458-4fb0-9155-7f7ca3dfa64a_64\", \"run_number\": 1849, \"metric\": null, \"status\": \"Completed\", \"run_type\": \"azureml.scriptrun\", \"training_percent\": \"100\", \"start_time\": \"2021-01-24T22:24:46.856566Z\", \"end_time\": \"2021-01-24T22:25:58.955662Z\", \"created_time\": \"2021-01-24T22:24:32.345853Z\", \"created_time_dt\": \"2021-01-24T22:24:32.345853Z\", \"duration\": \"0:01:26\", \"iteration\": \"64\", \"goal\": \"r2_score_max\", \"run_name\": \"StandardScalerWrapper, ElasticNet\", \"run_properties\": \"<azureml.automl.runtime.shared.model_wrappers.StandardScalerWrapper object at 0x7f594f6e7780\", \"primary_metric\": 0.9936518, \"best_metric\": 0.99721502}, {\"run_id\": \"AutoML_7081f1ae-1458-4fb0-9155-7f7ca3dfa64a_65\", \"run_number\": 1852, \"metric\": null, \"status\": \"Completed\", \"run_type\": \"azureml.scriptrun\", \"training_percent\": \"100\", \"start_time\": \"2021-01-24T22:24:54.666042Z\", \"end_time\": \"2021-01-24T22:25:54.165903Z\", \"created_time\": \"2021-01-24T22:24:39.103167Z\", \"created_time_dt\": \"2021-01-24T22:24:39.103167Z\", \"duration\": \"0:01:15\", \"iteration\": \"65\", \"goal\": \"r2_score_max\", \"run_name\": \"StandardScalerWrapper, XGBoostRegressor\", \"run_properties\": \"<azureml.automl.runtime.shared.model_wrappers.StandardScalerWrapper object at 0x7fd96d6683c8\", \"primary_metric\": 0.9959914, \"best_metric\": 0.99721502}, {\"run_id\": \"AutoML_7081f1ae-1458-4fb0-9155-7f7ca3dfa64a_66\", \"run_number\": 1853, \"metric\": null, \"status\": \"Completed\", \"run_type\": \"azureml.scriptrun\", \"training_percent\": \"100\", \"start_time\": \"2021-01-24T22:25:01.179559Z\", \"end_time\": \"2021-01-24T22:26:47.940334Z\", \"created_time\": \"2021-01-24T22:24:44.642538Z\", \"created_time_dt\": \"2021-01-24T22:24:44.642538Z\", \"duration\": \"0:02:03\", \"iteration\": \"66\", \"goal\": \"r2_score_max\", \"run_name\": \"MaxAbsScaler, RandomForest\", \"run_properties\": \"copy=True\", \"primary_metric\": 0.98932274, \"best_metric\": 0.99721502}, {\"run_id\": \"AutoML_7081f1ae-1458-4fb0-9155-7f7ca3dfa64a_67\", \"run_number\": 1854, \"metric\": null, \"status\": \"Completed\", \"run_type\": \"azureml.scriptrun\", \"training_percent\": \"100\", \"start_time\": \"2021-01-24T22:25:02.405068Z\", \"end_time\": \"2021-01-24T22:25:58.996967Z\", \"created_time\": \"2021-01-24T22:24:50.78037Z\", \"created_time_dt\": \"2021-01-24T22:24:50.78037Z\", \"duration\": \"0:01:08\", \"iteration\": \"67\", \"goal\": \"r2_score_max\", \"run_name\": \"RobustScaler, DecisionTree\", \"run_properties\": \"copy=True, quantile_range=[25, 75], with_centering=True,\\n             with_scaling=True\", \"primary_metric\": 0.96727262, \"best_metric\": 0.99721502}, {\"run_id\": \"AutoML_7081f1ae-1458-4fb0-9155-7f7ca3dfa64a_68\", \"run_number\": 1859, \"metric\": null, \"status\": \"Completed\", \"run_type\": \"azureml.scriptrun\", \"training_percent\": \"100\", \"start_time\": \"2021-01-24T22:26:13.764361Z\", \"end_time\": \"2021-01-24T22:27:16.221285Z\", \"created_time\": \"2021-01-24T22:25:56.132721Z\", \"created_time_dt\": \"2021-01-24T22:25:56.132721Z\", \"duration\": \"0:01:20\", \"iteration\": \"68\", \"goal\": \"r2_score_max\", \"run_name\": \"RobustScaler, ElasticNet\", \"run_properties\": \"copy=True, quantile_range=[25, 75], with_centering=False,\\n             with_scaling=False\", \"primary_metric\": 0.99195558, \"best_metric\": 0.99721502}, {\"run_id\": \"AutoML_7081f1ae-1458-4fb0-9155-7f7ca3dfa64a_69\", \"run_number\": 1860, \"metric\": null, \"status\": \"Completed\", \"run_type\": \"azureml.scriptrun\", \"training_percent\": \"100\", \"start_time\": \"2021-01-24T22:26:19.046057Z\", \"end_time\": \"2021-01-24T22:27:23.817183Z\", \"created_time\": \"2021-01-24T22:26:03.100211Z\", \"created_time_dt\": \"2021-01-24T22:26:03.100211Z\", \"duration\": \"0:01:20\", \"iteration\": \"69\", \"goal\": \"r2_score_max\", \"run_name\": \"PCA, XGBoostRegressor\", \"run_properties\": \"copy=True, iterated_power='auto', n_components=0.7521052631578947,\\n    random_state=None, svd_solver='auto', tol=0.0, whiten=False\", \"primary_metric\": 0.88541758, \"best_metric\": 0.99721502}, {\"run_id\": \"AutoML_7081f1ae-1458-4fb0-9155-7f7ca3dfa64a_70\", \"run_number\": 1861, \"metric\": null, \"status\": \"Completed\", \"run_type\": \"azureml.scriptrun\", \"training_percent\": \"100\", \"start_time\": \"2021-01-24T22:26:15.349163Z\", \"end_time\": \"2021-01-24T22:28:09.313594Z\", \"created_time\": \"2021-01-24T22:26:03.173156Z\", \"created_time_dt\": \"2021-01-24T22:26:03.173156Z\", \"duration\": \"0:02:06\", \"iteration\": \"70\", \"goal\": \"r2_score_max\", \"run_name\": \"RobustScaler, RandomForest\", \"run_properties\": \"copy=True, quantile_range=[10, 90], with_centering=True,\\n             with_scaling=True\", \"primary_metric\": 0.97388743, \"best_metric\": 0.99721502}, {\"run_id\": \"AutoML_7081f1ae-1458-4fb0-9155-7f7ca3dfa64a_71\", \"run_number\": 1862, \"metric\": null, \"status\": \"Completed\", \"run_type\": \"azureml.scriptrun\", \"training_percent\": \"100\", \"start_time\": \"2021-01-24T22:27:03.02339Z\", \"end_time\": \"2021-01-24T22:28:33.106834Z\", \"created_time\": \"2021-01-24T22:26:50.026287Z\", \"created_time_dt\": \"2021-01-24T22:26:50.026287Z\", \"duration\": \"0:01:43\", \"iteration\": \"71\", \"goal\": \"r2_score_max\", \"run_name\": \"RobustScaler, ExtremeRandomTrees\", \"run_properties\": \"copy=True, quantile_range=[25, 75], with_centering=True,\\n             with_scaling=True\", \"primary_metric\": 0.98217358, \"best_metric\": 0.99721502}, {\"run_id\": \"AutoML_7081f1ae-1458-4fb0-9155-7f7ca3dfa64a_72\", \"run_number\": 1867, \"metric\": null, \"status\": \"Completed\", \"run_type\": \"azureml.scriptrun\", \"training_percent\": \"100\", \"start_time\": \"2021-01-24T22:27:32.83973Z\", \"end_time\": \"2021-01-24T22:28:38.448115Z\", \"created_time\": \"2021-01-24T22:27:18.189466Z\", \"created_time_dt\": \"2021-01-24T22:27:18.189466Z\", \"duration\": \"0:01:20\", \"iteration\": \"72\", \"goal\": \"r2_score_max\", \"run_name\": \"MinMaxScaler, DecisionTree\", \"run_properties\": \"copy=True, feature_range=(0, 1\", \"primary_metric\": 0.95354678, \"best_metric\": 0.99721502}, {\"run_id\": \"AutoML_7081f1ae-1458-4fb0-9155-7f7ca3dfa64a_73\", \"run_number\": 1868, \"metric\": null, \"status\": \"Completed\", \"run_type\": \"azureml.scriptrun\", \"training_percent\": \"100\", \"start_time\": \"2021-01-24T22:27:39.920207Z\", \"end_time\": \"2021-01-24T22:28:56.655864Z\", \"created_time\": \"2021-01-24T22:27:26.542217Z\", \"created_time_dt\": \"2021-01-24T22:27:26.542217Z\", \"duration\": \"0:01:30\", \"iteration\": \"73\", \"goal\": \"r2_score_max\", \"run_name\": \"RobustScaler, ElasticNet\", \"run_properties\": \"copy=True, quantile_range=[10, 90], with_centering=False,\\n             with_scaling=False\", \"primary_metric\": 0.99195263, \"best_metric\": 0.99721502}, {\"run_id\": \"AutoML_7081f1ae-1458-4fb0-9155-7f7ca3dfa64a_74\", \"run_number\": 1869, \"metric\": null, \"status\": \"Completed\", \"run_type\": \"azureml.scriptrun\", \"training_percent\": \"100\", \"start_time\": \"2021-01-24T22:28:24.196174Z\", \"end_time\": \"2021-01-24T22:29:46.164744Z\", \"created_time\": \"2021-01-24T22:28:11.466348Z\", \"created_time_dt\": \"2021-01-24T22:28:11.466348Z\", \"duration\": \"0:01:34\", \"iteration\": \"74\", \"goal\": \"r2_score_max\", \"run_name\": \"RobustScaler, ElasticNet\", \"run_properties\": \"copy=True, quantile_range=[25, 75], with_centering=False,\\n             with_scaling=True\", \"primary_metric\": 0.99365673, \"best_metric\": 0.99721502}, {\"run_id\": \"AutoML_7081f1ae-1458-4fb0-9155-7f7ca3dfa64a_75\", \"run_number\": 1870, \"metric\": null, \"status\": \"Completed\", \"run_type\": \"azureml.scriptrun\", \"training_percent\": \"100\", \"start_time\": \"2021-01-24T22:28:50.559306Z\", \"end_time\": \"2021-01-24T22:29:51.767083Z\", \"created_time\": \"2021-01-24T22:28:36.694565Z\", \"created_time_dt\": \"2021-01-24T22:28:36.694565Z\", \"duration\": \"0:01:15\", \"iteration\": \"75\", \"goal\": \"r2_score_max\", \"run_name\": \"StandardScalerWrapper, XGBoostRegressor\", \"run_properties\": \"<azureml.automl.runtime.shared.model_wrappers.StandardScalerWrapper object at 0x7f643e0b3390\", \"primary_metric\": 0.99561102, \"best_metric\": 0.99721502}, {\"run_id\": \"AutoML_7081f1ae-1458-4fb0-9155-7f7ca3dfa64a_76\", \"run_number\": 1871, \"metric\": null, \"status\": \"Completed\", \"run_type\": \"azureml.scriptrun\", \"training_percent\": \"100\", \"start_time\": \"2021-01-24T22:28:55.767303Z\", \"end_time\": \"2021-01-24T22:29:43.960594Z\", \"created_time\": \"2021-01-24T22:28:42.255872Z\", \"created_time_dt\": \"2021-01-24T22:28:42.255872Z\", \"duration\": \"0:01:01\", \"iteration\": \"76\", \"goal\": \"r2_score_max\", \"run_name\": \"RobustScaler, ElasticNet\", \"run_properties\": \"copy=True, quantile_range=[25, 75], with_centering=True,\\n             with_scaling=False\", \"primary_metric\": 0.99195285, \"best_metric\": 0.99721502}, {\"run_id\": \"AutoML_7081f1ae-1458-4fb0-9155-7f7ca3dfa64a_77\", \"run_number\": 1873, \"metric\": null, \"status\": \"Completed\", \"run_type\": \"azureml.scriptrun\", \"training_percent\": \"100\", \"start_time\": \"2021-01-24T22:29:10.349797Z\", \"end_time\": \"2021-01-24T22:30:01.845369Z\", \"created_time\": \"2021-01-24T22:28:58.687545Z\", \"created_time_dt\": \"2021-01-24T22:28:58.687545Z\", \"duration\": \"0:01:03\", \"iteration\": \"77\", \"goal\": \"r2_score_max\", \"run_name\": \"RobustScaler, DecisionTree\", \"run_properties\": \"copy=True, quantile_range=[10, 90], with_centering=False,\\n             with_scaling=True\", \"primary_metric\": 0.94540647, \"best_metric\": 0.99721502}, {\"run_id\": \"AutoML_7081f1ae-1458-4fb0-9155-7f7ca3dfa64a_78\", \"run_number\": 1877, \"metric\": null, \"status\": \"Completed\", \"run_type\": \"azureml.scriptrun\", \"training_percent\": \"100\", \"start_time\": \"2021-01-24T22:29:59.432322Z\", \"end_time\": \"2021-01-24T22:31:03.972779Z\", \"created_time\": \"2021-01-24T22:29:46.041567Z\", \"created_time_dt\": \"2021-01-24T22:29:46.041567Z\", \"duration\": \"0:01:17\", \"iteration\": \"78\", \"goal\": \"r2_score_max\", \"run_name\": \"RobustScaler, RandomForest\", \"run_properties\": \"copy=True, quantile_range=[25, 75], with_centering=True,\\n             with_scaling=False\", \"primary_metric\": 0.99280786, \"best_metric\": 0.99721502}, {\"run_id\": \"AutoML_7081f1ae-1458-4fb0-9155-7f7ca3dfa64a_79\", \"run_number\": 1878, \"metric\": null, \"status\": \"Completed\", \"run_type\": \"azureml.scriptrun\", \"training_percent\": \"100\", \"start_time\": \"2021-01-24T22:30:09.083217Z\", \"end_time\": \"2021-01-24T22:31:09.351866Z\", \"created_time\": \"2021-01-24T22:29:51.797952Z\", \"created_time_dt\": \"2021-01-24T22:29:51.797952Z\", \"duration\": \"0:01:17\", \"iteration\": \"79\", \"goal\": \"r2_score_max\", \"run_name\": \"StandardScalerWrapper, XGBoostRegressor\", \"run_properties\": \"<azureml.automl.runtime.shared.model_wrappers.StandardScalerWrapper object at 0x7f12c38edcc0\", \"primary_metric\": 0.99437551, \"best_metric\": 0.99721502}, {\"run_id\": \"AutoML_7081f1ae-1458-4fb0-9155-7f7ca3dfa64a_80\", \"run_number\": 1879, \"metric\": null, \"status\": \"Completed\", \"run_type\": \"azureml.scriptrun\", \"training_percent\": \"100\", \"start_time\": \"2021-01-24T22:30:11.081982Z\", \"end_time\": \"2021-01-24T22:31:15.39864Z\", \"created_time\": \"2021-01-24T22:29:58.727854Z\", \"created_time_dt\": \"2021-01-24T22:29:58.727854Z\", \"duration\": \"0:01:16\", \"iteration\": \"80\", \"goal\": \"r2_score_max\", \"run_name\": \"StandardScalerWrapper, XGBoostRegressor\", \"run_properties\": \"<azureml.automl.runtime.shared.model_wrappers.StandardScalerWrapper object at 0x7eff86807ef0\", \"primary_metric\": 0.99636354, \"best_metric\": 0.99721502}, {\"run_id\": \"AutoML_7081f1ae-1458-4fb0-9155-7f7ca3dfa64a_81\", \"run_number\": 1880, \"metric\": null, \"status\": \"Completed\", \"run_type\": \"azureml.scriptrun\", \"training_percent\": \"100\", \"start_time\": \"2021-01-24T22:30:19.133319Z\", \"end_time\": \"2021-01-24T22:31:21.323684Z\", \"created_time\": \"2021-01-24T22:30:03.961854Z\", \"created_time_dt\": \"2021-01-24T22:30:03.961854Z\", \"duration\": \"0:01:17\", \"iteration\": \"81\", \"goal\": \"r2_score_max\", \"run_name\": \"RobustScaler, ElasticNet\", \"run_properties\": \"copy=True, quantile_range=[10, 90], with_centering=True,\\n             with_scaling=False\", \"primary_metric\": 0.99195285, \"best_metric\": 0.99721502}, {\"run_id\": \"AutoML_7081f1ae-1458-4fb0-9155-7f7ca3dfa64a_82\", \"run_number\": 1884, \"metric\": null, \"status\": \"Canceled\", \"run_type\": \"azureml.scriptrun\", \"training_percent\": \"100\", \"start_time\": \"2021-01-24T22:31:21.389843Z\", \"end_time\": \"2021-01-24T22:32:50.933441Z\", \"created_time\": \"2021-01-24T22:31:06.005433Z\", \"created_time_dt\": \"2021-01-24T22:31:06.005433Z\", \"duration\": \"0:01:44\", \"iteration\": \"82\", \"goal\": \"r2_score_max\", \"run_name\": \"StandardScalerWrapper, RandomForest\", \"run_properties\": \"<azureml.automl.runtime.shared.model_wrappers.StandardScalerWrapper object at 0x7f46baa308d0\", \"primary_metric\": 0.97117532, \"best_metric\": 0.99721502}, {\"run_id\": \"AutoML_7081f1ae-1458-4fb0-9155-7f7ca3dfa64a_83\", \"run_number\": 1885, \"metric\": null, \"status\": \"Completed\", \"run_type\": \"azureml.scriptrun\", \"training_percent\": \"100\", \"start_time\": \"2021-01-24T22:31:25.017162Z\", \"end_time\": \"2021-01-24T22:32:36.639529Z\", \"created_time\": \"2021-01-24T22:31:11.658741Z\", \"created_time_dt\": \"2021-01-24T22:31:11.658741Z\", \"duration\": \"0:01:24\", \"iteration\": \"83\", \"goal\": \"r2_score_max\", \"run_name\": \"MinMaxScaler, RandomForest\", \"run_properties\": \"copy=True, feature_range=(0, 1\", \"primary_metric\": 0.98717977, \"best_metric\": 0.99721502}, {\"run_id\": \"AutoML_7081f1ae-1458-4fb0-9155-7f7ca3dfa64a_84\", \"run_number\": 1886, \"metric\": null, \"status\": \"Completed\", \"run_type\": \"azureml.scriptrun\", \"training_percent\": \"100\", \"start_time\": \"2021-01-24T22:31:32.687229Z\", \"end_time\": \"2021-01-24T22:32:38.482631Z\", \"created_time\": \"2021-01-24T22:31:17.325597Z\", \"created_time_dt\": \"2021-01-24T22:31:17.325597Z\", \"duration\": \"0:01:21\", \"iteration\": \"84\", \"goal\": \"r2_score_max\", \"run_name\": \"StandardScalerWrapper, DecisionTree\", \"run_properties\": \"<azureml.automl.runtime.shared.model_wrappers.StandardScalerWrapper object at 0x7f228849fb00\", \"primary_metric\": 0.96961996, \"best_metric\": 0.99721502}, {\"run_id\": \"AutoML_7081f1ae-1458-4fb0-9155-7f7ca3dfa64a_85\", \"run_number\": 1887, \"metric\": null, \"status\": \"Completed\", \"run_type\": \"azureml.scriptrun\", \"training_percent\": \"100\", \"start_time\": \"2021-01-24T22:31:35.719972Z\", \"end_time\": \"2021-01-24T22:32:38.330525Z\", \"created_time\": \"2021-01-24T22:31:24.313039Z\", \"created_time_dt\": \"2021-01-24T22:31:24.313039Z\", \"duration\": \"0:01:14\", \"iteration\": \"85\", \"goal\": \"r2_score_max\", \"run_name\": \"StandardScalerWrapper, XGBoostRegressor\", \"run_properties\": \"<azureml.automl.runtime.shared.model_wrappers.StandardScalerWrapper object at 0x7f0f447c50b8\", \"primary_metric\": 0.99703732, \"best_metric\": 0.99721502}, {\"run_id\": \"AutoML_7081f1ae-1458-4fb0-9155-7f7ca3dfa64a_87\", \"run_number\": 1889, \"metric\": null, \"status\": \"Completed\", \"run_type\": \"azureml.scriptrun\", \"training_percent\": \"100\", \"start_time\": \"2021-01-24T22:33:07.759481Z\", \"end_time\": \"2021-01-24T22:35:08.339183Z\", \"created_time\": \"2021-01-24T22:32:53.823057Z\", \"created_time_dt\": \"2021-01-24T22:32:53.823057Z\", \"duration\": \"0:02:14\", \"iteration\": \"87\", \"goal\": \"r2_score_max\", \"run_name\": \"StackEnsemble\", \"run_properties\": \"base_learners=[('4',\\n                                       Pipeline(memory=None,\\n                                                steps=[('standardscalerwrapper',\\n                                                        <azureml.automl.runtime.shared.model_wrappers.StandardScalerWrapper object at 0x7f151c208048>\", \"primary_metric\": 0.99786475, \"best_metric\": 0.99787233}, {\"run_id\": \"AutoML_7081f1ae-1458-4fb0-9155-7f7ca3dfa64a_86\", \"run_number\": 1890, \"metric\": null, \"status\": \"Completed\", \"run_type\": \"azureml.scriptrun\", \"training_percent\": \"100\", \"start_time\": \"2021-01-24T22:33:08.662262Z\", \"end_time\": \"2021-01-24T22:35:01.187775Z\", \"created_time\": \"2021-01-24T22:32:54.14035Z\", \"created_time_dt\": \"2021-01-24T22:32:54.14035Z\", \"duration\": \"0:02:07\", \"iteration\": \"86\", \"goal\": \"r2_score_max\", \"run_name\": \"VotingEnsemble\", \"run_properties\": \"estimators=[('4',\\n                                          Pipeline(memory=None,\\n                                                   steps=[('standardscalerwrapper',\\n                                                           <azureml.automl.runtime.shared.model_wrappers.StandardScalerWrapper object at 0x7f4fe546a278>\", \"primary_metric\": 0.99787233, \"best_metric\": 0.99787233}], \"children_metrics\": {\"categories\": [0], \"series\": {\"normalized_root_mean_squared_error\": [{\"categories\": [\"0\", \"1\", \"2\", \"3\", \"4\", \"5\", \"6\", \"7\", \"8\", \"9\", \"10\", \"11\", \"12\", \"13\", \"14\", \"15\", \"16\", \"17\", \"18\", \"19\", \"20\", \"21\", \"22\", \"23\", \"24\", \"25\", \"26\", \"27\", \"28\", \"29\", \"30\", \"31\", \"32\", \"33\", \"34\", \"35\", \"36\", \"37\", \"38\", \"39\", \"40\", \"41\", \"42\", \"43\", \"44\", \"45\", \"46\", \"47\", \"48\", \"49\", \"50\", \"51\", \"52\", \"53\", \"54\", \"55\", \"56\", \"57\", \"58\", \"59\", \"60\", \"61\", \"62\", \"63\", \"64\", \"65\", \"66\", \"67\", \"68\", \"69\", \"70\", \"71\", \"72\", \"73\", \"74\", \"75\", \"76\", \"77\", \"78\", \"79\", \"80\", \"81\", \"82\", \"83\", \"84\", \"85\", \"86\", \"87\"], \"mode\": \"markers\", \"name\": \"normalized_root_mean_squared_error\", \"stepped\": false, \"type\": \"scatter\", \"data\": [0.007307440977129792, 0.007151738552142861, 0.014114898575038365, 0.01454376234030087, 0.006627789191711139, 0.010364689000889063, 0.0203140353731123, 0.006650267454264128, 0.010457454681061218, 0.012955754347246778, 0.010229015062851017, 0.012761851773611832, 0.044646312826887795, 0.010018291886677431, 0.010345407156448326, 0.048869612518220217, 0.011198102528539929, 0.011260329189946065, 0.041062494512886155, 0.02511256130273427, 0.011230547951959132, 0.03710767545289268, 0.010953829232591687, 0.009389979363351798, 0.007757873010531729, 0.062082014702689, 0.04005027500007898, 0.0512003199117751, 0.013880468850952498, 0.01475170425320764, 0.05518140496931515, 0.010306881030791254, 0.010021770447091986, 0.009872746666980953, 0.013142025711039335, 0.028556730358551972, 0.01116624881138866, 0.01002033379356668, 0.010022049742871905, 0.21211110223390986, 0.011166248811388663, 0.024390374904126735, 0.018390901346857575, 0.028456179108080838, 0.024189994810314138, 0.011357401021462946, 0.024126008391197565, 0.017932124662596322, 0.011264162139366964, 0.0075433502894438455, 0.012218266275445496, 0.01013481257856238, 0.010614251232090569, 0.008345153107231476, 0.025737679111093092, 0.01369715813069477, 0.007559524073095435, 0.011140154664431579, 0.01391861447358351, 0.020627223107344547, 0.013051874971956154, 0.017930481502111472, 0.011676882661832227, 0.011263707199595248, 0.010007950038478054, 0.007952900838106606, 0.012977196318690197, 0.022725324690595242, 0.011262137644348113, 0.0381078816663091, 0.020292293498499873, 0.01677051446446413, 0.02706708292263707, 0.011264011056902981, 0.010004060787420508, 0.008322063314052152, 0.011263872705655422, 0.029334290612774327, 0.01065234414449518, 0.009420167864986615, 0.0075733826547046855, 0.011263872705655422, 0.021322930361976484, 0.014216733345793544, 0.021891138987865436, 0.006836442533887853, 0.0057929471828993715, 0.00580249023685378]}, {\"categories\": [\"0\", \"1\", \"2\", \"3\", \"4\", \"5\", \"6\", \"7\", \"8\", \"9\", \"10\", \"11\", \"12\", \"13\", \"14\", \"15\", \"16\", \"17\", \"18\", \"19\", \"20\", \"21\", \"22\", \"23\", \"24\", \"25\", \"26\", \"27\", \"28\", \"29\", \"30\", \"31\", \"32\", \"33\", \"34\", \"35\", \"36\", \"37\", \"38\", \"39\", \"40\", \"41\", \"42\", \"43\", \"44\", \"45\", \"46\", \"47\", \"48\", \"49\", \"50\", \"51\", \"52\", \"53\", \"54\", \"55\", \"56\", \"57\", \"58\", \"59\", \"60\", \"61\", \"62\", \"63\", \"64\", \"65\", \"66\", \"67\", \"68\", \"69\", \"70\", \"71\", \"72\", \"73\", \"74\", \"75\", \"76\", \"77\", \"78\", \"79\", \"80\", \"81\", \"82\", \"83\", \"84\", \"85\", \"86\", \"87\"], \"mode\": \"lines\", \"name\": \"normalized_root_mean_squared_error_min\", \"stepped\": true, \"type\": \"scatter\", \"data\": [0.007307440977129792, 0.007151738552142861, 0.007151738552142861, 0.007151738552142861, 0.006627789191711139, 0.006627789191711139, 0.006627789191711139, 0.006627789191711139, 0.006627789191711139, 0.006627789191711139, 0.006627789191711139, 0.006627789191711139, 0.006627789191711139, 0.006627789191711139, 0.006627789191711139, 0.006627789191711139, 0.006627789191711139, 0.006627789191711139, 0.006627789191711139, 0.006627789191711139, 0.006627789191711139, 0.006627789191711139, 0.006627789191711139, 0.006627789191711139, 0.006627789191711139, 0.006627789191711139, 0.006627789191711139, 0.006627789191711139, 0.006627789191711139, 0.006627789191711139, 0.006627789191711139, 0.006627789191711139, 0.006627789191711139, 0.006627789191711139, 0.006627789191711139, 0.006627789191711139, 0.006627789191711139, 0.006627789191711139, 0.006627789191711139, 0.006627789191711139, 0.006627789191711139, 0.006627789191711139, 0.006627789191711139, 0.006627789191711139, 0.006627789191711139, 0.006627789191711139, 0.006627789191711139, 0.006627789191711139, 0.006627789191711139, 0.006627789191711139, 0.006627789191711139, 0.006627789191711139, 0.006627789191711139, 0.006627789191711139, 0.006627789191711139, 0.006627789191711139, 0.006627789191711139, 0.006627789191711139, 0.006627789191711139, 0.006627789191711139, 0.006627789191711139, 0.006627789191711139, 0.006627789191711139, 0.006627789191711139, 0.006627789191711139, 0.006627789191711139, 0.006627789191711139, 0.006627789191711139, 0.006627789191711139, 0.006627789191711139, 0.006627789191711139, 0.006627789191711139, 0.006627789191711139, 0.006627789191711139, 0.006627789191711139, 0.006627789191711139, 0.006627789191711139, 0.006627789191711139, 0.006627789191711139, 0.006627789191711139, 0.006627789191711139, 0.006627789191711139, 0.006627789191711139, 0.006627789191711139, 0.006627789191711139, 0.006627789191711139, 0.0057929471828993715, 0.0057929471828993715]}], \"r2_score\": [{\"categories\": [\"0\", \"1\", \"2\", \"3\", \"4\", \"5\", \"6\", \"7\", \"8\", \"9\", \"10\", \"11\", \"12\", \"13\", \"14\", \"15\", \"16\", \"17\", \"18\", \"19\", \"20\", \"21\", \"22\", \"23\", \"24\", \"25\", \"26\", \"27\", \"28\", \"29\", \"30\", \"31\", \"32\", \"33\", \"34\", \"35\", \"36\", \"37\", \"38\", \"39\", \"40\", \"41\", \"42\", \"43\", \"44\", \"45\", \"46\", \"47\", \"48\", \"49\", \"50\", \"51\", \"52\", \"53\", \"54\", \"55\", \"56\", \"57\", \"58\", \"59\", \"60\", \"61\", \"62\", \"63\", \"64\", \"65\", \"66\", \"67\", \"68\", \"69\", \"70\", \"71\", \"72\", \"73\", \"74\", \"75\", \"76\", \"77\", \"78\", \"79\", \"80\", \"81\", \"82\", \"83\", \"84\", \"85\", \"86\", \"87\"], \"mode\": \"markers\", \"name\": \"r2_score\", \"stepped\": false, \"type\": \"scatter\", \"data\": [0.9966160601762608, 0.9967534011982272, 0.987352274388023, 0.9865900235480961, 0.9972150157776142, 0.9931882715873398, 0.9738386287219271, 0.9971915307352476, 0.9930672131939596, 0.9893611752073556, 0.9933638604723255, 0.9896739502801243, 0.873655803462973, 0.9936386734346917, 0.993215003169321, 0.8483826963074647, 0.9920509086067733, 0.9919597881167919, 0.8931491208611045, 0.9600334163008721, 0.9919996298687725, 0.9127240754547646, 0.9923907948413726, 0.9944094717878583, 0.9961838998942197, 0.7557078230682689, 0.8980048914881978, 0.8338555199980279, 0.9877838026943776, 0.9862031786195699, 0.806955336350292, 0.9932654098369861, 0.9936354144136336, 0.9938191251928906, 0.9890507438644557, 0.9482940114415078, 0.9920915552691084, 0.9936365688029785, 0.993634423065496, -1.0, 0.9920915552691084, 0.9622984576799606, 0.9785484503374016, 0.948679539036864, 0.9628519732749772, 0.9918247733222069, 0.9630760292168388, 0.9796147475481835, 0.9919523786016112, 0.996392381107829, 0.9905333570991371, 0.9934868403431829, 0.9928536581991502, 0.9955834341646321, 0.957971396578123, 0.9880974608088916, 0.9963778677973085, 0.99213314234557, 0.9877232035542353, 0.973027423762599, 0.9891744735633411, 0.9796188952622501, 0.9913553477579334, 0.9919531090367539, 0.9936517961135424, 0.9959914036733691, 0.98932273823764, 0.9672726211625067, 0.9919555830202021, 0.8854175833658005, 0.9738874292083106, 0.9821735847323807, 0.9535467793048235, 0.9919526257281356, 0.9936567258889498, 0.9956110211688677, 0.9919528484884754, 0.9454064654808252, 0.9928078571700203, 0.9943755085458089, 0.9963635421661522, 0.9919528484884754, 0.9711753198710236, 0.9871797729410116, 0.9696199636624567, 0.9970373246934212, 0.9978723328600957, 0.9978647492335583]}, {\"categories\": [\"0\", \"1\", \"2\", \"3\", \"4\", \"5\", \"6\", \"7\", \"8\", \"9\", \"10\", \"11\", \"12\", \"13\", \"14\", \"15\", \"16\", \"17\", \"18\", \"19\", \"20\", \"21\", \"22\", \"23\", \"24\", \"25\", \"26\", \"27\", \"28\", \"29\", \"30\", \"31\", \"32\", \"33\", \"34\", \"35\", \"36\", \"37\", \"38\", \"39\", \"40\", \"41\", \"42\", \"43\", \"44\", \"45\", \"46\", \"47\", \"48\", \"49\", \"50\", \"51\", \"52\", \"53\", \"54\", \"55\", \"56\", \"57\", \"58\", \"59\", \"60\", \"61\", \"62\", \"63\", \"64\", \"65\", \"66\", \"67\", \"68\", \"69\", \"70\", \"71\", \"72\", \"73\", \"74\", \"75\", \"76\", \"77\", \"78\", \"79\", \"80\", \"81\", \"82\", \"83\", \"84\", \"85\", \"86\", \"87\"], \"mode\": \"lines\", \"name\": \"r2_score_max\", \"stepped\": true, \"type\": \"scatter\", \"data\": [0.9966160601762608, 0.9967534011982272, 0.9967534011982272, 0.9967534011982272, 0.9972150157776142, 0.9972150157776142, 0.9972150157776142, 0.9972150157776142, 0.9972150157776142, 0.9972150157776142, 0.9972150157776142, 0.9972150157776142, 0.9972150157776142, 0.9972150157776142, 0.9972150157776142, 0.9972150157776142, 0.9972150157776142, 0.9972150157776142, 0.9972150157776142, 0.9972150157776142, 0.9972150157776142, 0.9972150157776142, 0.9972150157776142, 0.9972150157776142, 0.9972150157776142, 0.9972150157776142, 0.9972150157776142, 0.9972150157776142, 0.9972150157776142, 0.9972150157776142, 0.9972150157776142, 0.9972150157776142, 0.9972150157776142, 0.9972150157776142, 0.9972150157776142, 0.9972150157776142, 0.9972150157776142, 0.9972150157776142, 0.9972150157776142, 0.9972150157776142, 0.9972150157776142, 0.9972150157776142, 0.9972150157776142, 0.9972150157776142, 0.9972150157776142, 0.9972150157776142, 0.9972150157776142, 0.9972150157776142, 0.9972150157776142, 0.9972150157776142, 0.9972150157776142, 0.9972150157776142, 0.9972150157776142, 0.9972150157776142, 0.9972150157776142, 0.9972150157776142, 0.9972150157776142, 0.9972150157776142, 0.9972150157776142, 0.9972150157776142, 0.9972150157776142, 0.9972150157776142, 0.9972150157776142, 0.9972150157776142, 0.9972150157776142, 0.9972150157776142, 0.9972150157776142, 0.9972150157776142, 0.9972150157776142, 0.9972150157776142, 0.9972150157776142, 0.9972150157776142, 0.9972150157776142, 0.9972150157776142, 0.9972150157776142, 0.9972150157776142, 0.9972150157776142, 0.9972150157776142, 0.9972150157776142, 0.9972150157776142, 0.9972150157776142, 0.9972150157776142, 0.9972150157776142, 0.9972150157776142, 0.9972150157776142, 0.9972150157776142, 0.9978723328600957, 0.9978723328600957]}], \"root_mean_squared_log_error\": [{\"categories\": [\"0\", \"1\", \"2\", \"3\", \"4\", \"5\", \"6\", \"7\", \"8\", \"9\", \"10\", \"11\", \"12\", \"13\", \"14\", \"15\", \"16\", \"17\", \"18\", \"19\", \"20\", \"21\", \"22\", \"23\", \"24\", \"25\", \"26\", \"27\", \"28\", \"29\", \"30\", \"31\", \"32\", \"33\", \"34\", \"35\", \"36\", \"37\", \"38\", \"39\", \"40\", \"41\", \"42\", \"43\", \"44\", \"45\", \"46\", \"47\", \"48\", \"49\", \"50\", \"51\", \"52\", \"53\", \"54\", \"55\", \"56\", \"57\", \"58\", \"59\", \"60\", \"61\", \"62\", \"63\", \"64\", \"65\", \"66\", \"67\", \"68\", \"69\", \"70\", \"71\", \"72\", \"73\", \"74\", \"75\", \"76\", \"77\", \"78\", \"79\", \"80\", \"81\", \"82\", \"83\", \"84\", \"85\", \"86\", \"87\"], \"mode\": \"markers\", \"name\": \"root_mean_squared_log_error\", \"stepped\": false, \"type\": \"scatter\", \"data\": [0.01038672732394432, 0.0093307800661351, 0.018676790632395322, 0.022042083660721967, 0.009373516269036092, 0.014498523940691468, 0.02854923699251945, 0.009261808096144407, 0.016228928382563245, 0.01587227617166578, 0.01564726277658393, 0.019296047075272212, 0.054077210849631234, 0.014825498440315, 0.015693247787035822, 0.06459296748370492, 0.017378771839996317, 0.015357733667237491, 0.053819513373453774, 0.03493089018567112, 0.016558318784920062, 0.04940927107762971, 0.015082029409762726, 0.013154572405203737, 0.010373891870130776, 0.07420269018825683, 0.052590692467010404, 0.06146343629644906, 0.019145540038176388, 0.022013324750320806, 0.0730855964036138, 0.01470495480049238, 0.014729179493890911, 0.013419237354800271, 0.017818046795172057, 0.038638020149408335, 0.016473985530207843, 0.01501854037590386, 0.015023718654663525, 0.28927056213393665, 0.01647398553020785, 0.0341569085869265, 0.02544794399949626, 0.038271560536560376, 0.033475532164703815, 0.015135525901307912, 0.032002809385753735, 0.02488768489982238, 0.01660392818542714, 0.009958502794406935, 0.018570084673257076, 0.01541463179243819, 0.014955287157026001, 0.011111340044273298, 0.034877261524320004, 0.020623861108386637, 0.010718856734132249, 0.016385609481599485, 0.019623264574714222, 0.028290597683881227, 0.016193436593793385, 0.024886139251970796, 0.01566753248628378, 0.016603157568546086, 0.014970113929104406, 0.010423588870296685, 0.018814448059094425, 0.030431807353222286, 0.016600294347740237, 0.05017955540045325, 0.02750252240838157, 0.025229761661846924, 0.03673626934404826, 0.016603708707919298, 0.014932953524194362, 0.01154479354730307, 0.016603453619388257, 0.039580964457031874, 0.015495493727710483, 0.012729148168648485, 0.010197455123117382, 0.016603453619388257, 0.03003869852783933, 0.019685434896063034, 0.029500221283555478, 0.00917438240684003, 0.00780703449591691, 0.007799744433362594]}, {\"categories\": [\"0\", \"1\", \"2\", \"3\", \"4\", \"5\", \"6\", \"7\", \"8\", \"9\", \"10\", \"11\", \"12\", \"13\", \"14\", \"15\", \"16\", \"17\", \"18\", \"19\", \"20\", \"21\", \"22\", \"23\", \"24\", \"25\", \"26\", \"27\", \"28\", \"29\", \"30\", \"31\", \"32\", \"33\", \"34\", \"35\", \"36\", \"37\", \"38\", \"39\", \"40\", \"41\", \"42\", \"43\", \"44\", \"45\", \"46\", \"47\", \"48\", \"49\", \"50\", \"51\", \"52\", \"53\", \"54\", \"55\", \"56\", \"57\", \"58\", \"59\", \"60\", \"61\", \"62\", \"63\", \"64\", \"65\", \"66\", \"67\", \"68\", \"69\", \"70\", \"71\", \"72\", \"73\", \"74\", \"75\", \"76\", \"77\", \"78\", \"79\", \"80\", \"81\", \"82\", \"83\", \"84\", \"85\", \"86\", \"87\"], \"mode\": \"lines\", \"name\": \"root_mean_squared_log_error_min\", \"stepped\": true, \"type\": \"scatter\", \"data\": [0.01038672732394432, 0.0093307800661351, 0.0093307800661351, 0.0093307800661351, 0.0093307800661351, 0.0093307800661351, 0.0093307800661351, 0.009261808096144407, 0.009261808096144407, 0.009261808096144407, 0.009261808096144407, 0.009261808096144407, 0.009261808096144407, 0.009261808096144407, 0.009261808096144407, 0.009261808096144407, 0.009261808096144407, 0.009261808096144407, 0.009261808096144407, 0.009261808096144407, 0.009261808096144407, 0.009261808096144407, 0.009261808096144407, 0.009261808096144407, 0.009261808096144407, 0.009261808096144407, 0.009261808096144407, 0.009261808096144407, 0.009261808096144407, 0.009261808096144407, 0.009261808096144407, 0.009261808096144407, 0.009261808096144407, 0.009261808096144407, 0.009261808096144407, 0.009261808096144407, 0.009261808096144407, 0.009261808096144407, 0.009261808096144407, 0.009261808096144407, 0.009261808096144407, 0.009261808096144407, 0.009261808096144407, 0.009261808096144407, 0.009261808096144407, 0.009261808096144407, 0.009261808096144407, 0.009261808096144407, 0.009261808096144407, 0.009261808096144407, 0.009261808096144407, 0.009261808096144407, 0.009261808096144407, 0.009261808096144407, 0.009261808096144407, 0.009261808096144407, 0.009261808096144407, 0.009261808096144407, 0.009261808096144407, 0.009261808096144407, 0.009261808096144407, 0.009261808096144407, 0.009261808096144407, 0.009261808096144407, 0.009261808096144407, 0.009261808096144407, 0.009261808096144407, 0.009261808096144407, 0.009261808096144407, 0.009261808096144407, 0.009261808096144407, 0.009261808096144407, 0.009261808096144407, 0.009261808096144407, 0.009261808096144407, 0.009261808096144407, 0.009261808096144407, 0.009261808096144407, 0.009261808096144407, 0.009261808096144407, 0.009261808096144407, 0.009261808096144407, 0.009261808096144407, 0.009261808096144407, 0.009261808096144407, 0.00917438240684003, 0.00780703449591691, 0.007799744433362594]}], \"median_absolute_error\": [{\"categories\": [\"0\", \"1\", \"2\", \"3\", \"4\", \"5\", \"6\", \"7\", \"8\", \"9\", \"10\", \"11\", \"12\", \"13\", \"14\", \"15\", \"16\", \"17\", \"18\", \"19\", \"20\", \"21\", \"22\", \"23\", \"24\", \"25\", \"26\", \"27\", \"28\", \"29\", \"30\", \"31\", \"32\", \"33\", \"34\", \"35\", \"36\", \"37\", \"38\", \"39\", \"40\", \"41\", \"42\", \"43\", \"44\", \"45\", \"46\", \"47\", \"48\", \"49\", \"50\", \"51\", \"52\", \"53\", \"54\", \"55\", \"56\", \"57\", \"58\", \"59\", \"60\", \"61\", \"62\", \"63\", \"64\", \"65\", \"66\", \"67\", \"68\", \"69\", \"70\", \"71\", \"72\", \"73\", \"74\", \"75\", \"76\", \"77\", \"78\", \"79\", \"80\", \"81\", \"82\", \"83\", \"84\", \"85\", \"86\", \"87\"], \"mode\": \"markers\", \"name\": \"median_absolute_error\", \"stepped\": false, \"type\": \"scatter\", \"data\": [0.02663146072183283, 0.029841597874959103, 0.03425349394480389, 0.03218233103853777, 0.025915988286336383, 0.035761207053354095, 0.044020859865767724, 0.027258372306823746, 0.028523461510641928, 0.04494038187150869, 0.02880030522669334, 0.0328773146975346, 0.26535726388295494, 0.03424498518637346, 0.031477646488978404, 0.12788718964848447, 0.029302593893454947, 0.03746897382735437, 0.1140875522230304, 0.0697141151254191, 0.035672464805140226, 0.07462921027718343, 0.03681735592445327, 0.033097978409884966, 0.030783645311991552, 0.285289192199707, 0.08929239357340164, 0.26444685459136946, 0.04461879259871382, 0.03299787001676776, 0.22303939660390215, 0.03289361346402201, 0.030946955415945165, 0.037934096654256066, 0.0448068141937256, 0.09452015502062132, 0.03557149458132495, 0.0341279156618551, 0.03410967607925053, 1.3233300526936846, 0.035571494581324505, 0.0706656250387323, 0.054759375214353444, 0.0927190679888484, 0.06179379210502386, 0.037160110473632844, 0.07703183086328409, 0.053939056112970306, 0.03572181233842716, 0.03131358623504651, 0.03232780397869184, 0.02957655782315401, 0.03374524066205664, 0.032713572184244644, 0.054992484287659016, 0.033627501024480345, 0.027785526089513457, 0.03130945255219605, 0.03717887960355829, 0.06341237231067935, 0.023426516850789298, 0.05393905611297001, 0.03857644404455122, 0.03572387556611519, 0.034211430330266, 0.03190093040466291, 0.031853896896007296, 0.0694608645972199, 0.035759528830293284, 0.16629227797190346, 0.0632379995126812, 0.040000000000000036, 0.08307364996402826, 0.03573050977948237, 0.03420279166244663, 0.031047685941060294, 0.03572876721690169, 0.09848033910533512, 0.03142532874863472, 0.03640090624491377, 0.029274932543436494, 0.03572876721690169, 0.04999999999999982, 0.04042145593869684, 0.06735068296981517, 0.02931102911631278, 0.02533703585566253, 0.02564672092212857]}, {\"categories\": [\"0\", \"1\", \"2\", \"3\", \"4\", \"5\", \"6\", \"7\", \"8\", \"9\", \"10\", \"11\", \"12\", \"13\", \"14\", \"15\", \"16\", \"17\", \"18\", \"19\", \"20\", \"21\", \"22\", \"23\", \"24\", \"25\", \"26\", \"27\", \"28\", \"29\", \"30\", \"31\", \"32\", \"33\", \"34\", \"35\", \"36\", \"37\", \"38\", \"39\", \"40\", \"41\", \"42\", \"43\", \"44\", \"45\", \"46\", \"47\", \"48\", \"49\", \"50\", \"51\", \"52\", \"53\", \"54\", \"55\", \"56\", \"57\", \"58\", \"59\", \"60\", \"61\", \"62\", \"63\", \"64\", \"65\", \"66\", \"67\", \"68\", \"69\", \"70\", \"71\", \"72\", \"73\", \"74\", \"75\", \"76\", \"77\", \"78\", \"79\", \"80\", \"81\", \"82\", \"83\", \"84\", \"85\", \"86\", \"87\"], \"mode\": \"lines\", \"name\": \"median_absolute_error_min\", \"stepped\": true, \"type\": \"scatter\", \"data\": [0.02663146072183283, 0.02663146072183283, 0.02663146072183283, 0.02663146072183283, 0.025915988286336383, 0.025915988286336383, 0.025915988286336383, 0.025915988286336383, 0.025915988286336383, 0.025915988286336383, 0.025915988286336383, 0.025915988286336383, 0.025915988286336383, 0.025915988286336383, 0.025915988286336383, 0.025915988286336383, 0.025915988286336383, 0.025915988286336383, 0.025915988286336383, 0.025915988286336383, 0.025915988286336383, 0.025915988286336383, 0.025915988286336383, 0.025915988286336383, 0.025915988286336383, 0.025915988286336383, 0.025915988286336383, 0.025915988286336383, 0.025915988286336383, 0.025915988286336383, 0.025915988286336383, 0.025915988286336383, 0.025915988286336383, 0.025915988286336383, 0.025915988286336383, 0.025915988286336383, 0.025915988286336383, 0.025915988286336383, 0.025915988286336383, 0.025915988286336383, 0.025915988286336383, 0.025915988286336383, 0.025915988286336383, 0.025915988286336383, 0.025915988286336383, 0.025915988286336383, 0.025915988286336383, 0.025915988286336383, 0.025915988286336383, 0.025915988286336383, 0.025915988286336383, 0.025915988286336383, 0.025915988286336383, 0.025915988286336383, 0.025915988286336383, 0.025915988286336383, 0.025915988286336383, 0.025915988286336383, 0.025915988286336383, 0.025915988286336383, 0.023426516850789298, 0.023426516850789298, 0.023426516850789298, 0.023426516850789298, 0.023426516850789298, 0.023426516850789298, 0.023426516850789298, 0.023426516850789298, 0.023426516850789298, 0.023426516850789298, 0.023426516850789298, 0.023426516850789298, 0.023426516850789298, 0.023426516850789298, 0.023426516850789298, 0.023426516850789298, 0.023426516850789298, 0.023426516850789298, 0.023426516850789298, 0.023426516850789298, 0.023426516850789298, 0.023426516850789298, 0.023426516850789298, 0.023426516850789298, 0.023426516850789298, 0.023426516850789298, 0.023426516850789298, 0.023426516850789298]}], \"spearman_correlation\": [{\"categories\": [\"0\", \"1\", \"2\", \"3\", \"4\", \"5\", \"6\", \"7\", \"8\", \"9\", \"10\", \"11\", \"12\", \"13\", \"14\", \"15\", \"16\", \"17\", \"18\", \"19\", \"20\", \"21\", \"22\", \"23\", \"24\", \"25\", \"26\", \"27\", \"28\", \"29\", \"30\", \"31\", \"32\", \"33\", \"34\", \"35\", \"36\", \"37\", \"38\", \"39\", \"40\", \"41\", \"42\", \"43\", \"44\", \"45\", \"46\", \"47\", \"48\", \"49\", \"50\", \"51\", \"52\", \"53\", \"54\", \"55\", \"56\", \"57\", \"58\", \"59\", \"60\", \"61\", \"62\", \"63\", \"64\", \"65\", \"66\", \"67\", \"68\", \"69\", \"70\", \"71\", \"72\", \"73\", \"74\", \"75\", \"76\", \"77\", \"78\", \"79\", \"80\", \"81\", \"82\", \"83\", \"84\", \"85\", \"86\", \"87\"], \"mode\": \"markers\", \"name\": \"spearman_correlation\", \"stepped\": false, \"type\": \"scatter\", \"data\": [0.9985273044969594, 0.998320293596783, 0.9928513600521492, 0.9970856205557374, 0.9986852481410408, 0.9979401651210561, 0.9934335519702727, 0.9986236261789788, 0.9982723587172072, 0.9977421837673948, 0.9980972924059607, 0.9971814352768562, 0.9977923762455627, 0.9981602749078698, 0.9978898850672078, 0.9770070125958542, 0.9981145848880891, 0.9976602228440316, 0.969801309113837, 0.9888601676372, 0.9973392930137747, 0.9875015007412463, 0.9977091484699767, 0.9976297067070267, 0.9982150494231075, 0.9553521487419493, 0.9853218721617796, 0.9811714790491539, 0.9959701449459368, 0.9969628914726297, 0.8818002393008761, 0.9976774320852367, 0.9981175058051474, 0.9970171692441431, 0.9953317095578181, 0.9807038055162886, 0.9973827926151504, 0.9981555912855745, 0.9981544058483401, 0.898686589646729, 0.9973827926151504, 0.9978980595814398, 0.9928802032483547, 0.9807921278817261, 0.9905087477317559, 0.9980806981156323, 0.9862763506554235, 0.9932339011000312, 0.9973144308722426, 0.998135971909545, 0.997408402852793, 0.9979552539472015, 0.9977876838607495, 0.9977036735640691, 0.9943770579447314, 0.9970138797034244, 0.9984076420389477, 0.9975100318950195, 0.9962936783773007, 0.9900272877224627, 0.9942743548414027, 0.9932396462229939, 0.9976537498172472, 0.9973134689105795, 0.998165313653051, 0.9984820825686715, 0.9971230884112413, 0.9877044422192086, 0.9973119857525798, 0.930933755701633, 0.9910710207582488, 0.9955898195702927, 0.9830425483314192, 0.9973142553903106, 0.9981684187165539, 0.9981644730004856, 0.9973138743640853, 0.9781539398606336, 0.9974670444170464, 0.9971946627199085, 0.9982889608036859, 0.9973138743640853, 0.9919467919842758, 0.9958071196035121, 0.9891239826648398, 0.9983875292674904, 0.9988553214507742, 0.9988474270549413]}, {\"categories\": [\"0\", \"1\", \"2\", \"3\", \"4\", \"5\", \"6\", \"7\", \"8\", \"9\", \"10\", \"11\", \"12\", \"13\", \"14\", \"15\", \"16\", \"17\", \"18\", \"19\", \"20\", \"21\", \"22\", \"23\", \"24\", \"25\", \"26\", \"27\", \"28\", \"29\", \"30\", \"31\", \"32\", \"33\", \"34\", \"35\", \"36\", \"37\", \"38\", \"39\", \"40\", \"41\", \"42\", \"43\", \"44\", \"45\", \"46\", \"47\", \"48\", \"49\", \"50\", \"51\", \"52\", \"53\", \"54\", \"55\", \"56\", \"57\", \"58\", \"59\", \"60\", \"61\", \"62\", \"63\", \"64\", \"65\", \"66\", \"67\", \"68\", \"69\", \"70\", \"71\", \"72\", \"73\", \"74\", \"75\", \"76\", \"77\", \"78\", \"79\", \"80\", \"81\", \"82\", \"83\", \"84\", \"85\", \"86\", \"87\"], \"mode\": \"lines\", \"name\": \"spearman_correlation_max\", \"stepped\": true, \"type\": \"scatter\", \"data\": [0.9985273044969594, 0.9985273044969594, 0.9985273044969594, 0.9985273044969594, 0.9986852481410408, 0.9986852481410408, 0.9986852481410408, 0.9986852481410408, 0.9986852481410408, 0.9986852481410408, 0.9986852481410408, 0.9986852481410408, 0.9986852481410408, 0.9986852481410408, 0.9986852481410408, 0.9986852481410408, 0.9986852481410408, 0.9986852481410408, 0.9986852481410408, 0.9986852481410408, 0.9986852481410408, 0.9986852481410408, 0.9986852481410408, 0.9986852481410408, 0.9986852481410408, 0.9986852481410408, 0.9986852481410408, 0.9986852481410408, 0.9986852481410408, 0.9986852481410408, 0.9986852481410408, 0.9986852481410408, 0.9986852481410408, 0.9986852481410408, 0.9986852481410408, 0.9986852481410408, 0.9986852481410408, 0.9986852481410408, 0.9986852481410408, 0.9986852481410408, 0.9986852481410408, 0.9986852481410408, 0.9986852481410408, 0.9986852481410408, 0.9986852481410408, 0.9986852481410408, 0.9986852481410408, 0.9986852481410408, 0.9986852481410408, 0.9986852481410408, 0.9986852481410408, 0.9986852481410408, 0.9986852481410408, 0.9986852481410408, 0.9986852481410408, 0.9986852481410408, 0.9986852481410408, 0.9986852481410408, 0.9986852481410408, 0.9986852481410408, 0.9986852481410408, 0.9986852481410408, 0.9986852481410408, 0.9986852481410408, 0.9986852481410408, 0.9986852481410408, 0.9986852481410408, 0.9986852481410408, 0.9986852481410408, 0.9986852481410408, 0.9986852481410408, 0.9986852481410408, 0.9986852481410408, 0.9986852481410408, 0.9986852481410408, 0.9986852481410408, 0.9986852481410408, 0.9986852481410408, 0.9986852481410408, 0.9986852481410408, 0.9986852481410408, 0.9986852481410408, 0.9986852481410408, 0.9986852481410408, 0.9986852481410408, 0.9986852481410408, 0.9988553214507742, 0.9988553214507742]}], \"mean_absolute_error\": [{\"categories\": [\"0\", \"1\", \"2\", \"3\", \"4\", \"5\", \"6\", \"7\", \"8\", \"9\", \"10\", \"11\", \"12\", \"13\", \"14\", \"15\", \"16\", \"17\", \"18\", \"19\", \"20\", \"21\", \"22\", \"23\", \"24\", \"25\", \"26\", \"27\", \"28\", \"29\", \"30\", \"31\", \"32\", \"33\", \"34\", \"35\", \"36\", \"37\", \"38\", \"39\", \"40\", \"41\", \"42\", \"43\", \"44\", \"45\", \"46\", \"47\", \"48\", \"49\", \"50\", \"51\", \"52\", \"53\", \"54\", \"55\", \"56\", \"57\", \"58\", \"59\", \"60\", \"61\", \"62\", \"63\", \"64\", \"65\", \"66\", \"67\", \"68\", \"69\", \"70\", \"71\", \"72\", \"73\", \"74\", \"75\", \"76\", \"77\", \"78\", \"79\", \"80\", \"81\", \"82\", \"83\", \"84\", \"85\", \"86\", \"87\"], \"mode\": \"markers\", \"name\": \"mean_absolute_error\", \"stepped\": false, \"type\": \"scatter\", \"data\": [0.03238090934071565, 0.035783453142464804, 0.050949155301626636, 0.04878862489834491, 0.030998750872260405, 0.047787420568619475, 0.07183024905692935, 0.0320740546583071, 0.03774410067336941, 0.06002127747001842, 0.03836046138627262, 0.046642749752805475, 0.2696060146147223, 0.04570721442403188, 0.04106370539745656, 0.20200151477312753, 0.03971656749734175, 0.050881343763643144, 0.17099101590275914, 0.10257603928032931, 0.04893332789800776, 0.13778785269908486, 0.04985185382728707, 0.04156206561451442, 0.03720985720915795, 0.32172184746937776, 0.15636885124538333, 0.28426011738739404, 0.0593067125040632, 0.050506770337489994, 0.2725900144430811, 0.042432293068640825, 0.03962506711894297, 0.04635321196440902, 0.057355115492693336, 0.12491500566314884, 0.04875040278390264, 0.04551411661935418, 0.04551355640224414, 1.2849804805563216, 0.04875040278390264, 0.10336444889392978, 0.0763052421276077, 0.12571105556183446, 0.09381654002470703, 0.04747824044307538, 0.10359974903988745, 0.07394278662544392, 0.04904242030578115, 0.03743273081715865, 0.04470976391979537, 0.039172017433184304, 0.04400209341691052, 0.04025792925007121, 0.09460130160908542, 0.04896323322456616, 0.03375864322563352, 0.04242159911365918, 0.05321058422224432, 0.08836913348392339, 0.037903357737755106, 0.07393693660844187, 0.05252387751220445, 0.04904483803492337, 0.04554001099791777, 0.03800030206250602, 0.045507390053724395, 0.0960551769603114, 0.04904840893331475, 0.19042921524166115, 0.08606754427880343, 0.05989492909119448, 0.11646388542661341, 0.049043891661909846, 0.045550034157243506, 0.03812551737448342, 0.049044522894932434, 0.1320023567185607, 0.04225530057088617, 0.0449132404582869, 0.035504068030522015, 0.049044522894932434, 0.07825651259940099, 0.05689622781197159, 0.09150398265019939, 0.034444422902698946, 0.02897048613317603, 0.02919353731001831]}, {\"categories\": [\"0\", \"1\", \"2\", \"3\", \"4\", \"5\", \"6\", \"7\", \"8\", \"9\", \"10\", \"11\", \"12\", \"13\", \"14\", \"15\", \"16\", \"17\", \"18\", \"19\", \"20\", \"21\", \"22\", \"23\", \"24\", \"25\", \"26\", \"27\", \"28\", \"29\", \"30\", \"31\", \"32\", \"33\", \"34\", \"35\", \"36\", \"37\", \"38\", \"39\", \"40\", \"41\", \"42\", \"43\", \"44\", \"45\", \"46\", \"47\", \"48\", \"49\", \"50\", \"51\", \"52\", \"53\", \"54\", \"55\", \"56\", \"57\", \"58\", \"59\", \"60\", \"61\", \"62\", \"63\", \"64\", \"65\", \"66\", \"67\", \"68\", \"69\", \"70\", \"71\", \"72\", \"73\", \"74\", \"75\", \"76\", \"77\", \"78\", \"79\", \"80\", \"81\", \"82\", \"83\", \"84\", \"85\", \"86\", \"87\"], \"mode\": \"lines\", \"name\": \"mean_absolute_error_min\", \"stepped\": true, \"type\": \"scatter\", \"data\": [0.03238090934071565, 0.03238090934071565, 0.03238090934071565, 0.03238090934071565, 0.030998750872260405, 0.030998750872260405, 0.030998750872260405, 0.030998750872260405, 0.030998750872260405, 0.030998750872260405, 0.030998750872260405, 0.030998750872260405, 0.030998750872260405, 0.030998750872260405, 0.030998750872260405, 0.030998750872260405, 0.030998750872260405, 0.030998750872260405, 0.030998750872260405, 0.030998750872260405, 0.030998750872260405, 0.030998750872260405, 0.030998750872260405, 0.030998750872260405, 0.030998750872260405, 0.030998750872260405, 0.030998750872260405, 0.030998750872260405, 0.030998750872260405, 0.030998750872260405, 0.030998750872260405, 0.030998750872260405, 0.030998750872260405, 0.030998750872260405, 0.030998750872260405, 0.030998750872260405, 0.030998750872260405, 0.030998750872260405, 0.030998750872260405, 0.030998750872260405, 0.030998750872260405, 0.030998750872260405, 0.030998750872260405, 0.030998750872260405, 0.030998750872260405, 0.030998750872260405, 0.030998750872260405, 0.030998750872260405, 0.030998750872260405, 0.030998750872260405, 0.030998750872260405, 0.030998750872260405, 0.030998750872260405, 0.030998750872260405, 0.030998750872260405, 0.030998750872260405, 0.030998750872260405, 0.030998750872260405, 0.030998750872260405, 0.030998750872260405, 0.030998750872260405, 0.030998750872260405, 0.030998750872260405, 0.030998750872260405, 0.030998750872260405, 0.030998750872260405, 0.030998750872260405, 0.030998750872260405, 0.030998750872260405, 0.030998750872260405, 0.030998750872260405, 0.030998750872260405, 0.030998750872260405, 0.030998750872260405, 0.030998750872260405, 0.030998750872260405, 0.030998750872260405, 0.030998750872260405, 0.030998750872260405, 0.030998750872260405, 0.030998750872260405, 0.030998750872260405, 0.030998750872260405, 0.030998750872260405, 0.030998750872260405, 0.030998750872260405, 0.02897048613317603, 0.02897048613317603]}], \"normalized_mean_absolute_error\": [{\"categories\": [\"0\", \"1\", \"2\", \"3\", \"4\", \"5\", \"6\", \"7\", \"8\", \"9\", \"10\", \"11\", \"12\", \"13\", \"14\", \"15\", \"16\", \"17\", \"18\", \"19\", \"20\", \"21\", \"22\", \"23\", \"24\", \"25\", \"26\", \"27\", \"28\", \"29\", \"30\", \"31\", \"32\", \"33\", \"34\", \"35\", \"36\", \"37\", \"38\", \"39\", \"40\", \"41\", \"42\", \"43\", \"44\", \"45\", \"46\", \"47\", \"48\", \"49\", \"50\", \"51\", \"52\", \"53\", \"54\", \"55\", \"56\", \"57\", \"58\", \"59\", \"60\", \"61\", \"62\", \"63\", \"64\", \"65\", \"66\", \"67\", \"68\", \"69\", \"70\", \"71\", \"72\", \"73\", \"74\", \"75\", \"76\", \"77\", \"78\", \"79\", \"80\", \"81\", \"82\", \"83\", \"84\", \"85\", \"86\", \"87\"], \"mode\": \"markers\", \"name\": \"normalized_mean_absolute_error\", \"stepped\": false, \"type\": \"scatter\", \"data\": [0.00505951708448682, 0.005591164553510125, 0.007960805515879162, 0.007623222640366393, 0.0048435548237906875, 0.007466784463846794, 0.011223476415145208, 0.005011571040360484, 0.005897515730213971, 0.009378324604690376, 0.005993822091605095, 0.007287929648875857, 0.04212593978355036, 0.00714175225375498, 0.006416203968352588, 0.03156273668330117, 0.006205713671459647, 0.00795020996306924, 0.02671734623480612, 0.01602750613755145, 0.007645832484063714, 0.021529351984232007, 0.007789352160513604, 0.0064940727522678765, 0.005814040188930929, 0.05026903866709027, 0.024432633007091142, 0.04441564334178031, 0.009266673828759875, 0.007891682865232811, 0.04259218975673142, 0.006630045791975128, 0.00619141673733484, 0.007242689369438909, 0.008961736795733331, 0.019517969634867002, 0.007617250434984787, 0.007111580721774091, 0.007111493187850647, 0.20077820008692526, 0.007617250434984788, 0.016150695139676527, 0.011922694082438701, 0.019642352431536635, 0.014658834378860473, 0.0074184750692305275, 0.01618746078748241, 0.011553560410225613, 0.0076628781727783035, 0.005848864190181037, 0.006985900612468027, 0.0061206277239350465, 0.006875327096392267, 0.006290301445323627, 0.014781453376419595, 0.007650505191338461, 0.005274788004005236, 0.006628374861509246, 0.008314153784725675, 0.013807677106863028, 0.005922399646524235, 0.011552646345069043, 0.008206855861281946, 0.007663255942956776, 0.007115626718424652, 0.0059375471972665655, 0.007110529695894437, 0.015008621400048655, 0.007663813895830428, 0.029754564881509554, 0.013448053793563038, 0.009358582670499138, 0.018197482097908346, 0.007663108072173414, 0.007117192837069297, 0.005957112089763034, 0.007663206702333191, 0.020625368237275107, 0.006602390714200963, 0.007017693821607328, 0.0055475106297690644, 0.007663206702333191, 0.012227580093656404, 0.008890035595620559, 0.014297497289093653, 0.005381941078546709, 0.004526638458308754, 0.004561490204690361]}, {\"categories\": [\"0\", \"1\", \"2\", \"3\", \"4\", \"5\", \"6\", \"7\", \"8\", \"9\", \"10\", \"11\", \"12\", \"13\", \"14\", \"15\", \"16\", \"17\", \"18\", \"19\", \"20\", \"21\", \"22\", \"23\", \"24\", \"25\", \"26\", \"27\", \"28\", \"29\", \"30\", \"31\", \"32\", \"33\", \"34\", \"35\", \"36\", \"37\", \"38\", \"39\", \"40\", \"41\", \"42\", \"43\", \"44\", \"45\", \"46\", \"47\", \"48\", \"49\", \"50\", \"51\", \"52\", \"53\", \"54\", \"55\", \"56\", \"57\", \"58\", \"59\", \"60\", \"61\", \"62\", \"63\", \"64\", \"65\", \"66\", \"67\", \"68\", \"69\", \"70\", \"71\", \"72\", \"73\", \"74\", \"75\", \"76\", \"77\", \"78\", \"79\", \"80\", \"81\", \"82\", \"83\", \"84\", \"85\", \"86\", \"87\"], \"mode\": \"lines\", \"name\": \"normalized_mean_absolute_error_min\", \"stepped\": true, \"type\": \"scatter\", \"data\": [0.00505951708448682, 0.00505951708448682, 0.00505951708448682, 0.00505951708448682, 0.0048435548237906875, 0.0048435548237906875, 0.0048435548237906875, 0.0048435548237906875, 0.0048435548237906875, 0.0048435548237906875, 0.0048435548237906875, 0.0048435548237906875, 0.0048435548237906875, 0.0048435548237906875, 0.0048435548237906875, 0.0048435548237906875, 0.0048435548237906875, 0.0048435548237906875, 0.0048435548237906875, 0.0048435548237906875, 0.0048435548237906875, 0.0048435548237906875, 0.0048435548237906875, 0.0048435548237906875, 0.0048435548237906875, 0.0048435548237906875, 0.0048435548237906875, 0.0048435548237906875, 0.0048435548237906875, 0.0048435548237906875, 0.0048435548237906875, 0.0048435548237906875, 0.0048435548237906875, 0.0048435548237906875, 0.0048435548237906875, 0.0048435548237906875, 0.0048435548237906875, 0.0048435548237906875, 0.0048435548237906875, 0.0048435548237906875, 0.0048435548237906875, 0.0048435548237906875, 0.0048435548237906875, 0.0048435548237906875, 0.0048435548237906875, 0.0048435548237906875, 0.0048435548237906875, 0.0048435548237906875, 0.0048435548237906875, 0.0048435548237906875, 0.0048435548237906875, 0.0048435548237906875, 0.0048435548237906875, 0.0048435548237906875, 0.0048435548237906875, 0.0048435548237906875, 0.0048435548237906875, 0.0048435548237906875, 0.0048435548237906875, 0.0048435548237906875, 0.0048435548237906875, 0.0048435548237906875, 0.0048435548237906875, 0.0048435548237906875, 0.0048435548237906875, 0.0048435548237906875, 0.0048435548237906875, 0.0048435548237906875, 0.0048435548237906875, 0.0048435548237906875, 0.0048435548237906875, 0.0048435548237906875, 0.0048435548237906875, 0.0048435548237906875, 0.0048435548237906875, 0.0048435548237906875, 0.0048435548237906875, 0.0048435548237906875, 0.0048435548237906875, 0.0048435548237906875, 0.0048435548237906875, 0.0048435548237906875, 0.0048435548237906875, 0.0048435548237906875, 0.0048435548237906875, 0.0048435548237906875, 0.004526638458308754, 0.004526638458308754]}], \"root_mean_squared_error\": [{\"categories\": [\"0\", \"1\", \"2\", \"3\", \"4\", \"5\", \"6\", \"7\", \"8\", \"9\", \"10\", \"11\", \"12\", \"13\", \"14\", \"15\", \"16\", \"17\", \"18\", \"19\", \"20\", \"21\", \"22\", \"23\", \"24\", \"25\", \"26\", \"27\", \"28\", \"29\", \"30\", \"31\", \"32\", \"33\", \"34\", \"35\", \"36\", \"37\", \"38\", \"39\", \"40\", \"41\", \"42\", \"43\", \"44\", \"45\", \"46\", \"47\", \"48\", \"49\", \"50\", \"51\", \"52\", \"53\", \"54\", \"55\", \"56\", \"57\", \"58\", \"59\", \"60\", \"61\", \"62\", \"63\", \"64\", \"65\", \"66\", \"67\", \"68\", \"69\", \"70\", \"71\", \"72\", \"73\", \"74\", \"75\", \"76\", \"77\", \"78\", \"79\", \"80\", \"81\", \"82\", \"83\", \"84\", \"85\", \"86\", \"87\"], \"mode\": \"markers\", \"name\": \"root_mean_squared_error\", \"stepped\": false, \"type\": \"scatter\", \"data\": [0.04676762225363066, 0.045771126733714314, 0.09033535088024554, 0.09308007897792558, 0.0424178508269513, 0.06633400960569001, 0.13000982638791872, 0.042561711707290416, 0.06692770995879178, 0.08291682782237937, 0.06546569640224652, 0.08167585135111573, 0.28573640209208184, 0.06411706807473555, 0.06621060580126929, 0.31276552011660935, 0.07166785618265556, 0.07206610681565483, 0.2627999648824714, 0.16072039233749932, 0.07187550689253845, 0.23748912289851318, 0.0701045070885868, 0.0600958679254515, 0.04965038726740306, 0.3973248940972096, 0.2563217600005055, 0.32768204743536067, 0.088835000646096, 0.0944109072205289, 0.353160991803617, 0.06596403859706403, 0.06413933086138872, 0.06318557866867809, 0.08410896455065175, 0.18276307429473262, 0.07146399239288741, 0.06413013627882676, 0.06414111835438019, 1.3575110542970232, 0.07146399239288745, 0.1560983993864111, 0.1177017686198885, 0.18211954629171737, 0.15481596678601048, 0.07268736653736287, 0.15440645370366443, 0.1147655978406165, 0.07209063769194857, 0.04827744185244062, 0.07819690416285117, 0.06486280050279923, 0.06793120788537965, 0.05340897988628145, 0.16472114631099577, 0.08766181203644653, 0.04838095406781079, 0.0712969898523621, 0.08907913263093446, 0.13201422788700512, 0.0835319998205194, 0.11475508161351344, 0.07473204903572628, 0.07208772607740958, 0.06405088024625955, 0.05089856536388229, 0.08305405643961727, 0.14544207801980957, 0.07207768092382792, 0.24389044266437823, 0.1298706783903992, 0.10733129257257046, 0.17322933070487725, 0.07208967076417909, 0.06402598903949125, 0.05326120520993377, 0.07208878531619471, 0.1877394599217557, 0.06817500252476916, 0.06028907433591434, 0.04846964899010999, 0.07208878531619471, 0.1364667543166495, 0.09098709341307869, 0.14010328952233883, 0.043753232216882265, 0.037074861970555976, 0.0371359375158642]}, {\"categories\": [\"0\", \"1\", \"2\", \"3\", \"4\", \"5\", \"6\", \"7\", \"8\", \"9\", \"10\", \"11\", \"12\", \"13\", \"14\", \"15\", \"16\", \"17\", \"18\", \"19\", \"20\", \"21\", \"22\", \"23\", \"24\", \"25\", \"26\", \"27\", \"28\", \"29\", \"30\", \"31\", \"32\", \"33\", \"34\", \"35\", \"36\", \"37\", \"38\", \"39\", \"40\", \"41\", \"42\", \"43\", \"44\", \"45\", \"46\", \"47\", \"48\", \"49\", \"50\", \"51\", \"52\", \"53\", \"54\", \"55\", \"56\", \"57\", \"58\", \"59\", \"60\", \"61\", \"62\", \"63\", \"64\", \"65\", \"66\", \"67\", \"68\", \"69\", \"70\", \"71\", \"72\", \"73\", \"74\", \"75\", \"76\", \"77\", \"78\", \"79\", \"80\", \"81\", \"82\", \"83\", \"84\", \"85\", \"86\", \"87\"], \"mode\": \"lines\", \"name\": \"root_mean_squared_error_min\", \"stepped\": true, \"type\": \"scatter\", \"data\": [0.04676762225363066, 0.045771126733714314, 0.045771126733714314, 0.045771126733714314, 0.0424178508269513, 0.0424178508269513, 0.0424178508269513, 0.0424178508269513, 0.0424178508269513, 0.0424178508269513, 0.0424178508269513, 0.0424178508269513, 0.0424178508269513, 0.0424178508269513, 0.0424178508269513, 0.0424178508269513, 0.0424178508269513, 0.0424178508269513, 0.0424178508269513, 0.0424178508269513, 0.0424178508269513, 0.0424178508269513, 0.0424178508269513, 0.0424178508269513, 0.0424178508269513, 0.0424178508269513, 0.0424178508269513, 0.0424178508269513, 0.0424178508269513, 0.0424178508269513, 0.0424178508269513, 0.0424178508269513, 0.0424178508269513, 0.0424178508269513, 0.0424178508269513, 0.0424178508269513, 0.0424178508269513, 0.0424178508269513, 0.0424178508269513, 0.0424178508269513, 0.0424178508269513, 0.0424178508269513, 0.0424178508269513, 0.0424178508269513, 0.0424178508269513, 0.0424178508269513, 0.0424178508269513, 0.0424178508269513, 0.0424178508269513, 0.0424178508269513, 0.0424178508269513, 0.0424178508269513, 0.0424178508269513, 0.0424178508269513, 0.0424178508269513, 0.0424178508269513, 0.0424178508269513, 0.0424178508269513, 0.0424178508269513, 0.0424178508269513, 0.0424178508269513, 0.0424178508269513, 0.0424178508269513, 0.0424178508269513, 0.0424178508269513, 0.0424178508269513, 0.0424178508269513, 0.0424178508269513, 0.0424178508269513, 0.0424178508269513, 0.0424178508269513, 0.0424178508269513, 0.0424178508269513, 0.0424178508269513, 0.0424178508269513, 0.0424178508269513, 0.0424178508269513, 0.0424178508269513, 0.0424178508269513, 0.0424178508269513, 0.0424178508269513, 0.0424178508269513, 0.0424178508269513, 0.0424178508269513, 0.0424178508269513, 0.0424178508269513, 0.037074861970555976, 0.037074861970555976]}], \"normalized_root_mean_squared_log_error\": [{\"categories\": [\"0\", \"1\", \"2\", \"3\", \"4\", \"5\", \"6\", \"7\", \"8\", \"9\", \"10\", \"11\", \"12\", \"13\", \"14\", \"15\", \"16\", \"17\", \"18\", \"19\", \"20\", \"21\", \"22\", \"23\", \"24\", \"25\", \"26\", \"27\", \"28\", \"29\", \"30\", \"31\", \"32\", \"33\", \"34\", \"35\", \"36\", \"37\", \"38\", \"39\", \"40\", \"41\", \"42\", \"43\", \"44\", \"45\", \"46\", \"47\", \"48\", \"49\", \"50\", \"51\", \"52\", \"53\", \"54\", \"55\", \"56\", \"57\", \"58\", \"59\", \"60\", \"61\", \"62\", \"63\", \"64\", \"65\", \"66\", \"67\", \"68\", \"69\", \"70\", \"71\", \"72\", \"73\", \"74\", \"75\", \"76\", \"77\", \"78\", \"79\", \"80\", \"81\", \"82\", \"83\", \"84\", \"85\", \"86\", \"87\"], \"mode\": \"markers\", \"name\": \"normalized_root_mean_squared_log_error\", \"stepped\": false, \"type\": \"scatter\", \"data\": [0.007807139795116748, 0.007013441491418893, 0.014038330924034073, 0.016567839238275706, 0.007045563978122802, 0.01089775438379767, 0.02145891360127446, 0.006961599001010908, 0.012198405585898714, 0.011930329455480324, 0.011761199085885646, 0.014503792418091152, 0.040646907506641926, 0.011143523387679622, 0.011795763525085877, 0.04855103163863688, 0.013062680572109806, 0.011543575751708723, 0.04045321028531137, 0.026255656314259083, 0.012445990492882952, 0.037138270260414295, 0.01133634380914561, 0.009887578879216305, 0.00779749208038132, 0.05577413918799864, 0.03952957223257751, 0.046198732718094306, 0.014390664438304182, 0.01654622272454096, 0.054934480355243946, 0.011052917269105789, 0.011071125657750031, 0.01008651317256242, 0.013392859739867945, 0.029042104919571255, 0.012382601757588277, 0.011288622544561103, 0.011292514775955451, 0.21742899825486506, 0.012382601757588284, 0.025673896309226767, 0.019127839800354304, 0.028766657096831853, 0.025161742594637004, 0.011376554221435797, 0.024054776727899504, 0.01870672341054046, 0.012480272606452006, 0.007485266633193124, 0.013958125839797013, 0.011586342987592336, 0.011241078529312706, 0.008351791890862714, 0.026215346557091596, 0.01550183823706096, 0.008056783465787613, 0.012316174273308902, 0.014749744071762003, 0.02126450845554621, 0.012171728332528803, 0.018705561630850385, 0.011776434727709837, 0.012479693375522837, 0.011252223010025085, 0.007834846620997662, 0.014141800548349563, 0.022873939674623714, 0.01247754124767752, 0.03771725122359091, 0.020672154997810062, 0.018963843966274117, 0.02761266194587396, 0.012480107637108709, 0.011224291548369491, 0.008677595388662774, 0.01247991590088999, 0.029750865032263905, 0.011647122520267577, 0.009567810545704644, 0.007664874143473149, 0.01247991590088999, 0.022578461083654657, 0.014796474131648968, 0.022173716933596734, 0.006895885850294968, 0.005868124558773569, 0.005862645013994774]}, {\"categories\": [\"0\", \"1\", \"2\", \"3\", \"4\", \"5\", \"6\", \"7\", \"8\", \"9\", \"10\", \"11\", \"12\", \"13\", \"14\", \"15\", \"16\", \"17\", \"18\", \"19\", \"20\", \"21\", \"22\", \"23\", \"24\", \"25\", \"26\", \"27\", \"28\", \"29\", \"30\", \"31\", \"32\", \"33\", \"34\", \"35\", \"36\", \"37\", \"38\", \"39\", \"40\", \"41\", \"42\", \"43\", \"44\", \"45\", \"46\", \"47\", \"48\", \"49\", \"50\", \"51\", \"52\", \"53\", \"54\", \"55\", \"56\", \"57\", \"58\", \"59\", \"60\", \"61\", \"62\", \"63\", \"64\", \"65\", \"66\", \"67\", \"68\", \"69\", \"70\", \"71\", \"72\", \"73\", \"74\", \"75\", \"76\", \"77\", \"78\", \"79\", \"80\", \"81\", \"82\", \"83\", \"84\", \"85\", \"86\", \"87\"], \"mode\": \"lines\", \"name\": \"normalized_root_mean_squared_log_error_min\", \"stepped\": true, \"type\": \"scatter\", \"data\": [0.007807139795116748, 0.007013441491418893, 0.007013441491418893, 0.007013441491418893, 0.007013441491418893, 0.007013441491418893, 0.007013441491418893, 0.006961599001010908, 0.006961599001010908, 0.006961599001010908, 0.006961599001010908, 0.006961599001010908, 0.006961599001010908, 0.006961599001010908, 0.006961599001010908, 0.006961599001010908, 0.006961599001010908, 0.006961599001010908, 0.006961599001010908, 0.006961599001010908, 0.006961599001010908, 0.006961599001010908, 0.006961599001010908, 0.006961599001010908, 0.006961599001010908, 0.006961599001010908, 0.006961599001010908, 0.006961599001010908, 0.006961599001010908, 0.006961599001010908, 0.006961599001010908, 0.006961599001010908, 0.006961599001010908, 0.006961599001010908, 0.006961599001010908, 0.006961599001010908, 0.006961599001010908, 0.006961599001010908, 0.006961599001010908, 0.006961599001010908, 0.006961599001010908, 0.006961599001010908, 0.006961599001010908, 0.006961599001010908, 0.006961599001010908, 0.006961599001010908, 0.006961599001010908, 0.006961599001010908, 0.006961599001010908, 0.006961599001010908, 0.006961599001010908, 0.006961599001010908, 0.006961599001010908, 0.006961599001010908, 0.006961599001010908, 0.006961599001010908, 0.006961599001010908, 0.006961599001010908, 0.006961599001010908, 0.006961599001010908, 0.006961599001010908, 0.006961599001010908, 0.006961599001010908, 0.006961599001010908, 0.006961599001010908, 0.006961599001010908, 0.006961599001010908, 0.006961599001010908, 0.006961599001010908, 0.006961599001010908, 0.006961599001010908, 0.006961599001010908, 0.006961599001010908, 0.006961599001010908, 0.006961599001010908, 0.006961599001010908, 0.006961599001010908, 0.006961599001010908, 0.006961599001010908, 0.006961599001010908, 0.006961599001010908, 0.006961599001010908, 0.006961599001010908, 0.006961599001010908, 0.006961599001010908, 0.006895885850294968, 0.005868124558773569, 0.005862645013994774]}], \"mean_absolute_percentage_error\": [{\"categories\": [\"0\", \"1\", \"2\", \"3\", \"4\", \"5\", \"6\", \"7\", \"8\", \"9\", \"10\", \"11\", \"12\", \"13\", \"14\", \"15\", \"16\", \"17\", \"18\", \"19\", \"20\", \"21\", \"22\", \"23\", \"24\", \"25\", \"26\", \"27\", \"28\", \"29\", \"30\", \"31\", \"32\", \"33\", \"34\", \"35\", \"36\", \"37\", \"38\", \"39\", \"40\", \"41\", \"42\", \"43\", \"44\", \"45\", \"46\", \"47\", \"48\", \"49\", \"50\", \"51\", \"52\", \"53\", \"54\", \"55\", \"56\", \"57\", \"58\", \"59\", \"60\", \"61\", \"62\", \"63\", \"64\", \"65\", \"66\", \"67\", \"68\", \"69\", \"70\", \"71\", \"72\", \"73\", \"74\", \"75\", \"76\", \"77\", \"78\", \"79\", \"80\", \"81\", \"82\", \"83\", \"84\", \"85\", \"86\", \"87\"], \"mode\": \"markers\", \"name\": \"mean_absolute_percentage_error\", \"stepped\": false, \"type\": \"scatter\", \"data\": [0.8353535196011904, 0.896970789045365, 1.2832166592057117, 1.3347629537007435, 0.794930573845436, 1.2158760781563498, 1.9243247586718715, 0.8161793526635813, 1.0171228215915742, 1.4485251004184236, 1.0230272674609597, 1.2555646470836161, 6.35190725211654, 1.1908336372315407, 1.0919178102525298, 5.326457762368721, 1.075772346488856, 1.2819031100214386, 4.463114964473782, 2.716431793832019, 1.2898643440398159, 3.6546220833425616, 1.2608735457573175, 1.0647433181284198, 0.93641771339682, 7.434190727237534, 4.096649197079514, 6.614700433677428, 1.5210836237454253, 1.3684646341845772, 7.055435736416392, 1.1040527810220484, 1.0373438193393572, 1.1699028225724328, 1.4559018032525533, 3.2515732510726507, 1.2848046623841645, 1.1940981231010876, 1.194266229955536, 30.01011609207822, 1.2848046623841647, 2.7355273217093568, 1.9946469084107454, 3.256463011572327, 2.4821220745262416, 1.1845018124013589, 2.6712647320403438, 1.9373607285797332, 1.2928879885585196, 0.9429227184616503, 1.202373372099782, 1.0390770731765848, 1.139955781755172, 1.0105065333724195, 2.4998398280559564, 1.3213323822983087, 0.8681026262753498, 1.1219395716489597, 1.3996829290408421, 2.2960718711614088, 0.9482238954156902, 1.9372391542897436, 1.314329664818336, 1.2929149111976497, 1.1926910555748995, 0.9441210922197018, 1.2116759879146792, 2.4800950039003795, 1.2928839768583393, 4.889595682817355, 2.2318755707781897, 1.6462469014450918, 3.0438703451935734, 1.292914616036513, 1.1916751952153373, 0.974141743225982, 1.2929191529761506, 3.424782130535378, 1.1105243126966293, 1.143549227602137, 0.8987295057098456, 1.2929191529761506, 2.102538754211374, 1.4853216028601726, 2.37188557465989, 0.8670214521471893, 0.730535445367067, 0.7359547555302637]}, {\"categories\": [\"0\", \"1\", \"2\", \"3\", \"4\", \"5\", \"6\", \"7\", \"8\", \"9\", \"10\", \"11\", \"12\", \"13\", \"14\", \"15\", \"16\", \"17\", \"18\", \"19\", \"20\", \"21\", \"22\", \"23\", \"24\", \"25\", \"26\", \"27\", \"28\", \"29\", \"30\", \"31\", \"32\", \"33\", \"34\", \"35\", \"36\", \"37\", \"38\", \"39\", \"40\", \"41\", \"42\", \"43\", \"44\", \"45\", \"46\", \"47\", \"48\", \"49\", \"50\", \"51\", \"52\", \"53\", \"54\", \"55\", \"56\", \"57\", \"58\", \"59\", \"60\", \"61\", \"62\", \"63\", \"64\", \"65\", \"66\", \"67\", \"68\", \"69\", \"70\", \"71\", \"72\", \"73\", \"74\", \"75\", \"76\", \"77\", \"78\", \"79\", \"80\", \"81\", \"82\", \"83\", \"84\", \"85\", \"86\", \"87\"], \"mode\": \"lines\", \"name\": \"mean_absolute_percentage_error_min\", \"stepped\": true, \"type\": \"scatter\", \"data\": [0.8353535196011904, 0.8353535196011904, 0.8353535196011904, 0.8353535196011904, 0.794930573845436, 0.794930573845436, 0.794930573845436, 0.794930573845436, 0.794930573845436, 0.794930573845436, 0.794930573845436, 0.794930573845436, 0.794930573845436, 0.794930573845436, 0.794930573845436, 0.794930573845436, 0.794930573845436, 0.794930573845436, 0.794930573845436, 0.794930573845436, 0.794930573845436, 0.794930573845436, 0.794930573845436, 0.794930573845436, 0.794930573845436, 0.794930573845436, 0.794930573845436, 0.794930573845436, 0.794930573845436, 0.794930573845436, 0.794930573845436, 0.794930573845436, 0.794930573845436, 0.794930573845436, 0.794930573845436, 0.794930573845436, 0.794930573845436, 0.794930573845436, 0.794930573845436, 0.794930573845436, 0.794930573845436, 0.794930573845436, 0.794930573845436, 0.794930573845436, 0.794930573845436, 0.794930573845436, 0.794930573845436, 0.794930573845436, 0.794930573845436, 0.794930573845436, 0.794930573845436, 0.794930573845436, 0.794930573845436, 0.794930573845436, 0.794930573845436, 0.794930573845436, 0.794930573845436, 0.794930573845436, 0.794930573845436, 0.794930573845436, 0.794930573845436, 0.794930573845436, 0.794930573845436, 0.794930573845436, 0.794930573845436, 0.794930573845436, 0.794930573845436, 0.794930573845436, 0.794930573845436, 0.794930573845436, 0.794930573845436, 0.794930573845436, 0.794930573845436, 0.794930573845436, 0.794930573845436, 0.794930573845436, 0.794930573845436, 0.794930573845436, 0.794930573845436, 0.794930573845436, 0.794930573845436, 0.794930573845436, 0.794930573845436, 0.794930573845436, 0.794930573845436, 0.794930573845436, 0.730535445367067, 0.730535445367067]}], \"normalized_median_absolute_error\": [{\"categories\": [\"0\", \"1\", \"2\", \"3\", \"4\", \"5\", \"6\", \"7\", \"8\", \"9\", \"10\", \"11\", \"12\", \"13\", \"14\", \"15\", \"16\", \"17\", \"18\", \"19\", \"20\", \"21\", \"22\", \"23\", \"24\", \"25\", \"26\", \"27\", \"28\", \"29\", \"30\", \"31\", \"32\", \"33\", \"34\", \"35\", \"36\", \"37\", \"38\", \"39\", \"40\", \"41\", \"42\", \"43\", \"44\", \"45\", \"46\", \"47\", \"48\", \"49\", \"50\", \"51\", \"52\", \"53\", \"54\", \"55\", \"56\", \"57\", \"58\", \"59\", \"60\", \"61\", \"62\", \"63\", \"64\", \"65\", \"66\", \"67\", \"68\", \"69\", \"70\", \"71\", \"72\", \"73\", \"74\", \"75\", \"76\", \"77\", \"78\", \"79\", \"80\", \"81\", \"82\", \"83\", \"84\", \"85\", \"86\", \"87\"], \"mode\": \"markers\", \"name\": \"normalized_median_absolute_error\", \"stepped\": false, \"type\": \"scatter\", \"data\": [0.004161165737786379, 0.00466274966796236, 0.005352108428875607, 0.0050284892247715275, 0.00404937316974006, 0.005587688602086578, 0.006878259354026206, 0.0042591206729412105, 0.004456790861037801, 0.007021934667423233, 0.004500047691670834, 0.00513708042148978, 0.041462072481711715, 0.005350778935370853, 0.004918382263902875, 0.0199823733825757, 0.004578530295852336, 0.00585452716052412, 0.0178261800348485, 0.010892830488346735, 0.005573822625803161, 0.01166081410580991, 0.005752711863195824, 0.005171559126544527, 0.00480994457999868, 0.044576436281204224, 0.013951936495844008, 0.041319821029901484, 0.006971686343549034, 0.005155917190119962, 0.034849905719359704, 0.00513962710375344, 0.004835461783741432, 0.00592720260222751, 0.007001064717769625, 0.01476877422197208, 0.005558046028332024, 0.005332486822164859, 0.005329636887382895, 0.20677032073338822, 0.0055580460283319545, 0.011041503912301923, 0.008556152377242726, 0.014487354373257563, 0.009655280016409978, 0.005806267261505131, 0.01203622357238814, 0.00842797751765161, 0.005581533177879243, 0.004892747849226016, 0.0050512193716706, 0.004621337159867814, 0.00527269385344635, 0.005111495653788226, 0.008592575669946721, 0.005254297035075055, 0.004341488451486478, 0.004892101961280632, 0.005809199938055984, 0.009908183173543647, 0.003660393257935828, 0.008427977517651564, 0.0060275693819611285, 0.005581855557205498, 0.005345535989104064, 0.004984520375728579, 0.004977171390001141, 0.010853260093315609, 0.005587426379733325, 0.025983168433109913, 0.009880937423856437, 0.0062500000000000056, 0.012980257806879414, 0.005582892153044121, 0.005344186197257285, 0.004851200928290671, 0.00558261987764089, 0.015387552985208613, 0.0049102076169741755, 0.005687641600767776, 0.004574208209911952, 0.00558261987764089, 0.007812499999999972, 0.006315852490421381, 0.01052354421403362, 0.004579848299423872, 0.003958911852447271, 0.004007300144082589]}, {\"categories\": [\"0\", \"1\", \"2\", \"3\", \"4\", \"5\", \"6\", \"7\", \"8\", \"9\", \"10\", \"11\", \"12\", \"13\", \"14\", \"15\", \"16\", \"17\", \"18\", \"19\", \"20\", \"21\", \"22\", \"23\", \"24\", \"25\", \"26\", \"27\", \"28\", \"29\", \"30\", \"31\", \"32\", \"33\", \"34\", \"35\", \"36\", \"37\", \"38\", \"39\", \"40\", \"41\", \"42\", \"43\", \"44\", \"45\", \"46\", \"47\", \"48\", \"49\", \"50\", \"51\", \"52\", \"53\", \"54\", \"55\", \"56\", \"57\", \"58\", \"59\", \"60\", \"61\", \"62\", \"63\", \"64\", \"65\", \"66\", \"67\", \"68\", \"69\", \"70\", \"71\", \"72\", \"73\", \"74\", \"75\", \"76\", \"77\", \"78\", \"79\", \"80\", \"81\", \"82\", \"83\", \"84\", \"85\", \"86\", \"87\"], \"mode\": \"lines\", \"name\": \"normalized_median_absolute_error_min\", \"stepped\": true, \"type\": \"scatter\", \"data\": [0.004161165737786379, 0.004161165737786379, 0.004161165737786379, 0.004161165737786379, 0.00404937316974006, 0.00404937316974006, 0.00404937316974006, 0.00404937316974006, 0.00404937316974006, 0.00404937316974006, 0.00404937316974006, 0.00404937316974006, 0.00404937316974006, 0.00404937316974006, 0.00404937316974006, 0.00404937316974006, 0.00404937316974006, 0.00404937316974006, 0.00404937316974006, 0.00404937316974006, 0.00404937316974006, 0.00404937316974006, 0.00404937316974006, 0.00404937316974006, 0.00404937316974006, 0.00404937316974006, 0.00404937316974006, 0.00404937316974006, 0.00404937316974006, 0.00404937316974006, 0.00404937316974006, 0.00404937316974006, 0.00404937316974006, 0.00404937316974006, 0.00404937316974006, 0.00404937316974006, 0.00404937316974006, 0.00404937316974006, 0.00404937316974006, 0.00404937316974006, 0.00404937316974006, 0.00404937316974006, 0.00404937316974006, 0.00404937316974006, 0.00404937316974006, 0.00404937316974006, 0.00404937316974006, 0.00404937316974006, 0.00404937316974006, 0.00404937316974006, 0.00404937316974006, 0.00404937316974006, 0.00404937316974006, 0.00404937316974006, 0.00404937316974006, 0.00404937316974006, 0.00404937316974006, 0.00404937316974006, 0.00404937316974006, 0.00404937316974006, 0.003660393257935828, 0.003660393257935828, 0.003660393257935828, 0.003660393257935828, 0.003660393257935828, 0.003660393257935828, 0.003660393257935828, 0.003660393257935828, 0.003660393257935828, 0.003660393257935828, 0.003660393257935828, 0.003660393257935828, 0.003660393257935828, 0.003660393257935828, 0.003660393257935828, 0.003660393257935828, 0.003660393257935828, 0.003660393257935828, 0.003660393257935828, 0.003660393257935828, 0.003660393257935828, 0.003660393257935828, 0.003660393257935828, 0.003660393257935828, 0.003660393257935828, 0.003660393257935828, 0.003660393257935828, 0.003660393257935828]}], \"explained_variance\": [{\"categories\": [\"0\", \"1\", \"2\", \"3\", \"4\", \"5\", \"6\", \"7\", \"8\", \"9\", \"10\", \"11\", \"12\", \"13\", \"14\", \"15\", \"16\", \"17\", \"18\", \"19\", \"20\", \"21\", \"22\", \"23\", \"24\", \"25\", \"26\", \"27\", \"28\", \"29\", \"30\", \"31\", \"32\", \"33\", \"34\", \"35\", \"36\", \"37\", \"38\", \"39\", \"40\", \"41\", \"42\", \"43\", \"44\", \"45\", \"46\", \"47\", \"48\", \"49\", \"50\", \"51\", \"52\", \"53\", \"54\", \"55\", \"56\", \"57\", \"58\", \"59\", \"60\", \"61\", \"62\", \"63\", \"64\", \"65\", \"66\", \"67\", \"68\", \"69\", \"70\", \"71\", \"72\", \"73\", \"74\", \"75\", \"76\", \"77\", \"78\", \"79\", \"80\", \"81\", \"82\", \"83\", \"84\", \"85\", \"86\", \"87\"], \"mode\": \"markers\", \"name\": \"explained_variance\", \"stepped\": false, \"type\": \"scatter\", \"data\": [0.9966171363593362, 0.9967549438053497, 0.9873536464579997, 0.9865917301469581, 0.997215877640406, 0.9931920683266023, 0.9738450408293146, 0.9971928102212142, 0.9930677069503234, 0.9893694333855096, 0.9933646726619494, 0.9896740604700912, 0.9854026533015983, 0.9936430638150565, 0.9932164211384747, 0.8484391771342062, 0.9920514848382244, 0.9919652535425723, 0.8931784361426894, 0.9600640762065694, 0.9920068032530981, 0.912785797809187, 0.9923954706271516, 0.9944103055112573, 0.9961850156103661, 0.8647927558777581, 0.8980925577381029, 0.9424928984562883, 0.9877893509266112, 0.9862058946056163, 0.8069699982451691, 0.9932664591422272, 0.9936366288255668, 0.9938198312194061, 0.9890515623792756, 0.948315275400507, 0.9920986239722572, 0.9936411745693419, 0.9936390442595563, 0.6927509287379848, 0.9920986239722572, 0.9623120965054635, 0.9785499260701088, 0.9487010437104026, 0.9628694517666315, 0.9924286772183203, 0.9630842883261086, 0.9796159808082107, 0.9919595615269831, 0.9963946793709458, 0.9905355379112762, 0.9934876662364035, 0.9928566211699397, 0.9955854512195543, 0.9580057656942977, 0.9881003024897902, 0.996379056812846, 0.9921334439485573, 0.9877234788858335, 0.9730301285272014, 0.9891759434581932, 0.9796201752997341, 0.9913620162349789, 0.9919602793441147, 0.99365625548395, 0.9965988238839305, 0.9893247511879256, 0.9672883544318918, 0.9919627171628361, 0.88607543254788, 0.973891122566879, 0.9822581148173422, 0.9535588843051004, 0.991959803769714, 0.9936612204629055, 0.9956122560506584, 0.9919600225056165, 0.9454182202065269, 0.9928104063081548, 0.9943761950063387, 0.9963647668121075, 0.9919600225056165, 0.9712359425065681, 0.9871804926909918, 0.9696265343526252, 0.9970380953932597, 0.9978729652325602, 0.997865926274364]}, {\"categories\": [\"0\", \"1\", \"2\", \"3\", \"4\", \"5\", \"6\", \"7\", \"8\", \"9\", \"10\", \"11\", \"12\", \"13\", \"14\", \"15\", \"16\", \"17\", \"18\", \"19\", \"20\", \"21\", \"22\", \"23\", \"24\", \"25\", \"26\", \"27\", \"28\", \"29\", \"30\", \"31\", \"32\", \"33\", \"34\", \"35\", \"36\", \"37\", \"38\", \"39\", \"40\", \"41\", \"42\", \"43\", \"44\", \"45\", \"46\", \"47\", \"48\", \"49\", \"50\", \"51\", \"52\", \"53\", \"54\", \"55\", \"56\", \"57\", \"58\", \"59\", \"60\", \"61\", \"62\", \"63\", \"64\", \"65\", \"66\", \"67\", \"68\", \"69\", \"70\", \"71\", \"72\", \"73\", \"74\", \"75\", \"76\", \"77\", \"78\", \"79\", \"80\", \"81\", \"82\", \"83\", \"84\", \"85\", \"86\", \"87\"], \"mode\": \"lines\", \"name\": \"explained_variance_max\", \"stepped\": true, \"type\": \"scatter\", \"data\": [0.9966171363593362, 0.9967549438053497, 0.9967549438053497, 0.9967549438053497, 0.997215877640406, 0.997215877640406, 0.997215877640406, 0.997215877640406, 0.997215877640406, 0.997215877640406, 0.997215877640406, 0.997215877640406, 0.997215877640406, 0.997215877640406, 0.997215877640406, 0.997215877640406, 0.997215877640406, 0.997215877640406, 0.997215877640406, 0.997215877640406, 0.997215877640406, 0.997215877640406, 0.997215877640406, 0.997215877640406, 0.997215877640406, 0.997215877640406, 0.997215877640406, 0.997215877640406, 0.997215877640406, 0.997215877640406, 0.997215877640406, 0.997215877640406, 0.997215877640406, 0.997215877640406, 0.997215877640406, 0.997215877640406, 0.997215877640406, 0.997215877640406, 0.997215877640406, 0.997215877640406, 0.997215877640406, 0.997215877640406, 0.997215877640406, 0.997215877640406, 0.997215877640406, 0.997215877640406, 0.997215877640406, 0.997215877640406, 0.997215877640406, 0.997215877640406, 0.997215877640406, 0.997215877640406, 0.997215877640406, 0.997215877640406, 0.997215877640406, 0.997215877640406, 0.997215877640406, 0.997215877640406, 0.997215877640406, 0.997215877640406, 0.997215877640406, 0.997215877640406, 0.997215877640406, 0.997215877640406, 0.997215877640406, 0.997215877640406, 0.997215877640406, 0.997215877640406, 0.997215877640406, 0.997215877640406, 0.997215877640406, 0.997215877640406, 0.997215877640406, 0.997215877640406, 0.997215877640406, 0.997215877640406, 0.997215877640406, 0.997215877640406, 0.997215877640406, 0.997215877640406, 0.997215877640406, 0.997215877640406, 0.997215877640406, 0.997215877640406, 0.997215877640406, 0.997215877640406, 0.9978729652325602, 0.9978729652325602]}]}, \"metricName\": null, \"primaryMetricName\": \"r2_score\", \"showLegend\": false}, \"run_metrics\": [{\"name\": \"experiment_status\", \"run_id\": \"AutoML_7081f1ae-1458-4fb0-9155-7f7ca3dfa64a\", \"categories\": [0, 1, 2, 3, 4, 5, 6, 7, 8, 9, 10, 11, 12, 13], \"series\": [{\"data\": [\"DatasetEvaluation\", \"FeaturesGeneration\", \"DatasetFeaturization\", \"DatasetFeaturizationCompleted\", \"DatasetCrossValidationSplit\", \"ModelSelection\", \"BestRunExplainModel\", \"ModelExplanationDataSetSetup\", \"PickSurrogateModel\", \"EngineeredFeatureExplanations\", \"EngineeredFeatureExplanations\", \"RawFeaturesExplanations\", \"RawFeaturesExplanations\", \"BestRunExplainModel\"]}]}, {\"name\": \"experiment_status_description\", \"run_id\": \"AutoML_7081f1ae-1458-4fb0-9155-7f7ca3dfa64a\", \"categories\": [0, 1, 2, 3, 4, 5, 6, 7, 8, 9, 10, 11, 12, 13], \"series\": [{\"data\": [\"Gathering dataset statistics.\", \"Generating features for the dataset.\", \"Beginning to fit featurizers and featurize the dataset.\", \"Completed fit featurizers and featurizing the dataset.\", \"Generating individually featurized CV splits.\", \"Beginning model selection.\", \"Best run model explanations started\", \"Model explanations data setup completed\", \"Choosing LightGBM as the surrogate model for explanations\", \"Computation of engineered features started\", \"Computation of engineered features completed\", \"Computation of raw features started\", \"Computation of raw features completed\", \"Best run model explanations completed\"]}]}, {\"name\": \"spearman_correlation\", \"run_id\": \"AutoML_7081f1ae-1458-4fb0-9155-7f7ca3dfa64a\", \"categories\": [0], \"series\": [{\"data\": [0.9988553214507742]}]}, {\"name\": \"root_mean_squared_error\", \"run_id\": \"AutoML_7081f1ae-1458-4fb0-9155-7f7ca3dfa64a\", \"categories\": [0], \"series\": [{\"data\": [0.037074861970555976]}]}, {\"name\": \"mean_absolute_error\", \"run_id\": \"AutoML_7081f1ae-1458-4fb0-9155-7f7ca3dfa64a\", \"categories\": [0], \"series\": [{\"data\": [0.02897048613317603]}]}, {\"name\": \"explained_variance\", \"run_id\": \"AutoML_7081f1ae-1458-4fb0-9155-7f7ca3dfa64a\", \"categories\": [0], \"series\": [{\"data\": [0.9978729652325602]}]}, {\"name\": \"normalized_mean_absolute_error\", \"run_id\": \"AutoML_7081f1ae-1458-4fb0-9155-7f7ca3dfa64a\", \"categories\": [0], \"series\": [{\"data\": [0.004526638458308754]}]}, {\"name\": \"normalized_root_mean_squared_log_error\", \"run_id\": \"AutoML_7081f1ae-1458-4fb0-9155-7f7ca3dfa64a\", \"categories\": [0], \"series\": [{\"data\": [0.005868124558773569]}]}, {\"name\": \"r2_score\", \"run_id\": \"AutoML_7081f1ae-1458-4fb0-9155-7f7ca3dfa64a\", \"categories\": [0], \"series\": [{\"data\": [0.9978723328600957]}]}, {\"name\": \"normalized_root_mean_squared_error\", \"run_id\": \"AutoML_7081f1ae-1458-4fb0-9155-7f7ca3dfa64a\", \"categories\": [0], \"series\": [{\"data\": [0.0057929471828993715]}]}, {\"name\": \"root_mean_squared_log_error\", \"run_id\": \"AutoML_7081f1ae-1458-4fb0-9155-7f7ca3dfa64a\", \"categories\": [0], \"series\": [{\"data\": [0.00780703449591691]}]}, {\"name\": \"median_absolute_error\", \"run_id\": \"AutoML_7081f1ae-1458-4fb0-9155-7f7ca3dfa64a\", \"categories\": [0], \"series\": [{\"data\": [0.02533703585566253]}]}, {\"name\": \"mean_absolute_percentage_error\", \"run_id\": \"AutoML_7081f1ae-1458-4fb0-9155-7f7ca3dfa64a\", \"categories\": [0], \"series\": [{\"data\": [0.730535445367067]}]}, {\"name\": \"normalized_median_absolute_error\", \"run_id\": \"AutoML_7081f1ae-1458-4fb0-9155-7f7ca3dfa64a\", \"categories\": [0], \"series\": [{\"data\": [0.003958911852447271]}]}], \"run_logs\": \"\\nRun is completed.\", \"graph\": {}, \"widget_settings\": {\"childWidgetDisplay\": \"popup\", \"send_telemetry\": false, \"log_level\": \"INFO\", \"sdk_version\": \"1.20.0\"}, \"loading\": false}"
          },
          "metadata": {}
        },
        {
          "output_type": "stream",
          "name": "stdout",
          "text": [
            "\n",
            "\n",
            "****************************************************************************************************\n",
            "DATA GUARDRAILS: \n",
            "\n",
            "TYPE:         Missing feature values imputation\n",
            "STATUS:       PASSED\n",
            "DESCRIPTION:  No feature missing values were detected in the training data.\n",
            "              Learn more about missing value imputation: https://aka.ms/AutomatedMLFeaturization\n",
            "\n",
            "****************************************************************************************************\n",
            "\n",
            "TYPE:         High cardinality feature detection\n",
            "STATUS:       PASSED\n",
            "DESCRIPTION:  Your inputs were analyzed, and no high cardinality features were detected.\n",
            "              Learn more about high cardinality feature handling: https://aka.ms/AutomatedMLFeaturization\n",
            "\n",
            "****************************************************************************************************\n",
            "\n",
            "****************************************************************************************************\n",
            "ITERATION: The iteration being evaluated.\n",
            "PIPELINE: A summary description of the pipeline being evaluated.\n",
            "DURATION: Time taken for the current iteration.\n",
            "METRIC: The result of computing score on the fitted pipeline.\n",
            "BEST: The best observed score thus far.\n",
            "****************************************************************************************************\n",
            "\n",
            " ITERATION   PIPELINE                                       DURATION      METRIC      BEST\n",
            "         0   MaxAbsScaler LightGBM                          0:00:53       0.9966    0.9966\n",
            "         1   MaxAbsScaler XGBoostRegressor                  0:00:53       0.9968    0.9968\n",
            "         2   SparseNormalizer XGBoostRegressor              0:00:59       0.9874    0.9968\n",
            "         3   MaxAbsScaler RandomForest                      0:01:06       0.9866    0.9968\n",
            "         4   StandardScalerWrapper XGBoostRegressor         0:01:19       0.9972    0.9972\n",
            "         5   MaxAbsScaler ElasticNet                        0:01:01       0.9932    0.9972\n",
            "         6   MinMaxScaler RandomForest                      0:01:45       0.9738    0.9972\n",
            "         7   StandardScalerWrapper XGBoostRegressor         0:00:57       0.9972    0.9972\n",
            "        10   MinMaxScaler RandomForest                      0:01:48       0.9934    0.9972\n",
            "        11   MinMaxScaler RandomForest                      0:00:59       0.9897    0.9972\n",
            "         8   MinMaxScaler ExtremeRandomTrees                0:01:00       0.9931    0.9972\n",
            "         9   StandardScalerWrapper ElasticNet               0:01:03       0.9894    0.9972\n",
            "        12   StandardScalerWrapper XGBoostRegressor         0:00:57       0.8737    0.9972\n",
            "        13   RobustScaler LassoLars                         0:00:58       0.9936    0.9972\n",
            "        14   MinMaxScaler ExtremeRandomTrees                0:01:02       0.9932    0.9972\n",
            "        15   MaxAbsScaler ExtremeRandomTrees                0:01:08       0.8484    0.9972\n",
            "        16   MinMaxScaler ExtremeRandomTrees                0:01:00       0.9921    0.9972\n",
            "        17   MaxAbsScaler ElasticNet                        0:00:52       0.9920    0.9972\n",
            "        18   MinMaxScaler RandomForest                      0:00:55       0.8931    0.9972\n",
            "        19   MaxAbsScaler RandomForest                      0:00:51       0.9600    0.9972\n",
            "        20   RobustScaler ElasticNet                        0:00:54       0.9920    0.9972\n",
            "        21   StandardScalerWrapper RandomForest             0:01:28       0.9127    0.9972\n",
            "        22   MaxAbsScaler ElasticNet                        0:01:09       0.9924    0.9972\n",
            "        23   MinMaxScaler LightGBM                          0:00:59       0.9944    0.9972\n",
            "        24   StandardScalerWrapper XGBoostRegressor         0:01:01       0.9962    0.9972\n",
            "        25   SparseNormalizer XGBoostRegressor              0:01:01       0.7557    0.9972\n",
            "        26   StandardScalerWrapper RandomForest             0:01:04       0.8980    0.9972\n",
            "        27   SparseNormalizer XGBoostRegressor              0:01:03       0.8339    0.9972\n",
            "        28   RobustScaler LightGBM                          0:00:53       0.9878    0.9972\n",
            "        29   StandardScalerWrapper RandomForest             0:01:18       0.9862    0.9972\n",
            "        30   PCA XGBoostRegressor                           0:01:16       0.8070    0.9972\n",
            "        31   MaxAbsScaler LightGBM                          0:01:02       0.9933    0.9972\n",
            "        32   RobustScaler LightGBM                          0:01:03       0.9936    0.9972\n",
            "        33   StandardScalerWrapper XGBoostRegressor         0:01:00       0.9938    0.9972\n",
            "        34   PCA XGBoostRegressor                           0:01:02       0.9891    0.9972\n",
            "        35   MaxAbsScaler DecisionTree                      0:01:03       0.9483    0.9972\n",
            "        36   RobustScaler ElasticNet                        0:00:52       0.9921    0.9972\n",
            "        37   StandardScalerWrapper ElasticNet               0:00:59       0.9936    0.9972\n",
            "        38   StandardScalerWrapper ElasticNet               0:01:35       0.9936    0.9972\n",
            "        39   PCA XGBoostRegressor                           0:00:53      -1.0000    0.9972\n",
            "        40   StandardScalerWrapper ElasticNet               0:01:03       0.9921    0.9972\n",
            "        41   MaxAbsScaler ExtremeRandomTrees                0:01:11       0.9623    0.9972\n",
            "        42   StandardScalerWrapper DecisionTree             0:00:55       0.9785    0.9972\n",
            "        43   StandardScalerWrapper DecisionTree             0:00:55       0.9487    0.9972\n",
            "        44   MinMaxScaler RandomForest                      0:01:03       0.9629    0.9972\n",
            "        45   StandardScalerWrapper XGBoostRegressor         0:00:59       0.9918    0.9972\n",
            "        46   StandardScalerWrapper DecisionTree             0:00:57       0.9631    0.9972\n",
            "        47   MaxAbsScaler DecisionTree                      0:00:51       0.9796    0.9972\n",
            "        48   StandardScalerWrapper ElasticNet               0:01:12       0.9920    0.9972\n",
            "        49   StandardScalerWrapper XGBoostRegressor         0:01:01       0.9964    0.9972\n",
            "        50   MinMaxScaler RandomForest                      0:01:06       0.9905    0.9972\n",
            "        51   StandardScalerWrapper RandomForest             0:00:52       0.9935    0.9972\n",
            "        52   RobustScaler GradientBoosting                  0:01:11       0.9929    0.9972\n",
            "        53   StandardScalerWrapper XGBoostRegressor         0:01:00       0.9956    0.9972\n",
            "        54   MinMaxScaler RandomForest                      0:01:02       0.9580    0.9972\n",
            "        55   RobustScaler RandomForest                      0:01:00       0.9881    0.9972\n",
            "        56   MinMaxScaler GradientBoosting                  0:01:21       0.9964    0.9972\n",
            "        57   StandardScalerWrapper RandomForest             0:01:04       0.9921    0.9972\n",
            "        58   StandardScalerWrapper RandomForest             0:01:01       0.9877    0.9972\n",
            "        59   StandardScalerWrapper DecisionTree             0:01:03       0.9730    0.9972\n",
            "        60   SparseNormalizer XGBoostRegressor              0:01:16       0.9892    0.9972\n",
            "        61   StandardScalerWrapper DecisionTree             0:00:51       0.9796    0.9972\n",
            "        62   MaxAbsScaler ElasticNet                        0:00:53       0.9914    0.9972\n",
            "        63   StandardScalerWrapper ElasticNet               0:00:49       0.9920    0.9972\n",
            "        64   StandardScalerWrapper ElasticNet               0:01:12       0.9937    0.9972\n",
            "        65   StandardScalerWrapper XGBoostRegressor         0:00:59       0.9960    0.9972\n",
            "        66   MaxAbsScaler RandomForest                      0:01:47       0.9893    0.9972\n",
            "        67   RobustScaler DecisionTree                      0:00:57       0.9673    0.9972\n",
            "        68   RobustScaler ElasticNet                        0:01:02       0.9920    0.9972\n",
            "        69   PCA XGBoostRegressor                           0:01:05       0.8854    0.9972\n",
            "        70   RobustScaler RandomForest                      0:01:54       0.9739    0.9972\n",
            "        71   RobustScaler ExtremeRandomTrees                0:01:30       0.9822    0.9972\n",
            "        72   MinMaxScaler DecisionTree                      0:01:06       0.9535    0.9972\n",
            "        73   RobustScaler ElasticNet                        0:01:17       0.9920    0.9972\n",
            "        74   RobustScaler ElasticNet                        0:01:22       0.9937    0.9972\n",
            "        75   StandardScalerWrapper XGBoostRegressor         0:01:01       0.9956    0.9972\n",
            "        76   RobustScaler ElasticNet                        0:00:48       0.9920    0.9972\n",
            "        77   RobustScaler DecisionTree                      0:00:51       0.9454    0.9972\n",
            "        78   RobustScaler RandomForest                      0:01:05       0.9928    0.9972\n",
            "        79   StandardScalerWrapper XGBoostRegressor         0:01:00       0.9944    0.9972\n",
            "        80   StandardScalerWrapper XGBoostRegressor         0:01:04       0.9964    0.9972\n",
            "        81   RobustScaler ElasticNet                        0:01:02       0.9920    0.9972\n",
            "        82   StandardScalerWrapper RandomForest             0:01:30       0.9712    0.9972\n",
            "ERROR: {\n",
            "    \"additional_properties\": {},\n",
            "    \"error\": {\n",
            "        \"additional_properties\": {\n",
            "            \"debugInfo\": null\n",
            "        },\n",
            "        \"code\": \"UserError\",\n",
            "        \"severity\": null,\n",
            "        \"message\": \"Experiment timeout reached, please consider increasing your experiment timeout.\",\n",
            "        \"message_format\": \"Experiment timeout reached, please consider increasing your experiment timeout.\",\n",
            "        \"message_parameters\": {},\n",
            "        \"reference_code\": null,\n",
            "        \"details_uri\": null,\n",
            "        \"target\": null,\n",
            "        \"details\": [],\n",
            "        \"inner_error\": {\n",
            "            \"additional_properties\": {},\n",
            "            \"code\": \"ResourceExhausted\",\n",
            "            \"inner_error\": {\n",
            "                \"additional_properties\": {},\n",
            "                \"code\": \"Timeout\",\n",
            "                \"inner_error\": {\n",
            "                    \"additional_properties\": {},\n",
            "                    \"code\": \"ExperimentTimeoutForIterations\",\n",
            "                    \"inner_error\": null\n",
            "                }\n",
            "            }\n",
            "        }\n",
            "    },\n",
            "    \"correlation\": null,\n",
            "    \"environment\": null,\n",
            "    \"location\": null,\n",
            "    \"time\": {},\n",
            "    \"component_name\": null\n",
            "}\n",
            "        83   MinMaxScaler RandomForest                      0:01:12       0.9872    0.9972\n",
            "        84   StandardScalerWrapper DecisionTree             0:01:06       0.9696    0.9972\n",
            "        85   StandardScalerWrapper XGBoostRegressor         0:01:03       0.9970    0.9972\n",
            "        86    VotingEnsemble                                0:01:53       0.9979    0.9979\n",
            "        87    StackEnsemble                                 0:02:01       0.9979    0.9979\n"
          ]
        },
        {
          "output_type": "execute_result",
          "execution_count": 43,
          "data": {
            "text/plain": "{'runId': 'AutoML_7081f1ae-1458-4fb0-9155-7f7ca3dfa64a',\n 'target': 'automl-cluster',\n 'status': 'Completed',\n 'startTimeUtc': '2021-01-24T21:59:24.227922Z',\n 'endTimeUtc': '2021-01-24T22:35:27.442272Z',\n 'properties': {'num_iterations': '1000',\n  'training_type': 'TrainFull',\n  'acquisition_function': 'EI',\n  'primary_metric': 'r2_score',\n  'train_split': '0',\n  'acquisition_parameter': '0',\n  'num_cross_validation': '3',\n  'target': 'automl-cluster',\n  'AMLSettingsJsonString': '{\"path\":null,\"name\":\"ideb-regression\",\"subscription_id\":\"a748a023-896b-4719-8f8e-3d1ba62d6e35\",\"resource_group\":\"RG-AZML\",\"workspace_name\":\"AZML\",\"region\":\"eastus\",\"compute_target\":\"automl-cluster\",\"spark_service\":null,\"azure_service\":\"remote\",\"many_models\":false,\"pipeline_fetch_max_batch_size\":1,\"iterations\":1000,\"primary_metric\":\"r2_score\",\"task_type\":\"regression\",\"data_script\":null,\"validation_size\":0.0,\"n_cross_validations\":3,\"y_min\":null,\"y_max\":null,\"num_classes\":null,\"featurization\":\"auto\",\"_ignore_package_version_incompatibilities\":false,\"is_timeseries\":false,\"max_cores_per_iteration\":1,\"max_concurrent_iterations\":4,\"iteration_timeout_minutes\":null,\"mem_in_mb\":null,\"enforce_time_on_windows\":false,\"experiment_timeout_minutes\":30,\"experiment_exit_score\":null,\"whitelist_models\":null,\"blacklist_algos\":[\"TensorFlowDNN\",\"TensorFlowLinearRegressor\"],\"supported_models\":[\"ExtremeRandomTrees\",\"LassoLars\",\"TensorFlowDNN\",\"DecisionTree\",\"KNN\",\"GradientBoosting\",\"XGBoostRegressor\",\"TensorFlowLinearRegressor\",\"SGD\",\"LightGBM\",\"FastLinearRegressor\",\"RandomForest\",\"ElasticNet\",\"OnlineGradientDescentRegressor\"],\"auto_blacklist\":true,\"blacklist_samples_reached\":false,\"exclude_nan_labels\":true,\"verbosity\":20,\"_debug_log\":\"azureml_automl.log\",\"show_warnings\":false,\"model_explainability\":true,\"service_url\":null,\"sdk_url\":null,\"sdk_packages\":null,\"enable_onnx_compatible_models\":false,\"enable_split_onnx_featurizer_estimator_models\":false,\"vm_type\":\"STANDARD_DS3_V2\",\"telemetry_verbosity\":20,\"send_telemetry\":true,\"enable_dnn\":false,\"scenario\":\"SDK-1.13.0\",\"environment_label\":null,\"force_text_dnn\":false,\"enable_feature_sweeping\":true,\"enable_early_stopping\":false,\"early_stopping_n_iters\":10,\"metrics\":null,\"enable_ensembling\":true,\"enable_stack_ensembling\":true,\"ensemble_iterations\":15,\"enable_tf\":false,\"enable_subsampling\":null,\"subsample_seed\":null,\"enable_nimbusml\":false,\"enable_streaming\":false,\"force_streaming\":false,\"track_child_runs\":true,\"allowed_private_models\":[],\"label_column_name\":\"IDEB_2019\",\"weight_column_name\":null,\"cv_split_column_names\":null,\"enable_local_managed\":false,\"_local_managed_run_id\":null,\"cost_mode\":1,\"lag_length\":0,\"metric_operation\":\"maximize\",\"preprocess\":true}',\n  'DataPrepJsonString': '{\\\\\"training_data\\\\\": \\\\\"{\\\\\\\\\\\\\"blocks\\\\\\\\\\\\\": [{\\\\\\\\\\\\\"id\\\\\\\\\\\\\": \\\\\\\\\\\\\"823dab97-9480-4378-8c08-4aec261bc0f3\\\\\\\\\\\\\", \\\\\\\\\\\\\"type\\\\\\\\\\\\\": \\\\\\\\\\\\\"Microsoft.DPrep.GetDatastoreFilesBlock\\\\\\\\\\\\\", \\\\\\\\\\\\\"arguments\\\\\\\\\\\\\": {\\\\\\\\\\\\\"datastores\\\\\\\\\\\\\": [{\\\\\\\\\\\\\"datastoreName\\\\\\\\\\\\\": \\\\\\\\\\\\\"workspaceblobstore\\\\\\\\\\\\\", \\\\\\\\\\\\\"path\\\\\\\\\\\\\": \\\\\\\\\\\\\"UI/01-20-2021_015249_UTC/data.CSV\\\\\\\\\\\\\", \\\\\\\\\\\\\"resourceGroup\\\\\\\\\\\\\": \\\\\\\\\\\\\"RG-AZML\\\\\\\\\\\\\", \\\\\\\\\\\\\"subscription\\\\\\\\\\\\\": \\\\\\\\\\\\\"a748a023-896b-4719-8f8e-3d1ba62d6e35\\\\\\\\\\\\\", \\\\\\\\\\\\\"workspaceName\\\\\\\\\\\\\": \\\\\\\\\\\\\"AZML\\\\\\\\\\\\\"}]}, \\\\\\\\\\\\\"localData\\\\\\\\\\\\\": {}, \\\\\\\\\\\\\"isEnabled\\\\\\\\\\\\\": true, \\\\\\\\\\\\\"name\\\\\\\\\\\\\": null, \\\\\\\\\\\\\"annotation\\\\\\\\\\\\\": null}, {\\\\\\\\\\\\\"id\\\\\\\\\\\\\": \\\\\\\\\\\\\"76adb1eb-bf70-4771-bfa7-4e59f7b8e108\\\\\\\\\\\\\", \\\\\\\\\\\\\"type\\\\\\\\\\\\\": \\\\\\\\\\\\\"Microsoft.DPrep.ParseDelimitedBlock\\\\\\\\\\\\\", \\\\\\\\\\\\\"arguments\\\\\\\\\\\\\": {\\\\\\\\\\\\\"columnHeadersMode\\\\\\\\\\\\\": 1, \\\\\\\\\\\\\"fileEncoding\\\\\\\\\\\\\": 0, \\\\\\\\\\\\\"handleQuotedLineBreaks\\\\\\\\\\\\\": false, \\\\\\\\\\\\\"preview\\\\\\\\\\\\\": false, \\\\\\\\\\\\\"separator\\\\\\\\\\\\\": \\\\\\\\\\\\\";\\\\\\\\\\\\\", \\\\\\\\\\\\\"skipRows\\\\\\\\\\\\\": 0, \\\\\\\\\\\\\"skipRowsMode\\\\\\\\\\\\\": 0}, \\\\\\\\\\\\\"localData\\\\\\\\\\\\\": {}, \\\\\\\\\\\\\"isEnabled\\\\\\\\\\\\\": true, \\\\\\\\\\\\\"name\\\\\\\\\\\\\": null, \\\\\\\\\\\\\"annotation\\\\\\\\\\\\\": null}, {\\\\\\\\\\\\\"id\\\\\\\\\\\\\": \\\\\\\\\\\\\"e64ec390-9ab1-4697-a1c0-a78e859f8075\\\\\\\\\\\\\", \\\\\\\\\\\\\"type\\\\\\\\\\\\\": \\\\\\\\\\\\\"Microsoft.DPrep.DropColumnsBlock\\\\\\\\\\\\\", \\\\\\\\\\\\\"arguments\\\\\\\\\\\\\": {\\\\\\\\\\\\\"columns\\\\\\\\\\\\\": {\\\\\\\\\\\\\"type\\\\\\\\\\\\\": 0, \\\\\\\\\\\\\"details\\\\\\\\\\\\\": {\\\\\\\\\\\\\"selectedColumns\\\\\\\\\\\\\": [\\\\\\\\\\\\\"Path\\\\\\\\\\\\\"]}}}, \\\\\\\\\\\\\"localData\\\\\\\\\\\\\": {}, \\\\\\\\\\\\\"isEnabled\\\\\\\\\\\\\": true, \\\\\\\\\\\\\"name\\\\\\\\\\\\\": null, \\\\\\\\\\\\\"annotation\\\\\\\\\\\\\": null}, {\\\\\\\\\\\\\"id\\\\\\\\\\\\\": \\\\\\\\\\\\\"6e49ef01-f4a3-43db-8a3e-f72409add096\\\\\\\\\\\\\", \\\\\\\\\\\\\"type\\\\\\\\\\\\\": \\\\\\\\\\\\\"Microsoft.DPrep.SetColumnTypesBlock\\\\\\\\\\\\\", \\\\\\\\\\\\\"arguments\\\\\\\\\\\\\": {\\\\\\\\\\\\\"columnConversion\\\\\\\\\\\\\": [{\\\\\\\\\\\\\"column\\\\\\\\\\\\\": {\\\\\\\\\\\\\"type\\\\\\\\\\\\\": 2, \\\\\\\\\\\\\"details\\\\\\\\\\\\\": {\\\\\\\\\\\\\"selectedColumn\\\\\\\\\\\\\": \\\\\\\\\\\\\"Path\\\\\\\\\\\\\"}}, \\\\\\\\\\\\\"typeProperty\\\\\\\\\\\\\": 0}, {\\\\\\\\\\\\\"column\\\\\\\\\\\\\": {\\\\\\\\\\\\\"type\\\\\\\\\\\\\": 2, \\\\\\\\\\\\\"details\\\\\\\\\\\\\": {\\\\\\\\\\\\\"selectedColumn\\\\\\\\\\\\\": \\\\\\\\\\\\\"TAprov2019_Total\\\\\\\\\\\\\"}}, \\\\\\\\\\\\\"typeProperty\\\\\\\\\\\\\": 3}, {\\\\\\\\\\\\\"column\\\\\\\\\\\\\": {\\\\\\\\\\\\\"type\\\\\\\\\\\\\": 2, \\\\\\\\\\\\\"details\\\\\\\\\\\\\": {\\\\\\\\\\\\\"selectedColumn\\\\\\\\\\\\\": \\\\\\\\\\\\\"TAprov2019_1_serie\\\\\\\\\\\\\"}}, \\\\\\\\\\\\\"typeProperty\\\\\\\\\\\\\": 3}, {\\\\\\\\\\\\\"column\\\\\\\\\\\\\": {\\\\\\\\\\\\\"type\\\\\\\\\\\\\": 2, \\\\\\\\\\\\\"details\\\\\\\\\\\\\": {\\\\\\\\\\\\\"selectedColumn\\\\\\\\\\\\\": \\\\\\\\\\\\\"TAprov2019_2_serie\\\\\\\\\\\\\"}}, \\\\\\\\\\\\\"typeProperty\\\\\\\\\\\\\": 3}, {\\\\\\\\\\\\\"column\\\\\\\\\\\\\": {\\\\\\\\\\\\\"type\\\\\\\\\\\\\": 2, \\\\\\\\\\\\\"details\\\\\\\\\\\\\": {\\\\\\\\\\\\\"selectedColumn\\\\\\\\\\\\\": \\\\\\\\\\\\\"TAprov2019_3_serie\\\\\\\\\\\\\"}}, \\\\\\\\\\\\\"typeProperty\\\\\\\\\\\\\": 3}, {\\\\\\\\\\\\\"column\\\\\\\\\\\\\": {\\\\\\\\\\\\\"type\\\\\\\\\\\\\": 2, \\\\\\\\\\\\\"details\\\\\\\\\\\\\": {\\\\\\\\\\\\\"selectedColumn\\\\\\\\\\\\\": \\\\\\\\\\\\\"TAprov2019_4_serie\\\\\\\\\\\\\"}}, \\\\\\\\\\\\\"typeProperty\\\\\\\\\\\\\": 3}, {\\\\\\\\\\\\\"column\\\\\\\\\\\\\": {\\\\\\\\\\\\\"type\\\\\\\\\\\\\": 2, \\\\\\\\\\\\\"details\\\\\\\\\\\\\": {\\\\\\\\\\\\\"selectedColumn\\\\\\\\\\\\\": \\\\\\\\\\\\\"Indicador_Rendimento\\\\\\\\\\\\\"}}, \\\\\\\\\\\\\"typeProperty\\\\\\\\\\\\\": 3}, {\\\\\\\\\\\\\"column\\\\\\\\\\\\\": {\\\\\\\\\\\\\"type\\\\\\\\\\\\\": 2, \\\\\\\\\\\\\"details\\\\\\\\\\\\\": {\\\\\\\\\\\\\"selectedColumn\\\\\\\\\\\\\": \\\\\\\\\\\\\"SAEB2019_Matematica\\\\\\\\\\\\\"}}, \\\\\\\\\\\\\"typeProperty\\\\\\\\\\\\\": 3}, {\\\\\\\\\\\\\"column\\\\\\\\\\\\\": {\\\\\\\\\\\\\"type\\\\\\\\\\\\\": 2, \\\\\\\\\\\\\"details\\\\\\\\\\\\\": {\\\\\\\\\\\\\"selectedColumn\\\\\\\\\\\\\": \\\\\\\\\\\\\"SAEB2019_Lingua Portuguesa\\\\\\\\\\\\\"}}, \\\\\\\\\\\\\"typeProperty\\\\\\\\\\\\\": 3}, {\\\\\\\\\\\\\"column\\\\\\\\\\\\\": {\\\\\\\\\\\\\"type\\\\\\\\\\\\\": 2, \\\\\\\\\\\\\"details\\\\\\\\\\\\\": {\\\\\\\\\\\\\"selectedColumn\\\\\\\\\\\\\": \\\\\\\\\\\\\"SAEB2019_Nota Media Padronizada\\\\\\\\\\\\\"}}, \\\\\\\\\\\\\"typeProperty\\\\\\\\\\\\\": 3}, {\\\\\\\\\\\\\"column\\\\\\\\\\\\\": {\\\\\\\\\\\\\"type\\\\\\\\\\\\\": 2, \\\\\\\\\\\\\"details\\\\\\\\\\\\\": {\\\\\\\\\\\\\"selectedColumn\\\\\\\\\\\\\": \\\\\\\\\\\\\"IDEB_2019\\\\\\\\\\\\\"}}, \\\\\\\\\\\\\"typeProperty\\\\\\\\\\\\\": 3}]}, \\\\\\\\\\\\\"localData\\\\\\\\\\\\\": {}, \\\\\\\\\\\\\"isEnabled\\\\\\\\\\\\\": true, \\\\\\\\\\\\\"name\\\\\\\\\\\\\": null, \\\\\\\\\\\\\"annotation\\\\\\\\\\\\\": null}], \\\\\\\\\\\\\"inspectors\\\\\\\\\\\\\": [], \\\\\\\\\\\\\"meta\\\\\\\\\\\\\": {\\\\\\\\\\\\\"savedDatasetId\\\\\\\\\\\\\": \\\\\\\\\\\\\"f0599236-e951-454b-a849-7b74ddb516d7\\\\\\\\\\\\\", \\\\\\\\\\\\\"datasetType\\\\\\\\\\\\\": \\\\\\\\\\\\\"tabular\\\\\\\\\\\\\", \\\\\\\\\\\\\"subscriptionId\\\\\\\\\\\\\": \\\\\\\\\\\\\"a748a023-896b-4719-8f8e-3d1ba62d6e35\\\\\\\\\\\\\", \\\\\\\\\\\\\"workspaceId\\\\\\\\\\\\\": \\\\\\\\\\\\\"a7aa8562-5b11-4624-8e55-9a41918831e8\\\\\\\\\\\\\", \\\\\\\\\\\\\"workspaceLocation\\\\\\\\\\\\\": \\\\\\\\\\\\\"eastus\\\\\\\\\\\\\"}}\\\\\", \\\\\"activities\\\\\": 0}',\n  'EnableSubsampling': None,\n  'runTemplate': 'AutoML',\n  'azureml.runsource': 'automl',\n  'display_task_type': 'regression',\n  'dependencies_versions': '{\"azureml-widgets\": \"1.19.0\", \"azureml-train\": \"1.20.0\", \"azureml-train-restclients-hyperdrive\": \"1.20.0\", \"azureml-train-core\": \"1.20.0\", \"azureml-train-automl\": \"1.20.0\", \"azureml-train-automl-runtime\": \"1.20.0.post1\", \"azureml-train-automl-client\": \"1.20.0\", \"azureml-tensorboard\": \"1.19.0\", \"azureml-telemetry\": \"1.20.0\", \"azureml-sdk\": \"1.20.0\", \"azureml-samples\": \"0+unknown\", \"azureml-pipeline\": \"1.20.0\", \"azureml-pipeline-steps\": \"1.20.0\", \"azureml-pipeline-core\": \"1.20.0\", \"azureml-opendatasets\": \"1.19.0\", \"azureml-model-management-sdk\": \"1.0.1b6.post1\", \"azureml-mlflow\": \"1.19.0\", \"azureml-interpret\": \"1.20.0\", \"azureml-explain-model\": \"1.19.0\", \"azureml-defaults\": \"1.20.0\", \"azureml-dataset-runtime\": \"1.20.0\", \"azureml-dataprep\": \"2.7.3\", \"azureml-dataprep-rslex\": \"1.5.0\", \"azureml-dataprep-native\": \"27.0.0\", \"azureml-datadrift\": \"1.19.0\", \"azureml-core\": \"1.20.0\", \"azureml-contrib-services\": \"1.19.0\", \"azureml-contrib-server\": \"1.19.0\", \"azureml-contrib-reinforcementlearning\": \"1.19.0\", \"azureml-contrib-pipeline-steps\": \"1.19.0\", \"azureml-contrib-notebook\": \"1.19.0\", \"azureml-contrib-interpret\": \"1.19.0\", \"azureml-contrib-gbdt\": \"1.19.0\", \"azureml-contrib-fairness\": \"1.19.0\", \"azureml-contrib-dataset\": \"1.19.0\", \"azureml-cli-common\": \"1.19.0\", \"azureml-automl-runtime\": \"1.20.0\", \"azureml-automl-core\": \"1.20.0\", \"azureml-accel-models\": \"1.19.0\"}',\n  '_aml_system_scenario_identification': 'Remote.Parent',\n  'ClientType': 'SDK',\n  'environment_cpu_name': 'AzureML-AutoML',\n  'environment_cpu_label': 'prod',\n  'environment_gpu_name': 'AzureML-AutoML-GPU',\n  'environment_gpu_label': 'prod',\n  'root_attribution': 'automl',\n  'attribution': 'AutoML',\n  'Orchestrator': 'AutoML',\n  'CancelUri': 'https://eastus.experiments.azureml.net/jasmine/v1.0/subscriptions/a748a023-896b-4719-8f8e-3d1ba62d6e35/resourceGroups/RG-AZML/providers/Microsoft.MachineLearningServices/workspaces/AZML/experimentids/337dcb8b-d3cc-4e85-b122-67c93e8ceec5/cancel/AutoML_7081f1ae-1458-4fb0-9155-7f7ca3dfa64a',\n  'ClientSdkVersion': '1.20.0.post1',\n  'snapshotId': '00000000-0000-0000-0000-000000000000',\n  'SetupRunId': 'AutoML_7081f1ae-1458-4fb0-9155-7f7ca3dfa64a_setup',\n  'SetupRunContainerId': 'dcid.AutoML_7081f1ae-1458-4fb0-9155-7f7ca3dfa64a_setup',\n  'FeaturizationRunJsonPath': 'featurizer_container.json',\n  'FeaturizationRunId': 'AutoML_7081f1ae-1458-4fb0-9155-7f7ca3dfa64a_featurize',\n  'ProblemInfoJsonString': '{\"dataset_num_categorical\": 0, \"is_sparse\": false, \"subsampling\": false, \"dataset_classes\": 62, \"dataset_features\": 9, \"dataset_samples\": 12079, \"single_frequency_class_detected\": false}',\n  'ModelExplainRunId': 'AutoML_7081f1ae-1458-4fb0-9155-7f7ca3dfa64a_ModelExplain'},\n 'inputDatasets': [{'dataset': {'id': 'f0599236-e951-454b-a849-7b74ddb516d7'}, 'consumptionDetails': {'type': 'RunInput', 'inputName': 'training_data', 'mechanism': 'Direct'}}],\n 'outputDatasets': [],\n 'logFiles': {},\n 'submittedBy': 'Anderson Soares Furtado Oliveira'}"
          },
          "metadata": {}
        }
      ],
      "execution_count": 43,
      "metadata": {
        "collapsed": true,
        "jupyter": {
          "source_hidden": false,
          "outputs_hidden": false
        },
        "nteract": {
          "transient": {
            "deleting": false
          }
        },
        "gather": {
          "logged": 1611528328253
        }
      }
    },
    {
      "cell_type": "markdown",
      "source": [
        "## Create an environment"
      ],
      "metadata": {
        "nteract": {
          "transient": {
            "deleting": false
          }
        }
      }
    },
    {
      "cell_type": "code",
      "source": [
        "%%writefile conda_dependencies.yml\r\n",
        "\r\n",
        "dependencies:\r\n",
        "- python=3.6.2\r\n",
        "- pip=20.2.4\r\n",
        "- pip:\r\n",
        "  - azureml-core==1.20.0\r\n",
        "  - azureml-pipeline-core==1.20.0\r\n",
        "  - azureml-telemetry==1.20.0\r\n",
        "  - azureml-defaults==1.20.0\r\n",
        "  - azureml-interpret==1.20.0\r\n",
        "  - azureml-automl-core==1.20.0\r\n",
        "  - azureml-automl-runtime==1.20.0\r\n",
        "  - azureml-train-automl-client==1.20.0\r\n",
        "  - azureml-train-automl-runtime==1.20.0.post1\r\n",
        "  - azureml-dataset-runtime==1.20.0\r\n",
        "  - inference-schema\r\n",
        "  - py-cpuinfo==5.0.0\r\n",
        "  - boto3==1.15.18\r\n",
        "  - botocore==1.18.18\r\n",
        "- numpy~=1.18.0\r\n",
        "- scikit-learn==0.22.1\r\n",
        "- pandas~=0.25.0\r\n",
        "- fbprophet==0.5\r\n",
        "- holidays==0.9.11\r\n",
        "- setuptools-git\r\n",
        "- psutil>5.0.0,<6.0.0\r\n"
      ],
      "outputs": [
        {
          "output_type": "stream",
          "name": "stdout",
          "text": [
            "Overwriting conda_dependencies.yml\n"
          ]
        }
      ],
      "execution_count": 45,
      "metadata": {
        "collapsed": true,
        "jupyter": {
          "source_hidden": false,
          "outputs_hidden": false
        },
        "nteract": {
          "transient": {
            "deleting": false
          }
        }
      }
    },
    {
      "cell_type": "code",
      "source": [
        "from azureml.core import Environment\r\n",
        "from azureml.core.conda_dependencies import CondaDependencies\r\n",
        "\r\n",
        "env = Environment.get(workspace=ws, name=\"AzureML-AutoML\")\r\n",
        "#env = Environment.from_conda_specification(name = 'sklearn-env', file_path = './conda_dependencies.yml')\r\n"
      ],
      "outputs": [],
      "execution_count": 46,
      "metadata": {
        "collapsed": true,
        "jupyter": {
          "source_hidden": false,
          "outputs_hidden": false
        },
        "nteract": {
          "transient": {
            "deleting": false
          }
        },
        "gather": {
          "logged": 1611528692138
        }
      }
    },
    {
      "cell_type": "markdown",
      "source": [
        "## Best Model"
      ],
      "metadata": {
        "nteract": {
          "transient": {
            "deleting": false
          }
        }
      }
    },
    {
      "cell_type": "code",
      "source": [
        "best_run, fitted_model = remote_run.get_output()\r\n",
        "print(best_run)\r\n",
        "print(fitted_model)"
      ],
      "outputs": [
        {
          "output_type": "stream",
          "name": "stdout",
          "text": [
            "Run(Experiment: ideb-regression,\n",
            "Id: AutoML_7081f1ae-1458-4fb0-9155-7f7ca3dfa64a_86,\n",
            "Type: azureml.scriptrun,\n",
            "Status: Completed)\n",
            "RegressionPipeline(pipeline=Pipeline(memory=None,\n",
            "                                     steps=[('datatransformer',\n",
            "                                             DataTransformer(enable_dnn=None,\n",
            "                                                             enable_feature_sweeping=None,\n",
            "                                                             feature_sweeping_config=None,\n",
            "                                                             feature_sweeping_timeout=None,\n",
            "                                                             featurization_config=None,\n",
            "                                                             force_text_dnn=None,\n",
            "                                                             is_cross_validation=None,\n",
            "                                                             is_onnx_compatible=None,\n",
            "                                                             logger=None,\n",
            "                                                             observer=None,\n",
            "                                                             task=None,\n",
            "                                                             working_dir=None)),\n",
            "                                            ('pre...\n",
            "                                                                                                                         reg_alpha=0.20833333333333334,\n",
            "                                                                                                                         reg_lambda=0.5208333333333334,\n",
            "                                                                                                                         scale_pos_weight=1,\n",
            "                                                                                                                         seed=None,\n",
            "                                                                                                                         silent=None,\n",
            "                                                                                                                         subsample=0.9,\n",
            "                                                                                                                         tree_method='auto',\n",
            "                                                                                                                         verbose=-10,\n",
            "                                                                                                                         verbosity=0))],\n",
            "                                                                                                verbose=False))],\n",
            "                                                                          weights=[0.26666666666666666,\n",
            "                                                                                   0.13333333333333333,\n",
            "                                                                                   0.26666666666666666,\n",
            "                                                                                   0.06666666666666667,\n",
            "                                                                                   0.06666666666666667,\n",
            "                                                                                   0.06666666666666667,\n",
            "                                                                                   0.06666666666666667,\n",
            "                                                                                   0.06666666666666667]))],\n",
            "                                     verbose=False),\n",
            "                   stddev=None)\n"
          ]
        }
      ],
      "execution_count": 47,
      "metadata": {
        "collapsed": true,
        "jupyter": {
          "source_hidden": false,
          "outputs_hidden": false
        },
        "nteract": {
          "transient": {
            "deleting": false
          }
        },
        "gather": {
          "logged": 1611528708321
        }
      }
    },
    {
      "cell_type": "markdown",
      "source": [
        "## Metric in best model"
      ],
      "metadata": {
        "nteract": {
          "transient": {
            "deleting": false
          }
        }
      }
    },
    {
      "cell_type": "code",
      "source": [
        "best_run_metrics = best_run.get_metrics()\r\n",
        "best_run_metrics"
      ],
      "outputs": [
        {
          "output_type": "execute_result",
          "execution_count": 48,
          "data": {
            "text/plain": "{'spearman_correlation': 0.9988553214507742,\n 'root_mean_squared_log_error': 0.00780703449591691,\n 'normalized_median_absolute_error': 0.003958911852447271,\n 'mean_absolute_percentage_error': 0.730535445367067,\n 'normalized_root_mean_squared_error': 0.0057929471828993715,\n 'r2_score': 0.9978723328600957,\n 'explained_variance': 0.9978729652325602,\n 'mean_absolute_error': 0.02897048613317603,\n 'normalized_root_mean_squared_log_error': 0.005868124558773569,\n 'median_absolute_error': 0.02533703585566253,\n 'root_mean_squared_error': 0.037074861970555976,\n 'normalized_mean_absolute_error': 0.004526638458308754,\n 'residuals': 'aml://artifactId/ExperimentRun/dcid.AutoML_7081f1ae-1458-4fb0-9155-7f7ca3dfa64a_86/residuals',\n 'predicted_true': 'aml://artifactId/ExperimentRun/dcid.AutoML_7081f1ae-1458-4fb0-9155-7f7ca3dfa64a_86/predicted_true'}"
          },
          "metadata": {}
        }
      ],
      "execution_count": 48,
      "metadata": {
        "collapsed": true,
        "jupyter": {
          "source_hidden": false,
          "outputs_hidden": false
        },
        "nteract": {
          "transient": {
            "deleting": false
          }
        },
        "gather": {
          "logged": 1611528716997
        }
      }
    },
    {
      "cell_type": "markdown",
      "source": [
        "## Save the best model"
      ],
      "metadata": {
        "nteract": {
          "transient": {
            "deleting": false
          }
        }
      }
    },
    {
      "cell_type": "code",
      "source": [
        "best_run.get_file_names ()"
      ],
      "outputs": [
        {
          "output_type": "execute_result",
          "execution_count": 49,
          "data": {
            "text/plain": "['automl_driver.py',\n 'azureml-logs/55_azureml-execution-tvmps_959b442c5a0ffa1d4b1ab577b7180775caf83e201c43664cdc30520d8654fe8c_d.txt',\n 'azureml-logs/65_job_prep-tvmps_959b442c5a0ffa1d4b1ab577b7180775caf83e201c43664cdc30520d8654fe8c_d.txt',\n 'azureml-logs/70_driver_log.txt',\n 'azureml-logs/75_job_post-tvmps_959b442c5a0ffa1d4b1ab577b7180775caf83e201c43664cdc30520d8654fe8c_d.txt',\n 'azureml-logs/process_info.json',\n 'azureml-logs/process_status.json',\n 'explanation/affb8327/eval_data_viz.interpret.json',\n 'explanation/affb8327/expected_values.interpret.json',\n 'explanation/affb8327/features.interpret.json',\n 'explanation/affb8327/global_names/0.interpret.json',\n 'explanation/affb8327/global_rank/0.interpret.json',\n 'explanation/affb8327/global_values/0.interpret.json',\n 'explanation/affb8327/local_importance_values.interpret.json',\n 'explanation/affb8327/rich_metadata.interpret.json',\n 'explanation/affb8327/visualization_dict.interpret.json',\n 'explanation/affb8327/ys_pred_viz.interpret.json',\n 'explanation/e77b68ee/eval_data_viz.interpret.json',\n 'explanation/e77b68ee/expected_values.interpret.json',\n 'explanation/e77b68ee/features.interpret.json',\n 'explanation/e77b68ee/global_names/0.interpret.json',\n 'explanation/e77b68ee/global_rank/0.interpret.json',\n 'explanation/e77b68ee/global_values/0.interpret.json',\n 'explanation/e77b68ee/local_importance_values.interpret.json',\n 'explanation/e77b68ee/rich_metadata.interpret.json',\n 'explanation/e77b68ee/visualization_dict.interpret.json',\n 'logs/azureml/99_azureml.log',\n 'logs/azureml/azureml_automl.log',\n 'logs/azureml/dataprep/python_span_45f1c0c3-1c3a-4b05-a332-3d06efd608d3.jsonl',\n 'logs/azureml/dataprep/python_span_bd383473-c17f-4886-8fb4-c949d44a38dd.jsonl',\n 'logs/azureml/job_prep_azureml.log',\n 'logs/azureml/job_release_azureml.log',\n 'outputs/conda_env_v_1_0_0.yml',\n 'outputs/env_dependencies.json',\n 'outputs/internal_cross_validated_models.pkl',\n 'outputs/model.pkl',\n 'outputs/pipeline_graph.json',\n 'outputs/scoring_file_v_1_0_0.py',\n 'predicted_true',\n 'residuals']"
          },
          "metadata": {}
        }
      ],
      "execution_count": 49,
      "metadata": {
        "collapsed": true,
        "jupyter": {
          "source_hidden": false,
          "outputs_hidden": false
        },
        "nteract": {
          "transient": {
            "deleting": false
          }
        },
        "gather": {
          "logged": 1611528721846
        }
      }
    },
    {
      "cell_type": "code",
      "source": [
        "best_run.download_file('./outputs/model.pkl', './outputs/automl_ideb.pkl')\r\n",
        "best_run.download_file('./outputs/scoring_file_v_1_0_0.py', './score.py')\r\n",
        "best_run.download_file('automl_driver.py', './outputs/automl_driver.py')\r\n",
        "\r\n"
      ],
      "outputs": [],
      "execution_count": 54,
      "metadata": {
        "collapsed": true,
        "jupyter": {
          "source_hidden": false,
          "outputs_hidden": false
        },
        "nteract": {
          "transient": {
            "deleting": false
          }
        },
        "gather": {
          "logged": 1611528790803
        }
      }
    },
    {
      "cell_type": "code",
      "source": [
        "os.listdir(os.curdir), os.getcwd()"
      ],
      "outputs": [
        {
          "output_type": "execute_result",
          "execution_count": 55,
          "data": {
            "text/plain": "(['.azureml',\n  '.config',\n  '.ipynb_aml_checkpoints',\n  '.ipynb_checkpoints',\n  'automl.ipynb',\n  'automl.ipynb.amltemp',\n  'automl.log',\n  'automl_errors.log',\n  'automl_old.ipynb.amltemp',\n  'azureml_automl.log',\n  'conda_dependencies.yml',\n  'config.json',\n  'hyperparameter_tuning.ipynb',\n  'hyperparameter_tuning.ipynb.amltemp',\n  'outputs',\n  'score.py',\n  'score.py.amltemp',\n  'train.py',\n  'train.py.amltemp'],\n '/mnt/batch/tasks/shared/LS_root/mounts/clusters/automl-cluster/code/Users/anderson12')"
          },
          "metadata": {}
        }
      ],
      "execution_count": 55,
      "metadata": {
        "collapsed": true,
        "jupyter": {
          "source_hidden": false,
          "outputs_hidden": false
        },
        "nteract": {
          "transient": {
            "deleting": false
          }
        },
        "gather": {
          "logged": 1611528795525
        }
      }
    },
    {
      "cell_type": "markdown",
      "source": [
        "## Model Deployment"
      ],
      "metadata": {
        "nteract": {
          "transient": {
            "deleting": false
          }
        }
      }
    },
    {
      "cell_type": "code",
      "source": [
        "model=best_run.register_model(\r\n",
        "                        model_name = 'best_model',\r\n",
        "                        model_path = './outputs/model.pkl',\r\n",
        "                        description = \"Best model trained with AutoML\")\r\n",
        "model"
      ],
      "outputs": [
        {
          "output_type": "execute_result",
          "execution_count": 56,
          "data": {
            "text/plain": "Model(workspace=Workspace.create(name='AZML', subscription_id='a748a023-896b-4719-8f8e-3d1ba62d6e35', resource_group='RG-AZML'), name=best_model, id=best_model:19, version=19, tags={}, properties={})"
          },
          "metadata": {}
        }
      ],
      "execution_count": 56,
      "metadata": {
        "collapsed": true,
        "jupyter": {
          "source_hidden": false,
          "outputs_hidden": false
        },
        "nteract": {
          "transient": {
            "deleting": false
          }
        },
        "gather": {
          "logged": 1611528800993
        }
      }
    },
    {
      "cell_type": "code",
      "source": [
        "from azureml.core.model import InferenceConfig\r\n",
        "from azureml.core.webservice import AciWebservice\r\n",
        "from azureml.core.webservice import Webservice\r\n",
        "from azureml.core.model import Model\r\n",
        "from azureml.core.environment import Environment\r\n",
        "\r\n",
        "aci_config = AciWebservice.deploy_configuration(cpu_cores=1, memory_gb=1)\r\n",
        "inference_config = InferenceConfig(entry_script='./score.py', environment=env)\r\n",
        "\r\n",
        "service = model.deploy(\r\n",
        "    workspace=ws,\r\n",
        "    name=\"ideb-service\",\r\n",
        "    models=[model],\r\n",
        "    inference_config=inference_config,\r\n",
        "    deployment_config=aci_config,\r\n",
        "    overwrite=True\r\n",
        ")\r\n",
        "service.wait_for_deployment(show_output=True)\r\n",
        "print(service.state)"
      ],
      "outputs": [
        {
          "output_type": "stream",
          "name": "stdout",
          "text": [
            "Tips: You can try get_logs(): https://aka.ms/debugimage#dockerlog or local deployment: https://aka.ms/debugimage#debug-locally to debug if deployment takes longer than 10 minutes.\n",
            "Running.........................................\n",
            "Succeeded\n",
            "ACI service creation operation finished, operation \"Succeeded\"\n",
            "Healthy\n"
          ]
        }
      ],
      "execution_count": 57,
      "metadata": {
        "collapsed": true,
        "jupyter": {
          "source_hidden": false,
          "outputs_hidden": false
        },
        "nteract": {
          "transient": {
            "deleting": false
          }
        },
        "gather": {
          "logged": 1611529029180
        }
      }
    },
    {
      "cell_type": "markdown",
      "source": [
        "## Test the Deploy model"
      ],
      "metadata": {
        "nteract": {
          "transient": {
            "deleting": false
          }
        }
      }
    },
    {
      "cell_type": "code",
      "source": [
        "best_run.get_file_names ()"
      ],
      "outputs": [
        {
          "output_type": "execute_result",
          "execution_count": 58,
          "data": {
            "text/plain": "['automl_driver.py',\n 'azureml-logs/55_azureml-execution-tvmps_959b442c5a0ffa1d4b1ab577b7180775caf83e201c43664cdc30520d8654fe8c_d.txt',\n 'azureml-logs/65_job_prep-tvmps_959b442c5a0ffa1d4b1ab577b7180775caf83e201c43664cdc30520d8654fe8c_d.txt',\n 'azureml-logs/70_driver_log.txt',\n 'azureml-logs/75_job_post-tvmps_959b442c5a0ffa1d4b1ab577b7180775caf83e201c43664cdc30520d8654fe8c_d.txt',\n 'azureml-logs/process_info.json',\n 'azureml-logs/process_status.json',\n 'explanation/affb8327/eval_data_viz.interpret.json',\n 'explanation/affb8327/expected_values.interpret.json',\n 'explanation/affb8327/features.interpret.json',\n 'explanation/affb8327/global_names/0.interpret.json',\n 'explanation/affb8327/global_rank/0.interpret.json',\n 'explanation/affb8327/global_values/0.interpret.json',\n 'explanation/affb8327/local_importance_values.interpret.json',\n 'explanation/affb8327/rich_metadata.interpret.json',\n 'explanation/affb8327/visualization_dict.interpret.json',\n 'explanation/affb8327/ys_pred_viz.interpret.json',\n 'explanation/e77b68ee/eval_data_viz.interpret.json',\n 'explanation/e77b68ee/expected_values.interpret.json',\n 'explanation/e77b68ee/features.interpret.json',\n 'explanation/e77b68ee/global_names/0.interpret.json',\n 'explanation/e77b68ee/global_rank/0.interpret.json',\n 'explanation/e77b68ee/global_values/0.interpret.json',\n 'explanation/e77b68ee/local_importance_values.interpret.json',\n 'explanation/e77b68ee/rich_metadata.interpret.json',\n 'explanation/e77b68ee/visualization_dict.interpret.json',\n 'logs/azureml/99_azureml.log',\n 'logs/azureml/azureml_automl.log',\n 'logs/azureml/dataprep/python_span_45f1c0c3-1c3a-4b05-a332-3d06efd608d3.jsonl',\n 'logs/azureml/dataprep/python_span_bd383473-c17f-4886-8fb4-c949d44a38dd.jsonl',\n 'logs/azureml/job_prep_azureml.log',\n 'logs/azureml/job_release_azureml.log',\n 'outputs/conda_env_v_1_0_0.yml',\n 'outputs/env_dependencies.json',\n 'outputs/internal_cross_validated_models.pkl',\n 'outputs/model.pkl',\n 'outputs/pipeline_graph.json',\n 'outputs/scoring_file_v_1_0_0.py',\n 'predicted_true',\n 'residuals']"
          },
          "metadata": {}
        }
      ],
      "execution_count": 58,
      "metadata": {
        "collapsed": true,
        "jupyter": {
          "source_hidden": false,
          "outputs_hidden": false
        },
        "nteract": {
          "transient": {
            "deleting": false
          }
        },
        "gather": {
          "logged": 1611529565807
        }
      }
    },
    {
      "cell_type": "code",
      "source": [
        "scoring_uri = service.scoring_uri\r\n",
        "\r\n",
        "print(f'\\nservice state: {service.state}\\n')\r\n",
        "print(f'scoring URI: \\n{service.scoring_uri}\\n')\r\n",
        "print(f'swagger URI: \\n{service.swagger_uri}\\n')"
      ],
      "outputs": [
        {
          "output_type": "stream",
          "name": "stdout",
          "text": [
            "\n",
            "service state: Deleting\n",
            "\n",
            "scoring URI: \n",
            "http://245b43e2-1653-4acc-a9b9-63b00b9b6dd3.eastus.azurecontainer.io/score\n",
            "\n",
            "swagger URI: \n",
            "http://245b43e2-1653-4acc-a9b9-63b00b9b6dd3.eastus.azurecontainer.io/swagger.json\n",
            "\n"
          ]
        }
      ],
      "execution_count": 37,
      "metadata": {
        "collapsed": true,
        "jupyter": {
          "source_hidden": false,
          "outputs_hidden": false
        },
        "nteract": {
          "transient": {
            "deleting": false
          }
        },
        "gather": {
          "logged": 1611523219207
        }
      }
    },
    {
      "cell_type": "code",
      "source": [
        "import requests\r\n",
        "import json\r\n",
        "\r\n",
        "# scoring endpoint\r\n",
        "scoring_uri = service.scoring_uri\r\n",
        "\r\n",
        "\r\n",
        "# If the service is authenticated, set the key or token\r\n",
        "#key = '<your key or token>'\r\n",
        "\r\n",
        "# Two sets of data to score, so we get two results back\r\n",
        "data = {\"data\":\r\n",
        "        [\r\n",
        "          {\r\n",
        "           \"TAprov2019_Total\": 99.9, \r\n",
        "           \"TAprov2019_1_serie\": 99.2, \r\n",
        "           \"TAprov2019_2_serie\": 59.1, \r\n",
        "           \"TAprov2019_3_serie\": 60.5, \r\n",
        "           \"TAprov2019_4_serie\": 70.5, \r\n",
        "           \"Indicador_Rendimento\": 0.99, \r\n",
        "           \"SAEB2019_Matematica\": 365.38, \r\n",
        "           \"SAEB2019_Lingua Portuguesa\": 351.54, \r\n",
        "           \"SAEB2019_Nota Media Padronizada\": 7.055853\r\n",
        "          },\r\n",
        "      ]\r\n",
        "    }\r\n",
        "# Convert to JSON string\r\n",
        "input_data = json.dumps(data)\r\n",
        "\r\n",
        "# Set the content type\r\n",
        "headers = {'Content-Type': 'application/json'}\r\n",
        "# If authentication is enabled, set the authorization header\r\n",
        "#headers['Authorization'] = f'Bearer {key}'\r\n",
        "\r\n",
        "# Make the request and display the response\r\n",
        "resp = requests.post(scoring_uri, input_data, headers=headers)\r\n",
        "print(resp.text)"
      ],
      "outputs": [
        {
          "output_type": "stream",
          "name": "stdout",
          "text": [
            "\"{\\\"result\\\": [6.916704208820477]}\"\n"
          ]
        }
      ],
      "execution_count": 21,
      "metadata": {
        "collapsed": true,
        "jupyter": {
          "source_hidden": false,
          "outputs_hidden": false
        },
        "nteract": {
          "transient": {
            "deleting": false
          }
        },
        "gather": {
          "logged": 1611494054440
        }
      }
    },
    {
      "cell_type": "markdown",
      "source": [
        "## View the service logs"
      ],
      "metadata": {
        "nteract": {
          "transient": {
            "deleting": false
          }
        }
      }
    },
    {
      "cell_type": "code",
      "source": [
        "print(service.get_logs())"
      ],
      "outputs": [
        {
          "output_type": "stream",
          "name": "stdout",
          "text": [
            "2021-01-24T13:02:18,996785400+00:00 - iot-server/run \n",
            "2021-01-24T13:02:19,023775900+00:00 - gunicorn/run \n",
            "2021-01-24T13:02:19,040951900+00:00 - rsyslog/run \n",
            "2021-01-24T13:02:19,059393400+00:00 - nginx/run \n",
            "/usr/sbin/nginx: /azureml-envs/azureml_265db83b0c6014ce472c5de2f0b97e04/lib/libcrypto.so.1.0.0: no version information available (required by /usr/sbin/nginx)\n",
            "/usr/sbin/nginx: /azureml-envs/azureml_265db83b0c6014ce472c5de2f0b97e04/lib/libcrypto.so.1.0.0: no version information available (required by /usr/sbin/nginx)\n",
            "/usr/sbin/nginx: /azureml-envs/azureml_265db83b0c6014ce472c5de2f0b97e04/lib/libssl.so.1.0.0: no version information available (required by /usr/sbin/nginx)\n",
            "/usr/sbin/nginx: /azureml-envs/azureml_265db83b0c6014ce472c5de2f0b97e04/lib/libssl.so.1.0.0: no version information available (required by /usr/sbin/nginx)\n",
            "/usr/sbin/nginx: /azureml-envs/azureml_265db83b0c6014ce472c5de2f0b97e04/lib/libssl.so.1.0.0: no version information available (required by /usr/sbin/nginx)\n",
            "rsyslogd: /azureml-envs/azureml_265db83b0c6014ce472c5de2f0b97e04/lib/libuuid.so.1: no version information available (required by rsyslogd)\n",
            "EdgeHubConnectionString and IOTEDGE_IOTHUBHOSTNAME are not set. Exiting...\n",
            "2021-01-24T13:02:20,590994500+00:00 - iot-server/finish 1 0\n",
            "2021-01-24T13:02:20,615076100+00:00 - Exit code 1 is normal. Not restarting iot-server.\n",
            "Starting gunicorn 19.9.0\n",
            "Listening at: http://127.0.0.1:31311 (66)\n",
            "Using worker: sync\n",
            "worker timeout is set to 300\n",
            "Booting worker with pid: 97\n",
            "SPARK_HOME not set. Skipping PySpark Initialization.\n",
            "Generating new fontManager, this may take some time...\n",
            "Initializing logger\n",
            "2021-01-24 13:02:25,305 | root | INFO | Starting up app insights client\n",
            "2021-01-24 13:02:25,306 | root | INFO | Starting up request id generator\n",
            "2021-01-24 13:02:25,306 | root | INFO | Starting up app insight hooks\n",
            "2021-01-24 13:02:25,307 | root | INFO | Invoking user's init function\n",
            "2021-01-24 13:02:34,451 | azureml.core | WARNING | Failure while loading azureml_run_type_providers. Failed to load entrypoint automl = azureml.train.automl.run:AutoMLRun._from_run_dto with exception cannot import name 'RunType'.\n",
            "Failure while loading azureml_run_type_providers. Failed to load entrypoint automl = azureml.train.automl.run:AutoMLRun._from_run_dto with exception cannot import name 'RunType'.\n",
            "2021-01-24 13:02:34,731 | root | INFO | Users's init has completed successfully\n",
            "2021-01-24 13:02:34,738 | root | INFO | Skipping middleware: dbg_model_info as it's not enabled.\n",
            "2021-01-24 13:02:34,740 | root | INFO | Skipping middleware: dbg_resource_usage as it's not enabled.\n",
            "2021-01-24 13:02:34,743 | root | INFO | Scoring timeout is found from os.environ: 60000 ms\n",
            "2021-01-24 13:02:36,263 | root | INFO | 200\n",
            "127.0.0.1 - - [24/Jan/2021:13:02:36 +0000] \"GET /swagger.json HTTP/1.0\" 200 2805 \"-\" \"Go-http-client/1.1\"\n",
            "2021-01-24 13:02:38,446 | root | INFO | 200\n",
            "127.0.0.1 - - [24/Jan/2021:13:02:38 +0000] \"GET /swagger.json HTTP/1.0\" 200 2805 \"-\" \"Go-http-client/1.1\"\n",
            "2021-01-24 13:13:30,706 | root | INFO | Validation Request Content-Type\n",
            "2021-01-24 13:13:30,710 | root | INFO | Scoring Timer is set to 60.0 seconds\n",
            "2021-01-24 13:13:30,731 | root | ERROR | Encountered Exception: Traceback (most recent call last):\n",
            "  File \"/var/azureml-server/synchronous/routes.py\", line 64, in run_scoring\n",
            "    response = invoke_user_with_timer(service_input, request_headers)\n",
            "  File \"/var/azureml-server/synchronous/routes.py\", line 97, in invoke_user_with_timer\n",
            "    result = user_main.run(**params)\n",
            "  File \"/var/azureml-app/main.py\", line 21, in run\n",
            "    return_obj = driver_module.run(**arguments)\n",
            "  File \"/azureml-envs/azureml_265db83b0c6014ce472c5de2f0b97e04/lib/python3.6/site-packages/wrapt/wrappers.py\", line 564, in __call__\n",
            "    args, kwargs)\n",
            "  File \"/azureml-envs/azureml_265db83b0c6014ce472c5de2f0b97e04/lib/python3.6/site-packages/inference_schema/schema_decorators.py\", line 57, in decorator_input\n",
            "    kwargs[param_name] = _deserialize_input_argument(kwargs[param_name], param_type, param_name)\n",
            "  File \"/azureml-envs/azureml_265db83b0c6014ce472c5de2f0b97e04/lib/python3.6/site-packages/inference_schema/schema_decorators.py\", line 285, in _deserialize_input_argument\n",
            "    input_data = param_type.deserialize_input(input_data)\n",
            "  File \"/azureml-envs/azureml_265db83b0c6014ce472c5de2f0b97e04/lib/python3.6/site-packages/inference_schema/parameter_types/pandas_parameter_type.py\", line 79, in deserialize_input\n",
            "    data_frame.shape[dim], dim, expected_shape[dim]))\n",
            "ValueError: Invalid input data frame: data frame has size 11 on dimension #1, while expected value is 9\n",
            "\n",
            "During handling of the above exception, another exception occurred:\n",
            "\n",
            "Traceback (most recent call last):\n",
            "  File \"/azureml-envs/azureml_265db83b0c6014ce472c5de2f0b97e04/lib/python3.6/site-packages/flask/app.py\", line 1832, in full_dispatch_request\n",
            "    rv = self.dispatch_request()\n",
            "  File \"/azureml-envs/azureml_265db83b0c6014ce472c5de2f0b97e04/lib/python3.6/site-packages/flask/app.py\", line 1818, in dispatch_request\n",
            "    return self.view_functions[rule.endpoint](**req.view_args)\n",
            "  File \"/var/azureml-server/synchronous/routes.py\", line 43, in score_realtime\n",
            "    return run_scoring(service_input, request.headers, request.environ.get('REQUEST_ID', '00000000-0000-0000-0000-000000000000'))\n",
            "  File \"/var/azureml-server/synchronous/routes.py\", line 77, in run_scoring\n",
            "    raise RunFunctionException(str(exc))\n",
            "run_function_exception.RunFunctionException\n",
            "\n",
            "2021-01-24 13:13:30,731 | root | INFO | 500\n",
            "127.0.0.1 - - [24/Jan/2021:13:13:30 +0000] \"POST /score HTTP/1.0\" 500 91 \"-\" \"python-requests/2.25.1\"\n",
            "2021-01-24 13:14:11,654 | root | INFO | Validation Request Content-Type\n",
            "2021-01-24 13:14:11,656 | root | INFO | Scoring Timer is set to 60.0 seconds\n",
            "2021-01-24 13:14:11,741 | root | INFO | 200\n",
            "127.0.0.1 - - [24/Jan/2021:13:14:11 +0000] \"POST /score HTTP/1.0\" 200 35 \"-\" \"python-requests/2.25.1\"\n",
            "\n"
          ]
        }
      ],
      "execution_count": 22,
      "metadata": {
        "collapsed": true,
        "jupyter": {
          "source_hidden": false,
          "outputs_hidden": false
        },
        "nteract": {
          "transient": {
            "deleting": false
          }
        },
        "gather": {
          "logged": 1611494075436
        }
      }
    },
    {
      "cell_type": "code",
      "source": [
        "service.delete()"
      ],
      "outputs": [],
      "execution_count": 23,
      "metadata": {
        "collapsed": true,
        "jupyter": {
          "source_hidden": false,
          "outputs_hidden": false
        },
        "nteract": {
          "transient": {
            "deleting": false
          }
        },
        "gather": {
          "logged": 1611494221705
        }
      }
    }
  ],
  "metadata": {
    "kernelspec": {
      "name": "python3-azureml",
      "language": "python",
      "display_name": "Python 3.6 - AzureML"
    },
    "language_info": {
      "name": "python",
      "version": "3.6.9",
      "mimetype": "text/x-python",
      "codemirror_mode": {
        "name": "ipython",
        "version": 3
      },
      "pygments_lexer": "ipython3",
      "nbconvert_exporter": "python",
      "file_extension": ".py"
    },
    "kernel_info": {
      "name": "python3-azureml"
    },
    "nteract": {
      "version": "nteract-front-end@1.0.0"
    }
  },
  "nbformat": 4,
  "nbformat_minor": 2
}
