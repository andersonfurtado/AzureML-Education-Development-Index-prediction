{
  "cells": [
    {
      "cell_type": "markdown",
      "source": [
        "# Automated ML\n",
        "\n",
        "TODO: Import Dependencies. In the cell below, import all the dependencies that you will need to complete the project."
      ],
      "metadata": {}
    },
    {
      "cell_type": "code",
      "source": [
        "import logging\r\n",
        "import os\r\n",
        "import csv\r\n",
        "\r\n",
        "from matplotlib import pyplot as plt\r\n",
        "import numpy as np\r\n",
        "import pandas as pd\r\n",
        "from sklearn import datasets\r\n",
        "import pkg_resources\r\n",
        "\r\n",
        "import azureml.core\r\n",
        "from azureml.core.experiment import Experiment\r\n",
        "from azureml.core.workspace import Workspace\r\n",
        "from azureml.train.automl import AutoMLConfig\r\n",
        "from azureml.core.dataset import Dataset\r\n",
        "\r\n",
        "from azureml.pipeline.steps import AutoMLStep\r\n",
        "\r\n",
        "# Check core SDK version number\r\n",
        "print(\"SDK version:\", azureml.core.VERSION)"
      ],
      "outputs": [
        {
          "output_type": "stream",
          "name": "stdout",
          "text": [
            "SDK version: 1.19.0\n"
          ]
        }
      ],
      "execution_count": 1,
      "metadata": {
        "gather": {
          "logged": 1609897560632
        },
        "jupyter": {
          "outputs_hidden": false,
          "source_hidden": false
        },
        "nteract": {
          "transient": {
            "deleting": false
          }
        }
      }
    },
    {
      "cell_type": "markdown",
      "source": [
        "## Initialize Workspace"
      ],
      "metadata": {
        "nteract": {
          "transient": {
            "deleting": false
          }
        }
      }
    },
    {
      "cell_type": "code",
      "source": [
        "ws = Workspace.from_config()\r\n",
        "print(ws.name, ws.resource_group, ws.location, ws.subscription_id, sep = '\\n')"
      ],
      "outputs": [
        {
          "output_type": "stream",
          "name": "stdout",
          "text": [
            "Performing interactive authentication. Please follow the instructions on the terminal.\n",
            "To sign in, use a web browser to open the page https://microsoft.com/devicelogin and enter the code ERMWEEEX9 to authenticate.\n",
            "You have logged in. Now let us find all the subscriptions to which you have access...\n",
            "Interactive authentication successfully completed.\n",
            "AZML\n",
            "RG-AZML\n",
            "eastus\n",
            "a748a023-896b-4719-8f8e-3d1ba62d6e35\n"
          ]
        }
      ],
      "execution_count": 2,
      "metadata": {
        "collapsed": true,
        "jupyter": {
          "source_hidden": false,
          "outputs_hidden": false
        },
        "nteract": {
          "transient": {
            "deleting": false
          }
        },
        "gather": {
          "logged": 1609897607623
        }
      }
    },
    {
      "cell_type": "markdown",
      "source": [
        "## Create an Azure ML experiment\n"
      ],
      "metadata": {}
    },
    {
      "cell_type": "code",
      "source": [
        "experiment_name = 'ideb-experiment'\n",
        "project_folder = './automl-ideb'\n",
        "\n",
        "experiment=Experiment(ws, experiment_name)\n",
        "experiment"
      ],
      "outputs": [
        {
          "output_type": "execute_result",
          "execution_count": 3,
          "data": {
            "text/plain": "Experiment(Name: ideb-experiment,\nWorkspace: AZML)",
            "text/html": "<table style=\"width:100%\"><tr><th>Name</th><th>Workspace</th><th>Report Page</th><th>Docs Page</th></tr><tr><td>ideb-experiment</td><td>AZML</td><td><a href=\"https://ml.azure.com/experiments/ideb-experiment?wsid=/subscriptions/a748a023-896b-4719-8f8e-3d1ba62d6e35/resourcegroups/RG-AZML/workspaces/AZML\" target=\"_blank\" rel=\"noopener\">Link to Azure Machine Learning studio</a></td><td><a href=\"https://docs.microsoft.com/en-us/python/api/azureml-core/azureml.core.experiment.Experiment?view=azure-ml-py\" target=\"_blank\" rel=\"noopener\">Link to Documentation</a></td></tr></table>"
          },
          "metadata": {}
        }
      ],
      "execution_count": 3,
      "metadata": {
        "gather": {
          "logged": 1609897734267
        },
        "jupyter": {
          "outputs_hidden": false,
          "source_hidden": false
        },
        "nteract": {
          "transient": {
            "deleting": false
          }
        }
      }
    },
    {
      "cell_type": "markdown",
      "source": [
        "## Create or Attach an AmlCompute cluster"
      ],
      "metadata": {
        "nteract": {
          "transient": {
            "deleting": false
          }
        }
      }
    },
    {
      "cell_type": "code",
      "source": [
        "from azureml.core.compute import AmlCompute\r\n",
        "from azureml.core.compute import ComputeTarget\r\n",
        "from azureml.core.compute_target import ComputeTargetException\r\n",
        "\r\n",
        "# NOTE: update the cluster name to match the existing cluster\r\n",
        "# Choose a name for your CPU cluster\r\n",
        "amlcompute_cluster_name = \"auto-ml\"\r\n",
        "\r\n",
        "# Verify that cluster does not exist already\r\n",
        "try:\r\n",
        "    compute_target = ComputeTarget(workspace=ws, name=amlcompute_cluster_name)\r\n",
        "    print('Found existing cluster, use it.')\r\n",
        "except ComputeTargetException:\r\n",
        "    compute_config = AmlCompute.provisioning_configuration(vm_size='STANDARD_D2_V2',# for GPU, use \"STANDARD_NC6\"\r\n",
        "                                                           #vm_priority = 'lowpriority', # optional\r\n",
        "                                                           max_nodes=4)\r\n",
        "    compute_target = ComputeTarget.create(ws, amlcompute_cluster_name, compute_config)\r\n",
        "\r\n",
        "compute_target.wait_for_completion(show_output=True, min_node_count = 1, timeout_in_minutes = 10)"
      ],
      "outputs": [
        {
          "output_type": "stream",
          "name": "stdout",
          "text": [
            "Creating\n",
            "Succeeded..............................................................................................................\n",
            "AmlCompute wait for completion finished\n",
            "\n",
            "Wait timeout has been reached\n",
            "Current provisioning state of AmlCompute is \"Succeeded\" and current node count is \"0\"\n"
          ]
        }
      ],
      "execution_count": 4,
      "metadata": {
        "collapsed": true,
        "jupyter": {
          "source_hidden": false,
          "outputs_hidden": false
        },
        "nteract": {
          "transient": {
            "deleting": false
          }
        },
        "gather": {
          "logged": 1609898378165
        }
      }
    },
    {
      "cell_type": "markdown",
      "source": [
        "## Dataset\r\n"
      ],
      "metadata": {
        "nteract": {
          "transient": {
            "deleting": false
          }
        }
      }
    },
    {
      "cell_type": "code",
      "source": [
        "# azureml-core of version 1.0.72 or higher is required\r\n",
        "# azureml-dataprep[pandas] of version 1.1.34 or higher is required\r\n",
        "from azureml.core import Workspace, Dataset\r\n",
        "\r\n",
        "subscription_id = 'a748a023-896b-4719-8f8e-3d1ba62d6e35'\r\n",
        "resource_group = 'RG-AZML'\r\n",
        "workspace_name = 'AZML'\r\n",
        "\r\n",
        "workspace = Workspace(subscription_id, resource_group, workspace_name)\r\n",
        "\r\n",
        "dataset = Dataset.get_by_name(workspace, name='dataset_ideb')\r\n",
        "dataset.to_pandas_dataframe()"
      ],
      "outputs": [
        {
          "output_type": "execute_result",
          "execution_count": 8,
          "data": {
            "text/plain": "      Sigla_UF  Cod_Municipio       Nome_Municipio  Cod_Escola  \\\n0           BA      2914703.0            Itaberaba  29083524.0   \n1           AM      1300060.0              Amaturá  13103431.0   \n2           PA      1506708.0  Santana do Araguaia  15171582.0   \n3           PI      2211001.0             Teresina  22128441.0   \n4           PI      2211001.0             Teresina  22131159.0   \n...        ...            ...                  ...         ...   \n12077       PE      2611606.0               Recife  26124297.0   \n12078       MG      3105608.0            Barbacena  31014630.0   \n12079     None            NaN                 None         NaN   \n12080     None            NaN                 None         NaN   \n12081     None            NaN                 None         NaN   \n\n                                             Nome_Escola   Column6  \\\n0                        EE - COLEGIO ESTADUAL LIBERDADE  Estadual   \n1      ESC EST INDIGENA MANUEL JOAQUIM SALDANHA FILHO...  Estadual   \n2                    EEEM JORCELI SESTARI SILVA ANEXO IV  Estadual   \n3                  U E NOSSA SENHORA DO PERPETUO SOCORRO  Estadual   \n4                                        CETI PEDRA MOLE  Estadual   \n...                                                  ...       ...   \n12077                 COLEGIO DE APLICACAO DO CE DA UFPE   Federal   \n12078               ESCOLA PREPARATORIA DE CADETES DO AR   Federal   \n12079                                               None      None   \n12080                                               None      None   \n12081                                               None      None   \n\n       TAprov2019_Total TAprov2019_1_serie TAprov2019_2_serie  \\\n0                  43.3              33.70              37.30   \n1                  67.3              59.10              53.50   \n2                  57.1              52.40              50.00   \n3                  53.8              25.00              58.30   \n4                  41.7              30.60              31.10   \n...                 ...                ...                ...   \n12077              98.9              96.70             100.00   \n12078              99.8              99.40             100.00   \n12079               NaN               None               None   \n12080               NaN               None               None   \n12081               NaN               None               None   \n\n       TAprov2019_3_serie TAprov2019_4_serie  Indicador_Rendimento  \\\n0                    69.8                  -                  0.42   \n1                    92.5                  -                  0.65   \n2                    72.2                  -                  0.57   \n3                    97.5                  -                  0.45   \n4                    78.7                  -                  0.39   \n...                   ...                ...                   ...   \n12077               100.0                  -                  0.99   \n12078               100.0                  -                  1.00   \n12079                 NaN               None                   NaN   \n12080                 NaN               None                   NaN   \n12081                 NaN               None                   NaN   \n\n       SAEB2019_Matematica  SAEB2019_Lingua Portuguesa  \\\n0                   217.25                      226.70   \n1                   195.40                      188.21   \n2                   202.24                      211.64   \n3                   239.39                      237.57   \n4                   259.57                      260.92   \n...                    ...                         ...   \n12077               402.96                      362.42   \n12078               407.47                      353.17   \n12079                  NaN                         NaN   \n12080                  NaN                         NaN   \n12081                  NaN                         NaN   \n\n       SAEB2019_Nota Media Padronizada  IDEB_2019  \n0                                 3.13        1.3  \n1                                 2.25        1.5  \n2                                 2.70        1.5  \n3                                 3.61        1.6  \n4                                 4.24        1.6  \n...                                ...        ...  \n12077                             7.77        7.7  \n12078                             7.70        7.7  \n12079                              NaN        NaN  \n12080                              NaN        NaN  \n12081                              NaN        NaN  \n\n[12082 rows x 16 columns]",
            "text/html": "<div>\n<style scoped>\n    .dataframe tbody tr th:only-of-type {\n        vertical-align: middle;\n    }\n\n    .dataframe tbody tr th {\n        vertical-align: top;\n    }\n\n    .dataframe thead th {\n        text-align: right;\n    }\n</style>\n<table border=\"1\" class=\"dataframe\">\n  <thead>\n    <tr style=\"text-align: right;\">\n      <th></th>\n      <th>Sigla_UF</th>\n      <th>Cod_Municipio</th>\n      <th>Nome_Municipio</th>\n      <th>Cod_Escola</th>\n      <th>Nome_Escola</th>\n      <th>Column6</th>\n      <th>TAprov2019_Total</th>\n      <th>TAprov2019_1_serie</th>\n      <th>TAprov2019_2_serie</th>\n      <th>TAprov2019_3_serie</th>\n      <th>TAprov2019_4_serie</th>\n      <th>Indicador_Rendimento</th>\n      <th>SAEB2019_Matematica</th>\n      <th>SAEB2019_Lingua Portuguesa</th>\n      <th>SAEB2019_Nota Media Padronizada</th>\n      <th>IDEB_2019</th>\n    </tr>\n  </thead>\n  <tbody>\n    <tr>\n      <th>0</th>\n      <td>BA</td>\n      <td>2914703.0</td>\n      <td>Itaberaba</td>\n      <td>29083524.0</td>\n      <td>EE - COLEGIO ESTADUAL LIBERDADE</td>\n      <td>Estadual</td>\n      <td>43.3</td>\n      <td>33.70</td>\n      <td>37.30</td>\n      <td>69.8</td>\n      <td>-</td>\n      <td>0.42</td>\n      <td>217.25</td>\n      <td>226.70</td>\n      <td>3.13</td>\n      <td>1.3</td>\n    </tr>\n    <tr>\n      <th>1</th>\n      <td>AM</td>\n      <td>1300060.0</td>\n      <td>Amaturá</td>\n      <td>13103431.0</td>\n      <td>ESC EST INDIGENA MANUEL JOAQUIM SALDANHA FILHO...</td>\n      <td>Estadual</td>\n      <td>67.3</td>\n      <td>59.10</td>\n      <td>53.50</td>\n      <td>92.5</td>\n      <td>-</td>\n      <td>0.65</td>\n      <td>195.40</td>\n      <td>188.21</td>\n      <td>2.25</td>\n      <td>1.5</td>\n    </tr>\n    <tr>\n      <th>2</th>\n      <td>PA</td>\n      <td>1506708.0</td>\n      <td>Santana do Araguaia</td>\n      <td>15171582.0</td>\n      <td>EEEM JORCELI SESTARI SILVA ANEXO IV</td>\n      <td>Estadual</td>\n      <td>57.1</td>\n      <td>52.40</td>\n      <td>50.00</td>\n      <td>72.2</td>\n      <td>-</td>\n      <td>0.57</td>\n      <td>202.24</td>\n      <td>211.64</td>\n      <td>2.70</td>\n      <td>1.5</td>\n    </tr>\n    <tr>\n      <th>3</th>\n      <td>PI</td>\n      <td>2211001.0</td>\n      <td>Teresina</td>\n      <td>22128441.0</td>\n      <td>U E NOSSA SENHORA DO PERPETUO SOCORRO</td>\n      <td>Estadual</td>\n      <td>53.8</td>\n      <td>25.00</td>\n      <td>58.30</td>\n      <td>97.5</td>\n      <td>-</td>\n      <td>0.45</td>\n      <td>239.39</td>\n      <td>237.57</td>\n      <td>3.61</td>\n      <td>1.6</td>\n    </tr>\n    <tr>\n      <th>4</th>\n      <td>PI</td>\n      <td>2211001.0</td>\n      <td>Teresina</td>\n      <td>22131159.0</td>\n      <td>CETI PEDRA MOLE</td>\n      <td>Estadual</td>\n      <td>41.7</td>\n      <td>30.60</td>\n      <td>31.10</td>\n      <td>78.7</td>\n      <td>-</td>\n      <td>0.39</td>\n      <td>259.57</td>\n      <td>260.92</td>\n      <td>4.24</td>\n      <td>1.6</td>\n    </tr>\n    <tr>\n      <th>...</th>\n      <td>...</td>\n      <td>...</td>\n      <td>...</td>\n      <td>...</td>\n      <td>...</td>\n      <td>...</td>\n      <td>...</td>\n      <td>...</td>\n      <td>...</td>\n      <td>...</td>\n      <td>...</td>\n      <td>...</td>\n      <td>...</td>\n      <td>...</td>\n      <td>...</td>\n      <td>...</td>\n    </tr>\n    <tr>\n      <th>12077</th>\n      <td>PE</td>\n      <td>2611606.0</td>\n      <td>Recife</td>\n      <td>26124297.0</td>\n      <td>COLEGIO DE APLICACAO DO CE DA UFPE</td>\n      <td>Federal</td>\n      <td>98.9</td>\n      <td>96.70</td>\n      <td>100.00</td>\n      <td>100.0</td>\n      <td>-</td>\n      <td>0.99</td>\n      <td>402.96</td>\n      <td>362.42</td>\n      <td>7.77</td>\n      <td>7.7</td>\n    </tr>\n    <tr>\n      <th>12078</th>\n      <td>MG</td>\n      <td>3105608.0</td>\n      <td>Barbacena</td>\n      <td>31014630.0</td>\n      <td>ESCOLA PREPARATORIA DE CADETES DO AR</td>\n      <td>Federal</td>\n      <td>99.8</td>\n      <td>99.40</td>\n      <td>100.00</td>\n      <td>100.0</td>\n      <td>-</td>\n      <td>1.00</td>\n      <td>407.47</td>\n      <td>353.17</td>\n      <td>7.70</td>\n      <td>7.7</td>\n    </tr>\n    <tr>\n      <th>12079</th>\n      <td>None</td>\n      <td>NaN</td>\n      <td>None</td>\n      <td>NaN</td>\n      <td>None</td>\n      <td>None</td>\n      <td>NaN</td>\n      <td>None</td>\n      <td>None</td>\n      <td>NaN</td>\n      <td>None</td>\n      <td>NaN</td>\n      <td>NaN</td>\n      <td>NaN</td>\n      <td>NaN</td>\n      <td>NaN</td>\n    </tr>\n    <tr>\n      <th>12080</th>\n      <td>None</td>\n      <td>NaN</td>\n      <td>None</td>\n      <td>NaN</td>\n      <td>None</td>\n      <td>None</td>\n      <td>NaN</td>\n      <td>None</td>\n      <td>None</td>\n      <td>NaN</td>\n      <td>None</td>\n      <td>NaN</td>\n      <td>NaN</td>\n      <td>NaN</td>\n      <td>NaN</td>\n      <td>NaN</td>\n    </tr>\n    <tr>\n      <th>12081</th>\n      <td>None</td>\n      <td>NaN</td>\n      <td>None</td>\n      <td>NaN</td>\n      <td>None</td>\n      <td>None</td>\n      <td>NaN</td>\n      <td>None</td>\n      <td>None</td>\n      <td>NaN</td>\n      <td>None</td>\n      <td>NaN</td>\n      <td>NaN</td>\n      <td>NaN</td>\n      <td>NaN</td>\n      <td>NaN</td>\n    </tr>\n  </tbody>\n</table>\n<p>12082 rows × 16 columns</p>\n</div>"
          },
          "metadata": {}
        }
      ],
      "execution_count": 8,
      "metadata": {
        "collapsed": true,
        "jupyter": {
          "source_hidden": false,
          "outputs_hidden": false
        },
        "nteract": {
          "transient": {
            "deleting": false
          }
        },
        "gather": {
          "logged": 1609898733914
        }
      }
    },
    {
      "cell_type": "markdown",
      "source": [
        "## AutoML Configuration\n",
        "\n",
        "TODO: Explain why you chose the automl settings and cofiguration you used below."
      ],
      "metadata": {}
    },
    {
      "cell_type": "code",
      "source": [
        "azureml.train.automl.utilities.get_primary_metrics(\"regression\")"
      ],
      "outputs": [
        {
          "output_type": "execute_result",
          "execution_count": 10,
          "data": {
            "text/plain": "['normalized_mean_absolute_error',\n 'normalized_root_mean_squared_error',\n 'spearman_correlation',\n 'r2_score']"
          },
          "metadata": {}
        }
      ],
      "execution_count": 10,
      "metadata": {
        "collapsed": true,
        "jupyter": {
          "source_hidden": false,
          "outputs_hidden": false
        },
        "nteract": {
          "transient": {
            "deleting": false
          }
        },
        "gather": {
          "logged": 1609900259409
        }
      }
    },
    {
      "cell_type": "code",
      "source": [
        "# TODO: Put your automl settings here\n",
        "automl_settings = {\n",
        "     \"experiment_timeout_minutes\": 30,\n",
        "    \"max_concurrent_iterations\": 5,\n",
        "    \"primary_metric\" : 'r2_score'\n",
        "}\n",
        "\n",
        "# TODO: Put your automl config here\n",
        "automl_config = AutoMLConfig(compute_target=compute_target,\n",
        "                             task = \"regression\",\n",
        "                             training_data=dataset,\n",
        "                             label_column_name=\"IDEB_2019\",   \n",
        "                             path = project_folder,\n",
        "                             enable_early_stopping= True,\n",
        "                             featurization= 'auto',\n",
        "                             debug_log = \"automl_errors.log\",\n",
        "                             **automl_settings\n",
        "                            )"
      ],
      "outputs": [],
      "execution_count": 11,
      "metadata": {
        "gather": {
          "logged": 1609900711897
        },
        "jupyter": {
          "outputs_hidden": false,
          "source_hidden": false
        },
        "nteract": {
          "transient": {
            "deleting": false
          }
        }
      }
    },
    {
      "cell_type": "code",
      "source": [
        "# TODO: Submit your experiment\n",
        "remote_run = experiment.submit(automl_config, show_output = True)"
      ],
      "outputs": [
        {
          "output_type": "stream",
          "name": "stdout",
          "text": [
            "Running on remote.\n",
            "No run_configuration provided, running on auto-ml with default configuration\n",
            "Running on remote compute: auto-ml\n",
            "Parent Run ID: AutoML_65fb4522-a6ef-4b28-ac48-d2ceacc4be6d\n",
            "\n",
            "Current status: FeaturesGeneration. Generating features for the dataset.\n",
            "Current status: DatasetFeaturization. Beginning to fit featurizers and featurize the dataset.\n",
            "Current status: DatasetCrossValidationSplit. Generating individually featurized CV splits.\n",
            "Current status: ModelSelection. Beginning model selection.\n",
            "\n",
            "****************************************************************************************************\n",
            "DATA GUARDRAILS: \n",
            "\n",
            "TYPE:         Cross validation\n",
            "STATUS:       DONE\n",
            "DESCRIPTION:  Each iteration of the trained model was validated through cross-validation.\n",
            "              \n",
            "DETAILS:      \n",
            "+---------------------------------+\n",
            "|Number of folds                  |\n",
            "+=================================+\n",
            "|3                                |\n",
            "+---------------------------------+\n",
            "\n",
            "****************************************************************************************************\n",
            "\n",
            "TYPE:         Missing feature values imputation\n",
            "STATUS:       PASSED\n",
            "DESCRIPTION:  No feature missing values were detected in the training data.\n",
            "              Learn more about missing value imputation: https://aka.ms/AutomatedMLFeaturization\n",
            "\n",
            "****************************************************************************************************\n",
            "\n",
            "TYPE:         High cardinality feature detection\n",
            "STATUS:       DONE\n",
            "DESCRIPTION:  High cardinality features were detected in your inputs and handled.\n",
            "              Learn more about high cardinality feature handling: https://aka.ms/AutomatedMLFeaturization\n",
            "DETAILS:      High cardinality features refer to columns that contain a large percentage of unique values.\n",
            "+---------------------------------+---------------------------------+\n",
            "|Column name                      |Column Content Type              |\n",
            "+=================================+=================================+\n",
            "|Nome_Municipio                   |categorical_hash                 |\n",
            "|Nome_Escola                      |text                             |\n",
            "|TAprov2019_1_serie               |categorical_hash                 |\n",
            "|TAprov2019_2_serie               |categorical_hash                 |\n",
            "+---------------------------------+---------------------------------+\n",
            "\n",
            "****************************************************************************************************\n",
            "\n",
            "****************************************************************************************************\n",
            "ITERATION: The iteration being evaluated.\n",
            "PIPELINE: A summary description of the pipeline being evaluated.\n",
            "DURATION: Time taken for the current iteration.\n",
            "METRIC: The result of computing score on the fitted pipeline.\n",
            "BEST: The best observed score thus far.\n",
            "****************************************************************************************************\n",
            "\n",
            " ITERATION   PIPELINE                                       DURATION      METRIC      BEST\n",
            "         4   StandardScalerWrapper XGBoostRegressor         0:03:22       0.9971    0.9971\n",
            "         2   SparseNormalizer XGBoostRegressor              0:03:22       0.9605    0.9971\n",
            "         0   MaxAbsScaler LightGBM                          0:05:44       0.9964    0.9971\n",
            "         1   MaxAbsScaler XGBoostRegressor                  0:06:02       0.9967    0.9971\n",
            "         7   StandardScalerWrapper XGBoostRegressor         0:02:19       0.9969    0.9971\n",
            "         5   MaxAbsScaler ElasticNet                        0:05:48       0.9935    0.9971\n",
            "         9   StandardScalerWrapper ElasticNet               0:05:06       0.9893    0.9971\n",
            "         3   MaxAbsScaler RandomForest                      0:14:30       0.9843    0.9971\n",
            "        11   MaxAbsScaler RandomForest                      0:00:51       0.4409    0.9971\n",
            "         8   MaxAbsScaler ExtremeRandomTrees                0:06:40       0.9929    0.9971\n",
            "        12   StandardScalerWrapper XGBoostRegressor         0:01:14       0.8739    0.9971\n",
            "        10   MaxAbsScaler RandomForest                      0:02:29       0.5315    0.9971\n",
            "        13   MaxAbsScaler ExtremeRandomTrees                0:01:30       0.9933    0.9971\n",
            "         6   MaxAbsScaler RandomForest                      0:11:29       0.9741    0.9971\n",
            "        14   MaxAbsScaler ExtremeRandomTrees                0:01:18       0.8971    0.9971\n",
            "        17   MaxAbsScaler RandomForest                      0:00:58       0.8927    0.9971\n",
            "        18   MaxAbsScaler RandomForest                      0:00:57       0.9571    0.9971\n",
            "        16   MaxAbsScaler ElasticNet                        0:03:30       0.9927    0.9971\n",
            "        20   StandardScalerWrapper RandomForest             0:02:55       0.9451    0.9971\n",
            "        15   MaxAbsScaler ExtremeRandomTrees                0:05:36       0.9917    0.9971\n",
            "        22   MaxAbsScaler LightGBM                          0:00:53       0.9930    0.9971\n",
            "        23   StandardScalerWrapper LightGBM                 0:00:59       0.9889    0.9971\n",
            "        19   SparseNormalizer XGBoostRegressor              0:05:50       0.9702    0.9971\n",
            "        21   MaxAbsScaler ElasticNet                        0:03:35       0.9930    0.9971\n",
            "        24   StandardScalerWrapper XGBoostRegressor         0:01:34       0.9962    0.9971\n",
            "        25   StandardScalerWrapper XGBoostRegressor         0:01:10       0.8743    0.9971\n",
            "        27   MaxAbsScaler LightGBM                          0:00:45       0.9838    0.9971\n",
            "        28   StandardScalerWrapper LightGBM                 0:00:52       0.9888    0.9971\n",
            "        29   MaxAbsScaler LightGBM                          0:00:44       0.9786    0.9971\n",
            "        31   StandardScalerWrapper XGBoostRegressor         0:01:14          nan    0.9971\n",
            "        32   SparseNormalizer XGBoostRegressor              0:01:07       0.7559    0.9971\n",
            "        33                                                  0:01:12          nan    0.9971\n",
            "        26   StandardScalerWrapper ElasticNet               0:02:41          nan    0.9971\n",
            "        30   SparseNormalizer XGBoostRegressor              0:01:39          nan    0.9971\n",
            "        34    VotingEnsemble                                0:01:33       0.9976    0.9976\n",
            "        35    StackEnsemble                                 0:01:37       0.9976    0.9976\n"
          ]
        }
      ],
      "execution_count": 12,
      "metadata": {
        "gather": {
          "logged": 1609903491820
        },
        "jupyter": {
          "outputs_hidden": false,
          "source_hidden": false
        },
        "nteract": {
          "transient": {
            "deleting": false
          }
        }
      }
    },
    {
      "cell_type": "markdown",
      "source": [
        "## Run Details\n",
        "\n",
        "OPTIONAL: Write about the different models trained and their performance. Why do you think some models did better than others?\n",
        "\n",
        "TODO: In the cell below, use the `RunDetails` widget to show the different experiments."
      ],
      "metadata": {}
    },
    {
      "cell_type": "code",
      "source": [
        "from azureml.widgets import RunDetails\r\n",
        "RunDetails(remote_run).show()\r\n",
        "remote_run.wait_for_completion(show_output=True)"
      ],
      "outputs": [
        {
          "output_type": "display_data",
          "data": {
            "text/plain": "_AutoMLWidget(widget_settings={'childWidgetDisplay': 'popup', 'send_telemetry': False, 'log_level': 'INFO', 's…",
            "application/vnd.jupyter.widget-view+json": {
              "version_major": 2,
              "version_minor": 0,
              "model_id": "2378831161dc4121b247db9ff94916c6"
            }
          },
          "metadata": {}
        },
        {
          "output_type": "display_data",
          "data": {
            "application/aml.mini.widget.v1": "{\"status\": \"Completed\", \"workbench_run_details_uri\": \"https://ml.azure.com/experiments/ideb-experiment/runs/AutoML_65fb4522-a6ef-4b28-ac48-d2ceacc4be6d?wsid=/subscriptions/a748a023-896b-4719-8f8e-3d1ba62d6e35/resourcegroups/RG-AZML/workspaces/AZML\", \"run_id\": \"AutoML_65fb4522-a6ef-4b28-ac48-d2ceacc4be6d\", \"run_properties\": {\"run_id\": \"AutoML_65fb4522-a6ef-4b28-ac48-d2ceacc4be6d\", \"created_utc\": \"2021-01-06T02:40:23.72234Z\", \"properties\": {\"num_iterations\": \"1000\", \"training_type\": \"TrainFull\", \"acquisition_function\": \"EI\", \"primary_metric\": \"r2_score\", \"train_split\": \"0\", \"acquisition_parameter\": \"0\", \"num_cross_validation\": null, \"target\": \"auto-ml\", \"AMLSettingsJsonString\": \"{\\\"path\\\":null,\\\"name\\\":\\\"ideb-experiment\\\",\\\"subscription_id\\\":\\\"a748a023-896b-4719-8f8e-3d1ba62d6e35\\\",\\\"resource_group\\\":\\\"RG-AZML\\\",\\\"workspace_name\\\":\\\"AZML\\\",\\\"region\\\":\\\"eastus\\\",\\\"compute_target\\\":\\\"auto-ml\\\",\\\"spark_service\\\":null,\\\"azure_service\\\":\\\"remote\\\",\\\"many_models\\\":false,\\\"pipeline_fetch_max_batch_size\\\":1,\\\"iterations\\\":1000,\\\"primary_metric\\\":\\\"r2_score\\\",\\\"task_type\\\":\\\"regression\\\",\\\"data_script\\\":null,\\\"validation_size\\\":0.0,\\\"n_cross_validations\\\":null,\\\"y_min\\\":null,\\\"y_max\\\":null,\\\"num_classes\\\":null,\\\"featurization\\\":\\\"auto\\\",\\\"_ignore_package_version_incompatibilities\\\":false,\\\"is_timeseries\\\":false,\\\"max_cores_per_iteration\\\":1,\\\"max_concurrent_iterations\\\":5,\\\"iteration_timeout_minutes\\\":null,\\\"mem_in_mb\\\":null,\\\"enforce_time_on_windows\\\":false,\\\"experiment_timeout_minutes\\\":30,\\\"experiment_exit_score\\\":null,\\\"whitelist_models\\\":null,\\\"blacklist_algos\\\":[\\\"TensorFlowDNN\\\",\\\"TensorFlowLinearRegressor\\\"],\\\"supported_models\\\":[\\\"OnlineGradientDescentRegressor\\\",\\\"ElasticNet\\\",\\\"LightGBM\\\",\\\"TensorFlowLinearRegressor\\\",\\\"LassoLars\\\",\\\"SGD\\\",\\\"GradientBoosting\\\",\\\"TensorFlowDNN\\\",\\\"XGBoostRegressor\\\",\\\"FastLinearRegressor\\\",\\\"ExtremeRandomTrees\\\",\\\"KNN\\\",\\\"RandomForest\\\",\\\"DecisionTree\\\"],\\\"auto_blacklist\\\":true,\\\"blacklist_samples_reached\\\":false,\\\"exclude_nan_labels\\\":true,\\\"verbosity\\\":20,\\\"_debug_log\\\":\\\"azureml_automl.log\\\",\\\"show_warnings\\\":false,\\\"model_explainability\\\":true,\\\"service_url\\\":null,\\\"sdk_url\\\":null,\\\"sdk_packages\\\":null,\\\"enable_onnx_compatible_models\\\":false,\\\"enable_split_onnx_featurizer_estimator_models\\\":false,\\\"vm_type\\\":\\\"STANDARD_D2_V2\\\",\\\"telemetry_verbosity\\\":20,\\\"send_telemetry\\\":true,\\\"enable_dnn\\\":false,\\\"scenario\\\":\\\"SDK-1.13.0\\\",\\\"environment_label\\\":null,\\\"force_text_dnn\\\":false,\\\"enable_feature_sweeping\\\":true,\\\"enable_early_stopping\\\":true,\\\"early_stopping_n_iters\\\":10,\\\"metrics\\\":null,\\\"enable_ensembling\\\":true,\\\"enable_stack_ensembling\\\":true,\\\"ensemble_iterations\\\":15,\\\"enable_tf\\\":false,\\\"enable_subsampling\\\":null,\\\"subsample_seed\\\":null,\\\"enable_nimbusml\\\":false,\\\"enable_streaming\\\":false,\\\"force_streaming\\\":false,\\\"track_child_runs\\\":true,\\\"allowed_private_models\\\":[],\\\"label_column_name\\\":\\\"IDEB_2019\\\",\\\"weight_column_name\\\":null,\\\"cv_split_column_names\\\":null,\\\"enable_local_managed\\\":false,\\\"_local_managed_run_id\\\":null,\\\"cost_mode\\\":1,\\\"lag_length\\\":0,\\\"metric_operation\\\":\\\"maximize\\\",\\\"preprocess\\\":true}\", \"DataPrepJsonString\": \"{\\\\\\\"training_data\\\\\\\": \\\\\\\"{\\\\\\\\\\\\\\\"blocks\\\\\\\\\\\\\\\": [{\\\\\\\\\\\\\\\"id\\\\\\\\\\\\\\\": \\\\\\\\\\\\\\\"9b8c3907-edd6-457a-b452-95089bae425e\\\\\\\\\\\\\\\", \\\\\\\\\\\\\\\"type\\\\\\\\\\\\\\\": \\\\\\\\\\\\\\\"Microsoft.DPrep.GetDatastoreFilesBlock\\\\\\\\\\\\\\\", \\\\\\\\\\\\\\\"arguments\\\\\\\\\\\\\\\": {\\\\\\\\\\\\\\\"datastores\\\\\\\\\\\\\\\": [{\\\\\\\\\\\\\\\"datastoreName\\\\\\\\\\\\\\\": \\\\\\\\\\\\\\\"workspaceblobstore\\\\\\\\\\\\\\\", \\\\\\\\\\\\\\\"path\\\\\\\\\\\\\\\": \\\\\\\\\\\\\\\"UI/01-06-2021_015830_UTC/DATASET_IDEB_ensino_medio_escolas_2019.txt\\\\\\\\\\\\\\\", \\\\\\\\\\\\\\\"resourceGroup\\\\\\\\\\\\\\\": \\\\\\\\\\\\\\\"RG-AZML\\\\\\\\\\\\\\\", \\\\\\\\\\\\\\\"subscription\\\\\\\\\\\\\\\": \\\\\\\\\\\\\\\"a748a023-896b-4719-8f8e-3d1ba62d6e35\\\\\\\\\\\\\\\", \\\\\\\\\\\\\\\"workspaceName\\\\\\\\\\\\\\\": \\\\\\\\\\\\\\\"AZML\\\\\\\\\\\\\\\"}]}, \\\\\\\\\\\\\\\"localData\\\\\\\\\\\\\\\": {}, \\\\\\\\\\\\\\\"isEnabled\\\\\\\\\\\\\\\": true, \\\\\\\\\\\\\\\"name\\\\\\\\\\\\\\\": null, \\\\\\\\\\\\\\\"annotation\\\\\\\\\\\\\\\": null}, {\\\\\\\\\\\\\\\"id\\\\\\\\\\\\\\\": \\\\\\\\\\\\\\\"62c2e309-5d8c-4574-99bf-22fcd4e27162\\\\\\\\\\\\\\\", \\\\\\\\\\\\\\\"type\\\\\\\\\\\\\\\": \\\\\\\\\\\\\\\"Microsoft.DPrep.ParseDelimitedBlock\\\\\\\\\\\\\\\", \\\\\\\\\\\\\\\"arguments\\\\\\\\\\\\\\\": {\\\\\\\\\\\\\\\"columnHeadersMode\\\\\\\\\\\\\\\": 1, \\\\\\\\\\\\\\\"fileEncoding\\\\\\\\\\\\\\\": 1, \\\\\\\\\\\\\\\"handleQuotedLineBreaks\\\\\\\\\\\\\\\": false, \\\\\\\\\\\\\\\"preview\\\\\\\\\\\\\\\": false, \\\\\\\\\\\\\\\"separator\\\\\\\\\\\\\\\": \\\\\\\\\\\\\\\"\\\\\\\\\\\\\\\\t\\\\\\\\\\\\\\\", \\\\\\\\\\\\\\\"skipRows\\\\\\\\\\\\\\\": 0, \\\\\\\\\\\\\\\"skipRowsMode\\\\\\\\\\\\\\\": 0}, \\\\\\\\\\\\\\\"localData\\\\\\\\\\\\\\\": {}, \\\\\\\\\\\\\\\"isEnabled\\\\\\\\\\\\\\\": true, \\\\\\\\\\\\\\\"name\\\\\\\\\\\\\\\": null, \\\\\\\\\\\\\\\"annotation\\\\\\\\\\\\\\\": null}, {\\\\\\\\\\\\\\\"id\\\\\\\\\\\\\\\": \\\\\\\\\\\\\\\"80946e0f-6480-4cf0-9b9f-195229d8e940\\\\\\\\\\\\\\\", \\\\\\\\\\\\\\\"type\\\\\\\\\\\\\\\": \\\\\\\\\\\\\\\"Microsoft.DPrep.DropColumnsBlock\\\\\\\\\\\\\\\", \\\\\\\\\\\\\\\"arguments\\\\\\\\\\\\\\\": {\\\\\\\\\\\\\\\"columns\\\\\\\\\\\\\\\": {\\\\\\\\\\\\\\\"type\\\\\\\\\\\\\\\": 0, \\\\\\\\\\\\\\\"details\\\\\\\\\\\\\\\": {\\\\\\\\\\\\\\\"selectedColumns\\\\\\\\\\\\\\\": [\\\\\\\\\\\\\\\"Path\\\\\\\\\\\\\\\"]}}}, \\\\\\\\\\\\\\\"localData\\\\\\\\\\\\\\\": {}, \\\\\\\\\\\\\\\"isEnabled\\\\\\\\\\\\\\\": true, \\\\\\\\\\\\\\\"name\\\\\\\\\\\\\\\": null, \\\\\\\\\\\\\\\"annotation\\\\\\\\\\\\\\\": null}, {\\\\\\\\\\\\\\\"id\\\\\\\\\\\\\\\": \\\\\\\\\\\\\\\"3bbc5009-b6a6-4592-98b2-a9493e2e49c3\\\\\\\\\\\\\\\", \\\\\\\\\\\\\\\"type\\\\\\\\\\\\\\\": \\\\\\\\\\\\\\\"Microsoft.DPrep.SetColumnTypesBlock\\\\\\\\\\\\\\\", \\\\\\\\\\\\\\\"arguments\\\\\\\\\\\\\\\": {\\\\\\\\\\\\\\\"columnConversion\\\\\\\\\\\\\\\": [{\\\\\\\\\\\\\\\"column\\\\\\\\\\\\\\\": {\\\\\\\\\\\\\\\"type\\\\\\\\\\\\\\\": 2, \\\\\\\\\\\\\\\"details\\\\\\\\\\\\\\\": {\\\\\\\\\\\\\\\"selectedColumn\\\\\\\\\\\\\\\": \\\\\\\\\\\\\\\"Path\\\\\\\\\\\\\\\"}}, \\\\\\\\\\\\\\\"typeProperty\\\\\\\\\\\\\\\": 0}, {\\\\\\\\\\\\\\\"column\\\\\\\\\\\\\\\": {\\\\\\\\\\\\\\\"type\\\\\\\\\\\\\\\": 2, \\\\\\\\\\\\\\\"details\\\\\\\\\\\\\\\": {\\\\\\\\\\\\\\\"selectedColumn\\\\\\\\\\\\\\\": \\\\\\\\\\\\\\\"Sigla_UF\\\\\\\\\\\\\\\"}}, \\\\\\\\\\\\\\\"typeProperty\\\\\\\\\\\\\\\": 0}, {\\\\\\\\\\\\\\\"column\\\\\\\\\\\\\\\": {\\\\\\\\\\\\\\\"type\\\\\\\\\\\\\\\": 2, \\\\\\\\\\\\\\\"details\\\\\\\\\\\\\\\": {\\\\\\\\\\\\\\\"selectedColumn\\\\\\\\\\\\\\\": \\\\\\\\\\\\\\\"Cod_Municipio\\\\\\\\\\\\\\\"}}, \\\\\\\\\\\\\\\"typeProperty\\\\\\\\\\\\\\\": 2}, {\\\\\\\\\\\\\\\"column\\\\\\\\\\\\\\\": {\\\\\\\\\\\\\\\"type\\\\\\\\\\\\\\\": 2, \\\\\\\\\\\\\\\"details\\\\\\\\\\\\\\\": {\\\\\\\\\\\\\\\"selectedColumn\\\\\\\\\\\\\\\": \\\\\\\\\\\\\\\"Nome_Municipio\\\\\\\\\\\\\\\"}}, \\\\\\\\\\\\\\\"typeProperty\\\\\\\\\\\\\\\": 0}, {\\\\\\\\\\\\\\\"column\\\\\\\\\\\\\\\": {\\\\\\\\\\\\\\\"type\\\\\\\\\\\\\\\": 2, \\\\\\\\\\\\\\\"details\\\\\\\\\\\\\\\": {\\\\\\\\\\\\\\\"selectedColumn\\\\\\\\\\\\\\\": \\\\\\\\\\\\\\\"Cod_Escola\\\\\\\\\\\\\\\"}}, \\\\\\\\\\\\\\\"typeProperty\\\\\\\\\\\\\\\": 2}, {\\\\\\\\\\\\\\\"column\\\\\\\\\\\\\\\": {\\\\\\\\\\\\\\\"type\\\\\\\\\\\\\\\": 2, \\\\\\\\\\\\\\\"details\\\\\\\\\\\\\\\": {\\\\\\\\\\\\\\\"selectedColumn\\\\\\\\\\\\\\\": \\\\\\\\\\\\\\\"Nome_Escola\\\\\\\\\\\\\\\"}}, \\\\\\\\\\\\\\\"typeProperty\\\\\\\\\\\\\\\": 0}, {\\\\\\\\\\\\\\\"column\\\\\\\\\\\\\\\": {\\\\\\\\\\\\\\\"type\\\\\\\\\\\\\\\": 2, \\\\\\\\\\\\\\\"details\\\\\\\\\\\\\\\": {\\\\\\\\\\\\\\\"selectedColumn\\\\\\\\\\\\\\\": \\\\\\\\\\\\\\\"Column6\\\\\\\\\\\\\\\"}}, \\\\\\\\\\\\\\\"typeProperty\\\\\\\\\\\\\\\": 0}, {\\\\\\\\\\\\\\\"column\\\\\\\\\\\\\\\": {\\\\\\\\\\\\\\\"type\\\\\\\\\\\\\\\": 2, \\\\\\\\\\\\\\\"details\\\\\\\\\\\\\\\": {\\\\\\\\\\\\\\\"selectedColumn\\\\\\\\\\\\\\\": \\\\\\\\\\\\\\\"TAprov2019_Total\\\\\\\\\\\\\\\"}}, \\\\\\\\\\\\\\\"typeProperty\\\\\\\\\\\\\\\": 3}, {\\\\\\\\\\\\\\\"column\\\\\\\\\\\\\\\": {\\\\\\\\\\\\\\\"type\\\\\\\\\\\\\\\": 2, \\\\\\\\\\\\\\\"details\\\\\\\\\\\\\\\": {\\\\\\\\\\\\\\\"selectedColumn\\\\\\\\\\\\\\\": \\\\\\\\\\\\\\\"TAprov2019_1_serie\\\\\\\\\\\\\\\"}}, \\\\\\\\\\\\\\\"typeProperty\\\\\\\\\\\\\\\": 0}, {\\\\\\\\\\\\\\\"column\\\\\\\\\\\\\\\": {\\\\\\\\\\\\\\\"type\\\\\\\\\\\\\\\": 2, \\\\\\\\\\\\\\\"details\\\\\\\\\\\\\\\": {\\\\\\\\\\\\\\\"selectedColumn\\\\\\\\\\\\\\\": \\\\\\\\\\\\\\\"TAprov2019_2_serie\\\\\\\\\\\\\\\"}}, \\\\\\\\\\\\\\\"typeProperty\\\\\\\\\\\\\\\": 0}, {\\\\\\\\\\\\\\\"column\\\\\\\\\\\\\\\": {\\\\\\\\\\\\\\\"type\\\\\\\\\\\\\\\": 2, \\\\\\\\\\\\\\\"details\\\\\\\\\\\\\\\": {\\\\\\\\\\\\\\\"selectedColumn\\\\\\\\\\\\\\\": \\\\\\\\\\\\\\\"TAprov2019_3_serie\\\\\\\\\\\\\\\"}}, \\\\\\\\\\\\\\\"typeProperty\\\\\\\\\\\\\\\": 3}, {\\\\\\\\\\\\\\\"column\\\\\\\\\\\\\\\": {\\\\\\\\\\\\\\\"type\\\\\\\\\\\\\\\": 2, \\\\\\\\\\\\\\\"details\\\\\\\\\\\\\\\": {\\\\\\\\\\\\\\\"selectedColumn\\\\\\\\\\\\\\\": \\\\\\\\\\\\\\\"TAprov2019_4_serie\\\\\\\\\\\\\\\"}}, \\\\\\\\\\\\\\\"typeProperty\\\\\\\\\\\\\\\": 0}, {\\\\\\\\\\\\\\\"column\\\\\\\\\\\\\\\": {\\\\\\\\\\\\\\\"type\\\\\\\\\\\\\\\": 2, \\\\\\\\\\\\\\\"details\\\\\\\\\\\\\\\": {\\\\\\\\\\\\\\\"selectedColumn\\\\\\\\\\\\\\\": \\\\\\\\\\\\\\\"Indicador_Rendimento\\\\\\\\\\\\\\\"}}, \\\\\\\\\\\\\\\"typeProperty\\\\\\\\\\\\\\\": 3}, {\\\\\\\\\\\\\\\"column\\\\\\\\\\\\\\\": {\\\\\\\\\\\\\\\"type\\\\\\\\\\\\\\\": 2, \\\\\\\\\\\\\\\"details\\\\\\\\\\\\\\\": {\\\\\\\\\\\\\\\"selectedColumn\\\\\\\\\\\\\\\": \\\\\\\\\\\\\\\"SAEB2019_Matematica\\\\\\\\\\\\\\\"}}, \\\\\\\\\\\\\\\"typeProperty\\\\\\\\\\\\\\\": 3}, {\\\\\\\\\\\\\\\"column\\\\\\\\\\\\\\\": {\\\\\\\\\\\\\\\"type\\\\\\\\\\\\\\\": 2, \\\\\\\\\\\\\\\"details\\\\\\\\\\\\\\\": {\\\\\\\\\\\\\\\"selectedColumn\\\\\\\\\\\\\\\": \\\\\\\\\\\\\\\"SAEB2019_Lingua Portuguesa\\\\\\\\\\\\\\\"}}, \\\\\\\\\\\\\\\"typeProperty\\\\\\\\\\\\\\\": 3}, {\\\\\\\\\\\\\\\"column\\\\\\\\\\\\\\\": {\\\\\\\\\\\\\\\"type\\\\\\\\\\\\\\\": 2, \\\\\\\\\\\\\\\"details\\\\\\\\\\\\\\\": {\\\\\\\\\\\\\\\"selectedColumn\\\\\\\\\\\\\\\": \\\\\\\\\\\\\\\"SAEB2019_Nota Media Padronizada\\\\\\\\\\\\\\\"}}, \\\\\\\\\\\\\\\"typeProperty\\\\\\\\\\\\\\\": 3}, {\\\\\\\\\\\\\\\"column\\\\\\\\\\\\\\\": {\\\\\\\\\\\\\\\"type\\\\\\\\\\\\\\\": 2, \\\\\\\\\\\\\\\"details\\\\\\\\\\\\\\\": {\\\\\\\\\\\\\\\"selectedColumn\\\\\\\\\\\\\\\": \\\\\\\\\\\\\\\"IDEB_2019\\\\\\\\\\\\\\\"}}, \\\\\\\\\\\\\\\"typeProperty\\\\\\\\\\\\\\\": 3}]}, \\\\\\\\\\\\\\\"localData\\\\\\\\\\\\\\\": {}, \\\\\\\\\\\\\\\"isEnabled\\\\\\\\\\\\\\\": true, \\\\\\\\\\\\\\\"name\\\\\\\\\\\\\\\": null, \\\\\\\\\\\\\\\"annotation\\\\\\\\\\\\\\\": null}], \\\\\\\\\\\\\\\"inspectors\\\\\\\\\\\\\\\": [], \\\\\\\\\\\\\\\"meta\\\\\\\\\\\\\\\": {\\\\\\\\\\\\\\\"savedDatasetId\\\\\\\\\\\\\\\": \\\\\\\\\\\\\\\"bdb3caec-8169-4659-bbd0-62c80ba52c14\\\\\\\\\\\\\\\", \\\\\\\\\\\\\\\"datasetType\\\\\\\\\\\\\\\": \\\\\\\\\\\\\\\"tabular\\\\\\\\\\\\\\\", \\\\\\\\\\\\\\\"subscriptionId\\\\\\\\\\\\\\\": \\\\\\\\\\\\\\\"a748a023-896b-4719-8f8e-3d1ba62d6e35\\\\\\\\\\\\\\\", \\\\\\\\\\\\\\\"workspaceId\\\\\\\\\\\\\\\": \\\\\\\\\\\\\\\"4cc8fc67-9b29-4fc9-affe-0aea29e08ecb\\\\\\\\\\\\\\\", \\\\\\\\\\\\\\\"workspaceLocation\\\\\\\\\\\\\\\": \\\\\\\\\\\\\\\"eastus\\\\\\\\\\\\\\\"}}\\\\\\\", \\\\\\\"activities\\\\\\\": 0}\", \"EnableSubsampling\": null, \"runTemplate\": \"AutoML\", \"azureml.runsource\": \"automl\", \"display_task_type\": \"regression\", \"dependencies_versions\": \"{\\\"azureml-widgets\\\": \\\"1.19.0\\\", \\\"azureml-train\\\": \\\"1.19.0\\\", \\\"azureml-train-restclients-hyperdrive\\\": \\\"1.19.0\\\", \\\"azureml-train-core\\\": \\\"1.19.0\\\", \\\"azureml-train-automl\\\": \\\"1.19.0\\\", \\\"azureml-train-automl-runtime\\\": \\\"1.19.0\\\", \\\"azureml-train-automl-client\\\": \\\"1.19.0\\\", \\\"azureml-tensorboard\\\": \\\"1.19.0\\\", \\\"azureml-telemetry\\\": \\\"1.19.0\\\", \\\"azureml-sdk\\\": \\\"1.19.0\\\", \\\"azureml-samples\\\": \\\"0+unknown\\\", \\\"azureml-pipeline\\\": \\\"1.19.0\\\", \\\"azureml-pipeline-steps\\\": \\\"1.19.0\\\", \\\"azureml-pipeline-core\\\": \\\"1.19.0\\\", \\\"azureml-opendatasets\\\": \\\"1.19.0\\\", \\\"azureml-model-management-sdk\\\": \\\"1.0.1b6.post1\\\", \\\"azureml-mlflow\\\": \\\"1.19.0\\\", \\\"azureml-interpret\\\": \\\"1.19.0\\\", \\\"azureml-explain-model\\\": \\\"1.19.0\\\", \\\"azureml-defaults\\\": \\\"1.19.0\\\", \\\"azureml-dataset-runtime\\\": \\\"1.19.0\\\", \\\"azureml-dataprep\\\": \\\"2.6.1\\\", \\\"azureml-dataprep-rslex\\\": \\\"1.4.0\\\", \\\"azureml-dataprep-native\\\": \\\"26.0.0\\\", \\\"azureml-datadrift\\\": \\\"1.19.0\\\", \\\"azureml-core\\\": \\\"1.19.0\\\", \\\"azureml-contrib-services\\\": \\\"1.19.0\\\", \\\"azureml-contrib-server\\\": \\\"1.19.0\\\", \\\"azureml-contrib-reinforcementlearning\\\": \\\"1.19.0\\\", \\\"azureml-contrib-pipeline-steps\\\": \\\"1.19.0\\\", \\\"azureml-contrib-notebook\\\": \\\"1.19.0\\\", \\\"azureml-contrib-interpret\\\": \\\"1.19.0\\\", \\\"azureml-contrib-gbdt\\\": \\\"1.19.0\\\", \\\"azureml-contrib-fairness\\\": \\\"1.19.0\\\", \\\"azureml-contrib-dataset\\\": \\\"1.19.0\\\", \\\"azureml-cli-common\\\": \\\"1.19.0\\\", \\\"azureml-automl-runtime\\\": \\\"1.19.0\\\", \\\"azureml-automl-core\\\": \\\"1.19.0\\\", \\\"azureml-accel-models\\\": \\\"1.19.0\\\"}\", \"_aml_system_scenario_identification\": \"Remote.Parent\", \"ClientType\": \"SDK\", \"environment_cpu_name\": \"AzureML-AutoML\", \"environment_cpu_label\": \"prod\", \"environment_gpu_name\": \"AzureML-AutoML-GPU\", \"environment_gpu_label\": \"prod\", \"root_attribution\": \"automl\", \"attribution\": \"AutoML\", \"Orchestrator\": \"AutoML\", \"CancelUri\": \"https://eastus.experiments.azureml.net/jasmine/v1.0/subscriptions/a748a023-896b-4719-8f8e-3d1ba62d6e35/resourceGroups/RG-AZML/providers/Microsoft.MachineLearningServices/workspaces/AZML/experimentids/47f77dd7-234a-4057-9b8a-183d6dd984c2/cancel/AutoML_65fb4522-a6ef-4b28-ac48-d2ceacc4be6d\", \"ClientSdkVersion\": \"1.19.0\", \"snapshotId\": \"00000000-0000-0000-0000-000000000000\", \"SetupRunId\": \"AutoML_65fb4522-a6ef-4b28-ac48-d2ceacc4be6d_setup\", \"SetupRunContainerId\": \"dcid.AutoML_65fb4522-a6ef-4b28-ac48-d2ceacc4be6d_setup\", \"FeaturizationRunJsonPath\": \"featurizer_container.json\", \"FeaturizationRunId\": \"AutoML_65fb4522-a6ef-4b28-ac48-d2ceacc4be6d_featurize\", \"ProblemInfoJsonString\": \"{\\\"dataset_num_categorical\\\": 0, \\\"is_sparse\\\": true, \\\"subsampling\\\": false, \\\"dataset_classes\\\": 62, \\\"dataset_features\\\": 40180, \\\"dataset_samples\\\": 12079, \\\"single_frequency_class_detected\\\": false}\", \"ModelExplainRunId\": \"AutoML_65fb4522-a6ef-4b28-ac48-d2ceacc4be6d_ModelExplain\"}, \"tags\": {\"model_explain_run\": \"best_run\", \"_aml_system_azureml.automlComponent\": \"AutoML\", \"pipeline_id\": \"\", \"score\": \"\", \"predicted_cost\": \"\", \"fit_time\": \"\", \"training_percent\": \"\", \"iteration\": \"\", \"run_preprocessor\": \"\", \"run_algorithm\": \"\", \"dynamic_whitelisting_iterations\": \"<25>;<30>;\", \"automl_best_child_run_id\": \"AutoML_65fb4522-a6ef-4b28-ac48-d2ceacc4be6d_35\", \"model_explain_best_run_child_id\": \"AutoML_65fb4522-a6ef-4b28-ac48-d2ceacc4be6d_35\"}, \"end_time_utc\": \"2021-01-06T03:24:38.474123Z\", \"status\": \"Completed\", \"log_files\": {}, \"log_groups\": [], \"run_duration\": \"0:44:14\"}, \"child_runs\": [{\"run_id\": \"AutoML_65fb4522-a6ef-4b28-ac48-d2ceacc4be6d_0\", \"run_number\": 5, \"metric\": null, \"status\": \"Completed\", \"run_type\": \"azureml.scriptrun\", \"training_percent\": \"100\", \"start_time\": \"2021-01-06T02:55:48.674866Z\", \"end_time\": \"2021-01-06T03:01:33.090685Z\", \"created_time\": \"2021-01-06T02:51:55.744316Z\", \"created_time_dt\": \"2021-01-06T02:51:55.744316Z\", \"duration\": \"0:09:37\", \"iteration\": \"0\", \"goal\": \"r2_score_max\", \"run_name\": \"MaxAbsScaler, LightGBM\", \"run_properties\": \"copy=True\", \"primary_metric\": 0.99640423, \"best_metric\": 0.99640423}, {\"run_id\": \"AutoML_65fb4522-a6ef-4b28-ac48-d2ceacc4be6d_1\", \"run_number\": 6, \"metric\": null, \"status\": \"Completed\", \"run_type\": \"azureml.scriptrun\", \"training_percent\": \"100\", \"start_time\": \"2021-01-06T02:55:53.563206Z\", \"end_time\": \"2021-01-06T03:01:55.388779Z\", \"created_time\": \"2021-01-06T02:51:55.768418Z\", \"created_time_dt\": \"2021-01-06T02:51:55.768418Z\", \"duration\": \"0:09:59\", \"iteration\": \"1\", \"goal\": \"r2_score_max\", \"run_name\": \"MaxAbsScaler, XGBoostRegressor\", \"run_properties\": \"copy=True\", \"primary_metric\": 0.99672172, \"best_metric\": 0.99672172}, {\"run_id\": \"AutoML_65fb4522-a6ef-4b28-ac48-d2ceacc4be6d_4\", \"run_number\": 7, \"metric\": null, \"status\": \"Completed\", \"run_type\": \"azureml.scriptrun\", \"training_percent\": \"100\", \"start_time\": \"2021-01-06T02:52:07.372788Z\", \"end_time\": \"2021-01-06T02:55:29.212771Z\", \"created_time\": \"2021-01-06T02:51:55.778002Z\", \"created_time_dt\": \"2021-01-06T02:51:55.778002Z\", \"duration\": \"0:03:33\", \"iteration\": \"4\", \"goal\": \"r2_score_max\", \"run_name\": \"StandardScalerWrapper, XGBoostRegressor\", \"run_properties\": \"<azureml.automl.runtime.shared.model_wrappers.StandardScalerWrapper object at 0x7fe4493aceb8\", \"primary_metric\": 0.99710291, \"best_metric\": 0.99710291}, {\"run_id\": \"AutoML_65fb4522-a6ef-4b28-ac48-d2ceacc4be6d_3\", \"run_number\": 8, \"metric\": null, \"status\": \"Completed\", \"run_type\": \"azureml.scriptrun\", \"training_percent\": \"100\", \"start_time\": \"2021-01-06T02:55:47.806422Z\", \"end_time\": \"2021-01-06T03:10:17.330762Z\", \"created_time\": \"2021-01-06T02:51:55.837673Z\", \"created_time_dt\": \"2021-01-06T02:51:55.837673Z\", \"duration\": \"0:18:21\", \"iteration\": \"3\", \"goal\": \"r2_score_max\", \"run_name\": \"MaxAbsScaler, RandomForest\", \"run_properties\": \"copy=True\", \"primary_metric\": 0.98433753, \"best_metric\": 0.99672172}, {\"run_id\": \"AutoML_65fb4522-a6ef-4b28-ac48-d2ceacc4be6d_2\", \"run_number\": 9, \"metric\": null, \"status\": \"Completed\", \"run_type\": \"azureml.scriptrun\", \"training_percent\": \"100\", \"start_time\": \"2021-01-06T02:55:30.374014Z\", \"end_time\": \"2021-01-06T02:58:52.126564Z\", \"created_time\": \"2021-01-06T02:51:55.770385Z\", \"created_time_dt\": \"2021-01-06T02:51:55.770385Z\", \"duration\": \"0:06:56\", \"iteration\": \"2\", \"goal\": \"r2_score_max\", \"run_name\": \"SparseNormalizer, XGBoostRegressor\", \"run_properties\": \"<azureml.automl.runtime.shared.model_wrappers.SparseNormalizer object at 0x7fe56f25a550\", \"primary_metric\": 0.96054631, \"best_metric\": 0.99672172}, {\"run_id\": \"AutoML_65fb4522-a6ef-4b28-ac48-d2ceacc4be6d_5\", \"run_number\": 10, \"metric\": null, \"status\": \"Completed\", \"run_type\": \"azureml.scriptrun\", \"training_percent\": \"100\", \"start_time\": \"2021-01-06T02:58:52.340455Z\", \"end_time\": \"2021-01-06T03:04:40.309581Z\", \"created_time\": \"2021-01-06T02:55:34.041842Z\", \"created_time_dt\": \"2021-01-06T02:55:34.041842Z\", \"duration\": \"0:09:06\", \"iteration\": \"5\", \"goal\": \"r2_score_max\", \"run_name\": \"MaxAbsScaler, ElasticNet\", \"run_properties\": \"copy=True\", \"primary_metric\": 0.99353888, \"best_metric\": 0.99710291}, {\"run_id\": \"AutoML_65fb4522-a6ef-4b28-ac48-d2ceacc4be6d_6\", \"run_number\": 11, \"metric\": null, \"status\": \"Completed\", \"run_type\": \"azureml.scriptrun\", \"training_percent\": \"100\", \"start_time\": \"2021-01-06T03:01:27.180441Z\", \"end_time\": \"2021-01-06T03:12:56.286824Z\", \"created_time\": \"2021-01-06T02:58:55.840818Z\", \"created_time_dt\": \"2021-01-06T02:58:55.840818Z\", \"duration\": \"0:14:00\", \"iteration\": \"6\", \"goal\": \"r2_score_max\", \"run_name\": \"MaxAbsScaler, RandomForest\", \"run_properties\": \"copy=True\", \"primary_metric\": 0.97414811, \"best_metric\": 0.99710291}, {\"run_id\": \"AutoML_65fb4522-a6ef-4b28-ac48-d2ceacc4be6d_7\", \"run_number\": 12, \"metric\": null, \"status\": \"Completed\", \"run_type\": \"azureml.scriptrun\", \"training_percent\": \"100\", \"start_time\": \"2021-01-06T03:01:58.76209Z\", \"end_time\": \"2021-01-06T03:04:17.909666Z\", \"created_time\": \"2021-01-06T03:01:37.347844Z\", \"created_time_dt\": \"2021-01-06T03:01:37.347844Z\", \"duration\": \"0:02:40\", \"iteration\": \"7\", \"goal\": \"r2_score_max\", \"run_name\": \"StandardScalerWrapper, XGBoostRegressor\", \"run_properties\": \"<azureml.automl.runtime.shared.model_wrappers.StandardScalerWrapper object at 0x7febd082cc18\", \"primary_metric\": 0.99694928, \"best_metric\": 0.99710291}, {\"run_id\": \"AutoML_65fb4522-a6ef-4b28-ac48-d2ceacc4be6d_8\", \"run_number\": 13, \"metric\": null, \"status\": \"Completed\", \"run_type\": \"azureml.scriptrun\", \"training_percent\": \"100\", \"start_time\": \"2021-01-06T03:04:21.190986Z\", \"end_time\": \"2021-01-06T03:11:01.26316Z\", \"created_time\": \"2021-01-06T03:01:59.12708Z\", \"created_time_dt\": \"2021-01-06T03:01:59.12708Z\", \"duration\": \"0:09:02\", \"iteration\": \"8\", \"goal\": \"r2_score_max\", \"run_name\": \"MaxAbsScaler, ExtremeRandomTrees\", \"run_properties\": \"copy=True\", \"primary_metric\": 0.99293399, \"best_metric\": 0.99710291}, {\"run_id\": \"AutoML_65fb4522-a6ef-4b28-ac48-d2ceacc4be6d_9\", \"run_number\": 14, \"metric\": null, \"status\": \"Completed\", \"run_type\": \"azureml.scriptrun\", \"training_percent\": \"100\", \"start_time\": \"2021-01-06T03:04:43.609841Z\", \"end_time\": \"2021-01-06T03:09:49.684787Z\", \"created_time\": \"2021-01-06T03:04:23.627704Z\", \"created_time_dt\": \"2021-01-06T03:04:23.627704Z\", \"duration\": \"0:05:26\", \"iteration\": \"9\", \"goal\": \"r2_score_max\", \"run_name\": \"StandardScalerWrapper, ElasticNet\", \"run_properties\": \"<azureml.automl.runtime.shared.model_wrappers.StandardScalerWrapper object at 0x7fcbd6d3f668\", \"primary_metric\": 0.98932674, \"best_metric\": 0.99710291}, {\"run_id\": \"AutoML_65fb4522-a6ef-4b28-ac48-d2ceacc4be6d_10\", \"run_number\": 15, \"metric\": null, \"status\": \"Completed\", \"run_type\": \"azureml.scriptrun\", \"training_percent\": \"100\", \"start_time\": \"2021-01-06T03:09:56.75391Z\", \"end_time\": \"2021-01-06T03:12:26.179744Z\", \"created_time\": \"2021-01-06T03:04:45.036783Z\", \"created_time_dt\": \"2021-01-06T03:04:45.036783Z\", \"duration\": \"0:07:41\", \"iteration\": \"10\", \"goal\": \"r2_score_max\", \"run_name\": \"MaxAbsScaler, RandomForest\", \"run_properties\": \"copy=True\", \"primary_metric\": 0.53151992, \"best_metric\": 0.99710291}, {\"run_id\": \"AutoML_65fb4522-a6ef-4b28-ac48-d2ceacc4be6d_11\", \"run_number\": 16, \"metric\": null, \"status\": \"Completed\", \"run_type\": \"azureml.scriptrun\", \"training_percent\": \"100\", \"start_time\": \"2021-01-06T03:10:08.916087Z\", \"end_time\": \"2021-01-06T03:10:59.533171Z\", \"created_time\": \"2021-01-06T03:09:53.94057Z\", \"created_time_dt\": \"2021-01-06T03:09:53.94057Z\", \"duration\": \"0:01:05\", \"iteration\": \"11\", \"goal\": \"r2_score_max\", \"run_name\": \"MaxAbsScaler, RandomForest\", \"run_properties\": \"copy=True\", \"primary_metric\": 0.44085087, \"best_metric\": 0.99710291}, {\"run_id\": \"AutoML_65fb4522-a6ef-4b28-ac48-d2ceacc4be6d_12\", \"run_number\": 17, \"metric\": null, \"status\": \"Completed\", \"run_type\": \"azureml.scriptrun\", \"training_percent\": \"100\", \"start_time\": \"2021-01-06T03:11:01.994521Z\", \"end_time\": \"2021-01-06T03:12:16.108534Z\", \"created_time\": \"2021-01-06T03:10:21.294485Z\", \"created_time_dt\": \"2021-01-06T03:10:21.294485Z\", \"duration\": \"0:01:54\", \"iteration\": \"12\", \"goal\": \"r2_score_max\", \"run_name\": \"StandardScalerWrapper, XGBoostRegressor\", \"run_properties\": \"<azureml.automl.runtime.shared.model_wrappers.StandardScalerWrapper object at 0x7f09ccf2d390\", \"primary_metric\": 0.8739004, \"best_metric\": 0.99710291}, {\"run_id\": \"AutoML_65fb4522-a6ef-4b28-ac48-d2ceacc4be6d_13\", \"run_number\": 18, \"metric\": null, \"status\": \"Completed\", \"run_type\": \"azureml.scriptrun\", \"training_percent\": \"100\", \"start_time\": \"2021-01-06T03:11:17.505279Z\", \"end_time\": \"2021-01-06T03:12:47.21794Z\", \"created_time\": \"2021-01-06T03:11:03.429009Z\", \"created_time_dt\": \"2021-01-06T03:11:03.429009Z\", \"duration\": \"0:01:43\", \"iteration\": \"13\", \"goal\": \"r2_score_max\", \"run_name\": \"MaxAbsScaler, ExtremeRandomTrees\", \"run_properties\": \"copy=True\", \"primary_metric\": 0.99334819, \"best_metric\": 0.99710291}, {\"run_id\": \"AutoML_65fb4522-a6ef-4b28-ac48-d2ceacc4be6d_14\", \"run_number\": 19, \"metric\": null, \"status\": \"Completed\", \"run_type\": \"azureml.scriptrun\", \"training_percent\": \"100\", \"start_time\": \"2021-01-06T03:12:17.209273Z\", \"end_time\": \"2021-01-06T03:13:35.476117Z\", \"created_time\": \"2021-01-06T03:11:09.705063Z\", \"created_time_dt\": \"2021-01-06T03:11:09.705063Z\", \"duration\": \"0:02:25\", \"iteration\": \"14\", \"goal\": \"r2_score_max\", \"run_name\": \"MaxAbsScaler, ExtremeRandomTrees\", \"run_properties\": \"copy=True\", \"primary_metric\": 0.89705858, \"best_metric\": 0.99710291}, {\"run_id\": \"AutoML_65fb4522-a6ef-4b28-ac48-d2ceacc4be6d_15\", \"run_number\": 20, \"metric\": null, \"status\": \"Completed\", \"run_type\": \"azureml.scriptrun\", \"training_percent\": \"100\", \"start_time\": \"2021-01-06T03:12:34.604822Z\", \"end_time\": \"2021-01-06T03:18:10.67001Z\", \"created_time\": \"2021-01-06T03:12:20.096267Z\", \"created_time_dt\": \"2021-01-06T03:12:20.096267Z\", \"duration\": \"0:05:50\", \"iteration\": \"15\", \"goal\": \"r2_score_max\", \"run_name\": \"MaxAbsScaler, ExtremeRandomTrees\", \"run_properties\": \"copy=True\", \"primary_metric\": 0.99167692, \"best_metric\": 0.99710291}, {\"run_id\": \"AutoML_65fb4522-a6ef-4b28-ac48-d2ceacc4be6d_16\", \"run_number\": 21, \"metric\": null, \"status\": \"Completed\", \"run_type\": \"azureml.scriptrun\", \"training_percent\": \"100\", \"start_time\": \"2021-01-06T03:12:50.467763Z\", \"end_time\": \"2021-01-06T03:16:20.424933Z\", \"created_time\": \"2021-01-06T03:12:29.778482Z\", \"created_time_dt\": \"2021-01-06T03:12:29.778482Z\", \"duration\": \"0:03:50\", \"iteration\": \"16\", \"goal\": \"r2_score_max\", \"run_name\": \"MaxAbsScaler, ElasticNet\", \"run_properties\": \"copy=True\", \"primary_metric\": 0.99268951, \"best_metric\": 0.99710291}, {\"run_id\": \"AutoML_65fb4522-a6ef-4b28-ac48-d2ceacc4be6d_17\", \"run_number\": 22, \"metric\": null, \"status\": \"Completed\", \"run_type\": \"azureml.scriptrun\", \"training_percent\": \"100\", \"start_time\": \"2021-01-06T03:13:02.492203Z\", \"end_time\": \"2021-01-06T03:14:00.218041Z\", \"created_time\": \"2021-01-06T03:12:51.485771Z\", \"created_time_dt\": \"2021-01-06T03:12:51.485771Z\", \"duration\": \"0:01:08\", \"iteration\": \"17\", \"goal\": \"r2_score_max\", \"run_name\": \"MaxAbsScaler, RandomForest\", \"run_properties\": \"copy=True\", \"primary_metric\": 0.89271747, \"best_metric\": 0.99710291}, {\"run_id\": \"AutoML_65fb4522-a6ef-4b28-ac48-d2ceacc4be6d_18\", \"run_number\": 23, \"metric\": null, \"status\": \"Completed\", \"run_type\": \"azureml.scriptrun\", \"training_percent\": \"100\", \"start_time\": \"2021-01-06T03:13:42.848296Z\", \"end_time\": \"2021-01-06T03:14:39.436112Z\", \"created_time\": \"2021-01-06T03:13:00.408129Z\", \"created_time_dt\": \"2021-01-06T03:13:00.408129Z\", \"duration\": \"0:01:39\", \"iteration\": \"18\", \"goal\": \"r2_score_max\", \"run_name\": \"MaxAbsScaler, RandomForest\", \"run_properties\": \"copy=True\", \"primary_metric\": 0.95714236, \"best_metric\": 0.99710291}, {\"run_id\": \"AutoML_65fb4522-a6ef-4b28-ac48-d2ceacc4be6d_19\", \"run_number\": 24, \"metric\": null, \"status\": \"Completed\", \"run_type\": \"azureml.scriptrun\", \"training_percent\": \"100\", \"start_time\": \"2021-01-06T03:14:00.541203Z\", \"end_time\": \"2021-01-06T03:19:50.082317Z\", \"created_time\": \"2021-01-06T03:13:38.829105Z\", \"created_time_dt\": \"2021-01-06T03:13:38.829105Z\", \"duration\": \"0:06:11\", \"iteration\": \"19\", \"goal\": \"r2_score_max\", \"run_name\": \"SparseNormalizer, XGBoostRegressor\", \"run_properties\": \"<azureml.automl.runtime.shared.model_wrappers.SparseNormalizer object at 0x7f82b6b996a0\", \"primary_metric\": 0.97022979, \"best_metric\": 0.99710291}, {\"run_id\": \"AutoML_65fb4522-a6ef-4b28-ac48-d2ceacc4be6d_20\", \"run_number\": 25, \"metric\": null, \"status\": \"Completed\", \"run_type\": \"azureml.scriptrun\", \"training_percent\": \"100\", \"start_time\": \"2021-01-06T03:14:39.674413Z\", \"end_time\": \"2021-01-06T03:17:35.117076Z\", \"created_time\": \"2021-01-06T03:14:04.162636Z\", \"created_time_dt\": \"2021-01-06T03:14:04.162636Z\", \"duration\": \"0:03:30\", \"iteration\": \"20\", \"goal\": \"r2_score_max\", \"run_name\": \"StandardScalerWrapper, RandomForest\", \"run_properties\": \"<azureml.automl.runtime.shared.model_wrappers.StandardScalerWrapper object at 0x7f5394a35668\", \"primary_metric\": 0.94507687, \"best_metric\": 0.99710291}, {\"run_id\": \"AutoML_65fb4522-a6ef-4b28-ac48-d2ceacc4be6d_21\", \"run_number\": 26, \"metric\": null, \"status\": \"Completed\", \"run_type\": \"azureml.scriptrun\", \"training_percent\": \"100\", \"start_time\": \"2021-01-06T03:16:21.755846Z\", \"end_time\": \"2021-01-06T03:19:56.692935Z\", \"created_time\": \"2021-01-06T03:14:42.938719Z\", \"created_time_dt\": \"2021-01-06T03:14:42.938719Z\", \"duration\": \"0:05:13\", \"iteration\": \"21\", \"goal\": \"r2_score_max\", \"run_name\": \"MaxAbsScaler, ElasticNet\", \"run_properties\": \"copy=True\", \"primary_metric\": 0.99299971, \"best_metric\": 0.99710291}, {\"run_id\": \"AutoML_65fb4522-a6ef-4b28-ac48-d2ceacc4be6d_22\", \"run_number\": 27, \"metric\": null, \"status\": \"Completed\", \"run_type\": \"azureml.scriptrun\", \"training_percent\": \"100\", \"start_time\": \"2021-01-06T03:17:43.328393Z\", \"end_time\": \"2021-01-06T03:18:36.065656Z\", \"created_time\": \"2021-01-06T03:16:24.857252Z\", \"created_time_dt\": \"2021-01-06T03:16:24.857252Z\", \"duration\": \"0:02:11\", \"iteration\": \"22\", \"goal\": \"r2_score_max\", \"run_name\": \"MaxAbsScaler, LightGBM\", \"run_properties\": \"copy=True\", \"primary_metric\": 0.99303218, \"best_metric\": 0.99710291}, {\"run_id\": \"AutoML_65fb4522-a6ef-4b28-ac48-d2ceacc4be6d_23\", \"run_number\": 28, \"metric\": null, \"status\": \"Completed\", \"run_type\": \"azureml.scriptrun\", \"training_percent\": \"100\", \"start_time\": \"2021-01-06T03:18:13.974524Z\", \"end_time\": \"2021-01-06T03:19:13.294106Z\", \"created_time\": \"2021-01-06T03:17:40.937322Z\", \"created_time_dt\": \"2021-01-06T03:17:40.937322Z\", \"duration\": \"0:01:32\", \"iteration\": \"23\", \"goal\": \"r2_score_max\", \"run_name\": \"StandardScalerWrapper, LightGBM\", \"run_properties\": \"<azureml.automl.runtime.shared.model_wrappers.StandardScalerWrapper object at 0x7ff8b8a21630\", \"primary_metric\": 0.98893072, \"best_metric\": 0.99710291}, {\"run_id\": \"AutoML_65fb4522-a6ef-4b28-ac48-d2ceacc4be6d_24\", \"run_number\": 29, \"metric\": null, \"status\": \"Completed\", \"run_type\": \"azureml.scriptrun\", \"training_percent\": \"100\", \"start_time\": \"2021-01-06T03:18:38.425356Z\", \"end_time\": \"2021-01-06T03:20:11.955911Z\", \"created_time\": \"2021-01-06T03:18:15.002819Z\", \"created_time_dt\": \"2021-01-06T03:18:15.002819Z\", \"duration\": \"0:01:56\", \"iteration\": \"24\", \"goal\": \"r2_score_max\", \"run_name\": \"StandardScalerWrapper, XGBoostRegressor\", \"run_properties\": \"<azureml.automl.runtime.shared.model_wrappers.StandardScalerWrapper object at 0x7fb09dbc4d68\", \"primary_metric\": 0.99619618, \"best_metric\": 0.99710291}, {\"run_id\": \"AutoML_65fb4522-a6ef-4b28-ac48-d2ceacc4be6d_25\", \"run_number\": 30, \"metric\": null, \"status\": \"Completed\", \"run_type\": \"azureml.scriptrun\", \"training_percent\": \"100\", \"start_time\": \"2021-01-06T03:19:18.732587Z\", \"end_time\": \"2021-01-06T03:20:28.489927Z\", \"created_time\": \"2021-01-06T03:18:42.038151Z\", \"created_time_dt\": \"2021-01-06T03:18:42.038151Z\", \"duration\": \"0:01:46\", \"iteration\": \"25\", \"goal\": \"r2_score_max\", \"run_name\": \"StandardScalerWrapper, XGBoostRegressor\", \"run_properties\": \"<azureml.automl.runtime.shared.model_wrappers.StandardScalerWrapper object at 0x7ff978ac4978\", \"primary_metric\": 0.87426994, \"best_metric\": 0.99710291}, {\"run_id\": \"AutoML_65fb4522-a6ef-4b28-ac48-d2ceacc4be6d_26\", \"run_number\": 31, \"metric\": null, \"status\": \"Canceled\", \"run_type\": \"azureml.scriptrun\", \"training_percent\": \"100\", \"start_time\": \"2021-01-06T03:19:52.81607Z\", \"end_time\": \"2021-01-06T03:22:34.116369Z\", \"created_time\": \"2021-01-06T03:19:16.308534Z\", \"created_time_dt\": \"2021-01-06T03:19:16.308534Z\", \"duration\": \"0:03:17\", \"iteration\": \"26\", \"goal\": null, \"run_name\": \"StandardScalerWrapper, ElasticNet\", \"run_properties\": null}, {\"run_id\": \"AutoML_65fb4522-a6ef-4b28-ac48-d2ceacc4be6d_27\", \"run_number\": 32, \"metric\": null, \"status\": \"Completed\", \"run_type\": \"azureml.scriptrun\", \"training_percent\": \"100\", \"start_time\": \"2021-01-06T03:20:04.085073Z\", \"end_time\": \"2021-01-06T03:20:48.887162Z\", \"created_time\": \"2021-01-06T03:19:53.000171Z\", \"created_time_dt\": \"2021-01-06T03:19:53.000171Z\", \"duration\": \"0:00:55\", \"iteration\": \"27\", \"goal\": \"r2_score_max\", \"run_name\": \"MaxAbsScaler, LightGBM\", \"run_properties\": \"copy=True\", \"primary_metric\": 0.98378013, \"best_metric\": 0.99710291}, {\"run_id\": \"AutoML_65fb4522-a6ef-4b28-ac48-d2ceacc4be6d_28\", \"run_number\": 33, \"metric\": null, \"status\": \"Completed\", \"run_type\": \"azureml.scriptrun\", \"training_percent\": \"100\", \"start_time\": \"2021-01-06T03:20:14.522964Z\", \"end_time\": \"2021-01-06T03:21:06.524279Z\", \"created_time\": \"2021-01-06T03:19:59.492076Z\", \"created_time_dt\": \"2021-01-06T03:19:59.492076Z\", \"duration\": \"0:01:07\", \"iteration\": \"28\", \"goal\": \"r2_score_max\", \"run_name\": \"StandardScalerWrapper, LightGBM\", \"run_properties\": \"<azureml.automl.runtime.shared.model_wrappers.StandardScalerWrapper object at 0x7f0e6c074ac8\", \"primary_metric\": 0.98875371, \"best_metric\": 0.99710291}, {\"run_id\": \"AutoML_65fb4522-a6ef-4b28-ac48-d2ceacc4be6d_29\", \"run_number\": 34, \"metric\": null, \"status\": \"Completed\", \"run_type\": \"azureml.scriptrun\", \"training_percent\": \"100\", \"start_time\": \"2021-01-06T03:20:32.283155Z\", \"end_time\": \"2021-01-06T03:21:16.095014Z\", \"created_time\": \"2021-01-06T03:20:14.902085Z\", \"created_time_dt\": \"2021-01-06T03:20:14.902085Z\", \"duration\": \"0:01:01\", \"iteration\": \"29\", \"goal\": \"r2_score_max\", \"run_name\": \"MaxAbsScaler, LightGBM\", \"run_properties\": \"copy=True\", \"primary_metric\": 0.97855448, \"best_metric\": 0.99710291}, {\"run_id\": \"AutoML_65fb4522-a6ef-4b28-ac48-d2ceacc4be6d_30\", \"run_number\": 35, \"metric\": null, \"status\": \"Canceled\", \"run_type\": \"azureml.scriptrun\", \"training_percent\": \"100\", \"start_time\": \"2021-01-06T03:20:53.127194Z\", \"end_time\": \"2021-01-06T03:22:32.109858Z\", \"created_time\": \"2021-01-06T03:20:32.468062Z\", \"created_time_dt\": \"2021-01-06T03:20:32.468062Z\", \"duration\": \"0:01:59\", \"iteration\": \"30\", \"goal\": null, \"run_name\": \"SparseNormalizer, XGBoostRegressor\", \"run_properties\": null}, {\"run_id\": \"AutoML_65fb4522-a6ef-4b28-ac48-d2ceacc4be6d_31\", \"run_number\": 36, \"metric\": null, \"status\": \"Failed\", \"run_type\": \"azureml.scriptrun\", \"training_percent\": \"100\", \"start_time\": \"2021-01-06T03:21:08.463367Z\", \"end_time\": \"2021-01-06T03:22:22.927246Z\", \"created_time\": \"2021-01-06T03:20:52.131621Z\", \"created_time_dt\": \"2021-01-06T03:20:52.131621Z\", \"duration\": \"0:01:30\", \"iteration\": \"31\", \"goal\": null, \"run_name\": \"StandardScalerWrapper, XGBoostRegressor\", \"run_properties\": null}, {\"run_id\": \"AutoML_65fb4522-a6ef-4b28-ac48-d2ceacc4be6d_32\", \"run_number\": 37, \"metric\": null, \"status\": \"Canceled\", \"run_type\": \"azureml.scriptrun\", \"training_percent\": \"100\", \"start_time\": \"2021-01-06T03:21:22.681104Z\", \"end_time\": \"2021-01-06T03:22:29.927191Z\", \"created_time\": \"2021-01-06T03:21:09.437171Z\", \"created_time_dt\": \"2021-01-06T03:21:09.437171Z\", \"duration\": \"0:01:20\", \"iteration\": \"32\", \"goal\": \"r2_score_max\", \"run_name\": \"SparseNormalizer, XGBoostRegressor\", \"run_properties\": \"<azureml.automl.runtime.shared.model_wrappers.SparseNormalizer object at 0x7fe4f4184dd8\", \"primary_metric\": 0.75591568, \"best_metric\": 0.99710291}, {\"run_id\": \"AutoML_65fb4522-a6ef-4b28-ac48-d2ceacc4be6d_33\", \"run_number\": 38, \"metric\": null, \"status\": \"Canceled\", \"run_type\": \"azureml.scriptrun\", \"training_percent\": \"100\", \"start_time\": \"2021-01-06T03:21:18.919839Z\", \"end_time\": \"2021-01-06T03:22:31.379961Z\", \"created_time\": \"2021-01-06T03:21:18.919839Z\", \"created_time_dt\": \"2021-01-06T03:21:18.919839Z\", \"duration\": \"0:01:12\", \"iteration\": \"33\", \"goal\": null, \"run_name\": \"Canceled\", \"run_properties\": null}, {\"run_id\": \"AutoML_65fb4522-a6ef-4b28-ac48-d2ceacc4be6d_34\", \"run_number\": 39, \"metric\": null, \"status\": \"Completed\", \"run_type\": \"azureml.scriptrun\", \"training_percent\": \"100\", \"start_time\": \"2021-01-06T03:22:51.0639Z\", \"end_time\": \"2021-01-06T03:24:23.951596Z\", \"created_time\": \"2021-01-06T03:22:36.862406Z\", \"created_time_dt\": \"2021-01-06T03:22:36.862406Z\", \"duration\": \"0:01:47\", \"iteration\": \"34\", \"goal\": \"r2_score_max\", \"run_name\": \"VotingEnsemble\", \"run_properties\": \"estimators=[('4',\\n                                          Pipeline(memory=None,\\n                                                   steps=[('standardscalerwrapper',\\n                                                           <azureml.automl.runtime.shared.model_wrappers.StandardScalerWrapper object at 0x7f93cd7e6860>\", \"primary_metric\": 0.99762828, \"best_metric\": 0.99762828}, {\"run_id\": \"AutoML_65fb4522-a6ef-4b28-ac48-d2ceacc4be6d_35\", \"run_number\": 40, \"metric\": null, \"status\": \"Completed\", \"run_type\": \"azureml.scriptrun\", \"training_percent\": \"100\", \"start_time\": \"2021-01-06T03:22:50.963298Z\", \"end_time\": \"2021-01-06T03:24:27.808448Z\", \"created_time\": \"2021-01-06T03:22:36.951265Z\", \"created_time_dt\": \"2021-01-06T03:22:36.951265Z\", \"duration\": \"0:01:50\", \"iteration\": \"35\", \"goal\": \"r2_score_max\", \"run_name\": \"StackEnsemble\", \"run_properties\": \"base_learners=[('4',\\n                                       Pipeline(memory=None,\\n                                                steps=[('standardscalerwrapper',\\n                                                        <azureml.automl.runtime.shared.model_wrappers.StandardScalerWrapper object at 0x7eff070c3940>\", \"primary_metric\": 0.99764013, \"best_metric\": 0.99764013}], \"children_metrics\": {\"categories\": [0], \"series\": {\"normalized_mean_absolute_error\": [{\"categories\": [\"0\", \"1\", \"2\", \"3\", \"4\", \"5\", \"6\", \"7\", \"8\", \"9\", \"10\", \"11\", \"12\", \"13\", \"14\", \"15\", \"16\", \"17\", \"18\", \"19\", \"20\", \"21\", \"22\", \"23\", \"24\", \"25\", \"27\", \"28\", \"29\", \"32\", \"34\", \"35\"], \"mode\": \"markers\", \"name\": \"normalized_mean_absolute_error\", \"stepped\": false, \"type\": \"scatter\", \"data\": [0.0051909044244647885, 0.005616381076481947, 0.01686433849519135, 0.008475309302455365, 0.0049757450520733736, 0.007320508595374454, 0.011129508749996157, 0.005150369941555855, 0.005931847905491665, 0.009396955824836723, 0.0647833055015943, 0.07150527323166339, 0.04211285893948474, 0.006341665123094587, 0.02467996196493125, 0.006281167565165249, 0.007866475339100147, 0.026251943783678917, 0.016310183187064817, 0.013140340365009032, 0.017298465606942676, 0.0076583980088290385, 0.007405126619464596, 0.00887843779916161, 0.005827983582864476, 0.04183581417474799, 0.01060050886483057, 0.008277762639482556, 0.01161497155662028, 0.0456226678994275, 0.00470830448822999, 0.004701197578137754]}, {\"categories\": [\"0\", \"1\", \"2\", \"3\", \"4\", \"5\", \"6\", \"7\", \"8\", \"9\", \"10\", \"11\", \"12\", \"13\", \"14\", \"15\", \"16\", \"17\", \"18\", \"19\", \"20\", \"21\", \"22\", \"23\", \"24\", \"25\", \"27\", \"28\", \"29\", \"32\", \"34\", \"35\"], \"mode\": \"lines\", \"name\": \"normalized_mean_absolute_error_min\", \"stepped\": true, \"type\": \"scatter\", \"data\": [0.0051909044244647885, 0.0051909044244647885, 0.0051909044244647885, 0.0051909044244647885, 0.0049757450520733736, 0.0049757450520733736, 0.0049757450520733736, 0.0049757450520733736, 0.0049757450520733736, 0.0049757450520733736, 0.0049757450520733736, 0.0049757450520733736, 0.0049757450520733736, 0.0049757450520733736, 0.0049757450520733736, 0.0049757450520733736, 0.0049757450520733736, 0.0049757450520733736, 0.0049757450520733736, 0.0049757450520733736, 0.0049757450520733736, 0.0049757450520733736, 0.0049757450520733736, 0.0049757450520733736, 0.0049757450520733736, 0.0049757450520733736, 0.0049757450520733736, 0.0049757450520733736, 0.0049757450520733736, 0.0049757450520733736, 0.00470830448822999, 0.004701197578137754]}], \"mean_absolute_percentage_error\": [{\"categories\": [\"0\", \"1\", \"2\", \"3\", \"4\", \"5\", \"6\", \"7\", \"8\", \"9\", \"10\", \"11\", \"12\", \"13\", \"14\", \"15\", \"16\", \"17\", \"18\", \"19\", \"20\", \"21\", \"22\", \"23\", \"24\", \"25\", \"27\", \"28\", \"29\", \"32\", \"34\", \"35\"], \"mode\": \"markers\", \"name\": \"mean_absolute_percentage_error\", \"stepped\": false, \"type\": \"scatter\", \"data\": [0.8565657925335676, 0.9001991261274204, 2.6799158705331334, 1.4721561315134555, 0.8148581519512305, 1.1892989214539993, 1.9116220591918307, 0.8394602581288216, 1.0258911098755534, 1.4509424587072821, 10.700774185116877, 11.779093440678233, 6.3507519743365775, 1.0728611790526232, 4.170018606160668, 1.088376298466504, 1.2613432180471607, 4.387855299988039, 2.735426683239956, 2.165627289215745, 2.9804034964310304, 1.2341426301440561, 1.2044811415090084, 1.4610765115980355, 0.9382324309900202, 6.307084821585313, 1.783736856456122, 1.3753844746705726, 1.9677882949253245, 7.57650735588263, 0.7598597120407392, 0.759912466013537]}, {\"categories\": [\"0\", \"1\", \"2\", \"3\", \"4\", \"5\", \"6\", \"7\", \"8\", \"9\", \"10\", \"11\", \"12\", \"13\", \"14\", \"15\", \"16\", \"17\", \"18\", \"19\", \"20\", \"21\", \"22\", \"23\", \"24\", \"25\", \"27\", \"28\", \"29\", \"32\", \"34\", \"35\"], \"mode\": \"lines\", \"name\": \"mean_absolute_percentage_error_min\", \"stepped\": true, \"type\": \"scatter\", \"data\": [0.8565657925335676, 0.8565657925335676, 0.8565657925335676, 0.8565657925335676, 0.8148581519512305, 0.8148581519512305, 0.8148581519512305, 0.8148581519512305, 0.8148581519512305, 0.8148581519512305, 0.8148581519512305, 0.8148581519512305, 0.8148581519512305, 0.8148581519512305, 0.8148581519512305, 0.8148581519512305, 0.8148581519512305, 0.8148581519512305, 0.8148581519512305, 0.8148581519512305, 0.8148581519512305, 0.8148581519512305, 0.8148581519512305, 0.8148581519512305, 0.8148581519512305, 0.8148581519512305, 0.8148581519512305, 0.8148581519512305, 0.8148581519512305, 0.8148581519512305, 0.7598597120407392, 0.7598597120407392]}], \"r2_score\": [{\"categories\": [\"0\", \"1\", \"2\", \"3\", \"4\", \"5\", \"6\", \"7\", \"8\", \"9\", \"10\", \"11\", \"12\", \"13\", \"14\", \"15\", \"16\", \"17\", \"18\", \"19\", \"20\", \"21\", \"22\", \"23\", \"24\", \"25\", \"27\", \"28\", \"29\", \"32\", \"34\", \"35\"], \"mode\": \"markers\", \"name\": \"r2_score\", \"stepped\": false, \"type\": \"scatter\", \"data\": [0.9964042323046903, 0.9967217167336977, 0.960546310250952, 0.9843375250639835, 0.9971029089182455, 0.9935388801690603, 0.9741481101071129, 0.996949277476365, 0.9929339916623023, 0.9893267406431613, 0.5315199168404675, 0.4408508738180729, 0.8739003963738178, 0.9933481905446988, 0.8970585764335203, 0.9916769226347055, 0.9926895063547808, 0.8927174716272889, 0.9571423562282072, 0.970229792147607, 0.9450768718826129, 0.9929997123409832, 0.9930321835300301, 0.9889307194042743, 0.9961961767677346, 0.8742699419376342, 0.9837801300957616, 0.9887537134863403, 0.9785544813259642, 0.7559156816132483, 0.9976282755624696, 0.9976401339553499]}, {\"categories\": [\"0\", \"1\", \"2\", \"3\", \"4\", \"5\", \"6\", \"7\", \"8\", \"9\", \"10\", \"11\", \"12\", \"13\", \"14\", \"15\", \"16\", \"17\", \"18\", \"19\", \"20\", \"21\", \"22\", \"23\", \"24\", \"25\", \"27\", \"28\", \"29\", \"32\", \"34\", \"35\"], \"mode\": \"lines\", \"name\": \"r2_score_max\", \"stepped\": true, \"type\": \"scatter\", \"data\": [0.9964042323046903, 0.9967217167336977, 0.9967217167336977, 0.9967217167336977, 0.9971029089182455, 0.9971029089182455, 0.9971029089182455, 0.9971029089182455, 0.9971029089182455, 0.9971029089182455, 0.9971029089182455, 0.9971029089182455, 0.9971029089182455, 0.9971029089182455, 0.9971029089182455, 0.9971029089182455, 0.9971029089182455, 0.9971029089182455, 0.9971029089182455, 0.9971029089182455, 0.9971029089182455, 0.9971029089182455, 0.9971029089182455, 0.9971029089182455, 0.9971029089182455, 0.9971029089182455, 0.9971029089182455, 0.9971029089182455, 0.9971029089182455, 0.9971029089182455, 0.9976282755624696, 0.9976401339553499]}], \"spearman_correlation\": [{\"categories\": [\"0\", \"1\", \"2\", \"3\", \"4\", \"5\", \"6\", \"7\", \"8\", \"9\", \"10\", \"11\", \"12\", \"13\", \"14\", \"15\", \"16\", \"17\", \"18\", \"19\", \"20\", \"21\", \"22\", \"23\", \"24\", \"25\", \"27\", \"28\", \"29\", \"32\", \"34\", \"35\"], \"mode\": \"markers\", \"name\": \"spearman_correlation\", \"stepped\": false, \"type\": \"scatter\", \"data\": [0.9984479319888745, 0.9983043131418556, 0.9818685858425176, 0.9960084502604305, 0.9986209858404335, 0.9979988367219712, 0.9935454571406649, 0.9985467272276859, 0.9981332358223369, 0.997740264574429, 0.8766451940966057, 0.8298951210523763, 0.9978249795628121, 0.9977549100403064, 0.9780942464832082, 0.9978245963396652, 0.997663554302667, 0.9699868650805251, 0.987857292272332, 0.9881150581982814, 0.9880515761980938, 0.9978002735750252, 0.9969891464458858, 0.9958556501636426, 0.9982146486502597, 0.9965611288029089, 0.9969926870873969, 0.9967840022016919, 0.9964710236335853, 0.898194972771097, 0.9987713646666502, 0.9987625843773339]}, {\"categories\": [\"0\", \"1\", \"2\", \"3\", \"4\", \"5\", \"6\", \"7\", \"8\", \"9\", \"10\", \"11\", \"12\", \"13\", \"14\", \"15\", \"16\", \"17\", \"18\", \"19\", \"20\", \"21\", \"22\", \"23\", \"24\", \"25\", \"27\", \"28\", \"29\", \"32\", \"34\", \"35\"], \"mode\": \"lines\", \"name\": \"spearman_correlation_max\", \"stepped\": true, \"type\": \"scatter\", \"data\": [0.9984479319888745, 0.9984479319888745, 0.9984479319888745, 0.9984479319888745, 0.9986209858404335, 0.9986209858404335, 0.9986209858404335, 0.9986209858404335, 0.9986209858404335, 0.9986209858404335, 0.9986209858404335, 0.9986209858404335, 0.9986209858404335, 0.9986209858404335, 0.9986209858404335, 0.9986209858404335, 0.9986209858404335, 0.9986209858404335, 0.9986209858404335, 0.9986209858404335, 0.9986209858404335, 0.9986209858404335, 0.9986209858404335, 0.9986209858404335, 0.9986209858404335, 0.9986209858404335, 0.9986209858404335, 0.9986209858404335, 0.9986209858404335, 0.9986209858404335, 0.9987713646666502, 0.9987713646666502]}], \"root_mean_squared_error\": [{\"categories\": [\"0\", \"1\", \"2\", \"3\", \"4\", \"5\", \"6\", \"7\", \"8\", \"9\", \"10\", \"11\", \"12\", \"13\", \"14\", \"15\", \"16\", \"17\", \"18\", \"19\", \"20\", \"21\", \"22\", \"23\", \"24\", \"25\", \"27\", \"28\", \"29\", \"32\", \"34\", \"35\"], \"mode\": \"markers\", \"name\": \"root_mean_squared_error\", \"stepped\": false, \"type\": \"scatter\", \"data\": [0.04820455315397185, 0.04599453090125963, 0.15968315088046178, 0.10061257728164962, 0.04326470034664336, 0.06461172308373195, 0.12924223225702355, 0.04436569875208122, 0.06756923259752019, 0.08305078623540281, 0.5502211432229372, 0.600974740023053, 0.2854609488661897, 0.06556727867005628, 0.2578808463201796, 0.07333161519948288, 0.06871945268684719, 0.2632533654418355, 0.16624277618961128, 0.13869840200874262, 0.18840582800457906, 0.06724942182505857, 0.06708637089469059, 0.08413816686206076, 0.049566417332596896, 0.2850092498648929, 0.10237873276929062, 0.08525847651374925, 0.11771323432769583, 0.3971484001234425, 0.03914488026361101, 0.03904249789365686]}, {\"categories\": [\"0\", \"1\", \"2\", \"3\", \"4\", \"5\", \"6\", \"7\", \"8\", \"9\", \"10\", \"11\", \"12\", \"13\", \"14\", \"15\", \"16\", \"17\", \"18\", \"19\", \"20\", \"21\", \"22\", \"23\", \"24\", \"25\", \"27\", \"28\", \"29\", \"32\", \"34\", \"35\"], \"mode\": \"lines\", \"name\": \"root_mean_squared_error_min\", \"stepped\": true, \"type\": \"scatter\", \"data\": [0.04820455315397185, 0.04599453090125963, 0.04599453090125963, 0.04599453090125963, 0.04326470034664336, 0.04326470034664336, 0.04326470034664336, 0.04326470034664336, 0.04326470034664336, 0.04326470034664336, 0.04326470034664336, 0.04326470034664336, 0.04326470034664336, 0.04326470034664336, 0.04326470034664336, 0.04326470034664336, 0.04326470034664336, 0.04326470034664336, 0.04326470034664336, 0.04326470034664336, 0.04326470034664336, 0.04326470034664336, 0.04326470034664336, 0.04326470034664336, 0.04326470034664336, 0.04326470034664336, 0.04326470034664336, 0.04326470034664336, 0.04326470034664336, 0.04326470034664336, 0.03914488026361101, 0.03904249789365686]}], \"normalized_root_mean_squared_error\": [{\"categories\": [\"0\", \"1\", \"2\", \"3\", \"4\", \"5\", \"6\", \"7\", \"8\", \"9\", \"10\", \"11\", \"12\", \"13\", \"14\", \"15\", \"16\", \"17\", \"18\", \"19\", \"20\", \"21\", \"22\", \"23\", \"24\", \"25\", \"27\", \"28\", \"29\", \"32\", \"34\", \"35\"], \"mode\": \"markers\", \"name\": \"normalized_root_mean_squared_error\", \"stepped\": false, \"type\": \"scatter\", \"data\": [0.007531961430308103, 0.007186645453321816, 0.02495049232507215, 0.015720715200257748, 0.006760109429163026, 0.010095581731833116, 0.020194098790159928, 0.006932140430012691, 0.010557692593362528, 0.012976685349281689, 0.08597205362858396, 0.09390230312860202, 0.044603273260342156, 0.010244887292196293, 0.04029388223752806, 0.011458064874919202, 0.010737414482319872, 0.04113333835028679, 0.02597543377962676, 0.02167162531386603, 0.029438410625715478, 0.0105077221601654, 0.010482245452295404, 0.013146588572196994, 0.007744752708218263, 0.044532695291389514, 0.01599667699520166, 0.013321636955273318, 0.018392692863702473, 0.06205443751928789, 0.006116387541189219, 0.006100390295883884]}, {\"categories\": [\"0\", \"1\", \"2\", \"3\", \"4\", \"5\", \"6\", \"7\", \"8\", \"9\", \"10\", \"11\", \"12\", \"13\", \"14\", \"15\", \"16\", \"17\", \"18\", \"19\", \"20\", \"21\", \"22\", \"23\", \"24\", \"25\", \"27\", \"28\", \"29\", \"32\", \"34\", \"35\"], \"mode\": \"lines\", \"name\": \"normalized_root_mean_squared_error_min\", \"stepped\": true, \"type\": \"scatter\", \"data\": [0.007531961430308103, 0.007186645453321816, 0.007186645453321816, 0.007186645453321816, 0.006760109429163026, 0.006760109429163026, 0.006760109429163026, 0.006760109429163026, 0.006760109429163026, 0.006760109429163026, 0.006760109429163026, 0.006760109429163026, 0.006760109429163026, 0.006760109429163026, 0.006760109429163026, 0.006760109429163026, 0.006760109429163026, 0.006760109429163026, 0.006760109429163026, 0.006760109429163026, 0.006760109429163026, 0.006760109429163026, 0.006760109429163026, 0.006760109429163026, 0.006760109429163026, 0.006760109429163026, 0.006760109429163026, 0.006760109429163026, 0.006760109429163026, 0.006760109429163026, 0.006116387541189219, 0.006100390295883884]}], \"normalized_root_mean_squared_log_error\": [{\"categories\": [\"0\", \"1\", \"2\", \"3\", \"4\", \"5\", \"6\", \"7\", \"8\", \"9\", \"10\", \"11\", \"12\", \"13\", \"14\", \"15\", \"16\", \"17\", \"18\", \"19\", \"20\", \"21\", \"22\", \"23\", \"24\", \"25\", \"27\", \"28\", \"29\", \"32\", \"34\", \"35\"], \"mode\": \"markers\", \"name\": \"normalized_root_mean_squared_log_error\", \"stepped\": false, \"type\": \"scatter\", \"data\": [0.008036447445188373, 0.007029855029776745, 0.023610203166804584, 0.017627364122748224, 0.00715225500162433, 0.01058858610273297, 0.02139321675433489, 0.007278966499892657, 0.012337957213813344, 0.011937410255691186, 0.08263563790979674, 0.08974693937253268, 0.040603176200969114, 0.01154828375806497, 0.040288714538846145, 0.013279871343017008, 0.010836076418332894, 0.04040877337214436, 0.026663357025048195, 0.02135923349343455, 0.030857949890757047, 0.010753029788628151, 0.010851000109890275, 0.013639901213124467, 0.0077640397653797886, 0.040760170070083264, 0.017198625471038644, 0.014063907138096977, 0.0196463742888761, 0.061024541948037546, 0.006169262373883101, 0.006172777902969669]}, {\"categories\": [\"0\", \"1\", \"2\", \"3\", \"4\", \"5\", \"6\", \"7\", \"8\", \"9\", \"10\", \"11\", \"12\", \"13\", \"14\", \"15\", \"16\", \"17\", \"18\", \"19\", \"20\", \"21\", \"22\", \"23\", \"24\", \"25\", \"27\", \"28\", \"29\", \"32\", \"34\", \"35\"], \"mode\": \"lines\", \"name\": \"normalized_root_mean_squared_log_error_min\", \"stepped\": true, \"type\": \"scatter\", \"data\": [0.008036447445188373, 0.007029855029776745, 0.007029855029776745, 0.007029855029776745, 0.007029855029776745, 0.007029855029776745, 0.007029855029776745, 0.007029855029776745, 0.007029855029776745, 0.007029855029776745, 0.007029855029776745, 0.007029855029776745, 0.007029855029776745, 0.007029855029776745, 0.007029855029776745, 0.007029855029776745, 0.007029855029776745, 0.007029855029776745, 0.007029855029776745, 0.007029855029776745, 0.007029855029776745, 0.007029855029776745, 0.007029855029776745, 0.007029855029776745, 0.007029855029776745, 0.007029855029776745, 0.007029855029776745, 0.007029855029776745, 0.007029855029776745, 0.007029855029776745, 0.006169262373883101, 0.006169262373883101]}], \"mean_absolute_error\": [{\"categories\": [\"0\", \"1\", \"2\", \"3\", \"4\", \"5\", \"6\", \"7\", \"8\", \"9\", \"10\", \"11\", \"12\", \"13\", \"14\", \"15\", \"16\", \"17\", \"18\", \"19\", \"20\", \"21\", \"22\", \"23\", \"24\", \"25\", \"27\", \"28\", \"29\", \"32\", \"34\", \"35\"], \"mode\": \"markers\", \"name\": \"mean_absolute_error\", \"stepped\": false, \"type\": \"scatter\", \"data\": [0.033221788316574644, 0.035944838889484465, 0.10793176636922464, 0.05424197953571434, 0.031844768333269595, 0.0468512550103965, 0.0712288559999754, 0.03296236762595747, 0.03796382659514666, 0.06014051727895503, 0.4146131552102035, 0.45763374868264567, 0.2695222972127023, 0.04058665678780537, 0.15795175657556002, 0.0401994724170576, 0.05034544217024093, 0.16801244021554507, 0.10438517239721486, 0.08409817833605782, 0.11071017988443314, 0.04901374725650585, 0.047392810364573414, 0.05682200191463432, 0.03729909493033264, 0.26774921071838714, 0.06784325673491565, 0.05297768089268837, 0.0743358179623698, 0.2919850745563361, 0.030133148724671946, 0.030087664500081625]}, {\"categories\": [\"0\", \"1\", \"2\", \"3\", \"4\", \"5\", \"6\", \"7\", \"8\", \"9\", \"10\", \"11\", \"12\", \"13\", \"14\", \"15\", \"16\", \"17\", \"18\", \"19\", \"20\", \"21\", \"22\", \"23\", \"24\", \"25\", \"27\", \"28\", \"29\", \"32\", \"34\", \"35\"], \"mode\": \"lines\", \"name\": \"mean_absolute_error_min\", \"stepped\": true, \"type\": \"scatter\", \"data\": [0.033221788316574644, 0.033221788316574644, 0.033221788316574644, 0.033221788316574644, 0.031844768333269595, 0.031844768333269595, 0.031844768333269595, 0.031844768333269595, 0.031844768333269595, 0.031844768333269595, 0.031844768333269595, 0.031844768333269595, 0.031844768333269595, 0.031844768333269595, 0.031844768333269595, 0.031844768333269595, 0.031844768333269595, 0.031844768333269595, 0.031844768333269595, 0.031844768333269595, 0.031844768333269595, 0.031844768333269595, 0.031844768333269595, 0.031844768333269595, 0.031844768333269595, 0.031844768333269595, 0.031844768333269595, 0.031844768333269595, 0.031844768333269595, 0.031844768333269595, 0.030133148724671946, 0.030087664500081625]}], \"median_absolute_error\": [{\"categories\": [\"0\", \"1\", \"2\", \"3\", \"4\", \"5\", \"6\", \"7\", \"8\", \"9\", \"10\", \"11\", \"12\", \"13\", \"14\", \"15\", \"16\", \"17\", \"18\", \"19\", \"20\", \"21\", \"22\", \"23\", \"24\", \"25\", \"27\", \"28\", \"29\", \"32\", \"34\", \"35\"], \"mode\": \"markers\", \"name\": \"median_absolute_error\", \"stepped\": false, \"type\": \"scatter\", \"data\": [0.02719432567446926, 0.03005612691243494, 0.07609256108601888, 0.03523761459535583, 0.026636870702107702, 0.03520820216243781, 0.04407011308297785, 0.027713696161905926, 0.02871500989088675, 0.04501190914240557, 0.31406295344854, 0.3548671967802976, 0.26474056243896493, 0.03077289916710842, 0.09520499941203593, 0.02925246228663858, 0.038058612227803046, 0.10766080143276247, 0.0705053604684845, 0.05355079968770345, 0.06529374458552269, 0.037301694962041575, 0.03730489088079928, 0.04286656422040358, 0.030761893590291134, 0.26609760125478116, 0.04939761767079087, 0.038017999079109556, 0.05132519137800832, 0.21433617273966465, 0.026209958861374227, 0.02621277846742953]}, {\"categories\": [\"0\", \"1\", \"2\", \"3\", \"4\", \"5\", \"6\", \"7\", \"8\", \"9\", \"10\", \"11\", \"12\", \"13\", \"14\", \"15\", \"16\", \"17\", \"18\", \"19\", \"20\", \"21\", \"22\", \"23\", \"24\", \"25\", \"27\", \"28\", \"29\", \"32\", \"34\", \"35\"], \"mode\": \"lines\", \"name\": \"median_absolute_error_min\", \"stepped\": true, \"type\": \"scatter\", \"data\": [0.02719432567446926, 0.02719432567446926, 0.02719432567446926, 0.02719432567446926, 0.026636870702107702, 0.026636870702107702, 0.026636870702107702, 0.026636870702107702, 0.026636870702107702, 0.026636870702107702, 0.026636870702107702, 0.026636870702107702, 0.026636870702107702, 0.026636870702107702, 0.026636870702107702, 0.026636870702107702, 0.026636870702107702, 0.026636870702107702, 0.026636870702107702, 0.026636870702107702, 0.026636870702107702, 0.026636870702107702, 0.026636870702107702, 0.026636870702107702, 0.026636870702107702, 0.026636870702107702, 0.026636870702107702, 0.026636870702107702, 0.026636870702107702, 0.026636870702107702, 0.026209958861374227, 0.026209958861374227]}], \"normalized_median_absolute_error\": [{\"categories\": [\"0\", \"1\", \"2\", \"3\", \"4\", \"5\", \"6\", \"7\", \"8\", \"9\", \"10\", \"11\", \"12\", \"13\", \"14\", \"15\", \"16\", \"17\", \"18\", \"19\", \"20\", \"21\", \"22\", \"23\", \"24\", \"25\", \"27\", \"28\", \"29\", \"32\", \"34\", \"35\"], \"mode\": \"markers\", \"name\": \"normalized_median_absolute_error\", \"stepped\": false, \"type\": \"scatter\", \"data\": [0.004249113386635822, 0.004696269830067959, 0.01188946266969045, 0.005505877280524349, 0.004162011047204328, 0.005501281587880907, 0.006885955169215289, 0.004330265025297801, 0.004486720295451055, 0.0070331108035008695, 0.04907233647633438, 0.055447999496921495, 0.04136571288108827, 0.0048082654948606906, 0.014875781158130616, 0.004570697232287278, 0.005946658160594226, 0.016822000223869135, 0.011016462573200705, 0.008367312451203665, 0.010202147591487921, 0.005828389837818995, 0.005828889200124888, 0.006697900659438059, 0.00480654587348299, 0.04157775019605956, 0.007718377761061074, 0.005940312356110869, 0.0080195611528138, 0.0334900269905726, 0.004095306072089723, 0.004095746635535864]}, {\"categories\": [\"0\", \"1\", \"2\", \"3\", \"4\", \"5\", \"6\", \"7\", \"8\", \"9\", \"10\", \"11\", \"12\", \"13\", \"14\", \"15\", \"16\", \"17\", \"18\", \"19\", \"20\", \"21\", \"22\", \"23\", \"24\", \"25\", \"27\", \"28\", \"29\", \"32\", \"34\", \"35\"], \"mode\": \"lines\", \"name\": \"normalized_median_absolute_error_min\", \"stepped\": true, \"type\": \"scatter\", \"data\": [0.004249113386635822, 0.004249113386635822, 0.004249113386635822, 0.004249113386635822, 0.004162011047204328, 0.004162011047204328, 0.004162011047204328, 0.004162011047204328, 0.004162011047204328, 0.004162011047204328, 0.004162011047204328, 0.004162011047204328, 0.004162011047204328, 0.004162011047204328, 0.004162011047204328, 0.004162011047204328, 0.004162011047204328, 0.004162011047204328, 0.004162011047204328, 0.004162011047204328, 0.004162011047204328, 0.004162011047204328, 0.004162011047204328, 0.004162011047204328, 0.004162011047204328, 0.004162011047204328, 0.004162011047204328, 0.004162011047204328, 0.004162011047204328, 0.004162011047204328, 0.004095306072089723, 0.004095306072089723]}], \"explained_variance\": [{\"categories\": [\"0\", \"1\", \"2\", \"3\", \"4\", \"5\", \"6\", \"7\", \"8\", \"9\", \"10\", \"11\", \"12\", \"13\", \"14\", \"15\", \"16\", \"17\", \"18\", \"19\", \"20\", \"21\", \"22\", \"23\", \"24\", \"25\", \"27\", \"28\", \"29\", \"32\", \"34\", \"35\"], \"mode\": \"markers\", \"name\": \"explained_variance\", \"stepped\": false, \"type\": \"scatter\", \"data\": [0.9964064503117895, 0.9967232398679648, 0.9605665552084502, 0.9843396705179369, 0.997104263478105, 0.9935446234249566, 0.9741553811697364, 0.9969512095193988, 0.9929346032130124, 0.9893353722756921, 0.5317848229368333, 0.44118079671476096, 0.9856001831244136, 0.9933490061006894, 0.8970879907799016, 0.991677421429738, 0.9926959578508999, 0.8927448720272579, 0.9571622774429634, 0.9703350116376463, 0.9450978293126098, 0.9930056909440096, 0.9930363956108904, 0.9889319195080389, 0.9961970366281574, 0.9834282846234422, 0.9837834765266532, 0.9887573704379596, 0.978559960423329, 0.7561461651642126, 0.9976298765133911, 0.9976431520210984]}, {\"categories\": [\"0\", \"1\", \"2\", \"3\", \"4\", \"5\", \"6\", \"7\", \"8\", \"9\", \"10\", \"11\", \"12\", \"13\", \"14\", \"15\", \"16\", \"17\", \"18\", \"19\", \"20\", \"21\", \"22\", \"23\", \"24\", \"25\", \"27\", \"28\", \"29\", \"32\", \"34\", \"35\"], \"mode\": \"lines\", \"name\": \"explained_variance_max\", \"stepped\": true, \"type\": \"scatter\", \"data\": [0.9964064503117895, 0.9967232398679648, 0.9967232398679648, 0.9967232398679648, 0.997104263478105, 0.997104263478105, 0.997104263478105, 0.997104263478105, 0.997104263478105, 0.997104263478105, 0.997104263478105, 0.997104263478105, 0.997104263478105, 0.997104263478105, 0.997104263478105, 0.997104263478105, 0.997104263478105, 0.997104263478105, 0.997104263478105, 0.997104263478105, 0.997104263478105, 0.997104263478105, 0.997104263478105, 0.997104263478105, 0.997104263478105, 0.997104263478105, 0.997104263478105, 0.997104263478105, 0.997104263478105, 0.997104263478105, 0.9976298765133911, 0.9976431520210984]}], \"root_mean_squared_log_error\": [{\"categories\": [\"0\", \"1\", \"2\", \"3\", \"4\", \"5\", \"6\", \"7\", \"8\", \"9\", \"10\", \"11\", \"12\", \"13\", \"14\", \"15\", \"16\", \"17\", \"18\", \"19\", \"20\", \"21\", \"22\", \"23\", \"24\", \"25\", \"27\", \"28\", \"29\", \"32\", \"34\", \"35\"], \"mode\": \"markers\", \"name\": \"root_mean_squared_log_error\", \"stepped\": false, \"type\": \"scatter\", \"data\": [0.010691801409600908, 0.009352616865759302, 0.03141134253928889, 0.023451690297307762, 0.009515459489998533, 0.014087202161281266, 0.028461832993985827, 0.009684038228929883, 0.016414589808488835, 0.015881696566708733, 0.10993960153577853, 0.11940057586827414, 0.054019030112579795, 0.01536399726434796, 0.05360066594541724, 0.01766772546115491, 0.01441646671794531, 0.053760393886382186, 0.03547330087945599, 0.02841662119122407, 0.04105384554426797, 0.014305980327211629, 0.014436321404673236, 0.01814671420574231, 0.01032938644517439, 0.05422789693869192, 0.02288129043443758, 0.018710817583163692, 0.026137809492068276, 0.0811878990151206, 0.008207672431774995, 0.008212349540547198]}, {\"categories\": [\"0\", \"1\", \"2\", \"3\", \"4\", \"5\", \"6\", \"7\", \"8\", \"9\", \"10\", \"11\", \"12\", \"13\", \"14\", \"15\", \"16\", \"17\", \"18\", \"19\", \"20\", \"21\", \"22\", \"23\", \"24\", \"25\", \"27\", \"28\", \"29\", \"32\", \"34\", \"35\"], \"mode\": \"lines\", \"name\": \"root_mean_squared_log_error_min\", \"stepped\": true, \"type\": \"scatter\", \"data\": [0.010691801409600908, 0.009352616865759302, 0.009352616865759302, 0.009352616865759302, 0.009352616865759302, 0.009352616865759302, 0.009352616865759302, 0.009352616865759302, 0.009352616865759302, 0.009352616865759302, 0.009352616865759302, 0.009352616865759302, 0.009352616865759302, 0.009352616865759302, 0.009352616865759302, 0.009352616865759302, 0.009352616865759302, 0.009352616865759302, 0.009352616865759302, 0.009352616865759302, 0.009352616865759302, 0.009352616865759302, 0.009352616865759302, 0.009352616865759302, 0.009352616865759302, 0.009352616865759302, 0.009352616865759302, 0.009352616865759302, 0.009352616865759302, 0.009352616865759302, 0.008207672431774995, 0.008207672431774995]}]}, \"metricName\": null, \"primaryMetricName\": \"r2_score\", \"showLegend\": false}, \"run_metrics\": [{\"name\": \"experiment_status\", \"run_id\": \"AutoML_65fb4522-a6ef-4b28-ac48-d2ceacc4be6d\", \"categories\": [0, 1, 2, 3, 4, 5, 6, 7, 8, 9, 10, 11, 12, 13], \"series\": [{\"data\": [\"DatasetEvaluation\", \"FeaturesGeneration\", \"DatasetFeaturization\", \"DatasetFeaturizationCompleted\", \"DatasetCrossValidationSplit\", \"ModelSelection\", \"BestRunExplainModel\", \"ModelExplanationDataSetSetup\", \"PickSurrogateModel\", \"EngineeredFeatureExplanations\", \"EngineeredFeatureExplanations\", \"RawFeaturesExplanations\", \"RawFeaturesExplanations\", \"BestRunExplainModel\"]}]}, {\"name\": \"experiment_status_description\", \"run_id\": \"AutoML_65fb4522-a6ef-4b28-ac48-d2ceacc4be6d\", \"categories\": [0, 1, 2, 3, 4, 5, 6, 7, 8, 9, 10, 11, 12, 13], \"series\": [{\"data\": [\"Gathering dataset statistics.\", \"Generating features for the dataset.\", \"Beginning to fit featurizers and featurize the dataset.\", \"Completed fit featurizers and featurizing the dataset.\", \"Generating individually featurized CV splits.\", \"Beginning model selection.\", \"Best run model explanations started\", \"Model explanations data setup completed\", \"Choosing LinearModel as the surrogate model for explanations\", \"Computation of engineered features started\", \"Computation of engineered features completed\", \"Computation of raw features started\", \"Computation of raw features completed\", \"Best run model explanations completed\"]}]}, {\"name\": \"spearman_correlation\", \"run_id\": \"AutoML_65fb4522-a6ef-4b28-ac48-d2ceacc4be6d\", \"categories\": [0], \"series\": [{\"data\": [0.9987625843773339]}]}, {\"name\": \"explained_variance\", \"run_id\": \"AutoML_65fb4522-a6ef-4b28-ac48-d2ceacc4be6d\", \"categories\": [0], \"series\": [{\"data\": [0.9976431520210984]}]}, {\"name\": \"median_absolute_error\", \"run_id\": \"AutoML_65fb4522-a6ef-4b28-ac48-d2ceacc4be6d\", \"categories\": [0], \"series\": [{\"data\": [0.02621277846742953]}]}, {\"name\": \"mean_absolute_error\", \"run_id\": \"AutoML_65fb4522-a6ef-4b28-ac48-d2ceacc4be6d\", \"categories\": [0], \"series\": [{\"data\": [0.030087664500081625]}]}, {\"name\": \"normalized_median_absolute_error\", \"run_id\": \"AutoML_65fb4522-a6ef-4b28-ac48-d2ceacc4be6d\", \"categories\": [0], \"series\": [{\"data\": [0.004095746635535864]}]}, {\"name\": \"normalized_mean_absolute_error\", \"run_id\": \"AutoML_65fb4522-a6ef-4b28-ac48-d2ceacc4be6d\", \"categories\": [0], \"series\": [{\"data\": [0.004701197578137754]}]}, {\"name\": \"root_mean_squared_error\", \"run_id\": \"AutoML_65fb4522-a6ef-4b28-ac48-d2ceacc4be6d\", \"categories\": [0], \"series\": [{\"data\": [0.03904249789365686]}]}, {\"name\": \"normalized_root_mean_squared_log_error\", \"run_id\": \"AutoML_65fb4522-a6ef-4b28-ac48-d2ceacc4be6d\", \"categories\": [0], \"series\": [{\"data\": [0.006172777902969669]}]}, {\"name\": \"normalized_root_mean_squared_error\", \"run_id\": \"AutoML_65fb4522-a6ef-4b28-ac48-d2ceacc4be6d\", \"categories\": [0], \"series\": [{\"data\": [0.006100390295883884]}]}, {\"name\": \"mean_absolute_percentage_error\", \"run_id\": \"AutoML_65fb4522-a6ef-4b28-ac48-d2ceacc4be6d\", \"categories\": [0], \"series\": [{\"data\": [0.759912466013537]}]}, {\"name\": \"r2_score\", \"run_id\": \"AutoML_65fb4522-a6ef-4b28-ac48-d2ceacc4be6d\", \"categories\": [0], \"series\": [{\"data\": [0.9976401339553499]}]}, {\"name\": \"root_mean_squared_log_error\", \"run_id\": \"AutoML_65fb4522-a6ef-4b28-ac48-d2ceacc4be6d\", \"categories\": [0], \"series\": [{\"data\": [0.008212349540547198]}]}], \"run_logs\": \"\\nRun is completed.\", \"graph\": {}, \"widget_settings\": {\"childWidgetDisplay\": \"popup\", \"send_telemetry\": false, \"log_level\": \"INFO\", \"sdk_version\": \"1.19.0\"}, \"loading\": false}"
          },
          "metadata": {}
        },
        {
          "output_type": "stream",
          "name": "stdout",
          "text": [
            "\n",
            "\n",
            "****************************************************************************************************\n",
            "DATA GUARDRAILS: \n",
            "\n",
            "TYPE:         Cross validation\n",
            "STATUS:       DONE\n",
            "DESCRIPTION:  Each iteration of the trained model was validated through cross-validation.\n",
            "              \n",
            "DETAILS:      \n",
            "+---------------------------------+\n",
            "|Number of folds                  |\n",
            "+=================================+\n",
            "|3                                |\n",
            "+---------------------------------+\n",
            "\n",
            "****************************************************************************************************\n",
            "\n",
            "TYPE:         Missing feature values imputation\n",
            "STATUS:       PASSED\n",
            "DESCRIPTION:  No feature missing values were detected in the training data.\n",
            "              Learn more about missing value imputation: https://aka.ms/AutomatedMLFeaturization\n",
            "\n",
            "****************************************************************************************************\n",
            "\n",
            "TYPE:         High cardinality feature detection\n",
            "STATUS:       DONE\n",
            "DESCRIPTION:  High cardinality features were detected in your inputs and handled.\n",
            "              Learn more about high cardinality feature handling: https://aka.ms/AutomatedMLFeaturization\n",
            "DETAILS:      High cardinality features refer to columns that contain a large percentage of unique values.\n",
            "+---------------------------------+---------------------------------+\n",
            "|Column name                      |Column Content Type              |\n",
            "+=================================+=================================+\n",
            "|Nome_Municipio                   |categorical_hash                 |\n",
            "|Nome_Escola                      |text                             |\n",
            "|TAprov2019_1_serie               |categorical_hash                 |\n",
            "|TAprov2019_2_serie               |categorical_hash                 |\n",
            "+---------------------------------+---------------------------------+\n",
            "\n",
            "****************************************************************************************************\n",
            "\n",
            "****************************************************************************************************\n",
            "ITERATION: The iteration being evaluated.\n",
            "PIPELINE: A summary description of the pipeline being evaluated.\n",
            "DURATION: Time taken for the current iteration.\n",
            "METRIC: The result of computing score on the fitted pipeline.\n",
            "BEST: The best observed score thus far.\n",
            "****************************************************************************************************\n",
            "\n",
            " ITERATION   PIPELINE                                       DURATION      METRIC      BEST\n",
            "         0   MaxAbsScaler LightGBM                          0:05:44       0.9964    0.9964\n",
            "         1   MaxAbsScaler XGBoostRegressor                  0:06:02       0.9967    0.9967\n",
            "         2   SparseNormalizer XGBoostRegressor              0:03:22       0.9605    0.9967\n",
            "         3   MaxAbsScaler RandomForest                      0:14:30       0.9843    0.9967\n",
            "         4   StandardScalerWrapper XGBoostRegressor         0:03:22       0.9971    0.9971\n",
            "         5   MaxAbsScaler ElasticNet                        0:05:48       0.9935    0.9971\n",
            "         6   MaxAbsScaler RandomForest                      0:11:29       0.9741    0.9971\n",
            "         7   StandardScalerWrapper XGBoostRegressor         0:02:19       0.9969    0.9971\n",
            "         8   MaxAbsScaler ExtremeRandomTrees                0:06:40       0.9929    0.9971\n",
            "         9   StandardScalerWrapper ElasticNet               0:05:06       0.9893    0.9971\n",
            "        10   MaxAbsScaler RandomForest                      0:02:29       0.5315    0.9971\n",
            "        11   MaxAbsScaler RandomForest                      0:00:51       0.4409    0.9971\n",
            "        12   StandardScalerWrapper XGBoostRegressor         0:01:14       0.8739    0.9971\n",
            "        13   MaxAbsScaler ExtremeRandomTrees                0:01:30       0.9933    0.9971\n",
            "        14   MaxAbsScaler ExtremeRandomTrees                0:01:18       0.8971    0.9971\n",
            "        15   MaxAbsScaler ExtremeRandomTrees                0:05:36       0.9917    0.9971\n",
            "        16   MaxAbsScaler ElasticNet                        0:03:30       0.9927    0.9971\n",
            "        17   MaxAbsScaler RandomForest                      0:00:58       0.8927    0.9971\n",
            "        18   MaxAbsScaler RandomForest                      0:00:57       0.9571    0.9971\n",
            "        19   SparseNormalizer XGBoostRegressor              0:05:50       0.9702    0.9971\n",
            "        20   StandardScalerWrapper RandomForest             0:02:55       0.9451    0.9971\n",
            "        21   MaxAbsScaler ElasticNet                        0:03:35       0.9930    0.9971\n",
            "        22   MaxAbsScaler LightGBM                          0:00:53       0.9930    0.9971\n",
            "        23   StandardScalerWrapper LightGBM                 0:00:59       0.9889    0.9971\n",
            "        24   StandardScalerWrapper XGBoostRegressor         0:01:34       0.9962    0.9971\n",
            "        25   StandardScalerWrapper XGBoostRegressor         0:01:10       0.8743    0.9971\n",
            "        26   StandardScalerWrapper ElasticNet               0:02:41          nan    0.9971\n",
            "        27   MaxAbsScaler LightGBM                          0:00:45       0.9838    0.9971\n",
            "        28   StandardScalerWrapper LightGBM                 0:00:52       0.9888    0.9971\n",
            "        29   MaxAbsScaler LightGBM                          0:00:44       0.9786    0.9971\n",
            "        30   SparseNormalizer XGBoostRegressor              0:01:39          nan    0.9971\n",
            "        31   StandardScalerWrapper XGBoostRegressor         0:01:14          nan    0.9971\n",
            "        32   SparseNormalizer XGBoostRegressor              0:01:07       0.7559    0.9971\n",
            "        33                                                  0:01:12          nan    0.9971\n",
            "        34    VotingEnsemble                                0:01:33       0.9976    0.9976\n",
            "        35    StackEnsemble                                 0:01:37       0.9976    0.9976\n"
          ]
        },
        {
          "output_type": "execute_result",
          "execution_count": 14,
          "data": {
            "text/plain": "{'runId': 'AutoML_65fb4522-a6ef-4b28-ac48-d2ceacc4be6d',\n 'target': 'auto-ml',\n 'status': 'Completed',\n 'startTimeUtc': '2021-01-06T02:40:42.823067Z',\n 'endTimeUtc': '2021-01-06T03:24:38.474123Z',\n 'properties': {'num_iterations': '1000',\n  'training_type': 'TrainFull',\n  'acquisition_function': 'EI',\n  'primary_metric': 'r2_score',\n  'train_split': '0',\n  'acquisition_parameter': '0',\n  'num_cross_validation': None,\n  'target': 'auto-ml',\n  'AMLSettingsJsonString': '{\"path\":null,\"name\":\"ideb-experiment\",\"subscription_id\":\"a748a023-896b-4719-8f8e-3d1ba62d6e35\",\"resource_group\":\"RG-AZML\",\"workspace_name\":\"AZML\",\"region\":\"eastus\",\"compute_target\":\"auto-ml\",\"spark_service\":null,\"azure_service\":\"remote\",\"many_models\":false,\"pipeline_fetch_max_batch_size\":1,\"iterations\":1000,\"primary_metric\":\"r2_score\",\"task_type\":\"regression\",\"data_script\":null,\"validation_size\":0.0,\"n_cross_validations\":null,\"y_min\":null,\"y_max\":null,\"num_classes\":null,\"featurization\":\"auto\",\"_ignore_package_version_incompatibilities\":false,\"is_timeseries\":false,\"max_cores_per_iteration\":1,\"max_concurrent_iterations\":5,\"iteration_timeout_minutes\":null,\"mem_in_mb\":null,\"enforce_time_on_windows\":false,\"experiment_timeout_minutes\":30,\"experiment_exit_score\":null,\"whitelist_models\":null,\"blacklist_algos\":[\"TensorFlowDNN\",\"TensorFlowLinearRegressor\"],\"supported_models\":[\"OnlineGradientDescentRegressor\",\"ElasticNet\",\"LightGBM\",\"TensorFlowLinearRegressor\",\"LassoLars\",\"SGD\",\"GradientBoosting\",\"TensorFlowDNN\",\"XGBoostRegressor\",\"FastLinearRegressor\",\"ExtremeRandomTrees\",\"KNN\",\"RandomForest\",\"DecisionTree\"],\"auto_blacklist\":true,\"blacklist_samples_reached\":false,\"exclude_nan_labels\":true,\"verbosity\":20,\"_debug_log\":\"azureml_automl.log\",\"show_warnings\":false,\"model_explainability\":true,\"service_url\":null,\"sdk_url\":null,\"sdk_packages\":null,\"enable_onnx_compatible_models\":false,\"enable_split_onnx_featurizer_estimator_models\":false,\"vm_type\":\"STANDARD_D2_V2\",\"telemetry_verbosity\":20,\"send_telemetry\":true,\"enable_dnn\":false,\"scenario\":\"SDK-1.13.0\",\"environment_label\":null,\"force_text_dnn\":false,\"enable_feature_sweeping\":true,\"enable_early_stopping\":true,\"early_stopping_n_iters\":10,\"metrics\":null,\"enable_ensembling\":true,\"enable_stack_ensembling\":true,\"ensemble_iterations\":15,\"enable_tf\":false,\"enable_subsampling\":null,\"subsample_seed\":null,\"enable_nimbusml\":false,\"enable_streaming\":false,\"force_streaming\":false,\"track_child_runs\":true,\"allowed_private_models\":[],\"label_column_name\":\"IDEB_2019\",\"weight_column_name\":null,\"cv_split_column_names\":null,\"enable_local_managed\":false,\"_local_managed_run_id\":null,\"cost_mode\":1,\"lag_length\":0,\"metric_operation\":\"maximize\",\"preprocess\":true}',\n  'DataPrepJsonString': '{\\\\\"training_data\\\\\": \\\\\"{\\\\\\\\\\\\\"blocks\\\\\\\\\\\\\": [{\\\\\\\\\\\\\"id\\\\\\\\\\\\\": \\\\\\\\\\\\\"9b8c3907-edd6-457a-b452-95089bae425e\\\\\\\\\\\\\", \\\\\\\\\\\\\"type\\\\\\\\\\\\\": \\\\\\\\\\\\\"Microsoft.DPrep.GetDatastoreFilesBlock\\\\\\\\\\\\\", \\\\\\\\\\\\\"arguments\\\\\\\\\\\\\": {\\\\\\\\\\\\\"datastores\\\\\\\\\\\\\": [{\\\\\\\\\\\\\"datastoreName\\\\\\\\\\\\\": \\\\\\\\\\\\\"workspaceblobstore\\\\\\\\\\\\\", \\\\\\\\\\\\\"path\\\\\\\\\\\\\": \\\\\\\\\\\\\"UI/01-06-2021_015830_UTC/DATASET_IDEB_ensino_medio_escolas_2019.txt\\\\\\\\\\\\\", \\\\\\\\\\\\\"resourceGroup\\\\\\\\\\\\\": \\\\\\\\\\\\\"RG-AZML\\\\\\\\\\\\\", \\\\\\\\\\\\\"subscription\\\\\\\\\\\\\": \\\\\\\\\\\\\"a748a023-896b-4719-8f8e-3d1ba62d6e35\\\\\\\\\\\\\", \\\\\\\\\\\\\"workspaceName\\\\\\\\\\\\\": \\\\\\\\\\\\\"AZML\\\\\\\\\\\\\"}]}, \\\\\\\\\\\\\"localData\\\\\\\\\\\\\": {}, \\\\\\\\\\\\\"isEnabled\\\\\\\\\\\\\": true, \\\\\\\\\\\\\"name\\\\\\\\\\\\\": null, \\\\\\\\\\\\\"annotation\\\\\\\\\\\\\": null}, {\\\\\\\\\\\\\"id\\\\\\\\\\\\\": \\\\\\\\\\\\\"62c2e309-5d8c-4574-99bf-22fcd4e27162\\\\\\\\\\\\\", \\\\\\\\\\\\\"type\\\\\\\\\\\\\": \\\\\\\\\\\\\"Microsoft.DPrep.ParseDelimitedBlock\\\\\\\\\\\\\", \\\\\\\\\\\\\"arguments\\\\\\\\\\\\\": {\\\\\\\\\\\\\"columnHeadersMode\\\\\\\\\\\\\": 1, \\\\\\\\\\\\\"fileEncoding\\\\\\\\\\\\\": 1, \\\\\\\\\\\\\"handleQuotedLineBreaks\\\\\\\\\\\\\": false, \\\\\\\\\\\\\"preview\\\\\\\\\\\\\": false, \\\\\\\\\\\\\"separator\\\\\\\\\\\\\": \\\\\\\\\\\\\"\\\\\\\\\\\\\\\\t\\\\\\\\\\\\\", \\\\\\\\\\\\\"skipRows\\\\\\\\\\\\\": 0, \\\\\\\\\\\\\"skipRowsMode\\\\\\\\\\\\\": 0}, \\\\\\\\\\\\\"localData\\\\\\\\\\\\\": {}, \\\\\\\\\\\\\"isEnabled\\\\\\\\\\\\\": true, \\\\\\\\\\\\\"name\\\\\\\\\\\\\": null, \\\\\\\\\\\\\"annotation\\\\\\\\\\\\\": null}, {\\\\\\\\\\\\\"id\\\\\\\\\\\\\": \\\\\\\\\\\\\"80946e0f-6480-4cf0-9b9f-195229d8e940\\\\\\\\\\\\\", \\\\\\\\\\\\\"type\\\\\\\\\\\\\": \\\\\\\\\\\\\"Microsoft.DPrep.DropColumnsBlock\\\\\\\\\\\\\", \\\\\\\\\\\\\"arguments\\\\\\\\\\\\\": {\\\\\\\\\\\\\"columns\\\\\\\\\\\\\": {\\\\\\\\\\\\\"type\\\\\\\\\\\\\": 0, \\\\\\\\\\\\\"details\\\\\\\\\\\\\": {\\\\\\\\\\\\\"selectedColumns\\\\\\\\\\\\\": [\\\\\\\\\\\\\"Path\\\\\\\\\\\\\"]}}}, \\\\\\\\\\\\\"localData\\\\\\\\\\\\\": {}, \\\\\\\\\\\\\"isEnabled\\\\\\\\\\\\\": true, \\\\\\\\\\\\\"name\\\\\\\\\\\\\": null, \\\\\\\\\\\\\"annotation\\\\\\\\\\\\\": null}, {\\\\\\\\\\\\\"id\\\\\\\\\\\\\": \\\\\\\\\\\\\"3bbc5009-b6a6-4592-98b2-a9493e2e49c3\\\\\\\\\\\\\", \\\\\\\\\\\\\"type\\\\\\\\\\\\\": \\\\\\\\\\\\\"Microsoft.DPrep.SetColumnTypesBlock\\\\\\\\\\\\\", \\\\\\\\\\\\\"arguments\\\\\\\\\\\\\": {\\\\\\\\\\\\\"columnConversion\\\\\\\\\\\\\": [{\\\\\\\\\\\\\"column\\\\\\\\\\\\\": {\\\\\\\\\\\\\"type\\\\\\\\\\\\\": 2, \\\\\\\\\\\\\"details\\\\\\\\\\\\\": {\\\\\\\\\\\\\"selectedColumn\\\\\\\\\\\\\": \\\\\\\\\\\\\"Path\\\\\\\\\\\\\"}}, \\\\\\\\\\\\\"typeProperty\\\\\\\\\\\\\": 0}, {\\\\\\\\\\\\\"column\\\\\\\\\\\\\": {\\\\\\\\\\\\\"type\\\\\\\\\\\\\": 2, \\\\\\\\\\\\\"details\\\\\\\\\\\\\": {\\\\\\\\\\\\\"selectedColumn\\\\\\\\\\\\\": \\\\\\\\\\\\\"Sigla_UF\\\\\\\\\\\\\"}}, \\\\\\\\\\\\\"typeProperty\\\\\\\\\\\\\": 0}, {\\\\\\\\\\\\\"column\\\\\\\\\\\\\": {\\\\\\\\\\\\\"type\\\\\\\\\\\\\": 2, \\\\\\\\\\\\\"details\\\\\\\\\\\\\": {\\\\\\\\\\\\\"selectedColumn\\\\\\\\\\\\\": \\\\\\\\\\\\\"Cod_Municipio\\\\\\\\\\\\\"}}, \\\\\\\\\\\\\"typeProperty\\\\\\\\\\\\\": 2}, {\\\\\\\\\\\\\"column\\\\\\\\\\\\\": {\\\\\\\\\\\\\"type\\\\\\\\\\\\\": 2, \\\\\\\\\\\\\"details\\\\\\\\\\\\\": {\\\\\\\\\\\\\"selectedColumn\\\\\\\\\\\\\": \\\\\\\\\\\\\"Nome_Municipio\\\\\\\\\\\\\"}}, \\\\\\\\\\\\\"typeProperty\\\\\\\\\\\\\": 0}, {\\\\\\\\\\\\\"column\\\\\\\\\\\\\": {\\\\\\\\\\\\\"type\\\\\\\\\\\\\": 2, \\\\\\\\\\\\\"details\\\\\\\\\\\\\": {\\\\\\\\\\\\\"selectedColumn\\\\\\\\\\\\\": \\\\\\\\\\\\\"Cod_Escola\\\\\\\\\\\\\"}}, \\\\\\\\\\\\\"typeProperty\\\\\\\\\\\\\": 2}, {\\\\\\\\\\\\\"column\\\\\\\\\\\\\": {\\\\\\\\\\\\\"type\\\\\\\\\\\\\": 2, \\\\\\\\\\\\\"details\\\\\\\\\\\\\": {\\\\\\\\\\\\\"selectedColumn\\\\\\\\\\\\\": \\\\\\\\\\\\\"Nome_Escola\\\\\\\\\\\\\"}}, \\\\\\\\\\\\\"typeProperty\\\\\\\\\\\\\": 0}, {\\\\\\\\\\\\\"column\\\\\\\\\\\\\": {\\\\\\\\\\\\\"type\\\\\\\\\\\\\": 2, \\\\\\\\\\\\\"details\\\\\\\\\\\\\": {\\\\\\\\\\\\\"selectedColumn\\\\\\\\\\\\\": \\\\\\\\\\\\\"Column6\\\\\\\\\\\\\"}}, \\\\\\\\\\\\\"typeProperty\\\\\\\\\\\\\": 0}, {\\\\\\\\\\\\\"column\\\\\\\\\\\\\": {\\\\\\\\\\\\\"type\\\\\\\\\\\\\": 2, \\\\\\\\\\\\\"details\\\\\\\\\\\\\": {\\\\\\\\\\\\\"selectedColumn\\\\\\\\\\\\\": \\\\\\\\\\\\\"TAprov2019_Total\\\\\\\\\\\\\"}}, \\\\\\\\\\\\\"typeProperty\\\\\\\\\\\\\": 3}, {\\\\\\\\\\\\\"column\\\\\\\\\\\\\": {\\\\\\\\\\\\\"type\\\\\\\\\\\\\": 2, \\\\\\\\\\\\\"details\\\\\\\\\\\\\": {\\\\\\\\\\\\\"selectedColumn\\\\\\\\\\\\\": \\\\\\\\\\\\\"TAprov2019_1_serie\\\\\\\\\\\\\"}}, \\\\\\\\\\\\\"typeProperty\\\\\\\\\\\\\": 0}, {\\\\\\\\\\\\\"column\\\\\\\\\\\\\": {\\\\\\\\\\\\\"type\\\\\\\\\\\\\": 2, \\\\\\\\\\\\\"details\\\\\\\\\\\\\": {\\\\\\\\\\\\\"selectedColumn\\\\\\\\\\\\\": \\\\\\\\\\\\\"TAprov2019_2_serie\\\\\\\\\\\\\"}}, \\\\\\\\\\\\\"typeProperty\\\\\\\\\\\\\": 0}, {\\\\\\\\\\\\\"column\\\\\\\\\\\\\": {\\\\\\\\\\\\\"type\\\\\\\\\\\\\": 2, \\\\\\\\\\\\\"details\\\\\\\\\\\\\": {\\\\\\\\\\\\\"selectedColumn\\\\\\\\\\\\\": \\\\\\\\\\\\\"TAprov2019_3_serie\\\\\\\\\\\\\"}}, \\\\\\\\\\\\\"typeProperty\\\\\\\\\\\\\": 3}, {\\\\\\\\\\\\\"column\\\\\\\\\\\\\": {\\\\\\\\\\\\\"type\\\\\\\\\\\\\": 2, \\\\\\\\\\\\\"details\\\\\\\\\\\\\": {\\\\\\\\\\\\\"selectedColumn\\\\\\\\\\\\\": \\\\\\\\\\\\\"TAprov2019_4_serie\\\\\\\\\\\\\"}}, \\\\\\\\\\\\\"typeProperty\\\\\\\\\\\\\": 0}, {\\\\\\\\\\\\\"column\\\\\\\\\\\\\": {\\\\\\\\\\\\\"type\\\\\\\\\\\\\": 2, \\\\\\\\\\\\\"details\\\\\\\\\\\\\": {\\\\\\\\\\\\\"selectedColumn\\\\\\\\\\\\\": \\\\\\\\\\\\\"Indicador_Rendimento\\\\\\\\\\\\\"}}, \\\\\\\\\\\\\"typeProperty\\\\\\\\\\\\\": 3}, {\\\\\\\\\\\\\"column\\\\\\\\\\\\\": {\\\\\\\\\\\\\"type\\\\\\\\\\\\\": 2, \\\\\\\\\\\\\"details\\\\\\\\\\\\\": {\\\\\\\\\\\\\"selectedColumn\\\\\\\\\\\\\": \\\\\\\\\\\\\"SAEB2019_Matematica\\\\\\\\\\\\\"}}, \\\\\\\\\\\\\"typeProperty\\\\\\\\\\\\\": 3}, {\\\\\\\\\\\\\"column\\\\\\\\\\\\\": {\\\\\\\\\\\\\"type\\\\\\\\\\\\\": 2, \\\\\\\\\\\\\"details\\\\\\\\\\\\\": {\\\\\\\\\\\\\"selectedColumn\\\\\\\\\\\\\": \\\\\\\\\\\\\"SAEB2019_Lingua Portuguesa\\\\\\\\\\\\\"}}, \\\\\\\\\\\\\"typeProperty\\\\\\\\\\\\\": 3}, {\\\\\\\\\\\\\"column\\\\\\\\\\\\\": {\\\\\\\\\\\\\"type\\\\\\\\\\\\\": 2, \\\\\\\\\\\\\"details\\\\\\\\\\\\\": {\\\\\\\\\\\\\"selectedColumn\\\\\\\\\\\\\": \\\\\\\\\\\\\"SAEB2019_Nota Media Padronizada\\\\\\\\\\\\\"}}, \\\\\\\\\\\\\"typeProperty\\\\\\\\\\\\\": 3}, {\\\\\\\\\\\\\"column\\\\\\\\\\\\\": {\\\\\\\\\\\\\"type\\\\\\\\\\\\\": 2, \\\\\\\\\\\\\"details\\\\\\\\\\\\\": {\\\\\\\\\\\\\"selectedColumn\\\\\\\\\\\\\": \\\\\\\\\\\\\"IDEB_2019\\\\\\\\\\\\\"}}, \\\\\\\\\\\\\"typeProperty\\\\\\\\\\\\\": 3}]}, \\\\\\\\\\\\\"localData\\\\\\\\\\\\\": {}, \\\\\\\\\\\\\"isEnabled\\\\\\\\\\\\\": true, \\\\\\\\\\\\\"name\\\\\\\\\\\\\": null, \\\\\\\\\\\\\"annotation\\\\\\\\\\\\\": null}], \\\\\\\\\\\\\"inspectors\\\\\\\\\\\\\": [], \\\\\\\\\\\\\"meta\\\\\\\\\\\\\": {\\\\\\\\\\\\\"savedDatasetId\\\\\\\\\\\\\": \\\\\\\\\\\\\"bdb3caec-8169-4659-bbd0-62c80ba52c14\\\\\\\\\\\\\", \\\\\\\\\\\\\"datasetType\\\\\\\\\\\\\": \\\\\\\\\\\\\"tabular\\\\\\\\\\\\\", \\\\\\\\\\\\\"subscriptionId\\\\\\\\\\\\\": \\\\\\\\\\\\\"a748a023-896b-4719-8f8e-3d1ba62d6e35\\\\\\\\\\\\\", \\\\\\\\\\\\\"workspaceId\\\\\\\\\\\\\": \\\\\\\\\\\\\"4cc8fc67-9b29-4fc9-affe-0aea29e08ecb\\\\\\\\\\\\\", \\\\\\\\\\\\\"workspaceLocation\\\\\\\\\\\\\": \\\\\\\\\\\\\"eastus\\\\\\\\\\\\\"}}\\\\\", \\\\\"activities\\\\\": 0}',\n  'EnableSubsampling': None,\n  'runTemplate': 'AutoML',\n  'azureml.runsource': 'automl',\n  'display_task_type': 'regression',\n  'dependencies_versions': '{\"azureml-widgets\": \"1.19.0\", \"azureml-train\": \"1.19.0\", \"azureml-train-restclients-hyperdrive\": \"1.19.0\", \"azureml-train-core\": \"1.19.0\", \"azureml-train-automl\": \"1.19.0\", \"azureml-train-automl-runtime\": \"1.19.0\", \"azureml-train-automl-client\": \"1.19.0\", \"azureml-tensorboard\": \"1.19.0\", \"azureml-telemetry\": \"1.19.0\", \"azureml-sdk\": \"1.19.0\", \"azureml-samples\": \"0+unknown\", \"azureml-pipeline\": \"1.19.0\", \"azureml-pipeline-steps\": \"1.19.0\", \"azureml-pipeline-core\": \"1.19.0\", \"azureml-opendatasets\": \"1.19.0\", \"azureml-model-management-sdk\": \"1.0.1b6.post1\", \"azureml-mlflow\": \"1.19.0\", \"azureml-interpret\": \"1.19.0\", \"azureml-explain-model\": \"1.19.0\", \"azureml-defaults\": \"1.19.0\", \"azureml-dataset-runtime\": \"1.19.0\", \"azureml-dataprep\": \"2.6.1\", \"azureml-dataprep-rslex\": \"1.4.0\", \"azureml-dataprep-native\": \"26.0.0\", \"azureml-datadrift\": \"1.19.0\", \"azureml-core\": \"1.19.0\", \"azureml-contrib-services\": \"1.19.0\", \"azureml-contrib-server\": \"1.19.0\", \"azureml-contrib-reinforcementlearning\": \"1.19.0\", \"azureml-contrib-pipeline-steps\": \"1.19.0\", \"azureml-contrib-notebook\": \"1.19.0\", \"azureml-contrib-interpret\": \"1.19.0\", \"azureml-contrib-gbdt\": \"1.19.0\", \"azureml-contrib-fairness\": \"1.19.0\", \"azureml-contrib-dataset\": \"1.19.0\", \"azureml-cli-common\": \"1.19.0\", \"azureml-automl-runtime\": \"1.19.0\", \"azureml-automl-core\": \"1.19.0\", \"azureml-accel-models\": \"1.19.0\"}',\n  '_aml_system_scenario_identification': 'Remote.Parent',\n  'ClientType': 'SDK',\n  'environment_cpu_name': 'AzureML-AutoML',\n  'environment_cpu_label': 'prod',\n  'environment_gpu_name': 'AzureML-AutoML-GPU',\n  'environment_gpu_label': 'prod',\n  'root_attribution': 'automl',\n  'attribution': 'AutoML',\n  'Orchestrator': 'AutoML',\n  'CancelUri': 'https://eastus.experiments.azureml.net/jasmine/v1.0/subscriptions/a748a023-896b-4719-8f8e-3d1ba62d6e35/resourceGroups/RG-AZML/providers/Microsoft.MachineLearningServices/workspaces/AZML/experimentids/47f77dd7-234a-4057-9b8a-183d6dd984c2/cancel/AutoML_65fb4522-a6ef-4b28-ac48-d2ceacc4be6d',\n  'ClientSdkVersion': '1.19.0',\n  'snapshotId': '00000000-0000-0000-0000-000000000000',\n  'SetupRunId': 'AutoML_65fb4522-a6ef-4b28-ac48-d2ceacc4be6d_setup',\n  'SetupRunContainerId': 'dcid.AutoML_65fb4522-a6ef-4b28-ac48-d2ceacc4be6d_setup',\n  'FeaturizationRunJsonPath': 'featurizer_container.json',\n  'FeaturizationRunId': 'AutoML_65fb4522-a6ef-4b28-ac48-d2ceacc4be6d_featurize',\n  'ProblemInfoJsonString': '{\"dataset_num_categorical\": 0, \"is_sparse\": true, \"subsampling\": false, \"dataset_classes\": 62, \"dataset_features\": 40180, \"dataset_samples\": 12079, \"single_frequency_class_detected\": false}',\n  'ModelExplainRunId': 'AutoML_65fb4522-a6ef-4b28-ac48-d2ceacc4be6d_ModelExplain'},\n 'inputDatasets': [{'dataset': {'id': 'bdb3caec-8169-4659-bbd0-62c80ba52c14'}, 'consumptionDetails': {'type': 'RunInput', 'inputName': 'training_data', 'mechanism': 'Direct'}}],\n 'outputDatasets': [],\n 'logFiles': {}}"
          },
          "metadata": {}
        }
      ],
      "execution_count": 14,
      "metadata": {
        "gather": {
          "logged": 1609907561833
        },
        "jupyter": {
          "outputs_hidden": false,
          "source_hidden": false
        },
        "nteract": {
          "transient": {
            "deleting": false
          }
        }
      }
    },
    {
      "cell_type": "markdown",
      "source": [
        "## Best Model\n",
        "\n",
        "TODO: In the cell below, get the best model from the automl experiments and display all the properties of the model.\n",
        "\n"
      ],
      "metadata": {}
    },
    {
      "cell_type": "code",
      "source": [
        "# Get the best run object\r\n",
        "best_model, fitted_model = remote_run.get_output()\r\n",
        "best_model.register_model(model_name = 'best_model', model_path = '/outputs/')\r\n",
        "print(best_model)"
      ],
      "outputs": [
        {
          "output_type": "stream",
          "name": "stdout",
          "text": [
            "Run(Experiment: ideb-experiment,\n",
            "Id: AutoML_65fb4522-a6ef-4b28-ac48-d2ceacc4be6d_35,\n",
            "Type: azureml.scriptrun,\n",
            "Status: Completed)\n"
          ]
        }
      ],
      "execution_count": 15,
      "metadata": {
        "gather": {
          "logged": 1609908397364
        },
        "jupyter": {
          "outputs_hidden": false,
          "source_hidden": false
        },
        "nteract": {
          "transient": {
            "deleting": false
          }
        }
      }
    },
    {
      "cell_type": "code",
      "source": [
        "print(fitted_model)"
      ],
      "outputs": [
        {
          "output_type": "stream",
          "name": "stdout",
          "text": [
            "RegressionPipeline(pipeline=Pipeline(memory=None,\n",
            "                                     steps=[('datatransformer',\n",
            "                                             DataTransformer(enable_dnn=None,\n",
            "                                                             enable_feature_sweeping=None,\n",
            "                                                             feature_sweeping_config=None,\n",
            "                                                             feature_sweeping_timeout=None,\n",
            "                                                             featurization_config=None,\n",
            "                                                             force_text_dnn=None,\n",
            "                                                             is_cross_validation=None,\n",
            "                                                             is_onnx_compatible=None,\n",
            "                                                             logger=None,\n",
            "                                                             observer=None,\n",
            "                                                             task=None,\n",
            "                                                             working_dir=None)),\n",
            "                                            ('sta...\n",
            "                                                                                                                selection='cyclic',\n",
            "                                                                                                                tol=0.0001,\n",
            "                                                                                                                warm_start=False))],\n",
            "                                                                                             verbose=False))],\n",
            "                                                                    meta_learner=ElasticNetCV(alphas=None,\n",
            "                                                                                              copy_X=True,\n",
            "                                                                                              cv=None,\n",
            "                                                                                              eps=0.001,\n",
            "                                                                                              fit_intercept=True,\n",
            "                                                                                              l1_ratio=0.5,\n",
            "                                                                                              max_iter=1000,\n",
            "                                                                                              n_alphas=100,\n",
            "                                                                                              n_jobs=None,\n",
            "                                                                                              normalize=False,\n",
            "                                                                                              positive=False,\n",
            "                                                                                              precompute='auto',\n",
            "                                                                                              random_state=None,\n",
            "                                                                                              selection='cyclic',\n",
            "                                                                                              tol=0.0001,\n",
            "                                                                                              verbose=0),\n",
            "                                                                    training_cv_folds=5))],\n",
            "                                     verbose=False),\n",
            "                   stddev=None)\n"
          ]
        }
      ],
      "execution_count": 16,
      "metadata": {
        "collapsed": true,
        "jupyter": {
          "source_hidden": false,
          "outputs_hidden": false
        },
        "nteract": {
          "transient": {
            "deleting": false
          }
        },
        "gather": {
          "logged": 1609955476922
        }
      }
    },
    {
      "cell_type": "markdown",
      "source": [
        "\r\n",
        "## Metric in best model"
      ],
      "metadata": {
        "nteract": {
          "transient": {
            "deleting": false
          }
        }
      }
    },
    {
      "cell_type": "code",
      "source": [
        "best_model_metrics = best_model.get_metrics()\r\n",
        "best_model_metrics"
      ],
      "outputs": [
        {
          "output_type": "execute_result",
          "execution_count": 17,
          "data": {
            "text/plain": "{'root_mean_squared_log_error': 0.008212349540547198,\n 'r2_score': 0.9976401339553499,\n 'spearman_correlation': 0.9987625843773339,\n 'median_absolute_error': 0.02621277846742953,\n 'normalized_median_absolute_error': 0.004095746635535864,\n 'normalized_root_mean_squared_log_error': 0.006172777902969669,\n 'mean_absolute_error': 0.030087664500081625,\n 'root_mean_squared_error': 0.03904249789365686,\n 'mean_absolute_percentage_error': 0.759912466013537,\n 'explained_variance': 0.9976431520210984,\n 'normalized_mean_absolute_error': 0.004701197578137754,\n 'normalized_root_mean_squared_error': 0.006100390295883884,\n 'residuals': 'aml://artifactId/ExperimentRun/dcid.AutoML_65fb4522-a6ef-4b28-ac48-d2ceacc4be6d_35/residuals',\n 'predicted_true': 'aml://artifactId/ExperimentRun/dcid.AutoML_65fb4522-a6ef-4b28-ac48-d2ceacc4be6d_35/predicted_true'}"
          },
          "metadata": {}
        }
      ],
      "execution_count": 17,
      "metadata": {
        "collapsed": true,
        "jupyter": {
          "source_hidden": false,
          "outputs_hidden": false
        },
        "nteract": {
          "transient": {
            "deleting": false
          }
        },
        "gather": {
          "logged": 1609955491942
        }
      }
    },
    {
      "cell_type": "code",
      "source": [
        "#TODO: Save the best model\r\n",
        "env = best_model.get_environment()\r\n",
        "script_file = 'score.py'\r\n",
        "best_model.download_file('outputs/model.pkl', 'outputs/automl_ideb.pkl')\r\n",
        "best_model.download_file('outputs/scoring_file_v_1_0_0.py', 'outputs/score_aml.py')\r\n",
        "best_model.download_file('automl_driver.py', 'outputs/automl_driver.py')\r\n",
        "import joblib  \r\n",
        "joblib.dump(fitted_model, \"automl_ideb.pkl\")"
      ],
      "outputs": [
        {
          "output_type": "execute_result",
          "execution_count": 26,
          "data": {
            "text/plain": "['automl_ideb.pkl']"
          },
          "metadata": {}
        }
      ],
      "execution_count": 26,
      "metadata": {
        "gather": {
          "logged": 1609956433193
        },
        "jupyter": {
          "outputs_hidden": false,
          "source_hidden": false
        },
        "nteract": {
          "transient": {
            "deleting": false
          }
        }
      }
    },
    {
      "cell_type": "code",
      "source": [
        "os.listdir(os.curdir), os.getcwd()"
      ],
      "outputs": [
        {
          "output_type": "execute_result",
          "execution_count": 29,
          "data": {
            "text/plain": "(['.config',\n  '.ipynb_aml_checkpoints',\n  'automl-ideb',\n  'automl.ipynb',\n  'automl.log',\n  'automl_errors.log',\n  'automl_ideb.pkl',\n  'azureml_automl.log',\n  'outputs',\n  'score.py'],\n '/mnt/batch/tasks/shared/LS_root/mounts/clusters/compute-d2-v2/code/Users/anderson12')"
          },
          "metadata": {}
        }
      ],
      "execution_count": 29,
      "metadata": {
        "collapsed": true,
        "jupyter": {
          "source_hidden": false,
          "outputs_hidden": false
        },
        "nteract": {
          "transient": {
            "deleting": false
          }
        },
        "gather": {
          "logged": 1609956532069
        }
      }
    },
    {
      "cell_type": "markdown",
      "source": [
        "## Model Deployment\n",
        "\n",
        "Remember you have to deploy only one of the two models you trained.. Perform the steps in the rest of this notebook only if you wish to deploy this model.\n",
        "\n",
        "TODO: In the cell below, register the model, create an inference config and deploy the model as a web service."
      ],
      "metadata": {}
    },
    {
      "cell_type": "code",
      "source": [
        "model=best_model.register_model(\r\n",
        "                        model_name = 'best_automl',\r\n",
        "                        model_path = '/outputs/',\r\n",
        "                        description = \"Best model trained with AutoML\")\r\n",
        "model"
      ],
      "outputs": [
        {
          "output_type": "execute_result",
          "execution_count": 60,
          "data": {
            "text/plain": "Model(workspace=Workspace.create(name='AZML', subscription_id='a748a023-896b-4719-8f8e-3d1ba62d6e35', resource_group='RG-AZML'), name=best_automl, id=best_automl:14, version=14, tags={}, properties={})"
          },
          "metadata": {}
        }
      ],
      "execution_count": 60,
      "metadata": {
        "collapsed": true,
        "jupyter": {
          "source_hidden": false,
          "outputs_hidden": false
        },
        "nteract": {
          "transient": {
            "deleting": false
          }
        },
        "gather": {
          "logged": 1609961906962
        }
      }
    },
    {
      "cell_type": "markdown",
      "source": [
        "## Define Deployment\r\n"
      ],
      "metadata": {
        "nteract": {
          "transient": {
            "deleting": false
          }
        }
      }
    },
    {
      "cell_type": "code",
      "source": [
        "print(service.get_logs())\r\n"
      ],
      "outputs": [
        {
          "output_type": "stream",
          "name": "stdout",
          "text": [
            "2021-01-07T00:46:30,325728095+00:00 - gunicorn/run \n",
            "2021-01-07T00:46:30,336947455+00:00 - iot-server/run \n",
            "2021-01-07T00:46:30,341015977+00:00 - rsyslog/run \n",
            "2021-01-07T00:46:30,349860424+00:00 - nginx/run \n",
            "/usr/sbin/nginx: /azureml-envs/azureml_8eff28b157f42edcd2424a5aae6c8074/lib/libcrypto.so.1.0.0: no version information available (required by /usr/sbin/nginx)\n",
            "/usr/sbin/nginx: /azureml-envs/azureml_8eff28b157f42edcd2424a5aae6c8074/lib/libcrypto.so.1.0.0: no version information available (required by /usr/sbin/nginx)\n",
            "/usr/sbin/nginx: /azureml-envs/azureml_8eff28b157f42edcd2424a5aae6c8074/lib/libssl.so.1.0.0: no version information available (required by /usr/sbin/nginx)\n",
            "/usr/sbin/nginx: /azureml-envs/azureml_8eff28b157f42edcd2424a5aae6c8074/lib/libssl.so.1.0.0: no version information available (required by /usr/sbin/nginx)\n",
            "/usr/sbin/nginx: /azureml-envs/azureml_8eff28b157f42edcd2424a5aae6c8074/lib/libssl.so.1.0.0: no version information available (required by /usr/sbin/nginx)\n",
            "rsyslogd: /azureml-envs/azureml_8eff28b157f42edcd2424a5aae6c8074/lib/libuuid.so.1: no version information available (required by rsyslogd)\n",
            "EdgeHubConnectionString and IOTEDGE_IOTHUBHOSTNAME are not set. Exiting...\n",
            "2021-01-07T00:46:30,484983748+00:00 - iot-server/finish 1 0\n",
            "2021-01-07T00:46:30,486192754+00:00 - Exit code 1 is normal. Not restarting iot-server.\n",
            "Starting gunicorn 19.9.0\n",
            "Listening at: http://127.0.0.1:31311 (12)\n",
            "Using worker: sync\n",
            "worker timeout is set to 300\n",
            "Booting worker with pid: 39\n",
            "SPARK_HOME not set. Skipping PySpark Initialization.\n",
            "Generating new fontManager, this may take some time...\n",
            "Initializing logger\n",
            "2021-01-07 00:46:31,688 | root | INFO | Starting up app insights client\n",
            "Starting up app insights client\n",
            "2021-01-07 00:46:31,688 | root | INFO | Starting up request id generator\n",
            "Starting up request id generator\n",
            "2021-01-07 00:46:31,689 | root | INFO | Starting up app insight hooks\n",
            "Starting up app insight hooks\n",
            "2021-01-07 00:46:31,689 | root | INFO | Invoking user's init function\n",
            "Invoking user's init function\n",
            "2021-01-07 00:46:31,694 | root | ERROR | User's init function failed\n",
            "User's init function failed\n",
            "2021-01-07 00:46:31,694 | root | ERROR | Encountered Exception Traceback (most recent call last):\n",
            "  File \"/var/azureml-server/aml_blueprint.py\", line 187, in register\n",
            "    main.init()\n",
            "  File \"/var/azureml-app/score.py\", line 41, in init\n",
            "    model = joblib.load(model_path)\n",
            "  File \"/azureml-envs/azureml_8eff28b157f42edcd2424a5aae6c8074/lib/python3.6/site-packages/joblib/numpy_pickle.py\", line 597, in load\n",
            "    with open(filename, 'rb') as f:\n",
            "FileNotFoundError: [Errno 2] No such file or directory: '/var/azureml-app/azureml-models/best_automl/14/model.pkl'\n",
            "\n",
            "Encountered Exception Traceback (most recent call last):\n",
            "  File \"/var/azureml-server/aml_blueprint.py\", line 187, in register\n",
            "    main.init()\n",
            "  File \"/var/azureml-app/score.py\", line 41, in init\n",
            "    model = joblib.load(model_path)\n",
            "  File \"/azureml-envs/azureml_8eff28b157f42edcd2424a5aae6c8074/lib/python3.6/site-packages/joblib/numpy_pickle.py\", line 597, in load\n",
            "    with open(filename, 'rb') as f:\n",
            "FileNotFoundError: [Errno 2] No such file or directory: '/var/azureml-app/azureml-models/best_automl/14/model.pkl'\n",
            "\n",
            "Worker exiting (pid: 39)\n",
            "Shutting down: Master\n",
            "Reason: Worker failed to boot.\n",
            "2021-01-07T00:46:32,336941168+00:00 - gunicorn/finish 3 0\n",
            "2021-01-07T00:46:32,338248575+00:00 - Exit code 3 is not normal. Killing image.\n",
            "\n"
          ]
        }
      ],
      "execution_count": 62,
      "metadata": {
        "collapsed": true,
        "jupyter": {
          "source_hidden": false,
          "outputs_hidden": false
        },
        "nteract": {
          "transient": {
            "deleting": false
          }
        },
        "gather": {
          "logged": 1609980653934
        }
      }
    },
    {
      "cell_type": "code",
      "source": [
        "from azureml.core.model import InferenceConfig\r\n",
        "from azureml.core.webservice import AciWebservice\r\n",
        "from azureml.core.webservice import Webservice\r\n",
        "from azureml.core.model import Model\r\n",
        "from azureml.core.environment import Environment\r\n",
        "\r\n",
        "inference_config = InferenceConfig(entry_script=script_file, environment=env)\r\n",
        "\r\n",
        "deployment_config = AciWebservice.deploy_configuration(cpu_cores = 1, memory_gb = 1)\r\n",
        "\r\n",
        "deploy_service_name= 'deploy_service_ideb'\r\n",
        "\r\n",
        "aci_service_name = 'service-ideb'\r\n",
        "print(aci_service_name)\r\n",
        "aci_service = Model.deploy(ws, aci_service_name, [model], inference_config, deployment_config)\r\n"
      ],
      "outputs": [
        {
          "output_type": "stream",
          "name": "stdout",
          "text": [
            "service-ideb\n"
          ]
        },
        {
          "output_type": "error",
          "ename": "WebserviceException",
          "evalue": "WebserviceException:\n\tMessage: Service service-ideb with the same name already exists, please use a different service name or delete the existing service.\n\tInnerException None\n\tErrorResponse \n{\n    \"error\": {\n        \"message\": \"Service service-ideb with the same name already exists, please use a different service name or delete the existing service.\"\n    }\n}",
          "traceback": [
            "\u001b[0;31m---------------------------------------------------------------------------\u001b[0m",
            "\u001b[0;31mWebserviceException\u001b[0m                       Traceback (most recent call last)",
            "\u001b[0;32m<ipython-input-78-86230c41df63>\u001b[0m in \u001b[0;36m<module>\u001b[0;34m\u001b[0m\n\u001b[1;32m     13\u001b[0m \u001b[0maci_service_name\u001b[0m \u001b[0;34m=\u001b[0m \u001b[0;34m'service-ideb'\u001b[0m\u001b[0;34m\u001b[0m\u001b[0;34m\u001b[0m\u001b[0m\n\u001b[1;32m     14\u001b[0m \u001b[0mprint\u001b[0m\u001b[0;34m(\u001b[0m\u001b[0maci_service_name\u001b[0m\u001b[0;34m)\u001b[0m\u001b[0;34m\u001b[0m\u001b[0;34m\u001b[0m\u001b[0m\n\u001b[0;32m---> 15\u001b[0;31m \u001b[0maci_service\u001b[0m \u001b[0;34m=\u001b[0m \u001b[0mModel\u001b[0m\u001b[0;34m.\u001b[0m\u001b[0mdeploy\u001b[0m\u001b[0;34m(\u001b[0m\u001b[0mws\u001b[0m\u001b[0;34m,\u001b[0m \u001b[0maci_service_name\u001b[0m\u001b[0;34m,\u001b[0m \u001b[0;34m[\u001b[0m\u001b[0mmodel\u001b[0m\u001b[0;34m]\u001b[0m\u001b[0;34m,\u001b[0m \u001b[0minference_config\u001b[0m\u001b[0;34m,\u001b[0m \u001b[0mdeployment_config\u001b[0m\u001b[0;34m)\u001b[0m\u001b[0;34m\u001b[0m\u001b[0;34m\u001b[0m\u001b[0m\n\u001b[0m",
            "\u001b[0;32m/anaconda/envs/azureml_py36/lib/python3.6/site-packages/azureml/core/model.py\u001b[0m in \u001b[0;36mdeploy\u001b[0;34m(workspace, name, models, inference_config, deployment_config, deployment_target, overwrite)\u001b[0m\n\u001b[1;32m   1609\u001b[0m         \u001b[0;32mif\u001b[0m \u001b[0muse_env_path\u001b[0m\u001b[0;34m:\u001b[0m\u001b[0;34m\u001b[0m\u001b[0;34m\u001b[0m\u001b[0m\n\u001b[1;32m   1610\u001b[0m             return Model._deploy_with_environment(workspace, name, models, inference_config, deployment_config,\n\u001b[0;32m-> 1611\u001b[0;31m                                                   deployment_target, overwrite)\n\u001b[0m\u001b[1;32m   1612\u001b[0m \u001b[0;34m\u001b[0m\u001b[0m\n\u001b[1;32m   1613\u001b[0m         \u001b[0;31m# ContainerImage-based webservice.\u001b[0m\u001b[0;34m\u001b[0m\u001b[0;34m\u001b[0m\u001b[0;34m\u001b[0m\u001b[0m\n",
            "\u001b[0;32m/anaconda/envs/azureml_py36/lib/python3.6/site-packages/azureml/core/model.py\u001b[0m in \u001b[0;36m_deploy_with_environment\u001b[0;34m(workspace, name, models, inference_config, deployment_config, deployment_target, overwrite)\u001b[0m\n\u001b[1;32m   1809\u001b[0m \u001b[0;34m\u001b[0m\u001b[0m\n\u001b[1;32m   1810\u001b[0m         return Model._deploy_with_environment_image_request(workspace, name, environment_image_request,\n\u001b[0;32m-> 1811\u001b[0;31m                                                             deployment_config, deployment_target, overwrite)\n\u001b[0m\u001b[1;32m   1812\u001b[0m \u001b[0;34m\u001b[0m\u001b[0m\n\u001b[1;32m   1813\u001b[0m     \u001b[0;34m@\u001b[0m\u001b[0mstaticmethod\u001b[0m\u001b[0;34m\u001b[0m\u001b[0;34m\u001b[0m\u001b[0m\n",
            "\u001b[0;32m/anaconda/envs/azureml_py36/lib/python3.6/site-packages/azureml/core/model.py\u001b[0m in \u001b[0;36m_deploy_with_environment_image_request\u001b[0;34m(workspace, name, environment_image_request, deployment_config, deployment_target, overwrite)\u001b[0m\n\u001b[1;32m   1853\u001b[0m             \u001b[0mwebservice_payload\u001b[0m\u001b[0;34m[\u001b[0m\u001b[0;34m'computeName'\u001b[0m\u001b[0;34m]\u001b[0m \u001b[0;34m=\u001b[0m \u001b[0mdeployment_target\u001b[0m\u001b[0;34m.\u001b[0m\u001b[0mname\u001b[0m\u001b[0;34m\u001b[0m\u001b[0;34m\u001b[0m\u001b[0m\n\u001b[1;32m   1854\u001b[0m \u001b[0;34m\u001b[0m\u001b[0m\n\u001b[0;32m-> 1855\u001b[0;31m         \u001b[0;32mreturn\u001b[0m \u001b[0mWebservice\u001b[0m\u001b[0;34m.\u001b[0m\u001b[0m_deploy_webservice\u001b[0m\u001b[0;34m(\u001b[0m\u001b[0mworkspace\u001b[0m\u001b[0;34m,\u001b[0m \u001b[0mname\u001b[0m\u001b[0;34m,\u001b[0m \u001b[0mwebservice_payload\u001b[0m\u001b[0;34m,\u001b[0m \u001b[0moverwrite\u001b[0m\u001b[0;34m,\u001b[0m \u001b[0mwebservice_class\u001b[0m\u001b[0;34m)\u001b[0m\u001b[0;34m\u001b[0m\u001b[0;34m\u001b[0m\u001b[0m\n\u001b[0m\u001b[1;32m   1856\u001b[0m \u001b[0;34m\u001b[0m\u001b[0m\n\u001b[1;32m   1857\u001b[0m     \u001b[0;32mdef\u001b[0m \u001b[0mget_sas_urls\u001b[0m\u001b[0;34m(\u001b[0m\u001b[0mself\u001b[0m\u001b[0;34m)\u001b[0m\u001b[0;34m:\u001b[0m\u001b[0;34m\u001b[0m\u001b[0;34m\u001b[0m\u001b[0m\n",
            "\u001b[0;32m/anaconda/envs/azureml_py36/lib/python3.6/site-packages/azureml/core/webservice/webservice.py\u001b[0m in \u001b[0;36m_deploy_webservice\u001b[0;34m(workspace, name, webservice_payload, overwrite, webservice_class)\u001b[0m\n\u001b[1;32m    822\u001b[0m         \"\"\"\n\u001b[1;32m    823\u001b[0m         \u001b[0;31m# TODO Remove check_for_existing_webservice() later, this check has already included in common validation.\u001b[0m\u001b[0;34m\u001b[0m\u001b[0;34m\u001b[0m\u001b[0;34m\u001b[0m\u001b[0m\n\u001b[0;32m--> 824\u001b[0;31m         \u001b[0mWebservice\u001b[0m\u001b[0;34m.\u001b[0m\u001b[0mcheck_for_existing_webservice\u001b[0m\u001b[0;34m(\u001b[0m\u001b[0mworkspace\u001b[0m\u001b[0;34m,\u001b[0m \u001b[0mname\u001b[0m\u001b[0;34m,\u001b[0m \u001b[0moverwrite\u001b[0m\u001b[0;34m)\u001b[0m\u001b[0;34m\u001b[0m\u001b[0;34m\u001b[0m\u001b[0m\n\u001b[0m\u001b[1;32m    825\u001b[0m         Webservice._check_for_webservice(workspace, name, Webservice._get_deploy_compute_type(webservice_payload),\n\u001b[1;32m    826\u001b[0m                                          webservice_payload, SERVICE_REQUEST_OPERATION_CREATE)\n",
            "\u001b[0;32m/anaconda/envs/azureml_py36/lib/python3.6/site-packages/azureml/core/webservice/webservice.py\u001b[0m in \u001b[0;36mcheck_for_existing_webservice\u001b[0;34m(workspace, name, overwrite, request_func, check_func)\u001b[0m\n\u001b[1;32m    665\u001b[0m                 \u001b[0;32mreturn\u001b[0m \u001b[0mWebservice\u001b[0m\u001b[0;34m.\u001b[0m\u001b[0m_check_validate_error\u001b[0m\u001b[0;34m(\u001b[0m\u001b[0mcontent\u001b[0m\u001b[0;34m)\u001b[0m\u001b[0;34m\u001b[0m\u001b[0;34m\u001b[0m\u001b[0m\n\u001b[1;32m    666\u001b[0m \u001b[0;34m\u001b[0m\u001b[0m\n\u001b[0;32m--> 667\u001b[0;31m         \u001b[0mWebservice\u001b[0m\u001b[0;34m.\u001b[0m\u001b[0m_run_validate_framework\u001b[0m\u001b[0;34m(\u001b[0m\u001b[0mrequest_func\u001b[0m\u001b[0;34m,\u001b[0m \u001b[0mcheck_func\u001b[0m\u001b[0;34m)\u001b[0m\u001b[0;34m\u001b[0m\u001b[0;34m\u001b[0m\u001b[0m\n\u001b[0m\u001b[1;32m    668\u001b[0m \u001b[0;34m\u001b[0m\u001b[0m\n\u001b[1;32m    669\u001b[0m     \u001b[0;34m@\u001b[0m\u001b[0mstaticmethod\u001b[0m\u001b[0;34m\u001b[0m\u001b[0;34m\u001b[0m\u001b[0m\n",
            "\u001b[0;32m/anaconda/envs/azureml_py36/lib/python3.6/site-packages/azureml/core/webservice/webservice.py\u001b[0m in \u001b[0;36m_run_validate_framework\u001b[0;34m(request_func, check_func)\u001b[0m\n\u001b[1;32m    636\u001b[0m             \u001b[0;32mreturn\u001b[0m\u001b[0;34m\u001b[0m\u001b[0;34m\u001b[0m\u001b[0m\n\u001b[1;32m    637\u001b[0m \u001b[0;34m\u001b[0m\u001b[0m\n\u001b[0;32m--> 638\u001b[0;31m         \u001b[0;32mraise\u001b[0m \u001b[0mWebserviceException\u001b[0m\u001b[0;34m(\u001b[0m\u001b[0merror\u001b[0m\u001b[0;34m)\u001b[0m\u001b[0;34m\u001b[0m\u001b[0;34m\u001b[0m\u001b[0m\n\u001b[0m\u001b[1;32m    639\u001b[0m \u001b[0;34m\u001b[0m\u001b[0m\n\u001b[1;32m    640\u001b[0m     \u001b[0;34m@\u001b[0m\u001b[0mstaticmethod\u001b[0m\u001b[0;34m\u001b[0m\u001b[0;34m\u001b[0m\u001b[0m\n",
            "\u001b[0;31mWebserviceException\u001b[0m: WebserviceException:\n\tMessage: Service service-ideb with the same name already exists, please use a different service name or delete the existing service.\n\tInnerException None\n\tErrorResponse \n{\n    \"error\": {\n        \"message\": \"Service service-ideb with the same name already exists, please use a different service name or delete the existing service.\"\n    }\n}"
          ]
        }
      ],
      "execution_count": 78,
      "metadata": {
        "collapsed": true,
        "jupyter": {
          "source_hidden": false,
          "outputs_hidden": false
        },
        "nteract": {
          "transient": {
            "deleting": false
          }
        },
        "gather": {
          "logged": 1610033048460
        }
      }
    },
    {
      "cell_type": "code",
      "source": [
        "aci_service.wait_for_deployment(True)\r\n",
        "print(aci_service.state)"
      ],
      "outputs": [
        {
          "output_type": "stream",
          "name": "stdout",
          "text": [
            "Tips: You can try get_logs(): https://aka.ms/debugimage#dockerlog or local deployment: https://aka.ms/debugimage#debug-locally to debug if deployment takes longer than 10 minutes.\n",
            "Running...............................................................................\n",
            "Failed\n"
          ]
        },
        {
          "output_type": "stream",
          "name": "stderr",
          "text": [
            "ERROR:azureml.core.webservice.webservice:Service deployment polling reached non-successful terminal state, current service state: Failed\n",
            "Operation ID: 6f1191d6-2b2c-4d7a-b800-970a3f336b12\n",
            "More information can be found using '.get_logs()'\n",
            "Error:\n",
            "{\n",
            "  \"code\": \"AciDeploymentFailed\",\n",
            "  \"message\": \"Aci Deployment failed with exception: Your container application crashed. This may be caused by errors in your scoring file's init() function.\\nPlease check the logs for your container instance: service-ideb. From the AML SDK, you can run print(service.get_logs()) if you have service object to fetch the logs. \\nYou can interactively debug your scoring file locally. Please refer to https://docs.microsoft.com/azure/machine-learning/how-to-debug-visual-studio-code#debug-and-troubleshoot-deployments for more information.\\nYou can also try to run image viennaglobal.azurecr.io/azureml/azureml_4f3cee89203e005745d1830c04fe722a locally. Please refer to https://aka.ms/debugimage#service-launch-fails for more information.\",\n",
            "  \"details\": [\n",
            "    {\n",
            "      \"code\": \"CrashLoopBackOff\",\n",
            "      \"message\": \"Your container application crashed. This may be caused by errors in your scoring file's init() function.\\nPlease check the logs for your container instance: service-ideb. From the AML SDK, you can run print(service.get_logs()) if you have service object to fetch the logs. \\nYou can interactively debug your scoring file locally. Please refer to https://docs.microsoft.com/azure/machine-learning/how-to-debug-visual-studio-code#debug-and-troubleshoot-deployments for more information.\\nYou can also try to run image viennaglobal.azurecr.io/azureml/azureml_4f3cee89203e005745d1830c04fe722a locally. Please refer to https://aka.ms/debugimage#service-launch-fails for more information.\"\n",
            "    },\n",
            "    {\n",
            "      \"code\": \"AciDeploymentFailed\",\n",
            "      \"message\": \"Your container application crashed. Please follow the steps to debug:\\n1. From the AML SDK, you can run print(service.get_logs()) if you have service object to fetch the logs. Please refer to https://aka.ms/debugimage#dockerlog for more information.\\n2. If your container application crashed. This may be caused by errors in your scoring file's init() function. You can try debugging locally first. Please refer to https://aka.ms/debugimage#debug-locally for more information.\\n3. You can also interactively debug your scoring file locally. Please refer to https://docs.microsoft.com/azure/machine-learning/how-to-debug-visual-studio-code#debug-and-troubleshoot-deployments for more information.\\n4. View the diagnostic events to check status of container, it may help you to debug the issue. {\\\"restartCount\\\":5,\\\"currentState\\\":{\\\"state\\\":\\\"Waiting\\\",\\\"startTime\\\":null,\\\"exitCode\\\":null,\\\"finishTime\\\":null,\\\"detailStatus\\\":\\\"CrashLoopBackOff: Back-off restarting failed\\\"},\\\"previousState\\\":{\\\"state\\\":\\\"Terminated\\\",\\\"startTime\\\":\\\"2021-01-07T15:30:52.416Z\\\",\\\"exitCode\\\":111,\\\"finishTime\\\":\\\"2021-01-07T15:31:00.194Z\\\",\\\"detailStatus\\\":\\\"Error\\\"},\\\"events\\\":null}\"\n",
            "    }\n",
            "  ]\n",
            "}\n",
            "\n"
          ]
        },
        {
          "output_type": "error",
          "ename": "WebserviceException",
          "evalue": "WebserviceException:\n\tMessage: Service deployment polling reached non-successful terminal state, current service state: Failed\nOperation ID: 6f1191d6-2b2c-4d7a-b800-970a3f336b12\nMore information can be found using '.get_logs()'\nError:\n{\n  \"code\": \"AciDeploymentFailed\",\n  \"message\": \"Aci Deployment failed with exception: Your container application crashed. This may be caused by errors in your scoring file's init() function.\\nPlease check the logs for your container instance: service-ideb. From the AML SDK, you can run print(service.get_logs()) if you have service object to fetch the logs. \\nYou can interactively debug your scoring file locally. Please refer to https://docs.microsoft.com/azure/machine-learning/how-to-debug-visual-studio-code#debug-and-troubleshoot-deployments for more information.\\nYou can also try to run image viennaglobal.azurecr.io/azureml/azureml_4f3cee89203e005745d1830c04fe722a locally. Please refer to https://aka.ms/debugimage#service-launch-fails for more information.\",\n  \"details\": [\n    {\n      \"code\": \"CrashLoopBackOff\",\n      \"message\": \"Your container application crashed. This may be caused by errors in your scoring file's init() function.\\nPlease check the logs for your container instance: service-ideb. From the AML SDK, you can run print(service.get_logs()) if you have service object to fetch the logs. \\nYou can interactively debug your scoring file locally. Please refer to https://docs.microsoft.com/azure/machine-learning/how-to-debug-visual-studio-code#debug-and-troubleshoot-deployments for more information.\\nYou can also try to run image viennaglobal.azurecr.io/azureml/azureml_4f3cee89203e005745d1830c04fe722a locally. Please refer to https://aka.ms/debugimage#service-launch-fails for more information.\"\n    },\n    {\n      \"code\": \"AciDeploymentFailed\",\n      \"message\": \"Your container application crashed. Please follow the steps to debug:\\n1. From the AML SDK, you can run print(service.get_logs()) if you have service object to fetch the logs. Please refer to https://aka.ms/debugimage#dockerlog for more information.\\n2. If your container application crashed. This may be caused by errors in your scoring file's init() function. You can try debugging locally first. Please refer to https://aka.ms/debugimage#debug-locally for more information.\\n3. You can also interactively debug your scoring file locally. Please refer to https://docs.microsoft.com/azure/machine-learning/how-to-debug-visual-studio-code#debug-and-troubleshoot-deployments for more information.\\n4. View the diagnostic events to check status of container, it may help you to debug the issue. {\\\"restartCount\\\":5,\\\"currentState\\\":{\\\"state\\\":\\\"Waiting\\\",\\\"startTime\\\":null,\\\"exitCode\\\":null,\\\"finishTime\\\":null,\\\"detailStatus\\\":\\\"CrashLoopBackOff: Back-off restarting failed\\\"},\\\"previousState\\\":{\\\"state\\\":\\\"Terminated\\\",\\\"startTime\\\":\\\"2021-01-07T15:30:52.416Z\\\",\\\"exitCode\\\":111,\\\"finishTime\\\":\\\"2021-01-07T15:31:00.194Z\\\",\\\"detailStatus\\\":\\\"Error\\\"},\\\"events\\\":null}\"\n    }\n  ]\n}\n\tInnerException None\n\tErrorResponse \n{\n    \"error\": {\n        \"message\": \"Service deployment polling reached non-successful terminal state, current service state: Failed\\nOperation ID: 6f1191d6-2b2c-4d7a-b800-970a3f336b12\\nMore information can be found using '.get_logs()'\\nError:\\n{\\n  \\\"code\\\": \\\"AciDeploymentFailed\\\",\\n  \\\"message\\\": \\\"Aci Deployment failed with exception: Your container application crashed. This may be caused by errors in your scoring file's init() function.\\\\nPlease check the logs for your container instance: service-ideb. From the AML SDK, you can run print(service.get_logs()) if you have service object to fetch the logs. \\\\nYou can interactively debug your scoring file locally. Please refer to https://docs.microsoft.com/azure/machine-learning/how-to-debug-visual-studio-code#debug-and-troubleshoot-deployments for more information.\\\\nYou can also try to run image viennaglobal.azurecr.io/azureml/azureml_4f3cee89203e005745d1830c04fe722a locally. Please refer to https://aka.ms/debugimage#service-launch-fails for more information.\\\",\\n  \\\"details\\\": [\\n    {\\n      \\\"code\\\": \\\"CrashLoopBackOff\\\",\\n      \\\"message\\\": \\\"Your container application crashed. This may be caused by errors in your scoring file's init() function.\\\\nPlease check the logs for your container instance: service-ideb. From the AML SDK, you can run print(service.get_logs()) if you have service object to fetch the logs. \\\\nYou can interactively debug your scoring file locally. Please refer to https://docs.microsoft.com/azure/machine-learning/how-to-debug-visual-studio-code#debug-and-troubleshoot-deployments for more information.\\\\nYou can also try to run image viennaglobal.azurecr.io/azureml/azureml_4f3cee89203e005745d1830c04fe722a locally. Please refer to https://aka.ms/debugimage#service-launch-fails for more information.\\\"\\n    },\\n    {\\n      \\\"code\\\": \\\"AciDeploymentFailed\\\",\\n      \\\"message\\\": \\\"Your container application crashed. Please follow the steps to debug:\\\\n1. From the AML SDK, you can run print(service.get_logs()) if you have service object to fetch the logs. Please refer to https://aka.ms/debugimage#dockerlog for more information.\\\\n2. If your container application crashed. This may be caused by errors in your scoring file's init() function. You can try debugging locally first. Please refer to https://aka.ms/debugimage#debug-locally for more information.\\\\n3. You can also interactively debug your scoring file locally. Please refer to https://docs.microsoft.com/azure/machine-learning/how-to-debug-visual-studio-code#debug-and-troubleshoot-deployments for more information.\\\\n4. View the diagnostic events to check status of container, it may help you to debug the issue. {\\\\\\\"restartCount\\\\\\\":5,\\\\\\\"currentState\\\\\\\":{\\\\\\\"state\\\\\\\":\\\\\\\"Waiting\\\\\\\",\\\\\\\"startTime\\\\\\\":null,\\\\\\\"exitCode\\\\\\\":null,\\\\\\\"finishTime\\\\\\\":null,\\\\\\\"detailStatus\\\\\\\":\\\\\\\"CrashLoopBackOff: Back-off restarting failed\\\\\\\"},\\\\\\\"previousState\\\\\\\":{\\\\\\\"state\\\\\\\":\\\\\\\"Terminated\\\\\\\",\\\\\\\"startTime\\\\\\\":\\\\\\\"2021-01-07T15:30:52.416Z\\\\\\\",\\\\\\\"exitCode\\\\\\\":111,\\\\\\\"finishTime\\\\\\\":\\\\\\\"2021-01-07T15:31:00.194Z\\\\\\\",\\\\\\\"detailStatus\\\\\\\":\\\\\\\"Error\\\\\\\"},\\\\\\\"events\\\\\\\":null}\\\"\\n    }\\n  ]\\n}\"\n    }\n}",
          "traceback": [
            "\u001b[0;31m---------------------------------------------------------------------------\u001b[0m",
            "\u001b[0;31mWebserviceException\u001b[0m                       Traceback (most recent call last)",
            "\u001b[0;32m<ipython-input-76-20227eaac985>\u001b[0m in \u001b[0;36m<module>\u001b[0;34m\u001b[0m\n\u001b[0;32m----> 1\u001b[0;31m \u001b[0maci_service\u001b[0m\u001b[0;34m.\u001b[0m\u001b[0mwait_for_deployment\u001b[0m\u001b[0;34m(\u001b[0m\u001b[0;32mTrue\u001b[0m\u001b[0;34m)\u001b[0m\u001b[0;34m\u001b[0m\u001b[0;34m\u001b[0m\u001b[0m\n\u001b[0m\u001b[1;32m      2\u001b[0m \u001b[0mprint\u001b[0m\u001b[0;34m(\u001b[0m\u001b[0maci_service\u001b[0m\u001b[0;34m.\u001b[0m\u001b[0mstate\u001b[0m\u001b[0;34m)\u001b[0m\u001b[0;34m\u001b[0m\u001b[0;34m\u001b[0m\u001b[0m\n",
            "\u001b[0;32m/anaconda/envs/azureml_py36/lib/python3.6/site-packages/azureml/core/webservice/webservice.py\u001b[0m in \u001b[0;36mwait_for_deployment\u001b[0;34m(self, show_output, timeout_sec)\u001b[0m\n\u001b[1;32m    913\u001b[0m                                           \u001b[0;34m'Error:\\n'\u001b[0m\u001b[0;34m\u001b[0m\u001b[0;34m\u001b[0m\u001b[0m\n\u001b[1;32m    914\u001b[0m                                           '{}'.format(self.state, self._operation_endpoint.split('/')[-1],\n\u001b[0;32m--> 915\u001b[0;31m                                                       logs_response, error_response), logger=module_logger)\n\u001b[0m\u001b[1;32m    916\u001b[0m             print('{} service creation operation finished, operation \"{}\"'.format(self._webservice_type,\n\u001b[1;32m    917\u001b[0m                                                                                   operation_state))\n",
            "\u001b[0;31mWebserviceException\u001b[0m: WebserviceException:\n\tMessage: Service deployment polling reached non-successful terminal state, current service state: Failed\nOperation ID: 6f1191d6-2b2c-4d7a-b800-970a3f336b12\nMore information can be found using '.get_logs()'\nError:\n{\n  \"code\": \"AciDeploymentFailed\",\n  \"message\": \"Aci Deployment failed with exception: Your container application crashed. This may be caused by errors in your scoring file's init() function.\\nPlease check the logs for your container instance: service-ideb. From the AML SDK, you can run print(service.get_logs()) if you have service object to fetch the logs. \\nYou can interactively debug your scoring file locally. Please refer to https://docs.microsoft.com/azure/machine-learning/how-to-debug-visual-studio-code#debug-and-troubleshoot-deployments for more information.\\nYou can also try to run image viennaglobal.azurecr.io/azureml/azureml_4f3cee89203e005745d1830c04fe722a locally. Please refer to https://aka.ms/debugimage#service-launch-fails for more information.\",\n  \"details\": [\n    {\n      \"code\": \"CrashLoopBackOff\",\n      \"message\": \"Your container application crashed. This may be caused by errors in your scoring file's init() function.\\nPlease check the logs for your container instance: service-ideb. From the AML SDK, you can run print(service.get_logs()) if you have service object to fetch the logs. \\nYou can interactively debug your scoring file locally. Please refer to https://docs.microsoft.com/azure/machine-learning/how-to-debug-visual-studio-code#debug-and-troubleshoot-deployments for more information.\\nYou can also try to run image viennaglobal.azurecr.io/azureml/azureml_4f3cee89203e005745d1830c04fe722a locally. Please refer to https://aka.ms/debugimage#service-launch-fails for more information.\"\n    },\n    {\n      \"code\": \"AciDeploymentFailed\",\n      \"message\": \"Your container application crashed. Please follow the steps to debug:\\n1. From the AML SDK, you can run print(service.get_logs()) if you have service object to fetch the logs. Please refer to https://aka.ms/debugimage#dockerlog for more information.\\n2. If your container application crashed. This may be caused by errors in your scoring file's init() function. You can try debugging locally first. Please refer to https://aka.ms/debugimage#debug-locally for more information.\\n3. You can also interactively debug your scoring file locally. Please refer to https://docs.microsoft.com/azure/machine-learning/how-to-debug-visual-studio-code#debug-and-troubleshoot-deployments for more information.\\n4. View the diagnostic events to check status of container, it may help you to debug the issue. {\\\"restartCount\\\":5,\\\"currentState\\\":{\\\"state\\\":\\\"Waiting\\\",\\\"startTime\\\":null,\\\"exitCode\\\":null,\\\"finishTime\\\":null,\\\"detailStatus\\\":\\\"CrashLoopBackOff: Back-off restarting failed\\\"},\\\"previousState\\\":{\\\"state\\\":\\\"Terminated\\\",\\\"startTime\\\":\\\"2021-01-07T15:30:52.416Z\\\",\\\"exitCode\\\":111,\\\"finishTime\\\":\\\"2021-01-07T15:31:00.194Z\\\",\\\"detailStatus\\\":\\\"Error\\\"},\\\"events\\\":null}\"\n    }\n  ]\n}\n\tInnerException None\n\tErrorResponse \n{\n    \"error\": {\n        \"message\": \"Service deployment polling reached non-successful terminal state, current service state: Failed\\nOperation ID: 6f1191d6-2b2c-4d7a-b800-970a3f336b12\\nMore information can be found using '.get_logs()'\\nError:\\n{\\n  \\\"code\\\": \\\"AciDeploymentFailed\\\",\\n  \\\"message\\\": \\\"Aci Deployment failed with exception: Your container application crashed. This may be caused by errors in your scoring file's init() function.\\\\nPlease check the logs for your container instance: service-ideb. From the AML SDK, you can run print(service.get_logs()) if you have service object to fetch the logs. \\\\nYou can interactively debug your scoring file locally. Please refer to https://docs.microsoft.com/azure/machine-learning/how-to-debug-visual-studio-code#debug-and-troubleshoot-deployments for more information.\\\\nYou can also try to run image viennaglobal.azurecr.io/azureml/azureml_4f3cee89203e005745d1830c04fe722a locally. Please refer to https://aka.ms/debugimage#service-launch-fails for more information.\\\",\\n  \\\"details\\\": [\\n    {\\n      \\\"code\\\": \\\"CrashLoopBackOff\\\",\\n      \\\"message\\\": \\\"Your container application crashed. This may be caused by errors in your scoring file's init() function.\\\\nPlease check the logs for your container instance: service-ideb. From the AML SDK, you can run print(service.get_logs()) if you have service object to fetch the logs. \\\\nYou can interactively debug your scoring file locally. Please refer to https://docs.microsoft.com/azure/machine-learning/how-to-debug-visual-studio-code#debug-and-troubleshoot-deployments for more information.\\\\nYou can also try to run image viennaglobal.azurecr.io/azureml/azureml_4f3cee89203e005745d1830c04fe722a locally. Please refer to https://aka.ms/debugimage#service-launch-fails for more information.\\\"\\n    },\\n    {\\n      \\\"code\\\": \\\"AciDeploymentFailed\\\",\\n      \\\"message\\\": \\\"Your container application crashed. Please follow the steps to debug:\\\\n1. From the AML SDK, you can run print(service.get_logs()) if you have service object to fetch the logs. Please refer to https://aka.ms/debugimage#dockerlog for more information.\\\\n2. If your container application crashed. This may be caused by errors in your scoring file's init() function. You can try debugging locally first. Please refer to https://aka.ms/debugimage#debug-locally for more information.\\\\n3. You can also interactively debug your scoring file locally. Please refer to https://docs.microsoft.com/azure/machine-learning/how-to-debug-visual-studio-code#debug-and-troubleshoot-deployments for more information.\\\\n4. View the diagnostic events to check status of container, it may help you to debug the issue. {\\\\\\\"restartCount\\\\\\\":5,\\\\\\\"currentState\\\\\\\":{\\\\\\\"state\\\\\\\":\\\\\\\"Waiting\\\\\\\",\\\\\\\"startTime\\\\\\\":null,\\\\\\\"exitCode\\\\\\\":null,\\\\\\\"finishTime\\\\\\\":null,\\\\\\\"detailStatus\\\\\\\":\\\\\\\"CrashLoopBackOff: Back-off restarting failed\\\\\\\"},\\\\\\\"previousState\\\\\\\":{\\\\\\\"state\\\\\\\":\\\\\\\"Terminated\\\\\\\",\\\\\\\"startTime\\\\\\\":\\\\\\\"2021-01-07T15:30:52.416Z\\\\\\\",\\\\\\\"exitCode\\\\\\\":111,\\\\\\\"finishTime\\\\\\\":\\\\\\\"2021-01-07T15:31:00.194Z\\\\\\\",\\\\\\\"detailStatus\\\\\\\":\\\\\\\"Error\\\\\\\"},\\\\\\\"events\\\\\\\":null}\\\"\\n    }\\n  ]\\n}\"\n    }\n}"
          ]
        }
      ],
      "execution_count": 76,
      "metadata": {
        "collapsed": true,
        "jupyter": {
          "source_hidden": false,
          "outputs_hidden": false
        },
        "nteract": {
          "transient": {
            "deleting": false
          }
        }
      }
    },
    {
      "cell_type": "markdown",
      "source": [
        "## Test the Deploy model\r\n",
        "TODO: In the cell below, send a request to the web service you deployed to test it."
      ],
      "metadata": {
        "collapsed": true,
        "gather": {
          "logged": 1598431657736
        },
        "jupyter": {
          "outputs_hidden": false,
          "source_hidden": false
        },
        "nteract": {
          "transient": {
            "deleting": false
          }
        }
      }
    },
    {
      "cell_type": "code",
      "source": [
        "# scoring endpoint\r\n",
        "scoring_uri = service.scoring_uri\r\n",
        "\r\n",
        "data = {\r\n",
        "  \"data\": [\r\n",
        "    {\r\n",
        "      \"amount_tsh\": 0,\r\n",
        "      \"date_recorded\": \"2013-02-04 00:00:00,000000\",\r\n",
        "      \"funder\": \"Dmdd\",\r\n",
        "      \"gps_height\": 1996,\r\n",
        "      \"installer\": \"DMDD\",\r\n",
        "      \"longitude\": 35.2907992,\r\n",
        "      \"latitude\": -4.05969643,\r\n",
        "      \"wpt_name\": \"Dinamu Secondary School\",\r\n",
        "      \"num_private\": 0,\r\n",
        "      \"basin\": \"Internal\",\r\n",
        "      \"subvillage\": \"Magoma\",\r\n",
        "      \"region\": \"Manyara\",\r\n",
        "      \"region_code\": 21,\r\n",
        "      \"district_code\": 3,\r\n",
        "      \"lga\": \"Mbulu\",\r\n",
        "      \"ward\": \"Bashay\",\r\n",
        "      \"population\": 321,\r\n",
        "      \"public_meeting\": \"True\",\r\n",
        "      \"scheme_management\": \"Parastatal\",\r\n",
        "      \"scheme_name\": \"\",\r\n",
        "      \"permit\": \"True\",\r\n",
        "      \"construction_year\": 2012,\r\n",
        "      \"extraction_type\": \"other\",\r\n",
        "      \"extraction_type_group\": \"other\",\r\n",
        "      \"extraction_type_class\": \"other\",\r\n",
        "      \"management\": \"parastatal\",\r\n",
        "      \"management_group\": \"parastatal\",\r\n",
        "      \"payment\": \"never pay\",\r\n",
        "      \"payment_type\": \"never pay\",\r\n",
        "      \"water_quality\": \"soft\",\r\n",
        "      \"quality_group\": \"good\",\r\n",
        "      \"quantity\": \"seasonal\",\r\n",
        "      \"quantity_group\": \"seasonal\",\r\n",
        "      \"source\": \"rainwater harvesting\",\r\n",
        "      \"source_type\": \"rainwater harvesting\",\r\n",
        "      \"source_class\": \"surface\",\r\n",
        "      \"waterpoint_type\": \"other\",\r\n",
        "      \"waterpoint_type_group\": \"other\"\r\n",
        "    }\r\n",
        "  ]\r\n",
        "}\r\n",
        "# Convert to JSON string\r\n",
        "input_data = json.dumps(data)\r\n",
        "\r\n",
        "# Set the content type\r\n",
        "headers = {'Content-Type': 'application/json'}\r\n",
        "\r\n",
        "# Make the request and display the response\r\n",
        "resp = requests.post(scoring_uri, input_data, headers=headers)\r\n",
        "print(resp.json())"
      ],
      "outputs": [],
      "execution_count": null,
      "metadata": {
        "gather": {
          "logged": 1598432707604
        },
        "jupyter": {
          "outputs_hidden": false,
          "source_hidden": false
        },
        "nteract": {
          "transient": {
            "deleting": false
          }
        }
      }
    },
    {
      "cell_type": "markdown",
      "source": [
        "TODO: In the cell below, print the logs of the web service and delete the service"
      ],
      "metadata": {
        "collapsed": true,
        "gather": {
          "logged": 1598432765711
        },
        "jupyter": {
          "outputs_hidden": false,
          "source_hidden": false
        },
        "nteract": {
          "transient": {
            "deleting": false
          }
        }
      }
    },
    {
      "cell_type": "code",
      "source": [
        "logs = service.get_logs()\r\n",
        "print(logs)\r\n",
        "service.delete()"
      ],
      "outputs": [],
      "execution_count": null,
      "metadata": {
        "jupyter": {
          "outputs_hidden": false,
          "source_hidden": false
        },
        "nteract": {
          "transient": {
            "deleting": false
          }
        }
      }
    }
  ],
  "metadata": {
    "kernel_info": {
      "name": "python3"
    },
    "kernelspec": {
      "name": "python3",
      "language": "python",
      "display_name": "Python 3"
    },
    "language_info": {
      "name": "python",
      "version": "3.6.9",
      "mimetype": "text/x-python",
      "codemirror_mode": {
        "name": "ipython",
        "version": 3
      },
      "pygments_lexer": "ipython3",
      "nbconvert_exporter": "python",
      "file_extension": ".py"
    },
    "nteract": {
      "version": "nteract-front-end@1.0.0"
    }
  },
  "nbformat": 4,
  "nbformat_minor": 2
}
