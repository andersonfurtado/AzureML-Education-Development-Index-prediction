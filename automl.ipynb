{
  "cells": [
    {
      "cell_type": "markdown",
      "source": [
        "# Automated Machine Learning"
      ],
      "metadata": {
        "nteract": {
          "transient": {
            "deleting": false
          }
        }
      }
    },
    {
      "cell_type": "code",
      "source": [
        "\r\n",
        "\r\n",
        "from matplotlib import pyplot as plt\r\n",
        "import numpy as np\r\n",
        "import pandas as pd\r\n",
        " \r\n",
        "\r\n",
        "import azureml.core\r\n",
        "from azureml.core.experiment import Experiment\r\n",
        "from azureml.core.workspace import Workspace\r\n",
        "from azureml.core.dataset import Dataset\r\n",
        "from azureml.train.automl import AutoMLConfig\r\n",
        "from azureml.data.dataset_factory import TabularDatasetFactory\r\n",
        "\r\n",
        "\r\n",
        "\r\n",
        "# Check core SDK version number\r\n",
        "print(\"SDK version:\", azureml.core.VERSION)"
      ],
      "outputs": [
        {
          "output_type": "stream",
          "name": "stdout",
          "text": [
            "SDK version: 1.20.0\n"
          ]
        }
      ],
      "execution_count": 1,
      "metadata": {
        "gather": {
          "logged": 1610918420605
        }
      }
    },
    {
      "cell_type": "code",
      "source": [
        "ws = Workspace.from_config()\r\n",
        "print(ws.name, ws.resource_group, ws.location, ws.subscription_id, sep = '\\n')"
      ],
      "outputs": [
        {
          "output_type": "stream",
          "name": "stdout",
          "text": [
            "AZML\n",
            "RG-AZML\n",
            "eastus\n",
            "a748a023-896b-4719-8f8e-3d1ba62d6e35\n"
          ]
        }
      ],
      "execution_count": 5,
      "metadata": {
        "collapsed": true,
        "jupyter": {
          "source_hidden": false,
          "outputs_hidden": false
        },
        "nteract": {
          "transient": {
            "deleting": false
          }
        },
        "gather": {
          "logged": 1610919551753
        }
      }
    },
    {
      "cell_type": "code",
      "source": [
        "# Choose a name for the experiment.\r\n",
        "experiment_name = 'ideb-regression'\r\n",
        "\r\n",
        "experiment = Experiment(ws, experiment_name)\r\n",
        "\r\n",
        "output = {}\r\n",
        "output['Subscription ID'] = ws.subscription_id\r\n",
        "output['Workspace'] = ws.name\r\n",
        "output['Resource Group'] = ws.resource_group\r\n",
        "output['Location'] = ws.location\r\n",
        "output['Run History Name'] = experiment_name\r\n",
        "pd.set_option('display.max_colwidth', -1)\r\n",
        "outputDf = pd.DataFrame(data = output, index = [''])\r\n",
        "outputDf.T"
      ],
      "outputs": [
        {
          "output_type": "execute_result",
          "execution_count": 3,
          "data": {
            "text/plain": "                                                      \nSubscription ID   a748a023-896b-4719-8f8e-3d1ba62d6e35\nWorkspace         AZML                                \nResource Group    RG-AZML                             \nLocation          eastus                              \nRun History Name  ideb-regression                     ",
            "text/html": "<div>\n<style scoped>\n    .dataframe tbody tr th:only-of-type {\n        vertical-align: middle;\n    }\n\n    .dataframe tbody tr th {\n        vertical-align: top;\n    }\n\n    .dataframe thead th {\n        text-align: right;\n    }\n</style>\n<table border=\"1\" class=\"dataframe\">\n  <thead>\n    <tr style=\"text-align: right;\">\n      <th></th>\n      <th></th>\n    </tr>\n  </thead>\n  <tbody>\n    <tr>\n      <th>Subscription ID</th>\n      <td>a748a023-896b-4719-8f8e-3d1ba62d6e35</td>\n    </tr>\n    <tr>\n      <th>Workspace</th>\n      <td>AZML</td>\n    </tr>\n    <tr>\n      <th>Resource Group</th>\n      <td>RG-AZML</td>\n    </tr>\n    <tr>\n      <th>Location</th>\n      <td>eastus</td>\n    </tr>\n    <tr>\n      <th>Run History Name</th>\n      <td>ideb-regression</td>\n    </tr>\n  </tbody>\n</table>\n</div>"
          },
          "metadata": {}
        }
      ],
      "execution_count": 3,
      "metadata": {
        "collapsed": true,
        "jupyter": {
          "source_hidden": false,
          "outputs_hidden": false
        },
        "nteract": {
          "transient": {
            "deleting": false
          }
        },
        "gather": {
          "logged": 1610918425584
        }
      }
    },
    {
      "cell_type": "markdown",
      "source": [
        "## Using AmlCompute"
      ],
      "metadata": {
        "nteract": {
          "transient": {
            "deleting": false
          }
        }
      }
    },
    {
      "cell_type": "code",
      "source": [
        "from azureml.core.compute import ComputeTarget, AmlCompute\r\n",
        "from azureml.core.compute_target import ComputeTargetException\r\n",
        "\r\n",
        "# Choose a name for your CPU cluster\r\n",
        "cpu_cluster_name = \"automl-cluster\"\r\n",
        "\r\n",
        "# Verify that cluster does not exist already\r\n",
        "try:\r\n",
        "    compute_target = ComputeTarget(workspace=ws, name=cpu_cluster_name)\r\n",
        "    print('Found existing cluster, use it.')\r\n",
        "except ComputeTargetException:\r\n",
        "    compute_config = AmlCompute.provisioning_configuration(vm_size='STANDARD_D2_V2',\r\n",
        "                                                           max_nodes=4)\r\n",
        "    compute_target = ComputeTarget.create(ws, cpu_cluster_name, compute_config)\r\n",
        "\r\n",
        "compute_target.wait_for_completion(show_output=True)"
      ],
      "outputs": [
        {
          "output_type": "stream",
          "name": "stdout",
          "text": [
            "Found existing cluster, use it.\n",
            "\n",
            "Jobrunning...................................................................................................................................................................................................\n",
            "Running\n"
          ]
        }
      ],
      "execution_count": 4,
      "metadata": {
        "collapsed": true,
        "jupyter": {
          "source_hidden": false,
          "outputs_hidden": false
        },
        "nteract": {
          "transient": {
            "deleting": false
          }
        },
        "gather": {
          "logged": 1610919551142
        }
      }
    },
    {
      "cell_type": "markdown",
      "source": [
        "## Data"
      ],
      "metadata": {
        "nteract": {
          "transient": {
            "deleting": false
          }
        }
      }
    },
    {
      "cell_type": "markdown",
      "source": [
        "### Load Data"
      ],
      "metadata": {
        "nteract": {
          "transient": {
            "deleting": false
          }
        }
      }
    },
    {
      "cell_type": "code",
      "source": [
        "datastore = ws.get_default_datastore()\r\n",
        "path = \"data/Train.csv\"\r\n",
        "try:\r\n",
        "    ideb_dataset = Dataset.get_by_name(ws, name=\"ideb_dataset\")\r\n",
        "except:\r\n",
        "    datastore.upload('data', target_path='data')\r\n",
        "    # Create TabularDataset & register in workspace\r\n",
        "    ideb_dataset = Dataset.Tabular.from_delimited_files([(datastore, path)])\r\n",
        "    ideb_dataset = ideb_dataset.register(\r\n",
        "        ws, name=\"ideb_dataset\", create_new_version=True,\r\n",
        "        description=\"Dataset for ideb prediction\"\r\n",
        "    )"
      ],
      "outputs": [],
      "execution_count": 6,
      "metadata": {
        "collapsed": true,
        "jupyter": {
          "source_hidden": false,
          "outputs_hidden": false
        },
        "nteract": {
          "transient": {
            "deleting": false
          }
        },
        "gather": {
          "logged": 1610920458069
        }
      }
    },
    {
      "cell_type": "markdown",
      "source": [
        "## Automl Settings"
      ],
      "metadata": {
        "nteract": {
          "transient": {
            "deleting": false
          }
        }
      }
    },
    {
      "cell_type": "code",
      "source": [
        "automl_settings = {\r\n",
        "    \"n_cross_validations\": 3,\r\n",
        "    \"primary_metric\": 'r2_score',\r\n",
        "    \"enable_early_stopping\": True, \r\n",
        "    \"experiment_timeout_hours\": 0.5, \r\n",
        "    \"max_concurrent_iterations\": 4,\r\n",
        "    \"max_cores_per_iteration\": -1,\r\n",
        "     \"featurization\": 'auto',\r\n",
        "    \"verbosity\": logging.INFO,\r\n",
        "}\r\n",
        "\r\n",
        "automl_config = AutoMLConfig(task = 'regression',\r\n",
        "                             compute_target = compute_target,\r\n",
        "                             training_data = ideb_dataset,\r\n",
        "                             label_column_name = \"IDEB_2019\",\r\n",
        "                             **automl_settings\r\n",
        "                            )\r\n",
        "\r\n"
      ],
      "outputs": [],
      "execution_count": 7,
      "metadata": {
        "collapsed": true,
        "jupyter": {
          "source_hidden": false,
          "outputs_hidden": false
        },
        "nteract": {
          "transient": {
            "deleting": false
          }
        },
        "gather": {
          "logged": 1610920460085
        }
      }
    },
    {
      "cell_type": "code",
      "source": [
        "remote_run = experiment.submit(automl_config, show_output = True)"
      ],
      "outputs": [
        {
          "output_type": "stream",
          "name": "stdout",
          "text": [
            "Running on remote.\n",
            "No run_configuration provided, running on automl-cluster with default configuration\n",
            "Running on remote compute: automl-cluster\n",
            "Parent Run ID: AutoML_71dcb722-b632-4ead-8c1c-007a85bc8a92\n",
            "\n",
            "Current status: FeaturesGeneration. Generating features for the dataset.\n",
            "Current status: DatasetCrossValidationSplit. Generating individually featurized CV splits.\n",
            "Current status: ModelSelection. Beginning model selection.\n",
            "\n",
            "****************************************************************************************************\n",
            "DATA GUARDRAILS: \n",
            "\n",
            "TYPE:         Missing feature values imputation\n",
            "STATUS:       PASSED\n",
            "DESCRIPTION:  No feature missing values were detected in the training data.\n",
            "              Learn more about missing value imputation: https://aka.ms/AutomatedMLFeaturization\n",
            "\n",
            "****************************************************************************************************\n",
            "\n",
            "TYPE:         High cardinality feature detection\n",
            "STATUS:       DONE\n",
            "DESCRIPTION:  High cardinality features were detected in your inputs and handled.\n",
            "              Learn more about high cardinality feature handling: https://aka.ms/AutomatedMLFeaturization\n",
            "DETAILS:      High cardinality features refer to columns that contain a large percentage of unique values.\n",
            "+---------------------------------+---------------------------------+\n",
            "|Column name                      |Column Content Type              |\n",
            "+=================================+=================================+\n",
            "|TAprov2019_2_serie               |categorical_hash                 |\n",
            "+---------------------------------+---------------------------------+\n",
            "\n",
            "****************************************************************************************************\n",
            "\n",
            "****************************************************************************************************\n",
            "ITERATION: The iteration being evaluated.\n",
            "PIPELINE: A summary description of the pipeline being evaluated.\n",
            "DURATION: Time taken for the current iteration.\n",
            "METRIC: The result of computing score on the fitted pipeline.\n",
            "BEST: The best observed score thus far.\n",
            "****************************************************************************************************\n",
            "\n",
            " ITERATION   PIPELINE                                       DURATION      METRIC      BEST\n",
            "         0   MaxAbsScaler LightGBM                          0:05:32       0.9966    0.9966\n",
            "         1   MaxAbsScaler XGBoostRegressor                  0:05:41       0.9968    0.9968\n",
            "         2   SparseNormalizer XGBoostRegressor              0:05:43       0.9578    0.9968\n",
            "         3   MaxAbsScaler RandomForest                      0:05:44       0.9844    0.9968\n",
            "         4   StandardScalerWrapper XGBoostRegressor         0:06:30       0.9970    0.9970\n",
            "         5   MaxAbsScaler ElasticNet                        0:06:17       0.9933    0.9970\n",
            "         6   MaxAbsScaler RandomForest                      0:06:32       0.9742    0.9970\n",
            "         7   StandardScalerWrapper XGBoostRegressor         0:06:18       0.9971    0.9971\n",
            "         8   MaxAbsScaler ExtremeRandomTrees                0:05:22       0.9931    0.9971\n",
            "         9   StandardScalerWrapper ElasticNet               0:05:11       0.9894    0.9971\n",
            "        11   MaxAbsScaler RandomForest                      0:05:13       0.7291    0.9971\n",
            "        10   MaxAbsScaler RandomForest                      0:05:42       0.8563    0.9971\n",
            "        13   MaxAbsScaler ExtremeRandomTrees                0:05:15       0.9930    0.9971\n",
            "        12   StandardScalerWrapper XGBoostRegressor         0:05:29       0.8738    0.9971\n",
            "        14   MaxAbsScaler ExtremeRandomTrees                0:05:32       0.8875    0.9971\n",
            "        15   MaxAbsScaler ExtremeRandomTrees                0:05:19       0.9921    0.9971\n",
            "        16   MaxAbsScaler ElasticNet                        0:06:18       0.9918    0.9971\n",
            "ERROR: {\n",
            "    \"additional_properties\": {},\n",
            "    \"error\": {\n",
            "        \"additional_properties\": {\n",
            "            \"debugInfo\": null\n",
            "        },\n",
            "        \"code\": \"UserError\",\n",
            "        \"severity\": null,\n",
            "        \"message\": \"Experiment timeout reached, please consider increasing your experiment timeout.\",\n",
            "        \"message_format\": \"Experiment timeout reached, please consider increasing your experiment timeout.\",\n",
            "        \"message_parameters\": {},\n",
            "        \"reference_code\": null,\n",
            "        \"details_uri\": null,\n",
            "        \"target\": null,\n",
            "        \"details\": [],\n",
            "        \"inner_error\": {\n",
            "            \"additional_properties\": {},\n",
            "            \"code\": \"ResourceExhausted\",\n",
            "            \"inner_error\": {\n",
            "                \"additional_properties\": {},\n",
            "                \"code\": \"Timeout\",\n",
            "                \"inner_error\": {\n",
            "                    \"additional_properties\": {},\n",
            "                    \"code\": \"ExperimentTimeoutForIterations\",\n",
            "                    \"inner_error\": null\n",
            "                }\n",
            "            }\n",
            "        }\n",
            "    },\n",
            "    \"correlation\": null,\n",
            "    \"environment\": null,\n",
            "    \"location\": null,\n",
            "    \"time\": {},\n",
            "    \"component_name\": null\n",
            "}\n",
            "        17   MaxAbsScaler RandomForest                      0:06:12       0.8882    0.9971\n",
            "        18   MaxAbsScaler RandomForest                      0:06:06       0.9632    0.9971\n",
            "ERROR: {\n",
            "    \"additional_properties\": {},\n",
            "    \"error\": {\n",
            "        \"additional_properties\": {\n",
            "            \"debugInfo\": null\n",
            "        },\n",
            "        \"code\": \"UserError\",\n",
            "        \"severity\": null,\n",
            "        \"message\": \"Experiment timeout reached, please consider increasing your experiment timeout.\",\n",
            "        \"message_format\": \"Experiment timeout reached, please consider increasing your experiment timeout.\",\n",
            "        \"message_parameters\": {},\n",
            "        \"reference_code\": null,\n",
            "        \"details_uri\": null,\n",
            "        \"target\": null,\n",
            "        \"details\": [],\n",
            "        \"inner_error\": {\n",
            "            \"additional_properties\": {},\n",
            "            \"code\": \"ResourceExhausted\",\n",
            "            \"inner_error\": {\n",
            "                \"additional_properties\": {},\n",
            "                \"code\": \"Timeout\",\n",
            "                \"inner_error\": {\n",
            "                    \"additional_properties\": {},\n",
            "                    \"code\": \"ExperimentTimeoutForIterations\",\n",
            "                    \"inner_error\": null\n",
            "                }\n",
            "            }\n",
            "        }\n",
            "    },\n",
            "    \"correlation\": null,\n",
            "    \"environment\": null,\n",
            "    \"location\": null,\n",
            "    \"time\": {},\n",
            "    \"component_name\": null\n",
            "}\n",
            "        19   SparseNormalizer XGBoostRegressor              0:06:15       0.9717    0.9971\n",
            "ERROR: {\n",
            "    \"additional_properties\": {},\n",
            "    \"error\": {\n",
            "        \"additional_properties\": {\n",
            "            \"debugInfo\": null\n",
            "        },\n",
            "        \"code\": \"UserError\",\n",
            "        \"severity\": null,\n",
            "        \"message\": \"Experiment timeout reached, please consider increasing your experiment timeout.\",\n",
            "        \"message_format\": \"Experiment timeout reached, please consider increasing your experiment timeout.\",\n",
            "        \"message_parameters\": {},\n",
            "        \"reference_code\": null,\n",
            "        \"details_uri\": null,\n",
            "        \"target\": null,\n",
            "        \"details\": [],\n",
            "        \"inner_error\": {\n",
            "            \"additional_properties\": {},\n",
            "            \"code\": \"ResourceExhausted\",\n",
            "            \"inner_error\": {\n",
            "                \"additional_properties\": {},\n",
            "                \"code\": \"Timeout\",\n",
            "                \"inner_error\": {\n",
            "                    \"additional_properties\": {},\n",
            "                    \"code\": \"ExperimentTimeoutForIterations\",\n",
            "                    \"inner_error\": null\n",
            "                }\n",
            "            }\n",
            "        }\n",
            "    },\n",
            "    \"correlation\": null,\n",
            "    \"environment\": null,\n",
            "    \"location\": null,\n",
            "    \"time\": {},\n",
            "    \"component_name\": null\n",
            "}\n",
            "        20    VotingEnsemble                                0:05:45       0.9976    0.9976\n",
            "        21    StackEnsemble                                 0:05:48       0.9977    0.9977\n"
          ]
        }
      ],
      "execution_count": 8,
      "metadata": {
        "collapsed": true,
        "jupyter": {
          "source_hidden": false,
          "outputs_hidden": false
        },
        "nteract": {
          "transient": {
            "deleting": false
          }
        },
        "gather": {
          "logged": 1610923523532
        }
      }
    },
    {
      "cell_type": "markdown",
      "source": [
        "## Result"
      ],
      "metadata": {
        "nteract": {
          "transient": {
            "deleting": false
          }
        }
      }
    },
    {
      "cell_type": "code",
      "source": [
        "from azureml.widgets import RunDetails\r\n",
        "RunDetails(remote_run).show()"
      ],
      "outputs": [
        {
          "output_type": "display_data",
          "data": {
            "text/plain": "_AutoMLWidget(widget_settings={'childWidgetDisplay': 'popup', 'send_telemetry': False, 'log_level': 'INFO', 's…",
            "application/vnd.jupyter.widget-view+json": {
              "version_major": 2,
              "version_minor": 0,
              "model_id": "4594770e79ab4163991730b5ea8e8c41"
            }
          },
          "metadata": {}
        },
        {
          "output_type": "display_data",
          "data": {
            "application/aml.mini.widget.v1": "{\"status\": \"Completed\", \"workbench_run_details_uri\": \"https://ml.azure.com/experiments/ideb-regression/runs/AutoML_71dcb722-b632-4ead-8c1c-007a85bc8a92?wsid=/subscriptions/a748a023-896b-4719-8f8e-3d1ba62d6e35/resourcegroups/RG-AZML/workspaces/AZML\", \"run_id\": \"AutoML_71dcb722-b632-4ead-8c1c-007a85bc8a92\", \"run_properties\": {\"run_id\": \"AutoML_71dcb722-b632-4ead-8c1c-007a85bc8a92\", \"created_utc\": \"2021-01-17T21:54:25.984666Z\", \"properties\": {\"num_iterations\": \"1000\", \"training_type\": \"TrainFull\", \"acquisition_function\": \"EI\", \"primary_metric\": \"r2_score\", \"train_split\": \"0\", \"acquisition_parameter\": \"0\", \"num_cross_validation\": \"3\", \"target\": \"automl-cluster\", \"AMLSettingsJsonString\": \"{\\\"path\\\":null,\\\"name\\\":\\\"ideb-regression\\\",\\\"subscription_id\\\":\\\"a748a023-896b-4719-8f8e-3d1ba62d6e35\\\",\\\"resource_group\\\":\\\"RG-AZML\\\",\\\"workspace_name\\\":\\\"AZML\\\",\\\"region\\\":\\\"eastus\\\",\\\"compute_target\\\":\\\"automl-cluster\\\",\\\"spark_service\\\":null,\\\"azure_service\\\":\\\"remote\\\",\\\"many_models\\\":false,\\\"pipeline_fetch_max_batch_size\\\":1,\\\"iterations\\\":1000,\\\"primary_metric\\\":\\\"r2_score\\\",\\\"task_type\\\":\\\"regression\\\",\\\"data_script\\\":null,\\\"validation_size\\\":0.0,\\\"n_cross_validations\\\":3,\\\"y_min\\\":null,\\\"y_max\\\":null,\\\"num_classes\\\":null,\\\"featurization\\\":\\\"auto\\\",\\\"_ignore_package_version_incompatibilities\\\":false,\\\"is_timeseries\\\":false,\\\"max_cores_per_iteration\\\":-1,\\\"max_concurrent_iterations\\\":4,\\\"iteration_timeout_minutes\\\":null,\\\"mem_in_mb\\\":null,\\\"enforce_time_on_windows\\\":false,\\\"experiment_timeout_minutes\\\":30,\\\"experiment_exit_score\\\":null,\\\"whitelist_models\\\":null,\\\"blacklist_algos\\\":[\\\"TensorFlowDNN\\\",\\\"TensorFlowLinearRegressor\\\"],\\\"supported_models\\\":[\\\"KNN\\\",\\\"ElasticNet\\\",\\\"GradientBoosting\\\",\\\"SGD\\\",\\\"FastLinearRegressor\\\",\\\"RandomForest\\\",\\\"DecisionTree\\\",\\\"ExtremeRandomTrees\\\",\\\"XGBoostRegressor\\\",\\\"TensorFlowLinearRegressor\\\",\\\"TensorFlowDNN\\\",\\\"LightGBM\\\",\\\"OnlineGradientDescentRegressor\\\",\\\"LassoLars\\\"],\\\"auto_blacklist\\\":true,\\\"blacklist_samples_reached\\\":false,\\\"exclude_nan_labels\\\":true,\\\"verbosity\\\":20,\\\"_debug_log\\\":\\\"azureml_automl.log\\\",\\\"show_warnings\\\":false,\\\"model_explainability\\\":true,\\\"service_url\\\":null,\\\"sdk_url\\\":null,\\\"sdk_packages\\\":null,\\\"enable_onnx_compatible_models\\\":false,\\\"enable_split_onnx_featurizer_estimator_models\\\":false,\\\"vm_type\\\":\\\"STANDARD_DS3_V2\\\",\\\"telemetry_verbosity\\\":20,\\\"send_telemetry\\\":true,\\\"enable_dnn\\\":false,\\\"scenario\\\":\\\"SDK-1.13.0\\\",\\\"environment_label\\\":null,\\\"force_text_dnn\\\":false,\\\"enable_feature_sweeping\\\":true,\\\"enable_early_stopping\\\":true,\\\"early_stopping_n_iters\\\":10,\\\"metrics\\\":null,\\\"enable_ensembling\\\":true,\\\"enable_stack_ensembling\\\":true,\\\"ensemble_iterations\\\":15,\\\"enable_tf\\\":false,\\\"enable_subsampling\\\":null,\\\"subsample_seed\\\":null,\\\"enable_nimbusml\\\":false,\\\"enable_streaming\\\":false,\\\"force_streaming\\\":false,\\\"track_child_runs\\\":true,\\\"allowed_private_models\\\":[],\\\"label_column_name\\\":\\\"IDEB_2019\\\",\\\"weight_column_name\\\":null,\\\"cv_split_column_names\\\":null,\\\"enable_local_managed\\\":false,\\\"_local_managed_run_id\\\":null,\\\"cost_mode\\\":1,\\\"lag_length\\\":0,\\\"metric_operation\\\":\\\"maximize\\\",\\\"preprocess\\\":true}\", \"DataPrepJsonString\": \"{\\\\\\\"training_data\\\\\\\": \\\\\\\"{\\\\\\\\\\\\\\\"blocks\\\\\\\\\\\\\\\": [{\\\\\\\\\\\\\\\"id\\\\\\\\\\\\\\\": \\\\\\\\\\\\\\\"9c6471ac-c76a-455b-8c6c-a58b8e2f11ff\\\\\\\\\\\\\\\", \\\\\\\\\\\\\\\"type\\\\\\\\\\\\\\\": \\\\\\\\\\\\\\\"Microsoft.DPrep.GetDatastoreFilesBlock\\\\\\\\\\\\\\\", \\\\\\\\\\\\\\\"arguments\\\\\\\\\\\\\\\": {\\\\\\\\\\\\\\\"datastores\\\\\\\\\\\\\\\": [{\\\\\\\\\\\\\\\"datastoreName\\\\\\\\\\\\\\\": \\\\\\\\\\\\\\\"workspaceblobstore\\\\\\\\\\\\\\\", \\\\\\\\\\\\\\\"path\\\\\\\\\\\\\\\": \\\\\\\\\\\\\\\"UI/01-17-2021_075815_UTC/data.CSV\\\\\\\\\\\\\\\", \\\\\\\\\\\\\\\"resourceGroup\\\\\\\\\\\\\\\": \\\\\\\\\\\\\\\"RG-AZML\\\\\\\\\\\\\\\", \\\\\\\\\\\\\\\"subscription\\\\\\\\\\\\\\\": \\\\\\\\\\\\\\\"a748a023-896b-4719-8f8e-3d1ba62d6e35\\\\\\\\\\\\\\\", \\\\\\\\\\\\\\\"workspaceName\\\\\\\\\\\\\\\": \\\\\\\\\\\\\\\"AZML\\\\\\\\\\\\\\\"}]}, \\\\\\\\\\\\\\\"localData\\\\\\\\\\\\\\\": {}, \\\\\\\\\\\\\\\"isEnabled\\\\\\\\\\\\\\\": true, \\\\\\\\\\\\\\\"name\\\\\\\\\\\\\\\": null, \\\\\\\\\\\\\\\"annotation\\\\\\\\\\\\\\\": null}, {\\\\\\\\\\\\\\\"id\\\\\\\\\\\\\\\": \\\\\\\\\\\\\\\"26b427be-fd2f-408a-a7f9-7cc2e12f9154\\\\\\\\\\\\\\\", \\\\\\\\\\\\\\\"type\\\\\\\\\\\\\\\": \\\\\\\\\\\\\\\"Microsoft.DPrep.ParseDelimitedBlock\\\\\\\\\\\\\\\", \\\\\\\\\\\\\\\"arguments\\\\\\\\\\\\\\\": {\\\\\\\\\\\\\\\"columnHeadersMode\\\\\\\\\\\\\\\": 1, \\\\\\\\\\\\\\\"fileEncoding\\\\\\\\\\\\\\\": 0, \\\\\\\\\\\\\\\"handleQuotedLineBreaks\\\\\\\\\\\\\\\": false, \\\\\\\\\\\\\\\"preview\\\\\\\\\\\\\\\": false, \\\\\\\\\\\\\\\"separator\\\\\\\\\\\\\\\": \\\\\\\\\\\\\\\";\\\\\\\\\\\\\\\", \\\\\\\\\\\\\\\"skipRows\\\\\\\\\\\\\\\": 0, \\\\\\\\\\\\\\\"skipRowsMode\\\\\\\\\\\\\\\": 0}, \\\\\\\\\\\\\\\"localData\\\\\\\\\\\\\\\": {}, \\\\\\\\\\\\\\\"isEnabled\\\\\\\\\\\\\\\": true, \\\\\\\\\\\\\\\"name\\\\\\\\\\\\\\\": null, \\\\\\\\\\\\\\\"annotation\\\\\\\\\\\\\\\": null}, {\\\\\\\\\\\\\\\"id\\\\\\\\\\\\\\\": \\\\\\\\\\\\\\\"ae43ed3c-ef5f-44d9-a660-5e71f76e487a\\\\\\\\\\\\\\\", \\\\\\\\\\\\\\\"type\\\\\\\\\\\\\\\": \\\\\\\\\\\\\\\"Microsoft.DPrep.DropColumnsBlock\\\\\\\\\\\\\\\", \\\\\\\\\\\\\\\"arguments\\\\\\\\\\\\\\\": {\\\\\\\\\\\\\\\"columns\\\\\\\\\\\\\\\": {\\\\\\\\\\\\\\\"type\\\\\\\\\\\\\\\": 0, \\\\\\\\\\\\\\\"details\\\\\\\\\\\\\\\": {\\\\\\\\\\\\\\\"selectedColumns\\\\\\\\\\\\\\\": [\\\\\\\\\\\\\\\"Path\\\\\\\\\\\\\\\"]}}}, \\\\\\\\\\\\\\\"localData\\\\\\\\\\\\\\\": {}, \\\\\\\\\\\\\\\"isEnabled\\\\\\\\\\\\\\\": true, \\\\\\\\\\\\\\\"name\\\\\\\\\\\\\\\": null, \\\\\\\\\\\\\\\"annotation\\\\\\\\\\\\\\\": null}, {\\\\\\\\\\\\\\\"id\\\\\\\\\\\\\\\": \\\\\\\\\\\\\\\"8b34450a-98bd-48cb-af7a-1397677f41db\\\\\\\\\\\\\\\", \\\\\\\\\\\\\\\"type\\\\\\\\\\\\\\\": \\\\\\\\\\\\\\\"Microsoft.DPrep.SetColumnTypesBlock\\\\\\\\\\\\\\\", \\\\\\\\\\\\\\\"arguments\\\\\\\\\\\\\\\": {\\\\\\\\\\\\\\\"columnConversion\\\\\\\\\\\\\\\": [{\\\\\\\\\\\\\\\"column\\\\\\\\\\\\\\\": {\\\\\\\\\\\\\\\"type\\\\\\\\\\\\\\\": 2, \\\\\\\\\\\\\\\"details\\\\\\\\\\\\\\\": {\\\\\\\\\\\\\\\"selectedColumn\\\\\\\\\\\\\\\": \\\\\\\\\\\\\\\"Path\\\\\\\\\\\\\\\"}}, \\\\\\\\\\\\\\\"typeProperty\\\\\\\\\\\\\\\": 0}, {\\\\\\\\\\\\\\\"column\\\\\\\\\\\\\\\": {\\\\\\\\\\\\\\\"type\\\\\\\\\\\\\\\": 2, \\\\\\\\\\\\\\\"details\\\\\\\\\\\\\\\": {\\\\\\\\\\\\\\\"selectedColumn\\\\\\\\\\\\\\\": \\\\\\\\\\\\\\\"Cod_Municipio\\\\\\\\\\\\\\\"}}, \\\\\\\\\\\\\\\"typeProperty\\\\\\\\\\\\\\\": 2}, {\\\\\\\\\\\\\\\"column\\\\\\\\\\\\\\\": {\\\\\\\\\\\\\\\"type\\\\\\\\\\\\\\\": 2, \\\\\\\\\\\\\\\"details\\\\\\\\\\\\\\\": {\\\\\\\\\\\\\\\"selectedColumn\\\\\\\\\\\\\\\": \\\\\\\\\\\\\\\"TAprov2019_Total\\\\\\\\\\\\\\\"}}, \\\\\\\\\\\\\\\"typeProperty\\\\\\\\\\\\\\\": 3}, {\\\\\\\\\\\\\\\"column\\\\\\\\\\\\\\\": {\\\\\\\\\\\\\\\"type\\\\\\\\\\\\\\\": 2, \\\\\\\\\\\\\\\"details\\\\\\\\\\\\\\\": {\\\\\\\\\\\\\\\"selectedColumn\\\\\\\\\\\\\\\": \\\\\\\\\\\\\\\"TAprov2019_1_serie\\\\\\\\\\\\\\\"}}, \\\\\\\\\\\\\\\"typeProperty\\\\\\\\\\\\\\\": 3}, {\\\\\\\\\\\\\\\"column\\\\\\\\\\\\\\\": {\\\\\\\\\\\\\\\"type\\\\\\\\\\\\\\\": 2, \\\\\\\\\\\\\\\"details\\\\\\\\\\\\\\\": {\\\\\\\\\\\\\\\"selectedColumn\\\\\\\\\\\\\\\": \\\\\\\\\\\\\\\"TAprov2019_2_serie\\\\\\\\\\\\\\\"}}, \\\\\\\\\\\\\\\"typeProperty\\\\\\\\\\\\\\\": 0}, {\\\\\\\\\\\\\\\"column\\\\\\\\\\\\\\\": {\\\\\\\\\\\\\\\"type\\\\\\\\\\\\\\\": 2, \\\\\\\\\\\\\\\"details\\\\\\\\\\\\\\\": {\\\\\\\\\\\\\\\"selectedColumn\\\\\\\\\\\\\\\": \\\\\\\\\\\\\\\"TAprov2019_3_serie\\\\\\\\\\\\\\\"}}, \\\\\\\\\\\\\\\"typeProperty\\\\\\\\\\\\\\\": 3}, {\\\\\\\\\\\\\\\"column\\\\\\\\\\\\\\\": {\\\\\\\\\\\\\\\"type\\\\\\\\\\\\\\\": 2, \\\\\\\\\\\\\\\"details\\\\\\\\\\\\\\\": {\\\\\\\\\\\\\\\"selectedColumn\\\\\\\\\\\\\\\": \\\\\\\\\\\\\\\"TAprov2019_4_serie\\\\\\\\\\\\\\\"}}, \\\\\\\\\\\\\\\"typeProperty\\\\\\\\\\\\\\\": 3}, {\\\\\\\\\\\\\\\"column\\\\\\\\\\\\\\\": {\\\\\\\\\\\\\\\"type\\\\\\\\\\\\\\\": 2, \\\\\\\\\\\\\\\"details\\\\\\\\\\\\\\\": {\\\\\\\\\\\\\\\"selectedColumn\\\\\\\\\\\\\\\": \\\\\\\\\\\\\\\"Indicador_Rendimento\\\\\\\\\\\\\\\"}}, \\\\\\\\\\\\\\\"typeProperty\\\\\\\\\\\\\\\": 3}, {\\\\\\\\\\\\\\\"column\\\\\\\\\\\\\\\": {\\\\\\\\\\\\\\\"type\\\\\\\\\\\\\\\": 2, \\\\\\\\\\\\\\\"details\\\\\\\\\\\\\\\": {\\\\\\\\\\\\\\\"selectedColumn\\\\\\\\\\\\\\\": \\\\\\\\\\\\\\\"SAEB2019_Matematica\\\\\\\\\\\\\\\"}}, \\\\\\\\\\\\\\\"typeProperty\\\\\\\\\\\\\\\": 3}, {\\\\\\\\\\\\\\\"column\\\\\\\\\\\\\\\": {\\\\\\\\\\\\\\\"type\\\\\\\\\\\\\\\": 2, \\\\\\\\\\\\\\\"details\\\\\\\\\\\\\\\": {\\\\\\\\\\\\\\\"selectedColumn\\\\\\\\\\\\\\\": \\\\\\\\\\\\\\\"SAEB2019_Lingua Portuguesa\\\\\\\\\\\\\\\"}}, \\\\\\\\\\\\\\\"typeProperty\\\\\\\\\\\\\\\": 3}, {\\\\\\\\\\\\\\\"column\\\\\\\\\\\\\\\": {\\\\\\\\\\\\\\\"type\\\\\\\\\\\\\\\": 2, \\\\\\\\\\\\\\\"details\\\\\\\\\\\\\\\": {\\\\\\\\\\\\\\\"selectedColumn\\\\\\\\\\\\\\\": \\\\\\\\\\\\\\\"SAEB2019_Nota Media Padronizada\\\\\\\\\\\\\\\"}}, \\\\\\\\\\\\\\\"typeProperty\\\\\\\\\\\\\\\": 3}, {\\\\\\\\\\\\\\\"column\\\\\\\\\\\\\\\": {\\\\\\\\\\\\\\\"type\\\\\\\\\\\\\\\": 2, \\\\\\\\\\\\\\\"details\\\\\\\\\\\\\\\": {\\\\\\\\\\\\\\\"selectedColumn\\\\\\\\\\\\\\\": \\\\\\\\\\\\\\\"IDEB_2019\\\\\\\\\\\\\\\"}}, \\\\\\\\\\\\\\\"typeProperty\\\\\\\\\\\\\\\": 3}]}, \\\\\\\\\\\\\\\"localData\\\\\\\\\\\\\\\": {}, \\\\\\\\\\\\\\\"isEnabled\\\\\\\\\\\\\\\": true, \\\\\\\\\\\\\\\"name\\\\\\\\\\\\\\\": null, \\\\\\\\\\\\\\\"annotation\\\\\\\\\\\\\\\": null}], \\\\\\\\\\\\\\\"inspectors\\\\\\\\\\\\\\\": [], \\\\\\\\\\\\\\\"meta\\\\\\\\\\\\\\\": {\\\\\\\\\\\\\\\"savedDatasetId\\\\\\\\\\\\\\\": \\\\\\\\\\\\\\\"b25b3bc5-3384-49b9-9aa3-6aa589c3716d\\\\\\\\\\\\\\\", \\\\\\\\\\\\\\\"datasetType\\\\\\\\\\\\\\\": \\\\\\\\\\\\\\\"tabular\\\\\\\\\\\\\\\", \\\\\\\\\\\\\\\"subscriptionId\\\\\\\\\\\\\\\": \\\\\\\\\\\\\\\"a748a023-896b-4719-8f8e-3d1ba62d6e35\\\\\\\\\\\\\\\", \\\\\\\\\\\\\\\"workspaceId\\\\\\\\\\\\\\\": \\\\\\\\\\\\\\\"fc67c9a7-43e2-4dd2-bef2-189551a3486d\\\\\\\\\\\\\\\", \\\\\\\\\\\\\\\"workspaceLocation\\\\\\\\\\\\\\\": \\\\\\\\\\\\\\\"eastus\\\\\\\\\\\\\\\"}}\\\\\\\", \\\\\\\"activities\\\\\\\": 0}\", \"EnableSubsampling\": null, \"runTemplate\": \"AutoML\", \"azureml.runsource\": \"automl\", \"display_task_type\": \"regression\", \"dependencies_versions\": \"{\\\"azureml-widgets\\\": \\\"1.19.0\\\", \\\"azureml-train\\\": \\\"1.20.0\\\", \\\"azureml-train-restclients-hyperdrive\\\": \\\"1.20.0\\\", \\\"azureml-train-core\\\": \\\"1.20.0\\\", \\\"azureml-train-automl\\\": \\\"1.20.0\\\", \\\"azureml-train-automl-runtime\\\": \\\"1.20.0.post1\\\", \\\"azureml-train-automl-client\\\": \\\"1.20.0\\\", \\\"azureml-tensorboard\\\": \\\"1.19.0\\\", \\\"azureml-telemetry\\\": \\\"1.20.0\\\", \\\"azureml-sdk\\\": \\\"1.20.0\\\", \\\"azureml-samples\\\": \\\"0+unknown\\\", \\\"azureml-pipeline\\\": \\\"1.20.0\\\", \\\"azureml-pipeline-steps\\\": \\\"1.20.0\\\", \\\"azureml-pipeline-core\\\": \\\"1.20.0\\\", \\\"azureml-opendatasets\\\": \\\"1.19.0\\\", \\\"azureml-model-management-sdk\\\": \\\"1.0.1b6.post1\\\", \\\"azureml-mlflow\\\": \\\"1.19.0\\\", \\\"azureml-interpret\\\": \\\"1.20.0\\\", \\\"azureml-explain-model\\\": \\\"1.19.0\\\", \\\"azureml-defaults\\\": \\\"1.20.0\\\", \\\"azureml-dataset-runtime\\\": \\\"1.20.0\\\", \\\"azureml-dataprep\\\": \\\"2.7.3\\\", \\\"azureml-dataprep-rslex\\\": \\\"1.5.0\\\", \\\"azureml-dataprep-native\\\": \\\"27.0.0\\\", \\\"azureml-datadrift\\\": \\\"1.19.0\\\", \\\"azureml-core\\\": \\\"1.20.0\\\", \\\"azureml-contrib-services\\\": \\\"1.19.0\\\", \\\"azureml-contrib-server\\\": \\\"1.19.0\\\", \\\"azureml-contrib-reinforcementlearning\\\": \\\"1.19.0\\\", \\\"azureml-contrib-pipeline-steps\\\": \\\"1.19.0\\\", \\\"azureml-contrib-notebook\\\": \\\"1.19.0\\\", \\\"azureml-contrib-interpret\\\": \\\"1.19.0\\\", \\\"azureml-contrib-gbdt\\\": \\\"1.19.0\\\", \\\"azureml-contrib-fairness\\\": \\\"1.19.0\\\", \\\"azureml-contrib-dataset\\\": \\\"1.19.0\\\", \\\"azureml-cli-common\\\": \\\"1.19.0\\\", \\\"azureml-automl-runtime\\\": \\\"1.20.0\\\", \\\"azureml-automl-core\\\": \\\"1.20.0\\\", \\\"azureml-accel-models\\\": \\\"1.19.0\\\"}\", \"_aml_system_scenario_identification\": \"Remote.Parent\", \"ClientType\": \"SDK\", \"environment_cpu_name\": \"AzureML-AutoML\", \"environment_cpu_label\": \"prod\", \"environment_gpu_name\": \"AzureML-AutoML-GPU\", \"environment_gpu_label\": \"prod\", \"root_attribution\": \"automl\", \"attribution\": \"AutoML\", \"Orchestrator\": \"AutoML\", \"CancelUri\": \"https://eastus.experiments.azureml.net/jasmine/v1.0/subscriptions/a748a023-896b-4719-8f8e-3d1ba62d6e35/resourceGroups/RG-AZML/providers/Microsoft.MachineLearningServices/workspaces/AZML/experimentids/4e8b4564-dc2c-49d3-9b04-54d50a542ec3/cancel/AutoML_71dcb722-b632-4ead-8c1c-007a85bc8a92\", \"ClientSdkVersion\": \"1.20.0\", \"snapshotId\": \"00000000-0000-0000-0000-000000000000\", \"SetupRunId\": \"AutoML_71dcb722-b632-4ead-8c1c-007a85bc8a92_setup\", \"SetupRunContainerId\": \"dcid.AutoML_71dcb722-b632-4ead-8c1c-007a85bc8a92_setup\", \"FeaturizationRunJsonPath\": \"featurizer_container.json\", \"FeaturizationRunId\": \"AutoML_71dcb722-b632-4ead-8c1c-007a85bc8a92_featurize\", \"ProblemInfoJsonString\": \"{\\\"dataset_num_categorical\\\": 0, \\\"is_sparse\\\": true, \\\"subsampling\\\": false, \\\"dataset_classes\\\": 62, \\\"dataset_features\\\": 265, \\\"dataset_samples\\\": 12079, \\\"single_frequency_class_detected\\\": false}\", \"ModelExplainRunId\": \"AutoML_71dcb722-b632-4ead-8c1c-007a85bc8a92_ModelExplain\"}, \"tags\": {\"model_explain_run\": \"best_run\", \"_aml_system_azureml.automlComponent\": \"AutoML\", \"pipeline_id\": \"\", \"score\": \"\", \"predicted_cost\": \"\", \"fit_time\": \"\", \"training_percent\": \"\", \"iteration\": \"\", \"run_preprocessor\": \"\", \"run_algorithm\": \"\", \"automl_best_child_run_id\": \"AutoML_71dcb722-b632-4ead-8c1c-007a85bc8a92_21\", \"model_explain_best_run_child_id\": \"AutoML_71dcb722-b632-4ead-8c1c-007a85bc8a92_21\"}, \"end_time_utc\": \"2021-01-17T22:44:32.456474Z\", \"status\": \"Completed\", \"log_files\": {}, \"log_groups\": [], \"run_duration\": \"0:50:06\"}, \"child_runs\": [{\"run_id\": \"AutoML_71dcb722-b632-4ead-8c1c-007a85bc8a92_0\", \"run_number\": 201, \"metric\": null, \"status\": \"Completed\", \"run_type\": \"azureml.scriptrun\", \"training_percent\": \"100\", \"start_time\": \"2021-01-17T22:07:26.208538Z\", \"end_time\": \"2021-01-17T22:12:58.05825Z\", \"created_time\": \"2021-01-17T22:07:11.276832Z\", \"created_time_dt\": \"2021-01-17T22:07:11.276832Z\", \"duration\": \"0:05:46\", \"iteration\": \"0\", \"goal\": \"r2_score_max\", \"run_name\": \"MaxAbsScaler, LightGBM\", \"run_properties\": \"copy=True\", \"primary_metric\": 0.99660277, \"best_metric\": 0.99660277}, {\"run_id\": \"AutoML_71dcb722-b632-4ead-8c1c-007a85bc8a92_2\", \"run_number\": 202, \"metric\": null, \"status\": \"Completed\", \"run_type\": \"azureml.scriptrun\", \"training_percent\": \"100\", \"start_time\": \"2021-01-17T22:07:26.321286Z\", \"end_time\": \"2021-01-17T22:13:09.744082Z\", \"created_time\": \"2021-01-17T22:07:11.491107Z\", \"created_time_dt\": \"2021-01-17T22:07:11.491107Z\", \"duration\": \"0:05:58\", \"iteration\": \"2\", \"goal\": \"r2_score_max\", \"run_name\": \"SparseNormalizer, XGBoostRegressor\", \"run_properties\": \"<azureml.automl.runtime.shared.model_wrappers.SparseNormalizer object at 0x7f1960c48208\", \"primary_metric\": 0.95782797, \"best_metric\": 0.99675271}, {\"run_id\": \"AutoML_71dcb722-b632-4ead-8c1c-007a85bc8a92_1\", \"run_number\": 203, \"metric\": null, \"status\": \"Completed\", \"run_type\": \"azureml.scriptrun\", \"training_percent\": \"100\", \"start_time\": \"2021-01-17T22:07:26.795562Z\", \"end_time\": \"2021-01-17T22:13:07.779185Z\", \"created_time\": \"2021-01-17T22:07:11.55796Z\", \"created_time_dt\": \"2021-01-17T22:07:11.55796Z\", \"duration\": \"0:05:56\", \"iteration\": \"1\", \"goal\": \"r2_score_max\", \"run_name\": \"MaxAbsScaler, XGBoostRegressor\", \"run_properties\": \"copy=True\", \"primary_metric\": 0.99675271, \"best_metric\": 0.99675271}, {\"run_id\": \"AutoML_71dcb722-b632-4ead-8c1c-007a85bc8a92_3\", \"run_number\": 204, \"metric\": null, \"status\": \"Completed\", \"run_type\": \"azureml.scriptrun\", \"training_percent\": \"100\", \"start_time\": \"2021-01-17T22:07:26.529215Z\", \"end_time\": \"2021-01-17T22:13:10.87806Z\", \"created_time\": \"2021-01-17T22:07:11.562317Z\", \"created_time_dt\": \"2021-01-17T22:07:11.562317Z\", \"duration\": \"0:05:59\", \"iteration\": \"3\", \"goal\": \"r2_score_max\", \"run_name\": \"MaxAbsScaler, RandomForest\", \"run_properties\": \"copy=True\", \"primary_metric\": 0.98441191, \"best_metric\": 0.99675271}, {\"run_id\": \"AutoML_71dcb722-b632-4ead-8c1c-007a85bc8a92_4\", \"run_number\": 205, \"metric\": null, \"status\": \"Completed\", \"run_type\": \"azureml.scriptrun\", \"training_percent\": \"100\", \"start_time\": \"2021-01-17T22:13:18.843596Z\", \"end_time\": \"2021-01-17T22:19:49.303048Z\", \"created_time\": \"2021-01-17T22:13:01.634727Z\", \"created_time_dt\": \"2021-01-17T22:13:01.634727Z\", \"duration\": \"0:06:47\", \"iteration\": \"4\", \"goal\": \"r2_score_max\", \"run_name\": \"StandardScalerWrapper, XGBoostRegressor\", \"run_properties\": \"<azureml.automl.runtime.shared.model_wrappers.StandardScalerWrapper object at 0x7fd0c0af49e8\", \"primary_metric\": 0.9969695, \"best_metric\": 0.9969695}, {\"run_id\": \"AutoML_71dcb722-b632-4ead-8c1c-007a85bc8a92_5\", \"run_number\": 206, \"metric\": null, \"status\": \"Completed\", \"run_type\": \"azureml.scriptrun\", \"training_percent\": \"100\", \"start_time\": \"2021-01-17T22:13:29.93283Z\", \"end_time\": \"2021-01-17T22:19:47.412479Z\", \"created_time\": \"2021-01-17T22:13:11.014322Z\", \"created_time_dt\": \"2021-01-17T22:13:11.014322Z\", \"duration\": \"0:06:36\", \"iteration\": \"5\", \"goal\": \"r2_score_max\", \"run_name\": \"MaxAbsScaler, ElasticNet\", \"run_properties\": \"copy=True\", \"primary_metric\": 0.99325585, \"best_metric\": 0.9969695}, {\"run_id\": \"AutoML_71dcb722-b632-4ead-8c1c-007a85bc8a92_6\", \"run_number\": 207, \"metric\": null, \"status\": \"Completed\", \"run_type\": \"azureml.scriptrun\", \"training_percent\": \"100\", \"start_time\": \"2021-01-17T22:13:35.837531Z\", \"end_time\": \"2021-01-17T22:20:08.068049Z\", \"created_time\": \"2021-01-17T22:13:19.861556Z\", \"created_time_dt\": \"2021-01-17T22:13:19.861556Z\", \"duration\": \"0:06:48\", \"iteration\": \"6\", \"goal\": \"r2_score_max\", \"run_name\": \"MaxAbsScaler, RandomForest\", \"run_properties\": \"copy=True\", \"primary_metric\": 0.97423621, \"best_metric\": 0.9969695}, {\"run_id\": \"AutoML_71dcb722-b632-4ead-8c1c-007a85bc8a92_7\", \"run_number\": 208, \"metric\": null, \"status\": \"Completed\", \"run_type\": \"azureml.scriptrun\", \"training_percent\": \"100\", \"start_time\": \"2021-01-17T22:13:36.665255Z\", \"end_time\": \"2021-01-17T22:19:54.545587Z\", \"created_time\": \"2021-01-17T22:13:20.26042Z\", \"created_time_dt\": \"2021-01-17T22:13:20.26042Z\", \"duration\": \"0:06:34\", \"iteration\": \"7\", \"goal\": \"r2_score_max\", \"run_name\": \"StandardScalerWrapper, XGBoostRegressor\", \"run_properties\": \"<azureml.automl.runtime.shared.model_wrappers.StandardScalerWrapper object at 0x7fd621392be0\", \"primary_metric\": 0.99709973, \"best_metric\": 0.99709973}, {\"run_id\": \"AutoML_71dcb722-b632-4ead-8c1c-007a85bc8a92_8\", \"run_number\": 209, \"metric\": null, \"status\": \"Completed\", \"run_type\": \"azureml.scriptrun\", \"training_percent\": \"100\", \"start_time\": \"2021-01-17T22:20:09.923543Z\", \"end_time\": \"2021-01-17T22:25:31.671832Z\", \"created_time\": \"2021-01-17T22:19:51.941642Z\", \"created_time_dt\": \"2021-01-17T22:19:51.941642Z\", \"duration\": \"0:05:39\", \"iteration\": \"8\", \"goal\": \"r2_score_max\", \"run_name\": \"MaxAbsScaler, ExtremeRandomTrees\", \"run_properties\": \"copy=True\", \"primary_metric\": 0.99305415, \"best_metric\": 0.99709973}, {\"run_id\": \"AutoML_71dcb722-b632-4ead-8c1c-007a85bc8a92_9\", \"run_number\": 210, \"metric\": null, \"status\": \"Completed\", \"run_type\": \"azureml.scriptrun\", \"training_percent\": \"100\", \"start_time\": \"2021-01-17T22:20:16.95183Z\", \"end_time\": \"2021-01-17T22:25:27.73469Z\", \"created_time\": \"2021-01-17T22:19:59.701692Z\", \"created_time_dt\": \"2021-01-17T22:19:59.701692Z\", \"duration\": \"0:05:28\", \"iteration\": \"9\", \"goal\": \"r2_score_max\", \"run_name\": \"StandardScalerWrapper, ElasticNet\", \"run_properties\": \"<azureml.automl.runtime.shared.model_wrappers.StandardScalerWrapper object at 0x7f27a406c240\", \"primary_metric\": 0.98935776, \"best_metric\": 0.99709973}, {\"run_id\": \"AutoML_71dcb722-b632-4ead-8c1c-007a85bc8a92_10\", \"run_number\": 211, \"metric\": null, \"status\": \"Completed\", \"run_type\": \"azureml.scriptrun\", \"training_percent\": \"100\", \"start_time\": \"2021-01-17T22:20:16.704814Z\", \"end_time\": \"2021-01-17T22:25:59.183024Z\", \"created_time\": \"2021-01-17T22:19:59.960049Z\", \"created_time_dt\": \"2021-01-17T22:19:59.960049Z\", \"duration\": \"0:05:59\", \"iteration\": \"10\", \"goal\": \"r2_score_max\", \"run_name\": \"MaxAbsScaler, RandomForest\", \"run_properties\": \"copy=True\", \"primary_metric\": 0.8563456, \"best_metric\": 0.99709973}, {\"run_id\": \"AutoML_71dcb722-b632-4ead-8c1c-007a85bc8a92_11\", \"run_number\": 212, \"metric\": null, \"status\": \"Completed\", \"run_type\": \"azureml.scriptrun\", \"training_percent\": \"100\", \"start_time\": \"2021-01-17T22:20:26.092135Z\", \"end_time\": \"2021-01-17T22:25:39.464218Z\", \"created_time\": \"2021-01-17T22:20:11.593342Z\", \"created_time_dt\": \"2021-01-17T22:20:11.593342Z\", \"duration\": \"0:05:27\", \"iteration\": \"11\", \"goal\": \"r2_score_max\", \"run_name\": \"MaxAbsScaler, RandomForest\", \"run_properties\": \"copy=True\", \"primary_metric\": 0.72909024, \"best_metric\": 0.99709973}, {\"run_id\": \"AutoML_71dcb722-b632-4ead-8c1c-007a85bc8a92_12\", \"run_number\": 213, \"metric\": null, \"status\": \"Completed\", \"run_type\": \"azureml.scriptrun\", \"training_percent\": \"100\", \"start_time\": \"2021-01-17T22:25:50.466491Z\", \"end_time\": \"2021-01-17T22:31:19.535557Z\", \"created_time\": \"2021-01-17T22:25:32.898799Z\", \"created_time_dt\": \"2021-01-17T22:25:32.898799Z\", \"duration\": \"0:05:46\", \"iteration\": \"12\", \"goal\": \"r2_score_max\", \"run_name\": \"StandardScalerWrapper, XGBoostRegressor\", \"run_properties\": \"<azureml.automl.runtime.shared.model_wrappers.StandardScalerWrapper object at 0x7fa84922cd30\", \"primary_metric\": 0.87380598, \"best_metric\": 0.99709973}, {\"run_id\": \"AutoML_71dcb722-b632-4ead-8c1c-007a85bc8a92_13\", \"run_number\": 214, \"metric\": null, \"status\": \"Completed\", \"run_type\": \"azureml.scriptrun\", \"training_percent\": \"100\", \"start_time\": \"2021-01-17T22:26:00.107039Z\", \"end_time\": \"2021-01-17T22:31:15.460106Z\", \"created_time\": \"2021-01-17T22:25:42.760616Z\", \"created_time_dt\": \"2021-01-17T22:25:42.760616Z\", \"duration\": \"0:05:32\", \"iteration\": \"13\", \"goal\": \"r2_score_max\", \"run_name\": \"MaxAbsScaler, ExtremeRandomTrees\", \"run_properties\": \"copy=True\", \"primary_metric\": 0.99299636, \"best_metric\": 0.99709973}, {\"run_id\": \"AutoML_71dcb722-b632-4ead-8c1c-007a85bc8a92_14\", \"run_number\": 215, \"metric\": null, \"status\": \"Completed\", \"run_type\": \"azureml.scriptrun\", \"training_percent\": \"100\", \"start_time\": \"2021-01-17T22:26:06.915155Z\", \"end_time\": \"2021-01-17T22:31:38.648109Z\", \"created_time\": \"2021-01-17T22:25:52.405732Z\", \"created_time_dt\": \"2021-01-17T22:25:52.405732Z\", \"duration\": \"0:05:46\", \"iteration\": \"14\", \"goal\": \"r2_score_max\", \"run_name\": \"MaxAbsScaler, ExtremeRandomTrees\", \"run_properties\": \"copy=True\", \"primary_metric\": 0.88752257, \"best_metric\": 0.99709973}, {\"run_id\": \"AutoML_71dcb722-b632-4ead-8c1c-007a85bc8a92_15\", \"run_number\": 216, \"metric\": null, \"status\": \"Completed\", \"run_type\": \"azureml.scriptrun\", \"training_percent\": \"100\", \"start_time\": \"2021-01-17T22:26:20.500591Z\", \"end_time\": \"2021-01-17T22:31:39.543473Z\", \"created_time\": \"2021-01-17T22:26:04.029982Z\", \"created_time_dt\": \"2021-01-17T22:26:04.029982Z\", \"duration\": \"0:05:35\", \"iteration\": \"15\", \"goal\": \"r2_score_max\", \"run_name\": \"MaxAbsScaler, ExtremeRandomTrees\", \"run_properties\": \"copy=True\", \"primary_metric\": 0.99211862, \"best_metric\": 0.99709973}, {\"run_id\": \"AutoML_71dcb722-b632-4ead-8c1c-007a85bc8a92_16\", \"run_number\": 217, \"metric\": null, \"status\": \"Completed\", \"run_type\": \"azureml.scriptrun\", \"training_percent\": \"100\", \"start_time\": \"2021-01-17T22:31:34.586266Z\", \"end_time\": \"2021-01-17T22:37:52.174297Z\", \"created_time\": \"2021-01-17T22:31:19.379131Z\", \"created_time_dt\": \"2021-01-17T22:31:19.379131Z\", \"duration\": \"0:06:32\", \"iteration\": \"16\", \"goal\": \"r2_score_max\", \"run_name\": \"MaxAbsScaler, ElasticNet\", \"run_properties\": \"copy=True\", \"primary_metric\": 0.99175435, \"best_metric\": 0.99709973}, {\"run_id\": \"AutoML_71dcb722-b632-4ead-8c1c-007a85bc8a92_17\", \"run_number\": 218, \"metric\": null, \"status\": \"Completed\", \"run_type\": \"azureml.scriptrun\", \"training_percent\": \"100\", \"start_time\": \"2021-01-17T22:31:39.193571Z\", \"end_time\": \"2021-01-17T22:37:51.298025Z\", \"created_time\": \"2021-01-17T22:31:25.867556Z\", \"created_time_dt\": \"2021-01-17T22:31:25.867556Z\", \"duration\": \"0:06:25\", \"iteration\": \"17\", \"goal\": \"r2_score_max\", \"run_name\": \"MaxAbsScaler, RandomForest\", \"run_properties\": \"copy=True\", \"primary_metric\": 0.88824784, \"best_metric\": 0.99709973}, {\"run_id\": \"AutoML_71dcb722-b632-4ead-8c1c-007a85bc8a92_18\", \"run_number\": 219, \"metric\": null, \"status\": \"Canceled\", \"run_type\": \"azureml.scriptrun\", \"training_percent\": \"100\", \"start_time\": \"2021-01-17T22:31:58.637576Z\", \"end_time\": \"2021-01-17T22:38:04.885558Z\", \"created_time\": \"2021-01-17T22:31:42.038332Z\", \"created_time_dt\": \"2021-01-17T22:31:42.038332Z\", \"duration\": \"0:06:22\", \"iteration\": \"18\", \"goal\": \"r2_score_max\", \"run_name\": \"MaxAbsScaler, RandomForest\", \"run_properties\": \"copy=True\", \"primary_metric\": 0.96319148, \"best_metric\": 0.99709973}, {\"run_id\": \"AutoML_71dcb722-b632-4ead-8c1c-007a85bc8a92_19\", \"run_number\": 220, \"metric\": null, \"status\": \"Canceled\", \"run_type\": \"azureml.scriptrun\", \"training_percent\": \"100\", \"start_time\": \"2021-01-17T22:32:03.588285Z\", \"end_time\": \"2021-01-17T22:38:18.471126Z\", \"created_time\": \"2021-01-17T22:31:49.041578Z\", \"created_time_dt\": \"2021-01-17T22:31:49.041578Z\", \"duration\": \"0:06:29\", \"iteration\": \"19\", \"goal\": \"r2_score_max\", \"run_name\": \"SparseNormalizer, XGBoostRegressor\", \"run_properties\": \"<azureml.automl.runtime.shared.model_wrappers.SparseNormalizer object at 0x7facbc759cc0\", \"primary_metric\": 0.97171444, \"best_metric\": 0.99709973}, {\"run_id\": \"AutoML_71dcb722-b632-4ead-8c1c-007a85bc8a92_20\", \"run_number\": 221, \"metric\": null, \"status\": \"Completed\", \"run_type\": \"azureml.scriptrun\", \"training_percent\": \"100\", \"start_time\": \"2021-01-17T22:38:41.202674Z\", \"end_time\": \"2021-01-17T22:44:25.857971Z\", \"created_time\": \"2021-01-17T22:38:19.513572Z\", \"created_time_dt\": \"2021-01-17T22:38:19.513572Z\", \"duration\": \"0:06:06\", \"iteration\": \"20\", \"goal\": \"r2_score_max\", \"run_name\": \"VotingEnsemble\", \"run_properties\": \"estimators=[('7',\\n                                          Pipeline(memory=None,\\n                                                   steps=[('standardscalerwrapper',\\n                                                           <azureml.automl.runtime.shared.model_wrappers.StandardScalerWrapper object at 0x7fbd44e3cf60>\", \"primary_metric\": 0.99764607, \"best_metric\": 0.99764607}, {\"run_id\": \"AutoML_71dcb722-b632-4ead-8c1c-007a85bc8a92_21\", \"run_number\": 222, \"metric\": null, \"status\": \"Completed\", \"run_type\": \"azureml.scriptrun\", \"training_percent\": \"100\", \"start_time\": \"2021-01-17T22:38:39.257167Z\", \"end_time\": \"2021-01-17T22:44:27.516404Z\", \"created_time\": \"2021-01-17T22:38:19.598538Z\", \"created_time_dt\": \"2021-01-17T22:38:19.598538Z\", \"duration\": \"0:06:07\", \"iteration\": \"21\", \"goal\": \"r2_score_max\", \"run_name\": \"StackEnsemble\", \"run_properties\": \"base_learners=[('7',\\n                                       Pipeline(memory=None,\\n                                                steps=[('standardscalerwrapper',\\n                                                        <azureml.automl.runtime.shared.model_wrappers.StandardScalerWrapper object at 0x7f17f84f3710>\", \"primary_metric\": 0.99766272, \"best_metric\": 0.99766272}], \"children_metrics\": {\"categories\": [0], \"series\": {\"normalized_median_absolute_error\": [{\"categories\": [\"0\", \"1\", \"2\", \"3\", \"4\", \"5\", \"6\", \"7\", \"8\", \"9\", \"10\", \"11\", \"12\", \"13\", \"14\", \"15\", \"16\", \"17\", \"18\", \"19\", \"20\", \"21\"], \"mode\": \"markers\", \"name\": \"normalized_median_absolute_error\", \"stepped\": false, \"type\": \"scatter\", \"data\": [0.004177350788639941, 0.004664119333028817, 0.012031825880209623, 0.005580024113062039, 0.004246811072031673, 0.005582397554398111, 0.006830686230120907, 0.004273561139901498, 0.004499063400499384, 0.007025793242439657, 0.018009247757038403, 0.027795110490201187, 0.041557992498079906, 0.004926263910243235, 0.016578750464524675, 0.00459135883726663, 0.006284851197480915, 0.01750827532594458, 0.00975985137574654, 0.007895534237225844, 0.004016702410337321, 0.004045525011526334]}, {\"categories\": [\"0\", \"1\", \"2\", \"3\", \"4\", \"5\", \"6\", \"7\", \"8\", \"9\", \"10\", \"11\", \"12\", \"13\", \"14\", \"15\", \"16\", \"17\", \"18\", \"19\", \"20\", \"21\"], \"mode\": \"lines\", \"name\": \"normalized_median_absolute_error_min\", \"stepped\": true, \"type\": \"scatter\", \"data\": [0.004177350788639941, 0.004177350788639941, 0.004177350788639941, 0.004177350788639941, 0.004177350788639941, 0.004177350788639941, 0.004177350788639941, 0.004177350788639941, 0.004177350788639941, 0.004177350788639941, 0.004177350788639941, 0.004177350788639941, 0.004177350788639941, 0.004177350788639941, 0.004177350788639941, 0.004177350788639941, 0.004177350788639941, 0.004177350788639941, 0.004177350788639941, 0.004177350788639941, 0.004016702410337321, 0.004016702410337321]}], \"mean_absolute_error\": [{\"categories\": [\"0\", \"1\", \"2\", \"3\", \"4\", \"5\", \"6\", \"7\", \"8\", \"9\", \"10\", \"11\", \"12\", \"13\", \"14\", \"15\", \"16\", \"17\", \"18\", \"19\", \"20\", \"21\"], \"mode\": \"markers\", \"name\": \"mean_absolute_error\", \"stepped\": false, \"type\": \"scatter\", \"data\": [0.03248620606705602, 0.035797585565681064, 0.10966522227424425, 0.054346428488127874, 0.032583582877985774, 0.04770145994067692, 0.07096069876063138, 0.032337504543125804, 0.03808578158712425, 0.06004853222859102, 0.19492100395919124, 0.28408219489605724, 0.26939474608144165, 0.04197962830459221, 0.16925395240679073, 0.039820089875539866, 0.053155349147672816, 0.17409665318686593, 0.09488469074297184, 0.079245713765069, 0.029896981618766236, 0.029887698103431726]}, {\"categories\": [\"0\", \"1\", \"2\", \"3\", \"4\", \"5\", \"6\", \"7\", \"8\", \"9\", \"10\", \"11\", \"12\", \"13\", \"14\", \"15\", \"16\", \"17\", \"18\", \"19\", \"20\", \"21\"], \"mode\": \"lines\", \"name\": \"mean_absolute_error_min\", \"stepped\": true, \"type\": \"scatter\", \"data\": [0.03248620606705602, 0.03248620606705602, 0.03248620606705602, 0.03248620606705602, 0.03248620606705602, 0.03248620606705602, 0.03248620606705602, 0.032337504543125804, 0.032337504543125804, 0.032337504543125804, 0.032337504543125804, 0.032337504543125804, 0.032337504543125804, 0.032337504543125804, 0.032337504543125804, 0.032337504543125804, 0.032337504543125804, 0.032337504543125804, 0.032337504543125804, 0.032337504543125804, 0.029896981618766236, 0.029887698103431726]}], \"root_mean_squared_log_error\": [{\"categories\": [\"0\", \"1\", \"2\", \"3\", \"4\", \"5\", \"6\", \"7\", \"8\", \"9\", \"10\", \"11\", \"12\", \"13\", \"14\", \"15\", \"16\", \"17\", \"18\", \"19\", \"20\", \"21\"], \"mode\": \"markers\", \"name\": \"root_mean_squared_log_error\", \"stepped\": false, \"type\": \"scatter\", \"data\": [0.010462684084323584, 0.009329921521574925, 0.03300195788403828, 0.023432683397159388, 0.009704142402383438, 0.014359254519456804, 0.028385606539038044, 0.00943091574620773, 0.016319956404854466, 0.015868779532813265, 0.0627996980592619, 0.08282570619830251, 0.05404707947931769, 0.01569555882000243, 0.055442955039203094, 0.017322152919492222, 0.015338334000765565, 0.05470187352380409, 0.03341842960350309, 0.028503717819156824, 0.008244434849952853, 0.008231218270738595]}, {\"categories\": [\"0\", \"1\", \"2\", \"3\", \"4\", \"5\", \"6\", \"7\", \"8\", \"9\", \"10\", \"11\", \"12\", \"13\", \"14\", \"15\", \"16\", \"17\", \"18\", \"19\", \"20\", \"21\"], \"mode\": \"lines\", \"name\": \"root_mean_squared_log_error_min\", \"stepped\": true, \"type\": \"scatter\", \"data\": [0.010462684084323584, 0.009329921521574925, 0.009329921521574925, 0.009329921521574925, 0.009329921521574925, 0.009329921521574925, 0.009329921521574925, 0.009329921521574925, 0.009329921521574925, 0.009329921521574925, 0.009329921521574925, 0.009329921521574925, 0.009329921521574925, 0.009329921521574925, 0.009329921521574925, 0.009329921521574925, 0.009329921521574925, 0.009329921521574925, 0.009329921521574925, 0.009329921521574925, 0.008244434849952853, 0.008231218270738595]}], \"root_mean_squared_error\": [{\"categories\": [\"0\", \"1\", \"2\", \"3\", \"4\", \"5\", \"6\", \"7\", \"8\", \"9\", \"10\", \"11\", \"12\", \"13\", \"14\", \"15\", \"16\", \"17\", \"18\", \"19\", \"20\", \"21\"], \"mode\": \"markers\", \"name\": \"root_mean_squared_error\", \"stepped\": false, \"type\": \"scatter\", \"data\": [0.046857845796670884, 0.04578242267871105, 0.16506851585429969, 0.10037112094421415, 0.044241958221419846, 0.06600931904836259, 0.1290290047548984, 0.04324161940905449, 0.06698509606231456, 0.08292996618874338, 0.3047056890686064, 0.41841518137820305, 0.2855676036666663, 0.06719987196407617, 0.26960686088016056, 0.07136659368161473, 0.07299296294836981, 0.26876236636741974, 0.15413548324048595, 0.13517145999079658, 0.03898633141025101, 0.03884789971933869]}, {\"categories\": [\"0\", \"1\", \"2\", \"3\", \"4\", \"5\", \"6\", \"7\", \"8\", \"9\", \"10\", \"11\", \"12\", \"13\", \"14\", \"15\", \"16\", \"17\", \"18\", \"19\", \"20\", \"21\"], \"mode\": \"lines\", \"name\": \"root_mean_squared_error_min\", \"stepped\": true, \"type\": \"scatter\", \"data\": [0.046857845796670884, 0.04578242267871105, 0.04578242267871105, 0.04578242267871105, 0.044241958221419846, 0.044241958221419846, 0.044241958221419846, 0.04324161940905449, 0.04324161940905449, 0.04324161940905449, 0.04324161940905449, 0.04324161940905449, 0.04324161940905449, 0.04324161940905449, 0.04324161940905449, 0.04324161940905449, 0.04324161940905449, 0.04324161940905449, 0.04324161940905449, 0.04324161940905449, 0.03898633141025101, 0.03884789971933869]}], \"normalized_root_mean_squared_log_error\": [{\"categories\": [\"0\", \"1\", \"2\", \"3\", \"4\", \"5\", \"6\", \"7\", \"8\", \"9\", \"10\", \"11\", \"12\", \"13\", \"14\", \"15\", \"16\", \"17\", \"18\", \"19\", \"20\", \"21\"], \"mode\": \"markers\", \"name\": \"normalized_root_mean_squared_log_error\", \"stepped\": false, \"type\": \"scatter\", \"data\": [0.007864232373767394, 0.007012796170020481, 0.024805782483505134, 0.01761307766639848, 0.007294077717095341, 0.010793073110586858, 0.021335921460899045, 0.007088708053101311, 0.012266826415014183, 0.01192770122163118, 0.04720312823747022, 0.06225559281110111, 0.04062425938920131, 0.011797500603270242, 0.04167346336777209, 0.013020123199259067, 0.011528994074208071, 0.04111643257165606, 0.025118821695296018, 0.021424699306558066, 0.006196894690489649, 0.00618696050445387]}, {\"categories\": [\"0\", \"1\", \"2\", \"3\", \"4\", \"5\", \"6\", \"7\", \"8\", \"9\", \"10\", \"11\", \"12\", \"13\", \"14\", \"15\", \"16\", \"17\", \"18\", \"19\", \"20\", \"21\"], \"mode\": \"lines\", \"name\": \"normalized_root_mean_squared_log_error_min\", \"stepped\": true, \"type\": \"scatter\", \"data\": [0.007864232373767394, 0.007012796170020481, 0.007012796170020481, 0.007012796170020481, 0.007012796170020481, 0.007012796170020481, 0.007012796170020481, 0.007012796170020481, 0.007012796170020481, 0.007012796170020481, 0.007012796170020481, 0.007012796170020481, 0.007012796170020481, 0.007012796170020481, 0.007012796170020481, 0.007012796170020481, 0.007012796170020481, 0.007012796170020481, 0.007012796170020481, 0.007012796170020481, 0.006196894690489649, 0.00618696050445387]}], \"r2_score\": [{\"categories\": [\"0\", \"1\", \"2\", \"3\", \"4\", \"5\", \"6\", \"7\", \"8\", \"9\", \"10\", \"11\", \"12\", \"13\", \"14\", \"15\", \"16\", \"17\", \"18\", \"19\", \"20\", \"21\"], \"mode\": \"markers\", \"name\": \"r2_score\", \"stepped\": false, \"type\": \"scatter\", \"data\": [0.9966027747034613, 0.9967527069089274, 0.9578279660027378, 0.9844119106722786, 0.9969694991228316, 0.9932558509911257, 0.9742362093657805, 0.9970997278706143, 0.9930541475596332, 0.9893577648342164, 0.8563455985809236, 0.7290902405543062, 0.8738059798332024, 0.9929963563144351, 0.8875225686525581, 0.9921186178617575, 0.9917543451541402, 0.8882478422791479, 0.9631914784814524, 0.971714438640067, 0.9976460683910738, 0.9976627238408339]}, {\"categories\": [\"0\", \"1\", \"2\", \"3\", \"4\", \"5\", \"6\", \"7\", \"8\", \"9\", \"10\", \"11\", \"12\", \"13\", \"14\", \"15\", \"16\", \"17\", \"18\", \"19\", \"20\", \"21\"], \"mode\": \"lines\", \"name\": \"r2_score_max\", \"stepped\": true, \"type\": \"scatter\", \"data\": [0.9966027747034613, 0.9967527069089274, 0.9967527069089274, 0.9967527069089274, 0.9969694991228316, 0.9969694991228316, 0.9969694991228316, 0.9970997278706143, 0.9970997278706143, 0.9970997278706143, 0.9970997278706143, 0.9970997278706143, 0.9970997278706143, 0.9970997278706143, 0.9970997278706143, 0.9970997278706143, 0.9970997278706143, 0.9970997278706143, 0.9970997278706143, 0.9970997278706143, 0.9976460683910738, 0.9976627238408339]}], \"median_absolute_error\": [{\"categories\": [\"0\", \"1\", \"2\", \"3\", \"4\", \"5\", \"6\", \"7\", \"8\", \"9\", \"10\", \"11\", \"12\", \"13\", \"14\", \"15\", \"16\", \"17\", \"18\", \"19\", \"20\", \"21\"], \"mode\": \"markers\", \"name\": \"median_absolute_error\", \"stepped\": false, \"type\": \"scatter\", \"data\": [0.026735045047295625, 0.029850363731384427, 0.07700368563334159, 0.035712154323597055, 0.027179590861002707, 0.035727344348147914, 0.0437163918727738, 0.027350791295369586, 0.028794005763196056, 0.0449650767516138, 0.11525918564504578, 0.17788870713728758, 0.26597115198771143, 0.031528089025556705, 0.10610400297295793, 0.029384696558506434, 0.04022304766387785, 0.11205296208604532, 0.062463048804777856, 0.0505314191182454, 0.025706895426158855, 0.02589136007376854]}, {\"categories\": [\"0\", \"1\", \"2\", \"3\", \"4\", \"5\", \"6\", \"7\", \"8\", \"9\", \"10\", \"11\", \"12\", \"13\", \"14\", \"15\", \"16\", \"17\", \"18\", \"19\", \"20\", \"21\"], \"mode\": \"lines\", \"name\": \"median_absolute_error_min\", \"stepped\": true, \"type\": \"scatter\", \"data\": [0.026735045047295625, 0.026735045047295625, 0.026735045047295625, 0.026735045047295625, 0.026735045047295625, 0.026735045047295625, 0.026735045047295625, 0.026735045047295625, 0.026735045047295625, 0.026735045047295625, 0.026735045047295625, 0.026735045047295625, 0.026735045047295625, 0.026735045047295625, 0.026735045047295625, 0.026735045047295625, 0.026735045047295625, 0.026735045047295625, 0.026735045047295625, 0.026735045047295625, 0.025706895426158855, 0.025706895426158855]}], \"normalized_root_mean_squared_error\": [{\"categories\": [\"0\", \"1\", \"2\", \"3\", \"4\", \"5\", \"6\", \"7\", \"8\", \"9\", \"10\", \"11\", \"12\", \"13\", \"14\", \"15\", \"16\", \"17\", \"18\", \"19\", \"20\", \"21\"], \"mode\": \"markers\", \"name\": \"normalized_root_mean_squared_error\", \"stepped\": false, \"type\": \"scatter\", \"data\": [0.007321538405729826, 0.007153503543548601, 0.025791955602234323, 0.015682987647533463, 0.006912805972096851, 0.010313956101306655, 0.020160781992952875, 0.006756503032664763, 0.01046642125973665, 0.012957807216991154, 0.04761026391696974, 0.06537737209034422, 0.044619938072916594, 0.010499979994386899, 0.042126072012525086, 0.0111510302627523, 0.011405150460682781, 0.04199411974490933, 0.024083669256325924, 0.021120540623561963, 0.006091614282851721, 0.0060699843311466705]}, {\"categories\": [\"0\", \"1\", \"2\", \"3\", \"4\", \"5\", \"6\", \"7\", \"8\", \"9\", \"10\", \"11\", \"12\", \"13\", \"14\", \"15\", \"16\", \"17\", \"18\", \"19\", \"20\", \"21\"], \"mode\": \"lines\", \"name\": \"normalized_root_mean_squared_error_min\", \"stepped\": true, \"type\": \"scatter\", \"data\": [0.007321538405729826, 0.007153503543548601, 0.007153503543548601, 0.007153503543548601, 0.006912805972096851, 0.006912805972096851, 0.006912805972096851, 0.006756503032664763, 0.006756503032664763, 0.006756503032664763, 0.006756503032664763, 0.006756503032664763, 0.006756503032664763, 0.006756503032664763, 0.006756503032664763, 0.006756503032664763, 0.006756503032664763, 0.006756503032664763, 0.006756503032664763, 0.006756503032664763, 0.006091614282851721, 0.0060699843311466705]}], \"mean_absolute_percentage_error\": [{\"categories\": [\"0\", \"1\", \"2\", \"3\", \"4\", \"5\", \"6\", \"7\", \"8\", \"9\", \"10\", \"11\", \"12\", \"13\", \"14\", \"15\", \"16\", \"17\", \"18\", \"19\", \"20\", \"21\"], \"mode\": \"markers\", \"name\": \"mean_absolute_percentage_error\", \"stepped\": false, \"type\": \"scatter\", \"data\": [0.8384778456339957, 0.8969100490355709, 2.769993682698597, 1.4727454749536169, 0.8330340037433297, 1.2133607506023578, 1.901591483986528, 0.8237607555961767, 1.028513947192228, 1.4491209448461193, 5.13872253573721, 7.304889265002102, 6.346840132469275, 1.111194340811829, 4.43929450314198, 1.078896005615996, 1.3387558265865753, 4.531037757742138, 2.515206126697786, 2.0924145916785393, 0.7551023023843789, 0.7556447636104666]}, {\"categories\": [\"0\", \"1\", \"2\", \"3\", \"4\", \"5\", \"6\", \"7\", \"8\", \"9\", \"10\", \"11\", \"12\", \"13\", \"14\", \"15\", \"16\", \"17\", \"18\", \"19\", \"20\", \"21\"], \"mode\": \"lines\", \"name\": \"mean_absolute_percentage_error_min\", \"stepped\": true, \"type\": \"scatter\", \"data\": [0.8384778456339957, 0.8384778456339957, 0.8384778456339957, 0.8384778456339957, 0.8330340037433297, 0.8330340037433297, 0.8330340037433297, 0.8237607555961767, 0.8237607555961767, 0.8237607555961767, 0.8237607555961767, 0.8237607555961767, 0.8237607555961767, 0.8237607555961767, 0.8237607555961767, 0.8237607555961767, 0.8237607555961767, 0.8237607555961767, 0.8237607555961767, 0.8237607555961767, 0.7551023023843789, 0.7551023023843789]}], \"normalized_mean_absolute_error\": [{\"categories\": [\"0\", \"1\", \"2\", \"3\", \"4\", \"5\", \"6\", \"7\", \"8\", \"9\", \"10\", \"11\", \"12\", \"13\", \"14\", \"15\", \"16\", \"17\", \"18\", \"19\", \"20\", \"21\"], \"mode\": \"markers\", \"name\": \"normalized_mean_absolute_error\", \"stepped\": false, \"type\": \"scatter\", \"data\": [0.005075969697977503, 0.005593372744637666, 0.01713519098035066, 0.008491629451269979, 0.005091184824685277, 0.007453353115730768, 0.011087609181348651, 0.005052735084863407, 0.005950903372988164, 0.009382583160717347, 0.030456406868623626, 0.044387842952508944, 0.04209292907522525, 0.006559316922592532, 0.02644593006356105, 0.006221889043053104, 0.008305523304323876, 0.027202602060447802, 0.01482573292858935, 0.012382142775792032, 0.004671403377932224, 0.004669952828661206]}, {\"categories\": [\"0\", \"1\", \"2\", \"3\", \"4\", \"5\", \"6\", \"7\", \"8\", \"9\", \"10\", \"11\", \"12\", \"13\", \"14\", \"15\", \"16\", \"17\", \"18\", \"19\", \"20\", \"21\"], \"mode\": \"lines\", \"name\": \"normalized_mean_absolute_error_min\", \"stepped\": true, \"type\": \"scatter\", \"data\": [0.005075969697977503, 0.005075969697977503, 0.005075969697977503, 0.005075969697977503, 0.005075969697977503, 0.005075969697977503, 0.005075969697977503, 0.005052735084863407, 0.005052735084863407, 0.005052735084863407, 0.005052735084863407, 0.005052735084863407, 0.005052735084863407, 0.005052735084863407, 0.005052735084863407, 0.005052735084863407, 0.005052735084863407, 0.005052735084863407, 0.005052735084863407, 0.005052735084863407, 0.004671403377932224, 0.004669952828661206]}], \"spearman_correlation\": [{\"categories\": [\"0\", \"1\", \"2\", \"3\", \"4\", \"5\", \"6\", \"7\", \"8\", \"9\", \"10\", \"11\", \"12\", \"13\", \"14\", \"15\", \"16\", \"17\", \"18\", \"19\", \"20\", \"21\"], \"mode\": \"markers\", \"name\": \"spearman_correlation\", \"stepped\": false, \"type\": \"scatter\", \"data\": [0.9985168084196553, 0.998324367812744, 0.978783464574695, 0.9961877211691078, 0.9985432308335906, 0.9978765536161198, 0.9935226028647138, 0.9985959120051368, 0.9981983096751793, 0.9977381821501105, 0.978919838675223, 0.9583711709018043, 0.9977871227859159, 0.997725816004856, 0.9782923468533834, 0.9980079352352704, 0.9973024596951303, 0.9680701987181228, 0.9901662544625198, 0.9882633393434946, 0.9987844573282155, 0.9987798377962397]}, {\"categories\": [\"0\", \"1\", \"2\", \"3\", \"4\", \"5\", \"6\", \"7\", \"8\", \"9\", \"10\", \"11\", \"12\", \"13\", \"14\", \"15\", \"16\", \"17\", \"18\", \"19\", \"20\", \"21\"], \"mode\": \"lines\", \"name\": \"spearman_correlation_max\", \"stepped\": true, \"type\": \"scatter\", \"data\": [0.9985168084196553, 0.9985168084196553, 0.9985168084196553, 0.9985168084196553, 0.9985432308335906, 0.9985432308335906, 0.9985432308335906, 0.9985959120051368, 0.9985959120051368, 0.9985959120051368, 0.9985959120051368, 0.9985959120051368, 0.9985959120051368, 0.9985959120051368, 0.9985959120051368, 0.9985959120051368, 0.9985959120051368, 0.9985959120051368, 0.9985959120051368, 0.9985959120051368, 0.9987844573282155, 0.9987844573282155]}], \"explained_variance\": [{\"categories\": [\"0\", \"1\", \"2\", \"3\", \"4\", \"5\", \"6\", \"7\", \"8\", \"9\", \"10\", \"11\", \"12\", \"13\", \"14\", \"15\", \"16\", \"17\", \"18\", \"19\", \"20\", \"21\"], \"mode\": \"markers\", \"name\": \"explained_variance\", \"stepped\": false, \"type\": \"scatter\", \"data\": [0.9966038236174392, 0.996754331920971, 0.9578359720344921, 0.9844144151872993, 0.9969700210348121, 0.9932600799314021, 0.9742434580968965, 0.9971013409812591, 0.9930545927242518, 0.9893659590381482, 0.8564252894071352, 0.7292417230063531, 0.9853160691644355, 0.9929970494200416, 0.8875740206273575, 0.9921186965563805, 0.9917585954253424, 0.8882775429707728, 0.9632054991986657, 0.9718052720431748, 0.9976473978599669, 0.9976653377474669]}, {\"categories\": [\"0\", \"1\", \"2\", \"3\", \"4\", \"5\", \"6\", \"7\", \"8\", \"9\", \"10\", \"11\", \"12\", \"13\", \"14\", \"15\", \"16\", \"17\", \"18\", \"19\", \"20\", \"21\"], \"mode\": \"lines\", \"name\": \"explained_variance_max\", \"stepped\": true, \"type\": \"scatter\", \"data\": [0.9966038236174392, 0.996754331920971, 0.996754331920971, 0.996754331920971, 0.9969700210348121, 0.9969700210348121, 0.9969700210348121, 0.9971013409812591, 0.9971013409812591, 0.9971013409812591, 0.9971013409812591, 0.9971013409812591, 0.9971013409812591, 0.9971013409812591, 0.9971013409812591, 0.9971013409812591, 0.9971013409812591, 0.9971013409812591, 0.9971013409812591, 0.9971013409812591, 0.9976473978599669, 0.9976653377474669]}]}, \"metricName\": null, \"primaryMetricName\": \"r2_score\", \"showLegend\": false}, \"run_metrics\": [{\"name\": \"experiment_status\", \"run_id\": \"AutoML_71dcb722-b632-4ead-8c1c-007a85bc8a92\", \"categories\": [0, 1, 2, 3, 4, 5, 6, 7, 8, 9, 10, 11, 12, 13], \"series\": [{\"data\": [\"DatasetEvaluation\", \"FeaturesGeneration\", \"DatasetFeaturization\", \"DatasetFeaturizationCompleted\", \"DatasetCrossValidationSplit\", \"ModelSelection\", \"BestRunExplainModel\", \"ModelExplanationDataSetSetup\", \"PickSurrogateModel\", \"EngineeredFeatureExplanations\", \"EngineeredFeatureExplanations\", \"RawFeaturesExplanations\", \"RawFeaturesExplanations\", \"BestRunExplainModel\"]}]}, {\"name\": \"experiment_status_description\", \"run_id\": \"AutoML_71dcb722-b632-4ead-8c1c-007a85bc8a92\", \"categories\": [0, 1, 2, 3, 4, 5, 6, 7, 8, 9, 10, 11, 12, 13], \"series\": [{\"data\": [\"Gathering dataset statistics.\", \"Generating features for the dataset.\", \"Beginning to fit featurizers and featurize the dataset.\", \"Completed fit featurizers and featurizing the dataset.\", \"Generating individually featurized CV splits.\", \"Beginning model selection.\", \"Best run model explanations started\", \"Model explanations data setup completed\", \"Choosing LightGBM as the surrogate model for explanations\", \"Computation of engineered features started\", \"Computation of engineered features completed\", \"Computation of raw features started\", \"Computation of raw features completed\", \"Best run model explanations completed\"]}]}, {\"name\": \"spearman_correlation\", \"run_id\": \"AutoML_71dcb722-b632-4ead-8c1c-007a85bc8a92\", \"categories\": [0], \"series\": [{\"data\": [0.9987798377962397]}]}, {\"name\": \"mean_absolute_error\", \"run_id\": \"AutoML_71dcb722-b632-4ead-8c1c-007a85bc8a92\", \"categories\": [0], \"series\": [{\"data\": [0.029887698103431726]}]}, {\"name\": \"mean_absolute_percentage_error\", \"run_id\": \"AutoML_71dcb722-b632-4ead-8c1c-007a85bc8a92\", \"categories\": [0], \"series\": [{\"data\": [0.7556447636104666]}]}, {\"name\": \"median_absolute_error\", \"run_id\": \"AutoML_71dcb722-b632-4ead-8c1c-007a85bc8a92\", \"categories\": [0], \"series\": [{\"data\": [0.02589136007376854]}]}, {\"name\": \"r2_score\", \"run_id\": \"AutoML_71dcb722-b632-4ead-8c1c-007a85bc8a92\", \"categories\": [0], \"series\": [{\"data\": [0.9976627238408339]}]}, {\"name\": \"root_mean_squared_error\", \"run_id\": \"AutoML_71dcb722-b632-4ead-8c1c-007a85bc8a92\", \"categories\": [0], \"series\": [{\"data\": [0.03884789971933869]}]}, {\"name\": \"explained_variance\", \"run_id\": \"AutoML_71dcb722-b632-4ead-8c1c-007a85bc8a92\", \"categories\": [0], \"series\": [{\"data\": [0.9976653377474669]}]}, {\"name\": \"normalized_root_mean_squared_log_error\", \"run_id\": \"AutoML_71dcb722-b632-4ead-8c1c-007a85bc8a92\", \"categories\": [0], \"series\": [{\"data\": [0.00618696050445387]}]}, {\"name\": \"normalized_root_mean_squared_error\", \"run_id\": \"AutoML_71dcb722-b632-4ead-8c1c-007a85bc8a92\", \"categories\": [0], \"series\": [{\"data\": [0.0060699843311466705]}]}, {\"name\": \"normalized_median_absolute_error\", \"run_id\": \"AutoML_71dcb722-b632-4ead-8c1c-007a85bc8a92\", \"categories\": [0], \"series\": [{\"data\": [0.004045525011526334]}]}, {\"name\": \"normalized_mean_absolute_error\", \"run_id\": \"AutoML_71dcb722-b632-4ead-8c1c-007a85bc8a92\", \"categories\": [0], \"series\": [{\"data\": [0.004669952828661206]}]}, {\"name\": \"root_mean_squared_log_error\", \"run_id\": \"AutoML_71dcb722-b632-4ead-8c1c-007a85bc8a92\", \"categories\": [0], \"series\": [{\"data\": [0.008231218270738595]}]}], \"run_logs\": \"\\nRun is completed.\", \"graph\": {}, \"widget_settings\": {\"childWidgetDisplay\": \"popup\", \"send_telemetry\": false, \"log_level\": \"INFO\", \"sdk_version\": \"1.20.0\"}, \"loading\": false}"
          },
          "metadata": {}
        }
      ],
      "execution_count": 10,
      "metadata": {
        "collapsed": true,
        "jupyter": {
          "source_hidden": false,
          "outputs_hidden": false
        },
        "nteract": {
          "transient": {
            "deleting": false
          }
        },
        "gather": {
          "logged": 1610923649945
        }
      }
    },
    {
      "cell_type": "code",
      "source": [
        "remote_run.wait_for_completion(show_output=True)"
      ],
      "outputs": [
        {
          "output_type": "stream",
          "name": "stdout",
          "text": [
            "\n",
            "\n",
            "****************************************************************************************************\n",
            "DATA GUARDRAILS: \n",
            "\n",
            "TYPE:         Missing feature values imputation\n",
            "STATUS:       PASSED\n",
            "DESCRIPTION:  No feature missing values were detected in the training data.\n",
            "              Learn more about missing value imputation: https://aka.ms/AutomatedMLFeaturization\n",
            "\n",
            "****************************************************************************************************\n",
            "\n",
            "TYPE:         High cardinality feature detection\n",
            "STATUS:       DONE\n",
            "DESCRIPTION:  High cardinality features were detected in your inputs and handled.\n",
            "              Learn more about high cardinality feature handling: https://aka.ms/AutomatedMLFeaturization\n",
            "DETAILS:      High cardinality features refer to columns that contain a large percentage of unique values.\n",
            "+---------------------------------+---------------------------------+\n",
            "|Column name                      |Column Content Type              |\n",
            "+=================================+=================================+\n",
            "|TAprov2019_2_serie               |categorical_hash                 |\n",
            "+---------------------------------+---------------------------------+\n",
            "\n",
            "****************************************************************************************************\n",
            "\n",
            "****************************************************************************************************\n",
            "ITERATION: The iteration being evaluated.\n",
            "PIPELINE: A summary description of the pipeline being evaluated.\n",
            "DURATION: Time taken for the current iteration.\n",
            "METRIC: The result of computing score on the fitted pipeline.\n",
            "BEST: The best observed score thus far.\n",
            "****************************************************************************************************\n",
            "\n",
            " ITERATION   PIPELINE                                       DURATION      METRIC      BEST\n",
            "         0   MaxAbsScaler LightGBM                          0:05:32       0.9966    0.9966\n",
            "         1   MaxAbsScaler XGBoostRegressor                  0:05:41       0.9968    0.9968\n",
            "         2   SparseNormalizer XGBoostRegressor              0:05:43       0.9578    0.9968\n",
            "         3   MaxAbsScaler RandomForest                      0:05:44       0.9844    0.9968\n",
            "         4   StandardScalerWrapper XGBoostRegressor         0:06:30       0.9970    0.9970\n",
            "         5   MaxAbsScaler ElasticNet                        0:06:17       0.9933    0.9970\n",
            "         6   MaxAbsScaler RandomForest                      0:06:32       0.9742    0.9970\n",
            "         7   StandardScalerWrapper XGBoostRegressor         0:06:18       0.9971    0.9971\n",
            "        10   MaxAbsScaler RandomForest                      0:05:42       0.8563    0.9971\n",
            "        11   MaxAbsScaler RandomForest                      0:05:13       0.7291    0.9971\n",
            "         8   MaxAbsScaler ExtremeRandomTrees                0:05:22       0.9931    0.9971\n",
            "         9   StandardScalerWrapper ElasticNet               0:05:11       0.9894    0.9971\n",
            "        12   StandardScalerWrapper XGBoostRegressor         0:05:29       0.8738    0.9971\n",
            "        13   MaxAbsScaler ExtremeRandomTrees                0:05:15       0.9930    0.9971\n",
            "        14   MaxAbsScaler ExtremeRandomTrees                0:05:32       0.8875    0.9971\n",
            "        15   MaxAbsScaler ExtremeRandomTrees                0:05:19       0.9921    0.9971\n",
            "        16   MaxAbsScaler ElasticNet                        0:06:18       0.9918    0.9971\n",
            "ERROR: {\n",
            "    \"additional_properties\": {},\n",
            "    \"error\": {\n",
            "        \"additional_properties\": {\n",
            "            \"debugInfo\": null\n",
            "        },\n",
            "        \"code\": \"UserError\",\n",
            "        \"severity\": null,\n",
            "        \"message\": \"Experiment timeout reached, please consider increasing your experiment timeout.\",\n",
            "        \"message_format\": \"Experiment timeout reached, please consider increasing your experiment timeout.\",\n",
            "        \"message_parameters\": {},\n",
            "        \"reference_code\": null,\n",
            "        \"details_uri\": null,\n",
            "        \"target\": null,\n",
            "        \"details\": [],\n",
            "        \"inner_error\": {\n",
            "            \"additional_properties\": {},\n",
            "            \"code\": \"ResourceExhausted\",\n",
            "            \"inner_error\": {\n",
            "                \"additional_properties\": {},\n",
            "                \"code\": \"Timeout\",\n",
            "                \"inner_error\": {\n",
            "                    \"additional_properties\": {},\n",
            "                    \"code\": \"ExperimentTimeoutForIterations\",\n",
            "                    \"inner_error\": null\n",
            "                }\n",
            "            }\n",
            "        }\n",
            "    },\n",
            "    \"correlation\": null,\n",
            "    \"environment\": null,\n",
            "    \"location\": null,\n",
            "    \"time\": {},\n",
            "    \"component_name\": null\n",
            "}\n",
            "        17   MaxAbsScaler RandomForest                      0:06:12       0.8882    0.9971\n",
            "        18   MaxAbsScaler RandomForest                      0:06:06       0.9632    0.9971\n",
            "ERROR: {\n",
            "    \"additional_properties\": {},\n",
            "    \"error\": {\n",
            "        \"additional_properties\": {\n",
            "            \"debugInfo\": null\n",
            "        },\n",
            "        \"code\": \"UserError\",\n",
            "        \"severity\": null,\n",
            "        \"message\": \"Experiment timeout reached, please consider increasing your experiment timeout.\",\n",
            "        \"message_format\": \"Experiment timeout reached, please consider increasing your experiment timeout.\",\n",
            "        \"message_parameters\": {},\n",
            "        \"reference_code\": null,\n",
            "        \"details_uri\": null,\n",
            "        \"target\": null,\n",
            "        \"details\": [],\n",
            "        \"inner_error\": {\n",
            "            \"additional_properties\": {},\n",
            "            \"code\": \"ResourceExhausted\",\n",
            "            \"inner_error\": {\n",
            "                \"additional_properties\": {},\n",
            "                \"code\": \"Timeout\",\n",
            "                \"inner_error\": {\n",
            "                    \"additional_properties\": {},\n",
            "                    \"code\": \"ExperimentTimeoutForIterations\",\n",
            "                    \"inner_error\": null\n",
            "                }\n",
            "            }\n",
            "        }\n",
            "    },\n",
            "    \"correlation\": null,\n",
            "    \"environment\": null,\n",
            "    \"location\": null,\n",
            "    \"time\": {},\n",
            "    \"component_name\": null\n",
            "}\n",
            "        19   SparseNormalizer XGBoostRegressor              0:06:15       0.9717    0.9971\n",
            "ERROR: {\n",
            "    \"additional_properties\": {},\n",
            "    \"error\": {\n",
            "        \"additional_properties\": {\n",
            "            \"debugInfo\": null\n",
            "        },\n",
            "        \"code\": \"UserError\",\n",
            "        \"severity\": null,\n",
            "        \"message\": \"Experiment timeout reached, please consider increasing your experiment timeout.\",\n",
            "        \"message_format\": \"Experiment timeout reached, please consider increasing your experiment timeout.\",\n",
            "        \"message_parameters\": {},\n",
            "        \"reference_code\": null,\n",
            "        \"details_uri\": null,\n",
            "        \"target\": null,\n",
            "        \"details\": [],\n",
            "        \"inner_error\": {\n",
            "            \"additional_properties\": {},\n",
            "            \"code\": \"ResourceExhausted\",\n",
            "            \"inner_error\": {\n",
            "                \"additional_properties\": {},\n",
            "                \"code\": \"Timeout\",\n",
            "                \"inner_error\": {\n",
            "                    \"additional_properties\": {},\n",
            "                    \"code\": \"ExperimentTimeoutForIterations\",\n",
            "                    \"inner_error\": null\n",
            "                }\n",
            "            }\n",
            "        }\n",
            "    },\n",
            "    \"correlation\": null,\n",
            "    \"environment\": null,\n",
            "    \"location\": null,\n",
            "    \"time\": {},\n",
            "    \"component_name\": null\n",
            "}\n",
            "        20    VotingEnsemble                                0:05:45       0.9976    0.9976\n",
            "        21    StackEnsemble                                 0:05:48       0.9977    0.9977\n"
          ]
        },
        {
          "output_type": "execute_result",
          "execution_count": 11,
          "data": {
            "text/plain": "{'runId': 'AutoML_71dcb722-b632-4ead-8c1c-007a85bc8a92',\n 'target': 'automl-cluster',\n 'status': 'Completed',\n 'startTimeUtc': '2021-01-17T21:54:42.237071Z',\n 'endTimeUtc': '2021-01-17T22:44:32.456474Z',\n 'properties': {'num_iterations': '1000',\n  'training_type': 'TrainFull',\n  'acquisition_function': 'EI',\n  'primary_metric': 'r2_score',\n  'train_split': '0',\n  'acquisition_parameter': '0',\n  'num_cross_validation': '3',\n  'target': 'automl-cluster',\n  'AMLSettingsJsonString': '{\"path\":null,\"name\":\"ideb-regression\",\"subscription_id\":\"a748a023-896b-4719-8f8e-3d1ba62d6e35\",\"resource_group\":\"RG-AZML\",\"workspace_name\":\"AZML\",\"region\":\"eastus\",\"compute_target\":\"automl-cluster\",\"spark_service\":null,\"azure_service\":\"remote\",\"many_models\":false,\"pipeline_fetch_max_batch_size\":1,\"iterations\":1000,\"primary_metric\":\"r2_score\",\"task_type\":\"regression\",\"data_script\":null,\"validation_size\":0.0,\"n_cross_validations\":3,\"y_min\":null,\"y_max\":null,\"num_classes\":null,\"featurization\":\"auto\",\"_ignore_package_version_incompatibilities\":false,\"is_timeseries\":false,\"max_cores_per_iteration\":-1,\"max_concurrent_iterations\":4,\"iteration_timeout_minutes\":null,\"mem_in_mb\":null,\"enforce_time_on_windows\":false,\"experiment_timeout_minutes\":30,\"experiment_exit_score\":null,\"whitelist_models\":null,\"blacklist_algos\":[\"TensorFlowDNN\",\"TensorFlowLinearRegressor\"],\"supported_models\":[\"KNN\",\"ElasticNet\",\"GradientBoosting\",\"SGD\",\"FastLinearRegressor\",\"RandomForest\",\"DecisionTree\",\"ExtremeRandomTrees\",\"XGBoostRegressor\",\"TensorFlowLinearRegressor\",\"TensorFlowDNN\",\"LightGBM\",\"OnlineGradientDescentRegressor\",\"LassoLars\"],\"auto_blacklist\":true,\"blacklist_samples_reached\":false,\"exclude_nan_labels\":true,\"verbosity\":20,\"_debug_log\":\"azureml_automl.log\",\"show_warnings\":false,\"model_explainability\":true,\"service_url\":null,\"sdk_url\":null,\"sdk_packages\":null,\"enable_onnx_compatible_models\":false,\"enable_split_onnx_featurizer_estimator_models\":false,\"vm_type\":\"STANDARD_DS3_V2\",\"telemetry_verbosity\":20,\"send_telemetry\":true,\"enable_dnn\":false,\"scenario\":\"SDK-1.13.0\",\"environment_label\":null,\"force_text_dnn\":false,\"enable_feature_sweeping\":true,\"enable_early_stopping\":true,\"early_stopping_n_iters\":10,\"metrics\":null,\"enable_ensembling\":true,\"enable_stack_ensembling\":true,\"ensemble_iterations\":15,\"enable_tf\":false,\"enable_subsampling\":null,\"subsample_seed\":null,\"enable_nimbusml\":false,\"enable_streaming\":false,\"force_streaming\":false,\"track_child_runs\":true,\"allowed_private_models\":[],\"label_column_name\":\"IDEB_2019\",\"weight_column_name\":null,\"cv_split_column_names\":null,\"enable_local_managed\":false,\"_local_managed_run_id\":null,\"cost_mode\":1,\"lag_length\":0,\"metric_operation\":\"maximize\",\"preprocess\":true}',\n  'DataPrepJsonString': '{\\\\\"training_data\\\\\": \\\\\"{\\\\\\\\\\\\\"blocks\\\\\\\\\\\\\": [{\\\\\\\\\\\\\"id\\\\\\\\\\\\\": \\\\\\\\\\\\\"9c6471ac-c76a-455b-8c6c-a58b8e2f11ff\\\\\\\\\\\\\", \\\\\\\\\\\\\"type\\\\\\\\\\\\\": \\\\\\\\\\\\\"Microsoft.DPrep.GetDatastoreFilesBlock\\\\\\\\\\\\\", \\\\\\\\\\\\\"arguments\\\\\\\\\\\\\": {\\\\\\\\\\\\\"datastores\\\\\\\\\\\\\": [{\\\\\\\\\\\\\"datastoreName\\\\\\\\\\\\\": \\\\\\\\\\\\\"workspaceblobstore\\\\\\\\\\\\\", \\\\\\\\\\\\\"path\\\\\\\\\\\\\": \\\\\\\\\\\\\"UI/01-17-2021_075815_UTC/data.CSV\\\\\\\\\\\\\", \\\\\\\\\\\\\"resourceGroup\\\\\\\\\\\\\": \\\\\\\\\\\\\"RG-AZML\\\\\\\\\\\\\", \\\\\\\\\\\\\"subscription\\\\\\\\\\\\\": \\\\\\\\\\\\\"a748a023-896b-4719-8f8e-3d1ba62d6e35\\\\\\\\\\\\\", \\\\\\\\\\\\\"workspaceName\\\\\\\\\\\\\": \\\\\\\\\\\\\"AZML\\\\\\\\\\\\\"}]}, \\\\\\\\\\\\\"localData\\\\\\\\\\\\\": {}, \\\\\\\\\\\\\"isEnabled\\\\\\\\\\\\\": true, \\\\\\\\\\\\\"name\\\\\\\\\\\\\": null, \\\\\\\\\\\\\"annotation\\\\\\\\\\\\\": null}, {\\\\\\\\\\\\\"id\\\\\\\\\\\\\": \\\\\\\\\\\\\"26b427be-fd2f-408a-a7f9-7cc2e12f9154\\\\\\\\\\\\\", \\\\\\\\\\\\\"type\\\\\\\\\\\\\": \\\\\\\\\\\\\"Microsoft.DPrep.ParseDelimitedBlock\\\\\\\\\\\\\", \\\\\\\\\\\\\"arguments\\\\\\\\\\\\\": {\\\\\\\\\\\\\"columnHeadersMode\\\\\\\\\\\\\": 1, \\\\\\\\\\\\\"fileEncoding\\\\\\\\\\\\\": 0, \\\\\\\\\\\\\"handleQuotedLineBreaks\\\\\\\\\\\\\": false, \\\\\\\\\\\\\"preview\\\\\\\\\\\\\": false, \\\\\\\\\\\\\"separator\\\\\\\\\\\\\": \\\\\\\\\\\\\";\\\\\\\\\\\\\", \\\\\\\\\\\\\"skipRows\\\\\\\\\\\\\": 0, \\\\\\\\\\\\\"skipRowsMode\\\\\\\\\\\\\": 0}, \\\\\\\\\\\\\"localData\\\\\\\\\\\\\": {}, \\\\\\\\\\\\\"isEnabled\\\\\\\\\\\\\": true, \\\\\\\\\\\\\"name\\\\\\\\\\\\\": null, \\\\\\\\\\\\\"annotation\\\\\\\\\\\\\": null}, {\\\\\\\\\\\\\"id\\\\\\\\\\\\\": \\\\\\\\\\\\\"ae43ed3c-ef5f-44d9-a660-5e71f76e487a\\\\\\\\\\\\\", \\\\\\\\\\\\\"type\\\\\\\\\\\\\": \\\\\\\\\\\\\"Microsoft.DPrep.DropColumnsBlock\\\\\\\\\\\\\", \\\\\\\\\\\\\"arguments\\\\\\\\\\\\\": {\\\\\\\\\\\\\"columns\\\\\\\\\\\\\": {\\\\\\\\\\\\\"type\\\\\\\\\\\\\": 0, \\\\\\\\\\\\\"details\\\\\\\\\\\\\": {\\\\\\\\\\\\\"selectedColumns\\\\\\\\\\\\\": [\\\\\\\\\\\\\"Path\\\\\\\\\\\\\"]}}}, \\\\\\\\\\\\\"localData\\\\\\\\\\\\\": {}, \\\\\\\\\\\\\"isEnabled\\\\\\\\\\\\\": true, \\\\\\\\\\\\\"name\\\\\\\\\\\\\": null, \\\\\\\\\\\\\"annotation\\\\\\\\\\\\\": null}, {\\\\\\\\\\\\\"id\\\\\\\\\\\\\": \\\\\\\\\\\\\"8b34450a-98bd-48cb-af7a-1397677f41db\\\\\\\\\\\\\", \\\\\\\\\\\\\"type\\\\\\\\\\\\\": \\\\\\\\\\\\\"Microsoft.DPrep.SetColumnTypesBlock\\\\\\\\\\\\\", \\\\\\\\\\\\\"arguments\\\\\\\\\\\\\": {\\\\\\\\\\\\\"columnConversion\\\\\\\\\\\\\": [{\\\\\\\\\\\\\"column\\\\\\\\\\\\\": {\\\\\\\\\\\\\"type\\\\\\\\\\\\\": 2, \\\\\\\\\\\\\"details\\\\\\\\\\\\\": {\\\\\\\\\\\\\"selectedColumn\\\\\\\\\\\\\": \\\\\\\\\\\\\"Path\\\\\\\\\\\\\"}}, \\\\\\\\\\\\\"typeProperty\\\\\\\\\\\\\": 0}, {\\\\\\\\\\\\\"column\\\\\\\\\\\\\": {\\\\\\\\\\\\\"type\\\\\\\\\\\\\": 2, \\\\\\\\\\\\\"details\\\\\\\\\\\\\": {\\\\\\\\\\\\\"selectedColumn\\\\\\\\\\\\\": \\\\\\\\\\\\\"Cod_Municipio\\\\\\\\\\\\\"}}, \\\\\\\\\\\\\"typeProperty\\\\\\\\\\\\\": 2}, {\\\\\\\\\\\\\"column\\\\\\\\\\\\\": {\\\\\\\\\\\\\"type\\\\\\\\\\\\\": 2, \\\\\\\\\\\\\"details\\\\\\\\\\\\\": {\\\\\\\\\\\\\"selectedColumn\\\\\\\\\\\\\": \\\\\\\\\\\\\"TAprov2019_Total\\\\\\\\\\\\\"}}, \\\\\\\\\\\\\"typeProperty\\\\\\\\\\\\\": 3}, {\\\\\\\\\\\\\"column\\\\\\\\\\\\\": {\\\\\\\\\\\\\"type\\\\\\\\\\\\\": 2, \\\\\\\\\\\\\"details\\\\\\\\\\\\\": {\\\\\\\\\\\\\"selectedColumn\\\\\\\\\\\\\": \\\\\\\\\\\\\"TAprov2019_1_serie\\\\\\\\\\\\\"}}, \\\\\\\\\\\\\"typeProperty\\\\\\\\\\\\\": 3}, {\\\\\\\\\\\\\"column\\\\\\\\\\\\\": {\\\\\\\\\\\\\"type\\\\\\\\\\\\\": 2, \\\\\\\\\\\\\"details\\\\\\\\\\\\\": {\\\\\\\\\\\\\"selectedColumn\\\\\\\\\\\\\": \\\\\\\\\\\\\"TAprov2019_2_serie\\\\\\\\\\\\\"}}, \\\\\\\\\\\\\"typeProperty\\\\\\\\\\\\\": 0}, {\\\\\\\\\\\\\"column\\\\\\\\\\\\\": {\\\\\\\\\\\\\"type\\\\\\\\\\\\\": 2, \\\\\\\\\\\\\"details\\\\\\\\\\\\\": {\\\\\\\\\\\\\"selectedColumn\\\\\\\\\\\\\": \\\\\\\\\\\\\"TAprov2019_3_serie\\\\\\\\\\\\\"}}, \\\\\\\\\\\\\"typeProperty\\\\\\\\\\\\\": 3}, {\\\\\\\\\\\\\"column\\\\\\\\\\\\\": {\\\\\\\\\\\\\"type\\\\\\\\\\\\\": 2, \\\\\\\\\\\\\"details\\\\\\\\\\\\\": {\\\\\\\\\\\\\"selectedColumn\\\\\\\\\\\\\": \\\\\\\\\\\\\"TAprov2019_4_serie\\\\\\\\\\\\\"}}, \\\\\\\\\\\\\"typeProperty\\\\\\\\\\\\\": 3}, {\\\\\\\\\\\\\"column\\\\\\\\\\\\\": {\\\\\\\\\\\\\"type\\\\\\\\\\\\\": 2, \\\\\\\\\\\\\"details\\\\\\\\\\\\\": {\\\\\\\\\\\\\"selectedColumn\\\\\\\\\\\\\": \\\\\\\\\\\\\"Indicador_Rendimento\\\\\\\\\\\\\"}}, \\\\\\\\\\\\\"typeProperty\\\\\\\\\\\\\": 3}, {\\\\\\\\\\\\\"column\\\\\\\\\\\\\": {\\\\\\\\\\\\\"type\\\\\\\\\\\\\": 2, \\\\\\\\\\\\\"details\\\\\\\\\\\\\": {\\\\\\\\\\\\\"selectedColumn\\\\\\\\\\\\\": \\\\\\\\\\\\\"SAEB2019_Matematica\\\\\\\\\\\\\"}}, \\\\\\\\\\\\\"typeProperty\\\\\\\\\\\\\": 3}, {\\\\\\\\\\\\\"column\\\\\\\\\\\\\": {\\\\\\\\\\\\\"type\\\\\\\\\\\\\": 2, \\\\\\\\\\\\\"details\\\\\\\\\\\\\": {\\\\\\\\\\\\\"selectedColumn\\\\\\\\\\\\\": \\\\\\\\\\\\\"SAEB2019_Lingua Portuguesa\\\\\\\\\\\\\"}}, \\\\\\\\\\\\\"typeProperty\\\\\\\\\\\\\": 3}, {\\\\\\\\\\\\\"column\\\\\\\\\\\\\": {\\\\\\\\\\\\\"type\\\\\\\\\\\\\": 2, \\\\\\\\\\\\\"details\\\\\\\\\\\\\": {\\\\\\\\\\\\\"selectedColumn\\\\\\\\\\\\\": \\\\\\\\\\\\\"SAEB2019_Nota Media Padronizada\\\\\\\\\\\\\"}}, \\\\\\\\\\\\\"typeProperty\\\\\\\\\\\\\": 3}, {\\\\\\\\\\\\\"column\\\\\\\\\\\\\": {\\\\\\\\\\\\\"type\\\\\\\\\\\\\": 2, \\\\\\\\\\\\\"details\\\\\\\\\\\\\": {\\\\\\\\\\\\\"selectedColumn\\\\\\\\\\\\\": \\\\\\\\\\\\\"IDEB_2019\\\\\\\\\\\\\"}}, \\\\\\\\\\\\\"typeProperty\\\\\\\\\\\\\": 3}]}, \\\\\\\\\\\\\"localData\\\\\\\\\\\\\": {}, \\\\\\\\\\\\\"isEnabled\\\\\\\\\\\\\": true, \\\\\\\\\\\\\"name\\\\\\\\\\\\\": null, \\\\\\\\\\\\\"annotation\\\\\\\\\\\\\": null}], \\\\\\\\\\\\\"inspectors\\\\\\\\\\\\\": [], \\\\\\\\\\\\\"meta\\\\\\\\\\\\\": {\\\\\\\\\\\\\"savedDatasetId\\\\\\\\\\\\\": \\\\\\\\\\\\\"b25b3bc5-3384-49b9-9aa3-6aa589c3716d\\\\\\\\\\\\\", \\\\\\\\\\\\\"datasetType\\\\\\\\\\\\\": \\\\\\\\\\\\\"tabular\\\\\\\\\\\\\", \\\\\\\\\\\\\"subscriptionId\\\\\\\\\\\\\": \\\\\\\\\\\\\"a748a023-896b-4719-8f8e-3d1ba62d6e35\\\\\\\\\\\\\", \\\\\\\\\\\\\"workspaceId\\\\\\\\\\\\\": \\\\\\\\\\\\\"fc67c9a7-43e2-4dd2-bef2-189551a3486d\\\\\\\\\\\\\", \\\\\\\\\\\\\"workspaceLocation\\\\\\\\\\\\\": \\\\\\\\\\\\\"eastus\\\\\\\\\\\\\"}}\\\\\", \\\\\"activities\\\\\": 0}',\n  'EnableSubsampling': None,\n  'runTemplate': 'AutoML',\n  'azureml.runsource': 'automl',\n  'display_task_type': 'regression',\n  'dependencies_versions': '{\"azureml-widgets\": \"1.19.0\", \"azureml-train\": \"1.20.0\", \"azureml-train-restclients-hyperdrive\": \"1.20.0\", \"azureml-train-core\": \"1.20.0\", \"azureml-train-automl\": \"1.20.0\", \"azureml-train-automl-runtime\": \"1.20.0.post1\", \"azureml-train-automl-client\": \"1.20.0\", \"azureml-tensorboard\": \"1.19.0\", \"azureml-telemetry\": \"1.20.0\", \"azureml-sdk\": \"1.20.0\", \"azureml-samples\": \"0+unknown\", \"azureml-pipeline\": \"1.20.0\", \"azureml-pipeline-steps\": \"1.20.0\", \"azureml-pipeline-core\": \"1.20.0\", \"azureml-opendatasets\": \"1.19.0\", \"azureml-model-management-sdk\": \"1.0.1b6.post1\", \"azureml-mlflow\": \"1.19.0\", \"azureml-interpret\": \"1.20.0\", \"azureml-explain-model\": \"1.19.0\", \"azureml-defaults\": \"1.20.0\", \"azureml-dataset-runtime\": \"1.20.0\", \"azureml-dataprep\": \"2.7.3\", \"azureml-dataprep-rslex\": \"1.5.0\", \"azureml-dataprep-native\": \"27.0.0\", \"azureml-datadrift\": \"1.19.0\", \"azureml-core\": \"1.20.0\", \"azureml-contrib-services\": \"1.19.0\", \"azureml-contrib-server\": \"1.19.0\", \"azureml-contrib-reinforcementlearning\": \"1.19.0\", \"azureml-contrib-pipeline-steps\": \"1.19.0\", \"azureml-contrib-notebook\": \"1.19.0\", \"azureml-contrib-interpret\": \"1.19.0\", \"azureml-contrib-gbdt\": \"1.19.0\", \"azureml-contrib-fairness\": \"1.19.0\", \"azureml-contrib-dataset\": \"1.19.0\", \"azureml-cli-common\": \"1.19.0\", \"azureml-automl-runtime\": \"1.20.0\", \"azureml-automl-core\": \"1.20.0\", \"azureml-accel-models\": \"1.19.0\"}',\n  '_aml_system_scenario_identification': 'Remote.Parent',\n  'ClientType': 'SDK',\n  'environment_cpu_name': 'AzureML-AutoML',\n  'environment_cpu_label': 'prod',\n  'environment_gpu_name': 'AzureML-AutoML-GPU',\n  'environment_gpu_label': 'prod',\n  'root_attribution': 'automl',\n  'attribution': 'AutoML',\n  'Orchestrator': 'AutoML',\n  'CancelUri': 'https://eastus.experiments.azureml.net/jasmine/v1.0/subscriptions/a748a023-896b-4719-8f8e-3d1ba62d6e35/resourceGroups/RG-AZML/providers/Microsoft.MachineLearningServices/workspaces/AZML/experimentids/4e8b4564-dc2c-49d3-9b04-54d50a542ec3/cancel/AutoML_71dcb722-b632-4ead-8c1c-007a85bc8a92',\n  'ClientSdkVersion': '1.20.0',\n  'snapshotId': '00000000-0000-0000-0000-000000000000',\n  'SetupRunId': 'AutoML_71dcb722-b632-4ead-8c1c-007a85bc8a92_setup',\n  'SetupRunContainerId': 'dcid.AutoML_71dcb722-b632-4ead-8c1c-007a85bc8a92_setup',\n  'FeaturizationRunJsonPath': 'featurizer_container.json',\n  'FeaturizationRunId': 'AutoML_71dcb722-b632-4ead-8c1c-007a85bc8a92_featurize',\n  'ProblemInfoJsonString': '{\"dataset_num_categorical\": 0, \"is_sparse\": true, \"subsampling\": false, \"dataset_classes\": 62, \"dataset_features\": 265, \"dataset_samples\": 12079, \"single_frequency_class_detected\": false}',\n  'ModelExplainRunId': 'AutoML_71dcb722-b632-4ead-8c1c-007a85bc8a92_ModelExplain'},\n 'inputDatasets': [{'dataset': {'id': 'b25b3bc5-3384-49b9-9aa3-6aa589c3716d'}, 'consumptionDetails': {'type': 'RunInput', 'inputName': 'training_data', 'mechanism': 'Direct'}}],\n 'outputDatasets': [],\n 'logFiles': {},\n 'submittedBy': 'Anderson Soares Furtado Oliveira'}"
          },
          "metadata": {}
        }
      ],
      "execution_count": 11,
      "metadata": {
        "collapsed": true,
        "jupyter": {
          "source_hidden": false,
          "outputs_hidden": false
        },
        "nteract": {
          "transient": {
            "deleting": false
          }
        },
        "gather": {
          "logged": 1610923814877
        }
      }
    },
    {
      "cell_type": "markdown",
      "source": [
        "## Best Model"
      ],
      "metadata": {
        "nteract": {
          "transient": {
            "deleting": false
          }
        }
      }
    },
    {
      "cell_type": "code",
      "source": [
        "best_run, fitted_model = remote_run.get_output()\r\n",
        "print(best_run)\r\n",
        "print(fitted_model)"
      ],
      "outputs": [
        {
          "output_type": "stream",
          "name": "stdout",
          "text": [
            "Run(Experiment: ideb-regression,\n",
            "Id: AutoML_71dcb722-b632-4ead-8c1c-007a85bc8a92_21,\n",
            "Type: azureml.scriptrun,\n",
            "Status: Completed)\n",
            "RegressionPipeline(pipeline=Pipeline(memory=None,\n",
            "                                     steps=[('datatransformer',\n",
            "                                             DataTransformer(enable_dnn=None,\n",
            "                                                             enable_feature_sweeping=None,\n",
            "                                                             feature_sweeping_config=None,\n",
            "                                                             feature_sweeping_timeout=None,\n",
            "                                                             featurization_config=None,\n",
            "                                                             force_text_dnn=None,\n",
            "                                                             is_cross_validation=None,\n",
            "                                                             is_onnx_compatible=None,\n",
            "                                                             logger=None,\n",
            "                                                             observer=None,\n",
            "                                                             task=None,\n",
            "                                                             working_dir=None)),\n",
            "                                            ('sta...\n",
            "                                                                                                                selection='cyclic',\n",
            "                                                                                                                tol=0.0001,\n",
            "                                                                                                                warm_start=False))],\n",
            "                                                                                             verbose=False))],\n",
            "                                                                    meta_learner=ElasticNetCV(alphas=None,\n",
            "                                                                                              copy_X=True,\n",
            "                                                                                              cv=None,\n",
            "                                                                                              eps=0.001,\n",
            "                                                                                              fit_intercept=True,\n",
            "                                                                                              l1_ratio=0.5,\n",
            "                                                                                              max_iter=1000,\n",
            "                                                                                              n_alphas=100,\n",
            "                                                                                              n_jobs=None,\n",
            "                                                                                              normalize=False,\n",
            "                                                                                              positive=False,\n",
            "                                                                                              precompute='auto',\n",
            "                                                                                              random_state=None,\n",
            "                                                                                              selection='cyclic',\n",
            "                                                                                              tol=0.0001,\n",
            "                                                                                              verbose=0),\n",
            "                                                                    training_cv_folds=5))],\n",
            "                                     verbose=False),\n",
            "                   stddev=None)\n"
          ]
        }
      ],
      "execution_count": 12,
      "metadata": {
        "collapsed": true,
        "jupyter": {
          "source_hidden": false,
          "outputs_hidden": false
        },
        "nteract": {
          "transient": {
            "deleting": false
          }
        },
        "gather": {
          "logged": 1610923837518
        }
      }
    },
    {
      "cell_type": "markdown",
      "source": [
        "## Metric in best model"
      ],
      "metadata": {
        "nteract": {
          "transient": {
            "deleting": false
          }
        }
      }
    },
    {
      "cell_type": "code",
      "source": [
        "best_run_metrics = best_run.get_metrics()\r\n",
        "best_run_metrics"
      ],
      "outputs": [
        {
          "output_type": "execute_result",
          "execution_count": 13,
          "data": {
            "text/plain": "{'normalized_root_mean_squared_error': 0.0060699843311466705,\n 'explained_variance': 0.9976653377474669,\n 'root_mean_squared_log_error': 0.008231218270738595,\n 'normalized_median_absolute_error': 0.004045525011526334,\n 'r2_score': 0.9976627238408339,\n 'mean_absolute_error': 0.029887698103431726,\n 'mean_absolute_percentage_error': 0.7556447636104666,\n 'normalized_mean_absolute_error': 0.004669952828661206,\n 'normalized_root_mean_squared_log_error': 0.00618696050445387,\n 'root_mean_squared_error': 0.03884789971933869,\n 'median_absolute_error': 0.02589136007376854,\n 'spearman_correlation': 0.9987798377962397,\n 'residuals': 'aml://artifactId/ExperimentRun/dcid.AutoML_71dcb722-b632-4ead-8c1c-007a85bc8a92_21/residuals',\n 'predicted_true': 'aml://artifactId/ExperimentRun/dcid.AutoML_71dcb722-b632-4ead-8c1c-007a85bc8a92_21/predicted_true'}"
          },
          "metadata": {}
        }
      ],
      "execution_count": 13,
      "metadata": {
        "collapsed": true,
        "jupyter": {
          "source_hidden": false,
          "outputs_hidden": false
        },
        "nteract": {
          "transient": {
            "deleting": false
          }
        },
        "gather": {
          "logged": 1610923967416
        }
      }
    },
    {
      "cell_type": "markdown",
      "source": [
        "## Save the best model"
      ],
      "metadata": {
        "nteract": {
          "transient": {
            "deleting": false
          }
        }
      }
    },
    {
      "cell_type": "code",
      "source": [
        "env = best_run.get_environment()\r\n",
        "best_run.download_file('./outputs/model.pkl', './outputs/automl_ideb.pkl')\r\n",
        "best_run.download_file('./outputs/scoring_file_v_1_0_0.py', './outputs/score.py')\r\n",
        "best_run.download_file('automl_driver.py', './outputs/automl_driver.py')\r\n",
        "\r\n",
        "import joblib  \r\n",
        "joblib.dump(fitted_model, \"./outputs/model.pkl\")"
      ],
      "outputs": [
        {
          "output_type": "execute_result",
          "execution_count": 18,
          "data": {
            "text/plain": "['./outputs/model.pkl']"
          },
          "metadata": {}
        }
      ],
      "execution_count": 18,
      "metadata": {
        "collapsed": true,
        "jupyter": {
          "source_hidden": false,
          "outputs_hidden": false
        },
        "nteract": {
          "transient": {
            "deleting": false
          }
        },
        "gather": {
          "logged": 1610924223636
        }
      }
    },
    {
      "cell_type": "code",
      "source": [
        "os.listdir(os.curdir), os.getcwd()"
      ],
      "outputs": [],
      "execution_count": null,
      "metadata": {
        "collapsed": true,
        "jupyter": {
          "source_hidden": false,
          "outputs_hidden": false
        },
        "nteract": {
          "transient": {
            "deleting": false
          }
        },
        "gather": {
          "logged": 1610924227135
        }
      }
    },
    {
      "cell_type": "markdown",
      "source": [
        "## Model Deployment"
      ],
      "metadata": {
        "nteract": {
          "transient": {
            "deleting": false
          }
        }
      }
    },
    {
      "cell_type": "code",
      "source": [
        "model=best_run.register_model(\r\n",
        "                        model_name = 'best_model',\r\n",
        "                        model_path = './outputs/',\r\n",
        "                        description = \"Best model trained with AutoML\")\r\n",
        "model"
      ],
      "outputs": [
        {
          "output_type": "execute_result",
          "execution_count": 20,
          "data": {
            "text/plain": "Model(workspace=Workspace.create(name='AZML', subscription_id='a748a023-896b-4719-8f8e-3d1ba62d6e35', resource_group='RG-AZML'), name=best_model, id=best_model:1, version=1, tags={}, properties={})"
          },
          "metadata": {}
        }
      ],
      "execution_count": 20,
      "metadata": {
        "collapsed": true,
        "jupyter": {
          "source_hidden": false,
          "outputs_hidden": false
        },
        "nteract": {
          "transient": {
            "deleting": false
          }
        },
        "gather": {
          "logged": 1610924233271
        }
      }
    },
    {
      "cell_type": "code",
      "source": [
        "from azureml.core.model import InferenceConfig\r\n",
        "from azureml.core.webservice import AciWebservice\r\n",
        "from azureml.core.webservice import Webservice\r\n",
        "from azureml.core.model import Model\r\n",
        "from azureml.core.environment import Environment\r\n",
        "\r\n",
        "aci_config = AciWebservice.deploy_configuration(cpu_cores=1, memory_gb=1)\r\n",
        "inference_config = InferenceConfig(entry_script='./outputs/score.py')\r\n",
        "\r\n",
        "service = model.deploy(\r\n",
        "    workspace=ws,\r\n",
        "    name=\"service-ideb\",\r\n",
        "    models=[model],\r\n",
        "    inference_config=inference_config,\r\n",
        "    deployment_config=aci_config,\r\n",
        "    overwrite=True\r\n",
        ")\r\n",
        "service.wait_for_deployment(show_output=True)\r\n",
        "print(service.state)"
      ],
      "outputs": [
        {
          "output_type": "stream",
          "name": "stdout",
          "text": [
            "Tips: You can try get_logs(): https://aka.ms/debugimage#dockerlog or local deployment: https://aka.ms/debugimage#debug-locally to debug if deployment takes longer than 10 minutes.\n",
            "Running...................................................................................................................................................................................................................................................................................................................................................................\n",
            "TimedOut\n"
          ]
        },
        {
          "output_type": "stream",
          "name": "stderr",
          "text": [
            "ERROR:azureml.core.webservice.webservice:Service deployment polling reached non-successful terminal state, current service state: Transitioning\n",
            "Operation ID: 5cb8f4b4-ca34-41b6-b8b9-034ee2fa8944\n",
            "More information can be found using '.get_logs()'\n",
            "Error:\n",
            "{\n",
            "  \"code\": \"DeploymentTimedOut\",\n",
            "  \"statusCode\": 504,\n",
            "  \"message\": \"The deployment operation polling has TimedOut. The service creation is taking longer than our normal time. We are still trying to achieve the desired state for the web service. Please check the webservice state for the current webservice health. You can run print(service.state) from the python SDK to retrieve the current state of the webservice. \\nPlease refer to https://aka.ms/debugimage#dockerlog for more information.\"\n",
            "}\n",
            "\n"
          ]
        },
        {
          "output_type": "error",
          "ename": "WebserviceException",
          "evalue": "WebserviceException:\n\tMessage: Service deployment polling reached non-successful terminal state, current service state: Transitioning\nOperation ID: 5cb8f4b4-ca34-41b6-b8b9-034ee2fa8944\nMore information can be found using '.get_logs()'\nError:\n{\n  \"code\": \"DeploymentTimedOut\",\n  \"statusCode\": 504,\n  \"message\": \"The deployment operation polling has TimedOut. The service creation is taking longer than our normal time. We are still trying to achieve the desired state for the web service. Please check the webservice state for the current webservice health. You can run print(service.state) from the python SDK to retrieve the current state of the webservice. \\nPlease refer to https://aka.ms/debugimage#dockerlog for more information.\"\n}\n\tInnerException None\n\tErrorResponse \n{\n    \"error\": {\n        \"message\": \"Service deployment polling reached non-successful terminal state, current service state: Transitioning\\nOperation ID: 5cb8f4b4-ca34-41b6-b8b9-034ee2fa8944\\nMore information can be found using '.get_logs()'\\nError:\\n{\\n  \\\"code\\\": \\\"DeploymentTimedOut\\\",\\n  \\\"statusCode\\\": 504,\\n  \\\"message\\\": \\\"The deployment operation polling has TimedOut. The service creation is taking longer than our normal time. We are still trying to achieve the desired state for the web service. Please check the webservice state for the current webservice health. You can run print(service.state) from the python SDK to retrieve the current state of the webservice. \\\\nPlease refer to https://aka.ms/debugimage#dockerlog for more information.\\\"\\n}\"\n    }\n}",
          "traceback": [
            "\u001b[0;31m---------------------------------------------------------------------------\u001b[0m",
            "\u001b[0;31mWebserviceException\u001b[0m                       Traceback (most recent call last)",
            "\u001b[0;32m<ipython-input-36-d57dd867ba8f>\u001b[0m in \u001b[0;36m<module>\u001b[0;34m\u001b[0m\n\u001b[1;32m     16\u001b[0m     \u001b[0moverwrite\u001b[0m\u001b[0;34m=\u001b[0m\u001b[0;32mTrue\u001b[0m\u001b[0;34m\u001b[0m\u001b[0;34m\u001b[0m\u001b[0m\n\u001b[1;32m     17\u001b[0m )\n\u001b[0;32m---> 18\u001b[0;31m \u001b[0mservice\u001b[0m\u001b[0;34m.\u001b[0m\u001b[0mwait_for_deployment\u001b[0m\u001b[0;34m(\u001b[0m\u001b[0mshow_output\u001b[0m\u001b[0;34m=\u001b[0m\u001b[0;32mTrue\u001b[0m\u001b[0;34m)\u001b[0m\u001b[0;34m\u001b[0m\u001b[0;34m\u001b[0m\u001b[0m\n\u001b[0m\u001b[1;32m     19\u001b[0m \u001b[0mprint\u001b[0m\u001b[0;34m(\u001b[0m\u001b[0mservice\u001b[0m\u001b[0;34m.\u001b[0m\u001b[0mstate\u001b[0m\u001b[0;34m)\u001b[0m\u001b[0;34m\u001b[0m\u001b[0;34m\u001b[0m\u001b[0m\n",
            "\u001b[0;32m/anaconda/envs/azureml_py36/lib/python3.6/site-packages/azureml/core/webservice/webservice.py\u001b[0m in \u001b[0;36mwait_for_deployment\u001b[0;34m(self, show_output, timeout_sec)\u001b[0m\n\u001b[1;32m    913\u001b[0m                                           \u001b[0;34m'Error:\\n'\u001b[0m\u001b[0;34m\u001b[0m\u001b[0;34m\u001b[0m\u001b[0m\n\u001b[1;32m    914\u001b[0m                                           '{}'.format(self.state, self._operation_endpoint.split('/')[-1],\n\u001b[0;32m--> 915\u001b[0;31m                                                       logs_response, error_response), logger=module_logger)\n\u001b[0m\u001b[1;32m    916\u001b[0m             print('{} service creation operation finished, operation \"{}\"'.format(self._webservice_type,\n\u001b[1;32m    917\u001b[0m                                                                                   operation_state))\n",
            "\u001b[0;31mWebserviceException\u001b[0m: WebserviceException:\n\tMessage: Service deployment polling reached non-successful terminal state, current service state: Transitioning\nOperation ID: 5cb8f4b4-ca34-41b6-b8b9-034ee2fa8944\nMore information can be found using '.get_logs()'\nError:\n{\n  \"code\": \"DeploymentTimedOut\",\n  \"statusCode\": 504,\n  \"message\": \"The deployment operation polling has TimedOut. The service creation is taking longer than our normal time. We are still trying to achieve the desired state for the web service. Please check the webservice state for the current webservice health. You can run print(service.state) from the python SDK to retrieve the current state of the webservice. \\nPlease refer to https://aka.ms/debugimage#dockerlog for more information.\"\n}\n\tInnerException None\n\tErrorResponse \n{\n    \"error\": {\n        \"message\": \"Service deployment polling reached non-successful terminal state, current service state: Transitioning\\nOperation ID: 5cb8f4b4-ca34-41b6-b8b9-034ee2fa8944\\nMore information can be found using '.get_logs()'\\nError:\\n{\\n  \\\"code\\\": \\\"DeploymentTimedOut\\\",\\n  \\\"statusCode\\\": 504,\\n  \\\"message\\\": \\\"The deployment operation polling has TimedOut. The service creation is taking longer than our normal time. We are still trying to achieve the desired state for the web service. Please check the webservice state for the current webservice health. You can run print(service.state) from the python SDK to retrieve the current state of the webservice. \\\\nPlease refer to https://aka.ms/debugimage#dockerlog for more information.\\\"\\n}\"\n    }\n}"
          ]
        }
      ],
      "execution_count": 36,
      "metadata": {
        "collapsed": true,
        "jupyter": {
          "source_hidden": false,
          "outputs_hidden": false
        },
        "nteract": {
          "transient": {
            "deleting": false
          }
        },
        "gather": {
          "logged": 1610588749390
        }
      }
    },
    {
      "cell_type": "code",
      "source": [
        "print(service.state)"
      ],
      "outputs": [
        {
          "output_type": "stream",
          "name": "stdout",
          "text": [
            "Transitioning\n"
          ]
        }
      ],
      "execution_count": 52,
      "metadata": {
        "collapsed": true,
        "jupyter": {
          "source_hidden": false,
          "outputs_hidden": false
        },
        "nteract": {
          "transient": {
            "deleting": false
          }
        },
        "gather": {
          "logged": 1610930486558
        }
      }
    },
    {
      "cell_type": "markdown",
      "source": [
        "## Test the Deploy model"
      ],
      "metadata": {
        "nteract": {
          "transient": {
            "deleting": false
          }
        }
      }
    },
    {
      "cell_type": "code",
      "source": [
        "scoring_uri = service.scoring_uri\r\n",
        "\r\n",
        "print(f'\\nservice state: {service.state}\\n')\r\n",
        "print(f'scoring URI: \\n{service.scoring_uri}\\n')\r\n",
        "print(f'swagger URI: \\n{service.swagger_uri}\\n')"
      ],
      "outputs": [],
      "execution_count": null,
      "metadata": {
        "collapsed": true,
        "jupyter": {
          "source_hidden": false,
          "outputs_hidden": false
        },
        "nteract": {
          "transient": {
            "deleting": false
          }
        },
        "gather": {
          "logged": 1610590806178
        }
      }
    },
    {
      "cell_type": "code",
      "source": [
        "import requests\r\n",
        "import json\r\n",
        "\r\n",
        "# scoring endpoint\r\n",
        "scoring_uri = service.scoring_uri\r\n",
        "\r\n",
        "\r\n",
        "# If the service is authenticated, set the key or token\r\n",
        "#key = '<your key or token>'\r\n",
        "\r\n",
        "# Two sets of data to score, so we get two results back\r\n",
        "data = {\"data\":\r\n",
        "        [\r\n",
        "          {\r\n",
        "           \"Cod_Escola\": 4,\r\n",
        "           \"TAprov2019_Total\": 99.9, \r\n",
        "           \"TAprov2019_1_serie\": 99.2, \r\n",
        "           \"TAprov2019_2_serie\": 59.1, \r\n",
        "           \"TAprov2019_3_serie\": 60.5, \r\n",
        "           \"TAprov2019_4_serie\": 70.5, \r\n",
        "           \"Indicador_Rendimento\": 0.99, \r\n",
        "           \"SAEB2019_Matematica\": 365.38, \r\n",
        "           \"SAEB2019_Lingua Portuguesa\": 351.54, \r\n",
        "           \"SAEB2019_Nota Media Padronizada\": 7.055853, \r\n",
        "           \"IDEB_2019\": 7.1\r\n",
        "          },\r\n",
        "      ]\r\n",
        "    }\r\n",
        "# Convert to JSON string\r\n",
        "input_data = json.dumps(data)\r\n",
        "\r\n",
        "# Set the content type\r\n",
        "headers = {'Content-Type': 'application/json'}\r\n",
        "# If authentication is enabled, set the authorization header\r\n",
        "#headers['Authorization'] = f'Bearer {key}'\r\n",
        "\r\n",
        "# Make the request and display the response\r\n",
        "resp = requests.post(scoring_uri, input_data, headers=headers)\r\n",
        "print(resp.text)"
      ],
      "outputs": [],
      "execution_count": null,
      "metadata": {
        "collapsed": true,
        "jupyter": {
          "source_hidden": false,
          "outputs_hidden": false
        },
        "nteract": {
          "transient": {
            "deleting": false
          }
        },
        "gather": {
          "logged": 1610590887950
        }
      }
    },
    {
      "cell_type": "markdown",
      "source": [
        "## View the service logs"
      ],
      "metadata": {
        "nteract": {
          "transient": {
            "deleting": false
          }
        }
      }
    },
    {
      "cell_type": "code",
      "source": [
        "print(service.get_logs())"
      ],
      "outputs": [
        {
          "output_type": "stream",
          "name": "stdout",
          "text": [
            "\n"
          ]
        }
      ],
      "execution_count": 38,
      "metadata": {
        "collapsed": true,
        "jupyter": {
          "source_hidden": false,
          "outputs_hidden": false
        },
        "nteract": {
          "transient": {
            "deleting": false
          }
        },
        "gather": {
          "logged": 1610929467054
        }
      }
    },
    {
      "cell_type": "code",
      "source": [
        "service.delete()"
      ],
      "outputs": [],
      "execution_count": null,
      "metadata": {
        "collapsed": true,
        "jupyter": {
          "source_hidden": false,
          "outputs_hidden": false
        },
        "nteract": {
          "transient": {
            "deleting": false
          }
        }
      }
    }
  ],
  "metadata": {
    "kernelspec": {
      "name": "python3-azureml",
      "language": "python",
      "display_name": "Python 3.6 - AzureML"
    },
    "language_info": {
      "name": "python",
      "version": "3.6.9",
      "mimetype": "text/x-python",
      "codemirror_mode": {
        "name": "ipython",
        "version": 3
      },
      "pygments_lexer": "ipython3",
      "nbconvert_exporter": "python",
      "file_extension": ".py"
    },
    "kernel_info": {
      "name": "python3-azureml"
    },
    "nteract": {
      "version": "nteract-front-end@1.0.0"
    }
  },
  "nbformat": 4,
  "nbformat_minor": 2
}
