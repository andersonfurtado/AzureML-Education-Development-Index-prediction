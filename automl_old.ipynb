{
  "cells": [
    {
      "cell_type": "markdown",
      "source": [
        "# Automated Machine Learning"
      ],
      "metadata": {
        "nteract": {
          "transient": {
            "deleting": false
          }
        }
      }
    },
    {
      "cell_type": "code",
      "source": [
        "from matplotlib import pyplot as plt\r\n",
        "import numpy as np\r\n",
        "import pandas as pd\r\n",
        " \r\n",
        "import azureml.core\r\n",
        "from azureml.core.experiment import Experiment\r\n",
        "from azureml.core.workspace import Workspace\r\n",
        "from azureml.core.dataset import Dataset\r\n",
        "from azureml.train.automl import AutoMLConfig\r\n",
        "from azureml.core.model import InferenceConfig\r\n",
        "from azureml.core.webservice import AciWebservice\r\n",
        "from azureml.core.webservice import Webservice\r\n",
        "from azureml.core.model import Model\r\n",
        "from azureml.core.environment import Environment\r\n",
        "\r\n",
        "# Check core SDK version number\r\n",
        "print(\"SDK version:\", azureml.core.VERSION)"
      ],
      "outputs": [
        {
          "output_type": "stream",
          "name": "stdout",
          "text": [
            "SDK version: 1.20.0\n"
          ]
        }
      ],
      "execution_count": 2,
      "metadata": {
        "gather": {
          "logged": 1611279848100
        }
      }
    },
    {
      "cell_type": "code",
      "source": [
        "ws = Workspace.from_config()\r\n",
        "print(ws.name, ws.resource_group, ws.location, ws.subscription_id, sep = '\\n')"
      ],
      "outputs": [
        {
          "output_type": "stream",
          "name": "stdout",
          "text": [
            "AZML\n",
            "RG-AZML\n",
            "eastus\n",
            "a748a023-896b-4719-8f8e-3d1ba62d6e35\n"
          ]
        }
      ],
      "execution_count": 3,
      "metadata": {
        "collapsed": true,
        "jupyter": {
          "source_hidden": false,
          "outputs_hidden": false
        },
        "nteract": {
          "transient": {
            "deleting": false
          }
        },
        "gather": {
          "logged": 1611279850965
        }
      }
    },
    {
      "cell_type": "code",
      "source": [
        "# Choose a name for the experiment.\r\n",
        "experiment_name = 'ideb-regression'\r\n",
        "\r\n",
        "experiment = Experiment(ws, experiment_name)\r\n",
        "\r\n",
        "output = {}\r\n",
        "output['Subscription ID'] = ws.subscription_id\r\n",
        "output['Workspace'] = ws.name\r\n",
        "output['Resource Group'] = ws.resource_group\r\n",
        "output['Location'] = ws.location\r\n",
        "output['Run History Name'] = experiment_name\r\n",
        "pd.set_option('display.max_colwidth', -1)\r\n",
        "outputDf = pd.DataFrame(data = output, index = [''])\r\n",
        "outputDf.T"
      ],
      "outputs": [
        {
          "output_type": "execute_result",
          "execution_count": 4,
          "data": {
            "text/plain": "                                                      \nSubscription ID   a748a023-896b-4719-8f8e-3d1ba62d6e35\nWorkspace         AZML                                \nResource Group    RG-AZML                             \nLocation          eastus                              \nRun History Name  ideb-regression                     ",
            "text/html": "<div>\n<style scoped>\n    .dataframe tbody tr th:only-of-type {\n        vertical-align: middle;\n    }\n\n    .dataframe tbody tr th {\n        vertical-align: top;\n    }\n\n    .dataframe thead th {\n        text-align: right;\n    }\n</style>\n<table border=\"1\" class=\"dataframe\">\n  <thead>\n    <tr style=\"text-align: right;\">\n      <th></th>\n      <th></th>\n    </tr>\n  </thead>\n  <tbody>\n    <tr>\n      <th>Subscription ID</th>\n      <td>a748a023-896b-4719-8f8e-3d1ba62d6e35</td>\n    </tr>\n    <tr>\n      <th>Workspace</th>\n      <td>AZML</td>\n    </tr>\n    <tr>\n      <th>Resource Group</th>\n      <td>RG-AZML</td>\n    </tr>\n    <tr>\n      <th>Location</th>\n      <td>eastus</td>\n    </tr>\n    <tr>\n      <th>Run History Name</th>\n      <td>ideb-regression</td>\n    </tr>\n  </tbody>\n</table>\n</div>"
          },
          "metadata": {}
        }
      ],
      "execution_count": 4,
      "metadata": {
        "collapsed": true,
        "jupyter": {
          "source_hidden": false,
          "outputs_hidden": false
        },
        "nteract": {
          "transient": {
            "deleting": false
          }
        },
        "gather": {
          "logged": 1611279854222
        }
      }
    },
    {
      "cell_type": "markdown",
      "source": [
        "## Using AmlCompute"
      ],
      "metadata": {
        "nteract": {
          "transient": {
            "deleting": false
          }
        }
      }
    },
    {
      "cell_type": "code",
      "source": [
        "from azureml.core.compute import ComputeTarget, AmlCompute\r\n",
        "from azureml.core.compute_target import ComputeTargetException\r\n",
        "\r\n",
        "# Choose a name for your CPU cluster\r\n",
        "cpu_cluster_name = \"automl-cluster\"\r\n",
        "\r\n",
        "# Verify that cluster does not exist already\r\n",
        "try:\r\n",
        "    compute_target = ComputeTarget(workspace=ws, name=cpu_cluster_name)\r\n",
        "    print('Found existing cluster, use it.')\r\n",
        "except ComputeTargetException:\r\n",
        "    compute_config = AmlCompute.provisioning_configuration(vm_size='STANDARD_D2_V2',\r\n",
        "                                                           max_nodes=4)\r\n",
        "    compute_target = ComputeTarget.create(ws, cpu_cluster_name, compute_config)\r\n",
        "\r\n",
        "compute_target.wait_for_completion(show_output=True)"
      ],
      "outputs": [
        {
          "output_type": "stream",
          "name": "stdout",
          "text": [
            "Found existing cluster, use it.\n",
            "\n",
            "Jobrunning........\n",
            "Running\n"
          ]
        }
      ],
      "execution_count": 5,
      "metadata": {
        "collapsed": true,
        "jupyter": {
          "source_hidden": false,
          "outputs_hidden": false
        },
        "nteract": {
          "transient": {
            "deleting": false
          }
        },
        "gather": {
          "logged": 1611279919620
        }
      }
    },
    {
      "cell_type": "markdown",
      "source": [
        "## Data"
      ],
      "metadata": {
        "nteract": {
          "transient": {
            "deleting": false
          }
        }
      }
    },
    {
      "cell_type": "markdown",
      "source": [
        "### Load Data"
      ],
      "metadata": {
        "nteract": {
          "transient": {
            "deleting": false
          }
        }
      }
    },
    {
      "cell_type": "code",
      "source": [
        "datastore = ws.get_default_datastore()\r\n",
        "path = \"data/data.csv\"\r\n",
        "try:\r\n",
        "    ideb_dataset = Dataset.get_by_name(ws, name=\"ideb_dataset\")\r\n",
        "except:\r\n",
        "    datastore.upload('data', target_path='data')\r\n",
        "    # Create TabularDataset & register in workspace\r\n",
        "    ideb_dataset = Dataset.Tabular.from_delimited_files([(datastore, path)])\r\n",
        "    ideb_dataset = ideb_dataset.register(\r\n",
        "        ws, name=\"ideb_dataset\", create_new_version=True,\r\n",
        "        description=\"Dataset for ideb prediction\"\r\n",
        "    )"
      ],
      "outputs": [],
      "execution_count": 6,
      "metadata": {
        "collapsed": true,
        "jupyter": {
          "source_hidden": false,
          "outputs_hidden": false
        },
        "nteract": {
          "transient": {
            "deleting": false
          }
        },
        "gather": {
          "logged": 1611280052237
        }
      }
    },
    {
      "cell_type": "markdown",
      "source": [
        "## Automl Settings"
      ],
      "metadata": {
        "nteract": {
          "transient": {
            "deleting": false
          }
        }
      }
    },
    {
      "cell_type": "code",
      "source": [
        "automl_settings = {\r\n",
        "    \"n_cross_validations\": 5,\r\n",
        "    \"primary_metric\": 'r2_score',\r\n",
        "    \"experiment_timeout_minutes\": 15, \r\n",
        "    \"max_concurrent_iterations\": 4,\r\n",
        "    \"featurization\": 'auto',\r\n",
        "}\r\n",
        "\r\n",
        "automl_config = AutoMLConfig(task = 'regression',\r\n",
        "                             compute_target = compute_target,\r\n",
        "                             training_data = ideb_dataset,\r\n",
        "                             label_column_name = \"IDEB_2019\",\r\n",
        "                             enable_early_stopping= True,\r\n",
        "                             debug_log = \"automl_errors.log\",\r\n",
        "                             **automl_settings\r\n",
        "                            )\r\n",
        "\r\n"
      ],
      "outputs": [],
      "execution_count": 7,
      "metadata": {
        "collapsed": true,
        "jupyter": {
          "source_hidden": false,
          "outputs_hidden": false
        },
        "nteract": {
          "transient": {
            "deleting": false
          }
        },
        "gather": {
          "logged": 1611280058179
        }
      }
    },
    {
      "cell_type": "markdown",
      "source": [
        "## Run details"
      ],
      "metadata": {
        "nteract": {
          "transient": {
            "deleting": false
          }
        }
      }
    },
    {
      "cell_type": "code",
      "source": [
        "from azureml.widgets import RunDetails\r\n",
        "\r\n",
        "remote_run = experiment.submit(automl_config)\r\n",
        "RunDetails(remote_run).show()\r\n",
        "remote_run.wait_for_completion(show_output=True)"
      ],
      "outputs": [
        {
          "output_type": "stream",
          "name": "stdout",
          "text": [
            "Running on remote.\n"
          ]
        },
        {
          "output_type": "display_data",
          "data": {
            "text/plain": "_AutoMLWidget(widget_settings={'childWidgetDisplay': 'popup', 'send_telemetry': False, 'log_level': 'INFO', 's…",
            "application/vnd.jupyter.widget-view+json": {
              "version_major": 2,
              "version_minor": 0,
              "model_id": "ec400a6d749a4ef8b1ff7d29adc52ea5"
            }
          },
          "metadata": {}
        },
        {
          "output_type": "display_data",
          "data": {
            "application/aml.mini.widget.v1": "{\"status\": \"Completed\", \"workbench_run_details_uri\": \"https://ml.azure.com/experiments/ideb-regression/runs/AutoML_867f2963-9a49-44fb-93e9-7f304aa4d725?wsid=/subscriptions/a748a023-896b-4719-8f8e-3d1ba62d6e35/resourcegroups/RG-AZML/workspaces/AZML\", \"run_id\": \"AutoML_867f2963-9a49-44fb-93e9-7f304aa4d725\", \"run_properties\": {\"run_id\": \"AutoML_867f2963-9a49-44fb-93e9-7f304aa4d725\", \"created_utc\": \"2021-01-22T01:47:45.942277Z\", \"properties\": {\"num_iterations\": \"1000\", \"training_type\": \"TrainFull\", \"acquisition_function\": \"EI\", \"primary_metric\": \"r2_score\", \"train_split\": \"0\", \"acquisition_parameter\": \"0\", \"num_cross_validation\": \"5\", \"target\": \"automl-cluster\", \"AMLSettingsJsonString\": \"{\\\"path\\\":null,\\\"name\\\":\\\"ideb-regression\\\",\\\"subscription_id\\\":\\\"a748a023-896b-4719-8f8e-3d1ba62d6e35\\\",\\\"resource_group\\\":\\\"RG-AZML\\\",\\\"workspace_name\\\":\\\"AZML\\\",\\\"region\\\":\\\"eastus\\\",\\\"compute_target\\\":\\\"automl-cluster\\\",\\\"spark_service\\\":null,\\\"azure_service\\\":\\\"remote\\\",\\\"many_models\\\":false,\\\"pipeline_fetch_max_batch_size\\\":1,\\\"iterations\\\":1000,\\\"primary_metric\\\":\\\"r2_score\\\",\\\"task_type\\\":\\\"regression\\\",\\\"data_script\\\":null,\\\"validation_size\\\":0.0,\\\"n_cross_validations\\\":5,\\\"y_min\\\":null,\\\"y_max\\\":null,\\\"num_classes\\\":null,\\\"featurization\\\":\\\"auto\\\",\\\"_ignore_package_version_incompatibilities\\\":false,\\\"is_timeseries\\\":false,\\\"max_cores_per_iteration\\\":1,\\\"max_concurrent_iterations\\\":4,\\\"iteration_timeout_minutes\\\":null,\\\"mem_in_mb\\\":null,\\\"enforce_time_on_windows\\\":false,\\\"experiment_timeout_minutes\\\":15,\\\"experiment_exit_score\\\":null,\\\"whitelist_models\\\":null,\\\"blacklist_algos\\\":[\\\"TensorFlowDNN\\\",\\\"TensorFlowLinearRegressor\\\"],\\\"supported_models\\\":[\\\"ExtremeRandomTrees\\\",\\\"SGD\\\",\\\"XGBoostRegressor\\\",\\\"LightGBM\\\",\\\"FastLinearRegressor\\\",\\\"ElasticNet\\\",\\\"TensorFlowDNN\\\",\\\"RandomForest\\\",\\\"OnlineGradientDescentRegressor\\\",\\\"KNN\\\",\\\"TensorFlowLinearRegressor\\\",\\\"DecisionTree\\\",\\\"LassoLars\\\",\\\"GradientBoosting\\\"],\\\"auto_blacklist\\\":true,\\\"blacklist_samples_reached\\\":false,\\\"exclude_nan_labels\\\":true,\\\"verbosity\\\":20,\\\"_debug_log\\\":\\\"azureml_automl.log\\\",\\\"show_warnings\\\":false,\\\"model_explainability\\\":true,\\\"service_url\\\":null,\\\"sdk_url\\\":null,\\\"sdk_packages\\\":null,\\\"enable_onnx_compatible_models\\\":false,\\\"enable_split_onnx_featurizer_estimator_models\\\":false,\\\"vm_type\\\":\\\"STANDARD_DS3_V2\\\",\\\"telemetry_verbosity\\\":20,\\\"send_telemetry\\\":true,\\\"enable_dnn\\\":false,\\\"scenario\\\":\\\"SDK-1.13.0\\\",\\\"environment_label\\\":null,\\\"force_text_dnn\\\":false,\\\"enable_feature_sweeping\\\":true,\\\"enable_early_stopping\\\":true,\\\"early_stopping_n_iters\\\":10,\\\"metrics\\\":null,\\\"enable_ensembling\\\":true,\\\"enable_stack_ensembling\\\":true,\\\"ensemble_iterations\\\":15,\\\"enable_tf\\\":false,\\\"enable_subsampling\\\":null,\\\"subsample_seed\\\":null,\\\"enable_nimbusml\\\":false,\\\"enable_streaming\\\":false,\\\"force_streaming\\\":false,\\\"track_child_runs\\\":true,\\\"allowed_private_models\\\":[],\\\"label_column_name\\\":\\\"IDEB_2019\\\",\\\"weight_column_name\\\":null,\\\"cv_split_column_names\\\":null,\\\"enable_local_managed\\\":false,\\\"_local_managed_run_id\\\":null,\\\"cost_mode\\\":1,\\\"lag_length\\\":0,\\\"metric_operation\\\":\\\"maximize\\\",\\\"preprocess\\\":true}\", \"DataPrepJsonString\": \"{\\\\\\\"training_data\\\\\\\": \\\\\\\"{\\\\\\\\\\\\\\\"blocks\\\\\\\\\\\\\\\": [{\\\\\\\\\\\\\\\"id\\\\\\\\\\\\\\\": \\\\\\\\\\\\\\\"823dab97-9480-4378-8c08-4aec261bc0f3\\\\\\\\\\\\\\\", \\\\\\\\\\\\\\\"type\\\\\\\\\\\\\\\": \\\\\\\\\\\\\\\"Microsoft.DPrep.GetDatastoreFilesBlock\\\\\\\\\\\\\\\", \\\\\\\\\\\\\\\"arguments\\\\\\\\\\\\\\\": {\\\\\\\\\\\\\\\"datastores\\\\\\\\\\\\\\\": [{\\\\\\\\\\\\\\\"datastoreName\\\\\\\\\\\\\\\": \\\\\\\\\\\\\\\"workspaceblobstore\\\\\\\\\\\\\\\", \\\\\\\\\\\\\\\"path\\\\\\\\\\\\\\\": \\\\\\\\\\\\\\\"UI/01-20-2021_015249_UTC/data.CSV\\\\\\\\\\\\\\\", \\\\\\\\\\\\\\\"resourceGroup\\\\\\\\\\\\\\\": \\\\\\\\\\\\\\\"RG-AZML\\\\\\\\\\\\\\\", \\\\\\\\\\\\\\\"subscription\\\\\\\\\\\\\\\": \\\\\\\\\\\\\\\"a748a023-896b-4719-8f8e-3d1ba62d6e35\\\\\\\\\\\\\\\", \\\\\\\\\\\\\\\"workspaceName\\\\\\\\\\\\\\\": \\\\\\\\\\\\\\\"AZML\\\\\\\\\\\\\\\"}]}, \\\\\\\\\\\\\\\"localData\\\\\\\\\\\\\\\": {}, \\\\\\\\\\\\\\\"isEnabled\\\\\\\\\\\\\\\": true, \\\\\\\\\\\\\\\"name\\\\\\\\\\\\\\\": null, \\\\\\\\\\\\\\\"annotation\\\\\\\\\\\\\\\": null}, {\\\\\\\\\\\\\\\"id\\\\\\\\\\\\\\\": \\\\\\\\\\\\\\\"76adb1eb-bf70-4771-bfa7-4e59f7b8e108\\\\\\\\\\\\\\\", \\\\\\\\\\\\\\\"type\\\\\\\\\\\\\\\": \\\\\\\\\\\\\\\"Microsoft.DPrep.ParseDelimitedBlock\\\\\\\\\\\\\\\", \\\\\\\\\\\\\\\"arguments\\\\\\\\\\\\\\\": {\\\\\\\\\\\\\\\"columnHeadersMode\\\\\\\\\\\\\\\": 1, \\\\\\\\\\\\\\\"fileEncoding\\\\\\\\\\\\\\\": 0, \\\\\\\\\\\\\\\"handleQuotedLineBreaks\\\\\\\\\\\\\\\": false, \\\\\\\\\\\\\\\"preview\\\\\\\\\\\\\\\": false, \\\\\\\\\\\\\\\"separator\\\\\\\\\\\\\\\": \\\\\\\\\\\\\\\";\\\\\\\\\\\\\\\", \\\\\\\\\\\\\\\"skipRows\\\\\\\\\\\\\\\": 0, \\\\\\\\\\\\\\\"skipRowsMode\\\\\\\\\\\\\\\": 0}, \\\\\\\\\\\\\\\"localData\\\\\\\\\\\\\\\": {}, \\\\\\\\\\\\\\\"isEnabled\\\\\\\\\\\\\\\": true, \\\\\\\\\\\\\\\"name\\\\\\\\\\\\\\\": null, \\\\\\\\\\\\\\\"annotation\\\\\\\\\\\\\\\": null}, {\\\\\\\\\\\\\\\"id\\\\\\\\\\\\\\\": \\\\\\\\\\\\\\\"e64ec390-9ab1-4697-a1c0-a78e859f8075\\\\\\\\\\\\\\\", \\\\\\\\\\\\\\\"type\\\\\\\\\\\\\\\": \\\\\\\\\\\\\\\"Microsoft.DPrep.DropColumnsBlock\\\\\\\\\\\\\\\", \\\\\\\\\\\\\\\"arguments\\\\\\\\\\\\\\\": {\\\\\\\\\\\\\\\"columns\\\\\\\\\\\\\\\": {\\\\\\\\\\\\\\\"type\\\\\\\\\\\\\\\": 0, \\\\\\\\\\\\\\\"details\\\\\\\\\\\\\\\": {\\\\\\\\\\\\\\\"selectedColumns\\\\\\\\\\\\\\\": [\\\\\\\\\\\\\\\"Path\\\\\\\\\\\\\\\"]}}}, \\\\\\\\\\\\\\\"localData\\\\\\\\\\\\\\\": {}, \\\\\\\\\\\\\\\"isEnabled\\\\\\\\\\\\\\\": true, \\\\\\\\\\\\\\\"name\\\\\\\\\\\\\\\": null, \\\\\\\\\\\\\\\"annotation\\\\\\\\\\\\\\\": null}, {\\\\\\\\\\\\\\\"id\\\\\\\\\\\\\\\": \\\\\\\\\\\\\\\"6e49ef01-f4a3-43db-8a3e-f72409add096\\\\\\\\\\\\\\\", \\\\\\\\\\\\\\\"type\\\\\\\\\\\\\\\": \\\\\\\\\\\\\\\"Microsoft.DPrep.SetColumnTypesBlock\\\\\\\\\\\\\\\", \\\\\\\\\\\\\\\"arguments\\\\\\\\\\\\\\\": {\\\\\\\\\\\\\\\"columnConversion\\\\\\\\\\\\\\\": [{\\\\\\\\\\\\\\\"column\\\\\\\\\\\\\\\": {\\\\\\\\\\\\\\\"type\\\\\\\\\\\\\\\": 2, \\\\\\\\\\\\\\\"details\\\\\\\\\\\\\\\": {\\\\\\\\\\\\\\\"selectedColumn\\\\\\\\\\\\\\\": \\\\\\\\\\\\\\\"Path\\\\\\\\\\\\\\\"}}, \\\\\\\\\\\\\\\"typeProperty\\\\\\\\\\\\\\\": 0}, {\\\\\\\\\\\\\\\"column\\\\\\\\\\\\\\\": {\\\\\\\\\\\\\\\"type\\\\\\\\\\\\\\\": 2, \\\\\\\\\\\\\\\"details\\\\\\\\\\\\\\\": {\\\\\\\\\\\\\\\"selectedColumn\\\\\\\\\\\\\\\": \\\\\\\\\\\\\\\"TAprov2019_Total\\\\\\\\\\\\\\\"}}, \\\\\\\\\\\\\\\"typeProperty\\\\\\\\\\\\\\\": 3}, {\\\\\\\\\\\\\\\"column\\\\\\\\\\\\\\\": {\\\\\\\\\\\\\\\"type\\\\\\\\\\\\\\\": 2, \\\\\\\\\\\\\\\"details\\\\\\\\\\\\\\\": {\\\\\\\\\\\\\\\"selectedColumn\\\\\\\\\\\\\\\": \\\\\\\\\\\\\\\"TAprov2019_1_serie\\\\\\\\\\\\\\\"}}, \\\\\\\\\\\\\\\"typeProperty\\\\\\\\\\\\\\\": 3}, {\\\\\\\\\\\\\\\"column\\\\\\\\\\\\\\\": {\\\\\\\\\\\\\\\"type\\\\\\\\\\\\\\\": 2, \\\\\\\\\\\\\\\"details\\\\\\\\\\\\\\\": {\\\\\\\\\\\\\\\"selectedColumn\\\\\\\\\\\\\\\": \\\\\\\\\\\\\\\"TAprov2019_2_serie\\\\\\\\\\\\\\\"}}, \\\\\\\\\\\\\\\"typeProperty\\\\\\\\\\\\\\\": 3}, {\\\\\\\\\\\\\\\"column\\\\\\\\\\\\\\\": {\\\\\\\\\\\\\\\"type\\\\\\\\\\\\\\\": 2, \\\\\\\\\\\\\\\"details\\\\\\\\\\\\\\\": {\\\\\\\\\\\\\\\"selectedColumn\\\\\\\\\\\\\\\": \\\\\\\\\\\\\\\"TAprov2019_3_serie\\\\\\\\\\\\\\\"}}, \\\\\\\\\\\\\\\"typeProperty\\\\\\\\\\\\\\\": 3}, {\\\\\\\\\\\\\\\"column\\\\\\\\\\\\\\\": {\\\\\\\\\\\\\\\"type\\\\\\\\\\\\\\\": 2, \\\\\\\\\\\\\\\"details\\\\\\\\\\\\\\\": {\\\\\\\\\\\\\\\"selectedColumn\\\\\\\\\\\\\\\": \\\\\\\\\\\\\\\"TAprov2019_4_serie\\\\\\\\\\\\\\\"}}, \\\\\\\\\\\\\\\"typeProperty\\\\\\\\\\\\\\\": 3}, {\\\\\\\\\\\\\\\"column\\\\\\\\\\\\\\\": {\\\\\\\\\\\\\\\"type\\\\\\\\\\\\\\\": 2, \\\\\\\\\\\\\\\"details\\\\\\\\\\\\\\\": {\\\\\\\\\\\\\\\"selectedColumn\\\\\\\\\\\\\\\": \\\\\\\\\\\\\\\"Indicador_Rendimento\\\\\\\\\\\\\\\"}}, \\\\\\\\\\\\\\\"typeProperty\\\\\\\\\\\\\\\": 3}, {\\\\\\\\\\\\\\\"column\\\\\\\\\\\\\\\": {\\\\\\\\\\\\\\\"type\\\\\\\\\\\\\\\": 2, \\\\\\\\\\\\\\\"details\\\\\\\\\\\\\\\": {\\\\\\\\\\\\\\\"selectedColumn\\\\\\\\\\\\\\\": \\\\\\\\\\\\\\\"SAEB2019_Matematica\\\\\\\\\\\\\\\"}}, \\\\\\\\\\\\\\\"typeProperty\\\\\\\\\\\\\\\": 3}, {\\\\\\\\\\\\\\\"column\\\\\\\\\\\\\\\": {\\\\\\\\\\\\\\\"type\\\\\\\\\\\\\\\": 2, \\\\\\\\\\\\\\\"details\\\\\\\\\\\\\\\": {\\\\\\\\\\\\\\\"selectedColumn\\\\\\\\\\\\\\\": \\\\\\\\\\\\\\\"SAEB2019_Lingua Portuguesa\\\\\\\\\\\\\\\"}}, \\\\\\\\\\\\\\\"typeProperty\\\\\\\\\\\\\\\": 3}, {\\\\\\\\\\\\\\\"column\\\\\\\\\\\\\\\": {\\\\\\\\\\\\\\\"type\\\\\\\\\\\\\\\": 2, \\\\\\\\\\\\\\\"details\\\\\\\\\\\\\\\": {\\\\\\\\\\\\\\\"selectedColumn\\\\\\\\\\\\\\\": \\\\\\\\\\\\\\\"SAEB2019_Nota Media Padronizada\\\\\\\\\\\\\\\"}}, \\\\\\\\\\\\\\\"typeProperty\\\\\\\\\\\\\\\": 3}, {\\\\\\\\\\\\\\\"column\\\\\\\\\\\\\\\": {\\\\\\\\\\\\\\\"type\\\\\\\\\\\\\\\": 2, \\\\\\\\\\\\\\\"details\\\\\\\\\\\\\\\": {\\\\\\\\\\\\\\\"selectedColumn\\\\\\\\\\\\\\\": \\\\\\\\\\\\\\\"IDEB_2019\\\\\\\\\\\\\\\"}}, \\\\\\\\\\\\\\\"typeProperty\\\\\\\\\\\\\\\": 3}]}, \\\\\\\\\\\\\\\"localData\\\\\\\\\\\\\\\": {}, \\\\\\\\\\\\\\\"isEnabled\\\\\\\\\\\\\\\": true, \\\\\\\\\\\\\\\"name\\\\\\\\\\\\\\\": null, \\\\\\\\\\\\\\\"annotation\\\\\\\\\\\\\\\": null}], \\\\\\\\\\\\\\\"inspectors\\\\\\\\\\\\\\\": [], \\\\\\\\\\\\\\\"meta\\\\\\\\\\\\\\\": {\\\\\\\\\\\\\\\"savedDatasetId\\\\\\\\\\\\\\\": \\\\\\\\\\\\\\\"f0599236-e951-454b-a849-7b74ddb516d7\\\\\\\\\\\\\\\", \\\\\\\\\\\\\\\"datasetType\\\\\\\\\\\\\\\": \\\\\\\\\\\\\\\"tabular\\\\\\\\\\\\\\\", \\\\\\\\\\\\\\\"subscriptionId\\\\\\\\\\\\\\\": \\\\\\\\\\\\\\\"a748a023-896b-4719-8f8e-3d1ba62d6e35\\\\\\\\\\\\\\\", \\\\\\\\\\\\\\\"workspaceId\\\\\\\\\\\\\\\": \\\\\\\\\\\\\\\"a7aa8562-5b11-4624-8e55-9a41918831e8\\\\\\\\\\\\\\\", \\\\\\\\\\\\\\\"workspaceLocation\\\\\\\\\\\\\\\": \\\\\\\\\\\\\\\"eastus\\\\\\\\\\\\\\\"}}\\\\\\\", \\\\\\\"activities\\\\\\\": 0}\", \"EnableSubsampling\": null, \"runTemplate\": \"AutoML\", \"azureml.runsource\": \"automl\", \"display_task_type\": \"regression\", \"dependencies_versions\": \"{\\\"azureml-widgets\\\": \\\"1.19.0\\\", \\\"azureml-train\\\": \\\"1.20.0\\\", \\\"azureml-train-restclients-hyperdrive\\\": \\\"1.20.0\\\", \\\"azureml-train-core\\\": \\\"1.20.0\\\", \\\"azureml-train-automl\\\": \\\"1.20.0\\\", \\\"azureml-train-automl-runtime\\\": \\\"1.20.0.post1\\\", \\\"azureml-train-automl-client\\\": \\\"1.20.0\\\", \\\"azureml-tensorboard\\\": \\\"1.19.0\\\", \\\"azureml-telemetry\\\": \\\"1.20.0\\\", \\\"azureml-sdk\\\": \\\"1.20.0\\\", \\\"azureml-samples\\\": \\\"0+unknown\\\", \\\"azureml-pipeline\\\": \\\"1.20.0\\\", \\\"azureml-pipeline-steps\\\": \\\"1.20.0\\\", \\\"azureml-pipeline-core\\\": \\\"1.20.0\\\", \\\"azureml-opendatasets\\\": \\\"1.19.0\\\", \\\"azureml-model-management-sdk\\\": \\\"1.0.1b6.post1\\\", \\\"azureml-mlflow\\\": \\\"1.19.0\\\", \\\"azureml-interpret\\\": \\\"1.20.0\\\", \\\"azureml-explain-model\\\": \\\"1.19.0\\\", \\\"azureml-defaults\\\": \\\"1.20.0\\\", \\\"azureml-dataset-runtime\\\": \\\"1.20.0\\\", \\\"azureml-dataprep\\\": \\\"2.7.3\\\", \\\"azureml-dataprep-rslex\\\": \\\"1.5.0\\\", \\\"azureml-dataprep-native\\\": \\\"27.0.0\\\", \\\"azureml-datadrift\\\": \\\"1.19.0\\\", \\\"azureml-core\\\": \\\"1.20.0\\\", \\\"azureml-contrib-services\\\": \\\"1.19.0\\\", \\\"azureml-contrib-server\\\": \\\"1.19.0\\\", \\\"azureml-contrib-reinforcementlearning\\\": \\\"1.19.0\\\", \\\"azureml-contrib-pipeline-steps\\\": \\\"1.19.0\\\", \\\"azureml-contrib-notebook\\\": \\\"1.19.0\\\", \\\"azureml-contrib-interpret\\\": \\\"1.19.0\\\", \\\"azureml-contrib-gbdt\\\": \\\"1.19.0\\\", \\\"azureml-contrib-fairness\\\": \\\"1.19.0\\\", \\\"azureml-contrib-dataset\\\": \\\"1.19.0\\\", \\\"azureml-cli-common\\\": \\\"1.19.0\\\", \\\"azureml-automl-runtime\\\": \\\"1.20.0\\\", \\\"azureml-automl-core\\\": \\\"1.20.0\\\", \\\"azureml-accel-models\\\": \\\"1.19.0\\\"}\", \"_aml_system_scenario_identification\": \"Remote.Parent\", \"ClientType\": \"SDK\", \"environment_cpu_name\": \"AzureML-AutoML\", \"environment_cpu_label\": \"prod\", \"environment_gpu_name\": \"AzureML-AutoML-GPU\", \"environment_gpu_label\": \"prod\", \"root_attribution\": \"automl\", \"attribution\": \"AutoML\", \"Orchestrator\": \"AutoML\", \"CancelUri\": \"https://eastus.experiments.azureml.net/jasmine/v1.0/subscriptions/a748a023-896b-4719-8f8e-3d1ba62d6e35/resourceGroups/RG-AZML/providers/Microsoft.MachineLearningServices/workspaces/AZML/experimentids/337dcb8b-d3cc-4e85-b122-67c93e8ceec5/cancel/AutoML_867f2963-9a49-44fb-93e9-7f304aa4d725\", \"ClientSdkVersion\": \"1.20.0\", \"snapshotId\": \"00000000-0000-0000-0000-000000000000\", \"SetupRunId\": \"AutoML_867f2963-9a49-44fb-93e9-7f304aa4d725_setup\", \"SetupRunContainerId\": \"dcid.AutoML_867f2963-9a49-44fb-93e9-7f304aa4d725_setup\", \"FeaturizationRunJsonPath\": \"featurizer_container.json\", \"FeaturizationRunId\": \"AutoML_867f2963-9a49-44fb-93e9-7f304aa4d725_featurize\", \"ProblemInfoJsonString\": \"{\\\"dataset_num_categorical\\\": 0, \\\"is_sparse\\\": false, \\\"subsampling\\\": false, \\\"dataset_classes\\\": 62, \\\"dataset_features\\\": 9, \\\"dataset_samples\\\": 12079, \\\"single_frequency_class_detected\\\": false}\", \"ModelExplainRunId\": \"AutoML_867f2963-9a49-44fb-93e9-7f304aa4d725_ModelExplain\"}, \"tags\": {\"model_explain_run\": \"best_run\", \"_aml_system_azureml.automlComponent\": \"AutoML\", \"pipeline_id\": \"\", \"score\": \"\", \"predicted_cost\": \"\", \"fit_time\": \"\", \"training_percent\": \"\", \"iteration\": \"\", \"run_preprocessor\": \"\", \"run_algorithm\": \"\", \"dynamic_whitelisting_iterations\": \"<25>;<30>;\", \"automl_best_child_run_id\": \"AutoML_867f2963-9a49-44fb-93e9-7f304aa4d725_35\", \"model_explain_best_run_child_id\": \"AutoML_867f2963-9a49-44fb-93e9-7f304aa4d725_35\"}, \"end_time_utc\": \"2021-01-22T02:08:39.910049Z\", \"status\": \"Completed\", \"log_files\": {}, \"log_groups\": [], \"run_duration\": \"0:20:53\"}, \"child_runs\": [{\"run_id\": \"AutoML_867f2963-9a49-44fb-93e9-7f304aa4d725_0\", \"run_number\": 1179, \"metric\": null, \"status\": \"Completed\", \"run_type\": \"azureml.scriptrun\", \"training_percent\": \"100\", \"start_time\": \"2021-01-22T01:52:36.300151Z\", \"end_time\": \"2021-01-22T01:53:41.518238Z\", \"created_time\": \"2021-01-22T01:52:17.550742Z\", \"created_time_dt\": \"2021-01-22T01:52:17.550742Z\", \"duration\": \"0:01:23\", \"iteration\": \"0\", \"goal\": \"r2_score_max\", \"run_name\": \"MaxAbsScaler, LightGBM\", \"run_properties\": \"copy=True\", \"primary_metric\": 0.99686282, \"best_metric\": 0.99686282}, {\"run_id\": \"AutoML_867f2963-9a49-44fb-93e9-7f304aa4d725_3\", \"run_number\": 1180, \"metric\": null, \"status\": \"Completed\", \"run_type\": \"azureml.scriptrun\", \"training_percent\": \"100\", \"start_time\": \"2021-01-22T01:52:36.630535Z\", \"end_time\": \"2021-01-22T01:54:40.437074Z\", \"created_time\": \"2021-01-22T01:52:17.766125Z\", \"created_time_dt\": \"2021-01-22T01:52:17.766125Z\", \"duration\": \"0:02:22\", \"iteration\": \"3\", \"goal\": \"r2_score_max\", \"run_name\": \"MaxAbsScaler, RandomForest\", \"run_properties\": \"copy=True\", \"primary_metric\": 0.98645808, \"best_metric\": 0.99693208}, {\"run_id\": \"AutoML_867f2963-9a49-44fb-93e9-7f304aa4d725_1\", \"run_number\": 1181, \"metric\": null, \"status\": \"Completed\", \"run_type\": \"azureml.scriptrun\", \"training_percent\": \"100\", \"start_time\": \"2021-01-22T01:52:38.853827Z\", \"end_time\": \"2021-01-22T01:53:55.87319Z\", \"created_time\": \"2021-01-22T01:52:17.793188Z\", \"created_time_dt\": \"2021-01-22T01:52:17.793188Z\", \"duration\": \"0:01:38\", \"iteration\": \"1\", \"goal\": \"r2_score_max\", \"run_name\": \"MaxAbsScaler, XGBoostRegressor\", \"run_properties\": \"copy=True\", \"primary_metric\": 0.99693208, \"best_metric\": 0.99693208}, {\"run_id\": \"AutoML_867f2963-9a49-44fb-93e9-7f304aa4d725_2\", \"run_number\": 1182, \"metric\": null, \"status\": \"Completed\", \"run_type\": \"azureml.scriptrun\", \"training_percent\": \"100\", \"start_time\": \"2021-01-22T01:52:35.4236Z\", \"end_time\": \"2021-01-22T01:53:50.190407Z\", \"created_time\": \"2021-01-22T01:52:17.919236Z\", \"created_time_dt\": \"2021-01-22T01:52:17.919236Z\", \"duration\": \"0:01:32\", \"iteration\": \"2\", \"goal\": \"r2_score_max\", \"run_name\": \"SparseNormalizer, XGBoostRegressor\", \"run_properties\": \"<azureml.automl.runtime.shared.model_wrappers.SparseNormalizer object at 0x7f2d87ebbf60\", \"primary_metric\": 0.98783699, \"best_metric\": 0.99693208}, {\"run_id\": \"AutoML_867f2963-9a49-44fb-93e9-7f304aa4d725_4\", \"run_number\": 1187, \"metric\": null, \"status\": \"Completed\", \"run_type\": \"azureml.scriptrun\", \"training_percent\": \"100\", \"start_time\": \"2021-01-22T01:53:58.513979Z\", \"end_time\": \"2021-01-22T01:55:21.864157Z\", \"created_time\": \"2021-01-22T01:53:45.446707Z\", \"created_time_dt\": \"2021-01-22T01:53:45.446707Z\", \"duration\": \"0:01:36\", \"iteration\": \"4\", \"goal\": \"r2_score_max\", \"run_name\": \"StandardScalerWrapper, XGBoostRegressor\", \"run_properties\": \"<azureml.automl.runtime.shared.model_wrappers.StandardScalerWrapper object at 0x7f3e91696518\", \"primary_metric\": 0.99731, \"best_metric\": 0.99731}, {\"run_id\": \"AutoML_867f2963-9a49-44fb-93e9-7f304aa4d725_5\", \"run_number\": 1188, \"metric\": null, \"status\": \"Completed\", \"run_type\": \"azureml.scriptrun\", \"training_percent\": \"100\", \"start_time\": \"2021-01-22T01:54:08.417962Z\", \"end_time\": \"2021-01-22T01:55:05.263739Z\", \"created_time\": \"2021-01-22T01:53:55.068864Z\", \"created_time_dt\": \"2021-01-22T01:53:55.068864Z\", \"duration\": \"0:01:10\", \"iteration\": \"5\", \"goal\": \"r2_score_max\", \"run_name\": \"MaxAbsScaler, ElasticNet\", \"run_properties\": \"copy=True\", \"primary_metric\": 0.99318172, \"best_metric\": 0.99731}, {\"run_id\": \"AutoML_867f2963-9a49-44fb-93e9-7f304aa4d725_6\", \"run_number\": 1189, \"metric\": null, \"status\": \"Completed\", \"run_type\": \"azureml.scriptrun\", \"training_percent\": \"100\", \"start_time\": \"2021-01-22T01:54:17.58743Z\", \"end_time\": \"2021-01-22T01:56:02.276309Z\", \"created_time\": \"2021-01-22T01:54:03.144165Z\", \"created_time_dt\": \"2021-01-22T01:54:03.144165Z\", \"duration\": \"0:01:59\", \"iteration\": \"6\", \"goal\": \"r2_score_max\", \"run_name\": \"MinMaxScaler, RandomForest\", \"run_properties\": \"copy=True, feature_range=(0, 1\", \"primary_metric\": 0.97394428, \"best_metric\": 0.99731}, {\"run_id\": \"AutoML_867f2963-9a49-44fb-93e9-7f304aa4d725_7\", \"run_number\": 1190, \"metric\": null, \"status\": \"Completed\", \"run_type\": \"azureml.scriptrun\", \"training_percent\": \"100\", \"start_time\": \"2021-01-22T01:55:00.637069Z\", \"end_time\": \"2021-01-22T01:56:23.453114Z\", \"created_time\": \"2021-01-22T01:54:45.424123Z\", \"created_time_dt\": \"2021-01-22T01:54:45.424123Z\", \"duration\": \"0:01:38\", \"iteration\": \"7\", \"goal\": \"r2_score_max\", \"run_name\": \"StandardScalerWrapper, XGBoostRegressor\", \"run_properties\": \"<azureml.automl.runtime.shared.model_wrappers.StandardScalerWrapper object at 0x7f061a4bd0f0\", \"primary_metric\": 0.99728975, \"best_metric\": 0.99731}, {\"run_id\": \"AutoML_867f2963-9a49-44fb-93e9-7f304aa4d725_8\", \"run_number\": 1195, \"metric\": null, \"status\": \"Completed\", \"run_type\": \"azureml.scriptrun\", \"training_percent\": \"100\", \"start_time\": \"2021-01-22T01:55:22.732833Z\", \"end_time\": \"2021-01-22T01:56:41.825439Z\", \"created_time\": \"2021-01-22T01:55:10.067639Z\", \"created_time_dt\": \"2021-01-22T01:55:10.067639Z\", \"duration\": \"0:01:31\", \"iteration\": \"8\", \"goal\": \"r2_score_max\", \"run_name\": \"MinMaxScaler, ExtremeRandomTrees\", \"run_properties\": \"copy=True, feature_range=(0, 1\", \"primary_metric\": 0.99301531, \"best_metric\": 0.99731}, {\"run_id\": \"AutoML_867f2963-9a49-44fb-93e9-7f304aa4d725_9\", \"run_number\": 1196, \"metric\": null, \"status\": \"Completed\", \"run_type\": \"azureml.scriptrun\", \"training_percent\": \"100\", \"start_time\": \"2021-01-22T01:55:41.815426Z\", \"end_time\": \"2021-01-22T01:56:52.137461Z\", \"created_time\": \"2021-01-22T01:55:26.728405Z\", \"created_time_dt\": \"2021-01-22T01:55:26.728405Z\", \"duration\": \"0:01:25\", \"iteration\": \"9\", \"goal\": \"r2_score_max\", \"run_name\": \"StandardScalerWrapper, ElasticNet\", \"run_properties\": \"<azureml.automl.runtime.shared.model_wrappers.StandardScalerWrapper object at 0x7f207042ce10\", \"primary_metric\": 0.98935348, \"best_metric\": 0.99731}, {\"run_id\": \"AutoML_867f2963-9a49-44fb-93e9-7f304aa4d725_10\", \"run_number\": 1197, \"metric\": null, \"status\": \"Completed\", \"run_type\": \"azureml.scriptrun\", \"training_percent\": \"100\", \"start_time\": \"2021-01-22T01:56:20.268076Z\", \"end_time\": \"2021-01-22T01:59:04.096782Z\", \"created_time\": \"2021-01-22T01:56:07.209567Z\", \"created_time_dt\": \"2021-01-22T01:56:07.209567Z\", \"duration\": \"0:02:56\", \"iteration\": \"10\", \"goal\": \"r2_score_max\", \"run_name\": \"MinMaxScaler, RandomForest\", \"run_properties\": \"copy=True, feature_range=(0, 1\", \"primary_metric\": 0.99337884, \"best_metric\": 0.99731}, {\"run_id\": \"AutoML_867f2963-9a49-44fb-93e9-7f304aa4d725_11\", \"run_number\": 1201, \"metric\": null, \"status\": \"Completed\", \"run_type\": \"azureml.scriptrun\", \"training_percent\": \"100\", \"start_time\": \"2021-01-22T01:56:42.967198Z\", \"end_time\": \"2021-01-22T01:57:43.834115Z\", \"created_time\": \"2021-01-22T01:56:26.898334Z\", \"created_time_dt\": \"2021-01-22T01:56:26.898334Z\", \"duration\": \"0:01:16\", \"iteration\": \"11\", \"goal\": \"r2_score_max\", \"run_name\": \"MinMaxScaler, RandomForest\", \"run_properties\": \"copy=True, feature_range=(0, 1\", \"primary_metric\": 0.9897764, \"best_metric\": 0.99731}, {\"run_id\": \"AutoML_867f2963-9a49-44fb-93e9-7f304aa4d725_12\", \"run_number\": 1202, \"metric\": null, \"status\": \"Completed\", \"run_type\": \"azureml.scriptrun\", \"training_percent\": \"100\", \"start_time\": \"2021-01-22T01:57:00.724169Z\", \"end_time\": \"2021-01-22T01:58:09.638435Z\", \"created_time\": \"2021-01-22T01:56:45.560439Z\", \"created_time_dt\": \"2021-01-22T01:56:45.560439Z\", \"duration\": \"0:01:24\", \"iteration\": \"12\", \"goal\": \"r2_score_max\", \"run_name\": \"StandardScalerWrapper, XGBoostRegressor\", \"run_properties\": \"<azureml.automl.runtime.shared.model_wrappers.StandardScalerWrapper object at 0x7fca9058fb38\", \"primary_metric\": 0.87546895, \"best_metric\": 0.99731}, {\"run_id\": \"AutoML_867f2963-9a49-44fb-93e9-7f304aa4d725_13\", \"run_number\": 1203, \"metric\": null, \"status\": \"Completed\", \"run_type\": \"azureml.scriptrun\", \"training_percent\": \"100\", \"start_time\": \"2021-01-22T01:57:10.353621Z\", \"end_time\": \"2021-01-22T01:58:19.700177Z\", \"created_time\": \"2021-01-22T01:56:56.036369Z\", \"created_time_dt\": \"2021-01-22T01:56:56.036369Z\", \"duration\": \"0:01:23\", \"iteration\": \"13\", \"goal\": \"r2_score_max\", \"run_name\": \"RobustScaler, LassoLars\", \"run_properties\": \"copy=True, quantile_range=[10, 90], with_centering=False,\\n             with_scaling=True\", \"primary_metric\": 0.99363083, \"best_metric\": 0.99731}, {\"run_id\": \"AutoML_867f2963-9a49-44fb-93e9-7f304aa4d725_14\", \"run_number\": 1205, \"metric\": null, \"status\": \"Completed\", \"run_type\": \"azureml.scriptrun\", \"training_percent\": \"100\", \"start_time\": \"2021-01-22T01:58:01.682975Z\", \"end_time\": \"2021-01-22T01:59:03.567253Z\", \"created_time\": \"2021-01-22T01:57:47.985684Z\", \"created_time_dt\": \"2021-01-22T01:57:47.985684Z\", \"duration\": \"0:01:15\", \"iteration\": \"14\", \"goal\": \"r2_score_max\", \"run_name\": \"MinMaxScaler, ExtremeRandomTrees\", \"run_properties\": \"copy=True, feature_range=(0, 1\", \"primary_metric\": 0.99285272, \"best_metric\": 0.99731}, {\"run_id\": \"AutoML_867f2963-9a49-44fb-93e9-7f304aa4d725_15\", \"run_number\": 1209, \"metric\": null, \"status\": \"Completed\", \"run_type\": \"azureml.scriptrun\", \"training_percent\": \"100\", \"start_time\": \"2021-01-22T01:58:26.53243Z\", \"end_time\": \"2021-01-22T01:59:26.16061Z\", \"created_time\": \"2021-01-22T01:58:13.889395Z\", \"created_time_dt\": \"2021-01-22T01:58:13.889395Z\", \"duration\": \"0:01:12\", \"iteration\": \"15\", \"goal\": \"r2_score_max\", \"run_name\": \"MaxAbsScaler, ExtremeRandomTrees\", \"run_properties\": \"copy=True\", \"primary_metric\": 0.88330256, \"best_metric\": 0.99731}, {\"run_id\": \"AutoML_867f2963-9a49-44fb-93e9-7f304aa4d725_16\", \"run_number\": 1210, \"metric\": null, \"status\": \"Completed\", \"run_type\": \"azureml.scriptrun\", \"training_percent\": \"100\", \"start_time\": \"2021-01-22T01:58:35.648746Z\", \"end_time\": \"2021-01-22T01:59:38.43726Z\", \"created_time\": \"2021-01-22T01:58:23.463308Z\", \"created_time_dt\": \"2021-01-22T01:58:23.463308Z\", \"duration\": \"0:01:14\", \"iteration\": \"16\", \"goal\": \"r2_score_max\", \"run_name\": \"MinMaxScaler, ExtremeRandomTrees\", \"run_properties\": \"copy=True, feature_range=(0, 1\", \"primary_metric\": 0.99191119, \"best_metric\": 0.99731}, {\"run_id\": \"AutoML_867f2963-9a49-44fb-93e9-7f304aa4d725_17\", \"run_number\": 1212, \"metric\": null, \"status\": \"Completed\", \"run_type\": \"azureml.scriptrun\", \"training_percent\": \"100\", \"start_time\": \"2021-01-22T01:59:24.020889Z\", \"end_time\": \"2021-01-22T02:00:27.79551Z\", \"created_time\": \"2021-01-22T01:59:07.297364Z\", \"created_time_dt\": \"2021-01-22T01:59:07.297364Z\", \"duration\": \"0:01:20\", \"iteration\": \"17\", \"goal\": \"r2_score_max\", \"run_name\": \"MaxAbsScaler, ElasticNet\", \"run_properties\": \"copy=True\", \"primary_metric\": 0.99194592, \"best_metric\": 0.99731}, {\"run_id\": \"AutoML_867f2963-9a49-44fb-93e9-7f304aa4d725_18\", \"run_number\": 1213, \"metric\": null, \"status\": \"Completed\", \"run_type\": \"azureml.scriptrun\", \"training_percent\": \"100\", \"start_time\": \"2021-01-22T01:59:23.505317Z\", \"end_time\": \"2021-01-22T02:00:32.201034Z\", \"created_time\": \"2021-01-22T01:59:07.363551Z\", \"created_time_dt\": \"2021-01-22T01:59:07.363551Z\", \"duration\": \"0:01:24\", \"iteration\": \"18\", \"goal\": \"r2_score_max\", \"run_name\": \"MinMaxScaler, RandomForest\", \"run_properties\": \"copy=True, feature_range=(0, 1\", \"primary_metric\": 0.88997729, \"best_metric\": 0.99731}, {\"run_id\": \"AutoML_867f2963-9a49-44fb-93e9-7f304aa4d725_19\", \"run_number\": 1214, \"metric\": null, \"status\": \"Completed\", \"run_type\": \"azureml.scriptrun\", \"training_percent\": \"100\", \"start_time\": \"2021-01-22T01:59:43.930633Z\", \"end_time\": \"2021-01-22T02:00:59.476871Z\", \"created_time\": \"2021-01-22T01:59:29.719422Z\", \"created_time_dt\": \"2021-01-22T01:59:29.719422Z\", \"duration\": \"0:01:29\", \"iteration\": \"19\", \"goal\": \"r2_score_max\", \"run_name\": \"MaxAbsScaler, RandomForest\", \"run_properties\": \"copy=True\", \"primary_metric\": 0.96032912, \"best_metric\": 0.99731}, {\"run_id\": \"AutoML_867f2963-9a49-44fb-93e9-7f304aa4d725_20\", \"run_number\": 1218, \"metric\": null, \"status\": \"Completed\", \"run_type\": \"azureml.scriptrun\", \"training_percent\": \"100\", \"start_time\": \"2021-01-22T01:59:56.543863Z\", \"end_time\": \"2021-01-22T02:01:19.45947Z\", \"created_time\": \"2021-01-22T01:59:41.89897Z\", \"created_time_dt\": \"2021-01-22T01:59:41.89897Z\", \"duration\": \"0:01:37\", \"iteration\": \"20\", \"goal\": \"r2_score_max\", \"run_name\": \"RobustScaler, ElasticNet\", \"run_properties\": \"copy=True, quantile_range=[10, 90], with_centering=True,\\n             with_scaling=False\", \"primary_metric\": 0.99208472, \"best_metric\": 0.99731}, {\"run_id\": \"AutoML_867f2963-9a49-44fb-93e9-7f304aa4d725_21\", \"run_number\": 1219, \"metric\": null, \"status\": \"Completed\", \"run_type\": \"azureml.scriptrun\", \"training_percent\": \"100\", \"start_time\": \"2021-01-22T02:00:44.652146Z\", \"end_time\": \"2021-01-22T02:02:01.332652Z\", \"created_time\": \"2021-01-22T02:00:31.411252Z\", \"created_time_dt\": \"2021-01-22T02:00:31.411252Z\", \"duration\": \"0:01:29\", \"iteration\": \"21\", \"goal\": \"r2_score_max\", \"run_name\": \"StandardScalerWrapper, RandomForest\", \"run_properties\": \"<azureml.automl.runtime.shared.model_wrappers.StandardScalerWrapper object at 0x7f15edbd73c8\", \"primary_metric\": 0.90877593, \"best_metric\": 0.99731}, {\"run_id\": \"AutoML_867f2963-9a49-44fb-93e9-7f304aa4d725_22\", \"run_number\": 1220, \"metric\": null, \"status\": \"Completed\", \"run_type\": \"azureml.scriptrun\", \"training_percent\": \"100\", \"start_time\": \"2021-01-22T02:00:52.467996Z\", \"end_time\": \"2021-01-22T02:02:12.295689Z\", \"created_time\": \"2021-01-22T02:00:37.690051Z\", \"created_time_dt\": \"2021-01-22T02:00:37.690051Z\", \"duration\": \"0:01:34\", \"iteration\": \"22\", \"goal\": \"r2_score_max\", \"run_name\": \"MaxAbsScaler, ElasticNet\", \"run_properties\": \"copy=True\", \"primary_metric\": 0.99237536, \"best_metric\": 0.99731}, {\"run_id\": \"AutoML_867f2963-9a49-44fb-93e9-7f304aa4d725_23\", \"run_number\": 1222, \"metric\": null, \"status\": \"Completed\", \"run_type\": \"azureml.scriptrun\", \"training_percent\": \"100\", \"start_time\": \"2021-01-22T02:01:15.932262Z\", \"end_time\": \"2021-01-22T02:02:20.520552Z\", \"created_time\": \"2021-01-22T02:01:03.503873Z\", \"created_time_dt\": \"2021-01-22T02:01:03.503873Z\", \"duration\": \"0:01:17\", \"iteration\": \"23\", \"goal\": \"r2_score_max\", \"run_name\": \"MinMaxScaler, LightGBM\", \"run_properties\": \"copy=True, feature_range=(0, 1\", \"primary_metric\": 0.9945307, \"best_metric\": 0.99731}, {\"run_id\": \"AutoML_867f2963-9a49-44fb-93e9-7f304aa4d725_24\", \"run_number\": 1223, \"metric\": null, \"status\": \"Completed\", \"run_type\": \"azureml.scriptrun\", \"training_percent\": \"100\", \"start_time\": \"2021-01-22T02:01:36.088439Z\", \"end_time\": \"2021-01-22T02:02:33.895577Z\", \"created_time\": \"2021-01-22T02:01:23.436506Z\", \"created_time_dt\": \"2021-01-22T02:01:23.436506Z\", \"duration\": \"0:01:10\", \"iteration\": \"24\", \"goal\": \"r2_score_max\", \"run_name\": \"StandardScalerWrapper, XGBoostRegressor\", \"run_properties\": \"<azureml.automl.runtime.shared.model_wrappers.StandardScalerWrapper object at 0x7f790abd6ba8\", \"primary_metric\": 0.99646706, \"best_metric\": 0.99731}, {\"run_id\": \"AutoML_867f2963-9a49-44fb-93e9-7f304aa4d725_25\", \"run_number\": 1224, \"metric\": null, \"status\": \"Completed\", \"run_type\": \"azureml.scriptrun\", \"training_percent\": \"100\", \"start_time\": \"2021-01-22T02:02:21.802505Z\", \"end_time\": \"2021-01-22T02:03:18.394591Z\", \"created_time\": \"2021-01-22T02:02:05.217534Z\", \"created_time_dt\": \"2021-01-22T02:02:05.217534Z\", \"duration\": \"0:01:13\", \"iteration\": \"25\", \"goal\": \"r2_score_max\", \"run_name\": \"SparseNormalizer, XGBoostRegressor\", \"run_properties\": \"<azureml.automl.runtime.shared.model_wrappers.SparseNormalizer object at 0x7f46a00c25c0\", \"primary_metric\": 0.75501313, \"best_metric\": 0.99731}, {\"run_id\": \"AutoML_867f2963-9a49-44fb-93e9-7f304aa4d725_26\", \"run_number\": 1225, \"metric\": null, \"status\": \"Completed\", \"run_type\": \"azureml.scriptrun\", \"training_percent\": \"100\", \"start_time\": \"2021-01-22T02:02:30.732594Z\", \"end_time\": \"2021-01-22T02:03:21.077612Z\", \"created_time\": \"2021-01-22T02:02:15.276027Z\", \"created_time_dt\": \"2021-01-22T02:02:15.276027Z\", \"duration\": \"0:01:05\", \"iteration\": \"26\", \"goal\": \"r2_score_max\", \"run_name\": \"SparseNormalizer, XGBoostRegressor\", \"run_properties\": \"<azureml.automl.runtime.shared.model_wrappers.SparseNormalizer object at 0x7f2db5e07d30\", \"primary_metric\": 0.83397052, \"best_metric\": 0.99731}, {\"run_id\": \"AutoML_867f2963-9a49-44fb-93e9-7f304aa4d725_27\", \"run_number\": 1226, \"metric\": null, \"status\": \"Completed\", \"run_type\": \"azureml.scriptrun\", \"training_percent\": \"100\", \"start_time\": \"2021-01-22T02:02:36.063808Z\", \"end_time\": \"2021-01-22T02:04:15.875372Z\", \"created_time\": \"2021-01-22T02:02:23.277799Z\", \"created_time_dt\": \"2021-01-22T02:02:23.277799Z\", \"duration\": \"0:01:52\", \"iteration\": \"27\", \"goal\": \"r2_score_max\", \"run_name\": \"StandardScalerWrapper, RandomForest\", \"run_properties\": \"<azureml.automl.runtime.shared.model_wrappers.StandardScalerWrapper object at 0x7ff7919ba2b0\", \"primary_metric\": 0.89365695, \"best_metric\": 0.99731}, {\"run_id\": \"AutoML_867f2963-9a49-44fb-93e9-7f304aa4d725_28\", \"run_number\": 1227, \"metric\": null, \"status\": \"Completed\", \"run_type\": \"azureml.scriptrun\", \"training_percent\": \"100\", \"start_time\": \"2021-01-22T02:02:50.845765Z\", \"end_time\": \"2021-01-22T02:04:07.668715Z\", \"created_time\": \"2021-01-22T02:02:36.854216Z\", \"created_time_dt\": \"2021-01-22T02:02:36.854216Z\", \"duration\": \"0:01:30\", \"iteration\": \"28\", \"goal\": \"r2_score_max\", \"run_name\": \"RobustScaler, LightGBM\", \"run_properties\": \"copy=True, quantile_range=[25, 75], with_centering=True,\\n             with_scaling=True\", \"primary_metric\": 0.98808814, \"best_metric\": 0.99731}, {\"run_id\": \"AutoML_867f2963-9a49-44fb-93e9-7f304aa4d725_29\", \"run_number\": 1228, \"metric\": null, \"status\": \"Completed\", \"run_type\": \"azureml.scriptrun\", \"training_percent\": \"100\", \"start_time\": \"2021-01-22T02:03:35.35829Z\", \"end_time\": \"2021-01-22T02:05:15.734897Z\", \"created_time\": \"2021-01-22T02:03:21.034826Z\", \"created_time_dt\": \"2021-01-22T02:03:21.034826Z\", \"duration\": \"0:01:54\", \"iteration\": \"29\", \"goal\": \"r2_score_max\", \"run_name\": \"StandardScalerWrapper, RandomForest\", \"run_properties\": \"<azureml.automl.runtime.shared.model_wrappers.StandardScalerWrapper object at 0x7f49781385c0\", \"primary_metric\": 0.98620221, \"best_metric\": 0.99731}, {\"run_id\": \"AutoML_867f2963-9a49-44fb-93e9-7f304aa4d725_30\", \"run_number\": 1231, \"metric\": null, \"status\": \"Completed\", \"run_type\": \"azureml.scriptrun\", \"training_percent\": \"100\", \"start_time\": \"2021-01-22T02:03:42.282563Z\", \"end_time\": \"2021-01-22T02:05:09.13367Z\", \"created_time\": \"2021-01-22T02:03:29.864472Z\", \"created_time_dt\": \"2021-01-22T02:03:29.864472Z\", \"duration\": \"0:01:39\", \"iteration\": \"30\", \"goal\": \"r2_score_max\", \"run_name\": \"PCA, XGBoostRegressor\", \"run_properties\": \"copy=True, iterated_power='auto', n_components=0.01, random_state=None,\\n    svd_solver='auto', tol=0.0, whiten=False\", \"primary_metric\": 0.80797005, \"best_metric\": 0.99731}, {\"run_id\": \"AutoML_867f2963-9a49-44fb-93e9-7f304aa4d725_31\", \"run_number\": 1236, \"metric\": null, \"status\": \"Completed\", \"run_type\": \"azureml.scriptrun\", \"training_percent\": \"100\", \"start_time\": \"2021-01-22T02:04:24.120035Z\", \"end_time\": \"2021-01-22T02:06:08.535406Z\", \"created_time\": \"2021-01-22T02:04:11.104858Z\", \"created_time_dt\": \"2021-01-22T02:04:11.104858Z\", \"duration\": \"0:01:57\", \"iteration\": \"31\", \"goal\": \"r2_score_max\", \"run_name\": \"MaxAbsScaler, ExtremeRandomTrees\", \"run_properties\": \"copy=True\", \"primary_metric\": 0.94254465, \"best_metric\": 0.99731}, {\"run_id\": \"AutoML_867f2963-9a49-44fb-93e9-7f304aa4d725_32\", \"run_number\": 1237, \"metric\": null, \"status\": \"Completed\", \"run_type\": \"azureml.scriptrun\", \"training_percent\": \"100\", \"start_time\": \"2021-01-22T02:04:31.490673Z\", \"end_time\": \"2021-01-22T02:06:07.963677Z\", \"created_time\": \"2021-01-22T02:04:18.688177Z\", \"created_time_dt\": \"2021-01-22T02:04:18.688177Z\", \"duration\": \"0:01:49\", \"iteration\": \"32\", \"goal\": \"r2_score_max\", \"run_name\": \"MaxAbsScaler, LightGBM\", \"run_properties\": \"copy=True\", \"primary_metric\": 0.99372502, \"best_metric\": 0.99731}, {\"run_id\": \"AutoML_867f2963-9a49-44fb-93e9-7f304aa4d725_33\", \"run_number\": 1238, \"metric\": null, \"status\": \"Canceled\", \"run_type\": \"azureml.scriptrun\", \"training_percent\": \"100\", \"start_time\": \"2021-01-22T02:05:27.64707Z\", \"end_time\": \"2021-01-22T02:06:16.769272Z\", \"created_time\": \"2021-01-22T02:05:11.970521Z\", \"created_time_dt\": \"2021-01-22T02:05:11.970521Z\", \"duration\": \"0:01:04\", \"iteration\": \"33\", \"goal\": null, \"run_name\": \"StandardScalerWrapper, RandomForest\", \"run_properties\": null}, {\"run_id\": \"AutoML_867f2963-9a49-44fb-93e9-7f304aa4d725_34\", \"run_number\": 1239, \"metric\": null, \"status\": \"Canceled\", \"run_type\": \"azureml.scriptrun\", \"training_percent\": \"100\", \"start_time\": \"2021-01-22T02:05:31.547742Z\", \"end_time\": \"2021-01-22T02:06:17.131481Z\", \"created_time\": \"2021-01-22T02:05:19.263661Z\", \"created_time_dt\": \"2021-01-22T02:05:19.263661Z\", \"duration\": \"0:00:57\", \"iteration\": \"34\", \"goal\": null, \"run_name\": \"MaxAbsScaler, RandomForest\", \"run_properties\": null}, {\"run_id\": \"AutoML_867f2963-9a49-44fb-93e9-7f304aa4d725_36\", \"run_number\": 1242, \"metric\": null, \"status\": \"Completed\", \"run_type\": \"azureml.scriptrun\", \"training_percent\": \"100\", \"start_time\": \"2021-01-22T02:06:34.045004Z\", \"end_time\": \"2021-01-22T02:08:24.041141Z\", \"created_time\": \"2021-01-22T02:06:19.281638Z\", \"created_time_dt\": \"2021-01-22T02:06:19.281638Z\", \"duration\": \"0:02:04\", \"iteration\": \"36\", \"goal\": \"r2_score_max\", \"run_name\": \"StackEnsemble\", \"run_properties\": \"base_learners=[('4',\\n                                       Pipeline(memory=None,\\n                                                steps=[('standardscalerwrapper',\\n                                                        <azureml.automl.runtime.shared.model_wrappers.StandardScalerWrapper object at 0x7fe6bacd0278>\", \"primary_metric\": 0.99779717, \"best_metric\": 0.99780365}, {\"run_id\": \"AutoML_867f2963-9a49-44fb-93e9-7f304aa4d725_35\", \"run_number\": 1243, \"metric\": null, \"status\": \"Completed\", \"run_type\": \"azureml.scriptrun\", \"training_percent\": \"100\", \"start_time\": \"2021-01-22T02:06:35.294538Z\", \"end_time\": \"2021-01-22T02:08:25.699397Z\", \"created_time\": \"2021-01-22T02:06:19.289017Z\", \"created_time_dt\": \"2021-01-22T02:06:19.289017Z\", \"duration\": \"0:02:06\", \"iteration\": \"35\", \"goal\": \"r2_score_max\", \"run_name\": \"VotingEnsemble\", \"run_properties\": \"estimators=[('4',\\n                                          Pipeline(memory=None,\\n                                                   steps=[('standardscalerwrapper',\\n                                                           <azureml.automl.runtime.shared.model_wrappers.StandardScalerWrapper object at 0x7f73f8688748>\", \"primary_metric\": 0.99780365, \"best_metric\": 0.99780365}], \"children_metrics\": {\"categories\": [0], \"series\": {\"normalized_mean_absolute_error\": [{\"categories\": [\"0\", \"1\", \"2\", \"3\", \"4\", \"5\", \"6\", \"7\", \"8\", \"9\", \"10\", \"11\", \"12\", \"13\", \"14\", \"15\", \"16\", \"17\", \"18\", \"19\", \"20\", \"21\", \"22\", \"23\", \"24\", \"25\", \"26\", \"27\", \"28\", \"29\", \"30\", \"31\", \"32\", \"35\", \"36\"], \"mode\": \"markers\", \"name\": \"normalized_mean_absolute_error\", \"stepped\": false, \"type\": \"scatter\", \"data\": [0.004951914323656218, 0.005438960161320568, 0.007818842368517898, 0.007642160981199915, 0.00482487132963389, 0.007466289214884156, 0.011361171481667586, 0.004929549812882706, 0.005881275690850412, 0.009380797238320948, 0.00595382601963655, 0.0072444939560402325, 0.041971156739320656, 0.007141501996474409, 0.006525492418301649, 0.02585117534976895, 0.006210777823996662, 0.007950885937253746, 0.027254213669210315, 0.015906444951298556, 0.007632533213994925, 0.021922646785971778, 0.007789302981947709, 0.006421008231650859, 0.005708403732489871, 0.05060796920263729, 0.044376023171645705, 0.025590950652563876, 0.009183585862768637, 0.007874064690446068, 0.042544515984472786, 0.020770995606801533, 0.006392392554461193, 0.004549509190056327, 0.0045639082480081385]}, {\"categories\": [\"0\", \"1\", \"2\", \"3\", \"4\", \"5\", \"6\", \"7\", \"8\", \"9\", \"10\", \"11\", \"12\", \"13\", \"14\", \"15\", \"16\", \"17\", \"18\", \"19\", \"20\", \"21\", \"22\", \"23\", \"24\", \"25\", \"26\", \"27\", \"28\", \"29\", \"30\", \"31\", \"32\", \"35\", \"36\"], \"mode\": \"lines\", \"name\": \"normalized_mean_absolute_error_min\", \"stepped\": true, \"type\": \"scatter\", \"data\": [0.004951914323656218, 0.004951914323656218, 0.004951914323656218, 0.004951914323656218, 0.00482487132963389, 0.00482487132963389, 0.00482487132963389, 0.00482487132963389, 0.00482487132963389, 0.00482487132963389, 0.00482487132963389, 0.00482487132963389, 0.00482487132963389, 0.00482487132963389, 0.00482487132963389, 0.00482487132963389, 0.00482487132963389, 0.00482487132963389, 0.00482487132963389, 0.00482487132963389, 0.00482487132963389, 0.00482487132963389, 0.00482487132963389, 0.00482487132963389, 0.00482487132963389, 0.00482487132963389, 0.00482487132963389, 0.00482487132963389, 0.00482487132963389, 0.00482487132963389, 0.00482487132963389, 0.00482487132963389, 0.00482487132963389, 0.004549509190056327, 0.004549509190056327]}], \"median_absolute_error\": [{\"categories\": [\"0\", \"1\", \"2\", \"3\", \"4\", \"5\", \"6\", \"7\", \"8\", \"9\", \"10\", \"11\", \"12\", \"13\", \"14\", \"15\", \"16\", \"17\", \"18\", \"19\", \"20\", \"21\", \"22\", \"23\", \"24\", \"25\", \"26\", \"27\", \"28\", \"29\", \"30\", \"31\", \"32\", \"35\", \"36\"], \"mode\": \"markers\", \"name\": \"median_absolute_error\", \"stepped\": false, \"type\": \"scatter\", \"data\": [0.02617065146293789, 0.02969969749450687, 0.03400260448455805, 0.032079035314670226, 0.02631604671478267, 0.035721410147920366, 0.04527103328537589, 0.02667899131774889, 0.028150308826307223, 0.04494687966660007, 0.02885740856344121, 0.03298365051653782, 0.26354725360870346, 0.034300686442702365, 0.03156891352551159, 0.09773999527766111, 0.029281544328012332, 0.03744295560752024, 0.11455346553968679, 0.06952698300991322, 0.03569298904702487, 0.07477933102993868, 0.036867002422160414, 0.03276128734438277, 0.03084943771362303, 0.28604003906250003, 0.26268847942352297, 0.09832589527037952, 0.0443003880608757, 0.03288446680910102, 0.22486042499542247, 0.09434319676184182, 0.0314745360509503, 0.025452391158096454, 0.02550111401632198]}, {\"categories\": [\"0\", \"1\", \"2\", \"3\", \"4\", \"5\", \"6\", \"7\", \"8\", \"9\", \"10\", \"11\", \"12\", \"13\", \"14\", \"15\", \"16\", \"17\", \"18\", \"19\", \"20\", \"21\", \"22\", \"23\", \"24\", \"25\", \"26\", \"27\", \"28\", \"29\", \"30\", \"31\", \"32\", \"35\", \"36\"], \"mode\": \"lines\", \"name\": \"median_absolute_error_min\", \"stepped\": true, \"type\": \"scatter\", \"data\": [0.02617065146293789, 0.02617065146293789, 0.02617065146293789, 0.02617065146293789, 0.02617065146293789, 0.02617065146293789, 0.02617065146293789, 0.02617065146293789, 0.02617065146293789, 0.02617065146293789, 0.02617065146293789, 0.02617065146293789, 0.02617065146293789, 0.02617065146293789, 0.02617065146293789, 0.02617065146293789, 0.02617065146293789, 0.02617065146293789, 0.02617065146293789, 0.02617065146293789, 0.02617065146293789, 0.02617065146293789, 0.02617065146293789, 0.02617065146293789, 0.02617065146293789, 0.02617065146293789, 0.02617065146293789, 0.02617065146293789, 0.02617065146293789, 0.02617065146293789, 0.02617065146293789, 0.02617065146293789, 0.02617065146293789, 0.025452391158096454, 0.025452391158096454]}], \"root_mean_squared_error\": [{\"categories\": [\"0\", \"1\", \"2\", \"3\", \"4\", \"5\", \"6\", \"7\", \"8\", \"9\", \"10\", \"11\", \"12\", \"13\", \"14\", \"15\", \"16\", \"17\", \"18\", \"19\", \"20\", \"21\", \"22\", \"23\", \"24\", \"25\", \"26\", \"27\", \"28\", \"29\", \"30\", \"31\", \"32\", \"35\", \"36\"], \"mode\": \"markers\", \"name\": \"root_mean_squared_error\", \"stepped\": false, \"type\": \"scatter\", \"data\": [0.04499391881972903, 0.04444957148543309, 0.08843823928061303, 0.09342140808852521, 0.041616319392553926, 0.06632709263816093, 0.12967035489295617, 0.04177936087680311, 0.06705861116976378, 0.08294285288751181, 0.06531877981561596, 0.08118173816845785, 0.2836247022850634, 0.06410791000465735, 0.06791795786330976, 0.2733644130263248, 0.07219401619573348, 0.07210473472201348, 0.2665942971792877, 0.16009880327323453, 0.07143741065464748, 0.24273628351169713, 0.07015173836514789, 0.05939925569677022, 0.04776161406585949, 0.39784646157076475, 0.32752820195916693, 0.2615146950445809, 0.08771769012339845, 0.09430820838147412, 0.3520246796978038, 0.19256358102590676, 0.06355608024192241, 0.03762412279291941, 0.037674815664114035]}, {\"categories\": [\"0\", \"1\", \"2\", \"3\", \"4\", \"5\", \"6\", \"7\", \"8\", \"9\", \"10\", \"11\", \"12\", \"13\", \"14\", \"15\", \"16\", \"17\", \"18\", \"19\", \"20\", \"21\", \"22\", \"23\", \"24\", \"25\", \"26\", \"27\", \"28\", \"29\", \"30\", \"31\", \"32\", \"35\", \"36\"], \"mode\": \"lines\", \"name\": \"root_mean_squared_error_min\", \"stepped\": true, \"type\": \"scatter\", \"data\": [0.04499391881972903, 0.04444957148543309, 0.04444957148543309, 0.04444957148543309, 0.041616319392553926, 0.041616319392553926, 0.041616319392553926, 0.041616319392553926, 0.041616319392553926, 0.041616319392553926, 0.041616319392553926, 0.041616319392553926, 0.041616319392553926, 0.041616319392553926, 0.041616319392553926, 0.041616319392553926, 0.041616319392553926, 0.041616319392553926, 0.041616319392553926, 0.041616319392553926, 0.041616319392553926, 0.041616319392553926, 0.041616319392553926, 0.041616319392553926, 0.041616319392553926, 0.041616319392553926, 0.041616319392553926, 0.041616319392553926, 0.041616319392553926, 0.041616319392553926, 0.041616319392553926, 0.041616319392553926, 0.041616319392553926, 0.03762412279291941, 0.03762412279291941]}], \"normalized_root_mean_squared_log_error\": [{\"categories\": [\"0\", \"1\", \"2\", \"3\", \"4\", \"5\", \"6\", \"7\", \"8\", \"9\", \"10\", \"11\", \"12\", \"13\", \"14\", \"15\", \"16\", \"17\", \"18\", \"19\", \"20\", \"21\", \"22\", \"23\", \"24\", \"25\", \"26\", \"27\", \"28\", \"29\", \"30\", \"31\", \"32\", \"35\", \"36\"], \"mode\": \"markers\", \"name\": \"normalized_root_mean_squared_log_error\", \"stepped\": false, \"type\": \"scatter\", \"data\": [0.0074082773961457096, 0.006875791343728607, 0.013679337578157253, 0.016547025347822503, 0.0068802947562312, 0.010875379922590689, 0.021518074683795362, 0.006757973745090418, 0.012234004323407342, 0.011934265620019981, 0.011708732255118707, 0.014434916541393944, 0.04041530830848356, 0.011119543297022383, 0.012005106492672096, 0.04250961055475323, 0.013147383982340066, 0.011540001189668287, 0.04103824661034593, 0.02617828473970522, 0.012381767859362281, 0.037699893353964134, 0.011332848030275993, 0.00969640884683549, 0.007462013295441628, 0.056000079428549586, 0.0461530643251834, 0.04045435663241072, 0.014186963554045723, 0.01652734140325908, 0.05470868980595013, 0.03116025086327544, 0.010625213464497959, 0.005984790055152333, 0.005994289325151757]}, {\"categories\": [\"0\", \"1\", \"2\", \"3\", \"4\", \"5\", \"6\", \"7\", \"8\", \"9\", \"10\", \"11\", \"12\", \"13\", \"14\", \"15\", \"16\", \"17\", \"18\", \"19\", \"20\", \"21\", \"22\", \"23\", \"24\", \"25\", \"26\", \"27\", \"28\", \"29\", \"30\", \"31\", \"32\", \"35\", \"36\"], \"mode\": \"lines\", \"name\": \"normalized_root_mean_squared_log_error_min\", \"stepped\": true, \"type\": \"scatter\", \"data\": [0.0074082773961457096, 0.006875791343728607, 0.006875791343728607, 0.006875791343728607, 0.006875791343728607, 0.006875791343728607, 0.006875791343728607, 0.006757973745090418, 0.006757973745090418, 0.006757973745090418, 0.006757973745090418, 0.006757973745090418, 0.006757973745090418, 0.006757973745090418, 0.006757973745090418, 0.006757973745090418, 0.006757973745090418, 0.006757973745090418, 0.006757973745090418, 0.006757973745090418, 0.006757973745090418, 0.006757973745090418, 0.006757973745090418, 0.006757973745090418, 0.006757973745090418, 0.006757973745090418, 0.006757973745090418, 0.006757973745090418, 0.006757973745090418, 0.006757973745090418, 0.006757973745090418, 0.006757973745090418, 0.006757973745090418, 0.005984790055152333, 0.005984790055152333]}], \"mean_absolute_percentage_error\": [{\"categories\": [\"0\", \"1\", \"2\", \"3\", \"4\", \"5\", \"6\", \"7\", \"8\", \"9\", \"10\", \"11\", \"12\", \"13\", \"14\", \"15\", \"16\", \"17\", \"18\", \"19\", \"20\", \"21\", \"22\", \"23\", \"24\", \"25\", \"26\", \"27\", \"28\", \"29\", \"30\", \"31\", \"32\", \"35\", \"36\"], \"mode\": \"markers\", \"name\": \"mean_absolute_percentage_error\", \"stepped\": false, \"type\": \"scatter\", \"data\": [0.8115880429849571, 0.8732271820465011, 1.2544718374603228, 1.3356446092872933, 0.790290849339812, 1.2156637143500428, 1.9515489903392869, 0.8026275090834851, 1.0151066951055225, 1.4490010669694278, 1.0151499288551693, 1.2481859490682636, 6.336679700870493, 1.1907471469808024, 1.1066387210949398, 4.374550755304204, 1.0781006500225643, 1.2818967991271468, 4.549332842841308, 2.6949858045674424, 1.2876599963657327, 3.7042998913970235, 1.2607178361989102, 1.0476859229224438, 0.9184934452228971, 7.503907387782128, 6.605506364985668, 4.2971206573182545, 1.5059792233524978, 1.3664817565109415, 7.052186232253216, 3.5053244160609425, 1.0610400864290153, 0.7356982514360096, 0.7381981066573875]}, {\"categories\": [\"0\", \"1\", \"2\", \"3\", \"4\", \"5\", \"6\", \"7\", \"8\", \"9\", \"10\", \"11\", \"12\", \"13\", \"14\", \"15\", \"16\", \"17\", \"18\", \"19\", \"20\", \"21\", \"22\", \"23\", \"24\", \"25\", \"26\", \"27\", \"28\", \"29\", \"30\", \"31\", \"32\", \"35\", \"36\"], \"mode\": \"lines\", \"name\": \"mean_absolute_percentage_error_min\", \"stepped\": true, \"type\": \"scatter\", \"data\": [0.8115880429849571, 0.8115880429849571, 0.8115880429849571, 0.8115880429849571, 0.790290849339812, 0.790290849339812, 0.790290849339812, 0.790290849339812, 0.790290849339812, 0.790290849339812, 0.790290849339812, 0.790290849339812, 0.790290849339812, 0.790290849339812, 0.790290849339812, 0.790290849339812, 0.790290849339812, 0.790290849339812, 0.790290849339812, 0.790290849339812, 0.790290849339812, 0.790290849339812, 0.790290849339812, 0.790290849339812, 0.790290849339812, 0.790290849339812, 0.790290849339812, 0.790290849339812, 0.790290849339812, 0.790290849339812, 0.790290849339812, 0.790290849339812, 0.790290849339812, 0.7356982514360096, 0.7356982514360096]}], \"explained_variance\": [{\"categories\": [\"0\", \"1\", \"2\", \"3\", \"4\", \"5\", \"6\", \"7\", \"8\", \"9\", \"10\", \"11\", \"12\", \"13\", \"14\", \"15\", \"16\", \"17\", \"18\", \"19\", \"20\", \"21\", \"22\", \"23\", \"24\", \"25\", \"26\", \"27\", \"28\", \"29\", \"30\", \"31\", \"32\", \"35\", \"36\"], \"mode\": \"markers\", \"name\": \"explained_variance\", \"stepped\": false, \"type\": \"scatter\", \"data\": [0.9968647005415464, 0.9969332767198757, 0.9878385072309346, 0.9864649303133296, 0.9973110779353952, 0.9931849312416006, 0.9739588070641109, 0.9972913562174448, 0.9930180607555705, 0.9893593202863642, 0.9933811347485205, 0.9897793785439903, 0.9865073918094722, 0.9936339788146332, 0.9928556845795953, 0.883377037791421, 0.9919146582765022, 0.9919513542260991, 0.8900174991584835, 0.960353584089759, 0.9920929117814918, 0.9088473440187969, 0.9923800915606653, 0.9945326902685878, 0.996467450891809, 0.8629258620269538, 0.9425600482616499, 0.8937290442189448, 0.9880994899993933, 0.9862094372951049, 0.8080570094668673, 0.9425774249738351, 0.9937300925944677, 0.9978046527882583, 0.9977986658929294]}, {\"categories\": [\"0\", \"1\", \"2\", \"3\", \"4\", \"5\", \"6\", \"7\", \"8\", \"9\", \"10\", \"11\", \"12\", \"13\", \"14\", \"15\", \"16\", \"17\", \"18\", \"19\", \"20\", \"21\", \"22\", \"23\", \"24\", \"25\", \"26\", \"27\", \"28\", \"29\", \"30\", \"31\", \"32\", \"35\", \"36\"], \"mode\": \"lines\", \"name\": \"explained_variance_max\", \"stepped\": true, \"type\": \"scatter\", \"data\": [0.9968647005415464, 0.9969332767198757, 0.9969332767198757, 0.9969332767198757, 0.9973110779353952, 0.9973110779353952, 0.9973110779353952, 0.9973110779353952, 0.9973110779353952, 0.9973110779353952, 0.9973110779353952, 0.9973110779353952, 0.9973110779353952, 0.9973110779353952, 0.9973110779353952, 0.9973110779353952, 0.9973110779353952, 0.9973110779353952, 0.9973110779353952, 0.9973110779353952, 0.9973110779353952, 0.9973110779353952, 0.9973110779353952, 0.9973110779353952, 0.9973110779353952, 0.9973110779353952, 0.9973110779353952, 0.9973110779353952, 0.9973110779353952, 0.9973110779353952, 0.9973110779353952, 0.9973110779353952, 0.9973110779353952, 0.9978046527882583, 0.9978046527882583]}], \"normalized_root_mean_squared_error\": [{\"categories\": [\"0\", \"1\", \"2\", \"3\", \"4\", \"5\", \"6\", \"7\", \"8\", \"9\", \"10\", \"11\", \"12\", \"13\", \"14\", \"15\", \"16\", \"17\", \"18\", \"19\", \"20\", \"21\", \"22\", \"23\", \"24\", \"25\", \"26\", \"27\", \"28\", \"29\", \"30\", \"31\", \"32\", \"35\", \"36\"], \"mode\": \"markers\", \"name\": \"normalized_root_mean_squared_error\", \"stepped\": false, \"type\": \"scatter\", \"data\": [0.007030299815582661, 0.00694524554459892, 0.013818474887595786, 0.014597095013832065, 0.006502549905086549, 0.010363608224712648, 0.0202609929520244, 0.006528025137000487, 0.01047790799527559, 0.012959820763673718, 0.010206059346189993, 0.012684646588821537, 0.04431635973204115, 0.01001686093822771, 0.01061218091614215, 0.04271318953536325, 0.011280315030583356, 0.011266364800314604, 0.0416553589342637, 0.025015438011442893, 0.011162095414788669, 0.037927544298702674, 0.010961209119554356, 0.009281133702620348, 0.007462752197790546, 0.062163509620431975, 0.05117628155611984, 0.04086167110071577, 0.013705889081781008, 0.014735657559605334, 0.05500385620278185, 0.030088059535297935, 0.009930637537800375, 0.005878769186393657, 0.005886689947517817]}, {\"categories\": [\"0\", \"1\", \"2\", \"3\", \"4\", \"5\", \"6\", \"7\", \"8\", \"9\", \"10\", \"11\", \"12\", \"13\", \"14\", \"15\", \"16\", \"17\", \"18\", \"19\", \"20\", \"21\", \"22\", \"23\", \"24\", \"25\", \"26\", \"27\", \"28\", \"29\", \"30\", \"31\", \"32\", \"35\", \"36\"], \"mode\": \"lines\", \"name\": \"normalized_root_mean_squared_error_min\", \"stepped\": true, \"type\": \"scatter\", \"data\": [0.007030299815582661, 0.00694524554459892, 0.00694524554459892, 0.00694524554459892, 0.006502549905086549, 0.006502549905086549, 0.006502549905086549, 0.006502549905086549, 0.006502549905086549, 0.006502549905086549, 0.006502549905086549, 0.006502549905086549, 0.006502549905086549, 0.006502549905086549, 0.006502549905086549, 0.006502549905086549, 0.006502549905086549, 0.006502549905086549, 0.006502549905086549, 0.006502549905086549, 0.006502549905086549, 0.006502549905086549, 0.006502549905086549, 0.006502549905086549, 0.006502549905086549, 0.006502549905086549, 0.006502549905086549, 0.006502549905086549, 0.006502549905086549, 0.006502549905086549, 0.006502549905086549, 0.006502549905086549, 0.006502549905086549, 0.005878769186393657, 0.005878769186393657]}], \"root_mean_squared_log_error\": [{\"categories\": [\"0\", \"1\", \"2\", \"3\", \"4\", \"5\", \"6\", \"7\", \"8\", \"9\", \"10\", \"11\", \"12\", \"13\", \"14\", \"15\", \"16\", \"17\", \"18\", \"19\", \"20\", \"21\", \"22\", \"23\", \"24\", \"25\", \"26\", \"27\", \"28\", \"29\", \"30\", \"31\", \"32\", \"35\", \"36\"], \"mode\": \"markers\", \"name\": \"root_mean_squared_log_error\", \"stepped\": false, \"type\": \"scatter\", \"data\": [0.00985607524307883, 0.009147648395935733, 0.01819918089405488, 0.02201439257149322, 0.009153639798538891, 0.01446875664643571, 0.028627945719205555, 0.00899090222472176, 0.016276289437864196, 0.015877512899692754, 0.015577460175499653, 0.019204413651351844, 0.05376908805654129, 0.014793594994315989, 0.01597176058155033, 0.056555376881487575, 0.017491462434574907, 0.01535297802020274, 0.05459785383387914, 0.034827953967208905, 0.016472876100414518, 0.050156462249380085, 0.015077378576953737, 0.012900237136339834, 0.009927566230577573, 0.07450328422547095, 0.06140267843160526, 0.05382103848957211, 0.018874533549761464, 0.02198820477798557, 0.07278520151772928, 0.04145603096091386, 0.014135931712593561, 0.00796224789426758, 0.007974885855140558]}, {\"categories\": [\"0\", \"1\", \"2\", \"3\", \"4\", \"5\", \"6\", \"7\", \"8\", \"9\", \"10\", \"11\", \"12\", \"13\", \"14\", \"15\", \"16\", \"17\", \"18\", \"19\", \"20\", \"21\", \"22\", \"23\", \"24\", \"25\", \"26\", \"27\", \"28\", \"29\", \"30\", \"31\", \"32\", \"35\", \"36\"], \"mode\": \"lines\", \"name\": \"root_mean_squared_log_error_min\", \"stepped\": true, \"type\": \"scatter\", \"data\": [0.00985607524307883, 0.009147648395935733, 0.009147648395935733, 0.009147648395935733, 0.009147648395935733, 0.009147648395935733, 0.009147648395935733, 0.00899090222472176, 0.00899090222472176, 0.00899090222472176, 0.00899090222472176, 0.00899090222472176, 0.00899090222472176, 0.00899090222472176, 0.00899090222472176, 0.00899090222472176, 0.00899090222472176, 0.00899090222472176, 0.00899090222472176, 0.00899090222472176, 0.00899090222472176, 0.00899090222472176, 0.00899090222472176, 0.00899090222472176, 0.00899090222472176, 0.00899090222472176, 0.00899090222472176, 0.00899090222472176, 0.00899090222472176, 0.00899090222472176, 0.00899090222472176, 0.00899090222472176, 0.00899090222472176, 0.00796224789426758, 0.00796224789426758]}], \"normalized_median_absolute_error\": [{\"categories\": [\"0\", \"1\", \"2\", \"3\", \"4\", \"5\", \"6\", \"7\", \"8\", \"9\", \"10\", \"11\", \"12\", \"13\", \"14\", \"15\", \"16\", \"17\", \"18\", \"19\", \"20\", \"21\", \"22\", \"23\", \"24\", \"25\", \"26\", \"27\", \"28\", \"29\", \"30\", \"31\", \"32\", \"35\", \"36\"], \"mode\": \"markers\", \"name\": \"normalized_median_absolute_error\", \"stepped\": false, \"type\": \"scatter\", \"data\": [0.004089164291084045, 0.004640577733516699, 0.005312906950712196, 0.005012349267917222, 0.004111882299184792, 0.005581470335612557, 0.0070735989508399835, 0.004168592393398264, 0.004398485754110504, 0.007022949947906261, 0.004508970088037689, 0.005153695393209035, 0.04117925837635991, 0.005359482256672245, 0.004932642738361186, 0.015271874262134546, 0.004575241301251927, 0.005850461813675038, 0.01789897899057606, 0.010863591095298941, 0.005577029538597636, 0.011684270473427918, 0.005760469128462564, 0.005118951147559808, 0.004820224642753598, 0.04469375610351563, 0.04104507490992546, 0.0153634211359968, 0.006921935634511829, 0.0051381979389220345, 0.03513444140553476, 0.014741124494037782, 0.004917896257960984, 0.003976936118452571, 0.003984549065050309]}, {\"categories\": [\"0\", \"1\", \"2\", \"3\", \"4\", \"5\", \"6\", \"7\", \"8\", \"9\", \"10\", \"11\", \"12\", \"13\", \"14\", \"15\", \"16\", \"17\", \"18\", \"19\", \"20\", \"21\", \"22\", \"23\", \"24\", \"25\", \"26\", \"27\", \"28\", \"29\", \"30\", \"31\", \"32\", \"35\", \"36\"], \"mode\": \"lines\", \"name\": \"normalized_median_absolute_error_min\", \"stepped\": true, \"type\": \"scatter\", \"data\": [0.004089164291084045, 0.004089164291084045, 0.004089164291084045, 0.004089164291084045, 0.004089164291084045, 0.004089164291084045, 0.004089164291084045, 0.004089164291084045, 0.004089164291084045, 0.004089164291084045, 0.004089164291084045, 0.004089164291084045, 0.004089164291084045, 0.004089164291084045, 0.004089164291084045, 0.004089164291084045, 0.004089164291084045, 0.004089164291084045, 0.004089164291084045, 0.004089164291084045, 0.004089164291084045, 0.004089164291084045, 0.004089164291084045, 0.004089164291084045, 0.004089164291084045, 0.004089164291084045, 0.004089164291084045, 0.004089164291084045, 0.004089164291084045, 0.004089164291084045, 0.004089164291084045, 0.004089164291084045, 0.004089164291084045, 0.003976936118452571, 0.003976936118452571]}], \"r2_score\": [{\"categories\": [\"0\", \"1\", \"2\", \"3\", \"4\", \"5\", \"6\", \"7\", \"8\", \"9\", \"10\", \"11\", \"12\", \"13\", \"14\", \"15\", \"16\", \"17\", \"18\", \"19\", \"20\", \"21\", \"22\", \"23\", \"24\", \"25\", \"26\", \"27\", \"28\", \"29\", \"30\", \"31\", \"32\", \"35\", \"36\"], \"mode\": \"markers\", \"name\": \"r2_score\", \"stepped\": false, \"type\": \"scatter\", \"data\": [0.9968628218066234, 0.9969320819262114, 0.9878369931703492, 0.9864580793587494, 0.9973100011190402, 0.9931817187519278, 0.9739442826980197, 0.9972897525857558, 0.9930153100711756, 0.9893534752212603, 0.9933788395454182, 0.9897763991619885, 0.8754689472671078, 0.9936308290968437, 0.9928527177592462, 0.8833025620273643, 0.9919111897761361, 0.9919459237668244, 0.8899772857118524, 0.9603291239032268, 0.9920847172137179, 0.9087759300638526, 0.9923753575974761, 0.9945307028488525, 0.996467058248192, 0.7550131345762694, 0.8339705192518352, 0.8936569476662022, 0.9880881436497158, 0.9862022110057472, 0.8079700472104522, 0.9425446459769266, 0.9937250182892701, 0.997803647174114, 0.9977971741143316]}, {\"categories\": [\"0\", \"1\", \"2\", \"3\", \"4\", \"5\", \"6\", \"7\", \"8\", \"9\", \"10\", \"11\", \"12\", \"13\", \"14\", \"15\", \"16\", \"17\", \"18\", \"19\", \"20\", \"21\", \"22\", \"23\", \"24\", \"25\", \"26\", \"27\", \"28\", \"29\", \"30\", \"31\", \"32\", \"35\", \"36\"], \"mode\": \"lines\", \"name\": \"r2_score_max\", \"stepped\": true, \"type\": \"scatter\", \"data\": [0.9968628218066234, 0.9969320819262114, 0.9969320819262114, 0.9969320819262114, 0.9973100011190402, 0.9973100011190402, 0.9973100011190402, 0.9973100011190402, 0.9973100011190402, 0.9973100011190402, 0.9973100011190402, 0.9973100011190402, 0.9973100011190402, 0.9973100011190402, 0.9973100011190402, 0.9973100011190402, 0.9973100011190402, 0.9973100011190402, 0.9973100011190402, 0.9973100011190402, 0.9973100011190402, 0.9973100011190402, 0.9973100011190402, 0.9973100011190402, 0.9973100011190402, 0.9973100011190402, 0.9973100011190402, 0.9973100011190402, 0.9973100011190402, 0.9973100011190402, 0.9973100011190402, 0.9973100011190402, 0.9973100011190402, 0.997803647174114, 0.997803647174114]}], \"spearman_correlation\": [{\"categories\": [\"0\", \"1\", \"2\", \"3\", \"4\", \"5\", \"6\", \"7\", \"8\", \"9\", \"10\", \"11\", \"12\", \"13\", \"14\", \"15\", \"16\", \"17\", \"18\", \"19\", \"20\", \"21\", \"22\", \"23\", \"24\", \"25\", \"26\", \"27\", \"28\", \"29\", \"30\", \"31\", \"32\", \"35\", \"36\"], \"mode\": \"markers\", \"name\": \"spearman_correlation\", \"stepped\": false, \"type\": \"scatter\", \"data\": [0.9986207106698242, 0.9983739567071875, 0.9929977113674135, 0.9970149079877743, 0.998692030186685, 0.9979390754822252, 0.9934451611606031, 0.998653410107142, 0.9982167992179086, 0.9977322242180124, 0.9980981573471048, 0.9972241337407087, 0.9981107768455356, 0.998150799232287, 0.997784211863283, 0.9828044724497381, 0.9980291621479186, 0.9976551083885881, 0.9689003158159031, 0.9883602395432384, 0.9973594211133259, 0.986043721727438, 0.997703941314142, 0.9976905869118549, 0.9982191445297655, 0.9541204823338788, 0.9813724109197975, 0.98625409281197, 0.9960112198525992, 0.997008206097369, 0.8818746329817028, 0.9975547307701065, 0.9978967527529441, 0.9988538379347626, 0.9988360661175509]}, {\"categories\": [\"0\", \"1\", \"2\", \"3\", \"4\", \"5\", \"6\", \"7\", \"8\", \"9\", \"10\", \"11\", \"12\", \"13\", \"14\", \"15\", \"16\", \"17\", \"18\", \"19\", \"20\", \"21\", \"22\", \"23\", \"24\", \"25\", \"26\", \"27\", \"28\", \"29\", \"30\", \"31\", \"32\", \"35\", \"36\"], \"mode\": \"lines\", \"name\": \"spearman_correlation_max\", \"stepped\": true, \"type\": \"scatter\", \"data\": [0.9986207106698242, 0.9986207106698242, 0.9986207106698242, 0.9986207106698242, 0.998692030186685, 0.998692030186685, 0.998692030186685, 0.998692030186685, 0.998692030186685, 0.998692030186685, 0.998692030186685, 0.998692030186685, 0.998692030186685, 0.998692030186685, 0.998692030186685, 0.998692030186685, 0.998692030186685, 0.998692030186685, 0.998692030186685, 0.998692030186685, 0.998692030186685, 0.998692030186685, 0.998692030186685, 0.998692030186685, 0.998692030186685, 0.998692030186685, 0.998692030186685, 0.998692030186685, 0.998692030186685, 0.998692030186685, 0.998692030186685, 0.998692030186685, 0.998692030186685, 0.9988538379347626, 0.9988538379347626]}], \"mean_absolute_error\": [{\"categories\": [\"0\", \"1\", \"2\", \"3\", \"4\", \"5\", \"6\", \"7\", \"8\", \"9\", \"10\", \"11\", \"12\", \"13\", \"14\", \"15\", \"16\", \"17\", \"18\", \"19\", \"20\", \"21\", \"22\", \"23\", \"24\", \"25\", \"26\", \"27\", \"28\", \"29\", \"30\", \"31\", \"32\", \"35\", \"36\"], \"mode\": \"markers\", \"name\": \"mean_absolute_error\", \"stepped\": false, \"type\": \"scatter\", \"data\": [0.031692251671399795, 0.03480934503245164, 0.050040591158514544, 0.04890983027967945, 0.030879176509656898, 0.0477842509752586, 0.07271149748267255, 0.031549118802449316, 0.03764016442144263, 0.060037102325254076, 0.03810448652567392, 0.04636476131865749, 0.2686154031316522, 0.04570561277743621, 0.041763151477130556, 0.16544752223852127, 0.03974897807357864, 0.05088566999842399, 0.17442696748294603, 0.10180124768831078, 0.04884821256956752, 0.14030493943021935, 0.04985153908446534, 0.041094452682565494, 0.03653378388793518, 0.3238910028968787, 0.28400654829853256, 0.16378208417640883, 0.058774949521719265, 0.050394014018854835, 0.27228490230062585, 0.1329343718835298, 0.04091131234855163, 0.029116858816360495, 0.029209012787252086]}, {\"categories\": [\"0\", \"1\", \"2\", \"3\", \"4\", \"5\", \"6\", \"7\", \"8\", \"9\", \"10\", \"11\", \"12\", \"13\", \"14\", \"15\", \"16\", \"17\", \"18\", \"19\", \"20\", \"21\", \"22\", \"23\", \"24\", \"25\", \"26\", \"27\", \"28\", \"29\", \"30\", \"31\", \"32\", \"35\", \"36\"], \"mode\": \"lines\", \"name\": \"mean_absolute_error_min\", \"stepped\": true, \"type\": \"scatter\", \"data\": [0.031692251671399795, 0.031692251671399795, 0.031692251671399795, 0.031692251671399795, 0.030879176509656898, 0.030879176509656898, 0.030879176509656898, 0.030879176509656898, 0.030879176509656898, 0.030879176509656898, 0.030879176509656898, 0.030879176509656898, 0.030879176509656898, 0.030879176509656898, 0.030879176509656898, 0.030879176509656898, 0.030879176509656898, 0.030879176509656898, 0.030879176509656898, 0.030879176509656898, 0.030879176509656898, 0.030879176509656898, 0.030879176509656898, 0.030879176509656898, 0.030879176509656898, 0.030879176509656898, 0.030879176509656898, 0.030879176509656898, 0.030879176509656898, 0.030879176509656898, 0.030879176509656898, 0.030879176509656898, 0.030879176509656898, 0.029116858816360495, 0.029116858816360495]}]}, \"metricName\": null, \"primaryMetricName\": \"r2_score\", \"showLegend\": false}, \"run_metrics\": [{\"name\": \"experiment_status\", \"run_id\": \"AutoML_867f2963-9a49-44fb-93e9-7f304aa4d725\", \"categories\": [0, 1, 2, 3, 4, 5, 6, 7, 8, 9, 10, 11, 12, 13], \"series\": [{\"data\": [\"DatasetEvaluation\", \"FeaturesGeneration\", \"DatasetFeaturization\", \"DatasetFeaturizationCompleted\", \"DatasetCrossValidationSplit\", \"ModelSelection\", \"BestRunExplainModel\", \"ModelExplanationDataSetSetup\", \"PickSurrogateModel\", \"EngineeredFeatureExplanations\", \"EngineeredFeatureExplanations\", \"RawFeaturesExplanations\", \"RawFeaturesExplanations\", \"BestRunExplainModel\"]}]}, {\"name\": \"experiment_status_description\", \"run_id\": \"AutoML_867f2963-9a49-44fb-93e9-7f304aa4d725\", \"categories\": [0, 1, 2, 3, 4, 5, 6, 7, 8, 9, 10, 11, 12, 13], \"series\": [{\"data\": [\"Gathering dataset statistics.\", \"Generating features for the dataset.\", \"Beginning to fit featurizers and featurize the dataset.\", \"Completed fit featurizers and featurizing the dataset.\", \"Generating individually featurized CV splits.\", \"Beginning model selection.\", \"Best run model explanations started\", \"Model explanations data setup completed\", \"Choosing LightGBM as the surrogate model for explanations\", \"Computation of engineered features started\", \"Computation of engineered features completed\", \"Computation of raw features started\", \"Computation of raw features completed\", \"Best run model explanations completed\"]}]}, {\"name\": \"root_mean_squared_error\", \"run_id\": \"AutoML_867f2963-9a49-44fb-93e9-7f304aa4d725\", \"categories\": [0], \"series\": [{\"data\": [0.03762412279291941]}]}, {\"name\": \"explained_variance\", \"run_id\": \"AutoML_867f2963-9a49-44fb-93e9-7f304aa4d725\", \"categories\": [0], \"series\": [{\"data\": [0.9978046527882583]}]}, {\"name\": \"mean_absolute_error\", \"run_id\": \"AutoML_867f2963-9a49-44fb-93e9-7f304aa4d725\", \"categories\": [0], \"series\": [{\"data\": [0.029116858816360495]}]}, {\"name\": \"median_absolute_error\", \"run_id\": \"AutoML_867f2963-9a49-44fb-93e9-7f304aa4d725\", \"categories\": [0], \"series\": [{\"data\": [0.025452391158096454]}]}, {\"name\": \"root_mean_squared_log_error\", \"run_id\": \"AutoML_867f2963-9a49-44fb-93e9-7f304aa4d725\", \"categories\": [0], \"series\": [{\"data\": [0.00796224789426758]}]}, {\"name\": \"normalized_root_mean_squared_log_error\", \"run_id\": \"AutoML_867f2963-9a49-44fb-93e9-7f304aa4d725\", \"categories\": [0], \"series\": [{\"data\": [0.005984790055152333]}]}, {\"name\": \"normalized_median_absolute_error\", \"run_id\": \"AutoML_867f2963-9a49-44fb-93e9-7f304aa4d725\", \"categories\": [0], \"series\": [{\"data\": [0.003976936118452571]}]}, {\"name\": \"normalized_root_mean_squared_error\", \"run_id\": \"AutoML_867f2963-9a49-44fb-93e9-7f304aa4d725\", \"categories\": [0], \"series\": [{\"data\": [0.005878769186393657]}]}, {\"name\": \"r2_score\", \"run_id\": \"AutoML_867f2963-9a49-44fb-93e9-7f304aa4d725\", \"categories\": [0], \"series\": [{\"data\": [0.997803647174114]}]}, {\"name\": \"spearman_correlation\", \"run_id\": \"AutoML_867f2963-9a49-44fb-93e9-7f304aa4d725\", \"categories\": [0], \"series\": [{\"data\": [0.9988538379347626]}]}, {\"name\": \"mean_absolute_percentage_error\", \"run_id\": \"AutoML_867f2963-9a49-44fb-93e9-7f304aa4d725\", \"categories\": [0], \"series\": [{\"data\": [0.7356982514360096]}]}, {\"name\": \"normalized_mean_absolute_error\", \"run_id\": \"AutoML_867f2963-9a49-44fb-93e9-7f304aa4d725\", \"categories\": [0], \"series\": [{\"data\": [0.004549509190056327]}]}], \"run_logs\": \"\\nRun is completed.\", \"graph\": {}, \"widget_settings\": {\"childWidgetDisplay\": \"popup\", \"send_telemetry\": false, \"log_level\": \"INFO\", \"sdk_version\": \"1.20.0\"}, \"loading\": false}"
          },
          "metadata": {}
        },
        {
          "output_type": "execute_result",
          "execution_count": 8,
          "data": {
            "text/plain": "{'runId': 'AutoML_867f2963-9a49-44fb-93e9-7f304aa4d725',\n 'target': 'automl-cluster',\n 'status': 'Completed',\n 'startTimeUtc': '2021-01-22T01:48:02.595449Z',\n 'endTimeUtc': '2021-01-22T02:08:39.910049Z',\n 'properties': {'num_iterations': '1000',\n  'training_type': 'TrainFull',\n  'acquisition_function': 'EI',\n  'primary_metric': 'r2_score',\n  'train_split': '0',\n  'acquisition_parameter': '0',\n  'num_cross_validation': '5',\n  'target': 'automl-cluster',\n  'AMLSettingsJsonString': '{\"path\":null,\"name\":\"ideb-regression\",\"subscription_id\":\"a748a023-896b-4719-8f8e-3d1ba62d6e35\",\"resource_group\":\"RG-AZML\",\"workspace_name\":\"AZML\",\"region\":\"eastus\",\"compute_target\":\"automl-cluster\",\"spark_service\":null,\"azure_service\":\"remote\",\"many_models\":false,\"pipeline_fetch_max_batch_size\":1,\"iterations\":1000,\"primary_metric\":\"r2_score\",\"task_type\":\"regression\",\"data_script\":null,\"validation_size\":0.0,\"n_cross_validations\":5,\"y_min\":null,\"y_max\":null,\"num_classes\":null,\"featurization\":\"auto\",\"_ignore_package_version_incompatibilities\":false,\"is_timeseries\":false,\"max_cores_per_iteration\":1,\"max_concurrent_iterations\":4,\"iteration_timeout_minutes\":null,\"mem_in_mb\":null,\"enforce_time_on_windows\":false,\"experiment_timeout_minutes\":15,\"experiment_exit_score\":null,\"whitelist_models\":null,\"blacklist_algos\":[\"TensorFlowDNN\",\"TensorFlowLinearRegressor\"],\"supported_models\":[\"ExtremeRandomTrees\",\"SGD\",\"XGBoostRegressor\",\"LightGBM\",\"FastLinearRegressor\",\"ElasticNet\",\"TensorFlowDNN\",\"RandomForest\",\"OnlineGradientDescentRegressor\",\"KNN\",\"TensorFlowLinearRegressor\",\"DecisionTree\",\"LassoLars\",\"GradientBoosting\"],\"auto_blacklist\":true,\"blacklist_samples_reached\":false,\"exclude_nan_labels\":true,\"verbosity\":20,\"_debug_log\":\"azureml_automl.log\",\"show_warnings\":false,\"model_explainability\":true,\"service_url\":null,\"sdk_url\":null,\"sdk_packages\":null,\"enable_onnx_compatible_models\":false,\"enable_split_onnx_featurizer_estimator_models\":false,\"vm_type\":\"STANDARD_DS3_V2\",\"telemetry_verbosity\":20,\"send_telemetry\":true,\"enable_dnn\":false,\"scenario\":\"SDK-1.13.0\",\"environment_label\":null,\"force_text_dnn\":false,\"enable_feature_sweeping\":true,\"enable_early_stopping\":true,\"early_stopping_n_iters\":10,\"metrics\":null,\"enable_ensembling\":true,\"enable_stack_ensembling\":true,\"ensemble_iterations\":15,\"enable_tf\":false,\"enable_subsampling\":null,\"subsample_seed\":null,\"enable_nimbusml\":false,\"enable_streaming\":false,\"force_streaming\":false,\"track_child_runs\":true,\"allowed_private_models\":[],\"label_column_name\":\"IDEB_2019\",\"weight_column_name\":null,\"cv_split_column_names\":null,\"enable_local_managed\":false,\"_local_managed_run_id\":null,\"cost_mode\":1,\"lag_length\":0,\"metric_operation\":\"maximize\",\"preprocess\":true}',\n  'DataPrepJsonString': '{\\\\\"training_data\\\\\": \\\\\"{\\\\\\\\\\\\\"blocks\\\\\\\\\\\\\": [{\\\\\\\\\\\\\"id\\\\\\\\\\\\\": \\\\\\\\\\\\\"823dab97-9480-4378-8c08-4aec261bc0f3\\\\\\\\\\\\\", \\\\\\\\\\\\\"type\\\\\\\\\\\\\": \\\\\\\\\\\\\"Microsoft.DPrep.GetDatastoreFilesBlock\\\\\\\\\\\\\", \\\\\\\\\\\\\"arguments\\\\\\\\\\\\\": {\\\\\\\\\\\\\"datastores\\\\\\\\\\\\\": [{\\\\\\\\\\\\\"datastoreName\\\\\\\\\\\\\": \\\\\\\\\\\\\"workspaceblobstore\\\\\\\\\\\\\", \\\\\\\\\\\\\"path\\\\\\\\\\\\\": \\\\\\\\\\\\\"UI/01-20-2021_015249_UTC/data.CSV\\\\\\\\\\\\\", \\\\\\\\\\\\\"resourceGroup\\\\\\\\\\\\\": \\\\\\\\\\\\\"RG-AZML\\\\\\\\\\\\\", \\\\\\\\\\\\\"subscription\\\\\\\\\\\\\": \\\\\\\\\\\\\"a748a023-896b-4719-8f8e-3d1ba62d6e35\\\\\\\\\\\\\", \\\\\\\\\\\\\"workspaceName\\\\\\\\\\\\\": \\\\\\\\\\\\\"AZML\\\\\\\\\\\\\"}]}, \\\\\\\\\\\\\"localData\\\\\\\\\\\\\": {}, \\\\\\\\\\\\\"isEnabled\\\\\\\\\\\\\": true, \\\\\\\\\\\\\"name\\\\\\\\\\\\\": null, \\\\\\\\\\\\\"annotation\\\\\\\\\\\\\": null}, {\\\\\\\\\\\\\"id\\\\\\\\\\\\\": \\\\\\\\\\\\\"76adb1eb-bf70-4771-bfa7-4e59f7b8e108\\\\\\\\\\\\\", \\\\\\\\\\\\\"type\\\\\\\\\\\\\": \\\\\\\\\\\\\"Microsoft.DPrep.ParseDelimitedBlock\\\\\\\\\\\\\", \\\\\\\\\\\\\"arguments\\\\\\\\\\\\\": {\\\\\\\\\\\\\"columnHeadersMode\\\\\\\\\\\\\": 1, \\\\\\\\\\\\\"fileEncoding\\\\\\\\\\\\\": 0, \\\\\\\\\\\\\"handleQuotedLineBreaks\\\\\\\\\\\\\": false, \\\\\\\\\\\\\"preview\\\\\\\\\\\\\": false, \\\\\\\\\\\\\"separator\\\\\\\\\\\\\": \\\\\\\\\\\\\";\\\\\\\\\\\\\", \\\\\\\\\\\\\"skipRows\\\\\\\\\\\\\": 0, \\\\\\\\\\\\\"skipRowsMode\\\\\\\\\\\\\": 0}, \\\\\\\\\\\\\"localData\\\\\\\\\\\\\": {}, \\\\\\\\\\\\\"isEnabled\\\\\\\\\\\\\": true, \\\\\\\\\\\\\"name\\\\\\\\\\\\\": null, \\\\\\\\\\\\\"annotation\\\\\\\\\\\\\": null}, {\\\\\\\\\\\\\"id\\\\\\\\\\\\\": \\\\\\\\\\\\\"e64ec390-9ab1-4697-a1c0-a78e859f8075\\\\\\\\\\\\\", \\\\\\\\\\\\\"type\\\\\\\\\\\\\": \\\\\\\\\\\\\"Microsoft.DPrep.DropColumnsBlock\\\\\\\\\\\\\", \\\\\\\\\\\\\"arguments\\\\\\\\\\\\\": {\\\\\\\\\\\\\"columns\\\\\\\\\\\\\": {\\\\\\\\\\\\\"type\\\\\\\\\\\\\": 0, \\\\\\\\\\\\\"details\\\\\\\\\\\\\": {\\\\\\\\\\\\\"selectedColumns\\\\\\\\\\\\\": [\\\\\\\\\\\\\"Path\\\\\\\\\\\\\"]}}}, \\\\\\\\\\\\\"localData\\\\\\\\\\\\\": {}, \\\\\\\\\\\\\"isEnabled\\\\\\\\\\\\\": true, \\\\\\\\\\\\\"name\\\\\\\\\\\\\": null, \\\\\\\\\\\\\"annotation\\\\\\\\\\\\\": null}, {\\\\\\\\\\\\\"id\\\\\\\\\\\\\": \\\\\\\\\\\\\"6e49ef01-f4a3-43db-8a3e-f72409add096\\\\\\\\\\\\\", \\\\\\\\\\\\\"type\\\\\\\\\\\\\": \\\\\\\\\\\\\"Microsoft.DPrep.SetColumnTypesBlock\\\\\\\\\\\\\", \\\\\\\\\\\\\"arguments\\\\\\\\\\\\\": {\\\\\\\\\\\\\"columnConversion\\\\\\\\\\\\\": [{\\\\\\\\\\\\\"column\\\\\\\\\\\\\": {\\\\\\\\\\\\\"type\\\\\\\\\\\\\": 2, \\\\\\\\\\\\\"details\\\\\\\\\\\\\": {\\\\\\\\\\\\\"selectedColumn\\\\\\\\\\\\\": \\\\\\\\\\\\\"Path\\\\\\\\\\\\\"}}, \\\\\\\\\\\\\"typeProperty\\\\\\\\\\\\\": 0}, {\\\\\\\\\\\\\"column\\\\\\\\\\\\\": {\\\\\\\\\\\\\"type\\\\\\\\\\\\\": 2, \\\\\\\\\\\\\"details\\\\\\\\\\\\\": {\\\\\\\\\\\\\"selectedColumn\\\\\\\\\\\\\": \\\\\\\\\\\\\"TAprov2019_Total\\\\\\\\\\\\\"}}, \\\\\\\\\\\\\"typeProperty\\\\\\\\\\\\\": 3}, {\\\\\\\\\\\\\"column\\\\\\\\\\\\\": {\\\\\\\\\\\\\"type\\\\\\\\\\\\\": 2, \\\\\\\\\\\\\"details\\\\\\\\\\\\\": {\\\\\\\\\\\\\"selectedColumn\\\\\\\\\\\\\": \\\\\\\\\\\\\"TAprov2019_1_serie\\\\\\\\\\\\\"}}, \\\\\\\\\\\\\"typeProperty\\\\\\\\\\\\\": 3}, {\\\\\\\\\\\\\"column\\\\\\\\\\\\\": {\\\\\\\\\\\\\"type\\\\\\\\\\\\\": 2, \\\\\\\\\\\\\"details\\\\\\\\\\\\\": {\\\\\\\\\\\\\"selectedColumn\\\\\\\\\\\\\": \\\\\\\\\\\\\"TAprov2019_2_serie\\\\\\\\\\\\\"}}, \\\\\\\\\\\\\"typeProperty\\\\\\\\\\\\\": 3}, {\\\\\\\\\\\\\"column\\\\\\\\\\\\\": {\\\\\\\\\\\\\"type\\\\\\\\\\\\\": 2, \\\\\\\\\\\\\"details\\\\\\\\\\\\\": {\\\\\\\\\\\\\"selectedColumn\\\\\\\\\\\\\": \\\\\\\\\\\\\"TAprov2019_3_serie\\\\\\\\\\\\\"}}, \\\\\\\\\\\\\"typeProperty\\\\\\\\\\\\\": 3}, {\\\\\\\\\\\\\"column\\\\\\\\\\\\\": {\\\\\\\\\\\\\"type\\\\\\\\\\\\\": 2, \\\\\\\\\\\\\"details\\\\\\\\\\\\\": {\\\\\\\\\\\\\"selectedColumn\\\\\\\\\\\\\": \\\\\\\\\\\\\"TAprov2019_4_serie\\\\\\\\\\\\\"}}, \\\\\\\\\\\\\"typeProperty\\\\\\\\\\\\\": 3}, {\\\\\\\\\\\\\"column\\\\\\\\\\\\\": {\\\\\\\\\\\\\"type\\\\\\\\\\\\\": 2, \\\\\\\\\\\\\"details\\\\\\\\\\\\\": {\\\\\\\\\\\\\"selectedColumn\\\\\\\\\\\\\": \\\\\\\\\\\\\"Indicador_Rendimento\\\\\\\\\\\\\"}}, \\\\\\\\\\\\\"typeProperty\\\\\\\\\\\\\": 3}, {\\\\\\\\\\\\\"column\\\\\\\\\\\\\": {\\\\\\\\\\\\\"type\\\\\\\\\\\\\": 2, \\\\\\\\\\\\\"details\\\\\\\\\\\\\": {\\\\\\\\\\\\\"selectedColumn\\\\\\\\\\\\\": \\\\\\\\\\\\\"SAEB2019_Matematica\\\\\\\\\\\\\"}}, \\\\\\\\\\\\\"typeProperty\\\\\\\\\\\\\": 3}, {\\\\\\\\\\\\\"column\\\\\\\\\\\\\": {\\\\\\\\\\\\\"type\\\\\\\\\\\\\": 2, \\\\\\\\\\\\\"details\\\\\\\\\\\\\": {\\\\\\\\\\\\\"selectedColumn\\\\\\\\\\\\\": \\\\\\\\\\\\\"SAEB2019_Lingua Portuguesa\\\\\\\\\\\\\"}}, \\\\\\\\\\\\\"typeProperty\\\\\\\\\\\\\": 3}, {\\\\\\\\\\\\\"column\\\\\\\\\\\\\": {\\\\\\\\\\\\\"type\\\\\\\\\\\\\": 2, \\\\\\\\\\\\\"details\\\\\\\\\\\\\": {\\\\\\\\\\\\\"selectedColumn\\\\\\\\\\\\\": \\\\\\\\\\\\\"SAEB2019_Nota Media Padronizada\\\\\\\\\\\\\"}}, \\\\\\\\\\\\\"typeProperty\\\\\\\\\\\\\": 3}, {\\\\\\\\\\\\\"column\\\\\\\\\\\\\": {\\\\\\\\\\\\\"type\\\\\\\\\\\\\": 2, \\\\\\\\\\\\\"details\\\\\\\\\\\\\": {\\\\\\\\\\\\\"selectedColumn\\\\\\\\\\\\\": \\\\\\\\\\\\\"IDEB_2019\\\\\\\\\\\\\"}}, \\\\\\\\\\\\\"typeProperty\\\\\\\\\\\\\": 3}]}, \\\\\\\\\\\\\"localData\\\\\\\\\\\\\": {}, \\\\\\\\\\\\\"isEnabled\\\\\\\\\\\\\": true, \\\\\\\\\\\\\"name\\\\\\\\\\\\\": null, \\\\\\\\\\\\\"annotation\\\\\\\\\\\\\": null}], \\\\\\\\\\\\\"inspectors\\\\\\\\\\\\\": [], \\\\\\\\\\\\\"meta\\\\\\\\\\\\\": {\\\\\\\\\\\\\"savedDatasetId\\\\\\\\\\\\\": \\\\\\\\\\\\\"f0599236-e951-454b-a849-7b74ddb516d7\\\\\\\\\\\\\", \\\\\\\\\\\\\"datasetType\\\\\\\\\\\\\": \\\\\\\\\\\\\"tabular\\\\\\\\\\\\\", \\\\\\\\\\\\\"subscriptionId\\\\\\\\\\\\\": \\\\\\\\\\\\\"a748a023-896b-4719-8f8e-3d1ba62d6e35\\\\\\\\\\\\\", \\\\\\\\\\\\\"workspaceId\\\\\\\\\\\\\": \\\\\\\\\\\\\"a7aa8562-5b11-4624-8e55-9a41918831e8\\\\\\\\\\\\\", \\\\\\\\\\\\\"workspaceLocation\\\\\\\\\\\\\": \\\\\\\\\\\\\"eastus\\\\\\\\\\\\\"}}\\\\\", \\\\\"activities\\\\\": 0}',\n  'EnableSubsampling': None,\n  'runTemplate': 'AutoML',\n  'azureml.runsource': 'automl',\n  'display_task_type': 'regression',\n  'dependencies_versions': '{\"azureml-widgets\": \"1.19.0\", \"azureml-train\": \"1.20.0\", \"azureml-train-restclients-hyperdrive\": \"1.20.0\", \"azureml-train-core\": \"1.20.0\", \"azureml-train-automl\": \"1.20.0\", \"azureml-train-automl-runtime\": \"1.20.0.post1\", \"azureml-train-automl-client\": \"1.20.0\", \"azureml-tensorboard\": \"1.19.0\", \"azureml-telemetry\": \"1.20.0\", \"azureml-sdk\": \"1.20.0\", \"azureml-samples\": \"0+unknown\", \"azureml-pipeline\": \"1.20.0\", \"azureml-pipeline-steps\": \"1.20.0\", \"azureml-pipeline-core\": \"1.20.0\", \"azureml-opendatasets\": \"1.19.0\", \"azureml-model-management-sdk\": \"1.0.1b6.post1\", \"azureml-mlflow\": \"1.19.0\", \"azureml-interpret\": \"1.20.0\", \"azureml-explain-model\": \"1.19.0\", \"azureml-defaults\": \"1.20.0\", \"azureml-dataset-runtime\": \"1.20.0\", \"azureml-dataprep\": \"2.7.3\", \"azureml-dataprep-rslex\": \"1.5.0\", \"azureml-dataprep-native\": \"27.0.0\", \"azureml-datadrift\": \"1.19.0\", \"azureml-core\": \"1.20.0\", \"azureml-contrib-services\": \"1.19.0\", \"azureml-contrib-server\": \"1.19.0\", \"azureml-contrib-reinforcementlearning\": \"1.19.0\", \"azureml-contrib-pipeline-steps\": \"1.19.0\", \"azureml-contrib-notebook\": \"1.19.0\", \"azureml-contrib-interpret\": \"1.19.0\", \"azureml-contrib-gbdt\": \"1.19.0\", \"azureml-contrib-fairness\": \"1.19.0\", \"azureml-contrib-dataset\": \"1.19.0\", \"azureml-cli-common\": \"1.19.0\", \"azureml-automl-runtime\": \"1.20.0\", \"azureml-automl-core\": \"1.20.0\", \"azureml-accel-models\": \"1.19.0\"}',\n  '_aml_system_scenario_identification': 'Remote.Parent',\n  'ClientType': 'SDK',\n  'environment_cpu_name': 'AzureML-AutoML',\n  'environment_cpu_label': 'prod',\n  'environment_gpu_name': 'AzureML-AutoML-GPU',\n  'environment_gpu_label': 'prod',\n  'root_attribution': 'automl',\n  'attribution': 'AutoML',\n  'Orchestrator': 'AutoML',\n  'CancelUri': 'https://eastus.experiments.azureml.net/jasmine/v1.0/subscriptions/a748a023-896b-4719-8f8e-3d1ba62d6e35/resourceGroups/RG-AZML/providers/Microsoft.MachineLearningServices/workspaces/AZML/experimentids/337dcb8b-d3cc-4e85-b122-67c93e8ceec5/cancel/AutoML_867f2963-9a49-44fb-93e9-7f304aa4d725',\n  'ClientSdkVersion': '1.20.0',\n  'snapshotId': '00000000-0000-0000-0000-000000000000',\n  'SetupRunId': 'AutoML_867f2963-9a49-44fb-93e9-7f304aa4d725_setup',\n  'SetupRunContainerId': 'dcid.AutoML_867f2963-9a49-44fb-93e9-7f304aa4d725_setup',\n  'FeaturizationRunJsonPath': 'featurizer_container.json',\n  'FeaturizationRunId': 'AutoML_867f2963-9a49-44fb-93e9-7f304aa4d725_featurize',\n  'ProblemInfoJsonString': '{\"dataset_num_categorical\": 0, \"is_sparse\": false, \"subsampling\": false, \"dataset_classes\": 62, \"dataset_features\": 9, \"dataset_samples\": 12079, \"single_frequency_class_detected\": false}',\n  'ModelExplainRunId': 'AutoML_867f2963-9a49-44fb-93e9-7f304aa4d725_ModelExplain'},\n 'inputDatasets': [{'dataset': {'id': 'f0599236-e951-454b-a849-7b74ddb516d7'}, 'consumptionDetails': {'type': 'RunInput', 'inputName': 'training_data', 'mechanism': 'Direct'}}],\n 'outputDatasets': [],\n 'logFiles': {},\n 'submittedBy': 'Anderson Soares Furtado Oliveira'}"
          },
          "metadata": {}
        }
      ],
      "execution_count": 8,
      "metadata": {
        "collapsed": true,
        "jupyter": {
          "source_hidden": false,
          "outputs_hidden": false
        },
        "nteract": {
          "transient": {
            "deleting": false
          }
        },
        "gather": {
          "logged": 1611281328307
        }
      }
    },
    {
      "cell_type": "code",
      "source": [
        "!pip install --upgrade --upgrade-strategy eager azureml-sdk==1.20.0"
      ],
      "outputs": [
        {
          "output_type": "stream",
          "name": "stdout",
          "text": [
            "Requirement already up-to-date: azureml-sdk==1.20.0 in /anaconda/envs/azureml_py36/lib/python3.6/site-packages (1.20.0)\n",
            "Requirement already up-to-date: azureml-pipeline~=1.20.0 in /anaconda/envs/azureml_py36/lib/python3.6/site-packages (from azureml-sdk==1.20.0) (1.20.0)\n",
            "Requirement already up-to-date: azureml-train~=1.20.0 in /anaconda/envs/azureml_py36/lib/python3.6/site-packages (from azureml-sdk==1.20.0) (1.20.0)\n",
            "Requirement already up-to-date: azureml-train-automl-client~=1.20.0 in /anaconda/envs/azureml_py36/lib/python3.6/site-packages (from azureml-sdk==1.20.0) (1.20.0)\n",
            "Requirement already up-to-date: azureml-dataset-runtime[fuse]~=1.20.0 in /anaconda/envs/azureml_py36/lib/python3.6/site-packages (from azureml-sdk==1.20.0) (1.20.0)\n",
            "Requirement already up-to-date: azureml-core~=1.20.0 in /anaconda/envs/azureml_py36/lib/python3.6/site-packages (from azureml-sdk==1.20.0) (1.20.0)\n",
            "Requirement already up-to-date: azureml-pipeline-steps~=1.20.0 in /anaconda/envs/azureml_py36/lib/python3.6/site-packages (from azureml-pipeline~=1.20.0->azureml-sdk==1.20.0) (1.20.0)\n",
            "Requirement already up-to-date: azureml-pipeline-core~=1.20.0 in /anaconda/envs/azureml_py36/lib/python3.6/site-packages (from azureml-pipeline~=1.20.0->azureml-sdk==1.20.0) (1.20.0)\n",
            "Requirement already up-to-date: azureml-train-core~=1.20.0 in /anaconda/envs/azureml_py36/lib/python3.6/site-packages (from azureml-train~=1.20.0->azureml-sdk==1.20.0) (1.20.0)\n",
            "Requirement already up-to-date: azureml-telemetry~=1.20.0 in /anaconda/envs/azureml_py36/lib/python3.6/site-packages (from azureml-train-automl-client~=1.20.0->azureml-sdk==1.20.0) (1.20.0)\n",
            "Requirement already up-to-date: azureml-automl-core~=1.20.0 in /anaconda/envs/azureml_py36/lib/python3.6/site-packages (from azureml-train-automl-client~=1.20.0->azureml-sdk==1.20.0) (1.20.0)\n",
            "Requirement already up-to-date: pyarrow<2.0.0,>=0.17.0 in /anaconda/envs/azureml_py36/lib/python3.6/site-packages (from azureml-dataset-runtime[fuse]~=1.20.0->azureml-sdk==1.20.0) (1.0.1)\n",
            "Collecting numpy!=1.19.3; sys_platform == \"linux\"\n",
            "  Downloading numpy-1.19.5-cp36-cp36m-manylinux2010_x86_64.whl (14.8 MB)\n",
            "\u001b[K     |████████████████████████████████| 14.8 MB 7.6 MB/s eta 0:00:01\n",
            "\u001b[?25hRequirement already up-to-date: azureml-dataprep<2.8.0a,>=2.7.0a in /anaconda/envs/azureml_py36/lib/python3.6/site-packages (from azureml-dataset-runtime[fuse]~=1.20.0->azureml-sdk==1.20.0) (2.7.3)\n",
            "Requirement already up-to-date: fusepy<4.0.0,>=3.0.1; extra == \"fuse\" in /anaconda/envs/azureml_py36/lib/python3.6/site-packages (from azureml-dataset-runtime[fuse]~=1.20.0->azureml-sdk==1.20.0) (3.0.1)\n",
            "Collecting pytz\n",
            "  Downloading pytz-2020.5-py2.py3-none-any.whl (510 kB)\n",
            "\u001b[K     |████████████████████████████████| 510 kB 44.9 MB/s eta 0:00:01\n",
            "\u001b[?25hRequirement already up-to-date: adal>=1.2.0 in /anaconda/envs/azureml_py36/lib/python3.6/site-packages (from azureml-core~=1.20.0->azureml-sdk==1.20.0) (1.2.5)\n",
            "Collecting urllib3>=1.23\n",
            "  Downloading urllib3-1.26.2-py2.py3-none-any.whl (136 kB)\n",
            "\u001b[K     |████████████████████████████████| 136 kB 89.7 MB/s eta 0:00:01\n",
            "\u001b[?25hRequirement already up-to-date: backports.tempfile in /anaconda/envs/azureml_py36/lib/python3.6/site-packages (from azureml-core~=1.20.0->azureml-sdk==1.20.0) (1.0)\n",
            "Requirement already up-to-date: azure-mgmt-storage<16.0.0,>=1.5.0 in /anaconda/envs/azureml_py36/lib/python3.6/site-packages (from azureml-core~=1.20.0->azureml-sdk==1.20.0) (11.2.0)\n",
            "Requirement already up-to-date: jmespath in /anaconda/envs/azureml_py36/lib/python3.6/site-packages (from azureml-core~=1.20.0->azureml-sdk==1.20.0) (0.10.0)\n",
            "Requirement already up-to-date: SecretStorage in /anaconda/envs/azureml_py36/lib/python3.6/site-packages (from azureml-core~=1.20.0->azureml-sdk==1.20.0) (3.3.0)\n",
            "Requirement already up-to-date: msrestazure>=0.4.33 in /anaconda/envs/azureml_py36/lib/python3.6/site-packages (from azureml-core~=1.20.0->azureml-sdk==1.20.0) (0.6.4)\n",
            "Requirement already up-to-date: azure-mgmt-authorization<1.0.0,>=0.40.0 in /anaconda/envs/azureml_py36/lib/python3.6/site-packages (from azureml-core~=1.20.0->azureml-sdk==1.20.0) (0.61.0)\n",
            "Requirement already up-to-date: azure-mgmt-containerregistry>=2.0.0 in /anaconda/envs/azureml_py36/lib/python3.6/site-packages (from azureml-core~=1.20.0->azureml-sdk==1.20.0) (2.8.0)\n",
            "Requirement already up-to-date: msrest>=0.5.1 in /anaconda/envs/azureml_py36/lib/python3.6/site-packages (from azureml-core~=1.20.0->azureml-sdk==1.20.0) (0.6.19)\n",
            "Collecting cryptography!=1.9,!=2.0.*,!=2.1.*,!=2.2.*\n",
            "  Downloading cryptography-3.3.1-cp36-abi3-manylinux2010_x86_64.whl (2.6 MB)\n",
            "\u001b[K     |████████████████████████████████| 2.6 MB 59.9 MB/s eta 0:00:01\n",
            "\u001b[?25hRequirement already up-to-date: ndg-httpsclient in /anaconda/envs/azureml_py36/lib/python3.6/site-packages (from azureml-core~=1.20.0->azureml-sdk==1.20.0) (0.5.1)\n",
            "Collecting requests>=2.19.1\n",
            "  Downloading requests-2.25.1-py2.py3-none-any.whl (61 kB)\n",
            "\u001b[K     |████████████████████████████████| 61 kB 5.5 MB/s  eta 0:00:01\n",
            "\u001b[?25hRequirement already up-to-date: python-dateutil>=2.7.3 in /anaconda/envs/azureml_py36/lib/python3.6/site-packages (from azureml-core~=1.20.0->azureml-sdk==1.20.0) (2.8.1)\n",
            "Requirement already up-to-date: pyopenssl<20.0.0 in /anaconda/envs/azureml_py36/lib/python3.6/site-packages (from azureml-core~=1.20.0->azureml-sdk==1.20.0) (19.1.0)\n",
            "Requirement already up-to-date: azure-graphrbac<1.0.0,>=0.40.0 in /anaconda/envs/azureml_py36/lib/python3.6/site-packages (from azureml-core~=1.20.0->azureml-sdk==1.20.0) (0.61.1)\n",
            "Requirement already up-to-date: azure-mgmt-keyvault<7.0.0,>=0.40.0 in /anaconda/envs/azureml_py36/lib/python3.6/site-packages (from azureml-core~=1.20.0->azureml-sdk==1.20.0) (2.2.0)\n",
            "Collecting azure-mgmt-resource<15.0.0,>=1.2.1\n",
            "  Downloading azure_mgmt_resource-12.0.0-py2.py3-none-any.whl (1.1 MB)\n",
            "\u001b[K     |████████████████████████████████| 1.1 MB 53.7 MB/s eta 0:00:01\n",
            "\u001b[?25hCollecting docker\n",
            "  Downloading docker-4.4.1-py2.py3-none-any.whl (146 kB)\n",
            "\u001b[K     |████████████████████████████████| 146 kB 87.9 MB/s eta 0:00:01\n",
            "\u001b[?25hRequirement already up-to-date: PyJWT<2.0.0 in /anaconda/envs/azureml_py36/lib/python3.6/site-packages (from azureml-core~=1.20.0->azureml-sdk==1.20.0) (1.7.1)\n",
            "Collecting jsonpickle\n",
            "  Downloading jsonpickle-1.5.0-py2.py3-none-any.whl (36 kB)\n",
            "Requirement already up-to-date: azure-common>=1.1.12 in /anaconda/envs/azureml_py36/lib/python3.6/site-packages (from azureml-core~=1.20.0->azureml-sdk==1.20.0) (1.1.26)\n",
            "Requirement already up-to-date: pathspec in /anaconda/envs/azureml_py36/lib/python3.6/site-packages (from azureml-core~=1.20.0->azureml-sdk==1.20.0) (0.8.1)\n",
            "Requirement already up-to-date: contextlib2 in /anaconda/envs/azureml_py36/lib/python3.6/site-packages (from azureml-core~=1.20.0->azureml-sdk==1.20.0) (0.6.0.post1)\n",
            "Requirement already up-to-date: ruamel.yaml>=0.15.35 in /anaconda/envs/azureml_py36/lib/python3.6/site-packages (from azureml-core~=1.20.0->azureml-sdk==1.20.0) (0.16.12)\n",
            "Requirement already up-to-date: azureml-train-restclients-hyperdrive~=1.20.0 in /anaconda/envs/azureml_py36/lib/python3.6/site-packages (from azureml-train-core~=1.20.0->azureml-train~=1.20.0->azureml-sdk==1.20.0) (1.20.0)\n",
            "Requirement already up-to-date: applicationinsights in /anaconda/envs/azureml_py36/lib/python3.6/site-packages (from azureml-telemetry~=1.20.0->azureml-train-automl-client~=1.20.0->azureml-sdk==1.20.0) (0.11.9)\n",
            "Requirement already up-to-date: azureml-dataprep-rslex<1.6.0a,>=1.5.0dev0 in /anaconda/envs/azureml_py36/lib/python3.6/site-packages (from azureml-dataprep<2.8.0a,>=2.7.0a->azureml-dataset-runtime[fuse]~=1.20.0->azureml-sdk==1.20.0) (1.5.0)\n",
            "Requirement already up-to-date: azureml-dataprep-native<28.0.0,>=27.0.0 in /anaconda/envs/azureml_py36/lib/python3.6/site-packages (from azureml-dataprep<2.8.0a,>=2.7.0a->azureml-dataset-runtime[fuse]~=1.20.0->azureml-sdk==1.20.0) (27.0.0)\n",
            "Requirement already up-to-date: azure-identity<1.5.0,>=1.2.0 in /anaconda/envs/azureml_py36/lib/python3.6/site-packages (from azureml-dataprep<2.8.0a,>=2.7.0a->azureml-dataset-runtime[fuse]~=1.20.0->azureml-sdk==1.20.0) (1.4.1)\n",
            "Requirement already up-to-date: cloudpickle<2.0.0,>=1.1.0 in /anaconda/envs/azureml_py36/lib/python3.6/site-packages (from azureml-dataprep<2.8.0a,>=2.7.0a->azureml-dataset-runtime[fuse]~=1.20.0->azureml-sdk==1.20.0) (1.6.0)\n",
            "Collecting dotnetcore2<3.0.0,>=2.1.14\n",
            "  Downloading dotnetcore2-2.1.20-py3-none-manylinux1_x86_64.whl (28.7 MB)\n",
            "\u001b[K     |████████████████████████████████| 28.7 MB 38.6 MB/s eta 0:00:01\n",
            "\u001b[?25hRequirement already up-to-date: backports.weakref in /anaconda/envs/azureml_py36/lib/python3.6/site-packages (from backports.tempfile->azureml-core~=1.20.0->azureml-sdk==1.20.0) (1.0.post1)\n",
            "Requirement already up-to-date: jeepney>=0.6 in /anaconda/envs/azureml_py36/lib/python3.6/site-packages (from SecretStorage->azureml-core~=1.20.0->azureml-sdk==1.20.0) (0.6.0)\n",
            "Requirement already up-to-date: six in /anaconda/envs/azureml_py36/lib/python3.6/site-packages (from msrestazure>=0.4.33->azureml-core~=1.20.0->azureml-sdk==1.20.0) (1.15.0)\n",
            "Requirement already up-to-date: isodate>=0.6.0 in /anaconda/envs/azureml_py36/lib/python3.6/site-packages (from msrest>=0.5.1->azureml-core~=1.20.0->azureml-sdk==1.20.0) (0.6.0)\n",
            "Requirement already up-to-date: requests-oauthlib>=0.5.0 in /anaconda/envs/azureml_py36/lib/python3.6/site-packages (from msrest>=0.5.1->azureml-core~=1.20.0->azureml-sdk==1.20.0) (1.3.0)\n",
            "Collecting certifi>=2017.4.17\n",
            "  Downloading certifi-2020.12.5-py2.py3-none-any.whl (147 kB)\n",
            "\u001b[K     |████████████████████████████████| 147 kB 20.9 MB/s eta 0:00:01\n",
            "\u001b[?25hRequirement already up-to-date: cffi>=1.12 in /anaconda/envs/azureml_py36/lib/python3.6/site-packages (from cryptography!=1.9,!=2.0.*,!=2.1.*,!=2.2.*->azureml-core~=1.20.0->azureml-sdk==1.20.0) (1.14.4)\n",
            "Requirement already up-to-date: pyasn1>=0.1.1 in /anaconda/envs/azureml_py36/lib/python3.6/site-packages (from ndg-httpsclient->azureml-core~=1.20.0->azureml-sdk==1.20.0) (0.4.8)\n",
            "Requirement already up-to-date: idna<3,>=2.5 in /anaconda/envs/azureml_py36/lib/python3.6/site-packages (from requests>=2.19.1->azureml-core~=1.20.0->azureml-sdk==1.20.0) (2.10)\n",
            "Collecting chardet<5,>=3.0.2\n",
            "  Downloading chardet-4.0.0-py2.py3-none-any.whl (178 kB)\n",
            "\u001b[K     |████████████████████████████████| 178 kB 53.9 MB/s eta 0:00:01\n",
            "\u001b[?25hRequirement already up-to-date: websocket-client>=0.32.0 in /anaconda/envs/azureml_py36/lib/python3.6/site-packages (from docker->azureml-core~=1.20.0->azureml-sdk==1.20.0) (0.57.0)\n",
            "Collecting importlib-metadata; python_version < \"3.8\"\n",
            "  Downloading importlib_metadata-3.4.0-py3-none-any.whl (10 kB)\n",
            "Requirement already up-to-date: ruamel.yaml.clib>=0.1.2; platform_python_implementation == \"CPython\" and python_version < \"3.9\" in /anaconda/envs/azureml_py36/lib/python3.6/site-packages (from ruamel.yaml>=0.15.35->azureml-core~=1.20.0->azureml-sdk==1.20.0) (0.2.2)\n",
            "Collecting azure-core<2.0.0,>=1.0.0\n",
            "  Downloading azure_core-1.10.0-py2.py3-none-any.whl (125 kB)\n",
            "\u001b[K     |████████████████████████████████| 125 kB 62.2 MB/s eta 0:00:01\n",
            "\u001b[?25hRequirement already up-to-date: msal-extensions~=0.2.2 in /anaconda/envs/azureml_py36/lib/python3.6/site-packages (from azure-identity<1.5.0,>=1.2.0->azureml-dataprep<2.8.0a,>=2.7.0a->azureml-dataset-runtime[fuse]~=1.20.0->azureml-sdk==1.20.0) (0.2.2)\n",
            "Collecting msal<2.0.0,>=1.3.0\n",
            "  Downloading msal-1.8.0-py2.py3-none-any.whl (58 kB)\n",
            "\u001b[K     |████████████████████████████████| 58 kB 3.6 MB/s  eta 0:00:01\n",
            "\u001b[?25hRequirement already up-to-date: distro>=1.2.0 in /anaconda/envs/azureml_py36/lib/python3.6/site-packages (from dotnetcore2<3.0.0,>=2.1.14->azureml-dataprep<2.8.0a,>=2.7.0a->azureml-dataset-runtime[fuse]~=1.20.0->azureml-sdk==1.20.0) (1.5.0)\n",
            "Requirement already up-to-date: oauthlib>=3.0.0 in /anaconda/envs/azureml_py36/lib/python3.6/site-packages (from requests-oauthlib>=0.5.0->msrest>=0.5.1->azureml-core~=1.20.0->azureml-sdk==1.20.0) (3.1.0)\n",
            "Requirement already up-to-date: pycparser in /anaconda/envs/azureml_py36/lib/python3.6/site-packages (from cffi>=1.12->cryptography!=1.9,!=2.0.*,!=2.1.*,!=2.2.*->azureml-core~=1.20.0->azureml-sdk==1.20.0) (2.20)\n",
            "Requirement already up-to-date: zipp>=0.5 in /anaconda/envs/azureml_py36/lib/python3.6/site-packages (from importlib-metadata; python_version < \"3.8\"->jsonpickle->azureml-core~=1.20.0->azureml-sdk==1.20.0) (3.4.0)\n",
            "Requirement already up-to-date: typing-extensions>=3.6.4; python_version < \"3.8\" in /anaconda/envs/azureml_py36/lib/python3.6/site-packages (from importlib-metadata; python_version < \"3.8\"->jsonpickle->azureml-core~=1.20.0->azureml-sdk==1.20.0) (3.7.4.3)\n",
            "Requirement already up-to-date: portalocker~=1.0; platform_system != \"Windows\" in /anaconda/envs/azureml_py36/lib/python3.6/site-packages (from msal-extensions~=0.2.2->azure-identity<1.5.0,>=1.2.0->azureml-dataprep<2.8.0a,>=2.7.0a->azureml-dataset-runtime[fuse]~=1.20.0->azureml-sdk==1.20.0) (1.7.1)\n",
            "\u001b[31mERROR: tensorflow 2.4.0 has requirement grpcio~=1.32.0, but you'll have grpcio 1.34.0 which is incompatible.\u001b[0m\n",
            "\u001b[31mERROR: tensorflow-gpu 2.1.0 has requirement gast==0.2.2, but you'll have gast 0.3.3 which is incompatible.\u001b[0m\n",
            "\u001b[31mERROR: tensorflow-gpu 2.1.0 has requirement scipy==1.4.1; python_version >= \"3\", but you'll have scipy 1.5.2 which is incompatible.\u001b[0m\n",
            "\u001b[31mERROR: tensorflow-gpu 2.1.0 has requirement tensorboard<2.2.0,>=2.1.0, but you'll have tensorboard 2.4.0 which is incompatible.\u001b[0m\n",
            "\u001b[31mERROR: tensorflow-gpu 2.1.0 has requirement tensorflow-estimator<2.2.0,>=2.1.0rc0, but you'll have tensorflow-estimator 2.4.0 which is incompatible.\u001b[0m\n",
            "\u001b[31mERROR: botocore 1.18.18 has requirement urllib3<1.26,>=1.20; python_version != \"3.4\", but you'll have urllib3 1.26.2 which is incompatible.\u001b[0m\n",
            "\u001b[31mERROR: bokeh 2.2.3 has requirement pillow>=7.1.0, but you'll have pillow 6.2.1 which is incompatible.\u001b[0m\n",
            "\u001b[31mERROR: azureml-train-automl-runtime 1.20.0.post1 has requirement numpy<1.19.0,>=1.16.0, but you'll have numpy 1.19.5 which is incompatible.\u001b[0m\n",
            "\u001b[31mERROR: azureml-opendatasets 1.19.0 has requirement azureml-core~=1.19.0, but you'll have azureml-core 1.20.0 which is incompatible.\u001b[0m\n",
            "\u001b[31mERROR: azureml-opendatasets 1.19.0 has requirement azureml-dataset-runtime[fuse,pandas]~=1.19.0, but you'll have azureml-dataset-runtime 1.20.0 which is incompatible.\u001b[0m\n",
            "\u001b[31mERROR: azureml-opendatasets 1.19.0 has requirement azureml-telemetry~=1.19.0, but you'll have azureml-telemetry 1.20.0 which is incompatible.\u001b[0m\n",
            "\u001b[31mERROR: azureml-opendatasets 1.19.0 has requirement numpy<=1.19.0,>=1.16.0, but you'll have numpy 1.19.5 which is incompatible.\u001b[0m\n",
            "\u001b[31mERROR: azureml-opendatasets 1.19.0 has requirement scipy<=1.4.1,>=1.0.0, but you'll have scipy 1.5.2 which is incompatible.\u001b[0m\n",
            "\u001b[31mERROR: azureml-mlflow 1.19.0 has requirement azureml-core~=1.19.0, but you'll have azureml-core 1.20.0 which is incompatible.\u001b[0m\n",
            "\u001b[31mERROR: azureml-explain-model 1.19.0 has requirement azureml-interpret~=1.19.0, but you'll have azureml-interpret 1.20.0 which is incompatible.\u001b[0m\n",
            "\u001b[31mERROR: azureml-datadrift 1.19.0 has requirement azureml-core~=1.19.0, but you'll have azureml-core 1.20.0 which is incompatible.\u001b[0m\n",
            "\u001b[31mERROR: azureml-datadrift 1.19.0 has requirement azureml-dataset-runtime[fuse,pandas]~=1.19.0, but you'll have azureml-dataset-runtime 1.20.0 which is incompatible.\u001b[0m\n",
            "\u001b[31mERROR: azureml-datadrift 1.19.0 has requirement azureml-pipeline-core~=1.19.0, but you'll have azureml-pipeline-core 1.20.0 which is incompatible.\u001b[0m\n",
            "\u001b[31mERROR: azureml-datadrift 1.19.0 has requirement azureml-telemetry~=1.19.0, but you'll have azureml-telemetry 1.20.0 which is incompatible.\u001b[0m\n",
            "\u001b[31mERROR: azureml-contrib-services 1.19.0 has requirement azureml-core~=1.19.0, but you'll have azureml-core 1.20.0 which is incompatible.\u001b[0m\n",
            "\u001b[31mERROR: azureml-contrib-server 1.19.0 has requirement azureml-core~=1.19.0, but you'll have azureml-core 1.20.0 which is incompatible.\u001b[0m\n",
            "\u001b[31mERROR: azureml-contrib-reinforcementlearning 1.19.0 has requirement azureml-core~=1.19.0, but you'll have azureml-core 1.20.0 which is incompatible.\u001b[0m\n",
            "\u001b[31mERROR: azureml-contrib-reinforcementlearning 1.19.0 has requirement azureml-train-core~=1.19.0, but you'll have azureml-train-core 1.20.0 which is incompatible.\u001b[0m\n",
            "\u001b[31mERROR: azureml-contrib-pipeline-steps 1.19.0 has requirement azureml-core~=1.19.0, but you'll have azureml-core 1.20.0 which is incompatible.\u001b[0m\n",
            "\u001b[31mERROR: azureml-contrib-pipeline-steps 1.19.0 has requirement azureml-dataset-runtime~=1.19.0, but you'll have azureml-dataset-runtime 1.20.0 which is incompatible.\u001b[0m\n",
            "\u001b[31mERROR: azureml-contrib-pipeline-steps 1.19.0 has requirement azureml-pipeline-core~=1.19.0, but you'll have azureml-pipeline-core 1.20.0 which is incompatible.\u001b[0m\n",
            "\u001b[31mERROR: azureml-contrib-notebook 1.19.0 has requirement azureml-core~=1.19.0, but you'll have azureml-core 1.20.0 which is incompatible.\u001b[0m\n",
            "\u001b[31mERROR: azureml-contrib-notebook 1.19.0 has requirement azureml-pipeline-core~=1.19.0, but you'll have azureml-pipeline-core 1.20.0 which is incompatible.\u001b[0m\n",
            "\u001b[31mERROR: azureml-contrib-interpret 1.19.0 has requirement azureml-interpret~=1.19.0, but you'll have azureml-interpret 1.20.0 which is incompatible.\u001b[0m\n",
            "\u001b[31mERROR: azureml-contrib-gbdt 1.19.0 has requirement azureml-core~=1.19.0, but you'll have azureml-core 1.20.0 which is incompatible.\u001b[0m\n",
            "\u001b[31mERROR: azureml-contrib-gbdt 1.19.0 has requirement azureml-train-core~=1.19.0, but you'll have azureml-train-core 1.20.0 which is incompatible.\u001b[0m\n",
            "\u001b[31mERROR: azureml-contrib-fairness 1.19.0 has requirement azureml-core~=1.19.0, but you'll have azureml-core 1.20.0 which is incompatible.\u001b[0m\n",
            "\u001b[31mERROR: azureml-contrib-dataset 1.19.0 has requirement azureml-core~=1.19.0, but you'll have azureml-core 1.20.0 which is incompatible.\u001b[0m\n",
            "\u001b[31mERROR: azureml-contrib-dataset 1.19.0 has requirement azureml-dataset-runtime[fuse,pandas]~=1.19.0, but you'll have azureml-dataset-runtime 1.20.0 which is incompatible.\u001b[0m\n",
            "\u001b[31mERROR: azureml-cli-common 1.19.0 has requirement azureml-core~=1.19.0, but you'll have azureml-core 1.20.0 which is incompatible.\u001b[0m\n",
            "\u001b[31mERROR: azureml-cli-common 1.19.0 has requirement azureml-pipeline-core~=1.19.0, but you'll have azureml-pipeline-core 1.20.0 which is incompatible.\u001b[0m\n",
            "\u001b[31mERROR: azureml-cli-common 1.19.0 has requirement azureml-train-core~=1.19.0; python_version >= \"3.5\", but you'll have azureml-train-core 1.20.0 which is incompatible.\u001b[0m\n",
            "\u001b[31mERROR: azureml-automl-runtime 1.20.0 has requirement numpy<1.19.0,>=1.16.0, but you'll have numpy 1.19.5 which is incompatible.\u001b[0m\n",
            "\u001b[31mERROR: azureml-accel-models 1.19.0 has requirement azureml-core~=1.19.0, but you'll have azureml-core 1.20.0 which is incompatible.\u001b[0m\n",
            "\u001b[31mERROR: azure-cli 2.17.1 has requirement azure-graphrbac~=0.60.0, but you'll have azure-graphrbac 0.61.1 which is incompatible.\u001b[0m\n",
            "\u001b[31mERROR: azure-cli 2.17.1 has requirement azure-mgmt-containerregistry==3.0.0rc16, but you'll have azure-mgmt-containerregistry 2.8.0 which is incompatible.\u001b[0m\n",
            "\u001b[31mERROR: azure-cli 2.17.1 has requirement azure-mgmt-keyvault==8.0.0, but you'll have azure-mgmt-keyvault 2.2.0 which is incompatible.\u001b[0m\n",
            "\u001b[31mERROR: azure-cli 2.17.1 has requirement azure-mgmt-resource==10.3.0, but you'll have azure-mgmt-resource 12.0.0 which is incompatible.\u001b[0m\n",
            "\u001b[31mERROR: azure-cli 2.17.1 has requirement azure-mgmt-storage~=16.0.0, but you'll have azure-mgmt-storage 11.2.0 which is incompatible.\u001b[0m\n",
            "\u001b[31mERROR: azure-cli 2.17.1 has requirement cryptography<3.0.0,>=2.3.1, but you'll have cryptography 3.3.1 which is incompatible.\u001b[0m\n",
            "\u001b[31mERROR: azure-cli 2.17.1 has requirement pytz==2019.1, but you'll have pytz 2020.5 which is incompatible.\u001b[0m\n",
            "\u001b[31mERROR: azure-cli 2.17.1 has requirement websocket-client~=0.56.0, but you'll have websocket-client 0.57.0 which is incompatible.\u001b[0m\n",
            "\u001b[31mERROR: azure-cli-core 2.17.1 has requirement azure-mgmt-core==1.2.1, but you'll have azure-mgmt-core 1.2.2 which is incompatible.\u001b[0m\n",
            "\u001b[31mERROR: azure-cli-core 2.17.1 has requirement msal~=1.0.0, but you'll have msal 1.8.0 which is incompatible.\u001b[0m\n",
            "\u001b[31mERROR: azure-cli-core 2.17.1 has requirement msal-extensions~=0.1.3, but you'll have msal-extensions 0.2.2 which is incompatible.\u001b[0m\n",
            "\u001b[31mERROR: aiohttp 3.7.3 has requirement chardet<4.0,>=2.0, but you'll have chardet 4.0.0 which is incompatible.\u001b[0m\n",
            "Installing collected packages: numpy, pytz, urllib3, cryptography, chardet, certifi, requests, azure-mgmt-resource, docker, importlib-metadata, jsonpickle, dotnetcore2, azure-core, msal\n",
            "  Attempting uninstall: numpy\n",
            "    Found existing installation: numpy 1.18.5\n",
            "    Uninstalling numpy-1.18.5:\n",
            "      Successfully uninstalled numpy-1.18.5\n",
            "  Attempting uninstall: pytz\n",
            "    Found existing installation: pytz 2020.4\n",
            "    Uninstalling pytz-2020.4:\n",
            "      Successfully uninstalled pytz-2020.4\n",
            "  Attempting uninstall: urllib3\n",
            "    Found existing installation: urllib3 1.25.11\n",
            "    Uninstalling urllib3-1.25.11:\n",
            "      Successfully uninstalled urllib3-1.25.11\n",
            "  Attempting uninstall: cryptography\n",
            "    Found existing installation: cryptography 3.2.1\n",
            "    Uninstalling cryptography-3.2.1:\n",
            "      Successfully uninstalled cryptography-3.2.1\n",
            "  Attempting uninstall: chardet\n",
            "    Found existing installation: chardet 3.0.4\n",
            "    Uninstalling chardet-3.0.4:\n",
            "      Successfully uninstalled chardet-3.0.4\n",
            "  Attempting uninstall: certifi\n",
            "    Found existing installation: certifi 2020.11.8\n",
            "    Uninstalling certifi-2020.11.8:\n",
            "      Successfully uninstalled certifi-2020.11.8\n",
            "  Attempting uninstall: requests\n",
            "    Found existing installation: requests 2.25.0\n",
            "    Uninstalling requests-2.25.0:\n",
            "      Successfully uninstalled requests-2.25.0\n",
            "  Attempting uninstall: azure-mgmt-resource\n",
            "    Found existing installation: azure-mgmt-resource 10.3.0\n",
            "    Uninstalling azure-mgmt-resource-10.3.0:\n",
            "      Successfully uninstalled azure-mgmt-resource-10.3.0\n",
            "  Attempting uninstall: docker\n",
            "    Found existing installation: docker 4.4.0\n",
            "    Uninstalling docker-4.4.0:\n",
            "      Successfully uninstalled docker-4.4.0\n",
            "  Attempting uninstall: importlib-metadata\n",
            "    Found existing installation: importlib-metadata 3.1.1\n",
            "    Uninstalling importlib-metadata-3.1.1:\n",
            "      Successfully uninstalled importlib-metadata-3.1.1\n",
            "  Attempting uninstall: jsonpickle\n",
            "    Found existing installation: jsonpickle 1.4.2\n",
            "    Uninstalling jsonpickle-1.4.2:\n",
            "      Successfully uninstalled jsonpickle-1.4.2\n",
            "  Attempting uninstall: dotnetcore2\n",
            "    Found existing installation: dotnetcore2 2.1.19\n",
            "    Uninstalling dotnetcore2-2.1.19:\n",
            "      Successfully uninstalled dotnetcore2-2.1.19\n",
            "  Attempting uninstall: azure-core\n",
            "    Found existing installation: azure-core 1.9.0\n",
            "    Uninstalling azure-core-1.9.0:\n",
            "      Successfully uninstalled azure-core-1.9.0\n",
            "  Attempting uninstall: msal\n",
            "    Found existing installation: msal 1.6.0\n",
            "    Uninstalling msal-1.6.0:\n",
            "      Successfully uninstalled msal-1.6.0\n",
            "Successfully installed azure-core-1.10.0 azure-mgmt-resource-12.0.0 certifi-2020.12.5 chardet-4.0.0 cryptography-3.3.1 docker-4.4.1 dotnetcore2-2.1.20 importlib-metadata-3.4.0 jsonpickle-1.5.0 msal-1.8.0 numpy-1.19.5 pytz-2020.5 requests-2.25.1 urllib3-1.26.2\n"
          ]
        }
      ],
      "execution_count": 11,
      "metadata": {
        "collapsed": true,
        "jupyter": {
          "source_hidden": false,
          "outputs_hidden": false
        },
        "nteract": {
          "transient": {
            "deleting": false
          }
        }
      }
    },
    {
      "cell_type": "markdown",
      "source": [
        "## Best Model"
      ],
      "metadata": {
        "nteract": {
          "transient": {
            "deleting": false
          }
        }
      }
    },
    {
      "cell_type": "code",
      "source": [
        "best_automl_run, fitted_model = remote_run.get_output()\r\n",
        "print(best_automl_run)\r\n",
        "print(fitted_model)"
      ],
      "outputs": [
        {
          "output_type": "stream",
          "name": "stdout",
          "text": [
            "Run(Experiment: ideb-regression,\n",
            "Id: AutoML_867f2963-9a49-44fb-93e9-7f304aa4d725_35,\n",
            "Type: azureml.scriptrun,\n",
            "Status: Completed)\n",
            "RegressionPipeline(pipeline=Pipeline(memory=None,\n",
            "                                     steps=[('datatransformer',\n",
            "                                             DataTransformer(enable_dnn=None,\n",
            "                                                             enable_feature_sweeping=None,\n",
            "                                                             feature_sweeping_config=None,\n",
            "                                                             feature_sweeping_timeout=None,\n",
            "                                                             featurization_config=None,\n",
            "                                                             force_text_dnn=None,\n",
            "                                                             is_cross_validation=None,\n",
            "                                                             is_onnx_compatible=None,\n",
            "                                                             logger=None,\n",
            "                                                             observer=None,\n",
            "                                                             task=None,\n",
            "                                                             working_dir=None)),\n",
            "                                            ('pre...\n",
            "                                                                                                       ('lassolars',\n",
            "                                                                                                        LassoLars(alpha=0.001,\n",
            "                                                                                                                  copy_X=True,\n",
            "                                                                                                                  eps=2.220446049250313e-16,\n",
            "                                                                                                                  fit_intercept=True,\n",
            "                                                                                                                  fit_path=True,\n",
            "                                                                                                                  max_iter=500,\n",
            "                                                                                                                  normalize=False,\n",
            "                                                                                                                  positive=False,\n",
            "                                                                                                                  precompute='auto',\n",
            "                                                                                                                  verbose=False))],\n",
            "                                                                                                verbose=False))],\n",
            "                                                                          weights=[0.26666666666666666,\n",
            "                                                                                   0.2,\n",
            "                                                                                   0.2,\n",
            "                                                                                   0.06666666666666667,\n",
            "                                                                                   0.06666666666666667,\n",
            "                                                                                   0.06666666666666667,\n",
            "                                                                                   0.13333333333333333]))],\n",
            "                                     verbose=False),\n",
            "                   stddev=None)\n"
          ]
        }
      ],
      "execution_count": 12,
      "metadata": {
        "collapsed": true,
        "jupyter": {
          "source_hidden": false,
          "outputs_hidden": false
        },
        "nteract": {
          "transient": {
            "deleting": false
          }
        },
        "gather": {
          "logged": 1611281564993
        }
      }
    },
    {
      "cell_type": "code",
      "source": [
        "best_automl_run_metrics = best_automl_run.get_metrics()\r\n",
        "best_automl_run_metrics"
      ],
      "outputs": [
        {
          "output_type": "execute_result",
          "execution_count": 14,
          "data": {
            "text/plain": "{'mean_absolute_error': 0.029116858816360495,\n 'normalized_median_absolute_error': 0.003976936118452571,\n 'normalized_root_mean_squared_log_error': 0.005984790055152333,\n 'spearman_correlation': 0.9988538379347626,\n 'normalized_mean_absolute_error': 0.004549509190056327,\n 'r2_score': 0.997803647174114,\n 'explained_variance': 0.9978046527882583,\n 'normalized_root_mean_squared_error': 0.005878769186393657,\n 'root_mean_squared_log_error': 0.00796224789426758,\n 'root_mean_squared_error': 0.03762412279291941,\n 'median_absolute_error': 0.025452391158096454,\n 'mean_absolute_percentage_error': 0.7356982514360096,\n 'residuals': 'aml://artifactId/ExperimentRun/dcid.AutoML_867f2963-9a49-44fb-93e9-7f304aa4d725_35/residuals',\n 'predicted_true': 'aml://artifactId/ExperimentRun/dcid.AutoML_867f2963-9a49-44fb-93e9-7f304aa4d725_35/predicted_true'}"
          },
          "metadata": {}
        }
      ],
      "execution_count": 14,
      "metadata": {
        "collapsed": true,
        "jupyter": {
          "source_hidden": false,
          "outputs_hidden": false
        },
        "nteract": {
          "transient": {
            "deleting": false
          }
        },
        "gather": {
          "logged": 1611281627689
        }
      }
    },
    {
      "cell_type": "markdown",
      "source": [
        "## Save the best model"
      ],
      "metadata": {
        "nteract": {
          "transient": {
            "deleting": false
          }
        }
      }
    },
    {
      "cell_type": "code",
      "source": [
        "import joblib  \r\n",
        "joblib.dump(fitted_model, \"./model.pkl\")"
      ],
      "outputs": [
        {
          "output_type": "execute_result",
          "execution_count": 15,
          "data": {
            "text/plain": "['./model.pkl']"
          },
          "metadata": {}
        }
      ],
      "execution_count": 15,
      "metadata": {
        "collapsed": true,
        "jupyter": {
          "source_hidden": false,
          "outputs_hidden": false
        },
        "nteract": {
          "transient": {
            "deleting": false
          }
        },
        "gather": {
          "logged": 1611281636139
        }
      }
    },
    {
      "cell_type": "code",
      "source": [
        "script_file = 'score.py'\r\n",
        "best_automl_run.download_file('outputs/scoring_file_v_1_0_0.py', script_file)"
      ],
      "outputs": [],
      "execution_count": 18,
      "metadata": {
        "collapsed": true,
        "jupyter": {
          "source_hidden": false,
          "outputs_hidden": false
        },
        "nteract": {
          "transient": {
            "deleting": false
          }
        },
        "gather": {
          "logged": 1611281688003
        }
      }
    },
    {
      "cell_type": "code",
      "source": [
        "os.listdir(os.curdir), os.getcwd()"
      ],
      "outputs": [
        {
          "output_type": "execute_result",
          "execution_count": 19,
          "data": {
            "text/plain": "(['.azureml',\n  '.config',\n  '.ipynb_aml_checkpoints',\n  '.ipynb_checkpoints',\n  'automl.ipynb',\n  'automl.ipynb.amltemp',\n  'automl.log',\n  'automl_errors.log',\n  'automl_old.ipynb',\n  'automl_old.ipynb.amltemp',\n  'azureml_automl.log',\n  'conda_dependencies.yml',\n  'config.json',\n  'hyperparameter_tuning.ipynb',\n  'hyperparameter_tuning.ipynb.amltemp',\n  'model.pkl',\n  'outputs',\n  'score.py',\n  'train.py',\n  'train.py.amltemp'],\n '/mnt/batch/tasks/shared/LS_root/mounts/clusters/automl-cluster/code/Users/anderson12')"
          },
          "metadata": {}
        }
      ],
      "execution_count": 19,
      "metadata": {
        "collapsed": true,
        "jupyter": {
          "source_hidden": false,
          "outputs_hidden": false
        },
        "nteract": {
          "transient": {
            "deleting": false
          }
        },
        "gather": {
          "logged": 1611281692432
        }
      }
    },
    {
      "cell_type": "markdown",
      "source": [
        "## Environment\r\n"
      ],
      "metadata": {
        "nteract": {
          "transient": {
            "deleting": false
          }
        }
      }
    },
    {
      "cell_type": "code",
      "source": [
        "from azureml.core.environment import Environment\r\n",
        "from azureml.core.conda_dependencies import CondaDependencies\r\n",
        "\r\n",
        "env = Environment.get(workspace=ws, name=\"AzureML-Tutorial\")\r\n",
        "#env.python.conda_dependencies.add_pip_package(\"scikit-learn\")\r\n",
        "#env = Environment.from_conda_specification(name='automl',file_path='conda_dependencies.yml')"
      ],
      "outputs": [],
      "execution_count": 20,
      "metadata": {
        "collapsed": true,
        "jupyter": {
          "source_hidden": false,
          "outputs_hidden": false
        },
        "nteract": {
          "transient": {
            "deleting": false
          }
        },
        "gather": {
          "logged": 1611281713201
        }
      }
    },
    {
      "cell_type": "markdown",
      "source": [
        "## Model Deployment"
      ],
      "metadata": {
        "nteract": {
          "transient": {
            "deleting": false
          }
        }
      }
    },
    {
      "cell_type": "code",
      "source": [
        "from azureml.core.model import InferenceConfig\r\n",
        "from azureml.core.webservice import AciWebservice, Webservice\r\n",
        "\r\n",
        "\r\n",
        "from azureml.core.model import InferenceConfig, Model\r\n",
        "from azureml.core.webservice import AciWebservice, Webservice\r\n",
        "\r\n",
        "# Register the model to deploy\r\n",
        "model = best_automl_run.register_model(model_name = \"best_automl_model\", model_path = \"outputs/model.pkl\", description = \"Best model trained with AutoML\")\r\n",
        "\r\n",
        "# Combine scoring script & environment in Inference configuration\r\n",
        "inference_config = InferenceConfig(entry_script=\"score.py\", environment=env)\r\n",
        "\r\n",
        "# Set deployment configuration\r\n",
        "deployment_config = AciWebservice.deploy_configuration(cpu_cores = 1, memory_gb = 1)\r\n",
        "\r\n",
        "# Define the model, inference, & deployment configuration and web service name and location to deploy\r\n",
        "service = Model.deploy(\r\n",
        "    workspace = ws,\r\n",
        "    name = \"ideb-service\",\r\n",
        "    models = [model],\r\n",
        "    inference_config = inference_config,\r\n",
        "    deployment_config = deployment_config)\r\n",
        "\r\n",
        "service.wait_for_deployment(show_output=True)\r\n",
        "print(service.state)"
      ],
      "outputs": [
        {
          "output_type": "stream",
          "name": "stdout",
          "text": [
            "Tips: You can try get_logs(): https://aka.ms/debugimage#dockerlog or local deployment: https://aka.ms/debugimage#debug-locally to debug if deployment takes longer than 10 minutes.\n",
            "Running......................................................................................\n",
            "Failed\n"
          ]
        },
        {
          "output_type": "stream",
          "name": "stderr",
          "text": [
            "ERROR:azureml.core.webservice.webservice:Service deployment polling reached non-successful terminal state, current service state: Failed\n",
            "Operation ID: 0601010e-5fb5-4d7d-a157-d970d638e049\n",
            "More information can be found using '.get_logs()'\n",
            "Error:\n",
            "{\n",
            "  \"code\": \"AciDeploymentFailed\",\n",
            "  \"message\": \"Aci Deployment failed with exception: Error in entry script, ModuleNotFoundError: No module named 'inference_schema', please run print(service.get_logs()) to get details.\",\n",
            "  \"details\": [\n",
            "    {\n",
            "      \"code\": \"CrashLoopBackOff\",\n",
            "      \"message\": \"Error in entry script, ModuleNotFoundError: No module named 'inference_schema', please run print(service.get_logs()) to get details.\"\n",
            "    }\n",
            "  ]\n",
            "}\n",
            "\n"
          ]
        },
        {
          "output_type": "error",
          "ename": "WebserviceException",
          "evalue": "WebserviceException:\n\tMessage: Service deployment polling reached non-successful terminal state, current service state: Failed\nOperation ID: 0601010e-5fb5-4d7d-a157-d970d638e049\nMore information can be found using '.get_logs()'\nError:\n{\n  \"code\": \"AciDeploymentFailed\",\n  \"message\": \"Aci Deployment failed with exception: Error in entry script, ModuleNotFoundError: No module named 'inference_schema', please run print(service.get_logs()) to get details.\",\n  \"details\": [\n    {\n      \"code\": \"CrashLoopBackOff\",\n      \"message\": \"Error in entry script, ModuleNotFoundError: No module named 'inference_schema', please run print(service.get_logs()) to get details.\"\n    }\n  ]\n}\n\tInnerException None\n\tErrorResponse \n{\n    \"error\": {\n        \"message\": \"Service deployment polling reached non-successful terminal state, current service state: Failed\\nOperation ID: 0601010e-5fb5-4d7d-a157-d970d638e049\\nMore information can be found using '.get_logs()'\\nError:\\n{\\n  \\\"code\\\": \\\"AciDeploymentFailed\\\",\\n  \\\"message\\\": \\\"Aci Deployment failed with exception: Error in entry script, ModuleNotFoundError: No module named 'inference_schema', please run print(service.get_logs()) to get details.\\\",\\n  \\\"details\\\": [\\n    {\\n      \\\"code\\\": \\\"CrashLoopBackOff\\\",\\n      \\\"message\\\": \\\"Error in entry script, ModuleNotFoundError: No module named 'inference_schema', please run print(service.get_logs()) to get details.\\\"\\n    }\\n  ]\\n}\"\n    }\n}",
          "traceback": [
            "\u001b[0;31m---------------------------------------------------------------------------\u001b[0m",
            "\u001b[0;31mWebserviceException\u001b[0m                       Traceback (most recent call last)",
            "\u001b[0;32m<ipython-input-24-4c9f7f9b2f63>\u001b[0m in \u001b[0;36m<module>\u001b[0;34m\u001b[0m\n\u001b[1;32m     23\u001b[0m     deployment_config = deployment_config)\n\u001b[1;32m     24\u001b[0m \u001b[0;34m\u001b[0m\u001b[0m\n\u001b[0;32m---> 25\u001b[0;31m \u001b[0mservice\u001b[0m\u001b[0;34m.\u001b[0m\u001b[0mwait_for_deployment\u001b[0m\u001b[0;34m(\u001b[0m\u001b[0mshow_output\u001b[0m\u001b[0;34m=\u001b[0m\u001b[0;32mTrue\u001b[0m\u001b[0;34m)\u001b[0m\u001b[0;34m\u001b[0m\u001b[0;34m\u001b[0m\u001b[0m\n\u001b[0m\u001b[1;32m     26\u001b[0m \u001b[0mprint\u001b[0m\u001b[0;34m(\u001b[0m\u001b[0mservice\u001b[0m\u001b[0;34m.\u001b[0m\u001b[0mstate\u001b[0m\u001b[0;34m)\u001b[0m\u001b[0;34m\u001b[0m\u001b[0;34m\u001b[0m\u001b[0m\n",
            "\u001b[0;32m/anaconda/envs/azureml_py36/lib/python3.6/site-packages/azureml/core/webservice/webservice.py\u001b[0m in \u001b[0;36mwait_for_deployment\u001b[0;34m(self, show_output, timeout_sec)\u001b[0m\n\u001b[1;32m    913\u001b[0m                                           \u001b[0;34m'Error:\\n'\u001b[0m\u001b[0;34m\u001b[0m\u001b[0;34m\u001b[0m\u001b[0m\n\u001b[1;32m    914\u001b[0m                                           '{}'.format(self.state, self._operation_endpoint.split('/')[-1],\n\u001b[0;32m--> 915\u001b[0;31m                                                       logs_response, error_response), logger=module_logger)\n\u001b[0m\u001b[1;32m    916\u001b[0m             print('{} service creation operation finished, operation \"{}\"'.format(self._webservice_type,\n\u001b[1;32m    917\u001b[0m                                                                                   operation_state))\n",
            "\u001b[0;31mWebserviceException\u001b[0m: WebserviceException:\n\tMessage: Service deployment polling reached non-successful terminal state, current service state: Failed\nOperation ID: 0601010e-5fb5-4d7d-a157-d970d638e049\nMore information can be found using '.get_logs()'\nError:\n{\n  \"code\": \"AciDeploymentFailed\",\n  \"message\": \"Aci Deployment failed with exception: Error in entry script, ModuleNotFoundError: No module named 'inference_schema', please run print(service.get_logs()) to get details.\",\n  \"details\": [\n    {\n      \"code\": \"CrashLoopBackOff\",\n      \"message\": \"Error in entry script, ModuleNotFoundError: No module named 'inference_schema', please run print(service.get_logs()) to get details.\"\n    }\n  ]\n}\n\tInnerException None\n\tErrorResponse \n{\n    \"error\": {\n        \"message\": \"Service deployment polling reached non-successful terminal state, current service state: Failed\\nOperation ID: 0601010e-5fb5-4d7d-a157-d970d638e049\\nMore information can be found using '.get_logs()'\\nError:\\n{\\n  \\\"code\\\": \\\"AciDeploymentFailed\\\",\\n  \\\"message\\\": \\\"Aci Deployment failed with exception: Error in entry script, ModuleNotFoundError: No module named 'inference_schema', please run print(service.get_logs()) to get details.\\\",\\n  \\\"details\\\": [\\n    {\\n      \\\"code\\\": \\\"CrashLoopBackOff\\\",\\n      \\\"message\\\": \\\"Error in entry script, ModuleNotFoundError: No module named 'inference_schema', please run print(service.get_logs()) to get details.\\\"\\n    }\\n  ]\\n}\"\n    }\n}"
          ]
        }
      ],
      "execution_count": 24,
      "metadata": {
        "collapsed": true,
        "jupyter": {
          "source_hidden": false,
          "outputs_hidden": false
        },
        "nteract": {
          "transient": {
            "deleting": false
          }
        },
        "gather": {
          "logged": 1610570485523
        }
      }
    },
    {
      "cell_type": "code",
      "source": [
        "print(service.get_logs())"
      ],
      "outputs": [
        {
          "output_type": "stream",
          "name": "stdout",
          "text": [
            "2021-01-22T02:27:39,152566363+00:00 - gunicorn/run \n",
            "2021-01-22T02:27:39,152293661+00:00 - iot-server/run \n",
            "2021-01-22T02:27:39,154840576+00:00 - rsyslog/run \n",
            "2021-01-22T02:27:39,160087806+00:00 - nginx/run \n",
            "/usr/sbin/nginx: /azureml-envs/azureml_a1736710baabf05d37337a101fa8d6d1/lib/libcrypto.so.1.0.0: no version information available (required by /usr/sbin/nginx)\n",
            "/usr/sbin/nginx: /azureml-envs/azureml_a1736710baabf05d37337a101fa8d6d1/lib/libcrypto.so.1.0.0: no version information available (required by /usr/sbin/nginx)\n",
            "/usr/sbin/nginx: /azureml-envs/azureml_a1736710baabf05d37337a101fa8d6d1/lib/libssl.so.1.0.0: no version information available (required by /usr/sbin/nginx)\n",
            "/usr/sbin/nginx: /azureml-envs/azureml_a1736710baabf05d37337a101fa8d6d1/lib/libssl.so.1.0.0: no version information available (required by /usr/sbin/nginx)\n",
            "/usr/sbin/nginx: /azureml-envs/azureml_a1736710baabf05d37337a101fa8d6d1/lib/libssl.so.1.0.0: no version information available (required by /usr/sbin/nginx)\n",
            "rsyslogd: /azureml-envs/azureml_a1736710baabf05d37337a101fa8d6d1/lib/libuuid.so.1: no version information available (required by rsyslogd)\n",
            "EdgeHubConnectionString and IOTEDGE_IOTHUBHOSTNAME are not set. Exiting...\n",
            "2021-01-22T02:27:39,327177467+00:00 - iot-server/finish 1 0\n",
            "2021-01-22T02:27:39,328737176+00:00 - Exit code 1 is normal. Not restarting iot-server.\n",
            "Starting gunicorn 19.9.0\n",
            "Listening at: http://127.0.0.1:31311 (13)\n",
            "Using worker: sync\n",
            "worker timeout is set to 300\n",
            "Booting worker with pid: 36\n",
            "SPARK_HOME not set. Skipping PySpark Initialization.\n",
            "Exception in worker process\n",
            "Traceback (most recent call last):\n",
            "  File \"/azureml-envs/azureml_a1736710baabf05d37337a101fa8d6d1/lib/python3.6/site-packages/gunicorn/arbiter.py\", line 583, in spawn_worker\n",
            "    worker.init_process()\n",
            "  File \"/azureml-envs/azureml_a1736710baabf05d37337a101fa8d6d1/lib/python3.6/site-packages/gunicorn/workers/base.py\", line 129, in init_process\n",
            "    self.load_wsgi()\n",
            "  File \"/azureml-envs/azureml_a1736710baabf05d37337a101fa8d6d1/lib/python3.6/site-packages/gunicorn/workers/base.py\", line 138, in load_wsgi\n",
            "    self.wsgi = self.app.wsgi()\n",
            "  File \"/azureml-envs/azureml_a1736710baabf05d37337a101fa8d6d1/lib/python3.6/site-packages/gunicorn/app/base.py\", line 67, in wsgi\n",
            "    self.callable = self.load()\n",
            "  File \"/azureml-envs/azureml_a1736710baabf05d37337a101fa8d6d1/lib/python3.6/site-packages/gunicorn/app/wsgiapp.py\", line 52, in load\n",
            "    return self.load_wsgiapp()\n",
            "  File \"/azureml-envs/azureml_a1736710baabf05d37337a101fa8d6d1/lib/python3.6/site-packages/gunicorn/app/wsgiapp.py\", line 41, in load_wsgiapp\n",
            "    return util.import_app(self.app_uri)\n",
            "  File \"/azureml-envs/azureml_a1736710baabf05d37337a101fa8d6d1/lib/python3.6/site-packages/gunicorn/util.py\", line 350, in import_app\n",
            "    __import__(module)\n",
            "  File \"/var/azureml-server/wsgi.py\", line 1, in <module>\n",
            "    import create_app\n",
            "  File \"/var/azureml-server/create_app.py\", line 3, in <module>\n",
            "    from app import main\n",
            "  File \"/var/azureml-server/app.py\", line 32, in <module>\n",
            "    from aml_blueprint import AMLBlueprint\n",
            "  File \"/var/azureml-server/aml_blueprint.py\", line 35, in <module>\n",
            "    import main\n",
            "  File \"/var/azureml-app/main.py\", line 12, in <module>\n",
            "    driver_module_spec.loader.exec_module(driver_module)\n",
            "  File \"/var/azureml-app/score.py\", line 16, in <module>\n",
            "    from inference_schema.schema_decorators import input_schema, output_schema\n",
            "ModuleNotFoundError: No module named 'inference_schema'\n",
            "Worker exiting (pid: 36)\n",
            "Shutting down: Master\n",
            "Reason: Worker failed to boot.\n",
            "2021-01-22T02:27:40,704091989+00:00 - gunicorn/finish 3 0\n",
            "2021-01-22T02:27:40,705116094+00:00 - Exit code 3 is not normal. Killing image.\n",
            "\n"
          ]
        }
      ],
      "execution_count": 25,
      "metadata": {
        "collapsed": true,
        "jupyter": {
          "source_hidden": false,
          "outputs_hidden": false
        },
        "nteract": {
          "transient": {
            "deleting": false
          }
        },
        "gather": {
          "logged": 1611282579350
        }
      }
    },
    {
      "cell_type": "markdown",
      "source": [
        "## Test the Deploy model"
      ],
      "metadata": {
        "nteract": {
          "transient": {
            "deleting": false
          }
        }
      }
    },
    {
      "cell_type": "code",
      "source": [
        "scoring_uri = service.scoring_uri\r\n",
        "\r\n",
        "print(f'\\nservice state: {service.state}\\n')\r\n",
        "print(f'scoring URI: \\n{service.scoring_uri}\\n')\r\n",
        "print(f'swagger URI: \\n{service.swagger_uri}\\n')\r\n",
        "\r\n",
        "print(service.scoring_uri)\r\n",
        "print(service.swagger_uri)"
      ],
      "outputs": [],
      "execution_count": null,
      "metadata": {
        "collapsed": true,
        "jupyter": {
          "source_hidden": false,
          "outputs_hidden": false
        },
        "nteract": {
          "transient": {
            "deleting": false
          }
        },
        "gather": {
          "logged": 1610581799844
        }
      }
    },
    {
      "cell_type": "code",
      "source": [
        "scoring_uri='http://8d460a6f-6b7c-4e77-a2c1-5c5bb835e7ab.eastus.azurecontainer.io/score'\r\n",
        "key=''\r\n",
        "headers = {'Content-Type': 'application/json'}"
      ],
      "outputs": [],
      "execution_count": null,
      "metadata": {
        "collapsed": true,
        "jupyter": {
          "source_hidden": false,
          "outputs_hidden": false
        },
        "nteract": {
          "transient": {
            "deleting": false
          }
        }
      }
    },
    {
      "cell_type": "code",
      "source": [
        "import json\r\n",
        "\r\n",
        "test_sample = json.dumps({'ideb_dataset': x[0:2].tolist()})\r\n",
        "\r\n",
        "prediction = service.run(test_sample)\r\n",
        "\r\n",
        "print(prediction)"
      ],
      "outputs": [],
      "execution_count": null,
      "metadata": {
        "collapsed": true,
        "jupyter": {
          "source_hidden": false,
          "outputs_hidden": false
        },
        "nteract": {
          "transient": {
            "deleting": false
          }
        }
      }
    },
    {
      "cell_type": "markdown",
      "source": [
        "## View the service logs"
      ],
      "metadata": {
        "nteract": {
          "transient": {
            "deleting": false
          }
        }
      }
    },
    {
      "cell_type": "code",
      "source": [
        "service.get_logs()\r\n"
      ],
      "outputs": [],
      "execution_count": null,
      "metadata": {
        "collapsed": true,
        "jupyter": {
          "source_hidden": false,
          "outputs_hidden": false
        },
        "nteract": {
          "transient": {
            "deleting": false
          }
        },
        "gather": {
          "logged": 1611029802243
        }
      }
    },
    {
      "cell_type": "code",
      "source": [
        "service.delete()"
      ],
      "outputs": [],
      "execution_count": null,
      "metadata": {
        "collapsed": true,
        "jupyter": {
          "source_hidden": false,
          "outputs_hidden": false
        },
        "nteract": {
          "transient": {
            "deleting": false
          }
        }
      }
    }
  ],
  "metadata": {
    "kernelspec": {
      "name": "python3-azureml",
      "language": "python",
      "display_name": "Python 3.6 - AzureML"
    },
    "language_info": {
      "name": "python",
      "version": "3.6.9",
      "mimetype": "text/x-python",
      "codemirror_mode": {
        "name": "ipython",
        "version": 3
      },
      "pygments_lexer": "ipython3",
      "nbconvert_exporter": "python",
      "file_extension": ".py"
    },
    "kernel_info": {
      "name": "python3-azureml"
    },
    "nteract": {
      "version": "nteract-front-end@1.0.0"
    }
  },
  "nbformat": 4,
  "nbformat_minor": 2
}
