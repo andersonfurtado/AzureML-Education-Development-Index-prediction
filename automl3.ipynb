{
  "cells": [
    {
      "cell_type": "markdown",
      "source": [
        "# Automated Machine Learning"
      ],
      "metadata": {
        "nteract": {
          "transient": {
            "deleting": false
          }
        }
      }
    },
    {
      "cell_type": "code",
      "source": [
        "\r\n",
        "from matplotlib import pyplot as plt\r\n",
        "import numpy as np\r\n",
        "import pandas as pd\r\n",
        " \r\n",
        "\r\n",
        "import azureml.core\r\n",
        "from azureml.core.experiment import Experiment\r\n",
        "from azureml.core.workspace import Workspace\r\n",
        "from azureml.core.dataset import Dataset\r\n",
        "from azureml.train.automl import AutoMLConfig\r\n",
        "from azureml.data.dataset_factory import TabularDatasetFactory\r\n",
        "\r\n",
        "# Check core SDK version number\r\n",
        "print(\"SDK version:\", azureml.core.VERSION)"
      ],
      "outputs": [
        {
          "output_type": "stream",
          "name": "stdout",
          "text": [
            "SDK version: 1.19.0\n"
          ]
        }
      ],
      "execution_count": 37,
      "metadata": {
        "gather": {
          "logged": 1610565129487
        }
      }
    },
    {
      "cell_type": "code",
      "source": [
        "ws = Workspace.from_config()\r\n",
        "print(ws.name, ws.resource_group, ws.location, ws.subscription_id, sep = '\\n')"
      ],
      "outputs": [
        {
          "output_type": "stream",
          "name": "stdout",
          "text": [
            "AZML\n",
            "RG-AZML\n",
            "eastus\n",
            "a748a023-896b-4719-8f8e-3d1ba62d6e35\n"
          ]
        }
      ],
      "execution_count": 38,
      "metadata": {
        "collapsed": true,
        "jupyter": {
          "source_hidden": false,
          "outputs_hidden": false
        },
        "nteract": {
          "transient": {
            "deleting": false
          }
        },
        "gather": {
          "logged": 1610565132405
        }
      }
    },
    {
      "cell_type": "code",
      "source": [
        "# Choose a name for the experiment.\r\n",
        "experiment_name = 'ideb-regression'\r\n",
        "\r\n",
        "experiment = Experiment(ws, experiment_name)\r\n",
        "\r\n",
        "output = {}\r\n",
        "output['Subscription ID'] = ws.subscription_id\r\n",
        "output['Workspace'] = ws.name\r\n",
        "output['Resource Group'] = ws.resource_group\r\n",
        "output['Location'] = ws.location\r\n",
        "output['Run History Name'] = experiment_name\r\n",
        "pd.set_option('display.max_colwidth', -1)\r\n",
        "outputDf = pd.DataFrame(data = output, index = [''])\r\n",
        "outputDf.T"
      ],
      "outputs": [
        {
          "output_type": "execute_result",
          "execution_count": 39,
          "data": {
            "text/plain": "                                                      \nSubscription ID   a748a023-896b-4719-8f8e-3d1ba62d6e35\nWorkspace         AZML                                \nResource Group    RG-AZML                             \nLocation          eastus                              \nRun History Name  ideb-regression                     ",
            "text/html": "<div>\n<style scoped>\n    .dataframe tbody tr th:only-of-type {\n        vertical-align: middle;\n    }\n\n    .dataframe tbody tr th {\n        vertical-align: top;\n    }\n\n    .dataframe thead th {\n        text-align: right;\n    }\n</style>\n<table border=\"1\" class=\"dataframe\">\n  <thead>\n    <tr style=\"text-align: right;\">\n      <th></th>\n      <th></th>\n    </tr>\n  </thead>\n  <tbody>\n    <tr>\n      <th>Subscription ID</th>\n      <td>a748a023-896b-4719-8f8e-3d1ba62d6e35</td>\n    </tr>\n    <tr>\n      <th>Workspace</th>\n      <td>AZML</td>\n    </tr>\n    <tr>\n      <th>Resource Group</th>\n      <td>RG-AZML</td>\n    </tr>\n    <tr>\n      <th>Location</th>\n      <td>eastus</td>\n    </tr>\n    <tr>\n      <th>Run History Name</th>\n      <td>ideb-regression</td>\n    </tr>\n  </tbody>\n</table>\n</div>"
          },
          "metadata": {}
        }
      ],
      "execution_count": 39,
      "metadata": {
        "collapsed": true,
        "jupyter": {
          "source_hidden": false,
          "outputs_hidden": false
        },
        "nteract": {
          "transient": {
            "deleting": false
          }
        },
        "gather": {
          "logged": 1610565135172
        }
      }
    },
    {
      "cell_type": "markdown",
      "source": [
        "## Using AmlCompute"
      ],
      "metadata": {
        "nteract": {
          "transient": {
            "deleting": false
          }
        }
      }
    },
    {
      "cell_type": "code",
      "source": [
        "from azureml.core.compute import ComputeTarget, AmlCompute\r\n",
        "from azureml.core.compute_target import ComputeTargetException\r\n",
        "\r\n",
        "# Choose a name for your CPU cluster\r\n",
        "cpu_cluster_name = \"automl-cluster\"\r\n",
        "\r\n",
        "# Verify that cluster does not exist already\r\n",
        "try:\r\n",
        "    compute_target = ComputeTarget(workspace=ws, name=cpu_cluster_name)\r\n",
        "    print('Found existing cluster, use it.')\r\n",
        "except ComputeTargetException:\r\n",
        "    compute_config = AmlCompute.provisioning_configuration(vm_size='STANDARD_D2_V2',\r\n",
        "                                                           max_nodes=4)\r\n",
        "    compute_target = ComputeTarget.create(ws, cpu_cluster_name, compute_config)\r\n",
        "\r\n",
        "compute_target.wait_for_completion(show_output=True)"
      ],
      "outputs": [
        {
          "output_type": "stream",
          "name": "stdout",
          "text": [
            "Found existing cluster, use it.\n",
            "Succeeded\n",
            "AmlCompute wait for completion finished\n",
            "\n",
            "Minimum number of nodes requested have been provisioned\n"
          ]
        }
      ],
      "execution_count": 40,
      "metadata": {
        "collapsed": true,
        "jupyter": {
          "source_hidden": false,
          "outputs_hidden": false
        },
        "nteract": {
          "transient": {
            "deleting": false
          }
        },
        "gather": {
          "logged": 1610565140338
        }
      }
    },
    {
      "cell_type": "markdown",
      "source": [
        "## Data"
      ],
      "metadata": {
        "nteract": {
          "transient": {
            "deleting": false
          }
        }
      }
    },
    {
      "cell_type": "markdown",
      "source": [
        "### Load Data"
      ],
      "metadata": {
        "nteract": {
          "transient": {
            "deleting": false
          }
        }
      }
    },
    {
      "cell_type": "code",
      "source": [
        "datastore = ws.get_default_datastore()\r\n",
        "path = \"data/Train.csv\"\r\n",
        "try:\r\n",
        "    ideb_dataset = Dataset.get_by_name(ws, name=\"dataset2019ideb\")\r\n",
        "except:\r\n",
        "    datastore.upload('data', target_path='data')\r\n",
        "    # Create TabularDataset & register in workspace\r\n",
        "    ideb_dataset = Dataset.Tabular.from_delimited_files([(datastore, path)])\r\n",
        "    ideb_dataset = ideb_dataset.register(\r\n",
        "        ws, name=\"ideb_dataset\", create_new_version=True,\r\n",
        "        description=\"Dataset for ideb prediction\"\r\n",
        "    )"
      ],
      "outputs": [],
      "execution_count": 46,
      "metadata": {
        "collapsed": true,
        "jupyter": {
          "source_hidden": false,
          "outputs_hidden": false
        },
        "nteract": {
          "transient": {
            "deleting": false
          }
        },
        "gather": {
          "logged": 1610565539728
        }
      }
    },
    {
      "cell_type": "markdown",
      "source": [
        "## Automl Settings"
      ],
      "metadata": {
        "nteract": {
          "transient": {
            "deleting": false
          }
        }
      }
    },
    {
      "cell_type": "code",
      "source": [
        "automl_settings = {\r\n",
        "    \"n_cross_validations\": 3,\r\n",
        "    \"primary_metric\": 'r2_score',\r\n",
        "    \"enable_early_stopping\": True, \r\n",
        "    \"experiment_timeout_hours\": 0.5, \r\n",
        "    \"max_concurrent_iterations\": 4,\r\n",
        "    \"max_cores_per_iteration\": -1,\r\n",
        "     \"featurization\": 'auto',\r\n",
        "    \"verbosity\": logging.INFO,\r\n",
        "}\r\n",
        "\r\n",
        "automl_config = AutoMLConfig(task = 'regression',\r\n",
        "                             compute_target = compute_target,\r\n",
        "                             training_data = ideb_dataset,\r\n",
        "                             label_column_name = \"IDEB_2019\",\r\n",
        "                             **automl_settings\r\n",
        "                            )\r\n",
        "\r\n"
      ],
      "outputs": [],
      "execution_count": 47,
      "metadata": {
        "collapsed": true,
        "jupyter": {
          "source_hidden": false,
          "outputs_hidden": false
        },
        "nteract": {
          "transient": {
            "deleting": false
          }
        },
        "gather": {
          "logged": 1610565571011
        }
      }
    },
    {
      "cell_type": "code",
      "source": [
        "remote_run = experiment.submit(automl_config, show_output = True)"
      ],
      "outputs": [
        {
          "output_type": "stream",
          "name": "stdout",
          "text": [
            "Running on remote.\n",
            "No run_configuration provided, running on automl-cluster with default configuration\n",
            "Running on remote compute: automl-cluster\n",
            "Parent Run ID: AutoML_59700302-37f8-49e7-b45e-6ae854379cf8\n",
            "\n",
            "Current status: FeaturesGeneration. Generating features for the dataset.\n",
            "Current status: DatasetCrossValidationSplit. Generating individually featurized CV splits.\n",
            "Current status: ModelSelection. Beginning model selection.\n",
            "\n",
            "****************************************************************************************************\n",
            "DATA GUARDRAILS: \n",
            "\n",
            "TYPE:         Missing feature values imputation\n",
            "STATUS:       PASSED\n",
            "DESCRIPTION:  No feature missing values were detected in the training data.\n",
            "              Learn more about missing value imputation: https://aka.ms/AutomatedMLFeaturization\n",
            "\n",
            "****************************************************************************************************\n",
            "\n",
            "TYPE:         High cardinality feature detection\n",
            "STATUS:       DONE\n",
            "DESCRIPTION:  High cardinality features were detected in your inputs and handled.\n",
            "              Learn more about high cardinality feature handling: https://aka.ms/AutomatedMLFeaturization\n",
            "DETAILS:      High cardinality features refer to columns that contain a large percentage of unique values.\n",
            "+---------------------------------+---------------------------------+\n",
            "|Column name                      |Column Content Type              |\n",
            "+=================================+=================================+\n",
            "|Nome_Municipio                   |categorical_hash                 |\n",
            "|Nome_Escola                      |text                             |\n",
            "|TAprov2019_2_serie               |categorical_hash                 |\n",
            "+---------------------------------+---------------------------------+\n",
            "\n",
            "****************************************************************************************************\n",
            "\n",
            "****************************************************************************************************\n",
            "ITERATION: The iteration being evaluated.\n",
            "PIPELINE: A summary description of the pipeline being evaluated.\n",
            "DURATION: Time taken for the current iteration.\n",
            "METRIC: The result of computing score on the fitted pipeline.\n",
            "BEST: The best observed score thus far.\n",
            "****************************************************************************************************\n",
            "\n",
            " ITERATION   PIPELINE                                       DURATION      METRIC      BEST\n",
            "         3   MaxAbsScaler RandomForest                      0:05:45       0.9855    0.9855\n",
            "         4   StandardScalerWrapper XGBoostRegressor         0:02:36       0.9970    0.9970\n",
            "         0   MaxAbsScaler LightGBM                          0:05:27       0.9964    0.9970\n",
            "         2   SparseNormalizer XGBoostRegressor              0:05:23       0.9583    0.9970\n",
            "         1   MaxAbsScaler XGBoostRegressor                  0:05:51       0.9967    0.9970\n",
            "         7   StandardScalerWrapper XGBoostRegressor         0:02:02       0.9969    0.9970\n",
            "         8   MaxAbsScaler ExtremeRandomTrees                0:04:07       0.9931    0.9970\n",
            "         5   MaxAbsScaler ElasticNet                        0:05:55       0.9935    0.9970\n",
            "        10   MaxAbsScaler RandomForest                      0:01:42       0.5458    0.9970\n",
            "        11   MaxAbsScaler RandomForest                      0:00:45       0.4140    0.9970\n",
            "         9   StandardScalerWrapper ElasticNet               0:04:56       0.9894    0.9970\n",
            "        12   StandardScalerWrapper XGBoostRegressor         0:01:07       0.8738    0.9970\n",
            "        13   MaxAbsScaler ExtremeRandomTrees                0:01:11       0.9926    0.9970\n",
            "         6   MaxAbsScaler RandomForest                      0:08:41       0.9742    0.9970\n",
            "        14   MaxAbsScaler ExtremeRandomTrees                0:01:02       0.8950    0.9970\n",
            "        17   MaxAbsScaler RandomForest                      0:01:00       0.8886    0.9970\n",
            "        18   MaxAbsScaler RandomForest                      0:00:51       0.9582    0.9970\n",
            "        16   MaxAbsScaler ElasticNet                        0:02:32       0.9922    0.9970\n",
            "        15   MaxAbsScaler ExtremeRandomTrees                0:03:25       0.9920    0.9970\n",
            "        20   StandardScalerWrapper RandomForest             0:01:49       0.9501    0.9970\n",
            "        22   MaxAbsScaler LightGBM                          0:00:58       0.9924    0.9970\n",
            "        23   StandardScalerWrapper LightGBM                 0:00:51       0.9862    0.9970\n",
            "        19   SparseNormalizer XGBoostRegressor              0:04:14       0.9702    0.9970\n",
            "        24   StandardScalerWrapper XGBoostRegressor         0:01:17       0.9962    0.9970\n",
            "        21   MaxAbsScaler ElasticNet                        0:03:36       0.9927    0.9970\n",
            "        27   StandardScalerWrapper LightGBM                 0:00:47       0.9887    0.9970\n",
            "        26   MaxAbsScaler LightGBM                          0:00:53       0.9833    0.9970\n",
            "        28   MaxAbsScaler LightGBM                          0:00:50       0.9791    0.9970\n",
            "        29   SparseNormalizer XGBoostRegressor              0:01:43       0.9726    0.9970\n",
            "        30   TruncatedSVDWrapper XGBoostRegressor           0:01:41       0.9696    0.9970\n",
            "        25   StandardScalerWrapper XGBoostRegressor         0:04:27       0.9971    0.9971\n",
            "        32   MaxAbsScaler SGD                               0:00:48       0.9891    0.9971\n",
            "        33   MaxAbsScaler SGD                               0:00:56       0.9704    0.9971\n",
            "        35   StandardScalerWrapper XGBoostRegressor         0:01:16       0.9963    0.9971\n",
            "        37   MaxAbsScaler DecisionTree                      0:00:54       0.9659    0.9971\n",
            "        31   MaxAbsScaler RandomForest                      0:05:18          nan    0.9971\n",
            "        34   MaxAbsScaler ElasticNet                        0:03:24          nan    0.9971\n",
            "        36   MaxAbsScaler RandomForest                      0:02:20          nan    0.9971\n",
            "        38    VotingEnsemble                                0:01:47       0.9977    0.9977\n",
            "        39    StackEnsemble                                 0:01:53       0.9977    0.9977\n"
          ]
        }
      ],
      "execution_count": 48,
      "metadata": {
        "collapsed": true,
        "jupyter": {
          "source_hidden": false,
          "outputs_hidden": false
        },
        "nteract": {
          "transient": {
            "deleting": false
          }
        },
        "gather": {
          "logged": 1610568344569
        }
      }
    },
    {
      "cell_type": "markdown",
      "source": [
        "## Result"
      ],
      "metadata": {
        "nteract": {
          "transient": {
            "deleting": false
          }
        }
      }
    },
    {
      "cell_type": "code",
      "source": [
        "from azureml.widgets import RunDetails\r\n",
        "RunDetails(remote_run).show()"
      ],
      "outputs": [
        {
          "output_type": "display_data",
          "data": {
            "text/plain": "_AutoMLWidget(widget_settings={'childWidgetDisplay': 'popup', 'send_telemetry': False, 'log_level': 'INFO', 's…",
            "application/vnd.jupyter.widget-view+json": {
              "version_major": 2,
              "version_minor": 0,
              "model_id": "62a181ccae334165a72f9fe0ab99c215"
            }
          },
          "metadata": {}
        },
        {
          "output_type": "display_data",
          "data": {
            "application/aml.mini.widget.v1": "{\"status\": \"Completed\", \"workbench_run_details_uri\": \"https://ml.azure.com/experiments/ideb-regression/runs/AutoML_59700302-37f8-49e7-b45e-6ae854379cf8?wsid=/subscriptions/a748a023-896b-4719-8f8e-3d1ba62d6e35/resourcegroups/RG-AZML/workspaces/AZML\", \"run_id\": \"AutoML_59700302-37f8-49e7-b45e-6ae854379cf8\", \"run_properties\": {\"run_id\": \"AutoML_59700302-37f8-49e7-b45e-6ae854379cf8\", \"created_utc\": \"2021-01-13T19:19:41.339833Z\", \"properties\": {\"num_iterations\": \"1000\", \"training_type\": \"TrainFull\", \"acquisition_function\": \"EI\", \"primary_metric\": \"r2_score\", \"train_split\": \"0\", \"acquisition_parameter\": \"0\", \"num_cross_validation\": \"3\", \"target\": \"automl-cluster\", \"AMLSettingsJsonString\": \"{\\\"path\\\":null,\\\"name\\\":\\\"ideb-regression\\\",\\\"subscription_id\\\":\\\"a748a023-896b-4719-8f8e-3d1ba62d6e35\\\",\\\"resource_group\\\":\\\"RG-AZML\\\",\\\"workspace_name\\\":\\\"AZML\\\",\\\"region\\\":\\\"eastus\\\",\\\"compute_target\\\":\\\"automl-cluster\\\",\\\"spark_service\\\":null,\\\"azure_service\\\":\\\"remote\\\",\\\"many_models\\\":false,\\\"pipeline_fetch_max_batch_size\\\":1,\\\"iterations\\\":1000,\\\"primary_metric\\\":\\\"r2_score\\\",\\\"task_type\\\":\\\"regression\\\",\\\"data_script\\\":null,\\\"validation_size\\\":0.0,\\\"n_cross_validations\\\":3,\\\"y_min\\\":null,\\\"y_max\\\":null,\\\"num_classes\\\":null,\\\"featurization\\\":\\\"auto\\\",\\\"_ignore_package_version_incompatibilities\\\":false,\\\"is_timeseries\\\":false,\\\"max_cores_per_iteration\\\":-1,\\\"max_concurrent_iterations\\\":4,\\\"iteration_timeout_minutes\\\":null,\\\"mem_in_mb\\\":null,\\\"enforce_time_on_windows\\\":false,\\\"experiment_timeout_minutes\\\":30,\\\"experiment_exit_score\\\":null,\\\"whitelist_models\\\":null,\\\"blacklist_algos\\\":[\\\"TensorFlowDNN\\\",\\\"TensorFlowLinearRegressor\\\"],\\\"supported_models\\\":[\\\"LightGBM\\\",\\\"ElasticNet\\\",\\\"RandomForest\\\",\\\"ExtremeRandomTrees\\\",\\\"TensorFlowLinearRegressor\\\",\\\"TensorFlowDNN\\\",\\\"OnlineGradientDescentRegressor\\\",\\\"DecisionTree\\\",\\\"KNN\\\",\\\"LassoLars\\\",\\\"GradientBoosting\\\",\\\"FastLinearRegressor\\\",\\\"SGD\\\",\\\"XGBoostRegressor\\\"],\\\"auto_blacklist\\\":true,\\\"blacklist_samples_reached\\\":false,\\\"exclude_nan_labels\\\":true,\\\"verbosity\\\":20,\\\"_debug_log\\\":\\\"azureml_automl.log\\\",\\\"show_warnings\\\":false,\\\"model_explainability\\\":true,\\\"service_url\\\":null,\\\"sdk_url\\\":null,\\\"sdk_packages\\\":null,\\\"enable_onnx_compatible_models\\\":false,\\\"enable_split_onnx_featurizer_estimator_models\\\":false,\\\"vm_type\\\":\\\"STANDARD_D2_V2\\\",\\\"telemetry_verbosity\\\":20,\\\"send_telemetry\\\":true,\\\"enable_dnn\\\":false,\\\"scenario\\\":\\\"SDK-1.13.0\\\",\\\"environment_label\\\":null,\\\"force_text_dnn\\\":false,\\\"enable_feature_sweeping\\\":true,\\\"enable_early_stopping\\\":true,\\\"early_stopping_n_iters\\\":10,\\\"metrics\\\":null,\\\"enable_ensembling\\\":true,\\\"enable_stack_ensembling\\\":true,\\\"ensemble_iterations\\\":15,\\\"enable_tf\\\":false,\\\"enable_subsampling\\\":null,\\\"subsample_seed\\\":null,\\\"enable_nimbusml\\\":false,\\\"enable_streaming\\\":false,\\\"force_streaming\\\":false,\\\"track_child_runs\\\":true,\\\"allowed_private_models\\\":[],\\\"label_column_name\\\":\\\"IDEB_2019\\\",\\\"weight_column_name\\\":null,\\\"cv_split_column_names\\\":null,\\\"enable_local_managed\\\":false,\\\"_local_managed_run_id\\\":null,\\\"cost_mode\\\":1,\\\"lag_length\\\":0,\\\"metric_operation\\\":\\\"maximize\\\",\\\"preprocess\\\":true}\", \"DataPrepJsonString\": \"{\\\\\\\"training_data\\\\\\\": \\\\\\\"{\\\\\\\\\\\\\\\"blocks\\\\\\\\\\\\\\\": [{\\\\\\\\\\\\\\\"id\\\\\\\\\\\\\\\": \\\\\\\\\\\\\\\"cabce019-5407-4eab-b738-73557caf2ed5\\\\\\\\\\\\\\\", \\\\\\\\\\\\\\\"type\\\\\\\\\\\\\\\": \\\\\\\\\\\\\\\"Microsoft.DPrep.GetDatastoreFilesBlock\\\\\\\\\\\\\\\", \\\\\\\\\\\\\\\"arguments\\\\\\\\\\\\\\\": {\\\\\\\\\\\\\\\"datastores\\\\\\\\\\\\\\\": [{\\\\\\\\\\\\\\\"datastoreName\\\\\\\\\\\\\\\": \\\\\\\\\\\\\\\"workspaceblobstore\\\\\\\\\\\\\\\", \\\\\\\\\\\\\\\"path\\\\\\\\\\\\\\\": \\\\\\\\\\\\\\\"UI/01-13-2021_025150_UTC/DATASET_IDEB_ensino_medio_escolas_2019_clean.txt\\\\\\\\\\\\\\\", \\\\\\\\\\\\\\\"resourceGroup\\\\\\\\\\\\\\\": \\\\\\\\\\\\\\\"RG-AZML\\\\\\\\\\\\\\\", \\\\\\\\\\\\\\\"subscription\\\\\\\\\\\\\\\": \\\\\\\\\\\\\\\"a748a023-896b-4719-8f8e-3d1ba62d6e35\\\\\\\\\\\\\\\", \\\\\\\\\\\\\\\"workspaceName\\\\\\\\\\\\\\\": \\\\\\\\\\\\\\\"AZML\\\\\\\\\\\\\\\"}]}, \\\\\\\\\\\\\\\"localData\\\\\\\\\\\\\\\": {}, \\\\\\\\\\\\\\\"isEnabled\\\\\\\\\\\\\\\": true, \\\\\\\\\\\\\\\"name\\\\\\\\\\\\\\\": null, \\\\\\\\\\\\\\\"annotation\\\\\\\\\\\\\\\": null}, {\\\\\\\\\\\\\\\"id\\\\\\\\\\\\\\\": \\\\\\\\\\\\\\\"6e0b84a8-15de-4865-b1d7-ef8fde946c85\\\\\\\\\\\\\\\", \\\\\\\\\\\\\\\"type\\\\\\\\\\\\\\\": \\\\\\\\\\\\\\\"Microsoft.DPrep.ParseDelimitedBlock\\\\\\\\\\\\\\\", \\\\\\\\\\\\\\\"arguments\\\\\\\\\\\\\\\": {\\\\\\\\\\\\\\\"columnHeadersMode\\\\\\\\\\\\\\\": 1, \\\\\\\\\\\\\\\"fileEncoding\\\\\\\\\\\\\\\": 1, \\\\\\\\\\\\\\\"handleQuotedLineBreaks\\\\\\\\\\\\\\\": false, \\\\\\\\\\\\\\\"preview\\\\\\\\\\\\\\\": false, \\\\\\\\\\\\\\\"separator\\\\\\\\\\\\\\\": \\\\\\\\\\\\\\\"\\\\\\\\\\\\\\\\t\\\\\\\\\\\\\\\", \\\\\\\\\\\\\\\"skipRows\\\\\\\\\\\\\\\": 0, \\\\\\\\\\\\\\\"skipRowsMode\\\\\\\\\\\\\\\": 0}, \\\\\\\\\\\\\\\"localData\\\\\\\\\\\\\\\": {}, \\\\\\\\\\\\\\\"isEnabled\\\\\\\\\\\\\\\": true, \\\\\\\\\\\\\\\"name\\\\\\\\\\\\\\\": null, \\\\\\\\\\\\\\\"annotation\\\\\\\\\\\\\\\": null}, {\\\\\\\\\\\\\\\"id\\\\\\\\\\\\\\\": \\\\\\\\\\\\\\\"3d571fa6-7af4-4805-8e63-46a777dd0af4\\\\\\\\\\\\\\\", \\\\\\\\\\\\\\\"type\\\\\\\\\\\\\\\": \\\\\\\\\\\\\\\"Microsoft.DPrep.DropColumnsBlock\\\\\\\\\\\\\\\", \\\\\\\\\\\\\\\"arguments\\\\\\\\\\\\\\\": {\\\\\\\\\\\\\\\"columns\\\\\\\\\\\\\\\": {\\\\\\\\\\\\\\\"type\\\\\\\\\\\\\\\": 0, \\\\\\\\\\\\\\\"details\\\\\\\\\\\\\\\": {\\\\\\\\\\\\\\\"selectedColumns\\\\\\\\\\\\\\\": [\\\\\\\\\\\\\\\"Path\\\\\\\\\\\\\\\"]}}}, \\\\\\\\\\\\\\\"localData\\\\\\\\\\\\\\\": {}, \\\\\\\\\\\\\\\"isEnabled\\\\\\\\\\\\\\\": true, \\\\\\\\\\\\\\\"name\\\\\\\\\\\\\\\": null, \\\\\\\\\\\\\\\"annotation\\\\\\\\\\\\\\\": null}, {\\\\\\\\\\\\\\\"id\\\\\\\\\\\\\\\": \\\\\\\\\\\\\\\"85222e7b-9dde-4c8a-851c-fa8690890539\\\\\\\\\\\\\\\", \\\\\\\\\\\\\\\"type\\\\\\\\\\\\\\\": \\\\\\\\\\\\\\\"Microsoft.DPrep.SetColumnTypesBlock\\\\\\\\\\\\\\\", \\\\\\\\\\\\\\\"arguments\\\\\\\\\\\\\\\": {\\\\\\\\\\\\\\\"columnConversion\\\\\\\\\\\\\\\": [{\\\\\\\\\\\\\\\"column\\\\\\\\\\\\\\\": {\\\\\\\\\\\\\\\"type\\\\\\\\\\\\\\\": 2, \\\\\\\\\\\\\\\"details\\\\\\\\\\\\\\\": {\\\\\\\\\\\\\\\"selectedColumn\\\\\\\\\\\\\\\": \\\\\\\\\\\\\\\"Path\\\\\\\\\\\\\\\"}}, \\\\\\\\\\\\\\\"typeProperty\\\\\\\\\\\\\\\": 0}, {\\\\\\\\\\\\\\\"column\\\\\\\\\\\\\\\": {\\\\\\\\\\\\\\\"type\\\\\\\\\\\\\\\": 2, \\\\\\\\\\\\\\\"details\\\\\\\\\\\\\\\": {\\\\\\\\\\\\\\\"selectedColumn\\\\\\\\\\\\\\\": \\\\\\\\\\\\\\\"Sigla_UF\\\\\\\\\\\\\\\"}}, \\\\\\\\\\\\\\\"typeProperty\\\\\\\\\\\\\\\": 0}, {\\\\\\\\\\\\\\\"column\\\\\\\\\\\\\\\": {\\\\\\\\\\\\\\\"type\\\\\\\\\\\\\\\": 2, \\\\\\\\\\\\\\\"details\\\\\\\\\\\\\\\": {\\\\\\\\\\\\\\\"selectedColumn\\\\\\\\\\\\\\\": \\\\\\\\\\\\\\\"Cod_Municipio\\\\\\\\\\\\\\\"}}, \\\\\\\\\\\\\\\"typeProperty\\\\\\\\\\\\\\\": 2}, {\\\\\\\\\\\\\\\"column\\\\\\\\\\\\\\\": {\\\\\\\\\\\\\\\"type\\\\\\\\\\\\\\\": 2, \\\\\\\\\\\\\\\"details\\\\\\\\\\\\\\\": {\\\\\\\\\\\\\\\"selectedColumn\\\\\\\\\\\\\\\": \\\\\\\\\\\\\\\"Nome_Municipio\\\\\\\\\\\\\\\"}}, \\\\\\\\\\\\\\\"typeProperty\\\\\\\\\\\\\\\": 0}, {\\\\\\\\\\\\\\\"column\\\\\\\\\\\\\\\": {\\\\\\\\\\\\\\\"type\\\\\\\\\\\\\\\": 2, \\\\\\\\\\\\\\\"details\\\\\\\\\\\\\\\": {\\\\\\\\\\\\\\\"selectedColumn\\\\\\\\\\\\\\\": \\\\\\\\\\\\\\\"Cod_Escola\\\\\\\\\\\\\\\"}}, \\\\\\\\\\\\\\\"typeProperty\\\\\\\\\\\\\\\": 2}, {\\\\\\\\\\\\\\\"column\\\\\\\\\\\\\\\": {\\\\\\\\\\\\\\\"type\\\\\\\\\\\\\\\": 2, \\\\\\\\\\\\\\\"details\\\\\\\\\\\\\\\": {\\\\\\\\\\\\\\\"selectedColumn\\\\\\\\\\\\\\\": \\\\\\\\\\\\\\\"Nome_Escola\\\\\\\\\\\\\\\"}}, \\\\\\\\\\\\\\\"typeProperty\\\\\\\\\\\\\\\": 0}, {\\\\\\\\\\\\\\\"column\\\\\\\\\\\\\\\": {\\\\\\\\\\\\\\\"type\\\\\\\\\\\\\\\": 2, \\\\\\\\\\\\\\\"details\\\\\\\\\\\\\\\": {\\\\\\\\\\\\\\\"selectedColumn\\\\\\\\\\\\\\\": \\\\\\\\\\\\\\\"Rede\\\\\\\\\\\\\\\"}}, \\\\\\\\\\\\\\\"typeProperty\\\\\\\\\\\\\\\": 0}, {\\\\\\\\\\\\\\\"column\\\\\\\\\\\\\\\": {\\\\\\\\\\\\\\\"type\\\\\\\\\\\\\\\": 2, \\\\\\\\\\\\\\\"details\\\\\\\\\\\\\\\": {\\\\\\\\\\\\\\\"selectedColumn\\\\\\\\\\\\\\\": \\\\\\\\\\\\\\\"TAprov2019_Total\\\\\\\\\\\\\\\"}}, \\\\\\\\\\\\\\\"typeProperty\\\\\\\\\\\\\\\": 3}, {\\\\\\\\\\\\\\\"column\\\\\\\\\\\\\\\": {\\\\\\\\\\\\\\\"type\\\\\\\\\\\\\\\": 2, \\\\\\\\\\\\\\\"details\\\\\\\\\\\\\\\": {\\\\\\\\\\\\\\\"selectedColumn\\\\\\\\\\\\\\\": \\\\\\\\\\\\\\\"TAprov2019_1_serie\\\\\\\\\\\\\\\"}}, \\\\\\\\\\\\\\\"typeProperty\\\\\\\\\\\\\\\": 3}, {\\\\\\\\\\\\\\\"column\\\\\\\\\\\\\\\": {\\\\\\\\\\\\\\\"type\\\\\\\\\\\\\\\": 2, \\\\\\\\\\\\\\\"details\\\\\\\\\\\\\\\": {\\\\\\\\\\\\\\\"selectedColumn\\\\\\\\\\\\\\\": \\\\\\\\\\\\\\\"TAprov2019_2_serie\\\\\\\\\\\\\\\"}}, \\\\\\\\\\\\\\\"typeProperty\\\\\\\\\\\\\\\": 0}, {\\\\\\\\\\\\\\\"column\\\\\\\\\\\\\\\": {\\\\\\\\\\\\\\\"type\\\\\\\\\\\\\\\": 2, \\\\\\\\\\\\\\\"details\\\\\\\\\\\\\\\": {\\\\\\\\\\\\\\\"selectedColumn\\\\\\\\\\\\\\\": \\\\\\\\\\\\\\\"TAprov2019_3_serie\\\\\\\\\\\\\\\"}}, \\\\\\\\\\\\\\\"typeProperty\\\\\\\\\\\\\\\": 3}, {\\\\\\\\\\\\\\\"column\\\\\\\\\\\\\\\": {\\\\\\\\\\\\\\\"type\\\\\\\\\\\\\\\": 2, \\\\\\\\\\\\\\\"details\\\\\\\\\\\\\\\": {\\\\\\\\\\\\\\\"selectedColumn\\\\\\\\\\\\\\\": \\\\\\\\\\\\\\\"TAprov2019_4_serie\\\\\\\\\\\\\\\"}}, \\\\\\\\\\\\\\\"typeProperty\\\\\\\\\\\\\\\": 3}, {\\\\\\\\\\\\\\\"column\\\\\\\\\\\\\\\": {\\\\\\\\\\\\\\\"type\\\\\\\\\\\\\\\": 2, \\\\\\\\\\\\\\\"details\\\\\\\\\\\\\\\": {\\\\\\\\\\\\\\\"selectedColumn\\\\\\\\\\\\\\\": \\\\\\\\\\\\\\\"Indicador_Rendimento\\\\\\\\\\\\\\\"}}, \\\\\\\\\\\\\\\"typeProperty\\\\\\\\\\\\\\\": 3}, {\\\\\\\\\\\\\\\"column\\\\\\\\\\\\\\\": {\\\\\\\\\\\\\\\"type\\\\\\\\\\\\\\\": 2, \\\\\\\\\\\\\\\"details\\\\\\\\\\\\\\\": {\\\\\\\\\\\\\\\"selectedColumn\\\\\\\\\\\\\\\": \\\\\\\\\\\\\\\"SAEB2019_Matematica\\\\\\\\\\\\\\\"}}, \\\\\\\\\\\\\\\"typeProperty\\\\\\\\\\\\\\\": 3}, {\\\\\\\\\\\\\\\"column\\\\\\\\\\\\\\\": {\\\\\\\\\\\\\\\"type\\\\\\\\\\\\\\\": 2, \\\\\\\\\\\\\\\"details\\\\\\\\\\\\\\\": {\\\\\\\\\\\\\\\"selectedColumn\\\\\\\\\\\\\\\": \\\\\\\\\\\\\\\"SAEB2019_Lingua Portuguesa\\\\\\\\\\\\\\\"}}, \\\\\\\\\\\\\\\"typeProperty\\\\\\\\\\\\\\\": 3}, {\\\\\\\\\\\\\\\"column\\\\\\\\\\\\\\\": {\\\\\\\\\\\\\\\"type\\\\\\\\\\\\\\\": 2, \\\\\\\\\\\\\\\"details\\\\\\\\\\\\\\\": {\\\\\\\\\\\\\\\"selectedColumn\\\\\\\\\\\\\\\": \\\\\\\\\\\\\\\"SAEB2019_Nota Media Padronizada\\\\\\\\\\\\\\\"}}, \\\\\\\\\\\\\\\"typeProperty\\\\\\\\\\\\\\\": 3}, {\\\\\\\\\\\\\\\"column\\\\\\\\\\\\\\\": {\\\\\\\\\\\\\\\"type\\\\\\\\\\\\\\\": 2, \\\\\\\\\\\\\\\"details\\\\\\\\\\\\\\\": {\\\\\\\\\\\\\\\"selectedColumn\\\\\\\\\\\\\\\": \\\\\\\\\\\\\\\"IDEB_2019\\\\\\\\\\\\\\\"}}, \\\\\\\\\\\\\\\"typeProperty\\\\\\\\\\\\\\\": 3}]}, \\\\\\\\\\\\\\\"localData\\\\\\\\\\\\\\\": {}, \\\\\\\\\\\\\\\"isEnabled\\\\\\\\\\\\\\\": true, \\\\\\\\\\\\\\\"name\\\\\\\\\\\\\\\": null, \\\\\\\\\\\\\\\"annotation\\\\\\\\\\\\\\\": null}], \\\\\\\\\\\\\\\"inspectors\\\\\\\\\\\\\\\": [], \\\\\\\\\\\\\\\"meta\\\\\\\\\\\\\\\": {\\\\\\\\\\\\\\\"savedDatasetId\\\\\\\\\\\\\\\": \\\\\\\\\\\\\\\"0a953939-d1dc-454c-862b-866daa44cd28\\\\\\\\\\\\\\\", \\\\\\\\\\\\\\\"datasetType\\\\\\\\\\\\\\\": \\\\\\\\\\\\\\\"tabular\\\\\\\\\\\\\\\", \\\\\\\\\\\\\\\"subscriptionId\\\\\\\\\\\\\\\": \\\\\\\\\\\\\\\"a748a023-896b-4719-8f8e-3d1ba62d6e35\\\\\\\\\\\\\\\", \\\\\\\\\\\\\\\"workspaceId\\\\\\\\\\\\\\\": \\\\\\\\\\\\\\\"4cc8fc67-9b29-4fc9-affe-0aea29e08ecb\\\\\\\\\\\\\\\", \\\\\\\\\\\\\\\"workspaceLocation\\\\\\\\\\\\\\\": \\\\\\\\\\\\\\\"eastus\\\\\\\\\\\\\\\"}}\\\\\\\", \\\\\\\"activities\\\\\\\": 0}\", \"EnableSubsampling\": null, \"runTemplate\": \"AutoML\", \"azureml.runsource\": \"automl\", \"display_task_type\": \"regression\", \"dependencies_versions\": \"{\\\"azureml-widgets\\\": \\\"1.19.0\\\", \\\"azureml-train\\\": \\\"1.19.0\\\", \\\"azureml-train-restclients-hyperdrive\\\": \\\"1.19.0\\\", \\\"azureml-train-core\\\": \\\"1.19.0\\\", \\\"azureml-train-automl\\\": \\\"1.19.0\\\", \\\"azureml-train-automl-runtime\\\": \\\"1.19.0\\\", \\\"azureml-train-automl-client\\\": \\\"1.19.0\\\", \\\"azureml-tensorboard\\\": \\\"1.19.0\\\", \\\"azureml-telemetry\\\": \\\"1.19.0\\\", \\\"azureml-sdk\\\": \\\"1.19.0\\\", \\\"azureml-samples\\\": \\\"0+unknown\\\", \\\"azureml-pipeline\\\": \\\"1.19.0\\\", \\\"azureml-pipeline-steps\\\": \\\"1.19.0\\\", \\\"azureml-pipeline-core\\\": \\\"1.19.0\\\", \\\"azureml-opendatasets\\\": \\\"1.19.0\\\", \\\"azureml-model-management-sdk\\\": \\\"1.0.1b6.post1\\\", \\\"azureml-mlflow\\\": \\\"1.19.0\\\", \\\"azureml-interpret\\\": \\\"1.19.0\\\", \\\"azureml-explain-model\\\": \\\"1.19.0\\\", \\\"azureml-defaults\\\": \\\"1.19.0\\\", \\\"azureml-dataset-runtime\\\": \\\"1.19.0\\\", \\\"azureml-dataprep\\\": \\\"2.6.1\\\", \\\"azureml-dataprep-rslex\\\": \\\"1.4.0\\\", \\\"azureml-dataprep-native\\\": \\\"26.0.0\\\", \\\"azureml-datadrift\\\": \\\"1.19.0\\\", \\\"azureml-core\\\": \\\"1.19.0\\\", \\\"azureml-contrib-services\\\": \\\"1.19.0\\\", \\\"azureml-contrib-server\\\": \\\"1.19.0\\\", \\\"azureml-contrib-reinforcementlearning\\\": \\\"1.19.0\\\", \\\"azureml-contrib-pipeline-steps\\\": \\\"1.19.0\\\", \\\"azureml-contrib-notebook\\\": \\\"1.19.0\\\", \\\"azureml-contrib-interpret\\\": \\\"1.19.0\\\", \\\"azureml-contrib-gbdt\\\": \\\"1.19.0\\\", \\\"azureml-contrib-fairness\\\": \\\"1.19.0\\\", \\\"azureml-contrib-dataset\\\": \\\"1.19.0\\\", \\\"azureml-cli-common\\\": \\\"1.19.0\\\", \\\"azureml-automl-runtime\\\": \\\"1.19.0\\\", \\\"azureml-automl-core\\\": \\\"1.19.0\\\", \\\"azureml-accel-models\\\": \\\"1.19.0\\\"}\", \"_aml_system_scenario_identification\": \"Remote.Parent\", \"ClientType\": \"SDK\", \"environment_cpu_name\": \"AzureML-AutoML\", \"environment_cpu_label\": \"prod\", \"environment_gpu_name\": \"AzureML-AutoML-GPU\", \"environment_gpu_label\": \"prod\", \"root_attribution\": \"automl\", \"attribution\": \"AutoML\", \"Orchestrator\": \"AutoML\", \"CancelUri\": \"https://eastus.experiments.azureml.net/jasmine/v1.0/subscriptions/a748a023-896b-4719-8f8e-3d1ba62d6e35/resourceGroups/RG-AZML/providers/Microsoft.MachineLearningServices/workspaces/AZML/experimentids/27f5302f-e46e-4e3b-a3d0-307ddf09cfaa/cancel/AutoML_59700302-37f8-49e7-b45e-6ae854379cf8\", \"ClientSdkVersion\": \"1.19.0\", \"snapshotId\": \"00000000-0000-0000-0000-000000000000\", \"SetupRunId\": \"AutoML_59700302-37f8-49e7-b45e-6ae854379cf8_setup\", \"SetupRunContainerId\": \"dcid.AutoML_59700302-37f8-49e7-b45e-6ae854379cf8_setup\", \"FeaturizationRunJsonPath\": \"featurizer_container.json\", \"FeaturizationRunId\": \"AutoML_59700302-37f8-49e7-b45e-6ae854379cf8_featurize\", \"ProblemInfoJsonString\": \"{\\\"dataset_num_categorical\\\": 0, \\\"is_sparse\\\": true, \\\"subsampling\\\": false, \\\"dataset_classes\\\": 62, \\\"dataset_features\\\": 39552, \\\"dataset_samples\\\": 12079, \\\"single_frequency_class_detected\\\": false}\", \"ModelExplainRunId\": \"AutoML_59700302-37f8-49e7-b45e-6ae854379cf8_ModelExplain\"}, \"tags\": {\"model_explain_run\": \"best_run\", \"_aml_system_azureml.automlComponent\": \"AutoML\", \"pipeline_id\": \"\", \"score\": \"\", \"predicted_cost\": \"\", \"fit_time\": \"\", \"training_percent\": \"\", \"iteration\": \"\", \"run_preprocessor\": \"\", \"run_algorithm\": \"\", \"dynamic_whitelisting_iterations\": \"<25>;<30>;<35>;\", \"automl_best_child_run_id\": \"AutoML_59700302-37f8-49e7-b45e-6ae854379cf8_39\", \"model_explain_best_run_child_id\": \"AutoML_59700302-37f8-49e7-b45e-6ae854379cf8_39\"}, \"end_time_utc\": \"2021-01-13T20:05:39.218956Z\", \"status\": \"Completed\", \"log_files\": {}, \"log_groups\": [], \"run_duration\": \"0:45:57\"}, \"child_runs\": [{\"run_id\": \"AutoML_59700302-37f8-49e7-b45e-6ae854379cf8_0\", \"run_number\": 123, \"metric\": null, \"status\": \"Completed\", \"run_type\": \"azureml.scriptrun\", \"training_percent\": \"100\", \"start_time\": \"2021-01-13T19:35:51.767778Z\", \"end_time\": \"2021-01-13T19:41:18.705539Z\", \"created_time\": \"2021-01-13T19:31:55.626005Z\", \"created_time_dt\": \"2021-01-13T19:31:55.626005Z\", \"duration\": \"0:09:23\", \"iteration\": \"0\", \"goal\": \"r2_score_max\", \"run_name\": \"MaxAbsScaler, LightGBM\", \"run_properties\": \"copy=True\", \"primary_metric\": 0.99637163, \"best_metric\": 0.99637163}, {\"run_id\": \"AutoML_59700302-37f8-49e7-b45e-6ae854379cf8_3\", \"run_number\": 124, \"metric\": null, \"status\": \"Completed\", \"run_type\": \"azureml.scriptrun\", \"training_percent\": \"100\", \"start_time\": \"2021-01-13T19:32:07.946991Z\", \"end_time\": \"2021-01-13T19:37:53.058854Z\", \"created_time\": \"2021-01-13T19:31:55.655333Z\", \"created_time_dt\": \"2021-01-13T19:31:55.655333Z\", \"duration\": \"0:05:57\", \"iteration\": \"3\", \"goal\": \"r2_score_max\", \"run_name\": \"MaxAbsScaler, RandomForest\", \"run_properties\": \"copy=True\", \"primary_metric\": 0.98548291, \"best_metric\": 0.99671337}, {\"run_id\": \"AutoML_59700302-37f8-49e7-b45e-6ae854379cf8_2\", \"run_number\": 125, \"metric\": null, \"status\": \"Completed\", \"run_type\": \"azureml.scriptrun\", \"training_percent\": \"100\", \"start_time\": \"2021-01-13T19:35:51.77641Z\", \"end_time\": \"2021-01-13T19:41:14.985269Z\", \"created_time\": \"2021-01-13T19:31:55.713487Z\", \"created_time_dt\": \"2021-01-13T19:31:55.713487Z\", \"duration\": \"0:09:19\", \"iteration\": \"2\", \"goal\": \"r2_score_max\", \"run_name\": \"SparseNormalizer, XGBoostRegressor\", \"run_properties\": \"<azureml.automl.runtime.shared.model_wrappers.SparseNormalizer object at 0x7f3588eb6048\", \"primary_metric\": 0.95832455, \"best_metric\": 0.99671337}, {\"run_id\": \"AutoML_59700302-37f8-49e7-b45e-6ae854379cf8_1\", \"run_number\": 126, \"metric\": null, \"status\": \"Completed\", \"run_type\": \"azureml.scriptrun\", \"training_percent\": \"100\", \"start_time\": \"2021-01-13T19:35:53.089542Z\", \"end_time\": \"2021-01-13T19:41:44.567501Z\", \"created_time\": \"2021-01-13T19:31:55.732774Z\", \"created_time_dt\": \"2021-01-13T19:31:55.732774Z\", \"duration\": \"0:09:48\", \"iteration\": \"1\", \"goal\": \"r2_score_max\", \"run_name\": \"MaxAbsScaler, XGBoostRegressor\", \"run_properties\": \"copy=True\", \"primary_metric\": 0.99671337, \"best_metric\": 0.99671337}, {\"run_id\": \"AutoML_59700302-37f8-49e7-b45e-6ae854379cf8_4\", \"run_number\": 127, \"metric\": null, \"status\": \"Completed\", \"run_type\": \"azureml.scriptrun\", \"training_percent\": \"100\", \"start_time\": \"2021-01-13T19:38:25.166436Z\", \"end_time\": \"2021-01-13T19:41:01.100131Z\", \"created_time\": \"2021-01-13T19:38:01.255137Z\", \"created_time_dt\": \"2021-01-13T19:38:01.255137Z\", \"duration\": \"0:02:59\", \"iteration\": \"4\", \"goal\": \"r2_score_max\", \"run_name\": \"StandardScalerWrapper, XGBoostRegressor\", \"run_properties\": \"<azureml.automl.runtime.shared.model_wrappers.StandardScalerWrapper object at 0x7f89705218d0\", \"primary_metric\": 0.99697078, \"best_metric\": 0.99697078}, {\"run_id\": \"AutoML_59700302-37f8-49e7-b45e-6ae854379cf8_5\", \"run_number\": 128, \"metric\": null, \"status\": \"Completed\", \"run_type\": \"azureml.scriptrun\", \"training_percent\": \"100\", \"start_time\": \"2021-01-13T19:41:21.26909Z\", \"end_time\": \"2021-01-13T19:47:16.591547Z\", \"created_time\": \"2021-01-13T19:41:04.263377Z\", \"created_time_dt\": \"2021-01-13T19:41:04.263377Z\", \"duration\": \"0:06:12\", \"iteration\": \"5\", \"goal\": \"r2_score_max\", \"run_name\": \"MaxAbsScaler, ElasticNet\", \"run_properties\": \"copy=True\", \"primary_metric\": 0.99345663, \"best_metric\": 0.99697078}, {\"run_id\": \"AutoML_59700302-37f8-49e7-b45e-6ae854379cf8_6\", \"run_number\": 129, \"metric\": null, \"status\": \"Completed\", \"run_type\": \"azureml.scriptrun\", \"training_percent\": \"100\", \"start_time\": \"2021-01-13T19:41:29.775613Z\", \"end_time\": \"2021-01-13T19:50:10.572647Z\", \"created_time\": \"2021-01-13T19:41:17.830538Z\", \"created_time_dt\": \"2021-01-13T19:41:17.830538Z\", \"duration\": \"0:08:52\", \"iteration\": \"6\", \"goal\": \"r2_score_max\", \"run_name\": \"MaxAbsScaler, RandomForest\", \"run_properties\": \"copy=True\", \"primary_metric\": 0.97423616, \"best_metric\": 0.99697078}, {\"run_id\": \"AutoML_59700302-37f8-49e7-b45e-6ae854379cf8_7\", \"run_number\": 130, \"metric\": null, \"status\": \"Completed\", \"run_type\": \"azureml.scriptrun\", \"training_percent\": \"100\", \"start_time\": \"2021-01-13T19:41:39.564915Z\", \"end_time\": \"2021-01-13T19:43:41.715912Z\", \"created_time\": \"2021-01-13T19:41:23.249916Z\", \"created_time_dt\": \"2021-01-13T19:41:23.249916Z\", \"duration\": \"0:02:18\", \"iteration\": \"7\", \"goal\": \"r2_score_max\", \"run_name\": \"StandardScalerWrapper, XGBoostRegressor\", \"run_properties\": \"<azureml.automl.runtime.shared.model_wrappers.StandardScalerWrapper object at 0x7f1c935399b0\", \"primary_metric\": 0.99689849, \"best_metric\": 0.99697078}, {\"run_id\": \"AutoML_59700302-37f8-49e7-b45e-6ae854379cf8_8\", \"run_number\": 131, \"metric\": null, \"status\": \"Completed\", \"run_type\": \"azureml.scriptrun\", \"training_percent\": \"100\", \"start_time\": \"2021-01-13T19:41:59.678066Z\", \"end_time\": \"2021-01-13T19:46:06.185905Z\", \"created_time\": \"2021-01-13T19:41:47.423529Z\", \"created_time_dt\": \"2021-01-13T19:41:47.423529Z\", \"duration\": \"0:04:18\", \"iteration\": \"8\", \"goal\": \"r2_score_max\", \"run_name\": \"MaxAbsScaler, ExtremeRandomTrees\", \"run_properties\": \"copy=True\", \"primary_metric\": 0.99307683, \"best_metric\": 0.99697078}, {\"run_id\": \"AutoML_59700302-37f8-49e7-b45e-6ae854379cf8_9\", \"run_number\": 132, \"metric\": null, \"status\": \"Completed\", \"run_type\": \"azureml.scriptrun\", \"training_percent\": \"100\", \"start_time\": \"2021-01-13T19:44:04.370291Z\", \"end_time\": \"2021-01-13T19:49:00.554807Z\", \"created_time\": \"2021-01-13T19:43:47.582551Z\", \"created_time_dt\": \"2021-01-13T19:43:47.582551Z\", \"duration\": \"0:05:12\", \"iteration\": \"9\", \"goal\": \"r2_score_max\", \"run_name\": \"StandardScalerWrapper, ElasticNet\", \"run_properties\": \"<azureml.automl.runtime.shared.model_wrappers.StandardScalerWrapper object at 0x7f0f30259a58\", \"primary_metric\": 0.98935776, \"best_metric\": 0.99697078}, {\"run_id\": \"AutoML_59700302-37f8-49e7-b45e-6ae854379cf8_10\", \"run_number\": 133, \"metric\": null, \"status\": \"Completed\", \"run_type\": \"azureml.scriptrun\", \"training_percent\": \"100\", \"start_time\": \"2021-01-13T19:46:25.975226Z\", \"end_time\": \"2021-01-13T19:48:07.647664Z\", \"created_time\": \"2021-01-13T19:46:10.16917Z\", \"created_time_dt\": \"2021-01-13T19:46:10.16917Z\", \"duration\": \"0:01:57\", \"iteration\": \"10\", \"goal\": \"r2_score_max\", \"run_name\": \"MaxAbsScaler, RandomForest\", \"run_properties\": \"copy=True\", \"primary_metric\": 0.545824, \"best_metric\": 0.99697078}, {\"run_id\": \"AutoML_59700302-37f8-49e7-b45e-6ae854379cf8_11\", \"run_number\": 134, \"metric\": null, \"status\": \"Completed\", \"run_type\": \"azureml.scriptrun\", \"training_percent\": \"100\", \"start_time\": \"2021-01-13T19:47:33.385836Z\", \"end_time\": \"2021-01-13T19:48:18.149028Z\", \"created_time\": \"2021-01-13T19:47:19.698747Z\", \"created_time_dt\": \"2021-01-13T19:47:19.698747Z\", \"duration\": \"0:00:58\", \"iteration\": \"11\", \"goal\": \"r2_score_max\", \"run_name\": \"MaxAbsScaler, RandomForest\", \"run_properties\": \"copy=True\", \"primary_metric\": 0.41395223, \"best_metric\": 0.99697078}, {\"run_id\": \"AutoML_59700302-37f8-49e7-b45e-6ae854379cf8_12\", \"run_number\": 135, \"metric\": null, \"status\": \"Completed\", \"run_type\": \"azureml.scriptrun\", \"training_percent\": \"100\", \"start_time\": \"2021-01-13T19:48:26.602064Z\", \"end_time\": \"2021-01-13T19:49:33.156248Z\", \"created_time\": \"2021-01-13T19:48:10.714389Z\", \"created_time_dt\": \"2021-01-13T19:48:10.714389Z\", \"duration\": \"0:01:22\", \"iteration\": \"12\", \"goal\": \"r2_score_max\", \"run_name\": \"StandardScalerWrapper, XGBoostRegressor\", \"run_properties\": \"<azureml.automl.runtime.shared.model_wrappers.StandardScalerWrapper object at 0x7fb3d15e5630\", \"primary_metric\": 0.87375604, \"best_metric\": 0.99697078}, {\"run_id\": \"AutoML_59700302-37f8-49e7-b45e-6ae854379cf8_13\", \"run_number\": 136, \"metric\": null, \"status\": \"Completed\", \"run_type\": \"azureml.scriptrun\", \"training_percent\": \"100\", \"start_time\": \"2021-01-13T19:48:36.23729Z\", \"end_time\": \"2021-01-13T19:49:46.984057Z\", \"created_time\": \"2021-01-13T19:48:21.484049Z\", \"created_time_dt\": \"2021-01-13T19:48:21.484049Z\", \"duration\": \"0:01:25\", \"iteration\": \"13\", \"goal\": \"r2_score_max\", \"run_name\": \"MaxAbsScaler, ExtremeRandomTrees\", \"run_properties\": \"copy=True\", \"primary_metric\": 0.99256694, \"best_metric\": 0.99697078}, {\"run_id\": \"AutoML_59700302-37f8-49e7-b45e-6ae854379cf8_14\", \"run_number\": 137, \"metric\": null, \"status\": \"Completed\", \"run_type\": \"azureml.scriptrun\", \"training_percent\": \"100\", \"start_time\": \"2021-01-13T19:49:19.262825Z\", \"end_time\": \"2021-01-13T19:50:20.799487Z\", \"created_time\": \"2021-01-13T19:49:04.75598Z\", \"created_time_dt\": \"2021-01-13T19:49:04.75598Z\", \"duration\": \"0:01:16\", \"iteration\": \"14\", \"goal\": \"r2_score_max\", \"run_name\": \"MaxAbsScaler, ExtremeRandomTrees\", \"run_properties\": \"copy=True\", \"primary_metric\": 0.89496088, \"best_metric\": 0.99697078}, {\"run_id\": \"AutoML_59700302-37f8-49e7-b45e-6ae854379cf8_15\", \"run_number\": 138, \"metric\": null, \"status\": \"Completed\", \"run_type\": \"azureml.scriptrun\", \"training_percent\": \"100\", \"start_time\": \"2021-01-13T19:49:51.490455Z\", \"end_time\": \"2021-01-13T19:53:16.428176Z\", \"created_time\": \"2021-01-13T19:49:36.820408Z\", \"created_time_dt\": \"2021-01-13T19:49:36.820408Z\", \"duration\": \"0:03:39\", \"iteration\": \"15\", \"goal\": \"r2_score_max\", \"run_name\": \"MaxAbsScaler, ExtremeRandomTrees\", \"run_properties\": \"copy=True\", \"primary_metric\": 0.99204482, \"best_metric\": 0.99697078}, {\"run_id\": \"AutoML_59700302-37f8-49e7-b45e-6ae854379cf8_16\", \"run_number\": 139, \"metric\": null, \"status\": \"Completed\", \"run_type\": \"azureml.scriptrun\", \"training_percent\": \"100\", \"start_time\": \"2021-01-13T19:50:04.67391Z\", \"end_time\": \"2021-01-13T19:52:36.875102Z\", \"created_time\": \"2021-01-13T19:49:50.071214Z\", \"created_time_dt\": \"2021-01-13T19:49:50.071214Z\", \"duration\": \"0:02:46\", \"iteration\": \"16\", \"goal\": \"r2_score_max\", \"run_name\": \"MaxAbsScaler, ElasticNet\", \"run_properties\": \"copy=True\", \"primary_metric\": 0.99221145, \"best_metric\": 0.99697078}, {\"run_id\": \"AutoML_59700302-37f8-49e7-b45e-6ae854379cf8_17\", \"run_number\": 140, \"metric\": null, \"status\": \"Completed\", \"run_type\": \"azureml.scriptrun\", \"training_percent\": \"100\", \"start_time\": \"2021-01-13T19:50:26.939535Z\", \"end_time\": \"2021-01-13T19:51:26.716985Z\", \"created_time\": \"2021-01-13T19:50:13.730132Z\", \"created_time_dt\": \"2021-01-13T19:50:13.730132Z\", \"duration\": \"0:01:12\", \"iteration\": \"17\", \"goal\": \"r2_score_max\", \"run_name\": \"MaxAbsScaler, RandomForest\", \"run_properties\": \"copy=True\", \"primary_metric\": 0.88856961, \"best_metric\": 0.99697078}, {\"run_id\": \"AutoML_59700302-37f8-49e7-b45e-6ae854379cf8_18\", \"run_number\": 141, \"metric\": null, \"status\": \"Completed\", \"run_type\": \"azureml.scriptrun\", \"training_percent\": \"100\", \"start_time\": \"2021-01-13T19:50:37.088185Z\", \"end_time\": \"2021-01-13T19:51:28.424159Z\", \"created_time\": \"2021-01-13T19:50:23.839417Z\", \"created_time_dt\": \"2021-01-13T19:50:23.839417Z\", \"duration\": \"0:01:04\", \"iteration\": \"18\", \"goal\": \"r2_score_max\", \"run_name\": \"MaxAbsScaler, RandomForest\", \"run_properties\": \"copy=True\", \"primary_metric\": 0.95822136, \"best_metric\": 0.99697078}, {\"run_id\": \"AutoML_59700302-37f8-49e7-b45e-6ae854379cf8_19\", \"run_number\": 142, \"metric\": null, \"status\": \"Completed\", \"run_type\": \"azureml.scriptrun\", \"training_percent\": \"100\", \"start_time\": \"2021-01-13T19:51:45.688668Z\", \"end_time\": \"2021-01-13T19:55:59.434516Z\", \"created_time\": \"2021-01-13T19:51:29.742627Z\", \"created_time_dt\": \"2021-01-13T19:51:29.742627Z\", \"duration\": \"0:04:29\", \"iteration\": \"19\", \"goal\": \"r2_score_max\", \"run_name\": \"SparseNormalizer, XGBoostRegressor\", \"run_properties\": \"<azureml.automl.runtime.shared.model_wrappers.SparseNormalizer object at 0x7f8516d5bb00\", \"primary_metric\": 0.97019951, \"best_metric\": 0.99697078}, {\"run_id\": \"AutoML_59700302-37f8-49e7-b45e-6ae854379cf8_20\", \"run_number\": 143, \"metric\": null, \"status\": \"Completed\", \"run_type\": \"azureml.scriptrun\", \"training_percent\": \"100\", \"start_time\": \"2021-01-13T19:51:52.077887Z\", \"end_time\": \"2021-01-13T19:53:41.402544Z\", \"created_time\": \"2021-01-13T19:51:35.86107Z\", \"created_time_dt\": \"2021-01-13T19:51:35.86107Z\", \"duration\": \"0:02:05\", \"iteration\": \"20\", \"goal\": \"r2_score_max\", \"run_name\": \"StandardScalerWrapper, RandomForest\", \"run_properties\": \"<azureml.automl.runtime.shared.model_wrappers.StandardScalerWrapper object at 0x7f4cadd92320\", \"primary_metric\": 0.95009754, \"best_metric\": 0.99697078}, {\"run_id\": \"AutoML_59700302-37f8-49e7-b45e-6ae854379cf8_21\", \"run_number\": 144, \"metric\": null, \"status\": \"Completed\", \"run_type\": \"azureml.scriptrun\", \"training_percent\": \"100\", \"start_time\": \"2021-01-13T19:52:54.066165Z\", \"end_time\": \"2021-01-13T19:56:30.426154Z\", \"created_time\": \"2021-01-13T19:52:40.187353Z\", \"created_time_dt\": \"2021-01-13T19:52:40.187353Z\", \"duration\": \"0:03:50\", \"iteration\": \"21\", \"goal\": \"r2_score_max\", \"run_name\": \"MaxAbsScaler, ElasticNet\", \"run_properties\": \"copy=True\", \"primary_metric\": 0.99273084, \"best_metric\": 0.99697078}, {\"run_id\": \"AutoML_59700302-37f8-49e7-b45e-6ae854379cf8_22\", \"run_number\": 145, \"metric\": null, \"status\": \"Completed\", \"run_type\": \"azureml.scriptrun\", \"training_percent\": \"100\", \"start_time\": \"2021-01-13T19:53:31.111114Z\", \"end_time\": \"2021-01-13T19:54:29.378665Z\", \"created_time\": \"2021-01-13T19:53:19.673809Z\", \"created_time_dt\": \"2021-01-13T19:53:19.673809Z\", \"duration\": \"0:01:09\", \"iteration\": \"22\", \"goal\": \"r2_score_max\", \"run_name\": \"MaxAbsScaler, LightGBM\", \"run_properties\": \"copy=True\", \"primary_metric\": 0.99235042, \"best_metric\": 0.99697078}, {\"run_id\": \"AutoML_59700302-37f8-49e7-b45e-6ae854379cf8_23\", \"run_number\": 146, \"metric\": null, \"status\": \"Completed\", \"run_type\": \"azureml.scriptrun\", \"training_percent\": \"100\", \"start_time\": \"2021-01-13T19:53:57.233773Z\", \"end_time\": \"2021-01-13T19:54:48.08469Z\", \"created_time\": \"2021-01-13T19:53:44.568784Z\", \"created_time_dt\": \"2021-01-13T19:53:44.568784Z\", \"duration\": \"0:01:03\", \"iteration\": \"23\", \"goal\": \"r2_score_max\", \"run_name\": \"StandardScalerWrapper, LightGBM\", \"run_properties\": \"<azureml.automl.runtime.shared.model_wrappers.StandardScalerWrapper object at 0x7f2715c4ccc0\", \"primary_metric\": 0.98624027, \"best_metric\": 0.99697078}, {\"run_id\": \"AutoML_59700302-37f8-49e7-b45e-6ae854379cf8_24\", \"run_number\": 147, \"metric\": null, \"status\": \"Completed\", \"run_type\": \"azureml.scriptrun\", \"training_percent\": \"100\", \"start_time\": \"2021-01-13T19:54:44.878028Z\", \"end_time\": \"2021-01-13T19:56:01.939246Z\", \"created_time\": \"2021-01-13T19:54:32.447561Z\", \"created_time_dt\": \"2021-01-13T19:54:32.447561Z\", \"duration\": \"0:01:29\", \"iteration\": \"24\", \"goal\": \"r2_score_max\", \"run_name\": \"StandardScalerWrapper, XGBoostRegressor\", \"run_properties\": \"<azureml.automl.runtime.shared.model_wrappers.StandardScalerWrapper object at 0x7fbf1aa1bd68\", \"primary_metric\": 0.99617273, \"best_metric\": 0.99697078}, {\"run_id\": \"AutoML_59700302-37f8-49e7-b45e-6ae854379cf8_25\", \"run_number\": 148, \"metric\": null, \"status\": \"Completed\", \"run_type\": \"azureml.scriptrun\", \"training_percent\": \"100\", \"start_time\": \"2021-01-13T19:55:09.526391Z\", \"end_time\": \"2021-01-13T19:59:36.02872Z\", \"created_time\": \"2021-01-13T19:54:52.058908Z\", \"created_time_dt\": \"2021-01-13T19:54:52.058908Z\", \"duration\": \"0:04:43\", \"iteration\": \"25\", \"goal\": \"r2_score_max\", \"run_name\": \"StandardScalerWrapper, XGBoostRegressor\", \"run_properties\": \"<azureml.automl.runtime.shared.model_wrappers.StandardScalerWrapper object at 0x7f18fbccdb38\", \"primary_metric\": 0.99708109, \"best_metric\": 0.99708109}, {\"run_id\": \"AutoML_59700302-37f8-49e7-b45e-6ae854379cf8_26\", \"run_number\": 149, \"metric\": null, \"status\": \"Completed\", \"run_type\": \"azureml.scriptrun\", \"training_percent\": \"100\", \"start_time\": \"2021-01-13T19:56:16.008972Z\", \"end_time\": \"2021-01-13T19:57:09.062627Z\", \"created_time\": \"2021-01-13T19:56:03.044545Z\", \"created_time_dt\": \"2021-01-13T19:56:03.044545Z\", \"duration\": \"0:01:06\", \"iteration\": \"26\", \"goal\": \"r2_score_max\", \"run_name\": \"MaxAbsScaler, LightGBM\", \"run_properties\": \"copy=True\", \"primary_metric\": 0.98330258, \"best_metric\": 0.99708109}, {\"run_id\": \"AutoML_59700302-37f8-49e7-b45e-6ae854379cf8_27\", \"run_number\": 150, \"metric\": null, \"status\": \"Completed\", \"run_type\": \"azureml.scriptrun\", \"training_percent\": \"100\", \"start_time\": \"2021-01-13T19:56:20.479987Z\", \"end_time\": \"2021-01-13T19:57:07.939538Z\", \"created_time\": \"2021-01-13T19:56:08.427243Z\", \"created_time_dt\": \"2021-01-13T19:56:08.427243Z\", \"duration\": \"0:00:59\", \"iteration\": \"27\", \"goal\": \"r2_score_max\", \"run_name\": \"StandardScalerWrapper, LightGBM\", \"run_properties\": \"<azureml.automl.runtime.shared.model_wrappers.StandardScalerWrapper object at 0x7fed9d7b7860\", \"primary_metric\": 0.98868269, \"best_metric\": 0.99708109}, {\"run_id\": \"AutoML_59700302-37f8-49e7-b45e-6ae854379cf8_28\", \"run_number\": 151, \"metric\": null, \"status\": \"Completed\", \"run_type\": \"azureml.scriptrun\", \"training_percent\": \"100\", \"start_time\": \"2021-01-13T19:56:49.829561Z\", \"end_time\": \"2021-01-13T19:57:40.089145Z\", \"created_time\": \"2021-01-13T19:56:33.301623Z\", \"created_time_dt\": \"2021-01-13T19:56:33.301623Z\", \"duration\": \"0:01:06\", \"iteration\": \"28\", \"goal\": \"r2_score_max\", \"run_name\": \"MaxAbsScaler, LightGBM\", \"run_properties\": \"copy=True\", \"primary_metric\": 0.97911399, \"best_metric\": 0.99708109}, {\"run_id\": \"AutoML_59700302-37f8-49e7-b45e-6ae854379cf8_29\", \"run_number\": 152, \"metric\": null, \"status\": \"Completed\", \"run_type\": \"azureml.scriptrun\", \"training_percent\": \"100\", \"start_time\": \"2021-01-13T19:57:26.188151Z\", \"end_time\": \"2021-01-13T19:59:09.631226Z\", \"created_time\": \"2021-01-13T19:57:10.937557Z\", \"created_time_dt\": \"2021-01-13T19:57:10.937557Z\", \"duration\": \"0:01:58\", \"iteration\": \"29\", \"goal\": \"r2_score_max\", \"run_name\": \"SparseNormalizer, XGBoostRegressor\", \"run_properties\": \"<azureml.automl.runtime.shared.model_wrappers.SparseNormalizer object at 0x7fa1c8fb2a90\", \"primary_metric\": 0.97258341, \"best_metric\": 0.99708109}, {\"run_id\": \"AutoML_59700302-37f8-49e7-b45e-6ae854379cf8_30\", \"run_number\": 153, \"metric\": null, \"status\": \"Completed\", \"run_type\": \"azureml.scriptrun\", \"training_percent\": \"100\", \"start_time\": \"2021-01-13T19:57:30.115532Z\", \"end_time\": \"2021-01-13T19:59:11.33209Z\", \"created_time\": \"2021-01-13T19:57:19.131159Z\", \"created_time_dt\": \"2021-01-13T19:57:19.131159Z\", \"duration\": \"0:01:52\", \"iteration\": \"30\", \"goal\": \"r2_score_max\", \"run_name\": \"TruncatedSVDWrapper, XGBoostRegressor\", \"run_properties\": \"n_components=0.5542105263157895, random_state=None\", \"primary_metric\": 0.96956416, \"best_metric\": 0.99708109}, {\"run_id\": \"AutoML_59700302-37f8-49e7-b45e-6ae854379cf8_31\", \"run_number\": 154, \"metric\": null, \"status\": \"Canceled\", \"run_type\": \"azureml.scriptrun\", \"training_percent\": \"100\", \"start_time\": \"2021-01-13T19:57:57.209873Z\", \"end_time\": \"2021-01-13T20:03:15.080751Z\", \"created_time\": \"2021-01-13T19:57:42.824744Z\", \"created_time_dt\": \"2021-01-13T19:57:42.824744Z\", \"duration\": \"0:05:32\", \"iteration\": \"31\", \"goal\": null, \"run_name\": \"MaxAbsScaler, RandomForest\", \"run_properties\": null}, {\"run_id\": \"AutoML_59700302-37f8-49e7-b45e-6ae854379cf8_32\", \"run_number\": 155, \"metric\": null, \"status\": \"Completed\", \"run_type\": \"azureml.scriptrun\", \"training_percent\": \"100\", \"start_time\": \"2021-01-13T19:59:30.503462Z\", \"end_time\": \"2021-01-13T20:00:18.182715Z\", \"created_time\": \"2021-01-13T19:59:12.650646Z\", \"created_time_dt\": \"2021-01-13T19:59:12.650646Z\", \"duration\": \"0:01:05\", \"iteration\": \"32\", \"goal\": \"r2_score_max\", \"run_name\": \"MaxAbsScaler, SGD\", \"run_properties\": \"copy=True\", \"primary_metric\": 0.98908573, \"best_metric\": 0.99708109}, {\"run_id\": \"AutoML_59700302-37f8-49e7-b45e-6ae854379cf8_33\", \"run_number\": 156, \"metric\": null, \"status\": \"Completed\", \"run_type\": \"azureml.scriptrun\", \"training_percent\": \"100\", \"start_time\": \"2021-01-13T19:59:39.375014Z\", \"end_time\": \"2021-01-13T20:00:35.762042Z\", \"created_time\": \"2021-01-13T19:59:20.855574Z\", \"created_time_dt\": \"2021-01-13T19:59:20.855574Z\", \"duration\": \"0:01:14\", \"iteration\": \"33\", \"goal\": \"r2_score_max\", \"run_name\": \"MaxAbsScaler, SGD\", \"run_properties\": \"copy=True\", \"primary_metric\": 0.97038304, \"best_metric\": 0.99708109}, {\"run_id\": \"AutoML_59700302-37f8-49e7-b45e-6ae854379cf8_34\", \"run_number\": 157, \"metric\": null, \"status\": \"Canceled\", \"run_type\": \"azureml.scriptrun\", \"training_percent\": \"100\", \"start_time\": \"2021-01-13T19:59:52.485312Z\", \"end_time\": \"2021-01-13T20:03:16.595439Z\", \"created_time\": \"2021-01-13T19:59:39.066139Z\", \"created_time_dt\": \"2021-01-13T19:59:39.066139Z\", \"duration\": \"0:03:37\", \"iteration\": \"34\", \"goal\": null, \"run_name\": \"MaxAbsScaler, ElasticNet\", \"run_properties\": null}, {\"run_id\": \"AutoML_59700302-37f8-49e7-b45e-6ae854379cf8_35\", \"run_number\": 158, \"metric\": null, \"status\": \"Completed\", \"run_type\": \"azureml.scriptrun\", \"training_percent\": \"100\", \"start_time\": \"2021-01-13T20:00:36.061925Z\", \"end_time\": \"2021-01-13T20:01:51.722683Z\", \"created_time\": \"2021-01-13T20:00:22.567655Z\", \"created_time_dt\": \"2021-01-13T20:00:22.567655Z\", \"duration\": \"0:01:29\", \"iteration\": \"35\", \"goal\": \"r2_score_max\", \"run_name\": \"StandardScalerWrapper, XGBoostRegressor\", \"run_properties\": \"<azureml.automl.runtime.shared.model_wrappers.StandardScalerWrapper object at 0x7f9c73144cf8\", \"primary_metric\": 0.99631681, \"best_metric\": 0.99708109}, {\"run_id\": \"AutoML_59700302-37f8-49e7-b45e-6ae854379cf8_36\", \"run_number\": 159, \"metric\": null, \"status\": \"Canceled\", \"run_type\": \"azureml.scriptrun\", \"training_percent\": \"100\", \"start_time\": \"2021-01-13T20:00:55.214111Z\", \"end_time\": \"2021-01-13T20:03:15.086477Z\", \"created_time\": \"2021-01-13T20:00:39.288548Z\", \"created_time_dt\": \"2021-01-13T20:00:39.288548Z\", \"duration\": \"0:02:35\", \"iteration\": \"36\", \"goal\": null, \"run_name\": \"MaxAbsScaler, RandomForest\", \"run_properties\": null}, {\"run_id\": \"AutoML_59700302-37f8-49e7-b45e-6ae854379cf8_37\", \"run_number\": 160, \"metric\": null, \"status\": \"Completed\", \"run_type\": \"azureml.scriptrun\", \"training_percent\": \"100\", \"start_time\": \"2021-01-13T20:02:11.178913Z\", \"end_time\": \"2021-01-13T20:03:05.483404Z\", \"created_time\": \"2021-01-13T20:01:53.622963Z\", \"created_time_dt\": \"2021-01-13T20:01:53.622963Z\", \"duration\": \"0:01:11\", \"iteration\": \"37\", \"goal\": \"r2_score_max\", \"run_name\": \"MaxAbsScaler, DecisionTree\", \"run_properties\": \"copy=True\", \"primary_metric\": 0.96585583, \"best_metric\": 0.99708109}, {\"run_id\": \"AutoML_59700302-37f8-49e7-b45e-6ae854379cf8_39\", \"run_number\": 161, \"metric\": null, \"status\": \"Completed\", \"run_type\": \"azureml.scriptrun\", \"training_percent\": \"100\", \"start_time\": \"2021-01-13T20:03:35.911285Z\", \"end_time\": \"2021-01-13T20:05:28.871798Z\", \"created_time\": \"2021-01-13T20:03:19.671499Z\", \"created_time_dt\": \"2021-01-13T20:03:19.671499Z\", \"duration\": \"0:02:09\", \"iteration\": \"39\", \"goal\": \"r2_score_max\", \"run_name\": \"StackEnsemble\", \"run_properties\": \"base_learners=[('25',\\n                                       Pipeline(memory=None,\\n                                                steps=[('standardscalerwrapper',\\n                                                        <azureml.automl.runtime.shared.model_wrappers.StandardScalerWrapper object at 0x7fb5cecc3048>\", \"primary_metric\": 0.9976823, \"best_metric\": 0.9976823}, {\"run_id\": \"AutoML_59700302-37f8-49e7-b45e-6ae854379cf8_38\", \"run_number\": 162, \"metric\": null, \"status\": \"Completed\", \"run_type\": \"azureml.scriptrun\", \"training_percent\": \"100\", \"start_time\": \"2021-01-13T20:03:38.520775Z\", \"end_time\": \"2021-01-13T20:05:25.145707Z\", \"created_time\": \"2021-01-13T20:03:19.681353Z\", \"created_time_dt\": \"2021-01-13T20:03:19.681353Z\", \"duration\": \"0:02:05\", \"iteration\": \"38\", \"goal\": \"r2_score_max\", \"run_name\": \"VotingEnsemble\", \"run_properties\": \"estimators=[('25',\\n                                          Pipeline(memory=None,\\n                                                   steps=[('standardscalerwrapper',\\n                                                           <azureml.automl.runtime.shared.model_wrappers.StandardScalerWrapper object at 0x7f285779feb8>\", \"primary_metric\": 0.99767305, \"best_metric\": 0.99767305}], \"children_metrics\": {\"categories\": [0], \"series\": {\"normalized_mean_absolute_error\": [{\"categories\": [\"0\", \"1\", \"2\", \"3\", \"4\", \"5\", \"6\", \"7\", \"8\", \"9\", \"10\", \"11\", \"12\", \"13\", \"14\", \"15\", \"16\", \"17\", \"18\", \"19\", \"20\", \"21\", \"22\", \"23\", \"24\", \"25\", \"26\", \"27\", \"28\", \"29\", \"30\", \"32\", \"33\", \"35\", \"37\", \"38\", \"39\"], \"mode\": \"markers\", \"name\": \"normalized_mean_absolute_error\", \"stepped\": false, \"type\": \"scatter\", \"data\": [0.005190637867433774, 0.005614365980155516, 0.01769319370251616, 0.008134434554397552, 0.004992424942127284, 0.007387745916215349, 0.011095086310470403, 0.0051541828287016, 0.005936848976512594, 0.009382586811620785, 0.06365954268261126, 0.07326781520163837, 0.04211217754339184, 0.00659185242092464, 0.02461924309139968, 0.006251899204306532, 0.008169749252477718, 0.027064621950266755, 0.01658089044577124, 0.013093322706746265, 0.015972471595534377, 0.00785767012942089, 0.007762874277137809, 0.010216323341225684, 0.005833834184628746, 0.005227615239633071, 0.010557637417098665, 0.00850441879553183, 0.011404352150971414, 0.012803100249858248, 0.012944579825239388, 0.008225194726029858, 0.015905021373485897, 0.005872027994738318, 0.015451955335970038, 0.004673625443248477, 0.00466405830812608]}, {\"categories\": [\"0\", \"1\", \"2\", \"3\", \"4\", \"5\", \"6\", \"7\", \"8\", \"9\", \"10\", \"11\", \"12\", \"13\", \"14\", \"15\", \"16\", \"17\", \"18\", \"19\", \"20\", \"21\", \"22\", \"23\", \"24\", \"25\", \"26\", \"27\", \"28\", \"29\", \"30\", \"32\", \"33\", \"35\", \"37\", \"38\", \"39\"], \"mode\": \"lines\", \"name\": \"normalized_mean_absolute_error_min\", \"stepped\": true, \"type\": \"scatter\", \"data\": [0.005190637867433774, 0.005190637867433774, 0.005190637867433774, 0.005190637867433774, 0.004992424942127284, 0.004992424942127284, 0.004992424942127284, 0.004992424942127284, 0.004992424942127284, 0.004992424942127284, 0.004992424942127284, 0.004992424942127284, 0.004992424942127284, 0.004992424942127284, 0.004992424942127284, 0.004992424942127284, 0.004992424942127284, 0.004992424942127284, 0.004992424942127284, 0.004992424942127284, 0.004992424942127284, 0.004992424942127284, 0.004992424942127284, 0.004992424942127284, 0.004992424942127284, 0.004992424942127284, 0.004992424942127284, 0.004992424942127284, 0.004992424942127284, 0.004992424942127284, 0.004992424942127284, 0.004992424942127284, 0.004992424942127284, 0.004992424942127284, 0.004992424942127284, 0.004673625443248477, 0.00466405830812608]}], \"median_absolute_error\": [{\"categories\": [\"0\", \"1\", \"2\", \"3\", \"4\", \"5\", \"6\", \"7\", \"8\", \"9\", \"10\", \"11\", \"12\", \"13\", \"14\", \"15\", \"16\", \"17\", \"18\", \"19\", \"20\", \"21\", \"22\", \"23\", \"24\", \"25\", \"26\", \"27\", \"28\", \"29\", \"30\", \"32\", \"33\", \"35\", \"37\", \"38\", \"39\"], \"mode\": \"markers\", \"name\": \"median_absolute_error\", \"stepped\": false, \"type\": \"scatter\", \"data\": [0.0270731576345072, 0.029900336265564098, 0.08200756708780917, 0.03417528255074923, 0.02664226690928147, 0.035773268946183524, 0.043657501043571724, 0.027823885281880695, 0.028407021846071395, 0.04496486186763593, 0.3104904735014615, 0.36513697745492163, 0.26591242154439293, 0.03147256416201275, 0.09444680622665495, 0.029447070313661488, 0.040480929998394366, 0.11270257890727746, 0.07339164974094547, 0.053028122584025006, 0.059450173350453106, 0.038252319284501235, 0.03977363165298079, 0.048944867042828154, 0.030699602762858175, 0.02853050231933592, 0.04823490348093854, 0.03941780740128268, 0.0506784776056719, 0.053666353225708084, 0.05580280621846515, 0.039303019282497687, 0.0807707229643222, 0.030897442499796462, 0.07331434950816924, 0.02601393358280424, 0.026075060432363035]}, {\"categories\": [\"0\", \"1\", \"2\", \"3\", \"4\", \"5\", \"6\", \"7\", \"8\", \"9\", \"10\", \"11\", \"12\", \"13\", \"14\", \"15\", \"16\", \"17\", \"18\", \"19\", \"20\", \"21\", \"22\", \"23\", \"24\", \"25\", \"26\", \"27\", \"28\", \"29\", \"30\", \"32\", \"33\", \"35\", \"37\", \"38\", \"39\"], \"mode\": \"lines\", \"name\": \"median_absolute_error_min\", \"stepped\": true, \"type\": \"scatter\", \"data\": [0.0270731576345072, 0.0270731576345072, 0.0270731576345072, 0.0270731576345072, 0.02664226690928147, 0.02664226690928147, 0.02664226690928147, 0.02664226690928147, 0.02664226690928147, 0.02664226690928147, 0.02664226690928147, 0.02664226690928147, 0.02664226690928147, 0.02664226690928147, 0.02664226690928147, 0.02664226690928147, 0.02664226690928147, 0.02664226690928147, 0.02664226690928147, 0.02664226690928147, 0.02664226690928147, 0.02664226690928147, 0.02664226690928147, 0.02664226690928147, 0.02664226690928147, 0.02664226690928147, 0.02664226690928147, 0.02664226690928147, 0.02664226690928147, 0.02664226690928147, 0.02664226690928147, 0.02664226690928147, 0.02664226690928147, 0.02664226690928147, 0.02664226690928147, 0.02601393358280424, 0.02601393358280424]}], \"explained_variance\": [{\"categories\": [\"0\", \"1\", \"2\", \"3\", \"4\", \"5\", \"6\", \"7\", \"8\", \"9\", \"10\", \"11\", \"12\", \"13\", \"14\", \"15\", \"16\", \"17\", \"18\", \"19\", \"20\", \"21\", \"22\", \"23\", \"24\", \"25\", \"26\", \"27\", \"28\", \"29\", \"30\", \"32\", \"33\", \"35\", \"37\", \"38\", \"39\"], \"mode\": \"markers\", \"name\": \"explained_variance\", \"stepped\": false, \"type\": \"scatter\", \"data\": [0.996373788878197, 0.9967147871028751, 0.9583278023444102, 0.9854848186455053, 0.9969718261917245, 0.9934602901636218, 0.9742439498297197, 0.9969004224625896, 0.9930773834540574, 0.9893659532623484, 0.5460651171741874, 0.41423020392500565, 0.9853353532223109, 0.9925676781712328, 0.8949874351050041, 0.9920449962547621, 0.9922153443616275, 0.8885994878541154, 0.9582326311076343, 0.9702327643766692, 0.9501119880396408, 0.9927341538321782, 0.9923547394020714, 0.9862483512133765, 0.9961736329515691, 0.9970813539658651, 0.9833095106946631, 0.9886851384521691, 0.9791186750450583, 0.9726095819551014, 0.9695728961111526, 0.9892021772924662, 0.9704251196162456, 0.9963172813754713, 0.9658635013826445, 0.9976740374529136, 0.9976842882949178]}, {\"categories\": [\"0\", \"1\", \"2\", \"3\", \"4\", \"5\", \"6\", \"7\", \"8\", \"9\", \"10\", \"11\", \"12\", \"13\", \"14\", \"15\", \"16\", \"17\", \"18\", \"19\", \"20\", \"21\", \"22\", \"23\", \"24\", \"25\", \"26\", \"27\", \"28\", \"29\", \"30\", \"32\", \"33\", \"35\", \"37\", \"38\", \"39\"], \"mode\": \"lines\", \"name\": \"explained_variance_max\", \"stepped\": true, \"type\": \"scatter\", \"data\": [0.996373788878197, 0.9967147871028751, 0.9967147871028751, 0.9967147871028751, 0.9969718261917245, 0.9969718261917245, 0.9969718261917245, 0.9969718261917245, 0.9969718261917245, 0.9969718261917245, 0.9969718261917245, 0.9969718261917245, 0.9969718261917245, 0.9969718261917245, 0.9969718261917245, 0.9969718261917245, 0.9969718261917245, 0.9969718261917245, 0.9969718261917245, 0.9969718261917245, 0.9969718261917245, 0.9969718261917245, 0.9969718261917245, 0.9969718261917245, 0.9969718261917245, 0.9970813539658651, 0.9970813539658651, 0.9970813539658651, 0.9970813539658651, 0.9970813539658651, 0.9970813539658651, 0.9970813539658651, 0.9970813539658651, 0.9970813539658651, 0.9970813539658651, 0.9976740374529136, 0.9976842882949178]}], \"normalized_root_mean_squared_log_error\": [{\"categories\": [\"0\", \"1\", \"2\", \"3\", \"4\", \"5\", \"6\", \"7\", \"8\", \"9\", \"10\", \"11\", \"12\", \"13\", \"14\", \"15\", \"16\", \"17\", \"18\", \"19\", \"20\", \"21\", \"22\", \"23\", \"24\", \"25\", \"26\", \"27\", \"28\", \"29\", \"30\", \"32\", \"33\", \"35\", \"37\", \"38\", \"39\"], \"mode\": \"markers\", \"name\": \"normalized_root_mean_squared_log_error\", \"stepped\": false, \"type\": \"scatter\", \"data\": [0.008081838577103326, 0.007067423705577333, 0.024549976751878994, 0.017030176271577296, 0.007348749601572614, 0.010650181334972503, 0.021327779808666302, 0.007415322092781431, 0.012165313412183387, 0.011927703364609868, 0.08135709989880478, 0.09167358125363105, 0.040635238890692545, 0.012192796036762077, 0.04090246973870236, 0.013057363961093802, 0.011251785112542758, 0.041078454533633915, 0.026697099711169767, 0.02142571030092032, 0.029484778530285055, 0.010978533051981695, 0.011339890656214139, 0.01515058619302237, 0.007781783248407884, 0.006919041964883907, 0.017538620930814573, 0.014176321596713013, 0.019354139614890128, 0.020338781897435976, 0.021275251502589368, 0.01326519300701435, 0.020810183475147005, 0.0075015904093939266, 0.023319415932192517, 0.006144048254465848, 0.006180346562846104]}, {\"categories\": [\"0\", \"1\", \"2\", \"3\", \"4\", \"5\", \"6\", \"7\", \"8\", \"9\", \"10\", \"11\", \"12\", \"13\", \"14\", \"15\", \"16\", \"17\", \"18\", \"19\", \"20\", \"21\", \"22\", \"23\", \"24\", \"25\", \"26\", \"27\", \"28\", \"29\", \"30\", \"32\", \"33\", \"35\", \"37\", \"38\", \"39\"], \"mode\": \"lines\", \"name\": \"normalized_root_mean_squared_log_error_min\", \"stepped\": true, \"type\": \"scatter\", \"data\": [0.008081838577103326, 0.007067423705577333, 0.007067423705577333, 0.007067423705577333, 0.007067423705577333, 0.007067423705577333, 0.007067423705577333, 0.007067423705577333, 0.007067423705577333, 0.007067423705577333, 0.007067423705577333, 0.007067423705577333, 0.007067423705577333, 0.007067423705577333, 0.007067423705577333, 0.007067423705577333, 0.007067423705577333, 0.007067423705577333, 0.007067423705577333, 0.007067423705577333, 0.007067423705577333, 0.007067423705577333, 0.007067423705577333, 0.007067423705577333, 0.007067423705577333, 0.006919041964883907, 0.006919041964883907, 0.006919041964883907, 0.006919041964883907, 0.006919041964883907, 0.006919041964883907, 0.006919041964883907, 0.006919041964883907, 0.006919041964883907, 0.006919041964883907, 0.006144048254465848, 0.006144048254465848]}], \"normalized_root_mean_squared_error\": [{\"categories\": [\"0\", \"1\", \"2\", \"3\", \"4\", \"5\", \"6\", \"7\", \"8\", \"9\", \"10\", \"11\", \"12\", \"13\", \"14\", \"15\", \"16\", \"17\", \"18\", \"19\", \"20\", \"21\", \"22\", \"23\", \"24\", \"25\", \"26\", \"27\", \"28\", \"29\", \"30\", \"32\", \"33\", \"35\", \"37\", \"38\", \"39\"], \"mode\": \"markers\", \"name\": \"normalized_root_mean_squared_error\", \"stepped\": false, \"type\": \"scatter\", \"data\": [0.007566282712663513, 0.007196462472290604, 0.02564360882216533, 0.015131444182140496, 0.006913377683840055, 0.010159211851703976, 0.020160286211910752, 0.006987581197807098, 0.010450916622759336, 0.012957810890035738, 0.08465462987295745, 0.09612153859342117, 0.04462861891620561, 0.01082942988214789, 0.04070613389875898, 0.011203899809717319, 0.011082876982407836, 0.041933060552548695, 0.025644209700529347, 0.021670775961298044, 0.02805993370283093, 0.010706963608280598, 0.010979628424186672, 0.014726974407973908, 0.007768446600250796, 0.006784307836985949, 0.016231140348033603, 0.013358945786296835, 0.01815171700321187, 0.02078442528970367, 0.021870391857420138, 0.01312129490795156, 0.021609089193372916, 0.007623596122710331, 0.023196887012140902, 0.00605877013618411, 0.006045934476001231]}, {\"categories\": [\"0\", \"1\", \"2\", \"3\", \"4\", \"5\", \"6\", \"7\", \"8\", \"9\", \"10\", \"11\", \"12\", \"13\", \"14\", \"15\", \"16\", \"17\", \"18\", \"19\", \"20\", \"21\", \"22\", \"23\", \"24\", \"25\", \"26\", \"27\", \"28\", \"29\", \"30\", \"32\", \"33\", \"35\", \"37\", \"38\", \"39\"], \"mode\": \"lines\", \"name\": \"normalized_root_mean_squared_error_min\", \"stepped\": true, \"type\": \"scatter\", \"data\": [0.007566282712663513, 0.007196462472290604, 0.007196462472290604, 0.007196462472290604, 0.006913377683840055, 0.006913377683840055, 0.006913377683840055, 0.006913377683840055, 0.006913377683840055, 0.006913377683840055, 0.006913377683840055, 0.006913377683840055, 0.006913377683840055, 0.006913377683840055, 0.006913377683840055, 0.006913377683840055, 0.006913377683840055, 0.006913377683840055, 0.006913377683840055, 0.006913377683840055, 0.006913377683840055, 0.006913377683840055, 0.006913377683840055, 0.006913377683840055, 0.006913377683840055, 0.006784307836985949, 0.006784307836985949, 0.006784307836985949, 0.006784307836985949, 0.006784307836985949, 0.006784307836985949, 0.006784307836985949, 0.006784307836985949, 0.006784307836985949, 0.006784307836985949, 0.00605877013618411, 0.006045934476001231]}], \"spearman_correlation\": [{\"categories\": [\"0\", \"1\", \"2\", \"3\", \"4\", \"5\", \"6\", \"7\", \"8\", \"9\", \"10\", \"11\", \"12\", \"13\", \"14\", \"15\", \"16\", \"17\", \"18\", \"19\", \"20\", \"21\", \"22\", \"23\", \"24\", \"25\", \"26\", \"27\", \"28\", \"29\", \"30\", \"32\", \"33\", \"35\", \"37\", \"38\", \"39\"], \"mode\": \"markers\", \"name\": \"spearman_correlation\", \"stepped\": false, \"type\": \"scatter\", \"data\": [0.9984264945525152, 0.9983129898732499, 0.9802976528424437, 0.9964806681764048, 0.9986076343715591, 0.997884213081022, 0.9935406858480699, 0.9985327042143509, 0.9981561446941146, 0.9977381950630964, 0.8828361595093167, 0.805757228710854, 0.9977993963991146, 0.9976211055286289, 0.9801686351744477, 0.9979758140255942, 0.9973141998682067, 0.9680815998058397, 0.9877267260087571, 0.9879653289790026, 0.9909410024098865, 0.9975694452653805, 0.9966126463213416, 0.9942608396572465, 0.9982100825097042, 0.9985535656730152, 0.9970132238384307, 0.9966372308337932, 0.9967378652265353, 0.9887529500072733, 0.9839902271618608, 0.9948873750300242, 0.9857847233376767, 0.9980571705967137, 0.9877343322355915, 0.9988094673841145, 0.9988041346347488]}, {\"categories\": [\"0\", \"1\", \"2\", \"3\", \"4\", \"5\", \"6\", \"7\", \"8\", \"9\", \"10\", \"11\", \"12\", \"13\", \"14\", \"15\", \"16\", \"17\", \"18\", \"19\", \"20\", \"21\", \"22\", \"23\", \"24\", \"25\", \"26\", \"27\", \"28\", \"29\", \"30\", \"32\", \"33\", \"35\", \"37\", \"38\", \"39\"], \"mode\": \"lines\", \"name\": \"spearman_correlation_max\", \"stepped\": true, \"type\": \"scatter\", \"data\": [0.9984264945525152, 0.9984264945525152, 0.9984264945525152, 0.9984264945525152, 0.9986076343715591, 0.9986076343715591, 0.9986076343715591, 0.9986076343715591, 0.9986076343715591, 0.9986076343715591, 0.9986076343715591, 0.9986076343715591, 0.9986076343715591, 0.9986076343715591, 0.9986076343715591, 0.9986076343715591, 0.9986076343715591, 0.9986076343715591, 0.9986076343715591, 0.9986076343715591, 0.9986076343715591, 0.9986076343715591, 0.9986076343715591, 0.9986076343715591, 0.9986076343715591, 0.9986076343715591, 0.9986076343715591, 0.9986076343715591, 0.9986076343715591, 0.9986076343715591, 0.9986076343715591, 0.9986076343715591, 0.9986076343715591, 0.9986076343715591, 0.9986076343715591, 0.9988094673841145, 0.9988094673841145]}], \"r2_score\": [{\"categories\": [\"0\", \"1\", \"2\", \"3\", \"4\", \"5\", \"6\", \"7\", \"8\", \"9\", \"10\", \"11\", \"12\", \"13\", \"14\", \"15\", \"16\", \"17\", \"18\", \"19\", \"20\", \"21\", \"22\", \"23\", \"24\", \"25\", \"26\", \"27\", \"28\", \"29\", \"30\", \"32\", \"33\", \"35\", \"37\", \"38\", \"39\"], \"mode\": \"markers\", \"name\": \"r2_score\", \"stepped\": false, \"type\": \"scatter\", \"data\": [0.9963716314000899, 0.996713372920654, 0.9583245549956271, 0.9854829087968224, 0.99697077528036, 0.9934566286230516, 0.9742361637855437, 0.9968984910486708, 0.9930768320751698, 0.989357759054209, 0.5458239975463272, 0.41395222523067665, 0.8737560420009888, 0.9925669444940736, 0.8949608829625363, 0.9920448197213845, 0.9922114496227086, 0.888569611529097, 0.9582213586035961, 0.9701995069811175, 0.9500975432371934, 0.9927308445678223, 0.9923504218263025, 0.9862402679202966, 0.9961727257583674, 0.9970810863150857, 0.9833025799098953, 0.9886826895502491, 0.9791139892711604, 0.9725834137429675, 0.9695641564765604, 0.9890857310816088, 0.9703830410382671, 0.9963168120154046, 0.9658558266648146, 0.9976730520359259, 0.9976823008050003]}, {\"categories\": [\"0\", \"1\", \"2\", \"3\", \"4\", \"5\", \"6\", \"7\", \"8\", \"9\", \"10\", \"11\", \"12\", \"13\", \"14\", \"15\", \"16\", \"17\", \"18\", \"19\", \"20\", \"21\", \"22\", \"23\", \"24\", \"25\", \"26\", \"27\", \"28\", \"29\", \"30\", \"32\", \"33\", \"35\", \"37\", \"38\", \"39\"], \"mode\": \"lines\", \"name\": \"r2_score_max\", \"stepped\": true, \"type\": \"scatter\", \"data\": [0.9963716314000899, 0.996713372920654, 0.996713372920654, 0.996713372920654, 0.99697077528036, 0.99697077528036, 0.99697077528036, 0.99697077528036, 0.99697077528036, 0.99697077528036, 0.99697077528036, 0.99697077528036, 0.99697077528036, 0.99697077528036, 0.99697077528036, 0.99697077528036, 0.99697077528036, 0.99697077528036, 0.99697077528036, 0.99697077528036, 0.99697077528036, 0.99697077528036, 0.99697077528036, 0.99697077528036, 0.99697077528036, 0.9970810863150857, 0.9970810863150857, 0.9970810863150857, 0.9970810863150857, 0.9970810863150857, 0.9970810863150857, 0.9970810863150857, 0.9970810863150857, 0.9970810863150857, 0.9970810863150857, 0.9976730520359259, 0.9976823008050003]}], \"mean_absolute_percentage_error\": [{\"categories\": [\"0\", \"1\", \"2\", \"3\", \"4\", \"5\", \"6\", \"7\", \"8\", \"9\", \"10\", \"11\", \"12\", \"13\", \"14\", \"15\", \"16\", \"17\", \"18\", \"19\", \"20\", \"21\", \"22\", \"23\", \"24\", \"25\", \"26\", \"27\", \"28\", \"29\", \"30\", \"32\", \"33\", \"35\", \"37\", \"38\", \"39\"], \"mode\": \"markers\", \"name\": \"mean_absolute_percentage_error\", \"stepped\": false, \"type\": \"scatter\", \"data\": [0.8571639856130625, 0.9007201200974085, 2.8415593095192917, 1.4124339249832902, 0.8190115998486592, 1.2032228343273892, 1.9018915537568013, 0.8416210949836783, 1.0233889474639766, 1.4491214728864925, 10.509526265673703, 12.046195136391603, 6.350093838515527, 1.1143950995486585, 4.1925687818945, 1.0828409812564133, 1.3182450983055949, 4.510350604754013, 2.801297063430438, 2.159340701087032, 2.759823108736546, 1.2715346524095281, 1.2660794743257562, 1.6808785281072562, 0.9386946075347499, 0.8465652498396256, 1.7867253260906157, 1.4119015333681348, 1.9282873871303907, 2.0923063552347867, 2.1040629793090773, 1.3498663069952983, 2.5282894982292086, 0.9422531226866088, 2.5628134434439236, 0.7541771910080524, 0.7544556057261715]}, {\"categories\": [\"0\", \"1\", \"2\", \"3\", \"4\", \"5\", \"6\", \"7\", \"8\", \"9\", \"10\", \"11\", \"12\", \"13\", \"14\", \"15\", \"16\", \"17\", \"18\", \"19\", \"20\", \"21\", \"22\", \"23\", \"24\", \"25\", \"26\", \"27\", \"28\", \"29\", \"30\", \"32\", \"33\", \"35\", \"37\", \"38\", \"39\"], \"mode\": \"lines\", \"name\": \"mean_absolute_percentage_error_min\", \"stepped\": true, \"type\": \"scatter\", \"data\": [0.8571639856130625, 0.8571639856130625, 0.8571639856130625, 0.8571639856130625, 0.8190115998486592, 0.8190115998486592, 0.8190115998486592, 0.8190115998486592, 0.8190115998486592, 0.8190115998486592, 0.8190115998486592, 0.8190115998486592, 0.8190115998486592, 0.8190115998486592, 0.8190115998486592, 0.8190115998486592, 0.8190115998486592, 0.8190115998486592, 0.8190115998486592, 0.8190115998486592, 0.8190115998486592, 0.8190115998486592, 0.8190115998486592, 0.8190115998486592, 0.8190115998486592, 0.8190115998486592, 0.8190115998486592, 0.8190115998486592, 0.8190115998486592, 0.8190115998486592, 0.8190115998486592, 0.8190115998486592, 0.8190115998486592, 0.8190115998486592, 0.8190115998486592, 0.7541771910080524, 0.7541771910080524]}], \"root_mean_squared_log_error\": [{\"categories\": [\"0\", \"1\", \"2\", \"3\", \"4\", \"5\", \"6\", \"7\", \"8\", \"9\", \"10\", \"11\", \"12\", \"13\", \"14\", \"15\", \"16\", \"17\", \"18\", \"19\", \"20\", \"21\", \"22\", \"23\", \"24\", \"25\", \"26\", \"27\", \"28\", \"29\", \"30\", \"32\", \"33\", \"35\", \"37\", \"38\", \"39\"], \"mode\": \"markers\", \"name\": \"root_mean_squared_log_error\", \"stepped\": false, \"type\": \"scatter\", \"data\": [0.010752190402561007, 0.00940259875435139, 0.03266163038228601, 0.02265718327757123, 0.009776878637580201, 0.014169149314594343, 0.028374774771716443, 0.00986544760542348, 0.01618490209458097, 0.01586878238386191, 0.1082386167907919, 0.1219638070124605, 0.05406168676074661, 0.01622146536040384, 0.05441721439617598, 0.017371698546785243, 0.01496953134420595, 0.05465134701402121, 0.03551819261818744, 0.028505062860111948, 0.03922695927547163, 0.014605993003887138, 0.015086748184413542, 0.020156550505636972, 0.01035299262167774, 0.009205189623622257, 0.02333362512098701, 0.01886037534177382, 0.025749016418938907, 0.027058998200849213, 0.028304890383025083, 0.0176481971988681, 0.02768615741360267, 0.00998022017320946, 0.03102447515962592, 0.0081741272167573, 0.008222418990871809]}, {\"categories\": [\"0\", \"1\", \"2\", \"3\", \"4\", \"5\", \"6\", \"7\", \"8\", \"9\", \"10\", \"11\", \"12\", \"13\", \"14\", \"15\", \"16\", \"17\", \"18\", \"19\", \"20\", \"21\", \"22\", \"23\", \"24\", \"25\", \"26\", \"27\", \"28\", \"29\", \"30\", \"32\", \"33\", \"35\", \"37\", \"38\", \"39\"], \"mode\": \"lines\", \"name\": \"root_mean_squared_log_error_min\", \"stepped\": true, \"type\": \"scatter\", \"data\": [0.010752190402561007, 0.00940259875435139, 0.00940259875435139, 0.00940259875435139, 0.00940259875435139, 0.00940259875435139, 0.00940259875435139, 0.00940259875435139, 0.00940259875435139, 0.00940259875435139, 0.00940259875435139, 0.00940259875435139, 0.00940259875435139, 0.00940259875435139, 0.00940259875435139, 0.00940259875435139, 0.00940259875435139, 0.00940259875435139, 0.00940259875435139, 0.00940259875435139, 0.00940259875435139, 0.00940259875435139, 0.00940259875435139, 0.00940259875435139, 0.00940259875435139, 0.009205189623622257, 0.009205189623622257, 0.009205189623622257, 0.009205189623622257, 0.009205189623622257, 0.009205189623622257, 0.009205189623622257, 0.009205189623622257, 0.009205189623622257, 0.009205189623622257, 0.0081741272167573, 0.0081741272167573]}], \"root_mean_squared_error\": [{\"categories\": [\"0\", \"1\", \"2\", \"3\", \"4\", \"5\", \"6\", \"7\", \"8\", \"9\", \"10\", \"11\", \"12\", \"13\", \"14\", \"15\", \"16\", \"17\", \"18\", \"19\", \"20\", \"21\", \"22\", \"23\", \"24\", \"25\", \"26\", \"27\", \"28\", \"29\", \"30\", \"32\", \"33\", \"35\", \"37\", \"38\", \"39\"], \"mode\": \"markers\", \"name\": \"root_mean_squared_error\", \"stepped\": false, \"type\": \"scatter\", \"data\": [0.04842420936104649, 0.04605735982265987, 0.1641190964618581, 0.09684124276569916, 0.04424561717657636, 0.06501895585090545, 0.12902583175622884, 0.04472051966596543, 0.06688586638565976, 0.08292998969622871, 0.5417896311869277, 0.6151778469978955, 0.28562316106371594, 0.06930835124574648, 0.2605192569520575, 0.07170495878219085, 0.07093041268741014, 0.2683715875363117, 0.16412294208338787, 0.1386929661523075, 0.17958357569811798, 0.06852456709299583, 0.0702696219147947, 0.09425263621103303, 0.0497180582416051, 0.04341957015671007, 0.10387929822741505, 0.08549725303229973, 0.11617098882055595, 0.1330203218541035, 0.13997050788748888, 0.08397628741088999, 0.13829817083758666, 0.04879101518534612, 0.1484600768777018, 0.0387761288715783, 0.03869398064640788]}, {\"categories\": [\"0\", \"1\", \"2\", \"3\", \"4\", \"5\", \"6\", \"7\", \"8\", \"9\", \"10\", \"11\", \"12\", \"13\", \"14\", \"15\", \"16\", \"17\", \"18\", \"19\", \"20\", \"21\", \"22\", \"23\", \"24\", \"25\", \"26\", \"27\", \"28\", \"29\", \"30\", \"32\", \"33\", \"35\", \"37\", \"38\", \"39\"], \"mode\": \"lines\", \"name\": \"root_mean_squared_error_min\", \"stepped\": true, \"type\": \"scatter\", \"data\": [0.04842420936104649, 0.04605735982265987, 0.04605735982265987, 0.04605735982265987, 0.04424561717657636, 0.04424561717657636, 0.04424561717657636, 0.04424561717657636, 0.04424561717657636, 0.04424561717657636, 0.04424561717657636, 0.04424561717657636, 0.04424561717657636, 0.04424561717657636, 0.04424561717657636, 0.04424561717657636, 0.04424561717657636, 0.04424561717657636, 0.04424561717657636, 0.04424561717657636, 0.04424561717657636, 0.04424561717657636, 0.04424561717657636, 0.04424561717657636, 0.04424561717657636, 0.04341957015671007, 0.04341957015671007, 0.04341957015671007, 0.04341957015671007, 0.04341957015671007, 0.04341957015671007, 0.04341957015671007, 0.04341957015671007, 0.04341957015671007, 0.04341957015671007, 0.0387761288715783, 0.03869398064640788]}], \"normalized_median_absolute_error\": [{\"categories\": [\"0\", \"1\", \"2\", \"3\", \"4\", \"5\", \"6\", \"7\", \"8\", \"9\", \"10\", \"11\", \"12\", \"13\", \"14\", \"15\", \"16\", \"17\", \"18\", \"19\", \"20\", \"21\", \"22\", \"23\", \"24\", \"25\", \"26\", \"27\", \"28\", \"29\", \"30\", \"32\", \"33\", \"35\", \"37\", \"38\", \"39\"], \"mode\": \"markers\", \"name\": \"normalized_median_absolute_error\", \"stepped\": false, \"type\": \"scatter\", \"data\": [0.00423018088039175, 0.00467192754149439, 0.012813682357470184, 0.005339887898554568, 0.00416285420457523, 0.005589573272841176, 0.0068214845380580825, 0.0043474820752938586, 0.0044385971634486555, 0.007025759666818114, 0.04851413648460335, 0.05705265272733151, 0.0415488158663114, 0.004917588150314493, 0.014757313472914835, 0.004601104736509608, 0.00632514531224912, 0.017609777954262103, 0.01146744527202273, 0.008285644153753907, 0.009289089586008298, 0.005976924888203318, 0.006214629945778249, 0.007647635475441898, 0.00479681293169659, 0.004457890987396238, 0.007536703668896648, 0.006159032406450419, 0.007918512125886235, 0.008385367691516888, 0.00871918847163518, 0.0061410967628902635, 0.012620425463175343, 0.004827725390593197, 0.011455367110651446, 0.004064677122313162, 0.004074228192556724]}, {\"categories\": [\"0\", \"1\", \"2\", \"3\", \"4\", \"5\", \"6\", \"7\", \"8\", \"9\", \"10\", \"11\", \"12\", \"13\", \"14\", \"15\", \"16\", \"17\", \"18\", \"19\", \"20\", \"21\", \"22\", \"23\", \"24\", \"25\", \"26\", \"27\", \"28\", \"29\", \"30\", \"32\", \"33\", \"35\", \"37\", \"38\", \"39\"], \"mode\": \"lines\", \"name\": \"normalized_median_absolute_error_min\", \"stepped\": true, \"type\": \"scatter\", \"data\": [0.00423018088039175, 0.00423018088039175, 0.00423018088039175, 0.00423018088039175, 0.00416285420457523, 0.00416285420457523, 0.00416285420457523, 0.00416285420457523, 0.00416285420457523, 0.00416285420457523, 0.00416285420457523, 0.00416285420457523, 0.00416285420457523, 0.00416285420457523, 0.00416285420457523, 0.00416285420457523, 0.00416285420457523, 0.00416285420457523, 0.00416285420457523, 0.00416285420457523, 0.00416285420457523, 0.00416285420457523, 0.00416285420457523, 0.00416285420457523, 0.00416285420457523, 0.00416285420457523, 0.00416285420457523, 0.00416285420457523, 0.00416285420457523, 0.00416285420457523, 0.00416285420457523, 0.00416285420457523, 0.00416285420457523, 0.00416285420457523, 0.00416285420457523, 0.004064677122313162, 0.004064677122313162]}], \"mean_absolute_error\": [{\"categories\": [\"0\", \"1\", \"2\", \"3\", \"4\", \"5\", \"6\", \"7\", \"8\", \"9\", \"10\", \"11\", \"12\", \"13\", \"14\", \"15\", \"16\", \"17\", \"18\", \"19\", \"20\", \"21\", \"22\", \"23\", \"24\", \"25\", \"26\", \"27\", \"28\", \"29\", \"30\", \"32\", \"33\", \"35\", \"37\", \"38\", \"39\"], \"mode\": \"markers\", \"name\": \"mean_absolute_error\", \"stepped\": false, \"type\": \"scatter\", \"data\": [0.03322008235157616, 0.03593194227299531, 0.11323643969610342, 0.05206038114814434, 0.031951519629614615, 0.04728157386377823, 0.07100855238701059, 0.03298677010369024, 0.0379958334496806, 0.060048555594373026, 0.40742107316871207, 0.4689140172904857, 0.2695179362777078, 0.0421878554939177, 0.15756315578495797, 0.040012154907561805, 0.05228639521585741, 0.1732135804817072, 0.10611769885293594, 0.0837972653231761, 0.10222381821142006, 0.0502890888282937, 0.049682395373681985, 0.06538446938384439, 0.037336538781623976, 0.033456737533651644, 0.06756887946943148, 0.05442828029140371, 0.07298785376621704, 0.0819398415990928, 0.08284531088153209, 0.05264124624659109, 0.10179213679030974, 0.03758097916632524, 0.09889251415020826, 0.029911202836790256, 0.029849973172006914]}, {\"categories\": [\"0\", \"1\", \"2\", \"3\", \"4\", \"5\", \"6\", \"7\", \"8\", \"9\", \"10\", \"11\", \"12\", \"13\", \"14\", \"15\", \"16\", \"17\", \"18\", \"19\", \"20\", \"21\", \"22\", \"23\", \"24\", \"25\", \"26\", \"27\", \"28\", \"29\", \"30\", \"32\", \"33\", \"35\", \"37\", \"38\", \"39\"], \"mode\": \"lines\", \"name\": \"mean_absolute_error_min\", \"stepped\": true, \"type\": \"scatter\", \"data\": [0.03322008235157616, 0.03322008235157616, 0.03322008235157616, 0.03322008235157616, 0.031951519629614615, 0.031951519629614615, 0.031951519629614615, 0.031951519629614615, 0.031951519629614615, 0.031951519629614615, 0.031951519629614615, 0.031951519629614615, 0.031951519629614615, 0.031951519629614615, 0.031951519629614615, 0.031951519629614615, 0.031951519629614615, 0.031951519629614615, 0.031951519629614615, 0.031951519629614615, 0.031951519629614615, 0.031951519629614615, 0.031951519629614615, 0.031951519629614615, 0.031951519629614615, 0.031951519629614615, 0.031951519629614615, 0.031951519629614615, 0.031951519629614615, 0.031951519629614615, 0.031951519629614615, 0.031951519629614615, 0.031951519629614615, 0.031951519629614615, 0.031951519629614615, 0.029911202836790256, 0.029849973172006914]}]}, \"metricName\": null, \"primaryMetricName\": \"r2_score\", \"showLegend\": false}, \"run_metrics\": [{\"name\": \"experiment_status\", \"run_id\": \"AutoML_59700302-37f8-49e7-b45e-6ae854379cf8\", \"categories\": [0, 1, 2, 3, 4, 5, 6, 7, 8, 9, 10, 11, 12, 13], \"series\": [{\"data\": [\"DatasetEvaluation\", \"FeaturesGeneration\", \"DatasetFeaturization\", \"DatasetFeaturizationCompleted\", \"DatasetCrossValidationSplit\", \"ModelSelection\", \"BestRunExplainModel\", \"ModelExplanationDataSetSetup\", \"PickSurrogateModel\", \"EngineeredFeatureExplanations\", \"EngineeredFeatureExplanations\", \"RawFeaturesExplanations\", \"RawFeaturesExplanations\", \"BestRunExplainModel\"]}]}, {\"name\": \"experiment_status_description\", \"run_id\": \"AutoML_59700302-37f8-49e7-b45e-6ae854379cf8\", \"categories\": [0, 1, 2, 3, 4, 5, 6, 7, 8, 9, 10, 11, 12, 13], \"series\": [{\"data\": [\"Gathering dataset statistics.\", \"Generating features for the dataset.\", \"Beginning to fit featurizers and featurize the dataset.\", \"Completed fit featurizers and featurizing the dataset.\", \"Generating individually featurized CV splits.\", \"Beginning model selection.\", \"Best run model explanations started\", \"Model explanations data setup completed\", \"Choosing LinearModel as the surrogate model for explanations\", \"Computation of engineered features started\", \"Computation of engineered features completed\", \"Computation of raw features started\", \"Computation of raw features completed\", \"Best run model explanations completed\"]}]}, {\"name\": \"r2_score\", \"run_id\": \"AutoML_59700302-37f8-49e7-b45e-6ae854379cf8\", \"categories\": [0], \"series\": [{\"data\": [0.9976823008050003]}]}, {\"name\": \"normalized_root_mean_squared_log_error\", \"run_id\": \"AutoML_59700302-37f8-49e7-b45e-6ae854379cf8\", \"categories\": [0], \"series\": [{\"data\": [0.006180346562846104]}]}, {\"name\": \"root_mean_squared_log_error\", \"run_id\": \"AutoML_59700302-37f8-49e7-b45e-6ae854379cf8\", \"categories\": [0], \"series\": [{\"data\": [0.008222418990871809]}]}, {\"name\": \"normalized_median_absolute_error\", \"run_id\": \"AutoML_59700302-37f8-49e7-b45e-6ae854379cf8\", \"categories\": [0], \"series\": [{\"data\": [0.004074228192556724]}]}, {\"name\": \"mean_absolute_error\", \"run_id\": \"AutoML_59700302-37f8-49e7-b45e-6ae854379cf8\", \"categories\": [0], \"series\": [{\"data\": [0.029849973172006914]}]}, {\"name\": \"median_absolute_error\", \"run_id\": \"AutoML_59700302-37f8-49e7-b45e-6ae854379cf8\", \"categories\": [0], \"series\": [{\"data\": [0.026075060432363035]}]}, {\"name\": \"root_mean_squared_error\", \"run_id\": \"AutoML_59700302-37f8-49e7-b45e-6ae854379cf8\", \"categories\": [0], \"series\": [{\"data\": [0.03869398064640788]}]}, {\"name\": \"spearman_correlation\", \"run_id\": \"AutoML_59700302-37f8-49e7-b45e-6ae854379cf8\", \"categories\": [0], \"series\": [{\"data\": [0.9988041346347488]}]}, {\"name\": \"normalized_mean_absolute_error\", \"run_id\": \"AutoML_59700302-37f8-49e7-b45e-6ae854379cf8\", \"categories\": [0], \"series\": [{\"data\": [0.00466405830812608]}]}, {\"name\": \"explained_variance\", \"run_id\": \"AutoML_59700302-37f8-49e7-b45e-6ae854379cf8\", \"categories\": [0], \"series\": [{\"data\": [0.9976842882949178]}]}, {\"name\": \"normalized_root_mean_squared_error\", \"run_id\": \"AutoML_59700302-37f8-49e7-b45e-6ae854379cf8\", \"categories\": [0], \"series\": [{\"data\": [0.006045934476001231]}]}, {\"name\": \"mean_absolute_percentage_error\", \"run_id\": \"AutoML_59700302-37f8-49e7-b45e-6ae854379cf8\", \"categories\": [0], \"series\": [{\"data\": [0.7544556057261715]}]}], \"run_logs\": \"\\nRun is completed.\", \"graph\": {}, \"widget_settings\": {\"childWidgetDisplay\": \"popup\", \"send_telemetry\": false, \"log_level\": \"INFO\", \"sdk_version\": \"1.19.0\"}, \"loading\": false}"
          },
          "metadata": {}
        }
      ],
      "execution_count": 49,
      "metadata": {
        "collapsed": true,
        "jupyter": {
          "source_hidden": false,
          "outputs_hidden": false
        },
        "nteract": {
          "transient": {
            "deleting": false
          }
        },
        "gather": {
          "logged": 1610568344765
        }
      }
    },
    {
      "cell_type": "code",
      "source": [
        "remote_run.wait_for_completion(show_output=True)"
      ],
      "outputs": [
        {
          "output_type": "stream",
          "name": "stdout",
          "text": [
            "\n",
            "\n",
            "****************************************************************************************************\n",
            "DATA GUARDRAILS: \n",
            "\n",
            "TYPE:         Missing feature values imputation\n",
            "STATUS:       PASSED\n",
            "DESCRIPTION:  No feature missing values were detected in the training data.\n",
            "              Learn more about missing value imputation: https://aka.ms/AutomatedMLFeaturization\n",
            "\n",
            "****************************************************************************************************\n",
            "\n",
            "TYPE:         High cardinality feature detection\n",
            "STATUS:       DONE\n",
            "DESCRIPTION:  High cardinality features were detected in your inputs and handled.\n",
            "              Learn more about high cardinality feature handling: https://aka.ms/AutomatedMLFeaturization\n",
            "DETAILS:      High cardinality features refer to columns that contain a large percentage of unique values.\n",
            "+---------------------------------+---------------------------------+\n",
            "|Column name                      |Column Content Type              |\n",
            "+=================================+=================================+\n",
            "|Nome_Municipio                   |categorical_hash                 |\n",
            "|Nome_Escola                      |text                             |\n",
            "|TAprov2019_2_serie               |categorical_hash                 |\n",
            "+---------------------------------+---------------------------------+\n",
            "\n",
            "****************************************************************************************************\n",
            "\n",
            "****************************************************************************************************\n",
            "ITERATION: The iteration being evaluated.\n",
            "PIPELINE: A summary description of the pipeline being evaluated.\n",
            "DURATION: Time taken for the current iteration.\n",
            "METRIC: The result of computing score on the fitted pipeline.\n",
            "BEST: The best observed score thus far.\n",
            "****************************************************************************************************\n",
            "\n",
            " ITERATION   PIPELINE                                       DURATION      METRIC      BEST\n",
            "         0   MaxAbsScaler LightGBM                          0:05:27       0.9964    0.9964\n",
            "         1   MaxAbsScaler XGBoostRegressor                  0:05:51       0.9967    0.9967\n",
            "         2   SparseNormalizer XGBoostRegressor              0:05:23       0.9583    0.9967\n",
            "         3   MaxAbsScaler RandomForest                      0:05:45       0.9855    0.9967\n",
            "         4   StandardScalerWrapper XGBoostRegressor         0:02:36       0.9970    0.9970\n",
            "         5   MaxAbsScaler ElasticNet                        0:05:55       0.9935    0.9970\n",
            "         6   MaxAbsScaler RandomForest                      0:08:41       0.9742    0.9970\n",
            "         7   StandardScalerWrapper XGBoostRegressor         0:02:02       0.9969    0.9970\n",
            "        10   MaxAbsScaler RandomForest                      0:01:42       0.5458    0.9970\n",
            "        11   MaxAbsScaler RandomForest                      0:00:45       0.4140    0.9970\n",
            "         8   MaxAbsScaler ExtremeRandomTrees                0:04:07       0.9931    0.9970\n",
            "         9   StandardScalerWrapper ElasticNet               0:04:56       0.9894    0.9970\n",
            "        12   StandardScalerWrapper XGBoostRegressor         0:01:07       0.8738    0.9970\n",
            "        13   MaxAbsScaler ExtremeRandomTrees                0:01:11       0.9926    0.9970\n",
            "        14   MaxAbsScaler ExtremeRandomTrees                0:01:02       0.8950    0.9970\n",
            "        15   MaxAbsScaler ExtremeRandomTrees                0:03:25       0.9920    0.9970\n",
            "        16   MaxAbsScaler ElasticNet                        0:02:32       0.9922    0.9970\n",
            "        17   MaxAbsScaler RandomForest                      0:01:00       0.8886    0.9970\n",
            "        18   MaxAbsScaler RandomForest                      0:00:51       0.9582    0.9970\n",
            "        19   SparseNormalizer XGBoostRegressor              0:04:14       0.9702    0.9970\n",
            "        20   StandardScalerWrapper RandomForest             0:01:49       0.9501    0.9970\n",
            "        21   MaxAbsScaler ElasticNet                        0:03:36       0.9927    0.9970\n",
            "        22   MaxAbsScaler LightGBM                          0:00:58       0.9924    0.9970\n",
            "        23   StandardScalerWrapper LightGBM                 0:00:51       0.9862    0.9970\n",
            "        24   StandardScalerWrapper XGBoostRegressor         0:01:17       0.9962    0.9970\n",
            "        25   StandardScalerWrapper XGBoostRegressor         0:04:27       0.9971    0.9971\n",
            "        26   MaxAbsScaler LightGBM                          0:00:53       0.9833    0.9971\n",
            "        27   StandardScalerWrapper LightGBM                 0:00:47       0.9887    0.9971\n",
            "        28   MaxAbsScaler LightGBM                          0:00:50       0.9791    0.9971\n",
            "        29   SparseNormalizer XGBoostRegressor              0:01:43       0.9726    0.9971\n",
            "        30   TruncatedSVDWrapper XGBoostRegressor           0:01:41       0.9696    0.9971\n",
            "        31   MaxAbsScaler RandomForest                      0:05:18          nan    0.9971\n",
            "        32   MaxAbsScaler SGD                               0:00:48       0.9891    0.9971\n",
            "        33   MaxAbsScaler SGD                               0:00:56       0.9704    0.9971\n",
            "        34   MaxAbsScaler ElasticNet                        0:03:24          nan    0.9971\n",
            "        35   StandardScalerWrapper XGBoostRegressor         0:01:16       0.9963    0.9971\n",
            "        36   MaxAbsScaler RandomForest                      0:02:20          nan    0.9971\n",
            "        37   MaxAbsScaler DecisionTree                      0:00:54       0.9659    0.9971\n",
            "        38    VotingEnsemble                                0:01:47       0.9977    0.9977\n",
            "        39    StackEnsemble                                 0:01:53       0.9977    0.9977\n"
          ]
        },
        {
          "output_type": "execute_result",
          "execution_count": 50,
          "data": {
            "text/plain": "{'runId': 'AutoML_59700302-37f8-49e7-b45e-6ae854379cf8',\n 'target': 'automl-cluster',\n 'status': 'Completed',\n 'startTimeUtc': '2021-01-13T19:19:56.348541Z',\n 'endTimeUtc': '2021-01-13T20:05:39.218956Z',\n 'properties': {'num_iterations': '1000',\n  'training_type': 'TrainFull',\n  'acquisition_function': 'EI',\n  'primary_metric': 'r2_score',\n  'train_split': '0',\n  'acquisition_parameter': '0',\n  'num_cross_validation': '3',\n  'target': 'automl-cluster',\n  'AMLSettingsJsonString': '{\"path\":null,\"name\":\"ideb-regression\",\"subscription_id\":\"a748a023-896b-4719-8f8e-3d1ba62d6e35\",\"resource_group\":\"RG-AZML\",\"workspace_name\":\"AZML\",\"region\":\"eastus\",\"compute_target\":\"automl-cluster\",\"spark_service\":null,\"azure_service\":\"remote\",\"many_models\":false,\"pipeline_fetch_max_batch_size\":1,\"iterations\":1000,\"primary_metric\":\"r2_score\",\"task_type\":\"regression\",\"data_script\":null,\"validation_size\":0.0,\"n_cross_validations\":3,\"y_min\":null,\"y_max\":null,\"num_classes\":null,\"featurization\":\"auto\",\"_ignore_package_version_incompatibilities\":false,\"is_timeseries\":false,\"max_cores_per_iteration\":-1,\"max_concurrent_iterations\":4,\"iteration_timeout_minutes\":null,\"mem_in_mb\":null,\"enforce_time_on_windows\":false,\"experiment_timeout_minutes\":30,\"experiment_exit_score\":null,\"whitelist_models\":null,\"blacklist_algos\":[\"TensorFlowDNN\",\"TensorFlowLinearRegressor\"],\"supported_models\":[\"LightGBM\",\"ElasticNet\",\"RandomForest\",\"ExtremeRandomTrees\",\"TensorFlowLinearRegressor\",\"TensorFlowDNN\",\"OnlineGradientDescentRegressor\",\"DecisionTree\",\"KNN\",\"LassoLars\",\"GradientBoosting\",\"FastLinearRegressor\",\"SGD\",\"XGBoostRegressor\"],\"auto_blacklist\":true,\"blacklist_samples_reached\":false,\"exclude_nan_labels\":true,\"verbosity\":20,\"_debug_log\":\"azureml_automl.log\",\"show_warnings\":false,\"model_explainability\":true,\"service_url\":null,\"sdk_url\":null,\"sdk_packages\":null,\"enable_onnx_compatible_models\":false,\"enable_split_onnx_featurizer_estimator_models\":false,\"vm_type\":\"STANDARD_D2_V2\",\"telemetry_verbosity\":20,\"send_telemetry\":true,\"enable_dnn\":false,\"scenario\":\"SDK-1.13.0\",\"environment_label\":null,\"force_text_dnn\":false,\"enable_feature_sweeping\":true,\"enable_early_stopping\":true,\"early_stopping_n_iters\":10,\"metrics\":null,\"enable_ensembling\":true,\"enable_stack_ensembling\":true,\"ensemble_iterations\":15,\"enable_tf\":false,\"enable_subsampling\":null,\"subsample_seed\":null,\"enable_nimbusml\":false,\"enable_streaming\":false,\"force_streaming\":false,\"track_child_runs\":true,\"allowed_private_models\":[],\"label_column_name\":\"IDEB_2019\",\"weight_column_name\":null,\"cv_split_column_names\":null,\"enable_local_managed\":false,\"_local_managed_run_id\":null,\"cost_mode\":1,\"lag_length\":0,\"metric_operation\":\"maximize\",\"preprocess\":true}',\n  'DataPrepJsonString': '{\\\\\"training_data\\\\\": \\\\\"{\\\\\\\\\\\\\"blocks\\\\\\\\\\\\\": [{\\\\\\\\\\\\\"id\\\\\\\\\\\\\": \\\\\\\\\\\\\"cabce019-5407-4eab-b738-73557caf2ed5\\\\\\\\\\\\\", \\\\\\\\\\\\\"type\\\\\\\\\\\\\": \\\\\\\\\\\\\"Microsoft.DPrep.GetDatastoreFilesBlock\\\\\\\\\\\\\", \\\\\\\\\\\\\"arguments\\\\\\\\\\\\\": {\\\\\\\\\\\\\"datastores\\\\\\\\\\\\\": [{\\\\\\\\\\\\\"datastoreName\\\\\\\\\\\\\": \\\\\\\\\\\\\"workspaceblobstore\\\\\\\\\\\\\", \\\\\\\\\\\\\"path\\\\\\\\\\\\\": \\\\\\\\\\\\\"UI/01-13-2021_025150_UTC/DATASET_IDEB_ensino_medio_escolas_2019_clean.txt\\\\\\\\\\\\\", \\\\\\\\\\\\\"resourceGroup\\\\\\\\\\\\\": \\\\\\\\\\\\\"RG-AZML\\\\\\\\\\\\\", \\\\\\\\\\\\\"subscription\\\\\\\\\\\\\": \\\\\\\\\\\\\"a748a023-896b-4719-8f8e-3d1ba62d6e35\\\\\\\\\\\\\", \\\\\\\\\\\\\"workspaceName\\\\\\\\\\\\\": \\\\\\\\\\\\\"AZML\\\\\\\\\\\\\"}]}, \\\\\\\\\\\\\"localData\\\\\\\\\\\\\": {}, \\\\\\\\\\\\\"isEnabled\\\\\\\\\\\\\": true, \\\\\\\\\\\\\"name\\\\\\\\\\\\\": null, \\\\\\\\\\\\\"annotation\\\\\\\\\\\\\": null}, {\\\\\\\\\\\\\"id\\\\\\\\\\\\\": \\\\\\\\\\\\\"6e0b84a8-15de-4865-b1d7-ef8fde946c85\\\\\\\\\\\\\", \\\\\\\\\\\\\"type\\\\\\\\\\\\\": \\\\\\\\\\\\\"Microsoft.DPrep.ParseDelimitedBlock\\\\\\\\\\\\\", \\\\\\\\\\\\\"arguments\\\\\\\\\\\\\": {\\\\\\\\\\\\\"columnHeadersMode\\\\\\\\\\\\\": 1, \\\\\\\\\\\\\"fileEncoding\\\\\\\\\\\\\": 1, \\\\\\\\\\\\\"handleQuotedLineBreaks\\\\\\\\\\\\\": false, \\\\\\\\\\\\\"preview\\\\\\\\\\\\\": false, \\\\\\\\\\\\\"separator\\\\\\\\\\\\\": \\\\\\\\\\\\\"\\\\\\\\\\\\\\\\t\\\\\\\\\\\\\", \\\\\\\\\\\\\"skipRows\\\\\\\\\\\\\": 0, \\\\\\\\\\\\\"skipRowsMode\\\\\\\\\\\\\": 0}, \\\\\\\\\\\\\"localData\\\\\\\\\\\\\": {}, \\\\\\\\\\\\\"isEnabled\\\\\\\\\\\\\": true, \\\\\\\\\\\\\"name\\\\\\\\\\\\\": null, \\\\\\\\\\\\\"annotation\\\\\\\\\\\\\": null}, {\\\\\\\\\\\\\"id\\\\\\\\\\\\\": \\\\\\\\\\\\\"3d571fa6-7af4-4805-8e63-46a777dd0af4\\\\\\\\\\\\\", \\\\\\\\\\\\\"type\\\\\\\\\\\\\": \\\\\\\\\\\\\"Microsoft.DPrep.DropColumnsBlock\\\\\\\\\\\\\", \\\\\\\\\\\\\"arguments\\\\\\\\\\\\\": {\\\\\\\\\\\\\"columns\\\\\\\\\\\\\": {\\\\\\\\\\\\\"type\\\\\\\\\\\\\": 0, \\\\\\\\\\\\\"details\\\\\\\\\\\\\": {\\\\\\\\\\\\\"selectedColumns\\\\\\\\\\\\\": [\\\\\\\\\\\\\"Path\\\\\\\\\\\\\"]}}}, \\\\\\\\\\\\\"localData\\\\\\\\\\\\\": {}, \\\\\\\\\\\\\"isEnabled\\\\\\\\\\\\\": true, \\\\\\\\\\\\\"name\\\\\\\\\\\\\": null, \\\\\\\\\\\\\"annotation\\\\\\\\\\\\\": null}, {\\\\\\\\\\\\\"id\\\\\\\\\\\\\": \\\\\\\\\\\\\"85222e7b-9dde-4c8a-851c-fa8690890539\\\\\\\\\\\\\", \\\\\\\\\\\\\"type\\\\\\\\\\\\\": \\\\\\\\\\\\\"Microsoft.DPrep.SetColumnTypesBlock\\\\\\\\\\\\\", \\\\\\\\\\\\\"arguments\\\\\\\\\\\\\": {\\\\\\\\\\\\\"columnConversion\\\\\\\\\\\\\": [{\\\\\\\\\\\\\"column\\\\\\\\\\\\\": {\\\\\\\\\\\\\"type\\\\\\\\\\\\\": 2, \\\\\\\\\\\\\"details\\\\\\\\\\\\\": {\\\\\\\\\\\\\"selectedColumn\\\\\\\\\\\\\": \\\\\\\\\\\\\"Path\\\\\\\\\\\\\"}}, \\\\\\\\\\\\\"typeProperty\\\\\\\\\\\\\": 0}, {\\\\\\\\\\\\\"column\\\\\\\\\\\\\": {\\\\\\\\\\\\\"type\\\\\\\\\\\\\": 2, \\\\\\\\\\\\\"details\\\\\\\\\\\\\": {\\\\\\\\\\\\\"selectedColumn\\\\\\\\\\\\\": \\\\\\\\\\\\\"Sigla_UF\\\\\\\\\\\\\"}}, \\\\\\\\\\\\\"typeProperty\\\\\\\\\\\\\": 0}, {\\\\\\\\\\\\\"column\\\\\\\\\\\\\": {\\\\\\\\\\\\\"type\\\\\\\\\\\\\": 2, \\\\\\\\\\\\\"details\\\\\\\\\\\\\": {\\\\\\\\\\\\\"selectedColumn\\\\\\\\\\\\\": \\\\\\\\\\\\\"Cod_Municipio\\\\\\\\\\\\\"}}, \\\\\\\\\\\\\"typeProperty\\\\\\\\\\\\\": 2}, {\\\\\\\\\\\\\"column\\\\\\\\\\\\\": {\\\\\\\\\\\\\"type\\\\\\\\\\\\\": 2, \\\\\\\\\\\\\"details\\\\\\\\\\\\\": {\\\\\\\\\\\\\"selectedColumn\\\\\\\\\\\\\": \\\\\\\\\\\\\"Nome_Municipio\\\\\\\\\\\\\"}}, \\\\\\\\\\\\\"typeProperty\\\\\\\\\\\\\": 0}, {\\\\\\\\\\\\\"column\\\\\\\\\\\\\": {\\\\\\\\\\\\\"type\\\\\\\\\\\\\": 2, \\\\\\\\\\\\\"details\\\\\\\\\\\\\": {\\\\\\\\\\\\\"selectedColumn\\\\\\\\\\\\\": \\\\\\\\\\\\\"Cod_Escola\\\\\\\\\\\\\"}}, \\\\\\\\\\\\\"typeProperty\\\\\\\\\\\\\": 2}, {\\\\\\\\\\\\\"column\\\\\\\\\\\\\": {\\\\\\\\\\\\\"type\\\\\\\\\\\\\": 2, \\\\\\\\\\\\\"details\\\\\\\\\\\\\": {\\\\\\\\\\\\\"selectedColumn\\\\\\\\\\\\\": \\\\\\\\\\\\\"Nome_Escola\\\\\\\\\\\\\"}}, \\\\\\\\\\\\\"typeProperty\\\\\\\\\\\\\": 0}, {\\\\\\\\\\\\\"column\\\\\\\\\\\\\": {\\\\\\\\\\\\\"type\\\\\\\\\\\\\": 2, \\\\\\\\\\\\\"details\\\\\\\\\\\\\": {\\\\\\\\\\\\\"selectedColumn\\\\\\\\\\\\\": \\\\\\\\\\\\\"Rede\\\\\\\\\\\\\"}}, \\\\\\\\\\\\\"typeProperty\\\\\\\\\\\\\": 0}, {\\\\\\\\\\\\\"column\\\\\\\\\\\\\": {\\\\\\\\\\\\\"type\\\\\\\\\\\\\": 2, \\\\\\\\\\\\\"details\\\\\\\\\\\\\": {\\\\\\\\\\\\\"selectedColumn\\\\\\\\\\\\\": \\\\\\\\\\\\\"TAprov2019_Total\\\\\\\\\\\\\"}}, \\\\\\\\\\\\\"typeProperty\\\\\\\\\\\\\": 3}, {\\\\\\\\\\\\\"column\\\\\\\\\\\\\": {\\\\\\\\\\\\\"type\\\\\\\\\\\\\": 2, \\\\\\\\\\\\\"details\\\\\\\\\\\\\": {\\\\\\\\\\\\\"selectedColumn\\\\\\\\\\\\\": \\\\\\\\\\\\\"TAprov2019_1_serie\\\\\\\\\\\\\"}}, \\\\\\\\\\\\\"typeProperty\\\\\\\\\\\\\": 3}, {\\\\\\\\\\\\\"column\\\\\\\\\\\\\": {\\\\\\\\\\\\\"type\\\\\\\\\\\\\": 2, \\\\\\\\\\\\\"details\\\\\\\\\\\\\": {\\\\\\\\\\\\\"selectedColumn\\\\\\\\\\\\\": \\\\\\\\\\\\\"TAprov2019_2_serie\\\\\\\\\\\\\"}}, \\\\\\\\\\\\\"typeProperty\\\\\\\\\\\\\": 0}, {\\\\\\\\\\\\\"column\\\\\\\\\\\\\": {\\\\\\\\\\\\\"type\\\\\\\\\\\\\": 2, \\\\\\\\\\\\\"details\\\\\\\\\\\\\": {\\\\\\\\\\\\\"selectedColumn\\\\\\\\\\\\\": \\\\\\\\\\\\\"TAprov2019_3_serie\\\\\\\\\\\\\"}}, \\\\\\\\\\\\\"typeProperty\\\\\\\\\\\\\": 3}, {\\\\\\\\\\\\\"column\\\\\\\\\\\\\": {\\\\\\\\\\\\\"type\\\\\\\\\\\\\": 2, \\\\\\\\\\\\\"details\\\\\\\\\\\\\": {\\\\\\\\\\\\\"selectedColumn\\\\\\\\\\\\\": \\\\\\\\\\\\\"TAprov2019_4_serie\\\\\\\\\\\\\"}}, \\\\\\\\\\\\\"typeProperty\\\\\\\\\\\\\": 3}, {\\\\\\\\\\\\\"column\\\\\\\\\\\\\": {\\\\\\\\\\\\\"type\\\\\\\\\\\\\": 2, \\\\\\\\\\\\\"details\\\\\\\\\\\\\": {\\\\\\\\\\\\\"selectedColumn\\\\\\\\\\\\\": \\\\\\\\\\\\\"Indicador_Rendimento\\\\\\\\\\\\\"}}, \\\\\\\\\\\\\"typeProperty\\\\\\\\\\\\\": 3}, {\\\\\\\\\\\\\"column\\\\\\\\\\\\\": {\\\\\\\\\\\\\"type\\\\\\\\\\\\\": 2, \\\\\\\\\\\\\"details\\\\\\\\\\\\\": {\\\\\\\\\\\\\"selectedColumn\\\\\\\\\\\\\": \\\\\\\\\\\\\"SAEB2019_Matematica\\\\\\\\\\\\\"}}, \\\\\\\\\\\\\"typeProperty\\\\\\\\\\\\\": 3}, {\\\\\\\\\\\\\"column\\\\\\\\\\\\\": {\\\\\\\\\\\\\"type\\\\\\\\\\\\\": 2, \\\\\\\\\\\\\"details\\\\\\\\\\\\\": {\\\\\\\\\\\\\"selectedColumn\\\\\\\\\\\\\": \\\\\\\\\\\\\"SAEB2019_Lingua Portuguesa\\\\\\\\\\\\\"}}, \\\\\\\\\\\\\"typeProperty\\\\\\\\\\\\\": 3}, {\\\\\\\\\\\\\"column\\\\\\\\\\\\\": {\\\\\\\\\\\\\"type\\\\\\\\\\\\\": 2, \\\\\\\\\\\\\"details\\\\\\\\\\\\\": {\\\\\\\\\\\\\"selectedColumn\\\\\\\\\\\\\": \\\\\\\\\\\\\"SAEB2019_Nota Media Padronizada\\\\\\\\\\\\\"}}, \\\\\\\\\\\\\"typeProperty\\\\\\\\\\\\\": 3}, {\\\\\\\\\\\\\"column\\\\\\\\\\\\\": {\\\\\\\\\\\\\"type\\\\\\\\\\\\\": 2, \\\\\\\\\\\\\"details\\\\\\\\\\\\\": {\\\\\\\\\\\\\"selectedColumn\\\\\\\\\\\\\": \\\\\\\\\\\\\"IDEB_2019\\\\\\\\\\\\\"}}, \\\\\\\\\\\\\"typeProperty\\\\\\\\\\\\\": 3}]}, \\\\\\\\\\\\\"localData\\\\\\\\\\\\\": {}, \\\\\\\\\\\\\"isEnabled\\\\\\\\\\\\\": true, \\\\\\\\\\\\\"name\\\\\\\\\\\\\": null, \\\\\\\\\\\\\"annotation\\\\\\\\\\\\\": null}], \\\\\\\\\\\\\"inspectors\\\\\\\\\\\\\": [], \\\\\\\\\\\\\"meta\\\\\\\\\\\\\": {\\\\\\\\\\\\\"savedDatasetId\\\\\\\\\\\\\": \\\\\\\\\\\\\"0a953939-d1dc-454c-862b-866daa44cd28\\\\\\\\\\\\\", \\\\\\\\\\\\\"datasetType\\\\\\\\\\\\\": \\\\\\\\\\\\\"tabular\\\\\\\\\\\\\", \\\\\\\\\\\\\"subscriptionId\\\\\\\\\\\\\": \\\\\\\\\\\\\"a748a023-896b-4719-8f8e-3d1ba62d6e35\\\\\\\\\\\\\", \\\\\\\\\\\\\"workspaceId\\\\\\\\\\\\\": \\\\\\\\\\\\\"4cc8fc67-9b29-4fc9-affe-0aea29e08ecb\\\\\\\\\\\\\", \\\\\\\\\\\\\"workspaceLocation\\\\\\\\\\\\\": \\\\\\\\\\\\\"eastus\\\\\\\\\\\\\"}}\\\\\", \\\\\"activities\\\\\": 0}',\n  'EnableSubsampling': None,\n  'runTemplate': 'AutoML',\n  'azureml.runsource': 'automl',\n  'display_task_type': 'regression',\n  'dependencies_versions': '{\"azureml-widgets\": \"1.19.0\", \"azureml-train\": \"1.19.0\", \"azureml-train-restclients-hyperdrive\": \"1.19.0\", \"azureml-train-core\": \"1.19.0\", \"azureml-train-automl\": \"1.19.0\", \"azureml-train-automl-runtime\": \"1.19.0\", \"azureml-train-automl-client\": \"1.19.0\", \"azureml-tensorboard\": \"1.19.0\", \"azureml-telemetry\": \"1.19.0\", \"azureml-sdk\": \"1.19.0\", \"azureml-samples\": \"0+unknown\", \"azureml-pipeline\": \"1.19.0\", \"azureml-pipeline-steps\": \"1.19.0\", \"azureml-pipeline-core\": \"1.19.0\", \"azureml-opendatasets\": \"1.19.0\", \"azureml-model-management-sdk\": \"1.0.1b6.post1\", \"azureml-mlflow\": \"1.19.0\", \"azureml-interpret\": \"1.19.0\", \"azureml-explain-model\": \"1.19.0\", \"azureml-defaults\": \"1.19.0\", \"azureml-dataset-runtime\": \"1.19.0\", \"azureml-dataprep\": \"2.6.1\", \"azureml-dataprep-rslex\": \"1.4.0\", \"azureml-dataprep-native\": \"26.0.0\", \"azureml-datadrift\": \"1.19.0\", \"azureml-core\": \"1.19.0\", \"azureml-contrib-services\": \"1.19.0\", \"azureml-contrib-server\": \"1.19.0\", \"azureml-contrib-reinforcementlearning\": \"1.19.0\", \"azureml-contrib-pipeline-steps\": \"1.19.0\", \"azureml-contrib-notebook\": \"1.19.0\", \"azureml-contrib-interpret\": \"1.19.0\", \"azureml-contrib-gbdt\": \"1.19.0\", \"azureml-contrib-fairness\": \"1.19.0\", \"azureml-contrib-dataset\": \"1.19.0\", \"azureml-cli-common\": \"1.19.0\", \"azureml-automl-runtime\": \"1.19.0\", \"azureml-automl-core\": \"1.19.0\", \"azureml-accel-models\": \"1.19.0\"}',\n  '_aml_system_scenario_identification': 'Remote.Parent',\n  'ClientType': 'SDK',\n  'environment_cpu_name': 'AzureML-AutoML',\n  'environment_cpu_label': 'prod',\n  'environment_gpu_name': 'AzureML-AutoML-GPU',\n  'environment_gpu_label': 'prod',\n  'root_attribution': 'automl',\n  'attribution': 'AutoML',\n  'Orchestrator': 'AutoML',\n  'CancelUri': 'https://eastus.experiments.azureml.net/jasmine/v1.0/subscriptions/a748a023-896b-4719-8f8e-3d1ba62d6e35/resourceGroups/RG-AZML/providers/Microsoft.MachineLearningServices/workspaces/AZML/experimentids/27f5302f-e46e-4e3b-a3d0-307ddf09cfaa/cancel/AutoML_59700302-37f8-49e7-b45e-6ae854379cf8',\n  'ClientSdkVersion': '1.19.0',\n  'snapshotId': '00000000-0000-0000-0000-000000000000',\n  'SetupRunId': 'AutoML_59700302-37f8-49e7-b45e-6ae854379cf8_setup',\n  'SetupRunContainerId': 'dcid.AutoML_59700302-37f8-49e7-b45e-6ae854379cf8_setup',\n  'FeaturizationRunJsonPath': 'featurizer_container.json',\n  'FeaturizationRunId': 'AutoML_59700302-37f8-49e7-b45e-6ae854379cf8_featurize',\n  'ProblemInfoJsonString': '{\"dataset_num_categorical\": 0, \"is_sparse\": true, \"subsampling\": false, \"dataset_classes\": 62, \"dataset_features\": 39552, \"dataset_samples\": 12079, \"single_frequency_class_detected\": false}',\n  'ModelExplainRunId': 'AutoML_59700302-37f8-49e7-b45e-6ae854379cf8_ModelExplain'},\n 'inputDatasets': [{'dataset': {'id': '0a953939-d1dc-454c-862b-866daa44cd28'}, 'consumptionDetails': {'type': 'RunInput', 'inputName': 'training_data', 'mechanism': 'Direct'}}],\n 'outputDatasets': [],\n 'logFiles': {}}"
          },
          "metadata": {}
        }
      ],
      "execution_count": 50,
      "metadata": {
        "collapsed": true,
        "jupyter": {
          "source_hidden": false,
          "outputs_hidden": false
        },
        "nteract": {
          "transient": {
            "deleting": false
          }
        },
        "gather": {
          "logged": 1610568556846
        }
      }
    },
    {
      "cell_type": "markdown",
      "source": [
        "## Best Model"
      ],
      "metadata": {
        "nteract": {
          "transient": {
            "deleting": false
          }
        }
      }
    },
    {
      "cell_type": "code",
      "source": [
        "best_run, fitted_model = remote_run.get_output()\r\n",
        "print(best_run)\r\n",
        "print(fitted_model)"
      ],
      "outputs": [
        {
          "output_type": "stream",
          "name": "stdout",
          "text": [
            "Run(Experiment: ideb-regression,\n",
            "Id: AutoML_59700302-37f8-49e7-b45e-6ae854379cf8_39,\n",
            "Type: azureml.scriptrun,\n",
            "Status: Completed)\n",
            "RegressionPipeline(pipeline=Pipeline(memory=None,\n",
            "                                     steps=[('datatransformer',\n",
            "                                             DataTransformer(enable_dnn=None,\n",
            "                                                             enable_feature_sweeping=None,\n",
            "                                                             feature_sweeping_config=None,\n",
            "                                                             feature_sweeping_timeout=None,\n",
            "                                                             featurization_config=None,\n",
            "                                                             force_text_dnn=None,\n",
            "                                                             is_cross_validation=None,\n",
            "                                                             is_onnx_compatible=None,\n",
            "                                                             logger=None,\n",
            "                                                             observer=None,\n",
            "                                                             task=None,\n",
            "                                                             working_dir=None)),\n",
            "                                            ('sta...\n",
            "                                                                                                                selection='cyclic',\n",
            "                                                                                                                tol=0.0001,\n",
            "                                                                                                                warm_start=False))],\n",
            "                                                                                             verbose=False))],\n",
            "                                                                    meta_learner=ElasticNetCV(alphas=None,\n",
            "                                                                                              copy_X=True,\n",
            "                                                                                              cv=None,\n",
            "                                                                                              eps=0.001,\n",
            "                                                                                              fit_intercept=True,\n",
            "                                                                                              l1_ratio=0.5,\n",
            "                                                                                              max_iter=1000,\n",
            "                                                                                              n_alphas=100,\n",
            "                                                                                              n_jobs=None,\n",
            "                                                                                              normalize=False,\n",
            "                                                                                              positive=False,\n",
            "                                                                                              precompute='auto',\n",
            "                                                                                              random_state=None,\n",
            "                                                                                              selection='cyclic',\n",
            "                                                                                              tol=0.0001,\n",
            "                                                                                              verbose=0),\n",
            "                                                                    training_cv_folds=5))],\n",
            "                                     verbose=False),\n",
            "                   stddev=None)\n"
          ]
        }
      ],
      "execution_count": 51,
      "metadata": {
        "collapsed": true,
        "jupyter": {
          "source_hidden": false,
          "outputs_hidden": false
        },
        "nteract": {
          "transient": {
            "deleting": false
          }
        },
        "gather": {
          "logged": 1610568566224
        }
      }
    },
    {
      "cell_type": "markdown",
      "source": [
        "## Metric in best model"
      ],
      "metadata": {
        "nteract": {
          "transient": {
            "deleting": false
          }
        }
      }
    },
    {
      "cell_type": "code",
      "source": [
        "best_run_metrics = best_run.get_metrics()\r\n",
        "best_run_metrics"
      ],
      "outputs": [
        {
          "output_type": "execute_result",
          "execution_count": 52,
          "data": {
            "text/plain": "{'mean_absolute_percentage_error': 0.7544556057261715,\n 'normalized_root_mean_squared_error': 0.006045934476001231,\n 'root_mean_squared_error': 0.03869398064640788,\n 'mean_absolute_error': 0.029849973172006914,\n 'explained_variance': 0.9976842882949178,\n 'root_mean_squared_log_error': 0.008222418990871809,\n 'normalized_root_mean_squared_log_error': 0.006180346562846104,\n 'normalized_mean_absolute_error': 0.00466405830812608,\n 'normalized_median_absolute_error': 0.004074228192556724,\n 'spearman_correlation': 0.9988041346347488,\n 'r2_score': 0.9976823008050003,\n 'median_absolute_error': 0.026075060432363035,\n 'predicted_true': 'aml://artifactId/ExperimentRun/dcid.AutoML_59700302-37f8-49e7-b45e-6ae854379cf8_39/predicted_true',\n 'residuals': 'aml://artifactId/ExperimentRun/dcid.AutoML_59700302-37f8-49e7-b45e-6ae854379cf8_39/residuals'}"
          },
          "metadata": {}
        }
      ],
      "execution_count": 52,
      "metadata": {
        "collapsed": true,
        "jupyter": {
          "source_hidden": false,
          "outputs_hidden": false
        },
        "nteract": {
          "transient": {
            "deleting": false
          }
        },
        "gather": {
          "logged": 1610568574923
        }
      }
    },
    {
      "cell_type": "markdown",
      "source": [
        "## Save the best model"
      ],
      "metadata": {
        "nteract": {
          "transient": {
            "deleting": false
          }
        }
      }
    },
    {
      "cell_type": "code",
      "source": [
        "env = best_run.get_environment()\r\n",
        "best_run.download_file('outputs/model.pkl', './outputs/automl_ideb.pkl')\r\n",
        "best_run.download_file('outputs/scoring_file_v_1_0_0.py', './outputs/score.py')\r\n",
        "best_run.download_file('automl_driver.py', './outputs/automl_driver.py')\r\n",
        "\r\n",
        "import joblib  \r\n",
        "joblib.dump(fitted_model, \"./outputs/model.pkl\")"
      ],
      "outputs": [
        {
          "output_type": "execute_result",
          "execution_count": 53,
          "data": {
            "text/plain": "['./outputs/model.pkl']"
          },
          "metadata": {}
        }
      ],
      "execution_count": 53,
      "metadata": {
        "collapsed": true,
        "jupyter": {
          "source_hidden": false,
          "outputs_hidden": false
        },
        "nteract": {
          "transient": {
            "deleting": false
          }
        },
        "gather": {
          "logged": 1610568588041
        }
      }
    },
    {
      "cell_type": "code",
      "source": [
        "os.listdir(os.curdir), os.getcwd()"
      ],
      "outputs": [
        {
          "output_type": "execute_result",
          "execution_count": 54,
          "data": {
            "text/plain": "(['.azureml',\n  '.config',\n  '.ipynb_aml_checkpoints',\n  '.ipynb_checkpoints',\n  'automl.ipynb',\n  'automl.ipynb.amltemp',\n  'automl.log',\n  'automl2.ipynb',\n  'automl2.ipynb.amltemp',\n  'automl3.ipynb',\n  'automl3.ipynb.amltemp',\n  'automl_errors.log',\n  'azureml_automl.log',\n  'conda_dependencies.yml',\n  'config.json',\n  'hyperparameter_tuning.ipynb',\n  'hyperparameter_tuning.ipynb.amltemp',\n  'outputs',\n  'score.py.amltemp',\n  'train.py',\n  'train.py.amltemp',\n  'train_explainer.py.amltemp'],\n '/mnt/batch/tasks/shared/LS_root/mounts/clusters/compute-d2-v2/code/Users/anderson12')"
          },
          "metadata": {}
        }
      ],
      "execution_count": 54,
      "metadata": {
        "collapsed": true,
        "jupyter": {
          "source_hidden": false,
          "outputs_hidden": false
        },
        "nteract": {
          "transient": {
            "deleting": false
          }
        },
        "gather": {
          "logged": 1610568591921
        }
      }
    },
    {
      "cell_type": "markdown",
      "source": [
        "## Model Deployment"
      ],
      "metadata": {
        "nteract": {
          "transient": {
            "deleting": false
          }
        }
      }
    },
    {
      "cell_type": "code",
      "source": [
        "model=best_run.register_model(\r\n",
        "                        model_name = 'best_model',\r\n",
        "                        model_path = './outputs/',\r\n",
        "                        description = \"Best model trained with AutoML\")\r\n",
        "model"
      ],
      "outputs": [
        {
          "output_type": "execute_result",
          "execution_count": 75,
          "data": {
            "text/plain": "Model(workspace=Workspace.create(name='AZML', subscription_id='a748a023-896b-4719-8f8e-3d1ba62d6e35', resource_group='RG-AZML'), name=best_model, id=best_model:15, version=15, tags={}, properties={})"
          },
          "metadata": {}
        }
      ],
      "execution_count": 75,
      "metadata": {
        "collapsed": true,
        "jupyter": {
          "source_hidden": false,
          "outputs_hidden": false
        },
        "nteract": {
          "transient": {
            "deleting": false
          }
        },
        "gather": {
          "logged": 1610588152246
        }
      }
    },
    {
      "cell_type": "code",
      "source": [
        "from azureml.core.model import InferenceConfig\r\n",
        "from azureml.core.webservice import AciWebservice\r\n",
        "from azureml.core.webservice import Webservice\r\n",
        "from azureml.core.model import Model\r\n",
        "from azureml.core.environment import Environment\r\n",
        "\r\n",
        "aci_config = AciWebservice.deploy_configuration(cpu_cores=1, memory_gb=1)\r\n",
        "inference_config = InferenceConfig(entry_script='./outputs/score.py')\r\n",
        "\r\n",
        "service = model.deploy(\r\n",
        "    workspace=ws,\r\n",
        "    name=\"service-ideb\",\r\n",
        "    models=[model],\r\n",
        "    inference_config=inference_config,\r\n",
        "    deployment_config=aci_config,\r\n",
        "    overwrite=True\r\n",
        ")\r\n",
        "service.wait_for_deployment(show_output=True)\r\n",
        "print(service.state)"
      ],
      "outputs": [
        {
          "output_type": "stream",
          "name": "stdout",
          "text": [
            "Tips: You can try get_logs(): https://aka.ms/debugimage#dockerlog or local deployment: https://aka.ms/debugimage#debug-locally to debug if deployment takes longer than 10 minutes.\n",
            "Running............................................................................................................\n",
            "Succeeded\n",
            "ACI service creation operation finished, operation \"Succeeded\"\n",
            "Healthy\n"
          ]
        }
      ],
      "execution_count": 76,
      "metadata": {
        "collapsed": true,
        "jupyter": {
          "source_hidden": false,
          "outputs_hidden": false
        },
        "nteract": {
          "transient": {
            "deleting": false
          }
        },
        "gather": {
          "logged": 1610588749390
        }
      }
    },
    {
      "cell_type": "code",
      "source": [
        "service.update(enable_app_insights=True)"
      ],
      "outputs": [],
      "execution_count": 94,
      "metadata": {
        "collapsed": true,
        "jupyter": {
          "source_hidden": false,
          "outputs_hidden": false
        },
        "nteract": {
          "transient": {
            "deleting": false
          }
        },
        "gather": {
          "logged": 1610590737008
        }
      }
    },
    {
      "cell_type": "markdown",
      "source": [
        "## Test the Deploy model"
      ],
      "metadata": {
        "nteract": {
          "transient": {
            "deleting": false
          }
        }
      }
    },
    {
      "cell_type": "code",
      "source": [
        "scoring_uri = service.scoring_uri\r\n",
        "\r\n",
        "print(f'\\nservice state: {service.state}\\n')\r\n",
        "print(f'scoring URI: \\n{service.scoring_uri}\\n')\r\n",
        "print(f'swagger URI: \\n{service.swagger_uri}\\n')\r\n",
        "\r\n",
        "print(service.scoring_uri)\r\n",
        "print(service.swagger_uri)"
      ],
      "outputs": [
        {
          "output_type": "stream",
          "name": "stdout",
          "text": [
            "\n",
            "service state: Healthy\n",
            "\n",
            "scoring URI: \n",
            "http://8d460a6f-6b7c-4e77-a2c1-5c5bb835e7ab.eastus.azurecontainer.io/score\n",
            "\n",
            "swagger URI: \n",
            "http://8d460a6f-6b7c-4e77-a2c1-5c5bb835e7ab.eastus.azurecontainer.io/swagger.json\n",
            "\n",
            "http://8d460a6f-6b7c-4e77-a2c1-5c5bb835e7ab.eastus.azurecontainer.io/score\n",
            "http://8d460a6f-6b7c-4e77-a2c1-5c5bb835e7ab.eastus.azurecontainer.io/swagger.json\n"
          ]
        }
      ],
      "execution_count": 95,
      "metadata": {
        "collapsed": true,
        "jupyter": {
          "source_hidden": false,
          "outputs_hidden": false
        },
        "nteract": {
          "transient": {
            "deleting": false
          }
        },
        "gather": {
          "logged": 1610590806178
        }
      }
    },
    {
      "cell_type": "code",
      "source": [
        "import requests\r\n",
        "import json\r\n",
        "\r\n",
        "# scoring endpoint\r\n",
        "scoring_uri = service.scoring_uri\r\n",
        "\r\n",
        "\r\n",
        "# If the service is authenticated, set the key or token\r\n",
        "#key = '<your key or token>'\r\n",
        "\r\n",
        "# Two sets of data to score, so we get two results back\r\n",
        "data = {\"data\":\r\n",
        "            [[]]\r\n",
        "        }\r\n",
        "# Convert to JSON string\r\n",
        "input_data = json.dumps(data)\r\n",
        "\r\n",
        "# Set the content type\r\n",
        "headers = {'Content-Type': 'application/json'}\r\n",
        "# If authentication is enabled, set the authorization header\r\n",
        "#headers['Authorization'] = f'Bearer {key}'\r\n",
        "\r\n",
        "# Make the request and display the response\r\n",
        "resp = requests.post(scoring_uri, input_data, headers=headers)\r\n",
        "print(resp.text)"
      ],
      "outputs": [
        {
          "output_type": "stream",
          "name": "stdout",
          "text": [
            "Length mismatch: Expected axis has 0 elements, new values have 15 elements\n"
          ]
        }
      ],
      "execution_count": 96,
      "metadata": {
        "collapsed": true,
        "jupyter": {
          "source_hidden": false,
          "outputs_hidden": false
        },
        "nteract": {
          "transient": {
            "deleting": false
          }
        },
        "gather": {
          "logged": 1610590887950
        }
      }
    },
    {
      "cell_type": "markdown",
      "source": [
        "## View the service logs"
      ],
      "metadata": {
        "nteract": {
          "transient": {
            "deleting": false
          }
        }
      }
    },
    {
      "cell_type": "code",
      "source": [
        "print(service.get_logs())\r\n"
      ],
      "outputs": [
        {
          "output_type": "stream",
          "name": "stdout",
          "text": [
            "2021-01-14T01:44:48,365866100+00:00 - gunicorn/run \n",
            "2021-01-14T01:44:48,378961100+00:00 - rsyslog/run \n",
            "2021-01-14T01:44:48,392757200+00:00 - iot-server/run \n",
            "2021-01-14T01:44:48,419106100+00:00 - nginx/run \n",
            "/usr/sbin/nginx: /azureml-envs/azureml_8eff28b157f42edcd2424a5aae6c8074/lib/libcrypto.so.1.0.0: no version information available (required by /usr/sbin/nginx)\n",
            "/usr/sbin/nginx: /azureml-envs/azureml_8eff28b157f42edcd2424a5aae6c8074/lib/libcrypto.so.1.0.0: no version information available (required by /usr/sbin/nginx)\n",
            "/usr/sbin/nginx: /azureml-envs/azureml_8eff28b157f42edcd2424a5aae6c8074/lib/libssl.so.1.0.0: no version information available (required by /usr/sbin/nginx)\n",
            "/usr/sbin/nginx: /azureml-envs/azureml_8eff28b157f42edcd2424a5aae6c8074/lib/libssl.so.1.0.0: no version information available (required by /usr/sbin/nginx)\n",
            "/usr/sbin/nginx: /azureml-envs/azureml_8eff28b157f42edcd2424a5aae6c8074/lib/libssl.so.1.0.0: no version information available (required by /usr/sbin/nginx)\n",
            "rsyslogd: /azureml-envs/azureml_8eff28b157f42edcd2424a5aae6c8074/lib/libuuid.so.1: no version information available (required by rsyslogd)\n",
            "EdgeHubConnectionString and IOTEDGE_IOTHUBHOSTNAME are not set. Exiting...\n",
            "2021-01-14T01:44:50,145720100+00:00 - iot-server/finish 1 0\n",
            "2021-01-14T01:44:50,177566100+00:00 - Exit code 1 is normal. Not restarting iot-server.\n",
            "Starting gunicorn 19.9.0\n",
            "Listening at: http://127.0.0.1:31311 (58)\n",
            "Using worker: sync\n",
            "worker timeout is set to 300\n",
            "Booting worker with pid: 94\n",
            "SPARK_HOME not set. Skipping PySpark Initialization.\n",
            "Generating new fontManager, this may take some time...\n",
            "Initializing logger\n",
            "2021-01-14 01:44:56,052 | root | INFO | Starting up app insights client\n",
            "Starting up app insights client\n",
            "2021-01-14 01:44:56,053 | root | INFO | Starting up request id generator\n",
            "Starting up request id generator\n",
            "2021-01-14 01:44:56,053 | root | INFO | Starting up app insight hooks\n",
            "Starting up app insight hooks\n",
            "2021-01-14 01:44:56,053 | root | INFO | Invoking user's init function\n",
            "Invoking user's init function\n",
            "2021-01-14 01:45:10,187 | root | INFO | Users's init has completed successfully\n",
            "Users's init has completed successfully\n",
            "2021-01-14 01:45:10,210 | root | INFO | Skipping middleware: dbg_model_info as it's not enabled.\n",
            "Skipping middleware: dbg_model_info as it's not enabled.\n",
            "2021-01-14 01:45:10,210 | root | INFO | Skipping middleware: dbg_resource_usage as it's not enabled.\n",
            "Skipping middleware: dbg_resource_usage as it's not enabled.\n",
            "2021-01-14 01:45:10,213 | root | INFO | Scoring timeout is found from os.environ: 60000 ms\n",
            "Scoring timeout is found from os.environ: 60000 ms\n",
            "2021-01-14 01:45:44,808 | root | INFO | 200\n",
            "200\n",
            "127.0.0.1 - - [14/Jan/2021:01:45:44 +0000] \"GET /swagger.json HTTP/1.0\" 200 3193 \"-\" \"Go-http-client/1.1\"\n",
            "2021-01-14 01:45:47,856 | root | INFO | 200\n",
            "200\n",
            "127.0.0.1 - - [14/Jan/2021:01:45:47 +0000] \"GET /swagger.json HTTP/1.0\" 200 3193 \"-\" \"Go-http-client/1.1\"\n",
            "2021-01-14 02:00:46,389 | root | INFO | 200\n",
            "200\n",
            "127.0.0.1 - - [14/Jan/2021:02:00:46 +0000] \"GET /swagger.json HTTP/1.0\" 200 3193 \"-\" \"Go-http-client/1.1\"\n",
            "2021-01-14 02:00:47,654 | root | INFO | 200\n",
            "200\n",
            "127.0.0.1 - - [14/Jan/2021:02:00:47 +0000] \"GET /swagger.json HTTP/1.0\" 200 3193 \"-\" \"Go-http-client/1.1\"\n",
            "2021-01-14 02:01:11,033 | root | INFO | 200\n",
            "200\n",
            "127.0.0.1 - - [14/Jan/2021:02:01:11 +0000] \"GET /swagger.json HTTP/1.0\" 200 3193 \"-\" \"Mozilla/5.0 (Windows NT 10.0; Win64; x64) AppleWebKit/537.36 (KHTML, like Gecko) Chrome/87.0.4280.88 Safari/537.36\"\n",
            "2021-01-14 02:01:28,939 | root | INFO | 200\n",
            "200\n",
            "127.0.0.1 - - [14/Jan/2021:02:01:28 +0000] \"GET /swagger.json HTTP/1.0\" 200 3193 \"-\" \"Mozilla/5.0 (Windows NT 10.0; Win64; x64) AppleWebKit/537.36 (KHTML, like Gecko) Chrome/87.0.4280.88 Safari/537.36\"\n",
            "2021-01-14 02:01:33,510 | root | INFO | 200\n",
            "200\n",
            "127.0.0.1 - - [14/Jan/2021:02:01:33 +0000] \"GET /swagger.json HTTP/1.0\" 200 3193 \"-\" \"Mozilla/5.0 (Windows NT 10.0; Win64; x64) AppleWebKit/537.36 (KHTML, like Gecko) Chrome/87.0.4280.88 Safari/537.36\"\n",
            "2021-01-14 02:10:48,862 | root | INFO | Validation Request Content-Type\n",
            "Validation Request Content-Type\n",
            "2021-01-14 02:10:48,867 | root | INFO | \tHost: localhost:5001\n",
            "\tHost: localhost:5001\n",
            "2021-01-14 02:10:48,867 | root | INFO | \tX-Real-Ip: 127.0.0.1\n",
            "\tX-Real-Ip: 127.0.0.1\n",
            "2021-01-14 02:10:48,868 | root | INFO | \tX-Forwarded-For: 127.0.0.1\n",
            "\tX-Forwarded-For: 127.0.0.1\n",
            "2021-01-14 02:10:48,868 | root | INFO | \tX-Forwarded-Proto: http\n",
            "\tX-Forwarded-Proto: http\n",
            "2021-01-14 02:10:48,868 | root | INFO | \tConnection: close\n",
            "\tConnection: close\n",
            "2021-01-14 02:10:48,869 | root | INFO | \tContent-Length: 1002\n",
            "\tContent-Length: 1002\n",
            "2021-01-14 02:10:48,869 | root | INFO | \tUser-Agent: python-requests/2.25.0\n",
            "\tUser-Agent: python-requests/2.25.0\n",
            "2021-01-14 02:10:48,870 | root | INFO | \tAccept: */*\n",
            "\tAccept: */*\n",
            "2021-01-14 02:10:48,871 | root | INFO | \tAccept-Encoding: gzip, deflate\n",
            "\tAccept-Encoding: gzip, deflate\n",
            "2021-01-14 02:10:48,871 | root | INFO | \tContent-Type: application/json\n",
            "\tContent-Type: application/json\n",
            "2021-01-14 02:10:48,872 | root | INFO | \tX-Ms-Request-Id: 9eaa4a4f-422d-49ba-bcfc-bf68dd0530d1\n",
            "\tX-Ms-Request-Id: 9eaa4a4f-422d-49ba-bcfc-bf68dd0530d1\n",
            "2021-01-14 02:10:48,873 | root | INFO | Scoring Timer is set to 60.0 seconds\n",
            "Scoring Timer is set to 60.0 seconds\n",
            "2021-01-14 02:10:48,921 | root | ERROR | Encountered Exception: Traceback (most recent call last):\n",
            "  File \"/var/azureml-server/app.py\", line 239, in run_scoring\n",
            "    response = invoke_user_with_timer(service_input, request_headers)\n",
            "  File \"/var/azureml-server/app.py\", line 309, in invoke_user_with_timer\n",
            "    result = user_main.run(**params)\n",
            "  File \"/var/azureml-app/main.py\", line 21, in run\n",
            "    return_obj = driver_module.run(**arguments)\n",
            "  File \"/azureml-envs/azureml_8eff28b157f42edcd2424a5aae6c8074/lib/python3.6/site-packages/wrapt/wrappers.py\", line 564, in __call__\n",
            "    args, kwargs)\n",
            "  File \"/azureml-envs/azureml_8eff28b157f42edcd2424a5aae6c8074/lib/python3.6/site-packages/inference_schema/schema_decorators.py\", line 57, in decorator_input\n",
            "    kwargs[param_name] = _deserialize_input_argument(kwargs[param_name], param_type, param_name)\n",
            "  File \"/azureml-envs/azureml_8eff28b157f42edcd2424a5aae6c8074/lib/python3.6/site-packages/inference_schema/schema_decorators.py\", line 285, in _deserialize_input_argument\n",
            "    input_data = param_type.deserialize_input(input_data)\n",
            "  File \"/azureml-envs/azureml_8eff28b157f42edcd2424a5aae6c8074/lib/python3.6/site-packages/inference_schema/parameter_types/pandas_parameter_type.py\", line 79, in deserialize_input\n",
            "    data_frame.shape[dim], dim, expected_shape[dim]))\n",
            "ValueError: Invalid input data frame: data frame has size 38 on dimension #1, while expected value is 15\n",
            "\n",
            "During handling of the above exception, another exception occurred:\n",
            "\n",
            "Traceback (most recent call last):\n",
            "  File \"/azureml-envs/azureml_8eff28b157f42edcd2424a5aae6c8074/lib/python3.6/site-packages/flask/app.py\", line 1832, in full_dispatch_request\n",
            "    rv = self.dispatch_request()\n",
            "  File \"/azureml-envs/azureml_8eff28b157f42edcd2424a5aae6c8074/lib/python3.6/site-packages/flask/app.py\", line 1818, in dispatch_request\n",
            "    return self.view_functions[rule.endpoint](**req.view_args)\n",
            "  File \"/var/azureml-server/app.py\", line 142, in score_realtime\n",
            "    return run_scoring(service_input, request.headers, request.environ.get('REQUEST_ID', '00000000-0000-0000-0000-000000000000'))\n",
            "  File \"/var/azureml-server/app.py\", line 252, in run_scoring\n",
            "    raise RunFunctionException(str(exc))\n",
            "run_function_exception.RunFunctionException\n",
            "\n",
            "Encountered Exception: Traceback (most recent call last):\n",
            "  File \"/var/azureml-server/app.py\", line 239, in run_scoring\n",
            "    response = invoke_user_with_timer(service_input, request_headers)\n",
            "  File \"/var/azureml-server/app.py\", line 309, in invoke_user_with_timer\n",
            "    result = user_main.run(**params)\n",
            "  File \"/var/azureml-app/main.py\", line 21, in run\n",
            "    return_obj = driver_module.run(**arguments)\n",
            "  File \"/azureml-envs/azureml_8eff28b157f42edcd2424a5aae6c8074/lib/python3.6/site-packages/wrapt/wrappers.py\", line 564, in __call__\n",
            "    args, kwargs)\n",
            "  File \"/azureml-envs/azureml_8eff28b157f42edcd2424a5aae6c8074/lib/python3.6/site-packages/inference_schema/schema_decorators.py\", line 57, in decorator_input\n",
            "    kwargs[param_name] = _deserialize_input_argument(kwargs[param_name], param_type, param_name)\n",
            "  File \"/azureml-envs/azureml_8eff28b157f42edcd2424a5aae6c8074/lib/python3.6/site-packages/inference_schema/schema_decorators.py\", line 285, in _deserialize_input_argument\n",
            "    input_data = param_type.deserialize_input(input_data)\n",
            "  File \"/azureml-envs/azureml_8eff28b157f42edcd2424a5aae6c8074/lib/python3.6/site-packages/inference_schema/parameter_types/pandas_parameter_type.py\", line 79, in deserialize_input\n",
            "    data_frame.shape[dim], dim, expected_shape[dim]))\n",
            "ValueError: Invalid input data frame: data frame has size 38 on dimension #1, while expected value is 15\n",
            "\n",
            "During handling of the above exception, another exception occurred:\n",
            "\n",
            "Traceback (most recent call last):\n",
            "  File \"/azureml-envs/azureml_8eff28b157f42edcd2424a5aae6c8074/lib/python3.6/site-packages/flask/app.py\", line 1832, in full_dispatch_request\n",
            "    rv = self.dispatch_request()\n",
            "  File \"/azureml-envs/azureml_8eff28b157f42edcd2424a5aae6c8074/lib/python3.6/site-packages/flask/app.py\", line 1818, in dispatch_request\n",
            "    return self.view_functions[rule.endpoint](**req.view_args)\n",
            "  File \"/var/azureml-server/app.py\", line 142, in score_realtime\n",
            "    return run_scoring(service_input, request.headers, request.environ.get('REQUEST_ID', '00000000-0000-0000-0000-000000000000'))\n",
            "  File \"/var/azureml-server/app.py\", line 252, in run_scoring\n",
            "    raise RunFunctionException(str(exc))\n",
            "run_function_exception.RunFunctionException\n",
            "\n",
            "2021-01-14 02:10:48,921 | root | INFO | 500\n",
            "500\n",
            "127.0.0.1 - - [14/Jan/2021:02:10:48 +0000] \"POST /score HTTP/1.0\" 500 92 \"-\" \"python-requests/2.25.0\"\n",
            "Exception in worker process\n",
            "Traceback (most recent call last):\n",
            "  File \"/azureml-envs/azureml_8eff28b157f42edcd2424a5aae6c8074/lib/python3.6/site-packages/gunicorn/arbiter.py\", line 583, in spawn_worker\n",
            "    worker.init_process()\n",
            "  File \"/azureml-envs/azureml_8eff28b157f42edcd2424a5aae6c8074/lib/python3.6/site-packages/gunicorn/workers/base.py\", line 134, in init_process\n",
            "    self.run()\n",
            "  File \"/azureml-envs/azureml_8eff28b157f42edcd2424a5aae6c8074/lib/python3.6/site-packages/gunicorn/workers/sync.py\", line 124, in run\n",
            "    self.run_for_one(timeout)\n",
            "  File \"/azureml-envs/azureml_8eff28b157f42edcd2424a5aae6c8074/lib/python3.6/site-packages/gunicorn/workers/sync.py\", line 83, in run_for_one\n",
            "    self.wait(timeout)\n",
            "  File \"/azureml-envs/azureml_8eff28b157f42edcd2424a5aae6c8074/lib/python3.6/site-packages/gunicorn/workers/sync.py\", line 35, in wait\n",
            "    ret = select.select(self.wait_fds, [], [], timeout)\n",
            "  File \"/var/azureml-server/app.py\", line 279, in alarm_handler\n",
            "    raise TimeoutException(error_message)\n",
            "timeout_exception.TimeoutException\n",
            "Worker exiting (pid: 94)\n",
            "worker timeout is set to 300\n",
            "Booting worker with pid: 495\n",
            "SPARK_HOME not set. Skipping PySpark Initialization.\n",
            "Initializing logger\n",
            "2021-01-14 02:11:51,629 | root | INFO | Starting up app insights client\n",
            "Starting up app insights client\n",
            "2021-01-14 02:11:51,630 | root | INFO | Starting up request id generator\n",
            "Starting up request id generator\n",
            "2021-01-14 02:11:51,630 | root | INFO | Starting up app insight hooks\n",
            "Starting up app insight hooks\n",
            "2021-01-14 02:11:51,631 | root | INFO | Invoking user's init function\n",
            "Invoking user's init function\n",
            "2021-01-14 02:11:58,142 | root | INFO | Users's init has completed successfully\n",
            "Users's init has completed successfully\n",
            "2021-01-14 02:11:58,149 | root | INFO | Skipping middleware: dbg_model_info as it's not enabled.\n",
            "Skipping middleware: dbg_model_info as it's not enabled.\n",
            "2021-01-14 02:11:58,149 | root | INFO | Skipping middleware: dbg_resource_usage as it's not enabled.\n",
            "Skipping middleware: dbg_resource_usage as it's not enabled.\n",
            "2021-01-14 02:11:58,151 | root | INFO | Scoring timeout is found from os.environ: 60000 ms\n",
            "Scoring timeout is found from os.environ: 60000 ms\n",
            "2021-01-14 02:12:07,052 | root | INFO | Validation Request Content-Type\n",
            "Validation Request Content-Type\n",
            "2021-01-14 02:12:07,053 | root | INFO | \tHost: localhost:5001\n",
            "\tHost: localhost:5001\n",
            "2021-01-14 02:12:07,053 | root | INFO | \tX-Real-Ip: 127.0.0.1\n",
            "\tX-Real-Ip: 127.0.0.1\n",
            "2021-01-14 02:12:07,054 | root | INFO | \tX-Forwarded-For: 127.0.0.1\n",
            "\tX-Forwarded-For: 127.0.0.1\n",
            "2021-01-14 02:12:07,055 | root | INFO | \tX-Forwarded-Proto: http\n",
            "\tX-Forwarded-Proto: http\n",
            "2021-01-14 02:12:07,055 | root | INFO | \tConnection: close\n",
            "\tConnection: close\n",
            "2021-01-14 02:12:07,055 | root | INFO | \tContent-Length: 1002\n",
            "\tContent-Length: 1002\n",
            "2021-01-14 02:12:07,056 | root | INFO | \tUser-Agent: python-requests/2.25.0\n",
            "\tUser-Agent: python-requests/2.25.0\n",
            "2021-01-14 02:12:07,056 | root | INFO | \tAccept: */*\n",
            "\tAccept: */*\n",
            "2021-01-14 02:12:07,056 | root | INFO | \tAccept-Encoding: gzip, deflate\n",
            "\tAccept-Encoding: gzip, deflate\n",
            "2021-01-14 02:12:07,056 | root | INFO | \tContent-Type: application/json\n",
            "\tContent-Type: application/json\n",
            "2021-01-14 02:12:07,056 | root | INFO | \tX-Ms-Request-Id: 52edb873-e66c-423f-a419-1ff9c9fd1c03\n",
            "\tX-Ms-Request-Id: 52edb873-e66c-423f-a419-1ff9c9fd1c03\n",
            "2021-01-14 02:12:07,056 | root | INFO | Scoring Timer is set to 60.0 seconds\n",
            "Scoring Timer is set to 60.0 seconds\n",
            "2021-01-14 02:12:07,085 | root | ERROR | Encountered Exception: Traceback (most recent call last):\n",
            "  File \"/var/azureml-server/app.py\", line 239, in run_scoring\n",
            "    response = invoke_user_with_timer(service_input, request_headers)\n",
            "  File \"/var/azureml-server/app.py\", line 309, in invoke_user_with_timer\n",
            "    result = user_main.run(**params)\n",
            "  File \"/var/azureml-app/main.py\", line 21, in run\n",
            "    return_obj = driver_module.run(**arguments)\n",
            "  File \"/azureml-envs/azureml_8eff28b157f42edcd2424a5aae6c8074/lib/python3.6/site-packages/wrapt/wrappers.py\", line 564, in __call__\n",
            "    args, kwargs)\n",
            "  File \"/azureml-envs/azureml_8eff28b157f42edcd2424a5aae6c8074/lib/python3.6/site-packages/inference_schema/schema_decorators.py\", line 57, in decorator_input\n",
            "    kwargs[param_name] = _deserialize_input_argument(kwargs[param_name], param_type, param_name)\n",
            "  File \"/azureml-envs/azureml_8eff28b157f42edcd2424a5aae6c8074/lib/python3.6/site-packages/inference_schema/schema_decorators.py\", line 285, in _deserialize_input_argument\n",
            "    input_data = param_type.deserialize_input(input_data)\n",
            "  File \"/azureml-envs/azureml_8eff28b157f42edcd2424a5aae6c8074/lib/python3.6/site-packages/inference_schema/parameter_types/pandas_parameter_type.py\", line 79, in deserialize_input\n",
            "    data_frame.shape[dim], dim, expected_shape[dim]))\n",
            "ValueError: Invalid input data frame: data frame has size 38 on dimension #1, while expected value is 15\n",
            "\n",
            "During handling of the above exception, another exception occurred:\n",
            "\n",
            "Traceback (most recent call last):\n",
            "  File \"/azureml-envs/azureml_8eff28b157f42edcd2424a5aae6c8074/lib/python3.6/site-packages/flask/app.py\", line 1832, in full_dispatch_request\n",
            "    rv = self.dispatch_request()\n",
            "  File \"/azureml-envs/azureml_8eff28b157f42edcd2424a5aae6c8074/lib/python3.6/site-packages/flask/app.py\", line 1818, in dispatch_request\n",
            "    return self.view_functions[rule.endpoint](**req.view_args)\n",
            "  File \"/var/azureml-server/app.py\", line 142, in score_realtime\n",
            "    return run_scoring(service_input, request.headers, request.environ.get('REQUEST_ID', '00000000-0000-0000-0000-000000000000'))\n",
            "  File \"/var/azureml-server/app.py\", line 252, in run_scoring\n",
            "    raise RunFunctionException(str(exc))\n",
            "run_function_exception.RunFunctionException\n",
            "\n",
            "Encountered Exception: Traceback (most recent call last):\n",
            "  File \"/var/azureml-server/app.py\", line 239, in run_scoring\n",
            "    response = invoke_user_with_timer(service_input, request_headers)\n",
            "  File \"/var/azureml-server/app.py\", line 309, in invoke_user_with_timer\n",
            "    result = user_main.run(**params)\n",
            "  File \"/var/azureml-app/main.py\", line 21, in run\n",
            "    return_obj = driver_module.run(**arguments)\n",
            "  File \"/azureml-envs/azureml_8eff28b157f42edcd2424a5aae6c8074/lib/python3.6/site-packages/wrapt/wrappers.py\", line 564, in __call__\n",
            "    args, kwargs)\n",
            "  File \"/azureml-envs/azureml_8eff28b157f42edcd2424a5aae6c8074/lib/python3.6/site-packages/inference_schema/schema_decorators.py\", line 57, in decorator_input\n",
            "    kwargs[param_name] = _deserialize_input_argument(kwargs[param_name], param_type, param_name)\n",
            "  File \"/azureml-envs/azureml_8eff28b157f42edcd2424a5aae6c8074/lib/python3.6/site-packages/inference_schema/schema_decorators.py\", line 285, in _deserialize_input_argument\n",
            "    input_data = param_type.deserialize_input(input_data)\n",
            "  File \"/azureml-envs/azureml_8eff28b157f42edcd2424a5aae6c8074/lib/python3.6/site-packages/inference_schema/parameter_types/pandas_parameter_type.py\", line 79, in deserialize_input\n",
            "    data_frame.shape[dim], dim, expected_shape[dim]))\n",
            "ValueError: Invalid input data frame: data frame has size 38 on dimension #1, while expected value is 15\n",
            "\n",
            "During handling of the above exception, another exception occurred:\n",
            "\n",
            "Traceback (most recent call last):\n",
            "  File \"/azureml-envs/azureml_8eff28b157f42edcd2424a5aae6c8074/lib/python3.6/site-packages/flask/app.py\", line 1832, in full_dispatch_request\n",
            "    rv = self.dispatch_request()\n",
            "  File \"/azureml-envs/azureml_8eff28b157f42edcd2424a5aae6c8074/lib/python3.6/site-packages/flask/app.py\", line 1818, in dispatch_request\n",
            "    return self.view_functions[rule.endpoint](**req.view_args)\n",
            "  File \"/var/azureml-server/app.py\", line 142, in score_realtime\n",
            "    return run_scoring(service_input, request.headers, request.environ.get('REQUEST_ID', '00000000-0000-0000-0000-000000000000'))\n",
            "  File \"/var/azureml-server/app.py\", line 252, in run_scoring\n",
            "    raise RunFunctionException(str(exc))\n",
            "run_function_exception.RunFunctionException\n",
            "\n",
            "2021-01-14 02:12:07,086 | root | INFO | 500\n",
            "500\n",
            "127.0.0.1 - - [14/Jan/2021:02:12:07 +0000] \"POST /score HTTP/1.0\" 500 92 \"-\" \"python-requests/2.25.0\"\n",
            "Exception in worker process\n",
            "Traceback (most recent call last):\n",
            "  File \"/azureml-envs/azureml_8eff28b157f42edcd2424a5aae6c8074/lib/python3.6/site-packages/gunicorn/arbiter.py\", line 583, in spawn_worker\n",
            "    worker.init_process()\n",
            "  File \"/azureml-envs/azureml_8eff28b157f42edcd2424a5aae6c8074/lib/python3.6/site-packages/gunicorn/workers/base.py\", line 134, in init_process\n",
            "    self.run()\n",
            "  File \"/azureml-envs/azureml_8eff28b157f42edcd2424a5aae6c8074/lib/python3.6/site-packages/gunicorn/workers/sync.py\", line 124, in run\n",
            "    self.run_for_one(timeout)\n",
            "  File \"/azureml-envs/azureml_8eff28b157f42edcd2424a5aae6c8074/lib/python3.6/site-packages/gunicorn/workers/sync.py\", line 83, in run_for_one\n",
            "    self.wait(timeout)\n",
            "  File \"/azureml-envs/azureml_8eff28b157f42edcd2424a5aae6c8074/lib/python3.6/site-packages/gunicorn/workers/sync.py\", line 35, in wait\n",
            "    ret = select.select(self.wait_fds, [], [], timeout)\n",
            "  File \"/var/azureml-server/app.py\", line 279, in alarm_handler\n",
            "    raise TimeoutException(error_message)\n",
            "timeout_exception.TimeoutException\n",
            "Worker exiting (pid: 495)\n",
            "worker timeout is set to 300\n",
            "Booting worker with pid: 533\n",
            "SPARK_HOME not set. Skipping PySpark Initialization.\n",
            "Initializing logger\n",
            "2021-01-14 02:13:09,538 | root | INFO | Starting up app insights client\n",
            "Starting up app insights client\n",
            "2021-01-14 02:13:09,539 | root | INFO | Starting up request id generator\n",
            "Starting up request id generator\n",
            "2021-01-14 02:13:09,539 | root | INFO | Starting up app insight hooks\n",
            "Starting up app insight hooks\n",
            "2021-01-14 02:13:09,542 | root | INFO | Invoking user's init function\n",
            "Invoking user's init function\n",
            "2021-01-14 02:13:15,932 | root | INFO | Users's init has completed successfully\n",
            "Users's init has completed successfully\n",
            "2021-01-14 02:13:15,934 | root | INFO | Skipping middleware: dbg_model_info as it's not enabled.\n",
            "Skipping middleware: dbg_model_info as it's not enabled.\n",
            "2021-01-14 02:13:15,934 | root | INFO | Skipping middleware: dbg_resource_usage as it's not enabled.\n",
            "Skipping middleware: dbg_resource_usage as it's not enabled.\n",
            "2021-01-14 02:13:15,939 | root | INFO | Scoring timeout is found from os.environ: 60000 ms\n",
            "Scoring timeout is found from os.environ: 60000 ms\n",
            "2021-01-14 02:13:50,657 | root | INFO | Validation Request Content-Type\n",
            "Validation Request Content-Type\n",
            "2021-01-14 02:13:50,658 | root | INFO | \tHost: localhost:5001\n",
            "\tHost: localhost:5001\n",
            "2021-01-14 02:13:50,658 | root | INFO | \tX-Real-Ip: 127.0.0.1\n",
            "\tX-Real-Ip: 127.0.0.1\n",
            "2021-01-14 02:13:50,659 | root | INFO | \tX-Forwarded-For: 127.0.0.1\n",
            "\tX-Forwarded-For: 127.0.0.1\n",
            "2021-01-14 02:13:50,659 | root | INFO | \tX-Forwarded-Proto: http\n",
            "\tX-Forwarded-Proto: http\n",
            "2021-01-14 02:13:50,659 | root | INFO | \tConnection: close\n",
            "\tConnection: close\n",
            "2021-01-14 02:13:50,660 | root | INFO | \tContent-Length: 336\n",
            "\tContent-Length: 336\n",
            "2021-01-14 02:13:50,660 | root | INFO | \tUser-Agent: python-requests/2.25.0\n",
            "\tUser-Agent: python-requests/2.25.0\n",
            "2021-01-14 02:13:50,661 | root | INFO | \tAccept: */*\n",
            "\tAccept: */*\n",
            "2021-01-14 02:13:50,661 | root | INFO | \tAccept-Encoding: gzip, deflate\n",
            "\tAccept-Encoding: gzip, deflate\n",
            "2021-01-14 02:13:50,661 | root | INFO | \tContent-Type: application/json\n",
            "\tContent-Type: application/json\n",
            "2021-01-14 02:13:50,662 | root | INFO | \tX-Ms-Request-Id: 426607e1-20c2-4ea2-ba2b-1adc21f55b61\n",
            "\tX-Ms-Request-Id: 426607e1-20c2-4ea2-ba2b-1adc21f55b61\n",
            "2021-01-14 02:13:50,663 | root | INFO | Scoring Timer is set to 60.0 seconds\n",
            "Scoring Timer is set to 60.0 seconds\n",
            "2021-01-14 02:13:50,677 | root | ERROR | Encountered Exception: Traceback (most recent call last):\n",
            "  File \"/var/azureml-server/app.py\", line 239, in run_scoring\n",
            "    response = invoke_user_with_timer(service_input, request_headers)\n",
            "  File \"/var/azureml-server/app.py\", line 309, in invoke_user_with_timer\n",
            "    result = user_main.run(**params)\n",
            "  File \"/var/azureml-app/main.py\", line 21, in run\n",
            "    return_obj = driver_module.run(**arguments)\n",
            "  File \"/azureml-envs/azureml_8eff28b157f42edcd2424a5aae6c8074/lib/python3.6/site-packages/wrapt/wrappers.py\", line 564, in __call__\n",
            "    args, kwargs)\n",
            "  File \"/azureml-envs/azureml_8eff28b157f42edcd2424a5aae6c8074/lib/python3.6/site-packages/inference_schema/schema_decorators.py\", line 57, in decorator_input\n",
            "    kwargs[param_name] = _deserialize_input_argument(kwargs[param_name], param_type, param_name)\n",
            "  File \"/azureml-envs/azureml_8eff28b157f42edcd2424a5aae6c8074/lib/python3.6/site-packages/inference_schema/schema_decorators.py\", line 285, in _deserialize_input_argument\n",
            "    input_data = param_type.deserialize_input(input_data)\n",
            "  File \"/azureml-envs/azureml_8eff28b157f42edcd2424a5aae6c8074/lib/python3.6/site-packages/inference_schema/parameter_types/pandas_parameter_type.py\", line 58, in deserialize_input\n",
            "    data_frame.columns = self.sample_input.columns\n",
            "  File \"/azureml-envs/azureml_8eff28b157f42edcd2424a5aae6c8074/lib/python3.6/site-packages/pandas/core/generic.py\", line 5192, in __setattr__\n",
            "    return object.__setattr__(self, name, value)\n",
            "  File \"pandas/_libs/properties.pyx\", line 67, in pandas._libs.properties.AxisProperty.__set__\n",
            "  File \"/azureml-envs/azureml_8eff28b157f42edcd2424a5aae6c8074/lib/python3.6/site-packages/pandas/core/generic.py\", line 690, in _set_axis\n",
            "    self._data.set_axis(axis, labels)\n",
            "  File \"/azureml-envs/azureml_8eff28b157f42edcd2424a5aae6c8074/lib/python3.6/site-packages/pandas/core/internals/managers.py\", line 183, in set_axis\n",
            "    \"values have {new} elements\".format(old=old_len, new=new_len)\n",
            "ValueError: Length mismatch: Expected axis has 43 elements, new values have 15 elements\n",
            "\n",
            "During handling of the above exception, another exception occurred:\n",
            "\n",
            "Traceback (most recent call last):\n",
            "  File \"/azureml-envs/azureml_8eff28b157f42edcd2424a5aae6c8074/lib/python3.6/site-packages/flask/app.py\", line 1832, in full_dispatch_request\n",
            "    rv = self.dispatch_request()\n",
            "  File \"/azureml-envs/azureml_8eff28b157f42edcd2424a5aae6c8074/lib/python3.6/site-packages/flask/app.py\", line 1818, in dispatch_request\n",
            "    return self.view_functions[rule.endpoint](**req.view_args)\n",
            "  File \"/var/azureml-server/app.py\", line 142, in score_realtime\n",
            "    return run_scoring(service_input, request.headers, request.environ.get('REQUEST_ID', '00000000-0000-0000-0000-000000000000'))\n",
            "  File \"/var/azureml-server/app.py\", line 252, in run_scoring\n",
            "    raise RunFunctionException(str(exc))\n",
            "run_function_exception.RunFunctionException\n",
            "\n",
            "Encountered Exception: Traceback (most recent call last):\n",
            "  File \"/var/azureml-server/app.py\", line 239, in run_scoring\n",
            "    response = invoke_user_with_timer(service_input, request_headers)\n",
            "  File \"/var/azureml-server/app.py\", line 309, in invoke_user_with_timer\n",
            "    result = user_main.run(**params)\n",
            "  File \"/var/azureml-app/main.py\", line 21, in run\n",
            "    return_obj = driver_module.run(**arguments)\n",
            "  File \"/azureml-envs/azureml_8eff28b157f42edcd2424a5aae6c8074/lib/python3.6/site-packages/wrapt/wrappers.py\", line 564, in __call__\n",
            "    args, kwargs)\n",
            "  File \"/azureml-envs/azureml_8eff28b157f42edcd2424a5aae6c8074/lib/python3.6/site-packages/inference_schema/schema_decorators.py\", line 57, in decorator_input\n",
            "    kwargs[param_name] = _deserialize_input_argument(kwargs[param_name], param_type, param_name)\n",
            "  File \"/azureml-envs/azureml_8eff28b157f42edcd2424a5aae6c8074/lib/python3.6/site-packages/inference_schema/schema_decorators.py\", line 285, in _deserialize_input_argument\n",
            "    input_data = param_type.deserialize_input(input_data)\n",
            "  File \"/azureml-envs/azureml_8eff28b157f42edcd2424a5aae6c8074/lib/python3.6/site-packages/inference_schema/parameter_types/pandas_parameter_type.py\", line 58, in deserialize_input\n",
            "    data_frame.columns = self.sample_input.columns\n",
            "  File \"/azureml-envs/azureml_8eff28b157f42edcd2424a5aae6c8074/lib/python3.6/site-packages/pandas/core/generic.py\", line 5192, in __setattr__\n",
            "    return object.__setattr__(self, name, value)\n",
            "  File \"pandas/_libs/properties.pyx\", line 67, in pandas._libs.properties.AxisProperty.__set__\n",
            "  File \"/azureml-envs/azureml_8eff28b157f42edcd2424a5aae6c8074/lib/python3.6/site-packages/pandas/core/generic.py\", line 690, in _set_axis\n",
            "    self._data.set_axis(axis, labels)\n",
            "  File \"/azureml-envs/azureml_8eff28b157f42edcd2424a5aae6c8074/lib/python3.6/site-packages/pandas/core/internals/managers.py\", line 183, in set_axis\n",
            "    \"values have {new} elements\".format(old=old_len, new=new_len)\n",
            "ValueError: Length mismatch: Expected axis has 43 elements, new values have 15 elements\n",
            "\n",
            "During handling of the above exception, another exception occurred:\n",
            "\n",
            "Traceback (most recent call last):\n",
            "  File \"/azureml-envs/azureml_8eff28b157f42edcd2424a5aae6c8074/lib/python3.6/site-packages/flask/app.py\", line 1832, in full_dispatch_request\n",
            "    rv = self.dispatch_request()\n",
            "  File \"/azureml-envs/azureml_8eff28b157f42edcd2424a5aae6c8074/lib/python3.6/site-packages/flask/app.py\", line 1818, in dispatch_request\n",
            "    return self.view_functions[rule.endpoint](**req.view_args)\n",
            "  File \"/var/azureml-server/app.py\", line 142, in score_realtime\n",
            "    return run_scoring(service_input, request.headers, request.environ.get('REQUEST_ID', '00000000-0000-0000-0000-000000000000'))\n",
            "  File \"/var/azureml-server/app.py\", line 252, in run_scoring\n",
            "    raise RunFunctionException(str(exc))\n",
            "run_function_exception.RunFunctionException\n",
            "\n",
            "2021-01-14 02:13:50,678 | root | INFO | 500\n",
            "500\n",
            "127.0.0.1 - - [14/Jan/2021:02:13:50 +0000] \"POST /score HTTP/1.0\" 500 75 \"-\" \"python-requests/2.25.0\"\n",
            "2021-01-14 02:14:31,057 | root | INFO | Validation Request Content-Type\n",
            "Validation Request Content-Type\n",
            "2021-01-14 02:14:31,058 | root | INFO | \tHost: localhost:5001\n",
            "\tHost: localhost:5001\n",
            "2021-01-14 02:14:31,058 | root | INFO | \tX-Real-Ip: 127.0.0.1\n",
            "\tX-Real-Ip: 127.0.0.1\n",
            "2021-01-14 02:14:31,059 | root | INFO | \tX-Forwarded-For: 127.0.0.1\n",
            "\tX-Forwarded-For: 127.0.0.1\n",
            "2021-01-14 02:14:31,059 | root | INFO | \tX-Forwarded-Proto: http\n",
            "\tX-Forwarded-Proto: http\n",
            "2021-01-14 02:14:31,059 | root | INFO | \tConnection: close\n",
            "\tConnection: close\n",
            "2021-01-14 02:14:31,059 | root | INFO | \tContent-Length: 14\n",
            "\tContent-Length: 14\n",
            "2021-01-14 02:14:31,059 | root | INFO | \tUser-Agent: python-requests/2.25.0\n",
            "\tUser-Agent: python-requests/2.25.0\n",
            "2021-01-14 02:14:31,059 | root | INFO | \tAccept: */*\n",
            "\tAccept: */*\n",
            "2021-01-14 02:14:31,059 | root | INFO | \tAccept-Encoding: gzip, deflate\n",
            "\tAccept-Encoding: gzip, deflate\n",
            "2021-01-14 02:14:31,059 | root | INFO | \tContent-Type: application/json\n",
            "\tContent-Type: application/json\n",
            "2021-01-14 02:14:31,060 | root | INFO | \tX-Ms-Request-Id: 56f1d2b0-f9e8-4f6e-8d3f-41f720c63336\n",
            "\tX-Ms-Request-Id: 56f1d2b0-f9e8-4f6e-8d3f-41f720c63336\n",
            "2021-01-14 02:14:31,060 | root | INFO | Scoring Timer is set to 60.0 seconds\n",
            "Scoring Timer is set to 60.0 seconds\n",
            "2021-01-14 02:14:31,063 | root | ERROR | Encountered Exception: Traceback (most recent call last):\n",
            "  File \"/var/azureml-server/app.py\", line 239, in run_scoring\n",
            "    response = invoke_user_with_timer(service_input, request_headers)\n",
            "  File \"/var/azureml-server/app.py\", line 309, in invoke_user_with_timer\n",
            "    result = user_main.run(**params)\n",
            "  File \"/var/azureml-app/main.py\", line 21, in run\n",
            "    return_obj = driver_module.run(**arguments)\n",
            "  File \"/azureml-envs/azureml_8eff28b157f42edcd2424a5aae6c8074/lib/python3.6/site-packages/wrapt/wrappers.py\", line 564, in __call__\n",
            "    args, kwargs)\n",
            "  File \"/azureml-envs/azureml_8eff28b157f42edcd2424a5aae6c8074/lib/python3.6/site-packages/inference_schema/schema_decorators.py\", line 57, in decorator_input\n",
            "    kwargs[param_name] = _deserialize_input_argument(kwargs[param_name], param_type, param_name)\n",
            "  File \"/azureml-envs/azureml_8eff28b157f42edcd2424a5aae6c8074/lib/python3.6/site-packages/inference_schema/schema_decorators.py\", line 285, in _deserialize_input_argument\n",
            "    input_data = param_type.deserialize_input(input_data)\n",
            "  File \"/azureml-envs/azureml_8eff28b157f42edcd2424a5aae6c8074/lib/python3.6/site-packages/inference_schema/parameter_types/pandas_parameter_type.py\", line 58, in deserialize_input\n",
            "    data_frame.columns = self.sample_input.columns\n",
            "  File \"/azureml-envs/azureml_8eff28b157f42edcd2424a5aae6c8074/lib/python3.6/site-packages/pandas/core/generic.py\", line 5192, in __setattr__\n",
            "    return object.__setattr__(self, name, value)\n",
            "  File \"pandas/_libs/properties.pyx\", line 67, in pandas._libs.properties.AxisProperty.__set__\n",
            "  File \"/azureml-envs/azureml_8eff28b157f42edcd2424a5aae6c8074/lib/python3.6/site-packages/pandas/core/generic.py\", line 690, in _set_axis\n",
            "    self._data.set_axis(axis, labels)\n",
            "  File \"/azureml-envs/azureml_8eff28b157f42edcd2424a5aae6c8074/lib/python3.6/site-packages/pandas/core/internals/managers.py\", line 183, in set_axis\n",
            "    \"values have {new} elements\".format(old=old_len, new=new_len)\n",
            "ValueError: Length mismatch: Expected axis has 0 elements, new values have 15 elements\n",
            "\n",
            "During handling of the above exception, another exception occurred:\n",
            "\n",
            "Traceback (most recent call last):\n",
            "  File \"/azureml-envs/azureml_8eff28b157f42edcd2424a5aae6c8074/lib/python3.6/site-packages/flask/app.py\", line 1832, in full_dispatch_request\n",
            "    rv = self.dispatch_request()\n",
            "  File \"/azureml-envs/azureml_8eff28b157f42edcd2424a5aae6c8074/lib/python3.6/site-packages/flask/app.py\", line 1818, in dispatch_request\n",
            "    return self.view_functions[rule.endpoint](**req.view_args)\n",
            "  File \"/var/azureml-server/app.py\", line 142, in score_realtime\n",
            "    return run_scoring(service_input, request.headers, request.environ.get('REQUEST_ID', '00000000-0000-0000-0000-000000000000'))\n",
            "  File \"/var/azureml-server/app.py\", line 252, in run_scoring\n",
            "    raise RunFunctionException(str(exc))\n",
            "run_function_exception.RunFunctionException\n",
            "\n",
            "Encountered Exception: Traceback (most recent call last):\n",
            "  File \"/var/azureml-server/app.py\", line 239, in run_scoring\n",
            "    response = invoke_user_with_timer(service_input, request_headers)\n",
            "  File \"/var/azureml-server/app.py\", line 309, in invoke_user_with_timer\n",
            "    result = user_main.run(**params)\n",
            "  File \"/var/azureml-app/main.py\", line 21, in run\n",
            "    return_obj = driver_module.run(**arguments)\n",
            "  File \"/azureml-envs/azureml_8eff28b157f42edcd2424a5aae6c8074/lib/python3.6/site-packages/wrapt/wrappers.py\", line 564, in __call__\n",
            "    args, kwargs)\n",
            "  File \"/azureml-envs/azureml_8eff28b157f42edcd2424a5aae6c8074/lib/python3.6/site-packages/inference_schema/schema_decorators.py\", line 57, in decorator_input\n",
            "    kwargs[param_name] = _deserialize_input_argument(kwargs[param_name], param_type, param_name)\n",
            "  File \"/azureml-envs/azureml_8eff28b157f42edcd2424a5aae6c8074/lib/python3.6/site-packages/inference_schema/schema_decorators.py\", line 285, in _deserialize_input_argument\n",
            "    input_data = param_type.deserialize_input(input_data)\n",
            "  File \"/azureml-envs/azureml_8eff28b157f42edcd2424a5aae6c8074/lib/python3.6/site-packages/inference_schema/parameter_types/pandas_parameter_type.py\", line 58, in deserialize_input\n",
            "    data_frame.columns = self.sample_input.columns\n",
            "  File \"/azureml-envs/azureml_8eff28b157f42edcd2424a5aae6c8074/lib/python3.6/site-packages/pandas/core/generic.py\", line 5192, in __setattr__\n",
            "    return object.__setattr__(self, name, value)\n",
            "  File \"pandas/_libs/properties.pyx\", line 67, in pandas._libs.properties.AxisProperty.__set__\n",
            "  File \"/azureml-envs/azureml_8eff28b157f42edcd2424a5aae6c8074/lib/python3.6/site-packages/pandas/core/generic.py\", line 690, in _set_axis\n",
            "    self._data.set_axis(axis, labels)\n",
            "  File \"/azureml-envs/azureml_8eff28b157f42edcd2424a5aae6c8074/lib/python3.6/site-packages/pandas/core/internals/managers.py\", line 183, in set_axis\n",
            "    \"values have {new} elements\".format(old=old_len, new=new_len)\n",
            "ValueError: Length mismatch: Expected axis has 0 elements, new values have 15 elements\n",
            "\n",
            "During handling of the above exception, another exception occurred:\n",
            "\n",
            "Traceback (most recent call last):\n",
            "  File \"/azureml-envs/azureml_8eff28b157f42edcd2424a5aae6c8074/lib/python3.6/site-packages/flask/app.py\", line 1832, in full_dispatch_request\n",
            "    rv = self.dispatch_request()\n",
            "  File \"/azureml-envs/azureml_8eff28b157f42edcd2424a5aae6c8074/lib/python3.6/site-packages/flask/app.py\", line 1818, in dispatch_request\n",
            "    return self.view_functions[rule.endpoint](**req.view_args)\n",
            "  File \"/var/azureml-server/app.py\", line 142, in score_realtime\n",
            "    return run_scoring(service_input, request.headers, request.environ.get('REQUEST_ID', '00000000-0000-0000-0000-000000000000'))\n",
            "  File \"/var/azureml-server/app.py\", line 252, in run_scoring\n",
            "    raise RunFunctionException(str(exc))\n",
            "run_function_exception.RunFunctionException\n",
            "\n",
            "2021-01-14 02:14:31,064 | root | INFO | 500\n",
            "500\n",
            "127.0.0.1 - - [14/Jan/2021:02:14:31 +0000] \"POST /score HTTP/1.0\" 500 74 \"-\" \"python-requests/2.25.0\"\n",
            "Exception in worker process\n",
            "Traceback (most recent call last):\n",
            "  File \"/azureml-envs/azureml_8eff28b157f42edcd2424a5aae6c8074/lib/python3.6/site-packages/gunicorn/arbiter.py\", line 583, in spawn_worker\n",
            "    worker.init_process()\n",
            "  File \"/azureml-envs/azureml_8eff28b157f42edcd2424a5aae6c8074/lib/python3.6/site-packages/gunicorn/workers/base.py\", line 134, in init_process\n",
            "    self.run()\n",
            "  File \"/azureml-envs/azureml_8eff28b157f42edcd2424a5aae6c8074/lib/python3.6/site-packages/gunicorn/workers/sync.py\", line 124, in run\n",
            "    self.run_for_one(timeout)\n",
            "  File \"/azureml-envs/azureml_8eff28b157f42edcd2424a5aae6c8074/lib/python3.6/site-packages/gunicorn/workers/sync.py\", line 83, in run_for_one\n",
            "    self.wait(timeout)\n",
            "  File \"/azureml-envs/azureml_8eff28b157f42edcd2424a5aae6c8074/lib/python3.6/site-packages/gunicorn/workers/sync.py\", line 35, in wait\n",
            "    ret = select.select(self.wait_fds, [], [], timeout)\n",
            "  File \"/var/azureml-server/app.py\", line 279, in alarm_handler\n",
            "    raise TimeoutException(error_message)\n",
            "timeout_exception.TimeoutException\n",
            "Worker exiting (pid: 533)\n",
            "worker timeout is set to 300\n",
            "Booting worker with pid: 586\n",
            "SPARK_HOME not set. Skipping PySpark Initialization.\n",
            "Initializing logger\n",
            "2021-01-14 02:15:33,397 | root | INFO | Starting up app insights client\n",
            "Starting up app insights client\n",
            "2021-01-14 02:15:33,397 | root | INFO | Starting up request id generator\n",
            "Starting up request id generator\n",
            "2021-01-14 02:15:33,397 | root | INFO | Starting up app insight hooks\n",
            "Starting up app insight hooks\n",
            "2021-01-14 02:15:33,398 | root | INFO | Invoking user's init function\n",
            "Invoking user's init function\n",
            "2021-01-14 02:15:39,551 | root | INFO | Users's init has completed successfully\n",
            "Users's init has completed successfully\n",
            "2021-01-14 02:15:39,553 | root | INFO | Skipping middleware: dbg_model_info as it's not enabled.\n",
            "Skipping middleware: dbg_model_info as it's not enabled.\n",
            "2021-01-14 02:15:39,554 | root | INFO | Skipping middleware: dbg_resource_usage as it's not enabled.\n",
            "Skipping middleware: dbg_resource_usage as it's not enabled.\n",
            "2021-01-14 02:15:39,558 | root | INFO | Scoring timeout is found from os.environ: 60000 ms\n",
            "Scoring timeout is found from os.environ: 60000 ms\n",
            "2021-01-14 02:18:55,523 | root | INFO | 200\n",
            "200\n",
            "127.0.0.1 - - [14/Jan/2021:02:18:55 +0000] \"GET /swagger.json HTTP/1.0\" 200 3193 \"-\" \"Go-http-client/1.1\"\n",
            "2021-01-14 02:21:26,555 | root | INFO | Validation Request Content-Type\n",
            "Validation Request Content-Type\n",
            "2021-01-14 02:21:26,556 | root | INFO | \tHost: localhost:5001\n",
            "\tHost: localhost:5001\n",
            "2021-01-14 02:21:26,556 | root | INFO | \tX-Real-Ip: 127.0.0.1\n",
            "\tX-Real-Ip: 127.0.0.1\n",
            "2021-01-14 02:21:26,556 | root | INFO | \tX-Forwarded-For: 127.0.0.1\n",
            "\tX-Forwarded-For: 127.0.0.1\n",
            "2021-01-14 02:21:26,556 | root | INFO | \tX-Forwarded-Proto: http\n",
            "\tX-Forwarded-Proto: http\n",
            "2021-01-14 02:21:26,556 | root | INFO | \tConnection: close\n",
            "\tConnection: close\n",
            "2021-01-14 02:21:26,557 | root | INFO | \tContent-Length: 14\n",
            "\tContent-Length: 14\n",
            "2021-01-14 02:21:26,557 | root | INFO | \tUser-Agent: python-requests/2.25.0\n",
            "\tUser-Agent: python-requests/2.25.0\n",
            "2021-01-14 02:21:26,557 | root | INFO | \tAccept: */*\n",
            "\tAccept: */*\n",
            "2021-01-14 02:21:26,557 | root | INFO | \tAccept-Encoding: gzip, deflate\n",
            "\tAccept-Encoding: gzip, deflate\n",
            "2021-01-14 02:21:26,557 | root | INFO | \tContent-Type: application/json\n",
            "\tContent-Type: application/json\n",
            "2021-01-14 02:21:26,557 | root | INFO | \tX-Ms-Request-Id: d76a52a9-480f-4615-8324-6c3f2bc18148\n",
            "\tX-Ms-Request-Id: d76a52a9-480f-4615-8324-6c3f2bc18148\n",
            "2021-01-14 02:21:26,557 | root | INFO | Scoring Timer is set to 60.0 seconds\n",
            "Scoring Timer is set to 60.0 seconds\n",
            "2021-01-14 02:21:26,565 | root | ERROR | Encountered Exception: Traceback (most recent call last):\n",
            "  File \"/var/azureml-server/app.py\", line 239, in run_scoring\n",
            "    response = invoke_user_with_timer(service_input, request_headers)\n",
            "  File \"/var/azureml-server/app.py\", line 309, in invoke_user_with_timer\n",
            "    result = user_main.run(**params)\n",
            "  File \"/var/azureml-app/main.py\", line 21, in run\n",
            "    return_obj = driver_module.run(**arguments)\n",
            "  File \"/azureml-envs/azureml_8eff28b157f42edcd2424a5aae6c8074/lib/python3.6/site-packages/wrapt/wrappers.py\", line 564, in __call__\n",
            "    args, kwargs)\n",
            "  File \"/azureml-envs/azureml_8eff28b157f42edcd2424a5aae6c8074/lib/python3.6/site-packages/inference_schema/schema_decorators.py\", line 57, in decorator_input\n",
            "    kwargs[param_name] = _deserialize_input_argument(kwargs[param_name], param_type, param_name)\n",
            "  File \"/azureml-envs/azureml_8eff28b157f42edcd2424a5aae6c8074/lib/python3.6/site-packages/inference_schema/schema_decorators.py\", line 285, in _deserialize_input_argument\n",
            "    input_data = param_type.deserialize_input(input_data)\n",
            "  File \"/azureml-envs/azureml_8eff28b157f42edcd2424a5aae6c8074/lib/python3.6/site-packages/inference_schema/parameter_types/pandas_parameter_type.py\", line 58, in deserialize_input\n",
            "    data_frame.columns = self.sample_input.columns\n",
            "  File \"/azureml-envs/azureml_8eff28b157f42edcd2424a5aae6c8074/lib/python3.6/site-packages/pandas/core/generic.py\", line 5192, in __setattr__\n",
            "    return object.__setattr__(self, name, value)\n",
            "  File \"pandas/_libs/properties.pyx\", line 67, in pandas._libs.properties.AxisProperty.__set__\n",
            "  File \"/azureml-envs/azureml_8eff28b157f42edcd2424a5aae6c8074/lib/python3.6/site-packages/pandas/core/generic.py\", line 690, in _set_axis\n",
            "    self._data.set_axis(axis, labels)\n",
            "  File \"/azureml-envs/azureml_8eff28b157f42edcd2424a5aae6c8074/lib/python3.6/site-packages/pandas/core/internals/managers.py\", line 183, in set_axis\n",
            "    \"values have {new} elements\".format(old=old_len, new=new_len)\n",
            "ValueError: Length mismatch: Expected axis has 0 elements, new values have 15 elements\n",
            "\n",
            "During handling of the above exception, another exception occurred:\n",
            "\n",
            "Traceback (most recent call last):\n",
            "  File \"/azureml-envs/azureml_8eff28b157f42edcd2424a5aae6c8074/lib/python3.6/site-packages/flask/app.py\", line 1832, in full_dispatch_request\n",
            "    rv = self.dispatch_request()\n",
            "  File \"/azureml-envs/azureml_8eff28b157f42edcd2424a5aae6c8074/lib/python3.6/site-packages/flask/app.py\", line 1818, in dispatch_request\n",
            "    return self.view_functions[rule.endpoint](**req.view_args)\n",
            "  File \"/var/azureml-server/app.py\", line 142, in score_realtime\n",
            "    return run_scoring(service_input, request.headers, request.environ.get('REQUEST_ID', '00000000-0000-0000-0000-000000000000'))\n",
            "  File \"/var/azureml-server/app.py\", line 252, in run_scoring\n",
            "    raise RunFunctionException(str(exc))\n",
            "run_function_exception.RunFunctionException\n",
            "\n",
            "Encountered Exception: Traceback (most recent call last):\n",
            "  File \"/var/azureml-server/app.py\", line 239, in run_scoring\n",
            "    response = invoke_user_with_timer(service_input, request_headers)\n",
            "  File \"/var/azureml-server/app.py\", line 309, in invoke_user_with_timer\n",
            "    result = user_main.run(**params)\n",
            "  File \"/var/azureml-app/main.py\", line 21, in run\n",
            "    return_obj = driver_module.run(**arguments)\n",
            "  File \"/azureml-envs/azureml_8eff28b157f42edcd2424a5aae6c8074/lib/python3.6/site-packages/wrapt/wrappers.py\", line 564, in __call__\n",
            "    args, kwargs)\n",
            "  File \"/azureml-envs/azureml_8eff28b157f42edcd2424a5aae6c8074/lib/python3.6/site-packages/inference_schema/schema_decorators.py\", line 57, in decorator_input\n",
            "    kwargs[param_name] = _deserialize_input_argument(kwargs[param_name], param_type, param_name)\n",
            "  File \"/azureml-envs/azureml_8eff28b157f42edcd2424a5aae6c8074/lib/python3.6/site-packages/inference_schema/schema_decorators.py\", line 285, in _deserialize_input_argument\n",
            "    input_data = param_type.deserialize_input(input_data)\n",
            "  File \"/azureml-envs/azureml_8eff28b157f42edcd2424a5aae6c8074/lib/python3.6/site-packages/inference_schema/parameter_types/pandas_parameter_type.py\", line 58, in deserialize_input\n",
            "    data_frame.columns = self.sample_input.columns\n",
            "  File \"/azureml-envs/azureml_8eff28b157f42edcd2424a5aae6c8074/lib/python3.6/site-packages/pandas/core/generic.py\", line 5192, in __setattr__\n",
            "    return object.__setattr__(self, name, value)\n",
            "  File \"pandas/_libs/properties.pyx\", line 67, in pandas._libs.properties.AxisProperty.__set__\n",
            "  File \"/azureml-envs/azureml_8eff28b157f42edcd2424a5aae6c8074/lib/python3.6/site-packages/pandas/core/generic.py\", line 690, in _set_axis\n",
            "    self._data.set_axis(axis, labels)\n",
            "  File \"/azureml-envs/azureml_8eff28b157f42edcd2424a5aae6c8074/lib/python3.6/site-packages/pandas/core/internals/managers.py\", line 183, in set_axis\n",
            "    \"values have {new} elements\".format(old=old_len, new=new_len)\n",
            "ValueError: Length mismatch: Expected axis has 0 elements, new values have 15 elements\n",
            "\n",
            "During handling of the above exception, another exception occurred:\n",
            "\n",
            "Traceback (most recent call last):\n",
            "  File \"/azureml-envs/azureml_8eff28b157f42edcd2424a5aae6c8074/lib/python3.6/site-packages/flask/app.py\", line 1832, in full_dispatch_request\n",
            "    rv = self.dispatch_request()\n",
            "  File \"/azureml-envs/azureml_8eff28b157f42edcd2424a5aae6c8074/lib/python3.6/site-packages/flask/app.py\", line 1818, in dispatch_request\n",
            "    return self.view_functions[rule.endpoint](**req.view_args)\n",
            "  File \"/var/azureml-server/app.py\", line 142, in score_realtime\n",
            "    return run_scoring(service_input, request.headers, request.environ.get('REQUEST_ID', '00000000-0000-0000-0000-000000000000'))\n",
            "  File \"/var/azureml-server/app.py\", line 252, in run_scoring\n",
            "    raise RunFunctionException(str(exc))\n",
            "run_function_exception.RunFunctionException\n",
            "\n",
            "2021-01-14 02:21:26,566 | root | INFO | 500\n",
            "500\n",
            "127.0.0.1 - - [14/Jan/2021:02:21:26 +0000] \"POST /score HTTP/1.0\" 500 74 \"-\" \"python-requests/2.25.0\"\n",
            "2021-01-14 02:22:10,056 | root | INFO | Validation Request Content-Type\n",
            "Validation Request Content-Type\n",
            "2021-01-14 02:22:10,059 | root | ERROR | Encountered Exception: Traceback (most recent call last):\n",
            "  File \"/azureml-envs/azureml_8eff28b157f42edcd2424a5aae6c8074/lib/python3.6/site-packages/flask/wrappers.py\", line 74, in get_json\n",
            "    rv = json.loads(data)\n",
            "  File \"/azureml-envs/azureml_8eff28b157f42edcd2424a5aae6c8074/lib/python3.6/site-packages/flask/json/__init__.py\", line 236, in loads\n",
            "    return _json.loads(s, **kwargs)\n",
            "  File \"/azureml-envs/azureml_8eff28b157f42edcd2424a5aae6c8074/lib/python3.6/json/__init__.py\", line 367, in loads\n",
            "    return cls(**kw).decode(s)\n",
            "  File \"/azureml-envs/azureml_8eff28b157f42edcd2424a5aae6c8074/lib/python3.6/json/decoder.py\", line 339, in decode\n",
            "    obj, end = self.raw_decode(s, idx=_w(s, 0).end())\n",
            "  File \"/azureml-envs/azureml_8eff28b157f42edcd2424a5aae6c8074/lib/python3.6/json/decoder.py\", line 357, in raw_decode\n",
            "    raise JSONDecodeError(\"Expecting value\", s, err.value) from None\n",
            "json.decoder.JSONDecodeError: Expecting value: line 1 column 1 (char 0)\n",
            "\n",
            "During handling of the above exception, another exception occurred:\n",
            "\n",
            "Traceback (most recent call last):\n",
            "  File \"/azureml-envs/azureml_8eff28b157f42edcd2424a5aae6c8074/lib/python3.6/site-packages/flask/app.py\", line 1832, in full_dispatch_request\n",
            "    rv = self.dispatch_request()\n",
            "  File \"/azureml-envs/azureml_8eff28b157f42edcd2424a5aae6c8074/lib/python3.6/site-packages/flask/app.py\", line 1818, in dispatch_request\n",
            "    return self.view_functions[rule.endpoint](**req.view_args)\n",
            "  File \"/var/azureml-server/app.py\", line 136, in score_realtime\n",
            "    service_input = request.get_json()\n",
            "  File \"/azureml-envs/azureml_8eff28b157f42edcd2424a5aae6c8074/lib/python3.6/site-packages/flask/wrappers.py\", line 82, in get_json\n",
            "    rv = self.on_json_loading_failed(e)\n",
            "  File \"/azureml-envs/azureml_8eff28b157f42edcd2424a5aae6c8074/lib/python3.6/site-packages/flask/wrappers.py\", line 108, in on_json_loading_failed\n",
            "    raise BadRequest()\n",
            "werkzeug.exceptions.BadRequest: 400 Bad Request: The browser (or proxy) sent a request that this server could not understand.\n",
            "\n",
            "Encountered Exception: Traceback (most recent call last):\n",
            "  File \"/azureml-envs/azureml_8eff28b157f42edcd2424a5aae6c8074/lib/python3.6/site-packages/flask/wrappers.py\", line 74, in get_json\n",
            "    rv = json.loads(data)\n",
            "  File \"/azureml-envs/azureml_8eff28b157f42edcd2424a5aae6c8074/lib/python3.6/site-packages/flask/json/__init__.py\", line 236, in loads\n",
            "    return _json.loads(s, **kwargs)\n",
            "  File \"/azureml-envs/azureml_8eff28b157f42edcd2424a5aae6c8074/lib/python3.6/json/__init__.py\", line 367, in loads\n",
            "    return cls(**kw).decode(s)\n",
            "  File \"/azureml-envs/azureml_8eff28b157f42edcd2424a5aae6c8074/lib/python3.6/json/decoder.py\", line 339, in decode\n",
            "    obj, end = self.raw_decode(s, idx=_w(s, 0).end())\n",
            "  File \"/azureml-envs/azureml_8eff28b157f42edcd2424a5aae6c8074/lib/python3.6/json/decoder.py\", line 357, in raw_decode\n",
            "    raise JSONDecodeError(\"Expecting value\", s, err.value) from None\n",
            "json.decoder.JSONDecodeError: Expecting value: line 1 column 1 (char 0)\n",
            "\n",
            "During handling of the above exception, another exception occurred:\n",
            "\n",
            "Traceback (most recent call last):\n",
            "  File \"/azureml-envs/azureml_8eff28b157f42edcd2424a5aae6c8074/lib/python3.6/site-packages/flask/app.py\", line 1832, in full_dispatch_request\n",
            "    rv = self.dispatch_request()\n",
            "  File \"/azureml-envs/azureml_8eff28b157f42edcd2424a5aae6c8074/lib/python3.6/site-packages/flask/app.py\", line 1818, in dispatch_request\n",
            "    return self.view_functions[rule.endpoint](**req.view_args)\n",
            "  File \"/var/azureml-server/app.py\", line 136, in score_realtime\n",
            "    service_input = request.get_json()\n",
            "  File \"/azureml-envs/azureml_8eff28b157f42edcd2424a5aae6c8074/lib/python3.6/site-packages/flask/wrappers.py\", line 82, in get_json\n",
            "    rv = self.on_json_loading_failed(e)\n",
            "  File \"/azureml-envs/azureml_8eff28b157f42edcd2424a5aae6c8074/lib/python3.6/site-packages/flask/wrappers.py\", line 108, in on_json_loading_failed\n",
            "    raise BadRequest()\n",
            "werkzeug.exceptions.BadRequest: 400 Bad Request: The browser (or proxy) sent a request that this server could not understand.\n",
            "\n",
            "2021-01-14 02:22:10,060 | root | INFO | 500\n",
            "500\n",
            "127.0.0.1 - - [14/Jan/2021:02:22:10 +0000] \"POST /score HTTP/1.0\" 500 2053 \"-\" \"python-requests/2.25.0\"\n",
            "127.0.0.1 - - [14/Jan/2021:02:22:15 +0000] \"GET /actuator/health HTTP/1.0\" 404 232 \"-\" \"Mozilla/5.0 zgrab/0.x\"\n",
            "Exception in worker process\n",
            "Traceback (most recent call last):\n",
            "  File \"/azureml-envs/azureml_8eff28b157f42edcd2424a5aae6c8074/lib/python3.6/site-packages/gunicorn/arbiter.py\", line 583, in spawn_worker\n",
            "    worker.init_process()\n",
            "  File \"/azureml-envs/azureml_8eff28b157f42edcd2424a5aae6c8074/lib/python3.6/site-packages/gunicorn/workers/base.py\", line 134, in init_process\n",
            "    self.run()\n",
            "  File \"/azureml-envs/azureml_8eff28b157f42edcd2424a5aae6c8074/lib/python3.6/site-packages/gunicorn/workers/sync.py\", line 124, in run\n",
            "    self.run_for_one(timeout)\n",
            "  File \"/azureml-envs/azureml_8eff28b157f42edcd2424a5aae6c8074/lib/python3.6/site-packages/gunicorn/workers/sync.py\", line 83, in run_for_one\n",
            "    self.wait(timeout)\n",
            "  File \"/azureml-envs/azureml_8eff28b157f42edcd2424a5aae6c8074/lib/python3.6/site-packages/gunicorn/workers/sync.py\", line 35, in wait\n",
            "    ret = select.select(self.wait_fds, [], [], timeout)\n",
            "  File \"/var/azureml-server/app.py\", line 279, in alarm_handler\n",
            "    raise TimeoutException(error_message)\n",
            "timeout_exception.TimeoutException\n",
            "Worker exiting (pid: 586)\n",
            "worker timeout is set to 300\n",
            "Booting worker with pid: 701\n",
            "SPARK_HOME not set. Skipping PySpark Initialization.\n",
            "Initializing logger\n",
            "2021-01-14 02:22:29,268 | root | INFO | Starting up app insights client\n",
            "Starting up app insights client\n",
            "2021-01-14 02:22:29,272 | root | INFO | Starting up request id generator\n",
            "Starting up request id generator\n",
            "2021-01-14 02:22:29,273 | root | INFO | Starting up app insight hooks\n",
            "Starting up app insight hooks\n",
            "2021-01-14 02:22:29,273 | root | INFO | Invoking user's init function\n",
            "Invoking user's init function\n",
            "\n"
          ]
        }
      ],
      "execution_count": 99,
      "metadata": {
        "collapsed": true,
        "jupyter": {
          "source_hidden": false,
          "outputs_hidden": false
        },
        "nteract": {
          "transient": {
            "deleting": false
          }
        },
        "gather": {
          "logged": 1610590952085
        }
      }
    },
    {
      "cell_type": "code",
      "source": [
        "service.delete()"
      ],
      "outputs": [],
      "execution_count": null,
      "metadata": {
        "collapsed": true,
        "jupyter": {
          "source_hidden": false,
          "outputs_hidden": false
        },
        "nteract": {
          "transient": {
            "deleting": false
          }
        }
      }
    }
  ],
  "metadata": {
    "kernelspec": {
      "name": "python3-azureml",
      "language": "python",
      "display_name": "Python 3.6 - AzureML"
    },
    "language_info": {
      "name": "python",
      "version": "3.6.9",
      "mimetype": "text/x-python",
      "codemirror_mode": {
        "name": "ipython",
        "version": 3
      },
      "pygments_lexer": "ipython3",
      "nbconvert_exporter": "python",
      "file_extension": ".py"
    },
    "kernel_info": {
      "name": "python3-azureml"
    },
    "nteract": {
      "version": "nteract-front-end@1.0.0"
    }
  },
  "nbformat": 4,
  "nbformat_minor": 2
}
