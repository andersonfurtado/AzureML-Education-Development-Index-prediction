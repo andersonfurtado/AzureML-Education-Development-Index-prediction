{
  "cells": [
    {
      "cell_type": "markdown",
      "source": [
        "# Automated Machine Learning"
      ],
      "metadata": {
        "nteract": {
          "transient": {
            "deleting": false
          }
        }
      }
    },
    {
      "cell_type": "code",
      "source": [
        "\r\n",
        "from matplotlib import pyplot as plt\r\n",
        "import numpy as np\r\n",
        "import pandas as pd\r\n",
        " \r\n",
        "\r\n",
        "import azureml.core\r\n",
        "from azureml.core.experiment import Experiment\r\n",
        "from azureml.core.workspace import Workspace\r\n",
        "from azureml.core.dataset import Dataset\r\n",
        "from azureml.train.automl import AutoMLConfig\r\n",
        "from azureml.data.dataset_factory import TabularDatasetFactory\r\n",
        "\r\n",
        "# Check core SDK version number\r\n",
        "print(\"SDK version:\", azureml.core.VERSION)"
      ],
      "outputs": [
        {
          "output_type": "stream",
          "name": "stdout",
          "text": [
            "SDK version: 1.19.0\n"
          ]
        }
      ],
      "execution_count": 8,
      "metadata": {
        "gather": {
          "logged": 1610845366296
        }
      }
    },
    {
      "cell_type": "code",
      "source": [
        "ws = Workspace.from_config()\r\n",
        "print(ws.name, ws.resource_group, ws.location, ws.subscription_id, sep = '\\n')"
      ],
      "outputs": [
        {
          "output_type": "stream",
          "name": "stdout",
          "text": [
            "AZML\n",
            "RG-AZML\n",
            "eastus\n",
            "a748a023-896b-4719-8f8e-3d1ba62d6e35\n"
          ]
        }
      ],
      "execution_count": 9,
      "metadata": {
        "collapsed": true,
        "jupyter": {
          "source_hidden": false,
          "outputs_hidden": false
        },
        "nteract": {
          "transient": {
            "deleting": false
          }
        },
        "gather": {
          "logged": 1610845368055
        }
      }
    },
    {
      "cell_type": "code",
      "source": [
        "# Choose a name for the experiment.\r\n",
        "experiment_name = 'ideb-regression'\r\n",
        "\r\n",
        "experiment = Experiment(ws, experiment_name)\r\n",
        "\r\n",
        "output = {}\r\n",
        "output['Subscription ID'] = ws.subscription_id\r\n",
        "output['Workspace'] = ws.name\r\n",
        "output['Resource Group'] = ws.resource_group\r\n",
        "output['Location'] = ws.location\r\n",
        "output['Run History Name'] = experiment_name\r\n",
        "pd.set_option('display.max_colwidth', -1)\r\n",
        "outputDf = pd.DataFrame(data = output, index = [''])\r\n",
        "outputDf.T"
      ],
      "outputs": [
        {
          "output_type": "execute_result",
          "execution_count": 10,
          "data": {
            "text/plain": "                                                      \nSubscription ID   a748a023-896b-4719-8f8e-3d1ba62d6e35\nWorkspace         AZML                                \nResource Group    RG-AZML                             \nLocation          eastus                              \nRun History Name  ideb-regression                     ",
            "text/html": "<div>\n<style scoped>\n    .dataframe tbody tr th:only-of-type {\n        vertical-align: middle;\n    }\n\n    .dataframe tbody tr th {\n        vertical-align: top;\n    }\n\n    .dataframe thead th {\n        text-align: right;\n    }\n</style>\n<table border=\"1\" class=\"dataframe\">\n  <thead>\n    <tr style=\"text-align: right;\">\n      <th></th>\n      <th></th>\n    </tr>\n  </thead>\n  <tbody>\n    <tr>\n      <th>Subscription ID</th>\n      <td>a748a023-896b-4719-8f8e-3d1ba62d6e35</td>\n    </tr>\n    <tr>\n      <th>Workspace</th>\n      <td>AZML</td>\n    </tr>\n    <tr>\n      <th>Resource Group</th>\n      <td>RG-AZML</td>\n    </tr>\n    <tr>\n      <th>Location</th>\n      <td>eastus</td>\n    </tr>\n    <tr>\n      <th>Run History Name</th>\n      <td>ideb-regression</td>\n    </tr>\n  </tbody>\n</table>\n</div>"
          },
          "metadata": {}
        }
      ],
      "execution_count": 10,
      "metadata": {
        "collapsed": true,
        "jupyter": {
          "source_hidden": false,
          "outputs_hidden": false
        },
        "nteract": {
          "transient": {
            "deleting": false
          }
        },
        "gather": {
          "logged": 1610845372057
        }
      }
    },
    {
      "cell_type": "markdown",
      "source": [
        "## Using AmlCompute"
      ],
      "metadata": {
        "nteract": {
          "transient": {
            "deleting": false
          }
        }
      }
    },
    {
      "cell_type": "code",
      "source": [
        "from azureml.core.compute import ComputeTarget, AmlCompute\r\n",
        "from azureml.core.compute_target import ComputeTargetException\r\n",
        "\r\n",
        "# Choose a name for your CPU cluster\r\n",
        "cpu_cluster_name = \"automl-cluster\"\r\n",
        "\r\n",
        "# Verify that cluster does not exist already\r\n",
        "try:\r\n",
        "    compute_target = ComputeTarget(workspace=ws, name=cpu_cluster_name)\r\n",
        "    print('Found existing cluster, use it.')\r\n",
        "except ComputeTargetException:\r\n",
        "    compute_config = AmlCompute.provisioning_configuration(vm_size='STANDARD_D2_V2',\r\n",
        "                                                           max_nodes=4)\r\n",
        "    compute_target = ComputeTarget.create(ws, cpu_cluster_name, compute_config)\r\n",
        "\r\n",
        "compute_target.wait_for_completion(show_output=True)"
      ],
      "outputs": [
        {
          "output_type": "stream",
          "name": "stdout",
          "text": [
            "Found existing cluster, use it.\n",
            "Succeeded\n",
            "AmlCompute wait for completion finished\n",
            "\n",
            "Minimum number of nodes requested have been provisioned\n"
          ]
        }
      ],
      "execution_count": 11,
      "metadata": {
        "collapsed": true,
        "jupyter": {
          "source_hidden": false,
          "outputs_hidden": false
        },
        "nteract": {
          "transient": {
            "deleting": false
          }
        },
        "gather": {
          "logged": 1610845375906
        }
      }
    },
    {
      "cell_type": "markdown",
      "source": [
        "## Data"
      ],
      "metadata": {
        "nteract": {
          "transient": {
            "deleting": false
          }
        }
      }
    },
    {
      "cell_type": "markdown",
      "source": [
        "### Load Data"
      ],
      "metadata": {
        "nteract": {
          "transient": {
            "deleting": false
          }
        }
      }
    },
    {
      "cell_type": "code",
      "source": [
        "datastore = ws.get_default_datastore()\r\n",
        "path = \"data/Train.csv\"\r\n",
        "try:\r\n",
        "    ideb_dataset = Dataset.get_by_name(ws, name=\"dataset2019ideb\")\r\n",
        "except:\r\n",
        "    datastore.upload('data', target_path='data')\r\n",
        "    # Create TabularDataset & register in workspace\r\n",
        "    ideb_dataset = Dataset.Tabular.from_delimited_files([(datastore, path)])\r\n",
        "    ideb_dataset = ideb_dataset.register(\r\n",
        "        ws, name=\"ideb_dataset\", create_new_version=True,\r\n",
        "        description=\"Dataset for ideb prediction\"\r\n",
        "    )"
      ],
      "outputs": [],
      "execution_count": 12,
      "metadata": {
        "collapsed": true,
        "jupyter": {
          "source_hidden": false,
          "outputs_hidden": false
        },
        "nteract": {
          "transient": {
            "deleting": false
          }
        },
        "gather": {
          "logged": 1610845378454
        }
      }
    },
    {
      "cell_type": "markdown",
      "source": [
        "## Automl Settings"
      ],
      "metadata": {
        "nteract": {
          "transient": {
            "deleting": false
          }
        }
      }
    },
    {
      "cell_type": "code",
      "source": [
        "automl_settings = {\r\n",
        "    \"n_cross_validations\": 3,\r\n",
        "    \"primary_metric\": 'r2_score',\r\n",
        "    \"enable_early_stopping\": True, \r\n",
        "    \"experiment_timeout_hours\": 0.5, \r\n",
        "    \"max_concurrent_iterations\": 4,\r\n",
        "    \"max_cores_per_iteration\": -1,\r\n",
        "     \"featurization\": 'auto',\r\n",
        "    \"verbosity\": logging.INFO,\r\n",
        "}\r\n",
        "\r\n",
        "automl_config = AutoMLConfig(task = 'regression',\r\n",
        "                             compute_target = compute_target,\r\n",
        "                             training_data = ideb_dataset,\r\n",
        "                             label_column_name = \"IDEB_2019\",\r\n",
        "                             **automl_settings\r\n",
        "                            )\r\n",
        "\r\n"
      ],
      "outputs": [],
      "execution_count": 13,
      "metadata": {
        "collapsed": true,
        "jupyter": {
          "source_hidden": false,
          "outputs_hidden": false
        },
        "nteract": {
          "transient": {
            "deleting": false
          }
        },
        "gather": {
          "logged": 1610845380077
        }
      }
    },
    {
      "cell_type": "code",
      "source": [
        "remote_run = experiment.submit(automl_config, show_output = True)"
      ],
      "outputs": [
        {
          "output_type": "stream",
          "name": "stdout",
          "text": [
            "Running on remote.\n",
            "No run_configuration provided, running on automl-cluster with default configuration\n",
            "Running on remote compute: automl-cluster\n",
            "Parent Run ID: AutoML_f7485239-1377-41f3-8bf5-b49e0f342909\n",
            "\n",
            "Current status: FeaturesGeneration. Generating features for the dataset.\n",
            "Current status: DatasetFeaturization. Beginning to fit featurizers and featurize the dataset.\n",
            "Current status: DatasetCrossValidationSplit. Generating individually featurized CV splits.\n",
            "Current status: ModelSelection. Beginning model selection.\n",
            "\n",
            "****************************************************************************************************\n",
            "DATA GUARDRAILS: \n",
            "\n",
            "TYPE:         Missing feature values imputation\n",
            "STATUS:       PASSED\n",
            "DESCRIPTION:  No feature missing values were detected in the training data.\n",
            "              Learn more about missing value imputation: https://aka.ms/AutomatedMLFeaturization\n",
            "\n",
            "****************************************************************************************************\n",
            "\n",
            "TYPE:         High cardinality feature detection\n",
            "STATUS:       DONE\n",
            "DESCRIPTION:  High cardinality features were detected in your inputs and handled.\n",
            "              Learn more about high cardinality feature handling: https://aka.ms/AutomatedMLFeaturization\n",
            "DETAILS:      High cardinality features refer to columns that contain a large percentage of unique values.\n",
            "+---------------------------------+---------------------------------+\n",
            "|Column name                      |Column Content Type              |\n",
            "+=================================+=================================+\n",
            "|Nome_Municipio                   |categorical_hash                 |\n",
            "|Nome_Escola                      |text                             |\n",
            "|TAprov2019_2_serie               |categorical_hash                 |\n",
            "+---------------------------------+---------------------------------+\n",
            "\n",
            "****************************************************************************************************\n",
            "\n",
            "****************************************************************************************************\n",
            "ITERATION: The iteration being evaluated.\n",
            "PIPELINE: A summary description of the pipeline being evaluated.\n",
            "DURATION: Time taken for the current iteration.\n",
            "METRIC: The result of computing score on the fitted pipeline.\n",
            "BEST: The best observed score thus far.\n",
            "****************************************************************************************************\n",
            "\n",
            " ITERATION   PIPELINE                                       DURATION      METRIC      BEST\n",
            "         1   MaxAbsScaler XGBoostRegressor                  0:01:16       0.9967    0.9967\n",
            "         3   MaxAbsScaler RandomForest                      0:05:18       0.9855    0.9967\n",
            "         0   MaxAbsScaler LightGBM                          0:05:40       0.9964    0.9967\n",
            "         2   SparseNormalizer XGBoostRegressor              0:07:06       0.9583    0.9967\n",
            "         4   StandardScalerWrapper XGBoostRegressor         0:07:24       0.9970    0.9970\n",
            "         7   StandardScalerWrapper XGBoostRegressor         0:02:02       0.9969    0.9970\n",
            "         8   MaxAbsScaler ExtremeRandomTrees                0:03:46       0.9930    0.9970\n",
            "         5   MaxAbsScaler ElasticNet                        0:05:54       0.9935    0.9970\n",
            "         6   MaxAbsScaler RandomForest                      0:07:05       0.9741    0.9970\n",
            "        11   MaxAbsScaler RandomForest                      0:00:59       0.4790    0.9970\n",
            "        12   StandardScalerWrapper XGBoostRegressor         0:01:03       0.8738    0.9970\n",
            "        10   MaxAbsScaler RandomForest                      0:01:35       0.5440    0.9970\n",
            "        13   MaxAbsScaler ExtremeRandomTrees                0:01:23       0.9930    0.9970\n",
            "        14   MaxAbsScaler ExtremeRandomTrees                0:01:02       0.9016    0.9970\n",
            "        17   MaxAbsScaler RandomForest                      0:00:50       0.8934    0.9970\n",
            "         9   StandardScalerWrapper ElasticNet               0:05:08       0.9894    0.9970\n",
            "        15   MaxAbsScaler ExtremeRandomTrees                0:03:21       0.9919    0.9970\n",
            "        18   MaxAbsScaler RandomForest                      0:01:06       0.9613    0.9970\n",
            "        16   MaxAbsScaler ElasticNet                        0:02:31       0.9922    0.9970\n",
            "        22   MaxAbsScaler LightGBM                          0:00:55       0.9924    0.9970\n",
            "        20   StandardScalerWrapper RandomForest             0:01:49       0.9491    0.9970\n",
            "        23   StandardScalerWrapper LightGBM                 0:00:54       0.9862    0.9970\n",
            "        19   SparseNormalizer XGBoostRegressor              0:04:03       0.9702    0.9970\n",
            "        24   StandardScalerWrapper XGBoostRegressor         0:01:13       0.9962    0.9970\n",
            "        21   MaxAbsScaler ElasticNet                        0:03:29       0.9927    0.9970\n",
            "        26   MaxAbsScaler LightGBM                          0:01:03       0.9833    0.9970\n",
            "        27   StandardScalerWrapper LightGBM                 0:00:54       0.9887    0.9970\n",
            "        28   MaxAbsScaler LightGBM                          0:00:48       0.9791    0.9970\n",
            "        29   StandardScalerWrapper XGBoostRegressor         0:01:12          nan    0.9970\n",
            "        30   TruncatedSVDWrapper XGBoostRegressor           0:01:36       0.9700    0.9970\n",
            "        25   StandardScalerWrapper XGBoostRegressor         0:04:40       0.9971    0.9971\n",
            "        32   MaxAbsScaler RandomForest                      0:01:37       0.9575    0.9971\n",
            "        33   MaxAbsScaler SGD                               0:00:53       0.9730    0.9971\n",
            "        34   SparseNormalizer XGBoostRegressor              0:01:09       0.8420    0.9971\n",
            "        35                                                  0:01:28          nan    0.9971\n",
            "        36                                                  0:01:23          nan    0.9971\n",
            "        31   MaxAbsScaler RandomForest                      0:04:01          nan    0.9971\n",
            "        37    VotingEnsemble                                0:01:49       0.9977    0.9977\n",
            "        38    StackEnsemble                                 0:01:55       0.9977    0.9977\n"
          ]
        }
      ],
      "execution_count": 14,
      "metadata": {
        "collapsed": true,
        "jupyter": {
          "source_hidden": false,
          "outputs_hidden": false
        },
        "nteract": {
          "transient": {
            "deleting": false
          }
        },
        "gather": {
          "logged": 1610847980297
        }
      }
    },
    {
      "cell_type": "markdown",
      "source": [
        "## Result"
      ],
      "metadata": {
        "nteract": {
          "transient": {
            "deleting": false
          }
        }
      }
    },
    {
      "cell_type": "code",
      "source": [
        "from azureml.widgets import RunDetails\r\n",
        "RunDetails(remote_run).show()"
      ],
      "outputs": [
        {
          "output_type": "display_data",
          "data": {
            "text/plain": "_AutoMLWidget(widget_settings={'childWidgetDisplay': 'popup', 'send_telemetry': False, 'log_level': 'INFO', 's…",
            "application/vnd.jupyter.widget-view+json": {
              "version_major": 2,
              "version_minor": 0,
              "model_id": "f064948ba28744f7a9ed1807998aae97"
            }
          },
          "metadata": {}
        },
        {
          "output_type": "display_data",
          "data": {
            "application/aml.mini.widget.v1": "{\"status\": \"Completed\", \"workbench_run_details_uri\": \"https://ml.azure.com/experiments/ideb-regression/runs/AutoML_f7485239-1377-41f3-8bf5-b49e0f342909?wsid=/subscriptions/a748a023-896b-4719-8f8e-3d1ba62d6e35/resourcegroups/RG-AZML/workspaces/AZML\", \"run_id\": \"AutoML_f7485239-1377-41f3-8bf5-b49e0f342909\", \"run_properties\": {\"run_id\": \"AutoML_f7485239-1377-41f3-8bf5-b49e0f342909\", \"created_utc\": \"2021-01-17T01:03:10.674252Z\", \"properties\": {\"num_iterations\": \"1000\", \"training_type\": \"TrainFull\", \"acquisition_function\": \"EI\", \"primary_metric\": \"r2_score\", \"train_split\": \"0\", \"acquisition_parameter\": \"0\", \"num_cross_validation\": \"3\", \"target\": \"automl-cluster\", \"AMLSettingsJsonString\": \"{\\\"path\\\":null,\\\"name\\\":\\\"ideb-regression\\\",\\\"subscription_id\\\":\\\"a748a023-896b-4719-8f8e-3d1ba62d6e35\\\",\\\"resource_group\\\":\\\"RG-AZML\\\",\\\"workspace_name\\\":\\\"AZML\\\",\\\"region\\\":\\\"eastus\\\",\\\"compute_target\\\":\\\"automl-cluster\\\",\\\"spark_service\\\":null,\\\"azure_service\\\":\\\"remote\\\",\\\"many_models\\\":false,\\\"pipeline_fetch_max_batch_size\\\":1,\\\"iterations\\\":1000,\\\"primary_metric\\\":\\\"r2_score\\\",\\\"task_type\\\":\\\"regression\\\",\\\"data_script\\\":null,\\\"validation_size\\\":0.0,\\\"n_cross_validations\\\":3,\\\"y_min\\\":null,\\\"y_max\\\":null,\\\"num_classes\\\":null,\\\"featurization\\\":\\\"auto\\\",\\\"_ignore_package_version_incompatibilities\\\":false,\\\"is_timeseries\\\":false,\\\"max_cores_per_iteration\\\":-1,\\\"max_concurrent_iterations\\\":4,\\\"iteration_timeout_minutes\\\":null,\\\"mem_in_mb\\\":null,\\\"enforce_time_on_windows\\\":false,\\\"experiment_timeout_minutes\\\":30,\\\"experiment_exit_score\\\":null,\\\"whitelist_models\\\":null,\\\"blacklist_algos\\\":[\\\"TensorFlowDNN\\\",\\\"TensorFlowLinearRegressor\\\"],\\\"supported_models\\\":[\\\"TensorFlowDNN\\\",\\\"KNN\\\",\\\"DecisionTree\\\",\\\"TensorFlowLinearRegressor\\\",\\\"XGBoostRegressor\\\",\\\"LightGBM\\\",\\\"FastLinearRegressor\\\",\\\"RandomForest\\\",\\\"OnlineGradientDescentRegressor\\\",\\\"GradientBoosting\\\",\\\"ElasticNet\\\",\\\"ExtremeRandomTrees\\\",\\\"LassoLars\\\",\\\"SGD\\\"],\\\"auto_blacklist\\\":true,\\\"blacklist_samples_reached\\\":false,\\\"exclude_nan_labels\\\":true,\\\"verbosity\\\":20,\\\"_debug_log\\\":\\\"azureml_automl.log\\\",\\\"show_warnings\\\":false,\\\"model_explainability\\\":true,\\\"service_url\\\":null,\\\"sdk_url\\\":null,\\\"sdk_packages\\\":null,\\\"enable_onnx_compatible_models\\\":false,\\\"enable_split_onnx_featurizer_estimator_models\\\":false,\\\"vm_type\\\":\\\"STANDARD_D2_V2\\\",\\\"telemetry_verbosity\\\":20,\\\"send_telemetry\\\":true,\\\"enable_dnn\\\":false,\\\"scenario\\\":\\\"SDK-1.13.0\\\",\\\"environment_label\\\":null,\\\"force_text_dnn\\\":false,\\\"enable_feature_sweeping\\\":true,\\\"enable_early_stopping\\\":true,\\\"early_stopping_n_iters\\\":10,\\\"metrics\\\":null,\\\"enable_ensembling\\\":true,\\\"enable_stack_ensembling\\\":true,\\\"ensemble_iterations\\\":15,\\\"enable_tf\\\":false,\\\"enable_subsampling\\\":null,\\\"subsample_seed\\\":null,\\\"enable_nimbusml\\\":false,\\\"enable_streaming\\\":false,\\\"force_streaming\\\":false,\\\"track_child_runs\\\":true,\\\"allowed_private_models\\\":[],\\\"label_column_name\\\":\\\"IDEB_2019\\\",\\\"weight_column_name\\\":null,\\\"cv_split_column_names\\\":null,\\\"enable_local_managed\\\":false,\\\"_local_managed_run_id\\\":null,\\\"cost_mode\\\":1,\\\"lag_length\\\":0,\\\"metric_operation\\\":\\\"maximize\\\",\\\"preprocess\\\":true}\", \"DataPrepJsonString\": \"{\\\\\\\"training_data\\\\\\\": \\\\\\\"{\\\\\\\\\\\\\\\"blocks\\\\\\\\\\\\\\\": [{\\\\\\\\\\\\\\\"id\\\\\\\\\\\\\\\": \\\\\\\\\\\\\\\"cabce019-5407-4eab-b738-73557caf2ed5\\\\\\\\\\\\\\\", \\\\\\\\\\\\\\\"type\\\\\\\\\\\\\\\": \\\\\\\\\\\\\\\"Microsoft.DPrep.GetDatastoreFilesBlock\\\\\\\\\\\\\\\", \\\\\\\\\\\\\\\"arguments\\\\\\\\\\\\\\\": {\\\\\\\\\\\\\\\"datastores\\\\\\\\\\\\\\\": [{\\\\\\\\\\\\\\\"datastoreName\\\\\\\\\\\\\\\": \\\\\\\\\\\\\\\"workspaceblobstore\\\\\\\\\\\\\\\", \\\\\\\\\\\\\\\"path\\\\\\\\\\\\\\\": \\\\\\\\\\\\\\\"UI/01-13-2021_025150_UTC/DATASET_IDEB_ensino_medio_escolas_2019_clean.txt\\\\\\\\\\\\\\\", \\\\\\\\\\\\\\\"resourceGroup\\\\\\\\\\\\\\\": \\\\\\\\\\\\\\\"RG-AZML\\\\\\\\\\\\\\\", \\\\\\\\\\\\\\\"subscription\\\\\\\\\\\\\\\": \\\\\\\\\\\\\\\"a748a023-896b-4719-8f8e-3d1ba62d6e35\\\\\\\\\\\\\\\", \\\\\\\\\\\\\\\"workspaceName\\\\\\\\\\\\\\\": \\\\\\\\\\\\\\\"AZML\\\\\\\\\\\\\\\"}]}, \\\\\\\\\\\\\\\"localData\\\\\\\\\\\\\\\": {}, \\\\\\\\\\\\\\\"isEnabled\\\\\\\\\\\\\\\": true, \\\\\\\\\\\\\\\"name\\\\\\\\\\\\\\\": null, \\\\\\\\\\\\\\\"annotation\\\\\\\\\\\\\\\": null}, {\\\\\\\\\\\\\\\"id\\\\\\\\\\\\\\\": \\\\\\\\\\\\\\\"6e0b84a8-15de-4865-b1d7-ef8fde946c85\\\\\\\\\\\\\\\", \\\\\\\\\\\\\\\"type\\\\\\\\\\\\\\\": \\\\\\\\\\\\\\\"Microsoft.DPrep.ParseDelimitedBlock\\\\\\\\\\\\\\\", \\\\\\\\\\\\\\\"arguments\\\\\\\\\\\\\\\": {\\\\\\\\\\\\\\\"columnHeadersMode\\\\\\\\\\\\\\\": 1, \\\\\\\\\\\\\\\"fileEncoding\\\\\\\\\\\\\\\": 1, \\\\\\\\\\\\\\\"handleQuotedLineBreaks\\\\\\\\\\\\\\\": false, \\\\\\\\\\\\\\\"preview\\\\\\\\\\\\\\\": false, \\\\\\\\\\\\\\\"separator\\\\\\\\\\\\\\\": \\\\\\\\\\\\\\\"\\\\\\\\\\\\\\\\t\\\\\\\\\\\\\\\", \\\\\\\\\\\\\\\"skipRows\\\\\\\\\\\\\\\": 0, \\\\\\\\\\\\\\\"skipRowsMode\\\\\\\\\\\\\\\": 0}, \\\\\\\\\\\\\\\"localData\\\\\\\\\\\\\\\": {}, \\\\\\\\\\\\\\\"isEnabled\\\\\\\\\\\\\\\": true, \\\\\\\\\\\\\\\"name\\\\\\\\\\\\\\\": null, \\\\\\\\\\\\\\\"annotation\\\\\\\\\\\\\\\": null}, {\\\\\\\\\\\\\\\"id\\\\\\\\\\\\\\\": \\\\\\\\\\\\\\\"3d571fa6-7af4-4805-8e63-46a777dd0af4\\\\\\\\\\\\\\\", \\\\\\\\\\\\\\\"type\\\\\\\\\\\\\\\": \\\\\\\\\\\\\\\"Microsoft.DPrep.DropColumnsBlock\\\\\\\\\\\\\\\", \\\\\\\\\\\\\\\"arguments\\\\\\\\\\\\\\\": {\\\\\\\\\\\\\\\"columns\\\\\\\\\\\\\\\": {\\\\\\\\\\\\\\\"type\\\\\\\\\\\\\\\": 0, \\\\\\\\\\\\\\\"details\\\\\\\\\\\\\\\": {\\\\\\\\\\\\\\\"selectedColumns\\\\\\\\\\\\\\\": [\\\\\\\\\\\\\\\"Path\\\\\\\\\\\\\\\"]}}}, \\\\\\\\\\\\\\\"localData\\\\\\\\\\\\\\\": {}, \\\\\\\\\\\\\\\"isEnabled\\\\\\\\\\\\\\\": true, \\\\\\\\\\\\\\\"name\\\\\\\\\\\\\\\": null, \\\\\\\\\\\\\\\"annotation\\\\\\\\\\\\\\\": null}, {\\\\\\\\\\\\\\\"id\\\\\\\\\\\\\\\": \\\\\\\\\\\\\\\"85222e7b-9dde-4c8a-851c-fa8690890539\\\\\\\\\\\\\\\", \\\\\\\\\\\\\\\"type\\\\\\\\\\\\\\\": \\\\\\\\\\\\\\\"Microsoft.DPrep.SetColumnTypesBlock\\\\\\\\\\\\\\\", \\\\\\\\\\\\\\\"arguments\\\\\\\\\\\\\\\": {\\\\\\\\\\\\\\\"columnConversion\\\\\\\\\\\\\\\": [{\\\\\\\\\\\\\\\"column\\\\\\\\\\\\\\\": {\\\\\\\\\\\\\\\"type\\\\\\\\\\\\\\\": 2, \\\\\\\\\\\\\\\"details\\\\\\\\\\\\\\\": {\\\\\\\\\\\\\\\"selectedColumn\\\\\\\\\\\\\\\": \\\\\\\\\\\\\\\"Path\\\\\\\\\\\\\\\"}}, \\\\\\\\\\\\\\\"typeProperty\\\\\\\\\\\\\\\": 0}, {\\\\\\\\\\\\\\\"column\\\\\\\\\\\\\\\": {\\\\\\\\\\\\\\\"type\\\\\\\\\\\\\\\": 2, \\\\\\\\\\\\\\\"details\\\\\\\\\\\\\\\": {\\\\\\\\\\\\\\\"selectedColumn\\\\\\\\\\\\\\\": \\\\\\\\\\\\\\\"Sigla_UF\\\\\\\\\\\\\\\"}}, \\\\\\\\\\\\\\\"typeProperty\\\\\\\\\\\\\\\": 0}, {\\\\\\\\\\\\\\\"column\\\\\\\\\\\\\\\": {\\\\\\\\\\\\\\\"type\\\\\\\\\\\\\\\": 2, \\\\\\\\\\\\\\\"details\\\\\\\\\\\\\\\": {\\\\\\\\\\\\\\\"selectedColumn\\\\\\\\\\\\\\\": \\\\\\\\\\\\\\\"Cod_Municipio\\\\\\\\\\\\\\\"}}, \\\\\\\\\\\\\\\"typeProperty\\\\\\\\\\\\\\\": 2}, {\\\\\\\\\\\\\\\"column\\\\\\\\\\\\\\\": {\\\\\\\\\\\\\\\"type\\\\\\\\\\\\\\\": 2, \\\\\\\\\\\\\\\"details\\\\\\\\\\\\\\\": {\\\\\\\\\\\\\\\"selectedColumn\\\\\\\\\\\\\\\": \\\\\\\\\\\\\\\"Nome_Municipio\\\\\\\\\\\\\\\"}}, \\\\\\\\\\\\\\\"typeProperty\\\\\\\\\\\\\\\": 0}, {\\\\\\\\\\\\\\\"column\\\\\\\\\\\\\\\": {\\\\\\\\\\\\\\\"type\\\\\\\\\\\\\\\": 2, \\\\\\\\\\\\\\\"details\\\\\\\\\\\\\\\": {\\\\\\\\\\\\\\\"selectedColumn\\\\\\\\\\\\\\\": \\\\\\\\\\\\\\\"Cod_Escola\\\\\\\\\\\\\\\"}}, \\\\\\\\\\\\\\\"typeProperty\\\\\\\\\\\\\\\": 2}, {\\\\\\\\\\\\\\\"column\\\\\\\\\\\\\\\": {\\\\\\\\\\\\\\\"type\\\\\\\\\\\\\\\": 2, \\\\\\\\\\\\\\\"details\\\\\\\\\\\\\\\": {\\\\\\\\\\\\\\\"selectedColumn\\\\\\\\\\\\\\\": \\\\\\\\\\\\\\\"Nome_Escola\\\\\\\\\\\\\\\"}}, \\\\\\\\\\\\\\\"typeProperty\\\\\\\\\\\\\\\": 0}, {\\\\\\\\\\\\\\\"column\\\\\\\\\\\\\\\": {\\\\\\\\\\\\\\\"type\\\\\\\\\\\\\\\": 2, \\\\\\\\\\\\\\\"details\\\\\\\\\\\\\\\": {\\\\\\\\\\\\\\\"selectedColumn\\\\\\\\\\\\\\\": \\\\\\\\\\\\\\\"Rede\\\\\\\\\\\\\\\"}}, \\\\\\\\\\\\\\\"typeProperty\\\\\\\\\\\\\\\": 0}, {\\\\\\\\\\\\\\\"column\\\\\\\\\\\\\\\": {\\\\\\\\\\\\\\\"type\\\\\\\\\\\\\\\": 2, \\\\\\\\\\\\\\\"details\\\\\\\\\\\\\\\": {\\\\\\\\\\\\\\\"selectedColumn\\\\\\\\\\\\\\\": \\\\\\\\\\\\\\\"TAprov2019_Total\\\\\\\\\\\\\\\"}}, \\\\\\\\\\\\\\\"typeProperty\\\\\\\\\\\\\\\": 3}, {\\\\\\\\\\\\\\\"column\\\\\\\\\\\\\\\": {\\\\\\\\\\\\\\\"type\\\\\\\\\\\\\\\": 2, \\\\\\\\\\\\\\\"details\\\\\\\\\\\\\\\": {\\\\\\\\\\\\\\\"selectedColumn\\\\\\\\\\\\\\\": \\\\\\\\\\\\\\\"TAprov2019_1_serie\\\\\\\\\\\\\\\"}}, \\\\\\\\\\\\\\\"typeProperty\\\\\\\\\\\\\\\": 3}, {\\\\\\\\\\\\\\\"column\\\\\\\\\\\\\\\": {\\\\\\\\\\\\\\\"type\\\\\\\\\\\\\\\": 2, \\\\\\\\\\\\\\\"details\\\\\\\\\\\\\\\": {\\\\\\\\\\\\\\\"selectedColumn\\\\\\\\\\\\\\\": \\\\\\\\\\\\\\\"TAprov2019_2_serie\\\\\\\\\\\\\\\"}}, \\\\\\\\\\\\\\\"typeProperty\\\\\\\\\\\\\\\": 0}, {\\\\\\\\\\\\\\\"column\\\\\\\\\\\\\\\": {\\\\\\\\\\\\\\\"type\\\\\\\\\\\\\\\": 2, \\\\\\\\\\\\\\\"details\\\\\\\\\\\\\\\": {\\\\\\\\\\\\\\\"selectedColumn\\\\\\\\\\\\\\\": \\\\\\\\\\\\\\\"TAprov2019_3_serie\\\\\\\\\\\\\\\"}}, \\\\\\\\\\\\\\\"typeProperty\\\\\\\\\\\\\\\": 3}, {\\\\\\\\\\\\\\\"column\\\\\\\\\\\\\\\": {\\\\\\\\\\\\\\\"type\\\\\\\\\\\\\\\": 2, \\\\\\\\\\\\\\\"details\\\\\\\\\\\\\\\": {\\\\\\\\\\\\\\\"selectedColumn\\\\\\\\\\\\\\\": \\\\\\\\\\\\\\\"TAprov2019_4_serie\\\\\\\\\\\\\\\"}}, \\\\\\\\\\\\\\\"typeProperty\\\\\\\\\\\\\\\": 3}, {\\\\\\\\\\\\\\\"column\\\\\\\\\\\\\\\": {\\\\\\\\\\\\\\\"type\\\\\\\\\\\\\\\": 2, \\\\\\\\\\\\\\\"details\\\\\\\\\\\\\\\": {\\\\\\\\\\\\\\\"selectedColumn\\\\\\\\\\\\\\\": \\\\\\\\\\\\\\\"Indicador_Rendimento\\\\\\\\\\\\\\\"}}, \\\\\\\\\\\\\\\"typeProperty\\\\\\\\\\\\\\\": 3}, {\\\\\\\\\\\\\\\"column\\\\\\\\\\\\\\\": {\\\\\\\\\\\\\\\"type\\\\\\\\\\\\\\\": 2, \\\\\\\\\\\\\\\"details\\\\\\\\\\\\\\\": {\\\\\\\\\\\\\\\"selectedColumn\\\\\\\\\\\\\\\": \\\\\\\\\\\\\\\"SAEB2019_Matematica\\\\\\\\\\\\\\\"}}, \\\\\\\\\\\\\\\"typeProperty\\\\\\\\\\\\\\\": 3}, {\\\\\\\\\\\\\\\"column\\\\\\\\\\\\\\\": {\\\\\\\\\\\\\\\"type\\\\\\\\\\\\\\\": 2, \\\\\\\\\\\\\\\"details\\\\\\\\\\\\\\\": {\\\\\\\\\\\\\\\"selectedColumn\\\\\\\\\\\\\\\": \\\\\\\\\\\\\\\"SAEB2019_Lingua Portuguesa\\\\\\\\\\\\\\\"}}, \\\\\\\\\\\\\\\"typeProperty\\\\\\\\\\\\\\\": 3}, {\\\\\\\\\\\\\\\"column\\\\\\\\\\\\\\\": {\\\\\\\\\\\\\\\"type\\\\\\\\\\\\\\\": 2, \\\\\\\\\\\\\\\"details\\\\\\\\\\\\\\\": {\\\\\\\\\\\\\\\"selectedColumn\\\\\\\\\\\\\\\": \\\\\\\\\\\\\\\"SAEB2019_Nota Media Padronizada\\\\\\\\\\\\\\\"}}, \\\\\\\\\\\\\\\"typeProperty\\\\\\\\\\\\\\\": 3}, {\\\\\\\\\\\\\\\"column\\\\\\\\\\\\\\\": {\\\\\\\\\\\\\\\"type\\\\\\\\\\\\\\\": 2, \\\\\\\\\\\\\\\"details\\\\\\\\\\\\\\\": {\\\\\\\\\\\\\\\"selectedColumn\\\\\\\\\\\\\\\": \\\\\\\\\\\\\\\"IDEB_2019\\\\\\\\\\\\\\\"}}, \\\\\\\\\\\\\\\"typeProperty\\\\\\\\\\\\\\\": 3}]}, \\\\\\\\\\\\\\\"localData\\\\\\\\\\\\\\\": {}, \\\\\\\\\\\\\\\"isEnabled\\\\\\\\\\\\\\\": true, \\\\\\\\\\\\\\\"name\\\\\\\\\\\\\\\": null, \\\\\\\\\\\\\\\"annotation\\\\\\\\\\\\\\\": null}], \\\\\\\\\\\\\\\"inspectors\\\\\\\\\\\\\\\": [], \\\\\\\\\\\\\\\"meta\\\\\\\\\\\\\\\": {\\\\\\\\\\\\\\\"savedDatasetId\\\\\\\\\\\\\\\": \\\\\\\\\\\\\\\"0a953939-d1dc-454c-862b-866daa44cd28\\\\\\\\\\\\\\\", \\\\\\\\\\\\\\\"datasetType\\\\\\\\\\\\\\\": \\\\\\\\\\\\\\\"tabular\\\\\\\\\\\\\\\", \\\\\\\\\\\\\\\"subscriptionId\\\\\\\\\\\\\\\": \\\\\\\\\\\\\\\"a748a023-896b-4719-8f8e-3d1ba62d6e35\\\\\\\\\\\\\\\", \\\\\\\\\\\\\\\"workspaceId\\\\\\\\\\\\\\\": \\\\\\\\\\\\\\\"4cc8fc67-9b29-4fc9-affe-0aea29e08ecb\\\\\\\\\\\\\\\", \\\\\\\\\\\\\\\"workspaceLocation\\\\\\\\\\\\\\\": \\\\\\\\\\\\\\\"eastus\\\\\\\\\\\\\\\"}}\\\\\\\", \\\\\\\"activities\\\\\\\": 0}\", \"EnableSubsampling\": null, \"runTemplate\": \"AutoML\", \"azureml.runsource\": \"automl\", \"display_task_type\": \"regression\", \"dependencies_versions\": \"{\\\"azureml-widgets\\\": \\\"1.19.0\\\", \\\"azureml-train\\\": \\\"1.19.0\\\", \\\"azureml-train-restclients-hyperdrive\\\": \\\"1.19.0\\\", \\\"azureml-train-core\\\": \\\"1.19.0\\\", \\\"azureml-train-automl\\\": \\\"1.19.0\\\", \\\"azureml-train-automl-runtime\\\": \\\"1.19.0\\\", \\\"azureml-train-automl-client\\\": \\\"1.19.0\\\", \\\"azureml-tensorboard\\\": \\\"1.19.0\\\", \\\"azureml-telemetry\\\": \\\"1.19.0\\\", \\\"azureml-sdk\\\": \\\"1.19.0\\\", \\\"azureml-samples\\\": \\\"0+unknown\\\", \\\"azureml-pipeline\\\": \\\"1.19.0\\\", \\\"azureml-pipeline-steps\\\": \\\"1.19.0\\\", \\\"azureml-pipeline-core\\\": \\\"1.19.0\\\", \\\"azureml-opendatasets\\\": \\\"1.19.0\\\", \\\"azureml-model-management-sdk\\\": \\\"1.0.1b6.post1\\\", \\\"azureml-mlflow\\\": \\\"1.19.0\\\", \\\"azureml-interpret\\\": \\\"1.19.0\\\", \\\"azureml-explain-model\\\": \\\"1.19.0\\\", \\\"azureml-defaults\\\": \\\"1.19.0\\\", \\\"azureml-dataset-runtime\\\": \\\"1.19.0\\\", \\\"azureml-dataprep\\\": \\\"2.6.1\\\", \\\"azureml-dataprep-rslex\\\": \\\"1.4.0\\\", \\\"azureml-dataprep-native\\\": \\\"26.0.0\\\", \\\"azureml-datadrift\\\": \\\"1.19.0\\\", \\\"azureml-core\\\": \\\"1.19.0\\\", \\\"azureml-contrib-services\\\": \\\"1.19.0\\\", \\\"azureml-contrib-server\\\": \\\"1.19.0\\\", \\\"azureml-contrib-reinforcementlearning\\\": \\\"1.19.0\\\", \\\"azureml-contrib-pipeline-steps\\\": \\\"1.19.0\\\", \\\"azureml-contrib-notebook\\\": \\\"1.19.0\\\", \\\"azureml-contrib-interpret\\\": \\\"1.19.0\\\", \\\"azureml-contrib-gbdt\\\": \\\"1.19.0\\\", \\\"azureml-contrib-fairness\\\": \\\"1.19.0\\\", \\\"azureml-contrib-dataset\\\": \\\"1.19.0\\\", \\\"azureml-cli-common\\\": \\\"1.19.0\\\", \\\"azureml-automl-runtime\\\": \\\"1.19.0\\\", \\\"azureml-automl-core\\\": \\\"1.19.0\\\", \\\"azureml-accel-models\\\": \\\"1.19.0\\\"}\", \"_aml_system_scenario_identification\": \"Remote.Parent\", \"ClientType\": \"SDK\", \"environment_cpu_name\": \"AzureML-AutoML\", \"environment_cpu_label\": \"prod\", \"environment_gpu_name\": \"AzureML-AutoML-GPU\", \"environment_gpu_label\": \"prod\", \"root_attribution\": \"automl\", \"attribution\": \"AutoML\", \"Orchestrator\": \"AutoML\", \"CancelUri\": \"https://eastus.experiments.azureml.net/jasmine/v1.0/subscriptions/a748a023-896b-4719-8f8e-3d1ba62d6e35/resourceGroups/RG-AZML/providers/Microsoft.MachineLearningServices/workspaces/AZML/experimentids/27f5302f-e46e-4e3b-a3d0-307ddf09cfaa/cancel/AutoML_f7485239-1377-41f3-8bf5-b49e0f342909\", \"ClientSdkVersion\": \"1.20.0\", \"snapshotId\": \"00000000-0000-0000-0000-000000000000\", \"SetupRunId\": \"AutoML_f7485239-1377-41f3-8bf5-b49e0f342909_setup\", \"SetupRunContainerId\": \"dcid.AutoML_f7485239-1377-41f3-8bf5-b49e0f342909_setup\", \"FeaturizationRunJsonPath\": \"featurizer_container.json\", \"FeaturizationRunId\": \"AutoML_f7485239-1377-41f3-8bf5-b49e0f342909_featurize\", \"ProblemInfoJsonString\": \"{\\\"dataset_num_categorical\\\": 0, \\\"is_sparse\\\": true, \\\"subsampling\\\": false, \\\"dataset_classes\\\": 62, \\\"dataset_features\\\": 39552, \\\"dataset_samples\\\": 12079, \\\"single_frequency_class_detected\\\": false}\", \"ModelExplainRunId\": \"AutoML_f7485239-1377-41f3-8bf5-b49e0f342909_ModelExplain\"}, \"tags\": {\"model_explain_run\": \"best_run\", \"_aml_system_azureml.automlComponent\": \"AutoML\", \"pipeline_id\": \"\", \"score\": \"\", \"predicted_cost\": \"\", \"fit_time\": \"\", \"training_percent\": \"\", \"iteration\": \"\", \"run_preprocessor\": \"\", \"run_algorithm\": \"\", \"dynamic_whitelisting_iterations\": \"<25>;<30>;<35>;\", \"automl_best_child_run_id\": \"AutoML_f7485239-1377-41f3-8bf5-b49e0f342909_38\"}, \"end_time_utc\": \"2021-01-17T01:45:58.744123Z\", \"status\": \"Completed\", \"log_files\": {}, \"log_groups\": [], \"run_duration\": \"0:42:48\"}, \"child_runs\": [{\"run_id\": \"AutoML_f7485239-1377-41f3-8bf5-b49e0f342909_0\", \"run_number\": 367, \"metric\": null, \"status\": \"Completed\", \"run_type\": \"azureml.scriptrun\", \"training_percent\": \"100\", \"start_time\": \"2021-01-17T01:14:11.410557Z\", \"end_time\": \"2021-01-17T01:19:51.589258Z\", \"created_time\": \"2021-01-17T01:12:08.153277Z\", \"created_time_dt\": \"2021-01-17T01:12:08.153277Z\", \"duration\": \"0:07:43\", \"iteration\": \"0\", \"goal\": \"r2_score_max\", \"run_name\": \"MaxAbsScaler, LightGBM\", \"run_properties\": \"copy=True\", \"primary_metric\": 0.99637163, \"best_metric\": 0.99637163}, {\"run_id\": \"AutoML_f7485239-1377-41f3-8bf5-b49e0f342909_3\", \"run_number\": 368, \"metric\": null, \"status\": \"Completed\", \"run_type\": \"azureml.scriptrun\", \"training_percent\": \"100\", \"start_time\": \"2021-01-17T01:13:38.709346Z\", \"end_time\": \"2021-01-17T01:18:56.448277Z\", \"created_time\": \"2021-01-17T01:12:08.178913Z\", \"created_time_dt\": \"2021-01-17T01:12:08.178913Z\", \"duration\": \"0:06:48\", \"iteration\": \"3\", \"goal\": \"r2_score_max\", \"run_name\": \"MaxAbsScaler, RandomForest\", \"run_properties\": \"copy=True\", \"primary_metric\": 0.98549876, \"best_metric\": 0.99671337}, {\"run_id\": \"AutoML_f7485239-1377-41f3-8bf5-b49e0f342909_1\", \"run_number\": 369, \"metric\": null, \"status\": \"Completed\", \"run_type\": \"azureml.scriptrun\", \"training_percent\": \"100\", \"start_time\": \"2021-01-17T01:12:19.126267Z\", \"end_time\": \"2021-01-17T01:13:35.510518Z\", \"created_time\": \"2021-01-17T01:12:08.827882Z\", \"created_time_dt\": \"2021-01-17T01:12:08.827882Z\", \"duration\": \"0:01:26\", \"iteration\": \"1\", \"goal\": \"r2_score_max\", \"run_name\": \"MaxAbsScaler, XGBoostRegressor\", \"run_properties\": \"copy=True\", \"primary_metric\": 0.99671337, \"best_metric\": 0.99671337}, {\"run_id\": \"AutoML_f7485239-1377-41f3-8bf5-b49e0f342909_2\", \"run_number\": 370, \"metric\": null, \"status\": \"Completed\", \"run_type\": \"azureml.scriptrun\", \"training_percent\": \"100\", \"start_time\": \"2021-01-17T01:14:08.962457Z\", \"end_time\": \"2021-01-17T01:21:14.787445Z\", \"created_time\": \"2021-01-17T01:12:09.137085Z\", \"created_time_dt\": \"2021-01-17T01:12:09.137085Z\", \"duration\": \"0:09:05\", \"iteration\": \"2\", \"goal\": \"r2_score_max\", \"run_name\": \"SparseNormalizer, XGBoostRegressor\", \"run_properties\": \"<azureml.automl.runtime.shared.model_wrappers.SparseNormalizer object at 0x7fc293803550\", \"primary_metric\": 0.95832455, \"best_metric\": 0.99671337}, {\"run_id\": \"AutoML_f7485239-1377-41f3-8bf5-b49e0f342909_4\", \"run_number\": 371, \"metric\": null, \"status\": \"Completed\", \"run_type\": \"azureml.scriptrun\", \"training_percent\": \"100\", \"start_time\": \"2021-01-17T01:14:11.67962Z\", \"end_time\": \"2021-01-17T01:21:35.609472Z\", \"created_time\": \"2021-01-17T01:13:36.785083Z\", \"created_time_dt\": \"2021-01-17T01:13:36.785083Z\", \"duration\": \"0:07:58\", \"iteration\": \"4\", \"goal\": \"r2_score_max\", \"run_name\": \"StandardScalerWrapper, XGBoostRegressor\", \"run_properties\": \"<azureml.automl.runtime.shared.model_wrappers.StandardScalerWrapper object at 0x7f99d4385780\", \"primary_metric\": 0.99697078, \"best_metric\": 0.99697078}, {\"run_id\": \"AutoML_f7485239-1377-41f3-8bf5-b49e0f342909_5\", \"run_number\": 378, \"metric\": null, \"status\": \"Completed\", \"run_type\": \"azureml.scriptrun\", \"training_percent\": \"100\", \"start_time\": \"2021-01-17T01:21:19.023865Z\", \"end_time\": \"2021-01-17T01:27:13.372203Z\", \"created_time\": \"2021-01-17T01:19:02.525204Z\", \"created_time_dt\": \"2021-01-17T01:19:02.525204Z\", \"duration\": \"0:08:10\", \"iteration\": \"5\", \"goal\": \"r2_score_max\", \"run_name\": \"MaxAbsScaler, ElasticNet\", \"run_properties\": \"copy=True\", \"primary_metric\": 0.99345663, \"best_metric\": 0.99697078}, {\"run_id\": \"AutoML_f7485239-1377-41f3-8bf5-b49e0f342909_6\", \"run_number\": 379, \"metric\": null, \"status\": \"Completed\", \"run_type\": \"azureml.scriptrun\", \"training_percent\": \"100\", \"start_time\": \"2021-01-17T01:21:29.536838Z\", \"end_time\": \"2021-01-17T01:28:34.501098Z\", \"created_time\": \"2021-01-17T01:19:57.880959Z\", \"created_time_dt\": \"2021-01-17T01:19:57.880959Z\", \"duration\": \"0:08:36\", \"iteration\": \"6\", \"goal\": \"r2_score_max\", \"run_name\": \"MaxAbsScaler, RandomForest\", \"run_properties\": \"copy=True\", \"primary_metric\": 0.97412373, \"best_metric\": 0.99697078}, {\"run_id\": \"AutoML_f7485239-1377-41f3-8bf5-b49e0f342909_7\", \"run_number\": 381, \"metric\": null, \"status\": \"Completed\", \"run_type\": \"azureml.scriptrun\", \"training_percent\": \"100\", \"start_time\": \"2021-01-17T01:22:30.712135Z\", \"end_time\": \"2021-01-17T01:24:32.558805Z\", \"created_time\": \"2021-01-17T01:21:19.364478Z\", \"created_time_dt\": \"2021-01-17T01:21:19.364478Z\", \"duration\": \"0:03:13\", \"iteration\": \"7\", \"goal\": \"r2_score_max\", \"run_name\": \"StandardScalerWrapper, XGBoostRegressor\", \"run_properties\": \"<azureml.automl.runtime.shared.model_wrappers.StandardScalerWrapper object at 0x7f61d82b4fd0\", \"primary_metric\": 0.99689849, \"best_metric\": 0.99697078}, {\"run_id\": \"AutoML_f7485239-1377-41f3-8bf5-b49e0f342909_8\", \"run_number\": 383, \"metric\": null, \"status\": \"Completed\", \"run_type\": \"azureml.scriptrun\", \"training_percent\": \"100\", \"start_time\": \"2021-01-17T01:23:13.979736Z\", \"end_time\": \"2021-01-17T01:27:00.291874Z\", \"created_time\": \"2021-01-17T01:21:39.369104Z\", \"created_time_dt\": \"2021-01-17T01:21:39.369104Z\", \"duration\": \"0:05:20\", \"iteration\": \"8\", \"goal\": \"r2_score_max\", \"run_name\": \"MaxAbsScaler, ExtremeRandomTrees\", \"run_properties\": \"copy=True\", \"primary_metric\": 0.99296461, \"best_metric\": 0.99697078}, {\"run_id\": \"AutoML_f7485239-1377-41f3-8bf5-b49e0f342909_9\", \"run_number\": 390, \"metric\": null, \"status\": \"Completed\", \"run_type\": \"azureml.scriptrun\", \"training_percent\": \"100\", \"start_time\": \"2021-01-17T01:27:17.043838Z\", \"end_time\": \"2021-01-17T01:32:25.465858Z\", \"created_time\": \"2021-01-17T01:24:38.316864Z\", \"created_time_dt\": \"2021-01-17T01:24:38.316864Z\", \"duration\": \"0:07:47\", \"iteration\": \"9\", \"goal\": \"r2_score_max\", \"run_name\": \"StandardScalerWrapper, ElasticNet\", \"run_properties\": \"<azureml.automl.runtime.shared.model_wrappers.StandardScalerWrapper object at 0x7fa4849e1358\", \"primary_metric\": 0.98935776, \"best_metric\": 0.99697078}, {\"run_id\": \"AutoML_f7485239-1377-41f3-8bf5-b49e0f342909_10\", \"run_number\": 393, \"metric\": null, \"status\": \"Completed\", \"run_type\": \"azureml.scriptrun\", \"training_percent\": \"100\", \"start_time\": \"2021-01-17T01:28:33.850571Z\", \"end_time\": \"2021-01-17T01:30:08.49491Z\", \"created_time\": \"2021-01-17T01:27:03.590492Z\", \"created_time_dt\": \"2021-01-17T01:27:03.590492Z\", \"duration\": \"0:03:04\", \"iteration\": \"10\", \"goal\": \"r2_score_max\", \"run_name\": \"MaxAbsScaler, RandomForest\", \"run_properties\": \"copy=True\", \"primary_metric\": 0.54402922, \"best_metric\": 0.99697078}, {\"run_id\": \"AutoML_f7485239-1377-41f3-8bf5-b49e0f342909_11\", \"run_number\": 394, \"metric\": null, \"status\": \"Completed\", \"run_type\": \"azureml.scriptrun\", \"training_percent\": \"100\", \"start_time\": \"2021-01-17T01:28:33.845255Z\", \"end_time\": \"2021-01-17T01:29:32.625237Z\", \"created_time\": \"2021-01-17T01:27:16.405742Z\", \"created_time_dt\": \"2021-01-17T01:27:16.405742Z\", \"duration\": \"0:02:16\", \"iteration\": \"11\", \"goal\": \"r2_score_max\", \"run_name\": \"MaxAbsScaler, RandomForest\", \"run_properties\": \"copy=True\", \"primary_metric\": 0.4790361, \"best_metric\": 0.99697078}, {\"run_id\": \"AutoML_f7485239-1377-41f3-8bf5-b49e0f342909_12\", \"run_number\": 395, \"metric\": null, \"status\": \"Completed\", \"run_type\": \"azureml.scriptrun\", \"training_percent\": \"100\", \"start_time\": \"2021-01-17T01:28:49.548294Z\", \"end_time\": \"2021-01-17T01:29:52.683905Z\", \"created_time\": \"2021-01-17T01:28:37.930698Z\", \"created_time_dt\": \"2021-01-17T01:28:37.930698Z\", \"duration\": \"0:01:14\", \"iteration\": \"12\", \"goal\": \"r2_score_max\", \"run_name\": \"StandardScalerWrapper, XGBoostRegressor\", \"run_properties\": \"<azureml.automl.runtime.shared.model_wrappers.StandardScalerWrapper object at 0x7f046d2e0cc0\", \"primary_metric\": 0.87375604, \"best_metric\": 0.99697078}, {\"run_id\": \"AutoML_f7485239-1377-41f3-8bf5-b49e0f342909_13\", \"run_number\": 396, \"metric\": null, \"status\": \"Completed\", \"run_type\": \"azureml.scriptrun\", \"training_percent\": \"100\", \"start_time\": \"2021-01-17T01:29:50.422436Z\", \"end_time\": \"2021-01-17T01:31:13.325814Z\", \"created_time\": \"2021-01-17T01:29:35.767174Z\", \"created_time_dt\": \"2021-01-17T01:29:35.767174Z\", \"duration\": \"0:01:37\", \"iteration\": \"13\", \"goal\": \"r2_score_max\", \"run_name\": \"MaxAbsScaler, ExtremeRandomTrees\", \"run_properties\": \"copy=True\", \"primary_metric\": 0.99302353, \"best_metric\": 0.99697078}, {\"run_id\": \"AutoML_f7485239-1377-41f3-8bf5-b49e0f342909_14\", \"run_number\": 397, \"metric\": null, \"status\": \"Completed\", \"run_type\": \"azureml.scriptrun\", \"training_percent\": \"100\", \"start_time\": \"2021-01-17T01:30:10.058358Z\", \"end_time\": \"2021-01-17T01:31:12.065276Z\", \"created_time\": \"2021-01-17T01:29:55.889016Z\", \"created_time_dt\": \"2021-01-17T01:29:55.889016Z\", \"duration\": \"0:01:16\", \"iteration\": \"14\", \"goal\": \"r2_score_max\", \"run_name\": \"MaxAbsScaler, ExtremeRandomTrees\", \"run_properties\": \"copy=True\", \"primary_metric\": 0.90164458, \"best_metric\": 0.99697078}, {\"run_id\": \"AutoML_f7485239-1377-41f3-8bf5-b49e0f342909_15\", \"run_number\": 398, \"metric\": null, \"status\": \"Completed\", \"run_type\": \"azureml.scriptrun\", \"training_percent\": \"100\", \"start_time\": \"2021-01-17T01:30:24.548758Z\", \"end_time\": \"2021-01-17T01:33:45.678991Z\", \"created_time\": \"2021-01-17T01:30:11.375026Z\", \"created_time_dt\": \"2021-01-17T01:30:11.375026Z\", \"duration\": \"0:03:34\", \"iteration\": \"15\", \"goal\": \"r2_score_max\", \"run_name\": \"MaxAbsScaler, ExtremeRandomTrees\", \"run_properties\": \"copy=True\", \"primary_metric\": 0.99192612, \"best_metric\": 0.99697078}, {\"run_id\": \"AutoML_f7485239-1377-41f3-8bf5-b49e0f342909_16\", \"run_number\": 399, \"metric\": null, \"status\": \"Completed\", \"run_type\": \"azureml.scriptrun\", \"training_percent\": \"100\", \"start_time\": \"2021-01-17T01:31:30.074309Z\", \"end_time\": \"2021-01-17T01:34:00.918813Z\", \"created_time\": \"2021-01-17T01:31:15.137655Z\", \"created_time_dt\": \"2021-01-17T01:31:15.137655Z\", \"duration\": \"0:02:45\", \"iteration\": \"16\", \"goal\": \"r2_score_max\", \"run_name\": \"MaxAbsScaler, ElasticNet\", \"run_properties\": \"copy=True\", \"primary_metric\": 0.99221145, \"best_metric\": 0.99697078}, {\"run_id\": \"AutoML_f7485239-1377-41f3-8bf5-b49e0f342909_17\", \"run_number\": 400, \"metric\": null, \"status\": \"Completed\", \"run_type\": \"azureml.scriptrun\", \"training_percent\": \"100\", \"start_time\": \"2021-01-17T01:31:34.976224Z\", \"end_time\": \"2021-01-17T01:32:25.385119Z\", \"created_time\": \"2021-01-17T01:31:21.417768Z\", \"created_time_dt\": \"2021-01-17T01:31:21.417768Z\", \"duration\": \"0:01:03\", \"iteration\": \"17\", \"goal\": \"r2_score_max\", \"run_name\": \"MaxAbsScaler, RandomForest\", \"run_properties\": \"copy=True\", \"primary_metric\": 0.89343113, \"best_metric\": 0.99697078}, {\"run_id\": \"AutoML_f7485239-1377-41f3-8bf5-b49e0f342909_19\", \"run_number\": 401, \"metric\": null, \"status\": \"Completed\", \"run_type\": \"azureml.scriptrun\", \"training_percent\": \"100\", \"start_time\": \"2021-01-17T01:32:44.536041Z\", \"end_time\": \"2021-01-17T01:36:47.702529Z\", \"created_time\": \"2021-01-17T01:32:31.999186Z\", \"created_time_dt\": \"2021-01-17T01:32:31.999186Z\", \"duration\": \"0:04:15\", \"iteration\": \"19\", \"goal\": \"r2_score_max\", \"run_name\": \"SparseNormalizer, XGBoostRegressor\", \"run_properties\": \"<azureml.automl.runtime.shared.model_wrappers.SparseNormalizer object at 0x7fc94ebee898\", \"primary_metric\": 0.97019951, \"best_metric\": 0.99697078}, {\"run_id\": \"AutoML_f7485239-1377-41f3-8bf5-b49e0f342909_18\", \"run_number\": 402, \"metric\": null, \"status\": \"Completed\", \"run_type\": \"azureml.scriptrun\", \"training_percent\": \"100\", \"start_time\": \"2021-01-17T01:32:44.422641Z\", \"end_time\": \"2021-01-17T01:33:50.125258Z\", \"created_time\": \"2021-01-17T01:32:31.982212Z\", \"created_time_dt\": \"2021-01-17T01:32:31.982212Z\", \"duration\": \"0:01:18\", \"iteration\": \"18\", \"goal\": \"r2_score_max\", \"run_name\": \"MaxAbsScaler, RandomForest\", \"run_properties\": \"copy=True\", \"primary_metric\": 0.96130631, \"best_metric\": 0.99697078}, {\"run_id\": \"AutoML_f7485239-1377-41f3-8bf5-b49e0f342909_20\", \"run_number\": 403, \"metric\": null, \"status\": \"Completed\", \"run_type\": \"azureml.scriptrun\", \"training_percent\": \"100\", \"start_time\": \"2021-01-17T01:34:07.18193Z\", \"end_time\": \"2021-01-17T01:35:56.562004Z\", \"created_time\": \"2021-01-17T01:33:50.839449Z\", \"created_time_dt\": \"2021-01-17T01:33:50.839449Z\", \"duration\": \"0:02:05\", \"iteration\": \"20\", \"goal\": \"r2_score_max\", \"run_name\": \"StandardScalerWrapper, RandomForest\", \"run_properties\": \"<azureml.automl.runtime.shared.model_wrappers.StandardScalerWrapper object at 0x7fa85acdc908\", \"primary_metric\": 0.94912992, \"best_metric\": 0.99697078}, {\"run_id\": \"AutoML_f7485239-1377-41f3-8bf5-b49e0f342909_21\", \"run_number\": 404, \"metric\": null, \"status\": \"Completed\", \"run_type\": \"azureml.scriptrun\", \"training_percent\": \"100\", \"start_time\": \"2021-01-17T01:34:13.332749Z\", \"end_time\": \"2021-01-17T01:37:42.346171Z\", \"created_time\": \"2021-01-17T01:33:59.473515Z\", \"created_time_dt\": \"2021-01-17T01:33:59.473515Z\", \"duration\": \"0:03:42\", \"iteration\": \"21\", \"goal\": \"r2_score_max\", \"run_name\": \"MaxAbsScaler, ElasticNet\", \"run_properties\": \"copy=True\", \"primary_metric\": 0.99273084, \"best_metric\": 0.99697078}, {\"run_id\": \"AutoML_f7485239-1377-41f3-8bf5-b49e0f342909_22\", \"run_number\": 405, \"metric\": null, \"status\": \"Completed\", \"run_type\": \"azureml.scriptrun\", \"training_percent\": \"100\", \"start_time\": \"2021-01-17T01:34:20.296654Z\", \"end_time\": \"2021-01-17T01:35:15.121949Z\", \"created_time\": \"2021-01-17T01:34:08.452379Z\", \"created_time_dt\": \"2021-01-17T01:34:08.452379Z\", \"duration\": \"0:01:06\", \"iteration\": \"22\", \"goal\": \"r2_score_max\", \"run_name\": \"MaxAbsScaler, LightGBM\", \"run_properties\": \"copy=True\", \"primary_metric\": 0.99235042, \"best_metric\": 0.99697078}, {\"run_id\": \"AutoML_f7485239-1377-41f3-8bf5-b49e0f342909_23\", \"run_number\": 406, \"metric\": null, \"status\": \"Completed\", \"run_type\": \"azureml.scriptrun\", \"training_percent\": \"100\", \"start_time\": \"2021-01-17T01:35:30.868055Z\", \"end_time\": \"2021-01-17T01:36:24.737338Z\", \"created_time\": \"2021-01-17T01:35:18.073286Z\", \"created_time_dt\": \"2021-01-17T01:35:18.073286Z\", \"duration\": \"0:01:06\", \"iteration\": \"23\", \"goal\": \"r2_score_max\", \"run_name\": \"StandardScalerWrapper, LightGBM\", \"run_properties\": \"<azureml.automl.runtime.shared.model_wrappers.StandardScalerWrapper object at 0x7f52d9150978\", \"primary_metric\": 0.98624027, \"best_metric\": 0.99697078}, {\"run_id\": \"AutoML_f7485239-1377-41f3-8bf5-b49e0f342909_24\", \"run_number\": 407, \"metric\": null, \"status\": \"Completed\", \"run_type\": \"azureml.scriptrun\", \"training_percent\": \"100\", \"start_time\": \"2021-01-17T01:36:11.079361Z\", \"end_time\": \"2021-01-17T01:37:23.660965Z\", \"created_time\": \"2021-01-17T01:35:59.642384Z\", \"created_time_dt\": \"2021-01-17T01:35:59.642384Z\", \"duration\": \"0:01:24\", \"iteration\": \"24\", \"goal\": \"r2_score_max\", \"run_name\": \"StandardScalerWrapper, XGBoostRegressor\", \"run_properties\": \"<azureml.automl.runtime.shared.model_wrappers.StandardScalerWrapper object at 0x7f26aee928d0\", \"primary_metric\": 0.99617273, \"best_metric\": 0.99697078}, {\"run_id\": \"AutoML_f7485239-1377-41f3-8bf5-b49e0f342909_25\", \"run_number\": 408, \"metric\": null, \"status\": \"Completed\", \"run_type\": \"azureml.scriptrun\", \"training_percent\": \"100\", \"start_time\": \"2021-01-17T01:36:42.346085Z\", \"end_time\": \"2021-01-17T01:41:22.824806Z\", \"created_time\": \"2021-01-17T01:36:27.678653Z\", \"created_time_dt\": \"2021-01-17T01:36:27.678653Z\", \"duration\": \"0:04:55\", \"iteration\": \"25\", \"goal\": \"r2_score_max\", \"run_name\": \"StandardScalerWrapper, XGBoostRegressor\", \"run_properties\": \"<azureml.automl.runtime.shared.model_wrappers.StandardScalerWrapper object at 0x7f506795f550\", \"primary_metric\": 0.99708109, \"best_metric\": 0.99708109}, {\"run_id\": \"AutoML_f7485239-1377-41f3-8bf5-b49e0f342909_26\", \"run_number\": 409, \"metric\": null, \"status\": \"Completed\", \"run_type\": \"azureml.scriptrun\", \"training_percent\": \"100\", \"start_time\": \"2021-01-17T01:37:01.315787Z\", \"end_time\": \"2021-01-17T01:38:04.619674Z\", \"created_time\": \"2021-01-17T01:36:49.436667Z\", \"created_time_dt\": \"2021-01-17T01:36:49.436667Z\", \"duration\": \"0:01:15\", \"iteration\": \"26\", \"goal\": \"r2_score_max\", \"run_name\": \"MaxAbsScaler, LightGBM\", \"run_properties\": \"copy=True\", \"primary_metric\": 0.98330258, \"best_metric\": 0.99708109}, {\"run_id\": \"AutoML_f7485239-1377-41f3-8bf5-b49e0f342909_27\", \"run_number\": 410, \"metric\": null, \"status\": \"Completed\", \"run_type\": \"azureml.scriptrun\", \"training_percent\": \"100\", \"start_time\": \"2021-01-17T01:37:37.903801Z\", \"end_time\": \"2021-01-17T01:38:31.656503Z\", \"created_time\": \"2021-01-17T01:37:26.129836Z\", \"created_time_dt\": \"2021-01-17T01:37:26.129836Z\", \"duration\": \"0:01:05\", \"iteration\": \"27\", \"goal\": \"r2_score_max\", \"run_name\": \"StandardScalerWrapper, LightGBM\", \"run_properties\": \"<azureml.automl.runtime.shared.model_wrappers.StandardScalerWrapper object at 0x7fe6ef4922b0\", \"primary_metric\": 0.98868269, \"best_metric\": 0.99708109}, {\"run_id\": \"AutoML_f7485239-1377-41f3-8bf5-b49e0f342909_28\", \"run_number\": 411, \"metric\": null, \"status\": \"Completed\", \"run_type\": \"azureml.scriptrun\", \"training_percent\": \"100\", \"start_time\": \"2021-01-17T01:37:59.784054Z\", \"end_time\": \"2021-01-17T01:38:47.827036Z\", \"created_time\": \"2021-01-17T01:37:45.279802Z\", \"created_time_dt\": \"2021-01-17T01:37:45.279802Z\", \"duration\": \"0:01:02\", \"iteration\": \"28\", \"goal\": \"r2_score_max\", \"run_name\": \"MaxAbsScaler, LightGBM\", \"run_properties\": \"copy=True\", \"primary_metric\": 0.97911399, \"best_metric\": 0.99708109}, {\"run_id\": \"AutoML_f7485239-1377-41f3-8bf5-b49e0f342909_29\", \"run_number\": 412, \"metric\": null, \"status\": \"Failed\", \"run_type\": \"azureml.scriptrun\", \"training_percent\": \"100\", \"start_time\": \"2021-01-17T01:38:22.525504Z\", \"end_time\": \"2021-01-17T01:39:34.086528Z\", \"created_time\": \"2021-01-17T01:38:07.430039Z\", \"created_time_dt\": \"2021-01-17T01:38:07.430039Z\", \"duration\": \"0:01:26\", \"iteration\": \"29\", \"goal\": null, \"run_name\": \"StandardScalerWrapper, XGBoostRegressor\", \"run_properties\": null}, {\"run_id\": \"AutoML_f7485239-1377-41f3-8bf5-b49e0f342909_30\", \"run_number\": 413, \"metric\": null, \"status\": \"Completed\", \"run_type\": \"azureml.scriptrun\", \"training_percent\": \"100\", \"start_time\": \"2021-01-17T01:38:47.912797Z\", \"end_time\": \"2021-01-17T01:40:23.979622Z\", \"created_time\": \"2021-01-17T01:38:34.853415Z\", \"created_time_dt\": \"2021-01-17T01:38:34.853415Z\", \"duration\": \"0:01:49\", \"iteration\": \"30\", \"goal\": \"r2_score_max\", \"run_name\": \"TruncatedSVDWrapper, XGBoostRegressor\", \"run_properties\": \"n_components=0.5542105263157895, random_state=None\", \"primary_metric\": 0.96997025, \"best_metric\": 0.99708109}, {\"run_id\": \"AutoML_f7485239-1377-41f3-8bf5-b49e0f342909_31\", \"run_number\": 414, \"metric\": null, \"status\": \"Canceled\", \"run_type\": \"azureml.scriptrun\", \"training_percent\": \"100\", \"start_time\": \"2021-01-17T01:39:02.684203Z\", \"end_time\": \"2021-01-17T01:43:03.830647Z\", \"created_time\": \"2021-01-17T01:38:49.810953Z\", \"created_time_dt\": \"2021-01-17T01:38:49.810953Z\", \"duration\": \"0:04:14\", \"iteration\": \"31\", \"goal\": null, \"run_name\": \"MaxAbsScaler, RandomForest\", \"run_properties\": null}, {\"run_id\": \"AutoML_f7485239-1377-41f3-8bf5-b49e0f342909_32\", \"run_number\": 415, \"metric\": null, \"status\": \"Completed\", \"run_type\": \"azureml.scriptrun\", \"training_percent\": \"100\", \"start_time\": \"2021-01-17T01:39:52.293463Z\", \"end_time\": \"2021-01-17T01:41:29.448918Z\", \"created_time\": \"2021-01-17T01:39:36.972103Z\", \"created_time_dt\": \"2021-01-17T01:39:36.972103Z\", \"duration\": \"0:01:52\", \"iteration\": \"32\", \"goal\": \"r2_score_max\", \"run_name\": \"MaxAbsScaler, RandomForest\", \"run_properties\": \"copy=True\", \"primary_metric\": 0.95745064, \"best_metric\": 0.99708109}, {\"run_id\": \"AutoML_f7485239-1377-41f3-8bf5-b49e0f342909_33\", \"run_number\": 416, \"metric\": null, \"status\": \"Completed\", \"run_type\": \"azureml.scriptrun\", \"training_percent\": \"100\", \"start_time\": \"2021-01-17T01:40:42.754202Z\", \"end_time\": \"2021-01-17T01:41:35.552631Z\", \"created_time\": \"2021-01-17T01:40:26.200734Z\", \"created_time_dt\": \"2021-01-17T01:40:26.200734Z\", \"duration\": \"0:01:09\", \"iteration\": \"33\", \"goal\": \"r2_score_max\", \"run_name\": \"MaxAbsScaler, SGD\", \"run_properties\": \"copy=True\", \"primary_metric\": 0.97301862, \"best_metric\": 0.99708109}, {\"run_id\": \"AutoML_f7485239-1377-41f3-8bf5-b49e0f342909_34\", \"run_number\": 419, \"metric\": null, \"status\": \"Completed\", \"run_type\": \"azureml.scriptrun\", \"training_percent\": \"100\", \"start_time\": \"2021-01-17T01:41:39.339827Z\", \"end_time\": \"2021-01-17T01:42:47.984871Z\", \"created_time\": \"2021-01-17T01:41:24.822036Z\", \"created_time_dt\": \"2021-01-17T01:41:24.822036Z\", \"duration\": \"0:01:23\", \"iteration\": \"34\", \"goal\": \"r2_score_max\", \"run_name\": \"SparseNormalizer, XGBoostRegressor\", \"run_properties\": \"<azureml.automl.runtime.shared.model_wrappers.SparseNormalizer object at 0x7f2474379da0\", \"primary_metric\": 0.84200486, \"best_metric\": 0.99708109}, {\"run_id\": \"AutoML_f7485239-1377-41f3-8bf5-b49e0f342909_35\", \"run_number\": 424, \"metric\": null, \"status\": \"Canceled\", \"run_type\": \"azureml.scriptrun\", \"training_percent\": \"100\", \"start_time\": \"2021-01-17T01:41:32.392606Z\", \"end_time\": \"2021-01-17T01:43:00.199859Z\", \"created_time\": \"2021-01-17T01:41:32.392606Z\", \"created_time_dt\": \"2021-01-17T01:41:32.392606Z\", \"duration\": \"0:01:27\", \"iteration\": \"35\", \"goal\": null, \"run_name\": \"Canceled\", \"run_properties\": null}, {\"run_id\": \"AutoML_f7485239-1377-41f3-8bf5-b49e0f342909_36\", \"run_number\": 425, \"metric\": null, \"status\": \"Canceled\", \"run_type\": \"azureml.scriptrun\", \"training_percent\": \"100\", \"start_time\": \"2021-01-17T01:41:37.594951Z\", \"end_time\": \"2021-01-17T01:43:00.652642Z\", \"created_time\": \"2021-01-17T01:41:37.594951Z\", \"created_time_dt\": \"2021-01-17T01:41:37.594951Z\", \"duration\": \"0:01:23\", \"iteration\": \"36\", \"goal\": null, \"run_name\": \"Canceled\", \"run_properties\": null}, {\"run_id\": \"AutoML_f7485239-1377-41f3-8bf5-b49e0f342909_38\", \"run_number\": 427, \"metric\": null, \"status\": \"Completed\", \"run_type\": \"azureml.scriptrun\", \"training_percent\": \"100\", \"start_time\": \"2021-01-17T01:43:56.290667Z\", \"end_time\": \"2021-01-17T01:45:51.419627Z\", \"created_time\": \"2021-01-17T01:43:07.551452Z\", \"created_time_dt\": \"2021-01-17T01:43:07.551452Z\", \"duration\": \"0:02:43\", \"iteration\": \"38\", \"goal\": \"r2_score_max\", \"run_name\": \"StackEnsemble\", \"run_properties\": \"base_learners=[('25',\\n                                       Pipeline(memory=None,\\n                                                steps=[('standardscalerwrapper',\\n                                                        <azureml.automl.runtime.shared.model_wrappers.StandardScalerWrapper object at 0x7f572feb75c0>\", \"primary_metric\": 0.99768042, \"best_metric\": 0.99768042}, {\"run_id\": \"AutoML_f7485239-1377-41f3-8bf5-b49e0f342909_37\", \"run_number\": 428, \"metric\": null, \"status\": \"Completed\", \"run_type\": \"azureml.scriptrun\", \"training_percent\": \"100\", \"start_time\": \"2021-01-17T01:43:53.726876Z\", \"end_time\": \"2021-01-17T01:45:42.489126Z\", \"created_time\": \"2021-01-17T01:43:07.786466Z\", \"created_time_dt\": \"2021-01-17T01:43:07.786466Z\", \"duration\": \"0:02:34\", \"iteration\": \"37\", \"goal\": \"r2_score_max\", \"run_name\": \"VotingEnsemble\", \"run_properties\": \"estimators=[('25',\\n                                          Pipeline(memory=None,\\n                                                   steps=[('standardscalerwrapper',\\n                                                           <azureml.automl.runtime.shared.model_wrappers.StandardScalerWrapper object at 0x7f26d79d8fd0>\", \"primary_metric\": 0.99767053, \"best_metric\": 0.99767053}], \"children_metrics\": {\"categories\": [0], \"series\": {\"mean_absolute_percentage_error\": [{\"categories\": [\"0\", \"1\", \"2\", \"3\", \"4\", \"5\", \"6\", \"7\", \"8\", \"9\", \"10\", \"11\", \"12\", \"13\", \"14\", \"15\", \"16\", \"17\", \"18\", \"19\", \"20\", \"21\", \"22\", \"23\", \"24\", \"25\", \"26\", \"27\", \"28\", \"30\", \"32\", \"33\", \"34\", \"37\", \"38\"], \"mode\": \"markers\", \"name\": \"mean_absolute_percentage_error\", \"stepped\": false, \"type\": \"scatter\", \"data\": [0.8571639856130625, 0.9007201200974085, 2.8415593095192917, 1.412913724523494, 0.8190115998486592, 1.2032228343273892, 1.9136634179584984, 0.8416210949836783, 1.0333686228728027, 1.4491214728864925, 10.543934590392622, 11.220341079725054, 6.350093838515527, 1.1101152745979972, 3.9926597540556887, 1.0905561697333443, 1.3182450983055949, 4.448866991764941, 2.63465837628344, 2.159340701087032, 2.789948002471126, 1.2715346524095281, 1.2660794743257562, 1.6808785281072562, 0.9386946075347499, 0.8465652498396256, 1.7867253260906157, 1.4119015333681348, 1.9282873871303907, 2.1071624143149794, 2.856721952000543, 2.4266931648174146, 5.916972773809198, 0.7536381463197698, 0.7544372903476083]}, {\"categories\": [\"0\", \"1\", \"2\", \"3\", \"4\", \"5\", \"6\", \"7\", \"8\", \"9\", \"10\", \"11\", \"12\", \"13\", \"14\", \"15\", \"16\", \"17\", \"18\", \"19\", \"20\", \"21\", \"22\", \"23\", \"24\", \"25\", \"26\", \"27\", \"28\", \"30\", \"32\", \"33\", \"34\", \"37\", \"38\"], \"mode\": \"lines\", \"name\": \"mean_absolute_percentage_error_min\", \"stepped\": true, \"type\": \"scatter\", \"data\": [0.8571639856130625, 0.8571639856130625, 0.8571639856130625, 0.8571639856130625, 0.8190115998486592, 0.8190115998486592, 0.8190115998486592, 0.8190115998486592, 0.8190115998486592, 0.8190115998486592, 0.8190115998486592, 0.8190115998486592, 0.8190115998486592, 0.8190115998486592, 0.8190115998486592, 0.8190115998486592, 0.8190115998486592, 0.8190115998486592, 0.8190115998486592, 0.8190115998486592, 0.8190115998486592, 0.8190115998486592, 0.8190115998486592, 0.8190115998486592, 0.8190115998486592, 0.8190115998486592, 0.8190115998486592, 0.8190115998486592, 0.8190115998486592, 0.8190115998486592, 0.8190115998486592, 0.8190115998486592, 0.8190115998486592, 0.7536381463197698, 0.7536381463197698]}], \"explained_variance\": [{\"categories\": [\"0\", \"1\", \"2\", \"3\", \"4\", \"5\", \"6\", \"7\", \"8\", \"9\", \"10\", \"11\", \"12\", \"13\", \"14\", \"15\", \"16\", \"17\", \"18\", \"19\", \"20\", \"21\", \"22\", \"23\", \"24\", \"25\", \"26\", \"27\", \"28\", \"30\", \"32\", \"33\", \"34\", \"37\", \"38\"], \"mode\": \"markers\", \"name\": \"explained_variance\", \"stepped\": false, \"type\": \"scatter\", \"data\": [0.996373788878197, 0.9967147871028751, 0.9583278023444102, 0.9855000711503396, 0.9969718261917245, 0.9934602901636218, 0.974130995537938, 0.9969004224625896, 0.9929649108641524, 0.9893659532623484, 0.5442760908324017, 0.4792208266247599, 0.9853353532223109, 0.9930244453165974, 0.9016691644039962, 0.9919264505902164, 0.9922153443616275, 0.8934609549080026, 0.9613126925084222, 0.9702327643766692, 0.9491497639634406, 0.9927341538321782, 0.9923547394020714, 0.9862483512133765, 0.9961736329515691, 0.9970813539658651, 0.9833095106946631, 0.9886851384521691, 0.9791186750450583, 0.9699832271432322, 0.9574610151116528, 0.9731217746040769, 0.8420820009418395, 0.9976714922855309, 0.9976823543660368]}, {\"categories\": [\"0\", \"1\", \"2\", \"3\", \"4\", \"5\", \"6\", \"7\", \"8\", \"9\", \"10\", \"11\", \"12\", \"13\", \"14\", \"15\", \"16\", \"17\", \"18\", \"19\", \"20\", \"21\", \"22\", \"23\", \"24\", \"25\", \"26\", \"27\", \"28\", \"30\", \"32\", \"33\", \"34\", \"37\", \"38\"], \"mode\": \"lines\", \"name\": \"explained_variance_max\", \"stepped\": true, \"type\": \"scatter\", \"data\": [0.996373788878197, 0.9967147871028751, 0.9967147871028751, 0.9967147871028751, 0.9969718261917245, 0.9969718261917245, 0.9969718261917245, 0.9969718261917245, 0.9969718261917245, 0.9969718261917245, 0.9969718261917245, 0.9969718261917245, 0.9969718261917245, 0.9969718261917245, 0.9969718261917245, 0.9969718261917245, 0.9969718261917245, 0.9969718261917245, 0.9969718261917245, 0.9969718261917245, 0.9969718261917245, 0.9969718261917245, 0.9969718261917245, 0.9969718261917245, 0.9969718261917245, 0.9970813539658651, 0.9970813539658651, 0.9970813539658651, 0.9970813539658651, 0.9970813539658651, 0.9970813539658651, 0.9970813539658651, 0.9970813539658651, 0.9976714922855309, 0.9976823543660368]}], \"mean_absolute_error\": [{\"categories\": [\"0\", \"1\", \"2\", \"3\", \"4\", \"5\", \"6\", \"7\", \"8\", \"9\", \"10\", \"11\", \"12\", \"13\", \"14\", \"15\", \"16\", \"17\", \"18\", \"19\", \"20\", \"21\", \"22\", \"23\", \"24\", \"25\", \"26\", \"27\", \"28\", \"30\", \"32\", \"33\", \"34\", \"37\", \"38\"], \"mode\": \"markers\", \"name\": \"mean_absolute_error\", \"stepped\": false, \"type\": \"scatter\", \"data\": [0.03322008235157616, 0.03593194227299531, 0.11323643969610342, 0.052056719098928284, 0.031951519629614615, 0.04728157386377823, 0.07143665523729925, 0.03298677010369024, 0.03836547451123573, 0.060048555594373026, 0.4088103636122044, 0.43515977738669487, 0.2695179362777078, 0.041831653152718064, 0.15213570710098895, 0.040346479759982186, 0.05228639521585741, 0.17081786120752226, 0.09902674419478256, 0.0837972653231761, 0.10311174963281317, 0.0502890888282937, 0.049682395373681985, 0.06538446938384439, 0.037336538781623976, 0.033456737533651644, 0.06756887946943148, 0.05442828029140371, 0.07298785376621704, 0.08278894822227474, 0.10995658732529477, 0.09791809652976381, 0.2309009594814632, 0.029869185448893748, 0.02983861587087479]}, {\"categories\": [\"0\", \"1\", \"2\", \"3\", \"4\", \"5\", \"6\", \"7\", \"8\", \"9\", \"10\", \"11\", \"12\", \"13\", \"14\", \"15\", \"16\", \"17\", \"18\", \"19\", \"20\", \"21\", \"22\", \"23\", \"24\", \"25\", \"26\", \"27\", \"28\", \"30\", \"32\", \"33\", \"34\", \"37\", \"38\"], \"mode\": \"lines\", \"name\": \"mean_absolute_error_min\", \"stepped\": true, \"type\": \"scatter\", \"data\": [0.03322008235157616, 0.03322008235157616, 0.03322008235157616, 0.03322008235157616, 0.031951519629614615, 0.031951519629614615, 0.031951519629614615, 0.031951519629614615, 0.031951519629614615, 0.031951519629614615, 0.031951519629614615, 0.031951519629614615, 0.031951519629614615, 0.031951519629614615, 0.031951519629614615, 0.031951519629614615, 0.031951519629614615, 0.031951519629614615, 0.031951519629614615, 0.031951519629614615, 0.031951519629614615, 0.031951519629614615, 0.031951519629614615, 0.031951519629614615, 0.031951519629614615, 0.031951519629614615, 0.031951519629614615, 0.031951519629614615, 0.031951519629614615, 0.031951519629614615, 0.031951519629614615, 0.031951519629614615, 0.031951519629614615, 0.029869185448893748, 0.02983861587087479]}], \"root_mean_squared_log_error\": [{\"categories\": [\"0\", \"1\", \"2\", \"3\", \"4\", \"5\", \"6\", \"7\", \"8\", \"9\", \"10\", \"11\", \"12\", \"13\", \"14\", \"15\", \"16\", \"17\", \"18\", \"19\", \"20\", \"21\", \"22\", \"23\", \"24\", \"25\", \"26\", \"27\", \"28\", \"30\", \"32\", \"33\", \"34\", \"37\", \"38\"], \"mode\": \"markers\", \"name\": \"root_mean_squared_log_error\", \"stepped\": false, \"type\": \"scatter\", \"data\": [0.010752190402561007, 0.00940259875435139, 0.03266163038228601, 0.022662675040102956, 0.009776878637580201, 0.014169149314594343, 0.028433944995314955, 0.00986544760542348, 0.01632553671383283, 0.01586878238386191, 0.10846187031680032, 0.11524434414572421, 0.05406168676074661, 0.01586027700869796, 0.05183600239365701, 0.01743657462080253, 0.01496953134420595, 0.053588410673654135, 0.034585207921526286, 0.028505062860111948, 0.039715459490455206, 0.014605993003887138, 0.015086748184413542, 0.020156550505636972, 0.01035299262167774, 0.009205189623622257, 0.02333362512098701, 0.01886037534177382, 0.025749016418938907, 0.028202388218928856, 0.03479631148919879, 0.026403356195803387, 0.06459693588821884, 0.008198016446666869, 0.008237186945423953]}, {\"categories\": [\"0\", \"1\", \"2\", \"3\", \"4\", \"5\", \"6\", \"7\", \"8\", \"9\", \"10\", \"11\", \"12\", \"13\", \"14\", \"15\", \"16\", \"17\", \"18\", \"19\", \"20\", \"21\", \"22\", \"23\", \"24\", \"25\", \"26\", \"27\", \"28\", \"30\", \"32\", \"33\", \"34\", \"37\", \"38\"], \"mode\": \"lines\", \"name\": \"root_mean_squared_log_error_min\", \"stepped\": true, \"type\": \"scatter\", \"data\": [0.010752190402561007, 0.00940259875435139, 0.00940259875435139, 0.00940259875435139, 0.00940259875435139, 0.00940259875435139, 0.00940259875435139, 0.00940259875435139, 0.00940259875435139, 0.00940259875435139, 0.00940259875435139, 0.00940259875435139, 0.00940259875435139, 0.00940259875435139, 0.00940259875435139, 0.00940259875435139, 0.00940259875435139, 0.00940259875435139, 0.00940259875435139, 0.00940259875435139, 0.00940259875435139, 0.00940259875435139, 0.00940259875435139, 0.00940259875435139, 0.00940259875435139, 0.009205189623622257, 0.009205189623622257, 0.009205189623622257, 0.009205189623622257, 0.009205189623622257, 0.009205189623622257, 0.009205189623622257, 0.009205189623622257, 0.008198016446666869, 0.008198016446666869]}], \"normalized_mean_absolute_error\": [{\"categories\": [\"0\", \"1\", \"2\", \"3\", \"4\", \"5\", \"6\", \"7\", \"8\", \"9\", \"10\", \"11\", \"12\", \"13\", \"14\", \"15\", \"16\", \"17\", \"18\", \"19\", \"20\", \"21\", \"22\", \"23\", \"24\", \"25\", \"26\", \"27\", \"28\", \"30\", \"32\", \"33\", \"34\", \"37\", \"38\"], \"mode\": \"markers\", \"name\": \"normalized_mean_absolute_error\", \"stepped\": false, \"type\": \"scatter\", \"data\": [0.005190637867433774, 0.005614365980155516, 0.01769319370251616, 0.008133862359207544, 0.004992424942127284, 0.007387745916215349, 0.011161977380828006, 0.0051541828287016, 0.005994605392380584, 0.009382586811620785, 0.06387661931440693, 0.06799371521667107, 0.04211217754339184, 0.006536195805112198, 0.02377120423452952, 0.006304137462497218, 0.008169749252477718, 0.026690290813675355, 0.015472928780434774, 0.013093322706746265, 0.016111210880127055, 0.00785767012942089, 0.007762874277137809, 0.010216323341225684, 0.005833834184628746, 0.005227615239633071, 0.010557637417098665, 0.00850441879553183, 0.011404352150971414, 0.012935773159730428, 0.017180716769577307, 0.015299702582775595, 0.036078274918978616, 0.004667060226389648, 0.004662283729824186]}, {\"categories\": [\"0\", \"1\", \"2\", \"3\", \"4\", \"5\", \"6\", \"7\", \"8\", \"9\", \"10\", \"11\", \"12\", \"13\", \"14\", \"15\", \"16\", \"17\", \"18\", \"19\", \"20\", \"21\", \"22\", \"23\", \"24\", \"25\", \"26\", \"27\", \"28\", \"30\", \"32\", \"33\", \"34\", \"37\", \"38\"], \"mode\": \"lines\", \"name\": \"normalized_mean_absolute_error_min\", \"stepped\": true, \"type\": \"scatter\", \"data\": [0.005190637867433774, 0.005190637867433774, 0.005190637867433774, 0.005190637867433774, 0.004992424942127284, 0.004992424942127284, 0.004992424942127284, 0.004992424942127284, 0.004992424942127284, 0.004992424942127284, 0.004992424942127284, 0.004992424942127284, 0.004992424942127284, 0.004992424942127284, 0.004992424942127284, 0.004992424942127284, 0.004992424942127284, 0.004992424942127284, 0.004992424942127284, 0.004992424942127284, 0.004992424942127284, 0.004992424942127284, 0.004992424942127284, 0.004992424942127284, 0.004992424942127284, 0.004992424942127284, 0.004992424942127284, 0.004992424942127284, 0.004992424942127284, 0.004992424942127284, 0.004992424942127284, 0.004992424942127284, 0.004992424942127284, 0.004667060226389648, 0.004662283729824186]}], \"normalized_root_mean_squared_error\": [{\"categories\": [\"0\", \"1\", \"2\", \"3\", \"4\", \"5\", \"6\", \"7\", \"8\", \"9\", \"10\", \"11\", \"12\", \"13\", \"14\", \"15\", \"16\", \"17\", \"18\", \"19\", \"20\", \"21\", \"22\", \"23\", \"24\", \"25\", \"26\", \"27\", \"28\", \"30\", \"32\", \"33\", \"34\", \"37\", \"38\"], \"mode\": \"markers\", \"name\": \"normalized_root_mean_squared_error\", \"stepped\": false, \"type\": \"scatter\", \"data\": [0.007566282712663513, 0.007196462472290604, 0.02564360882216533, 0.015125392708602711, 0.006913377683840055, 0.010159211851703976, 0.020203594239358417, 0.006987581197807098, 0.010535847632138856, 0.012957810890035738, 0.08482267806391901, 0.0905739241083194, 0.04462861891620561, 0.010492022138729845, 0.03937883299308024, 0.011284215938401098, 0.011082876982407836, 0.04100755901431675, 0.02470552918225859, 0.021670775961298044, 0.02833174946881595, 0.010706963608280598, 0.010979628424186672, 0.014726974407973908, 0.007768446600250796, 0.006784307836985949, 0.016231140348033603, 0.013358945786296835, 0.01815171700321187, 0.021732940315162975, 0.02589811789079116, 0.020628012403362466, 0.04991849927604693, 0.006061956830496755, 0.006048348053963426]}, {\"categories\": [\"0\", \"1\", \"2\", \"3\", \"4\", \"5\", \"6\", \"7\", \"8\", \"9\", \"10\", \"11\", \"12\", \"13\", \"14\", \"15\", \"16\", \"17\", \"18\", \"19\", \"20\", \"21\", \"22\", \"23\", \"24\", \"25\", \"26\", \"27\", \"28\", \"30\", \"32\", \"33\", \"34\", \"37\", \"38\"], \"mode\": \"lines\", \"name\": \"normalized_root_mean_squared_error_min\", \"stepped\": true, \"type\": \"scatter\", \"data\": [0.007566282712663513, 0.007196462472290604, 0.007196462472290604, 0.007196462472290604, 0.006913377683840055, 0.006913377683840055, 0.006913377683840055, 0.006913377683840055, 0.006913377683840055, 0.006913377683840055, 0.006913377683840055, 0.006913377683840055, 0.006913377683840055, 0.006913377683840055, 0.006913377683840055, 0.006913377683840055, 0.006913377683840055, 0.006913377683840055, 0.006913377683840055, 0.006913377683840055, 0.006913377683840055, 0.006913377683840055, 0.006913377683840055, 0.006913377683840055, 0.006913377683840055, 0.006784307836985949, 0.006784307836985949, 0.006784307836985949, 0.006784307836985949, 0.006784307836985949, 0.006784307836985949, 0.006784307836985949, 0.006784307836985949, 0.006061956830496755, 0.006048348053963426]}], \"spearman_correlation\": [{\"categories\": [\"0\", \"1\", \"2\", \"3\", \"4\", \"5\", \"6\", \"7\", \"8\", \"9\", \"10\", \"11\", \"12\", \"13\", \"14\", \"15\", \"16\", \"17\", \"18\", \"19\", \"20\", \"21\", \"22\", \"23\", \"24\", \"25\", \"26\", \"27\", \"28\", \"30\", \"32\", \"33\", \"34\", \"37\", \"38\"], \"mode\": \"markers\", \"name\": \"spearman_correlation\", \"stepped\": false, \"type\": \"scatter\", \"data\": [0.9984264945525152, 0.9983129898732499, 0.9802976528424437, 0.9964661512414047, 0.9986076343715591, 0.997884213081022, 0.9934786262999872, 0.9985327042143509, 0.9981411864103924, 0.9977381950630964, 0.8819113007282473, 0.8699525829442954, 0.9977993963991146, 0.9977508563102263, 0.9821662381880677, 0.9979620038282756, 0.9973141998682067, 0.9691878441419611, 0.9895937810435432, 0.9879653289790026, 0.9909931463620018, 0.9975694452653805, 0.9966126463213416, 0.9942608396572465, 0.9982100825097042, 0.9985535656730152, 0.9970132238384307, 0.9966372308337932, 0.9967378652265353, 0.9841510374545211, 0.9844936567516326, 0.9869462744295822, 0.9354089796289285, 0.9988145748873197, 0.9988073668198089]}, {\"categories\": [\"0\", \"1\", \"2\", \"3\", \"4\", \"5\", \"6\", \"7\", \"8\", \"9\", \"10\", \"11\", \"12\", \"13\", \"14\", \"15\", \"16\", \"17\", \"18\", \"19\", \"20\", \"21\", \"22\", \"23\", \"24\", \"25\", \"26\", \"27\", \"28\", \"30\", \"32\", \"33\", \"34\", \"37\", \"38\"], \"mode\": \"lines\", \"name\": \"spearman_correlation_max\", \"stepped\": true, \"type\": \"scatter\", \"data\": [0.9984264945525152, 0.9984264945525152, 0.9984264945525152, 0.9984264945525152, 0.9986076343715591, 0.9986076343715591, 0.9986076343715591, 0.9986076343715591, 0.9986076343715591, 0.9986076343715591, 0.9986076343715591, 0.9986076343715591, 0.9986076343715591, 0.9986076343715591, 0.9986076343715591, 0.9986076343715591, 0.9986076343715591, 0.9986076343715591, 0.9986076343715591, 0.9986076343715591, 0.9986076343715591, 0.9986076343715591, 0.9986076343715591, 0.9986076343715591, 0.9986076343715591, 0.9986076343715591, 0.9986076343715591, 0.9986076343715591, 0.9986076343715591, 0.9986076343715591, 0.9986076343715591, 0.9986076343715591, 0.9986076343715591, 0.9988145748873197, 0.9988145748873197]}], \"normalized_median_absolute_error\": [{\"categories\": [\"0\", \"1\", \"2\", \"3\", \"4\", \"5\", \"6\", \"7\", \"8\", \"9\", \"10\", \"11\", \"12\", \"13\", \"14\", \"15\", \"16\", \"17\", \"18\", \"19\", \"20\", \"21\", \"22\", \"23\", \"24\", \"25\", \"26\", \"27\", \"28\", \"30\", \"32\", \"33\", \"34\", \"37\", \"38\"], \"mode\": \"markers\", \"name\": \"normalized_median_absolute_error\", \"stepped\": false, \"type\": \"scatter\", \"data\": [0.00423018088039175, 0.00467192754149439, 0.012813682357470184, 0.005367398238427512, 0.00416285420457523, 0.005589573272841176, 0.006898061877494549, 0.0043474820752938586, 0.004486349344030906, 0.007025759666818114, 0.04863468626279894, 0.05168059038289984, 0.0415488158663114, 0.004927781699131835, 0.014230844182517854, 0.004649928493757408, 0.00632514531224912, 0.01786357004352773, 0.010388049939648904, 0.008285644153753907, 0.009288337661629691, 0.005976924888203318, 0.006214629945778249, 0.007647635475441898, 0.00479681293169659, 0.004457890987396238, 0.007536703668896648, 0.006159032406450419, 0.007918512125886235, 0.008742351084947558, 0.01227839356681667, 0.012041572361928347, 0.026085603982210145, 0.0040388754391503775, 0.0040726563190561504]}, {\"categories\": [\"0\", \"1\", \"2\", \"3\", \"4\", \"5\", \"6\", \"7\", \"8\", \"9\", \"10\", \"11\", \"12\", \"13\", \"14\", \"15\", \"16\", \"17\", \"18\", \"19\", \"20\", \"21\", \"22\", \"23\", \"24\", \"25\", \"26\", \"27\", \"28\", \"30\", \"32\", \"33\", \"34\", \"37\", \"38\"], \"mode\": \"lines\", \"name\": \"normalized_median_absolute_error_min\", \"stepped\": true, \"type\": \"scatter\", \"data\": [0.00423018088039175, 0.00423018088039175, 0.00423018088039175, 0.00423018088039175, 0.00416285420457523, 0.00416285420457523, 0.00416285420457523, 0.00416285420457523, 0.00416285420457523, 0.00416285420457523, 0.00416285420457523, 0.00416285420457523, 0.00416285420457523, 0.00416285420457523, 0.00416285420457523, 0.00416285420457523, 0.00416285420457523, 0.00416285420457523, 0.00416285420457523, 0.00416285420457523, 0.00416285420457523, 0.00416285420457523, 0.00416285420457523, 0.00416285420457523, 0.00416285420457523, 0.00416285420457523, 0.00416285420457523, 0.00416285420457523, 0.00416285420457523, 0.00416285420457523, 0.00416285420457523, 0.00416285420457523, 0.00416285420457523, 0.0040388754391503775, 0.0040388754391503775]}], \"root_mean_squared_error\": [{\"categories\": [\"0\", \"1\", \"2\", \"3\", \"4\", \"5\", \"6\", \"7\", \"8\", \"9\", \"10\", \"11\", \"12\", \"13\", \"14\", \"15\", \"16\", \"17\", \"18\", \"19\", \"20\", \"21\", \"22\", \"23\", \"24\", \"25\", \"26\", \"27\", \"28\", \"30\", \"32\", \"33\", \"34\", \"37\", \"38\"], \"mode\": \"markers\", \"name\": \"root_mean_squared_error\", \"stepped\": false, \"type\": \"scatter\", \"data\": [0.04842420936104649, 0.04605735982265987, 0.1641190964618581, 0.09680251333505735, 0.04424561717657636, 0.06501895585090545, 0.12930300313189388, 0.04472051966596543, 0.06742942484568869, 0.08292998969622871, 0.5428651396090817, 0.5796731142932441, 0.28562316106371594, 0.06714894168787101, 0.25202453115571355, 0.07221898200576703, 0.07093041268741014, 0.2624483776916272, 0.15811538676645498, 0.1386929661523075, 0.1813231966004221, 0.06852456709299583, 0.0702696219147947, 0.09425263621103303, 0.0497180582416051, 0.04341957015671007, 0.10387929822741505, 0.08549725303229973, 0.11617098882055595, 0.13909081801704304, 0.16574795450106344, 0.13201927938151978, 0.3194783953667004, 0.03879652371517924, 0.03870942754536593]}, {\"categories\": [\"0\", \"1\", \"2\", \"3\", \"4\", \"5\", \"6\", \"7\", \"8\", \"9\", \"10\", \"11\", \"12\", \"13\", \"14\", \"15\", \"16\", \"17\", \"18\", \"19\", \"20\", \"21\", \"22\", \"23\", \"24\", \"25\", \"26\", \"27\", \"28\", \"30\", \"32\", \"33\", \"34\", \"37\", \"38\"], \"mode\": \"lines\", \"name\": \"root_mean_squared_error_min\", \"stepped\": true, \"type\": \"scatter\", \"data\": [0.04842420936104649, 0.04605735982265987, 0.04605735982265987, 0.04605735982265987, 0.04424561717657636, 0.04424561717657636, 0.04424561717657636, 0.04424561717657636, 0.04424561717657636, 0.04424561717657636, 0.04424561717657636, 0.04424561717657636, 0.04424561717657636, 0.04424561717657636, 0.04424561717657636, 0.04424561717657636, 0.04424561717657636, 0.04424561717657636, 0.04424561717657636, 0.04424561717657636, 0.04424561717657636, 0.04424561717657636, 0.04424561717657636, 0.04424561717657636, 0.04424561717657636, 0.04341957015671007, 0.04341957015671007, 0.04341957015671007, 0.04341957015671007, 0.04341957015671007, 0.04341957015671007, 0.04341957015671007, 0.04341957015671007, 0.03879652371517924, 0.03870942754536593]}], \"median_absolute_error\": [{\"categories\": [\"0\", \"1\", \"2\", \"3\", \"4\", \"5\", \"6\", \"7\", \"8\", \"9\", \"10\", \"11\", \"12\", \"13\", \"14\", \"15\", \"16\", \"17\", \"18\", \"19\", \"20\", \"21\", \"22\", \"23\", \"24\", \"25\", \"26\", \"27\", \"28\", \"30\", \"32\", \"33\", \"34\", \"37\", \"38\"], \"mode\": \"markers\", \"name\": \"median_absolute_error\", \"stepped\": false, \"type\": \"scatter\", \"data\": [0.0270731576345072, 0.029900336265564098, 0.08200756708780917, 0.03435134872593607, 0.02664226690928147, 0.035773268946183524, 0.04414759601596511, 0.027823885281880695, 0.0287126358017978, 0.04496486186763593, 0.31126199208191324, 0.330755778450559, 0.26591242154439293, 0.03153780287444374, 0.09107740276811427, 0.02975954236004741, 0.040480929998394366, 0.11432684827857746, 0.06648351961375298, 0.053028122584025006, 0.05944536103443002, 0.038252319284501235, 0.03977363165298079, 0.048944867042828154, 0.030699602762858175, 0.02853050231933592, 0.04823490348093854, 0.03941780740128268, 0.0506784776056719, 0.05595104694366437, 0.0785817188276267, 0.07706606311634141, 0.16694786548614493, 0.025848802810562416, 0.026065000441959363]}, {\"categories\": [\"0\", \"1\", \"2\", \"3\", \"4\", \"5\", \"6\", \"7\", \"8\", \"9\", \"10\", \"11\", \"12\", \"13\", \"14\", \"15\", \"16\", \"17\", \"18\", \"19\", \"20\", \"21\", \"22\", \"23\", \"24\", \"25\", \"26\", \"27\", \"28\", \"30\", \"32\", \"33\", \"34\", \"37\", \"38\"], \"mode\": \"lines\", \"name\": \"median_absolute_error_min\", \"stepped\": true, \"type\": \"scatter\", \"data\": [0.0270731576345072, 0.0270731576345072, 0.0270731576345072, 0.0270731576345072, 0.02664226690928147, 0.02664226690928147, 0.02664226690928147, 0.02664226690928147, 0.02664226690928147, 0.02664226690928147, 0.02664226690928147, 0.02664226690928147, 0.02664226690928147, 0.02664226690928147, 0.02664226690928147, 0.02664226690928147, 0.02664226690928147, 0.02664226690928147, 0.02664226690928147, 0.02664226690928147, 0.02664226690928147, 0.02664226690928147, 0.02664226690928147, 0.02664226690928147, 0.02664226690928147, 0.02664226690928147, 0.02664226690928147, 0.02664226690928147, 0.02664226690928147, 0.02664226690928147, 0.02664226690928147, 0.02664226690928147, 0.02664226690928147, 0.025848802810562416, 0.025848802810562416]}], \"normalized_root_mean_squared_log_error\": [{\"categories\": [\"0\", \"1\", \"2\", \"3\", \"4\", \"5\", \"6\", \"7\", \"8\", \"9\", \"10\", \"11\", \"12\", \"13\", \"14\", \"15\", \"16\", \"17\", \"18\", \"19\", \"20\", \"21\", \"22\", \"23\", \"24\", \"25\", \"26\", \"27\", \"28\", \"30\", \"32\", \"33\", \"34\", \"37\", \"38\"], \"mode\": \"markers\", \"name\": \"normalized_root_mean_squared_log_error\", \"stepped\": false, \"type\": \"scatter\", \"data\": [0.008081838577103326, 0.007067423705577333, 0.024549976751878994, 0.017034304131727036, 0.007348749601572614, 0.010650181334972503, 0.02137225485772982, 0.007415322092781431, 0.012271020830727166, 0.011927703364609868, 0.08152490747023129, 0.08662292532394551, 0.040635238890692545, 0.011921310335232678, 0.03896231262125853, 0.013106127788564625, 0.011251785112542758, 0.04027950291550246, 0.02599582569806011, 0.02142571030092032, 0.029851957657008585, 0.010978533051981695, 0.011339890656214139, 0.01515058619302237, 0.007781783248407884, 0.006919041964883907, 0.017538620930814573, 0.014176321596713013, 0.019354139614890128, 0.021198206183169418, 0.026154500804536407, 0.019845971349002362, 0.04855401447315611, 0.00616200449339317, 0.006191446833612887]}, {\"categories\": [\"0\", \"1\", \"2\", \"3\", \"4\", \"5\", \"6\", \"7\", \"8\", \"9\", \"10\", \"11\", \"12\", \"13\", \"14\", \"15\", \"16\", \"17\", \"18\", \"19\", \"20\", \"21\", \"22\", \"23\", \"24\", \"25\", \"26\", \"27\", \"28\", \"30\", \"32\", \"33\", \"34\", \"37\", \"38\"], \"mode\": \"lines\", \"name\": \"normalized_root_mean_squared_log_error_min\", \"stepped\": true, \"type\": \"scatter\", \"data\": [0.008081838577103326, 0.007067423705577333, 0.007067423705577333, 0.007067423705577333, 0.007067423705577333, 0.007067423705577333, 0.007067423705577333, 0.007067423705577333, 0.007067423705577333, 0.007067423705577333, 0.007067423705577333, 0.007067423705577333, 0.007067423705577333, 0.007067423705577333, 0.007067423705577333, 0.007067423705577333, 0.007067423705577333, 0.007067423705577333, 0.007067423705577333, 0.007067423705577333, 0.007067423705577333, 0.007067423705577333, 0.007067423705577333, 0.007067423705577333, 0.007067423705577333, 0.006919041964883907, 0.006919041964883907, 0.006919041964883907, 0.006919041964883907, 0.006919041964883907, 0.006919041964883907, 0.006919041964883907, 0.006919041964883907, 0.00616200449339317, 0.00616200449339317]}], \"r2_score\": [{\"categories\": [\"0\", \"1\", \"2\", \"3\", \"4\", \"5\", \"6\", \"7\", \"8\", \"9\", \"10\", \"11\", \"12\", \"13\", \"14\", \"15\", \"16\", \"17\", \"18\", \"19\", \"20\", \"21\", \"22\", \"23\", \"24\", \"25\", \"26\", \"27\", \"28\", \"30\", \"32\", \"33\", \"34\", \"37\", \"38\"], \"mode\": \"markers\", \"name\": \"r2_score\", \"stepped\": false, \"type\": \"scatter\", \"data\": [0.9963716314000899, 0.996713372920654, 0.9583245549956271, 0.9854987564707933, 0.99697077528036, 0.9934566286230516, 0.9741237332316525, 0.9968984910486708, 0.9929646082037925, 0.989357759054209, 0.5440292195834364, 0.47903609879665, 0.8737560420009888, 0.9930235296666942, 0.901644579190162, 0.9919261157538197, 0.9922114496227086, 0.8934311269078612, 0.961306311291864, 0.9701995069811175, 0.949129917390039, 0.9927308445678223, 0.9923504218263025, 0.9862402679202966, 0.9961727257583674, 0.9970810863150857, 0.9833025799098953, 0.9886826895502491, 0.9791139892711604, 0.9699702524653073, 0.9574506402623255, 0.9730186187022971, 0.8420048608509191, 0.9976705340243065, 0.9976804216176918]}, {\"categories\": [\"0\", \"1\", \"2\", \"3\", \"4\", \"5\", \"6\", \"7\", \"8\", \"9\", \"10\", \"11\", \"12\", \"13\", \"14\", \"15\", \"16\", \"17\", \"18\", \"19\", \"20\", \"21\", \"22\", \"23\", \"24\", \"25\", \"26\", \"27\", \"28\", \"30\", \"32\", \"33\", \"34\", \"37\", \"38\"], \"mode\": \"lines\", \"name\": \"r2_score_max\", \"stepped\": true, \"type\": \"scatter\", \"data\": [0.9963716314000899, 0.996713372920654, 0.996713372920654, 0.996713372920654, 0.99697077528036, 0.99697077528036, 0.99697077528036, 0.99697077528036, 0.99697077528036, 0.99697077528036, 0.99697077528036, 0.99697077528036, 0.99697077528036, 0.99697077528036, 0.99697077528036, 0.99697077528036, 0.99697077528036, 0.99697077528036, 0.99697077528036, 0.99697077528036, 0.99697077528036, 0.99697077528036, 0.99697077528036, 0.99697077528036, 0.99697077528036, 0.9970810863150857, 0.9970810863150857, 0.9970810863150857, 0.9970810863150857, 0.9970810863150857, 0.9970810863150857, 0.9970810863150857, 0.9970810863150857, 0.9976705340243065, 0.9976804216176918]}]}, \"metricName\": null, \"primaryMetricName\": \"r2_score\", \"showLegend\": false}, \"run_metrics\": [{\"name\": \"experiment_status\", \"run_id\": \"AutoML_f7485239-1377-41f3-8bf5-b49e0f342909\", \"categories\": [0, 1, 2, 3, 4, 5, 6, 7, 8], \"series\": [{\"data\": [\"DatasetEvaluation\", \"FeaturesGeneration\", \"DatasetFeaturization\", \"DatasetFeaturizationCompleted\", \"DatasetCrossValidationSplit\", \"ModelSelection\", \"BestRunExplainModel\", \"ModelExplanationDataSetSetup\", \"PickSurrogateModel\"]}]}, {\"name\": \"experiment_status_description\", \"run_id\": \"AutoML_f7485239-1377-41f3-8bf5-b49e0f342909\", \"categories\": [0, 1, 2, 3, 4, 5, 6, 7, 8], \"series\": [{\"data\": [\"Gathering dataset statistics.\", \"Generating features for the dataset.\", \"Beginning to fit featurizers and featurize the dataset.\", \"Completed fit featurizers and featurizing the dataset.\", \"Generating individually featurized CV splits.\", \"Beginning model selection.\", \"Best run model explanations started\", \"Model explanations data setup completed\", \"Choosing LinearModel as the surrogate model for explanations\"]}]}, {\"name\": \"mean_absolute_percentage_error\", \"run_id\": \"AutoML_f7485239-1377-41f3-8bf5-b49e0f342909\", \"categories\": [0], \"series\": [{\"data\": [0.7544372903476083]}]}, {\"name\": \"spearman_correlation\", \"run_id\": \"AutoML_f7485239-1377-41f3-8bf5-b49e0f342909\", \"categories\": [0], \"series\": [{\"data\": [0.9988073668198089]}]}, {\"name\": \"explained_variance\", \"run_id\": \"AutoML_f7485239-1377-41f3-8bf5-b49e0f342909\", \"categories\": [0], \"series\": [{\"data\": [0.9976823543660368]}]}, {\"name\": \"normalized_root_mean_squared_log_error\", \"run_id\": \"AutoML_f7485239-1377-41f3-8bf5-b49e0f342909\", \"categories\": [0], \"series\": [{\"data\": [0.006191446833612887]}]}, {\"name\": \"normalized_mean_absolute_error\", \"run_id\": \"AutoML_f7485239-1377-41f3-8bf5-b49e0f342909\", \"categories\": [0], \"series\": [{\"data\": [0.004662283729824186]}]}, {\"name\": \"r2_score\", \"run_id\": \"AutoML_f7485239-1377-41f3-8bf5-b49e0f342909\", \"categories\": [0], \"series\": [{\"data\": [0.9976804216176918]}]}, {\"name\": \"root_mean_squared_log_error\", \"run_id\": \"AutoML_f7485239-1377-41f3-8bf5-b49e0f342909\", \"categories\": [0], \"series\": [{\"data\": [0.008237186945423953]}]}, {\"name\": \"root_mean_squared_error\", \"run_id\": \"AutoML_f7485239-1377-41f3-8bf5-b49e0f342909\", \"categories\": [0], \"series\": [{\"data\": [0.03870942754536593]}]}, {\"name\": \"normalized_median_absolute_error\", \"run_id\": \"AutoML_f7485239-1377-41f3-8bf5-b49e0f342909\", \"categories\": [0], \"series\": [{\"data\": [0.0040726563190561504]}]}, {\"name\": \"median_absolute_error\", \"run_id\": \"AutoML_f7485239-1377-41f3-8bf5-b49e0f342909\", \"categories\": [0], \"series\": [{\"data\": [0.026065000441959363]}]}, {\"name\": \"normalized_root_mean_squared_error\", \"run_id\": \"AutoML_f7485239-1377-41f3-8bf5-b49e0f342909\", \"categories\": [0], \"series\": [{\"data\": [0.006048348053963426]}]}, {\"name\": \"mean_absolute_error\", \"run_id\": \"AutoML_f7485239-1377-41f3-8bf5-b49e0f342909\", \"categories\": [0], \"series\": [{\"data\": [0.02983861587087479]}]}], \"run_logs\": \"\\nRun is completed.\", \"graph\": {}, \"widget_settings\": {\"childWidgetDisplay\": \"popup\", \"send_telemetry\": false, \"log_level\": \"INFO\", \"sdk_version\": \"1.19.0\"}, \"loading\": false}"
          },
          "metadata": {}
        }
      ],
      "execution_count": 15,
      "metadata": {
        "collapsed": true,
        "jupyter": {
          "source_hidden": false,
          "outputs_hidden": false
        },
        "nteract": {
          "transient": {
            "deleting": false
          }
        },
        "gather": {
          "logged": 1610847980460
        }
      }
    },
    {
      "cell_type": "code",
      "source": [
        "remote_run.wait_for_completion(show_output=True)"
      ],
      "outputs": [
        {
          "output_type": "stream",
          "name": "stdout",
          "text": [
            "\n",
            "\n",
            "****************************************************************************************************\n",
            "DATA GUARDRAILS: \n",
            "\n",
            "TYPE:         Missing feature values imputation\n",
            "STATUS:       PASSED\n",
            "DESCRIPTION:  No feature missing values were detected in the training data.\n",
            "              Learn more about missing value imputation: https://aka.ms/AutomatedMLFeaturization\n",
            "\n",
            "****************************************************************************************************\n",
            "\n",
            "TYPE:         High cardinality feature detection\n",
            "STATUS:       DONE\n",
            "DESCRIPTION:  High cardinality features were detected in your inputs and handled.\n",
            "              Learn more about high cardinality feature handling: https://aka.ms/AutomatedMLFeaturization\n",
            "DETAILS:      High cardinality features refer to columns that contain a large percentage of unique values.\n",
            "+---------------------------------+---------------------------------+\n",
            "|Column name                      |Column Content Type              |\n",
            "+=================================+=================================+\n",
            "|Nome_Municipio                   |categorical_hash                 |\n",
            "|Nome_Escola                      |text                             |\n",
            "|TAprov2019_2_serie               |categorical_hash                 |\n",
            "+---------------------------------+---------------------------------+\n",
            "\n",
            "****************************************************************************************************\n",
            "\n",
            "****************************************************************************************************\n",
            "ITERATION: The iteration being evaluated.\n",
            "PIPELINE: A summary description of the pipeline being evaluated.\n",
            "DURATION: Time taken for the current iteration.\n",
            "METRIC: The result of computing score on the fitted pipeline.\n",
            "BEST: The best observed score thus far.\n",
            "****************************************************************************************************\n",
            "\n",
            " ITERATION   PIPELINE                                       DURATION      METRIC      BEST\n",
            "         0   MaxAbsScaler LightGBM                          0:05:40       0.9964    0.9964\n",
            "         1   MaxAbsScaler XGBoostRegressor                  0:01:16       0.9967    0.9967\n",
            "         2   SparseNormalizer XGBoostRegressor              0:07:06       0.9583    0.9967\n",
            "         3   MaxAbsScaler RandomForest                      0:05:18       0.9855    0.9967\n",
            "         4   StandardScalerWrapper XGBoostRegressor         0:07:24       0.9970    0.9970\n",
            "         5   MaxAbsScaler ElasticNet                        0:05:54       0.9935    0.9970\n",
            "         6   MaxAbsScaler RandomForest                      0:07:05       0.9741    0.9970\n",
            "         7   StandardScalerWrapper XGBoostRegressor         0:02:02       0.9969    0.9970\n",
            "        10   MaxAbsScaler RandomForest                      0:01:35       0.5440    0.9970\n",
            "        11   MaxAbsScaler RandomForest                      0:00:59       0.4790    0.9970\n",
            "         8   MaxAbsScaler ExtremeRandomTrees                0:03:46       0.9930    0.9970\n",
            "         9   StandardScalerWrapper ElasticNet               0:05:08       0.9894    0.9970\n",
            "        12   StandardScalerWrapper XGBoostRegressor         0:01:03       0.8738    0.9970\n",
            "        13   MaxAbsScaler ExtremeRandomTrees                0:01:23       0.9930    0.9970\n",
            "        14   MaxAbsScaler ExtremeRandomTrees                0:01:02       0.9016    0.9970\n",
            "        15   MaxAbsScaler ExtremeRandomTrees                0:03:21       0.9919    0.9970\n",
            "        16   MaxAbsScaler ElasticNet                        0:02:31       0.9922    0.9970\n",
            "        17   MaxAbsScaler RandomForest                      0:00:50       0.8934    0.9970\n",
            "        18   MaxAbsScaler RandomForest                      0:01:06       0.9613    0.9970\n",
            "        19   SparseNormalizer XGBoostRegressor              0:04:03       0.9702    0.9970\n",
            "        20   StandardScalerWrapper RandomForest             0:01:49       0.9491    0.9970\n",
            "        21   MaxAbsScaler ElasticNet                        0:03:29       0.9927    0.9970\n",
            "        22   MaxAbsScaler LightGBM                          0:00:55       0.9924    0.9970\n",
            "        23   StandardScalerWrapper LightGBM                 0:00:54       0.9862    0.9970\n",
            "        24   StandardScalerWrapper XGBoostRegressor         0:01:13       0.9962    0.9970\n",
            "        25   StandardScalerWrapper XGBoostRegressor         0:04:40       0.9971    0.9971\n",
            "        26   MaxAbsScaler LightGBM                          0:01:03       0.9833    0.9971\n",
            "        27   StandardScalerWrapper LightGBM                 0:00:54       0.9887    0.9971\n",
            "        28   MaxAbsScaler LightGBM                          0:00:48       0.9791    0.9971\n",
            "        29   StandardScalerWrapper XGBoostRegressor         0:01:12          nan    0.9971\n",
            "        30   TruncatedSVDWrapper XGBoostRegressor           0:01:36       0.9700    0.9971\n",
            "        31   MaxAbsScaler RandomForest                      0:04:01          nan    0.9971\n",
            "        32   MaxAbsScaler RandomForest                      0:01:37       0.9575    0.9971\n",
            "        33   MaxAbsScaler SGD                               0:00:53       0.9730    0.9971\n",
            "        34   SparseNormalizer XGBoostRegressor              0:01:09       0.8420    0.9971\n",
            "        35                                                  0:01:28          nan    0.9971\n",
            "        36                                                  0:01:23          nan    0.9971\n",
            "        37    VotingEnsemble                                0:01:49       0.9977    0.9977\n",
            "        38    StackEnsemble                                 0:01:55       0.9977    0.9977\n"
          ]
        },
        {
          "output_type": "execute_result",
          "execution_count": 16,
          "data": {
            "text/plain": "{'runId': 'AutoML_f7485239-1377-41f3-8bf5-b49e0f342909',\n 'target': 'automl-cluster',\n 'status': 'Completed',\n 'startTimeUtc': '2021-01-17T01:03:32.512069Z',\n 'endTimeUtc': '2021-01-17T01:45:58.744123Z',\n 'properties': {'num_iterations': '1000',\n  'training_type': 'TrainFull',\n  'acquisition_function': 'EI',\n  'primary_metric': 'r2_score',\n  'train_split': '0',\n  'acquisition_parameter': '0',\n  'num_cross_validation': '3',\n  'target': 'automl-cluster',\n  'AMLSettingsJsonString': '{\"path\":null,\"name\":\"ideb-regression\",\"subscription_id\":\"a748a023-896b-4719-8f8e-3d1ba62d6e35\",\"resource_group\":\"RG-AZML\",\"workspace_name\":\"AZML\",\"region\":\"eastus\",\"compute_target\":\"automl-cluster\",\"spark_service\":null,\"azure_service\":\"remote\",\"many_models\":false,\"pipeline_fetch_max_batch_size\":1,\"iterations\":1000,\"primary_metric\":\"r2_score\",\"task_type\":\"regression\",\"data_script\":null,\"validation_size\":0.0,\"n_cross_validations\":3,\"y_min\":null,\"y_max\":null,\"num_classes\":null,\"featurization\":\"auto\",\"_ignore_package_version_incompatibilities\":false,\"is_timeseries\":false,\"max_cores_per_iteration\":-1,\"max_concurrent_iterations\":4,\"iteration_timeout_minutes\":null,\"mem_in_mb\":null,\"enforce_time_on_windows\":false,\"experiment_timeout_minutes\":30,\"experiment_exit_score\":null,\"whitelist_models\":null,\"blacklist_algos\":[\"TensorFlowDNN\",\"TensorFlowLinearRegressor\"],\"supported_models\":[\"TensorFlowDNN\",\"KNN\",\"DecisionTree\",\"TensorFlowLinearRegressor\",\"XGBoostRegressor\",\"LightGBM\",\"FastLinearRegressor\",\"RandomForest\",\"OnlineGradientDescentRegressor\",\"GradientBoosting\",\"ElasticNet\",\"ExtremeRandomTrees\",\"LassoLars\",\"SGD\"],\"auto_blacklist\":true,\"blacklist_samples_reached\":false,\"exclude_nan_labels\":true,\"verbosity\":20,\"_debug_log\":\"azureml_automl.log\",\"show_warnings\":false,\"model_explainability\":true,\"service_url\":null,\"sdk_url\":null,\"sdk_packages\":null,\"enable_onnx_compatible_models\":false,\"enable_split_onnx_featurizer_estimator_models\":false,\"vm_type\":\"STANDARD_D2_V2\",\"telemetry_verbosity\":20,\"send_telemetry\":true,\"enable_dnn\":false,\"scenario\":\"SDK-1.13.0\",\"environment_label\":null,\"force_text_dnn\":false,\"enable_feature_sweeping\":true,\"enable_early_stopping\":true,\"early_stopping_n_iters\":10,\"metrics\":null,\"enable_ensembling\":true,\"enable_stack_ensembling\":true,\"ensemble_iterations\":15,\"enable_tf\":false,\"enable_subsampling\":null,\"subsample_seed\":null,\"enable_nimbusml\":false,\"enable_streaming\":false,\"force_streaming\":false,\"track_child_runs\":true,\"allowed_private_models\":[],\"label_column_name\":\"IDEB_2019\",\"weight_column_name\":null,\"cv_split_column_names\":null,\"enable_local_managed\":false,\"_local_managed_run_id\":null,\"cost_mode\":1,\"lag_length\":0,\"metric_operation\":\"maximize\",\"preprocess\":true}',\n  'DataPrepJsonString': '{\\\\\"training_data\\\\\": \\\\\"{\\\\\\\\\\\\\"blocks\\\\\\\\\\\\\": [{\\\\\\\\\\\\\"id\\\\\\\\\\\\\": \\\\\\\\\\\\\"cabce019-5407-4eab-b738-73557caf2ed5\\\\\\\\\\\\\", \\\\\\\\\\\\\"type\\\\\\\\\\\\\": \\\\\\\\\\\\\"Microsoft.DPrep.GetDatastoreFilesBlock\\\\\\\\\\\\\", \\\\\\\\\\\\\"arguments\\\\\\\\\\\\\": {\\\\\\\\\\\\\"datastores\\\\\\\\\\\\\": [{\\\\\\\\\\\\\"datastoreName\\\\\\\\\\\\\": \\\\\\\\\\\\\"workspaceblobstore\\\\\\\\\\\\\", \\\\\\\\\\\\\"path\\\\\\\\\\\\\": \\\\\\\\\\\\\"UI/01-13-2021_025150_UTC/DATASET_IDEB_ensino_medio_escolas_2019_clean.txt\\\\\\\\\\\\\", \\\\\\\\\\\\\"resourceGroup\\\\\\\\\\\\\": \\\\\\\\\\\\\"RG-AZML\\\\\\\\\\\\\", \\\\\\\\\\\\\"subscription\\\\\\\\\\\\\": \\\\\\\\\\\\\"a748a023-896b-4719-8f8e-3d1ba62d6e35\\\\\\\\\\\\\", \\\\\\\\\\\\\"workspaceName\\\\\\\\\\\\\": \\\\\\\\\\\\\"AZML\\\\\\\\\\\\\"}]}, \\\\\\\\\\\\\"localData\\\\\\\\\\\\\": {}, \\\\\\\\\\\\\"isEnabled\\\\\\\\\\\\\": true, \\\\\\\\\\\\\"name\\\\\\\\\\\\\": null, \\\\\\\\\\\\\"annotation\\\\\\\\\\\\\": null}, {\\\\\\\\\\\\\"id\\\\\\\\\\\\\": \\\\\\\\\\\\\"6e0b84a8-15de-4865-b1d7-ef8fde946c85\\\\\\\\\\\\\", \\\\\\\\\\\\\"type\\\\\\\\\\\\\": \\\\\\\\\\\\\"Microsoft.DPrep.ParseDelimitedBlock\\\\\\\\\\\\\", \\\\\\\\\\\\\"arguments\\\\\\\\\\\\\": {\\\\\\\\\\\\\"columnHeadersMode\\\\\\\\\\\\\": 1, \\\\\\\\\\\\\"fileEncoding\\\\\\\\\\\\\": 1, \\\\\\\\\\\\\"handleQuotedLineBreaks\\\\\\\\\\\\\": false, \\\\\\\\\\\\\"preview\\\\\\\\\\\\\": false, \\\\\\\\\\\\\"separator\\\\\\\\\\\\\": \\\\\\\\\\\\\"\\\\\\\\\\\\\\\\t\\\\\\\\\\\\\", \\\\\\\\\\\\\"skipRows\\\\\\\\\\\\\": 0, \\\\\\\\\\\\\"skipRowsMode\\\\\\\\\\\\\": 0}, \\\\\\\\\\\\\"localData\\\\\\\\\\\\\": {}, \\\\\\\\\\\\\"isEnabled\\\\\\\\\\\\\": true, \\\\\\\\\\\\\"name\\\\\\\\\\\\\": null, \\\\\\\\\\\\\"annotation\\\\\\\\\\\\\": null}, {\\\\\\\\\\\\\"id\\\\\\\\\\\\\": \\\\\\\\\\\\\"3d571fa6-7af4-4805-8e63-46a777dd0af4\\\\\\\\\\\\\", \\\\\\\\\\\\\"type\\\\\\\\\\\\\": \\\\\\\\\\\\\"Microsoft.DPrep.DropColumnsBlock\\\\\\\\\\\\\", \\\\\\\\\\\\\"arguments\\\\\\\\\\\\\": {\\\\\\\\\\\\\"columns\\\\\\\\\\\\\": {\\\\\\\\\\\\\"type\\\\\\\\\\\\\": 0, \\\\\\\\\\\\\"details\\\\\\\\\\\\\": {\\\\\\\\\\\\\"selectedColumns\\\\\\\\\\\\\": [\\\\\\\\\\\\\"Path\\\\\\\\\\\\\"]}}}, \\\\\\\\\\\\\"localData\\\\\\\\\\\\\": {}, \\\\\\\\\\\\\"isEnabled\\\\\\\\\\\\\": true, \\\\\\\\\\\\\"name\\\\\\\\\\\\\": null, \\\\\\\\\\\\\"annotation\\\\\\\\\\\\\": null}, {\\\\\\\\\\\\\"id\\\\\\\\\\\\\": \\\\\\\\\\\\\"85222e7b-9dde-4c8a-851c-fa8690890539\\\\\\\\\\\\\", \\\\\\\\\\\\\"type\\\\\\\\\\\\\": \\\\\\\\\\\\\"Microsoft.DPrep.SetColumnTypesBlock\\\\\\\\\\\\\", \\\\\\\\\\\\\"arguments\\\\\\\\\\\\\": {\\\\\\\\\\\\\"columnConversion\\\\\\\\\\\\\": [{\\\\\\\\\\\\\"column\\\\\\\\\\\\\": {\\\\\\\\\\\\\"type\\\\\\\\\\\\\": 2, \\\\\\\\\\\\\"details\\\\\\\\\\\\\": {\\\\\\\\\\\\\"selectedColumn\\\\\\\\\\\\\": \\\\\\\\\\\\\"Path\\\\\\\\\\\\\"}}, \\\\\\\\\\\\\"typeProperty\\\\\\\\\\\\\": 0}, {\\\\\\\\\\\\\"column\\\\\\\\\\\\\": {\\\\\\\\\\\\\"type\\\\\\\\\\\\\": 2, \\\\\\\\\\\\\"details\\\\\\\\\\\\\": {\\\\\\\\\\\\\"selectedColumn\\\\\\\\\\\\\": \\\\\\\\\\\\\"Sigla_UF\\\\\\\\\\\\\"}}, \\\\\\\\\\\\\"typeProperty\\\\\\\\\\\\\": 0}, {\\\\\\\\\\\\\"column\\\\\\\\\\\\\": {\\\\\\\\\\\\\"type\\\\\\\\\\\\\": 2, \\\\\\\\\\\\\"details\\\\\\\\\\\\\": {\\\\\\\\\\\\\"selectedColumn\\\\\\\\\\\\\": \\\\\\\\\\\\\"Cod_Municipio\\\\\\\\\\\\\"}}, \\\\\\\\\\\\\"typeProperty\\\\\\\\\\\\\": 2}, {\\\\\\\\\\\\\"column\\\\\\\\\\\\\": {\\\\\\\\\\\\\"type\\\\\\\\\\\\\": 2, \\\\\\\\\\\\\"details\\\\\\\\\\\\\": {\\\\\\\\\\\\\"selectedColumn\\\\\\\\\\\\\": \\\\\\\\\\\\\"Nome_Municipio\\\\\\\\\\\\\"}}, \\\\\\\\\\\\\"typeProperty\\\\\\\\\\\\\": 0}, {\\\\\\\\\\\\\"column\\\\\\\\\\\\\": {\\\\\\\\\\\\\"type\\\\\\\\\\\\\": 2, \\\\\\\\\\\\\"details\\\\\\\\\\\\\": {\\\\\\\\\\\\\"selectedColumn\\\\\\\\\\\\\": \\\\\\\\\\\\\"Cod_Escola\\\\\\\\\\\\\"}}, \\\\\\\\\\\\\"typeProperty\\\\\\\\\\\\\": 2}, {\\\\\\\\\\\\\"column\\\\\\\\\\\\\": {\\\\\\\\\\\\\"type\\\\\\\\\\\\\": 2, \\\\\\\\\\\\\"details\\\\\\\\\\\\\": {\\\\\\\\\\\\\"selectedColumn\\\\\\\\\\\\\": \\\\\\\\\\\\\"Nome_Escola\\\\\\\\\\\\\"}}, \\\\\\\\\\\\\"typeProperty\\\\\\\\\\\\\": 0}, {\\\\\\\\\\\\\"column\\\\\\\\\\\\\": {\\\\\\\\\\\\\"type\\\\\\\\\\\\\": 2, \\\\\\\\\\\\\"details\\\\\\\\\\\\\": {\\\\\\\\\\\\\"selectedColumn\\\\\\\\\\\\\": \\\\\\\\\\\\\"Rede\\\\\\\\\\\\\"}}, \\\\\\\\\\\\\"typeProperty\\\\\\\\\\\\\": 0}, {\\\\\\\\\\\\\"column\\\\\\\\\\\\\": {\\\\\\\\\\\\\"type\\\\\\\\\\\\\": 2, \\\\\\\\\\\\\"details\\\\\\\\\\\\\": {\\\\\\\\\\\\\"selectedColumn\\\\\\\\\\\\\": \\\\\\\\\\\\\"TAprov2019_Total\\\\\\\\\\\\\"}}, \\\\\\\\\\\\\"typeProperty\\\\\\\\\\\\\": 3}, {\\\\\\\\\\\\\"column\\\\\\\\\\\\\": {\\\\\\\\\\\\\"type\\\\\\\\\\\\\": 2, \\\\\\\\\\\\\"details\\\\\\\\\\\\\": {\\\\\\\\\\\\\"selectedColumn\\\\\\\\\\\\\": \\\\\\\\\\\\\"TAprov2019_1_serie\\\\\\\\\\\\\"}}, \\\\\\\\\\\\\"typeProperty\\\\\\\\\\\\\": 3}, {\\\\\\\\\\\\\"column\\\\\\\\\\\\\": {\\\\\\\\\\\\\"type\\\\\\\\\\\\\": 2, \\\\\\\\\\\\\"details\\\\\\\\\\\\\": {\\\\\\\\\\\\\"selectedColumn\\\\\\\\\\\\\": \\\\\\\\\\\\\"TAprov2019_2_serie\\\\\\\\\\\\\"}}, \\\\\\\\\\\\\"typeProperty\\\\\\\\\\\\\": 0}, {\\\\\\\\\\\\\"column\\\\\\\\\\\\\": {\\\\\\\\\\\\\"type\\\\\\\\\\\\\": 2, \\\\\\\\\\\\\"details\\\\\\\\\\\\\": {\\\\\\\\\\\\\"selectedColumn\\\\\\\\\\\\\": \\\\\\\\\\\\\"TAprov2019_3_serie\\\\\\\\\\\\\"}}, \\\\\\\\\\\\\"typeProperty\\\\\\\\\\\\\": 3}, {\\\\\\\\\\\\\"column\\\\\\\\\\\\\": {\\\\\\\\\\\\\"type\\\\\\\\\\\\\": 2, \\\\\\\\\\\\\"details\\\\\\\\\\\\\": {\\\\\\\\\\\\\"selectedColumn\\\\\\\\\\\\\": \\\\\\\\\\\\\"TAprov2019_4_serie\\\\\\\\\\\\\"}}, \\\\\\\\\\\\\"typeProperty\\\\\\\\\\\\\": 3}, {\\\\\\\\\\\\\"column\\\\\\\\\\\\\": {\\\\\\\\\\\\\"type\\\\\\\\\\\\\": 2, \\\\\\\\\\\\\"details\\\\\\\\\\\\\": {\\\\\\\\\\\\\"selectedColumn\\\\\\\\\\\\\": \\\\\\\\\\\\\"Indicador_Rendimento\\\\\\\\\\\\\"}}, \\\\\\\\\\\\\"typeProperty\\\\\\\\\\\\\": 3}, {\\\\\\\\\\\\\"column\\\\\\\\\\\\\": {\\\\\\\\\\\\\"type\\\\\\\\\\\\\": 2, \\\\\\\\\\\\\"details\\\\\\\\\\\\\": {\\\\\\\\\\\\\"selectedColumn\\\\\\\\\\\\\": \\\\\\\\\\\\\"SAEB2019_Matematica\\\\\\\\\\\\\"}}, \\\\\\\\\\\\\"typeProperty\\\\\\\\\\\\\": 3}, {\\\\\\\\\\\\\"column\\\\\\\\\\\\\": {\\\\\\\\\\\\\"type\\\\\\\\\\\\\": 2, \\\\\\\\\\\\\"details\\\\\\\\\\\\\": {\\\\\\\\\\\\\"selectedColumn\\\\\\\\\\\\\": \\\\\\\\\\\\\"SAEB2019_Lingua Portuguesa\\\\\\\\\\\\\"}}, \\\\\\\\\\\\\"typeProperty\\\\\\\\\\\\\": 3}, {\\\\\\\\\\\\\"column\\\\\\\\\\\\\": {\\\\\\\\\\\\\"type\\\\\\\\\\\\\": 2, \\\\\\\\\\\\\"details\\\\\\\\\\\\\": {\\\\\\\\\\\\\"selectedColumn\\\\\\\\\\\\\": \\\\\\\\\\\\\"SAEB2019_Nota Media Padronizada\\\\\\\\\\\\\"}}, \\\\\\\\\\\\\"typeProperty\\\\\\\\\\\\\": 3}, {\\\\\\\\\\\\\"column\\\\\\\\\\\\\": {\\\\\\\\\\\\\"type\\\\\\\\\\\\\": 2, \\\\\\\\\\\\\"details\\\\\\\\\\\\\": {\\\\\\\\\\\\\"selectedColumn\\\\\\\\\\\\\": \\\\\\\\\\\\\"IDEB_2019\\\\\\\\\\\\\"}}, \\\\\\\\\\\\\"typeProperty\\\\\\\\\\\\\": 3}]}, \\\\\\\\\\\\\"localData\\\\\\\\\\\\\": {}, \\\\\\\\\\\\\"isEnabled\\\\\\\\\\\\\": true, \\\\\\\\\\\\\"name\\\\\\\\\\\\\": null, \\\\\\\\\\\\\"annotation\\\\\\\\\\\\\": null}], \\\\\\\\\\\\\"inspectors\\\\\\\\\\\\\": [], \\\\\\\\\\\\\"meta\\\\\\\\\\\\\": {\\\\\\\\\\\\\"savedDatasetId\\\\\\\\\\\\\": \\\\\\\\\\\\\"0a953939-d1dc-454c-862b-866daa44cd28\\\\\\\\\\\\\", \\\\\\\\\\\\\"datasetType\\\\\\\\\\\\\": \\\\\\\\\\\\\"tabular\\\\\\\\\\\\\", \\\\\\\\\\\\\"subscriptionId\\\\\\\\\\\\\": \\\\\\\\\\\\\"a748a023-896b-4719-8f8e-3d1ba62d6e35\\\\\\\\\\\\\", \\\\\\\\\\\\\"workspaceId\\\\\\\\\\\\\": \\\\\\\\\\\\\"4cc8fc67-9b29-4fc9-affe-0aea29e08ecb\\\\\\\\\\\\\", \\\\\\\\\\\\\"workspaceLocation\\\\\\\\\\\\\": \\\\\\\\\\\\\"eastus\\\\\\\\\\\\\"}}\\\\\", \\\\\"activities\\\\\": 0}',\n  'EnableSubsampling': None,\n  'runTemplate': 'AutoML',\n  'azureml.runsource': 'automl',\n  'display_task_type': 'regression',\n  'dependencies_versions': '{\"azureml-widgets\": \"1.19.0\", \"azureml-train\": \"1.19.0\", \"azureml-train-restclients-hyperdrive\": \"1.19.0\", \"azureml-train-core\": \"1.19.0\", \"azureml-train-automl\": \"1.19.0\", \"azureml-train-automl-runtime\": \"1.19.0\", \"azureml-train-automl-client\": \"1.19.0\", \"azureml-tensorboard\": \"1.19.0\", \"azureml-telemetry\": \"1.19.0\", \"azureml-sdk\": \"1.19.0\", \"azureml-samples\": \"0+unknown\", \"azureml-pipeline\": \"1.19.0\", \"azureml-pipeline-steps\": \"1.19.0\", \"azureml-pipeline-core\": \"1.19.0\", \"azureml-opendatasets\": \"1.19.0\", \"azureml-model-management-sdk\": \"1.0.1b6.post1\", \"azureml-mlflow\": \"1.19.0\", \"azureml-interpret\": \"1.19.0\", \"azureml-explain-model\": \"1.19.0\", \"azureml-defaults\": \"1.19.0\", \"azureml-dataset-runtime\": \"1.19.0\", \"azureml-dataprep\": \"2.6.1\", \"azureml-dataprep-rslex\": \"1.4.0\", \"azureml-dataprep-native\": \"26.0.0\", \"azureml-datadrift\": \"1.19.0\", \"azureml-core\": \"1.19.0\", \"azureml-contrib-services\": \"1.19.0\", \"azureml-contrib-server\": \"1.19.0\", \"azureml-contrib-reinforcementlearning\": \"1.19.0\", \"azureml-contrib-pipeline-steps\": \"1.19.0\", \"azureml-contrib-notebook\": \"1.19.0\", \"azureml-contrib-interpret\": \"1.19.0\", \"azureml-contrib-gbdt\": \"1.19.0\", \"azureml-contrib-fairness\": \"1.19.0\", \"azureml-contrib-dataset\": \"1.19.0\", \"azureml-cli-common\": \"1.19.0\", \"azureml-automl-runtime\": \"1.19.0\", \"azureml-automl-core\": \"1.19.0\", \"azureml-accel-models\": \"1.19.0\"}',\n  '_aml_system_scenario_identification': 'Remote.Parent',\n  'ClientType': 'SDK',\n  'environment_cpu_name': 'AzureML-AutoML',\n  'environment_cpu_label': 'prod',\n  'environment_gpu_name': 'AzureML-AutoML-GPU',\n  'environment_gpu_label': 'prod',\n  'root_attribution': 'automl',\n  'attribution': 'AutoML',\n  'Orchestrator': 'AutoML',\n  'CancelUri': 'https://eastus.experiments.azureml.net/jasmine/v1.0/subscriptions/a748a023-896b-4719-8f8e-3d1ba62d6e35/resourceGroups/RG-AZML/providers/Microsoft.MachineLearningServices/workspaces/AZML/experimentids/27f5302f-e46e-4e3b-a3d0-307ddf09cfaa/cancel/AutoML_f7485239-1377-41f3-8bf5-b49e0f342909',\n  'ClientSdkVersion': '1.20.0',\n  'snapshotId': '00000000-0000-0000-0000-000000000000',\n  'SetupRunId': 'AutoML_f7485239-1377-41f3-8bf5-b49e0f342909_setup',\n  'SetupRunContainerId': 'dcid.AutoML_f7485239-1377-41f3-8bf5-b49e0f342909_setup',\n  'FeaturizationRunJsonPath': 'featurizer_container.json',\n  'FeaturizationRunId': 'AutoML_f7485239-1377-41f3-8bf5-b49e0f342909_featurize',\n  'ProblemInfoJsonString': '{\"dataset_num_categorical\": 0, \"is_sparse\": true, \"subsampling\": false, \"dataset_classes\": 62, \"dataset_features\": 39552, \"dataset_samples\": 12079, \"single_frequency_class_detected\": false}',\n  'ModelExplainRunId': 'AutoML_f7485239-1377-41f3-8bf5-b49e0f342909_ModelExplain'},\n 'inputDatasets': [{'dataset': {'id': '0a953939-d1dc-454c-862b-866daa44cd28'}, 'consumptionDetails': {'type': 'RunInput', 'inputName': 'training_data', 'mechanism': 'Direct'}}],\n 'outputDatasets': [],\n 'logFiles': {}}"
          },
          "metadata": {}
        }
      ],
      "execution_count": 16,
      "metadata": {
        "collapsed": true,
        "jupyter": {
          "source_hidden": false,
          "outputs_hidden": false
        },
        "nteract": {
          "transient": {
            "deleting": false
          }
        },
        "gather": {
          "logged": 1610848306029
        }
      }
    },
    {
      "cell_type": "markdown",
      "source": [
        "## Best Model"
      ],
      "metadata": {
        "nteract": {
          "transient": {
            "deleting": false
          }
        }
      }
    },
    {
      "cell_type": "code",
      "source": [
        "best_run, fitted_model = remote_run.get_output()\r\n",
        "print(best_run)\r\n",
        "print(fitted_model)"
      ],
      "outputs": [
        {
          "output_type": "stream",
          "name": "stderr",
          "text": [
            "WARNING:root:The version of the SDK does not match the version the model was trained on.\n",
            "WARNING:root:The consistency in the result may not be guaranteed.\n",
            "WARNING:root:Package:azureml-automl-core, training version:1.20.0, current version:1.19.0\n",
            "Package:azureml-automl-runtime, training version:1.20.0, current version:1.19.0\n",
            "Package:azureml-core, training version:1.20.0, current version:1.19.0\n",
            "Package:azureml-dataprep, training version:2.7.2, current version:2.6.1\n",
            "Package:azureml-dataprep-native, training version:27.0.0, current version:26.0.0\n",
            "Package:azureml-dataprep-rslex, training version:1.5.0, current version:1.4.0\n",
            "Package:azureml-dataset-runtime, training version:1.20.0, current version:1.19.0\n",
            "Package:azureml-defaults, training version:1.20.0, current version:1.19.0\n",
            "Package:azureml-interpret, training version:1.20.0, current version:1.19.0\n",
            "Package:azureml-pipeline-core, training version:1.20.0, current version:1.19.0\n",
            "Package:azureml-telemetry, training version:1.20.0, current version:1.19.0\n",
            "Package:azureml-train-automl-client, training version:1.20.0, current version:1.19.0\n",
            "Package:azureml-train-automl-runtime, training version:1.20.0, current version:1.19.0\n",
            "WARNING:root:Please ensure the version of your local conda dependencies match the version on which your model was trained in order to properly retrieve your model.\n"
          ]
        },
        {
          "output_type": "error",
          "ename": "ModuleNotFoundError",
          "evalue": "No module named 'azureml.automl.runtime._ml_engine.featurizer_suggestion'",
          "traceback": [
            "\u001b[0;31m---------------------------------------------------------------------------\u001b[0m",
            "\u001b[0;31mModuleNotFoundError\u001b[0m                       Traceback (most recent call last)",
            "\u001b[0;32m<ipython-input-17-0c1d59c9eaaa>\u001b[0m in \u001b[0;36m<module>\u001b[0;34m\u001b[0m\n\u001b[0;32m----> 1\u001b[0;31m \u001b[0mbest_run\u001b[0m\u001b[0;34m,\u001b[0m \u001b[0mfitted_model\u001b[0m \u001b[0;34m=\u001b[0m \u001b[0mremote_run\u001b[0m\u001b[0;34m.\u001b[0m\u001b[0mget_output\u001b[0m\u001b[0;34m(\u001b[0m\u001b[0;34m)\u001b[0m\u001b[0;34m\u001b[0m\u001b[0;34m\u001b[0m\u001b[0m\n\u001b[0m\u001b[1;32m      2\u001b[0m \u001b[0mprint\u001b[0m\u001b[0;34m(\u001b[0m\u001b[0mbest_run\u001b[0m\u001b[0;34m)\u001b[0m\u001b[0;34m\u001b[0m\u001b[0;34m\u001b[0m\u001b[0m\n\u001b[1;32m      3\u001b[0m \u001b[0mprint\u001b[0m\u001b[0;34m(\u001b[0m\u001b[0mfitted_model\u001b[0m\u001b[0;34m)\u001b[0m\u001b[0;34m\u001b[0m\u001b[0;34m\u001b[0m\u001b[0m\n",
            "\u001b[0;32m/anaconda/envs/azureml_py36/lib/python3.6/site-packages/azureml/train/automl/run.py\u001b[0m in \u001b[0;36mget_output\u001b[0;34m(self, iteration, metric, return_onnx_model, return_split_onnx_model, **kwargs)\u001b[0m\n\u001b[1;32m    692\u001b[0m                     \u001b[0mfitted_model\u001b[0m \u001b[0;34m=\u001b[0m \u001b[0m_download_automl_onnx_model\u001b[0m\u001b[0;34m(\u001b[0m\u001b[0mcurr_run\u001b[0m\u001b[0;34m,\u001b[0m \u001b[0mmodel_name\u001b[0m\u001b[0;34m)\u001b[0m\u001b[0;34m\u001b[0m\u001b[0;34m\u001b[0m\u001b[0m\n\u001b[1;32m    693\u001b[0m                 \u001b[0;32melse\u001b[0m\u001b[0;34m:\u001b[0m\u001b[0;34m\u001b[0m\u001b[0;34m\u001b[0m\u001b[0m\n\u001b[0;32m--> 694\u001b[0;31m                     \u001b[0mfitted_model\u001b[0m \u001b[0;34m=\u001b[0m \u001b[0m_download_automl_model\u001b[0m\u001b[0;34m(\u001b[0m\u001b[0mcurr_run\u001b[0m\u001b[0;34m,\u001b[0m \u001b[0mmodel_name\u001b[0m\u001b[0;34m)\u001b[0m\u001b[0;34m\u001b[0m\u001b[0;34m\u001b[0m\u001b[0m\n\u001b[0m\u001b[1;32m    695\u001b[0m \u001b[0;34m\u001b[0m\u001b[0m\n\u001b[1;32m    696\u001b[0m             \u001b[0;32mreturn\u001b[0m \u001b[0mcurr_run\u001b[0m\u001b[0;34m,\u001b[0m \u001b[0mfitted_model\u001b[0m\u001b[0;34m\u001b[0m\u001b[0;34m\u001b[0m\u001b[0m\n",
            "\u001b[0;32m/anaconda/envs/azureml_py36/lib/python3.6/site-packages/azureml/train/automl/_model_download_utilities.py\u001b[0m in \u001b[0;36m_download_automl_model\u001b[0;34m(run, model_name)\u001b[0m\n\u001b[1;32m     85\u001b[0m             \u001b[0;31m# Pass through any exceptions from loading the model.\u001b[0m\u001b[0;34m\u001b[0m\u001b[0;34m\u001b[0m\u001b[0;34m\u001b[0m\u001b[0m\n\u001b[1;32m     86\u001b[0m             \u001b[0;31m# Try is used here to ensure we can cleanup the side effect of model downlad.\u001b[0m\u001b[0;34m\u001b[0m\u001b[0;34m\u001b[0m\u001b[0;34m\u001b[0m\u001b[0m\n\u001b[0;32m---> 87\u001b[0;31m             \u001b[0mmodel\u001b[0m \u001b[0;34m=\u001b[0m \u001b[0m_load_automl_model\u001b[0m\u001b[0;34m(\u001b[0m\u001b[0mmodel_path\u001b[0m\u001b[0;34m)\u001b[0m\u001b[0;34m\u001b[0m\u001b[0;34m\u001b[0m\u001b[0m\n\u001b[0m\u001b[1;32m     88\u001b[0m             \u001b[0;32mif\u001b[0m \u001b[0mmodel\u001b[0m \u001b[0;32mis\u001b[0m \u001b[0;32mNone\u001b[0m\u001b[0;34m:\u001b[0m\u001b[0;34m\u001b[0m\u001b[0;34m\u001b[0m\u001b[0m\n\u001b[1;32m     89\u001b[0m                 \u001b[0;31m# If we can retrieve the automl runtime version, we do so we can inform the user what to install.\u001b[0m\u001b[0;34m\u001b[0m\u001b[0;34m\u001b[0m\u001b[0;34m\u001b[0m\u001b[0m\n",
            "\u001b[0;32m/anaconda/envs/azureml_py36/lib/python3.6/site-packages/azureml/train/automl/_model_download_utilities.py\u001b[0m in \u001b[0;36m_load_automl_model\u001b[0;34m(model_path)\u001b[0m\n\u001b[1;32m    151\u001b[0m         \u001b[0;32mimport\u001b[0m \u001b[0mazureml\u001b[0m\u001b[0;34m.\u001b[0m\u001b[0mtrain\u001b[0m\u001b[0;34m.\u001b[0m\u001b[0mautoml\u001b[0m\u001b[0;34m.\u001b[0m\u001b[0mruntime\u001b[0m\u001b[0;34m\u001b[0m\u001b[0;34m\u001b[0m\u001b[0m\n\u001b[1;32m    152\u001b[0m         \u001b[0;32mwith\u001b[0m \u001b[0mopen\u001b[0m\u001b[0;34m(\u001b[0m\u001b[0mmodel_path\u001b[0m\u001b[0;34m,\u001b[0m \u001b[0;34m\"rb\"\u001b[0m\u001b[0;34m)\u001b[0m \u001b[0;32mas\u001b[0m \u001b[0mmodel_file\u001b[0m\u001b[0;34m:\u001b[0m\u001b[0;34m\u001b[0m\u001b[0;34m\u001b[0m\u001b[0m\n\u001b[0;32m--> 153\u001b[0;31m             \u001b[0mfitted_model\u001b[0m \u001b[0;34m=\u001b[0m \u001b[0mpickle\u001b[0m\u001b[0;34m.\u001b[0m\u001b[0mload\u001b[0m\u001b[0;34m(\u001b[0m\u001b[0mmodel_file\u001b[0m\u001b[0;34m)\u001b[0m  \u001b[0;31m# type: Optional[Any]\u001b[0m\u001b[0;34m\u001b[0m\u001b[0;34m\u001b[0m\u001b[0m\n\u001b[0m\u001b[1;32m    154\u001b[0m             \u001b[0;32mreturn\u001b[0m \u001b[0mfitted_model\u001b[0m\u001b[0;34m\u001b[0m\u001b[0;34m\u001b[0m\u001b[0m\n\u001b[1;32m    155\u001b[0m     \u001b[0;32mexcept\u001b[0m \u001b[0mImportError\u001b[0m \u001b[0;32mas\u001b[0m \u001b[0me\u001b[0m\u001b[0;34m:\u001b[0m\u001b[0;34m\u001b[0m\u001b[0;34m\u001b[0m\u001b[0m\n",
            "\u001b[0;31mModuleNotFoundError\u001b[0m: No module named 'azureml.automl.runtime._ml_engine.featurizer_suggestion'"
          ]
        }
      ],
      "execution_count": 17,
      "metadata": {
        "collapsed": true,
        "jupyter": {
          "source_hidden": false,
          "outputs_hidden": false
        },
        "nteract": {
          "transient": {
            "deleting": false
          }
        },
        "gather": {
          "logged": 1610765670311
        }
      }
    },
    {
      "cell_type": "markdown",
      "source": [
        "## Metric in best model"
      ],
      "metadata": {
        "nteract": {
          "transient": {
            "deleting": false
          }
        }
      }
    },
    {
      "cell_type": "code",
      "source": [
        "best_run_metrics = best_run.get_metrics()\r\n",
        "best_run_metrics"
      ],
      "outputs": [
        {
          "output_type": "execute_result",
          "execution_count": 34,
          "data": {
            "text/plain": "{'mean_absolute_error': 0.029838615870874784,\n 'mean_absolute_percentage_error': 0.754437290347608,\n 'explained_variance': 0.9976823543660368,\n 'spearman_correlation': 0.9988073668198089,\n 'normalized_mean_absolute_error': 0.004662283729824184,\n 'root_mean_squared_log_error': 0.008237186945423953,\n 'r2_score': 0.9976804216176918,\n 'normalized_root_mean_squared_error': 0.006048348053963425,\n 'normalized_median_absolute_error': 0.0040726563190562086,\n 'normalized_root_mean_squared_log_error': 0.006191446833612886,\n 'root_mean_squared_error': 0.03870942754536592,\n 'median_absolute_error': 0.026065000441959734,\n 'residuals': 'aml://artifactId/ExperimentRun/dcid.AutoML_ca6e0e8b-0901-4d4f-b9aa-98e07d376f3a_38/residuals',\n 'predicted_true': 'aml://artifactId/ExperimentRun/dcid.AutoML_ca6e0e8b-0901-4d4f-b9aa-98e07d376f3a_38/predicted_true'}"
          },
          "metadata": {}
        }
      ],
      "execution_count": 34,
      "metadata": {
        "collapsed": true,
        "jupyter": {
          "source_hidden": false,
          "outputs_hidden": false
        },
        "nteract": {
          "transient": {
            "deleting": false
          }
        },
        "gather": {
          "logged": 1610765681831
        }
      }
    },
    {
      "cell_type": "markdown",
      "source": [
        "## Save the best model"
      ],
      "metadata": {
        "nteract": {
          "transient": {
            "deleting": false
          }
        }
      }
    },
    {
      "cell_type": "code",
      "source": [
        "env = best_run.get_environment()\r\n",
        "best_run.download_file('outputs/model.pkl', './outputs/automl_ideb.pkl')\r\n",
        "best_run.download_file('outputs/scoring_file_v_1_0_0.py', './outputs/score.py')\r\n",
        "best_run.download_file('automl_driver.py', './outputs/automl_driver.py')\r\n",
        "\r\n",
        "import joblib  \r\n",
        "joblib.dump(fitted_model, \"./outputs/model.pkl\")"
      ],
      "outputs": [
        {
          "output_type": "execute_result",
          "execution_count": 35,
          "data": {
            "text/plain": "['./outputs/model.pkl']"
          },
          "metadata": {}
        }
      ],
      "execution_count": 35,
      "metadata": {
        "collapsed": true,
        "jupyter": {
          "source_hidden": false,
          "outputs_hidden": false
        },
        "nteract": {
          "transient": {
            "deleting": false
          }
        },
        "gather": {
          "logged": 1610765692711
        }
      }
    },
    {
      "cell_type": "code",
      "source": [
        "os.listdir(os.curdir), os.getcwd()"
      ],
      "outputs": [
        {
          "output_type": "execute_result",
          "execution_count": 36,
          "data": {
            "text/plain": "(['.azureml',\n  '.config',\n  '.ipynb_aml_checkpoints',\n  '.ipynb_checkpoints',\n  'automl.ipynb',\n  'automl.ipynb.amltemp',\n  'automl.log',\n  'automl2.ipynb',\n  'automl2.ipynb.amltemp',\n  'automl3.ipynb',\n  'automl3.ipynb.amltemp',\n  'automl_errors.log',\n  'azureml_automl.log',\n  'conda_dependencies.yml',\n  'config.json',\n  'hyperparameter_tuning.ipynb',\n  'hyperparameter_tuning.ipynb.amltemp',\n  'outputs',\n  'score.py.amltemp',\n  'train.py',\n  'train.py.amltemp',\n  'train_explainer.py.amltemp'],\n '/mnt/batch/tasks/shared/LS_root/mounts/clusters/compute-d2-v2/code/Users/anderson12')"
          },
          "metadata": {}
        }
      ],
      "execution_count": 36,
      "metadata": {
        "collapsed": true,
        "jupyter": {
          "source_hidden": false,
          "outputs_hidden": false
        },
        "nteract": {
          "transient": {
            "deleting": false
          }
        },
        "gather": {
          "logged": 1610765699704
        }
      }
    },
    {
      "cell_type": "markdown",
      "source": [
        "## Model Deployment"
      ],
      "metadata": {
        "nteract": {
          "transient": {
            "deleting": false
          }
        }
      }
    },
    {
      "cell_type": "code",
      "source": [
        "model=best_run.register_model(\r\n",
        "                        model_name = 'best_model',\r\n",
        "                        model_path = './outputs/',\r\n",
        "                        description = \"Best model trained with AutoML\")\r\n",
        "model"
      ],
      "outputs": [
        {
          "output_type": "execute_result",
          "execution_count": 37,
          "data": {
            "text/plain": "Model(workspace=Workspace.create(name='AZML', subscription_id='a748a023-896b-4719-8f8e-3d1ba62d6e35', resource_group='RG-AZML'), name=best_model, id=best_model:18, version=18, tags={}, properties={})"
          },
          "metadata": {}
        }
      ],
      "execution_count": 37,
      "metadata": {
        "collapsed": true,
        "jupyter": {
          "source_hidden": false,
          "outputs_hidden": false
        },
        "nteract": {
          "transient": {
            "deleting": false
          }
        },
        "gather": {
          "logged": 1610765706738
        }
      }
    },
    {
      "cell_type": "code",
      "source": [
        "from azureml.core.model import InferenceConfig\r\n",
        "from azureml.core.webservice import AciWebservice\r\n",
        "from azureml.core.webservice import Webservice\r\n",
        "from azureml.core.model import Model\r\n",
        "from azureml.core.environment import Environment\r\n",
        "\r\n",
        "aci_config = AciWebservice.deploy_configuration(cpu_cores=1, memory_gb=1)\r\n",
        "inference_config = InferenceConfig(entry_script='./outputs/score.py')\r\n",
        "\r\n",
        "service = model.deploy(\r\n",
        "    workspace=ws,\r\n",
        "    name=\"service-ideb\",\r\n",
        "    models=[model],\r\n",
        "    inference_config=inference_config,\r\n",
        "    deployment_config=aci_config,\r\n",
        "    overwrite=True\r\n",
        ")\r\n",
        "service.wait_for_deployment(show_output=True)\r\n",
        "print(service.state)"
      ],
      "outputs": [
        {
          "output_type": "stream",
          "name": "stdout",
          "text": [
            "Tips: You can try get_logs(): https://aka.ms/debugimage#dockerlog or local deployment: https://aka.ms/debugimage#debug-locally to debug if deployment takes longer than 10 minutes.\n",
            "Running...................................................."
          ]
        }
      ],
      "execution_count": 39,
      "metadata": {
        "collapsed": true,
        "jupyter": {
          "source_hidden": false,
          "outputs_hidden": false
        },
        "nteract": {
          "transient": {
            "deleting": false
          }
        },
        "gather": {
          "logged": 1610588749390
        }
      }
    },
    {
      "cell_type": "code",
      "source": [
        "service.update(enable_app_insights=True)"
      ],
      "outputs": [],
      "execution_count": 41,
      "metadata": {
        "collapsed": true,
        "jupyter": {
          "source_hidden": false,
          "outputs_hidden": false
        },
        "nteract": {
          "transient": {
            "deleting": false
          }
        },
        "gather": {
          "logged": 1610834118506
        }
      }
    },
    {
      "cell_type": "markdown",
      "source": [
        "## Test the Deploy model"
      ],
      "metadata": {
        "nteract": {
          "transient": {
            "deleting": false
          }
        }
      }
    },
    {
      "cell_type": "code",
      "source": [
        "scoring_uri = service.scoring_uri\r\n",
        "\r\n",
        "print(f'\\nservice state: {service.state}\\n')\r\n",
        "print(f'scoring URI: \\n{service.scoring_uri}\\n')\r\n",
        "print(f'swagger URI: \\n{service.swagger_uri}\\n')\r\n",
        "\r\n",
        "print(service.scoring_uri)\r\n",
        "print(service.swagger_uri)"
      ],
      "outputs": [],
      "execution_count": null,
      "metadata": {
        "collapsed": true,
        "jupyter": {
          "source_hidden": false,
          "outputs_hidden": false
        },
        "nteract": {
          "transient": {
            "deleting": false
          }
        },
        "gather": {
          "logged": 1610590806178
        }
      }
    },
    {
      "cell_type": "code",
      "source": [
        "import requests\r\n",
        "import json\r\n",
        "\r\n",
        "# scoring endpoint\r\n",
        "scoring_uri = service.scoring_uri\r\n",
        "\r\n",
        "\r\n",
        "# If the service is authenticated, set the key or token\r\n",
        "#key = '<your key or token>'\r\n",
        "\r\n",
        "# Two sets of data to score, so we get two results back\r\n",
        "data = {\"data\":\r\n",
        "        [\r\n",
        "          {\r\n",
        "           \"Cod_Escola\": 4,\r\n",
        "           \"TAprov2019_Total\": 99.9, \r\n",
        "           \"TAprov2019_1_serie\": 99.2, \r\n",
        "           \"TAprov2019_2_serie\": 59.1, \r\n",
        "           \"TAprov2019_3_serie\": 60.5, \r\n",
        "           \"TAprov2019_4_serie\": 70.5, \r\n",
        "           \"Indicador_Rendimento\": 0.99, \r\n",
        "           \"SAEB2019_Matematica\": 365.38, \r\n",
        "           \"SAEB2019_Lingua Portuguesa\": 351.54, \r\n",
        "           \"SAEB2019_Nota Media Padronizada\": 7.055853, \r\n",
        "           \"IDEB_2019\": 7.1\r\n",
        "          },\r\n",
        "      ]\r\n",
        "    }\r\n",
        "# Convert to JSON string\r\n",
        "input_data = json.dumps(data)\r\n",
        "\r\n",
        "# Set the content type\r\n",
        "headers = {'Content-Type': 'application/json'}\r\n",
        "# If authentication is enabled, set the authorization header\r\n",
        "#headers['Authorization'] = f'Bearer {key}'\r\n",
        "\r\n",
        "# Make the request and display the response\r\n",
        "resp = requests.post(scoring_uri, input_data, headers=headers)\r\n",
        "print(resp.text)"
      ],
      "outputs": [
        {
          "output_type": "error",
          "ename": "MissingSchema",
          "evalue": "Invalid URL 'None': No schema supplied. Perhaps you meant http://None?",
          "traceback": [
            "\u001b[0;31m---------------------------------------------------------------------------\u001b[0m",
            "\u001b[0;31mMissingSchema\u001b[0m                             Traceback (most recent call last)",
            "\u001b[0;32m<ipython-input-40-5e828c24c05f>\u001b[0m in \u001b[0;36m<module>\u001b[0;34m\u001b[0m\n\u001b[1;32m     36\u001b[0m \u001b[0;34m\u001b[0m\u001b[0m\n\u001b[1;32m     37\u001b[0m \u001b[0;31m# Make the request and display the response\u001b[0m\u001b[0;34m\u001b[0m\u001b[0;34m\u001b[0m\u001b[0;34m\u001b[0m\u001b[0m\n\u001b[0;32m---> 38\u001b[0;31m \u001b[0mresp\u001b[0m \u001b[0;34m=\u001b[0m \u001b[0mrequests\u001b[0m\u001b[0;34m.\u001b[0m\u001b[0mpost\u001b[0m\u001b[0;34m(\u001b[0m\u001b[0mscoring_uri\u001b[0m\u001b[0;34m,\u001b[0m \u001b[0minput_data\u001b[0m\u001b[0;34m,\u001b[0m \u001b[0mheaders\u001b[0m\u001b[0;34m=\u001b[0m\u001b[0mheaders\u001b[0m\u001b[0;34m)\u001b[0m\u001b[0;34m\u001b[0m\u001b[0;34m\u001b[0m\u001b[0m\n\u001b[0m\u001b[1;32m     39\u001b[0m \u001b[0mprint\u001b[0m\u001b[0;34m(\u001b[0m\u001b[0mresp\u001b[0m\u001b[0;34m.\u001b[0m\u001b[0mtext\u001b[0m\u001b[0;34m)\u001b[0m\u001b[0;34m\u001b[0m\u001b[0;34m\u001b[0m\u001b[0m\n",
            "\u001b[0;32m/anaconda/envs/azureml_py36/lib/python3.6/site-packages/requests/api.py\u001b[0m in \u001b[0;36mpost\u001b[0;34m(url, data, json, **kwargs)\u001b[0m\n\u001b[1;32m    117\u001b[0m     \"\"\"\n\u001b[1;32m    118\u001b[0m \u001b[0;34m\u001b[0m\u001b[0m\n\u001b[0;32m--> 119\u001b[0;31m     \u001b[0;32mreturn\u001b[0m \u001b[0mrequest\u001b[0m\u001b[0;34m(\u001b[0m\u001b[0;34m'post'\u001b[0m\u001b[0;34m,\u001b[0m \u001b[0murl\u001b[0m\u001b[0;34m,\u001b[0m \u001b[0mdata\u001b[0m\u001b[0;34m=\u001b[0m\u001b[0mdata\u001b[0m\u001b[0;34m,\u001b[0m \u001b[0mjson\u001b[0m\u001b[0;34m=\u001b[0m\u001b[0mjson\u001b[0m\u001b[0;34m,\u001b[0m \u001b[0;34m**\u001b[0m\u001b[0mkwargs\u001b[0m\u001b[0;34m)\u001b[0m\u001b[0;34m\u001b[0m\u001b[0;34m\u001b[0m\u001b[0m\n\u001b[0m\u001b[1;32m    120\u001b[0m \u001b[0;34m\u001b[0m\u001b[0m\n\u001b[1;32m    121\u001b[0m \u001b[0;34m\u001b[0m\u001b[0m\n",
            "\u001b[0;32m/anaconda/envs/azureml_py36/lib/python3.6/site-packages/requests/api.py\u001b[0m in \u001b[0;36mrequest\u001b[0;34m(method, url, **kwargs)\u001b[0m\n\u001b[1;32m     59\u001b[0m     \u001b[0;31m# cases, and look like a memory leak in others.\u001b[0m\u001b[0;34m\u001b[0m\u001b[0;34m\u001b[0m\u001b[0;34m\u001b[0m\u001b[0m\n\u001b[1;32m     60\u001b[0m     \u001b[0;32mwith\u001b[0m \u001b[0msessions\u001b[0m\u001b[0;34m.\u001b[0m\u001b[0mSession\u001b[0m\u001b[0;34m(\u001b[0m\u001b[0;34m)\u001b[0m \u001b[0;32mas\u001b[0m \u001b[0msession\u001b[0m\u001b[0;34m:\u001b[0m\u001b[0;34m\u001b[0m\u001b[0;34m\u001b[0m\u001b[0m\n\u001b[0;32m---> 61\u001b[0;31m         \u001b[0;32mreturn\u001b[0m \u001b[0msession\u001b[0m\u001b[0;34m.\u001b[0m\u001b[0mrequest\u001b[0m\u001b[0;34m(\u001b[0m\u001b[0mmethod\u001b[0m\u001b[0;34m=\u001b[0m\u001b[0mmethod\u001b[0m\u001b[0;34m,\u001b[0m \u001b[0murl\u001b[0m\u001b[0;34m=\u001b[0m\u001b[0murl\u001b[0m\u001b[0;34m,\u001b[0m \u001b[0;34m**\u001b[0m\u001b[0mkwargs\u001b[0m\u001b[0;34m)\u001b[0m\u001b[0;34m\u001b[0m\u001b[0;34m\u001b[0m\u001b[0m\n\u001b[0m\u001b[1;32m     62\u001b[0m \u001b[0;34m\u001b[0m\u001b[0m\n\u001b[1;32m     63\u001b[0m \u001b[0;34m\u001b[0m\u001b[0m\n",
            "\u001b[0;32m/anaconda/envs/azureml_py36/lib/python3.6/site-packages/requests/sessions.py\u001b[0m in \u001b[0;36mrequest\u001b[0;34m(self, method, url, params, data, headers, cookies, files, auth, timeout, allow_redirects, proxies, hooks, stream, verify, cert, json)\u001b[0m\n\u001b[1;32m    526\u001b[0m             \u001b[0mhooks\u001b[0m\u001b[0;34m=\u001b[0m\u001b[0mhooks\u001b[0m\u001b[0;34m,\u001b[0m\u001b[0;34m\u001b[0m\u001b[0;34m\u001b[0m\u001b[0m\n\u001b[1;32m    527\u001b[0m         )\n\u001b[0;32m--> 528\u001b[0;31m         \u001b[0mprep\u001b[0m \u001b[0;34m=\u001b[0m \u001b[0mself\u001b[0m\u001b[0;34m.\u001b[0m\u001b[0mprepare_request\u001b[0m\u001b[0;34m(\u001b[0m\u001b[0mreq\u001b[0m\u001b[0;34m)\u001b[0m\u001b[0;34m\u001b[0m\u001b[0;34m\u001b[0m\u001b[0m\n\u001b[0m\u001b[1;32m    529\u001b[0m \u001b[0;34m\u001b[0m\u001b[0m\n\u001b[1;32m    530\u001b[0m         \u001b[0mproxies\u001b[0m \u001b[0;34m=\u001b[0m \u001b[0mproxies\u001b[0m \u001b[0;32mor\u001b[0m \u001b[0;34m{\u001b[0m\u001b[0;34m}\u001b[0m\u001b[0;34m\u001b[0m\u001b[0;34m\u001b[0m\u001b[0m\n",
            "\u001b[0;32m/anaconda/envs/azureml_py36/lib/python3.6/site-packages/requests/sessions.py\u001b[0m in \u001b[0;36mprepare_request\u001b[0;34m(self, request)\u001b[0m\n\u001b[1;32m    464\u001b[0m             \u001b[0mauth\u001b[0m\u001b[0;34m=\u001b[0m\u001b[0mmerge_setting\u001b[0m\u001b[0;34m(\u001b[0m\u001b[0mauth\u001b[0m\u001b[0;34m,\u001b[0m \u001b[0mself\u001b[0m\u001b[0;34m.\u001b[0m\u001b[0mauth\u001b[0m\u001b[0;34m)\u001b[0m\u001b[0;34m,\u001b[0m\u001b[0;34m\u001b[0m\u001b[0;34m\u001b[0m\u001b[0m\n\u001b[1;32m    465\u001b[0m             \u001b[0mcookies\u001b[0m\u001b[0;34m=\u001b[0m\u001b[0mmerged_cookies\u001b[0m\u001b[0;34m,\u001b[0m\u001b[0;34m\u001b[0m\u001b[0;34m\u001b[0m\u001b[0m\n\u001b[0;32m--> 466\u001b[0;31m             \u001b[0mhooks\u001b[0m\u001b[0;34m=\u001b[0m\u001b[0mmerge_hooks\u001b[0m\u001b[0;34m(\u001b[0m\u001b[0mrequest\u001b[0m\u001b[0;34m.\u001b[0m\u001b[0mhooks\u001b[0m\u001b[0;34m,\u001b[0m \u001b[0mself\u001b[0m\u001b[0;34m.\u001b[0m\u001b[0mhooks\u001b[0m\u001b[0;34m)\u001b[0m\u001b[0;34m,\u001b[0m\u001b[0;34m\u001b[0m\u001b[0;34m\u001b[0m\u001b[0m\n\u001b[0m\u001b[1;32m    467\u001b[0m         )\n\u001b[1;32m    468\u001b[0m         \u001b[0;32mreturn\u001b[0m \u001b[0mp\u001b[0m\u001b[0;34m\u001b[0m\u001b[0;34m\u001b[0m\u001b[0m\n",
            "\u001b[0;32m/anaconda/envs/azureml_py36/lib/python3.6/site-packages/requests/models.py\u001b[0m in \u001b[0;36mprepare\u001b[0;34m(self, method, url, headers, files, data, params, auth, cookies, hooks, json)\u001b[0m\n\u001b[1;32m    314\u001b[0m \u001b[0;34m\u001b[0m\u001b[0m\n\u001b[1;32m    315\u001b[0m         \u001b[0mself\u001b[0m\u001b[0;34m.\u001b[0m\u001b[0mprepare_method\u001b[0m\u001b[0;34m(\u001b[0m\u001b[0mmethod\u001b[0m\u001b[0;34m)\u001b[0m\u001b[0;34m\u001b[0m\u001b[0;34m\u001b[0m\u001b[0m\n\u001b[0;32m--> 316\u001b[0;31m         \u001b[0mself\u001b[0m\u001b[0;34m.\u001b[0m\u001b[0mprepare_url\u001b[0m\u001b[0;34m(\u001b[0m\u001b[0murl\u001b[0m\u001b[0;34m,\u001b[0m \u001b[0mparams\u001b[0m\u001b[0;34m)\u001b[0m\u001b[0;34m\u001b[0m\u001b[0;34m\u001b[0m\u001b[0m\n\u001b[0m\u001b[1;32m    317\u001b[0m         \u001b[0mself\u001b[0m\u001b[0;34m.\u001b[0m\u001b[0mprepare_headers\u001b[0m\u001b[0;34m(\u001b[0m\u001b[0mheaders\u001b[0m\u001b[0;34m)\u001b[0m\u001b[0;34m\u001b[0m\u001b[0;34m\u001b[0m\u001b[0m\n\u001b[1;32m    318\u001b[0m         \u001b[0mself\u001b[0m\u001b[0;34m.\u001b[0m\u001b[0mprepare_cookies\u001b[0m\u001b[0;34m(\u001b[0m\u001b[0mcookies\u001b[0m\u001b[0;34m)\u001b[0m\u001b[0;34m\u001b[0m\u001b[0;34m\u001b[0m\u001b[0m\n",
            "\u001b[0;32m/anaconda/envs/azureml_py36/lib/python3.6/site-packages/requests/models.py\u001b[0m in \u001b[0;36mprepare_url\u001b[0;34m(self, url, params)\u001b[0m\n\u001b[1;32m    388\u001b[0m             \u001b[0merror\u001b[0m \u001b[0;34m=\u001b[0m \u001b[0merror\u001b[0m\u001b[0;34m.\u001b[0m\u001b[0mformat\u001b[0m\u001b[0;34m(\u001b[0m\u001b[0mto_native_string\u001b[0m\u001b[0;34m(\u001b[0m\u001b[0murl\u001b[0m\u001b[0;34m,\u001b[0m \u001b[0;34m'utf8'\u001b[0m\u001b[0;34m)\u001b[0m\u001b[0;34m)\u001b[0m\u001b[0;34m\u001b[0m\u001b[0;34m\u001b[0m\u001b[0m\n\u001b[1;32m    389\u001b[0m \u001b[0;34m\u001b[0m\u001b[0m\n\u001b[0;32m--> 390\u001b[0;31m             \u001b[0;32mraise\u001b[0m \u001b[0mMissingSchema\u001b[0m\u001b[0;34m(\u001b[0m\u001b[0merror\u001b[0m\u001b[0;34m)\u001b[0m\u001b[0;34m\u001b[0m\u001b[0;34m\u001b[0m\u001b[0m\n\u001b[0m\u001b[1;32m    391\u001b[0m \u001b[0;34m\u001b[0m\u001b[0m\n\u001b[1;32m    392\u001b[0m         \u001b[0;32mif\u001b[0m \u001b[0;32mnot\u001b[0m \u001b[0mhost\u001b[0m\u001b[0;34m:\u001b[0m\u001b[0;34m\u001b[0m\u001b[0;34m\u001b[0m\u001b[0m\n",
            "\u001b[0;31mMissingSchema\u001b[0m: Invalid URL 'None': No schema supplied. Perhaps you meant http://None?"
          ]
        }
      ],
      "execution_count": 40,
      "metadata": {
        "collapsed": true,
        "jupyter": {
          "source_hidden": false,
          "outputs_hidden": false
        },
        "nteract": {
          "transient": {
            "deleting": false
          }
        },
        "gather": {
          "logged": 1610590887950
        }
      }
    },
    {
      "cell_type": "markdown",
      "source": [
        "## View the service logs"
      ],
      "metadata": {
        "nteract": {
          "transient": {
            "deleting": false
          }
        }
      }
    },
    {
      "cell_type": "code",
      "source": [
        "print(service.get_logs())"
      ],
      "outputs": [],
      "execution_count": null,
      "metadata": {
        "collapsed": true,
        "jupyter": {
          "source_hidden": false,
          "outputs_hidden": false
        },
        "nteract": {
          "transient": {
            "deleting": false
          }
        },
        "gather": {
          "logged": 1610762120178
        }
      }
    },
    {
      "cell_type": "code",
      "source": [
        "service.delete()"
      ],
      "outputs": [],
      "execution_count": null,
      "metadata": {
        "collapsed": true,
        "jupyter": {
          "source_hidden": false,
          "outputs_hidden": false
        },
        "nteract": {
          "transient": {
            "deleting": false
          }
        }
      }
    }
  ],
  "metadata": {
    "kernelspec": {
      "name": "python3-azureml",
      "language": "python",
      "display_name": "Python 3.6 - AzureML"
    },
    "language_info": {
      "name": "python",
      "version": "3.6.9",
      "mimetype": "text/x-python",
      "codemirror_mode": {
        "name": "ipython",
        "version": 3
      },
      "pygments_lexer": "ipython3",
      "nbconvert_exporter": "python",
      "file_extension": ".py"
    },
    "kernel_info": {
      "name": "python3-azureml"
    },
    "nteract": {
      "version": "nteract-front-end@1.0.0"
    }
  },
  "nbformat": 4,
  "nbformat_minor": 2
}
