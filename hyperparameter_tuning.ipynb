{
  "cells": [
    {
      "cell_type": "markdown",
      "source": [
        "# Hyperparameter Tuning using HyperDrive\n",
        "\n",
        "TODO: Import Dependencies. In the cell below, import all the dependencies that you will need to complete the project."
      ],
      "metadata": {}
    },
    {
      "cell_type": "code",
      "source": [
        "\r\n",
        "# import dependencies\r\n",
        "from azureml.core.compute import ComputeTarget, AmlCompute\r\n",
        "from azureml.core.compute_target import ComputeTargetException\r\n",
        "from azureml.core import Workspace, Experiment, Dataset\r\n",
        "from azureml.widgets import RunDetails\r\n",
        "from azureml.train.sklearn import SKLearn\r\n",
        "from azureml.data.dataset_factory import TabularDatasetFactory\r\n",
        "#from azureml.train.hyperdrive import uniform, choice\r\n",
        "from azureml.core import ScriptRunConfig\r\n",
        "from azureml.core import Environment\r\n",
        "from azureml.train.hyperdrive.run import PrimaryMetricGoal\r\n",
        "from azureml.train.hyperdrive.policy import BanditPolicy\r\n",
        "from azureml.train.hyperdrive.sampling import RandomParameterSampling\r\n",
        "from azureml.train.hyperdrive.runconfig import HyperDriveConfig\r\n",
        "from azureml.train.hyperdrive.parameter_expressions import uniform, choice\r\n",
        "import os\r\n",
        "import shutil\r\n"
      ],
      "outputs": [],
      "execution_count": 3,
      "metadata": {
        "gather": {
          "logged": 1610389713464
        }
      }
    },
    {
      "cell_type": "markdown",
      "source": [
        "## Initialize Workspace and Create an Azure ML experiment"
      ],
      "metadata": {
        "nteract": {
          "transient": {
            "deleting": false
          }
        }
      }
    },
    {
      "cell_type": "code",
      "source": [
        "ws = Workspace.from_config()\r\n",
        "print(ws.name, ws.resource_group, ws.location, ws.subscription_id, sep = '\\n')"
      ],
      "outputs": [
        {
          "output_type": "stream",
          "name": "stdout",
          "text": [
            "AZML\n",
            "RG-AZML\n",
            "eastus\n",
            "a748a023-896b-4719-8f8e-3d1ba62d6e35\n"
          ]
        }
      ],
      "execution_count": 4,
      "metadata": {
        "collapsed": true,
        "jupyter": {
          "source_hidden": false,
          "outputs_hidden": false
        },
        "nteract": {
          "transient": {
            "deleting": false
          }
        },
        "gather": {
          "logged": 1610389716496
        }
      }
    },
    {
      "cell_type": "code",
      "source": [
        "experiment_name = 'ideb_regression'\n",
        "\n",
        "experiment=Experiment(ws, experiment_name)"
      ],
      "outputs": [],
      "execution_count": 5,
      "metadata": {
        "gather": {
          "logged": 1610389719059
        },
        "jupyter": {
          "outputs_hidden": false,
          "source_hidden": false
        },
        "nteract": {
          "transient": {
            "deleting": false
          }
        }
      }
    },
    {
      "cell_type": "markdown",
      "source": [
        "## Dataset\n",
        "\n",
        "TODO: Get data. In the cell below, write code to access the data you will be using in this project. Remember that the dataset needs to be external."
      ],
      "metadata": {}
    },
    {
      "cell_type": "code",
      "source": [
        "# azureml-core of version 1.0.72 or higher is required\r\n",
        "# azureml-dataprep[pandas] of version 1.1.34 or higher is required\r\n",
        "from azureml.core import Workspace, Dataset\r\n",
        "\r\n",
        "subscription_id = 'a748a023-896b-4719-8f8e-3d1ba62d6e35'\r\n",
        "resource_group = 'RG-AZML'\r\n",
        "workspace_name = 'AZML'\r\n",
        "\r\n",
        "workspace = Workspace(subscription_id, resource_group, workspace_name)\r\n",
        "\r\n",
        "dataset = Dataset.get_by_name(workspace, name='dataset_ideb2019')\r\n",
        "dataset.to_pandas_dataframe()"
      ],
      "outputs": [
        {
          "output_type": "execute_result",
          "execution_count": 21,
          "data": {
            "text/plain": "      Sigla_UF  Cod_Municipio       Nome_Municipio  Cod_Escola  \\\n0           BA        2914703            Itaberaba    29083524   \n1           AM        1300060              Amaturá    13103431   \n2           PA        1506708  Santana do Araguaia    15171582   \n3           PI        2211001             Teresina    22128441   \n4           PI        2211001             Teresina    22131159   \n...        ...            ...                  ...         ...   \n12074       ES        3205200           Vila Velha    32078498   \n12075       PE        2611606               Recife    26119730   \n12076       SP        3506003                Bauru    35922948   \n12077       PE        2611606               Recife    26124297   \n12078       MG        3105608            Barbacena    31014630   \n\n                                             Nome_Escola   Column6  \\\n0                        EE - COLEGIO ESTADUAL LIBERDADE  Estadual   \n1      ESC EST INDIGENA MANUEL JOAQUIM SALDANHA FILHO...  Estadual   \n2                    EEEM JORCELI SESTARI SILVA ANEXO IV  Estadual   \n3                  U E NOSSA SENHORA DO PERPETUO SOCORRO  Estadual   \n4                                        CETI PEDRA MOLE  Estadual   \n...                                                  ...       ...   \n12074                           IFES - CAMPUS VILA VELHA   Federal   \n12075                      ESCOLA DE APLICACAO DO RECIFE  Estadual   \n12076  COL TEC INDUSTRIAL PROF ISAAC PORTAL ROLDAN UNESP  Estadual   \n12077                 COLEGIO DE APLICACAO DO CE DA UFPE   Federal   \n12078               ESCOLA PREPARATORIA DE CADETES DO AR   Federal   \n\n       TAprov2019_Total TAprov2019_1_serie TAprov2019_2_serie  \\\n0                  43.3               33.7               37.3   \n1                  67.3               59.1               53.5   \n2                  57.1               52.4               50.0   \n3                  53.8               25.0               58.3   \n4                  41.7               30.6               31.1   \n...                 ...                ...                ...   \n12074              95.4               94.8               97.7   \n12075              98.2              100.0               94.4   \n12076              98.8               97.1              100.0   \n12077              98.9               96.7              100.0   \n12078              99.8               99.4              100.0   \n\n       TAprov2019_3_serie TAprov2019_4_serie  Indicador_Rendimento  \\\n0                    69.8                  -                  0.42   \n1                    92.5                  -                  0.65   \n2                    72.2                  -                  0.57   \n3                    97.5                  -                  0.45   \n4                    78.7                  -                  0.39   \n...                   ...                ...                   ...   \n12074                94.1                  -                  0.96   \n12075               100.0                  -                  0.98   \n12076                99.2                  -                  0.99   \n12077               100.0                  -                  0.99   \n12078               100.0                  -                  1.00   \n\n       SAEB2019_Matematica  SAEB2019_Lingua Portuguesa  \\\n0                   217.25                      226.70   \n1                   195.40                      188.21   \n2                   202.24                      211.64   \n3                   239.39                      237.57   \n4                   259.57                      260.92   \n...                    ...                         ...   \n12074               394.30                      363.46   \n12075               396.83                      360.43   \n12076               393.83                      356.23   \n12077               402.96                      362.42   \n12078               407.47                      353.17   \n\n       SAEB2019_Nota Media Padronizada  IDEB_2019  \n0                                 3.13        1.3  \n1                                 2.25        1.5  \n2                                 2.70        1.5  \n3                                 3.61        1.6  \n4                                 4.24        1.6  \n...                                ...        ...  \n12074                             7.67        7.3  \n12075                             7.66        7.5  \n12076                             7.55        7.5  \n12077                             7.77        7.7  \n12078                             7.70        7.7  \n\n[12079 rows x 16 columns]",
            "text/html": "<div>\n<style scoped>\n    .dataframe tbody tr th:only-of-type {\n        vertical-align: middle;\n    }\n\n    .dataframe tbody tr th {\n        vertical-align: top;\n    }\n\n    .dataframe thead th {\n        text-align: right;\n    }\n</style>\n<table border=\"1\" class=\"dataframe\">\n  <thead>\n    <tr style=\"text-align: right;\">\n      <th></th>\n      <th>Sigla_UF</th>\n      <th>Cod_Municipio</th>\n      <th>Nome_Municipio</th>\n      <th>Cod_Escola</th>\n      <th>Nome_Escola</th>\n      <th>Column6</th>\n      <th>TAprov2019_Total</th>\n      <th>TAprov2019_1_serie</th>\n      <th>TAprov2019_2_serie</th>\n      <th>TAprov2019_3_serie</th>\n      <th>TAprov2019_4_serie</th>\n      <th>Indicador_Rendimento</th>\n      <th>SAEB2019_Matematica</th>\n      <th>SAEB2019_Lingua Portuguesa</th>\n      <th>SAEB2019_Nota Media Padronizada</th>\n      <th>IDEB_2019</th>\n    </tr>\n  </thead>\n  <tbody>\n    <tr>\n      <th>0</th>\n      <td>BA</td>\n      <td>2914703</td>\n      <td>Itaberaba</td>\n      <td>29083524</td>\n      <td>EE - COLEGIO ESTADUAL LIBERDADE</td>\n      <td>Estadual</td>\n      <td>43.3</td>\n      <td>33.7</td>\n      <td>37.3</td>\n      <td>69.8</td>\n      <td>-</td>\n      <td>0.42</td>\n      <td>217.25</td>\n      <td>226.70</td>\n      <td>3.13</td>\n      <td>1.3</td>\n    </tr>\n    <tr>\n      <th>1</th>\n      <td>AM</td>\n      <td>1300060</td>\n      <td>Amaturá</td>\n      <td>13103431</td>\n      <td>ESC EST INDIGENA MANUEL JOAQUIM SALDANHA FILHO...</td>\n      <td>Estadual</td>\n      <td>67.3</td>\n      <td>59.1</td>\n      <td>53.5</td>\n      <td>92.5</td>\n      <td>-</td>\n      <td>0.65</td>\n      <td>195.40</td>\n      <td>188.21</td>\n      <td>2.25</td>\n      <td>1.5</td>\n    </tr>\n    <tr>\n      <th>2</th>\n      <td>PA</td>\n      <td>1506708</td>\n      <td>Santana do Araguaia</td>\n      <td>15171582</td>\n      <td>EEEM JORCELI SESTARI SILVA ANEXO IV</td>\n      <td>Estadual</td>\n      <td>57.1</td>\n      <td>52.4</td>\n      <td>50.0</td>\n      <td>72.2</td>\n      <td>-</td>\n      <td>0.57</td>\n      <td>202.24</td>\n      <td>211.64</td>\n      <td>2.70</td>\n      <td>1.5</td>\n    </tr>\n    <tr>\n      <th>3</th>\n      <td>PI</td>\n      <td>2211001</td>\n      <td>Teresina</td>\n      <td>22128441</td>\n      <td>U E NOSSA SENHORA DO PERPETUO SOCORRO</td>\n      <td>Estadual</td>\n      <td>53.8</td>\n      <td>25.0</td>\n      <td>58.3</td>\n      <td>97.5</td>\n      <td>-</td>\n      <td>0.45</td>\n      <td>239.39</td>\n      <td>237.57</td>\n      <td>3.61</td>\n      <td>1.6</td>\n    </tr>\n    <tr>\n      <th>4</th>\n      <td>PI</td>\n      <td>2211001</td>\n      <td>Teresina</td>\n      <td>22131159</td>\n      <td>CETI PEDRA MOLE</td>\n      <td>Estadual</td>\n      <td>41.7</td>\n      <td>30.6</td>\n      <td>31.1</td>\n      <td>78.7</td>\n      <td>-</td>\n      <td>0.39</td>\n      <td>259.57</td>\n      <td>260.92</td>\n      <td>4.24</td>\n      <td>1.6</td>\n    </tr>\n    <tr>\n      <th>...</th>\n      <td>...</td>\n      <td>...</td>\n      <td>...</td>\n      <td>...</td>\n      <td>...</td>\n      <td>...</td>\n      <td>...</td>\n      <td>...</td>\n      <td>...</td>\n      <td>...</td>\n      <td>...</td>\n      <td>...</td>\n      <td>...</td>\n      <td>...</td>\n      <td>...</td>\n      <td>...</td>\n    </tr>\n    <tr>\n      <th>12074</th>\n      <td>ES</td>\n      <td>3205200</td>\n      <td>Vila Velha</td>\n      <td>32078498</td>\n      <td>IFES - CAMPUS VILA VELHA</td>\n      <td>Federal</td>\n      <td>95.4</td>\n      <td>94.8</td>\n      <td>97.7</td>\n      <td>94.1</td>\n      <td>-</td>\n      <td>0.96</td>\n      <td>394.30</td>\n      <td>363.46</td>\n      <td>7.67</td>\n      <td>7.3</td>\n    </tr>\n    <tr>\n      <th>12075</th>\n      <td>PE</td>\n      <td>2611606</td>\n      <td>Recife</td>\n      <td>26119730</td>\n      <td>ESCOLA DE APLICACAO DO RECIFE</td>\n      <td>Estadual</td>\n      <td>98.2</td>\n      <td>100.0</td>\n      <td>94.4</td>\n      <td>100.0</td>\n      <td>-</td>\n      <td>0.98</td>\n      <td>396.83</td>\n      <td>360.43</td>\n      <td>7.66</td>\n      <td>7.5</td>\n    </tr>\n    <tr>\n      <th>12076</th>\n      <td>SP</td>\n      <td>3506003</td>\n      <td>Bauru</td>\n      <td>35922948</td>\n      <td>COL TEC INDUSTRIAL PROF ISAAC PORTAL ROLDAN UNESP</td>\n      <td>Estadual</td>\n      <td>98.8</td>\n      <td>97.1</td>\n      <td>100.0</td>\n      <td>99.2</td>\n      <td>-</td>\n      <td>0.99</td>\n      <td>393.83</td>\n      <td>356.23</td>\n      <td>7.55</td>\n      <td>7.5</td>\n    </tr>\n    <tr>\n      <th>12077</th>\n      <td>PE</td>\n      <td>2611606</td>\n      <td>Recife</td>\n      <td>26124297</td>\n      <td>COLEGIO DE APLICACAO DO CE DA UFPE</td>\n      <td>Federal</td>\n      <td>98.9</td>\n      <td>96.7</td>\n      <td>100.0</td>\n      <td>100.0</td>\n      <td>-</td>\n      <td>0.99</td>\n      <td>402.96</td>\n      <td>362.42</td>\n      <td>7.77</td>\n      <td>7.7</td>\n    </tr>\n    <tr>\n      <th>12078</th>\n      <td>MG</td>\n      <td>3105608</td>\n      <td>Barbacena</td>\n      <td>31014630</td>\n      <td>ESCOLA PREPARATORIA DE CADETES DO AR</td>\n      <td>Federal</td>\n      <td>99.8</td>\n      <td>99.4</td>\n      <td>100.0</td>\n      <td>100.0</td>\n      <td>-</td>\n      <td>1.00</td>\n      <td>407.47</td>\n      <td>353.17</td>\n      <td>7.70</td>\n      <td>7.7</td>\n    </tr>\n  </tbody>\n</table>\n<p>12079 rows × 16 columns</p>\n</div>"
          },
          "metadata": {}
        }
      ],
      "execution_count": 21,
      "metadata": {
        "collapsed": true,
        "jupyter": {
          "source_hidden": false,
          "outputs_hidden": false
        },
        "nteract": {
          "transient": {
            "deleting": false
          }
        },
        "gather": {
          "logged": 1610392723041
        }
      }
    },
    {
      "cell_type": "code",
      "source": [
        "dataset = dataset.register(workspace = ws,\r\n",
        "                           name = 'dataset_ideb2019',\r\n",
        "                           description='training and test dataset',\r\n",
        "                           create_new_version=True)\r\n",
        "dataset"
      ],
      "outputs": [
        {
          "output_type": "execute_result",
          "execution_count": 22,
          "data": {
            "text/plain": "{\n  \"source\": [\n    \"('workspaceblobstore', 'UI/01-11-2021_071425_UTC/DATASET_IDEB_ensino_medio_escolas_2019.txt')\"\n  ],\n  \"definition\": [\n    \"GetDatastoreFiles\",\n    \"ParseDelimited\",\n    \"DropColumns\",\n    \"SetColumnTypes\"\n  ],\n  \"registration\": {\n    \"id\": \"0d33519d-9ba1-4a92-a3d1-b36ee1213258\",\n    \"name\": \"dataset_ideb2019\",\n    \"version\": 2,\n    \"description\": \"training and test dataset\",\n    \"workspace\": \"Workspace.create(name='AZML', subscription_id='a748a023-896b-4719-8f8e-3d1ba62d6e35', resource_group='RG-AZML')\"\n  }\n}"
          },
          "metadata": {}
        }
      ],
      "execution_count": 22,
      "metadata": {
        "collapsed": true,
        "jupyter": {
          "source_hidden": false,
          "outputs_hidden": false
        },
        "nteract": {
          "transient": {
            "deleting": false
          }
        },
        "gather": {
          "logged": 1610392747571
        }
      }
    },
    {
      "cell_type": "markdown",
      "source": [
        "## Creating Compute"
      ],
      "metadata": {
        "nteract": {
          "transient": {
            "deleting": false
          }
        }
      }
    },
    {
      "cell_type": "code",
      "source": [
        "from azureml.core.compute import ComputeTarget, AmlCompute\r\n",
        "from azureml.core.compute_target import ComputeTargetException\r\n",
        "\r\n",
        "# Choose a name for your CPU cluster\r\n",
        "cpu_cluster_name = \"automl-cluster\"\r\n",
        "\r\n",
        "# Verify that cluster does not exist already\r\n",
        "try:\r\n",
        "    compute_target = ComputeTarget(workspace=ws, name=cpu_cluster_name)\r\n",
        "    print('Found existing cluster, use it.')\r\n",
        "except ComputeTargetException:\r\n",
        "    compute_config = AmlCompute.provisioning_configuration(vm_size='STANDARD_D2_V2',\r\n",
        "                                                           max_nodes=4)\r\n",
        "    compute_target = ComputeTarget.create(ws, cpu_cluster_name, compute_config)\r\n",
        "\r\n",
        "compute_target.wait_for_completion(show_output=True)"
      ],
      "outputs": [
        {
          "output_type": "stream",
          "name": "stdout",
          "text": [
            "Found existing cluster, use it.\n",
            "Succeeded\n",
            "AmlCompute wait for completion finished\n",
            "\n",
            "Minimum number of nodes requested have been provisioned\n"
          ]
        }
      ],
      "execution_count": 24,
      "metadata": {
        "collapsed": true,
        "jupyter": {
          "source_hidden": false,
          "outputs_hidden": false
        },
        "nteract": {
          "transient": {
            "deleting": false
          }
        },
        "gather": {
          "logged": 1610392788628
        }
      }
    },
    {
      "cell_type": "markdown",
      "source": [
        "## Hyperdrive Configuration\n",
        "\n",
        "TODO: Explain the model you are using and the reason for chosing the different hyperparameters, termination policy and config settings."
      ],
      "metadata": {
        "collapsed": true,
        "gather": {
          "logged": 1598531923519
        },
        "jupyter": {
          "outputs_hidden": false,
          "source_hidden": false
        },
        "nteract": {
          "transient": {
            "deleting": false
          }
        }
      }
    },
    {
      "cell_type": "code",
      "source": [
        "\n",
        "# TODO: Create an early termination policy. This is not required if you are using Bayesian sampling.\n",
        "early_termination_policy = BanditPolicy(\n",
        "                        evaluation_interval=3,\n",
        "                        slack_factor=0.1\n",
        "\n",
        "#TODO: Create the different params that you will be using during training\n",
        "param_sampling = RandomParameterSampling( \n",
        "    {\n",
        "    '--C': uniform(0.1, 0.9),\n",
        "    '--max_iter': choice(10, 50, 100)\n",
        "    }\n",
        ")\n",
        "\n",
        "\n",
        "#TODO: Create your estimator and hyperdrive config\n",
        "estimator = SKLearn(\n",
        "                source_directory=\"./\",\n",
        "                entry_script=\"train.py\",\n",
        "                compute_target=aml_compute,\n",
        "\n",
        "hyperdrive_run_config = HyperDriveConfig(\n",
        "                    primary_metric_name='r2_score',\n",
        "                    primary_metric_goal=PrimaryMetricGoal.MAXIMIZE,\n",
        "                    max_total_runs=20,\n",
        "                    max_concurrent_runs=4,\n",
        "                    hyperparameter_sampling=param_sampling,\n",
        "                    policy=early_termination_policy,\n",
        "                    estimator=estimator"
      ],
      "outputs": [
        {
          "output_type": "error",
          "ename": "SyntaxError",
          "evalue": "invalid syntax (<ipython-input-29-f52b10f7150f>, line 7)",
          "traceback": [
            "\u001b[0;36m  File \u001b[0;32m\"<ipython-input-29-f52b10f7150f>\"\u001b[0;36m, line \u001b[0;32m7\u001b[0m\n\u001b[0;31m    param_sampling = RandomParameterSampling(\u001b[0m\n\u001b[0m                 ^\u001b[0m\n\u001b[0;31mSyntaxError\u001b[0m\u001b[0;31m:\u001b[0m invalid syntax\n"
          ]
        }
      ],
      "execution_count": 29,
      "metadata": {
        "gather": {
          "logged": 1598544893076
        },
        "jupyter": {
          "outputs_hidden": false,
          "source_hidden": false
        },
        "nteract": {
          "transient": {
            "deleting": false
          }
        }
      }
    },
    {
      "cell_type": "markdown",
      "source": [
        "## Submit your experiment"
      ],
      "metadata": {
        "nteract": {
          "transient": {
            "deleting": false
          }
        }
      }
    },
    {
      "cell_type": "code",
      "source": [
        "hyperdrive_run = experiment.submit(hyperdrive_config)"
      ],
      "outputs": [],
      "execution_count": null,
      "metadata": {
        "collapsed": true,
        "jupyter": {
          "source_hidden": false,
          "outputs_hidden": false
        },
        "nteract": {
          "transient": {
            "deleting": false
          }
        }
      }
    },
    {
      "cell_type": "markdown",
      "source": [
        "## Run Details\n",
        "\n",
        "OPTIONAL: Write about the different models trained and their performance. Why do you think some models did better than others?\n",
        "\n",
        "TODO: In the cell below, use the `RunDetails` widget to show the different experiments."
      ],
      "metadata": {
        "collapsed": true,
        "gather": {
          "logged": 1598544898497
        },
        "jupyter": {
          "outputs_hidden": false,
          "source_hidden": false
        },
        "nteract": {
          "transient": {
            "deleting": false
          }
        }
      }
    },
    {
      "cell_type": "code",
      "source": [
        "RunDetails(hyperdrive_run).show()"
      ],
      "outputs": [],
      "execution_count": null,
      "metadata": {
        "gather": {
          "logged": 1598546648408
        },
        "jupyter": {
          "outputs_hidden": false,
          "source_hidden": false
        },
        "nteract": {
          "transient": {
            "deleting": false
          }
        }
      }
    },
    {
      "cell_type": "code",
      "source": [
        "hyperdrive_run.wait_for_completion(show_output=True)"
      ],
      "outputs": [],
      "execution_count": null,
      "metadata": {
        "collapsed": true,
        "jupyter": {
          "source_hidden": false,
          "outputs_hidden": false
        },
        "nteract": {
          "transient": {
            "deleting": false
          }
        }
      }
    },
    {
      "cell_type": "code",
      "source": [
        "assert(hyperdrive_run.get_status() == \"Completed\")"
      ],
      "outputs": [],
      "execution_count": null,
      "metadata": {
        "collapsed": true,
        "jupyter": {
          "source_hidden": false,
          "outputs_hidden": false
        },
        "nteract": {
          "transient": {
            "deleting": false
          }
        }
      }
    },
    {
      "cell_type": "markdown",
      "source": [
        "## Best Model\n",
        "\n",
        "TODO: In the cell below, get the best model from the hyperdrive experiments and display all the properties of the model."
      ],
      "metadata": {}
    },
    {
      "cell_type": "code",
      "source": [
        "best_run = hyperdrive_run.get_best_run_by_primary_metric()\r\n",
        "best_run.get_metrics()"
      ],
      "outputs": [],
      "execution_count": null,
      "metadata": {
        "gather": {
          "logged": 1598546650307
        },
        "jupyter": {
          "outputs_hidden": false,
          "source_hidden": false
        },
        "nteract": {
          "transient": {
            "deleting": false
          }
        }
      }
    },
    {
      "cell_type": "code",
      "source": [
        "print(best_run.get_details()['runDefinition']['arguments'])"
      ],
      "outputs": [],
      "execution_count": null,
      "metadata": {
        "collapsed": true,
        "jupyter": {
          "source_hidden": false,
          "outputs_hidden": false
        },
        "nteract": {
          "transient": {
            "deleting": false
          }
        }
      }
    },
    {
      "cell_type": "code",
      "source": [
        "print(best_run.get_file_names())"
      ],
      "outputs": [],
      "execution_count": null,
      "metadata": {
        "collapsed": true,
        "jupyter": {
          "source_hidden": false,
          "outputs_hidden": false
        },
        "nteract": {
          "transient": {
            "deleting": false
          }
        }
      }
    },
    {
      "cell_type": "code",
      "source": [
        "#TODO: Save the best model\r\n",
        "model = best_run.register_model(model_name='ideb-hyper', model_path='outputs/model.joblib')\r\n",
        "print('Best model registered')\r\n",
        "\r\n",
        "\r\n",
        "model.download(target_dir=\"outputs\", exist_ok=True)\r\n",
        "print('model downloaded')"
      ],
      "outputs": [],
      "execution_count": null,
      "metadata": {
        "gather": {
          "logged": 1598546657829
        },
        "jupyter": {
          "outputs_hidden": false,
          "source_hidden": false
        },
        "nteract": {
          "transient": {
            "deleting": false
          }
        }
      }
    },
    {
      "cell_type": "markdown",
      "source": [
        "## Model Deployment\n",
        "\n",
        "Remember you have to deploy only one of the two models you trained.. Perform the steps in the rest of this notebook only if you wish to deploy this model.\n",
        "\n",
        "TODO: In the cell below, register the model, create an inference config and deploy the model as a web service."
      ],
      "metadata": {
        "collapsed": true,
        "jupyter": {
          "outputs_hidden": false,
          "source_hidden": false
        },
        "nteract": {
          "transient": {
            "deleting": false
          }
        }
      }
    },
    {
      "cell_type": "code",
      "source": [],
      "outputs": [],
      "execution_count": null,
      "metadata": {}
    },
    {
      "cell_type": "markdown",
      "source": [
        "TODO: In the cell below, send a request to the web service you deployed to test it."
      ],
      "metadata": {}
    },
    {
      "cell_type": "code",
      "source": [],
      "outputs": [],
      "execution_count": null,
      "metadata": {}
    },
    {
      "cell_type": "markdown",
      "source": [
        "TODO: In the cell below, print the logs of the web service and delete the service"
      ],
      "metadata": {}
    },
    {
      "cell_type": "code",
      "source": [],
      "outputs": [],
      "execution_count": null,
      "metadata": {}
    }
  ],
  "metadata": {
    "kernel_info": {
      "name": "python3"
    },
    "kernelspec": {
      "name": "python3",
      "language": "python",
      "display_name": "Python 3"
    },
    "language_info": {
      "name": "python",
      "version": "3.6.9",
      "mimetype": "text/x-python",
      "codemirror_mode": {
        "name": "ipython",
        "version": 3
      },
      "pygments_lexer": "ipython3",
      "nbconvert_exporter": "python",
      "file_extension": ".py"
    },
    "nteract": {
      "version": "nteract-front-end@1.0.0"
    }
  },
  "nbformat": 4,
  "nbformat_minor": 2
}
